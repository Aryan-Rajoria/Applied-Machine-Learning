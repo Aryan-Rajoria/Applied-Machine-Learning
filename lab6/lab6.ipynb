{
 "cells": [
  {
   "cell_type": "code",
   "metadata": {
    "tags": [],
    "cell_id": "00000-d1f5eda0-166c-456e-827f-87da89229c17",
    "deepnote_to_be_reexecuted": false,
    "source_hash": "472fc53",
    "execution_start": 1634293467807,
    "execution_millis": 553,
    "deepnote_cell_type": "code"
   },
   "source": "import numpy as np\nimport matplotlib.pyplot as plt\nimport pandas as pd",
   "execution_count": null,
   "outputs": []
  },
  {
   "cell_type": "markdown",
   "source": "## TODO\n1) load dataset\n2) Data pre-processing  \n    a) encode target 'high_income' {\"<=50k\" as 0 and \"50K\" as 1}    \n    b) other categorical features   \n    c) Impute the missing values present in categorical columns and num columns     \n    d) remove any undersirable feature from dataset \n    e) check outlier in the columns and treat outliers. \n3) train and test\n4) RandomForest Classifier hyperparameters\n5) Bagging classifier models using **base_estimator** such as logistic regressor, Naive Bayes and with different values for **n_estimators**\n6) compare performance using - *accuracy, precision, recall*",
   "metadata": {
    "tags": [],
    "cell_id": "00001-ea7c02e0-5aff-4f23-ae7a-979c6fc08339",
    "deepnote_cell_type": "markdown"
   }
  },
  {
   "cell_type": "markdown",
   "source": "To create classification models using RandomForest, Bagging Classifier and Logistic regressor for the census dataset which consists of 32651 observations and 15 columns, 14 of them being features and one the target variable (high_income).    Use this dataset to classify if the potential income of people into 2 categories: people who make less or equal to dol 50K a year and people who make more than dol 50K a year. ",
   "metadata": {
    "tags": [],
    "cell_id": "00002-7fa46bb7-a9a5-4179-bd44-259f1eeb27c1",
    "deepnote_cell_type": "markdown"
   }
  },
  {
   "cell_type": "code",
   "metadata": {
    "tags": [],
    "cell_id": "00003-44096864-b01c-44f4-82bf-f8845fae64a3",
    "deepnote_to_be_reexecuted": false,
    "source_hash": "d29c52b",
    "execution_start": 1634293468657,
    "execution_millis": 122,
    "deepnote_cell_type": "code"
   },
   "source": "dataset = pd.read_csv('./data.csv')",
   "execution_count": null,
   "outputs": []
  },
  {
   "cell_type": "code",
   "metadata": {
    "tags": [],
    "cell_id": "00004-986d3e19-8210-4c4a-8b7b-79ee62b9a139",
    "deepnote_to_be_reexecuted": false,
    "source_hash": "10724ecb",
    "execution_start": 1634293468961,
    "execution_millis": 213,
    "deepnote_cell_type": "code"
   },
   "source": "dataset",
   "execution_count": null,
   "outputs": [
    {
     "output_type": "execute_result",
     "execution_count": 3,
     "data": {
      "application/vnd.deepnote.dataframe.v2+json": {
       "row_count": 32561,
       "column_count": 15,
       "columns": [
        {
         "name": "age",
         "dtype": "int64",
         "stats": {
          "unique_count": 73,
          "nan_count": 0,
          "min": "17",
          "max": "90",
          "histogram": [
           {
            "bin_start": 17,
            "bin_end": 24.3,
            "count": 5570
           },
           {
            "bin_start": 24.3,
            "bin_end": 31.6,
            "count": 5890
           },
           {
            "bin_start": 31.6,
            "bin_end": 38.9,
            "count": 6048
           },
           {
            "bin_start": 38.9,
            "bin_end": 46.2,
            "count": 6163
           },
           {
            "bin_start": 46.2,
            "bin_end": 53.5,
            "count": 3967
           },
           {
            "bin_start": 53.5,
            "bin_end": 60.8,
            "count": 2591
           },
           {
            "bin_start": 60.8,
            "bin_end": 68.1,
            "count": 1595
           },
           {
            "bin_start": 68.1,
            "bin_end": 75.4,
            "count": 496
           },
           {
            "bin_start": 75.4,
            "bin_end": 82.7,
            "count": 174
           },
           {
            "bin_start": 82.7,
            "bin_end": 90,
            "count": 67
           }
          ]
         }
        },
        {
         "name": "workclass",
         "dtype": "object",
         "stats": {
          "unique_count": 9,
          "nan_count": 0,
          "categories": [
           {
            "name": "Private",
            "count": 22696
           },
           {
            "name": "Self-emp-not-inc",
            "count": 2541
           },
           {
            "name": "7 others",
            "count": 7324
           }
          ]
         }
        },
        {
         "name": "fnlwgt",
         "dtype": "int64",
         "stats": {
          "unique_count": 21648,
          "nan_count": 0,
          "min": "12285",
          "max": "1484705",
          "histogram": [
           {
            "bin_start": 12285,
            "bin_end": 159527,
            "count": 13117
           },
           {
            "bin_start": 159527,
            "bin_end": 306769,
            "count": 15327
           },
           {
            "bin_start": 306769,
            "bin_end": 454011,
            "count": 3498
           },
           {
            "bin_start": 454011,
            "bin_end": 601253,
            "count": 477
           },
           {
            "bin_start": 601253,
            "bin_end": 748495,
            "count": 102
           },
           {
            "bin_start": 748495,
            "bin_end": 895737,
            "count": 20
           },
           {
            "bin_start": 895737,
            "bin_end": 1042979,
            "count": 10
           },
           {
            "bin_start": 1042979,
            "bin_end": 1190221,
            "count": 5
           },
           {
            "bin_start": 1190221,
            "bin_end": 1337463,
            "count": 2
           },
           {
            "bin_start": 1337463,
            "bin_end": 1484705,
            "count": 3
           }
          ]
         }
        },
        {
         "name": "education",
         "dtype": "object"
        },
        {
         "name": "education_num",
         "dtype": "object"
        },
        {
         "name": "marital_status",
         "dtype": "object"
        },
        {
         "name": "occupation",
         "dtype": "object"
        },
        {
         "name": "relationship",
         "dtype": "object"
        },
        {
         "name": "race",
         "dtype": "object"
        },
        {
         "name": "gender",
         "dtype": "object"
        },
        {
         "name": "capital_gain",
         "dtype": "int64"
        },
        {
         "name": "capital_loss",
         "dtype": "int64"
        },
        {
         "name": "hours_per_week",
         "dtype": "int64"
        },
        {
         "name": "native_country",
         "dtype": "object"
        },
        {
         "name": "high_income",
         "dtype": "object"
        },
        {
         "name": "_deepnote_index_column",
         "dtype": "int64"
        }
       ],
       "rows_top": [
        {
         "age": 39,
         "workclass": "State-gov",
         "fnlwgt": 77516,
         "education": "Bachelors",
         "education_num": "13",
         "marital_status": "Never-married",
         "occupation": "Adm-clerical",
         "relationship": "Not-in-family",
         "race": "White",
         "gender": "Male",
         "capital_gain": 2174,
         "capital_loss": 0,
         "hours_per_week": 40,
         "native_country": "United-States",
         "high_income": "<=50K",
         "_deepnote_index_column": 0
        },
        {
         "age": 50,
         "workclass": "Self-emp-not-inc",
         "fnlwgt": 83311,
         "education": "Bachelors",
         "education_num": "13",
         "marital_status": "Married-civ-spouse",
         "occupation": "Exec-managerial",
         "relationship": "Husband",
         "race": "White",
         "gender": "Male",
         "capital_gain": 0,
         "capital_loss": 0,
         "hours_per_week": 13,
         "native_country": "United-States",
         "high_income": "<=50K",
         "_deepnote_index_column": 1
        },
        {
         "age": 38,
         "workclass": "Private",
         "fnlwgt": 215646,
         "education": "HS-grad",
         "education_num": "9",
         "marital_status": "Divorced",
         "occupation": "Handlers-cleaners",
         "relationship": "Not-in-family",
         "race": "White",
         "gender": "Male",
         "capital_gain": 0,
         "capital_loss": 0,
         "hours_per_week": 40,
         "native_country": "United-States",
         "high_income": "<=50K",
         "_deepnote_index_column": 2
        },
        {
         "age": 53,
         "workclass": "Private",
         "fnlwgt": 234721,
         "education": "11th",
         "education_num": "7",
         "marital_status": "Married-civ-spouse",
         "occupation": "Handlers-cleaners",
         "relationship": "Husband",
         "race": "Black",
         "gender": "?",
         "capital_gain": 0,
         "capital_loss": 0,
         "hours_per_week": 40,
         "native_country": "United-States",
         "high_income": "<=50K",
         "_deepnote_index_column": 3
        },
        {
         "age": 28,
         "workclass": "Private",
         "fnlwgt": 338409,
         "education": "Bachelors",
         "education_num": "?",
         "marital_status": "Married-civ-spouse",
         "occupation": "Prof-specialty",
         "relationship": "Wife",
         "race": "Black",
         "gender": "Female",
         "capital_gain": 0,
         "capital_loss": 0,
         "hours_per_week": 40,
         "native_country": "Cuba",
         "high_income": "<=50K",
         "_deepnote_index_column": 4
        },
        {
         "age": 37,
         "workclass": "Private",
         "fnlwgt": 284582,
         "education": "Masters",
         "education_num": "14",
         "marital_status": "Married-civ-spouse",
         "occupation": "Exec-managerial",
         "relationship": "Wife",
         "race": "?",
         "gender": "Female",
         "capital_gain": 0,
         "capital_loss": 0,
         "hours_per_week": 40,
         "native_country": "United-States",
         "high_income": "<=50K",
         "_deepnote_index_column": 5
        },
        {
         "age": 49,
         "workclass": "Private",
         "fnlwgt": 160187,
         "education": "9th",
         "education_num": "5",
         "marital_status": "Married-spouse-absent",
         "occupation": "Other-service",
         "relationship": "Not-in-family",
         "race": "Black",
         "gender": "Female",
         "capital_gain": 0,
         "capital_loss": 0,
         "hours_per_week": 16,
         "native_country": "Jamaica",
         "high_income": "<=50K",
         "_deepnote_index_column": 6
        },
        {
         "age": 52,
         "workclass": "Self-emp-not-inc",
         "fnlwgt": 209642,
         "education": "HS-grad",
         "education_num": "9",
         "marital_status": "Married-civ-spouse",
         "occupation": "Exec-managerial",
         "relationship": "Husband",
         "race": "White",
         "gender": "Male",
         "capital_gain": 0,
         "capital_loss": 0,
         "hours_per_week": 45,
         "native_country": "United-States",
         "high_income": ">50K",
         "_deepnote_index_column": 7
        },
        {
         "age": 31,
         "workclass": "Private",
         "fnlwgt": 45781,
         "education": "Masters",
         "education_num": "14",
         "marital_status": "Never-married",
         "occupation": "Prof-specialty",
         "relationship": "Not-in-family",
         "race": "White",
         "gender": "Female",
         "capital_gain": 14084,
         "capital_loss": 0,
         "hours_per_week": 50,
         "native_country": "United-States",
         "high_income": ">50K",
         "_deepnote_index_column": 8
        },
        {
         "age": 42,
         "workclass": "Private",
         "fnlwgt": 159449,
         "education": "Bachelors",
         "education_num": "13",
         "marital_status": "Married-civ-spouse",
         "occupation": "Exec-managerial",
         "relationship": "Husband",
         "race": "White",
         "gender": "Male",
         "capital_gain": 5178,
         "capital_loss": 0,
         "hours_per_week": 40,
         "native_country": "United-States",
         "high_income": ">50K",
         "_deepnote_index_column": 9
        },
        {
         "age": 37,
         "workclass": "Private",
         "fnlwgt": 280464,
         "education": "Some-college",
         "education_num": "10",
         "marital_status": "Married-civ-spouse",
         "occupation": "Exec-managerial",
         "relationship": "Husband",
         "race": "Black",
         "gender": "Male",
         "capital_gain": 0,
         "capital_loss": 0,
         "hours_per_week": 80,
         "native_country": "United-States",
         "high_income": ">50K",
         "_deepnote_index_column": 10
        },
        {
         "age": 30,
         "workclass": "State-gov",
         "fnlwgt": 141297,
         "education": "Bachelors",
         "education_num": "13",
         "marital_status": "Married-civ-spouse",
         "occupation": "Prof-specialty",
         "relationship": "Husband",
         "race": "Asian-Pac-Islander",
         "gender": "Male",
         "capital_gain": 0,
         "capital_loss": 0,
         "hours_per_week": 40,
         "native_country": "India",
         "high_income": ">50K",
         "_deepnote_index_column": 11
        },
        {
         "age": 23,
         "workclass": "Private",
         "fnlwgt": 122272,
         "education": "Bachelors",
         "education_num": "?",
         "marital_status": "Never-married",
         "occupation": "Adm-clerical",
         "relationship": "Own-child",
         "race": "White",
         "gender": "Female",
         "capital_gain": 0,
         "capital_loss": 0,
         "hours_per_week": 30,
         "native_country": "United-States",
         "high_income": "<=50K",
         "_deepnote_index_column": 12
        },
        {
         "age": 32,
         "workclass": "Private",
         "fnlwgt": 205019,
         "education": "Assoc-acdm",
         "education_num": "12",
         "marital_status": "Never-married",
         "occupation": "Sales",
         "relationship": "Not-in-family",
         "race": "Black",
         "gender": "?",
         "capital_gain": 0,
         "capital_loss": 0,
         "hours_per_week": 50,
         "native_country": "United-States",
         "high_income": "<=50K",
         "_deepnote_index_column": 13
        },
        {
         "age": 40,
         "workclass": "Private",
         "fnlwgt": 121772,
         "education": "Assoc-voc",
         "education_num": "11",
         "marital_status": "Married-civ-spouse",
         "occupation": "Craft-repair",
         "relationship": "Husband",
         "race": "Asian-Pac-Islander",
         "gender": "Male",
         "capital_gain": 0,
         "capital_loss": 0,
         "hours_per_week": 40,
         "native_country": "?",
         "high_income": ">50K",
         "_deepnote_index_column": 14
        },
        {
         "age": 34,
         "workclass": "Private",
         "fnlwgt": 245487,
         "education": "7th-8th",
         "education_num": "4",
         "marital_status": "Married-civ-spouse",
         "occupation": "Transport-moving",
         "relationship": "Husband",
         "race": "Amer-Indian-Eskimo",
         "gender": "Male",
         "capital_gain": 0,
         "capital_loss": 0,
         "hours_per_week": 45,
         "native_country": "Mexico",
         "high_income": "<=50K",
         "_deepnote_index_column": 15
        },
        {
         "age": 25,
         "workclass": "Self-emp-not-inc",
         "fnlwgt": 176756,
         "education": "HS-grad",
         "education_num": "9",
         "marital_status": "Never-married",
         "occupation": "Farming-fishing",
         "relationship": "Own-child",
         "race": "White",
         "gender": "Male",
         "capital_gain": 0,
         "capital_loss": 0,
         "hours_per_week": 35,
         "native_country": "United-States",
         "high_income": "<=50K",
         "_deepnote_index_column": 16
        },
        {
         "age": 32,
         "workclass": "Private",
         "fnlwgt": 186824,
         "education": "HS-grad",
         "education_num": "9",
         "marital_status": "Never-married",
         "occupation": "Machine-op-inspct",
         "relationship": "Unmarried",
         "race": "White",
         "gender": "Male",
         "capital_gain": 0,
         "capital_loss": 0,
         "hours_per_week": 40,
         "native_country": "United-States",
         "high_income": "<=50K",
         "_deepnote_index_column": 17
        },
        {
         "age": 38,
         "workclass": "Private",
         "fnlwgt": 28887,
         "education": "11th",
         "education_num": "7",
         "marital_status": "Married-civ-spouse",
         "occupation": "Sales",
         "relationship": "Husband",
         "race": "White",
         "gender": "Male",
         "capital_gain": 0,
         "capital_loss": 0,
         "hours_per_week": 50,
         "native_country": "United-States",
         "high_income": "<=50K",
         "_deepnote_index_column": 18
        },
        {
         "age": 43,
         "workclass": "Self-emp-not-inc",
         "fnlwgt": 292175,
         "education": "Masters",
         "education_num": "14",
         "marital_status": "Divorced",
         "occupation": "Exec-managerial",
         "relationship": "Unmarried",
         "race": "White",
         "gender": "Female",
         "capital_gain": 0,
         "capital_loss": 0,
         "hours_per_week": 45,
         "native_country": "United-States",
         "high_income": ">50K",
         "_deepnote_index_column": 19
        },
        {
         "age": 40,
         "workclass": "Private",
         "fnlwgt": 193524,
         "education": "Doctorate",
         "education_num": "16",
         "marital_status": "Married-civ-spouse",
         "occupation": "Prof-specialty",
         "relationship": "Husband",
         "race": "White",
         "gender": "Male",
         "capital_gain": 0,
         "capital_loss": 0,
         "hours_per_week": 60,
         "native_country": "United-States",
         "high_income": ">50K",
         "_deepnote_index_column": 20
        },
        {
         "age": 54,
         "workclass": "Private",
         "fnlwgt": 302146,
         "education": "HS-grad",
         "education_num": "9",
         "marital_status": "Separated",
         "occupation": "Other-service",
         "relationship": "Unmarried",
         "race": "Black",
         "gender": "Female",
         "capital_gain": 0,
         "capital_loss": 0,
         "hours_per_week": 20,
         "native_country": "United-States",
         "high_income": "<=50K",
         "_deepnote_index_column": 21
        },
        {
         "age": 35,
         "workclass": "Federal-gov",
         "fnlwgt": 76845,
         "education": "9th",
         "education_num": "5",
         "marital_status": "Married-civ-spouse",
         "occupation": "Farming-fishing",
         "relationship": "Husband",
         "race": "Black",
         "gender": "Male",
         "capital_gain": 0,
         "capital_loss": 0,
         "hours_per_week": 40,
         "native_country": "United-States",
         "high_income": "<=50K",
         "_deepnote_index_column": 22
        },
        {
         "age": 43,
         "workclass": "Private",
         "fnlwgt": 117037,
         "education": "11th",
         "education_num": "7",
         "marital_status": "Married-civ-spouse",
         "occupation": "Transport-moving",
         "relationship": "Husband",
         "race": "White",
         "gender": "Male",
         "capital_gain": 0,
         "capital_loss": 2042,
         "hours_per_week": 40,
         "native_country": "United-States",
         "high_income": "<=50K",
         "_deepnote_index_column": 23
        },
        {
         "age": 59,
         "workclass": "Private",
         "fnlwgt": 109015,
         "education": "HS-grad",
         "education_num": "9",
         "marital_status": "Divorced",
         "occupation": "Tech-support",
         "relationship": "Unmarried",
         "race": "White",
         "gender": "Female",
         "capital_gain": 0,
         "capital_loss": 0,
         "hours_per_week": 40,
         "native_country": "United-States",
         "high_income": "<=50K",
         "_deepnote_index_column": 24
        },
        {
         "age": 56,
         "workclass": "Local-gov",
         "fnlwgt": 216851,
         "education": "Bachelors",
         "education_num": "?",
         "marital_status": "Married-civ-spouse",
         "occupation": "Tech-support",
         "relationship": "Husband",
         "race": "White",
         "gender": "Male",
         "capital_gain": 0,
         "capital_loss": 0,
         "hours_per_week": 40,
         "native_country": "United-States",
         "high_income": ">50K",
         "_deepnote_index_column": 25
        },
        {
         "age": 19,
         "workclass": "Private",
         "fnlwgt": 168294,
         "education": "HS-grad",
         "education_num": "9",
         "marital_status": "Never-married",
         "occupation": "Craft-repair",
         "relationship": "Own-child",
         "race": "White",
         "gender": "Male",
         "capital_gain": 0,
         "capital_loss": 0,
         "hours_per_week": 40,
         "native_country": "United-States",
         "high_income": "<=50K",
         "_deepnote_index_column": 26
        },
        {
         "age": 54,
         "workclass": "?",
         "fnlwgt": 180211,
         "education": "Some-college",
         "education_num": "?",
         "marital_status": "Married-civ-spouse",
         "occupation": "?",
         "relationship": "Husband",
         "race": "?",
         "gender": "Male",
         "capital_gain": 0,
         "capital_loss": 0,
         "hours_per_week": 60,
         "native_country": "South",
         "high_income": ">50K",
         "_deepnote_index_column": 27
        },
        {
         "age": 39,
         "workclass": "Private",
         "fnlwgt": 367260,
         "education": "HS-grad",
         "education_num": "9",
         "marital_status": "Divorced",
         "occupation": "Exec-managerial",
         "relationship": "Not-in-family",
         "race": "White",
         "gender": "Male",
         "capital_gain": 0,
         "capital_loss": 0,
         "hours_per_week": 80,
         "native_country": "United-States",
         "high_income": "<=50K",
         "_deepnote_index_column": 28
        },
        {
         "age": 49,
         "workclass": "Private",
         "fnlwgt": 193366,
         "education": "HS-grad",
         "education_num": "9",
         "marital_status": "Married-civ-spouse",
         "occupation": "Craft-repair",
         "relationship": "Husband",
         "race": "White",
         "gender": "Male",
         "capital_gain": 0,
         "capital_loss": 0,
         "hours_per_week": 40,
         "native_country": "United-States",
         "high_income": "<=50K",
         "_deepnote_index_column": 29
        },
        {
         "age": 23,
         "workclass": "Local-gov",
         "fnlwgt": 190709,
         "education": "Assoc-acdm",
         "education_num": "12",
         "marital_status": "Never-married",
         "occupation": "Protective-serv",
         "relationship": "Not-in-family",
         "race": "White",
         "gender": "Male",
         "capital_gain": 0,
         "capital_loss": 0,
         "hours_per_week": 52,
         "native_country": "United-States",
         "high_income": "<=50K",
         "_deepnote_index_column": 30
        },
        {
         "age": 20,
         "workclass": "Private",
         "fnlwgt": 266015,
         "education": "Some-college",
         "education_num": "10",
         "marital_status": "Never-married",
         "occupation": "Sales",
         "relationship": "Own-child",
         "race": "Black",
         "gender": "Male",
         "capital_gain": 0,
         "capital_loss": 0,
         "hours_per_week": 44,
         "native_country": "United-States",
         "high_income": "<=50K",
         "_deepnote_index_column": 31
        },
        {
         "age": 45,
         "workclass": "Private",
         "fnlwgt": 386940,
         "education": "Bachelors",
         "education_num": "13",
         "marital_status": "Divorced",
         "occupation": "Exec-managerial",
         "relationship": "Own-child",
         "race": "White",
         "gender": "Male",
         "capital_gain": 0,
         "capital_loss": 1408,
         "hours_per_week": 40,
         "native_country": "United-States",
         "high_income": "<=50K",
         "_deepnote_index_column": 32
        }
       ],
       "rows_bottom": [
        {
         "age": 31,
         "workclass": "Private",
         "fnlwgt": 292592,
         "education": "HS-grad",
         "education_num": "9",
         "marital_status": "Married-civ-spouse",
         "occupation": "Machine-op-inspct",
         "relationship": "Wife",
         "race": "White",
         "gender": "Female",
         "capital_gain": 0,
         "capital_loss": 0,
         "hours_per_week": 40,
         "native_country": "United-States",
         "high_income": "<=50K",
         "_deepnote_index_column": 32528
        },
        {
         "age": 29,
         "workclass": "Private",
         "fnlwgt": 125976,
         "education": "HS-grad",
         "education_num": "9",
         "marital_status": "Separated",
         "occupation": "Sales",
         "relationship": "Unmarried",
         "race": "White",
         "gender": "Female",
         "capital_gain": 0,
         "capital_loss": 0,
         "hours_per_week": 35,
         "native_country": "United-States",
         "high_income": "<=50K",
         "_deepnote_index_column": 32529
        },
        {
         "age": 35,
         "workclass": "?",
         "fnlwgt": 320084,
         "education": "Bachelors",
         "education_num": "13",
         "marital_status": "Married-civ-spouse",
         "occupation": "?",
         "relationship": "Wife",
         "race": "White",
         "gender": "Female",
         "capital_gain": 0,
         "capital_loss": 0,
         "hours_per_week": 55,
         "native_country": "United-States",
         "high_income": ">50K",
         "_deepnote_index_column": 32530
        },
        {
         "age": 30,
         "workclass": "?",
         "fnlwgt": 33811,
         "education": "Bachelors",
         "education_num": "13",
         "marital_status": "Never-married",
         "occupation": "?",
         "relationship": "Not-in-family",
         "race": "Asian-Pac-Islander",
         "gender": "Female",
         "capital_gain": 0,
         "capital_loss": 0,
         "hours_per_week": 99,
         "native_country": "United-States",
         "high_income": "<=50K",
         "_deepnote_index_column": 32531
        },
        {
         "age": 34,
         "workclass": "Private",
         "fnlwgt": 204461,
         "education": "Doctorate",
         "education_num": "16",
         "marital_status": "Married-civ-spouse",
         "occupation": "Prof-specialty",
         "relationship": "Husband",
         "race": "White",
         "gender": "Male",
         "capital_gain": 0,
         "capital_loss": 0,
         "hours_per_week": 60,
         "native_country": "United-States",
         "high_income": ">50K",
         "_deepnote_index_column": 32532
        },
        {
         "age": 54,
         "workclass": "Private",
         "fnlwgt": 337992,
         "education": "Bachelors",
         "education_num": "13",
         "marital_status": "Married-civ-spouse",
         "occupation": "Exec-managerial",
         "relationship": "Husband",
         "race": "Asian-Pac-Islander",
         "gender": "Male",
         "capital_gain": 0,
         "capital_loss": 0,
         "hours_per_week": 50,
         "native_country": "Japan",
         "high_income": ">50K",
         "_deepnote_index_column": 32533
        },
        {
         "age": 37,
         "workclass": "Private",
         "fnlwgt": 179137,
         "education": "Some-college",
         "education_num": "10",
         "marital_status": "Divorced",
         "occupation": "Adm-clerical",
         "relationship": "Unmarried",
         "race": "White",
         "gender": "Female",
         "capital_gain": 0,
         "capital_loss": 0,
         "hours_per_week": 39,
         "native_country": "United-States",
         "high_income": "<=50K",
         "_deepnote_index_column": 32534
        },
        {
         "age": 22,
         "workclass": "Private",
         "fnlwgt": 325033,
         "education": "12th",
         "education_num": "8",
         "marital_status": "Never-married",
         "occupation": "Protective-serv",
         "relationship": "Own-child",
         "race": "Black",
         "gender": "Male",
         "capital_gain": 0,
         "capital_loss": 0,
         "hours_per_week": 35,
         "native_country": "United-States",
         "high_income": "<=50K",
         "_deepnote_index_column": 32535
        },
        {
         "age": 34,
         "workclass": "Private",
         "fnlwgt": 160216,
         "education": "Bachelors",
         "education_num": "13",
         "marital_status": "Never-married",
         "occupation": "Exec-managerial",
         "relationship": "Not-in-family",
         "race": "White",
         "gender": "Female",
         "capital_gain": 0,
         "capital_loss": 0,
         "hours_per_week": 55,
         "native_country": "United-States",
         "high_income": ">50K",
         "_deepnote_index_column": 32536
        },
        {
         "age": 30,
         "workclass": "Private",
         "fnlwgt": 345898,
         "education": "HS-grad",
         "education_num": "9",
         "marital_status": "Never-married",
         "occupation": "Craft-repair",
         "relationship": "Not-in-family",
         "race": "Black",
         "gender": "Male",
         "capital_gain": 0,
         "capital_loss": 0,
         "hours_per_week": 46,
         "native_country": "United-States",
         "high_income": "<=50K",
         "_deepnote_index_column": 32537
        },
        {
         "age": 38,
         "workclass": "Private",
         "fnlwgt": 139180,
         "education": "Bachelors",
         "education_num": "13",
         "marital_status": "Divorced",
         "occupation": "Prof-specialty",
         "relationship": "Unmarried",
         "race": "Black",
         "gender": "Female",
         "capital_gain": 15020,
         "capital_loss": 0,
         "hours_per_week": 45,
         "native_country": "United-States",
         "high_income": ">50K",
         "_deepnote_index_column": 32538
        },
        {
         "age": 71,
         "workclass": "?",
         "fnlwgt": 287372,
         "education": "Doctorate",
         "education_num": "16",
         "marital_status": "Married-civ-spouse",
         "occupation": "?",
         "relationship": "Husband",
         "race": "White",
         "gender": "Male",
         "capital_gain": 0,
         "capital_loss": 0,
         "hours_per_week": 10,
         "native_country": "United-States",
         "high_income": ">50K",
         "_deepnote_index_column": 32539
        },
        {
         "age": 45,
         "workclass": "State-gov",
         "fnlwgt": 252208,
         "education": "HS-grad",
         "education_num": "9",
         "marital_status": "Separated",
         "occupation": "Adm-clerical",
         "relationship": "Own-child",
         "race": "White",
         "gender": "Female",
         "capital_gain": 0,
         "capital_loss": 0,
         "hours_per_week": 40,
         "native_country": "United-States",
         "high_income": "<=50K",
         "_deepnote_index_column": 32540
        },
        {
         "age": 41,
         "workclass": "?",
         "fnlwgt": 202822,
         "education": "HS-grad",
         "education_num": "9",
         "marital_status": "Separated",
         "occupation": "?",
         "relationship": "Not-in-family",
         "race": "Black",
         "gender": "Female",
         "capital_gain": 0,
         "capital_loss": 0,
         "hours_per_week": 32,
         "native_country": "United-States",
         "high_income": "<=50K",
         "_deepnote_index_column": 32541
        },
        {
         "age": 72,
         "workclass": "?",
         "fnlwgt": 129912,
         "education": "HS-grad",
         "education_num": "9",
         "marital_status": "Married-civ-spouse",
         "occupation": "?",
         "relationship": "Husband",
         "race": "White",
         "gender": "Male",
         "capital_gain": 0,
         "capital_loss": 0,
         "hours_per_week": 25,
         "native_country": "United-States",
         "high_income": "<=50K",
         "_deepnote_index_column": 32542
        },
        {
         "age": 45,
         "workclass": "Local-gov",
         "fnlwgt": 119199,
         "education": "Assoc-acdm",
         "education_num": "12",
         "marital_status": "Divorced",
         "occupation": "Prof-specialty",
         "relationship": "Unmarried",
         "race": "White",
         "gender": "Female",
         "capital_gain": 0,
         "capital_loss": 0,
         "hours_per_week": 48,
         "native_country": "United-States",
         "high_income": "<=50K",
         "_deepnote_index_column": 32543
        },
        {
         "age": 31,
         "workclass": "Private",
         "fnlwgt": 199655,
         "education": "Masters",
         "education_num": "14",
         "marital_status": "Divorced",
         "occupation": "Other-service",
         "relationship": "Not-in-family",
         "race": "Other",
         "gender": "Female",
         "capital_gain": 0,
         "capital_loss": 0,
         "hours_per_week": 30,
         "native_country": "United-States",
         "high_income": "<=50K",
         "_deepnote_index_column": 32544
        },
        {
         "age": 39,
         "workclass": "Local-gov",
         "fnlwgt": 111499,
         "education": "Assoc-acdm",
         "education_num": "12",
         "marital_status": "Married-civ-spouse",
         "occupation": "Adm-clerical",
         "relationship": "Wife",
         "race": "White",
         "gender": "Female",
         "capital_gain": 0,
         "capital_loss": 0,
         "hours_per_week": 20,
         "native_country": "United-States",
         "high_income": ">50K",
         "_deepnote_index_column": 32545
        },
        {
         "age": 37,
         "workclass": "Private",
         "fnlwgt": 198216,
         "education": "Assoc-acdm",
         "education_num": "12",
         "marital_status": "Divorced",
         "occupation": "Tech-support",
         "relationship": "Not-in-family",
         "race": "White",
         "gender": "Female",
         "capital_gain": 0,
         "capital_loss": 0,
         "hours_per_week": 40,
         "native_country": "United-States",
         "high_income": "<=50K",
         "_deepnote_index_column": 32546
        },
        {
         "age": 43,
         "workclass": "Private",
         "fnlwgt": 260761,
         "education": "HS-grad",
         "education_num": "9",
         "marital_status": "Married-civ-spouse",
         "occupation": "Machine-op-inspct",
         "relationship": "Husband",
         "race": "White",
         "gender": "Male",
         "capital_gain": 0,
         "capital_loss": 0,
         "hours_per_week": 40,
         "native_country": "Mexico",
         "high_income": "<=50K",
         "_deepnote_index_column": 32547
        },
        {
         "age": 65,
         "workclass": "Self-emp-not-inc",
         "fnlwgt": 99359,
         "education": "Prof-school",
         "education_num": "15",
         "marital_status": "Never-married",
         "occupation": "Prof-specialty",
         "relationship": "Not-in-family",
         "race": "White",
         "gender": "Male",
         "capital_gain": 1086,
         "capital_loss": 0,
         "hours_per_week": 60,
         "native_country": "United-States",
         "high_income": "<=50K",
         "_deepnote_index_column": 32548
        },
        {
         "age": 43,
         "workclass": "State-gov",
         "fnlwgt": 255835,
         "education": "Some-college",
         "education_num": "10",
         "marital_status": "Divorced",
         "occupation": "Adm-clerical",
         "relationship": "Other-relative",
         "race": "White",
         "gender": "Female",
         "capital_gain": 0,
         "capital_loss": 0,
         "hours_per_week": 40,
         "native_country": "United-States",
         "high_income": "<=50K",
         "_deepnote_index_column": 32549
        },
        {
         "age": 43,
         "workclass": "Self-emp-not-inc",
         "fnlwgt": 27242,
         "education": "Some-college",
         "education_num": "10",
         "marital_status": "Married-civ-spouse",
         "occupation": "Craft-repair",
         "relationship": "Husband",
         "race": "White",
         "gender": "Male",
         "capital_gain": 0,
         "capital_loss": 0,
         "hours_per_week": 50,
         "native_country": "United-States",
         "high_income": "<=50K",
         "_deepnote_index_column": 32550
        },
        {
         "age": 32,
         "workclass": "Private",
         "fnlwgt": 34066,
         "education": "10th",
         "education_num": "6",
         "marital_status": "Married-civ-spouse",
         "occupation": "Handlers-cleaners",
         "relationship": "Husband",
         "race": "Amer-Indian-Eskimo",
         "gender": "Male",
         "capital_gain": 0,
         "capital_loss": 0,
         "hours_per_week": 40,
         "native_country": "United-States",
         "high_income": "<=50K",
         "_deepnote_index_column": 32551
        },
        {
         "age": 43,
         "workclass": "Private",
         "fnlwgt": 84661,
         "education": "Assoc-voc",
         "education_num": "11",
         "marital_status": "Married-civ-spouse",
         "occupation": "Sales",
         "relationship": "Husband",
         "race": "White",
         "gender": "Male",
         "capital_gain": 0,
         "capital_loss": 0,
         "hours_per_week": 45,
         "native_country": "United-States",
         "high_income": "<=50K",
         "_deepnote_index_column": 32552
        },
        {
         "age": 32,
         "workclass": "Private",
         "fnlwgt": 116138,
         "education": "Masters",
         "education_num": "14",
         "marital_status": "Never-married",
         "occupation": "Tech-support",
         "relationship": "Not-in-family",
         "race": "Asian-Pac-Islander",
         "gender": "Male",
         "capital_gain": 0,
         "capital_loss": 0,
         "hours_per_week": 11,
         "native_country": "Taiwan",
         "high_income": "<=50K",
         "_deepnote_index_column": 32553
        },
        {
         "age": 53,
         "workclass": "Private",
         "fnlwgt": 321865,
         "education": "Masters",
         "education_num": "14",
         "marital_status": "Married-civ-spouse",
         "occupation": "Exec-managerial",
         "relationship": "Husband",
         "race": "White",
         "gender": "Male",
         "capital_gain": 0,
         "capital_loss": 0,
         "hours_per_week": 40,
         "native_country": "United-States",
         "high_income": ">50K",
         "_deepnote_index_column": 32554
        },
        {
         "age": 22,
         "workclass": "Private",
         "fnlwgt": 310152,
         "education": "Some-college",
         "education_num": "10",
         "marital_status": "Never-married",
         "occupation": "Protective-serv",
         "relationship": "Not-in-family",
         "race": "White",
         "gender": "Male",
         "capital_gain": 0,
         "capital_loss": 0,
         "hours_per_week": 40,
         "native_country": "United-States",
         "high_income": "<=50K",
         "_deepnote_index_column": 32555
        },
        {
         "age": 27,
         "workclass": "Private",
         "fnlwgt": 257302,
         "education": "Assoc-acdm",
         "education_num": "12",
         "marital_status": "Married-civ-spouse",
         "occupation": "Tech-support",
         "relationship": "Wife",
         "race": "White",
         "gender": "Female",
         "capital_gain": 0,
         "capital_loss": 0,
         "hours_per_week": 38,
         "native_country": "United-States",
         "high_income": "<=50K",
         "_deepnote_index_column": 32556
        },
        {
         "age": 40,
         "workclass": "Private",
         "fnlwgt": 154374,
         "education": "HS-grad",
         "education_num": "9",
         "marital_status": "Married-civ-spouse",
         "occupation": "Machine-op-inspct",
         "relationship": "Husband",
         "race": "White",
         "gender": "Male",
         "capital_gain": 0,
         "capital_loss": 0,
         "hours_per_week": 40,
         "native_country": "United-States",
         "high_income": ">50K",
         "_deepnote_index_column": 32557
        },
        {
         "age": 58,
         "workclass": "Private",
         "fnlwgt": 151910,
         "education": "HS-grad",
         "education_num": "9",
         "marital_status": "Widowed",
         "occupation": "Adm-clerical",
         "relationship": "Unmarried",
         "race": "White",
         "gender": "Female",
         "capital_gain": 0,
         "capital_loss": 0,
         "hours_per_week": 40,
         "native_country": "United-States",
         "high_income": "<=50K",
         "_deepnote_index_column": 32558
        },
        {
         "age": 22,
         "workclass": "Private",
         "fnlwgt": 201490,
         "education": "HS-grad",
         "education_num": "9",
         "marital_status": "Never-married",
         "occupation": "Adm-clerical",
         "relationship": "Own-child",
         "race": "White",
         "gender": "Male",
         "capital_gain": 0,
         "capital_loss": 0,
         "hours_per_week": 20,
         "native_country": "United-States",
         "high_income": "<=50K",
         "_deepnote_index_column": 32559
        },
        {
         "age": 52,
         "workclass": "Self-emp-inc",
         "fnlwgt": 287927,
         "education": "HS-grad",
         "education_num": "9",
         "marital_status": "Married-civ-spouse",
         "occupation": "Exec-managerial",
         "relationship": "Wife",
         "race": "White",
         "gender": "Female",
         "capital_gain": 15024,
         "capital_loss": 0,
         "hours_per_week": 40,
         "native_country": "United-States",
         "high_income": ">50K",
         "_deepnote_index_column": 32560
        }
       ]
      },
      "text/plain": "       age         workclass  fnlwgt   education education_num  \\\n0       39         State-gov   77516   Bachelors            13   \n1       50  Self-emp-not-inc   83311   Bachelors            13   \n2       38           Private  215646     HS-grad             9   \n3       53           Private  234721        11th             7   \n4       28           Private  338409   Bachelors             ?   \n...    ...               ...     ...         ...           ...   \n32556   27           Private  257302  Assoc-acdm            12   \n32557   40           Private  154374     HS-grad             9   \n32558   58           Private  151910     HS-grad             9   \n32559   22           Private  201490     HS-grad             9   \n32560   52      Self-emp-inc  287927     HS-grad             9   \n\n           marital_status         occupation   relationship   race  gender  \\\n0           Never-married       Adm-clerical  Not-in-family  White    Male   \n1      Married-civ-spouse    Exec-managerial        Husband  White    Male   \n2                Divorced  Handlers-cleaners  Not-in-family  White    Male   \n3      Married-civ-spouse  Handlers-cleaners        Husband  Black       ?   \n4      Married-civ-spouse     Prof-specialty           Wife  Black  Female   \n...                   ...                ...            ...    ...     ...   \n32556  Married-civ-spouse       Tech-support           Wife  White  Female   \n32557  Married-civ-spouse  Machine-op-inspct        Husband  White    Male   \n32558             Widowed       Adm-clerical      Unmarried  White  Female   \n32559       Never-married       Adm-clerical      Own-child  White    Male   \n32560  Married-civ-spouse    Exec-managerial           Wife  White  Female   \n\n       capital_gain  capital_loss  hours_per_week native_country high_income  \n0              2174             0              40  United-States       <=50K  \n1                 0             0              13  United-States       <=50K  \n2                 0             0              40  United-States       <=50K  \n3                 0             0              40  United-States       <=50K  \n4                 0             0              40           Cuba       <=50K  \n...             ...           ...             ...            ...         ...  \n32556             0             0              38  United-States       <=50K  \n32557             0             0              40  United-States        >50K  \n32558             0             0              40  United-States       <=50K  \n32559             0             0              20  United-States       <=50K  \n32560         15024             0              40  United-States        >50K  \n\n[32561 rows x 15 columns]",
      "text/html": "<div>\n<style scoped>\n    .dataframe tbody tr th:only-of-type {\n        vertical-align: middle;\n    }\n\n    .dataframe tbody tr th {\n        vertical-align: top;\n    }\n\n    .dataframe thead th {\n        text-align: right;\n    }\n</style>\n<table border=\"1\" class=\"dataframe\">\n  <thead>\n    <tr style=\"text-align: right;\">\n      <th></th>\n      <th>age</th>\n      <th>workclass</th>\n      <th>fnlwgt</th>\n      <th>education</th>\n      <th>education_num</th>\n      <th>marital_status</th>\n      <th>occupation</th>\n      <th>relationship</th>\n      <th>race</th>\n      <th>gender</th>\n      <th>capital_gain</th>\n      <th>capital_loss</th>\n      <th>hours_per_week</th>\n      <th>native_country</th>\n      <th>high_income</th>\n    </tr>\n  </thead>\n  <tbody>\n    <tr>\n      <th>0</th>\n      <td>39</td>\n      <td>State-gov</td>\n      <td>77516</td>\n      <td>Bachelors</td>\n      <td>13</td>\n      <td>Never-married</td>\n      <td>Adm-clerical</td>\n      <td>Not-in-family</td>\n      <td>White</td>\n      <td>Male</td>\n      <td>2174</td>\n      <td>0</td>\n      <td>40</td>\n      <td>United-States</td>\n      <td>&lt;=50K</td>\n    </tr>\n    <tr>\n      <th>1</th>\n      <td>50</td>\n      <td>Self-emp-not-inc</td>\n      <td>83311</td>\n      <td>Bachelors</td>\n      <td>13</td>\n      <td>Married-civ-spouse</td>\n      <td>Exec-managerial</td>\n      <td>Husband</td>\n      <td>White</td>\n      <td>Male</td>\n      <td>0</td>\n      <td>0</td>\n      <td>13</td>\n      <td>United-States</td>\n      <td>&lt;=50K</td>\n    </tr>\n    <tr>\n      <th>2</th>\n      <td>38</td>\n      <td>Private</td>\n      <td>215646</td>\n      <td>HS-grad</td>\n      <td>9</td>\n      <td>Divorced</td>\n      <td>Handlers-cleaners</td>\n      <td>Not-in-family</td>\n      <td>White</td>\n      <td>Male</td>\n      <td>0</td>\n      <td>0</td>\n      <td>40</td>\n      <td>United-States</td>\n      <td>&lt;=50K</td>\n    </tr>\n    <tr>\n      <th>3</th>\n      <td>53</td>\n      <td>Private</td>\n      <td>234721</td>\n      <td>11th</td>\n      <td>7</td>\n      <td>Married-civ-spouse</td>\n      <td>Handlers-cleaners</td>\n      <td>Husband</td>\n      <td>Black</td>\n      <td>?</td>\n      <td>0</td>\n      <td>0</td>\n      <td>40</td>\n      <td>United-States</td>\n      <td>&lt;=50K</td>\n    </tr>\n    <tr>\n      <th>4</th>\n      <td>28</td>\n      <td>Private</td>\n      <td>338409</td>\n      <td>Bachelors</td>\n      <td>?</td>\n      <td>Married-civ-spouse</td>\n      <td>Prof-specialty</td>\n      <td>Wife</td>\n      <td>Black</td>\n      <td>Female</td>\n      <td>0</td>\n      <td>0</td>\n      <td>40</td>\n      <td>Cuba</td>\n      <td>&lt;=50K</td>\n    </tr>\n    <tr>\n      <th>...</th>\n      <td>...</td>\n      <td>...</td>\n      <td>...</td>\n      <td>...</td>\n      <td>...</td>\n      <td>...</td>\n      <td>...</td>\n      <td>...</td>\n      <td>...</td>\n      <td>...</td>\n      <td>...</td>\n      <td>...</td>\n      <td>...</td>\n      <td>...</td>\n      <td>...</td>\n    </tr>\n    <tr>\n      <th>32556</th>\n      <td>27</td>\n      <td>Private</td>\n      <td>257302</td>\n      <td>Assoc-acdm</td>\n      <td>12</td>\n      <td>Married-civ-spouse</td>\n      <td>Tech-support</td>\n      <td>Wife</td>\n      <td>White</td>\n      <td>Female</td>\n      <td>0</td>\n      <td>0</td>\n      <td>38</td>\n      <td>United-States</td>\n      <td>&lt;=50K</td>\n    </tr>\n    <tr>\n      <th>32557</th>\n      <td>40</td>\n      <td>Private</td>\n      <td>154374</td>\n      <td>HS-grad</td>\n      <td>9</td>\n      <td>Married-civ-spouse</td>\n      <td>Machine-op-inspct</td>\n      <td>Husband</td>\n      <td>White</td>\n      <td>Male</td>\n      <td>0</td>\n      <td>0</td>\n      <td>40</td>\n      <td>United-States</td>\n      <td>&gt;50K</td>\n    </tr>\n    <tr>\n      <th>32558</th>\n      <td>58</td>\n      <td>Private</td>\n      <td>151910</td>\n      <td>HS-grad</td>\n      <td>9</td>\n      <td>Widowed</td>\n      <td>Adm-clerical</td>\n      <td>Unmarried</td>\n      <td>White</td>\n      <td>Female</td>\n      <td>0</td>\n      <td>0</td>\n      <td>40</td>\n      <td>United-States</td>\n      <td>&lt;=50K</td>\n    </tr>\n    <tr>\n      <th>32559</th>\n      <td>22</td>\n      <td>Private</td>\n      <td>201490</td>\n      <td>HS-grad</td>\n      <td>9</td>\n      <td>Never-married</td>\n      <td>Adm-clerical</td>\n      <td>Own-child</td>\n      <td>White</td>\n      <td>Male</td>\n      <td>0</td>\n      <td>0</td>\n      <td>20</td>\n      <td>United-States</td>\n      <td>&lt;=50K</td>\n    </tr>\n    <tr>\n      <th>32560</th>\n      <td>52</td>\n      <td>Self-emp-inc</td>\n      <td>287927</td>\n      <td>HS-grad</td>\n      <td>9</td>\n      <td>Married-civ-spouse</td>\n      <td>Exec-managerial</td>\n      <td>Wife</td>\n      <td>White</td>\n      <td>Female</td>\n      <td>15024</td>\n      <td>0</td>\n      <td>40</td>\n      <td>United-States</td>\n      <td>&gt;50K</td>\n    </tr>\n  </tbody>\n</table>\n<p>32561 rows × 15 columns</p>\n</div>"
     },
     "metadata": {}
    }
   ]
  },
  {
   "cell_type": "code",
   "metadata": {
    "tags": [],
    "cell_id": "00005-513866b5-7960-492c-93cb-6d5fc76355e3",
    "deepnote_to_be_reexecuted": false,
    "source_hash": "90f3a161",
    "execution_start": 1634293470617,
    "execution_millis": 57,
    "deepnote_cell_type": "code"
   },
   "source": "dataset.info()",
   "execution_count": null,
   "outputs": [
    {
     "name": "stdout",
     "text": "<class 'pandas.core.frame.DataFrame'>\nRangeIndex: 32561 entries, 0 to 32560\nData columns (total 15 columns):\n #   Column          Non-Null Count  Dtype \n---  ------          --------------  ----- \n 0   age             32561 non-null  int64 \n 1   workclass       32561 non-null  object\n 2   fnlwgt          32561 non-null  int64 \n 3   education       32561 non-null  object\n 4   education_num   32561 non-null  object\n 5   marital_status  32561 non-null  object\n 6   occupation      32561 non-null  object\n 7   relationship    32561 non-null  object\n 8   race            32561 non-null  object\n 9   gender          32561 non-null  object\n 10  capital_gain    32561 non-null  int64 \n 11  capital_loss    32561 non-null  int64 \n 12  hours_per_week  32561 non-null  int64 \n 13  native_country  32561 non-null  object\n 14  high_income     32561 non-null  object\ndtypes: int64(5), object(10)\nmemory usage: 3.7+ MB\n",
     "output_type": "stream"
    }
   ]
  },
  {
   "cell_type": "markdown",
   "source": "### TODO label encode - education_num,  gender, high_income\n### Onehotencoding - workclass, education, martial_status, occupation, relationship, native_country, race,",
   "metadata": {
    "tags": [],
    "cell_id": "00005-64b8e437-1b2f-40a6-8e5b-d50a915a8997",
    "deepnote_cell_type": "markdown"
   }
  },
  {
   "cell_type": "code",
   "metadata": {
    "tags": [],
    "cell_id": "00007-af8782c7-652f-463c-87dc-476602c2ad81",
    "deepnote_to_be_reexecuted": false,
    "source_hash": "1bdd0dc9",
    "execution_start": 1634293471629,
    "execution_millis": 1,
    "deepnote_cell_type": "code"
   },
   "source": "dataset.columns",
   "execution_count": null,
   "outputs": [
    {
     "output_type": "execute_result",
     "execution_count": 5,
     "data": {
      "text/plain": "Index(['age', 'workclass', 'fnlwgt', 'education', 'education_num',\n       'marital_status', 'occupation', 'relationship', 'race', 'gender',\n       'capital_gain', 'capital_loss', 'hours_per_week', 'native_country',\n       'high_income'],\n      dtype='object')"
     },
     "metadata": {}
    }
   ]
  },
  {
   "cell_type": "code",
   "metadata": {
    "tags": [],
    "cell_id": "00008-4ad2a88b-f646-497e-8f50-e5afb12bcd62",
    "deepnote_to_be_reexecuted": false,
    "source_hash": "9c9351c9",
    "execution_start": 1634293474673,
    "execution_millis": 342,
    "deepnote_cell_type": "code"
   },
   "source": "dataset = dataset.replace('?',np.NaN)\ndataset",
   "execution_count": null,
   "outputs": [
    {
     "output_type": "execute_result",
     "execution_count": 6,
     "data": {
      "application/vnd.deepnote.dataframe.v2+json": {
       "row_count": 32561,
       "column_count": 15,
       "columns": [
        {
         "name": "age",
         "dtype": "int64",
         "stats": {
          "unique_count": 73,
          "nan_count": 0,
          "min": "17",
          "max": "90",
          "histogram": [
           {
            "bin_start": 17,
            "bin_end": 24.3,
            "count": 5570
           },
           {
            "bin_start": 24.3,
            "bin_end": 31.6,
            "count": 5890
           },
           {
            "bin_start": 31.6,
            "bin_end": 38.9,
            "count": 6048
           },
           {
            "bin_start": 38.9,
            "bin_end": 46.2,
            "count": 6163
           },
           {
            "bin_start": 46.2,
            "bin_end": 53.5,
            "count": 3967
           },
           {
            "bin_start": 53.5,
            "bin_end": 60.8,
            "count": 2591
           },
           {
            "bin_start": 60.8,
            "bin_end": 68.1,
            "count": 1595
           },
           {
            "bin_start": 68.1,
            "bin_end": 75.4,
            "count": 496
           },
           {
            "bin_start": 75.4,
            "bin_end": 82.7,
            "count": 174
           },
           {
            "bin_start": 82.7,
            "bin_end": 90,
            "count": 67
           }
          ]
         }
        },
        {
         "name": "workclass",
         "dtype": "object",
         "stats": {
          "unique_count": 8,
          "nan_count": 1836,
          "categories": [
           {
            "name": "Private",
            "count": 22696
           },
           {
            "name": "7 others",
            "count": 8029
           },
           {
            "name": "Missing",
            "count": 1836
           }
          ]
         }
        },
        {
         "name": "fnlwgt",
         "dtype": "int64",
         "stats": {
          "unique_count": 21648,
          "nan_count": 0,
          "min": "12285",
          "max": "1484705",
          "histogram": [
           {
            "bin_start": 12285,
            "bin_end": 159527,
            "count": 13117
           },
           {
            "bin_start": 159527,
            "bin_end": 306769,
            "count": 15327
           },
           {
            "bin_start": 306769,
            "bin_end": 454011,
            "count": 3498
           },
           {
            "bin_start": 454011,
            "bin_end": 601253,
            "count": 477
           },
           {
            "bin_start": 601253,
            "bin_end": 748495,
            "count": 102
           },
           {
            "bin_start": 748495,
            "bin_end": 895737,
            "count": 20
           },
           {
            "bin_start": 895737,
            "bin_end": 1042979,
            "count": 10
           },
           {
            "bin_start": 1042979,
            "bin_end": 1190221,
            "count": 5
           },
           {
            "bin_start": 1190221,
            "bin_end": 1337463,
            "count": 2
           },
           {
            "bin_start": 1337463,
            "bin_end": 1484705,
            "count": 3
           }
          ]
         }
        },
        {
         "name": "education",
         "dtype": "object"
        },
        {
         "name": "education_num",
         "dtype": "object"
        },
        {
         "name": "marital_status",
         "dtype": "object"
        },
        {
         "name": "occupation",
         "dtype": "object"
        },
        {
         "name": "relationship",
         "dtype": "object"
        },
        {
         "name": "race",
         "dtype": "object"
        },
        {
         "name": "gender",
         "dtype": "object"
        },
        {
         "name": "capital_gain",
         "dtype": "int64"
        },
        {
         "name": "capital_loss",
         "dtype": "int64"
        },
        {
         "name": "hours_per_week",
         "dtype": "int64"
        },
        {
         "name": "native_country",
         "dtype": "object"
        },
        {
         "name": "high_income",
         "dtype": "object"
        },
        {
         "name": "_deepnote_index_column",
         "dtype": "int64"
        }
       ],
       "rows_top": [
        {
         "age": 39,
         "workclass": "State-gov",
         "fnlwgt": 77516,
         "education": "Bachelors",
         "education_num": "13",
         "marital_status": "Never-married",
         "occupation": "Adm-clerical",
         "relationship": "Not-in-family",
         "race": "White",
         "gender": "Male",
         "capital_gain": 2174,
         "capital_loss": 0,
         "hours_per_week": 40,
         "native_country": "United-States",
         "high_income": "<=50K",
         "_deepnote_index_column": 0
        },
        {
         "age": 50,
         "workclass": "Self-emp-not-inc",
         "fnlwgt": 83311,
         "education": "Bachelors",
         "education_num": "13",
         "marital_status": "Married-civ-spouse",
         "occupation": "Exec-managerial",
         "relationship": "Husband",
         "race": "White",
         "gender": "Male",
         "capital_gain": 0,
         "capital_loss": 0,
         "hours_per_week": 13,
         "native_country": "United-States",
         "high_income": "<=50K",
         "_deepnote_index_column": 1
        },
        {
         "age": 38,
         "workclass": "Private",
         "fnlwgt": 215646,
         "education": "HS-grad",
         "education_num": "9",
         "marital_status": "Divorced",
         "occupation": "Handlers-cleaners",
         "relationship": "Not-in-family",
         "race": "White",
         "gender": "Male",
         "capital_gain": 0,
         "capital_loss": 0,
         "hours_per_week": 40,
         "native_country": "United-States",
         "high_income": "<=50K",
         "_deepnote_index_column": 2
        },
        {
         "age": 53,
         "workclass": "Private",
         "fnlwgt": 234721,
         "education": "11th",
         "education_num": "7",
         "marital_status": "Married-civ-spouse",
         "occupation": "Handlers-cleaners",
         "relationship": "Husband",
         "race": "Black",
         "gender": "nan",
         "capital_gain": 0,
         "capital_loss": 0,
         "hours_per_week": 40,
         "native_country": "United-States",
         "high_income": "<=50K",
         "_deepnote_index_column": 3
        },
        {
         "age": 28,
         "workclass": "Private",
         "fnlwgt": 338409,
         "education": "Bachelors",
         "education_num": "nan",
         "marital_status": "Married-civ-spouse",
         "occupation": "Prof-specialty",
         "relationship": "Wife",
         "race": "Black",
         "gender": "Female",
         "capital_gain": 0,
         "capital_loss": 0,
         "hours_per_week": 40,
         "native_country": "Cuba",
         "high_income": "<=50K",
         "_deepnote_index_column": 4
        },
        {
         "age": 37,
         "workclass": "Private",
         "fnlwgt": 284582,
         "education": "Masters",
         "education_num": "14",
         "marital_status": "Married-civ-spouse",
         "occupation": "Exec-managerial",
         "relationship": "Wife",
         "race": "nan",
         "gender": "Female",
         "capital_gain": 0,
         "capital_loss": 0,
         "hours_per_week": 40,
         "native_country": "United-States",
         "high_income": "<=50K",
         "_deepnote_index_column": 5
        },
        {
         "age": 49,
         "workclass": "Private",
         "fnlwgt": 160187,
         "education": "9th",
         "education_num": "5",
         "marital_status": "Married-spouse-absent",
         "occupation": "Other-service",
         "relationship": "Not-in-family",
         "race": "Black",
         "gender": "Female",
         "capital_gain": 0,
         "capital_loss": 0,
         "hours_per_week": 16,
         "native_country": "Jamaica",
         "high_income": "<=50K",
         "_deepnote_index_column": 6
        },
        {
         "age": 52,
         "workclass": "Self-emp-not-inc",
         "fnlwgt": 209642,
         "education": "HS-grad",
         "education_num": "9",
         "marital_status": "Married-civ-spouse",
         "occupation": "Exec-managerial",
         "relationship": "Husband",
         "race": "White",
         "gender": "Male",
         "capital_gain": 0,
         "capital_loss": 0,
         "hours_per_week": 45,
         "native_country": "United-States",
         "high_income": ">50K",
         "_deepnote_index_column": 7
        },
        {
         "age": 31,
         "workclass": "Private",
         "fnlwgt": 45781,
         "education": "Masters",
         "education_num": "14",
         "marital_status": "Never-married",
         "occupation": "Prof-specialty",
         "relationship": "Not-in-family",
         "race": "White",
         "gender": "Female",
         "capital_gain": 14084,
         "capital_loss": 0,
         "hours_per_week": 50,
         "native_country": "United-States",
         "high_income": ">50K",
         "_deepnote_index_column": 8
        },
        {
         "age": 42,
         "workclass": "Private",
         "fnlwgt": 159449,
         "education": "Bachelors",
         "education_num": "13",
         "marital_status": "Married-civ-spouse",
         "occupation": "Exec-managerial",
         "relationship": "Husband",
         "race": "White",
         "gender": "Male",
         "capital_gain": 5178,
         "capital_loss": 0,
         "hours_per_week": 40,
         "native_country": "United-States",
         "high_income": ">50K",
         "_deepnote_index_column": 9
        },
        {
         "age": 37,
         "workclass": "Private",
         "fnlwgt": 280464,
         "education": "Some-college",
         "education_num": "10",
         "marital_status": "Married-civ-spouse",
         "occupation": "Exec-managerial",
         "relationship": "Husband",
         "race": "Black",
         "gender": "Male",
         "capital_gain": 0,
         "capital_loss": 0,
         "hours_per_week": 80,
         "native_country": "United-States",
         "high_income": ">50K",
         "_deepnote_index_column": 10
        },
        {
         "age": 30,
         "workclass": "State-gov",
         "fnlwgt": 141297,
         "education": "Bachelors",
         "education_num": "13",
         "marital_status": "Married-civ-spouse",
         "occupation": "Prof-specialty",
         "relationship": "Husband",
         "race": "Asian-Pac-Islander",
         "gender": "Male",
         "capital_gain": 0,
         "capital_loss": 0,
         "hours_per_week": 40,
         "native_country": "India",
         "high_income": ">50K",
         "_deepnote_index_column": 11
        },
        {
         "age": 23,
         "workclass": "Private",
         "fnlwgt": 122272,
         "education": "Bachelors",
         "education_num": "nan",
         "marital_status": "Never-married",
         "occupation": "Adm-clerical",
         "relationship": "Own-child",
         "race": "White",
         "gender": "Female",
         "capital_gain": 0,
         "capital_loss": 0,
         "hours_per_week": 30,
         "native_country": "United-States",
         "high_income": "<=50K",
         "_deepnote_index_column": 12
        },
        {
         "age": 32,
         "workclass": "Private",
         "fnlwgt": 205019,
         "education": "Assoc-acdm",
         "education_num": "12",
         "marital_status": "Never-married",
         "occupation": "Sales",
         "relationship": "Not-in-family",
         "race": "Black",
         "gender": "nan",
         "capital_gain": 0,
         "capital_loss": 0,
         "hours_per_week": 50,
         "native_country": "United-States",
         "high_income": "<=50K",
         "_deepnote_index_column": 13
        },
        {
         "age": 40,
         "workclass": "Private",
         "fnlwgt": 121772,
         "education": "Assoc-voc",
         "education_num": "11",
         "marital_status": "Married-civ-spouse",
         "occupation": "Craft-repair",
         "relationship": "Husband",
         "race": "Asian-Pac-Islander",
         "gender": "Male",
         "capital_gain": 0,
         "capital_loss": 0,
         "hours_per_week": 40,
         "native_country": "nan",
         "high_income": ">50K",
         "_deepnote_index_column": 14
        },
        {
         "age": 34,
         "workclass": "Private",
         "fnlwgt": 245487,
         "education": "7th-8th",
         "education_num": "4",
         "marital_status": "Married-civ-spouse",
         "occupation": "Transport-moving",
         "relationship": "Husband",
         "race": "Amer-Indian-Eskimo",
         "gender": "Male",
         "capital_gain": 0,
         "capital_loss": 0,
         "hours_per_week": 45,
         "native_country": "Mexico",
         "high_income": "<=50K",
         "_deepnote_index_column": 15
        },
        {
         "age": 25,
         "workclass": "Self-emp-not-inc",
         "fnlwgt": 176756,
         "education": "HS-grad",
         "education_num": "9",
         "marital_status": "Never-married",
         "occupation": "Farming-fishing",
         "relationship": "Own-child",
         "race": "White",
         "gender": "Male",
         "capital_gain": 0,
         "capital_loss": 0,
         "hours_per_week": 35,
         "native_country": "United-States",
         "high_income": "<=50K",
         "_deepnote_index_column": 16
        },
        {
         "age": 32,
         "workclass": "Private",
         "fnlwgt": 186824,
         "education": "HS-grad",
         "education_num": "9",
         "marital_status": "Never-married",
         "occupation": "Machine-op-inspct",
         "relationship": "Unmarried",
         "race": "White",
         "gender": "Male",
         "capital_gain": 0,
         "capital_loss": 0,
         "hours_per_week": 40,
         "native_country": "United-States",
         "high_income": "<=50K",
         "_deepnote_index_column": 17
        },
        {
         "age": 38,
         "workclass": "Private",
         "fnlwgt": 28887,
         "education": "11th",
         "education_num": "7",
         "marital_status": "Married-civ-spouse",
         "occupation": "Sales",
         "relationship": "Husband",
         "race": "White",
         "gender": "Male",
         "capital_gain": 0,
         "capital_loss": 0,
         "hours_per_week": 50,
         "native_country": "United-States",
         "high_income": "<=50K",
         "_deepnote_index_column": 18
        },
        {
         "age": 43,
         "workclass": "Self-emp-not-inc",
         "fnlwgt": 292175,
         "education": "Masters",
         "education_num": "14",
         "marital_status": "Divorced",
         "occupation": "Exec-managerial",
         "relationship": "Unmarried",
         "race": "White",
         "gender": "Female",
         "capital_gain": 0,
         "capital_loss": 0,
         "hours_per_week": 45,
         "native_country": "United-States",
         "high_income": ">50K",
         "_deepnote_index_column": 19
        },
        {
         "age": 40,
         "workclass": "Private",
         "fnlwgt": 193524,
         "education": "Doctorate",
         "education_num": "16",
         "marital_status": "Married-civ-spouse",
         "occupation": "Prof-specialty",
         "relationship": "Husband",
         "race": "White",
         "gender": "Male",
         "capital_gain": 0,
         "capital_loss": 0,
         "hours_per_week": 60,
         "native_country": "United-States",
         "high_income": ">50K",
         "_deepnote_index_column": 20
        },
        {
         "age": 54,
         "workclass": "Private",
         "fnlwgt": 302146,
         "education": "HS-grad",
         "education_num": "9",
         "marital_status": "Separated",
         "occupation": "Other-service",
         "relationship": "Unmarried",
         "race": "Black",
         "gender": "Female",
         "capital_gain": 0,
         "capital_loss": 0,
         "hours_per_week": 20,
         "native_country": "United-States",
         "high_income": "<=50K",
         "_deepnote_index_column": 21
        },
        {
         "age": 35,
         "workclass": "Federal-gov",
         "fnlwgt": 76845,
         "education": "9th",
         "education_num": "5",
         "marital_status": "Married-civ-spouse",
         "occupation": "Farming-fishing",
         "relationship": "Husband",
         "race": "Black",
         "gender": "Male",
         "capital_gain": 0,
         "capital_loss": 0,
         "hours_per_week": 40,
         "native_country": "United-States",
         "high_income": "<=50K",
         "_deepnote_index_column": 22
        },
        {
         "age": 43,
         "workclass": "Private",
         "fnlwgt": 117037,
         "education": "11th",
         "education_num": "7",
         "marital_status": "Married-civ-spouse",
         "occupation": "Transport-moving",
         "relationship": "Husband",
         "race": "White",
         "gender": "Male",
         "capital_gain": 0,
         "capital_loss": 2042,
         "hours_per_week": 40,
         "native_country": "United-States",
         "high_income": "<=50K",
         "_deepnote_index_column": 23
        },
        {
         "age": 59,
         "workclass": "Private",
         "fnlwgt": 109015,
         "education": "HS-grad",
         "education_num": "9",
         "marital_status": "Divorced",
         "occupation": "Tech-support",
         "relationship": "Unmarried",
         "race": "White",
         "gender": "Female",
         "capital_gain": 0,
         "capital_loss": 0,
         "hours_per_week": 40,
         "native_country": "United-States",
         "high_income": "<=50K",
         "_deepnote_index_column": 24
        },
        {
         "age": 56,
         "workclass": "Local-gov",
         "fnlwgt": 216851,
         "education": "Bachelors",
         "education_num": "nan",
         "marital_status": "Married-civ-spouse",
         "occupation": "Tech-support",
         "relationship": "Husband",
         "race": "White",
         "gender": "Male",
         "capital_gain": 0,
         "capital_loss": 0,
         "hours_per_week": 40,
         "native_country": "United-States",
         "high_income": ">50K",
         "_deepnote_index_column": 25
        },
        {
         "age": 19,
         "workclass": "Private",
         "fnlwgt": 168294,
         "education": "HS-grad",
         "education_num": "9",
         "marital_status": "Never-married",
         "occupation": "Craft-repair",
         "relationship": "Own-child",
         "race": "White",
         "gender": "Male",
         "capital_gain": 0,
         "capital_loss": 0,
         "hours_per_week": 40,
         "native_country": "United-States",
         "high_income": "<=50K",
         "_deepnote_index_column": 26
        },
        {
         "age": 54,
         "workclass": "nan",
         "fnlwgt": 180211,
         "education": "Some-college",
         "education_num": "nan",
         "marital_status": "Married-civ-spouse",
         "occupation": "nan",
         "relationship": "Husband",
         "race": "nan",
         "gender": "Male",
         "capital_gain": 0,
         "capital_loss": 0,
         "hours_per_week": 60,
         "native_country": "South",
         "high_income": ">50K",
         "_deepnote_index_column": 27
        },
        {
         "age": 39,
         "workclass": "Private",
         "fnlwgt": 367260,
         "education": "HS-grad",
         "education_num": "9",
         "marital_status": "Divorced",
         "occupation": "Exec-managerial",
         "relationship": "Not-in-family",
         "race": "White",
         "gender": "Male",
         "capital_gain": 0,
         "capital_loss": 0,
         "hours_per_week": 80,
         "native_country": "United-States",
         "high_income": "<=50K",
         "_deepnote_index_column": 28
        },
        {
         "age": 49,
         "workclass": "Private",
         "fnlwgt": 193366,
         "education": "HS-grad",
         "education_num": "9",
         "marital_status": "Married-civ-spouse",
         "occupation": "Craft-repair",
         "relationship": "Husband",
         "race": "White",
         "gender": "Male",
         "capital_gain": 0,
         "capital_loss": 0,
         "hours_per_week": 40,
         "native_country": "United-States",
         "high_income": "<=50K",
         "_deepnote_index_column": 29
        },
        {
         "age": 23,
         "workclass": "Local-gov",
         "fnlwgt": 190709,
         "education": "Assoc-acdm",
         "education_num": "12",
         "marital_status": "Never-married",
         "occupation": "Protective-serv",
         "relationship": "Not-in-family",
         "race": "White",
         "gender": "Male",
         "capital_gain": 0,
         "capital_loss": 0,
         "hours_per_week": 52,
         "native_country": "United-States",
         "high_income": "<=50K",
         "_deepnote_index_column": 30
        },
        {
         "age": 20,
         "workclass": "Private",
         "fnlwgt": 266015,
         "education": "Some-college",
         "education_num": "10",
         "marital_status": "Never-married",
         "occupation": "Sales",
         "relationship": "Own-child",
         "race": "Black",
         "gender": "Male",
         "capital_gain": 0,
         "capital_loss": 0,
         "hours_per_week": 44,
         "native_country": "United-States",
         "high_income": "<=50K",
         "_deepnote_index_column": 31
        },
        {
         "age": 45,
         "workclass": "Private",
         "fnlwgt": 386940,
         "education": "Bachelors",
         "education_num": "13",
         "marital_status": "Divorced",
         "occupation": "Exec-managerial",
         "relationship": "Own-child",
         "race": "White",
         "gender": "Male",
         "capital_gain": 0,
         "capital_loss": 1408,
         "hours_per_week": 40,
         "native_country": "United-States",
         "high_income": "<=50K",
         "_deepnote_index_column": 32
        }
       ],
       "rows_bottom": [
        {
         "age": 31,
         "workclass": "Private",
         "fnlwgt": 292592,
         "education": "HS-grad",
         "education_num": "9",
         "marital_status": "Married-civ-spouse",
         "occupation": "Machine-op-inspct",
         "relationship": "Wife",
         "race": "White",
         "gender": "Female",
         "capital_gain": 0,
         "capital_loss": 0,
         "hours_per_week": 40,
         "native_country": "United-States",
         "high_income": "<=50K",
         "_deepnote_index_column": 32528
        },
        {
         "age": 29,
         "workclass": "Private",
         "fnlwgt": 125976,
         "education": "HS-grad",
         "education_num": "9",
         "marital_status": "Separated",
         "occupation": "Sales",
         "relationship": "Unmarried",
         "race": "White",
         "gender": "Female",
         "capital_gain": 0,
         "capital_loss": 0,
         "hours_per_week": 35,
         "native_country": "United-States",
         "high_income": "<=50K",
         "_deepnote_index_column": 32529
        },
        {
         "age": 35,
         "workclass": "nan",
         "fnlwgt": 320084,
         "education": "Bachelors",
         "education_num": "13",
         "marital_status": "Married-civ-spouse",
         "occupation": "nan",
         "relationship": "Wife",
         "race": "White",
         "gender": "Female",
         "capital_gain": 0,
         "capital_loss": 0,
         "hours_per_week": 55,
         "native_country": "United-States",
         "high_income": ">50K",
         "_deepnote_index_column": 32530
        },
        {
         "age": 30,
         "workclass": "nan",
         "fnlwgt": 33811,
         "education": "Bachelors",
         "education_num": "13",
         "marital_status": "Never-married",
         "occupation": "nan",
         "relationship": "Not-in-family",
         "race": "Asian-Pac-Islander",
         "gender": "Female",
         "capital_gain": 0,
         "capital_loss": 0,
         "hours_per_week": 99,
         "native_country": "United-States",
         "high_income": "<=50K",
         "_deepnote_index_column": 32531
        },
        {
         "age": 34,
         "workclass": "Private",
         "fnlwgt": 204461,
         "education": "Doctorate",
         "education_num": "16",
         "marital_status": "Married-civ-spouse",
         "occupation": "Prof-specialty",
         "relationship": "Husband",
         "race": "White",
         "gender": "Male",
         "capital_gain": 0,
         "capital_loss": 0,
         "hours_per_week": 60,
         "native_country": "United-States",
         "high_income": ">50K",
         "_deepnote_index_column": 32532
        },
        {
         "age": 54,
         "workclass": "Private",
         "fnlwgt": 337992,
         "education": "Bachelors",
         "education_num": "13",
         "marital_status": "Married-civ-spouse",
         "occupation": "Exec-managerial",
         "relationship": "Husband",
         "race": "Asian-Pac-Islander",
         "gender": "Male",
         "capital_gain": 0,
         "capital_loss": 0,
         "hours_per_week": 50,
         "native_country": "Japan",
         "high_income": ">50K",
         "_deepnote_index_column": 32533
        },
        {
         "age": 37,
         "workclass": "Private",
         "fnlwgt": 179137,
         "education": "Some-college",
         "education_num": "10",
         "marital_status": "Divorced",
         "occupation": "Adm-clerical",
         "relationship": "Unmarried",
         "race": "White",
         "gender": "Female",
         "capital_gain": 0,
         "capital_loss": 0,
         "hours_per_week": 39,
         "native_country": "United-States",
         "high_income": "<=50K",
         "_deepnote_index_column": 32534
        },
        {
         "age": 22,
         "workclass": "Private",
         "fnlwgt": 325033,
         "education": "12th",
         "education_num": "8",
         "marital_status": "Never-married",
         "occupation": "Protective-serv",
         "relationship": "Own-child",
         "race": "Black",
         "gender": "Male",
         "capital_gain": 0,
         "capital_loss": 0,
         "hours_per_week": 35,
         "native_country": "United-States",
         "high_income": "<=50K",
         "_deepnote_index_column": 32535
        },
        {
         "age": 34,
         "workclass": "Private",
         "fnlwgt": 160216,
         "education": "Bachelors",
         "education_num": "13",
         "marital_status": "Never-married",
         "occupation": "Exec-managerial",
         "relationship": "Not-in-family",
         "race": "White",
         "gender": "Female",
         "capital_gain": 0,
         "capital_loss": 0,
         "hours_per_week": 55,
         "native_country": "United-States",
         "high_income": ">50K",
         "_deepnote_index_column": 32536
        },
        {
         "age": 30,
         "workclass": "Private",
         "fnlwgt": 345898,
         "education": "HS-grad",
         "education_num": "9",
         "marital_status": "Never-married",
         "occupation": "Craft-repair",
         "relationship": "Not-in-family",
         "race": "Black",
         "gender": "Male",
         "capital_gain": 0,
         "capital_loss": 0,
         "hours_per_week": 46,
         "native_country": "United-States",
         "high_income": "<=50K",
         "_deepnote_index_column": 32537
        },
        {
         "age": 38,
         "workclass": "Private",
         "fnlwgt": 139180,
         "education": "Bachelors",
         "education_num": "13",
         "marital_status": "Divorced",
         "occupation": "Prof-specialty",
         "relationship": "Unmarried",
         "race": "Black",
         "gender": "Female",
         "capital_gain": 15020,
         "capital_loss": 0,
         "hours_per_week": 45,
         "native_country": "United-States",
         "high_income": ">50K",
         "_deepnote_index_column": 32538
        },
        {
         "age": 71,
         "workclass": "nan",
         "fnlwgt": 287372,
         "education": "Doctorate",
         "education_num": "16",
         "marital_status": "Married-civ-spouse",
         "occupation": "nan",
         "relationship": "Husband",
         "race": "White",
         "gender": "Male",
         "capital_gain": 0,
         "capital_loss": 0,
         "hours_per_week": 10,
         "native_country": "United-States",
         "high_income": ">50K",
         "_deepnote_index_column": 32539
        },
        {
         "age": 45,
         "workclass": "State-gov",
         "fnlwgt": 252208,
         "education": "HS-grad",
         "education_num": "9",
         "marital_status": "Separated",
         "occupation": "Adm-clerical",
         "relationship": "Own-child",
         "race": "White",
         "gender": "Female",
         "capital_gain": 0,
         "capital_loss": 0,
         "hours_per_week": 40,
         "native_country": "United-States",
         "high_income": "<=50K",
         "_deepnote_index_column": 32540
        },
        {
         "age": 41,
         "workclass": "nan",
         "fnlwgt": 202822,
         "education": "HS-grad",
         "education_num": "9",
         "marital_status": "Separated",
         "occupation": "nan",
         "relationship": "Not-in-family",
         "race": "Black",
         "gender": "Female",
         "capital_gain": 0,
         "capital_loss": 0,
         "hours_per_week": 32,
         "native_country": "United-States",
         "high_income": "<=50K",
         "_deepnote_index_column": 32541
        },
        {
         "age": 72,
         "workclass": "nan",
         "fnlwgt": 129912,
         "education": "HS-grad",
         "education_num": "9",
         "marital_status": "Married-civ-spouse",
         "occupation": "nan",
         "relationship": "Husband",
         "race": "White",
         "gender": "Male",
         "capital_gain": 0,
         "capital_loss": 0,
         "hours_per_week": 25,
         "native_country": "United-States",
         "high_income": "<=50K",
         "_deepnote_index_column": 32542
        },
        {
         "age": 45,
         "workclass": "Local-gov",
         "fnlwgt": 119199,
         "education": "Assoc-acdm",
         "education_num": "12",
         "marital_status": "Divorced",
         "occupation": "Prof-specialty",
         "relationship": "Unmarried",
         "race": "White",
         "gender": "Female",
         "capital_gain": 0,
         "capital_loss": 0,
         "hours_per_week": 48,
         "native_country": "United-States",
         "high_income": "<=50K",
         "_deepnote_index_column": 32543
        },
        {
         "age": 31,
         "workclass": "Private",
         "fnlwgt": 199655,
         "education": "Masters",
         "education_num": "14",
         "marital_status": "Divorced",
         "occupation": "Other-service",
         "relationship": "Not-in-family",
         "race": "Other",
         "gender": "Female",
         "capital_gain": 0,
         "capital_loss": 0,
         "hours_per_week": 30,
         "native_country": "United-States",
         "high_income": "<=50K",
         "_deepnote_index_column": 32544
        },
        {
         "age": 39,
         "workclass": "Local-gov",
         "fnlwgt": 111499,
         "education": "Assoc-acdm",
         "education_num": "12",
         "marital_status": "Married-civ-spouse",
         "occupation": "Adm-clerical",
         "relationship": "Wife",
         "race": "White",
         "gender": "Female",
         "capital_gain": 0,
         "capital_loss": 0,
         "hours_per_week": 20,
         "native_country": "United-States",
         "high_income": ">50K",
         "_deepnote_index_column": 32545
        },
        {
         "age": 37,
         "workclass": "Private",
         "fnlwgt": 198216,
         "education": "Assoc-acdm",
         "education_num": "12",
         "marital_status": "Divorced",
         "occupation": "Tech-support",
         "relationship": "Not-in-family",
         "race": "White",
         "gender": "Female",
         "capital_gain": 0,
         "capital_loss": 0,
         "hours_per_week": 40,
         "native_country": "United-States",
         "high_income": "<=50K",
         "_deepnote_index_column": 32546
        },
        {
         "age": 43,
         "workclass": "Private",
         "fnlwgt": 260761,
         "education": "HS-grad",
         "education_num": "9",
         "marital_status": "Married-civ-spouse",
         "occupation": "Machine-op-inspct",
         "relationship": "Husband",
         "race": "White",
         "gender": "Male",
         "capital_gain": 0,
         "capital_loss": 0,
         "hours_per_week": 40,
         "native_country": "Mexico",
         "high_income": "<=50K",
         "_deepnote_index_column": 32547
        },
        {
         "age": 65,
         "workclass": "Self-emp-not-inc",
         "fnlwgt": 99359,
         "education": "Prof-school",
         "education_num": "15",
         "marital_status": "Never-married",
         "occupation": "Prof-specialty",
         "relationship": "Not-in-family",
         "race": "White",
         "gender": "Male",
         "capital_gain": 1086,
         "capital_loss": 0,
         "hours_per_week": 60,
         "native_country": "United-States",
         "high_income": "<=50K",
         "_deepnote_index_column": 32548
        },
        {
         "age": 43,
         "workclass": "State-gov",
         "fnlwgt": 255835,
         "education": "Some-college",
         "education_num": "10",
         "marital_status": "Divorced",
         "occupation": "Adm-clerical",
         "relationship": "Other-relative",
         "race": "White",
         "gender": "Female",
         "capital_gain": 0,
         "capital_loss": 0,
         "hours_per_week": 40,
         "native_country": "United-States",
         "high_income": "<=50K",
         "_deepnote_index_column": 32549
        },
        {
         "age": 43,
         "workclass": "Self-emp-not-inc",
         "fnlwgt": 27242,
         "education": "Some-college",
         "education_num": "10",
         "marital_status": "Married-civ-spouse",
         "occupation": "Craft-repair",
         "relationship": "Husband",
         "race": "White",
         "gender": "Male",
         "capital_gain": 0,
         "capital_loss": 0,
         "hours_per_week": 50,
         "native_country": "United-States",
         "high_income": "<=50K",
         "_deepnote_index_column": 32550
        },
        {
         "age": 32,
         "workclass": "Private",
         "fnlwgt": 34066,
         "education": "10th",
         "education_num": "6",
         "marital_status": "Married-civ-spouse",
         "occupation": "Handlers-cleaners",
         "relationship": "Husband",
         "race": "Amer-Indian-Eskimo",
         "gender": "Male",
         "capital_gain": 0,
         "capital_loss": 0,
         "hours_per_week": 40,
         "native_country": "United-States",
         "high_income": "<=50K",
         "_deepnote_index_column": 32551
        },
        {
         "age": 43,
         "workclass": "Private",
         "fnlwgt": 84661,
         "education": "Assoc-voc",
         "education_num": "11",
         "marital_status": "Married-civ-spouse",
         "occupation": "Sales",
         "relationship": "Husband",
         "race": "White",
         "gender": "Male",
         "capital_gain": 0,
         "capital_loss": 0,
         "hours_per_week": 45,
         "native_country": "United-States",
         "high_income": "<=50K",
         "_deepnote_index_column": 32552
        },
        {
         "age": 32,
         "workclass": "Private",
         "fnlwgt": 116138,
         "education": "Masters",
         "education_num": "14",
         "marital_status": "Never-married",
         "occupation": "Tech-support",
         "relationship": "Not-in-family",
         "race": "Asian-Pac-Islander",
         "gender": "Male",
         "capital_gain": 0,
         "capital_loss": 0,
         "hours_per_week": 11,
         "native_country": "Taiwan",
         "high_income": "<=50K",
         "_deepnote_index_column": 32553
        },
        {
         "age": 53,
         "workclass": "Private",
         "fnlwgt": 321865,
         "education": "Masters",
         "education_num": "14",
         "marital_status": "Married-civ-spouse",
         "occupation": "Exec-managerial",
         "relationship": "Husband",
         "race": "White",
         "gender": "Male",
         "capital_gain": 0,
         "capital_loss": 0,
         "hours_per_week": 40,
         "native_country": "United-States",
         "high_income": ">50K",
         "_deepnote_index_column": 32554
        },
        {
         "age": 22,
         "workclass": "Private",
         "fnlwgt": 310152,
         "education": "Some-college",
         "education_num": "10",
         "marital_status": "Never-married",
         "occupation": "Protective-serv",
         "relationship": "Not-in-family",
         "race": "White",
         "gender": "Male",
         "capital_gain": 0,
         "capital_loss": 0,
         "hours_per_week": 40,
         "native_country": "United-States",
         "high_income": "<=50K",
         "_deepnote_index_column": 32555
        },
        {
         "age": 27,
         "workclass": "Private",
         "fnlwgt": 257302,
         "education": "Assoc-acdm",
         "education_num": "12",
         "marital_status": "Married-civ-spouse",
         "occupation": "Tech-support",
         "relationship": "Wife",
         "race": "White",
         "gender": "Female",
         "capital_gain": 0,
         "capital_loss": 0,
         "hours_per_week": 38,
         "native_country": "United-States",
         "high_income": "<=50K",
         "_deepnote_index_column": 32556
        },
        {
         "age": 40,
         "workclass": "Private",
         "fnlwgt": 154374,
         "education": "HS-grad",
         "education_num": "9",
         "marital_status": "Married-civ-spouse",
         "occupation": "Machine-op-inspct",
         "relationship": "Husband",
         "race": "White",
         "gender": "Male",
         "capital_gain": 0,
         "capital_loss": 0,
         "hours_per_week": 40,
         "native_country": "United-States",
         "high_income": ">50K",
         "_deepnote_index_column": 32557
        },
        {
         "age": 58,
         "workclass": "Private",
         "fnlwgt": 151910,
         "education": "HS-grad",
         "education_num": "9",
         "marital_status": "Widowed",
         "occupation": "Adm-clerical",
         "relationship": "Unmarried",
         "race": "White",
         "gender": "Female",
         "capital_gain": 0,
         "capital_loss": 0,
         "hours_per_week": 40,
         "native_country": "United-States",
         "high_income": "<=50K",
         "_deepnote_index_column": 32558
        },
        {
         "age": 22,
         "workclass": "Private",
         "fnlwgt": 201490,
         "education": "HS-grad",
         "education_num": "9",
         "marital_status": "Never-married",
         "occupation": "Adm-clerical",
         "relationship": "Own-child",
         "race": "White",
         "gender": "Male",
         "capital_gain": 0,
         "capital_loss": 0,
         "hours_per_week": 20,
         "native_country": "United-States",
         "high_income": "<=50K",
         "_deepnote_index_column": 32559
        },
        {
         "age": 52,
         "workclass": "Self-emp-inc",
         "fnlwgt": 287927,
         "education": "HS-grad",
         "education_num": "9",
         "marital_status": "Married-civ-spouse",
         "occupation": "Exec-managerial",
         "relationship": "Wife",
         "race": "White",
         "gender": "Female",
         "capital_gain": 15024,
         "capital_loss": 0,
         "hours_per_week": 40,
         "native_country": "United-States",
         "high_income": ">50K",
         "_deepnote_index_column": 32560
        }
       ]
      },
      "text/plain": "       age         workclass  fnlwgt   education education_num  \\\n0       39         State-gov   77516   Bachelors            13   \n1       50  Self-emp-not-inc   83311   Bachelors            13   \n2       38           Private  215646     HS-grad             9   \n3       53           Private  234721        11th             7   \n4       28           Private  338409   Bachelors           NaN   \n...    ...               ...     ...         ...           ...   \n32556   27           Private  257302  Assoc-acdm            12   \n32557   40           Private  154374     HS-grad             9   \n32558   58           Private  151910     HS-grad             9   \n32559   22           Private  201490     HS-grad             9   \n32560   52      Self-emp-inc  287927     HS-grad             9   \n\n           marital_status         occupation   relationship   race  gender  \\\n0           Never-married       Adm-clerical  Not-in-family  White    Male   \n1      Married-civ-spouse    Exec-managerial        Husband  White    Male   \n2                Divorced  Handlers-cleaners  Not-in-family  White    Male   \n3      Married-civ-spouse  Handlers-cleaners        Husband  Black     NaN   \n4      Married-civ-spouse     Prof-specialty           Wife  Black  Female   \n...                   ...                ...            ...    ...     ...   \n32556  Married-civ-spouse       Tech-support           Wife  White  Female   \n32557  Married-civ-spouse  Machine-op-inspct        Husband  White    Male   \n32558             Widowed       Adm-clerical      Unmarried  White  Female   \n32559       Never-married       Adm-clerical      Own-child  White    Male   \n32560  Married-civ-spouse    Exec-managerial           Wife  White  Female   \n\n       capital_gain  capital_loss  hours_per_week native_country high_income  \n0              2174             0              40  United-States       <=50K  \n1                 0             0              13  United-States       <=50K  \n2                 0             0              40  United-States       <=50K  \n3                 0             0              40  United-States       <=50K  \n4                 0             0              40           Cuba       <=50K  \n...             ...           ...             ...            ...         ...  \n32556             0             0              38  United-States       <=50K  \n32557             0             0              40  United-States        >50K  \n32558             0             0              40  United-States       <=50K  \n32559             0             0              20  United-States       <=50K  \n32560         15024             0              40  United-States        >50K  \n\n[32561 rows x 15 columns]",
      "text/html": "<div>\n<style scoped>\n    .dataframe tbody tr th:only-of-type {\n        vertical-align: middle;\n    }\n\n    .dataframe tbody tr th {\n        vertical-align: top;\n    }\n\n    .dataframe thead th {\n        text-align: right;\n    }\n</style>\n<table border=\"1\" class=\"dataframe\">\n  <thead>\n    <tr style=\"text-align: right;\">\n      <th></th>\n      <th>age</th>\n      <th>workclass</th>\n      <th>fnlwgt</th>\n      <th>education</th>\n      <th>education_num</th>\n      <th>marital_status</th>\n      <th>occupation</th>\n      <th>relationship</th>\n      <th>race</th>\n      <th>gender</th>\n      <th>capital_gain</th>\n      <th>capital_loss</th>\n      <th>hours_per_week</th>\n      <th>native_country</th>\n      <th>high_income</th>\n    </tr>\n  </thead>\n  <tbody>\n    <tr>\n      <th>0</th>\n      <td>39</td>\n      <td>State-gov</td>\n      <td>77516</td>\n      <td>Bachelors</td>\n      <td>13</td>\n      <td>Never-married</td>\n      <td>Adm-clerical</td>\n      <td>Not-in-family</td>\n      <td>White</td>\n      <td>Male</td>\n      <td>2174</td>\n      <td>0</td>\n      <td>40</td>\n      <td>United-States</td>\n      <td>&lt;=50K</td>\n    </tr>\n    <tr>\n      <th>1</th>\n      <td>50</td>\n      <td>Self-emp-not-inc</td>\n      <td>83311</td>\n      <td>Bachelors</td>\n      <td>13</td>\n      <td>Married-civ-spouse</td>\n      <td>Exec-managerial</td>\n      <td>Husband</td>\n      <td>White</td>\n      <td>Male</td>\n      <td>0</td>\n      <td>0</td>\n      <td>13</td>\n      <td>United-States</td>\n      <td>&lt;=50K</td>\n    </tr>\n    <tr>\n      <th>2</th>\n      <td>38</td>\n      <td>Private</td>\n      <td>215646</td>\n      <td>HS-grad</td>\n      <td>9</td>\n      <td>Divorced</td>\n      <td>Handlers-cleaners</td>\n      <td>Not-in-family</td>\n      <td>White</td>\n      <td>Male</td>\n      <td>0</td>\n      <td>0</td>\n      <td>40</td>\n      <td>United-States</td>\n      <td>&lt;=50K</td>\n    </tr>\n    <tr>\n      <th>3</th>\n      <td>53</td>\n      <td>Private</td>\n      <td>234721</td>\n      <td>11th</td>\n      <td>7</td>\n      <td>Married-civ-spouse</td>\n      <td>Handlers-cleaners</td>\n      <td>Husband</td>\n      <td>Black</td>\n      <td>NaN</td>\n      <td>0</td>\n      <td>0</td>\n      <td>40</td>\n      <td>United-States</td>\n      <td>&lt;=50K</td>\n    </tr>\n    <tr>\n      <th>4</th>\n      <td>28</td>\n      <td>Private</td>\n      <td>338409</td>\n      <td>Bachelors</td>\n      <td>NaN</td>\n      <td>Married-civ-spouse</td>\n      <td>Prof-specialty</td>\n      <td>Wife</td>\n      <td>Black</td>\n      <td>Female</td>\n      <td>0</td>\n      <td>0</td>\n      <td>40</td>\n      <td>Cuba</td>\n      <td>&lt;=50K</td>\n    </tr>\n    <tr>\n      <th>...</th>\n      <td>...</td>\n      <td>...</td>\n      <td>...</td>\n      <td>...</td>\n      <td>...</td>\n      <td>...</td>\n      <td>...</td>\n      <td>...</td>\n      <td>...</td>\n      <td>...</td>\n      <td>...</td>\n      <td>...</td>\n      <td>...</td>\n      <td>...</td>\n      <td>...</td>\n    </tr>\n    <tr>\n      <th>32556</th>\n      <td>27</td>\n      <td>Private</td>\n      <td>257302</td>\n      <td>Assoc-acdm</td>\n      <td>12</td>\n      <td>Married-civ-spouse</td>\n      <td>Tech-support</td>\n      <td>Wife</td>\n      <td>White</td>\n      <td>Female</td>\n      <td>0</td>\n      <td>0</td>\n      <td>38</td>\n      <td>United-States</td>\n      <td>&lt;=50K</td>\n    </tr>\n    <tr>\n      <th>32557</th>\n      <td>40</td>\n      <td>Private</td>\n      <td>154374</td>\n      <td>HS-grad</td>\n      <td>9</td>\n      <td>Married-civ-spouse</td>\n      <td>Machine-op-inspct</td>\n      <td>Husband</td>\n      <td>White</td>\n      <td>Male</td>\n      <td>0</td>\n      <td>0</td>\n      <td>40</td>\n      <td>United-States</td>\n      <td>&gt;50K</td>\n    </tr>\n    <tr>\n      <th>32558</th>\n      <td>58</td>\n      <td>Private</td>\n      <td>151910</td>\n      <td>HS-grad</td>\n      <td>9</td>\n      <td>Widowed</td>\n      <td>Adm-clerical</td>\n      <td>Unmarried</td>\n      <td>White</td>\n      <td>Female</td>\n      <td>0</td>\n      <td>0</td>\n      <td>40</td>\n      <td>United-States</td>\n      <td>&lt;=50K</td>\n    </tr>\n    <tr>\n      <th>32559</th>\n      <td>22</td>\n      <td>Private</td>\n      <td>201490</td>\n      <td>HS-grad</td>\n      <td>9</td>\n      <td>Never-married</td>\n      <td>Adm-clerical</td>\n      <td>Own-child</td>\n      <td>White</td>\n      <td>Male</td>\n      <td>0</td>\n      <td>0</td>\n      <td>20</td>\n      <td>United-States</td>\n      <td>&lt;=50K</td>\n    </tr>\n    <tr>\n      <th>32560</th>\n      <td>52</td>\n      <td>Self-emp-inc</td>\n      <td>287927</td>\n      <td>HS-grad</td>\n      <td>9</td>\n      <td>Married-civ-spouse</td>\n      <td>Exec-managerial</td>\n      <td>Wife</td>\n      <td>White</td>\n      <td>Female</td>\n      <td>15024</td>\n      <td>0</td>\n      <td>40</td>\n      <td>United-States</td>\n      <td>&gt;50K</td>\n    </tr>\n  </tbody>\n</table>\n<p>32561 rows × 15 columns</p>\n</div>"
     },
     "metadata": {}
    }
   ]
  },
  {
   "cell_type": "code",
   "metadata": {
    "tags": [],
    "cell_id": "00009-37fea41c-8b05-4830-8314-c890c3163c67",
    "deepnote_to_be_reexecuted": false,
    "source_hash": "90f3a161",
    "execution_start": 1634293476857,
    "execution_millis": 84,
    "deepnote_cell_type": "code"
   },
   "source": "dataset.info()",
   "execution_count": null,
   "outputs": [
    {
     "name": "stdout",
     "text": "<class 'pandas.core.frame.DataFrame'>\nRangeIndex: 32561 entries, 0 to 32560\nData columns (total 15 columns):\n #   Column          Non-Null Count  Dtype \n---  ------          --------------  ----- \n 0   age             32561 non-null  int64 \n 1   workclass       30725 non-null  object\n 2   fnlwgt          32561 non-null  int64 \n 3   education       32561 non-null  object\n 4   education_num   32557 non-null  object\n 5   marital_status  32561 non-null  object\n 6   occupation      30718 non-null  object\n 7   relationship    32561 non-null  object\n 8   race            32559 non-null  object\n 9   gender          32559 non-null  object\n 10  capital_gain    32561 non-null  int64 \n 11  capital_loss    32561 non-null  int64 \n 12  hours_per_week  32561 non-null  int64 \n 13  native_country  31978 non-null  object\n 14  high_income     32561 non-null  object\ndtypes: int64(5), object(10)\nmemory usage: 3.7+ MB\n",
     "output_type": "stream"
    }
   ]
  },
  {
   "cell_type": "markdown",
   "source": "### Imputing missing values",
   "metadata": {
    "tags": [],
    "cell_id": "00010-1d86a075-391a-495a-b151-d4cfa37550a8",
    "deepnote_cell_type": "markdown"
   }
  },
  {
   "cell_type": "code",
   "metadata": {
    "tags": [],
    "cell_id": "00011-d1aa44d1-3219-4efd-904f-c8c152820537",
    "deepnote_to_be_reexecuted": false,
    "source_hash": "8742d1e0",
    "execution_start": 1634293479434,
    "execution_millis": 1421,
    "deepnote_cell_type": "code"
   },
   "source": "from sklearn.impute import SimpleImputer\n\nsi = SimpleImputer(missing_values=np.nan, strategy='most_frequent')\ndataset_np = si.fit_transform(dataset)\ndataset[:] = dataset_np",
   "execution_count": null,
   "outputs": []
  },
  {
   "cell_type": "code",
   "metadata": {
    "tags": [],
    "cell_id": "00012-15c028ef-ff76-4203-bf40-5fd003a4af91",
    "deepnote_to_be_reexecuted": false,
    "source_hash": "10724ecb",
    "execution_start": 1634293480864,
    "execution_millis": 169,
    "deepnote_cell_type": "code"
   },
   "source": "dataset",
   "execution_count": null,
   "outputs": [
    {
     "output_type": "execute_result",
     "execution_count": 9,
     "data": {
      "application/vnd.deepnote.dataframe.v2+json": {
       "row_count": 32561,
       "column_count": 15,
       "columns": [
        {
         "name": "age",
         "dtype": "int64",
         "stats": {
          "unique_count": 73,
          "nan_count": 0,
          "min": "17",
          "max": "90",
          "histogram": [
           {
            "bin_start": 17,
            "bin_end": 24.3,
            "count": 5570
           },
           {
            "bin_start": 24.3,
            "bin_end": 31.6,
            "count": 5890
           },
           {
            "bin_start": 31.6,
            "bin_end": 38.9,
            "count": 6048
           },
           {
            "bin_start": 38.9,
            "bin_end": 46.2,
            "count": 6163
           },
           {
            "bin_start": 46.2,
            "bin_end": 53.5,
            "count": 3967
           },
           {
            "bin_start": 53.5,
            "bin_end": 60.8,
            "count": 2591
           },
           {
            "bin_start": 60.8,
            "bin_end": 68.1,
            "count": 1595
           },
           {
            "bin_start": 68.1,
            "bin_end": 75.4,
            "count": 496
           },
           {
            "bin_start": 75.4,
            "bin_end": 82.7,
            "count": 174
           },
           {
            "bin_start": 82.7,
            "bin_end": 90,
            "count": 67
           }
          ]
         }
        },
        {
         "name": "workclass",
         "dtype": "object",
         "stats": {
          "unique_count": 8,
          "nan_count": 0,
          "categories": [
           {
            "name": "Private",
            "count": 24532
           },
           {
            "name": "Self-emp-not-inc",
            "count": 2541
           },
           {
            "name": "6 others",
            "count": 5488
           }
          ]
         }
        },
        {
         "name": "fnlwgt",
         "dtype": "int64",
         "stats": {
          "unique_count": 21648,
          "nan_count": 0,
          "min": "12285",
          "max": "1484705",
          "histogram": [
           {
            "bin_start": 12285,
            "bin_end": 159527,
            "count": 13117
           },
           {
            "bin_start": 159527,
            "bin_end": 306769,
            "count": 15327
           },
           {
            "bin_start": 306769,
            "bin_end": 454011,
            "count": 3498
           },
           {
            "bin_start": 454011,
            "bin_end": 601253,
            "count": 477
           },
           {
            "bin_start": 601253,
            "bin_end": 748495,
            "count": 102
           },
           {
            "bin_start": 748495,
            "bin_end": 895737,
            "count": 20
           },
           {
            "bin_start": 895737,
            "bin_end": 1042979,
            "count": 10
           },
           {
            "bin_start": 1042979,
            "bin_end": 1190221,
            "count": 5
           },
           {
            "bin_start": 1190221,
            "bin_end": 1337463,
            "count": 2
           },
           {
            "bin_start": 1337463,
            "bin_end": 1484705,
            "count": 3
           }
          ]
         }
        },
        {
         "name": "education",
         "dtype": "object"
        },
        {
         "name": "education_num",
         "dtype": "object"
        },
        {
         "name": "marital_status",
         "dtype": "object"
        },
        {
         "name": "occupation",
         "dtype": "object"
        },
        {
         "name": "relationship",
         "dtype": "object"
        },
        {
         "name": "race",
         "dtype": "object"
        },
        {
         "name": "gender",
         "dtype": "object"
        },
        {
         "name": "capital_gain",
         "dtype": "int64"
        },
        {
         "name": "capital_loss",
         "dtype": "int64"
        },
        {
         "name": "hours_per_week",
         "dtype": "int64"
        },
        {
         "name": "native_country",
         "dtype": "object"
        },
        {
         "name": "high_income",
         "dtype": "object"
        },
        {
         "name": "_deepnote_index_column",
         "dtype": "int64"
        }
       ],
       "rows_top": [
        {
         "age": 39,
         "workclass": "State-gov",
         "fnlwgt": 77516,
         "education": "Bachelors",
         "education_num": "13",
         "marital_status": "Never-married",
         "occupation": "Adm-clerical",
         "relationship": "Not-in-family",
         "race": "White",
         "gender": "Male",
         "capital_gain": 2174,
         "capital_loss": 0,
         "hours_per_week": 40,
         "native_country": "United-States",
         "high_income": "<=50K",
         "_deepnote_index_column": 0
        },
        {
         "age": 50,
         "workclass": "Self-emp-not-inc",
         "fnlwgt": 83311,
         "education": "Bachelors",
         "education_num": "13",
         "marital_status": "Married-civ-spouse",
         "occupation": "Exec-managerial",
         "relationship": "Husband",
         "race": "White",
         "gender": "Male",
         "capital_gain": 0,
         "capital_loss": 0,
         "hours_per_week": 13,
         "native_country": "United-States",
         "high_income": "<=50K",
         "_deepnote_index_column": 1
        },
        {
         "age": 38,
         "workclass": "Private",
         "fnlwgt": 215646,
         "education": "HS-grad",
         "education_num": "9",
         "marital_status": "Divorced",
         "occupation": "Handlers-cleaners",
         "relationship": "Not-in-family",
         "race": "White",
         "gender": "Male",
         "capital_gain": 0,
         "capital_loss": 0,
         "hours_per_week": 40,
         "native_country": "United-States",
         "high_income": "<=50K",
         "_deepnote_index_column": 2
        },
        {
         "age": 53,
         "workclass": "Private",
         "fnlwgt": 234721,
         "education": "11th",
         "education_num": "7",
         "marital_status": "Married-civ-spouse",
         "occupation": "Handlers-cleaners",
         "relationship": "Husband",
         "race": "Black",
         "gender": "Male",
         "capital_gain": 0,
         "capital_loss": 0,
         "hours_per_week": 40,
         "native_country": "United-States",
         "high_income": "<=50K",
         "_deepnote_index_column": 3
        },
        {
         "age": 28,
         "workclass": "Private",
         "fnlwgt": 338409,
         "education": "Bachelors",
         "education_num": "9",
         "marital_status": "Married-civ-spouse",
         "occupation": "Prof-specialty",
         "relationship": "Wife",
         "race": "Black",
         "gender": "Female",
         "capital_gain": 0,
         "capital_loss": 0,
         "hours_per_week": 40,
         "native_country": "Cuba",
         "high_income": "<=50K",
         "_deepnote_index_column": 4
        },
        {
         "age": 37,
         "workclass": "Private",
         "fnlwgt": 284582,
         "education": "Masters",
         "education_num": "14",
         "marital_status": "Married-civ-spouse",
         "occupation": "Exec-managerial",
         "relationship": "Wife",
         "race": "White",
         "gender": "Female",
         "capital_gain": 0,
         "capital_loss": 0,
         "hours_per_week": 40,
         "native_country": "United-States",
         "high_income": "<=50K",
         "_deepnote_index_column": 5
        },
        {
         "age": 49,
         "workclass": "Private",
         "fnlwgt": 160187,
         "education": "9th",
         "education_num": "5",
         "marital_status": "Married-spouse-absent",
         "occupation": "Other-service",
         "relationship": "Not-in-family",
         "race": "Black",
         "gender": "Female",
         "capital_gain": 0,
         "capital_loss": 0,
         "hours_per_week": 16,
         "native_country": "Jamaica",
         "high_income": "<=50K",
         "_deepnote_index_column": 6
        },
        {
         "age": 52,
         "workclass": "Self-emp-not-inc",
         "fnlwgt": 209642,
         "education": "HS-grad",
         "education_num": "9",
         "marital_status": "Married-civ-spouse",
         "occupation": "Exec-managerial",
         "relationship": "Husband",
         "race": "White",
         "gender": "Male",
         "capital_gain": 0,
         "capital_loss": 0,
         "hours_per_week": 45,
         "native_country": "United-States",
         "high_income": ">50K",
         "_deepnote_index_column": 7
        },
        {
         "age": 31,
         "workclass": "Private",
         "fnlwgt": 45781,
         "education": "Masters",
         "education_num": "14",
         "marital_status": "Never-married",
         "occupation": "Prof-specialty",
         "relationship": "Not-in-family",
         "race": "White",
         "gender": "Female",
         "capital_gain": 14084,
         "capital_loss": 0,
         "hours_per_week": 50,
         "native_country": "United-States",
         "high_income": ">50K",
         "_deepnote_index_column": 8
        },
        {
         "age": 42,
         "workclass": "Private",
         "fnlwgt": 159449,
         "education": "Bachelors",
         "education_num": "13",
         "marital_status": "Married-civ-spouse",
         "occupation": "Exec-managerial",
         "relationship": "Husband",
         "race": "White",
         "gender": "Male",
         "capital_gain": 5178,
         "capital_loss": 0,
         "hours_per_week": 40,
         "native_country": "United-States",
         "high_income": ">50K",
         "_deepnote_index_column": 9
        },
        {
         "age": 37,
         "workclass": "Private",
         "fnlwgt": 280464,
         "education": "Some-college",
         "education_num": "10",
         "marital_status": "Married-civ-spouse",
         "occupation": "Exec-managerial",
         "relationship": "Husband",
         "race": "Black",
         "gender": "Male",
         "capital_gain": 0,
         "capital_loss": 0,
         "hours_per_week": 80,
         "native_country": "United-States",
         "high_income": ">50K",
         "_deepnote_index_column": 10
        },
        {
         "age": 30,
         "workclass": "State-gov",
         "fnlwgt": 141297,
         "education": "Bachelors",
         "education_num": "13",
         "marital_status": "Married-civ-spouse",
         "occupation": "Prof-specialty",
         "relationship": "Husband",
         "race": "Asian-Pac-Islander",
         "gender": "Male",
         "capital_gain": 0,
         "capital_loss": 0,
         "hours_per_week": 40,
         "native_country": "India",
         "high_income": ">50K",
         "_deepnote_index_column": 11
        },
        {
         "age": 23,
         "workclass": "Private",
         "fnlwgt": 122272,
         "education": "Bachelors",
         "education_num": "9",
         "marital_status": "Never-married",
         "occupation": "Adm-clerical",
         "relationship": "Own-child",
         "race": "White",
         "gender": "Female",
         "capital_gain": 0,
         "capital_loss": 0,
         "hours_per_week": 30,
         "native_country": "United-States",
         "high_income": "<=50K",
         "_deepnote_index_column": 12
        },
        {
         "age": 32,
         "workclass": "Private",
         "fnlwgt": 205019,
         "education": "Assoc-acdm",
         "education_num": "12",
         "marital_status": "Never-married",
         "occupation": "Sales",
         "relationship": "Not-in-family",
         "race": "Black",
         "gender": "Male",
         "capital_gain": 0,
         "capital_loss": 0,
         "hours_per_week": 50,
         "native_country": "United-States",
         "high_income": "<=50K",
         "_deepnote_index_column": 13
        },
        {
         "age": 40,
         "workclass": "Private",
         "fnlwgt": 121772,
         "education": "Assoc-voc",
         "education_num": "11",
         "marital_status": "Married-civ-spouse",
         "occupation": "Craft-repair",
         "relationship": "Husband",
         "race": "Asian-Pac-Islander",
         "gender": "Male",
         "capital_gain": 0,
         "capital_loss": 0,
         "hours_per_week": 40,
         "native_country": "United-States",
         "high_income": ">50K",
         "_deepnote_index_column": 14
        },
        {
         "age": 34,
         "workclass": "Private",
         "fnlwgt": 245487,
         "education": "7th-8th",
         "education_num": "4",
         "marital_status": "Married-civ-spouse",
         "occupation": "Transport-moving",
         "relationship": "Husband",
         "race": "Amer-Indian-Eskimo",
         "gender": "Male",
         "capital_gain": 0,
         "capital_loss": 0,
         "hours_per_week": 45,
         "native_country": "Mexico",
         "high_income": "<=50K",
         "_deepnote_index_column": 15
        },
        {
         "age": 25,
         "workclass": "Self-emp-not-inc",
         "fnlwgt": 176756,
         "education": "HS-grad",
         "education_num": "9",
         "marital_status": "Never-married",
         "occupation": "Farming-fishing",
         "relationship": "Own-child",
         "race": "White",
         "gender": "Male",
         "capital_gain": 0,
         "capital_loss": 0,
         "hours_per_week": 35,
         "native_country": "United-States",
         "high_income": "<=50K",
         "_deepnote_index_column": 16
        },
        {
         "age": 32,
         "workclass": "Private",
         "fnlwgt": 186824,
         "education": "HS-grad",
         "education_num": "9",
         "marital_status": "Never-married",
         "occupation": "Machine-op-inspct",
         "relationship": "Unmarried",
         "race": "White",
         "gender": "Male",
         "capital_gain": 0,
         "capital_loss": 0,
         "hours_per_week": 40,
         "native_country": "United-States",
         "high_income": "<=50K",
         "_deepnote_index_column": 17
        },
        {
         "age": 38,
         "workclass": "Private",
         "fnlwgt": 28887,
         "education": "11th",
         "education_num": "7",
         "marital_status": "Married-civ-spouse",
         "occupation": "Sales",
         "relationship": "Husband",
         "race": "White",
         "gender": "Male",
         "capital_gain": 0,
         "capital_loss": 0,
         "hours_per_week": 50,
         "native_country": "United-States",
         "high_income": "<=50K",
         "_deepnote_index_column": 18
        },
        {
         "age": 43,
         "workclass": "Self-emp-not-inc",
         "fnlwgt": 292175,
         "education": "Masters",
         "education_num": "14",
         "marital_status": "Divorced",
         "occupation": "Exec-managerial",
         "relationship": "Unmarried",
         "race": "White",
         "gender": "Female",
         "capital_gain": 0,
         "capital_loss": 0,
         "hours_per_week": 45,
         "native_country": "United-States",
         "high_income": ">50K",
         "_deepnote_index_column": 19
        },
        {
         "age": 40,
         "workclass": "Private",
         "fnlwgt": 193524,
         "education": "Doctorate",
         "education_num": "16",
         "marital_status": "Married-civ-spouse",
         "occupation": "Prof-specialty",
         "relationship": "Husband",
         "race": "White",
         "gender": "Male",
         "capital_gain": 0,
         "capital_loss": 0,
         "hours_per_week": 60,
         "native_country": "United-States",
         "high_income": ">50K",
         "_deepnote_index_column": 20
        },
        {
         "age": 54,
         "workclass": "Private",
         "fnlwgt": 302146,
         "education": "HS-grad",
         "education_num": "9",
         "marital_status": "Separated",
         "occupation": "Other-service",
         "relationship": "Unmarried",
         "race": "Black",
         "gender": "Female",
         "capital_gain": 0,
         "capital_loss": 0,
         "hours_per_week": 20,
         "native_country": "United-States",
         "high_income": "<=50K",
         "_deepnote_index_column": 21
        },
        {
         "age": 35,
         "workclass": "Federal-gov",
         "fnlwgt": 76845,
         "education": "9th",
         "education_num": "5",
         "marital_status": "Married-civ-spouse",
         "occupation": "Farming-fishing",
         "relationship": "Husband",
         "race": "Black",
         "gender": "Male",
         "capital_gain": 0,
         "capital_loss": 0,
         "hours_per_week": 40,
         "native_country": "United-States",
         "high_income": "<=50K",
         "_deepnote_index_column": 22
        },
        {
         "age": 43,
         "workclass": "Private",
         "fnlwgt": 117037,
         "education": "11th",
         "education_num": "7",
         "marital_status": "Married-civ-spouse",
         "occupation": "Transport-moving",
         "relationship": "Husband",
         "race": "White",
         "gender": "Male",
         "capital_gain": 0,
         "capital_loss": 2042,
         "hours_per_week": 40,
         "native_country": "United-States",
         "high_income": "<=50K",
         "_deepnote_index_column": 23
        },
        {
         "age": 59,
         "workclass": "Private",
         "fnlwgt": 109015,
         "education": "HS-grad",
         "education_num": "9",
         "marital_status": "Divorced",
         "occupation": "Tech-support",
         "relationship": "Unmarried",
         "race": "White",
         "gender": "Female",
         "capital_gain": 0,
         "capital_loss": 0,
         "hours_per_week": 40,
         "native_country": "United-States",
         "high_income": "<=50K",
         "_deepnote_index_column": 24
        },
        {
         "age": 56,
         "workclass": "Local-gov",
         "fnlwgt": 216851,
         "education": "Bachelors",
         "education_num": "9",
         "marital_status": "Married-civ-spouse",
         "occupation": "Tech-support",
         "relationship": "Husband",
         "race": "White",
         "gender": "Male",
         "capital_gain": 0,
         "capital_loss": 0,
         "hours_per_week": 40,
         "native_country": "United-States",
         "high_income": ">50K",
         "_deepnote_index_column": 25
        },
        {
         "age": 19,
         "workclass": "Private",
         "fnlwgt": 168294,
         "education": "HS-grad",
         "education_num": "9",
         "marital_status": "Never-married",
         "occupation": "Craft-repair",
         "relationship": "Own-child",
         "race": "White",
         "gender": "Male",
         "capital_gain": 0,
         "capital_loss": 0,
         "hours_per_week": 40,
         "native_country": "United-States",
         "high_income": "<=50K",
         "_deepnote_index_column": 26
        },
        {
         "age": 54,
         "workclass": "Private",
         "fnlwgt": 180211,
         "education": "Some-college",
         "education_num": "9",
         "marital_status": "Married-civ-spouse",
         "occupation": "Prof-specialty",
         "relationship": "Husband",
         "race": "White",
         "gender": "Male",
         "capital_gain": 0,
         "capital_loss": 0,
         "hours_per_week": 60,
         "native_country": "South",
         "high_income": ">50K",
         "_deepnote_index_column": 27
        },
        {
         "age": 39,
         "workclass": "Private",
         "fnlwgt": 367260,
         "education": "HS-grad",
         "education_num": "9",
         "marital_status": "Divorced",
         "occupation": "Exec-managerial",
         "relationship": "Not-in-family",
         "race": "White",
         "gender": "Male",
         "capital_gain": 0,
         "capital_loss": 0,
         "hours_per_week": 80,
         "native_country": "United-States",
         "high_income": "<=50K",
         "_deepnote_index_column": 28
        },
        {
         "age": 49,
         "workclass": "Private",
         "fnlwgt": 193366,
         "education": "HS-grad",
         "education_num": "9",
         "marital_status": "Married-civ-spouse",
         "occupation": "Craft-repair",
         "relationship": "Husband",
         "race": "White",
         "gender": "Male",
         "capital_gain": 0,
         "capital_loss": 0,
         "hours_per_week": 40,
         "native_country": "United-States",
         "high_income": "<=50K",
         "_deepnote_index_column": 29
        },
        {
         "age": 23,
         "workclass": "Local-gov",
         "fnlwgt": 190709,
         "education": "Assoc-acdm",
         "education_num": "12",
         "marital_status": "Never-married",
         "occupation": "Protective-serv",
         "relationship": "Not-in-family",
         "race": "White",
         "gender": "Male",
         "capital_gain": 0,
         "capital_loss": 0,
         "hours_per_week": 52,
         "native_country": "United-States",
         "high_income": "<=50K",
         "_deepnote_index_column": 30
        },
        {
         "age": 20,
         "workclass": "Private",
         "fnlwgt": 266015,
         "education": "Some-college",
         "education_num": "10",
         "marital_status": "Never-married",
         "occupation": "Sales",
         "relationship": "Own-child",
         "race": "Black",
         "gender": "Male",
         "capital_gain": 0,
         "capital_loss": 0,
         "hours_per_week": 44,
         "native_country": "United-States",
         "high_income": "<=50K",
         "_deepnote_index_column": 31
        },
        {
         "age": 45,
         "workclass": "Private",
         "fnlwgt": 386940,
         "education": "Bachelors",
         "education_num": "13",
         "marital_status": "Divorced",
         "occupation": "Exec-managerial",
         "relationship": "Own-child",
         "race": "White",
         "gender": "Male",
         "capital_gain": 0,
         "capital_loss": 1408,
         "hours_per_week": 40,
         "native_country": "United-States",
         "high_income": "<=50K",
         "_deepnote_index_column": 32
        }
       ],
       "rows_bottom": [
        {
         "age": 31,
         "workclass": "Private",
         "fnlwgt": 292592,
         "education": "HS-grad",
         "education_num": "9",
         "marital_status": "Married-civ-spouse",
         "occupation": "Machine-op-inspct",
         "relationship": "Wife",
         "race": "White",
         "gender": "Female",
         "capital_gain": 0,
         "capital_loss": 0,
         "hours_per_week": 40,
         "native_country": "United-States",
         "high_income": "<=50K",
         "_deepnote_index_column": 32528
        },
        {
         "age": 29,
         "workclass": "Private",
         "fnlwgt": 125976,
         "education": "HS-grad",
         "education_num": "9",
         "marital_status": "Separated",
         "occupation": "Sales",
         "relationship": "Unmarried",
         "race": "White",
         "gender": "Female",
         "capital_gain": 0,
         "capital_loss": 0,
         "hours_per_week": 35,
         "native_country": "United-States",
         "high_income": "<=50K",
         "_deepnote_index_column": 32529
        },
        {
         "age": 35,
         "workclass": "Private",
         "fnlwgt": 320084,
         "education": "Bachelors",
         "education_num": "13",
         "marital_status": "Married-civ-spouse",
         "occupation": "Prof-specialty",
         "relationship": "Wife",
         "race": "White",
         "gender": "Female",
         "capital_gain": 0,
         "capital_loss": 0,
         "hours_per_week": 55,
         "native_country": "United-States",
         "high_income": ">50K",
         "_deepnote_index_column": 32530
        },
        {
         "age": 30,
         "workclass": "Private",
         "fnlwgt": 33811,
         "education": "Bachelors",
         "education_num": "13",
         "marital_status": "Never-married",
         "occupation": "Prof-specialty",
         "relationship": "Not-in-family",
         "race": "Asian-Pac-Islander",
         "gender": "Female",
         "capital_gain": 0,
         "capital_loss": 0,
         "hours_per_week": 99,
         "native_country": "United-States",
         "high_income": "<=50K",
         "_deepnote_index_column": 32531
        },
        {
         "age": 34,
         "workclass": "Private",
         "fnlwgt": 204461,
         "education": "Doctorate",
         "education_num": "16",
         "marital_status": "Married-civ-spouse",
         "occupation": "Prof-specialty",
         "relationship": "Husband",
         "race": "White",
         "gender": "Male",
         "capital_gain": 0,
         "capital_loss": 0,
         "hours_per_week": 60,
         "native_country": "United-States",
         "high_income": ">50K",
         "_deepnote_index_column": 32532
        },
        {
         "age": 54,
         "workclass": "Private",
         "fnlwgt": 337992,
         "education": "Bachelors",
         "education_num": "13",
         "marital_status": "Married-civ-spouse",
         "occupation": "Exec-managerial",
         "relationship": "Husband",
         "race": "Asian-Pac-Islander",
         "gender": "Male",
         "capital_gain": 0,
         "capital_loss": 0,
         "hours_per_week": 50,
         "native_country": "Japan",
         "high_income": ">50K",
         "_deepnote_index_column": 32533
        },
        {
         "age": 37,
         "workclass": "Private",
         "fnlwgt": 179137,
         "education": "Some-college",
         "education_num": "10",
         "marital_status": "Divorced",
         "occupation": "Adm-clerical",
         "relationship": "Unmarried",
         "race": "White",
         "gender": "Female",
         "capital_gain": 0,
         "capital_loss": 0,
         "hours_per_week": 39,
         "native_country": "United-States",
         "high_income": "<=50K",
         "_deepnote_index_column": 32534
        },
        {
         "age": 22,
         "workclass": "Private",
         "fnlwgt": 325033,
         "education": "12th",
         "education_num": "8",
         "marital_status": "Never-married",
         "occupation": "Protective-serv",
         "relationship": "Own-child",
         "race": "Black",
         "gender": "Male",
         "capital_gain": 0,
         "capital_loss": 0,
         "hours_per_week": 35,
         "native_country": "United-States",
         "high_income": "<=50K",
         "_deepnote_index_column": 32535
        },
        {
         "age": 34,
         "workclass": "Private",
         "fnlwgt": 160216,
         "education": "Bachelors",
         "education_num": "13",
         "marital_status": "Never-married",
         "occupation": "Exec-managerial",
         "relationship": "Not-in-family",
         "race": "White",
         "gender": "Female",
         "capital_gain": 0,
         "capital_loss": 0,
         "hours_per_week": 55,
         "native_country": "United-States",
         "high_income": ">50K",
         "_deepnote_index_column": 32536
        },
        {
         "age": 30,
         "workclass": "Private",
         "fnlwgt": 345898,
         "education": "HS-grad",
         "education_num": "9",
         "marital_status": "Never-married",
         "occupation": "Craft-repair",
         "relationship": "Not-in-family",
         "race": "Black",
         "gender": "Male",
         "capital_gain": 0,
         "capital_loss": 0,
         "hours_per_week": 46,
         "native_country": "United-States",
         "high_income": "<=50K",
         "_deepnote_index_column": 32537
        },
        {
         "age": 38,
         "workclass": "Private",
         "fnlwgt": 139180,
         "education": "Bachelors",
         "education_num": "13",
         "marital_status": "Divorced",
         "occupation": "Prof-specialty",
         "relationship": "Unmarried",
         "race": "Black",
         "gender": "Female",
         "capital_gain": 15020,
         "capital_loss": 0,
         "hours_per_week": 45,
         "native_country": "United-States",
         "high_income": ">50K",
         "_deepnote_index_column": 32538
        },
        {
         "age": 71,
         "workclass": "Private",
         "fnlwgt": 287372,
         "education": "Doctorate",
         "education_num": "16",
         "marital_status": "Married-civ-spouse",
         "occupation": "Prof-specialty",
         "relationship": "Husband",
         "race": "White",
         "gender": "Male",
         "capital_gain": 0,
         "capital_loss": 0,
         "hours_per_week": 10,
         "native_country": "United-States",
         "high_income": ">50K",
         "_deepnote_index_column": 32539
        },
        {
         "age": 45,
         "workclass": "State-gov",
         "fnlwgt": 252208,
         "education": "HS-grad",
         "education_num": "9",
         "marital_status": "Separated",
         "occupation": "Adm-clerical",
         "relationship": "Own-child",
         "race": "White",
         "gender": "Female",
         "capital_gain": 0,
         "capital_loss": 0,
         "hours_per_week": 40,
         "native_country": "United-States",
         "high_income": "<=50K",
         "_deepnote_index_column": 32540
        },
        {
         "age": 41,
         "workclass": "Private",
         "fnlwgt": 202822,
         "education": "HS-grad",
         "education_num": "9",
         "marital_status": "Separated",
         "occupation": "Prof-specialty",
         "relationship": "Not-in-family",
         "race": "Black",
         "gender": "Female",
         "capital_gain": 0,
         "capital_loss": 0,
         "hours_per_week": 32,
         "native_country": "United-States",
         "high_income": "<=50K",
         "_deepnote_index_column": 32541
        },
        {
         "age": 72,
         "workclass": "Private",
         "fnlwgt": 129912,
         "education": "HS-grad",
         "education_num": "9",
         "marital_status": "Married-civ-spouse",
         "occupation": "Prof-specialty",
         "relationship": "Husband",
         "race": "White",
         "gender": "Male",
         "capital_gain": 0,
         "capital_loss": 0,
         "hours_per_week": 25,
         "native_country": "United-States",
         "high_income": "<=50K",
         "_deepnote_index_column": 32542
        },
        {
         "age": 45,
         "workclass": "Local-gov",
         "fnlwgt": 119199,
         "education": "Assoc-acdm",
         "education_num": "12",
         "marital_status": "Divorced",
         "occupation": "Prof-specialty",
         "relationship": "Unmarried",
         "race": "White",
         "gender": "Female",
         "capital_gain": 0,
         "capital_loss": 0,
         "hours_per_week": 48,
         "native_country": "United-States",
         "high_income": "<=50K",
         "_deepnote_index_column": 32543
        },
        {
         "age": 31,
         "workclass": "Private",
         "fnlwgt": 199655,
         "education": "Masters",
         "education_num": "14",
         "marital_status": "Divorced",
         "occupation": "Other-service",
         "relationship": "Not-in-family",
         "race": "Other",
         "gender": "Female",
         "capital_gain": 0,
         "capital_loss": 0,
         "hours_per_week": 30,
         "native_country": "United-States",
         "high_income": "<=50K",
         "_deepnote_index_column": 32544
        },
        {
         "age": 39,
         "workclass": "Local-gov",
         "fnlwgt": 111499,
         "education": "Assoc-acdm",
         "education_num": "12",
         "marital_status": "Married-civ-spouse",
         "occupation": "Adm-clerical",
         "relationship": "Wife",
         "race": "White",
         "gender": "Female",
         "capital_gain": 0,
         "capital_loss": 0,
         "hours_per_week": 20,
         "native_country": "United-States",
         "high_income": ">50K",
         "_deepnote_index_column": 32545
        },
        {
         "age": 37,
         "workclass": "Private",
         "fnlwgt": 198216,
         "education": "Assoc-acdm",
         "education_num": "12",
         "marital_status": "Divorced",
         "occupation": "Tech-support",
         "relationship": "Not-in-family",
         "race": "White",
         "gender": "Female",
         "capital_gain": 0,
         "capital_loss": 0,
         "hours_per_week": 40,
         "native_country": "United-States",
         "high_income": "<=50K",
         "_deepnote_index_column": 32546
        },
        {
         "age": 43,
         "workclass": "Private",
         "fnlwgt": 260761,
         "education": "HS-grad",
         "education_num": "9",
         "marital_status": "Married-civ-spouse",
         "occupation": "Machine-op-inspct",
         "relationship": "Husband",
         "race": "White",
         "gender": "Male",
         "capital_gain": 0,
         "capital_loss": 0,
         "hours_per_week": 40,
         "native_country": "Mexico",
         "high_income": "<=50K",
         "_deepnote_index_column": 32547
        },
        {
         "age": 65,
         "workclass": "Self-emp-not-inc",
         "fnlwgt": 99359,
         "education": "Prof-school",
         "education_num": "15",
         "marital_status": "Never-married",
         "occupation": "Prof-specialty",
         "relationship": "Not-in-family",
         "race": "White",
         "gender": "Male",
         "capital_gain": 1086,
         "capital_loss": 0,
         "hours_per_week": 60,
         "native_country": "United-States",
         "high_income": "<=50K",
         "_deepnote_index_column": 32548
        },
        {
         "age": 43,
         "workclass": "State-gov",
         "fnlwgt": 255835,
         "education": "Some-college",
         "education_num": "10",
         "marital_status": "Divorced",
         "occupation": "Adm-clerical",
         "relationship": "Other-relative",
         "race": "White",
         "gender": "Female",
         "capital_gain": 0,
         "capital_loss": 0,
         "hours_per_week": 40,
         "native_country": "United-States",
         "high_income": "<=50K",
         "_deepnote_index_column": 32549
        },
        {
         "age": 43,
         "workclass": "Self-emp-not-inc",
         "fnlwgt": 27242,
         "education": "Some-college",
         "education_num": "10",
         "marital_status": "Married-civ-spouse",
         "occupation": "Craft-repair",
         "relationship": "Husband",
         "race": "White",
         "gender": "Male",
         "capital_gain": 0,
         "capital_loss": 0,
         "hours_per_week": 50,
         "native_country": "United-States",
         "high_income": "<=50K",
         "_deepnote_index_column": 32550
        },
        {
         "age": 32,
         "workclass": "Private",
         "fnlwgt": 34066,
         "education": "10th",
         "education_num": "6",
         "marital_status": "Married-civ-spouse",
         "occupation": "Handlers-cleaners",
         "relationship": "Husband",
         "race": "Amer-Indian-Eskimo",
         "gender": "Male",
         "capital_gain": 0,
         "capital_loss": 0,
         "hours_per_week": 40,
         "native_country": "United-States",
         "high_income": "<=50K",
         "_deepnote_index_column": 32551
        },
        {
         "age": 43,
         "workclass": "Private",
         "fnlwgt": 84661,
         "education": "Assoc-voc",
         "education_num": "11",
         "marital_status": "Married-civ-spouse",
         "occupation": "Sales",
         "relationship": "Husband",
         "race": "White",
         "gender": "Male",
         "capital_gain": 0,
         "capital_loss": 0,
         "hours_per_week": 45,
         "native_country": "United-States",
         "high_income": "<=50K",
         "_deepnote_index_column": 32552
        },
        {
         "age": 32,
         "workclass": "Private",
         "fnlwgt": 116138,
         "education": "Masters",
         "education_num": "14",
         "marital_status": "Never-married",
         "occupation": "Tech-support",
         "relationship": "Not-in-family",
         "race": "Asian-Pac-Islander",
         "gender": "Male",
         "capital_gain": 0,
         "capital_loss": 0,
         "hours_per_week": 11,
         "native_country": "Taiwan",
         "high_income": "<=50K",
         "_deepnote_index_column": 32553
        },
        {
         "age": 53,
         "workclass": "Private",
         "fnlwgt": 321865,
         "education": "Masters",
         "education_num": "14",
         "marital_status": "Married-civ-spouse",
         "occupation": "Exec-managerial",
         "relationship": "Husband",
         "race": "White",
         "gender": "Male",
         "capital_gain": 0,
         "capital_loss": 0,
         "hours_per_week": 40,
         "native_country": "United-States",
         "high_income": ">50K",
         "_deepnote_index_column": 32554
        },
        {
         "age": 22,
         "workclass": "Private",
         "fnlwgt": 310152,
         "education": "Some-college",
         "education_num": "10",
         "marital_status": "Never-married",
         "occupation": "Protective-serv",
         "relationship": "Not-in-family",
         "race": "White",
         "gender": "Male",
         "capital_gain": 0,
         "capital_loss": 0,
         "hours_per_week": 40,
         "native_country": "United-States",
         "high_income": "<=50K",
         "_deepnote_index_column": 32555
        },
        {
         "age": 27,
         "workclass": "Private",
         "fnlwgt": 257302,
         "education": "Assoc-acdm",
         "education_num": "12",
         "marital_status": "Married-civ-spouse",
         "occupation": "Tech-support",
         "relationship": "Wife",
         "race": "White",
         "gender": "Female",
         "capital_gain": 0,
         "capital_loss": 0,
         "hours_per_week": 38,
         "native_country": "United-States",
         "high_income": "<=50K",
         "_deepnote_index_column": 32556
        },
        {
         "age": 40,
         "workclass": "Private",
         "fnlwgt": 154374,
         "education": "HS-grad",
         "education_num": "9",
         "marital_status": "Married-civ-spouse",
         "occupation": "Machine-op-inspct",
         "relationship": "Husband",
         "race": "White",
         "gender": "Male",
         "capital_gain": 0,
         "capital_loss": 0,
         "hours_per_week": 40,
         "native_country": "United-States",
         "high_income": ">50K",
         "_deepnote_index_column": 32557
        },
        {
         "age": 58,
         "workclass": "Private",
         "fnlwgt": 151910,
         "education": "HS-grad",
         "education_num": "9",
         "marital_status": "Widowed",
         "occupation": "Adm-clerical",
         "relationship": "Unmarried",
         "race": "White",
         "gender": "Female",
         "capital_gain": 0,
         "capital_loss": 0,
         "hours_per_week": 40,
         "native_country": "United-States",
         "high_income": "<=50K",
         "_deepnote_index_column": 32558
        },
        {
         "age": 22,
         "workclass": "Private",
         "fnlwgt": 201490,
         "education": "HS-grad",
         "education_num": "9",
         "marital_status": "Never-married",
         "occupation": "Adm-clerical",
         "relationship": "Own-child",
         "race": "White",
         "gender": "Male",
         "capital_gain": 0,
         "capital_loss": 0,
         "hours_per_week": 20,
         "native_country": "United-States",
         "high_income": "<=50K",
         "_deepnote_index_column": 32559
        },
        {
         "age": 52,
         "workclass": "Self-emp-inc",
         "fnlwgt": 287927,
         "education": "HS-grad",
         "education_num": "9",
         "marital_status": "Married-civ-spouse",
         "occupation": "Exec-managerial",
         "relationship": "Wife",
         "race": "White",
         "gender": "Female",
         "capital_gain": 15024,
         "capital_loss": 0,
         "hours_per_week": 40,
         "native_country": "United-States",
         "high_income": ">50K",
         "_deepnote_index_column": 32560
        }
       ]
      },
      "text/plain": "       age         workclass  fnlwgt   education education_num  \\\n0       39         State-gov   77516   Bachelors            13   \n1       50  Self-emp-not-inc   83311   Bachelors            13   \n2       38           Private  215646     HS-grad             9   \n3       53           Private  234721        11th             7   \n4       28           Private  338409   Bachelors             9   \n...    ...               ...     ...         ...           ...   \n32556   27           Private  257302  Assoc-acdm            12   \n32557   40           Private  154374     HS-grad             9   \n32558   58           Private  151910     HS-grad             9   \n32559   22           Private  201490     HS-grad             9   \n32560   52      Self-emp-inc  287927     HS-grad             9   \n\n           marital_status         occupation   relationship   race  gender  \\\n0           Never-married       Adm-clerical  Not-in-family  White    Male   \n1      Married-civ-spouse    Exec-managerial        Husband  White    Male   \n2                Divorced  Handlers-cleaners  Not-in-family  White    Male   \n3      Married-civ-spouse  Handlers-cleaners        Husband  Black    Male   \n4      Married-civ-spouse     Prof-specialty           Wife  Black  Female   \n...                   ...                ...            ...    ...     ...   \n32556  Married-civ-spouse       Tech-support           Wife  White  Female   \n32557  Married-civ-spouse  Machine-op-inspct        Husband  White    Male   \n32558             Widowed       Adm-clerical      Unmarried  White  Female   \n32559       Never-married       Adm-clerical      Own-child  White    Male   \n32560  Married-civ-spouse    Exec-managerial           Wife  White  Female   \n\n       capital_gain  capital_loss  hours_per_week native_country high_income  \n0              2174             0              40  United-States       <=50K  \n1                 0             0              13  United-States       <=50K  \n2                 0             0              40  United-States       <=50K  \n3                 0             0              40  United-States       <=50K  \n4                 0             0              40           Cuba       <=50K  \n...             ...           ...             ...            ...         ...  \n32556             0             0              38  United-States       <=50K  \n32557             0             0              40  United-States        >50K  \n32558             0             0              40  United-States       <=50K  \n32559             0             0              20  United-States       <=50K  \n32560         15024             0              40  United-States        >50K  \n\n[32561 rows x 15 columns]",
      "text/html": "<div>\n<style scoped>\n    .dataframe tbody tr th:only-of-type {\n        vertical-align: middle;\n    }\n\n    .dataframe tbody tr th {\n        vertical-align: top;\n    }\n\n    .dataframe thead th {\n        text-align: right;\n    }\n</style>\n<table border=\"1\" class=\"dataframe\">\n  <thead>\n    <tr style=\"text-align: right;\">\n      <th></th>\n      <th>age</th>\n      <th>workclass</th>\n      <th>fnlwgt</th>\n      <th>education</th>\n      <th>education_num</th>\n      <th>marital_status</th>\n      <th>occupation</th>\n      <th>relationship</th>\n      <th>race</th>\n      <th>gender</th>\n      <th>capital_gain</th>\n      <th>capital_loss</th>\n      <th>hours_per_week</th>\n      <th>native_country</th>\n      <th>high_income</th>\n    </tr>\n  </thead>\n  <tbody>\n    <tr>\n      <th>0</th>\n      <td>39</td>\n      <td>State-gov</td>\n      <td>77516</td>\n      <td>Bachelors</td>\n      <td>13</td>\n      <td>Never-married</td>\n      <td>Adm-clerical</td>\n      <td>Not-in-family</td>\n      <td>White</td>\n      <td>Male</td>\n      <td>2174</td>\n      <td>0</td>\n      <td>40</td>\n      <td>United-States</td>\n      <td>&lt;=50K</td>\n    </tr>\n    <tr>\n      <th>1</th>\n      <td>50</td>\n      <td>Self-emp-not-inc</td>\n      <td>83311</td>\n      <td>Bachelors</td>\n      <td>13</td>\n      <td>Married-civ-spouse</td>\n      <td>Exec-managerial</td>\n      <td>Husband</td>\n      <td>White</td>\n      <td>Male</td>\n      <td>0</td>\n      <td>0</td>\n      <td>13</td>\n      <td>United-States</td>\n      <td>&lt;=50K</td>\n    </tr>\n    <tr>\n      <th>2</th>\n      <td>38</td>\n      <td>Private</td>\n      <td>215646</td>\n      <td>HS-grad</td>\n      <td>9</td>\n      <td>Divorced</td>\n      <td>Handlers-cleaners</td>\n      <td>Not-in-family</td>\n      <td>White</td>\n      <td>Male</td>\n      <td>0</td>\n      <td>0</td>\n      <td>40</td>\n      <td>United-States</td>\n      <td>&lt;=50K</td>\n    </tr>\n    <tr>\n      <th>3</th>\n      <td>53</td>\n      <td>Private</td>\n      <td>234721</td>\n      <td>11th</td>\n      <td>7</td>\n      <td>Married-civ-spouse</td>\n      <td>Handlers-cleaners</td>\n      <td>Husband</td>\n      <td>Black</td>\n      <td>Male</td>\n      <td>0</td>\n      <td>0</td>\n      <td>40</td>\n      <td>United-States</td>\n      <td>&lt;=50K</td>\n    </tr>\n    <tr>\n      <th>4</th>\n      <td>28</td>\n      <td>Private</td>\n      <td>338409</td>\n      <td>Bachelors</td>\n      <td>9</td>\n      <td>Married-civ-spouse</td>\n      <td>Prof-specialty</td>\n      <td>Wife</td>\n      <td>Black</td>\n      <td>Female</td>\n      <td>0</td>\n      <td>0</td>\n      <td>40</td>\n      <td>Cuba</td>\n      <td>&lt;=50K</td>\n    </tr>\n    <tr>\n      <th>...</th>\n      <td>...</td>\n      <td>...</td>\n      <td>...</td>\n      <td>...</td>\n      <td>...</td>\n      <td>...</td>\n      <td>...</td>\n      <td>...</td>\n      <td>...</td>\n      <td>...</td>\n      <td>...</td>\n      <td>...</td>\n      <td>...</td>\n      <td>...</td>\n      <td>...</td>\n    </tr>\n    <tr>\n      <th>32556</th>\n      <td>27</td>\n      <td>Private</td>\n      <td>257302</td>\n      <td>Assoc-acdm</td>\n      <td>12</td>\n      <td>Married-civ-spouse</td>\n      <td>Tech-support</td>\n      <td>Wife</td>\n      <td>White</td>\n      <td>Female</td>\n      <td>0</td>\n      <td>0</td>\n      <td>38</td>\n      <td>United-States</td>\n      <td>&lt;=50K</td>\n    </tr>\n    <tr>\n      <th>32557</th>\n      <td>40</td>\n      <td>Private</td>\n      <td>154374</td>\n      <td>HS-grad</td>\n      <td>9</td>\n      <td>Married-civ-spouse</td>\n      <td>Machine-op-inspct</td>\n      <td>Husband</td>\n      <td>White</td>\n      <td>Male</td>\n      <td>0</td>\n      <td>0</td>\n      <td>40</td>\n      <td>United-States</td>\n      <td>&gt;50K</td>\n    </tr>\n    <tr>\n      <th>32558</th>\n      <td>58</td>\n      <td>Private</td>\n      <td>151910</td>\n      <td>HS-grad</td>\n      <td>9</td>\n      <td>Widowed</td>\n      <td>Adm-clerical</td>\n      <td>Unmarried</td>\n      <td>White</td>\n      <td>Female</td>\n      <td>0</td>\n      <td>0</td>\n      <td>40</td>\n      <td>United-States</td>\n      <td>&lt;=50K</td>\n    </tr>\n    <tr>\n      <th>32559</th>\n      <td>22</td>\n      <td>Private</td>\n      <td>201490</td>\n      <td>HS-grad</td>\n      <td>9</td>\n      <td>Never-married</td>\n      <td>Adm-clerical</td>\n      <td>Own-child</td>\n      <td>White</td>\n      <td>Male</td>\n      <td>0</td>\n      <td>0</td>\n      <td>20</td>\n      <td>United-States</td>\n      <td>&lt;=50K</td>\n    </tr>\n    <tr>\n      <th>32560</th>\n      <td>52</td>\n      <td>Self-emp-inc</td>\n      <td>287927</td>\n      <td>HS-grad</td>\n      <td>9</td>\n      <td>Married-civ-spouse</td>\n      <td>Exec-managerial</td>\n      <td>Wife</td>\n      <td>White</td>\n      <td>Female</td>\n      <td>15024</td>\n      <td>0</td>\n      <td>40</td>\n      <td>United-States</td>\n      <td>&gt;50K</td>\n    </tr>\n  </tbody>\n</table>\n<p>32561 rows × 15 columns</p>\n</div>"
     },
     "metadata": {}
    }
   ]
  },
  {
   "cell_type": "code",
   "metadata": {
    "tags": [],
    "cell_id": "00013-f8c948e0-6e22-4778-addc-dc34e71928b0",
    "deepnote_to_be_reexecuted": false,
    "source_hash": "90f3a161",
    "execution_start": 1634293482211,
    "execution_millis": 45,
    "deepnote_cell_type": "code"
   },
   "source": "dataset.info()",
   "execution_count": null,
   "outputs": [
    {
     "name": "stdout",
     "text": "<class 'pandas.core.frame.DataFrame'>\nRangeIndex: 32561 entries, 0 to 32560\nData columns (total 15 columns):\n #   Column          Non-Null Count  Dtype \n---  ------          --------------  ----- \n 0   age             32561 non-null  int64 \n 1   workclass       32561 non-null  object\n 2   fnlwgt          32561 non-null  int64 \n 3   education       32561 non-null  object\n 4   education_num   32561 non-null  object\n 5   marital_status  32561 non-null  object\n 6   occupation      32561 non-null  object\n 7   relationship    32561 non-null  object\n 8   race            32561 non-null  object\n 9   gender          32561 non-null  object\n 10  capital_gain    32561 non-null  int64 \n 11  capital_loss    32561 non-null  int64 \n 12  hours_per_week  32561 non-null  int64 \n 13  native_country  32561 non-null  object\n 14  high_income     32561 non-null  object\ndtypes: int64(5), object(10)\nmemory usage: 3.7+ MB\n",
     "output_type": "stream"
    }
   ]
  },
  {
   "cell_type": "markdown",
   "source": "### trying to convert objects mislabeled as int",
   "metadata": {
    "tags": [],
    "cell_id": "00009-45247538-b636-42b6-b242-f8295d97c14f",
    "deepnote_cell_type": "markdown"
   }
  },
  {
   "cell_type": "code",
   "metadata": {
    "tags": [],
    "cell_id": "00010-b705266c-0b73-4f7f-aee1-05ec3d78570b",
    "deepnote_to_be_reexecuted": false,
    "source_hash": "9ea1ccb3",
    "execution_start": 1634293483621,
    "execution_millis": 184,
    "deepnote_cell_type": "code"
   },
   "source": "dataset['education_num'] = dataset['education_num'].astype('float64')\n\ndataset",
   "execution_count": null,
   "outputs": [
    {
     "output_type": "execute_result",
     "execution_count": 11,
     "data": {
      "application/vnd.deepnote.dataframe.v2+json": {
       "row_count": 32561,
       "column_count": 15,
       "columns": [
        {
         "name": "age",
         "dtype": "int64",
         "stats": {
          "unique_count": 73,
          "nan_count": 0,
          "min": "17",
          "max": "90",
          "histogram": [
           {
            "bin_start": 17,
            "bin_end": 24.3,
            "count": 5570
           },
           {
            "bin_start": 24.3,
            "bin_end": 31.6,
            "count": 5890
           },
           {
            "bin_start": 31.6,
            "bin_end": 38.9,
            "count": 6048
           },
           {
            "bin_start": 38.9,
            "bin_end": 46.2,
            "count": 6163
           },
           {
            "bin_start": 46.2,
            "bin_end": 53.5,
            "count": 3967
           },
           {
            "bin_start": 53.5,
            "bin_end": 60.8,
            "count": 2591
           },
           {
            "bin_start": 60.8,
            "bin_end": 68.1,
            "count": 1595
           },
           {
            "bin_start": 68.1,
            "bin_end": 75.4,
            "count": 496
           },
           {
            "bin_start": 75.4,
            "bin_end": 82.7,
            "count": 174
           },
           {
            "bin_start": 82.7,
            "bin_end": 90,
            "count": 67
           }
          ]
         }
        },
        {
         "name": "workclass",
         "dtype": "object",
         "stats": {
          "unique_count": 8,
          "nan_count": 0,
          "categories": [
           {
            "name": "Private",
            "count": 24532
           },
           {
            "name": "Self-emp-not-inc",
            "count": 2541
           },
           {
            "name": "6 others",
            "count": 5488
           }
          ]
         }
        },
        {
         "name": "fnlwgt",
         "dtype": "int64",
         "stats": {
          "unique_count": 21648,
          "nan_count": 0,
          "min": "12285",
          "max": "1484705",
          "histogram": [
           {
            "bin_start": 12285,
            "bin_end": 159527,
            "count": 13117
           },
           {
            "bin_start": 159527,
            "bin_end": 306769,
            "count": 15327
           },
           {
            "bin_start": 306769,
            "bin_end": 454011,
            "count": 3498
           },
           {
            "bin_start": 454011,
            "bin_end": 601253,
            "count": 477
           },
           {
            "bin_start": 601253,
            "bin_end": 748495,
            "count": 102
           },
           {
            "bin_start": 748495,
            "bin_end": 895737,
            "count": 20
           },
           {
            "bin_start": 895737,
            "bin_end": 1042979,
            "count": 10
           },
           {
            "bin_start": 1042979,
            "bin_end": 1190221,
            "count": 5
           },
           {
            "bin_start": 1190221,
            "bin_end": 1337463,
            "count": 2
           },
           {
            "bin_start": 1337463,
            "bin_end": 1484705,
            "count": 3
           }
          ]
         }
        },
        {
         "name": "education",
         "dtype": "object"
        },
        {
         "name": "education_num",
         "dtype": "float64"
        },
        {
         "name": "marital_status",
         "dtype": "object"
        },
        {
         "name": "occupation",
         "dtype": "object"
        },
        {
         "name": "relationship",
         "dtype": "object"
        },
        {
         "name": "race",
         "dtype": "object"
        },
        {
         "name": "gender",
         "dtype": "object"
        },
        {
         "name": "capital_gain",
         "dtype": "int64"
        },
        {
         "name": "capital_loss",
         "dtype": "int64"
        },
        {
         "name": "hours_per_week",
         "dtype": "int64"
        },
        {
         "name": "native_country",
         "dtype": "object"
        },
        {
         "name": "high_income",
         "dtype": "object"
        },
        {
         "name": "_deepnote_index_column",
         "dtype": "int64"
        }
       ],
       "rows_top": [
        {
         "age": 39,
         "workclass": "State-gov",
         "fnlwgt": 77516,
         "education": "Bachelors",
         "education_num": 13,
         "marital_status": "Never-married",
         "occupation": "Adm-clerical",
         "relationship": "Not-in-family",
         "race": "White",
         "gender": "Male",
         "capital_gain": 2174,
         "capital_loss": 0,
         "hours_per_week": 40,
         "native_country": "United-States",
         "high_income": "<=50K",
         "_deepnote_index_column": 0
        },
        {
         "age": 50,
         "workclass": "Self-emp-not-inc",
         "fnlwgt": 83311,
         "education": "Bachelors",
         "education_num": 13,
         "marital_status": "Married-civ-spouse",
         "occupation": "Exec-managerial",
         "relationship": "Husband",
         "race": "White",
         "gender": "Male",
         "capital_gain": 0,
         "capital_loss": 0,
         "hours_per_week": 13,
         "native_country": "United-States",
         "high_income": "<=50K",
         "_deepnote_index_column": 1
        },
        {
         "age": 38,
         "workclass": "Private",
         "fnlwgt": 215646,
         "education": "HS-grad",
         "education_num": 9,
         "marital_status": "Divorced",
         "occupation": "Handlers-cleaners",
         "relationship": "Not-in-family",
         "race": "White",
         "gender": "Male",
         "capital_gain": 0,
         "capital_loss": 0,
         "hours_per_week": 40,
         "native_country": "United-States",
         "high_income": "<=50K",
         "_deepnote_index_column": 2
        },
        {
         "age": 53,
         "workclass": "Private",
         "fnlwgt": 234721,
         "education": "11th",
         "education_num": 7,
         "marital_status": "Married-civ-spouse",
         "occupation": "Handlers-cleaners",
         "relationship": "Husband",
         "race": "Black",
         "gender": "Male",
         "capital_gain": 0,
         "capital_loss": 0,
         "hours_per_week": 40,
         "native_country": "United-States",
         "high_income": "<=50K",
         "_deepnote_index_column": 3
        },
        {
         "age": 28,
         "workclass": "Private",
         "fnlwgt": 338409,
         "education": "Bachelors",
         "education_num": 9,
         "marital_status": "Married-civ-spouse",
         "occupation": "Prof-specialty",
         "relationship": "Wife",
         "race": "Black",
         "gender": "Female",
         "capital_gain": 0,
         "capital_loss": 0,
         "hours_per_week": 40,
         "native_country": "Cuba",
         "high_income": "<=50K",
         "_deepnote_index_column": 4
        },
        {
         "age": 37,
         "workclass": "Private",
         "fnlwgt": 284582,
         "education": "Masters",
         "education_num": 14,
         "marital_status": "Married-civ-spouse",
         "occupation": "Exec-managerial",
         "relationship": "Wife",
         "race": "White",
         "gender": "Female",
         "capital_gain": 0,
         "capital_loss": 0,
         "hours_per_week": 40,
         "native_country": "United-States",
         "high_income": "<=50K",
         "_deepnote_index_column": 5
        },
        {
         "age": 49,
         "workclass": "Private",
         "fnlwgt": 160187,
         "education": "9th",
         "education_num": 5,
         "marital_status": "Married-spouse-absent",
         "occupation": "Other-service",
         "relationship": "Not-in-family",
         "race": "Black",
         "gender": "Female",
         "capital_gain": 0,
         "capital_loss": 0,
         "hours_per_week": 16,
         "native_country": "Jamaica",
         "high_income": "<=50K",
         "_deepnote_index_column": 6
        },
        {
         "age": 52,
         "workclass": "Self-emp-not-inc",
         "fnlwgt": 209642,
         "education": "HS-grad",
         "education_num": 9,
         "marital_status": "Married-civ-spouse",
         "occupation": "Exec-managerial",
         "relationship": "Husband",
         "race": "White",
         "gender": "Male",
         "capital_gain": 0,
         "capital_loss": 0,
         "hours_per_week": 45,
         "native_country": "United-States",
         "high_income": ">50K",
         "_deepnote_index_column": 7
        },
        {
         "age": 31,
         "workclass": "Private",
         "fnlwgt": 45781,
         "education": "Masters",
         "education_num": 14,
         "marital_status": "Never-married",
         "occupation": "Prof-specialty",
         "relationship": "Not-in-family",
         "race": "White",
         "gender": "Female",
         "capital_gain": 14084,
         "capital_loss": 0,
         "hours_per_week": 50,
         "native_country": "United-States",
         "high_income": ">50K",
         "_deepnote_index_column": 8
        },
        {
         "age": 42,
         "workclass": "Private",
         "fnlwgt": 159449,
         "education": "Bachelors",
         "education_num": 13,
         "marital_status": "Married-civ-spouse",
         "occupation": "Exec-managerial",
         "relationship": "Husband",
         "race": "White",
         "gender": "Male",
         "capital_gain": 5178,
         "capital_loss": 0,
         "hours_per_week": 40,
         "native_country": "United-States",
         "high_income": ">50K",
         "_deepnote_index_column": 9
        },
        {
         "age": 37,
         "workclass": "Private",
         "fnlwgt": 280464,
         "education": "Some-college",
         "education_num": 10,
         "marital_status": "Married-civ-spouse",
         "occupation": "Exec-managerial",
         "relationship": "Husband",
         "race": "Black",
         "gender": "Male",
         "capital_gain": 0,
         "capital_loss": 0,
         "hours_per_week": 80,
         "native_country": "United-States",
         "high_income": ">50K",
         "_deepnote_index_column": 10
        },
        {
         "age": 30,
         "workclass": "State-gov",
         "fnlwgt": 141297,
         "education": "Bachelors",
         "education_num": 13,
         "marital_status": "Married-civ-spouse",
         "occupation": "Prof-specialty",
         "relationship": "Husband",
         "race": "Asian-Pac-Islander",
         "gender": "Male",
         "capital_gain": 0,
         "capital_loss": 0,
         "hours_per_week": 40,
         "native_country": "India",
         "high_income": ">50K",
         "_deepnote_index_column": 11
        },
        {
         "age": 23,
         "workclass": "Private",
         "fnlwgt": 122272,
         "education": "Bachelors",
         "education_num": 9,
         "marital_status": "Never-married",
         "occupation": "Adm-clerical",
         "relationship": "Own-child",
         "race": "White",
         "gender": "Female",
         "capital_gain": 0,
         "capital_loss": 0,
         "hours_per_week": 30,
         "native_country": "United-States",
         "high_income": "<=50K",
         "_deepnote_index_column": 12
        },
        {
         "age": 32,
         "workclass": "Private",
         "fnlwgt": 205019,
         "education": "Assoc-acdm",
         "education_num": 12,
         "marital_status": "Never-married",
         "occupation": "Sales",
         "relationship": "Not-in-family",
         "race": "Black",
         "gender": "Male",
         "capital_gain": 0,
         "capital_loss": 0,
         "hours_per_week": 50,
         "native_country": "United-States",
         "high_income": "<=50K",
         "_deepnote_index_column": 13
        },
        {
         "age": 40,
         "workclass": "Private",
         "fnlwgt": 121772,
         "education": "Assoc-voc",
         "education_num": 11,
         "marital_status": "Married-civ-spouse",
         "occupation": "Craft-repair",
         "relationship": "Husband",
         "race": "Asian-Pac-Islander",
         "gender": "Male",
         "capital_gain": 0,
         "capital_loss": 0,
         "hours_per_week": 40,
         "native_country": "United-States",
         "high_income": ">50K",
         "_deepnote_index_column": 14
        },
        {
         "age": 34,
         "workclass": "Private",
         "fnlwgt": 245487,
         "education": "7th-8th",
         "education_num": 4,
         "marital_status": "Married-civ-spouse",
         "occupation": "Transport-moving",
         "relationship": "Husband",
         "race": "Amer-Indian-Eskimo",
         "gender": "Male",
         "capital_gain": 0,
         "capital_loss": 0,
         "hours_per_week": 45,
         "native_country": "Mexico",
         "high_income": "<=50K",
         "_deepnote_index_column": 15
        },
        {
         "age": 25,
         "workclass": "Self-emp-not-inc",
         "fnlwgt": 176756,
         "education": "HS-grad",
         "education_num": 9,
         "marital_status": "Never-married",
         "occupation": "Farming-fishing",
         "relationship": "Own-child",
         "race": "White",
         "gender": "Male",
         "capital_gain": 0,
         "capital_loss": 0,
         "hours_per_week": 35,
         "native_country": "United-States",
         "high_income": "<=50K",
         "_deepnote_index_column": 16
        },
        {
         "age": 32,
         "workclass": "Private",
         "fnlwgt": 186824,
         "education": "HS-grad",
         "education_num": 9,
         "marital_status": "Never-married",
         "occupation": "Machine-op-inspct",
         "relationship": "Unmarried",
         "race": "White",
         "gender": "Male",
         "capital_gain": 0,
         "capital_loss": 0,
         "hours_per_week": 40,
         "native_country": "United-States",
         "high_income": "<=50K",
         "_deepnote_index_column": 17
        },
        {
         "age": 38,
         "workclass": "Private",
         "fnlwgt": 28887,
         "education": "11th",
         "education_num": 7,
         "marital_status": "Married-civ-spouse",
         "occupation": "Sales",
         "relationship": "Husband",
         "race": "White",
         "gender": "Male",
         "capital_gain": 0,
         "capital_loss": 0,
         "hours_per_week": 50,
         "native_country": "United-States",
         "high_income": "<=50K",
         "_deepnote_index_column": 18
        },
        {
         "age": 43,
         "workclass": "Self-emp-not-inc",
         "fnlwgt": 292175,
         "education": "Masters",
         "education_num": 14,
         "marital_status": "Divorced",
         "occupation": "Exec-managerial",
         "relationship": "Unmarried",
         "race": "White",
         "gender": "Female",
         "capital_gain": 0,
         "capital_loss": 0,
         "hours_per_week": 45,
         "native_country": "United-States",
         "high_income": ">50K",
         "_deepnote_index_column": 19
        },
        {
         "age": 40,
         "workclass": "Private",
         "fnlwgt": 193524,
         "education": "Doctorate",
         "education_num": 16,
         "marital_status": "Married-civ-spouse",
         "occupation": "Prof-specialty",
         "relationship": "Husband",
         "race": "White",
         "gender": "Male",
         "capital_gain": 0,
         "capital_loss": 0,
         "hours_per_week": 60,
         "native_country": "United-States",
         "high_income": ">50K",
         "_deepnote_index_column": 20
        },
        {
         "age": 54,
         "workclass": "Private",
         "fnlwgt": 302146,
         "education": "HS-grad",
         "education_num": 9,
         "marital_status": "Separated",
         "occupation": "Other-service",
         "relationship": "Unmarried",
         "race": "Black",
         "gender": "Female",
         "capital_gain": 0,
         "capital_loss": 0,
         "hours_per_week": 20,
         "native_country": "United-States",
         "high_income": "<=50K",
         "_deepnote_index_column": 21
        },
        {
         "age": 35,
         "workclass": "Federal-gov",
         "fnlwgt": 76845,
         "education": "9th",
         "education_num": 5,
         "marital_status": "Married-civ-spouse",
         "occupation": "Farming-fishing",
         "relationship": "Husband",
         "race": "Black",
         "gender": "Male",
         "capital_gain": 0,
         "capital_loss": 0,
         "hours_per_week": 40,
         "native_country": "United-States",
         "high_income": "<=50K",
         "_deepnote_index_column": 22
        },
        {
         "age": 43,
         "workclass": "Private",
         "fnlwgt": 117037,
         "education": "11th",
         "education_num": 7,
         "marital_status": "Married-civ-spouse",
         "occupation": "Transport-moving",
         "relationship": "Husband",
         "race": "White",
         "gender": "Male",
         "capital_gain": 0,
         "capital_loss": 2042,
         "hours_per_week": 40,
         "native_country": "United-States",
         "high_income": "<=50K",
         "_deepnote_index_column": 23
        },
        {
         "age": 59,
         "workclass": "Private",
         "fnlwgt": 109015,
         "education": "HS-grad",
         "education_num": 9,
         "marital_status": "Divorced",
         "occupation": "Tech-support",
         "relationship": "Unmarried",
         "race": "White",
         "gender": "Female",
         "capital_gain": 0,
         "capital_loss": 0,
         "hours_per_week": 40,
         "native_country": "United-States",
         "high_income": "<=50K",
         "_deepnote_index_column": 24
        },
        {
         "age": 56,
         "workclass": "Local-gov",
         "fnlwgt": 216851,
         "education": "Bachelors",
         "education_num": 9,
         "marital_status": "Married-civ-spouse",
         "occupation": "Tech-support",
         "relationship": "Husband",
         "race": "White",
         "gender": "Male",
         "capital_gain": 0,
         "capital_loss": 0,
         "hours_per_week": 40,
         "native_country": "United-States",
         "high_income": ">50K",
         "_deepnote_index_column": 25
        },
        {
         "age": 19,
         "workclass": "Private",
         "fnlwgt": 168294,
         "education": "HS-grad",
         "education_num": 9,
         "marital_status": "Never-married",
         "occupation": "Craft-repair",
         "relationship": "Own-child",
         "race": "White",
         "gender": "Male",
         "capital_gain": 0,
         "capital_loss": 0,
         "hours_per_week": 40,
         "native_country": "United-States",
         "high_income": "<=50K",
         "_deepnote_index_column": 26
        },
        {
         "age": 54,
         "workclass": "Private",
         "fnlwgt": 180211,
         "education": "Some-college",
         "education_num": 9,
         "marital_status": "Married-civ-spouse",
         "occupation": "Prof-specialty",
         "relationship": "Husband",
         "race": "White",
         "gender": "Male",
         "capital_gain": 0,
         "capital_loss": 0,
         "hours_per_week": 60,
         "native_country": "South",
         "high_income": ">50K",
         "_deepnote_index_column": 27
        },
        {
         "age": 39,
         "workclass": "Private",
         "fnlwgt": 367260,
         "education": "HS-grad",
         "education_num": 9,
         "marital_status": "Divorced",
         "occupation": "Exec-managerial",
         "relationship": "Not-in-family",
         "race": "White",
         "gender": "Male",
         "capital_gain": 0,
         "capital_loss": 0,
         "hours_per_week": 80,
         "native_country": "United-States",
         "high_income": "<=50K",
         "_deepnote_index_column": 28
        },
        {
         "age": 49,
         "workclass": "Private",
         "fnlwgt": 193366,
         "education": "HS-grad",
         "education_num": 9,
         "marital_status": "Married-civ-spouse",
         "occupation": "Craft-repair",
         "relationship": "Husband",
         "race": "White",
         "gender": "Male",
         "capital_gain": 0,
         "capital_loss": 0,
         "hours_per_week": 40,
         "native_country": "United-States",
         "high_income": "<=50K",
         "_deepnote_index_column": 29
        },
        {
         "age": 23,
         "workclass": "Local-gov",
         "fnlwgt": 190709,
         "education": "Assoc-acdm",
         "education_num": 12,
         "marital_status": "Never-married",
         "occupation": "Protective-serv",
         "relationship": "Not-in-family",
         "race": "White",
         "gender": "Male",
         "capital_gain": 0,
         "capital_loss": 0,
         "hours_per_week": 52,
         "native_country": "United-States",
         "high_income": "<=50K",
         "_deepnote_index_column": 30
        },
        {
         "age": 20,
         "workclass": "Private",
         "fnlwgt": 266015,
         "education": "Some-college",
         "education_num": 10,
         "marital_status": "Never-married",
         "occupation": "Sales",
         "relationship": "Own-child",
         "race": "Black",
         "gender": "Male",
         "capital_gain": 0,
         "capital_loss": 0,
         "hours_per_week": 44,
         "native_country": "United-States",
         "high_income": "<=50K",
         "_deepnote_index_column": 31
        },
        {
         "age": 45,
         "workclass": "Private",
         "fnlwgt": 386940,
         "education": "Bachelors",
         "education_num": 13,
         "marital_status": "Divorced",
         "occupation": "Exec-managerial",
         "relationship": "Own-child",
         "race": "White",
         "gender": "Male",
         "capital_gain": 0,
         "capital_loss": 1408,
         "hours_per_week": 40,
         "native_country": "United-States",
         "high_income": "<=50K",
         "_deepnote_index_column": 32
        }
       ],
       "rows_bottom": [
        {
         "age": 31,
         "workclass": "Private",
         "fnlwgt": 292592,
         "education": "HS-grad",
         "education_num": 9,
         "marital_status": "Married-civ-spouse",
         "occupation": "Machine-op-inspct",
         "relationship": "Wife",
         "race": "White",
         "gender": "Female",
         "capital_gain": 0,
         "capital_loss": 0,
         "hours_per_week": 40,
         "native_country": "United-States",
         "high_income": "<=50K",
         "_deepnote_index_column": 32528
        },
        {
         "age": 29,
         "workclass": "Private",
         "fnlwgt": 125976,
         "education": "HS-grad",
         "education_num": 9,
         "marital_status": "Separated",
         "occupation": "Sales",
         "relationship": "Unmarried",
         "race": "White",
         "gender": "Female",
         "capital_gain": 0,
         "capital_loss": 0,
         "hours_per_week": 35,
         "native_country": "United-States",
         "high_income": "<=50K",
         "_deepnote_index_column": 32529
        },
        {
         "age": 35,
         "workclass": "Private",
         "fnlwgt": 320084,
         "education": "Bachelors",
         "education_num": 13,
         "marital_status": "Married-civ-spouse",
         "occupation": "Prof-specialty",
         "relationship": "Wife",
         "race": "White",
         "gender": "Female",
         "capital_gain": 0,
         "capital_loss": 0,
         "hours_per_week": 55,
         "native_country": "United-States",
         "high_income": ">50K",
         "_deepnote_index_column": 32530
        },
        {
         "age": 30,
         "workclass": "Private",
         "fnlwgt": 33811,
         "education": "Bachelors",
         "education_num": 13,
         "marital_status": "Never-married",
         "occupation": "Prof-specialty",
         "relationship": "Not-in-family",
         "race": "Asian-Pac-Islander",
         "gender": "Female",
         "capital_gain": 0,
         "capital_loss": 0,
         "hours_per_week": 99,
         "native_country": "United-States",
         "high_income": "<=50K",
         "_deepnote_index_column": 32531
        },
        {
         "age": 34,
         "workclass": "Private",
         "fnlwgt": 204461,
         "education": "Doctorate",
         "education_num": 16,
         "marital_status": "Married-civ-spouse",
         "occupation": "Prof-specialty",
         "relationship": "Husband",
         "race": "White",
         "gender": "Male",
         "capital_gain": 0,
         "capital_loss": 0,
         "hours_per_week": 60,
         "native_country": "United-States",
         "high_income": ">50K",
         "_deepnote_index_column": 32532
        },
        {
         "age": 54,
         "workclass": "Private",
         "fnlwgt": 337992,
         "education": "Bachelors",
         "education_num": 13,
         "marital_status": "Married-civ-spouse",
         "occupation": "Exec-managerial",
         "relationship": "Husband",
         "race": "Asian-Pac-Islander",
         "gender": "Male",
         "capital_gain": 0,
         "capital_loss": 0,
         "hours_per_week": 50,
         "native_country": "Japan",
         "high_income": ">50K",
         "_deepnote_index_column": 32533
        },
        {
         "age": 37,
         "workclass": "Private",
         "fnlwgt": 179137,
         "education": "Some-college",
         "education_num": 10,
         "marital_status": "Divorced",
         "occupation": "Adm-clerical",
         "relationship": "Unmarried",
         "race": "White",
         "gender": "Female",
         "capital_gain": 0,
         "capital_loss": 0,
         "hours_per_week": 39,
         "native_country": "United-States",
         "high_income": "<=50K",
         "_deepnote_index_column": 32534
        },
        {
         "age": 22,
         "workclass": "Private",
         "fnlwgt": 325033,
         "education": "12th",
         "education_num": 8,
         "marital_status": "Never-married",
         "occupation": "Protective-serv",
         "relationship": "Own-child",
         "race": "Black",
         "gender": "Male",
         "capital_gain": 0,
         "capital_loss": 0,
         "hours_per_week": 35,
         "native_country": "United-States",
         "high_income": "<=50K",
         "_deepnote_index_column": 32535
        },
        {
         "age": 34,
         "workclass": "Private",
         "fnlwgt": 160216,
         "education": "Bachelors",
         "education_num": 13,
         "marital_status": "Never-married",
         "occupation": "Exec-managerial",
         "relationship": "Not-in-family",
         "race": "White",
         "gender": "Female",
         "capital_gain": 0,
         "capital_loss": 0,
         "hours_per_week": 55,
         "native_country": "United-States",
         "high_income": ">50K",
         "_deepnote_index_column": 32536
        },
        {
         "age": 30,
         "workclass": "Private",
         "fnlwgt": 345898,
         "education": "HS-grad",
         "education_num": 9,
         "marital_status": "Never-married",
         "occupation": "Craft-repair",
         "relationship": "Not-in-family",
         "race": "Black",
         "gender": "Male",
         "capital_gain": 0,
         "capital_loss": 0,
         "hours_per_week": 46,
         "native_country": "United-States",
         "high_income": "<=50K",
         "_deepnote_index_column": 32537
        },
        {
         "age": 38,
         "workclass": "Private",
         "fnlwgt": 139180,
         "education": "Bachelors",
         "education_num": 13,
         "marital_status": "Divorced",
         "occupation": "Prof-specialty",
         "relationship": "Unmarried",
         "race": "Black",
         "gender": "Female",
         "capital_gain": 15020,
         "capital_loss": 0,
         "hours_per_week": 45,
         "native_country": "United-States",
         "high_income": ">50K",
         "_deepnote_index_column": 32538
        },
        {
         "age": 71,
         "workclass": "Private",
         "fnlwgt": 287372,
         "education": "Doctorate",
         "education_num": 16,
         "marital_status": "Married-civ-spouse",
         "occupation": "Prof-specialty",
         "relationship": "Husband",
         "race": "White",
         "gender": "Male",
         "capital_gain": 0,
         "capital_loss": 0,
         "hours_per_week": 10,
         "native_country": "United-States",
         "high_income": ">50K",
         "_deepnote_index_column": 32539
        },
        {
         "age": 45,
         "workclass": "State-gov",
         "fnlwgt": 252208,
         "education": "HS-grad",
         "education_num": 9,
         "marital_status": "Separated",
         "occupation": "Adm-clerical",
         "relationship": "Own-child",
         "race": "White",
         "gender": "Female",
         "capital_gain": 0,
         "capital_loss": 0,
         "hours_per_week": 40,
         "native_country": "United-States",
         "high_income": "<=50K",
         "_deepnote_index_column": 32540
        },
        {
         "age": 41,
         "workclass": "Private",
         "fnlwgt": 202822,
         "education": "HS-grad",
         "education_num": 9,
         "marital_status": "Separated",
         "occupation": "Prof-specialty",
         "relationship": "Not-in-family",
         "race": "Black",
         "gender": "Female",
         "capital_gain": 0,
         "capital_loss": 0,
         "hours_per_week": 32,
         "native_country": "United-States",
         "high_income": "<=50K",
         "_deepnote_index_column": 32541
        },
        {
         "age": 72,
         "workclass": "Private",
         "fnlwgt": 129912,
         "education": "HS-grad",
         "education_num": 9,
         "marital_status": "Married-civ-spouse",
         "occupation": "Prof-specialty",
         "relationship": "Husband",
         "race": "White",
         "gender": "Male",
         "capital_gain": 0,
         "capital_loss": 0,
         "hours_per_week": 25,
         "native_country": "United-States",
         "high_income": "<=50K",
         "_deepnote_index_column": 32542
        },
        {
         "age": 45,
         "workclass": "Local-gov",
         "fnlwgt": 119199,
         "education": "Assoc-acdm",
         "education_num": 12,
         "marital_status": "Divorced",
         "occupation": "Prof-specialty",
         "relationship": "Unmarried",
         "race": "White",
         "gender": "Female",
         "capital_gain": 0,
         "capital_loss": 0,
         "hours_per_week": 48,
         "native_country": "United-States",
         "high_income": "<=50K",
         "_deepnote_index_column": 32543
        },
        {
         "age": 31,
         "workclass": "Private",
         "fnlwgt": 199655,
         "education": "Masters",
         "education_num": 14,
         "marital_status": "Divorced",
         "occupation": "Other-service",
         "relationship": "Not-in-family",
         "race": "Other",
         "gender": "Female",
         "capital_gain": 0,
         "capital_loss": 0,
         "hours_per_week": 30,
         "native_country": "United-States",
         "high_income": "<=50K",
         "_deepnote_index_column": 32544
        },
        {
         "age": 39,
         "workclass": "Local-gov",
         "fnlwgt": 111499,
         "education": "Assoc-acdm",
         "education_num": 12,
         "marital_status": "Married-civ-spouse",
         "occupation": "Adm-clerical",
         "relationship": "Wife",
         "race": "White",
         "gender": "Female",
         "capital_gain": 0,
         "capital_loss": 0,
         "hours_per_week": 20,
         "native_country": "United-States",
         "high_income": ">50K",
         "_deepnote_index_column": 32545
        },
        {
         "age": 37,
         "workclass": "Private",
         "fnlwgt": 198216,
         "education": "Assoc-acdm",
         "education_num": 12,
         "marital_status": "Divorced",
         "occupation": "Tech-support",
         "relationship": "Not-in-family",
         "race": "White",
         "gender": "Female",
         "capital_gain": 0,
         "capital_loss": 0,
         "hours_per_week": 40,
         "native_country": "United-States",
         "high_income": "<=50K",
         "_deepnote_index_column": 32546
        },
        {
         "age": 43,
         "workclass": "Private",
         "fnlwgt": 260761,
         "education": "HS-grad",
         "education_num": 9,
         "marital_status": "Married-civ-spouse",
         "occupation": "Machine-op-inspct",
         "relationship": "Husband",
         "race": "White",
         "gender": "Male",
         "capital_gain": 0,
         "capital_loss": 0,
         "hours_per_week": 40,
         "native_country": "Mexico",
         "high_income": "<=50K",
         "_deepnote_index_column": 32547
        },
        {
         "age": 65,
         "workclass": "Self-emp-not-inc",
         "fnlwgt": 99359,
         "education": "Prof-school",
         "education_num": 15,
         "marital_status": "Never-married",
         "occupation": "Prof-specialty",
         "relationship": "Not-in-family",
         "race": "White",
         "gender": "Male",
         "capital_gain": 1086,
         "capital_loss": 0,
         "hours_per_week": 60,
         "native_country": "United-States",
         "high_income": "<=50K",
         "_deepnote_index_column": 32548
        },
        {
         "age": 43,
         "workclass": "State-gov",
         "fnlwgt": 255835,
         "education": "Some-college",
         "education_num": 10,
         "marital_status": "Divorced",
         "occupation": "Adm-clerical",
         "relationship": "Other-relative",
         "race": "White",
         "gender": "Female",
         "capital_gain": 0,
         "capital_loss": 0,
         "hours_per_week": 40,
         "native_country": "United-States",
         "high_income": "<=50K",
         "_deepnote_index_column": 32549
        },
        {
         "age": 43,
         "workclass": "Self-emp-not-inc",
         "fnlwgt": 27242,
         "education": "Some-college",
         "education_num": 10,
         "marital_status": "Married-civ-spouse",
         "occupation": "Craft-repair",
         "relationship": "Husband",
         "race": "White",
         "gender": "Male",
         "capital_gain": 0,
         "capital_loss": 0,
         "hours_per_week": 50,
         "native_country": "United-States",
         "high_income": "<=50K",
         "_deepnote_index_column": 32550
        },
        {
         "age": 32,
         "workclass": "Private",
         "fnlwgt": 34066,
         "education": "10th",
         "education_num": 6,
         "marital_status": "Married-civ-spouse",
         "occupation": "Handlers-cleaners",
         "relationship": "Husband",
         "race": "Amer-Indian-Eskimo",
         "gender": "Male",
         "capital_gain": 0,
         "capital_loss": 0,
         "hours_per_week": 40,
         "native_country": "United-States",
         "high_income": "<=50K",
         "_deepnote_index_column": 32551
        },
        {
         "age": 43,
         "workclass": "Private",
         "fnlwgt": 84661,
         "education": "Assoc-voc",
         "education_num": 11,
         "marital_status": "Married-civ-spouse",
         "occupation": "Sales",
         "relationship": "Husband",
         "race": "White",
         "gender": "Male",
         "capital_gain": 0,
         "capital_loss": 0,
         "hours_per_week": 45,
         "native_country": "United-States",
         "high_income": "<=50K",
         "_deepnote_index_column": 32552
        },
        {
         "age": 32,
         "workclass": "Private",
         "fnlwgt": 116138,
         "education": "Masters",
         "education_num": 14,
         "marital_status": "Never-married",
         "occupation": "Tech-support",
         "relationship": "Not-in-family",
         "race": "Asian-Pac-Islander",
         "gender": "Male",
         "capital_gain": 0,
         "capital_loss": 0,
         "hours_per_week": 11,
         "native_country": "Taiwan",
         "high_income": "<=50K",
         "_deepnote_index_column": 32553
        },
        {
         "age": 53,
         "workclass": "Private",
         "fnlwgt": 321865,
         "education": "Masters",
         "education_num": 14,
         "marital_status": "Married-civ-spouse",
         "occupation": "Exec-managerial",
         "relationship": "Husband",
         "race": "White",
         "gender": "Male",
         "capital_gain": 0,
         "capital_loss": 0,
         "hours_per_week": 40,
         "native_country": "United-States",
         "high_income": ">50K",
         "_deepnote_index_column": 32554
        },
        {
         "age": 22,
         "workclass": "Private",
         "fnlwgt": 310152,
         "education": "Some-college",
         "education_num": 10,
         "marital_status": "Never-married",
         "occupation": "Protective-serv",
         "relationship": "Not-in-family",
         "race": "White",
         "gender": "Male",
         "capital_gain": 0,
         "capital_loss": 0,
         "hours_per_week": 40,
         "native_country": "United-States",
         "high_income": "<=50K",
         "_deepnote_index_column": 32555
        },
        {
         "age": 27,
         "workclass": "Private",
         "fnlwgt": 257302,
         "education": "Assoc-acdm",
         "education_num": 12,
         "marital_status": "Married-civ-spouse",
         "occupation": "Tech-support",
         "relationship": "Wife",
         "race": "White",
         "gender": "Female",
         "capital_gain": 0,
         "capital_loss": 0,
         "hours_per_week": 38,
         "native_country": "United-States",
         "high_income": "<=50K",
         "_deepnote_index_column": 32556
        },
        {
         "age": 40,
         "workclass": "Private",
         "fnlwgt": 154374,
         "education": "HS-grad",
         "education_num": 9,
         "marital_status": "Married-civ-spouse",
         "occupation": "Machine-op-inspct",
         "relationship": "Husband",
         "race": "White",
         "gender": "Male",
         "capital_gain": 0,
         "capital_loss": 0,
         "hours_per_week": 40,
         "native_country": "United-States",
         "high_income": ">50K",
         "_deepnote_index_column": 32557
        },
        {
         "age": 58,
         "workclass": "Private",
         "fnlwgt": 151910,
         "education": "HS-grad",
         "education_num": 9,
         "marital_status": "Widowed",
         "occupation": "Adm-clerical",
         "relationship": "Unmarried",
         "race": "White",
         "gender": "Female",
         "capital_gain": 0,
         "capital_loss": 0,
         "hours_per_week": 40,
         "native_country": "United-States",
         "high_income": "<=50K",
         "_deepnote_index_column": 32558
        },
        {
         "age": 22,
         "workclass": "Private",
         "fnlwgt": 201490,
         "education": "HS-grad",
         "education_num": 9,
         "marital_status": "Never-married",
         "occupation": "Adm-clerical",
         "relationship": "Own-child",
         "race": "White",
         "gender": "Male",
         "capital_gain": 0,
         "capital_loss": 0,
         "hours_per_week": 20,
         "native_country": "United-States",
         "high_income": "<=50K",
         "_deepnote_index_column": 32559
        },
        {
         "age": 52,
         "workclass": "Self-emp-inc",
         "fnlwgt": 287927,
         "education": "HS-grad",
         "education_num": 9,
         "marital_status": "Married-civ-spouse",
         "occupation": "Exec-managerial",
         "relationship": "Wife",
         "race": "White",
         "gender": "Female",
         "capital_gain": 15024,
         "capital_loss": 0,
         "hours_per_week": 40,
         "native_country": "United-States",
         "high_income": ">50K",
         "_deepnote_index_column": 32560
        }
       ]
      },
      "text/plain": "       age         workclass  fnlwgt   education  education_num  \\\n0       39         State-gov   77516   Bachelors           13.0   \n1       50  Self-emp-not-inc   83311   Bachelors           13.0   \n2       38           Private  215646     HS-grad            9.0   \n3       53           Private  234721        11th            7.0   \n4       28           Private  338409   Bachelors            9.0   \n...    ...               ...     ...         ...            ...   \n32556   27           Private  257302  Assoc-acdm           12.0   \n32557   40           Private  154374     HS-grad            9.0   \n32558   58           Private  151910     HS-grad            9.0   \n32559   22           Private  201490     HS-grad            9.0   \n32560   52      Self-emp-inc  287927     HS-grad            9.0   \n\n           marital_status         occupation   relationship   race  gender  \\\n0           Never-married       Adm-clerical  Not-in-family  White    Male   \n1      Married-civ-spouse    Exec-managerial        Husband  White    Male   \n2                Divorced  Handlers-cleaners  Not-in-family  White    Male   \n3      Married-civ-spouse  Handlers-cleaners        Husband  Black    Male   \n4      Married-civ-spouse     Prof-specialty           Wife  Black  Female   \n...                   ...                ...            ...    ...     ...   \n32556  Married-civ-spouse       Tech-support           Wife  White  Female   \n32557  Married-civ-spouse  Machine-op-inspct        Husband  White    Male   \n32558             Widowed       Adm-clerical      Unmarried  White  Female   \n32559       Never-married       Adm-clerical      Own-child  White    Male   \n32560  Married-civ-spouse    Exec-managerial           Wife  White  Female   \n\n       capital_gain  capital_loss  hours_per_week native_country high_income  \n0              2174             0              40  United-States       <=50K  \n1                 0             0              13  United-States       <=50K  \n2                 0             0              40  United-States       <=50K  \n3                 0             0              40  United-States       <=50K  \n4                 0             0              40           Cuba       <=50K  \n...             ...           ...             ...            ...         ...  \n32556             0             0              38  United-States       <=50K  \n32557             0             0              40  United-States        >50K  \n32558             0             0              40  United-States       <=50K  \n32559             0             0              20  United-States       <=50K  \n32560         15024             0              40  United-States        >50K  \n\n[32561 rows x 15 columns]",
      "text/html": "<div>\n<style scoped>\n    .dataframe tbody tr th:only-of-type {\n        vertical-align: middle;\n    }\n\n    .dataframe tbody tr th {\n        vertical-align: top;\n    }\n\n    .dataframe thead th {\n        text-align: right;\n    }\n</style>\n<table border=\"1\" class=\"dataframe\">\n  <thead>\n    <tr style=\"text-align: right;\">\n      <th></th>\n      <th>age</th>\n      <th>workclass</th>\n      <th>fnlwgt</th>\n      <th>education</th>\n      <th>education_num</th>\n      <th>marital_status</th>\n      <th>occupation</th>\n      <th>relationship</th>\n      <th>race</th>\n      <th>gender</th>\n      <th>capital_gain</th>\n      <th>capital_loss</th>\n      <th>hours_per_week</th>\n      <th>native_country</th>\n      <th>high_income</th>\n    </tr>\n  </thead>\n  <tbody>\n    <tr>\n      <th>0</th>\n      <td>39</td>\n      <td>State-gov</td>\n      <td>77516</td>\n      <td>Bachelors</td>\n      <td>13.0</td>\n      <td>Never-married</td>\n      <td>Adm-clerical</td>\n      <td>Not-in-family</td>\n      <td>White</td>\n      <td>Male</td>\n      <td>2174</td>\n      <td>0</td>\n      <td>40</td>\n      <td>United-States</td>\n      <td>&lt;=50K</td>\n    </tr>\n    <tr>\n      <th>1</th>\n      <td>50</td>\n      <td>Self-emp-not-inc</td>\n      <td>83311</td>\n      <td>Bachelors</td>\n      <td>13.0</td>\n      <td>Married-civ-spouse</td>\n      <td>Exec-managerial</td>\n      <td>Husband</td>\n      <td>White</td>\n      <td>Male</td>\n      <td>0</td>\n      <td>0</td>\n      <td>13</td>\n      <td>United-States</td>\n      <td>&lt;=50K</td>\n    </tr>\n    <tr>\n      <th>2</th>\n      <td>38</td>\n      <td>Private</td>\n      <td>215646</td>\n      <td>HS-grad</td>\n      <td>9.0</td>\n      <td>Divorced</td>\n      <td>Handlers-cleaners</td>\n      <td>Not-in-family</td>\n      <td>White</td>\n      <td>Male</td>\n      <td>0</td>\n      <td>0</td>\n      <td>40</td>\n      <td>United-States</td>\n      <td>&lt;=50K</td>\n    </tr>\n    <tr>\n      <th>3</th>\n      <td>53</td>\n      <td>Private</td>\n      <td>234721</td>\n      <td>11th</td>\n      <td>7.0</td>\n      <td>Married-civ-spouse</td>\n      <td>Handlers-cleaners</td>\n      <td>Husband</td>\n      <td>Black</td>\n      <td>Male</td>\n      <td>0</td>\n      <td>0</td>\n      <td>40</td>\n      <td>United-States</td>\n      <td>&lt;=50K</td>\n    </tr>\n    <tr>\n      <th>4</th>\n      <td>28</td>\n      <td>Private</td>\n      <td>338409</td>\n      <td>Bachelors</td>\n      <td>9.0</td>\n      <td>Married-civ-spouse</td>\n      <td>Prof-specialty</td>\n      <td>Wife</td>\n      <td>Black</td>\n      <td>Female</td>\n      <td>0</td>\n      <td>0</td>\n      <td>40</td>\n      <td>Cuba</td>\n      <td>&lt;=50K</td>\n    </tr>\n    <tr>\n      <th>...</th>\n      <td>...</td>\n      <td>...</td>\n      <td>...</td>\n      <td>...</td>\n      <td>...</td>\n      <td>...</td>\n      <td>...</td>\n      <td>...</td>\n      <td>...</td>\n      <td>...</td>\n      <td>...</td>\n      <td>...</td>\n      <td>...</td>\n      <td>...</td>\n      <td>...</td>\n    </tr>\n    <tr>\n      <th>32556</th>\n      <td>27</td>\n      <td>Private</td>\n      <td>257302</td>\n      <td>Assoc-acdm</td>\n      <td>12.0</td>\n      <td>Married-civ-spouse</td>\n      <td>Tech-support</td>\n      <td>Wife</td>\n      <td>White</td>\n      <td>Female</td>\n      <td>0</td>\n      <td>0</td>\n      <td>38</td>\n      <td>United-States</td>\n      <td>&lt;=50K</td>\n    </tr>\n    <tr>\n      <th>32557</th>\n      <td>40</td>\n      <td>Private</td>\n      <td>154374</td>\n      <td>HS-grad</td>\n      <td>9.0</td>\n      <td>Married-civ-spouse</td>\n      <td>Machine-op-inspct</td>\n      <td>Husband</td>\n      <td>White</td>\n      <td>Male</td>\n      <td>0</td>\n      <td>0</td>\n      <td>40</td>\n      <td>United-States</td>\n      <td>&gt;50K</td>\n    </tr>\n    <tr>\n      <th>32558</th>\n      <td>58</td>\n      <td>Private</td>\n      <td>151910</td>\n      <td>HS-grad</td>\n      <td>9.0</td>\n      <td>Widowed</td>\n      <td>Adm-clerical</td>\n      <td>Unmarried</td>\n      <td>White</td>\n      <td>Female</td>\n      <td>0</td>\n      <td>0</td>\n      <td>40</td>\n      <td>United-States</td>\n      <td>&lt;=50K</td>\n    </tr>\n    <tr>\n      <th>32559</th>\n      <td>22</td>\n      <td>Private</td>\n      <td>201490</td>\n      <td>HS-grad</td>\n      <td>9.0</td>\n      <td>Never-married</td>\n      <td>Adm-clerical</td>\n      <td>Own-child</td>\n      <td>White</td>\n      <td>Male</td>\n      <td>0</td>\n      <td>0</td>\n      <td>20</td>\n      <td>United-States</td>\n      <td>&lt;=50K</td>\n    </tr>\n    <tr>\n      <th>32560</th>\n      <td>52</td>\n      <td>Self-emp-inc</td>\n      <td>287927</td>\n      <td>HS-grad</td>\n      <td>9.0</td>\n      <td>Married-civ-spouse</td>\n      <td>Exec-managerial</td>\n      <td>Wife</td>\n      <td>White</td>\n      <td>Female</td>\n      <td>15024</td>\n      <td>0</td>\n      <td>40</td>\n      <td>United-States</td>\n      <td>&gt;50K</td>\n    </tr>\n  </tbody>\n</table>\n<p>32561 rows × 15 columns</p>\n</div>"
     },
     "metadata": {}
    }
   ]
  },
  {
   "cell_type": "code",
   "metadata": {
    "tags": [],
    "cell_id": "00012-3039b770-8b44-40ef-8d10-09d8d9374144",
    "deepnote_to_be_reexecuted": false,
    "source_hash": "47c8d335",
    "execution_start": 1634293487225,
    "execution_millis": 23,
    "deepnote_cell_type": "code"
   },
   "source": "dataset['race'].value_counts()",
   "execution_count": null,
   "outputs": [
    {
     "output_type": "execute_result",
     "execution_count": 12,
     "data": {
      "text/plain": "White                 27817\nBlack                  3124\nAsian-Pac-Islander     1038\nAmer-Indian-Eskimo      311\nOther                   271\nName: race, dtype: int64"
     },
     "metadata": {}
    }
   ]
  },
  {
   "cell_type": "code",
   "metadata": {
    "tags": [],
    "cell_id": "00013-fe6d972d-23fa-4ff6-8a29-441a8485020a",
    "deepnote_to_be_reexecuted": false,
    "source_hash": "2962cd3a",
    "execution_start": 1634293488008,
    "execution_millis": 14,
    "deepnote_cell_type": "code"
   },
   "source": "dataset['gender'].value_counts()",
   "execution_count": null,
   "outputs": [
    {
     "output_type": "execute_result",
     "execution_count": 13,
     "data": {
      "text/plain": "Male      21790\nFemale    10771\nName: gender, dtype: int64"
     },
     "metadata": {}
    }
   ]
  },
  {
   "cell_type": "code",
   "metadata": {
    "tags": [],
    "cell_id": "00014-90bf3a0e-45b3-4f27-b362-c3fc058347a9",
    "deepnote_to_be_reexecuted": false,
    "source_hash": "71468733",
    "execution_start": 1634293490137,
    "execution_millis": 355,
    "deepnote_cell_type": "code"
   },
   "source": "from sklearn.preprocessing import LabelEncoder\n\ndataset['gender'] = LabelEncoder().fit_transform(dataset['gender'])\ndataset['high_income'] = LabelEncoder().fit_transform(dataset['high_income'])\n\ndataset",
   "execution_count": null,
   "outputs": [
    {
     "output_type": "execute_result",
     "execution_count": 14,
     "data": {
      "application/vnd.deepnote.dataframe.v2+json": {
       "row_count": 32561,
       "column_count": 15,
       "columns": [
        {
         "name": "age",
         "dtype": "int64",
         "stats": {
          "unique_count": 73,
          "nan_count": 0,
          "min": "17",
          "max": "90",
          "histogram": [
           {
            "bin_start": 17,
            "bin_end": 24.3,
            "count": 5570
           },
           {
            "bin_start": 24.3,
            "bin_end": 31.6,
            "count": 5890
           },
           {
            "bin_start": 31.6,
            "bin_end": 38.9,
            "count": 6048
           },
           {
            "bin_start": 38.9,
            "bin_end": 46.2,
            "count": 6163
           },
           {
            "bin_start": 46.2,
            "bin_end": 53.5,
            "count": 3967
           },
           {
            "bin_start": 53.5,
            "bin_end": 60.8,
            "count": 2591
           },
           {
            "bin_start": 60.8,
            "bin_end": 68.1,
            "count": 1595
           },
           {
            "bin_start": 68.1,
            "bin_end": 75.4,
            "count": 496
           },
           {
            "bin_start": 75.4,
            "bin_end": 82.7,
            "count": 174
           },
           {
            "bin_start": 82.7,
            "bin_end": 90,
            "count": 67
           }
          ]
         }
        },
        {
         "name": "workclass",
         "dtype": "object",
         "stats": {
          "unique_count": 8,
          "nan_count": 0,
          "categories": [
           {
            "name": "Private",
            "count": 24532
           },
           {
            "name": "Self-emp-not-inc",
            "count": 2541
           },
           {
            "name": "6 others",
            "count": 5488
           }
          ]
         }
        },
        {
         "name": "fnlwgt",
         "dtype": "int64",
         "stats": {
          "unique_count": 21648,
          "nan_count": 0,
          "min": "12285",
          "max": "1484705",
          "histogram": [
           {
            "bin_start": 12285,
            "bin_end": 159527,
            "count": 13117
           },
           {
            "bin_start": 159527,
            "bin_end": 306769,
            "count": 15327
           },
           {
            "bin_start": 306769,
            "bin_end": 454011,
            "count": 3498
           },
           {
            "bin_start": 454011,
            "bin_end": 601253,
            "count": 477
           },
           {
            "bin_start": 601253,
            "bin_end": 748495,
            "count": 102
           },
           {
            "bin_start": 748495,
            "bin_end": 895737,
            "count": 20
           },
           {
            "bin_start": 895737,
            "bin_end": 1042979,
            "count": 10
           },
           {
            "bin_start": 1042979,
            "bin_end": 1190221,
            "count": 5
           },
           {
            "bin_start": 1190221,
            "bin_end": 1337463,
            "count": 2
           },
           {
            "bin_start": 1337463,
            "bin_end": 1484705,
            "count": 3
           }
          ]
         }
        },
        {
         "name": "education",
         "dtype": "object"
        },
        {
         "name": "education_num",
         "dtype": "float64"
        },
        {
         "name": "marital_status",
         "dtype": "object"
        },
        {
         "name": "occupation",
         "dtype": "object"
        },
        {
         "name": "relationship",
         "dtype": "object"
        },
        {
         "name": "race",
         "dtype": "object"
        },
        {
         "name": "gender",
         "dtype": "int64"
        },
        {
         "name": "capital_gain",
         "dtype": "int64"
        },
        {
         "name": "capital_loss",
         "dtype": "int64"
        },
        {
         "name": "hours_per_week",
         "dtype": "int64"
        },
        {
         "name": "native_country",
         "dtype": "object"
        },
        {
         "name": "high_income",
         "dtype": "int64"
        },
        {
         "name": "_deepnote_index_column",
         "dtype": "int64"
        }
       ],
       "rows_top": [
        {
         "age": 39,
         "workclass": "State-gov",
         "fnlwgt": 77516,
         "education": "Bachelors",
         "education_num": 13,
         "marital_status": "Never-married",
         "occupation": "Adm-clerical",
         "relationship": "Not-in-family",
         "race": "White",
         "gender": 1,
         "capital_gain": 2174,
         "capital_loss": 0,
         "hours_per_week": 40,
         "native_country": "United-States",
         "high_income": 0,
         "_deepnote_index_column": 0
        },
        {
         "age": 50,
         "workclass": "Self-emp-not-inc",
         "fnlwgt": 83311,
         "education": "Bachelors",
         "education_num": 13,
         "marital_status": "Married-civ-spouse",
         "occupation": "Exec-managerial",
         "relationship": "Husband",
         "race": "White",
         "gender": 1,
         "capital_gain": 0,
         "capital_loss": 0,
         "hours_per_week": 13,
         "native_country": "United-States",
         "high_income": 0,
         "_deepnote_index_column": 1
        },
        {
         "age": 38,
         "workclass": "Private",
         "fnlwgt": 215646,
         "education": "HS-grad",
         "education_num": 9,
         "marital_status": "Divorced",
         "occupation": "Handlers-cleaners",
         "relationship": "Not-in-family",
         "race": "White",
         "gender": 1,
         "capital_gain": 0,
         "capital_loss": 0,
         "hours_per_week": 40,
         "native_country": "United-States",
         "high_income": 0,
         "_deepnote_index_column": 2
        },
        {
         "age": 53,
         "workclass": "Private",
         "fnlwgt": 234721,
         "education": "11th",
         "education_num": 7,
         "marital_status": "Married-civ-spouse",
         "occupation": "Handlers-cleaners",
         "relationship": "Husband",
         "race": "Black",
         "gender": 1,
         "capital_gain": 0,
         "capital_loss": 0,
         "hours_per_week": 40,
         "native_country": "United-States",
         "high_income": 0,
         "_deepnote_index_column": 3
        },
        {
         "age": 28,
         "workclass": "Private",
         "fnlwgt": 338409,
         "education": "Bachelors",
         "education_num": 9,
         "marital_status": "Married-civ-spouse",
         "occupation": "Prof-specialty",
         "relationship": "Wife",
         "race": "Black",
         "gender": 0,
         "capital_gain": 0,
         "capital_loss": 0,
         "hours_per_week": 40,
         "native_country": "Cuba",
         "high_income": 0,
         "_deepnote_index_column": 4
        },
        {
         "age": 37,
         "workclass": "Private",
         "fnlwgt": 284582,
         "education": "Masters",
         "education_num": 14,
         "marital_status": "Married-civ-spouse",
         "occupation": "Exec-managerial",
         "relationship": "Wife",
         "race": "White",
         "gender": 0,
         "capital_gain": 0,
         "capital_loss": 0,
         "hours_per_week": 40,
         "native_country": "United-States",
         "high_income": 0,
         "_deepnote_index_column": 5
        },
        {
         "age": 49,
         "workclass": "Private",
         "fnlwgt": 160187,
         "education": "9th",
         "education_num": 5,
         "marital_status": "Married-spouse-absent",
         "occupation": "Other-service",
         "relationship": "Not-in-family",
         "race": "Black",
         "gender": 0,
         "capital_gain": 0,
         "capital_loss": 0,
         "hours_per_week": 16,
         "native_country": "Jamaica",
         "high_income": 0,
         "_deepnote_index_column": 6
        },
        {
         "age": 52,
         "workclass": "Self-emp-not-inc",
         "fnlwgt": 209642,
         "education": "HS-grad",
         "education_num": 9,
         "marital_status": "Married-civ-spouse",
         "occupation": "Exec-managerial",
         "relationship": "Husband",
         "race": "White",
         "gender": 1,
         "capital_gain": 0,
         "capital_loss": 0,
         "hours_per_week": 45,
         "native_country": "United-States",
         "high_income": 1,
         "_deepnote_index_column": 7
        },
        {
         "age": 31,
         "workclass": "Private",
         "fnlwgt": 45781,
         "education": "Masters",
         "education_num": 14,
         "marital_status": "Never-married",
         "occupation": "Prof-specialty",
         "relationship": "Not-in-family",
         "race": "White",
         "gender": 0,
         "capital_gain": 14084,
         "capital_loss": 0,
         "hours_per_week": 50,
         "native_country": "United-States",
         "high_income": 1,
         "_deepnote_index_column": 8
        },
        {
         "age": 42,
         "workclass": "Private",
         "fnlwgt": 159449,
         "education": "Bachelors",
         "education_num": 13,
         "marital_status": "Married-civ-spouse",
         "occupation": "Exec-managerial",
         "relationship": "Husband",
         "race": "White",
         "gender": 1,
         "capital_gain": 5178,
         "capital_loss": 0,
         "hours_per_week": 40,
         "native_country": "United-States",
         "high_income": 1,
         "_deepnote_index_column": 9
        },
        {
         "age": 37,
         "workclass": "Private",
         "fnlwgt": 280464,
         "education": "Some-college",
         "education_num": 10,
         "marital_status": "Married-civ-spouse",
         "occupation": "Exec-managerial",
         "relationship": "Husband",
         "race": "Black",
         "gender": 1,
         "capital_gain": 0,
         "capital_loss": 0,
         "hours_per_week": 80,
         "native_country": "United-States",
         "high_income": 1,
         "_deepnote_index_column": 10
        },
        {
         "age": 30,
         "workclass": "State-gov",
         "fnlwgt": 141297,
         "education": "Bachelors",
         "education_num": 13,
         "marital_status": "Married-civ-spouse",
         "occupation": "Prof-specialty",
         "relationship": "Husband",
         "race": "Asian-Pac-Islander",
         "gender": 1,
         "capital_gain": 0,
         "capital_loss": 0,
         "hours_per_week": 40,
         "native_country": "India",
         "high_income": 1,
         "_deepnote_index_column": 11
        },
        {
         "age": 23,
         "workclass": "Private",
         "fnlwgt": 122272,
         "education": "Bachelors",
         "education_num": 9,
         "marital_status": "Never-married",
         "occupation": "Adm-clerical",
         "relationship": "Own-child",
         "race": "White",
         "gender": 0,
         "capital_gain": 0,
         "capital_loss": 0,
         "hours_per_week": 30,
         "native_country": "United-States",
         "high_income": 0,
         "_deepnote_index_column": 12
        },
        {
         "age": 32,
         "workclass": "Private",
         "fnlwgt": 205019,
         "education": "Assoc-acdm",
         "education_num": 12,
         "marital_status": "Never-married",
         "occupation": "Sales",
         "relationship": "Not-in-family",
         "race": "Black",
         "gender": 1,
         "capital_gain": 0,
         "capital_loss": 0,
         "hours_per_week": 50,
         "native_country": "United-States",
         "high_income": 0,
         "_deepnote_index_column": 13
        },
        {
         "age": 40,
         "workclass": "Private",
         "fnlwgt": 121772,
         "education": "Assoc-voc",
         "education_num": 11,
         "marital_status": "Married-civ-spouse",
         "occupation": "Craft-repair",
         "relationship": "Husband",
         "race": "Asian-Pac-Islander",
         "gender": 1,
         "capital_gain": 0,
         "capital_loss": 0,
         "hours_per_week": 40,
         "native_country": "United-States",
         "high_income": 1,
         "_deepnote_index_column": 14
        },
        {
         "age": 34,
         "workclass": "Private",
         "fnlwgt": 245487,
         "education": "7th-8th",
         "education_num": 4,
         "marital_status": "Married-civ-spouse",
         "occupation": "Transport-moving",
         "relationship": "Husband",
         "race": "Amer-Indian-Eskimo",
         "gender": 1,
         "capital_gain": 0,
         "capital_loss": 0,
         "hours_per_week": 45,
         "native_country": "Mexico",
         "high_income": 0,
         "_deepnote_index_column": 15
        },
        {
         "age": 25,
         "workclass": "Self-emp-not-inc",
         "fnlwgt": 176756,
         "education": "HS-grad",
         "education_num": 9,
         "marital_status": "Never-married",
         "occupation": "Farming-fishing",
         "relationship": "Own-child",
         "race": "White",
         "gender": 1,
         "capital_gain": 0,
         "capital_loss": 0,
         "hours_per_week": 35,
         "native_country": "United-States",
         "high_income": 0,
         "_deepnote_index_column": 16
        },
        {
         "age": 32,
         "workclass": "Private",
         "fnlwgt": 186824,
         "education": "HS-grad",
         "education_num": 9,
         "marital_status": "Never-married",
         "occupation": "Machine-op-inspct",
         "relationship": "Unmarried",
         "race": "White",
         "gender": 1,
         "capital_gain": 0,
         "capital_loss": 0,
         "hours_per_week": 40,
         "native_country": "United-States",
         "high_income": 0,
         "_deepnote_index_column": 17
        },
        {
         "age": 38,
         "workclass": "Private",
         "fnlwgt": 28887,
         "education": "11th",
         "education_num": 7,
         "marital_status": "Married-civ-spouse",
         "occupation": "Sales",
         "relationship": "Husband",
         "race": "White",
         "gender": 1,
         "capital_gain": 0,
         "capital_loss": 0,
         "hours_per_week": 50,
         "native_country": "United-States",
         "high_income": 0,
         "_deepnote_index_column": 18
        },
        {
         "age": 43,
         "workclass": "Self-emp-not-inc",
         "fnlwgt": 292175,
         "education": "Masters",
         "education_num": 14,
         "marital_status": "Divorced",
         "occupation": "Exec-managerial",
         "relationship": "Unmarried",
         "race": "White",
         "gender": 0,
         "capital_gain": 0,
         "capital_loss": 0,
         "hours_per_week": 45,
         "native_country": "United-States",
         "high_income": 1,
         "_deepnote_index_column": 19
        },
        {
         "age": 40,
         "workclass": "Private",
         "fnlwgt": 193524,
         "education": "Doctorate",
         "education_num": 16,
         "marital_status": "Married-civ-spouse",
         "occupation": "Prof-specialty",
         "relationship": "Husband",
         "race": "White",
         "gender": 1,
         "capital_gain": 0,
         "capital_loss": 0,
         "hours_per_week": 60,
         "native_country": "United-States",
         "high_income": 1,
         "_deepnote_index_column": 20
        },
        {
         "age": 54,
         "workclass": "Private",
         "fnlwgt": 302146,
         "education": "HS-grad",
         "education_num": 9,
         "marital_status": "Separated",
         "occupation": "Other-service",
         "relationship": "Unmarried",
         "race": "Black",
         "gender": 0,
         "capital_gain": 0,
         "capital_loss": 0,
         "hours_per_week": 20,
         "native_country": "United-States",
         "high_income": 0,
         "_deepnote_index_column": 21
        },
        {
         "age": 35,
         "workclass": "Federal-gov",
         "fnlwgt": 76845,
         "education": "9th",
         "education_num": 5,
         "marital_status": "Married-civ-spouse",
         "occupation": "Farming-fishing",
         "relationship": "Husband",
         "race": "Black",
         "gender": 1,
         "capital_gain": 0,
         "capital_loss": 0,
         "hours_per_week": 40,
         "native_country": "United-States",
         "high_income": 0,
         "_deepnote_index_column": 22
        },
        {
         "age": 43,
         "workclass": "Private",
         "fnlwgt": 117037,
         "education": "11th",
         "education_num": 7,
         "marital_status": "Married-civ-spouse",
         "occupation": "Transport-moving",
         "relationship": "Husband",
         "race": "White",
         "gender": 1,
         "capital_gain": 0,
         "capital_loss": 2042,
         "hours_per_week": 40,
         "native_country": "United-States",
         "high_income": 0,
         "_deepnote_index_column": 23
        },
        {
         "age": 59,
         "workclass": "Private",
         "fnlwgt": 109015,
         "education": "HS-grad",
         "education_num": 9,
         "marital_status": "Divorced",
         "occupation": "Tech-support",
         "relationship": "Unmarried",
         "race": "White",
         "gender": 0,
         "capital_gain": 0,
         "capital_loss": 0,
         "hours_per_week": 40,
         "native_country": "United-States",
         "high_income": 0,
         "_deepnote_index_column": 24
        },
        {
         "age": 56,
         "workclass": "Local-gov",
         "fnlwgt": 216851,
         "education": "Bachelors",
         "education_num": 9,
         "marital_status": "Married-civ-spouse",
         "occupation": "Tech-support",
         "relationship": "Husband",
         "race": "White",
         "gender": 1,
         "capital_gain": 0,
         "capital_loss": 0,
         "hours_per_week": 40,
         "native_country": "United-States",
         "high_income": 1,
         "_deepnote_index_column": 25
        },
        {
         "age": 19,
         "workclass": "Private",
         "fnlwgt": 168294,
         "education": "HS-grad",
         "education_num": 9,
         "marital_status": "Never-married",
         "occupation": "Craft-repair",
         "relationship": "Own-child",
         "race": "White",
         "gender": 1,
         "capital_gain": 0,
         "capital_loss": 0,
         "hours_per_week": 40,
         "native_country": "United-States",
         "high_income": 0,
         "_deepnote_index_column": 26
        },
        {
         "age": 54,
         "workclass": "Private",
         "fnlwgt": 180211,
         "education": "Some-college",
         "education_num": 9,
         "marital_status": "Married-civ-spouse",
         "occupation": "Prof-specialty",
         "relationship": "Husband",
         "race": "White",
         "gender": 1,
         "capital_gain": 0,
         "capital_loss": 0,
         "hours_per_week": 60,
         "native_country": "South",
         "high_income": 1,
         "_deepnote_index_column": 27
        },
        {
         "age": 39,
         "workclass": "Private",
         "fnlwgt": 367260,
         "education": "HS-grad",
         "education_num": 9,
         "marital_status": "Divorced",
         "occupation": "Exec-managerial",
         "relationship": "Not-in-family",
         "race": "White",
         "gender": 1,
         "capital_gain": 0,
         "capital_loss": 0,
         "hours_per_week": 80,
         "native_country": "United-States",
         "high_income": 0,
         "_deepnote_index_column": 28
        },
        {
         "age": 49,
         "workclass": "Private",
         "fnlwgt": 193366,
         "education": "HS-grad",
         "education_num": 9,
         "marital_status": "Married-civ-spouse",
         "occupation": "Craft-repair",
         "relationship": "Husband",
         "race": "White",
         "gender": 1,
         "capital_gain": 0,
         "capital_loss": 0,
         "hours_per_week": 40,
         "native_country": "United-States",
         "high_income": 0,
         "_deepnote_index_column": 29
        },
        {
         "age": 23,
         "workclass": "Local-gov",
         "fnlwgt": 190709,
         "education": "Assoc-acdm",
         "education_num": 12,
         "marital_status": "Never-married",
         "occupation": "Protective-serv",
         "relationship": "Not-in-family",
         "race": "White",
         "gender": 1,
         "capital_gain": 0,
         "capital_loss": 0,
         "hours_per_week": 52,
         "native_country": "United-States",
         "high_income": 0,
         "_deepnote_index_column": 30
        },
        {
         "age": 20,
         "workclass": "Private",
         "fnlwgt": 266015,
         "education": "Some-college",
         "education_num": 10,
         "marital_status": "Never-married",
         "occupation": "Sales",
         "relationship": "Own-child",
         "race": "Black",
         "gender": 1,
         "capital_gain": 0,
         "capital_loss": 0,
         "hours_per_week": 44,
         "native_country": "United-States",
         "high_income": 0,
         "_deepnote_index_column": 31
        },
        {
         "age": 45,
         "workclass": "Private",
         "fnlwgt": 386940,
         "education": "Bachelors",
         "education_num": 13,
         "marital_status": "Divorced",
         "occupation": "Exec-managerial",
         "relationship": "Own-child",
         "race": "White",
         "gender": 1,
         "capital_gain": 0,
         "capital_loss": 1408,
         "hours_per_week": 40,
         "native_country": "United-States",
         "high_income": 0,
         "_deepnote_index_column": 32
        }
       ],
       "rows_bottom": [
        {
         "age": 31,
         "workclass": "Private",
         "fnlwgt": 292592,
         "education": "HS-grad",
         "education_num": 9,
         "marital_status": "Married-civ-spouse",
         "occupation": "Machine-op-inspct",
         "relationship": "Wife",
         "race": "White",
         "gender": 0,
         "capital_gain": 0,
         "capital_loss": 0,
         "hours_per_week": 40,
         "native_country": "United-States",
         "high_income": 0,
         "_deepnote_index_column": 32528
        },
        {
         "age": 29,
         "workclass": "Private",
         "fnlwgt": 125976,
         "education": "HS-grad",
         "education_num": 9,
         "marital_status": "Separated",
         "occupation": "Sales",
         "relationship": "Unmarried",
         "race": "White",
         "gender": 0,
         "capital_gain": 0,
         "capital_loss": 0,
         "hours_per_week": 35,
         "native_country": "United-States",
         "high_income": 0,
         "_deepnote_index_column": 32529
        },
        {
         "age": 35,
         "workclass": "Private",
         "fnlwgt": 320084,
         "education": "Bachelors",
         "education_num": 13,
         "marital_status": "Married-civ-spouse",
         "occupation": "Prof-specialty",
         "relationship": "Wife",
         "race": "White",
         "gender": 0,
         "capital_gain": 0,
         "capital_loss": 0,
         "hours_per_week": 55,
         "native_country": "United-States",
         "high_income": 1,
         "_deepnote_index_column": 32530
        },
        {
         "age": 30,
         "workclass": "Private",
         "fnlwgt": 33811,
         "education": "Bachelors",
         "education_num": 13,
         "marital_status": "Never-married",
         "occupation": "Prof-specialty",
         "relationship": "Not-in-family",
         "race": "Asian-Pac-Islander",
         "gender": 0,
         "capital_gain": 0,
         "capital_loss": 0,
         "hours_per_week": 99,
         "native_country": "United-States",
         "high_income": 0,
         "_deepnote_index_column": 32531
        },
        {
         "age": 34,
         "workclass": "Private",
         "fnlwgt": 204461,
         "education": "Doctorate",
         "education_num": 16,
         "marital_status": "Married-civ-spouse",
         "occupation": "Prof-specialty",
         "relationship": "Husband",
         "race": "White",
         "gender": 1,
         "capital_gain": 0,
         "capital_loss": 0,
         "hours_per_week": 60,
         "native_country": "United-States",
         "high_income": 1,
         "_deepnote_index_column": 32532
        },
        {
         "age": 54,
         "workclass": "Private",
         "fnlwgt": 337992,
         "education": "Bachelors",
         "education_num": 13,
         "marital_status": "Married-civ-spouse",
         "occupation": "Exec-managerial",
         "relationship": "Husband",
         "race": "Asian-Pac-Islander",
         "gender": 1,
         "capital_gain": 0,
         "capital_loss": 0,
         "hours_per_week": 50,
         "native_country": "Japan",
         "high_income": 1,
         "_deepnote_index_column": 32533
        },
        {
         "age": 37,
         "workclass": "Private",
         "fnlwgt": 179137,
         "education": "Some-college",
         "education_num": 10,
         "marital_status": "Divorced",
         "occupation": "Adm-clerical",
         "relationship": "Unmarried",
         "race": "White",
         "gender": 0,
         "capital_gain": 0,
         "capital_loss": 0,
         "hours_per_week": 39,
         "native_country": "United-States",
         "high_income": 0,
         "_deepnote_index_column": 32534
        },
        {
         "age": 22,
         "workclass": "Private",
         "fnlwgt": 325033,
         "education": "12th",
         "education_num": 8,
         "marital_status": "Never-married",
         "occupation": "Protective-serv",
         "relationship": "Own-child",
         "race": "Black",
         "gender": 1,
         "capital_gain": 0,
         "capital_loss": 0,
         "hours_per_week": 35,
         "native_country": "United-States",
         "high_income": 0,
         "_deepnote_index_column": 32535
        },
        {
         "age": 34,
         "workclass": "Private",
         "fnlwgt": 160216,
         "education": "Bachelors",
         "education_num": 13,
         "marital_status": "Never-married",
         "occupation": "Exec-managerial",
         "relationship": "Not-in-family",
         "race": "White",
         "gender": 0,
         "capital_gain": 0,
         "capital_loss": 0,
         "hours_per_week": 55,
         "native_country": "United-States",
         "high_income": 1,
         "_deepnote_index_column": 32536
        },
        {
         "age": 30,
         "workclass": "Private",
         "fnlwgt": 345898,
         "education": "HS-grad",
         "education_num": 9,
         "marital_status": "Never-married",
         "occupation": "Craft-repair",
         "relationship": "Not-in-family",
         "race": "Black",
         "gender": 1,
         "capital_gain": 0,
         "capital_loss": 0,
         "hours_per_week": 46,
         "native_country": "United-States",
         "high_income": 0,
         "_deepnote_index_column": 32537
        },
        {
         "age": 38,
         "workclass": "Private",
         "fnlwgt": 139180,
         "education": "Bachelors",
         "education_num": 13,
         "marital_status": "Divorced",
         "occupation": "Prof-specialty",
         "relationship": "Unmarried",
         "race": "Black",
         "gender": 0,
         "capital_gain": 15020,
         "capital_loss": 0,
         "hours_per_week": 45,
         "native_country": "United-States",
         "high_income": 1,
         "_deepnote_index_column": 32538
        },
        {
         "age": 71,
         "workclass": "Private",
         "fnlwgt": 287372,
         "education": "Doctorate",
         "education_num": 16,
         "marital_status": "Married-civ-spouse",
         "occupation": "Prof-specialty",
         "relationship": "Husband",
         "race": "White",
         "gender": 1,
         "capital_gain": 0,
         "capital_loss": 0,
         "hours_per_week": 10,
         "native_country": "United-States",
         "high_income": 1,
         "_deepnote_index_column": 32539
        },
        {
         "age": 45,
         "workclass": "State-gov",
         "fnlwgt": 252208,
         "education": "HS-grad",
         "education_num": 9,
         "marital_status": "Separated",
         "occupation": "Adm-clerical",
         "relationship": "Own-child",
         "race": "White",
         "gender": 0,
         "capital_gain": 0,
         "capital_loss": 0,
         "hours_per_week": 40,
         "native_country": "United-States",
         "high_income": 0,
         "_deepnote_index_column": 32540
        },
        {
         "age": 41,
         "workclass": "Private",
         "fnlwgt": 202822,
         "education": "HS-grad",
         "education_num": 9,
         "marital_status": "Separated",
         "occupation": "Prof-specialty",
         "relationship": "Not-in-family",
         "race": "Black",
         "gender": 0,
         "capital_gain": 0,
         "capital_loss": 0,
         "hours_per_week": 32,
         "native_country": "United-States",
         "high_income": 0,
         "_deepnote_index_column": 32541
        },
        {
         "age": 72,
         "workclass": "Private",
         "fnlwgt": 129912,
         "education": "HS-grad",
         "education_num": 9,
         "marital_status": "Married-civ-spouse",
         "occupation": "Prof-specialty",
         "relationship": "Husband",
         "race": "White",
         "gender": 1,
         "capital_gain": 0,
         "capital_loss": 0,
         "hours_per_week": 25,
         "native_country": "United-States",
         "high_income": 0,
         "_deepnote_index_column": 32542
        },
        {
         "age": 45,
         "workclass": "Local-gov",
         "fnlwgt": 119199,
         "education": "Assoc-acdm",
         "education_num": 12,
         "marital_status": "Divorced",
         "occupation": "Prof-specialty",
         "relationship": "Unmarried",
         "race": "White",
         "gender": 0,
         "capital_gain": 0,
         "capital_loss": 0,
         "hours_per_week": 48,
         "native_country": "United-States",
         "high_income": 0,
         "_deepnote_index_column": 32543
        },
        {
         "age": 31,
         "workclass": "Private",
         "fnlwgt": 199655,
         "education": "Masters",
         "education_num": 14,
         "marital_status": "Divorced",
         "occupation": "Other-service",
         "relationship": "Not-in-family",
         "race": "Other",
         "gender": 0,
         "capital_gain": 0,
         "capital_loss": 0,
         "hours_per_week": 30,
         "native_country": "United-States",
         "high_income": 0,
         "_deepnote_index_column": 32544
        },
        {
         "age": 39,
         "workclass": "Local-gov",
         "fnlwgt": 111499,
         "education": "Assoc-acdm",
         "education_num": 12,
         "marital_status": "Married-civ-spouse",
         "occupation": "Adm-clerical",
         "relationship": "Wife",
         "race": "White",
         "gender": 0,
         "capital_gain": 0,
         "capital_loss": 0,
         "hours_per_week": 20,
         "native_country": "United-States",
         "high_income": 1,
         "_deepnote_index_column": 32545
        },
        {
         "age": 37,
         "workclass": "Private",
         "fnlwgt": 198216,
         "education": "Assoc-acdm",
         "education_num": 12,
         "marital_status": "Divorced",
         "occupation": "Tech-support",
         "relationship": "Not-in-family",
         "race": "White",
         "gender": 0,
         "capital_gain": 0,
         "capital_loss": 0,
         "hours_per_week": 40,
         "native_country": "United-States",
         "high_income": 0,
         "_deepnote_index_column": 32546
        },
        {
         "age": 43,
         "workclass": "Private",
         "fnlwgt": 260761,
         "education": "HS-grad",
         "education_num": 9,
         "marital_status": "Married-civ-spouse",
         "occupation": "Machine-op-inspct",
         "relationship": "Husband",
         "race": "White",
         "gender": 1,
         "capital_gain": 0,
         "capital_loss": 0,
         "hours_per_week": 40,
         "native_country": "Mexico",
         "high_income": 0,
         "_deepnote_index_column": 32547
        },
        {
         "age": 65,
         "workclass": "Self-emp-not-inc",
         "fnlwgt": 99359,
         "education": "Prof-school",
         "education_num": 15,
         "marital_status": "Never-married",
         "occupation": "Prof-specialty",
         "relationship": "Not-in-family",
         "race": "White",
         "gender": 1,
         "capital_gain": 1086,
         "capital_loss": 0,
         "hours_per_week": 60,
         "native_country": "United-States",
         "high_income": 0,
         "_deepnote_index_column": 32548
        },
        {
         "age": 43,
         "workclass": "State-gov",
         "fnlwgt": 255835,
         "education": "Some-college",
         "education_num": 10,
         "marital_status": "Divorced",
         "occupation": "Adm-clerical",
         "relationship": "Other-relative",
         "race": "White",
         "gender": 0,
         "capital_gain": 0,
         "capital_loss": 0,
         "hours_per_week": 40,
         "native_country": "United-States",
         "high_income": 0,
         "_deepnote_index_column": 32549
        },
        {
         "age": 43,
         "workclass": "Self-emp-not-inc",
         "fnlwgt": 27242,
         "education": "Some-college",
         "education_num": 10,
         "marital_status": "Married-civ-spouse",
         "occupation": "Craft-repair",
         "relationship": "Husband",
         "race": "White",
         "gender": 1,
         "capital_gain": 0,
         "capital_loss": 0,
         "hours_per_week": 50,
         "native_country": "United-States",
         "high_income": 0,
         "_deepnote_index_column": 32550
        },
        {
         "age": 32,
         "workclass": "Private",
         "fnlwgt": 34066,
         "education": "10th",
         "education_num": 6,
         "marital_status": "Married-civ-spouse",
         "occupation": "Handlers-cleaners",
         "relationship": "Husband",
         "race": "Amer-Indian-Eskimo",
         "gender": 1,
         "capital_gain": 0,
         "capital_loss": 0,
         "hours_per_week": 40,
         "native_country": "United-States",
         "high_income": 0,
         "_deepnote_index_column": 32551
        },
        {
         "age": 43,
         "workclass": "Private",
         "fnlwgt": 84661,
         "education": "Assoc-voc",
         "education_num": 11,
         "marital_status": "Married-civ-spouse",
         "occupation": "Sales",
         "relationship": "Husband",
         "race": "White",
         "gender": 1,
         "capital_gain": 0,
         "capital_loss": 0,
         "hours_per_week": 45,
         "native_country": "United-States",
         "high_income": 0,
         "_deepnote_index_column": 32552
        },
        {
         "age": 32,
         "workclass": "Private",
         "fnlwgt": 116138,
         "education": "Masters",
         "education_num": 14,
         "marital_status": "Never-married",
         "occupation": "Tech-support",
         "relationship": "Not-in-family",
         "race": "Asian-Pac-Islander",
         "gender": 1,
         "capital_gain": 0,
         "capital_loss": 0,
         "hours_per_week": 11,
         "native_country": "Taiwan",
         "high_income": 0,
         "_deepnote_index_column": 32553
        },
        {
         "age": 53,
         "workclass": "Private",
         "fnlwgt": 321865,
         "education": "Masters",
         "education_num": 14,
         "marital_status": "Married-civ-spouse",
         "occupation": "Exec-managerial",
         "relationship": "Husband",
         "race": "White",
         "gender": 1,
         "capital_gain": 0,
         "capital_loss": 0,
         "hours_per_week": 40,
         "native_country": "United-States",
         "high_income": 1,
         "_deepnote_index_column": 32554
        },
        {
         "age": 22,
         "workclass": "Private",
         "fnlwgt": 310152,
         "education": "Some-college",
         "education_num": 10,
         "marital_status": "Never-married",
         "occupation": "Protective-serv",
         "relationship": "Not-in-family",
         "race": "White",
         "gender": 1,
         "capital_gain": 0,
         "capital_loss": 0,
         "hours_per_week": 40,
         "native_country": "United-States",
         "high_income": 0,
         "_deepnote_index_column": 32555
        },
        {
         "age": 27,
         "workclass": "Private",
         "fnlwgt": 257302,
         "education": "Assoc-acdm",
         "education_num": 12,
         "marital_status": "Married-civ-spouse",
         "occupation": "Tech-support",
         "relationship": "Wife",
         "race": "White",
         "gender": 0,
         "capital_gain": 0,
         "capital_loss": 0,
         "hours_per_week": 38,
         "native_country": "United-States",
         "high_income": 0,
         "_deepnote_index_column": 32556
        },
        {
         "age": 40,
         "workclass": "Private",
         "fnlwgt": 154374,
         "education": "HS-grad",
         "education_num": 9,
         "marital_status": "Married-civ-spouse",
         "occupation": "Machine-op-inspct",
         "relationship": "Husband",
         "race": "White",
         "gender": 1,
         "capital_gain": 0,
         "capital_loss": 0,
         "hours_per_week": 40,
         "native_country": "United-States",
         "high_income": 1,
         "_deepnote_index_column": 32557
        },
        {
         "age": 58,
         "workclass": "Private",
         "fnlwgt": 151910,
         "education": "HS-grad",
         "education_num": 9,
         "marital_status": "Widowed",
         "occupation": "Adm-clerical",
         "relationship": "Unmarried",
         "race": "White",
         "gender": 0,
         "capital_gain": 0,
         "capital_loss": 0,
         "hours_per_week": 40,
         "native_country": "United-States",
         "high_income": 0,
         "_deepnote_index_column": 32558
        },
        {
         "age": 22,
         "workclass": "Private",
         "fnlwgt": 201490,
         "education": "HS-grad",
         "education_num": 9,
         "marital_status": "Never-married",
         "occupation": "Adm-clerical",
         "relationship": "Own-child",
         "race": "White",
         "gender": 1,
         "capital_gain": 0,
         "capital_loss": 0,
         "hours_per_week": 20,
         "native_country": "United-States",
         "high_income": 0,
         "_deepnote_index_column": 32559
        },
        {
         "age": 52,
         "workclass": "Self-emp-inc",
         "fnlwgt": 287927,
         "education": "HS-grad",
         "education_num": 9,
         "marital_status": "Married-civ-spouse",
         "occupation": "Exec-managerial",
         "relationship": "Wife",
         "race": "White",
         "gender": 0,
         "capital_gain": 15024,
         "capital_loss": 0,
         "hours_per_week": 40,
         "native_country": "United-States",
         "high_income": 1,
         "_deepnote_index_column": 32560
        }
       ]
      },
      "text/plain": "       age         workclass  fnlwgt   education  education_num  \\\n0       39         State-gov   77516   Bachelors           13.0   \n1       50  Self-emp-not-inc   83311   Bachelors           13.0   \n2       38           Private  215646     HS-grad            9.0   \n3       53           Private  234721        11th            7.0   \n4       28           Private  338409   Bachelors            9.0   \n...    ...               ...     ...         ...            ...   \n32556   27           Private  257302  Assoc-acdm           12.0   \n32557   40           Private  154374     HS-grad            9.0   \n32558   58           Private  151910     HS-grad            9.0   \n32559   22           Private  201490     HS-grad            9.0   \n32560   52      Self-emp-inc  287927     HS-grad            9.0   \n\n           marital_status         occupation   relationship   race  gender  \\\n0           Never-married       Adm-clerical  Not-in-family  White       1   \n1      Married-civ-spouse    Exec-managerial        Husband  White       1   \n2                Divorced  Handlers-cleaners  Not-in-family  White       1   \n3      Married-civ-spouse  Handlers-cleaners        Husband  Black       1   \n4      Married-civ-spouse     Prof-specialty           Wife  Black       0   \n...                   ...                ...            ...    ...     ...   \n32556  Married-civ-spouse       Tech-support           Wife  White       0   \n32557  Married-civ-spouse  Machine-op-inspct        Husband  White       1   \n32558             Widowed       Adm-clerical      Unmarried  White       0   \n32559       Never-married       Adm-clerical      Own-child  White       1   \n32560  Married-civ-spouse    Exec-managerial           Wife  White       0   \n\n       capital_gain  capital_loss  hours_per_week native_country  high_income  \n0              2174             0              40  United-States            0  \n1                 0             0              13  United-States            0  \n2                 0             0              40  United-States            0  \n3                 0             0              40  United-States            0  \n4                 0             0              40           Cuba            0  \n...             ...           ...             ...            ...          ...  \n32556             0             0              38  United-States            0  \n32557             0             0              40  United-States            1  \n32558             0             0              40  United-States            0  \n32559             0             0              20  United-States            0  \n32560         15024             0              40  United-States            1  \n\n[32561 rows x 15 columns]",
      "text/html": "<div>\n<style scoped>\n    .dataframe tbody tr th:only-of-type {\n        vertical-align: middle;\n    }\n\n    .dataframe tbody tr th {\n        vertical-align: top;\n    }\n\n    .dataframe thead th {\n        text-align: right;\n    }\n</style>\n<table border=\"1\" class=\"dataframe\">\n  <thead>\n    <tr style=\"text-align: right;\">\n      <th></th>\n      <th>age</th>\n      <th>workclass</th>\n      <th>fnlwgt</th>\n      <th>education</th>\n      <th>education_num</th>\n      <th>marital_status</th>\n      <th>occupation</th>\n      <th>relationship</th>\n      <th>race</th>\n      <th>gender</th>\n      <th>capital_gain</th>\n      <th>capital_loss</th>\n      <th>hours_per_week</th>\n      <th>native_country</th>\n      <th>high_income</th>\n    </tr>\n  </thead>\n  <tbody>\n    <tr>\n      <th>0</th>\n      <td>39</td>\n      <td>State-gov</td>\n      <td>77516</td>\n      <td>Bachelors</td>\n      <td>13.0</td>\n      <td>Never-married</td>\n      <td>Adm-clerical</td>\n      <td>Not-in-family</td>\n      <td>White</td>\n      <td>1</td>\n      <td>2174</td>\n      <td>0</td>\n      <td>40</td>\n      <td>United-States</td>\n      <td>0</td>\n    </tr>\n    <tr>\n      <th>1</th>\n      <td>50</td>\n      <td>Self-emp-not-inc</td>\n      <td>83311</td>\n      <td>Bachelors</td>\n      <td>13.0</td>\n      <td>Married-civ-spouse</td>\n      <td>Exec-managerial</td>\n      <td>Husband</td>\n      <td>White</td>\n      <td>1</td>\n      <td>0</td>\n      <td>0</td>\n      <td>13</td>\n      <td>United-States</td>\n      <td>0</td>\n    </tr>\n    <tr>\n      <th>2</th>\n      <td>38</td>\n      <td>Private</td>\n      <td>215646</td>\n      <td>HS-grad</td>\n      <td>9.0</td>\n      <td>Divorced</td>\n      <td>Handlers-cleaners</td>\n      <td>Not-in-family</td>\n      <td>White</td>\n      <td>1</td>\n      <td>0</td>\n      <td>0</td>\n      <td>40</td>\n      <td>United-States</td>\n      <td>0</td>\n    </tr>\n    <tr>\n      <th>3</th>\n      <td>53</td>\n      <td>Private</td>\n      <td>234721</td>\n      <td>11th</td>\n      <td>7.0</td>\n      <td>Married-civ-spouse</td>\n      <td>Handlers-cleaners</td>\n      <td>Husband</td>\n      <td>Black</td>\n      <td>1</td>\n      <td>0</td>\n      <td>0</td>\n      <td>40</td>\n      <td>United-States</td>\n      <td>0</td>\n    </tr>\n    <tr>\n      <th>4</th>\n      <td>28</td>\n      <td>Private</td>\n      <td>338409</td>\n      <td>Bachelors</td>\n      <td>9.0</td>\n      <td>Married-civ-spouse</td>\n      <td>Prof-specialty</td>\n      <td>Wife</td>\n      <td>Black</td>\n      <td>0</td>\n      <td>0</td>\n      <td>0</td>\n      <td>40</td>\n      <td>Cuba</td>\n      <td>0</td>\n    </tr>\n    <tr>\n      <th>...</th>\n      <td>...</td>\n      <td>...</td>\n      <td>...</td>\n      <td>...</td>\n      <td>...</td>\n      <td>...</td>\n      <td>...</td>\n      <td>...</td>\n      <td>...</td>\n      <td>...</td>\n      <td>...</td>\n      <td>...</td>\n      <td>...</td>\n      <td>...</td>\n      <td>...</td>\n    </tr>\n    <tr>\n      <th>32556</th>\n      <td>27</td>\n      <td>Private</td>\n      <td>257302</td>\n      <td>Assoc-acdm</td>\n      <td>12.0</td>\n      <td>Married-civ-spouse</td>\n      <td>Tech-support</td>\n      <td>Wife</td>\n      <td>White</td>\n      <td>0</td>\n      <td>0</td>\n      <td>0</td>\n      <td>38</td>\n      <td>United-States</td>\n      <td>0</td>\n    </tr>\n    <tr>\n      <th>32557</th>\n      <td>40</td>\n      <td>Private</td>\n      <td>154374</td>\n      <td>HS-grad</td>\n      <td>9.0</td>\n      <td>Married-civ-spouse</td>\n      <td>Machine-op-inspct</td>\n      <td>Husband</td>\n      <td>White</td>\n      <td>1</td>\n      <td>0</td>\n      <td>0</td>\n      <td>40</td>\n      <td>United-States</td>\n      <td>1</td>\n    </tr>\n    <tr>\n      <th>32558</th>\n      <td>58</td>\n      <td>Private</td>\n      <td>151910</td>\n      <td>HS-grad</td>\n      <td>9.0</td>\n      <td>Widowed</td>\n      <td>Adm-clerical</td>\n      <td>Unmarried</td>\n      <td>White</td>\n      <td>0</td>\n      <td>0</td>\n      <td>0</td>\n      <td>40</td>\n      <td>United-States</td>\n      <td>0</td>\n    </tr>\n    <tr>\n      <th>32559</th>\n      <td>22</td>\n      <td>Private</td>\n      <td>201490</td>\n      <td>HS-grad</td>\n      <td>9.0</td>\n      <td>Never-married</td>\n      <td>Adm-clerical</td>\n      <td>Own-child</td>\n      <td>White</td>\n      <td>1</td>\n      <td>0</td>\n      <td>0</td>\n      <td>20</td>\n      <td>United-States</td>\n      <td>0</td>\n    </tr>\n    <tr>\n      <th>32560</th>\n      <td>52</td>\n      <td>Self-emp-inc</td>\n      <td>287927</td>\n      <td>HS-grad</td>\n      <td>9.0</td>\n      <td>Married-civ-spouse</td>\n      <td>Exec-managerial</td>\n      <td>Wife</td>\n      <td>White</td>\n      <td>0</td>\n      <td>15024</td>\n      <td>0</td>\n      <td>40</td>\n      <td>United-States</td>\n      <td>1</td>\n    </tr>\n  </tbody>\n</table>\n<p>32561 rows × 15 columns</p>\n</div>"
     },
     "metadata": {}
    }
   ]
  },
  {
   "cell_type": "markdown",
   "source": "### OneHot encoding the other categorical columns",
   "metadata": {
    "tags": [],
    "cell_id": "00014-2c58b083-94cc-4965-bca7-284ca8d01d62",
    "deepnote_to_be_reexecuted": false,
    "source_hash": "e027231c",
    "execution_start": 1634292159055,
    "execution_millis": 6,
    "deepnote_cell_type": "markdown"
   }
  },
  {
   "cell_type": "markdown",
   "source": "workclass, education, martial_status, occupation, relationship, native_country, race,",
   "metadata": {
    "tags": [],
    "cell_id": "00020-5807f15f-3825-414a-8cc2-f3f7b336c306",
    "deepnote_to_be_reexecuted": false,
    "source_hash": "ab882a69",
    "execution_start": 1634292194625,
    "execution_millis": 1055,
    "deepnote_cell_type": "markdown"
   }
  },
  {
   "cell_type": "code",
   "metadata": {
    "tags": [],
    "cell_id": "00021-314676f8-9522-4bbd-ad51-d53b21b0c6af",
    "deepnote_to_be_reexecuted": false,
    "source_hash": "b28130b2",
    "execution_start": 1634293495064,
    "execution_millis": 222,
    "deepnote_cell_type": "code"
   },
   "source": "from sklearn.preprocessing import OneHotEncoder\n\ncolumns = ['workclass', 'education', 'marital_status', 'occupation', 'relationship', 'native_country', 'race']\ndataset[columns]",
   "execution_count": null,
   "outputs": [
    {
     "output_type": "execute_result",
     "execution_count": 15,
     "data": {
      "application/vnd.deepnote.dataframe.v2+json": {
       "row_count": 32561,
       "column_count": 7,
       "columns": [
        {
         "name": "workclass",
         "dtype": "object",
         "stats": {
          "unique_count": 8,
          "nan_count": 0,
          "categories": [
           {
            "name": "Private",
            "count": 24532
           },
           {
            "name": "Self-emp-not-inc",
            "count": 2541
           },
           {
            "name": "6 others",
            "count": 5488
           }
          ]
         }
        },
        {
         "name": "education",
         "dtype": "object",
         "stats": {
          "unique_count": 16,
          "nan_count": 0,
          "categories": [
           {
            "name": "HS-grad",
            "count": 10501
           },
           {
            "name": "Some-college",
            "count": 7291
           },
           {
            "name": "14 others",
            "count": 14769
           }
          ]
         }
        },
        {
         "name": "marital_status",
         "dtype": "object",
         "stats": {
          "unique_count": 7,
          "nan_count": 0,
          "categories": [
           {
            "name": "Married-civ-spouse",
            "count": 14976
           },
           {
            "name": "Never-married",
            "count": 10683
           },
           {
            "name": "5 others",
            "count": 6902
           }
          ]
         }
        },
        {
         "name": "occupation",
         "dtype": "object"
        },
        {
         "name": "relationship",
         "dtype": "object"
        },
        {
         "name": "native_country",
         "dtype": "object"
        },
        {
         "name": "race",
         "dtype": "object"
        },
        {
         "name": "_deepnote_index_column",
         "dtype": "int64"
        }
       ],
       "rows_top": [
        {
         "workclass": "State-gov",
         "education": "Bachelors",
         "marital_status": "Never-married",
         "occupation": "Adm-clerical",
         "relationship": "Not-in-family",
         "native_country": "United-States",
         "race": "White",
         "_deepnote_index_column": 0
        },
        {
         "workclass": "Self-emp-not-inc",
         "education": "Bachelors",
         "marital_status": "Married-civ-spouse",
         "occupation": "Exec-managerial",
         "relationship": "Husband",
         "native_country": "United-States",
         "race": "White",
         "_deepnote_index_column": 1
        },
        {
         "workclass": "Private",
         "education": "HS-grad",
         "marital_status": "Divorced",
         "occupation": "Handlers-cleaners",
         "relationship": "Not-in-family",
         "native_country": "United-States",
         "race": "White",
         "_deepnote_index_column": 2
        },
        {
         "workclass": "Private",
         "education": "11th",
         "marital_status": "Married-civ-spouse",
         "occupation": "Handlers-cleaners",
         "relationship": "Husband",
         "native_country": "United-States",
         "race": "Black",
         "_deepnote_index_column": 3
        },
        {
         "workclass": "Private",
         "education": "Bachelors",
         "marital_status": "Married-civ-spouse",
         "occupation": "Prof-specialty",
         "relationship": "Wife",
         "native_country": "Cuba",
         "race": "Black",
         "_deepnote_index_column": 4
        },
        {
         "workclass": "Private",
         "education": "Masters",
         "marital_status": "Married-civ-spouse",
         "occupation": "Exec-managerial",
         "relationship": "Wife",
         "native_country": "United-States",
         "race": "White",
         "_deepnote_index_column": 5
        },
        {
         "workclass": "Private",
         "education": "9th",
         "marital_status": "Married-spouse-absent",
         "occupation": "Other-service",
         "relationship": "Not-in-family",
         "native_country": "Jamaica",
         "race": "Black",
         "_deepnote_index_column": 6
        },
        {
         "workclass": "Self-emp-not-inc",
         "education": "HS-grad",
         "marital_status": "Married-civ-spouse",
         "occupation": "Exec-managerial",
         "relationship": "Husband",
         "native_country": "United-States",
         "race": "White",
         "_deepnote_index_column": 7
        },
        {
         "workclass": "Private",
         "education": "Masters",
         "marital_status": "Never-married",
         "occupation": "Prof-specialty",
         "relationship": "Not-in-family",
         "native_country": "United-States",
         "race": "White",
         "_deepnote_index_column": 8
        },
        {
         "workclass": "Private",
         "education": "Bachelors",
         "marital_status": "Married-civ-spouse",
         "occupation": "Exec-managerial",
         "relationship": "Husband",
         "native_country": "United-States",
         "race": "White",
         "_deepnote_index_column": 9
        },
        {
         "workclass": "Private",
         "education": "Some-college",
         "marital_status": "Married-civ-spouse",
         "occupation": "Exec-managerial",
         "relationship": "Husband",
         "native_country": "United-States",
         "race": "Black",
         "_deepnote_index_column": 10
        },
        {
         "workclass": "State-gov",
         "education": "Bachelors",
         "marital_status": "Married-civ-spouse",
         "occupation": "Prof-specialty",
         "relationship": "Husband",
         "native_country": "India",
         "race": "Asian-Pac-Islander",
         "_deepnote_index_column": 11
        },
        {
         "workclass": "Private",
         "education": "Bachelors",
         "marital_status": "Never-married",
         "occupation": "Adm-clerical",
         "relationship": "Own-child",
         "native_country": "United-States",
         "race": "White",
         "_deepnote_index_column": 12
        },
        {
         "workclass": "Private",
         "education": "Assoc-acdm",
         "marital_status": "Never-married",
         "occupation": "Sales",
         "relationship": "Not-in-family",
         "native_country": "United-States",
         "race": "Black",
         "_deepnote_index_column": 13
        },
        {
         "workclass": "Private",
         "education": "Assoc-voc",
         "marital_status": "Married-civ-spouse",
         "occupation": "Craft-repair",
         "relationship": "Husband",
         "native_country": "United-States",
         "race": "Asian-Pac-Islander",
         "_deepnote_index_column": 14
        },
        {
         "workclass": "Private",
         "education": "7th-8th",
         "marital_status": "Married-civ-spouse",
         "occupation": "Transport-moving",
         "relationship": "Husband",
         "native_country": "Mexico",
         "race": "Amer-Indian-Eskimo",
         "_deepnote_index_column": 15
        },
        {
         "workclass": "Self-emp-not-inc",
         "education": "HS-grad",
         "marital_status": "Never-married",
         "occupation": "Farming-fishing",
         "relationship": "Own-child",
         "native_country": "United-States",
         "race": "White",
         "_deepnote_index_column": 16
        },
        {
         "workclass": "Private",
         "education": "HS-grad",
         "marital_status": "Never-married",
         "occupation": "Machine-op-inspct",
         "relationship": "Unmarried",
         "native_country": "United-States",
         "race": "White",
         "_deepnote_index_column": 17
        },
        {
         "workclass": "Private",
         "education": "11th",
         "marital_status": "Married-civ-spouse",
         "occupation": "Sales",
         "relationship": "Husband",
         "native_country": "United-States",
         "race": "White",
         "_deepnote_index_column": 18
        },
        {
         "workclass": "Self-emp-not-inc",
         "education": "Masters",
         "marital_status": "Divorced",
         "occupation": "Exec-managerial",
         "relationship": "Unmarried",
         "native_country": "United-States",
         "race": "White",
         "_deepnote_index_column": 19
        },
        {
         "workclass": "Private",
         "education": "Doctorate",
         "marital_status": "Married-civ-spouse",
         "occupation": "Prof-specialty",
         "relationship": "Husband",
         "native_country": "United-States",
         "race": "White",
         "_deepnote_index_column": 20
        },
        {
         "workclass": "Private",
         "education": "HS-grad",
         "marital_status": "Separated",
         "occupation": "Other-service",
         "relationship": "Unmarried",
         "native_country": "United-States",
         "race": "Black",
         "_deepnote_index_column": 21
        },
        {
         "workclass": "Federal-gov",
         "education": "9th",
         "marital_status": "Married-civ-spouse",
         "occupation": "Farming-fishing",
         "relationship": "Husband",
         "native_country": "United-States",
         "race": "Black",
         "_deepnote_index_column": 22
        },
        {
         "workclass": "Private",
         "education": "11th",
         "marital_status": "Married-civ-spouse",
         "occupation": "Transport-moving",
         "relationship": "Husband",
         "native_country": "United-States",
         "race": "White",
         "_deepnote_index_column": 23
        },
        {
         "workclass": "Private",
         "education": "HS-grad",
         "marital_status": "Divorced",
         "occupation": "Tech-support",
         "relationship": "Unmarried",
         "native_country": "United-States",
         "race": "White",
         "_deepnote_index_column": 24
        },
        {
         "workclass": "Local-gov",
         "education": "Bachelors",
         "marital_status": "Married-civ-spouse",
         "occupation": "Tech-support",
         "relationship": "Husband",
         "native_country": "United-States",
         "race": "White",
         "_deepnote_index_column": 25
        },
        {
         "workclass": "Private",
         "education": "HS-grad",
         "marital_status": "Never-married",
         "occupation": "Craft-repair",
         "relationship": "Own-child",
         "native_country": "United-States",
         "race": "White",
         "_deepnote_index_column": 26
        },
        {
         "workclass": "Private",
         "education": "Some-college",
         "marital_status": "Married-civ-spouse",
         "occupation": "Prof-specialty",
         "relationship": "Husband",
         "native_country": "South",
         "race": "White",
         "_deepnote_index_column": 27
        },
        {
         "workclass": "Private",
         "education": "HS-grad",
         "marital_status": "Divorced",
         "occupation": "Exec-managerial",
         "relationship": "Not-in-family",
         "native_country": "United-States",
         "race": "White",
         "_deepnote_index_column": 28
        },
        {
         "workclass": "Private",
         "education": "HS-grad",
         "marital_status": "Married-civ-spouse",
         "occupation": "Craft-repair",
         "relationship": "Husband",
         "native_country": "United-States",
         "race": "White",
         "_deepnote_index_column": 29
        },
        {
         "workclass": "Local-gov",
         "education": "Assoc-acdm",
         "marital_status": "Never-married",
         "occupation": "Protective-serv",
         "relationship": "Not-in-family",
         "native_country": "United-States",
         "race": "White",
         "_deepnote_index_column": 30
        },
        {
         "workclass": "Private",
         "education": "Some-college",
         "marital_status": "Never-married",
         "occupation": "Sales",
         "relationship": "Own-child",
         "native_country": "United-States",
         "race": "Black",
         "_deepnote_index_column": 31
        },
        {
         "workclass": "Private",
         "education": "Bachelors",
         "marital_status": "Divorced",
         "occupation": "Exec-managerial",
         "relationship": "Own-child",
         "native_country": "United-States",
         "race": "White",
         "_deepnote_index_column": 32
        },
        {
         "workclass": "Federal-gov",
         "education": "Some-college",
         "marital_status": "Married-civ-spouse",
         "occupation": "Adm-clerical",
         "relationship": "Own-child",
         "native_country": "United-States",
         "race": "White",
         "_deepnote_index_column": 33
        },
        {
         "workclass": "State-gov",
         "education": "Some-college",
         "marital_status": "Married-civ-spouse",
         "occupation": "Other-service",
         "relationship": "Husband",
         "native_country": "United-States",
         "race": "Black",
         "_deepnote_index_column": 34
        },
        {
         "workclass": "Private",
         "education": "11th",
         "marital_status": "Never-married",
         "occupation": "Machine-op-inspct",
         "relationship": "Unmarried",
         "native_country": "Puerto-Rico",
         "race": "White",
         "_deepnote_index_column": 35
        },
        {
         "workclass": "Private",
         "education": "Some-college",
         "marital_status": "Never-married",
         "occupation": "Machine-op-inspct",
         "relationship": "Own-child",
         "native_country": "United-States",
         "race": "White",
         "_deepnote_index_column": 36
        },
        {
         "workclass": "Private",
         "education": "HS-grad",
         "marital_status": "Married-AF-spouse",
         "occupation": "Adm-clerical",
         "relationship": "Wife",
         "native_country": "United-States",
         "race": "White",
         "_deepnote_index_column": 37
        },
        {
         "workclass": "Private",
         "education": "Some-college",
         "marital_status": "Married-civ-spouse",
         "occupation": "Sales",
         "relationship": "Husband",
         "native_country": "United-States",
         "race": "White",
         "_deepnote_index_column": 38
        },
        {
         "workclass": "Self-emp-not-inc",
         "education": "Assoc-acdm",
         "marital_status": "Married-civ-spouse",
         "occupation": "Prof-specialty",
         "relationship": "Husband",
         "native_country": "United-States",
         "race": "White",
         "_deepnote_index_column": 39
        },
        {
         "workclass": "Private",
         "education": "9th",
         "marital_status": "Married-civ-spouse",
         "occupation": "Machine-op-inspct",
         "relationship": "Husband",
         "native_country": "United-States",
         "race": "White",
         "_deepnote_index_column": 40
        },
        {
         "workclass": "Self-emp-not-inc",
         "education": "Bachelors",
         "marital_status": "Married-civ-spouse",
         "occupation": "Prof-specialty",
         "relationship": "Husband",
         "native_country": "United-States",
         "race": "White",
         "_deepnote_index_column": 41
        },
        {
         "workclass": "Private",
         "education": "Bachelors",
         "marital_status": "Married-civ-spouse",
         "occupation": "Tech-support",
         "relationship": "Husband",
         "native_country": "United-States",
         "race": "White",
         "_deepnote_index_column": 42
        },
        {
         "workclass": "Private",
         "education": "HS-grad",
         "marital_status": "Separated",
         "occupation": "Adm-clerical",
         "relationship": "Unmarried",
         "native_country": "United-States",
         "race": "White",
         "_deepnote_index_column": 43
        },
        {
         "workclass": "Private",
         "education": "HS-grad",
         "marital_status": "Never-married",
         "occupation": "Handlers-cleaners",
         "relationship": "Not-in-family",
         "native_country": "United-States",
         "race": "White",
         "_deepnote_index_column": 44
        },
        {
         "workclass": "Federal-gov",
         "education": "Bachelors",
         "marital_status": "Married-civ-spouse",
         "occupation": "Prof-specialty",
         "relationship": "Husband",
         "native_country": "United-States",
         "race": "Black",
         "_deepnote_index_column": 45
        },
        {
         "workclass": "Private",
         "education": "HS-grad",
         "marital_status": "Married-civ-spouse",
         "occupation": "Machine-op-inspct",
         "relationship": "Husband",
         "native_country": "United-States",
         "race": "White",
         "_deepnote_index_column": 46
        },
        {
         "workclass": "Private",
         "education": "Masters",
         "marital_status": "Divorced",
         "occupation": "Exec-managerial",
         "relationship": "Unmarried",
         "native_country": "United-States",
         "race": "White",
         "_deepnote_index_column": 47
        },
        {
         "workclass": "State-gov",
         "education": "Assoc-voc",
         "marital_status": "Married-civ-spouse",
         "occupation": "Craft-repair",
         "relationship": "Husband",
         "native_country": "United-States",
         "race": "White",
         "_deepnote_index_column": 48
        },
        {
         "workclass": "Private",
         "education": "Assoc-voc",
         "marital_status": "Never-married",
         "occupation": "Prof-specialty",
         "relationship": "Not-in-family",
         "native_country": "United-States",
         "race": "White",
         "_deepnote_index_column": 49
        },
        {
         "workclass": "Private",
         "education": "Some-college",
         "marital_status": "Married-civ-spouse",
         "occupation": "Exec-managerial",
         "relationship": "Wife",
         "native_country": "United-States",
         "race": "Other",
         "_deepnote_index_column": 50
        },
        {
         "workclass": "Private",
         "education": "HS-grad",
         "marital_status": "Never-married",
         "occupation": "Other-service",
         "relationship": "Own-child",
         "native_country": "United-States",
         "race": "White",
         "_deepnote_index_column": 51
        },
        {
         "workclass": "Private",
         "education": "Prof-school",
         "marital_status": "Married-civ-spouse",
         "occupation": "Prof-specialty",
         "relationship": "Wife",
         "native_country": "Honduras",
         "race": "White",
         "_deepnote_index_column": 52
        },
        {
         "workclass": "Federal-gov",
         "education": "Bachelors",
         "marital_status": "Divorced",
         "occupation": "Exec-managerial",
         "relationship": "Not-in-family",
         "native_country": "United-States",
         "race": "White",
         "_deepnote_index_column": 53
        },
        {
         "workclass": "Self-emp-inc",
         "education": "HS-grad",
         "marital_status": "Divorced",
         "occupation": "Exec-managerial",
         "relationship": "Not-in-family",
         "native_country": "United-States",
         "race": "White",
         "_deepnote_index_column": 54
        },
        {
         "workclass": "Private",
         "education": "Some-college",
         "marital_status": "Married-civ-spouse",
         "occupation": "Tech-support",
         "relationship": "Husband",
         "native_country": "United-States",
         "race": "White",
         "_deepnote_index_column": 55
        },
        {
         "workclass": "Private",
         "education": "5th-6th",
         "marital_status": "Married-civ-spouse",
         "occupation": "Machine-op-inspct",
         "relationship": "Husband",
         "native_country": "Mexico",
         "race": "White",
         "_deepnote_index_column": 56
        },
        {
         "workclass": "Private",
         "education": "Assoc-voc",
         "marital_status": "Married-civ-spouse",
         "occupation": "Other-service",
         "relationship": "Husband",
         "native_country": "Puerto-Rico",
         "race": "White",
         "_deepnote_index_column": 57
        },
        {
         "workclass": "Private",
         "education": "HS-grad",
         "marital_status": "Married-civ-spouse",
         "occupation": "Adm-clerical",
         "relationship": "Husband",
         "native_country": "United-States",
         "race": "White",
         "_deepnote_index_column": 58
        },
        {
         "workclass": "Private",
         "education": "HS-grad",
         "marital_status": "Married-civ-spouse",
         "occupation": "Machine-op-inspct",
         "relationship": "Husband",
         "native_country": "United-States",
         "race": "White",
         "_deepnote_index_column": 59
        },
        {
         "workclass": "Private",
         "education": "Bachelors",
         "marital_status": "Married-civ-spouse",
         "occupation": "Sales",
         "relationship": "Husband",
         "native_country": "United-States",
         "race": "White",
         "_deepnote_index_column": 60
        },
        {
         "workclass": "Private",
         "education": "7th-8th",
         "marital_status": "Married-spouse-absent",
         "occupation": "Prof-specialty",
         "relationship": "Not-in-family",
         "native_country": "United-States",
         "race": "White",
         "_deepnote_index_column": 61
        },
        {
         "workclass": "Private",
         "education": "HS-grad",
         "marital_status": "Married-civ-spouse",
         "occupation": "Transport-moving",
         "relationship": "Husband",
         "native_country": "United-States",
         "race": "White",
         "_deepnote_index_column": 62
        },
        {
         "workclass": "Private",
         "education": "Doctorate",
         "marital_status": "Married-civ-spouse",
         "occupation": "Prof-specialty",
         "relationship": "Husband",
         "native_country": "United-States",
         "race": "White",
         "_deepnote_index_column": 63
        },
        {
         "workclass": "Private",
         "education": "Some-college",
         "marital_status": "Divorced",
         "occupation": "Tech-support",
         "relationship": "Not-in-family",
         "native_country": "United-States",
         "race": "White",
         "_deepnote_index_column": 64
        },
        {
         "workclass": "Private",
         "education": "HS-grad",
         "marital_status": "Married-civ-spouse",
         "occupation": "Craft-repair",
         "relationship": "Husband",
         "native_country": "United-States",
         "race": "White",
         "_deepnote_index_column": 65
        },
        {
         "workclass": "Private",
         "education": "Some-college",
         "marital_status": "Divorced",
         "occupation": "Adm-clerical",
         "relationship": "Not-in-family",
         "native_country": "United-States",
         "race": "White",
         "_deepnote_index_column": 66
        },
        {
         "workclass": "Private",
         "education": "HS-grad",
         "marital_status": "Married-civ-spouse",
         "occupation": "Adm-clerical",
         "relationship": "Wife",
         "native_country": "United-States",
         "race": "White",
         "_deepnote_index_column": 67
        },
        {
         "workclass": "Self-emp-inc",
         "education": "Some-college",
         "marital_status": "Married-civ-spouse",
         "occupation": "Exec-managerial",
         "relationship": "Husband",
         "native_country": "United-States",
         "race": "White",
         "_deepnote_index_column": 68
        },
        {
         "workclass": "Private",
         "education": "Some-college",
         "marital_status": "Never-married",
         "occupation": "Prof-specialty",
         "relationship": "Own-child",
         "native_country": "United-States",
         "race": "White",
         "_deepnote_index_column": 69
        },
        {
         "workclass": "Private",
         "education": "Some-college",
         "marital_status": "Never-married",
         "occupation": "Prof-specialty",
         "relationship": "Own-child",
         "native_country": "United-States",
         "race": "White",
         "_deepnote_index_column": 70
        }
       ],
       "rows_bottom": [
        {
         "workclass": "Private",
         "education": "9th",
         "marital_status": "Divorced",
         "occupation": "Prof-specialty",
         "relationship": "Not-in-family",
         "native_country": "United-States",
         "race": "Black",
         "_deepnote_index_column": 32490
        },
        {
         "workclass": "Private",
         "education": "HS-grad",
         "marital_status": "Divorced",
         "occupation": "Adm-clerical",
         "relationship": "Unmarried",
         "native_country": "United-States",
         "race": "Black",
         "_deepnote_index_column": 32491
        },
        {
         "workclass": "Self-emp-not-inc",
         "education": "HS-grad",
         "marital_status": "Divorced",
         "occupation": "Sales",
         "relationship": "Own-child",
         "native_country": "United-States",
         "race": "White",
         "_deepnote_index_column": 32492
        },
        {
         "workclass": "Private",
         "education": "11th",
         "marital_status": "Divorced",
         "occupation": "Machine-op-inspct",
         "relationship": "Unmarried",
         "native_country": "United-States",
         "race": "White",
         "_deepnote_index_column": 32493
        },
        {
         "workclass": "Private",
         "education": "HS-grad",
         "marital_status": "Never-married",
         "occupation": "Prof-specialty",
         "relationship": "Not-in-family",
         "native_country": "United-States",
         "race": "White",
         "_deepnote_index_column": 32494
        },
        {
         "workclass": "Private",
         "education": "Some-college",
         "marital_status": "Never-married",
         "occupation": "Craft-repair",
         "relationship": "Not-in-family",
         "native_country": "United-States",
         "race": "White",
         "_deepnote_index_column": 32495
        },
        {
         "workclass": "Private",
         "education": "11th",
         "marital_status": "Never-married",
         "occupation": "Prof-specialty",
         "relationship": "Own-child",
         "native_country": "United-States",
         "race": "White",
         "_deepnote_index_column": 32496
        },
        {
         "workclass": "Private",
         "education": "HS-grad",
         "marital_status": "Never-married",
         "occupation": "Other-service",
         "relationship": "Not-in-family",
         "native_country": "United-States",
         "race": "White",
         "_deepnote_index_column": 32497
        },
        {
         "workclass": "Private",
         "education": "HS-grad",
         "marital_status": "Married-civ-spouse",
         "occupation": "Transport-moving",
         "relationship": "Husband",
         "native_country": "United-States",
         "race": "White",
         "_deepnote_index_column": 32498
        },
        {
         "workclass": "Private",
         "education": "HS-grad",
         "marital_status": "Never-married",
         "occupation": "Craft-repair",
         "relationship": "Other-relative",
         "native_country": "United-States",
         "race": "Black",
         "_deepnote_index_column": 32499
        },
        {
         "workclass": "Private",
         "education": "11th",
         "marital_status": "Divorced",
         "occupation": "Transport-moving",
         "relationship": "Unmarried",
         "native_country": "United-States",
         "race": "White",
         "_deepnote_index_column": 32500
        },
        {
         "workclass": "Private",
         "education": "9th",
         "marital_status": "Married-civ-spouse",
         "occupation": "Other-service",
         "relationship": "Husband",
         "native_country": "United-States",
         "race": "White",
         "_deepnote_index_column": 32501
        },
        {
         "workclass": "Local-gov",
         "education": "Bachelors",
         "marital_status": "Married-civ-spouse",
         "occupation": "Prof-specialty",
         "relationship": "Husband",
         "native_country": "United-States",
         "race": "White",
         "_deepnote_index_column": 32502
        },
        {
         "workclass": "Private",
         "education": "HS-grad",
         "marital_status": "Married-civ-spouse",
         "occupation": "Craft-repair",
         "relationship": "Husband",
         "native_country": "United-States",
         "race": "White",
         "_deepnote_index_column": 32503
        },
        {
         "workclass": "Private",
         "education": "Masters",
         "marital_status": "Divorced",
         "occupation": "Sales",
         "relationship": "Not-in-family",
         "native_country": "United-States",
         "race": "White",
         "_deepnote_index_column": 32504
        },
        {
         "workclass": "Private",
         "education": "10th",
         "marital_status": "Never-married",
         "occupation": "Adm-clerical",
         "relationship": "Not-in-family",
         "native_country": "United-States",
         "race": "Black",
         "_deepnote_index_column": 32505
        },
        {
         "workclass": "Private",
         "education": "Assoc-voc",
         "marital_status": "Married-civ-spouse",
         "occupation": "Craft-repair",
         "relationship": "Husband",
         "native_country": "United-States",
         "race": "White",
         "_deepnote_index_column": 32506
        },
        {
         "workclass": "Private",
         "education": "Bachelors",
         "marital_status": "Married-civ-spouse",
         "occupation": "Prof-specialty",
         "relationship": "Husband",
         "native_country": "United-States",
         "race": "White",
         "_deepnote_index_column": 32507
        },
        {
         "workclass": "Private",
         "education": "10th",
         "marital_status": "Divorced",
         "occupation": "Other-service",
         "relationship": "Not-in-family",
         "native_country": "Dominican-Republic",
         "race": "Black",
         "_deepnote_index_column": 32508
        },
        {
         "workclass": "Private",
         "education": "HS-grad",
         "marital_status": "Separated",
         "occupation": "Sales",
         "relationship": "Not-in-family",
         "native_country": "United-States",
         "race": "White",
         "_deepnote_index_column": 32509
        },
        {
         "workclass": "Private",
         "education": "HS-grad",
         "marital_status": "Married-civ-spouse",
         "occupation": "Prof-specialty",
         "relationship": "Husband",
         "native_country": "United-States",
         "race": "White",
         "_deepnote_index_column": 32510
        },
        {
         "workclass": "Local-gov",
         "education": "Bachelors",
         "marital_status": "Never-married",
         "occupation": "Adm-clerical",
         "relationship": "Own-child",
         "native_country": "United-States",
         "race": "Black",
         "_deepnote_index_column": 32511
        },
        {
         "workclass": "Private",
         "education": "HS-grad",
         "marital_status": "Never-married",
         "occupation": "Machine-op-inspct",
         "relationship": "Own-child",
         "native_country": "United-States",
         "race": "White",
         "_deepnote_index_column": 32512
        },
        {
         "workclass": "Private",
         "education": "Masters",
         "marital_status": "Married-civ-spouse",
         "occupation": "Prof-specialty",
         "relationship": "Wife",
         "native_country": "United-States",
         "race": "White",
         "_deepnote_index_column": 32513
        },
        {
         "workclass": "Private",
         "education": "Assoc-voc",
         "marital_status": "Married-civ-spouse",
         "occupation": "Craft-repair",
         "relationship": "Husband",
         "native_country": "United-States",
         "race": "Black",
         "_deepnote_index_column": 32514
        },
        {
         "workclass": "Federal-gov",
         "education": "10th",
         "marital_status": "Married-civ-spouse",
         "occupation": "Craft-repair",
         "relationship": "Husband",
         "native_country": "United-States",
         "race": "White",
         "_deepnote_index_column": 32515
        },
        {
         "workclass": "Private",
         "education": "Assoc-voc",
         "marital_status": "Divorced",
         "occupation": "Adm-clerical",
         "relationship": "Unmarried",
         "native_country": "United-States",
         "race": "White",
         "_deepnote_index_column": 32516
        },
        {
         "workclass": "Private",
         "education": "7th-8th",
         "marital_status": "Married-civ-spouse",
         "occupation": "Craft-repair",
         "relationship": "Husband",
         "native_country": "United-States",
         "race": "White",
         "_deepnote_index_column": 32517
        },
        {
         "workclass": "Local-gov",
         "education": "HS-grad",
         "marital_status": "Married-civ-spouse",
         "occupation": "Craft-repair",
         "relationship": "Husband",
         "native_country": "United-States",
         "race": "White",
         "_deepnote_index_column": 32518
        },
        {
         "workclass": "Private",
         "education": "Some-college",
         "marital_status": "Married-civ-spouse",
         "occupation": "Exec-managerial",
         "relationship": "Husband",
         "native_country": "United-States",
         "race": "White",
         "_deepnote_index_column": 32519
        },
        {
         "workclass": "Private",
         "education": "HS-grad",
         "marital_status": "Never-married",
         "occupation": "Other-service",
         "relationship": "Unmarried",
         "native_country": "United-States",
         "race": "White",
         "_deepnote_index_column": 32520
        },
        {
         "workclass": "Private",
         "education": "HS-grad",
         "marital_status": "Married-civ-spouse",
         "occupation": "Craft-repair",
         "relationship": "Husband",
         "native_country": "United-States",
         "race": "Black",
         "_deepnote_index_column": 32521
        },
        {
         "workclass": "Private",
         "education": "11th",
         "marital_status": "Married-civ-spouse",
         "occupation": "Sales",
         "relationship": "Husband",
         "native_country": "United-States",
         "race": "White",
         "_deepnote_index_column": 32522
        },
        {
         "workclass": "Private",
         "education": "HS-grad",
         "marital_status": "Divorced",
         "occupation": "Transport-moving",
         "relationship": "Not-in-family",
         "native_country": "United-States",
         "race": "White",
         "_deepnote_index_column": 32523
        },
        {
         "workclass": "Private",
         "education": "Assoc-acdm",
         "marital_status": "Never-married",
         "occupation": "Machine-op-inspct",
         "relationship": "Other-relative",
         "native_country": "United-States",
         "race": "White",
         "_deepnote_index_column": 32524
        },
        {
         "workclass": "Private",
         "education": "Assoc-voc",
         "marital_status": "Divorced",
         "occupation": "Prof-specialty",
         "relationship": "Unmarried",
         "native_country": "United-States",
         "race": "White",
         "_deepnote_index_column": 32525
        },
        {
         "workclass": "Private",
         "education": "10th",
         "marital_status": "Married-civ-spouse",
         "occupation": "Transport-moving",
         "relationship": "Husband",
         "native_country": "United-States",
         "race": "White",
         "_deepnote_index_column": 32526
        },
        {
         "workclass": "Private",
         "education": "Some-college",
         "marital_status": "Never-married",
         "occupation": "Adm-clerical",
         "relationship": "Own-child",
         "native_country": "United-States",
         "race": "White",
         "_deepnote_index_column": 32527
        },
        {
         "workclass": "Private",
         "education": "HS-grad",
         "marital_status": "Married-civ-spouse",
         "occupation": "Machine-op-inspct",
         "relationship": "Wife",
         "native_country": "United-States",
         "race": "White",
         "_deepnote_index_column": 32528
        },
        {
         "workclass": "Private",
         "education": "HS-grad",
         "marital_status": "Separated",
         "occupation": "Sales",
         "relationship": "Unmarried",
         "native_country": "United-States",
         "race": "White",
         "_deepnote_index_column": 32529
        },
        {
         "workclass": "Private",
         "education": "Bachelors",
         "marital_status": "Married-civ-spouse",
         "occupation": "Prof-specialty",
         "relationship": "Wife",
         "native_country": "United-States",
         "race": "White",
         "_deepnote_index_column": 32530
        },
        {
         "workclass": "Private",
         "education": "Bachelors",
         "marital_status": "Never-married",
         "occupation": "Prof-specialty",
         "relationship": "Not-in-family",
         "native_country": "United-States",
         "race": "Asian-Pac-Islander",
         "_deepnote_index_column": 32531
        },
        {
         "workclass": "Private",
         "education": "Doctorate",
         "marital_status": "Married-civ-spouse",
         "occupation": "Prof-specialty",
         "relationship": "Husband",
         "native_country": "United-States",
         "race": "White",
         "_deepnote_index_column": 32532
        },
        {
         "workclass": "Private",
         "education": "Bachelors",
         "marital_status": "Married-civ-spouse",
         "occupation": "Exec-managerial",
         "relationship": "Husband",
         "native_country": "Japan",
         "race": "Asian-Pac-Islander",
         "_deepnote_index_column": 32533
        },
        {
         "workclass": "Private",
         "education": "Some-college",
         "marital_status": "Divorced",
         "occupation": "Adm-clerical",
         "relationship": "Unmarried",
         "native_country": "United-States",
         "race": "White",
         "_deepnote_index_column": 32534
        },
        {
         "workclass": "Private",
         "education": "12th",
         "marital_status": "Never-married",
         "occupation": "Protective-serv",
         "relationship": "Own-child",
         "native_country": "United-States",
         "race": "Black",
         "_deepnote_index_column": 32535
        },
        {
         "workclass": "Private",
         "education": "Bachelors",
         "marital_status": "Never-married",
         "occupation": "Exec-managerial",
         "relationship": "Not-in-family",
         "native_country": "United-States",
         "race": "White",
         "_deepnote_index_column": 32536
        },
        {
         "workclass": "Private",
         "education": "HS-grad",
         "marital_status": "Never-married",
         "occupation": "Craft-repair",
         "relationship": "Not-in-family",
         "native_country": "United-States",
         "race": "Black",
         "_deepnote_index_column": 32537
        },
        {
         "workclass": "Private",
         "education": "Bachelors",
         "marital_status": "Divorced",
         "occupation": "Prof-specialty",
         "relationship": "Unmarried",
         "native_country": "United-States",
         "race": "Black",
         "_deepnote_index_column": 32538
        },
        {
         "workclass": "Private",
         "education": "Doctorate",
         "marital_status": "Married-civ-spouse",
         "occupation": "Prof-specialty",
         "relationship": "Husband",
         "native_country": "United-States",
         "race": "White",
         "_deepnote_index_column": 32539
        },
        {
         "workclass": "State-gov",
         "education": "HS-grad",
         "marital_status": "Separated",
         "occupation": "Adm-clerical",
         "relationship": "Own-child",
         "native_country": "United-States",
         "race": "White",
         "_deepnote_index_column": 32540
        },
        {
         "workclass": "Private",
         "education": "HS-grad",
         "marital_status": "Separated",
         "occupation": "Prof-specialty",
         "relationship": "Not-in-family",
         "native_country": "United-States",
         "race": "Black",
         "_deepnote_index_column": 32541
        },
        {
         "workclass": "Private",
         "education": "HS-grad",
         "marital_status": "Married-civ-spouse",
         "occupation": "Prof-specialty",
         "relationship": "Husband",
         "native_country": "United-States",
         "race": "White",
         "_deepnote_index_column": 32542
        },
        {
         "workclass": "Local-gov",
         "education": "Assoc-acdm",
         "marital_status": "Divorced",
         "occupation": "Prof-specialty",
         "relationship": "Unmarried",
         "native_country": "United-States",
         "race": "White",
         "_deepnote_index_column": 32543
        },
        {
         "workclass": "Private",
         "education": "Masters",
         "marital_status": "Divorced",
         "occupation": "Other-service",
         "relationship": "Not-in-family",
         "native_country": "United-States",
         "race": "Other",
         "_deepnote_index_column": 32544
        },
        {
         "workclass": "Local-gov",
         "education": "Assoc-acdm",
         "marital_status": "Married-civ-spouse",
         "occupation": "Adm-clerical",
         "relationship": "Wife",
         "native_country": "United-States",
         "race": "White",
         "_deepnote_index_column": 32545
        },
        {
         "workclass": "Private",
         "education": "Assoc-acdm",
         "marital_status": "Divorced",
         "occupation": "Tech-support",
         "relationship": "Not-in-family",
         "native_country": "United-States",
         "race": "White",
         "_deepnote_index_column": 32546
        },
        {
         "workclass": "Private",
         "education": "HS-grad",
         "marital_status": "Married-civ-spouse",
         "occupation": "Machine-op-inspct",
         "relationship": "Husband",
         "native_country": "Mexico",
         "race": "White",
         "_deepnote_index_column": 32547
        },
        {
         "workclass": "Self-emp-not-inc",
         "education": "Prof-school",
         "marital_status": "Never-married",
         "occupation": "Prof-specialty",
         "relationship": "Not-in-family",
         "native_country": "United-States",
         "race": "White",
         "_deepnote_index_column": 32548
        },
        {
         "workclass": "State-gov",
         "education": "Some-college",
         "marital_status": "Divorced",
         "occupation": "Adm-clerical",
         "relationship": "Other-relative",
         "native_country": "United-States",
         "race": "White",
         "_deepnote_index_column": 32549
        },
        {
         "workclass": "Self-emp-not-inc",
         "education": "Some-college",
         "marital_status": "Married-civ-spouse",
         "occupation": "Craft-repair",
         "relationship": "Husband",
         "native_country": "United-States",
         "race": "White",
         "_deepnote_index_column": 32550
        },
        {
         "workclass": "Private",
         "education": "10th",
         "marital_status": "Married-civ-spouse",
         "occupation": "Handlers-cleaners",
         "relationship": "Husband",
         "native_country": "United-States",
         "race": "Amer-Indian-Eskimo",
         "_deepnote_index_column": 32551
        },
        {
         "workclass": "Private",
         "education": "Assoc-voc",
         "marital_status": "Married-civ-spouse",
         "occupation": "Sales",
         "relationship": "Husband",
         "native_country": "United-States",
         "race": "White",
         "_deepnote_index_column": 32552
        },
        {
         "workclass": "Private",
         "education": "Masters",
         "marital_status": "Never-married",
         "occupation": "Tech-support",
         "relationship": "Not-in-family",
         "native_country": "Taiwan",
         "race": "Asian-Pac-Islander",
         "_deepnote_index_column": 32553
        },
        {
         "workclass": "Private",
         "education": "Masters",
         "marital_status": "Married-civ-spouse",
         "occupation": "Exec-managerial",
         "relationship": "Husband",
         "native_country": "United-States",
         "race": "White",
         "_deepnote_index_column": 32554
        },
        {
         "workclass": "Private",
         "education": "Some-college",
         "marital_status": "Never-married",
         "occupation": "Protective-serv",
         "relationship": "Not-in-family",
         "native_country": "United-States",
         "race": "White",
         "_deepnote_index_column": 32555
        },
        {
         "workclass": "Private",
         "education": "Assoc-acdm",
         "marital_status": "Married-civ-spouse",
         "occupation": "Tech-support",
         "relationship": "Wife",
         "native_country": "United-States",
         "race": "White",
         "_deepnote_index_column": 32556
        },
        {
         "workclass": "Private",
         "education": "HS-grad",
         "marital_status": "Married-civ-spouse",
         "occupation": "Machine-op-inspct",
         "relationship": "Husband",
         "native_country": "United-States",
         "race": "White",
         "_deepnote_index_column": 32557
        },
        {
         "workclass": "Private",
         "education": "HS-grad",
         "marital_status": "Widowed",
         "occupation": "Adm-clerical",
         "relationship": "Unmarried",
         "native_country": "United-States",
         "race": "White",
         "_deepnote_index_column": 32558
        },
        {
         "workclass": "Private",
         "education": "HS-grad",
         "marital_status": "Never-married",
         "occupation": "Adm-clerical",
         "relationship": "Own-child",
         "native_country": "United-States",
         "race": "White",
         "_deepnote_index_column": 32559
        },
        {
         "workclass": "Self-emp-inc",
         "education": "HS-grad",
         "marital_status": "Married-civ-spouse",
         "occupation": "Exec-managerial",
         "relationship": "Wife",
         "native_country": "United-States",
         "race": "White",
         "_deepnote_index_column": 32560
        }
       ]
      },
      "text/plain": "              workclass   education      marital_status         occupation  \\\n0             State-gov   Bachelors       Never-married       Adm-clerical   \n1      Self-emp-not-inc   Bachelors  Married-civ-spouse    Exec-managerial   \n2               Private     HS-grad            Divorced  Handlers-cleaners   \n3               Private        11th  Married-civ-spouse  Handlers-cleaners   \n4               Private   Bachelors  Married-civ-spouse     Prof-specialty   \n...                 ...         ...                 ...                ...   \n32556           Private  Assoc-acdm  Married-civ-spouse       Tech-support   \n32557           Private     HS-grad  Married-civ-spouse  Machine-op-inspct   \n32558           Private     HS-grad             Widowed       Adm-clerical   \n32559           Private     HS-grad       Never-married       Adm-clerical   \n32560      Self-emp-inc     HS-grad  Married-civ-spouse    Exec-managerial   \n\n        relationship native_country   race  \n0      Not-in-family  United-States  White  \n1            Husband  United-States  White  \n2      Not-in-family  United-States  White  \n3            Husband  United-States  Black  \n4               Wife           Cuba  Black  \n...              ...            ...    ...  \n32556           Wife  United-States  White  \n32557        Husband  United-States  White  \n32558      Unmarried  United-States  White  \n32559      Own-child  United-States  White  \n32560           Wife  United-States  White  \n\n[32561 rows x 7 columns]",
      "text/html": "<div>\n<style scoped>\n    .dataframe tbody tr th:only-of-type {\n        vertical-align: middle;\n    }\n\n    .dataframe tbody tr th {\n        vertical-align: top;\n    }\n\n    .dataframe thead th {\n        text-align: right;\n    }\n</style>\n<table border=\"1\" class=\"dataframe\">\n  <thead>\n    <tr style=\"text-align: right;\">\n      <th></th>\n      <th>workclass</th>\n      <th>education</th>\n      <th>marital_status</th>\n      <th>occupation</th>\n      <th>relationship</th>\n      <th>native_country</th>\n      <th>race</th>\n    </tr>\n  </thead>\n  <tbody>\n    <tr>\n      <th>0</th>\n      <td>State-gov</td>\n      <td>Bachelors</td>\n      <td>Never-married</td>\n      <td>Adm-clerical</td>\n      <td>Not-in-family</td>\n      <td>United-States</td>\n      <td>White</td>\n    </tr>\n    <tr>\n      <th>1</th>\n      <td>Self-emp-not-inc</td>\n      <td>Bachelors</td>\n      <td>Married-civ-spouse</td>\n      <td>Exec-managerial</td>\n      <td>Husband</td>\n      <td>United-States</td>\n      <td>White</td>\n    </tr>\n    <tr>\n      <th>2</th>\n      <td>Private</td>\n      <td>HS-grad</td>\n      <td>Divorced</td>\n      <td>Handlers-cleaners</td>\n      <td>Not-in-family</td>\n      <td>United-States</td>\n      <td>White</td>\n    </tr>\n    <tr>\n      <th>3</th>\n      <td>Private</td>\n      <td>11th</td>\n      <td>Married-civ-spouse</td>\n      <td>Handlers-cleaners</td>\n      <td>Husband</td>\n      <td>United-States</td>\n      <td>Black</td>\n    </tr>\n    <tr>\n      <th>4</th>\n      <td>Private</td>\n      <td>Bachelors</td>\n      <td>Married-civ-spouse</td>\n      <td>Prof-specialty</td>\n      <td>Wife</td>\n      <td>Cuba</td>\n      <td>Black</td>\n    </tr>\n    <tr>\n      <th>...</th>\n      <td>...</td>\n      <td>...</td>\n      <td>...</td>\n      <td>...</td>\n      <td>...</td>\n      <td>...</td>\n      <td>...</td>\n    </tr>\n    <tr>\n      <th>32556</th>\n      <td>Private</td>\n      <td>Assoc-acdm</td>\n      <td>Married-civ-spouse</td>\n      <td>Tech-support</td>\n      <td>Wife</td>\n      <td>United-States</td>\n      <td>White</td>\n    </tr>\n    <tr>\n      <th>32557</th>\n      <td>Private</td>\n      <td>HS-grad</td>\n      <td>Married-civ-spouse</td>\n      <td>Machine-op-inspct</td>\n      <td>Husband</td>\n      <td>United-States</td>\n      <td>White</td>\n    </tr>\n    <tr>\n      <th>32558</th>\n      <td>Private</td>\n      <td>HS-grad</td>\n      <td>Widowed</td>\n      <td>Adm-clerical</td>\n      <td>Unmarried</td>\n      <td>United-States</td>\n      <td>White</td>\n    </tr>\n    <tr>\n      <th>32559</th>\n      <td>Private</td>\n      <td>HS-grad</td>\n      <td>Never-married</td>\n      <td>Adm-clerical</td>\n      <td>Own-child</td>\n      <td>United-States</td>\n      <td>White</td>\n    </tr>\n    <tr>\n      <th>32560</th>\n      <td>Self-emp-inc</td>\n      <td>HS-grad</td>\n      <td>Married-civ-spouse</td>\n      <td>Exec-managerial</td>\n      <td>Wife</td>\n      <td>United-States</td>\n      <td>White</td>\n    </tr>\n  </tbody>\n</table>\n<p>32561 rows × 7 columns</p>\n</div>"
     },
     "metadata": {}
    }
   ]
  },
  {
   "cell_type": "code",
   "metadata": {
    "tags": [],
    "cell_id": "00022-babbfa4f-8c2b-4976-913d-c40a32bb049a",
    "deepnote_to_be_reexecuted": false,
    "source_hash": "cd68ae9c",
    "execution_start": 1634293496562,
    "execution_millis": 109,
    "deepnote_cell_type": "code"
   },
   "source": "data_temp = OneHotEncoder().fit_transform(dataset[columns])",
   "execution_count": null,
   "outputs": []
  },
  {
   "cell_type": "code",
   "metadata": {
    "tags": [],
    "cell_id": "00023-b3995d4e-6704-4eb1-a243-c03ba4c67925",
    "deepnote_to_be_reexecuted": false,
    "source_hash": "65cd6af5",
    "execution_start": 1634293497632,
    "execution_millis": 35,
    "deepnote_cell_type": "code"
   },
   "source": "data_temp = data_temp.toarray()\ndata_temp",
   "execution_count": null,
   "outputs": [
    {
     "output_type": "execute_result",
     "execution_count": 17,
     "data": {
      "text/plain": "array([[0., 0., 0., ..., 0., 0., 1.],\n       [0., 0., 0., ..., 0., 0., 1.],\n       [0., 0., 0., ..., 0., 0., 1.],\n       ...,\n       [0., 0., 0., ..., 0., 0., 1.],\n       [0., 0., 0., ..., 0., 0., 1.],\n       [0., 0., 0., ..., 0., 0., 1.]])"
     },
     "metadata": {}
    }
   ]
  },
  {
   "cell_type": "code",
   "metadata": {
    "tags": [],
    "cell_id": "00024-72247102-df45-493b-9412-3516a14047ea",
    "deepnote_to_be_reexecuted": false,
    "source_hash": "79290cac",
    "execution_start": 1634293511845,
    "execution_millis": 5,
    "deepnote_cell_type": "code"
   },
   "source": "del data_temp",
   "execution_count": null,
   "outputs": []
  },
  {
   "cell_type": "code",
   "metadata": {
    "tags": [],
    "cell_id": "00024-075429ed-148a-4442-b4f8-303a3ab6511e",
    "deepnote_to_be_reexecuted": false,
    "source_hash": "b8fa6306",
    "execution_start": 1634293500338,
    "execution_millis": 2429,
    "deepnote_cell_type": "code"
   },
   "source": "dataset[list(range(97))] = data_temp.astype(np.uint8)",
   "execution_count": null,
   "outputs": []
  },
  {
   "cell_type": "code",
   "metadata": {
    "tags": [],
    "cell_id": "00025-ee2bfa3f-defc-4676-b97e-11c5331ff0b7",
    "deepnote_to_be_reexecuted": false,
    "source_hash": "7170bc05",
    "execution_start": 1634293514628,
    "execution_millis": 450,
    "deepnote_cell_type": "code"
   },
   "source": "dataset = dataset.drop(columns, axis=1)\ndataset",
   "execution_count": null,
   "outputs": [
    {
     "output_type": "execute_result",
     "execution_count": 20,
     "data": {
      "application/vnd.deepnote.dataframe.v2+json": {
       "row_count": 32561,
       "column_count": 105,
       "columns": [
        {
         "name": "age",
         "dtype": "int64",
         "stats": {
          "unique_count": 73,
          "nan_count": 0,
          "min": "17",
          "max": "90",
          "histogram": [
           {
            "bin_start": 17,
            "bin_end": 24.3,
            "count": 5570
           },
           {
            "bin_start": 24.3,
            "bin_end": 31.6,
            "count": 5890
           },
           {
            "bin_start": 31.6,
            "bin_end": 38.9,
            "count": 6048
           },
           {
            "bin_start": 38.9,
            "bin_end": 46.2,
            "count": 6163
           },
           {
            "bin_start": 46.2,
            "bin_end": 53.5,
            "count": 3967
           },
           {
            "bin_start": 53.5,
            "bin_end": 60.8,
            "count": 2591
           },
           {
            "bin_start": 60.8,
            "bin_end": 68.1,
            "count": 1595
           },
           {
            "bin_start": 68.1,
            "bin_end": 75.4,
            "count": 496
           },
           {
            "bin_start": 75.4,
            "bin_end": 82.7,
            "count": 174
           },
           {
            "bin_start": 82.7,
            "bin_end": 90,
            "count": 67
           }
          ]
         }
        },
        {
         "name": "fnlwgt",
         "dtype": "int64",
         "stats": {
          "unique_count": 21648,
          "nan_count": 0,
          "min": "12285",
          "max": "1484705",
          "histogram": [
           {
            "bin_start": 12285,
            "bin_end": 159527,
            "count": 13117
           },
           {
            "bin_start": 159527,
            "bin_end": 306769,
            "count": 15327
           },
           {
            "bin_start": 306769,
            "bin_end": 454011,
            "count": 3498
           },
           {
            "bin_start": 454011,
            "bin_end": 601253,
            "count": 477
           },
           {
            "bin_start": 601253,
            "bin_end": 748495,
            "count": 102
           },
           {
            "bin_start": 748495,
            "bin_end": 895737,
            "count": 20
           },
           {
            "bin_start": 895737,
            "bin_end": 1042979,
            "count": 10
           },
           {
            "bin_start": 1042979,
            "bin_end": 1190221,
            "count": 5
           },
           {
            "bin_start": 1190221,
            "bin_end": 1337463,
            "count": 2
           },
           {
            "bin_start": 1337463,
            "bin_end": 1484705,
            "count": 3
           }
          ]
         }
        },
        {
         "name": "education_num",
         "dtype": "float64",
         "stats": {
          "unique_count": 16,
          "nan_count": 0,
          "min": "1.0",
          "max": "16.0",
          "histogram": [
           {
            "bin_start": 1,
            "bin_end": 2.5,
            "count": 219
           },
           {
            "bin_start": 2.5,
            "bin_end": 4,
            "count": 333
           },
           {
            "bin_start": 4,
            "bin_end": 5.5,
            "count": 1160
           },
           {
            "bin_start": 5.5,
            "bin_end": 7,
            "count": 933
           },
           {
            "bin_start": 7,
            "bin_end": 8.5,
            "count": 1608
           },
           {
            "bin_start": 8.5,
            "bin_end": 10,
            "count": 10505
           },
           {
            "bin_start": 10,
            "bin_end": 11.5,
            "count": 8672
           },
           {
            "bin_start": 11.5,
            "bin_end": 13,
            "count": 1067
           },
           {
            "bin_start": 13,
            "bin_end": 14.5,
            "count": 7075
           },
           {
            "bin_start": 14.5,
            "bin_end": 16,
            "count": 989
           }
          ]
         }
        },
        {
         "name": "gender",
         "dtype": "int64"
        },
        {
         "name": "capital_gain",
         "dtype": "int64"
        },
        {
         "name": "capital_loss",
         "dtype": "int64"
        },
        {
         "name": "hours_per_week",
         "dtype": "int64"
        },
        {
         "name": "high_income",
         "dtype": "int64"
        },
        {
         "name": 0,
         "dtype": "int64"
        },
        {
         "name": 1,
         "dtype": "int64"
        },
        {
         "name": 2,
         "dtype": "int64"
        },
        {
         "name": 3,
         "dtype": "int64"
        },
        {
         "name": 4,
         "dtype": "int64"
        },
        {
         "name": 5,
         "dtype": "int64"
        },
        {
         "name": 6,
         "dtype": "int64"
        },
        {
         "name": 7,
         "dtype": "int64"
        },
        {
         "name": 8,
         "dtype": "int64"
        },
        {
         "name": 9,
         "dtype": "int64"
        },
        {
         "name": 10,
         "dtype": "int64"
        },
        {
         "name": 11,
         "dtype": "int64"
        },
        {
         "name": 12,
         "dtype": "int64"
        },
        {
         "name": 13,
         "dtype": "int64"
        },
        {
         "name": 14,
         "dtype": "int64"
        },
        {
         "name": 15,
         "dtype": "int64"
        },
        {
         "name": 16,
         "dtype": "int64"
        },
        {
         "name": 17,
         "dtype": "int64"
        },
        {
         "name": 18,
         "dtype": "int64"
        },
        {
         "name": 19,
         "dtype": "int64"
        },
        {
         "name": 20,
         "dtype": "int64"
        },
        {
         "name": 21,
         "dtype": "int64"
        },
        {
         "name": 22,
         "dtype": "int64"
        },
        {
         "name": 23,
         "dtype": "int64"
        },
        {
         "name": 24,
         "dtype": "int64"
        },
        {
         "name": 25,
         "dtype": "int64"
        },
        {
         "name": 26,
         "dtype": "int64"
        },
        {
         "name": 27,
         "dtype": "int64"
        },
        {
         "name": 28,
         "dtype": "int64"
        },
        {
         "name": 29,
         "dtype": "int64"
        },
        {
         "name": 30,
         "dtype": "int64"
        },
        {
         "name": 31,
         "dtype": "int64"
        },
        {
         "name": 32,
         "dtype": "int64"
        },
        {
         "name": 33,
         "dtype": "int64"
        },
        {
         "name": 34,
         "dtype": "int64"
        },
        {
         "name": 35,
         "dtype": "int64"
        },
        {
         "name": 36,
         "dtype": "int64"
        },
        {
         "name": 37,
         "dtype": "int64"
        },
        {
         "name": 38,
         "dtype": "int64"
        },
        {
         "name": 39,
         "dtype": "int64"
        },
        {
         "name": 40,
         "dtype": "int64"
        },
        {
         "name": 41,
         "dtype": "int64"
        },
        {
         "name": 42,
         "dtype": "int64"
        },
        {
         "name": 43,
         "dtype": "int64"
        },
        {
         "name": 44,
         "dtype": "int64"
        },
        {
         "name": 45,
         "dtype": "int64"
        },
        {
         "name": 46,
         "dtype": "int64"
        },
        {
         "name": 47,
         "dtype": "int64"
        },
        {
         "name": 48,
         "dtype": "int64"
        },
        {
         "name": 49,
         "dtype": "int64"
        },
        {
         "name": 50,
         "dtype": "int64"
        },
        {
         "name": 51,
         "dtype": "int64"
        },
        {
         "name": 52,
         "dtype": "int64"
        },
        {
         "name": 53,
         "dtype": "int64"
        },
        {
         "name": 54,
         "dtype": "int64"
        },
        {
         "name": 55,
         "dtype": "int64"
        },
        {
         "name": 56,
         "dtype": "int64"
        },
        {
         "name": 57,
         "dtype": "int64"
        },
        {
         "name": 58,
         "dtype": "int64"
        },
        {
         "name": 59,
         "dtype": "int64"
        },
        {
         "name": 60,
         "dtype": "int64"
        },
        {
         "name": 61,
         "dtype": "int64"
        },
        {
         "name": 62,
         "dtype": "int64"
        },
        {
         "name": 63,
         "dtype": "int64"
        },
        {
         "name": 64,
         "dtype": "int64"
        },
        {
         "name": 65,
         "dtype": "int64"
        },
        {
         "name": 66,
         "dtype": "int64"
        },
        {
         "name": 67,
         "dtype": "int64"
        },
        {
         "name": 68,
         "dtype": "int64"
        },
        {
         "name": 69,
         "dtype": "int64"
        },
        {
         "name": 70,
         "dtype": "int64"
        },
        {
         "name": 71,
         "dtype": "int64"
        },
        {
         "name": 72,
         "dtype": "int64"
        },
        {
         "name": 73,
         "dtype": "int64"
        },
        {
         "name": 74,
         "dtype": "int64"
        },
        {
         "name": 75,
         "dtype": "int64"
        },
        {
         "name": 76,
         "dtype": "int64"
        },
        {
         "name": 77,
         "dtype": "int64"
        },
        {
         "name": 78,
         "dtype": "int64"
        },
        {
         "name": 79,
         "dtype": "int64"
        },
        {
         "name": 80,
         "dtype": "int64"
        },
        {
         "name": 81,
         "dtype": "int64"
        },
        {
         "name": 82,
         "dtype": "int64"
        },
        {
         "name": 83,
         "dtype": "int64"
        },
        {
         "name": 84,
         "dtype": "int64"
        },
        {
         "name": 85,
         "dtype": "int64"
        },
        {
         "name": 86,
         "dtype": "int64"
        },
        {
         "name": 87,
         "dtype": "int64"
        },
        {
         "name": 88,
         "dtype": "int64"
        },
        {
         "name": 89,
         "dtype": "int64"
        },
        {
         "name": 90,
         "dtype": "int64"
        },
        {
         "name": 91,
         "dtype": "int64"
        },
        {
         "name": 92,
         "dtype": "int64"
        },
        {
         "name": 93,
         "dtype": "int64"
        },
        {
         "name": 94,
         "dtype": "int64"
        },
        {
         "name": 95,
         "dtype": "int64"
        },
        {
         "name": 96,
         "dtype": "int64"
        },
        {
         "name": "_deepnote_index_column",
         "dtype": "int64"
        }
       ],
       "rows_top": [
        {
         "0": 0,
         "1": 0,
         "2": 0,
         "3": 0,
         "4": 0,
         "5": 0,
         "6": 1,
         "7": 0,
         "8": 0,
         "9": 0,
         "10": 0,
         "11": 0,
         "12": 0,
         "13": 0,
         "14": 0,
         "15": 0,
         "16": 0,
         "17": 1,
         "18": 0,
         "19": 0,
         "20": 0,
         "21": 0,
         "22": 0,
         "23": 0,
         "24": 0,
         "25": 0,
         "26": 0,
         "27": 0,
         "28": 1,
         "29": 0,
         "30": 0,
         "31": 1,
         "32": 0,
         "33": 0,
         "34": 0,
         "35": 0,
         "36": 0,
         "37": 0,
         "38": 0,
         "39": 0,
         "40": 0,
         "41": 0,
         "42": 0,
         "43": 0,
         "44": 0,
         "45": 0,
         "46": 1,
         "47": 0,
         "48": 0,
         "49": 0,
         "50": 0,
         "51": 0,
         "52": 0,
         "53": 0,
         "54": 0,
         "55": 0,
         "56": 0,
         "57": 0,
         "58": 0,
         "59": 0,
         "60": 0,
         "61": 0,
         "62": 0,
         "63": 0,
         "64": 0,
         "65": 0,
         "66": 0,
         "67": 0,
         "68": 0,
         "69": 0,
         "70": 0,
         "71": 0,
         "72": 0,
         "73": 0,
         "74": 0,
         "75": 0,
         "76": 0,
         "77": 0,
         "78": 0,
         "79": 0,
         "80": 0,
         "81": 0,
         "82": 0,
         "83": 0,
         "84": 0,
         "85": 0,
         "86": 0,
         "87": 0,
         "88": 0,
         "89": 1,
         "90": 0,
         "91": 0,
         "92": 0,
         "93": 0,
         "94": 0,
         "95": 0,
         "96": 1,
         "age": 39,
         "fnlwgt": 77516,
         "education_num": 13,
         "gender": 1,
         "capital_gain": 2174,
         "capital_loss": 0,
         "hours_per_week": 40,
         "high_income": 0,
         "_deepnote_index_column": 0
        },
        {
         "0": 0,
         "1": 0,
         "2": 0,
         "3": 0,
         "4": 0,
         "5": 1,
         "6": 0,
         "7": 0,
         "8": 0,
         "9": 0,
         "10": 0,
         "11": 0,
         "12": 0,
         "13": 0,
         "14": 0,
         "15": 0,
         "16": 0,
         "17": 1,
         "18": 0,
         "19": 0,
         "20": 0,
         "21": 0,
         "22": 0,
         "23": 0,
         "24": 0,
         "25": 0,
         "26": 1,
         "27": 0,
         "28": 0,
         "29": 0,
         "30": 0,
         "31": 0,
         "32": 0,
         "33": 0,
         "34": 1,
         "35": 0,
         "36": 0,
         "37": 0,
         "38": 0,
         "39": 0,
         "40": 0,
         "41": 0,
         "42": 0,
         "43": 0,
         "44": 0,
         "45": 1,
         "46": 0,
         "47": 0,
         "48": 0,
         "49": 0,
         "50": 0,
         "51": 0,
         "52": 0,
         "53": 0,
         "54": 0,
         "55": 0,
         "56": 0,
         "57": 0,
         "58": 0,
         "59": 0,
         "60": 0,
         "61": 0,
         "62": 0,
         "63": 0,
         "64": 0,
         "65": 0,
         "66": 0,
         "67": 0,
         "68": 0,
         "69": 0,
         "70": 0,
         "71": 0,
         "72": 0,
         "73": 0,
         "74": 0,
         "75": 0,
         "76": 0,
         "77": 0,
         "78": 0,
         "79": 0,
         "80": 0,
         "81": 0,
         "82": 0,
         "83": 0,
         "84": 0,
         "85": 0,
         "86": 0,
         "87": 0,
         "88": 0,
         "89": 1,
         "90": 0,
         "91": 0,
         "92": 0,
         "93": 0,
         "94": 0,
         "95": 0,
         "96": 1,
         "age": 50,
         "fnlwgt": 83311,
         "education_num": 13,
         "gender": 1,
         "capital_gain": 0,
         "capital_loss": 0,
         "hours_per_week": 13,
         "high_income": 0,
         "_deepnote_index_column": 1
        },
        {
         "0": 0,
         "1": 0,
         "2": 0,
         "3": 1,
         "4": 0,
         "5": 0,
         "6": 0,
         "7": 0,
         "8": 0,
         "9": 0,
         "10": 0,
         "11": 0,
         "12": 0,
         "13": 0,
         "14": 0,
         "15": 0,
         "16": 0,
         "17": 0,
         "18": 0,
         "19": 1,
         "20": 0,
         "21": 0,
         "22": 0,
         "23": 0,
         "24": 1,
         "25": 0,
         "26": 0,
         "27": 0,
         "28": 0,
         "29": 0,
         "30": 0,
         "31": 0,
         "32": 0,
         "33": 0,
         "34": 0,
         "35": 0,
         "36": 1,
         "37": 0,
         "38": 0,
         "39": 0,
         "40": 0,
         "41": 0,
         "42": 0,
         "43": 0,
         "44": 0,
         "45": 0,
         "46": 1,
         "47": 0,
         "48": 0,
         "49": 0,
         "50": 0,
         "51": 0,
         "52": 0,
         "53": 0,
         "54": 0,
         "55": 0,
         "56": 0,
         "57": 0,
         "58": 0,
         "59": 0,
         "60": 0,
         "61": 0,
         "62": 0,
         "63": 0,
         "64": 0,
         "65": 0,
         "66": 0,
         "67": 0,
         "68": 0,
         "69": 0,
         "70": 0,
         "71": 0,
         "72": 0,
         "73": 0,
         "74": 0,
         "75": 0,
         "76": 0,
         "77": 0,
         "78": 0,
         "79": 0,
         "80": 0,
         "81": 0,
         "82": 0,
         "83": 0,
         "84": 0,
         "85": 0,
         "86": 0,
         "87": 0,
         "88": 0,
         "89": 1,
         "90": 0,
         "91": 0,
         "92": 0,
         "93": 0,
         "94": 0,
         "95": 0,
         "96": 1,
         "age": 38,
         "fnlwgt": 215646,
         "education_num": 9,
         "gender": 1,
         "capital_gain": 0,
         "capital_loss": 0,
         "hours_per_week": 40,
         "high_income": 0,
         "_deepnote_index_column": 2
        },
        {
         "0": 0,
         "1": 0,
         "2": 0,
         "3": 1,
         "4": 0,
         "5": 0,
         "6": 0,
         "7": 0,
         "8": 0,
         "9": 1,
         "10": 0,
         "11": 0,
         "12": 0,
         "13": 0,
         "14": 0,
         "15": 0,
         "16": 0,
         "17": 0,
         "18": 0,
         "19": 0,
         "20": 0,
         "21": 0,
         "22": 0,
         "23": 0,
         "24": 0,
         "25": 0,
         "26": 1,
         "27": 0,
         "28": 0,
         "29": 0,
         "30": 0,
         "31": 0,
         "32": 0,
         "33": 0,
         "34": 0,
         "35": 0,
         "36": 1,
         "37": 0,
         "38": 0,
         "39": 0,
         "40": 0,
         "41": 0,
         "42": 0,
         "43": 0,
         "44": 0,
         "45": 1,
         "46": 0,
         "47": 0,
         "48": 0,
         "49": 0,
         "50": 0,
         "51": 0,
         "52": 0,
         "53": 0,
         "54": 0,
         "55": 0,
         "56": 0,
         "57": 0,
         "58": 0,
         "59": 0,
         "60": 0,
         "61": 0,
         "62": 0,
         "63": 0,
         "64": 0,
         "65": 0,
         "66": 0,
         "67": 0,
         "68": 0,
         "69": 0,
         "70": 0,
         "71": 0,
         "72": 0,
         "73": 0,
         "74": 0,
         "75": 0,
         "76": 0,
         "77": 0,
         "78": 0,
         "79": 0,
         "80": 0,
         "81": 0,
         "82": 0,
         "83": 0,
         "84": 0,
         "85": 0,
         "86": 0,
         "87": 0,
         "88": 0,
         "89": 1,
         "90": 0,
         "91": 0,
         "92": 0,
         "93": 0,
         "94": 1,
         "95": 0,
         "96": 0,
         "age": 53,
         "fnlwgt": 234721,
         "education_num": 7,
         "gender": 1,
         "capital_gain": 0,
         "capital_loss": 0,
         "hours_per_week": 40,
         "high_income": 0,
         "_deepnote_index_column": 3
        }
       ],
       "rows_bottom": [
        {
         "0": 0,
         "1": 0,
         "2": 0,
         "3": 1,
         "4": 0,
         "5": 0,
         "6": 0,
         "7": 0,
         "8": 0,
         "9": 0,
         "10": 0,
         "11": 0,
         "12": 0,
         "13": 0,
         "14": 0,
         "15": 1,
         "16": 0,
         "17": 0,
         "18": 0,
         "19": 0,
         "20": 0,
         "21": 0,
         "22": 0,
         "23": 0,
         "24": 0,
         "25": 0,
         "26": 1,
         "27": 0,
         "28": 0,
         "29": 0,
         "30": 0,
         "31": 0,
         "32": 0,
         "33": 0,
         "34": 0,
         "35": 0,
         "36": 0,
         "37": 0,
         "38": 0,
         "39": 0,
         "40": 0,
         "41": 0,
         "42": 0,
         "43": 1,
         "44": 0,
         "45": 0,
         "46": 0,
         "47": 0,
         "48": 0,
         "49": 0,
         "50": 1,
         "51": 0,
         "52": 0,
         "53": 0,
         "54": 0,
         "55": 0,
         "56": 0,
         "57": 0,
         "58": 0,
         "59": 0,
         "60": 0,
         "61": 0,
         "62": 0,
         "63": 0,
         "64": 0,
         "65": 0,
         "66": 0,
         "67": 0,
         "68": 0,
         "69": 0,
         "70": 0,
         "71": 0,
         "72": 0,
         "73": 0,
         "74": 0,
         "75": 0,
         "76": 0,
         "77": 0,
         "78": 0,
         "79": 0,
         "80": 0,
         "81": 0,
         "82": 0,
         "83": 0,
         "84": 0,
         "85": 0,
         "86": 0,
         "87": 0,
         "88": 0,
         "89": 1,
         "90": 0,
         "91": 0,
         "92": 0,
         "93": 0,
         "94": 0,
         "95": 0,
         "96": 1,
         "age": 27,
         "fnlwgt": 257302,
         "education_num": 12,
         "gender": 0,
         "capital_gain": 0,
         "capital_loss": 0,
         "hours_per_week": 38,
         "high_income": 0,
         "_deepnote_index_column": 32556
        },
        {
         "0": 0,
         "1": 0,
         "2": 0,
         "3": 1,
         "4": 0,
         "5": 0,
         "6": 0,
         "7": 0,
         "8": 0,
         "9": 0,
         "10": 0,
         "11": 0,
         "12": 0,
         "13": 0,
         "14": 0,
         "15": 0,
         "16": 0,
         "17": 0,
         "18": 0,
         "19": 1,
         "20": 0,
         "21": 0,
         "22": 0,
         "23": 0,
         "24": 0,
         "25": 0,
         "26": 1,
         "27": 0,
         "28": 0,
         "29": 0,
         "30": 0,
         "31": 0,
         "32": 0,
         "33": 0,
         "34": 0,
         "35": 0,
         "36": 0,
         "37": 1,
         "38": 0,
         "39": 0,
         "40": 0,
         "41": 0,
         "42": 0,
         "43": 0,
         "44": 0,
         "45": 1,
         "46": 0,
         "47": 0,
         "48": 0,
         "49": 0,
         "50": 0,
         "51": 0,
         "52": 0,
         "53": 0,
         "54": 0,
         "55": 0,
         "56": 0,
         "57": 0,
         "58": 0,
         "59": 0,
         "60": 0,
         "61": 0,
         "62": 0,
         "63": 0,
         "64": 0,
         "65": 0,
         "66": 0,
         "67": 0,
         "68": 0,
         "69": 0,
         "70": 0,
         "71": 0,
         "72": 0,
         "73": 0,
         "74": 0,
         "75": 0,
         "76": 0,
         "77": 0,
         "78": 0,
         "79": 0,
         "80": 0,
         "81": 0,
         "82": 0,
         "83": 0,
         "84": 0,
         "85": 0,
         "86": 0,
         "87": 0,
         "88": 0,
         "89": 1,
         "90": 0,
         "91": 0,
         "92": 0,
         "93": 0,
         "94": 0,
         "95": 0,
         "96": 1,
         "age": 40,
         "fnlwgt": 154374,
         "education_num": 9,
         "gender": 1,
         "capital_gain": 0,
         "capital_loss": 0,
         "hours_per_week": 40,
         "high_income": 1,
         "_deepnote_index_column": 32557
        },
        {
         "0": 0,
         "1": 0,
         "2": 0,
         "3": 1,
         "4": 0,
         "5": 0,
         "6": 0,
         "7": 0,
         "8": 0,
         "9": 0,
         "10": 0,
         "11": 0,
         "12": 0,
         "13": 0,
         "14": 0,
         "15": 0,
         "16": 0,
         "17": 0,
         "18": 0,
         "19": 1,
         "20": 0,
         "21": 0,
         "22": 0,
         "23": 0,
         "24": 0,
         "25": 0,
         "26": 0,
         "27": 0,
         "28": 0,
         "29": 0,
         "30": 1,
         "31": 1,
         "32": 0,
         "33": 0,
         "34": 0,
         "35": 0,
         "36": 0,
         "37": 0,
         "38": 0,
         "39": 0,
         "40": 0,
         "41": 0,
         "42": 0,
         "43": 0,
         "44": 0,
         "45": 0,
         "46": 0,
         "47": 0,
         "48": 0,
         "49": 1,
         "50": 0,
         "51": 0,
         "52": 0,
         "53": 0,
         "54": 0,
         "55": 0,
         "56": 0,
         "57": 0,
         "58": 0,
         "59": 0,
         "60": 0,
         "61": 0,
         "62": 0,
         "63": 0,
         "64": 0,
         "65": 0,
         "66": 0,
         "67": 0,
         "68": 0,
         "69": 0,
         "70": 0,
         "71": 0,
         "72": 0,
         "73": 0,
         "74": 0,
         "75": 0,
         "76": 0,
         "77": 0,
         "78": 0,
         "79": 0,
         "80": 0,
         "81": 0,
         "82": 0,
         "83": 0,
         "84": 0,
         "85": 0,
         "86": 0,
         "87": 0,
         "88": 0,
         "89": 1,
         "90": 0,
         "91": 0,
         "92": 0,
         "93": 0,
         "94": 0,
         "95": 0,
         "96": 1,
         "age": 58,
         "fnlwgt": 151910,
         "education_num": 9,
         "gender": 0,
         "capital_gain": 0,
         "capital_loss": 0,
         "hours_per_week": 40,
         "high_income": 0,
         "_deepnote_index_column": 32558
        },
        {
         "0": 0,
         "1": 0,
         "2": 0,
         "3": 1,
         "4": 0,
         "5": 0,
         "6": 0,
         "7": 0,
         "8": 0,
         "9": 0,
         "10": 0,
         "11": 0,
         "12": 0,
         "13": 0,
         "14": 0,
         "15": 0,
         "16": 0,
         "17": 0,
         "18": 0,
         "19": 1,
         "20": 0,
         "21": 0,
         "22": 0,
         "23": 0,
         "24": 0,
         "25": 0,
         "26": 0,
         "27": 0,
         "28": 1,
         "29": 0,
         "30": 0,
         "31": 1,
         "32": 0,
         "33": 0,
         "34": 0,
         "35": 0,
         "36": 0,
         "37": 0,
         "38": 0,
         "39": 0,
         "40": 0,
         "41": 0,
         "42": 0,
         "43": 0,
         "44": 0,
         "45": 0,
         "46": 0,
         "47": 0,
         "48": 1,
         "49": 0,
         "50": 0,
         "51": 0,
         "52": 0,
         "53": 0,
         "54": 0,
         "55": 0,
         "56": 0,
         "57": 0,
         "58": 0,
         "59": 0,
         "60": 0,
         "61": 0,
         "62": 0,
         "63": 0,
         "64": 0,
         "65": 0,
         "66": 0,
         "67": 0,
         "68": 0,
         "69": 0,
         "70": 0,
         "71": 0,
         "72": 0,
         "73": 0,
         "74": 0,
         "75": 0,
         "76": 0,
         "77": 0,
         "78": 0,
         "79": 0,
         "80": 0,
         "81": 0,
         "82": 0,
         "83": 0,
         "84": 0,
         "85": 0,
         "86": 0,
         "87": 0,
         "88": 0,
         "89": 1,
         "90": 0,
         "91": 0,
         "92": 0,
         "93": 0,
         "94": 0,
         "95": 0,
         "96": 1,
         "age": 22,
         "fnlwgt": 201490,
         "education_num": 9,
         "gender": 1,
         "capital_gain": 0,
         "capital_loss": 0,
         "hours_per_week": 20,
         "high_income": 0,
         "_deepnote_index_column": 32559
        },
        {
         "0": 0,
         "1": 0,
         "2": 0,
         "3": 0,
         "4": 1,
         "5": 0,
         "6": 0,
         "7": 0,
         "8": 0,
         "9": 0,
         "10": 0,
         "11": 0,
         "12": 0,
         "13": 0,
         "14": 0,
         "15": 0,
         "16": 0,
         "17": 0,
         "18": 0,
         "19": 1,
         "20": 0,
         "21": 0,
         "22": 0,
         "23": 0,
         "24": 0,
         "25": 0,
         "26": 1,
         "27": 0,
         "28": 0,
         "29": 0,
         "30": 0,
         "31": 0,
         "32": 0,
         "33": 0,
         "34": 1,
         "35": 0,
         "36": 0,
         "37": 0,
         "38": 0,
         "39": 0,
         "40": 0,
         "41": 0,
         "42": 0,
         "43": 0,
         "44": 0,
         "45": 0,
         "46": 0,
         "47": 0,
         "48": 0,
         "49": 0,
         "50": 1,
         "51": 0,
         "52": 0,
         "53": 0,
         "54": 0,
         "55": 0,
         "56": 0,
         "57": 0,
         "58": 0,
         "59": 0,
         "60": 0,
         "61": 0,
         "62": 0,
         "63": 0,
         "64": 0,
         "65": 0,
         "66": 0,
         "67": 0,
         "68": 0,
         "69": 0,
         "70": 0,
         "71": 0,
         "72": 0,
         "73": 0,
         "74": 0,
         "75": 0,
         "76": 0,
         "77": 0,
         "78": 0,
         "79": 0,
         "80": 0,
         "81": 0,
         "82": 0,
         "83": 0,
         "84": 0,
         "85": 0,
         "86": 0,
         "87": 0,
         "88": 0,
         "89": 1,
         "90": 0,
         "91": 0,
         "92": 0,
         "93": 0,
         "94": 0,
         "95": 0,
         "96": 1,
         "age": 52,
         "fnlwgt": 287927,
         "education_num": 9,
         "gender": 0,
         "capital_gain": 15024,
         "capital_loss": 0,
         "hours_per_week": 40,
         "high_income": 1,
         "_deepnote_index_column": 32560
        }
       ]
      },
      "text/plain": "       age  fnlwgt  education_num  gender  capital_gain  capital_loss  \\\n0       39   77516           13.0       1          2174             0   \n1       50   83311           13.0       1             0             0   \n2       38  215646            9.0       1             0             0   \n3       53  234721            7.0       1             0             0   \n4       28  338409            9.0       0             0             0   \n...    ...     ...            ...     ...           ...           ...   \n32556   27  257302           12.0       0             0             0   \n32557   40  154374            9.0       1             0             0   \n32558   58  151910            9.0       0             0             0   \n32559   22  201490            9.0       1             0             0   \n32560   52  287927            9.0       0         15024             0   \n\n       hours_per_week  high_income  0  1  ...  87  88  89  90  91  92  93  94  \\\n0                  40            0  0  0  ...   0   0   1   0   0   0   0   0   \n1                  13            0  0  0  ...   0   0   1   0   0   0   0   0   \n2                  40            0  0  0  ...   0   0   1   0   0   0   0   0   \n3                  40            0  0  0  ...   0   0   1   0   0   0   0   1   \n4                  40            0  0  0  ...   0   0   0   0   0   0   0   1   \n...               ...          ... .. ..  ...  ..  ..  ..  ..  ..  ..  ..  ..   \n32556              38            0  0  0  ...   0   0   1   0   0   0   0   0   \n32557              40            1  0  0  ...   0   0   1   0   0   0   0   0   \n32558              40            0  0  0  ...   0   0   1   0   0   0   0   0   \n32559              20            0  0  0  ...   0   0   1   0   0   0   0   0   \n32560              40            1  0  0  ...   0   0   1   0   0   0   0   0   \n\n       95  96  \n0       0   1  \n1       0   1  \n2       0   1  \n3       0   0  \n4       0   0  \n...    ..  ..  \n32556   0   1  \n32557   0   1  \n32558   0   1  \n32559   0   1  \n32560   0   1  \n\n[32561 rows x 105 columns]",
      "text/html": "<div>\n<style scoped>\n    .dataframe tbody tr th:only-of-type {\n        vertical-align: middle;\n    }\n\n    .dataframe tbody tr th {\n        vertical-align: top;\n    }\n\n    .dataframe thead th {\n        text-align: right;\n    }\n</style>\n<table border=\"1\" class=\"dataframe\">\n  <thead>\n    <tr style=\"text-align: right;\">\n      <th></th>\n      <th>age</th>\n      <th>fnlwgt</th>\n      <th>education_num</th>\n      <th>gender</th>\n      <th>capital_gain</th>\n      <th>capital_loss</th>\n      <th>hours_per_week</th>\n      <th>high_income</th>\n      <th>0</th>\n      <th>1</th>\n      <th>...</th>\n      <th>87</th>\n      <th>88</th>\n      <th>89</th>\n      <th>90</th>\n      <th>91</th>\n      <th>92</th>\n      <th>93</th>\n      <th>94</th>\n      <th>95</th>\n      <th>96</th>\n    </tr>\n  </thead>\n  <tbody>\n    <tr>\n      <th>0</th>\n      <td>39</td>\n      <td>77516</td>\n      <td>13.0</td>\n      <td>1</td>\n      <td>2174</td>\n      <td>0</td>\n      <td>40</td>\n      <td>0</td>\n      <td>0</td>\n      <td>0</td>\n      <td>...</td>\n      <td>0</td>\n      <td>0</td>\n      <td>1</td>\n      <td>0</td>\n      <td>0</td>\n      <td>0</td>\n      <td>0</td>\n      <td>0</td>\n      <td>0</td>\n      <td>1</td>\n    </tr>\n    <tr>\n      <th>1</th>\n      <td>50</td>\n      <td>83311</td>\n      <td>13.0</td>\n      <td>1</td>\n      <td>0</td>\n      <td>0</td>\n      <td>13</td>\n      <td>0</td>\n      <td>0</td>\n      <td>0</td>\n      <td>...</td>\n      <td>0</td>\n      <td>0</td>\n      <td>1</td>\n      <td>0</td>\n      <td>0</td>\n      <td>0</td>\n      <td>0</td>\n      <td>0</td>\n      <td>0</td>\n      <td>1</td>\n    </tr>\n    <tr>\n      <th>2</th>\n      <td>38</td>\n      <td>215646</td>\n      <td>9.0</td>\n      <td>1</td>\n      <td>0</td>\n      <td>0</td>\n      <td>40</td>\n      <td>0</td>\n      <td>0</td>\n      <td>0</td>\n      <td>...</td>\n      <td>0</td>\n      <td>0</td>\n      <td>1</td>\n      <td>0</td>\n      <td>0</td>\n      <td>0</td>\n      <td>0</td>\n      <td>0</td>\n      <td>0</td>\n      <td>1</td>\n    </tr>\n    <tr>\n      <th>3</th>\n      <td>53</td>\n      <td>234721</td>\n      <td>7.0</td>\n      <td>1</td>\n      <td>0</td>\n      <td>0</td>\n      <td>40</td>\n      <td>0</td>\n      <td>0</td>\n      <td>0</td>\n      <td>...</td>\n      <td>0</td>\n      <td>0</td>\n      <td>1</td>\n      <td>0</td>\n      <td>0</td>\n      <td>0</td>\n      <td>0</td>\n      <td>1</td>\n      <td>0</td>\n      <td>0</td>\n    </tr>\n    <tr>\n      <th>4</th>\n      <td>28</td>\n      <td>338409</td>\n      <td>9.0</td>\n      <td>0</td>\n      <td>0</td>\n      <td>0</td>\n      <td>40</td>\n      <td>0</td>\n      <td>0</td>\n      <td>0</td>\n      <td>...</td>\n      <td>0</td>\n      <td>0</td>\n      <td>0</td>\n      <td>0</td>\n      <td>0</td>\n      <td>0</td>\n      <td>0</td>\n      <td>1</td>\n      <td>0</td>\n      <td>0</td>\n    </tr>\n    <tr>\n      <th>...</th>\n      <td>...</td>\n      <td>...</td>\n      <td>...</td>\n      <td>...</td>\n      <td>...</td>\n      <td>...</td>\n      <td>...</td>\n      <td>...</td>\n      <td>...</td>\n      <td>...</td>\n      <td>...</td>\n      <td>...</td>\n      <td>...</td>\n      <td>...</td>\n      <td>...</td>\n      <td>...</td>\n      <td>...</td>\n      <td>...</td>\n      <td>...</td>\n      <td>...</td>\n      <td>...</td>\n    </tr>\n    <tr>\n      <th>32556</th>\n      <td>27</td>\n      <td>257302</td>\n      <td>12.0</td>\n      <td>0</td>\n      <td>0</td>\n      <td>0</td>\n      <td>38</td>\n      <td>0</td>\n      <td>0</td>\n      <td>0</td>\n      <td>...</td>\n      <td>0</td>\n      <td>0</td>\n      <td>1</td>\n      <td>0</td>\n      <td>0</td>\n      <td>0</td>\n      <td>0</td>\n      <td>0</td>\n      <td>0</td>\n      <td>1</td>\n    </tr>\n    <tr>\n      <th>32557</th>\n      <td>40</td>\n      <td>154374</td>\n      <td>9.0</td>\n      <td>1</td>\n      <td>0</td>\n      <td>0</td>\n      <td>40</td>\n      <td>1</td>\n      <td>0</td>\n      <td>0</td>\n      <td>...</td>\n      <td>0</td>\n      <td>0</td>\n      <td>1</td>\n      <td>0</td>\n      <td>0</td>\n      <td>0</td>\n      <td>0</td>\n      <td>0</td>\n      <td>0</td>\n      <td>1</td>\n    </tr>\n    <tr>\n      <th>32558</th>\n      <td>58</td>\n      <td>151910</td>\n      <td>9.0</td>\n      <td>0</td>\n      <td>0</td>\n      <td>0</td>\n      <td>40</td>\n      <td>0</td>\n      <td>0</td>\n      <td>0</td>\n      <td>...</td>\n      <td>0</td>\n      <td>0</td>\n      <td>1</td>\n      <td>0</td>\n      <td>0</td>\n      <td>0</td>\n      <td>0</td>\n      <td>0</td>\n      <td>0</td>\n      <td>1</td>\n    </tr>\n    <tr>\n      <th>32559</th>\n      <td>22</td>\n      <td>201490</td>\n      <td>9.0</td>\n      <td>1</td>\n      <td>0</td>\n      <td>0</td>\n      <td>20</td>\n      <td>0</td>\n      <td>0</td>\n      <td>0</td>\n      <td>...</td>\n      <td>0</td>\n      <td>0</td>\n      <td>1</td>\n      <td>0</td>\n      <td>0</td>\n      <td>0</td>\n      <td>0</td>\n      <td>0</td>\n      <td>0</td>\n      <td>1</td>\n    </tr>\n    <tr>\n      <th>32560</th>\n      <td>52</td>\n      <td>287927</td>\n      <td>9.0</td>\n      <td>0</td>\n      <td>15024</td>\n      <td>0</td>\n      <td>40</td>\n      <td>1</td>\n      <td>0</td>\n      <td>0</td>\n      <td>...</td>\n      <td>0</td>\n      <td>0</td>\n      <td>1</td>\n      <td>0</td>\n      <td>0</td>\n      <td>0</td>\n      <td>0</td>\n      <td>0</td>\n      <td>0</td>\n      <td>1</td>\n    </tr>\n  </tbody>\n</table>\n<p>32561 rows × 105 columns</p>\n</div>"
     },
     "metadata": {}
    }
   ]
  },
  {
   "cell_type": "code",
   "metadata": {
    "tags": [],
    "cell_id": "00026-ec1c0979-27eb-428d-82a3-7bd93dd0e1da",
    "deepnote_to_be_reexecuted": false,
    "source_hash": "c9d2f67b",
    "execution_start": 1634293522849,
    "execution_millis": 97,
    "deepnote_cell_type": "code"
   },
   "source": "import seaborn as sns",
   "execution_count": null,
   "outputs": []
  },
  {
   "cell_type": "code",
   "metadata": {
    "tags": [],
    "cell_id": "00027-e5aafa3f-e2fd-4f85-a867-ee908f7beeee",
    "deepnote_to_be_reexecuted": false,
    "source_hash": "1cf5e53b",
    "execution_start": 1634293523305,
    "execution_millis": 2251,
    "deepnote_cell_type": "code"
   },
   "source": "dataset.corr()",
   "execution_count": null,
   "outputs": [
    {
     "output_type": "execute_result",
     "execution_count": 22,
     "data": {
      "application/vnd.deepnote.dataframe.v2+json": {
       "row_count": 105,
       "column_count": 105,
       "columns": [
        {
         "name": "age",
         "dtype": "float64",
         "stats": {
          "unique_count": 105,
          "nan_count": 0,
          "min": "-0.5343589501267552",
          "max": "1.0",
          "histogram": [
           {
            "bin_start": -0.5343589501267552,
            "bin_end": -0.38092305511407965,
            "count": 2
           },
           {
            "bin_start": -0.38092305511407965,
            "bin_end": -0.22748716010140413,
            "count": 0
           },
           {
            "bin_start": -0.22748716010140413,
            "bin_end": -0.07405126508872861,
            "count": 6
           },
           {
            "bin_start": -0.07405126508872861,
            "bin_end": 0.0793846299239469,
            "count": 85
           },
           {
            "bin_start": 0.0793846299239469,
            "bin_end": 0.23282052493662242,
            "count": 7
           },
           {
            "bin_start": 0.23282052493662242,
            "bin_end": 0.38625641994929794,
            "count": 4
           },
           {
            "bin_start": 0.38625641994929794,
            "bin_end": 0.5396923149619735,
            "count": 0
           },
           {
            "bin_start": 0.5396923149619735,
            "bin_end": 0.693128209974649,
            "count": 0
           },
           {
            "bin_start": 0.693128209974649,
            "bin_end": 0.8465641049873245,
            "count": 0
           },
           {
            "bin_start": 0.8465641049873245,
            "bin_end": 1,
            "count": 1
           }
          ]
         }
        },
        {
         "name": "fnlwgt",
         "dtype": "float64",
         "stats": {
          "unique_count": 105,
          "nan_count": 0,
          "min": "-0.07979047266712633",
          "max": "1.0",
          "histogram": [
           {
            "bin_start": -0.07979047266712633,
            "bin_end": 0.028188574599586305,
            "count": 92
           },
           {
            "bin_start": 0.028188574599586305,
            "bin_end": 0.13616762186629894,
            "count": 12
           },
           {
            "bin_start": 0.13616762186629894,
            "bin_end": 0.24414666913301156,
            "count": 0
           },
           {
            "bin_start": 0.24414666913301156,
            "bin_end": 0.35212571639972423,
            "count": 0
           },
           {
            "bin_start": 0.35212571639972423,
            "bin_end": 0.4601047636664368,
            "count": 0
           },
           {
            "bin_start": 0.4601047636664368,
            "bin_end": 0.5680838109331494,
            "count": 0
           },
           {
            "bin_start": 0.5680838109331494,
            "bin_end": 0.6760628581998621,
            "count": 0
           },
           {
            "bin_start": 0.6760628581998621,
            "bin_end": 0.7840419054665747,
            "count": 0
           },
           {
            "bin_start": 0.7840419054665747,
            "bin_end": 0.8920209527332873,
            "count": 0
           },
           {
            "bin_start": 0.8920209527332873,
            "bin_end": 1,
            "count": 1
           }
          ]
         }
        },
        {
         "name": "education_num",
         "dtype": "float64",
         "stats": {
          "unique_count": 105,
          "nan_count": 0,
          "min": "-0.33626183438741075",
          "max": "1.0",
          "histogram": [
           {
            "bin_start": -0.33626183438741075,
            "bin_end": -0.2026356509486697,
            "count": 8
           },
           {
            "bin_start": -0.2026356509486697,
            "bin_end": -0.06900946750992865,
            "count": 15
           },
           {
            "bin_start": -0.06900946750992865,
            "bin_end": 0.06461671592881241,
            "count": 63
           },
           {
            "bin_start": 0.06461671592881241,
            "bin_end": 0.19824289936755346,
            "count": 11
           },
           {
            "bin_start": 0.19824289936755346,
            "bin_end": 0.33186908280629457,
            "count": 4
           },
           {
            "bin_start": 0.33186908280629457,
            "bin_end": 0.46549526624503557,
            "count": 2
           },
           {
            "bin_start": 0.46549526624503557,
            "bin_end": 0.5991214496837766,
            "count": 1
           },
           {
            "bin_start": 0.5991214496837766,
            "bin_end": 0.7327476331225177,
            "count": 0
           },
           {
            "bin_start": 0.7327476331225177,
            "bin_end": 0.8663738165612588,
            "count": 0
           },
           {
            "bin_start": 0.8663738165612588,
            "bin_end": 1,
            "count": 1
           }
          ]
         }
        },
        {
         "name": "gender",
         "dtype": "float64",
         "stats": {
          "unique_count": 105,
          "nan_count": 0,
          "min": "-0.3212732037336059",
          "max": "1.0",
          "histogram": [
           {
            "bin_start": -0.3212732037336059,
            "bin_end": -0.18914588336024532,
            "count": 4
           },
           {
            "bin_start": -0.18914588336024532,
            "bin_end": -0.057018562986884735,
            "count": 11
           },
           {
            "bin_start": -0.057018562986884735,
            "bin_end": 0.07510875738647582,
            "count": 77
           },
           {
            "bin_start": 0.07510875738647582,
            "bin_end": 0.20723607775983643,
            "count": 7
           },
           {
            "bin_start": 0.20723607775983643,
            "bin_end": 0.33936339813319705,
            "count": 3
           },
           {
            "bin_start": 0.33936339813319705,
            "bin_end": 0.47149071850655755,
            "count": 1
           },
           {
            "bin_start": 0.47149071850655755,
            "bin_end": 0.6036180388799182,
            "count": 1
           },
           {
            "bin_start": 0.6036180388799182,
            "bin_end": 0.7357453592532788,
            "count": 0
           },
           {
            "bin_start": 0.7357453592532788,
            "bin_end": 0.8678726796266394,
            "count": 0
           },
           {
            "bin_start": 0.8678726796266394,
            "bin_end": 1,
            "count": 1
           }
          ]
         }
        },
        {
         "name": "capital_gain",
         "dtype": "float64",
         "stats": {
          "unique_count": 105,
          "nan_count": 0,
          "min": "-0.06633417197297885",
          "max": "1.0",
          "histogram": [
           {
            "bin_start": -0.06633417197297885,
            "bin_end": 0.04029924522431903,
            "count": 90
           },
           {
            "bin_start": 0.04029924522431903,
            "bin_end": 0.1469326624216169,
            "count": 12
           },
           {
            "bin_start": 0.1469326624216169,
            "bin_end": 0.25356607961891475,
            "count": 2
           },
           {
            "bin_start": 0.25356607961891475,
            "bin_end": 0.36019949681621266,
            "count": 0
           },
           {
            "bin_start": 0.36019949681621266,
            "bin_end": 0.46683291401351057,
            "count": 0
           },
           {
            "bin_start": 0.46683291401351057,
            "bin_end": 0.5734663312108084,
            "count": 0
           },
           {
            "bin_start": 0.5734663312108084,
            "bin_end": 0.6800997484081063,
            "count": 0
           },
           {
            "bin_start": 0.6800997484081063,
            "bin_end": 0.7867331656054042,
            "count": 0
           },
           {
            "bin_start": 0.7867331656054042,
            "bin_end": 0.8933665828027021,
            "count": 0
           },
           {
            "bin_start": 0.8933665828027021,
            "bin_end": 1,
            "count": 1
           }
          ]
         }
        },
        {
         "name": "capital_loss",
         "dtype": "float64",
         "stats": {
          "unique_count": 105,
          "nan_count": 0,
          "min": "-0.0606230731015883",
          "max": "1.0",
          "histogram": [
           {
            "bin_start": -0.0606230731015883,
            "bin_end": 0.045439234208570524,
            "count": 93
           },
           {
            "bin_start": 0.045439234208570524,
            "bin_end": 0.15150154151872935,
            "count": 11
           },
           {
            "bin_start": 0.15150154151872935,
            "bin_end": 0.25756384882888816,
            "count": 0
           },
           {
            "bin_start": 0.25756384882888816,
            "bin_end": 0.363626156139047,
            "count": 0
           },
           {
            "bin_start": 0.363626156139047,
            "bin_end": 0.4696884634492058,
            "count": 0
           },
           {
            "bin_start": 0.4696884634492058,
            "bin_end": 0.5757507707593646,
            "count": 0
           },
           {
            "bin_start": 0.5757507707593646,
            "bin_end": 0.6818130780695234,
            "count": 0
           },
           {
            "bin_start": 0.6818130780695234,
            "bin_end": 0.7878753853796823,
            "count": 0
           },
           {
            "bin_start": 0.7878753853796823,
            "bin_end": 0.8939376926898411,
            "count": 0
           },
           {
            "bin_start": 0.8939376926898411,
            "bin_end": 1,
            "count": 1
           }
          ]
         }
        },
        {
         "name": "hours_per_week",
         "dtype": "float64",
         "stats": {
          "unique_count": 105,
          "nan_count": 0,
          "min": "-0.24925425240432297",
          "max": "1.0",
          "histogram": [
           {
            "bin_start": -0.24925425240432297,
            "bin_end": -0.12432882716389068,
            "count": 3
           },
           {
            "bin_start": -0.12432882716389068,
            "bin_end": 0.0005965980765416101,
            "count": 52
           },
           {
            "bin_start": 0.0005965980765416101,
            "bin_end": 0.12552202331697393,
            "count": 42
           },
           {
            "bin_start": 0.12552202331697393,
            "bin_end": 0.2504474485574062,
            "count": 7
           },
           {
            "bin_start": 0.2504474485574062,
            "bin_end": 0.37537287379783846,
            "count": 0
           },
           {
            "bin_start": 0.37537287379783846,
            "bin_end": 0.5002982990382708,
            "count": 0
           },
           {
            "bin_start": 0.5002982990382708,
            "bin_end": 0.6252237242787031,
            "count": 0
           },
           {
            "bin_start": 0.6252237242787031,
            "bin_end": 0.7501491495191354,
            "count": 0
           },
           {
            "bin_start": 0.7501491495191354,
            "bin_end": 0.8750745747595677,
            "count": 0
           },
           {
            "bin_start": 0.8750745747595677,
            "bin_end": 1,
            "count": 1
           }
          ]
         }
        },
        {
         "name": "high_income",
         "dtype": "float64",
         "stats": {
          "unique_count": 105,
          "nan_count": 0,
          "min": "-0.31844032507377557",
          "max": "1.0",
          "histogram": [
           {
            "bin_start": -0.31844032507377557,
            "bin_end": -0.186596292566398,
            "count": 3
           },
           {
            "bin_start": -0.186596292566398,
            "bin_end": -0.05475226005902045,
            "count": 18
           },
           {
            "bin_start": -0.05475226005902045,
            "bin_end": 0.07709177244835713,
            "count": 66
           },
           {
            "bin_start": 0.07709177244835713,
            "bin_end": 0.20893580495573466,
            "count": 9
           },
           {
            "bin_start": 0.20893580495573466,
            "bin_end": 0.3407798374631122,
            "count": 6
           },
           {
            "bin_start": 0.3407798374631122,
            "bin_end": 0.47262386997048983,
            "count": 2
           },
           {
            "bin_start": 0.47262386997048983,
            "bin_end": 0.6044679024778674,
            "count": 0
           },
           {
            "bin_start": 0.6044679024778674,
            "bin_end": 0.7363119349852449,
            "count": 0
           },
           {
            "bin_start": 0.7363119349852449,
            "bin_end": 0.8681559674926225,
            "count": 0
           },
           {
            "bin_start": 0.8681559674926225,
            "bin_end": 1,
            "count": 1
           }
          ]
         }
        },
        {
         "name": 0,
         "dtype": "float64",
         "stats": {
          "unique_count": 105,
          "nan_count": 0,
          "min": "-0.30466386873835116",
          "max": "1.0",
          "histogram": [
           {
            "bin_start": -0.30466386873835116,
            "bin_end": -0.17419748186451606,
            "count": 1
           },
           {
            "bin_start": -0.17419748186451606,
            "bin_end": -0.04373109499068095,
            "count": 4
           },
           {
            "bin_start": -0.04373109499068095,
            "bin_end": 0.08673529188315415,
            "count": 97
           },
           {
            "bin_start": 0.08673529188315415,
            "bin_end": 0.21720167875698926,
            "count": 2
           },
           {
            "bin_start": 0.21720167875698926,
            "bin_end": 0.3476680656308244,
            "count": 0
           },
           {
            "bin_start": 0.3476680656308244,
            "bin_end": 0.47813445250465947,
            "count": 0
           },
           {
            "bin_start": 0.47813445250465947,
            "bin_end": 0.6086008393784945,
            "count": 0
           },
           {
            "bin_start": 0.6086008393784945,
            "bin_end": 0.7390672262523297,
            "count": 0
           },
           {
            "bin_start": 0.7390672262523297,
            "bin_end": 0.8695336131261648,
            "count": 0
           },
           {
            "bin_start": 0.8695336131261648,
            "bin_end": 1,
            "count": 1
           }
          ]
         }
        },
        {
         "name": 1,
         "dtype": "float64",
         "stats": {
          "unique_count": 105,
          "nan_count": 0,
          "min": "-0.45814018805686835",
          "max": "1.0",
          "histogram": [
           {
            "bin_start": -0.45814018805686835,
            "bin_end": -0.3123261692511815,
            "count": 1
           },
           {
            "bin_start": -0.3123261692511815,
            "bin_end": -0.16651215044549467,
            "count": 0
           },
           {
            "bin_start": -0.16651215044549467,
            "bin_end": -0.020698131639807826,
            "count": 18
           },
           {
            "bin_start": -0.020698131639807826,
            "bin_end": 0.12511588716587901,
            "count": 83
           },
           {
            "bin_start": 0.12511588716587901,
            "bin_end": 0.2709299059715659,
            "count": 2
           },
           {
            "bin_start": 0.2709299059715659,
            "bin_end": 0.4167439247772527,
            "count": 0
           },
           {
            "bin_start": 0.4167439247772527,
            "bin_end": 0.5625579435829395,
            "count": 0
           },
           {
            "bin_start": 0.5625579435829395,
            "bin_end": 0.7083719623886264,
            "count": 0
           },
           {
            "bin_start": 0.7083719623886264,
            "bin_end": 0.8541859811943133,
            "count": 0
           },
           {
            "bin_start": 0.8541859811943133,
            "bin_end": 1,
            "count": 1
           }
          ]
         }
        },
        {
         "name": 2,
         "dtype": "float64",
         "stats": {
          "unique_count": 105,
          "nan_count": 0,
          "min": "-0.025632005611581597",
          "max": "1.0",
          "histogram": [
           {
            "bin_start": -0.025632005611581597,
            "bin_end": 0.07693119494957656,
            "count": 104
           },
           {
            "bin_start": 0.07693119494957656,
            "bin_end": 0.1794943955107347,
            "count": 0
           },
           {
            "bin_start": 0.1794943955107347,
            "bin_end": 0.2820575960718929,
            "count": 0
           },
           {
            "bin_start": 0.2820575960718929,
            "bin_end": 0.38462079663305104,
            "count": 0
           },
           {
            "bin_start": 0.38462079663305104,
            "bin_end": 0.4871839971942092,
            "count": 0
           },
           {
            "bin_start": 0.4871839971942092,
            "bin_end": 0.5897471977553673,
            "count": 0
           },
           {
            "bin_start": 0.5897471977553673,
            "bin_end": 0.6923103983165254,
            "count": 0
           },
           {
            "bin_start": 0.6923103983165254,
            "bin_end": 0.7948735988776836,
            "count": 0
           },
           {
            "bin_start": 0.7948735988776836,
            "bin_end": 0.8974367994388418,
            "count": 0
           },
           {
            "bin_start": 0.8974367994388418,
            "bin_end": 1,
            "count": 1
           }
          ]
         }
        },
        {
         "name": 3,
         "dtype": "float64",
         "stats": {
          "unique_count": 105,
          "nan_count": 0,
          "min": "-0.5085489214975345",
          "max": "1.0",
          "histogram": [
           {
            "bin_start": -0.5085489214975345,
            "bin_end": -0.35769402934778105,
            "count": 2
           },
           {
            "bin_start": -0.35769402934778105,
            "bin_end": -0.2068391371980276,
            "count": 3
           },
           {
            "bin_start": -0.2068391371980276,
            "bin_end": -0.05598424504827415,
            "count": 15
           },
           {
            "bin_start": -0.05598424504827415,
            "bin_end": 0.0948706471014793,
            "count": 81
           },
           {
            "bin_start": 0.0948706471014793,
            "bin_end": 0.24572553925123275,
            "count": 3
           },
           {
            "bin_start": 0.24572553925123275,
            "bin_end": 0.3965804314009862,
            "count": 0
           },
           {
            "bin_start": 0.3965804314009862,
            "bin_end": 0.5474353235507396,
            "count": 0
           },
           {
            "bin_start": 0.5474353235507396,
            "bin_end": 0.6982902157004931,
            "count": 0
           },
           {
            "bin_start": 0.6982902157004931,
            "bin_end": 0.8491451078502465,
            "count": 0
           },
           {
            "bin_start": 0.8491451078502465,
            "bin_end": 1,
            "count": 1
           }
          ]
         }
        },
        {
         "name": 4,
         "dtype": "float64",
         "stats": {
          "unique_count": 105,
          "nan_count": 0,
          "min": "-0.3293002396851233",
          "max": "1.0",
          "histogram": [
           {
            "bin_start": -0.3293002396851233,
            "bin_end": -0.19637021571661095,
            "count": 1
           },
           {
            "bin_start": -0.19637021571661095,
            "bin_end": -0.06344019174809862,
            "count": 1
           },
           {
            "bin_start": -0.06344019174809862,
            "bin_end": 0.06948983222041372,
            "count": 91
           },
           {
            "bin_start": 0.06948983222041372,
            "bin_end": 0.20241985618892605,
            "count": 11
           },
           {
            "bin_start": 0.20241985618892605,
            "bin_end": 0.33534988015743833,
            "count": 0
           },
           {
            "bin_start": 0.33534988015743833,
            "bin_end": 0.4682799041259507,
            "count": 0
           },
           {
            "bin_start": 0.4682799041259507,
            "bin_end": 0.6012099280944632,
            "count": 0
           },
           {
            "bin_start": 0.6012099280944632,
            "bin_end": 0.7341399520629754,
            "count": 0
           },
           {
            "bin_start": 0.7341399520629754,
            "bin_end": 0.8670699760314877,
            "count": 0
           },
           {
            "bin_start": 0.8670699760314877,
            "bin_end": 1,
            "count": 1
           }
          ]
         }
        },
        {
         "name": 5,
         "dtype": "float64",
         "stats": {
          "unique_count": 105,
          "nan_count": 0,
          "min": "-0.5085489214975345",
          "max": "1.0",
          "histogram": [
           {
            "bin_start": -0.5085489214975345,
            "bin_end": -0.35769402934778105,
            "count": 1
           },
           {
            "bin_start": -0.35769402934778105,
            "bin_end": -0.2068391371980276,
            "count": 0
           },
           {
            "bin_start": -0.2068391371980276,
            "bin_end": -0.05598424504827415,
            "count": 7
           },
           {
            "bin_start": -0.05598424504827415,
            "bin_end": 0.0948706471014793,
            "count": 91
           },
           {
            "bin_start": 0.0948706471014793,
            "bin_end": 0.24572553925123275,
            "count": 5
           },
           {
            "bin_start": 0.24572553925123275,
            "bin_end": 0.3965804314009862,
            "count": 0
           },
           {
            "bin_start": 0.3965804314009862,
            "bin_end": 0.5474353235507396,
            "count": 0
           },
           {
            "bin_start": 0.5474353235507396,
            "bin_end": 0.6982902157004931,
            "count": 0
           },
           {
            "bin_start": 0.6982902157004931,
            "bin_end": 0.8491451078502465,
            "count": 0
           },
           {
            "bin_start": 0.8491451078502465,
            "bin_end": 1,
            "count": 1
           }
          ]
         }
        },
        {
         "name": 6,
         "dtype": "float64",
         "stats": {
          "unique_count": 105,
          "nan_count": 0,
          "min": "-0.35617035567254146",
          "max": "1.0",
          "histogram": [
           {
            "bin_start": -0.35617035567254146,
            "bin_end": -0.2205533201052873,
            "count": 1
           },
           {
            "bin_start": -0.2205533201052873,
            "bin_end": -0.08493628453803315,
            "count": 0
           },
           {
            "bin_start": -0.08493628453803315,
            "bin_end": 0.05068075102922104,
            "count": 98
           },
           {
            "bin_start": 0.05068075102922104,
            "bin_end": 0.18629778659647517,
            "count": 5
           },
           {
            "bin_start": 0.18629778659647517,
            "bin_end": 0.3219148221637293,
            "count": 0
           },
           {
            "bin_start": 0.3219148221637293,
            "bin_end": 0.45753185773098354,
            "count": 0
           },
           {
            "bin_start": 0.45753185773098354,
            "bin_end": 0.5931488932982376,
            "count": 0
           },
           {
            "bin_start": 0.5931488932982376,
            "bin_end": 0.7287659288654917,
            "count": 0
           },
           {
            "bin_start": 0.7287659288654917,
            "bin_end": 0.8643829644327459,
            "count": 0
           },
           {
            "bin_start": 0.8643829644327459,
            "bin_end": 1,
            "count": 1
           }
          ]
         }
        },
        {
         "name": 7,
         "dtype": "float64",
         "stats": {
          "unique_count": 105,
          "nan_count": 0,
          "min": "-0.036253027872332755",
          "max": "1.0",
          "histogram": [
           {
            "bin_start": -0.036253027872332755,
            "bin_end": 0.06737227491490053,
            "count": 104
           },
           {
            "bin_start": 0.06737227491490053,
            "bin_end": 0.1709975777021338,
            "count": 0
           },
           {
            "bin_start": 0.1709975777021338,
            "bin_end": 0.2746228804893671,
            "count": 0
           },
           {
            "bin_start": 0.2746228804893671,
            "bin_end": 0.37824818327660037,
            "count": 0
           },
           {
            "bin_start": 0.37824818327660037,
            "bin_end": 0.4818734860638336,
            "count": 0
           },
           {
            "bin_start": 0.4818734860638336,
            "bin_end": 0.585498788851067,
            "count": 0
           },
           {
            "bin_start": 0.585498788851067,
            "bin_end": 0.6891240916383002,
            "count": 0
           },
           {
            "bin_start": 0.6891240916383002,
            "bin_end": 0.7927493944255335,
            "count": 0
           },
           {
            "bin_start": 0.7927493944255335,
            "bin_end": 0.8963746972127667,
            "count": 0
           },
           {
            "bin_start": 0.8963746972127667,
            "bin_end": 1,
            "count": 1
           }
          ]
         }
        },
        {
         "name": 8,
         "dtype": "float64",
         "stats": {
          "unique_count": 105,
          "nan_count": 0,
          "min": "-0.27241441856806914",
          "max": "1.0",
          "histogram": [
           {
            "bin_start": -0.27241441856806914,
            "bin_end": -0.14517297671126222,
            "count": 1
           },
           {
            "bin_start": -0.14517297671126222,
            "bin_end": -0.01793153485445531,
            "count": 24
           },
           {
            "bin_start": -0.01793153485445531,
            "bin_end": 0.1093099070023516,
            "count": 79
           },
           {
            "bin_start": 0.1093099070023516,
            "bin_end": 0.23655134885915852,
            "count": 0
           },
           {
            "bin_start": 0.23655134885915852,
            "bin_end": 0.3637927907159654,
            "count": 0
           },
           {
            "bin_start": 0.3637927907159654,
            "bin_end": 0.49103423257277234,
            "count": 0
           },
           {
            "bin_start": 0.49103423257277234,
            "bin_end": 0.6182756744295793,
            "count": 0
           },
           {
            "bin_start": 0.6182756744295793,
            "bin_end": 0.7455171162863862,
            "count": 0
           },
           {
            "bin_start": 0.7455171162863862,
            "bin_end": 0.872758558143193,
            "count": 0
           },
           {
            "bin_start": 0.872758558143193,
            "bin_end": 1,
            "count": 1
           }
          ]
         }
        },
        {
         "name": 9,
         "dtype": "float64",
         "stats": {
          "unique_count": 105,
          "nan_count": 0,
          "min": "-0.23167347575297018",
          "max": "1.0",
          "histogram": [
           {
            "bin_start": -0.23167347575297018,
            "bin_end": -0.10850612817767316,
            "count": 2
           },
           {
            "bin_start": -0.10850612817767316,
            "bin_end": 0.014661219397623854,
            "count": 92
           },
           {
            "bin_start": 0.014661219397623854,
            "bin_end": 0.13782856697292087,
            "count": 10
           },
           {
            "bin_start": 0.13782856697292087,
            "bin_end": 0.2609959145482179,
            "count": 0
           },
           {
            "bin_start": 0.2609959145482179,
            "bin_end": 0.3841632621235149,
            "count": 0
           },
           {
            "bin_start": 0.3841632621235149,
            "bin_end": 0.5073306096988119,
            "count": 0
           },
           {
            "bin_start": 0.5073306096988119,
            "bin_end": 0.630497957274109,
            "count": 0
           },
           {
            "bin_start": 0.630497957274109,
            "bin_end": 0.753665304849406,
            "count": 0
           },
           {
            "bin_start": 0.753665304849406,
            "bin_end": 0.876832652424703,
            "count": 0
           },
           {
            "bin_start": 0.876832652424703,
            "bin_end": 1,
            "count": 1
           }
          ]
         }
        },
        {
         "name": 10,
         "dtype": "float64",
         "stats": {
          "unique_count": 105,
          "nan_count": 0,
          "min": "-0.09387697193025793",
          "max": "1.0",
          "histogram": [
           {
            "bin_start": -0.09387697193025793,
            "bin_end": 0.015510725262767866,
            "count": 93
           },
           {
            "bin_start": 0.015510725262767866,
            "bin_end": 0.12489842245579366,
            "count": 11
           },
           {
            "bin_start": 0.12489842245579366,
            "bin_end": 0.23428611964881949,
            "count": 0
           },
           {
            "bin_start": 0.23428611964881949,
            "bin_end": 0.3436738168418453,
            "count": 0
           },
           {
            "bin_start": 0.3436738168418453,
            "bin_end": 0.45306151403487105,
            "count": 0
           },
           {
            "bin_start": 0.45306151403487105,
            "bin_end": 0.5624492112278969,
            "count": 0
           },
           {
            "bin_start": 0.5624492112278969,
            "bin_end": 0.6718369084209227,
            "count": 0
           },
           {
            "bin_start": 0.6718369084209227,
            "bin_end": 0.7812246056139485,
            "count": 0
           },
           {
            "bin_start": 0.7812246056139485,
            "bin_end": 0.8906123028069742,
            "count": 0
           },
           {
            "bin_start": 0.8906123028069742,
            "bin_end": 1,
            "count": 1
           }
          ]
         }
        },
        {
         "name": 11,
         "dtype": "float64",
         "stats": {
          "unique_count": 105,
          "nan_count": 0,
          "min": "-0.2261989726346212",
          "max": "1.0",
          "histogram": [
           {
            "bin_start": -0.2261989726346212,
            "bin_end": -0.10357907537115907,
            "count": 2
           },
           {
            "bin_start": -0.10357907537115907,
            "bin_end": 0.01904082189230305,
            "count": 82
           },
           {
            "bin_start": 0.01904082189230305,
            "bin_end": 0.14166071915576517,
            "count": 19
           },
           {
            "bin_start": 0.14166071915576517,
            "bin_end": 0.2642806164192273,
            "count": 1
           },
           {
            "bin_start": 0.2642806164192273,
            "bin_end": 0.3869005136826894,
            "count": 0
           },
           {
            "bin_start": 0.3869005136826894,
            "bin_end": 0.5095204109461515,
            "count": 0
           },
           {
            "bin_start": 0.5095204109461515,
            "bin_end": 0.6321403082096136,
            "count": 0
           },
           {
            "bin_start": 0.6321403082096136,
            "bin_end": 0.7547602054730758,
            "count": 0
           },
           {
            "bin_start": 0.7547602054730758,
            "bin_end": 0.8773801027365378,
            "count": 0
           },
           {
            "bin_start": 0.8773801027365378,
            "bin_end": 1,
            "count": 1
           }
          ]
         }
        },
        {
         "name": 12,
         "dtype": "float64",
         "stats": {
          "unique_count": 105,
          "nan_count": 0,
          "min": "-0.27976348878424795",
          "max": "1.0",
          "histogram": [
           {
            "bin_start": -0.27976348878424795,
            "bin_end": -0.15178713990582315,
            "count": 2
           },
           {
            "bin_start": -0.15178713990582315,
            "bin_end": -0.02381079102739836,
            "count": 9
           },
           {
            "bin_start": -0.02381079102739836,
            "bin_end": 0.10416555785102644,
            "count": 92
           },
           {
            "bin_start": 0.10416555785102644,
            "bin_end": 0.23214190672945123,
            "count": 0
           },
           {
            "bin_start": 0.23214190672945123,
            "bin_end": 0.360118255607876,
            "count": 1
           },
           {
            "bin_start": 0.360118255607876,
            "bin_end": 0.4880946044863008,
            "count": 0
           },
           {
            "bin_start": 0.4880946044863008,
            "bin_end": 0.6160709533647256,
            "count": 0
           },
           {
            "bin_start": 0.6160709533647256,
            "bin_end": 0.7440473022431504,
            "count": 0
           },
           {
            "bin_start": 0.7440473022431504,
            "bin_end": 0.8720236511215751,
            "count": 0
           },
           {
            "bin_start": 0.8720236511215751,
            "bin_end": 1,
            "count": 1
           }
          ]
         }
        },
        {
         "name": 13,
         "dtype": "float64",
         "stats": {
          "unique_count": 105,
          "nan_count": 0,
          "min": "-0.33626183438741075",
          "max": "1.0",
          "histogram": [
           {
            "bin_start": -0.33626183438741075,
            "bin_end": -0.2026356509486697,
            "count": 1
           },
           {
            "bin_start": -0.2026356509486697,
            "bin_end": -0.06900946750992865,
            "count": 2
           },
           {
            "bin_start": -0.06900946750992865,
            "bin_end": 0.06461671592881241,
            "count": 100
           },
           {
            "bin_start": 0.06461671592881241,
            "bin_end": 0.19824289936755346,
            "count": 1
           },
           {
            "bin_start": 0.19824289936755346,
            "bin_end": 0.33186908280629457,
            "count": 0
           },
           {
            "bin_start": 0.33186908280629457,
            "bin_end": 0.46549526624503557,
            "count": 0
           },
           {
            "bin_start": 0.46549526624503557,
            "bin_end": 0.5991214496837766,
            "count": 0
           },
           {
            "bin_start": 0.5991214496837766,
            "bin_end": 0.7327476331225177,
            "count": 0
           },
           {
            "bin_start": 0.7327476331225177,
            "bin_end": 0.8663738165612588,
            "count": 0
           },
           {
            "bin_start": 0.8663738165612588,
            "bin_end": 1,
            "count": 1
           }
          ]
         }
        },
        {
         "name": 14,
         "dtype": "float64",
         "stats": {
          "unique_count": 105,
          "nan_count": 0,
          "min": "-0.2500982677439994",
          "max": "1.0",
          "histogram": [
           {
            "bin_start": -0.2500982677439994,
            "bin_end": -0.12508844096959948,
            "count": 1
           },
           {
            "bin_start": -0.12508844096959948,
            "bin_end": -0.00007861419519955559,
            "count": 64
           },
           {
            "bin_start": -0.00007861419519955559,
            "bin_end": 0.12493121257920037,
            "count": 39
           },
           {
            "bin_start": 0.12493121257920037,
            "bin_end": 0.2499410393536003,
            "count": 0
           },
           {
            "bin_start": 0.2499410393536003,
            "bin_end": 0.37495086612800027,
            "count": 0
           },
           {
            "bin_start": 0.37495086612800027,
            "bin_end": 0.49996069290240014,
            "count": 0
           },
           {
            "bin_start": 0.49996069290240014,
            "bin_end": 0.6249705196768001,
            "count": 0
           },
           {
            "bin_start": 0.6249705196768001,
            "bin_end": 0.7499803464512,
            "count": 0
           },
           {
            "bin_start": 0.7499803464512,
            "bin_end": 0.8749901732256,
            "count": 0
           },
           {
            "bin_start": 0.8749901732256,
            "bin_end": 1,
            "count": 1
           }
          ]
         }
        },
        {
         "name": 15,
         "dtype": "float64",
         "stats": {
          "unique_count": 105,
          "nan_count": 0,
          "min": "-0.1269933188814481",
          "max": "1.0",
          "histogram": [
           {
            "bin_start": -0.1269933188814481,
            "bin_end": -0.014293986993303295,
            "count": 24
           },
           {
            "bin_start": -0.014293986993303295,
            "bin_end": 0.09840534489484151,
            "count": 79
           },
           {
            "bin_start": 0.09840534489484151,
            "bin_end": 0.21110467678298633,
            "count": 1
           },
           {
            "bin_start": 0.21110467678298633,
            "bin_end": 0.3238040086711311,
            "count": 0
           },
           {
            "bin_start": 0.3238040086711311,
            "bin_end": 0.4365033405592759,
            "count": 0
           },
           {
            "bin_start": 0.4365033405592759,
            "bin_end": 0.5492026724474208,
            "count": 0
           },
           {
            "bin_start": 0.5492026724474208,
            "bin_end": 0.6619020043355655,
            "count": 0
           },
           {
            "bin_start": 0.6619020043355655,
            "bin_end": 0.7746013362237103,
            "count": 0
           },
           {
            "bin_start": 0.7746013362237103,
            "bin_end": 0.8873006681118552,
            "count": 0
           },
           {
            "bin_start": 0.8873006681118552,
            "bin_end": 1,
            "count": 1
           }
          ]
         }
        },
        {
         "name": 16,
         "dtype": "float64",
         "stats": {
          "unique_count": 105,
          "nan_count": 0,
          "min": "-0.14525647665813604",
          "max": "1.0",
          "histogram": [
           {
            "bin_start": -0.14525647665813604,
            "bin_end": -0.030730828992322434,
            "count": 7
           },
           {
            "bin_start": -0.030730828992322434,
            "bin_end": 0.08379481867349117,
            "count": 97
           },
           {
            "bin_start": 0.08379481867349117,
            "bin_end": 0.19832046633930475,
            "count": 0
           },
           {
            "bin_start": 0.19832046633930475,
            "bin_end": 0.3128461140051184,
            "count": 0
           },
           {
            "bin_start": 0.3128461140051184,
            "bin_end": 0.42737176167093205,
            "count": 0
           },
           {
            "bin_start": 0.42737176167093205,
            "bin_end": 0.5418974093367456,
            "count": 0
           },
           {
            "bin_start": 0.5418974093367456,
            "bin_end": 0.6564230570025592,
            "count": 0
           },
           {
            "bin_start": 0.6564230570025592,
            "bin_end": 0.7709487046683728,
            "count": 0
           },
           {
            "bin_start": 0.7709487046683728,
            "bin_end": 0.8854743523341865,
            "count": 0
           },
           {
            "bin_start": 0.8854743523341865,
            "bin_end": 1,
            "count": 1
           }
          ]
         }
        },
        {
         "name": 17,
         "dtype": "float64",
         "stats": {
          "unique_count": 105,
          "nan_count": 0,
          "min": "-0.30609762921088296",
          "max": "1.0",
          "histogram": [
           {
            "bin_start": -0.30609762921088296,
            "bin_end": -0.17548786628979465,
            "count": 2
           },
           {
            "bin_start": -0.17548786628979465,
            "bin_end": -0.044878103368706346,
            "count": 21
           },
           {
            "bin_start": -0.044878103368706346,
            "bin_end": 0.08573165955238199,
            "count": 77
           },
           {
            "bin_start": 0.08573165955238199,
            "bin_end": 0.21634142247347027,
            "count": 3
           },
           {
            "bin_start": 0.21634142247347027,
            "bin_end": 0.34695118539455855,
            "count": 0
           },
           {
            "bin_start": 0.34695118539455855,
            "bin_end": 0.47756094831564694,
            "count": 0
           },
           {
            "bin_start": 0.47756094831564694,
            "bin_end": 0.6081707112367352,
            "count": 1
           },
           {
            "bin_start": 0.6081707112367352,
            "bin_end": 0.7387804741578234,
            "count": 0
           },
           {
            "bin_start": 0.7387804741578234,
            "bin_end": 0.8693902370789117,
            "count": 0
           },
           {
            "bin_start": 0.8693902370789117,
            "bin_end": 1,
            "count": 1
           }
          ]
         }
        },
        {
         "name": 18,
         "dtype": "float64",
         "stats": {
          "unique_count": 105,
          "nan_count": 0,
          "min": "-0.07820069650659846",
          "max": "1.0",
          "histogram": [
           {
            "bin_start": -0.07820069650659846,
            "bin_end": 0.029619373144061392,
            "count": 90
           },
           {
            "bin_start": 0.029619373144061392,
            "bin_end": 0.13743944279472126,
            "count": 12
           },
           {
            "bin_start": 0.13743944279472126,
            "bin_end": 0.24525951244538113,
            "count": 1
           },
           {
            "bin_start": 0.24525951244538113,
            "bin_end": 0.35307958209604096,
            "count": 1
           },
           {
            "bin_start": 0.35307958209604096,
            "bin_end": 0.4608996517467008,
            "count": 0
           },
           {
            "bin_start": 0.4608996517467008,
            "bin_end": 0.5687197213973607,
            "count": 0
           },
           {
            "bin_start": 0.5687197213973607,
            "bin_end": 0.6765397910480205,
            "count": 0
           },
           {
            "bin_start": 0.6765397910480205,
            "bin_end": 0.7843598606986804,
            "count": 0
           },
           {
            "bin_start": 0.7843598606986804,
            "bin_end": 0.8921799303493402,
            "count": 0
           },
           {
            "bin_start": 0.8921799303493402,
            "bin_end": 1,
            "count": 1
           }
          ]
         }
        },
        {
         "name": 19,
         "dtype": "float64",
         "stats": {
          "unique_count": 105,
          "nan_count": 0,
          "min": "-0.37059836873068414",
          "max": "1.0",
          "histogram": [
           {
            "bin_start": -0.37059836873068414,
            "bin_end": -0.23353853185761572,
            "count": 3
           },
           {
            "bin_start": -0.23353853185761572,
            "bin_end": -0.09647869498454731,
            "count": 9
           },
           {
            "bin_start": -0.09647869498454731,
            "bin_end": 0.04058114188852108,
            "count": 84
           },
           {
            "bin_start": 0.04058114188852108,
            "bin_end": 0.17764097876158952,
            "count": 8
           },
           {
            "bin_start": 0.17764097876158952,
            "bin_end": 0.31470081563465796,
            "count": 0
           },
           {
            "bin_start": 0.31470081563465796,
            "bin_end": 0.4517606525077263,
            "count": 0
           },
           {
            "bin_start": 0.4517606525077263,
            "bin_end": 0.5888204893807947,
            "count": 0
           },
           {
            "bin_start": 0.5888204893807947,
            "bin_end": 0.7258803262538631,
            "count": 0
           },
           {
            "bin_start": 0.7258803262538631,
            "bin_end": 0.8629401631269316,
            "count": 0
           },
           {
            "bin_start": 0.8629401631269316,
            "bin_end": 1,
            "count": 1
           }
          ]
         }
        },
        {
         "name": 20,
         "dtype": "float64",
         "stats": {
          "unique_count": 104,
          "nan_count": 0,
          "min": "-0.1630842842296231",
          "max": "1.0",
          "histogram": [
           {
            "bin_start": -0.1630842842296231,
            "bin_end": -0.04677585580666077,
            "count": 12
           },
           {
            "bin_start": -0.04677585580666077,
            "bin_end": 0.06953257261630155,
            "count": 85
           },
           {
            "bin_start": 0.06953257261630155,
            "bin_end": 0.1858410010392639,
            "count": 5
           },
           {
            "bin_start": 0.1858410010392639,
            "bin_end": 0.3021494294622262,
            "count": 1
           },
           {
            "bin_start": 0.3021494294622262,
            "bin_end": 0.4184578578851885,
            "count": 1
           },
           {
            "bin_start": 0.4184578578851885,
            "bin_end": 0.5347662863081509,
            "count": 0
           },
           {
            "bin_start": 0.5347662863081509,
            "bin_end": 0.6510747147311132,
            "count": 0
           },
           {
            "bin_start": 0.6510747147311132,
            "bin_end": 0.7673831431540755,
            "count": 0
           },
           {
            "bin_start": 0.7673831431540755,
            "bin_end": 0.8836915715770378,
            "count": 0
           },
           {
            "bin_start": 0.8836915715770378,
            "bin_end": 1,
            "count": 1
           }
          ]
         }
        },
        {
         "name": 21,
         "dtype": "float64",
         "stats": {
          "unique_count": 105,
          "nan_count": 0,
          "min": "-0.13980123431197927",
          "max": "1.0",
          "histogram": [
           {
            "bin_start": -0.13980123431197927,
            "bin_end": -0.025821110880781345,
            "count": 3
           },
           {
            "bin_start": -0.025821110880781345,
            "bin_end": 0.08815901255041658,
            "count": 100
           },
           {
            "bin_start": 0.08815901255041658,
            "bin_end": 0.20213913598161454,
            "count": 1
           },
           {
            "bin_start": 0.20213913598161454,
            "bin_end": 0.31611925941281244,
            "count": 0
           },
           {
            "bin_start": 0.31611925941281244,
            "bin_end": 0.43009938284401034,
            "count": 0
           },
           {
            "bin_start": 0.43009938284401034,
            "bin_end": 0.5440795062752084,
            "count": 0
           },
           {
            "bin_start": 0.5440795062752084,
            "bin_end": 0.6580596297064063,
            "count": 0
           },
           {
            "bin_start": 0.6580596297064063,
            "bin_end": 0.7720397531376042,
            "count": 0
           },
           {
            "bin_start": 0.7720397531376042,
            "bin_end": 0.8860198765688021,
            "count": 0
           },
           {
            "bin_start": 0.8860198765688021,
            "bin_end": 1,
            "count": 1
           }
          ]
         }
        },
        {
         "name": 22,
         "dtype": "float64",
         "stats": {
          "unique_count": 105,
          "nan_count": 0,
          "min": "-0.09258713367807704",
          "max": "1.0",
          "histogram": [
           {
            "bin_start": -0.09258713367807704,
            "bin_end": 0.016671579689730667,
            "count": 89
           },
           {
            "bin_start": 0.016671579689730667,
            "bin_end": 0.1259302930575384,
            "count": 11
           },
           {
            "bin_start": 0.1259302930575384,
            "bin_end": 0.23518900642534613,
            "count": 3
           },
           {
            "bin_start": 0.23518900642534613,
            "bin_end": 0.3444477197931538,
            "count": 1
           },
           {
            "bin_start": 0.3444477197931538,
            "bin_end": 0.4537064331609615,
            "count": 0
           },
           {
            "bin_start": 0.4537064331609615,
            "bin_end": 0.5629651465287693,
            "count": 0
           },
           {
            "bin_start": 0.5629651465287693,
            "bin_end": 0.672223859896577,
            "count": 0
           },
           {
            "bin_start": 0.672223859896577,
            "bin_end": 0.7814825732643846,
            "count": 0
           },
           {
            "bin_start": 0.7814825732643846,
            "bin_end": 0.8907412866321923,
            "count": 0
           },
           {
            "bin_start": 0.8907412866321923,
            "bin_end": 1,
            "count": 1
           }
          ]
         }
        },
        {
         "name": 23,
         "dtype": "float64",
         "stats": {
          "unique_count": 105,
          "nan_count": 0,
          "min": "-0.37059836873068414",
          "max": "1.0",
          "histogram": [
           {
            "bin_start": -0.37059836873068414,
            "bin_end": -0.23353853185761572,
            "count": 2
           },
           {
            "bin_start": -0.23353853185761572,
            "bin_end": -0.09647869498454731,
            "count": 5
           },
           {
            "bin_start": -0.09647869498454731,
            "bin_end": 0.04058114188852108,
            "count": 92
           },
           {
            "bin_start": 0.04058114188852108,
            "bin_end": 0.17764097876158952,
            "count": 5
           },
           {
            "bin_start": 0.17764097876158952,
            "bin_end": 0.31470081563465796,
            "count": 0
           },
           {
            "bin_start": 0.31470081563465796,
            "bin_end": 0.4517606525077263,
            "count": 0
           },
           {
            "bin_start": 0.4517606525077263,
            "bin_end": 0.5888204893807947,
            "count": 0
           },
           {
            "bin_start": 0.5888204893807947,
            "bin_end": 0.7258803262538631,
            "count": 0
           },
           {
            "bin_start": 0.7258803262538631,
            "bin_end": 0.8629401631269316,
            "count": 0
           },
           {
            "bin_start": 0.8629401631269316,
            "bin_end": 1,
            "count": 1
           }
          ]
         }
        },
        {
         "name": 24,
         "dtype": "float64",
         "stats": {
          "unique_count": 105,
          "nan_count": 0,
          "min": "-0.3668366110905297",
          "max": "1.0",
          "histogram": [
           {
            "bin_start": -0.3668366110905297,
            "bin_end": -0.2301529499814767,
            "count": 3
           },
           {
            "bin_start": -0.2301529499814767,
            "bin_end": -0.09346928887242373,
            "count": 2
           },
           {
            "bin_start": -0.09346928887242373,
            "bin_end": 0.04321437223662927,
            "count": 94
           },
           {
            "bin_start": 0.04321437223662927,
            "bin_end": 0.17989803334568222,
            "count": 3
           },
           {
            "bin_start": 0.17989803334568222,
            "bin_end": 0.31658169445473516,
            "count": 1
           },
           {
            "bin_start": 0.31658169445473516,
            "bin_end": 0.4532653555637882,
            "count": 1
           },
           {
            "bin_start": 0.4532653555637882,
            "bin_end": 0.5899490166728412,
            "count": 0
           },
           {
            "bin_start": 0.5899490166728412,
            "bin_end": 0.7266326777818941,
            "count": 0
           },
           {
            "bin_start": 0.7266326777818941,
            "bin_end": 0.863316338890947,
            "count": 0
           },
           {
            "bin_start": 0.863316338890947,
            "bin_end": 1,
            "count": 1
           }
          ]
         }
        },
        {
         "name": 25,
         "dtype": "float64",
         "stats": {
          "unique_count": 105,
          "nan_count": 0,
          "min": "-0.0245355173572102",
          "max": "1.0",
          "histogram": [
           {
            "bin_start": -0.0245355173572102,
            "bin_end": 0.07791803437851082,
            "count": 104
           },
           {
            "bin_start": 0.07791803437851082,
            "bin_end": 0.18037158611423182,
            "count": 0
           },
           {
            "bin_start": 0.18037158611423182,
            "bin_end": 0.28282513784995283,
            "count": 0
           },
           {
            "bin_start": 0.28282513784995283,
            "bin_end": 0.38527868958567385,
            "count": 0
           },
           {
            "bin_start": 0.38527868958567385,
            "bin_end": 0.48773224132139487,
            "count": 0
           },
           {
            "bin_start": 0.48773224132139487,
            "bin_end": 0.5901857930571159,
            "count": 0
           },
           {
            "bin_start": 0.5901857930571159,
            "bin_end": 0.692639344792837,
            "count": 0
           },
           {
            "bin_start": 0.692639344792837,
            "bin_end": 0.795092896528558,
            "count": 0
           },
           {
            "bin_start": 0.795092896528558,
            "bin_end": 0.897546448264279,
            "count": 0
           },
           {
            "bin_start": 0.897546448264279,
            "bin_end": 1,
            "count": 1
           }
          ]
         }
        },
        {
         "name": 26,
         "dtype": "float64",
         "stats": {
          "unique_count": 105,
          "nan_count": 0,
          "min": "-0.6448660814114325",
          "max": "1.0",
          "histogram": [
           {
            "bin_start": -0.6448660814114325,
            "bin_end": -0.4803794732702893,
            "count": 2
           },
           {
            "bin_start": -0.4803794732702893,
            "bin_end": -0.315892865129146,
            "count": 3
           },
           {
            "bin_start": -0.315892865129146,
            "bin_end": -0.1514062569880027,
            "count": 3
           },
           {
            "bin_start": -0.1514062569880027,
            "bin_end": 0.013080351153140546,
            "count": 67
           },
           {
            "bin_start": 0.013080351153140546,
            "bin_end": 0.1775669592942838,
            "count": 23
           },
           {
            "bin_start": 0.1775669592942838,
            "bin_end": 0.34205356743542714,
            "count": 3
           },
           {
            "bin_start": 0.34205356743542714,
            "bin_end": 0.5065401755765703,
            "count": 2
           },
           {
            "bin_start": 0.5065401755765703,
            "bin_end": 0.6710267837177136,
            "count": 0
           },
           {
            "bin_start": 0.6710267837177136,
            "bin_end": 0.835513391858857,
            "count": 0
           },
           {
            "bin_start": 0.835513391858857,
            "bin_end": 1,
            "count": 2
           }
          ]
         }
        },
        {
         "name": 27,
         "dtype": "float64",
         "stats": {
          "unique_count": 105,
          "nan_count": 0,
          "min": "-0.10523777711200887",
          "max": "1.0",
          "histogram": [
           {
            "bin_start": -0.10523777711200887,
            "bin_end": 0.0052860005991920145,
            "count": 58
           },
           {
            "bin_start": 0.0052860005991920145,
            "bin_end": 0.1158097783103929,
            "count": 46
           },
           {
            "bin_start": 0.1158097783103929,
            "bin_end": 0.22633355602159377,
            "count": 0
           },
           {
            "bin_start": 0.22633355602159377,
            "bin_end": 0.33685733373279464,
            "count": 0
           },
           {
            "bin_start": 0.33685733373279464,
            "bin_end": 0.4473811114439955,
            "count": 0
           },
           {
            "bin_start": 0.4473811114439955,
            "bin_end": 0.5579048891551964,
            "count": 0
           },
           {
            "bin_start": 0.5579048891551964,
            "bin_end": 0.6684286668663972,
            "count": 0
           },
           {
            "bin_start": 0.6684286668663972,
            "bin_end": 0.7789524445775982,
            "count": 0
           },
           {
            "bin_start": 0.7789524445775982,
            "bin_end": 0.8894762222887991,
            "count": 0
           },
           {
            "bin_start": 0.8894762222887991,
            "bin_end": 1,
            "count": 1
           }
          ]
         }
        },
        {
         "name": 28,
         "dtype": "float64",
         "stats": {
          "unique_count": 105,
          "nan_count": 0,
          "min": "-0.6448660814114325",
          "max": "1.0",
          "histogram": [
           {
            "bin_start": -0.6448660814114325,
            "bin_end": -0.4803794732702893,
            "count": 3
           },
           {
            "bin_start": -0.4803794732702893,
            "bin_end": -0.315892865129146,
            "count": 1
           },
           {
            "bin_start": -0.315892865129146,
            "bin_end": -0.1514062569880027,
            "count": 4
           },
           {
            "bin_start": -0.1514062569880027,
            "bin_end": 0.013080351153140546,
            "count": 77
           },
           {
            "bin_start": 0.013080351153140546,
            "bin_end": 0.1775669592942838,
            "count": 17
           },
           {
            "bin_start": 0.1775669592942838,
            "bin_end": 0.34205356743542714,
            "count": 1
           },
           {
            "bin_start": 0.34205356743542714,
            "bin_end": 0.5065401755765703,
            "count": 0
           },
           {
            "bin_start": 0.5065401755765703,
            "bin_end": 0.6710267837177136,
            "count": 1
           },
           {
            "bin_start": 0.6710267837177136,
            "bin_end": 0.835513391858857,
            "count": 0
           },
           {
            "bin_start": 0.835513391858857,
            "bin_end": 1,
            "count": 1
           }
          ]
         }
        },
        {
         "name": 29,
         "dtype": "float64",
         "stats": {
          "unique_count": 105,
          "nan_count": 0,
          "min": "-0.1663739618667459",
          "max": "1.0",
          "histogram": [
           {
            "bin_start": -0.1663739618667459,
            "bin_end": -0.049736565680071315,
            "count": 8
           },
           {
            "bin_start": -0.049736565680071315,
            "bin_end": 0.06690083050660328,
            "count": 94
           },
           {
            "bin_start": 0.06690083050660328,
            "bin_end": 0.1835382266932779,
            "count": 1
           },
           {
            "bin_start": 0.1835382266932779,
            "bin_end": 0.3001756228799525,
            "count": 1
           },
           {
            "bin_start": 0.3001756228799525,
            "bin_end": 0.41681301906662704,
            "count": 0
           },
           {
            "bin_start": 0.41681301906662704,
            "bin_end": 0.5334504152533017,
            "count": 0
           },
           {
            "bin_start": 0.5334504152533017,
            "bin_end": 0.6500878114399763,
            "count": 0
           },
           {
            "bin_start": 0.6500878114399763,
            "bin_end": 0.7667252076266509,
            "count": 0
           },
           {
            "bin_start": 0.7667252076266509,
            "bin_end": 0.8833626038133255,
            "count": 0
           },
           {
            "bin_start": 0.8833626038133255,
            "bin_end": 1,
            "count": 1
           }
          ]
         }
        },
        {
         "name": 30,
         "dtype": "float64",
         "stats": {
          "unique_count": 105,
          "nan_count": 0,
          "min": "-0.1884866586232374",
          "max": "1.0",
          "histogram": [
           {
            "bin_start": -0.1884866586232374,
            "bin_end": -0.06963799276091366,
            "count": 6
           },
           {
            "bin_start": -0.06963799276091366,
            "bin_end": 0.049210673101410085,
            "count": 94
           },
           {
            "bin_start": 0.049210673101410085,
            "bin_end": 0.16805933896373385,
            "count": 3
           },
           {
            "bin_start": 0.16805933896373385,
            "bin_end": 0.2869080048260576,
            "count": 1
           },
           {
            "bin_start": 0.2869080048260576,
            "bin_end": 0.4057566706883813,
            "count": 0
           },
           {
            "bin_start": 0.4057566706883813,
            "bin_end": 0.5246053365507051,
            "count": 0
           },
           {
            "bin_start": 0.5246053365507051,
            "bin_end": 0.6434540024130287,
            "count": 0
           },
           {
            "bin_start": 0.6434540024130287,
            "bin_end": 0.7623026682753525,
            "count": 0
           },
           {
            "bin_start": 0.7623026682753525,
            "bin_end": 0.8811513341376762,
            "count": 0
           },
           {
            "bin_start": 0.8811513341376762,
            "bin_end": 1,
            "count": 1
           }
          ]
         }
        },
        {
         "name": 31,
         "dtype": "float64",
         "stats": {
          "unique_count": 105,
          "nan_count": 0,
          "min": "-0.2631477628435175",
          "max": "1.0",
          "histogram": [
           {
            "bin_start": -0.2631477628435175,
            "bin_end": -0.13683298655916573,
            "count": 5
           },
           {
            "bin_start": -0.13683298655916573,
            "bin_end": -0.010518210274813977,
            "count": 33
           },
           {
            "bin_start": -0.010518210274813977,
            "bin_end": 0.1157965660095378,
            "count": 65
           },
           {
            "bin_start": 0.1157965660095378,
            "bin_end": 0.24211134229388953,
            "count": 1
           },
           {
            "bin_start": 0.24211134229388953,
            "bin_end": 0.36842611857824126,
            "count": 0
           },
           {
            "bin_start": 0.36842611857824126,
            "bin_end": 0.4947408948625931,
            "count": 0
           },
           {
            "bin_start": 0.4947408948625931,
            "bin_end": 0.6210556711469448,
            "count": 0
           },
           {
            "bin_start": 0.6210556711469448,
            "bin_end": 0.7473704474312965,
            "count": 0
           },
           {
            "bin_start": 0.7473704474312965,
            "bin_end": 0.8736852237156483,
            "count": 0
           },
           {
            "bin_start": 0.8736852237156483,
            "bin_end": 1,
            "count": 1
           }
          ]
         }
        },
        {
         "name": 32,
         "dtype": "float64",
         "stats": {
          "unique_count": 105,
          "nan_count": 0,
          "min": "-0.029064855312952092",
          "max": "1.0",
          "histogram": [
           {
            "bin_start": -0.029064855312952092,
            "bin_end": 0.0738416302183431,
            "count": 103
           },
           {
            "bin_start": 0.0738416302183431,
            "bin_end": 0.1767481157496383,
            "count": 1
           },
           {
            "bin_start": 0.1767481157496383,
            "bin_end": 0.27965460128093345,
            "count": 0
           },
           {
            "bin_start": 0.27965460128093345,
            "bin_end": 0.38256108681222867,
            "count": 0
           },
           {
            "bin_start": 0.38256108681222867,
            "bin_end": 0.4854675723435239,
            "count": 0
           },
           {
            "bin_start": 0.4854675723435239,
            "bin_end": 0.588374057874819,
            "count": 0
           },
           {
            "bin_start": 0.588374057874819,
            "bin_end": 0.6912805434061142,
            "count": 0
           },
           {
            "bin_start": 0.6912805434061142,
            "bin_end": 0.7941870289374094,
            "count": 0
           },
           {
            "bin_start": 0.7941870289374094,
            "bin_end": 0.8970935144687047,
            "count": 0
           },
           {
            "bin_start": 0.8970935144687047,
            "bin_end": 1,
            "count": 1
           }
          ]
         }
        },
        {
         "name": 33,
         "dtype": "float64",
         "stats": {
          "unique_count": 105,
          "nan_count": 0,
          "min": "-0.18005475910252614",
          "max": "1.0",
          "histogram": [
           {
            "bin_start": -0.18005475910252614,
            "bin_end": -0.06204928319227353,
            "count": 16
           },
           {
            "bin_start": -0.06204928319227353,
            "bin_end": 0.05595619271797908,
            "count": 82
           },
           {
            "bin_start": 0.05595619271797908,
            "bin_end": 0.17396166862823167,
            "count": 5
           },
           {
            "bin_start": 0.17396166862823167,
            "bin_end": 0.29196714453848427,
            "count": 1
           },
           {
            "bin_start": 0.29196714453848427,
            "bin_end": 0.40997262044873695,
            "count": 0
           },
           {
            "bin_start": 0.40997262044873695,
            "bin_end": 0.5279780963589895,
            "count": 0
           },
           {
            "bin_start": 0.5279780963589895,
            "bin_end": 0.6459835722692422,
            "count": 0
           },
           {
            "bin_start": 0.6459835722692422,
            "bin_end": 0.7639890481794948,
            "count": 0
           },
           {
            "bin_start": 0.7639890481794948,
            "bin_end": 0.8819945240897473,
            "count": 0
           },
           {
            "bin_start": 0.8819945240897473,
            "bin_end": 1,
            "count": 1
           }
          ]
         }
        },
        {
         "name": 34,
         "dtype": "float64",
         "stats": {
          "unique_count": 105,
          "nan_count": 0,
          "min": "-0.17922463697154378",
          "max": "1.0",
          "histogram": [
           {
            "bin_start": -0.17922463697154378,
            "bin_end": -0.0613021732743894,
            "count": 14
           },
           {
            "bin_start": -0.0613021732743894,
            "bin_end": 0.05662029042276498,
            "count": 80
           },
           {
            "bin_start": 0.05662029042276498,
            "bin_end": 0.17454275411991937,
            "count": 7
           },
           {
            "bin_start": 0.17454275411991937,
            "bin_end": 0.29246521781707374,
            "count": 3
           },
           {
            "bin_start": 0.29246521781707374,
            "bin_end": 0.4103876815142281,
            "count": 0
           },
           {
            "bin_start": 0.4103876815142281,
            "bin_end": 0.5283101452113825,
            "count": 0
           },
           {
            "bin_start": 0.5283101452113825,
            "bin_end": 0.6462326089085368,
            "count": 0
           },
           {
            "bin_start": 0.6462326089085368,
            "bin_end": 0.7641550726056913,
            "count": 0
           },
           {
            "bin_start": 0.7641550726056913,
            "bin_end": 0.8820775363028457,
            "count": 0
           },
           {
            "bin_start": 0.8820775363028457,
            "bin_end": 1,
            "count": 1
           }
          ]
         }
        },
        {
         "name": 35,
         "dtype": "float64",
         "stats": {
          "unique_count": 105,
          "nan_count": 0,
          "min": "-0.12172634944327347",
          "max": "1.0",
          "histogram": [
           {
            "bin_start": -0.12172634944327347,
            "bin_end": -0.009553714498946125,
            "count": 37
           },
           {
            "bin_start": -0.009553714498946125,
            "bin_end": 0.10261892044538122,
            "count": 66
           },
           {
            "bin_start": 0.10261892044538122,
            "bin_end": 0.21479155538970857,
            "count": 0
           },
           {
            "bin_start": 0.21479155538970857,
            "bin_end": 0.3269641903340359,
            "count": 1
           },
           {
            "bin_start": 0.3269641903340359,
            "bin_end": 0.43913682527836323,
            "count": 0
           },
           {
            "bin_start": 0.43913682527836323,
            "bin_end": 0.5513094602226907,
            "count": 0
           },
           {
            "bin_start": 0.5513094602226907,
            "bin_end": 0.663482095167018,
            "count": 0
           },
           {
            "bin_start": 0.663482095167018,
            "bin_end": 0.7756547301113453,
            "count": 0
           },
           {
            "bin_start": 0.7756547301113453,
            "bin_end": 0.8878273650556727,
            "count": 0
           },
           {
            "bin_start": 0.8878273650556727,
            "bin_end": 1,
            "count": 1
           }
          ]
         }
        },
        {
         "name": 36,
         "dtype": "float64",
         "stats": {
          "unique_count": 105,
          "nan_count": 0,
          "min": "-0.12790789408232672",
          "max": "1.0",
          "histogram": [
           {
            "bin_start": -0.12790789408232672,
            "bin_end": -0.015117104674094037,
            "count": 37
           },
           {
            "bin_start": -0.015117104674094037,
            "bin_end": 0.09767368473413865,
            "count": 67
           },
           {
            "bin_start": 0.09767368473413865,
            "bin_end": 0.21046447414237135,
            "count": 0
           },
           {
            "bin_start": 0.21046447414237135,
            "bin_end": 0.323255263550604,
            "count": 0
           },
           {
            "bin_start": 0.323255263550604,
            "bin_end": 0.4360460529588367,
            "count": 0
           },
           {
            "bin_start": 0.4360460529588367,
            "bin_end": 0.5488368423670694,
            "count": 0
           },
           {
            "bin_start": 0.5488368423670694,
            "bin_end": 0.661627631775302,
            "count": 0
           },
           {
            "bin_start": 0.661627631775302,
            "bin_end": 0.7744184211835348,
            "count": 0
           },
           {
            "bin_start": 0.7744184211835348,
            "bin_end": 0.8872092105917674,
            "count": 0
           },
           {
            "bin_start": 0.8872092105917674,
            "bin_end": 1,
            "count": 1
           }
          ]
         }
        },
        {
         "name": 37,
         "dtype": "float64",
         "stats": {
          "unique_count": 105,
          "nan_count": 0,
          "min": "-0.1584710874893464",
          "max": "1.0",
          "histogram": [
           {
            "bin_start": -0.1584710874893464,
            "bin_end": -0.042623978740411766,
            "count": 18
           },
           {
            "bin_start": -0.042623978740411766,
            "bin_end": 0.07322313000852287,
            "count": 84
           },
           {
            "bin_start": 0.07322313000852287,
            "bin_end": 0.1890702387574575,
            "count": 2
           },
           {
            "bin_start": 0.1890702387574575,
            "bin_end": 0.30491734750639216,
            "count": 0
           },
           {
            "bin_start": 0.30491734750639216,
            "bin_end": 0.4207644562553268,
            "count": 0
           },
           {
            "bin_start": 0.4207644562553268,
            "bin_end": 0.5366115650042613,
            "count": 0
           },
           {
            "bin_start": 0.5366115650042613,
            "bin_end": 0.6524586737531961,
            "count": 0
           },
           {
            "bin_start": 0.6524586737531961,
            "bin_end": 0.7683057825021307,
            "count": 0
           },
           {
            "bin_start": 0.7683057825021307,
            "bin_end": 0.8841528912510652,
            "count": 0
           },
           {
            "bin_start": 0.8841528912510652,
            "bin_end": 1,
            "count": 1
           }
          ]
         }
        },
        {
         "name": 38,
         "dtype": "float64",
         "stats": {
          "unique_count": 105,
          "nan_count": 0,
          "min": "-0.16989892967533593",
          "max": "1.0",
          "histogram": [
           {
            "bin_start": -0.16989892967533593,
            "bin_end": -0.05290903670780234,
            "count": 21
           },
           {
            "bin_start": -0.05290903670780234,
            "bin_end": 0.06408085625973126,
            "count": 78
           },
           {
            "bin_start": 0.06408085625973126,
            "bin_end": 0.18107074922726485,
            "count": 5
           },
           {
            "bin_start": 0.18107074922726485,
            "bin_end": 0.29806064219479844,
            "count": 0
           },
           {
            "bin_start": 0.29806064219479844,
            "bin_end": 0.41505053516233203,
            "count": 0
           },
           {
            "bin_start": 0.41505053516233203,
            "bin_end": 0.5320404281298656,
            "count": 0
           },
           {
            "bin_start": 0.5320404281298656,
            "bin_end": 0.6490303210973992,
            "count": 0
           },
           {
            "bin_start": 0.6490303210973992,
            "bin_end": 0.7660202140649328,
            "count": 0
           },
           {
            "bin_start": 0.7660202140649328,
            "bin_end": 0.8830101070324663,
            "count": 0
           },
           {
            "bin_start": 0.8830101070324663,
            "bin_end": 1,
            "count": 1
           }
          ]
         }
        },
        {
         "name": 39,
         "dtype": "float64",
         "stats": {
          "unique_count": 105,
          "nan_count": 0,
          "min": "-0.0886991408585295",
          "max": "1.0",
          "histogram": [
           {
            "bin_start": -0.0886991408585295,
            "bin_end": 0.02017077322732347,
            "count": 87
           },
           {
            "bin_start": 0.02017077322732347,
            "bin_end": 0.12904068731317642,
            "count": 17
           },
           {
            "bin_start": 0.12904068731317642,
            "bin_end": 0.23791060139902942,
            "count": 0
           },
           {
            "bin_start": 0.23791060139902942,
            "bin_end": 0.34678051548488237,
            "count": 0
           },
           {
            "bin_start": 0.34678051548488237,
            "bin_end": 0.4556504295707353,
            "count": 0
           },
           {
            "bin_start": 0.4556504295707353,
            "bin_end": 0.5645203436565883,
            "count": 0
           },
           {
            "bin_start": 0.5645203436565883,
            "bin_end": 0.6733902577424412,
            "count": 0
           },
           {
            "bin_start": 0.6733902577424412,
            "bin_end": 0.7822601718282942,
            "count": 0
           },
           {
            "bin_start": 0.7822601718282942,
            "bin_end": 0.8911300859141472,
            "count": 0
           },
           {
            "bin_start": 0.8911300859141472,
            "bin_end": 1,
            "count": 1
           }
          ]
         }
        },
        {
         "name": 40,
         "dtype": "float64",
         "stats": {
          "unique_count": 105,
          "nan_count": 0,
          "min": "-0.19739549464440495",
          "max": "1.0",
          "histogram": [
           {
            "bin_start": -0.19739549464440495,
            "bin_end": -0.07765594517996445,
            "count": 11
           },
           {
            "bin_start": -0.07765594517996445,
            "bin_end": 0.04208360428447605,
            "count": 82
           },
           {
            "bin_start": 0.04208360428447605,
            "bin_end": 0.16182315374891657,
            "count": 7
           },
           {
            "bin_start": 0.16182315374891657,
            "bin_end": 0.2815627032133571,
            "count": 3
           },
           {
            "bin_start": 0.2815627032133571,
            "bin_end": 0.4013022526777975,
            "count": 1
           },
           {
            "bin_start": 0.4013022526777975,
            "bin_end": 0.521041802142238,
            "count": 0
           },
           {
            "bin_start": 0.521041802142238,
            "bin_end": 0.6407813516066785,
            "count": 0
           },
           {
            "bin_start": 0.6407813516066785,
            "bin_end": 0.760520901071119,
            "count": 0
           },
           {
            "bin_start": 0.760520901071119,
            "bin_end": 0.8802604505355596,
            "count": 0
           },
           {
            "bin_start": 0.8802604505355596,
            "bin_end": 1,
            "count": 1
           }
          ]
         }
        },
        {
         "name": 41,
         "dtype": "float64",
         "stats": {
          "unique_count": 105,
          "nan_count": 0,
          "min": "-0.15241405708441672",
          "max": "1.0",
          "histogram": [
           {
            "bin_start": -0.15241405708441672,
            "bin_end": -0.03717265137597503,
            "count": 7
           },
           {
            "bin_start": -0.03717265137597503,
            "bin_end": 0.07806875433246666,
            "count": 95
           },
           {
            "bin_start": 0.07806875433246666,
            "bin_end": 0.19331016004090837,
            "count": 1
           },
           {
            "bin_start": 0.19331016004090837,
            "bin_end": 0.30855156574935005,
            "count": 1
           },
           {
            "bin_start": 0.30855156574935005,
            "bin_end": 0.4237929714577917,
            "count": 0
           },
           {
            "bin_start": 0.4237929714577917,
            "bin_end": 0.5390343771662335,
            "count": 0
           },
           {
            "bin_start": 0.5390343771662335,
            "bin_end": 0.6542757828746751,
            "count": 0
           },
           {
            "bin_start": 0.6542757828746751,
            "bin_end": 0.7695171885831168,
            "count": 0
           },
           {
            "bin_start": 0.7695171885831168,
            "bin_end": 0.8847585942915585,
            "count": 0
           },
           {
            "bin_start": 0.8847585942915585,
            "bin_end": 1,
            "count": 1
           }
          ]
         }
        },
        {
         "name": 42,
         "dtype": "float64",
         "stats": {
          "unique_count": 105,
          "nan_count": 0,
          "min": "-0.1685827865982827",
          "max": "1.0",
          "histogram": [
           {
            "bin_start": -0.1685827865982827,
            "bin_end": -0.05172450793845444,
            "count": 13
           },
           {
            "bin_start": -0.05172450793845444,
            "bin_end": 0.06513377072137383,
            "count": 90
           },
           {
            "bin_start": 0.06513377072137383,
            "bin_end": 0.1819920493812021,
            "count": 1
           },
           {
            "bin_start": 0.1819920493812021,
            "bin_end": 0.2988503280410304,
            "count": 0
           },
           {
            "bin_start": 0.2988503280410304,
            "bin_end": 0.41570860670085863,
            "count": 0
           },
           {
            "bin_start": 0.41570860670085863,
            "bin_end": 0.5325668853606869,
            "count": 0
           },
           {
            "bin_start": 0.5325668853606869,
            "bin_end": 0.6494251640205152,
            "count": 0
           },
           {
            "bin_start": 0.6494251640205152,
            "bin_end": 0.7662834426803434,
            "count": 0
           },
           {
            "bin_start": 0.7662834426803434,
            "bin_end": 0.8831417213401718,
            "count": 0
           },
           {
            "bin_start": 0.8831417213401718,
            "bin_end": 1,
            "count": 1
           }
          ]
         }
        },
        {
         "name": 43,
         "dtype": "float64",
         "stats": {
          "unique_count": 105,
          "nan_count": 0,
          "min": "-0.08126474002036096",
          "max": "1.0",
          "histogram": [
           {
            "bin_start": -0.08126474002036096,
            "bin_end": 0.02686173398167513,
            "count": 98
           },
           {
            "bin_start": 0.02686173398167513,
            "bin_end": 0.13498820798371122,
            "count": 6
           },
           {
            "bin_start": 0.13498820798371122,
            "bin_end": 0.2431146819857473,
            "count": 0
           },
           {
            "bin_start": 0.2431146819857473,
            "bin_end": 0.3512411559877834,
            "count": 0
           },
           {
            "bin_start": 0.3512411559877834,
            "bin_end": 0.4593676299898195,
            "count": 0
           },
           {
            "bin_start": 0.4593676299898195,
            "bin_end": 0.5674941039918555,
            "count": 0
           },
           {
            "bin_start": 0.5674941039918555,
            "bin_end": 0.6756205779938916,
            "count": 0
           },
           {
            "bin_start": 0.6756205779938916,
            "bin_end": 0.7837470519959278,
            "count": 0
           },
           {
            "bin_start": 0.7837470519959278,
            "bin_end": 0.8918735259979639,
            "count": 0
           },
           {
            "bin_start": 0.8918735259979639,
            "bin_end": 1,
            "count": 1
           }
          ]
         }
        },
        {
         "name": 44,
         "dtype": "float64",
         "stats": {
          "unique_count": 105,
          "nan_count": 0,
          "min": "-0.11592991876341092",
          "max": "1.0",
          "histogram": [
           {
            "bin_start": -0.11592991876341092,
            "bin_end": -0.004336926887069839,
            "count": 58
           },
           {
            "bin_start": -0.004336926887069839,
            "bin_end": 0.10725606498927125,
            "count": 45
           },
           {
            "bin_start": 0.10725606498927125,
            "bin_end": 0.21884905686561235,
            "count": 1
           },
           {
            "bin_start": 0.21884905686561235,
            "bin_end": 0.33044204874195343,
            "count": 0
           },
           {
            "bin_start": 0.33044204874195343,
            "bin_end": 0.4420350406182945,
            "count": 0
           },
           {
            "bin_start": 0.4420350406182945,
            "bin_end": 0.5536280324946355,
            "count": 0
           },
           {
            "bin_start": 0.5536280324946355,
            "bin_end": 0.6652210243709766,
            "count": 0
           },
           {
            "bin_start": 0.6652210243709766,
            "bin_end": 0.7768140162473177,
            "count": 0
           },
           {
            "bin_start": 0.7768140162473177,
            "bin_end": 0.8884070081236587,
            "count": 0
           },
           {
            "bin_start": 0.8884070081236587,
            "bin_end": 1,
            "count": 1
           }
          ]
         }
        },
        {
         "name": 45,
         "dtype": "float64",
         "stats": {
          "unique_count": 105,
          "nan_count": 0,
          "min": "-0.5767295422872669",
          "max": "1.0",
          "histogram": [
           {
            "bin_start": -0.5767295422872669,
            "bin_end": -0.41905658805854024,
            "count": 2
           },
           {
            "bin_start": -0.41905658805854024,
            "bin_end": -0.26138363382981356,
            "count": 3
           },
           {
            "bin_start": -0.26138363382981356,
            "bin_end": -0.10371067960108687,
            "count": 8
           },
           {
            "bin_start": -0.10371067960108687,
            "bin_end": 0.053962274627639806,
            "count": 74
           },
           {
            "bin_start": 0.053962274627639806,
            "bin_end": 0.21163522885636654,
            "count": 12
           },
           {
            "bin_start": 0.21163522885636654,
            "bin_end": 0.36930818308509317,
            "count": 2
           },
           {
            "bin_start": 0.36930818308509317,
            "bin_end": 0.5269811373138198,
            "count": 1
           },
           {
            "bin_start": 0.5269811373138198,
            "bin_end": 0.6846540915425465,
            "count": 1
           },
           {
            "bin_start": 0.6846540915425465,
            "bin_end": 0.8423270457712733,
            "count": 0
           },
           {
            "bin_start": 0.8423270457712733,
            "bin_end": 1,
            "count": 2
           }
          ]
         }
        },
        {
         "name": 46,
         "dtype": "float64",
         "stats": {
          "unique_count": 105,
          "nan_count": 0,
          "min": "-0.5375882944266454",
          "max": "1.0",
          "histogram": [
           {
            "bin_start": -0.5375882944266454,
            "bin_end": -0.38382946498398085,
            "count": 2
           },
           {
            "bin_start": -0.38382946498398085,
            "bin_end": -0.2300706355413163,
            "count": 1
           },
           {
            "bin_start": -0.2300706355413163,
            "bin_end": -0.07631180609865174,
            "count": 5
           },
           {
            "bin_start": -0.07631180609865174,
            "bin_end": 0.07744702334401277,
            "count": 93
           },
           {
            "bin_start": 0.07744702334401277,
            "bin_end": 0.23120585278667727,
            "count": 1
           },
           {
            "bin_start": 0.23120585278667727,
            "bin_end": 0.3849646822293419,
            "count": 2
           },
           {
            "bin_start": 0.3849646822293419,
            "bin_end": 0.5387235116720063,
            "count": 0
           },
           {
            "bin_start": 0.5387235116720063,
            "bin_end": 0.6924823411146709,
            "count": 0
           },
           {
            "bin_start": 0.6924823411146709,
            "bin_end": 0.8462411705573355,
            "count": 0
           },
           {
            "bin_start": 0.8462411705573355,
            "bin_end": 1,
            "count": 1
           }
          ]
         }
        },
        {
         "name": 47,
         "dtype": "float64",
         "stats": {
          "unique_count": 105,
          "nan_count": 0,
          "min": "-0.14546477309606223",
          "max": "1.0",
          "histogram": [
           {
            "bin_start": -0.14546477309606223,
            "bin_end": -0.030918295786455996,
            "count": 16
           },
           {
            "bin_start": -0.030918295786455996,
            "bin_end": 0.08362818152315024,
            "count": 86
           },
           {
            "bin_start": 0.08362818152315024,
            "bin_end": 0.1981746588327565,
            "count": 2
           },
           {
            "bin_start": 0.1981746588327565,
            "bin_end": 0.31272113614236274,
            "count": 0
           },
           {
            "bin_start": 0.31272113614236274,
            "bin_end": 0.42726761345196895,
            "count": 0
           },
           {
            "bin_start": 0.42726761345196895,
            "bin_end": 0.5418140907615753,
            "count": 0
           },
           {
            "bin_start": 0.5418140907615753,
            "bin_end": 0.6563605680711815,
            "count": 0
           },
           {
            "bin_start": 0.6563605680711815,
            "bin_end": 0.7709070453807877,
            "count": 0
           },
           {
            "bin_start": 0.7709070453807877,
            "bin_end": 0.885453522690394,
            "count": 0
           },
           {
            "bin_start": 0.885453522690394,
            "bin_end": 1,
            "count": 1
           }
          ]
         }
        },
        {
         "name": 48,
         "dtype": "float64",
         "stats": {
          "unique_count": 105,
          "nan_count": 0,
          "min": "-0.4329178805127046",
          "max": "1.0",
          "histogram": [
           {
            "bin_start": -0.4329178805127046,
            "bin_end": -0.2896260924614341,
            "count": 3
           },
           {
            "bin_start": -0.2896260924614341,
            "bin_end": -0.14633430441016365,
            "count": 4
           },
           {
            "bin_start": -0.14633430441016365,
            "bin_end": -0.003042516358893188,
            "count": 63
           },
           {
            "bin_start": -0.003042516358893188,
            "bin_end": 0.14024927169237728,
            "count": 33
           },
           {
            "bin_start": 0.14024927169237728,
            "bin_end": 0.2835410597436478,
            "count": 0
           },
           {
            "bin_start": 0.2835410597436478,
            "bin_end": 0.4268328477949182,
            "count": 0
           },
           {
            "bin_start": 0.4268328477949182,
            "bin_end": 0.5701246358461887,
            "count": 1
           },
           {
            "bin_start": 0.5701246358461887,
            "bin_end": 0.7134164238974592,
            "count": 0
           },
           {
            "bin_start": 0.7134164238974592,
            "bin_end": 0.8567082119487297,
            "count": 0
           },
           {
            "bin_start": 0.8567082119487297,
            "bin_end": 1,
            "count": 1
           }
          ]
         }
        },
        {
         "name": 49,
         "dtype": "float64",
         "stats": {
          "unique_count": 105,
          "nan_count": 0,
          "min": "-0.3212732037336059",
          "max": "1.0",
          "histogram": [
           {
            "bin_start": -0.3212732037336059,
            "bin_end": -0.18914588336024532,
            "count": 4
           },
           {
            "bin_start": -0.18914588336024532,
            "bin_end": -0.057018562986884735,
            "count": 7
           },
           {
            "bin_start": -0.057018562986884735,
            "bin_end": 0.07510875738647582,
            "count": 87
           },
           {
            "bin_start": 0.07510875738647582,
            "bin_end": 0.20723607775983643,
            "count": 5
           },
           {
            "bin_start": 0.20723607775983643,
            "bin_end": 0.33936339813319705,
            "count": 1
           },
           {
            "bin_start": 0.33936339813319705,
            "bin_end": 0.47149071850655755,
            "count": 0
           },
           {
            "bin_start": 0.47149071850655755,
            "bin_end": 0.6036180388799182,
            "count": 0
           },
           {
            "bin_start": 0.6036180388799182,
            "bin_end": 0.7357453592532788,
            "count": 0
           },
           {
            "bin_start": 0.7357453592532788,
            "bin_end": 0.8678726796266394,
            "count": 0
           },
           {
            "bin_start": 0.8678726796266394,
            "bin_end": 1,
            "count": 1
           }
          ]
         }
        },
        {
         "name": 50,
         "dtype": "float64",
         "stats": {
          "unique_count": 105,
          "nan_count": 0,
          "min": "-0.3193105480034051",
          "max": "1.0",
          "histogram": [
           {
            "bin_start": -0.3193105480034051,
            "bin_end": -0.18737949320306457,
            "count": 1
           },
           {
            "bin_start": -0.18737949320306457,
            "bin_end": -0.055448438402724065,
            "count": 8
           },
           {
            "bin_start": -0.055448438402724065,
            "bin_end": 0.07648261639761644,
            "count": 92
           },
           {
            "bin_start": 0.07648261639761644,
            "bin_end": 0.20841367119795695,
            "count": 2
           },
           {
            "bin_start": 0.20841367119795695,
            "bin_end": 0.34034472599829746,
            "count": 1
           },
           {
            "bin_start": 0.34034472599829746,
            "bin_end": 0.47227578079863797,
            "count": 0
           },
           {
            "bin_start": 0.47227578079863797,
            "bin_end": 0.6042068355989785,
            "count": 0
           },
           {
            "bin_start": 0.6042068355989785,
            "bin_end": 0.736137890399319,
            "count": 0
           },
           {
            "bin_start": 0.736137890399319,
            "bin_end": 0.8680689451996595,
            "count": 0
           },
           {
            "bin_start": 0.8680689451996595,
            "bin_end": 1,
            "count": 1
           }
          ]
         }
        },
        {
         "name": 51,
         "dtype": "float64",
         "stats": {
          "unique_count": 105,
          "nan_count": 0,
          "min": "-0.07865412598902845",
          "max": "1.0",
          "histogram": [
           {
            "bin_start": -0.07865412598902845,
            "bin_end": 0.029211286609874404,
            "count": 102
           },
           {
            "bin_start": 0.029211286609874404,
            "bin_end": 0.13707669920877724,
            "count": 2
           },
           {
            "bin_start": 0.13707669920877724,
            "bin_end": 0.2449421118076801,
            "count": 0
           },
           {
            "bin_start": 0.2449421118076801,
            "bin_end": 0.352807524406583,
            "count": 0
           },
           {
            "bin_start": 0.352807524406583,
            "bin_end": 0.46067293700548584,
            "count": 0
           },
           {
            "bin_start": 0.46067293700548584,
            "bin_end": 0.5685383496043886,
            "count": 0
           },
           {
            "bin_start": 0.5685383496043886,
            "bin_end": 0.6764037622032916,
            "count": 0
           },
           {
            "bin_start": 0.6764037622032916,
            "bin_end": 0.7842691748021944,
            "count": 0
           },
           {
            "bin_start": 0.7842691748021944,
            "bin_end": 0.8921345874010972,
            "count": 0
           },
           {
            "bin_start": 0.8921345874010972,
            "bin_end": 1,
            "count": 1
           }
          ]
         }
        },
        {
         "name": 52,
         "dtype": "float64",
         "stats": {
          "unique_count": 105,
          "nan_count": 0,
          "min": "-0.1988012413077846",
          "max": "1.0",
          "histogram": [
           {
            "bin_start": -0.1988012413077846,
            "bin_end": -0.07892111717700613,
            "count": 1
           },
           {
            "bin_start": -0.07892111717700613,
            "bin_end": 0.04095900695377233,
            "count": 103
           },
           {
            "bin_start": 0.04095900695377233,
            "bin_end": 0.16083913108455078,
            "count": 0
           },
           {
            "bin_start": 0.16083913108455078,
            "bin_end": 0.28071925521532926,
            "count": 0
           },
           {
            "bin_start": 0.28071925521532926,
            "bin_end": 0.40059937934610773,
            "count": 0
           },
           {
            "bin_start": 0.40059937934610773,
            "bin_end": 0.5204795034768861,
            "count": 0
           },
           {
            "bin_start": 0.5204795034768861,
            "bin_end": 0.6403596276076646,
            "count": 0
           },
           {
            "bin_start": 0.6403596276076646,
            "bin_end": 0.7602397517384432,
            "count": 0
           },
           {
            "bin_start": 0.7602397517384432,
            "bin_end": 0.8801198758692215,
            "count": 0
           },
           {
            "bin_start": 0.8801198758692215,
            "bin_end": 1,
            "count": 1
           }
          ]
         }
        },
        {
         "name": 53,
         "dtype": "float64",
         "stats": {
          "unique_count": 105,
          "nan_count": 0,
          "min": "-0.156404534889922",
          "max": "1.0",
          "histogram": [
           {
            "bin_start": -0.156404534889922,
            "bin_end": -0.040764081400929825,
            "count": 2
           },
           {
            "bin_start": -0.040764081400929825,
            "bin_end": 0.07487637208806236,
            "count": 101
           },
           {
            "bin_start": 0.07487637208806236,
            "bin_end": 0.19051682557705452,
            "count": 0
           },
           {
            "bin_start": 0.19051682557705452,
            "bin_end": 0.30615727906604673,
            "count": 1
           },
           {
            "bin_start": 0.30615727906604673,
            "bin_end": 0.42179773255503894,
            "count": 0
           },
           {
            "bin_start": 0.42179773255503894,
            "bin_end": 0.537438186044031,
            "count": 0
           },
           {
            "bin_start": 0.537438186044031,
            "bin_end": 0.6530786395330233,
            "count": 0
           },
           {
            "bin_start": 0.6530786395330233,
            "bin_end": 0.7687190930220155,
            "count": 0
           },
           {
            "bin_start": 0.7687190930220155,
            "bin_end": 0.8843595465110076,
            "count": 0
           },
           {
            "bin_start": 0.8843595465110076,
            "bin_end": 1,
            "count": 1
           }
          ]
         }
        },
        {
         "name": 54,
         "dtype": "float64",
         "stats": {
          "unique_count": 105,
          "nan_count": 0,
          "min": "-0.13868765093913726",
          "max": "1.0",
          "histogram": [
           {
            "bin_start": -0.13868765093913726,
            "bin_end": -0.024818885845223543,
            "count": 1
           },
           {
            "bin_start": -0.024818885845223543,
            "bin_end": 0.08904987924869018,
            "count": 103
           },
           {
            "bin_start": 0.08904987924869018,
            "bin_end": 0.20291864434260387,
            "count": 0
           },
           {
            "bin_start": 0.20291864434260387,
            "bin_end": 0.3167874094365176,
            "count": 0
           },
           {
            "bin_start": 0.3167874094365176,
            "bin_end": 0.43065617453043137,
            "count": 0
           },
           {
            "bin_start": 0.43065617453043137,
            "bin_end": 0.544524939624345,
            "count": 0
           },
           {
            "bin_start": 0.544524939624345,
            "bin_end": 0.6583937047182588,
            "count": 0
           },
           {
            "bin_start": 0.6583937047182588,
            "bin_end": 0.7722624698121725,
            "count": 0
           },
           {
            "bin_start": 0.7722624698121725,
            "bin_end": 0.8861312349060861,
            "count": 0
           },
           {
            "bin_start": 0.8861312349060861,
            "bin_end": 1,
            "count": 1
           }
          ]
         }
        },
        {
         "name": 55,
         "dtype": "float64",
         "stats": {
          "unique_count": 105,
          "nan_count": 0,
          "min": "-0.1760817070455758",
          "max": "1.0",
          "histogram": [
           {
            "bin_start": -0.1760817070455758,
            "bin_end": -0.05847353634101822,
            "count": 1
           },
           {
            "bin_start": -0.05847353634101822,
            "bin_end": 0.05913463436353936,
            "count": 103
           },
           {
            "bin_start": 0.05913463436353936,
            "bin_end": 0.17674280506809692,
            "count": 0
           },
           {
            "bin_start": 0.17674280506809692,
            "bin_end": 0.2943509757726545,
            "count": 0
           },
           {
            "bin_start": 0.2943509757726545,
            "bin_end": 0.4119591464772121,
            "count": 0
           },
           {
            "bin_start": 0.4119591464772121,
            "bin_end": 0.5295673171817696,
            "count": 0
           },
           {
            "bin_start": 0.5295673171817696,
            "bin_end": 0.6471754878863273,
            "count": 0
           },
           {
            "bin_start": 0.6471754878863273,
            "bin_end": 0.7647836585908848,
            "count": 0
           },
           {
            "bin_start": 0.7647836585908848,
            "bin_end": 0.8823918292954425,
            "count": 0
           },
           {
            "bin_start": 0.8823918292954425,
            "bin_end": 1,
            "count": 1
           }
          ]
         }
        },
        {
         "name": 56,
         "dtype": "float64",
         "stats": {
          "unique_count": 105,
          "nan_count": 0,
          "min": "-0.1510895091622445",
          "max": "1.0",
          "histogram": [
           {
            "bin_start": -0.1510895091622445,
            "bin_end": -0.03598055824602005,
            "count": 3
           },
           {
            "bin_start": -0.03598055824602005,
            "bin_end": 0.07912839267020441,
            "count": 100
           },
           {
            "bin_start": 0.07912839267020441,
            "bin_end": 0.19423734358642886,
            "count": 1
           },
           {
            "bin_start": 0.19423734358642886,
            "bin_end": 0.30934629450265333,
            "count": 0
           },
           {
            "bin_start": 0.30934629450265333,
            "bin_end": 0.4244552454188778,
            "count": 0
           },
           {
            "bin_start": 0.4244552454188778,
            "bin_end": 0.5395641963351022,
            "count": 0
           },
           {
            "bin_start": 0.5395641963351022,
            "bin_end": 0.6546731472513267,
            "count": 0
           },
           {
            "bin_start": 0.6546731472513267,
            "bin_end": 0.7697820981675512,
            "count": 0
           },
           {
            "bin_start": 0.7697820981675512,
            "bin_end": 0.8848910490837757,
            "count": 0
           },
           {
            "bin_start": 0.8848910490837757,
            "bin_end": 1,
            "count": 1
           }
          ]
         }
        },
        {
         "name": 57,
         "dtype": "float64",
         "stats": {
          "unique_count": 105,
          "nan_count": 0,
          "min": "-0.09549569383340202",
          "max": "1.0",
          "histogram": [
           {
            "bin_start": -0.09549569383340202,
            "bin_end": 0.014053875549938172,
            "count": 101
           },
           {
            "bin_start": 0.014053875549938172,
            "bin_end": 0.12360344493327836,
            "count": 3
           },
           {
            "bin_start": 0.12360344493327836,
            "bin_end": 0.23315301431661856,
            "count": 0
           },
           {
            "bin_start": 0.23315301431661856,
            "bin_end": 0.34270258369995876,
            "count": 0
           },
           {
            "bin_start": 0.34270258369995876,
            "bin_end": 0.45225215308329897,
            "count": 0
           },
           {
            "bin_start": 0.45225215308329897,
            "bin_end": 0.5618017224666391,
            "count": 0
           },
           {
            "bin_start": 0.5618017224666391,
            "bin_end": 0.6713512918499793,
            "count": 0
           },
           {
            "bin_start": 0.6713512918499793,
            "bin_end": 0.7809008612333195,
            "count": 0
           },
           {
            "bin_start": 0.7809008612333195,
            "bin_end": 0.8904504306166596,
            "count": 0
           },
           {
            "bin_start": 0.8904504306166596,
            "bin_end": 1,
            "count": 1
           }
          ]
         }
        },
        {
         "name": 58,
         "dtype": "float64",
         "stats": {
          "unique_count": 105,
          "nan_count": 0,
          "min": "-0.18602827342908793",
          "max": "1.0",
          "histogram": [
           {
            "bin_start": -0.18602827342908793,
            "bin_end": -0.06742544608617913,
            "count": 2
           },
           {
            "bin_start": -0.06742544608617913,
            "bin_end": 0.05117738125672966,
            "count": 98
           },
           {
            "bin_start": 0.05117738125672966,
            "bin_end": 0.16978020859963847,
            "count": 4
           },
           {
            "bin_start": 0.16978020859963847,
            "bin_end": 0.2883830359425472,
            "count": 0
           },
           {
            "bin_start": 0.2883830359425472,
            "bin_end": 0.40698586328545605,
            "count": 0
           },
           {
            "bin_start": 0.40698586328545605,
            "bin_end": 0.5255886906283649,
            "count": 0
           },
           {
            "bin_start": 0.5255886906283649,
            "bin_end": 0.6441915179712736,
            "count": 0
           },
           {
            "bin_start": 0.6441915179712736,
            "bin_end": 0.7627943453141824,
            "count": 0
           },
           {
            "bin_start": 0.7627943453141824,
            "bin_end": 0.8813971726570913,
            "count": 0
           },
           {
            "bin_start": 0.8813971726570913,
            "bin_end": 1,
            "count": 1
           }
          ]
         }
        },
        {
         "name": 59,
         "dtype": "float64",
         "stats": {
          "unique_count": 105,
          "nan_count": 0,
          "min": "-0.17137215274179615",
          "max": "1.0",
          "histogram": [
           {
            "bin_start": -0.17137215274179615,
            "bin_end": -0.05423493746761654,
            "count": 1
           },
           {
            "bin_start": -0.05423493746761654,
            "bin_end": 0.06290227780656307,
            "count": 103
           },
           {
            "bin_start": 0.06290227780656307,
            "bin_end": 0.18003949308074266,
            "count": 0
           },
           {
            "bin_start": 0.18003949308074266,
            "bin_end": 0.29717670835492227,
            "count": 0
           },
           {
            "bin_start": 0.29717670835492227,
            "bin_end": 0.4143139236291019,
            "count": 0
           },
           {
            "bin_start": 0.4143139236291019,
            "bin_end": 0.5314511389032814,
            "count": 0
           },
           {
            "bin_start": 0.5314511389032814,
            "bin_end": 0.6485883541774611,
            "count": 0
           },
           {
            "bin_start": 0.6485883541774611,
            "bin_end": 0.7657255694516407,
            "count": 0
           },
           {
            "bin_start": 0.7657255694516407,
            "bin_end": 0.8828627847258204,
            "count": 0
           },
           {
            "bin_start": 0.8828627847258204,
            "bin_end": 1,
            "count": 1
           }
          ]
         }
        },
        {
         "name": 60,
         "dtype": "float64",
         "stats": {
          "unique_count": 105,
          "nan_count": 0,
          "min": "-0.0971875080178314",
          "max": "1.0",
          "histogram": [
           {
            "bin_start": -0.0971875080178314,
            "bin_end": 0.012531242783951749,
            "count": 99
           },
           {
            "bin_start": 0.012531242783951749,
            "bin_end": 0.12224999358573489,
            "count": 5
           },
           {
            "bin_start": 0.12224999358573489,
            "bin_end": 0.23196874438751802,
            "count": 0
           },
           {
            "bin_start": 0.23196874438751802,
            "bin_end": 0.3416874951893012,
            "count": 0
           },
           {
            "bin_start": 0.3416874951893012,
            "bin_end": 0.45140624599108436,
            "count": 0
           },
           {
            "bin_start": 0.45140624599108436,
            "bin_end": 0.5611249967928674,
            "count": 0
           },
           {
            "bin_start": 0.5611249967928674,
            "bin_end": 0.6708437475946506,
            "count": 0
           },
           {
            "bin_start": 0.6708437475946506,
            "bin_end": 0.7805624983964338,
            "count": 0
           },
           {
            "bin_start": 0.7805624983964338,
            "bin_end": 0.8902812491982169,
            "count": 0
           },
           {
            "bin_start": 0.8902812491982169,
            "bin_end": 1,
            "count": 1
           }
          ]
         }
        },
        {
         "name": 61,
         "dtype": "float64",
         "stats": {
          "unique_count": 105,
          "nan_count": 0,
          "min": "-0.21158935642756752",
          "max": "1.0",
          "histogram": [
           {
            "bin_start": -0.21158935642756752,
            "bin_end": -0.09043042078481077,
            "count": 1
           },
           {
            "bin_start": -0.09043042078481077,
            "bin_end": 0.030728514857945977,
            "count": 103
           },
           {
            "bin_start": 0.030728514857945977,
            "bin_end": 0.1518874505007027,
            "count": 0
           },
           {
            "bin_start": 0.1518874505007027,
            "bin_end": 0.27304638614345944,
            "count": 0
           },
           {
            "bin_start": 0.27304638614345944,
            "bin_end": 0.39420532178621626,
            "count": 0
           },
           {
            "bin_start": 0.39420532178621626,
            "bin_end": 0.515364257428973,
            "count": 0
           },
           {
            "bin_start": 0.515364257428973,
            "bin_end": 0.6365231930717298,
            "count": 0
           },
           {
            "bin_start": 0.6365231930717298,
            "bin_end": 0.7576821287144865,
            "count": 0
           },
           {
            "bin_start": 0.7576821287144865,
            "bin_end": 0.8788410643572433,
            "count": 0
           },
           {
            "bin_start": 0.8788410643572433,
            "bin_end": 1,
            "count": 1
           }
          ]
         }
        },
        {
         "name": 62,
         "dtype": "float64",
         "stats": {
          "unique_count": 105,
          "nan_count": 0,
          "min": "-0.09718750801782997",
          "max": "1.0",
          "histogram": [
           {
            "bin_start": -0.09718750801782997,
            "bin_end": 0.012531242783953025,
            "count": 97
           },
           {
            "bin_start": 0.012531242783953025,
            "bin_end": 0.12224999358573602,
            "count": 7
           },
           {
            "bin_start": 0.12224999358573602,
            "bin_end": 0.231968744387519,
            "count": 0
           },
           {
            "bin_start": 0.231968744387519,
            "bin_end": 0.34168749518930197,
            "count": 0
           },
           {
            "bin_start": 0.34168749518930197,
            "bin_end": 0.45140624599108503,
            "count": 0
           },
           {
            "bin_start": 0.45140624599108503,
            "bin_end": 0.561124996792868,
            "count": 0
           },
           {
            "bin_start": 0.561124996792868,
            "bin_end": 0.670843747594651,
            "count": 0
           },
           {
            "bin_start": 0.670843747594651,
            "bin_end": 0.780562498396434,
            "count": 0
           },
           {
            "bin_start": 0.780562498396434,
            "bin_end": 0.8902812491982169,
            "count": 0
           },
           {
            "bin_start": 0.8902812491982169,
            "bin_end": 1,
            "count": 1
           }
          ]
         }
        },
        {
         "name": 63,
         "dtype": "float64",
         "stats": {
          "unique_count": 105,
          "nan_count": 0,
          "min": "-0.14445586567129673",
          "max": "1.0",
          "histogram": [
           {
            "bin_start": -0.14445586567129673,
            "bin_end": -0.030010279104167065,
            "count": 2
           },
           {
            "bin_start": -0.030010279104167065,
            "bin_end": 0.0844353074629626,
            "count": 101
           },
           {
            "bin_start": 0.0844353074629626,
            "bin_end": 0.19888089403009226,
            "count": 1
           },
           {
            "bin_start": 0.19888089403009226,
            "bin_end": 0.3133264805972219,
            "count": 0
           },
           {
            "bin_start": 0.3133264805972219,
            "bin_end": 0.42777206716435157,
            "count": 0
           },
           {
            "bin_start": 0.42777206716435157,
            "bin_end": 0.5422176537314812,
            "count": 0
           },
           {
            "bin_start": 0.5422176537314812,
            "bin_end": 0.6566632402986109,
            "count": 0
           },
           {
            "bin_start": 0.6566632402986109,
            "bin_end": 0.7711088268657406,
            "count": 0
           },
           {
            "bin_start": 0.7711088268657406,
            "bin_end": 0.8855544134328702,
            "count": 0
           },
           {
            "bin_start": 0.8855544134328702,
            "bin_end": 1,
            "count": 1
           }
          ]
         }
        },
        {
         "name": 64,
         "dtype": "float64",
         "stats": {
          "unique_count": 105,
          "nan_count": 0,
          "min": "-0.11973963560086615",
          "max": "1.0",
          "histogram": [
           {
            "bin_start": -0.11973963560086615,
            "bin_end": -0.00776567204077952,
            "count": 13
           },
           {
            "bin_start": -0.00776567204077952,
            "bin_end": 0.1042082915193071,
            "count": 90
           },
           {
            "bin_start": 0.1042082915193071,
            "bin_end": 0.21618225507939376,
            "count": 1
           },
           {
            "bin_start": 0.21618225507939376,
            "bin_end": 0.32815621863948036,
            "count": 0
           },
           {
            "bin_start": 0.32815621863948036,
            "bin_end": 0.44013018219956695,
            "count": 0
           },
           {
            "bin_start": 0.44013018219956695,
            "bin_end": 0.5521041457596536,
            "count": 0
           },
           {
            "bin_start": 0.5521041457596536,
            "bin_end": 0.6640781093197403,
            "count": 0
           },
           {
            "bin_start": 0.6640781093197403,
            "bin_end": 0.7760520728798268,
            "count": 0
           },
           {
            "bin_start": 0.7760520728798268,
            "bin_end": 0.8880260364399135,
            "count": 0
           },
           {
            "bin_start": 0.8880260364399135,
            "bin_end": 1,
            "count": 1
           }
          ]
         }
        },
        {
         "name": 65,
         "dtype": "float64",
         "stats": {
          "unique_count": 105,
          "nan_count": 0,
          "min": "-0.01803950561749876",
          "max": "1.0",
          "histogram": [
           {
            "bin_start": -0.01803950561749876,
            "bin_end": 0.08376444494425112,
            "count": 104
           },
           {
            "bin_start": 0.08376444494425112,
            "bin_end": 0.185568395506001,
            "count": 0
           },
           {
            "bin_start": 0.185568395506001,
            "bin_end": 0.28737234606775086,
            "count": 0
           },
           {
            "bin_start": 0.28737234606775086,
            "bin_end": 0.3891762966295007,
            "count": 0
           },
           {
            "bin_start": 0.3891762966295007,
            "bin_end": 0.49098024719125055,
            "count": 0
           },
           {
            "bin_start": 0.49098024719125055,
            "bin_end": 0.5927841977530005,
            "count": 0
           },
           {
            "bin_start": 0.5927841977530005,
            "bin_end": 0.6945881483147504,
            "count": 0
           },
           {
            "bin_start": 0.6945881483147504,
            "bin_end": 0.7963920988765002,
            "count": 0
           },
           {
            "bin_start": 0.7963920988765002,
            "bin_end": 0.89819604943825,
            "count": 0
           },
           {
            "bin_start": 0.89819604943825,
            "bin_end": 1,
            "count": 1
           }
          ]
         }
        },
        {
         "name": 66,
         "dtype": "float64",
         "stats": {
          "unique_count": 105,
          "nan_count": 0,
          "min": "-0.06505435149526279",
          "max": "1.0",
          "histogram": [
           {
            "bin_start": -0.06505435149526279,
            "bin_end": 0.041451083654263504,
            "count": 104
           },
           {
            "bin_start": 0.041451083654263504,
            "bin_end": 0.1479565188037898,
            "count": 0
           },
           {
            "bin_start": 0.1479565188037898,
            "bin_end": 0.2544619539533161,
            "count": 0
           },
           {
            "bin_start": 0.2544619539533161,
            "bin_end": 0.3609673891028424,
            "count": 0
           },
           {
            "bin_start": 0.3609673891028424,
            "bin_end": 0.46747282425236864,
            "count": 0
           },
           {
            "bin_start": 0.46747282425236864,
            "bin_end": 0.573978259401895,
            "count": 0
           },
           {
            "bin_start": 0.573978259401895,
            "bin_end": 0.6804836945514212,
            "count": 0
           },
           {
            "bin_start": 0.6804836945514212,
            "bin_end": 0.7869891297009475,
            "count": 0
           },
           {
            "bin_start": 0.7869891297009475,
            "bin_end": 0.8934945648504737,
            "count": 0
           },
           {
            "bin_start": 0.8934945648504737,
            "bin_end": 1,
            "count": 1
           }
          ]
         }
        },
        {
         "name": 67,
         "dtype": "float64",
         "stats": {
          "unique_count": 105,
          "nan_count": 0,
          "min": "-0.08069867049210223",
          "max": "1.0",
          "histogram": [
           {
            "bin_start": -0.08069867049210223,
            "bin_end": 0.027371196557107985,
            "count": 102
           },
           {
            "bin_start": 0.027371196557107985,
            "bin_end": 0.1354410636063182,
            "count": 2
           },
           {
            "bin_start": 0.1354410636063182,
            "bin_end": 0.24351093065552842,
            "count": 0
           },
           {
            "bin_start": 0.24351093065552842,
            "bin_end": 0.35158079770473866,
            "count": 0
           },
           {
            "bin_start": 0.35158079770473866,
            "bin_end": 0.4596506647539489,
            "count": 0
           },
           {
            "bin_start": 0.4596506647539489,
            "bin_end": 0.5677205318031591,
            "count": 0
           },
           {
            "bin_start": 0.5677205318031591,
            "bin_end": 0.6757903988523694,
            "count": 0
           },
           {
            "bin_start": 0.6757903988523694,
            "bin_end": 0.7838602659015795,
            "count": 0
           },
           {
            "bin_start": 0.7838602659015795,
            "bin_end": 0.8919301329507897,
            "count": 0
           },
           {
            "bin_start": 0.8919301329507897,
            "bin_end": 1,
            "count": 1
           }
          ]
         }
        },
        {
         "name": 68,
         "dtype": "float64",
         "stats": {
          "unique_count": 105,
          "nan_count": 0,
          "min": "-0.06505435149526241",
          "max": "1.0",
          "histogram": [
           {
            "bin_start": -0.06505435149526241,
            "bin_end": 0.04145108365426382,
            "count": 104
           },
           {
            "bin_start": 0.04145108365426382,
            "bin_end": 0.14795651880379007,
            "count": 0
           },
           {
            "bin_start": 0.14795651880379007,
            "bin_end": 0.2544619539533163,
            "count": 0
           },
           {
            "bin_start": 0.2544619539533163,
            "bin_end": 0.36096738910284254,
            "count": 0
           },
           {
            "bin_start": 0.36096738910284254,
            "bin_end": 0.4674728242523688,
            "count": 0
           },
           {
            "bin_start": 0.4674728242523688,
            "bin_end": 0.573978259401895,
            "count": 0
           },
           {
            "bin_start": 0.573978259401895,
            "bin_end": 0.6804836945514212,
            "count": 0
           },
           {
            "bin_start": 0.6804836945514212,
            "bin_end": 0.7869891297009475,
            "count": 0
           },
           {
            "bin_start": 0.7869891297009475,
            "bin_end": 0.8934945648504737,
            "count": 0
           },
           {
            "bin_start": 0.8934945648504737,
            "bin_end": 1,
            "count": 1
           }
          ]
         }
        },
        {
         "name": 69,
         "dtype": "float64",
         "stats": {
          "unique_count": 105,
          "nan_count": 0,
          "min": "-0.18066993240409684",
          "max": "1.0",
          "histogram": [
           {
            "bin_start": -0.18066993240409684,
            "bin_end": -0.06260293916368717,
            "count": 2
           },
           {
            "bin_start": -0.06260293916368717,
            "bin_end": 0.0554640540767225,
            "count": 100
           },
           {
            "bin_start": 0.0554640540767225,
            "bin_end": 0.17353104731713215,
            "count": 1
           },
           {
            "bin_start": 0.17353104731713215,
            "bin_end": 0.29159804055754185,
            "count": 1
           },
           {
            "bin_start": 0.29159804055754185,
            "bin_end": 0.40966503379795155,
            "count": 0
           },
           {
            "bin_start": 0.40966503379795155,
            "bin_end": 0.5277320270383612,
            "count": 0
           },
           {
            "bin_start": 0.5277320270383612,
            "bin_end": 0.6457990202787709,
            "count": 0
           },
           {
            "bin_start": 0.6457990202787709,
            "bin_end": 0.7638660135191806,
            "count": 0
           },
           {
            "bin_start": 0.7638660135191806,
            "bin_end": 0.8819330067595903,
            "count": 0
           },
           {
            "bin_start": 0.8819330067595903,
            "bin_end": 1,
            "count": 1
           }
          ]
         }
        },
        {
         "name": 70,
         "dtype": "float64",
         "stats": {
          "unique_count": 105,
          "nan_count": 0,
          "min": "-0.1183693175782556",
          "max": "1.0",
          "histogram": [
           {
            "bin_start": -0.1183693175782556,
            "bin_end": -0.006532385820430031,
            "count": 8
           },
           {
            "bin_start": -0.006532385820430031,
            "bin_end": 0.10530454593739554,
            "count": 96
           },
           {
            "bin_start": 0.10530454593739554,
            "bin_end": 0.21714147769522113,
            "count": 0
           },
           {
            "bin_start": 0.21714147769522113,
            "bin_end": 0.3289784094530467,
            "count": 0
           },
           {
            "bin_start": 0.3289784094530467,
            "bin_end": 0.44081534121087224,
            "count": 0
           },
           {
            "bin_start": 0.44081534121087224,
            "bin_end": 0.5526522729686978,
            "count": 0
           },
           {
            "bin_start": 0.5526522729686978,
            "bin_end": 0.6644892047265233,
            "count": 0
           },
           {
            "bin_start": 0.6644892047265233,
            "bin_end": 0.7763261364843489,
            "count": 0
           },
           {
            "bin_start": 0.7763261364843489,
            "bin_end": 0.8881630682421744,
            "count": 0
           },
           {
            "bin_start": 0.8881630682421744,
            "bin_end": 1,
            "count": 1
           }
          ]
         }
        },
        {
         "name": 71,
         "dtype": "float64",
         "stats": {
          "unique_count": 105,
          "nan_count": 0,
          "min": "-0.08840639808449653",
          "max": "1.0",
          "histogram": [
           {
            "bin_start": -0.08840639808449653,
            "bin_end": 0.02043424172395311,
            "count": 104
           },
           {
            "bin_start": 0.02043424172395311,
            "bin_end": 0.12927488153240274,
            "count": 0
           },
           {
            "bin_start": 0.12927488153240274,
            "bin_end": 0.2381155213408524,
            "count": 0
           },
           {
            "bin_start": 0.2381155213408524,
            "bin_end": 0.34695616114930206,
            "count": 0
           },
           {
            "bin_start": 0.34695616114930206,
            "bin_end": 0.4557968009577517,
            "count": 0
           },
           {
            "bin_start": 0.4557968009577517,
            "bin_end": 0.5646374407662013,
            "count": 0
           },
           {
            "bin_start": 0.5646374407662013,
            "bin_end": 0.673478080574651,
            "count": 0
           },
           {
            "bin_start": 0.673478080574651,
            "bin_end": 0.7823187203831006,
            "count": 0
           },
           {
            "bin_start": 0.7823187203831006,
            "bin_end": 0.8911593601915502,
            "count": 0
           },
           {
            "bin_start": 0.8911593601915502,
            "bin_end": 1,
            "count": 1
           }
          ]
         }
        },
        {
         "name": 72,
         "dtype": "float64",
         "stats": {
          "unique_count": 105,
          "nan_count": 0,
          "min": "-0.1543003002749179",
          "max": "1.0",
          "histogram": [
           {
            "bin_start": -0.1543003002749179,
            "bin_end": -0.038870270247426106,
            "count": 1
           },
           {
            "bin_start": -0.038870270247426106,
            "bin_end": 0.07655975978006568,
            "count": 103
           },
           {
            "bin_start": 0.07655975978006568,
            "bin_end": 0.19198978980755746,
            "count": 0
           },
           {
            "bin_start": 0.19198978980755746,
            "bin_end": 0.3074198198350493,
            "count": 0
           },
           {
            "bin_start": 0.3074198198350493,
            "bin_end": 0.42284984986254104,
            "count": 0
           },
           {
            "bin_start": 0.42284984986254104,
            "bin_end": 0.5382798798900328,
            "count": 0
           },
           {
            "bin_start": 0.5382798798900328,
            "bin_end": 0.6537099099175246,
            "count": 0
           },
           {
            "bin_start": 0.6537099099175246,
            "bin_end": 0.7691399399450164,
            "count": 0
           },
           {
            "bin_start": 0.7691399399450164,
            "bin_end": 0.8845699699725083,
            "count": 0
           },
           {
            "bin_start": 0.8845699699725083,
            "bin_end": 1,
            "count": 1
           }
          ]
         }
        },
        {
         "name": 73,
         "dtype": "float64",
         "stats": {
          "unique_count": 105,
          "nan_count": 0,
          "min": "-0.16255537284918392",
          "max": "1.0",
          "histogram": [
           {
            "bin_start": -0.16255537284918392,
            "bin_end": -0.04629983556426552,
            "count": 2
           },
           {
            "bin_start": -0.04629983556426552,
            "bin_end": 0.06995570172065288,
            "count": 101
           },
           {
            "bin_start": 0.06995570172065288,
            "bin_end": 0.1862112390055713,
            "count": 1
           },
           {
            "bin_start": 0.1862112390055713,
            "bin_end": 0.3024667762904897,
            "count": 0
           },
           {
            "bin_start": 0.3024667762904897,
            "bin_end": 0.41872231357540807,
            "count": 0
           },
           {
            "bin_start": 0.41872231357540807,
            "bin_end": 0.5349778508603265,
            "count": 0
           },
           {
            "bin_start": 0.5349778508603265,
            "bin_end": 0.6512333881452448,
            "count": 0
           },
           {
            "bin_start": 0.6512333881452448,
            "bin_end": 0.7674889254301633,
            "count": 0
           },
           {
            "bin_start": 0.7674889254301633,
            "bin_end": 0.8837444627150817,
            "count": 0
           },
           {
            "bin_start": 0.8837444627150817,
            "bin_end": 1,
            "count": 1
           }
          ]
         }
        },
        {
         "name": 74,
         "dtype": "float64",
         "stats": {
          "unique_count": 105,
          "nan_count": 0,
          "min": "-0.14217645297124512",
          "max": "1.0",
          "histogram": [
           {
            "bin_start": -0.14217645297124512,
            "bin_end": -0.027958807674120623,
            "count": 2
           },
           {
            "bin_start": -0.027958807674120623,
            "bin_end": 0.08625883762300388,
            "count": 101
           },
           {
            "bin_start": 0.08625883762300388,
            "bin_end": 0.20047648292012835,
            "count": 1
           },
           {
            "bin_start": 0.20047648292012835,
            "bin_end": 0.31469412821725284,
            "count": 0
           },
           {
            "bin_start": 0.31469412821725284,
            "bin_end": 0.42891177351437737,
            "count": 0
           },
           {
            "bin_start": 0.42891177351437737,
            "bin_end": 0.5431294188115018,
            "count": 0
           },
           {
            "bin_start": 0.5431294188115018,
            "bin_end": 0.6573470641086263,
            "count": 0
           },
           {
            "bin_start": 0.6573470641086263,
            "bin_end": 0.7715647094057508,
            "count": 0
           },
           {
            "bin_start": 0.7715647094057508,
            "bin_end": 0.8857823547028753,
            "count": 0
           },
           {
            "bin_start": 0.8857823547028753,
            "bin_end": 1,
            "count": 1
           }
          ]
         }
        },
        {
         "name": 75,
         "dtype": "float64",
         "stats": {
          "unique_count": 105,
          "nan_count": 0,
          "min": "-0.07655512833233911",
          "max": "1.0",
          "histogram": [
           {
            "bin_start": -0.07655512833233911,
            "bin_end": 0.031100384500894793,
            "count": 101
           },
           {
            "bin_start": 0.031100384500894793,
            "bin_end": 0.13875589733412869,
            "count": 3
           },
           {
            "bin_start": 0.13875589733412869,
            "bin_end": 0.24641141016736257,
            "count": 0
           },
           {
            "bin_start": 0.24641141016736257,
            "bin_end": 0.3540669230005965,
            "count": 0
           },
           {
            "bin_start": 0.3540669230005965,
            "bin_end": 0.46172243583383044,
            "count": 0
           },
           {
            "bin_start": 0.46172243583383044,
            "bin_end": 0.5693779486670643,
            "count": 0
           },
           {
            "bin_start": 0.5693779486670643,
            "bin_end": 0.6770334615002982,
            "count": 0
           },
           {
            "bin_start": 0.6770334615002982,
            "bin_end": 0.7846889743335321,
            "count": 0
           },
           {
            "bin_start": 0.7846889743335321,
            "bin_end": 0.8923444871667661,
            "count": 0
           },
           {
            "bin_start": 0.8923444871667661,
            "bin_end": 1,
            "count": 1
           }
          ]
         }
        },
        {
         "name": 76,
         "dtype": "float64",
         "stats": {
          "unique_count": 105,
          "nan_count": 0,
          "min": "-0.46201330305635896",
          "max": "1.0",
          "histogram": [
           {
            "bin_start": -0.46201330305635896,
            "bin_end": -0.31581197275072304,
            "count": 1
           },
           {
            "bin_start": -0.31581197275072304,
            "bin_end": -0.16961064244508717,
            "count": 1
           },
           {
            "bin_start": -0.16961064244508717,
            "bin_end": -0.023409312139451244,
            "count": 16
           },
           {
            "bin_start": -0.023409312139451244,
            "bin_end": 0.12279201816618462,
            "count": 83
           },
           {
            "bin_start": 0.12279201816618462,
            "bin_end": 0.2689933484718205,
            "count": 2
           },
           {
            "bin_start": 0.2689933484718205,
            "bin_end": 0.41519467877745647,
            "count": 1
           },
           {
            "bin_start": 0.41519467877745647,
            "bin_end": 0.5613960090830923,
            "count": 0
           },
           {
            "bin_start": 0.5613960090830923,
            "bin_end": 0.7075973393887283,
            "count": 0
           },
           {
            "bin_start": 0.7075973393887283,
            "bin_end": 0.8537986696943642,
            "count": 0
           },
           {
            "bin_start": 0.8537986696943642,
            "bin_end": 1,
            "count": 1
           }
          ]
         }
        },
        {
         "name": 77,
         "dtype": "float64",
         "stats": {
          "unique_count": 105,
          "nan_count": 0,
          "min": "-0.10524083448629112",
          "max": "1.0",
          "histogram": [
           {
            "bin_start": -0.10524083448629112,
            "bin_end": 0.005283248962337991,
            "count": 88
           },
           {
            "bin_start": 0.005283248962337991,
            "bin_end": 0.1158073324109671,
            "count": 16
           },
           {
            "bin_start": 0.1158073324109671,
            "bin_end": 0.2263314158595962,
            "count": 0
           },
           {
            "bin_start": 0.2263314158595962,
            "bin_end": 0.33685549930822534,
            "count": 0
           },
           {
            "bin_start": 0.33685549930822534,
            "bin_end": 0.44737958275685447,
            "count": 0
           },
           {
            "bin_start": 0.44737958275685447,
            "bin_end": 0.5579036662054835,
            "count": 0
           },
           {
            "bin_start": 0.5579036662054835,
            "bin_end": 0.6684277496541127,
            "count": 0
           },
           {
            "bin_start": 0.6684277496541127,
            "bin_end": 0.7789518331027419,
            "count": 0
           },
           {
            "bin_start": 0.7789518331027419,
            "bin_end": 0.8894759165513708,
            "count": 0
           },
           {
            "bin_start": 0.8894759165513708,
            "bin_end": 1,
            "count": 1
           }
          ]
         }
        },
        {
         "name": 78,
         "dtype": "float64",
         "stats": {
          "unique_count": 105,
          "nan_count": 0,
          "min": "-0.0675111281373597",
          "max": "1.0",
          "histogram": [
           {
            "bin_start": -0.0675111281373597,
            "bin_end": 0.03923998467637628,
            "count": 104
           },
           {
            "bin_start": 0.03923998467637628,
            "bin_end": 0.14599109749011224,
            "count": 0
           },
           {
            "bin_start": 0.14599109749011224,
            "bin_end": 0.25274221030384825,
            "count": 0
           },
           {
            "bin_start": 0.25274221030384825,
            "bin_end": 0.3594933231175842,
            "count": 0
           },
           {
            "bin_start": 0.3594933231175842,
            "bin_end": 0.46624443593132014,
            "count": 0
           },
           {
            "bin_start": 0.46624443593132014,
            "bin_end": 0.5729955487450562,
            "count": 0
           },
           {
            "bin_start": 0.5729955487450562,
            "bin_end": 0.6797466615587922,
            "count": 0
           },
           {
            "bin_start": 0.6797466615587922,
            "bin_end": 0.7864977743725281,
            "count": 0
           },
           {
            "bin_start": 0.7864977743725281,
            "bin_end": 0.893248887186264,
            "count": 0
           },
           {
            "bin_start": 0.893248887186264,
            "bin_end": 1,
            "count": 1
           }
          ]
         }
        },
        {
         "name": 79,
         "dtype": "float64",
         "stats": {
          "unique_count": 105,
          "nan_count": 0,
          "min": "-0.10048601986791247",
          "max": "1.0",
          "histogram": [
           {
            "bin_start": -0.10048601986791247,
            "bin_end": 0.009562582118878782,
            "count": 94
           },
           {
            "bin_start": 0.009562582118878782,
            "bin_end": 0.11961118410567004,
            "count": 10
           },
           {
            "bin_start": 0.11961118410567004,
            "bin_end": 0.22965978609246132,
            "count": 0
           },
           {
            "bin_start": 0.22965978609246132,
            "bin_end": 0.3397083880792525,
            "count": 0
           },
           {
            "bin_start": 0.3397083880792525,
            "bin_end": 0.44975699006604375,
            "count": 0
           },
           {
            "bin_start": 0.44975699006604375,
            "bin_end": 0.5598055920528351,
            "count": 0
           },
           {
            "bin_start": 0.5598055920528351,
            "bin_end": 0.6698541940396263,
            "count": 0
           },
           {
            "bin_start": 0.6698541940396263,
            "bin_end": 0.7799027960264175,
            "count": 0
           },
           {
            "bin_start": 0.7799027960264175,
            "bin_end": 0.8899513980132088,
            "count": 0
           },
           {
            "bin_start": 0.8899513980132088,
            "bin_end": 1,
            "count": 1
           }
          ]
         }
        },
        {
         "name": 80,
         "dtype": "float64",
         "stats": {
          "unique_count": 105,
          "nan_count": 0,
          "min": "-0.25460975436746996",
          "max": "1.0",
          "histogram": [
           {
            "bin_start": -0.25460975436746996,
            "bin_end": -0.12914877893072296,
            "count": 2
           },
           {
            "bin_start": -0.12914877893072296,
            "bin_end": -0.0036878034939759607,
            "count": 37
           },
           {
            "bin_start": -0.0036878034939759607,
            "bin_end": 0.12177317194277104,
            "count": 64
           },
           {
            "bin_start": 0.12177317194277104,
            "bin_end": 0.24723414737951804,
            "count": 0
           },
           {
            "bin_start": 0.24723414737951804,
            "bin_end": 0.3726951228162651,
            "count": 0
           },
           {
            "bin_start": 0.3726951228162651,
            "bin_end": 0.49815609825301205,
            "count": 1
           },
           {
            "bin_start": 0.49815609825301205,
            "bin_end": 0.623617073689759,
            "count": 0
           },
           {
            "bin_start": 0.623617073689759,
            "bin_end": 0.7490780491265061,
            "count": 0
           },
           {
            "bin_start": 0.7490780491265061,
            "bin_end": 0.8745390245632532,
            "count": 0
           },
           {
            "bin_start": 0.8745390245632532,
            "bin_end": 1,
            "count": 1
           }
          ]
         }
        },
        {
         "name": 81,
         "dtype": "float64",
         "stats": {
          "unique_count": 105,
          "nan_count": 0,
          "min": "-0.1398601831915353",
          "max": "1.0",
          "histogram": [
           {
            "bin_start": -0.1398601831915353,
            "bin_end": -0.025874164872381755,
            "count": 1
           },
           {
            "bin_start": -0.025874164872381755,
            "bin_end": 0.08811185344677178,
            "count": 103
           },
           {
            "bin_start": 0.08811185344677178,
            "bin_end": 0.20209787176592528,
            "count": 0
           },
           {
            "bin_start": 0.20209787176592528,
            "bin_end": 0.31608389008507887,
            "count": 0
           },
           {
            "bin_start": 0.31608389008507887,
            "bin_end": 0.4300699084042324,
            "count": 0
           },
           {
            "bin_start": 0.4300699084042324,
            "bin_end": 0.5440559267233859,
            "count": 0
           },
           {
            "bin_start": 0.5440559267233859,
            "bin_end": 0.6580419450425394,
            "count": 0
           },
           {
            "bin_start": 0.6580419450425394,
            "bin_end": 0.772027963361693,
            "count": 0
           },
           {
            "bin_start": 0.772027963361693,
            "bin_end": 0.8860139816808464,
            "count": 0
           },
           {
            "bin_start": 0.8860139816808464,
            "bin_end": 1,
            "count": 1
           }
          ]
         }
        },
        {
         "name": 82,
         "dtype": "float64",
         "stats": {
          "unique_count": 105,
          "nan_count": 0,
          "min": "-0.10979074074836415",
          "max": "1.0",
          "histogram": [
           {
            "bin_start": -0.10979074074836415,
            "bin_end": 0.0011883333264722795,
            "count": 83
           },
           {
            "bin_start": 0.0011883333264722795,
            "bin_end": 0.1121674074013087,
            "count": 21
           },
           {
            "bin_start": 0.1121674074013087,
            "bin_end": 0.22314648147614513,
            "count": 0
           },
           {
            "bin_start": 0.22314648147614513,
            "bin_end": 0.33412555555098156,
            "count": 0
           },
           {
            "bin_start": 0.33412555555098156,
            "bin_end": 0.445104629625818,
            "count": 0
           },
           {
            "bin_start": 0.445104629625818,
            "bin_end": 0.5560837037006544,
            "count": 0
           },
           {
            "bin_start": 0.5560837037006544,
            "bin_end": 0.6670627777754908,
            "count": 0
           },
           {
            "bin_start": 0.6670627777754908,
            "bin_end": 0.7780418518503273,
            "count": 0
           },
           {
            "bin_start": 0.7780418518503273,
            "bin_end": 0.8890209259251637,
            "count": 0
           },
           {
            "bin_start": 0.8890209259251637,
            "bin_end": 1,
            "count": 1
           }
          ]
         }
        },
        {
         "name": 83,
         "dtype": "float64",
         "stats": {
          "unique_count": 105,
          "nan_count": 0,
          "min": "-0.19294431225898398",
          "max": "1.0",
          "histogram": [
           {
            "bin_start": -0.19294431225898398,
            "bin_end": -0.07364988103308558,
            "count": 1
           },
           {
            "bin_start": -0.07364988103308558,
            "bin_end": 0.04564455019281283,
            "count": 102
           },
           {
            "bin_start": 0.04564455019281283,
            "bin_end": 0.16493898141871124,
            "count": 1
           },
           {
            "bin_start": 0.16493898141871124,
            "bin_end": 0.28423341264460966,
            "count": 0
           },
           {
            "bin_start": 0.28423341264460966,
            "bin_end": 0.403527843870508,
            "count": 0
           },
           {
            "bin_start": 0.403527843870508,
            "bin_end": 0.5228222750964064,
            "count": 0
           },
           {
            "bin_start": 0.5228222750964064,
            "bin_end": 0.6421167063223048,
            "count": 0
           },
           {
            "bin_start": 0.6421167063223048,
            "bin_end": 0.7614111375482032,
            "count": 0
           },
           {
            "bin_start": 0.7614111375482032,
            "bin_end": 0.8807055687741017,
            "count": 0
           },
           {
            "bin_start": 0.8807055687741017,
            "bin_end": 1,
            "count": 1
           }
          ]
         }
        },
        {
         "name": 84,
         "dtype": "float64",
         "stats": {
          "unique_count": 105,
          "nan_count": 0,
          "min": "-0.06250123907944367",
          "max": "1.0",
          "histogram": [
           {
            "bin_start": -0.06250123907944367,
            "bin_end": 0.0437488848285007,
            "count": 104
           },
           {
            "bin_start": 0.0437488848285007,
            "bin_end": 0.14999900873644506,
            "count": 0
           },
           {
            "bin_start": 0.14999900873644506,
            "bin_end": 0.2562491326443895,
            "count": 0
           },
           {
            "bin_start": 0.2562491326443895,
            "bin_end": 0.36249925655233384,
            "count": 0
           },
           {
            "bin_start": 0.36249925655233384,
            "bin_end": 0.4687493804602782,
            "count": 0
           },
           {
            "bin_start": 0.4687493804602782,
            "bin_end": 0.5749995043682226,
            "count": 0
           },
           {
            "bin_start": 0.5749995043682226,
            "bin_end": 0.6812496282761669,
            "count": 0
           },
           {
            "bin_start": 0.6812496282761669,
            "bin_end": 0.7874997521841113,
            "count": 0
           },
           {
            "bin_start": 0.7874997521841113,
            "bin_end": 0.8937498760920557,
            "count": 0
           },
           {
            "bin_start": 0.8937498760920557,
            "bin_end": 1,
            "count": 1
           }
          ]
         }
        },
        {
         "name": 85,
         "dtype": "float64",
         "stats": {
          "unique_count": 105,
          "nan_count": 0,
          "min": "-0.1615463415153684",
          "max": "1.0",
          "histogram": [
           {
            "bin_start": -0.1615463415153684,
            "bin_end": -0.04539170736383155,
            "count": 2
           },
           {
            "bin_start": -0.04539170736383155,
            "bin_end": 0.0707629267877053,
            "count": 101
           },
           {
            "bin_start": 0.0707629267877053,
            "bin_end": 0.18691756093924217,
            "count": 0
           },
           {
            "bin_start": 0.18691756093924217,
            "bin_end": 0.303072195090779,
            "count": 1
           },
           {
            "bin_start": 0.303072195090779,
            "bin_end": 0.4192268292423158,
            "count": 0
           },
           {
            "bin_start": 0.4192268292423158,
            "bin_end": 0.5353814633938527,
            "count": 0
           },
           {
            "bin_start": 0.5353814633938527,
            "bin_end": 0.6515360975453895,
            "count": 0
           },
           {
            "bin_start": 0.6515360975453895,
            "bin_end": 0.7676907316969264,
            "count": 0
           },
           {
            "bin_start": 0.7676907316969264,
            "bin_end": 0.8838453658484633,
            "count": 0
           },
           {
            "bin_start": 0.8838453658484633,
            "bin_end": 1,
            "count": 1
           }
          ]
         }
        },
        {
         "name": 86,
         "dtype": "float64",
         "stats": {
          "unique_count": 105,
          "nan_count": 0,
          "min": "-0.1289268680463274",
          "max": "1.0",
          "histogram": [
           {
            "bin_start": -0.1289268680463274,
            "bin_end": -0.016034181241694645,
            "count": 3
           },
           {
            "bin_start": -0.016034181241694645,
            "bin_end": 0.0968585055629381,
            "count": 100
           },
           {
            "bin_start": 0.0968585055629381,
            "bin_end": 0.20975119236757087,
            "count": 1
           },
           {
            "bin_start": 0.20975119236757087,
            "bin_end": 0.3226438791722036,
            "count": 0
           },
           {
            "bin_start": 0.3226438791722036,
            "bin_end": 0.4355365659768363,
            "count": 0
           },
           {
            "bin_start": 0.4355365659768363,
            "bin_end": 0.5484292527814691,
            "count": 0
           },
           {
            "bin_start": 0.5484292527814691,
            "bin_end": 0.6613219395861019,
            "count": 0
           },
           {
            "bin_start": 0.6613219395861019,
            "bin_end": 0.7742146263907346,
            "count": 0
           },
           {
            "bin_start": 0.7742146263907346,
            "bin_end": 0.8871073131953673,
            "count": 0
           },
           {
            "bin_start": 0.8871073131953673,
            "bin_end": 1,
            "count": 1
           }
          ]
         }
        },
        {
         "name": 87,
         "dtype": "float64",
         "stats": {
          "unique_count": 105,
          "nan_count": 0,
          "min": "-0.07655512833233907",
          "max": "1.0",
          "histogram": [
           {
            "bin_start": -0.07655512833233907,
            "bin_end": 0.031100384500894834,
            "count": 103
           },
           {
            "bin_start": 0.031100384500894834,
            "bin_end": 0.13875589733412874,
            "count": 1
           },
           {
            "bin_start": 0.13875589733412874,
            "bin_end": 0.24641141016736262,
            "count": 0
           },
           {
            "bin_start": 0.24641141016736262,
            "bin_end": 0.35406692300059656,
            "count": 0
           },
           {
            "bin_start": 0.35406692300059656,
            "bin_end": 0.4617224358338305,
            "count": 0
           },
           {
            "bin_start": 0.4617224358338305,
            "bin_end": 0.5693779486670643,
            "count": 0
           },
           {
            "bin_start": 0.5693779486670643,
            "bin_end": 0.6770334615002982,
            "count": 0
           },
           {
            "bin_start": 0.6770334615002982,
            "bin_end": 0.7846889743335321,
            "count": 0
           },
           {
            "bin_start": 0.7846889743335321,
            "bin_end": 0.8923444871667661,
            "count": 0
           },
           {
            "bin_start": 0.8923444871667661,
            "bin_end": 1,
            "count": 1
           }
          ]
         }
        },
        {
         "name": 88,
         "dtype": "float64",
         "stats": {
          "unique_count": 105,
          "nan_count": 0,
          "min": "-0.0786541259890293",
          "max": "1.0",
          "histogram": [
           {
            "bin_start": -0.0786541259890293,
            "bin_end": 0.029211286609873627,
            "count": 103
           },
           {
            "bin_start": 0.029211286609873627,
            "bin_end": 0.13707669920877655,
            "count": 1
           },
           {
            "bin_start": 0.13707669920877655,
            "bin_end": 0.24494211180767947,
            "count": 0
           },
           {
            "bin_start": 0.24494211180767947,
            "bin_end": 0.35280752440658236,
            "count": 0
           },
           {
            "bin_start": 0.35280752440658236,
            "bin_end": 0.4606729370054853,
            "count": 0
           },
           {
            "bin_start": 0.4606729370054853,
            "bin_end": 0.5685383496043882,
            "count": 0
           },
           {
            "bin_start": 0.5685383496043882,
            "bin_end": 0.6764037622032911,
            "count": 0
           },
           {
            "bin_start": 0.6764037622032911,
            "bin_end": 0.784269174802194,
            "count": 0
           },
           {
            "bin_start": 0.784269174802194,
            "bin_end": 0.892134587401097,
            "count": 0
           },
           {
            "bin_start": 0.892134587401097,
            "bin_end": 1,
            "count": 1
           }
          ]
         }
        },
        {
         "name": 89,
         "dtype": "float64",
         "stats": {
          "unique_count": 105,
          "nan_count": 0,
          "min": "-0.46201330305635896",
          "max": "1.0",
          "histogram": [
           {
            "bin_start": -0.46201330305635896,
            "bin_end": -0.31581197275072304,
            "count": 2
           },
           {
            "bin_start": -0.31581197275072304,
            "bin_end": -0.16961064244508717,
            "count": 9
           },
           {
            "bin_start": -0.16961064244508717,
            "bin_end": -0.023409312139451244,
            "count": 43
           },
           {
            "bin_start": -0.023409312139451244,
            "bin_end": 0.12279201816618462,
            "count": 48
           },
           {
            "bin_start": 0.12279201816618462,
            "bin_end": 0.2689933484718205,
            "count": 2
           },
           {
            "bin_start": 0.2689933484718205,
            "bin_end": 0.41519467877745647,
            "count": 0
           },
           {
            "bin_start": 0.41519467877745647,
            "bin_end": 0.5613960090830923,
            "count": 0
           },
           {
            "bin_start": 0.5613960090830923,
            "bin_end": 0.7075973393887283,
            "count": 0
           },
           {
            "bin_start": 0.7075973393887283,
            "bin_end": 0.8537986696943642,
            "count": 0
           },
           {
            "bin_start": 0.8537986696943642,
            "bin_end": 1,
            "count": 1
           }
          ]
         }
        },
        {
         "name": 90,
         "dtype": "float64",
         "stats": {
          "unique_count": 105,
          "nan_count": 0,
          "min": "-0.14780960032952367",
          "max": "1.0",
          "histogram": [
           {
            "bin_start": -0.14780960032952367,
            "bin_end": -0.03302864029657129,
            "count": 2
           },
           {
            "bin_start": -0.03302864029657129,
            "bin_end": 0.08175231973638108,
            "count": 101
           },
           {
            "bin_start": 0.08175231973638108,
            "bin_end": 0.1965332797693335,
            "count": 0
           },
           {
            "bin_start": 0.1965332797693335,
            "bin_end": 0.31131423980228584,
            "count": 1
           },
           {
            "bin_start": 0.31131423980228584,
            "bin_end": 0.4260951998352382,
            "count": 0
           },
           {
            "bin_start": 0.4260951998352382,
            "bin_end": 0.5408761598681906,
            "count": 0
           },
           {
            "bin_start": 0.5408761598681906,
            "bin_end": 0.655657119901143,
            "count": 0
           },
           {
            "bin_start": 0.655657119901143,
            "bin_end": 0.7704380799340953,
            "count": 0
           },
           {
            "bin_start": 0.7704380799340953,
            "bin_end": 0.8852190399670476,
            "count": 0
           },
           {
            "bin_start": 0.8852190399670476,
            "bin_end": 1,
            "count": 1
           }
          ]
         }
        },
        {
         "name": 91,
         "dtype": "float64",
         "stats": {
          "unique_count": 105,
          "nan_count": 0,
          "min": "-0.07217464938118817",
          "max": "1.0",
          "histogram": [
           {
            "bin_start": -0.07217464938118817,
            "bin_end": 0.035042815556930645,
            "count": 104
           },
           {
            "bin_start": 0.035042815556930645,
            "bin_end": 0.14226028049504946,
            "count": 0
           },
           {
            "bin_start": 0.14226028049504946,
            "bin_end": 0.2494777454331683,
            "count": 0
           },
           {
            "bin_start": 0.2494777454331683,
            "bin_end": 0.3566952103712871,
            "count": 0
           },
           {
            "bin_start": 0.3566952103712871,
            "bin_end": 0.4639126753094059,
            "count": 0
           },
           {
            "bin_start": 0.4639126753094059,
            "bin_end": 0.5711301402475248,
            "count": 0
           },
           {
            "bin_start": 0.5711301402475248,
            "bin_end": 0.6783476051856436,
            "count": 0
           },
           {
            "bin_start": 0.6783476051856436,
            "bin_end": 0.7855650701237624,
            "count": 0
           },
           {
            "bin_start": 0.7855650701237624,
            "bin_end": 0.8927825350618812,
            "count": 0
           },
           {
            "bin_start": 0.8927825350618812,
            "bin_end": 1,
            "count": 1
           }
          ]
         }
        },
        {
         "name": 92,
         "dtype": "float64",
         "stats": {
          "unique_count": 105,
          "nan_count": 0,
          "min": "-0.2377924930462272",
          "max": "1.0",
          "histogram": [
           {
            "bin_start": -0.2377924930462272,
            "bin_end": -0.11401324374160449,
            "count": 1
           },
           {
            "bin_start": -0.11401324374160449,
            "bin_end": 0.009766005563018237,
            "count": 90
           },
           {
            "bin_start": 0.009766005563018237,
            "bin_end": 0.133545254867641,
            "count": 13
           },
           {
            "bin_start": 0.133545254867641,
            "bin_end": 0.2573245041722637,
            "count": 0
           },
           {
            "bin_start": 0.2573245041722637,
            "bin_end": 0.3811037534768864,
            "count": 0
           },
           {
            "bin_start": 0.3811037534768864,
            "bin_end": 0.5048830027815092,
            "count": 0
           },
           {
            "bin_start": 0.5048830027815092,
            "bin_end": 0.6286622520861319,
            "count": 0
           },
           {
            "bin_start": 0.6286622520861319,
            "bin_end": 0.7524415013907546,
            "count": 0
           },
           {
            "bin_start": 0.7524415013907546,
            "bin_end": 0.8762207506953774,
            "count": 0
           },
           {
            "bin_start": 0.8762207506953774,
            "bin_end": 1,
            "count": 1
           }
          ]
         }
        },
        {
         "name": 93,
         "dtype": "float64",
         "stats": {
          "unique_count": 105,
          "nan_count": 0,
          "min": "-0.4394077483550697",
          "max": "1.0",
          "histogram": [
           {
            "bin_start": -0.4394077483550697,
            "bin_end": -0.29546697351956275,
            "count": 2
           },
           {
            "bin_start": -0.29546697351956275,
            "bin_end": -0.15152619868405576,
            "count": 0
           },
           {
            "bin_start": -0.15152619868405576,
            "bin_end": -0.007585423848548767,
            "count": 30
           },
           {
            "bin_start": -0.007585423848548767,
            "bin_end": 0.13635535098695817,
            "count": 65
           },
           {
            "bin_start": 0.13635535098695817,
            "bin_end": 0.2802961258224651,
            "count": 6
           },
           {
            "bin_start": 0.2802961258224651,
            "bin_end": 0.42423690065797215,
            "count": 1
           },
           {
            "bin_start": 0.42423690065797215,
            "bin_end": 0.568177675493479,
            "count": 0
           },
           {
            "bin_start": 0.568177675493479,
            "bin_end": 0.712118450328986,
            "count": 0
           },
           {
            "bin_start": 0.712118450328986,
            "bin_end": 0.8560592251644931,
            "count": 0
           },
           {
            "bin_start": 0.8560592251644931,
            "bin_end": 1,
            "count": 1
           }
          ]
         }
        },
        {
         "name": 94,
         "dtype": "float64",
         "stats": {
          "unique_count": 105,
          "nan_count": 0,
          "min": "-0.7888447576896573",
          "max": "1.0",
          "histogram": [
           {
            "bin_start": -0.7888447576896573,
            "bin_end": -0.6099602819206916,
            "count": 1
           },
           {
            "bin_start": -0.6099602819206916,
            "bin_end": -0.43107580615172586,
            "count": 0
           },
           {
            "bin_start": -0.43107580615172586,
            "bin_end": -0.2521913303827601,
            "count": 0
           },
           {
            "bin_start": -0.2521913303827601,
            "bin_end": -0.07330685461379438,
            "count": 5
           },
           {
            "bin_start": -0.07330685461379438,
            "bin_end": 0.10557762115517133,
            "count": 94
           },
           {
            "bin_start": 0.10557762115517133,
            "bin_end": 0.28446209692413715,
            "count": 4
           },
           {
            "bin_start": 0.28446209692413715,
            "bin_end": 0.46334657269310275,
            "count": 0
           },
           {
            "bin_start": 0.46334657269310275,
            "bin_end": 0.6422310484620686,
            "count": 0
           },
           {
            "bin_start": 0.6422310484620686,
            "bin_end": 0.8211155242310344,
            "count": 0
           },
           {
            "bin_start": 0.8211155242310344,
            "bin_end": 1,
            "count": 1
           }
          ]
         }
        },
        {
         "name": 95,
         "dtype": "float64",
         "stats": {
          "unique_count": 105,
          "nan_count": 0,
          "min": "-0.221836716279033",
          "max": "1.0",
          "histogram": [
           {
            "bin_start": -0.221836716279033,
            "bin_end": -0.0996530446511297,
            "count": 2
           },
           {
            "bin_start": -0.0996530446511297,
            "bin_end": 0.022530626976773604,
            "count": 86
           },
           {
            "bin_start": 0.022530626976773604,
            "bin_end": 0.14471429860467688,
            "count": 16
           },
           {
            "bin_start": 0.14471429860467688,
            "bin_end": 0.2668979702325802,
            "count": 0
           },
           {
            "bin_start": 0.2668979702325802,
            "bin_end": 0.38908164186048355,
            "count": 0
           },
           {
            "bin_start": 0.38908164186048355,
            "bin_end": 0.5112653134883868,
            "count": 0
           },
           {
            "bin_start": 0.5112653134883868,
            "bin_end": 0.6334489851162901,
            "count": 0
           },
           {
            "bin_start": 0.6334489851162901,
            "bin_end": 0.7556326567441934,
            "count": 0
           },
           {
            "bin_start": 0.7556326567441934,
            "bin_end": 0.8778163283720967,
            "count": 0
           },
           {
            "bin_start": 0.8778163283720967,
            "bin_end": 1,
            "count": 1
           }
          ]
         }
        },
        {
         "name": 96,
         "dtype": "float64",
         "stats": {
          "unique_count": 105,
          "nan_count": 0,
          "min": "-0.7888447576896573",
          "max": "1.0",
          "histogram": [
           {
            "bin_start": -0.7888447576896573,
            "bin_end": -0.6099602819206916,
            "count": 1
           },
           {
            "bin_start": -0.6099602819206916,
            "bin_end": -0.43107580615172586,
            "count": 1
           },
           {
            "bin_start": -0.43107580615172586,
            "bin_end": -0.2521913303827601,
            "count": 0
           },
           {
            "bin_start": -0.2521913303827601,
            "bin_end": -0.07330685461379438,
            "count": 14
           },
           {
            "bin_start": -0.07330685461379438,
            "bin_end": 0.10557762115517133,
            "count": 85
           },
           {
            "bin_start": 0.10557762115517133,
            "bin_end": 0.28446209692413715,
            "count": 3
           },
           {
            "bin_start": 0.28446209692413715,
            "bin_end": 0.46334657269310275,
            "count": 0
           },
           {
            "bin_start": 0.46334657269310275,
            "bin_end": 0.6422310484620686,
            "count": 0
           },
           {
            "bin_start": 0.6422310484620686,
            "bin_end": 0.8211155242310344,
            "count": 0
           },
           {
            "bin_start": 0.8211155242310344,
            "bin_end": 1,
            "count": 1
           }
          ]
         }
        },
        {
         "name": "_deepnote_index_column",
         "dtype": "object"
        }
       ],
       "rows_top": [
        {
         "0": 0.05122682383554246,
         "1": 0.06090067311049133,
         "2": -0.019361738090551982,
         "3": -0.18870206408867268,
         "4": 0.10269230356058376,
         "5": 0.1362522982216835,
         "6": 0.012763395201484048,
         "7": 0.013994805236733727,
         "8": -0.014503725131694043,
         "9": -0.08831444827634163,
         "10": -0.056016400516662596,
         "11": 0.03992076951483464,
         "12": 0.032076011257019574,
         "13": 0.10288642366705611,
         "14": 0.02301357813028419,
         "15": -0.016195773623333718,
         "16": -0.000433736376662745,
         "17": 0.010515602519747374,
         "18": 0.07578735739092096,
         "19": 0.019869997450760433,
         "20": 0.09476058004245475,
         "21": 0.012146443466279853,
         "22": 0.06065146426236928,
         "23": -0.11126154224417445,
         "24": 0.12997461146523384,
         "25": -0.011896462670123191,
         "26": 0.31567870079264887,
         "27": 0.01669809388678851,
         "28": -0.5343589501267552,
         "29": 0.010210227317206147,
         "30": 0.26517706004213726,
         "31": -0.04290244213321267,
         "32": -0.01019030831866481,
         "33": 0.012514909842633476,
         "34": 0.09935213745835289,
         "35": 0.034209615914869096,
         "36": -0.09857921525448733,
         "37": -0.016257000127368203,
         "38": -0.08934567098895715,
         "39": 0.01562387488012583,
         "40": 0.07125361343347554,
         "41": 0.0038905996432100245,
         "42": -0.03197985676303473,
         "43": -0.019576421120351104,
         "44": 0.026909403733385358,
         "45": 0.31687497131539066,
         "46": -0.01010638655632047,
         "47": -0.07000163322584589,
         "48": -0.4329178805127046,
         "49": 0.043187891382214884,
         "50": 0.020854105227077237,
         "51": -0.0014033089067830092,
         "52": 0.017747752994862115,
         "53": 0.013920137658895595,
         "54": 0.003530299694231345,
         "55": 0.028500989814929534,
         "56": -0.002902908777959001,
         "57": -0.004169905086074381,
         "58": -0.018642700438234877,
         "59": 0.009934479185008345,
         "60": 0.0008402467982441796,
         "61": 0.0032111040116722103,
         "62": 0.016690764098656028,
         "63": -0.020040635927221318,
         "64": -0.0008330957674524169,
         "65": -0.0026740584623373385,
         "66": -0.006938302645905419,
         "67": -0.008963343461890106,
         "68": 0.01582818668763523,
         "69": -0.002000556201674302,
         "70": 0.0022312819478721158,
         "71": -0.0042277519524090736,
         "72": 0.02725594726129709,
         "73": -0.010943262334701736,
         "74": -0.0010878006879278315,
         "75": -0.006654394424955696,
         "76": -0.05505406218645988,
         "77": -0.011765969722611996,
         "78": 0.00020167783334778101,
         "79": -0.007521834460416973,
         "80": 0.004947612844044378,
         "81": 0.014285156021656443,
         "82": 0.0042423475440551755,
         "83": 0.008374398102238228,
         "84": 0.0025830993220259703,
         "85": 0.0006125341623583537,
         "86": -0.013816253025434558,
         "87": -0.006271240329319008,
         "88": 0.004843445162454043,
         "89": 0.017992644437638167,
         "90": -0.01505357465874614,
         "91": 0.000375260076638829,
         "92": -0.010136794056436884,
         "93": -0.011313669203051192,
         "94": -0.01943402689984417,
         "95": -0.03441479887130781,
         "96": 0.033513557752565065,
         "age": 1,
         "fnlwgt": -0.07664586787504064,
         "education_num": 0.03654608189690355,
         "gender": 0.08883173120971614,
         "capital_gain": 0.0776744981659941,
         "capital_loss": 0.057774539478974145,
         "hours_per_week": 0.06875570750955742,
         "high_income": 0.23403710264885705,
         "_deepnote_index_column": "age"
        },
        {
         "0": -0.007525311033082867,
         "1": -0.0028275012800627356,
         "2": 0.005030814913317844,
         "3": 0.04418187040627226,
         "4": -0.02462579110557131,
         "5": -0.03905772420559345,
         "6": -0.010891423181265394,
         "7": -0.0030478467011820125,
         "8": 0.011478760883756618,
         "9": 0.009440224512044,
         "10": 0.010250063009573453,
         "11": 0.033790829165337995,
         "12": 0.04109379665716157,
         "13": -0.0022903955901891026,
         "14": 0.015246464839557673,
         "15": 0.006357714049296563,
         "16": -0.015642914342075494,
         "17": -0.0072400732125984515,
         "18": -0.0033070575869232786,
         "19": -0.0015663775053177049,
         "20": -0.022229131539493543,
         "21": 0.017303331338896468,
         "22": -0.005231431379213136,
         "23": -0.0052694601772442645,
         "24": -0.01497250727157108,
         "25": -0.00040625421240537523,
         "26": -0.026362734766412772,
         "27": 0.0036338854893079274,
         "28": 0.03710756772009904,
         "29": 0.028466722670257412,
         "30": -0.02624592317526479,
         "31": 0.007765416225022556,
         "32": 0.004040418554887524,
         "33": 0.008464557221280497,
         "34": -0.019198411974978114,
         "35": -0.03293209641619288,
         "36": 0.029015017988561154,
         "37": 0.012761567332412568,
         "38": -0.0037191920282819996,
         "39": 0.007277569083048711,
         "40": -0.015490867998925179,
         "41": 0.01656687338800929,
         "42": 0.0037283540735137863,
         "43": 0.003764680957542184,
         "44": 0.0012651479179575564,
         "45": -0.021139997622422985,
         "46": 0.007503159190135643,
         "47": 0.02551770860047203,
         "48": 0.013818366861602071,
         "49": 0.004400420037655817,
         "50": -0.016896643119988043,
         "51": 0.0007559281586006519,
         "52": -0.00574315095183513,
         "53": -0.004884792618996925,
         "54": 0.014277998061742707,
         "55": 0.02896304033117503,
         "56": 0.0010163698473760999,
         "57": -0.0010894345554385413,
         "58": 0.03498576253612739,
         "59": -0.003692677831060108,
         "60": 0.0006428383430281181,
         "61": -0.00027901283386109295,
         "62": -0.013100478950779574,
         "63": 0.031695797458370485,
         "64": 0.00670577132753865,
         "65": -0.00850047955042623,
         "66": 0.012461471986092069,
         "67": 0.007651107050460496,
         "68": -0.001759014086078596,
         "69": -0.011168820078449269,
         "70": -0.0026070113174963914,
         "71": -0.013323981013872542,
         "72": -0.0036345977661617545,
         "73": 0.01058722940224802,
         "74": -0.0016861996816765013,
         "75": 0.004752688771201921,
         "76": 0.13440122998582682,
         "77": 0.032100341427893454,
         "78": 0.002890364297623131,
         "79": 0.024796238987234535,
         "80": -0.017536023957802484,
         "81": -0.0023913084240152886,
         "82": -0.013151880600604,
         "83": 0.007164312788088469,
         "84": -0.0037897205910493712,
         "85": -0.012364543152984941,
         "86": -0.0012522123870288122,
         "87": -0.0012504041786646864,
         "88": 0.0052731680182464494,
         "89": -0.07979047266712633,
         "90": -0.011398274182232427,
         "91": 0.005500832550200114,
         "92": -0.06414762906083463,
         "93": -0.05133147586591033,
         "94": 0.11800912875325295,
         "95": 0.006375874292450649,
         "96": -0.05690894577765482,
         "age": -0.07664586787504064,
         "fnlwgt": 1,
         "education_num": -0.04324459690260759,
         "gender": 0.026858045269865558,
         "capital_gain": 0.00043188579188680327,
         "capital_loss": -0.010251711675330953,
         "hours_per_week": -0.01876849061074513,
         "high_income": -0.009462557247529167,
         "_deepnote_index_column": "fnlwgt"
        },
        {
         "0": 0.0605482431702788,
         "1": 0.09779188936923643,
         "2": -0.015114987945357209,
         "3": -0.16802396323759117,
         "4": 0.0773911172664155,
         "5": 0.016512434101433205,
         "6": 0.10262564881556521,
         "7": -0.008133377788594328,
         "8": -0.27241441856806914,
         "9": -0.23167347575297018,
         "10": -0.09387697193025793,
         "11": -0.2261989726346212,
         "12": -0.27976348878424795,
         "13": -0.33626183438741075,
         "14": -0.2500982677439994,
         "15": 0.13735400427559152,
         "16": 0.0752685719573581,
         "17": 0.5031416724920154,
         "18": 0.26081607940226126,
         "19": -0.2897237545306083,
         "20": 0.3601552328448483,
         "21": -0.13980123431197927,
         "22": 0.25663364951446666,
         "23": -0.016790950323487333,
         "24": -0.007709744675817475,
         "25": 0.0009676813528311561,
         "26": 0.08600986115612387,
         "27": -0.03420663772072547,
         "28": -0.03210418093403886,
         "29": -0.05512639955555436,
         "30": -0.06802023747853295,
         "31": 0.0045274601488919574,
         "32": 0.00019927622478099576,
         "33": -0.14302066560101062,
         "34": 0.20099148533005226,
         "35": -0.10151022481502102,
         "36": -0.12790789408232672,
         "37": -0.1584710874893464,
         "38": -0.16964051555845885,
         "39": -0.07163134321001667,
         "40": 0.313365457888131,
         "41": 0.005799548679860292,
         "42": 0.03030941671713595,
         "43": 0.06044507599361242,
         "44": -0.11592991876341092,
         "45": 0.0788587389181545,
         "46": 0.05352308888686074,
         "47": -0.08860786622616443,
         "48": -0.09928253679087823,
         "49": -0.05858602210641053,
         "50": 0.033240275147414726,
         "51": -0.012124140194004094,
         "52": 0.01359402997809794,
         "53": 0.01941932052171624,
         "54": -0.011715758166408612,
         "55": -0.010984329683405276,
         "56": -0.05351468354811917,
         "57": -0.007024717493812884,
         "58": -0.071991365326219,
         "59": 0.019049317873801295,
         "60": 0.025081498586049595,
         "61": 0.02287014745021317,
         "62": -0.004133349807829898,
         "63": -0.0698480865803334,
         "64": -0.016421879287619477,
         "65": -0.00017294213194091385,
         "66": -0.010782650025568191,
         "67": 0.005008458306873454,
         "68": 0.005352205905947401,
         "69": 0.050695604634306696,
         "70": 0.0327243752623039,
         "71": 0.00003223394704593612,
         "72": -0.022681972089666606,
         "73": -0.004434242562095707,
         "74": 0.02300915173920753,
         "75": -0.013939076627976046,
         "76": -0.21765430673389072,
         "77": -0.01727289140406094,
         "78": 0.0016562139193288135,
         "79": -0.008705150772556404,
         "80": 0.023971417502946978,
         "81": 0.000329357347633574,
         "82": -0.044283236236412844,
         "83": -0.0412618739478031,
         "84": 0.0012667466051678742,
         "85": 0.015813606916354018,
         "86": 0.04948068264004372,
         "87": 0.007900216000125741,
         "88": -0.017067659524919686,
         "89": 0.12313563898640438,
         "90": -0.00747635087695684,
         "91": -0.0012306106276611685,
         "92": -0.029331091933226933,
         "93": 0.062156535092447285,
         "94": -0.0753872579177992,
         "95": -0.04412047182699552,
         "96": 0.05142899545583143,
         "age": 0.03654608189690355,
         "fnlwgt": -0.04324459690260759,
         "education_num": 1,
         "gender": 0.012374523262277963,
         "capital_gain": 0.12265870981487237,
         "capital_loss": 0.07996045849155574,
         "hours_per_week": 0.14815475400230377,
         "high_income": 0.33511801419952914,
         "_deepnote_index_column": "education_num"
        },
        {
         "0": 0.000988912033174721,
         "1": -0.037966227402499164,
         "2": 0.0014049924901725227,
         "3": -0.0720782807603339,
         "4": 0.08401528263720386,
         "5": 0.10745142628225926,
         "6": -0.01989500153478162,
         "7": -0.0011614567414473533,
         "8": 0.005333360649169544,
         "9": -0.015160274556493996,
         "10": -0.00043648712766252047,
         "11": 0.008722291556376377,
         "12": 0.016968752680402974,
         "13": 0.02513316234783606,
         "14": 0.013630536608216968,
         "15": -0.024947309189830357,
         "16": -0.013871570002562266,
         "17": 0.02683657456237349,
         "18": 0.029525360951356102,
         "19": 0.011684471462177408,
         "20": 0.009901693371531973,
         "21": 0.0014368990593074096,
         "22": 0.04879314711143006,
         "23": -0.061721500652893876,
         "24": -0.22862112530312262,
         "25": -0.01570362552966137,
         "26": 0.43180545811312643,
         "27": -0.03869164444351946,
         "28": -0.1714339459788162,
         "29": -0.10913472805837876,
         "30": -0.1884866586232374,
         "31": -0.2631477628435175,
         "32": 0.011690465756782092,
         "33": 0.22312817750275113,
         "34": 0.0367291167517454,
         "35": 0.10009723650962575,
         "36": 0.0940258260186808,
         "37": 0.030501991579344207,
         "38": -0.15367728949875004,
         "39": -0.0886991408585295,
         "40": -0.063517941309519,
         "41": 0.06476990040722601,
         "42": -0.011503718466696415,
         "43": -0.016092411324575506,
         "44": 0.13246788820677233,
         "45": 0.5801352648000722,
         "46": -0.1688788059246844,
         "47": -0.04028229895392198,
         "48": -0.10236883084143344,
         "49": -0.3212732037336059,
         "50": -0.3193105480034051,
         "51": 0.00887953465880997,
         "52": 0.0011008109393679361,
         "53": 0.005187288259541997,
         "54": -0.006880829665519732,
         "55": -0.010377071605481519,
         "56": -0.016692563625166155,
         "57": 0.0005839952479657208,
         "58": 0.00007358743502999598,
         "59": -0.0027706618823041757,
         "60": -0.005266904725929664,
         "61": -0.014804974756952251,
         "62": 0.010050485108158227,
         "63": 0.0017255605790144314,
         "64": -0.009675217476093935,
         "65": -0.007882398807327674,
         "66": -0.008821007266890595,
         "67": 0.0016226092120315092,
         "68": -0.005553569862253449,
         "69": 0.026046443254416962,
         "70": 0.011187318018602717,
         "71": 0.0022586236466288845,
         "72": 0.004344629962658205,
         "73": -0.02123522670889757,
         "74": 0.0007625168393768253,
         "75": -0.0056809080500586405,
         "76": 0.031293149688638604,
         "77": -0.0015218328318173724,
         "78": -0.007458716413126333,
         "79": -0.007927075264000908,
         "80": -0.006299425853797167,
         "81": 0.0012901618687098076,
         "82": 0.00046382766997573173,
         "83": -0.015791238391878067,
         "84": -0.003504412982824503,
         "85": -0.004662808988470835,
         "86": 0.0030875206952257588,
         "87": -0.014011911518815444,
         "88": -0.012744273132489103,
         "89": -0.0006675863288407726,
         "90": -0.0012053332437303565,
         "91": 0.006752871841588746,
         "92": -0.01082030298751965,
         "93": -0.0009791713635848946,
         "94": -0.11560448927231705,
         "95": -0.01390620463458193,
         "96": 0.10355649598448939,
         "age": 0.08883173120971614,
         "fnlwgt": 0.026858045269865558,
         "education_num": 0.012374523262277963,
         "gender": 1,
         "capital_gain": 0.0484796468686598,
         "capital_loss": 0.04556735467865356,
         "hours_per_week": 0.22930914902630847,
         "high_income": 0.2159801505840364,
         "_deepnote_index_column": "gender"
        }
       ],
       "rows_bottom": [
        {
         "0": 0.01835072529177846,
         "1": 0.020611689382945934,
         "2": -0.0014399989501306786,
         "3": -0.014148025248221008,
         "4": -0.01502883475579776,
         "5": -0.000317678553028628,
         "6": 0.0042002521112032955,
         "7": -0.0020366850283315124,
         "8": 0.013416478062101651,
         "9": 0.004701925631266344,
         "10": 0.0023824517335538395,
         "11": 0.010557158702979876,
         "12": -0.003705192946262105,
         "13": 0.006407721247727687,
         "14": 0.00022958785251157293,
         "15": -0.003886393000652592,
         "16": 0.00908453955251508,
         "17": -0.02567958669345576,
         "18": -0.0026655649642847185,
         "19": 0.01263330761532277,
         "20": -0.01615972333883179,
         "21": -0.003889483543592542,
         "22": -0.008387426148779341,
         "23": 0.007090867743683805,
         "24": 0.01615603556246229,
         "25": -0.002610861448801433,
         "26": -0.017131503305420504,
         "27": 0.014045819001391922,
         "28": 0.0006479165023388614,
         "29": 0.0021879723964271787,
         "30": 0.004619430224881257,
         "31": -0.004942582598804449,
         "32": 0.017362288372923702,
         "33": 0.00461584968163216,
         "34": -0.008439578398900598,
         "35": 0.0009287458409760002,
         "36": 0.0140211991658232,
         "37": -0.00015998431735513797,
         "38": 0.0016002791274409868,
         "39": -0.006658180340959675,
         "40": 0.0006967379542746156,
         "41": 0.004069267103029828,
         "42": -0.008869907817474583,
         "43": -0.009229267420384005,
         "44": 0.014250280371123594,
         "45": -0.021875077968862802,
         "46": 0.001214386152851896,
         "47": 0.006705624101238073,
         "48": -0.00035363645796348555,
         "49": 0.02574966927771475,
         "50": 0.005934141123007918,
         "51": -0.002372848524948677,
         "52": -0.005997463276890772,
         "53": -0.004718433588094298,
         "54": 0.0032406273724296334,
         "55": -0.005312057232595973,
         "56": -0.004558089158613992,
         "57": -0.0028809272673520877,
         "58": -0.005612126619607112,
         "59": -0.005169978748570377,
         "60": -0.002931966151091846,
         "61": -0.0015050625202350054,
         "62": -0.0029319661510918446,
         "63": -0.004357964486518299,
         "64": -0.003612321847591855,
         "65": -0.0005442182944255927,
         "66": -0.0019625686516249264,
         "67": 0.010309954747130647,
         "68": -0.001962568651624928,
         "69": -0.005450475448261183,
         "70": -0.003570981904419403,
         "71": -0.0026670564150707834,
         "72": -0.004654952747902224,
         "73": -0.004903992916296236,
         "74": -0.004289198849686621,
         "75": -0.002309525674037564,
         "76": 0.00421788429466924,
         "77": -0.00317492001513049,
         "78": -0.0020366850283315093,
         "79": -0.0030314761116892403,
         "80": -0.0036195157768364825,
         "81": -0.004219321303390719,
         "82": -0.0033121822150069744,
         "83": -0.00047496726580908364,
         "84": -0.0018855460040050316,
         "85": 0.007882696642015883,
         "86": -0.0038894835435925074,
         "87": -0.002309525674037577,
         "88": -0.002372848524948683,
         "89": 0.013295615840267873,
         "90": -0.004459140416411023,
         "91": -0.0021773747806533173,
         "92": 1,
         "93": -0.017819693948159198,
         "94": -0.03199072434944973,
         "95": -0.0089963420202655,
         "96": -0.2377924930462272,
         "age": -0.010136794056436884,
         "fnlwgt": -0.06414762906083463,
         "education_num": -0.029331091933226933,
         "gender": -0.01082030298751965,
         "capital_gain": -0.006015332087925843,
         "capital_loss": -0.012947173467671408,
         "hours_per_week": -0.0030956045014927658,
         "high_income": -0.028721059409017043,
         "_deepnote_index_column": "92"
        },
        {
         "0": 0.013844942823073464,
         "1": -0.01976071965000176,
         "2": -0.002660919561441276,
         "3": -0.002046812820394445,
         "4": 0.010015875885113122,
         "5": -0.00521630070933996,
         "6": 0.014852648492176072,
         "7": 0.004669170050718683,
         "8": -0.01754428383429197,
         "9": -0.015426211008478345,
         "10": -0.007330817216174228,
         "11": -0.0008677175469203786,
         "12": 0.012831064917267447,
         "13": -0.01202687836168151,
         "14": -0.010358495545650237,
         "15": -0.004923981846824363,
         "16": -0.005251760902597338,
         "17": 0.05578546318152504,
         "18": 0.023173693863414526,
         "19": -0.04067488200616767,
         "20": 0.025827047943875112,
         "21": 0.019337011492568158,
         "22": 0.030021832920333974,
         "23": -0.010663150189376946,
         "24": -0.03393662744498753,
         "25": -0.004824512060024832,
         "26": 0.010377615912795035,
         "27": 0.042977128029731596,
         "28": 0.01170646990995719,
         "29": -0.013691979289863916,
         "30": -0.00778322181680442,
         "31": 0.010281343048315461,
         "32": -0.0030172918664526844,
         "33": -0.021960503015109257,
         "34": 0.00284590605756318,
         "35": -0.01594135350811917,
         "36": -0.018002341073095056,
         "37": -0.0035085039631514016,
         "38": 0.01330902649157805,
         "39": -0.0019424577992019718,
         "40": 0.026754744519869922,
         "41": -0.007116056304237382,
         "42": -0.00463081314639757,
         "43": 0.015146244478449528,
         "44": -0.018545245398121715,
         "45": -0.004121755591007808,
         "46": -0.020354435909912188,
         "47": 0.05187814814101732,
         "48": 0.005516305577637409,
         "49": -0.010714379614901888,
         "50": 0.015526052699346453,
         "51": 0.12591964000102165,
         "52": -0.008209375904978708,
         "53": 0.25749406813954073,
         "54": -0.007731359511167373,
         "55": -0.009815949518871034,
         "56": -0.004648261317318168,
         "57": -0.005323556465156457,
         "58": -0.010370436382639549,
         "59": -0.006223623008461833,
         "60": -0.005417869286790781,
         "61": -0.0036929922232545576,
         "62": 0.0004425799141657909,
         "63": -0.00805291764219031,
         "64": -0.0019162042360120906,
         "65": -0.0010056403896682347,
         "66": -0.003626556335548877,
         "67": 0.11545229623583488,
         "68": -0.003626556335548868,
         "69": 0.2584771029018059,
         "70": 0.022284191029462542,
         "71": 0.0015132052474634318,
         "72": -0.008601711010520966,
         "73": -0.009061902912469402,
         "74": 0.14445768514199092,
         "75": 0.12960523793261616,
         "76": -0.02449915403667335,
         "77": -0.005866814537264375,
         "78": -0.003763513183040867,
         "79": -0.005601749976903587,
         "80": 0.40855885228747435,
         "81": -0.0037204695736954563,
         "82": -0.0009314707666596381,
         "83": -0.007796296111422843,
         "84": -0.0034842291000275016,
         "85": 0.2593675749057818,
         "86": 0.20500669800645185,
         "87": 0.11473046870829873,
         "88": 0.010093562679291493,
         "89": -0.357143931582603,
         "90": 0.2425209272720038,
         "91": -0.00402348845178218,
         "92": -0.017819693948159198,
         "93": 1,
         "94": -0.059114448797619006,
         "95": -0.016623999941783256,
         "96": -0.4394077483550697,
         "age": -0.011313669203051192,
         "fnlwgt": -0.05133147586591033,
         "education_num": 0.062156535092447285,
         "gender": -0.0009791713635848946,
         "capital_gain": 0.00988084477601054,
         "capital_loss": 0.00450876181648453,
         "hours_per_week": -0.004843333007705918,
         "high_income": 0.010237739858619753,
         "_deepnote_index_column": "93"
        },
        {
         "0": 0.047403012463395545,
         "1": 0.03707336657327868,
         "2": 0.009448715873719222,
         "3": 0.008546669333439687,
         "4": -0.04818822507913659,
         "5": -0.05862240842644224,
         "6": 0.018371029520648983,
         "7": -0.0017263376628434675,
         "8": 0.027180663220231528,
         "9": 0.02251425306145219,
         "10": 0.025905614834957656,
         "11": -0.00017236715455348336,
         "12": -0.011348327318252287,
         "13": -0.004471190911102605,
         "14": 0.03320089933297418,
         "15": 0.002711250194349784,
         "16": -0.010652086889336637,
         "17": -0.051697462927490466,
         "18": -0.02667354415946565,
         "19": 0.03714482282948022,
         "20": -0.03694336874317205,
         "21": 0.0002819084955866493,
         "22": -0.03185069896122819,
         "23": 0.011626837059488509,
         "24": 0.01783980006176144,
         "25": -0.004736215451132656,
         "26": -0.1255057073199237,
         "27": 0.020282684807720497,
         "28": 0.07130261223859792,
         "29": 0.09953079814172817,
         "30": 0.019848365122544703,
         "31": 0.041812464427851595,
         "32": 0.0008563659394825583,
         "33": -0.0469242504953776,
         "34": -0.04608825180192836,
         "35": -0.032349022924967503,
         "36": 0.024702728664313882,
         "37": 0.03556272244000421,
         "38": 0.08812539038163729,
         "39": 0.02117446153910957,
         "40": -0.0323186805349375,
         "41": 0.02964472141727412,
         "42": -0.031794805739690075,
         "43": -0.011302379987123853,
         "44": 0.008101796196567927,
         "45": -0.1263382062934165,
         "46": 0.003634718220563981,
         "47": 0.04262920819372576,
         "48": 0.019779144446208912,
         "49": 0.14860402300104822,
         "50": 0.0012475677343388601,
         "51": -0.0035534691876476167,
         "52": -0.01989578142187954,
         "53": -0.01565277167833632,
         "54": -0.013879687927738027,
         "55": -0.011821871510452645,
         "56": 0.011896710127005704,
         "57": -0.009557090482642323,
         "58": -0.016786843877421537,
         "59": -0.0012609884922390195,
         "60": -0.006230649505940069,
         "61": -0.008287412305712864,
         "62": -0.009726405145862567,
         "63": -0.014456963696996806,
         "64": 0.11007912530664002,
         "65": -0.0018053713264740503,
         "66": -0.0012906655265939734,
         "67": -0.008076222756886247,
         "68": -0.006510558733826103,
         "69": -0.014312063208641746,
         "70": -0.01184625434983033,
         "71": -0.008847602565326424,
         "72": -0.015442182490436648,
         "73": 0.14073402400727378,
         "74": -0.007052786248924961,
         "75": -0.007661542201670937,
         "76": -0.04323971441349344,
         "77": -0.004074878525505242,
         "78": 0.02342412347355284,
         "79": -0.010056516116775056,
         "80": -0.024139689389391056,
         "81": -0.013997033499880138,
         "82": -0.010987721030845396,
         "83": -0.0034205653270326973,
         "84": -0.00625504641289455,
         "85": -0.01616735730194974,
         "86": -0.012902840893664015,
         "87": -0.007661542201670975,
         "88": 0.06121860221690171,
         "89": 0.02726933603876209,
         "90": -0.014792601297989984,
         "91": -0.0072231493065265,
         "92": -0.03199072434944973,
         "93": -0.059114448797619006,
         "94": 1,
         "95": -0.029844160133726347,
         "96": -0.7888447576896573,
         "age": -0.01943402689984417,
         "fnlwgt": 0.11800912875325295,
         "education_num": -0.0753872579177992,
         "gender": -0.11560448927231705,
         "capital_gain": -0.02063112381550405,
         "capital_loss": -0.02176246406411696,
         "hours_per_week": -0.05315300557125618,
         "high_income": -0.08908860332216575,
         "_deepnote_index_column": "94"
        },
        {
         "0": -0.0019783176732605374,
         "1": -0.010227255156463132,
         "2": -0.0013433756232167757,
         "3": 0.024959608663864857,
         "4": -0.007968109314695729,
         "5": -0.015310459310515709,
         "6": -0.011755195059378849,
         "7": -0.0019000243152835791,
         "8": 0.002502047287755297,
         "9": 0.00039996426058270477,
         "10": 0.030680916172286896,
         "11": 0.03586849516916237,
         "12": 0.034367819265427965,
         "13": 0.02817735712606978,
         "14": 0.010094555542111368,
         "15": -0.0016718517164217388,
         "16": -0.009226300107270465,
         "17": -0.010550077369788994,
         "18": -0.004341946412504405,
         "19": -0.006796778630325187,
         "20": -0.011084201057124354,
         "21": 0.013468325074337687,
         "22": -0.0020360622884444974,
         "23": -0.007851276228027714,
         "24": -0.010811524024365842,
         "25": -0.0024356737382329246,
         "26": -0.013323384886028335,
         "27": 0.03459711522849346,
         "28": 0.011582607837577847,
         "29": 0.008652324779464891,
         "30": -0.002486150006674025,
         "31": -0.005681051708525469,
         "32": -0.0015232915719283668,
         "33": -0.006231989750548401,
         "34": -0.023357150286270584,
         "35": 0.005358827509399271,
         "36": 0.0010064538542570093,
         "37": 0.031435140600218216,
         "38": 0.014096800116830822,
         "39": 0.008814957461976245,
         "40": 0.0036700104643250936,
         "41": -0.0009711592535479308,
         "42": -0.005763038106827841,
         "43": -0.009596383764576619,
         "44": 0.0011088976426137072,
         "45": -0.020522404520777998,
         "46": 0.003008142426860418,
         "47": 0.03922628112475512,
         "48": -0.0048305032946064,
         "49": 0.009142392757962263,
         "50": 0.004657628234152078,
         "51": -0.002213631381962247,
         "52": -0.00003924425239300146,
         "53": -0.0044018286689986265,
         "54": 0.05173793786908109,
         "55": 0.007579625756327367,
         "56": 0.12712526246493352,
         "57": 0.10110835453723212,
         "58": 0.018502509925288006,
         "59": -0.004823075338178428,
         "60": -0.0027352324493820483,
         "61": -0.0007323583883157469,
         "62": -0.00273523244938201,
         "63": 0.026464497477602388,
         "64": -0.003369936563375889,
         "65": -0.0005077014746251061,
         "66": -0.0018308811164362805,
         "67": -0.002271172773680888,
         "68": -0.001830881116436284,
         "69": 0.0254622181158084,
         "70": 0.015285767610433697,
         "71": -0.002488098045783197,
         "72": -0.004342607366616669,
         "73": 0.002211292516794131,
         "74": 0.011507405417210265,
         "75": -0.002154557467846643,
         "76": 0.08418585005390725,
         "77": 0.038905670288206406,
         "78": -0.00190002431528358,
         "79": 0.00813308635302487,
         "80": -0.00716570345591453,
         "81": -0.003936206609720017,
         "82": -0.0030899361745289466,
         "83": 0.11475712336995651,
         "84": -0.0017590266562376947,
         "85": -0.004546538998723222,
         "86": 0.004919912124385236,
         "87": -0.0021545574678466122,
         "88": 0.011784824906263033,
         "89": -0.12118260831286379,
         "90": -0.004159933960621064,
         "91": -0.0020312738441032783,
         "92": -0.0089963420202655,
         "93": -0.016623999941783256,
         "94": -0.029844160133726347,
         "95": 1,
         "96": -0.221836716279033,
         "age": -0.03441479887130781,
         "fnlwgt": 0.006375874292450649,
         "education_num": -0.04412047182699552,
         "gender": -0.01390620463458193,
         "capital_gain": -0.0017737409842043608,
         "capital_loss": -0.005964238218629098,
         "hours_per_week": -0.007188270040754731,
         "high_income": -0.03182997497889277,
         "_deepnote_index_column": "95"
        },
        {
         "0": -0.051015053883105496,
         "1": -0.024157258004474495,
         "2": -0.005819726237015808,
         "3": -0.00864229295719986,
         "4": 0.04143454683133079,
         "5": 0.055564728050874465,
         "6": -0.020862627177685555,
         "7": 0.0001668734677927917,
         "8": -0.01829691534337299,
         "9": -0.01251235747952566,
         "10": -0.02653265551796413,
         "11": -0.011570945412143428,
         "12": -0.00474432154671411,
         "13": 0.0006988247510574276,
         "14": -0.02522034569289491,
         "15": 0.0016905273709328266,
         "16": 0.011378667140199576,
         "17": 0.02517424234159173,
         "18": 0.012580313592204658,
         "19": -0.012486553517804958,
         "20": 0.02528853839148486,
         "21": -0.012260102663636618,
         "22": 0.014475764799995702,
         "23": -0.004329303935666699,
         "24": 0.0003363451154645502,
         "25": 0.0077030734241474,
         "26": 0.10775662538832091,
         "27": -0.051113414629990375,
         "28": -0.06851283997812786,
         "29": -0.07910018235487513,
         "30": -0.013326791783671762,
         "31": -0.037198489377543324,
         "32": -0.0036067350411247813,
         "33": 0.050439143649729526,
         "34": 0.04539802773907715,
         "35": 0.033306485830880896,
         "36": -0.015781869326833852,
         "37": -0.035990885024215796,
         "38": -0.0842642198471182,
         "39": -0.0171432297031411,
         "40": 0.012519518449793298,
         "41": -0.022075310023466438,
         "42": 0.03277710171482857,
         "43": 0.006908546600068846,
         "44": -0.001742850965410364,
         "45": 0.11883308529669913,
         "46": 0.0059918508732521615,
         "47": -0.07336866549947689,
         "48": -0.017916790996810306,
         "49": -0.12817035223215548,
         "50": -0.011607983563523274,
         "51": -0.0585109952263271,
         "52": 0.022360090877285074,
         "53": -0.1127179167254028,
         "54": 0.0012200348862760352,
         "55": 0.014269221211103252,
         "56": -0.03909579820442855,
         "57": -0.01461302198858697,
         "58": 0.01596000593703672,
         "59": 0.006818984153861426,
         "60": 0.009411730231797767,
         "61": 0.00936064803527184,
         "62": 0.00941173023179767,
         "63": 0.010465014912959439,
         "64": -0.08907460554608115,
         "65": 0.0022886268925225908,
         "66": 0.0038957924268176536,
         "67": -0.053004939340856205,
         "68": 0.008253282626728649,
         "69": -0.12181504578264424,
         "70": -0.004159049350318896,
         "71": 0.008008330269136062,
         "72": 0.019575692606062407,
         "73": -0.11218778520714305,
         "74": -0.0678257858752432,
         "75": -0.056949545774994455,
         "76": 0.025453838685222628,
         "77": -0.0028202212769581647,
         "78": -0.016629315047826564,
         "79": 0.009925822427647968,
         "80": -0.1804469752109367,
         "81": 0.015713943773569366,
         "82": 0.011345025605906642,
         "83": -0.022682369279880397,
         "84": 0.007929375649543555,
         "85": -0.11665797316446067,
         "86": -0.09150643598724939,
         "87": -0.04954266764699297,
         "88": -0.05851099522632718,
         "89": 0.18261554698588708,
         "90": -0.10611388598323833,
         "91": 0.009156616984666627,
         "92": -0.2377924930462272,
         "93": -0.4394077483550697,
         "94": -0.7888447576896573,
         "95": -0.221836716279033,
         "96": 1,
         "age": 0.033513557752565065,
         "fnlwgt": -0.05690894577765482,
         "education_num": 0.05142899545583143,
         "gender": 0.10355649598448939,
         "capital_gain": 0.014417508051313928,
         "capital_loss": 0.021027070106246246,
         "hours_per_week": 0.049487541340955316,
         "high_income": 0.08538651227238309,
         "_deepnote_index_column": "96"
        }
       ]
      },
      "text/plain": "                    age    fnlwgt  education_num    gender  capital_gain  \\\nage            1.000000 -0.076646       0.036546  0.088832      0.077674   \nfnlwgt        -0.076646  1.000000      -0.043245  0.026858      0.000432   \neducation_num  0.036546 -0.043245       1.000000  0.012375      0.122659   \ngender         0.088832  0.026858       0.012375  1.000000      0.048480   \ncapital_gain   0.077674  0.000432       0.122659  0.048480      1.000000   \n...                 ...       ...            ...       ...           ...   \n92            -0.010137 -0.064148      -0.029331 -0.010820     -0.006015   \n93            -0.011314 -0.051331       0.062157 -0.000979      0.009881   \n94            -0.019434  0.118009      -0.075387 -0.115604     -0.020631   \n95            -0.034415  0.006376      -0.044120 -0.013906     -0.001774   \n96             0.033514 -0.056909       0.051429  0.103556      0.014418   \n\n               capital_loss  hours_per_week  high_income         0         1  \\\nage                0.057775        0.068756     0.234037  0.051227  0.060901   \nfnlwgt            -0.010252       -0.018768    -0.009463 -0.007525 -0.002828   \neducation_num      0.079960        0.148155     0.335118  0.060548  0.097792   \ngender             0.045567        0.229309     0.215980  0.000989 -0.037966   \ncapital_gain      -0.031615        0.078409     0.223329 -0.005768 -0.007007   \n...                     ...             ...          ...       ...       ...   \n92                -0.012947       -0.003096    -0.028721  0.018351  0.020612   \n93                 0.004509       -0.004843     0.010238  0.013845 -0.019761   \n94                -0.021762       -0.053153    -0.089089  0.047403  0.037073   \n95                -0.005964       -0.007188    -0.031830 -0.001978 -0.010227   \n96                 0.021027        0.049488     0.085387 -0.051015 -0.024157   \n\n               ...        87        88        89        90        91  \\\nage            ... -0.006271  0.004843  0.017993 -0.015054  0.000375   \nfnlwgt         ... -0.001250  0.005273 -0.079790 -0.011398  0.005501   \neducation_num  ...  0.007900 -0.017068  0.123136 -0.007476 -0.001231   \ngender         ... -0.014012 -0.012744 -0.000668 -0.001205  0.006753   \ncapital_gain   ... -0.003432 -0.003526  0.011299 -0.002564 -0.002193   \n...            ...       ...       ...       ...       ...       ...   \n92             ... -0.002310 -0.002373  0.013296 -0.004459 -0.002177   \n93             ...  0.114730  0.010094 -0.357144  0.242521 -0.004023   \n94             ... -0.007662  0.061219  0.027269 -0.014793 -0.007223   \n95             ... -0.002155  0.011785 -0.121183 -0.004160 -0.002031   \n96             ... -0.049543 -0.058511  0.182616 -0.106114  0.009157   \n\n                     92        93        94        95        96  \nage           -0.010137 -0.011314 -0.019434 -0.034415  0.033514  \nfnlwgt        -0.064148 -0.051331  0.118009  0.006376 -0.056909  \neducation_num -0.029331  0.062157 -0.075387 -0.044120  0.051429  \ngender        -0.010820 -0.000979 -0.115604 -0.013906  0.103556  \ncapital_gain  -0.006015  0.009881 -0.020631 -0.001774  0.014418  \n...                 ...       ...       ...       ...       ...  \n92             1.000000 -0.017820 -0.031991 -0.008996 -0.237792  \n93            -0.017820  1.000000 -0.059114 -0.016624 -0.439408  \n94            -0.031991 -0.059114  1.000000 -0.029844 -0.788845  \n95            -0.008996 -0.016624 -0.029844  1.000000 -0.221837  \n96            -0.237792 -0.439408 -0.788845 -0.221837  1.000000  \n\n[105 rows x 105 columns]",
      "text/html": "<div>\n<style scoped>\n    .dataframe tbody tr th:only-of-type {\n        vertical-align: middle;\n    }\n\n    .dataframe tbody tr th {\n        vertical-align: top;\n    }\n\n    .dataframe thead th {\n        text-align: right;\n    }\n</style>\n<table border=\"1\" class=\"dataframe\">\n  <thead>\n    <tr style=\"text-align: right;\">\n      <th></th>\n      <th>age</th>\n      <th>fnlwgt</th>\n      <th>education_num</th>\n      <th>gender</th>\n      <th>capital_gain</th>\n      <th>capital_loss</th>\n      <th>hours_per_week</th>\n      <th>high_income</th>\n      <th>0</th>\n      <th>1</th>\n      <th>...</th>\n      <th>87</th>\n      <th>88</th>\n      <th>89</th>\n      <th>90</th>\n      <th>91</th>\n      <th>92</th>\n      <th>93</th>\n      <th>94</th>\n      <th>95</th>\n      <th>96</th>\n    </tr>\n  </thead>\n  <tbody>\n    <tr>\n      <th>age</th>\n      <td>1.000000</td>\n      <td>-0.076646</td>\n      <td>0.036546</td>\n      <td>0.088832</td>\n      <td>0.077674</td>\n      <td>0.057775</td>\n      <td>0.068756</td>\n      <td>0.234037</td>\n      <td>0.051227</td>\n      <td>0.060901</td>\n      <td>...</td>\n      <td>-0.006271</td>\n      <td>0.004843</td>\n      <td>0.017993</td>\n      <td>-0.015054</td>\n      <td>0.000375</td>\n      <td>-0.010137</td>\n      <td>-0.011314</td>\n      <td>-0.019434</td>\n      <td>-0.034415</td>\n      <td>0.033514</td>\n    </tr>\n    <tr>\n      <th>fnlwgt</th>\n      <td>-0.076646</td>\n      <td>1.000000</td>\n      <td>-0.043245</td>\n      <td>0.026858</td>\n      <td>0.000432</td>\n      <td>-0.010252</td>\n      <td>-0.018768</td>\n      <td>-0.009463</td>\n      <td>-0.007525</td>\n      <td>-0.002828</td>\n      <td>...</td>\n      <td>-0.001250</td>\n      <td>0.005273</td>\n      <td>-0.079790</td>\n      <td>-0.011398</td>\n      <td>0.005501</td>\n      <td>-0.064148</td>\n      <td>-0.051331</td>\n      <td>0.118009</td>\n      <td>0.006376</td>\n      <td>-0.056909</td>\n    </tr>\n    <tr>\n      <th>education_num</th>\n      <td>0.036546</td>\n      <td>-0.043245</td>\n      <td>1.000000</td>\n      <td>0.012375</td>\n      <td>0.122659</td>\n      <td>0.079960</td>\n      <td>0.148155</td>\n      <td>0.335118</td>\n      <td>0.060548</td>\n      <td>0.097792</td>\n      <td>...</td>\n      <td>0.007900</td>\n      <td>-0.017068</td>\n      <td>0.123136</td>\n      <td>-0.007476</td>\n      <td>-0.001231</td>\n      <td>-0.029331</td>\n      <td>0.062157</td>\n      <td>-0.075387</td>\n      <td>-0.044120</td>\n      <td>0.051429</td>\n    </tr>\n    <tr>\n      <th>gender</th>\n      <td>0.088832</td>\n      <td>0.026858</td>\n      <td>0.012375</td>\n      <td>1.000000</td>\n      <td>0.048480</td>\n      <td>0.045567</td>\n      <td>0.229309</td>\n      <td>0.215980</td>\n      <td>0.000989</td>\n      <td>-0.037966</td>\n      <td>...</td>\n      <td>-0.014012</td>\n      <td>-0.012744</td>\n      <td>-0.000668</td>\n      <td>-0.001205</td>\n      <td>0.006753</td>\n      <td>-0.010820</td>\n      <td>-0.000979</td>\n      <td>-0.115604</td>\n      <td>-0.013906</td>\n      <td>0.103556</td>\n    </tr>\n    <tr>\n      <th>capital_gain</th>\n      <td>0.077674</td>\n      <td>0.000432</td>\n      <td>0.122659</td>\n      <td>0.048480</td>\n      <td>1.000000</td>\n      <td>-0.031615</td>\n      <td>0.078409</td>\n      <td>0.223329</td>\n      <td>-0.005768</td>\n      <td>-0.007007</td>\n      <td>...</td>\n      <td>-0.003432</td>\n      <td>-0.003526</td>\n      <td>0.011299</td>\n      <td>-0.002564</td>\n      <td>-0.002193</td>\n      <td>-0.006015</td>\n      <td>0.009881</td>\n      <td>-0.020631</td>\n      <td>-0.001774</td>\n      <td>0.014418</td>\n    </tr>\n    <tr>\n      <th>...</th>\n      <td>...</td>\n      <td>...</td>\n      <td>...</td>\n      <td>...</td>\n      <td>...</td>\n      <td>...</td>\n      <td>...</td>\n      <td>...</td>\n      <td>...</td>\n      <td>...</td>\n      <td>...</td>\n      <td>...</td>\n      <td>...</td>\n      <td>...</td>\n      <td>...</td>\n      <td>...</td>\n      <td>...</td>\n      <td>...</td>\n      <td>...</td>\n      <td>...</td>\n      <td>...</td>\n    </tr>\n    <tr>\n      <th>92</th>\n      <td>-0.010137</td>\n      <td>-0.064148</td>\n      <td>-0.029331</td>\n      <td>-0.010820</td>\n      <td>-0.006015</td>\n      <td>-0.012947</td>\n      <td>-0.003096</td>\n      <td>-0.028721</td>\n      <td>0.018351</td>\n      <td>0.020612</td>\n      <td>...</td>\n      <td>-0.002310</td>\n      <td>-0.002373</td>\n      <td>0.013296</td>\n      <td>-0.004459</td>\n      <td>-0.002177</td>\n      <td>1.000000</td>\n      <td>-0.017820</td>\n      <td>-0.031991</td>\n      <td>-0.008996</td>\n      <td>-0.237792</td>\n    </tr>\n    <tr>\n      <th>93</th>\n      <td>-0.011314</td>\n      <td>-0.051331</td>\n      <td>0.062157</td>\n      <td>-0.000979</td>\n      <td>0.009881</td>\n      <td>0.004509</td>\n      <td>-0.004843</td>\n      <td>0.010238</td>\n      <td>0.013845</td>\n      <td>-0.019761</td>\n      <td>...</td>\n      <td>0.114730</td>\n      <td>0.010094</td>\n      <td>-0.357144</td>\n      <td>0.242521</td>\n      <td>-0.004023</td>\n      <td>-0.017820</td>\n      <td>1.000000</td>\n      <td>-0.059114</td>\n      <td>-0.016624</td>\n      <td>-0.439408</td>\n    </tr>\n    <tr>\n      <th>94</th>\n      <td>-0.019434</td>\n      <td>0.118009</td>\n      <td>-0.075387</td>\n      <td>-0.115604</td>\n      <td>-0.020631</td>\n      <td>-0.021762</td>\n      <td>-0.053153</td>\n      <td>-0.089089</td>\n      <td>0.047403</td>\n      <td>0.037073</td>\n      <td>...</td>\n      <td>-0.007662</td>\n      <td>0.061219</td>\n      <td>0.027269</td>\n      <td>-0.014793</td>\n      <td>-0.007223</td>\n      <td>-0.031991</td>\n      <td>-0.059114</td>\n      <td>1.000000</td>\n      <td>-0.029844</td>\n      <td>-0.788845</td>\n    </tr>\n    <tr>\n      <th>95</th>\n      <td>-0.034415</td>\n      <td>0.006376</td>\n      <td>-0.044120</td>\n      <td>-0.013906</td>\n      <td>-0.001774</td>\n      <td>-0.005964</td>\n      <td>-0.007188</td>\n      <td>-0.031830</td>\n      <td>-0.001978</td>\n      <td>-0.010227</td>\n      <td>...</td>\n      <td>-0.002155</td>\n      <td>0.011785</td>\n      <td>-0.121183</td>\n      <td>-0.004160</td>\n      <td>-0.002031</td>\n      <td>-0.008996</td>\n      <td>-0.016624</td>\n      <td>-0.029844</td>\n      <td>1.000000</td>\n      <td>-0.221837</td>\n    </tr>\n    <tr>\n      <th>96</th>\n      <td>0.033514</td>\n      <td>-0.056909</td>\n      <td>0.051429</td>\n      <td>0.103556</td>\n      <td>0.014418</td>\n      <td>0.021027</td>\n      <td>0.049488</td>\n      <td>0.085387</td>\n      <td>-0.051015</td>\n      <td>-0.024157</td>\n      <td>...</td>\n      <td>-0.049543</td>\n      <td>-0.058511</td>\n      <td>0.182616</td>\n      <td>-0.106114</td>\n      <td>0.009157</td>\n      <td>-0.237792</td>\n      <td>-0.439408</td>\n      <td>-0.788845</td>\n      <td>-0.221837</td>\n      <td>1.000000</td>\n    </tr>\n  </tbody>\n</table>\n<p>105 rows × 105 columns</p>\n</div>"
     },
     "metadata": {}
    }
   ]
  },
  {
   "cell_type": "code",
   "metadata": {
    "tags": [],
    "cell_id": "00027-5bd306d9-4061-44df-9276-7ff984ea2b8c",
    "deepnote_to_be_reexecuted": false,
    "source_hash": "f59eeabb",
    "execution_start": 1634293525795,
    "execution_millis": 72943,
    "deepnote_cell_type": "code"
   },
   "source": "sns.heatmap(dataset.corr(), annot=True)",
   "execution_count": null,
   "outputs": [
    {
     "output_type": "execute_result",
     "execution_count": 23,
     "data": {
      "text/plain": "<AxesSubplot:>"
     },
     "metadata": {}
    },
    {
     "name": "stdout",
     "text": "Error in callback <function flush_figures at 0x7f64696b5cb0> (for post_execute):\n",
     "output_type": "stream"
    },
    {
     "output_type": "error",
     "ename": "KeyboardInterrupt",
     "evalue": "",
     "traceback": [
      "\u001b[0;31m---------------------------------------------------------------------------\u001b[0m",
      "\u001b[0;31mKeyboardInterrupt\u001b[0m                         Traceback (most recent call last)",
      "\u001b[0;32m/shared-libs/python3.7/py-core/lib/python3.7/site-packages/ipykernel/pylab/backend_inline.py\u001b[0m in \u001b[0;36mflush_figures\u001b[0;34m()\u001b[0m\n\u001b[1;32m    118\u001b[0m         \u001b[0;31m# ignore the tracking, just draw and close all figures\u001b[0m\u001b[0;34m\u001b[0m\u001b[0;34m\u001b[0m\u001b[0;34m\u001b[0m\u001b[0m\n\u001b[1;32m    119\u001b[0m         \u001b[0;32mtry\u001b[0m\u001b[0;34m:\u001b[0m\u001b[0;34m\u001b[0m\u001b[0;34m\u001b[0m\u001b[0m\n\u001b[0;32m--> 120\u001b[0;31m             \u001b[0;32mreturn\u001b[0m \u001b[0mshow\u001b[0m\u001b[0;34m(\u001b[0m\u001b[0;32mTrue\u001b[0m\u001b[0;34m)\u001b[0m\u001b[0;34m\u001b[0m\u001b[0;34m\u001b[0m\u001b[0m\n\u001b[0m\u001b[1;32m    121\u001b[0m         \u001b[0;32mexcept\u001b[0m \u001b[0mException\u001b[0m \u001b[0;32mas\u001b[0m \u001b[0me\u001b[0m\u001b[0;34m:\u001b[0m\u001b[0;34m\u001b[0m\u001b[0;34m\u001b[0m\u001b[0m\n\u001b[1;32m    122\u001b[0m             \u001b[0;31m# safely show traceback if in IPython, else raise\u001b[0m\u001b[0;34m\u001b[0m\u001b[0;34m\u001b[0m\u001b[0;34m\u001b[0m\u001b[0m\n",
      "\u001b[0;32m/shared-libs/python3.7/py-core/lib/python3.7/site-packages/ipykernel/pylab/backend_inline.py\u001b[0m in \u001b[0;36mshow\u001b[0;34m(close, block)\u001b[0m\n\u001b[1;32m     40\u001b[0m             display(\n\u001b[1;32m     41\u001b[0m                 \u001b[0mfigure_manager\u001b[0m\u001b[0;34m.\u001b[0m\u001b[0mcanvas\u001b[0m\u001b[0;34m.\u001b[0m\u001b[0mfigure\u001b[0m\u001b[0;34m,\u001b[0m\u001b[0;34m\u001b[0m\u001b[0;34m\u001b[0m\u001b[0m\n\u001b[0;32m---> 42\u001b[0;31m                 \u001b[0mmetadata\u001b[0m\u001b[0;34m=\u001b[0m\u001b[0m_fetch_figure_metadata\u001b[0m\u001b[0;34m(\u001b[0m\u001b[0mfigure_manager\u001b[0m\u001b[0;34m.\u001b[0m\u001b[0mcanvas\u001b[0m\u001b[0;34m.\u001b[0m\u001b[0mfigure\u001b[0m\u001b[0;34m)\u001b[0m\u001b[0;34m\u001b[0m\u001b[0;34m\u001b[0m\u001b[0m\n\u001b[0m\u001b[1;32m     43\u001b[0m             )\n\u001b[1;32m     44\u001b[0m     \u001b[0;32mfinally\u001b[0m\u001b[0;34m:\u001b[0m\u001b[0;34m\u001b[0m\u001b[0;34m\u001b[0m\u001b[0m\n",
      "\u001b[0;32m/shared-libs/python3.7/py-core/lib/python3.7/site-packages/IPython/core/display.py\u001b[0m in \u001b[0;36mdisplay\u001b[0;34m(include, exclude, metadata, transient, display_id, *objs, **kwargs)\u001b[0m\n\u001b[1;32m    318\u001b[0m             \u001b[0mpublish_display_data\u001b[0m\u001b[0;34m(\u001b[0m\u001b[0mdata\u001b[0m\u001b[0;34m=\u001b[0m\u001b[0mobj\u001b[0m\u001b[0;34m,\u001b[0m \u001b[0mmetadata\u001b[0m\u001b[0;34m=\u001b[0m\u001b[0mmetadata\u001b[0m\u001b[0;34m,\u001b[0m \u001b[0;34m**\u001b[0m\u001b[0mkwargs\u001b[0m\u001b[0;34m)\u001b[0m\u001b[0;34m\u001b[0m\u001b[0;34m\u001b[0m\u001b[0m\n\u001b[1;32m    319\u001b[0m         \u001b[0;32melse\u001b[0m\u001b[0;34m:\u001b[0m\u001b[0;34m\u001b[0m\u001b[0;34m\u001b[0m\u001b[0m\n\u001b[0;32m--> 320\u001b[0;31m             \u001b[0mformat_dict\u001b[0m\u001b[0;34m,\u001b[0m \u001b[0mmd_dict\u001b[0m \u001b[0;34m=\u001b[0m \u001b[0mformat\u001b[0m\u001b[0;34m(\u001b[0m\u001b[0mobj\u001b[0m\u001b[0;34m,\u001b[0m \u001b[0minclude\u001b[0m\u001b[0;34m=\u001b[0m\u001b[0minclude\u001b[0m\u001b[0;34m,\u001b[0m \u001b[0mexclude\u001b[0m\u001b[0;34m=\u001b[0m\u001b[0mexclude\u001b[0m\u001b[0;34m)\u001b[0m\u001b[0;34m\u001b[0m\u001b[0;34m\u001b[0m\u001b[0m\n\u001b[0m\u001b[1;32m    321\u001b[0m             \u001b[0;32mif\u001b[0m \u001b[0;32mnot\u001b[0m \u001b[0mformat_dict\u001b[0m\u001b[0;34m:\u001b[0m\u001b[0;34m\u001b[0m\u001b[0;34m\u001b[0m\u001b[0m\n\u001b[1;32m    322\u001b[0m                 \u001b[0;31m# nothing to display (e.g. _ipython_display_ took over)\u001b[0m\u001b[0;34m\u001b[0m\u001b[0;34m\u001b[0m\u001b[0;34m\u001b[0m\u001b[0m\n",
      "\u001b[0;32m/shared-libs/python3.7/py-core/lib/python3.7/site-packages/IPython/core/formatters.py\u001b[0m in \u001b[0;36mformat\u001b[0;34m(self, obj, include, exclude)\u001b[0m\n\u001b[1;32m    178\u001b[0m             \u001b[0mmd\u001b[0m \u001b[0;34m=\u001b[0m \u001b[0;32mNone\u001b[0m\u001b[0;34m\u001b[0m\u001b[0;34m\u001b[0m\u001b[0m\n\u001b[1;32m    179\u001b[0m             \u001b[0;32mtry\u001b[0m\u001b[0;34m:\u001b[0m\u001b[0;34m\u001b[0m\u001b[0;34m\u001b[0m\u001b[0m\n\u001b[0;32m--> 180\u001b[0;31m                 \u001b[0mdata\u001b[0m \u001b[0;34m=\u001b[0m \u001b[0mformatter\u001b[0m\u001b[0;34m(\u001b[0m\u001b[0mobj\u001b[0m\u001b[0;34m)\u001b[0m\u001b[0;34m\u001b[0m\u001b[0;34m\u001b[0m\u001b[0m\n\u001b[0m\u001b[1;32m    181\u001b[0m             \u001b[0;32mexcept\u001b[0m\u001b[0;34m:\u001b[0m\u001b[0;34m\u001b[0m\u001b[0;34m\u001b[0m\u001b[0m\n\u001b[1;32m    182\u001b[0m                 \u001b[0;31m# FIXME: log the exception\u001b[0m\u001b[0;34m\u001b[0m\u001b[0;34m\u001b[0m\u001b[0;34m\u001b[0m\u001b[0m\n",
      "\u001b[0;32m/shared-libs/python3.7/py-core/lib/python3.7/site-packages/decorator.py\u001b[0m in \u001b[0;36mfun\u001b[0;34m(*args, **kw)\u001b[0m\n\u001b[1;32m    230\u001b[0m             \u001b[0;32mif\u001b[0m \u001b[0;32mnot\u001b[0m \u001b[0mkwsyntax\u001b[0m\u001b[0;34m:\u001b[0m\u001b[0;34m\u001b[0m\u001b[0;34m\u001b[0m\u001b[0m\n\u001b[1;32m    231\u001b[0m                 \u001b[0margs\u001b[0m\u001b[0;34m,\u001b[0m \u001b[0mkw\u001b[0m \u001b[0;34m=\u001b[0m \u001b[0mfix\u001b[0m\u001b[0;34m(\u001b[0m\u001b[0margs\u001b[0m\u001b[0;34m,\u001b[0m \u001b[0mkw\u001b[0m\u001b[0;34m,\u001b[0m \u001b[0msig\u001b[0m\u001b[0;34m)\u001b[0m\u001b[0;34m\u001b[0m\u001b[0;34m\u001b[0m\u001b[0m\n\u001b[0;32m--> 232\u001b[0;31m             \u001b[0;32mreturn\u001b[0m \u001b[0mcaller\u001b[0m\u001b[0;34m(\u001b[0m\u001b[0mfunc\u001b[0m\u001b[0;34m,\u001b[0m \u001b[0;34m*\u001b[0m\u001b[0;34m(\u001b[0m\u001b[0mextras\u001b[0m \u001b[0;34m+\u001b[0m \u001b[0margs\u001b[0m\u001b[0;34m)\u001b[0m\u001b[0;34m,\u001b[0m \u001b[0;34m**\u001b[0m\u001b[0mkw\u001b[0m\u001b[0;34m)\u001b[0m\u001b[0;34m\u001b[0m\u001b[0;34m\u001b[0m\u001b[0m\n\u001b[0m\u001b[1;32m    233\u001b[0m     \u001b[0mfun\u001b[0m\u001b[0;34m.\u001b[0m\u001b[0m__name__\u001b[0m \u001b[0;34m=\u001b[0m \u001b[0mfunc\u001b[0m\u001b[0;34m.\u001b[0m\u001b[0m__name__\u001b[0m\u001b[0;34m\u001b[0m\u001b[0;34m\u001b[0m\u001b[0m\n\u001b[1;32m    234\u001b[0m     \u001b[0mfun\u001b[0m\u001b[0;34m.\u001b[0m\u001b[0m__doc__\u001b[0m \u001b[0;34m=\u001b[0m \u001b[0mfunc\u001b[0m\u001b[0;34m.\u001b[0m\u001b[0m__doc__\u001b[0m\u001b[0;34m\u001b[0m\u001b[0;34m\u001b[0m\u001b[0m\n",
      "\u001b[0;32m/shared-libs/python3.7/py-core/lib/python3.7/site-packages/IPython/core/formatters.py\u001b[0m in \u001b[0;36mcatch_format_error\u001b[0;34m(method, self, *args, **kwargs)\u001b[0m\n\u001b[1;32m    222\u001b[0m     \u001b[0;34m\"\"\"show traceback on failed format call\"\"\"\u001b[0m\u001b[0;34m\u001b[0m\u001b[0;34m\u001b[0m\u001b[0m\n\u001b[1;32m    223\u001b[0m     \u001b[0;32mtry\u001b[0m\u001b[0;34m:\u001b[0m\u001b[0;34m\u001b[0m\u001b[0;34m\u001b[0m\u001b[0m\n\u001b[0;32m--> 224\u001b[0;31m         \u001b[0mr\u001b[0m \u001b[0;34m=\u001b[0m \u001b[0mmethod\u001b[0m\u001b[0;34m(\u001b[0m\u001b[0mself\u001b[0m\u001b[0;34m,\u001b[0m \u001b[0;34m*\u001b[0m\u001b[0margs\u001b[0m\u001b[0;34m,\u001b[0m \u001b[0;34m**\u001b[0m\u001b[0mkwargs\u001b[0m\u001b[0;34m)\u001b[0m\u001b[0;34m\u001b[0m\u001b[0;34m\u001b[0m\u001b[0m\n\u001b[0m\u001b[1;32m    225\u001b[0m     \u001b[0;32mexcept\u001b[0m \u001b[0mNotImplementedError\u001b[0m\u001b[0;34m:\u001b[0m\u001b[0;34m\u001b[0m\u001b[0;34m\u001b[0m\u001b[0m\n\u001b[1;32m    226\u001b[0m         \u001b[0;31m# don't warn on NotImplementedErrors\u001b[0m\u001b[0;34m\u001b[0m\u001b[0;34m\u001b[0m\u001b[0;34m\u001b[0m\u001b[0m\n",
      "\u001b[0;32m/shared-libs/python3.7/py-core/lib/python3.7/site-packages/IPython/core/formatters.py\u001b[0m in \u001b[0;36m__call__\u001b[0;34m(self, obj)\u001b[0m\n\u001b[1;32m    339\u001b[0m                 \u001b[0;32mpass\u001b[0m\u001b[0;34m\u001b[0m\u001b[0;34m\u001b[0m\u001b[0m\n\u001b[1;32m    340\u001b[0m             \u001b[0;32melse\u001b[0m\u001b[0;34m:\u001b[0m\u001b[0;34m\u001b[0m\u001b[0;34m\u001b[0m\u001b[0m\n\u001b[0;32m--> 341\u001b[0;31m                 \u001b[0;32mreturn\u001b[0m \u001b[0mprinter\u001b[0m\u001b[0;34m(\u001b[0m\u001b[0mobj\u001b[0m\u001b[0;34m)\u001b[0m\u001b[0;34m\u001b[0m\u001b[0;34m\u001b[0m\u001b[0m\n\u001b[0m\u001b[1;32m    342\u001b[0m             \u001b[0;31m# Finally look for special method names\u001b[0m\u001b[0;34m\u001b[0m\u001b[0;34m\u001b[0m\u001b[0;34m\u001b[0m\u001b[0m\n\u001b[1;32m    343\u001b[0m             \u001b[0mmethod\u001b[0m \u001b[0;34m=\u001b[0m \u001b[0mget_real_method\u001b[0m\u001b[0;34m(\u001b[0m\u001b[0mobj\u001b[0m\u001b[0;34m,\u001b[0m \u001b[0mself\u001b[0m\u001b[0;34m.\u001b[0m\u001b[0mprint_method\u001b[0m\u001b[0;34m)\u001b[0m\u001b[0;34m\u001b[0m\u001b[0;34m\u001b[0m\u001b[0m\n",
      "\u001b[0;32m/shared-libs/python3.7/py-core/lib/python3.7/site-packages/IPython/core/pylabtools.py\u001b[0m in \u001b[0;36m<lambda>\u001b[0;34m(fig)\u001b[0m\n\u001b[1;32m    251\u001b[0m \u001b[0;34m\u001b[0m\u001b[0m\n\u001b[1;32m    252\u001b[0m     \u001b[0;32mif\u001b[0m \u001b[0;34m'png'\u001b[0m \u001b[0;32min\u001b[0m \u001b[0mformats\u001b[0m\u001b[0;34m:\u001b[0m\u001b[0;34m\u001b[0m\u001b[0;34m\u001b[0m\u001b[0m\n\u001b[0;32m--> 253\u001b[0;31m         \u001b[0mpng_formatter\u001b[0m\u001b[0;34m.\u001b[0m\u001b[0mfor_type\u001b[0m\u001b[0;34m(\u001b[0m\u001b[0mFigure\u001b[0m\u001b[0;34m,\u001b[0m \u001b[0;32mlambda\u001b[0m \u001b[0mfig\u001b[0m\u001b[0;34m:\u001b[0m \u001b[0mprint_figure\u001b[0m\u001b[0;34m(\u001b[0m\u001b[0mfig\u001b[0m\u001b[0;34m,\u001b[0m \u001b[0;34m'png'\u001b[0m\u001b[0;34m,\u001b[0m \u001b[0;34m**\u001b[0m\u001b[0mkwargs\u001b[0m\u001b[0;34m)\u001b[0m\u001b[0;34m)\u001b[0m\u001b[0;34m\u001b[0m\u001b[0;34m\u001b[0m\u001b[0m\n\u001b[0m\u001b[1;32m    254\u001b[0m     \u001b[0;32mif\u001b[0m \u001b[0;34m'retina'\u001b[0m \u001b[0;32min\u001b[0m \u001b[0mformats\u001b[0m \u001b[0;32mor\u001b[0m \u001b[0;34m'png2x'\u001b[0m \u001b[0;32min\u001b[0m \u001b[0mformats\u001b[0m\u001b[0;34m:\u001b[0m\u001b[0;34m\u001b[0m\u001b[0;34m\u001b[0m\u001b[0m\n\u001b[1;32m    255\u001b[0m         \u001b[0mpng_formatter\u001b[0m\u001b[0;34m.\u001b[0m\u001b[0mfor_type\u001b[0m\u001b[0;34m(\u001b[0m\u001b[0mFigure\u001b[0m\u001b[0;34m,\u001b[0m \u001b[0;32mlambda\u001b[0m \u001b[0mfig\u001b[0m\u001b[0;34m:\u001b[0m \u001b[0mretina_figure\u001b[0m\u001b[0;34m(\u001b[0m\u001b[0mfig\u001b[0m\u001b[0;34m,\u001b[0m \u001b[0;34m**\u001b[0m\u001b[0mkwargs\u001b[0m\u001b[0;34m)\u001b[0m\u001b[0;34m)\u001b[0m\u001b[0;34m\u001b[0m\u001b[0;34m\u001b[0m\u001b[0m\n",
      "\u001b[0;32m/shared-libs/python3.7/py-core/lib/python3.7/site-packages/IPython/core/pylabtools.py\u001b[0m in \u001b[0;36mprint_figure\u001b[0;34m(fig, fmt, bbox_inches, **kwargs)\u001b[0m\n\u001b[1;32m    135\u001b[0m         \u001b[0mFigureCanvasBase\u001b[0m\u001b[0;34m(\u001b[0m\u001b[0mfig\u001b[0m\u001b[0;34m)\u001b[0m\u001b[0;34m\u001b[0m\u001b[0;34m\u001b[0m\u001b[0m\n\u001b[1;32m    136\u001b[0m \u001b[0;34m\u001b[0m\u001b[0m\n\u001b[0;32m--> 137\u001b[0;31m     \u001b[0mfig\u001b[0m\u001b[0;34m.\u001b[0m\u001b[0mcanvas\u001b[0m\u001b[0;34m.\u001b[0m\u001b[0mprint_figure\u001b[0m\u001b[0;34m(\u001b[0m\u001b[0mbytes_io\u001b[0m\u001b[0;34m,\u001b[0m \u001b[0;34m**\u001b[0m\u001b[0mkw\u001b[0m\u001b[0;34m)\u001b[0m\u001b[0;34m\u001b[0m\u001b[0;34m\u001b[0m\u001b[0m\n\u001b[0m\u001b[1;32m    138\u001b[0m     \u001b[0mdata\u001b[0m \u001b[0;34m=\u001b[0m \u001b[0mbytes_io\u001b[0m\u001b[0;34m.\u001b[0m\u001b[0mgetvalue\u001b[0m\u001b[0;34m(\u001b[0m\u001b[0;34m)\u001b[0m\u001b[0;34m\u001b[0m\u001b[0;34m\u001b[0m\u001b[0m\n\u001b[1;32m    139\u001b[0m     \u001b[0;32mif\u001b[0m \u001b[0mfmt\u001b[0m \u001b[0;34m==\u001b[0m \u001b[0;34m'svg'\u001b[0m\u001b[0;34m:\u001b[0m\u001b[0;34m\u001b[0m\u001b[0;34m\u001b[0m\u001b[0m\n",
      "\u001b[0;32m/shared-libs/python3.7/py/lib/python3.7/site-packages/matplotlib/backend_bases.py\u001b[0m in \u001b[0;36mprint_figure\u001b[0;34m(self, filename, dpi, facecolor, edgecolor, orientation, format, bbox_inches, pad_inches, bbox_extra_artists, backend, **kwargs)\u001b[0m\n\u001b[1;32m   2233\u001b[0m                 \u001b[0;32mif\u001b[0m \u001b[0mbbox_inches\u001b[0m \u001b[0;34m==\u001b[0m \u001b[0;34m\"tight\"\u001b[0m\u001b[0;34m:\u001b[0m\u001b[0;34m\u001b[0m\u001b[0;34m\u001b[0m\u001b[0m\n\u001b[1;32m   2234\u001b[0m                     bbox_inches = self.figure.get_tightbbox(\n\u001b[0;32m-> 2235\u001b[0;31m                         renderer, bbox_extra_artists=bbox_extra_artists)\n\u001b[0m\u001b[1;32m   2236\u001b[0m                     \u001b[0;32mif\u001b[0m \u001b[0mpad_inches\u001b[0m \u001b[0;32mis\u001b[0m \u001b[0;32mNone\u001b[0m\u001b[0;34m:\u001b[0m\u001b[0;34m\u001b[0m\u001b[0;34m\u001b[0m\u001b[0m\n\u001b[1;32m   2237\u001b[0m                         \u001b[0mpad_inches\u001b[0m \u001b[0;34m=\u001b[0m \u001b[0mrcParams\u001b[0m\u001b[0;34m[\u001b[0m\u001b[0;34m'savefig.pad_inches'\u001b[0m\u001b[0;34m]\u001b[0m\u001b[0;34m\u001b[0m\u001b[0;34m\u001b[0m\u001b[0m\n",
      "\u001b[0;32m/shared-libs/python3.7/py/lib/python3.7/site-packages/matplotlib/figure.py\u001b[0m in \u001b[0;36mget_tightbbox\u001b[0;34m(self, renderer, bbox_extra_artists)\u001b[0m\n\u001b[1;32m   1637\u001b[0m \u001b[0;34m\u001b[0m\u001b[0m\n\u001b[1;32m   1638\u001b[0m         \u001b[0;32mfor\u001b[0m \u001b[0ma\u001b[0m \u001b[0;32min\u001b[0m \u001b[0martists\u001b[0m\u001b[0;34m:\u001b[0m\u001b[0;34m\u001b[0m\u001b[0;34m\u001b[0m\u001b[0m\n\u001b[0;32m-> 1639\u001b[0;31m             \u001b[0mbbox\u001b[0m \u001b[0;34m=\u001b[0m \u001b[0ma\u001b[0m\u001b[0;34m.\u001b[0m\u001b[0mget_tightbbox\u001b[0m\u001b[0;34m(\u001b[0m\u001b[0mrenderer\u001b[0m\u001b[0;34m)\u001b[0m\u001b[0;34m\u001b[0m\u001b[0;34m\u001b[0m\u001b[0m\n\u001b[0m\u001b[1;32m   1640\u001b[0m             \u001b[0;32mif\u001b[0m \u001b[0mbbox\u001b[0m \u001b[0;32mis\u001b[0m \u001b[0;32mnot\u001b[0m \u001b[0;32mNone\u001b[0m \u001b[0;32mand\u001b[0m \u001b[0;34m(\u001b[0m\u001b[0mbbox\u001b[0m\u001b[0;34m.\u001b[0m\u001b[0mwidth\u001b[0m \u001b[0;34m!=\u001b[0m \u001b[0;36m0\u001b[0m \u001b[0;32mor\u001b[0m \u001b[0mbbox\u001b[0m\u001b[0;34m.\u001b[0m\u001b[0mheight\u001b[0m \u001b[0;34m!=\u001b[0m \u001b[0;36m0\u001b[0m\u001b[0;34m)\u001b[0m\u001b[0;34m:\u001b[0m\u001b[0;34m\u001b[0m\u001b[0;34m\u001b[0m\u001b[0m\n\u001b[1;32m   1641\u001b[0m                 \u001b[0mbb\u001b[0m\u001b[0;34m.\u001b[0m\u001b[0mappend\u001b[0m\u001b[0;34m(\u001b[0m\u001b[0mbbox\u001b[0m\u001b[0;34m)\u001b[0m\u001b[0;34m\u001b[0m\u001b[0;34m\u001b[0m\u001b[0m\n",
      "\u001b[0;32m/shared-libs/python3.7/py/lib/python3.7/site-packages/matplotlib/artist.py\u001b[0m in \u001b[0;36mget_tightbbox\u001b[0;34m(self, renderer)\u001b[0m\n\u001b[1;32m    304\u001b[0m             \u001b[0mThe\u001b[0m \u001b[0menclosing\u001b[0m \u001b[0mbounding\u001b[0m \u001b[0mbox\u001b[0m \u001b[0;34m(\u001b[0m\u001b[0;32min\u001b[0m \u001b[0mfigure\u001b[0m \u001b[0mpixel\u001b[0m \u001b[0mcoordinates\u001b[0m\u001b[0;34m)\u001b[0m\u001b[0;34m.\u001b[0m\u001b[0;34m\u001b[0m\u001b[0;34m\u001b[0m\u001b[0m\n\u001b[1;32m    305\u001b[0m         \"\"\"\n\u001b[0;32m--> 306\u001b[0;31m         \u001b[0mbbox\u001b[0m \u001b[0;34m=\u001b[0m \u001b[0mself\u001b[0m\u001b[0;34m.\u001b[0m\u001b[0mget_window_extent\u001b[0m\u001b[0;34m(\u001b[0m\u001b[0mrenderer\u001b[0m\u001b[0;34m)\u001b[0m\u001b[0;34m\u001b[0m\u001b[0;34m\u001b[0m\u001b[0m\n\u001b[0m\u001b[1;32m    307\u001b[0m         \u001b[0;32mif\u001b[0m \u001b[0mself\u001b[0m\u001b[0;34m.\u001b[0m\u001b[0mget_clip_on\u001b[0m\u001b[0;34m(\u001b[0m\u001b[0;34m)\u001b[0m\u001b[0;34m:\u001b[0m\u001b[0;34m\u001b[0m\u001b[0;34m\u001b[0m\u001b[0m\n\u001b[1;32m    308\u001b[0m             \u001b[0mclip_box\u001b[0m \u001b[0;34m=\u001b[0m \u001b[0mself\u001b[0m\u001b[0;34m.\u001b[0m\u001b[0mget_clip_box\u001b[0m\u001b[0;34m(\u001b[0m\u001b[0;34m)\u001b[0m\u001b[0;34m\u001b[0m\u001b[0;34m\u001b[0m\u001b[0m\n",
      "\u001b[0;32m/shared-libs/python3.7/py/lib/python3.7/site-packages/matplotlib/text.py\u001b[0m in \u001b[0;36mget_window_extent\u001b[0;34m(self, renderer, dpi)\u001b[0m\n\u001b[1;32m    901\u001b[0m \u001b[0;34m\u001b[0m\u001b[0m\n\u001b[1;32m    902\u001b[0m         \u001b[0;32mwith\u001b[0m \u001b[0mcbook\u001b[0m\u001b[0;34m.\u001b[0m\u001b[0m_setattr_cm\u001b[0m\u001b[0;34m(\u001b[0m\u001b[0mself\u001b[0m\u001b[0;34m.\u001b[0m\u001b[0mfigure\u001b[0m\u001b[0;34m,\u001b[0m \u001b[0mdpi\u001b[0m\u001b[0;34m=\u001b[0m\u001b[0mdpi\u001b[0m\u001b[0;34m)\u001b[0m\u001b[0;34m:\u001b[0m\u001b[0;34m\u001b[0m\u001b[0;34m\u001b[0m\u001b[0m\n\u001b[0;32m--> 903\u001b[0;31m             \u001b[0mbbox\u001b[0m\u001b[0;34m,\u001b[0m \u001b[0minfo\u001b[0m\u001b[0;34m,\u001b[0m \u001b[0mdescent\u001b[0m \u001b[0;34m=\u001b[0m \u001b[0mself\u001b[0m\u001b[0;34m.\u001b[0m\u001b[0m_get_layout\u001b[0m\u001b[0;34m(\u001b[0m\u001b[0mself\u001b[0m\u001b[0;34m.\u001b[0m\u001b[0m_renderer\u001b[0m\u001b[0;34m)\u001b[0m\u001b[0;34m\u001b[0m\u001b[0;34m\u001b[0m\u001b[0m\n\u001b[0m\u001b[1;32m    904\u001b[0m             \u001b[0mx\u001b[0m\u001b[0;34m,\u001b[0m \u001b[0my\u001b[0m \u001b[0;34m=\u001b[0m \u001b[0mself\u001b[0m\u001b[0;34m.\u001b[0m\u001b[0mget_unitless_position\u001b[0m\u001b[0;34m(\u001b[0m\u001b[0;34m)\u001b[0m\u001b[0;34m\u001b[0m\u001b[0;34m\u001b[0m\u001b[0m\n\u001b[1;32m    905\u001b[0m             \u001b[0mx\u001b[0m\u001b[0;34m,\u001b[0m \u001b[0my\u001b[0m \u001b[0;34m=\u001b[0m \u001b[0mself\u001b[0m\u001b[0;34m.\u001b[0m\u001b[0mget_transform\u001b[0m\u001b[0;34m(\u001b[0m\u001b[0;34m)\u001b[0m\u001b[0;34m.\u001b[0m\u001b[0mtransform\u001b[0m\u001b[0;34m(\u001b[0m\u001b[0;34m(\u001b[0m\u001b[0mx\u001b[0m\u001b[0;34m,\u001b[0m \u001b[0my\u001b[0m\u001b[0;34m)\u001b[0m\u001b[0;34m)\u001b[0m\u001b[0;34m\u001b[0m\u001b[0;34m\u001b[0m\u001b[0m\n",
      "\u001b[0;32m/shared-libs/python3.7/py/lib/python3.7/site-packages/matplotlib/text.py\u001b[0m in \u001b[0;36m_get_layout\u001b[0;34m(self, renderer)\u001b[0m\n\u001b[1;32m    306\u001b[0m         _, lp_h, lp_d = renderer.get_text_width_height_descent(\n\u001b[1;32m    307\u001b[0m             \u001b[0;34m\"lp\"\u001b[0m\u001b[0;34m,\u001b[0m \u001b[0mself\u001b[0m\u001b[0;34m.\u001b[0m\u001b[0m_fontproperties\u001b[0m\u001b[0;34m,\u001b[0m\u001b[0;34m\u001b[0m\u001b[0;34m\u001b[0m\u001b[0m\n\u001b[0;32m--> 308\u001b[0;31m             ismath=\"TeX\" if self.get_usetex() else False)\n\u001b[0m\u001b[1;32m    309\u001b[0m         \u001b[0mmin_dy\u001b[0m \u001b[0;34m=\u001b[0m \u001b[0;34m(\u001b[0m\u001b[0mlp_h\u001b[0m \u001b[0;34m-\u001b[0m \u001b[0mlp_d\u001b[0m\u001b[0;34m)\u001b[0m \u001b[0;34m*\u001b[0m \u001b[0mself\u001b[0m\u001b[0;34m.\u001b[0m\u001b[0m_linespacing\u001b[0m\u001b[0;34m\u001b[0m\u001b[0;34m\u001b[0m\u001b[0m\n\u001b[1;32m    310\u001b[0m \u001b[0;34m\u001b[0m\u001b[0m\n",
      "\u001b[0;32m/shared-libs/python3.7/py/lib/python3.7/site-packages/matplotlib/backends/backend_agg.py\u001b[0m in \u001b[0;36mget_text_width_height_descent\u001b[0;34m(self, s, prop, ismath)\u001b[0m\n\u001b[1;32m    237\u001b[0m \u001b[0;34m\u001b[0m\u001b[0m\n\u001b[1;32m    238\u001b[0m         \u001b[0mflags\u001b[0m \u001b[0;34m=\u001b[0m \u001b[0mget_hinting_flag\u001b[0m\u001b[0;34m(\u001b[0m\u001b[0;34m)\u001b[0m\u001b[0;34m\u001b[0m\u001b[0;34m\u001b[0m\u001b[0m\n\u001b[0;32m--> 239\u001b[0;31m         \u001b[0mfont\u001b[0m \u001b[0;34m=\u001b[0m \u001b[0mself\u001b[0m\u001b[0;34m.\u001b[0m\u001b[0m_get_agg_font\u001b[0m\u001b[0;34m(\u001b[0m\u001b[0mprop\u001b[0m\u001b[0;34m)\u001b[0m\u001b[0;34m\u001b[0m\u001b[0;34m\u001b[0m\u001b[0m\n\u001b[0m\u001b[1;32m    240\u001b[0m         \u001b[0mfont\u001b[0m\u001b[0;34m.\u001b[0m\u001b[0mset_text\u001b[0m\u001b[0;34m(\u001b[0m\u001b[0ms\u001b[0m\u001b[0;34m,\u001b[0m \u001b[0;36m0.0\u001b[0m\u001b[0;34m,\u001b[0m \u001b[0mflags\u001b[0m\u001b[0;34m=\u001b[0m\u001b[0mflags\u001b[0m\u001b[0;34m)\u001b[0m\u001b[0;34m\u001b[0m\u001b[0;34m\u001b[0m\u001b[0m\n\u001b[1;32m    241\u001b[0m         \u001b[0mw\u001b[0m\u001b[0;34m,\u001b[0m \u001b[0mh\u001b[0m \u001b[0;34m=\u001b[0m \u001b[0mfont\u001b[0m\u001b[0;34m.\u001b[0m\u001b[0mget_width_height\u001b[0m\u001b[0;34m(\u001b[0m\u001b[0;34m)\u001b[0m  \u001b[0;31m# width and height of unrotated string\u001b[0m\u001b[0;34m\u001b[0m\u001b[0;34m\u001b[0m\u001b[0m\n",
      "\u001b[0;32m/shared-libs/python3.7/py/lib/python3.7/site-packages/matplotlib/backends/backend_agg.py\u001b[0m in \u001b[0;36m_get_agg_font\u001b[0;34m(self, prop)\u001b[0m\n\u001b[1;32m    271\u001b[0m         \u001b[0mGet\u001b[0m \u001b[0mthe\u001b[0m \u001b[0mfont\u001b[0m \u001b[0;32mfor\u001b[0m \u001b[0mtext\u001b[0m \u001b[0minstance\u001b[0m \u001b[0mt\u001b[0m\u001b[0;34m,\u001b[0m \u001b[0mcaching\u001b[0m \u001b[0;32mfor\u001b[0m \u001b[0mefficiency\u001b[0m\u001b[0;34m\u001b[0m\u001b[0;34m\u001b[0m\u001b[0m\n\u001b[1;32m    272\u001b[0m         \"\"\"\n\u001b[0;32m--> 273\u001b[0;31m         \u001b[0mfname\u001b[0m \u001b[0;34m=\u001b[0m \u001b[0mfindfont\u001b[0m\u001b[0;34m(\u001b[0m\u001b[0mprop\u001b[0m\u001b[0;34m)\u001b[0m\u001b[0;34m\u001b[0m\u001b[0;34m\u001b[0m\u001b[0m\n\u001b[0m\u001b[1;32m    274\u001b[0m         \u001b[0mfont\u001b[0m \u001b[0;34m=\u001b[0m \u001b[0mget_font\u001b[0m\u001b[0;34m(\u001b[0m\u001b[0mfname\u001b[0m\u001b[0;34m)\u001b[0m\u001b[0;34m\u001b[0m\u001b[0;34m\u001b[0m\u001b[0m\n\u001b[1;32m    275\u001b[0m \u001b[0;34m\u001b[0m\u001b[0m\n",
      "\u001b[0;32m/shared-libs/python3.7/py/lib/python3.7/site-packages/matplotlib/font_manager.py\u001b[0m in \u001b[0;36mfindfont\u001b[0;34m(self, prop, fontext, directory, fallback_to_default, rebuild_if_missing)\u001b[0m\n\u001b[1;32m   1307\u001b[0m         return self._findfont_cached(\n\u001b[1;32m   1308\u001b[0m             \u001b[0mprop\u001b[0m\u001b[0;34m,\u001b[0m \u001b[0mfontext\u001b[0m\u001b[0;34m,\u001b[0m \u001b[0mdirectory\u001b[0m\u001b[0;34m,\u001b[0m \u001b[0mfallback_to_default\u001b[0m\u001b[0;34m,\u001b[0m \u001b[0mrebuild_if_missing\u001b[0m\u001b[0;34m,\u001b[0m\u001b[0;34m\u001b[0m\u001b[0;34m\u001b[0m\u001b[0m\n\u001b[0;32m-> 1309\u001b[0;31m             rc_params)\n\u001b[0m\u001b[1;32m   1310\u001b[0m \u001b[0;34m\u001b[0m\u001b[0m\n\u001b[1;32m   1311\u001b[0m     \u001b[0;34m@\u001b[0m\u001b[0mlru_cache\u001b[0m\u001b[0;34m(\u001b[0m\u001b[0;34m)\u001b[0m\u001b[0;34m\u001b[0m\u001b[0;34m\u001b[0m\u001b[0m\n",
      "\u001b[0;32m/shared-libs/python3.7/py/lib/python3.7/site-packages/matplotlib/font_manager.py\u001b[0m in \u001b[0;36m__eq__\u001b[0;34m(self, other)\u001b[0m\n\u001b[1;32m    706\u001b[0m         \u001b[0;32mreturn\u001b[0m \u001b[0mhash\u001b[0m\u001b[0;34m(\u001b[0m\u001b[0ml\u001b[0m\u001b[0;34m)\u001b[0m\u001b[0;34m\u001b[0m\u001b[0;34m\u001b[0m\u001b[0m\n\u001b[1;32m    707\u001b[0m \u001b[0;34m\u001b[0m\u001b[0m\n\u001b[0;32m--> 708\u001b[0;31m     \u001b[0;32mdef\u001b[0m \u001b[0m__eq__\u001b[0m\u001b[0;34m(\u001b[0m\u001b[0mself\u001b[0m\u001b[0;34m,\u001b[0m \u001b[0mother\u001b[0m\u001b[0;34m)\u001b[0m\u001b[0;34m:\u001b[0m\u001b[0;34m\u001b[0m\u001b[0;34m\u001b[0m\u001b[0m\n\u001b[0m\u001b[1;32m    709\u001b[0m         \u001b[0;32mreturn\u001b[0m \u001b[0mhash\u001b[0m\u001b[0;34m(\u001b[0m\u001b[0mself\u001b[0m\u001b[0;34m)\u001b[0m \u001b[0;34m==\u001b[0m \u001b[0mhash\u001b[0m\u001b[0;34m(\u001b[0m\u001b[0mother\u001b[0m\u001b[0;34m)\u001b[0m\u001b[0;34m\u001b[0m\u001b[0;34m\u001b[0m\u001b[0m\n\u001b[1;32m    710\u001b[0m \u001b[0;34m\u001b[0m\u001b[0m\n",
      "\u001b[0;31mKeyboardInterrupt\u001b[0m: "
     ]
    }
   ]
  },
  {
   "cell_type": "code",
   "metadata": {
    "tags": [],
    "cell_id": "00030-70405e6d-dda9-4538-8040-6f99e9f430de",
    "deepnote_cell_type": "code"
   },
   "source": "",
   "execution_count": null,
   "outputs": []
  },
  {
   "cell_type": "markdown",
   "source": "<a style='text-decoration:none;line-height:16px;display:flex;color:#5B5B62;padding:10px;justify-content:end;' href='https://deepnote.com?utm_source=created-in-deepnote-cell&projectId=a5ba1956-2aa0-49ed-9952-f1c7a30328f2' target=\"_blank\">\n<img alt='Created in deepnote.com' style='display:inline;max-height:16px;margin:0px;margin-right:7.5px;' src='data:image/svg+xml;base64,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' > </img>\nCreated in <span style='font-weight:600;margin-left:4px;'>Deepnote</span></a>",
   "metadata": {
    "tags": [],
    "created_in_deepnote_cell": true,
    "deepnote_cell_type": "markdown"
   }
  }
 ],
 "nbformat": 4,
 "nbformat_minor": 2,
 "metadata": {
  "orig_nbformat": 2,
  "deepnote": {
   "is_reactive": false
  },
  "deepnote_notebook_id": "378f3cfd-ab9e-448e-95c3-69d607a2a9c6",
  "deepnote_execution_queue": []
 }
}