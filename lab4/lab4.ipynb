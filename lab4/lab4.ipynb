{
 "cells": [
  {
   "cell_type": "code",
   "metadata": {
    "tags": [],
    "cell_id": "00000-dc22ef87-4250-4810-8aa8-72010b162682",
    "deepnote_to_be_reexecuted": false,
    "source_hash": "8ca6a091",
    "execution_start": 1632731101598,
    "execution_millis": 626,
    "deepnote_cell_type": "code"
   },
   "source": "import pandas as pd\nimport numpy as np\nimport matplotlib.pyplot as plt",
   "outputs": [],
   "execution_count": null
  },
  {
   "cell_type": "code",
   "source": "import os\nos.chdir('/work/Labs/lab4')\ndata = pd.read_csv('data.csv')",
   "metadata": {
    "tags": [],
    "cell_id": "00001-f964b0b9-fae6-44d1-a955-90e0211ad59b",
    "deepnote_to_be_reexecuted": false,
    "source_hash": "63c55f63",
    "execution_start": 1632733781573,
    "execution_millis": 10,
    "deepnote_cell_type": "code"
   },
   "outputs": [],
   "execution_count": null
  },
  {
   "cell_type": "code",
   "source": "data",
   "metadata": {
    "tags": [],
    "cell_id": "00002-e890c575-ce74-4ff9-94fc-a74f720273c9",
    "deepnote_to_be_reexecuted": false,
    "source_hash": "e6928a8f",
    "execution_start": 1632733782443,
    "execution_millis": 119,
    "deepnote_cell_type": "code"
   },
   "outputs": [
    {
     "output_type": "execute_result",
     "execution_count": 44,
     "data": {
      "application/vnd.deepnote.dataframe.v2+json": {
       "row_count": 1309,
       "column_count": 11,
       "columns": [
        {
         "name": "pclass",
         "dtype": "int64",
         "stats": {
          "unique_count": 3,
          "nan_count": 0,
          "min": "1",
          "max": "3",
          "histogram": [
           {
            "bin_start": 1,
            "bin_end": 1.2,
            "count": 323
           },
           {
            "bin_start": 1.2,
            "bin_end": 1.4,
            "count": 0
           },
           {
            "bin_start": 1.4,
            "bin_end": 1.6,
            "count": 0
           },
           {
            "bin_start": 1.6,
            "bin_end": 1.8,
            "count": 0
           },
           {
            "bin_start": 1.8,
            "bin_end": 2,
            "count": 0
           },
           {
            "bin_start": 2,
            "bin_end": 2.2,
            "count": 277
           },
           {
            "bin_start": 2.2,
            "bin_end": 2.4000000000000004,
            "count": 0
           },
           {
            "bin_start": 2.4000000000000004,
            "bin_end": 2.6,
            "count": 0
           },
           {
            "bin_start": 2.6,
            "bin_end": 2.8,
            "count": 0
           },
           {
            "bin_start": 2.8,
            "bin_end": 3,
            "count": 709
           }
          ]
         }
        },
        {
         "name": "survived",
         "dtype": "int64",
         "stats": {
          "unique_count": 2,
          "nan_count": 0,
          "min": "0",
          "max": "1",
          "histogram": [
           {
            "bin_start": 0,
            "bin_end": 0.1,
            "count": 809
           },
           {
            "bin_start": 0.1,
            "bin_end": 0.2,
            "count": 0
           },
           {
            "bin_start": 0.2,
            "bin_end": 0.30000000000000004,
            "count": 0
           },
           {
            "bin_start": 0.30000000000000004,
            "bin_end": 0.4,
            "count": 0
           },
           {
            "bin_start": 0.4,
            "bin_end": 0.5,
            "count": 0
           },
           {
            "bin_start": 0.5,
            "bin_end": 0.6000000000000001,
            "count": 0
           },
           {
            "bin_start": 0.6000000000000001,
            "bin_end": 0.7000000000000001,
            "count": 0
           },
           {
            "bin_start": 0.7000000000000001,
            "bin_end": 0.8,
            "count": 0
           },
           {
            "bin_start": 0.8,
            "bin_end": 0.9,
            "count": 0
           },
           {
            "bin_start": 0.9,
            "bin_end": 1,
            "count": 500
           }
          ]
         }
        },
        {
         "name": "name",
         "dtype": "object",
         "stats": {
          "unique_count": 1307,
          "nan_count": 0,
          "categories": [
           {
            "name": "Connolly, Miss. Kate",
            "count": 2
           },
           {
            "name": "Kelly, Mr. James",
            "count": 2
           },
           {
            "name": "1305 others",
            "count": 1305
           }
          ]
         }
        },
        {
         "name": "sex",
         "dtype": "object",
         "stats": {
          "unique_count": 2,
          "nan_count": 0,
          "categories": [
           {
            "name": "male",
            "count": 843
           },
           {
            "name": "female",
            "count": 466
           }
          ]
         }
        },
        {
         "name": "age",
         "dtype": "float64",
         "stats": {
          "unique_count": 98,
          "nan_count": 263,
          "min": "0.1667",
          "max": "80.0",
          "histogram": [
           {
            "bin_start": 0.1667,
            "bin_end": 8.15003,
            "count": 72
           },
           {
            "bin_start": 8.15003,
            "bin_end": 16.13336,
            "count": 62
           },
           {
            "bin_start": 16.13336,
            "bin_end": 24.11669,
            "count": 274
           },
           {
            "bin_start": 24.11669,
            "bin_end": 32.10002,
            "count": 250
           },
           {
            "bin_start": 32.10002,
            "bin_end": 40.083349999999996,
            "count": 161
           },
           {
            "bin_start": 40.083349999999996,
            "bin_end": 48.06668,
            "count": 108
           },
           {
            "bin_start": 48.06668,
            "bin_end": 56.05000999999999,
            "count": 65
           },
           {
            "bin_start": 56.05000999999999,
            "bin_end": 64.03334,
            "count": 41
           },
           {
            "bin_start": 64.03334,
            "bin_end": 72.01667,
            "count": 10
           },
           {
            "bin_start": 72.01667,
            "bin_end": 80,
            "count": 3
           }
          ]
         }
        },
        {
         "name": "sibsp",
         "dtype": "int64",
         "stats": {
          "unique_count": 7,
          "nan_count": 0,
          "min": "0",
          "max": "8",
          "histogram": [
           {
            "bin_start": 0,
            "bin_end": 0.8,
            "count": 891
           },
           {
            "bin_start": 0.8,
            "bin_end": 1.6,
            "count": 319
           },
           {
            "bin_start": 1.6,
            "bin_end": 2.4000000000000004,
            "count": 42
           },
           {
            "bin_start": 2.4000000000000004,
            "bin_end": 3.2,
            "count": 20
           },
           {
            "bin_start": 3.2,
            "bin_end": 4,
            "count": 0
           },
           {
            "bin_start": 4,
            "bin_end": 4.800000000000001,
            "count": 22
           },
           {
            "bin_start": 4.800000000000001,
            "bin_end": 5.6000000000000005,
            "count": 6
           },
           {
            "bin_start": 5.6000000000000005,
            "bin_end": 6.4,
            "count": 0
           },
           {
            "bin_start": 6.4,
            "bin_end": 7.2,
            "count": 0
           },
           {
            "bin_start": 7.2,
            "bin_end": 8,
            "count": 9
           }
          ]
         }
        },
        {
         "name": "parch",
         "dtype": "int64",
         "stats": {
          "unique_count": 8,
          "nan_count": 0,
          "min": "0",
          "max": "9",
          "histogram": [
           {
            "bin_start": 0,
            "bin_end": 0.9,
            "count": 1002
           },
           {
            "bin_start": 0.9,
            "bin_end": 1.8,
            "count": 170
           },
           {
            "bin_start": 1.8,
            "bin_end": 2.7,
            "count": 113
           },
           {
            "bin_start": 2.7,
            "bin_end": 3.6,
            "count": 8
           },
           {
            "bin_start": 3.6,
            "bin_end": 4.5,
            "count": 6
           },
           {
            "bin_start": 4.5,
            "bin_end": 5.4,
            "count": 6
           },
           {
            "bin_start": 5.4,
            "bin_end": 6.3,
            "count": 2
           },
           {
            "bin_start": 6.3,
            "bin_end": 7.2,
            "count": 0
           },
           {
            "bin_start": 7.2,
            "bin_end": 8.1,
            "count": 0
           },
           {
            "bin_start": 8.1,
            "bin_end": 9,
            "count": 2
           }
          ]
         }
        },
        {
         "name": "ticket",
         "dtype": "object",
         "stats": {
          "unique_count": 929,
          "nan_count": 0,
          "categories": [
           {
            "name": "CA. 2343",
            "count": 11
           },
           {
            "name": "1601",
            "count": 8
           },
           {
            "name": "927 others",
            "count": 1290
           }
          ]
         }
        },
        {
         "name": "fare",
         "dtype": "float64",
         "stats": {
          "unique_count": 281,
          "nan_count": 1,
          "min": "0.0",
          "max": "512.3292",
          "histogram": [
           {
            "bin_start": 0,
            "bin_end": 51.23292,
            "count": 1070
           },
           {
            "bin_start": 51.23292,
            "bin_end": 102.46584,
            "count": 154
           },
           {
            "bin_start": 102.46584,
            "bin_end": 153.69876,
            "count": 42
           },
           {
            "bin_start": 153.69876,
            "bin_end": 204.93168,
            "count": 4
           },
           {
            "bin_start": 204.93168,
            "bin_end": 256.1646,
            "count": 21
           },
           {
            "bin_start": 256.1646,
            "bin_end": 307.39752,
            "count": 13
           },
           {
            "bin_start": 307.39752,
            "bin_end": 358.63044,
            "count": 0
           },
           {
            "bin_start": 358.63044,
            "bin_end": 409.86336,
            "count": 0
           },
           {
            "bin_start": 409.86336,
            "bin_end": 461.09628,
            "count": 0
           },
           {
            "bin_start": 461.09628,
            "bin_end": 512.3292,
            "count": 4
           }
          ]
         }
        },
        {
         "name": "cabin",
         "dtype": "object",
         "stats": {
          "unique_count": 186,
          "nan_count": 1014,
          "categories": [
           {
            "name": "C23 C25 C27",
            "count": 6
           },
           {
            "name": "185 others",
            "count": 289
           },
           {
            "name": "Missing",
            "count": 1014
           }
          ]
         }
        },
        {
         "name": "embarked",
         "dtype": "object",
         "stats": {
          "unique_count": 3,
          "nan_count": 2,
          "categories": [
           {
            "name": "S",
            "count": 914
           },
           {
            "name": "2 others",
            "count": 393
           },
           {
            "name": "Missing",
            "count": 2
           }
          ]
         }
        },
        {
         "name": "_deepnote_index_column",
         "dtype": "int64"
        }
       ],
       "rows_top": [
        {
         "pclass": 1,
         "survived": 1,
         "name": "Allen, Miss. Elisabeth Walton",
         "sex": "female",
         "age": 29,
         "sibsp": 0,
         "parch": 0,
         "ticket": "24160",
         "fare": 211.3375,
         "cabin": "B5",
         "embarked": "S",
         "_deepnote_index_column": 0
        },
        {
         "pclass": 1,
         "survived": 1,
         "name": "Allison, Master. Hudson Trevor",
         "sex": "male",
         "age": 0.9167,
         "sibsp": 1,
         "parch": 2,
         "ticket": "113781",
         "fare": 151.55,
         "cabin": "C22 C26",
         "embarked": "S",
         "_deepnote_index_column": 1
        },
        {
         "pclass": 1,
         "survived": 0,
         "name": "Allison, Miss. Helen Loraine",
         "sex": "female",
         "age": 2,
         "sibsp": 1,
         "parch": 2,
         "ticket": "113781",
         "fare": 151.55,
         "cabin": "C22 C26",
         "embarked": "S",
         "_deepnote_index_column": 2
        },
        {
         "pclass": 1,
         "survived": 0,
         "name": "Allison, Mr. Hudson Joshua Creighton",
         "sex": "male",
         "age": 30,
         "sibsp": 1,
         "parch": 2,
         "ticket": "113781",
         "fare": 151.55,
         "cabin": "C22 C26",
         "embarked": "S",
         "_deepnote_index_column": 3
        },
        {
         "pclass": 1,
         "survived": 0,
         "name": "Allison, Mrs. Hudson J C (Bessie Waldo Daniels)",
         "sex": "female",
         "age": 25,
         "sibsp": 1,
         "parch": 2,
         "ticket": "113781",
         "fare": 151.55,
         "cabin": "C22 C26",
         "embarked": "S",
         "_deepnote_index_column": 4
        },
        {
         "pclass": 1,
         "survived": 1,
         "name": "Anderson, Mr. Harry",
         "sex": "male",
         "age": 48,
         "sibsp": 0,
         "parch": 0,
         "ticket": "19952",
         "fare": 26.55,
         "cabin": "E12",
         "embarked": "S",
         "_deepnote_index_column": 5
        },
        {
         "pclass": 1,
         "survived": 1,
         "name": "Andrews, Miss. Kornelia Theodosia",
         "sex": "female",
         "age": 63,
         "sibsp": 1,
         "parch": 0,
         "ticket": "13502",
         "fare": 77.9583,
         "cabin": "D7",
         "embarked": "S",
         "_deepnote_index_column": 6
        },
        {
         "pclass": 1,
         "survived": 0,
         "name": "Andrews, Mr. Thomas Jr",
         "sex": "male",
         "age": 39,
         "sibsp": 0,
         "parch": 0,
         "ticket": "112050",
         "fare": 0,
         "cabin": "A36",
         "embarked": "S",
         "_deepnote_index_column": 7
        },
        {
         "pclass": 1,
         "survived": 1,
         "name": "Appleton, Mrs. Edward Dale (Charlotte Lamson)",
         "sex": "female",
         "age": 53,
         "sibsp": 2,
         "parch": 0,
         "ticket": "11769",
         "fare": 51.4792,
         "cabin": "C101",
         "embarked": "S",
         "_deepnote_index_column": 8
        },
        {
         "pclass": 1,
         "survived": 0,
         "name": "Artagaveytia, Mr. Ramon",
         "sex": "male",
         "age": 71,
         "sibsp": 0,
         "parch": 0,
         "ticket": "PC 17609",
         "fare": 49.5042,
         "cabin": "nan",
         "embarked": "C",
         "_deepnote_index_column": 9
        },
        {
         "pclass": 1,
         "survived": 0,
         "name": "Astor, Col. John Jacob",
         "sex": "male",
         "age": 47,
         "sibsp": 1,
         "parch": 0,
         "ticket": "PC 17757",
         "fare": 227.525,
         "cabin": "C62 C64",
         "embarked": "C",
         "_deepnote_index_column": 10
        },
        {
         "pclass": 1,
         "survived": 1,
         "name": "Astor, Mrs. John Jacob (Madeleine Talmadge Force)",
         "sex": "female",
         "age": 18,
         "sibsp": 1,
         "parch": 0,
         "ticket": "PC 17757",
         "fare": 227.525,
         "cabin": "C62 C64",
         "embarked": "C",
         "_deepnote_index_column": 11
        },
        {
         "pclass": 1,
         "survived": 1,
         "name": "Aubart, Mme. Leontine Pauline",
         "sex": "female",
         "age": 24,
         "sibsp": 0,
         "parch": 0,
         "ticket": "PC 17477",
         "fare": 69.3,
         "cabin": "B35",
         "embarked": "C",
         "_deepnote_index_column": 12
        },
        {
         "pclass": 1,
         "survived": 1,
         "name": "Barber, Miss. Ellen \"Nellie\"",
         "sex": "female",
         "age": 26,
         "sibsp": 0,
         "parch": 0,
         "ticket": "19877",
         "fare": 78.85,
         "cabin": "nan",
         "embarked": "S",
         "_deepnote_index_column": 13
        },
        {
         "pclass": 1,
         "survived": 1,
         "name": "Barkworth, Mr. Algernon Henry Wilson",
         "sex": "male",
         "age": 80,
         "sibsp": 0,
         "parch": 0,
         "ticket": "27042",
         "fare": 30,
         "cabin": "A23",
         "embarked": "S",
         "_deepnote_index_column": 14
        },
        {
         "pclass": 1,
         "survived": 0,
         "name": "Baumann, Mr. John D",
         "sex": "male",
         "age": "nan",
         "sibsp": 0,
         "parch": 0,
         "ticket": "PC 17318",
         "fare": 25.925,
         "cabin": "nan",
         "embarked": "S",
         "_deepnote_index_column": 15
        },
        {
         "pclass": 1,
         "survived": 0,
         "name": "Baxter, Mr. Quigg Edmond",
         "sex": "male",
         "age": 24,
         "sibsp": 0,
         "parch": 1,
         "ticket": "PC 17558",
         "fare": 247.5208,
         "cabin": "B58 B60",
         "embarked": "C",
         "_deepnote_index_column": 16
        },
        {
         "pclass": 1,
         "survived": 1,
         "name": "Baxter, Mrs. James (Helene DeLaudeniere Chaput)",
         "sex": "female",
         "age": 50,
         "sibsp": 0,
         "parch": 1,
         "ticket": "PC 17558",
         "fare": 247.5208,
         "cabin": "B58 B60",
         "embarked": "C",
         "_deepnote_index_column": 17
        },
        {
         "pclass": 1,
         "survived": 1,
         "name": "Bazzani, Miss. Albina",
         "sex": "female",
         "age": 32,
         "sibsp": 0,
         "parch": 0,
         "ticket": "11813",
         "fare": 76.2917,
         "cabin": "D15",
         "embarked": "C",
         "_deepnote_index_column": 18
        },
        {
         "pclass": 1,
         "survived": 0,
         "name": "Beattie, Mr. Thomson",
         "sex": "male",
         "age": 36,
         "sibsp": 0,
         "parch": 0,
         "ticket": "13050",
         "fare": 75.2417,
         "cabin": "C6",
         "embarked": "C",
         "_deepnote_index_column": 19
        },
        {
         "pclass": 1,
         "survived": 1,
         "name": "Beckwith, Mr. Richard Leonard",
         "sex": "male",
         "age": 37,
         "sibsp": 1,
         "parch": 1,
         "ticket": "11751",
         "fare": 52.5542,
         "cabin": "D35",
         "embarked": "S",
         "_deepnote_index_column": 20
        },
        {
         "pclass": 1,
         "survived": 1,
         "name": "Beckwith, Mrs. Richard Leonard (Sallie Monypeny)",
         "sex": "female",
         "age": 47,
         "sibsp": 1,
         "parch": 1,
         "ticket": "11751",
         "fare": 52.5542,
         "cabin": "D35",
         "embarked": "S",
         "_deepnote_index_column": 21
        },
        {
         "pclass": 1,
         "survived": 1,
         "name": "Behr, Mr. Karl Howell",
         "sex": "male",
         "age": 26,
         "sibsp": 0,
         "parch": 0,
         "ticket": "111369",
         "fare": 30,
         "cabin": "C148",
         "embarked": "C",
         "_deepnote_index_column": 22
        },
        {
         "pclass": 1,
         "survived": 1,
         "name": "Bidois, Miss. Rosalie",
         "sex": "female",
         "age": 42,
         "sibsp": 0,
         "parch": 0,
         "ticket": "PC 17757",
         "fare": 227.525,
         "cabin": "nan",
         "embarked": "C",
         "_deepnote_index_column": 23
        },
        {
         "pclass": 1,
         "survived": 1,
         "name": "Bird, Miss. Ellen",
         "sex": "female",
         "age": 29,
         "sibsp": 0,
         "parch": 0,
         "ticket": "PC 17483",
         "fare": 221.7792,
         "cabin": "C97",
         "embarked": "S",
         "_deepnote_index_column": 24
        },
        {
         "pclass": 1,
         "survived": 0,
         "name": "Birnbaum, Mr. Jakob",
         "sex": "male",
         "age": 25,
         "sibsp": 0,
         "parch": 0,
         "ticket": "13905",
         "fare": 26,
         "cabin": "nan",
         "embarked": "C",
         "_deepnote_index_column": 25
        },
        {
         "pclass": 1,
         "survived": 1,
         "name": "Bishop, Mr. Dickinson H",
         "sex": "male",
         "age": 25,
         "sibsp": 1,
         "parch": 0,
         "ticket": "11967",
         "fare": 91.0792,
         "cabin": "B49",
         "embarked": "C",
         "_deepnote_index_column": 26
        },
        {
         "pclass": 1,
         "survived": 1,
         "name": "Bishop, Mrs. Dickinson H (Helen Walton)",
         "sex": "female",
         "age": 19,
         "sibsp": 1,
         "parch": 0,
         "ticket": "11967",
         "fare": 91.0792,
         "cabin": "B49",
         "embarked": "C",
         "_deepnote_index_column": 27
        },
        {
         "pclass": 1,
         "survived": 1,
         "name": "Bissette, Miss. Amelia",
         "sex": "female",
         "age": 35,
         "sibsp": 0,
         "parch": 0,
         "ticket": "PC 17760",
         "fare": 135.6333,
         "cabin": "C99",
         "embarked": "S",
         "_deepnote_index_column": 28
        },
        {
         "pclass": 1,
         "survived": 1,
         "name": "Bjornstrom-Steffansson, Mr. Mauritz Hakan",
         "sex": "male",
         "age": 28,
         "sibsp": 0,
         "parch": 0,
         "ticket": "110564",
         "fare": 26.55,
         "cabin": "C52",
         "embarked": "S",
         "_deepnote_index_column": 29
        },
        {
         "pclass": 1,
         "survived": 0,
         "name": "Blackwell, Mr. Stephen Weart",
         "sex": "male",
         "age": 45,
         "sibsp": 0,
         "parch": 0,
         "ticket": "113784",
         "fare": 35.5,
         "cabin": "T",
         "embarked": "S",
         "_deepnote_index_column": 30
        },
        {
         "pclass": 1,
         "survived": 1,
         "name": "Blank, Mr. Henry",
         "sex": "male",
         "age": 40,
         "sibsp": 0,
         "parch": 0,
         "ticket": "112277",
         "fare": 31,
         "cabin": "A31",
         "embarked": "C",
         "_deepnote_index_column": 31
        },
        {
         "pclass": 1,
         "survived": 1,
         "name": "Bonnell, Miss. Caroline",
         "sex": "female",
         "age": 30,
         "sibsp": 0,
         "parch": 0,
         "ticket": "36928",
         "fare": 164.8667,
         "cabin": "C7",
         "embarked": "S",
         "_deepnote_index_column": 32
        },
        {
         "pclass": 1,
         "survived": 1,
         "name": "Bonnell, Miss. Elizabeth",
         "sex": "female",
         "age": 58,
         "sibsp": 0,
         "parch": 0,
         "ticket": "113783",
         "fare": 26.55,
         "cabin": "C103",
         "embarked": "S",
         "_deepnote_index_column": 33
        },
        {
         "pclass": 1,
         "survived": 0,
         "name": "Borebank, Mr. John James",
         "sex": "male",
         "age": 42,
         "sibsp": 0,
         "parch": 0,
         "ticket": "110489",
         "fare": 26.55,
         "cabin": "D22",
         "embarked": "S",
         "_deepnote_index_column": 34
        },
        {
         "pclass": 1,
         "survived": 1,
         "name": "Bowen, Miss. Grace Scott",
         "sex": "female",
         "age": 45,
         "sibsp": 0,
         "parch": 0,
         "ticket": "PC 17608",
         "fare": 262.375,
         "cabin": "nan",
         "embarked": "C",
         "_deepnote_index_column": 35
        },
        {
         "pclass": 1,
         "survived": 1,
         "name": "Bowerman, Miss. Elsie Edith",
         "sex": "female",
         "age": 22,
         "sibsp": 0,
         "parch": 1,
         "ticket": "113505",
         "fare": 55,
         "cabin": "E33",
         "embarked": "S",
         "_deepnote_index_column": 36
        },
        {
         "pclass": 1,
         "survived": 1,
         "name": "Bradley, Mr. George (\"George Arthur Brayton\")",
         "sex": "male",
         "age": "nan",
         "sibsp": 0,
         "parch": 0,
         "ticket": "111427",
         "fare": 26.55,
         "cabin": "nan",
         "embarked": "S",
         "_deepnote_index_column": 37
        },
        {
         "pclass": 1,
         "survived": 0,
         "name": "Brady, Mr. John Bertram",
         "sex": "male",
         "age": 41,
         "sibsp": 0,
         "parch": 0,
         "ticket": "113054",
         "fare": 30.5,
         "cabin": "A21",
         "embarked": "S",
         "_deepnote_index_column": 38
        },
        {
         "pclass": 1,
         "survived": 0,
         "name": "Brandeis, Mr. Emil",
         "sex": "male",
         "age": 48,
         "sibsp": 0,
         "parch": 0,
         "ticket": "PC 17591",
         "fare": 50.4958,
         "cabin": "B10",
         "embarked": "C",
         "_deepnote_index_column": 39
        },
        {
         "pclass": 1,
         "survived": 0,
         "name": "Brewe, Dr. Arthur Jackson",
         "sex": "male",
         "age": "nan",
         "sibsp": 0,
         "parch": 0,
         "ticket": "112379",
         "fare": 39.6,
         "cabin": "nan",
         "embarked": "C",
         "_deepnote_index_column": 40
        },
        {
         "pclass": 1,
         "survived": 1,
         "name": "Brown, Mrs. James Joseph (Margaret Tobin)",
         "sex": "female",
         "age": 44,
         "sibsp": 0,
         "parch": 0,
         "ticket": "PC 17610",
         "fare": 27.7208,
         "cabin": "B4",
         "embarked": "C",
         "_deepnote_index_column": 41
        },
        {
         "pclass": 1,
         "survived": 1,
         "name": "Brown, Mrs. John Murray (Caroline Lane Lamson)",
         "sex": "female",
         "age": 59,
         "sibsp": 2,
         "parch": 0,
         "ticket": "11769",
         "fare": 51.4792,
         "cabin": "C101",
         "embarked": "S",
         "_deepnote_index_column": 42
        },
        {
         "pclass": 1,
         "survived": 1,
         "name": "Bucknell, Mrs. William Robert (Emma Eliza Ward)",
         "sex": "female",
         "age": 60,
         "sibsp": 0,
         "parch": 0,
         "ticket": "11813",
         "fare": 76.2917,
         "cabin": "D15",
         "embarked": "C",
         "_deepnote_index_column": 43
        },
        {
         "pclass": 1,
         "survived": 1,
         "name": "Burns, Miss. Elizabeth Margaret",
         "sex": "female",
         "age": 41,
         "sibsp": 0,
         "parch": 0,
         "ticket": "16966",
         "fare": 134.5,
         "cabin": "E40",
         "embarked": "C",
         "_deepnote_index_column": 44
        }
       ],
       "rows_bottom": [
        {
         "pclass": 3,
         "survived": 0,
         "name": "van Billiard, Mr. Austin Blyler",
         "sex": "male",
         "age": 40.5,
         "sibsp": 0,
         "parch": 2,
         "ticket": "A/5. 851",
         "fare": 14.5,
         "cabin": "nan",
         "embarked": "S",
         "_deepnote_index_column": 1264
        },
        {
         "pclass": 3,
         "survived": 0,
         "name": "Van Impe, Miss. Catharina",
         "sex": "female",
         "age": 10,
         "sibsp": 0,
         "parch": 2,
         "ticket": "345773",
         "fare": 24.15,
         "cabin": "nan",
         "embarked": "S",
         "_deepnote_index_column": 1265
        },
        {
         "pclass": 3,
         "survived": 0,
         "name": "Van Impe, Mr. Jean Baptiste",
         "sex": "male",
         "age": 36,
         "sibsp": 1,
         "parch": 1,
         "ticket": "345773",
         "fare": 24.15,
         "cabin": "nan",
         "embarked": "S",
         "_deepnote_index_column": 1266
        },
        {
         "pclass": 3,
         "survived": 0,
         "name": "Van Impe, Mrs. Jean Baptiste (Rosalie Paula Govaert)",
         "sex": "female",
         "age": 30,
         "sibsp": 1,
         "parch": 1,
         "ticket": "345773",
         "fare": 24.15,
         "cabin": "nan",
         "embarked": "S",
         "_deepnote_index_column": 1267
        },
        {
         "pclass": 3,
         "survived": 0,
         "name": "van Melkebeke, Mr. Philemon",
         "sex": "male",
         "age": "nan",
         "sibsp": 0,
         "parch": 0,
         "ticket": "345777",
         "fare": 9.5,
         "cabin": "nan",
         "embarked": "S",
         "_deepnote_index_column": 1268
        },
        {
         "pclass": 3,
         "survived": 0,
         "name": "Vande Velde, Mr. Johannes Joseph",
         "sex": "male",
         "age": 33,
         "sibsp": 0,
         "parch": 0,
         "ticket": "345780",
         "fare": 9.5,
         "cabin": "nan",
         "embarked": "S",
         "_deepnote_index_column": 1269
        },
        {
         "pclass": 3,
         "survived": 0,
         "name": "Vande Walle, Mr. Nestor Cyriel",
         "sex": "male",
         "age": 28,
         "sibsp": 0,
         "parch": 0,
         "ticket": "345770",
         "fare": 9.5,
         "cabin": "nan",
         "embarked": "S",
         "_deepnote_index_column": 1270
        },
        {
         "pclass": 3,
         "survived": 0,
         "name": "Vanden Steen, Mr. Leo Peter",
         "sex": "male",
         "age": 28,
         "sibsp": 0,
         "parch": 0,
         "ticket": "345783",
         "fare": 9.5,
         "cabin": "nan",
         "embarked": "S",
         "_deepnote_index_column": 1271
        },
        {
         "pclass": 3,
         "survived": 0,
         "name": "Vander Cruyssen, Mr. Victor",
         "sex": "male",
         "age": 47,
         "sibsp": 0,
         "parch": 0,
         "ticket": "345765",
         "fare": 9,
         "cabin": "nan",
         "embarked": "S",
         "_deepnote_index_column": 1272
        },
        {
         "pclass": 3,
         "survived": 0,
         "name": "Vander Planke, Miss. Augusta Maria",
         "sex": "female",
         "age": 18,
         "sibsp": 2,
         "parch": 0,
         "ticket": "345764",
         "fare": 18,
         "cabin": "nan",
         "embarked": "S",
         "_deepnote_index_column": 1273
        },
        {
         "pclass": 3,
         "survived": 0,
         "name": "Vander Planke, Mr. Julius",
         "sex": "male",
         "age": 31,
         "sibsp": 3,
         "parch": 0,
         "ticket": "345763",
         "fare": 18,
         "cabin": "nan",
         "embarked": "S",
         "_deepnote_index_column": 1274
        },
        {
         "pclass": 3,
         "survived": 0,
         "name": "Vander Planke, Mr. Leo Edmondus",
         "sex": "male",
         "age": 16,
         "sibsp": 2,
         "parch": 0,
         "ticket": "345764",
         "fare": 18,
         "cabin": "nan",
         "embarked": "S",
         "_deepnote_index_column": 1275
        },
        {
         "pclass": 3,
         "survived": 0,
         "name": "Vander Planke, Mrs. Julius (Emelia Maria Vandemoortele)",
         "sex": "female",
         "age": 31,
         "sibsp": 1,
         "parch": 0,
         "ticket": "345763",
         "fare": 18,
         "cabin": "nan",
         "embarked": "S",
         "_deepnote_index_column": 1276
        },
        {
         "pclass": 3,
         "survived": 1,
         "name": "Vartanian, Mr. David",
         "sex": "male",
         "age": 22,
         "sibsp": 0,
         "parch": 0,
         "ticket": "2658",
         "fare": 7.225,
         "cabin": "nan",
         "embarked": "C",
         "_deepnote_index_column": 1277
        },
        {
         "pclass": 3,
         "survived": 0,
         "name": "Vendel, Mr. Olof Edvin",
         "sex": "male",
         "age": 20,
         "sibsp": 0,
         "parch": 0,
         "ticket": "350416",
         "fare": 7.8542,
         "cabin": "nan",
         "embarked": "S",
         "_deepnote_index_column": 1278
        },
        {
         "pclass": 3,
         "survived": 0,
         "name": "Vestrom, Miss. Hulda Amanda Adolfina",
         "sex": "female",
         "age": 14,
         "sibsp": 0,
         "parch": 0,
         "ticket": "350406",
         "fare": 7.8542,
         "cabin": "nan",
         "embarked": "S",
         "_deepnote_index_column": 1279
        },
        {
         "pclass": 3,
         "survived": 0,
         "name": "Vovk, Mr. Janko",
         "sex": "male",
         "age": 22,
         "sibsp": 0,
         "parch": 0,
         "ticket": "349252",
         "fare": 7.8958,
         "cabin": "nan",
         "embarked": "S",
         "_deepnote_index_column": 1280
        },
        {
         "pclass": 3,
         "survived": 0,
         "name": "Waelens, Mr. Achille",
         "sex": "male",
         "age": 22,
         "sibsp": 0,
         "parch": 0,
         "ticket": "345767",
         "fare": 9,
         "cabin": "nan",
         "embarked": "S",
         "_deepnote_index_column": 1281
        },
        {
         "pclass": 3,
         "survived": 0,
         "name": "Ware, Mr. Frederick",
         "sex": "male",
         "age": "nan",
         "sibsp": 0,
         "parch": 0,
         "ticket": "359309",
         "fare": 8.05,
         "cabin": "nan",
         "embarked": "S",
         "_deepnote_index_column": 1282
        },
        {
         "pclass": 3,
         "survived": 0,
         "name": "Warren, Mr. Charles William",
         "sex": "male",
         "age": "nan",
         "sibsp": 0,
         "parch": 0,
         "ticket": "C.A. 49867",
         "fare": 7.55,
         "cabin": "nan",
         "embarked": "S",
         "_deepnote_index_column": 1283
        },
        {
         "pclass": 3,
         "survived": 0,
         "name": "Webber, Mr. James",
         "sex": "male",
         "age": "nan",
         "sibsp": 0,
         "parch": 0,
         "ticket": "SOTON/OQ 3101316",
         "fare": 8.05,
         "cabin": "nan",
         "embarked": "S",
         "_deepnote_index_column": 1284
        },
        {
         "pclass": 3,
         "survived": 0,
         "name": "Wenzel, Mr. Linhart",
         "sex": "male",
         "age": 32.5,
         "sibsp": 0,
         "parch": 0,
         "ticket": "345775",
         "fare": 9.5,
         "cabin": "nan",
         "embarked": "S",
         "_deepnote_index_column": 1285
        },
        {
         "pclass": 3,
         "survived": 1,
         "name": "Whabee, Mrs. George Joseph (Shawneene Abi-Saab)",
         "sex": "female",
         "age": 38,
         "sibsp": 0,
         "parch": 0,
         "ticket": "2688",
         "fare": 7.2292,
         "cabin": "nan",
         "embarked": "C",
         "_deepnote_index_column": 1286
        },
        {
         "pclass": 3,
         "survived": 0,
         "name": "Widegren, Mr. Carl/Charles Peter",
         "sex": "male",
         "age": 51,
         "sibsp": 0,
         "parch": 0,
         "ticket": "347064",
         "fare": 7.75,
         "cabin": "nan",
         "embarked": "S",
         "_deepnote_index_column": 1287
        },
        {
         "pclass": 3,
         "survived": 0,
         "name": "Wiklund, Mr. Jakob Alfred",
         "sex": "male",
         "age": 18,
         "sibsp": 1,
         "parch": 0,
         "ticket": "3101267",
         "fare": 6.4958,
         "cabin": "nan",
         "embarked": "S",
         "_deepnote_index_column": 1288
        },
        {
         "pclass": 3,
         "survived": 0,
         "name": "Wiklund, Mr. Karl Johan",
         "sex": "male",
         "age": 21,
         "sibsp": 1,
         "parch": 0,
         "ticket": "3101266",
         "fare": 6.4958,
         "cabin": "nan",
         "embarked": "S",
         "_deepnote_index_column": 1289
        },
        {
         "pclass": 3,
         "survived": 1,
         "name": "Wilkes, Mrs. James (Ellen Needs)",
         "sex": "female",
         "age": 47,
         "sibsp": 1,
         "parch": 0,
         "ticket": "363272",
         "fare": 7,
         "cabin": "nan",
         "embarked": "S",
         "_deepnote_index_column": 1290
        },
        {
         "pclass": 3,
         "survived": 0,
         "name": "Willer, Mr. Aaron (\"Abi Weller\")",
         "sex": "male",
         "age": "nan",
         "sibsp": 0,
         "parch": 0,
         "ticket": "3410",
         "fare": 8.7125,
         "cabin": "nan",
         "embarked": "S",
         "_deepnote_index_column": 1291
        },
        {
         "pclass": 3,
         "survived": 0,
         "name": "Willey, Mr. Edward",
         "sex": "male",
         "age": "nan",
         "sibsp": 0,
         "parch": 0,
         "ticket": "S.O./P.P. 751",
         "fare": 7.55,
         "cabin": "nan",
         "embarked": "S",
         "_deepnote_index_column": 1292
        },
        {
         "pclass": 3,
         "survived": 0,
         "name": "Williams, Mr. Howard Hugh \"Harry\"",
         "sex": "male",
         "age": "nan",
         "sibsp": 0,
         "parch": 0,
         "ticket": "A/5 2466",
         "fare": 8.05,
         "cabin": "nan",
         "embarked": "S",
         "_deepnote_index_column": 1293
        },
        {
         "pclass": 3,
         "survived": 0,
         "name": "Williams, Mr. Leslie",
         "sex": "male",
         "age": 28.5,
         "sibsp": 0,
         "parch": 0,
         "ticket": "54636",
         "fare": 16.1,
         "cabin": "nan",
         "embarked": "S",
         "_deepnote_index_column": 1294
        },
        {
         "pclass": 3,
         "survived": 0,
         "name": "Windelov, Mr. Einar",
         "sex": "male",
         "age": 21,
         "sibsp": 0,
         "parch": 0,
         "ticket": "SOTON/OQ 3101317",
         "fare": 7.25,
         "cabin": "nan",
         "embarked": "S",
         "_deepnote_index_column": 1295
        },
        {
         "pclass": 3,
         "survived": 0,
         "name": "Wirz, Mr. Albert",
         "sex": "male",
         "age": 27,
         "sibsp": 0,
         "parch": 0,
         "ticket": "315154",
         "fare": 8.6625,
         "cabin": "nan",
         "embarked": "S",
         "_deepnote_index_column": 1296
        },
        {
         "pclass": 3,
         "survived": 0,
         "name": "Wiseman, Mr. Phillippe",
         "sex": "male",
         "age": "nan",
         "sibsp": 0,
         "parch": 0,
         "ticket": "A/4. 34244",
         "fare": 7.25,
         "cabin": "nan",
         "embarked": "S",
         "_deepnote_index_column": 1297
        },
        {
         "pclass": 3,
         "survived": 0,
         "name": "Wittevrongel, Mr. Camille",
         "sex": "male",
         "age": 36,
         "sibsp": 0,
         "parch": 0,
         "ticket": "345771",
         "fare": 9.5,
         "cabin": "nan",
         "embarked": "S",
         "_deepnote_index_column": 1298
        },
        {
         "pclass": 3,
         "survived": 0,
         "name": "Yasbeck, Mr. Antoni",
         "sex": "male",
         "age": 27,
         "sibsp": 1,
         "parch": 0,
         "ticket": "2659",
         "fare": 14.4542,
         "cabin": "nan",
         "embarked": "C",
         "_deepnote_index_column": 1299
        },
        {
         "pclass": 3,
         "survived": 1,
         "name": "Yasbeck, Mrs. Antoni (Selini Alexander)",
         "sex": "female",
         "age": 15,
         "sibsp": 1,
         "parch": 0,
         "ticket": "2659",
         "fare": 14.4542,
         "cabin": "nan",
         "embarked": "C",
         "_deepnote_index_column": 1300
        },
        {
         "pclass": 3,
         "survived": 0,
         "name": "Youseff, Mr. Gerious",
         "sex": "male",
         "age": 45.5,
         "sibsp": 0,
         "parch": 0,
         "ticket": "2628",
         "fare": 7.225,
         "cabin": "nan",
         "embarked": "C",
         "_deepnote_index_column": 1301
        },
        {
         "pclass": 3,
         "survived": 0,
         "name": "Yousif, Mr. Wazli",
         "sex": "male",
         "age": "nan",
         "sibsp": 0,
         "parch": 0,
         "ticket": "2647",
         "fare": 7.225,
         "cabin": "nan",
         "embarked": "C",
         "_deepnote_index_column": 1302
        },
        {
         "pclass": 3,
         "survived": 0,
         "name": "Yousseff, Mr. Gerious",
         "sex": "male",
         "age": "nan",
         "sibsp": 0,
         "parch": 0,
         "ticket": "2627",
         "fare": 14.4583,
         "cabin": "nan",
         "embarked": "C",
         "_deepnote_index_column": 1303
        },
        {
         "pclass": 3,
         "survived": 0,
         "name": "Zabour, Miss. Hileni",
         "sex": "female",
         "age": 14.5,
         "sibsp": 1,
         "parch": 0,
         "ticket": "2665",
         "fare": 14.4542,
         "cabin": "nan",
         "embarked": "C",
         "_deepnote_index_column": 1304
        },
        {
         "pclass": 3,
         "survived": 0,
         "name": "Zabour, Miss. Thamine",
         "sex": "female",
         "age": "nan",
         "sibsp": 1,
         "parch": 0,
         "ticket": "2665",
         "fare": 14.4542,
         "cabin": "nan",
         "embarked": "C",
         "_deepnote_index_column": 1305
        },
        {
         "pclass": 3,
         "survived": 0,
         "name": "Zakarian, Mr. Mapriededer",
         "sex": "male",
         "age": 26.5,
         "sibsp": 0,
         "parch": 0,
         "ticket": "2656",
         "fare": 7.225,
         "cabin": "nan",
         "embarked": "C",
         "_deepnote_index_column": 1306
        },
        {
         "pclass": 3,
         "survived": 0,
         "name": "Zakarian, Mr. Ortin",
         "sex": "male",
         "age": 27,
         "sibsp": 0,
         "parch": 0,
         "ticket": "2670",
         "fare": 7.225,
         "cabin": "nan",
         "embarked": "C",
         "_deepnote_index_column": 1307
        },
        {
         "pclass": 3,
         "survived": 0,
         "name": "Zimmerman, Mr. Leo",
         "sex": "male",
         "age": 29,
         "sibsp": 0,
         "parch": 0,
         "ticket": "315082",
         "fare": 7.875,
         "cabin": "nan",
         "embarked": "S",
         "_deepnote_index_column": 1308
        }
       ]
      },
      "text/plain": "      pclass  survived                                             name  \\\n0          1         1                    Allen, Miss. Elisabeth Walton   \n1          1         1                   Allison, Master. Hudson Trevor   \n2          1         0                     Allison, Miss. Helen Loraine   \n3          1         0             Allison, Mr. Hudson Joshua Creighton   \n4          1         0  Allison, Mrs. Hudson J C (Bessie Waldo Daniels)   \n...      ...       ...                                              ...   \n1304       3         0                             Zabour, Miss. Hileni   \n1305       3         0                            Zabour, Miss. Thamine   \n1306       3         0                        Zakarian, Mr. Mapriededer   \n1307       3         0                              Zakarian, Mr. Ortin   \n1308       3         0                               Zimmerman, Mr. Leo   \n\n         sex      age  sibsp  parch  ticket      fare    cabin embarked  \n0     female  29.0000      0      0   24160  211.3375       B5        S  \n1       male   0.9167      1      2  113781  151.5500  C22 C26        S  \n2     female   2.0000      1      2  113781  151.5500  C22 C26        S  \n3       male  30.0000      1      2  113781  151.5500  C22 C26        S  \n4     female  25.0000      1      2  113781  151.5500  C22 C26        S  \n...      ...      ...    ...    ...     ...       ...      ...      ...  \n1304  female  14.5000      1      0    2665   14.4542      NaN        C  \n1305  female      NaN      1      0    2665   14.4542      NaN        C  \n1306    male  26.5000      0      0    2656    7.2250      NaN        C  \n1307    male  27.0000      0      0    2670    7.2250      NaN        C  \n1308    male  29.0000      0      0  315082    7.8750      NaN        S  \n\n[1309 rows x 11 columns]",
      "text/html": "<div>\n<style scoped>\n    .dataframe tbody tr th:only-of-type {\n        vertical-align: middle;\n    }\n\n    .dataframe tbody tr th {\n        vertical-align: top;\n    }\n\n    .dataframe thead th {\n        text-align: right;\n    }\n</style>\n<table border=\"1\" class=\"dataframe\">\n  <thead>\n    <tr style=\"text-align: right;\">\n      <th></th>\n      <th>pclass</th>\n      <th>survived</th>\n      <th>name</th>\n      <th>sex</th>\n      <th>age</th>\n      <th>sibsp</th>\n      <th>parch</th>\n      <th>ticket</th>\n      <th>fare</th>\n      <th>cabin</th>\n      <th>embarked</th>\n    </tr>\n  </thead>\n  <tbody>\n    <tr>\n      <th>0</th>\n      <td>1</td>\n      <td>1</td>\n      <td>Allen, Miss. Elisabeth Walton</td>\n      <td>female</td>\n      <td>29.0000</td>\n      <td>0</td>\n      <td>0</td>\n      <td>24160</td>\n      <td>211.3375</td>\n      <td>B5</td>\n      <td>S</td>\n    </tr>\n    <tr>\n      <th>1</th>\n      <td>1</td>\n      <td>1</td>\n      <td>Allison, Master. Hudson Trevor</td>\n      <td>male</td>\n      <td>0.9167</td>\n      <td>1</td>\n      <td>2</td>\n      <td>113781</td>\n      <td>151.5500</td>\n      <td>C22 C26</td>\n      <td>S</td>\n    </tr>\n    <tr>\n      <th>2</th>\n      <td>1</td>\n      <td>0</td>\n      <td>Allison, Miss. Helen Loraine</td>\n      <td>female</td>\n      <td>2.0000</td>\n      <td>1</td>\n      <td>2</td>\n      <td>113781</td>\n      <td>151.5500</td>\n      <td>C22 C26</td>\n      <td>S</td>\n    </tr>\n    <tr>\n      <th>3</th>\n      <td>1</td>\n      <td>0</td>\n      <td>Allison, Mr. Hudson Joshua Creighton</td>\n      <td>male</td>\n      <td>30.0000</td>\n      <td>1</td>\n      <td>2</td>\n      <td>113781</td>\n      <td>151.5500</td>\n      <td>C22 C26</td>\n      <td>S</td>\n    </tr>\n    <tr>\n      <th>4</th>\n      <td>1</td>\n      <td>0</td>\n      <td>Allison, Mrs. Hudson J C (Bessie Waldo Daniels)</td>\n      <td>female</td>\n      <td>25.0000</td>\n      <td>1</td>\n      <td>2</td>\n      <td>113781</td>\n      <td>151.5500</td>\n      <td>C22 C26</td>\n      <td>S</td>\n    </tr>\n    <tr>\n      <th>...</th>\n      <td>...</td>\n      <td>...</td>\n      <td>...</td>\n      <td>...</td>\n      <td>...</td>\n      <td>...</td>\n      <td>...</td>\n      <td>...</td>\n      <td>...</td>\n      <td>...</td>\n      <td>...</td>\n    </tr>\n    <tr>\n      <th>1304</th>\n      <td>3</td>\n      <td>0</td>\n      <td>Zabour, Miss. Hileni</td>\n      <td>female</td>\n      <td>14.5000</td>\n      <td>1</td>\n      <td>0</td>\n      <td>2665</td>\n      <td>14.4542</td>\n      <td>NaN</td>\n      <td>C</td>\n    </tr>\n    <tr>\n      <th>1305</th>\n      <td>3</td>\n      <td>0</td>\n      <td>Zabour, Miss. Thamine</td>\n      <td>female</td>\n      <td>NaN</td>\n      <td>1</td>\n      <td>0</td>\n      <td>2665</td>\n      <td>14.4542</td>\n      <td>NaN</td>\n      <td>C</td>\n    </tr>\n    <tr>\n      <th>1306</th>\n      <td>3</td>\n      <td>0</td>\n      <td>Zakarian, Mr. Mapriededer</td>\n      <td>male</td>\n      <td>26.5000</td>\n      <td>0</td>\n      <td>0</td>\n      <td>2656</td>\n      <td>7.2250</td>\n      <td>NaN</td>\n      <td>C</td>\n    </tr>\n    <tr>\n      <th>1307</th>\n      <td>3</td>\n      <td>0</td>\n      <td>Zakarian, Mr. Ortin</td>\n      <td>male</td>\n      <td>27.0000</td>\n      <td>0</td>\n      <td>0</td>\n      <td>2670</td>\n      <td>7.2250</td>\n      <td>NaN</td>\n      <td>C</td>\n    </tr>\n    <tr>\n      <th>1308</th>\n      <td>3</td>\n      <td>0</td>\n      <td>Zimmerman, Mr. Leo</td>\n      <td>male</td>\n      <td>29.0000</td>\n      <td>0</td>\n      <td>0</td>\n      <td>315082</td>\n      <td>7.8750</td>\n      <td>NaN</td>\n      <td>S</td>\n    </tr>\n  </tbody>\n</table>\n<p>1309 rows × 11 columns</p>\n</div>"
     },
     "metadata": {}
    }
   ],
   "execution_count": null
  },
  {
   "cell_type": "code",
   "source": "data.info()",
   "metadata": {
    "tags": [],
    "cell_id": "00003-9e3f5acb-6fc3-4e9a-a1e4-54b0f1a70f67",
    "deepnote_to_be_reexecuted": false,
    "source_hash": "957547ae",
    "execution_start": 1632733785266,
    "execution_millis": 5,
    "deepnote_cell_type": "code"
   },
   "outputs": [
    {
     "name": "stdout",
     "text": "<class 'pandas.core.frame.DataFrame'>\nRangeIndex: 1309 entries, 0 to 1308\nData columns (total 11 columns):\n #   Column    Non-Null Count  Dtype  \n---  ------    --------------  -----  \n 0   pclass    1309 non-null   int64  \n 1   survived  1309 non-null   int64  \n 2   name      1309 non-null   object \n 3   sex       1309 non-null   object \n 4   age       1046 non-null   float64\n 5   sibsp     1309 non-null   int64  \n 6   parch     1309 non-null   int64  \n 7   ticket    1309 non-null   object \n 8   fare      1308 non-null   float64\n 9   cabin     295 non-null    object \n 10  embarked  1307 non-null   object \ndtypes: float64(2), int64(4), object(5)\nmemory usage: 112.6+ KB\n",
     "output_type": "stream"
    }
   ],
   "execution_count": null
  },
  {
   "cell_type": "code",
   "source": "# dropping missing in embarked option\n\ndata = data.dropna(axis=0, how=\"any\", thresh=None, subset=['embarked'], inplace=False)\n",
   "metadata": {
    "tags": [],
    "cell_id": "00005-07605c4b-f7dc-4ce7-9e3e-6dd28be3117a",
    "deepnote_to_be_reexecuted": false,
    "source_hash": "99f210e9",
    "execution_start": 1632733786939,
    "execution_millis": 14,
    "deepnote_cell_type": "code"
   },
   "outputs": [],
   "execution_count": null
  },
  {
   "cell_type": "code",
   "source": "from sklearn.preprocessing import LabelEncoder\n\nle = LabelEncoder()\ndata['sex'] = le.fit_transform(data['sex'])\ndata",
   "metadata": {
    "tags": [],
    "cell_id": "00004-4b7049cf-2893-42ad-8e2a-1cd6b9161eb9",
    "deepnote_to_be_reexecuted": false,
    "source_hash": "a55107de",
    "execution_start": 1632733788701,
    "execution_millis": 105,
    "deepnote_cell_type": "code"
   },
   "outputs": [
    {
     "name": "stderr",
     "text": "/shared-libs/python3.7/py-core/lib/python3.7/site-packages/ipykernel_launcher.py:4: SettingWithCopyWarning: \nA value is trying to be set on a copy of a slice from a DataFrame.\nTry using .loc[row_indexer,col_indexer] = value instead\n\nSee the caveats in the documentation: https://pandas.pydata.org/pandas-docs/stable/user_guide/indexing.html#returning-a-view-versus-a-copy\n  after removing the cwd from sys.path.\n",
     "output_type": "stream"
    },
    {
     "output_type": "execute_result",
     "execution_count": 48,
     "data": {
      "application/vnd.deepnote.dataframe.v2+json": {
       "row_count": 1307,
       "column_count": 11,
       "columns": [
        {
         "name": "pclass",
         "dtype": "int64",
         "stats": {
          "unique_count": 3,
          "nan_count": 0,
          "min": "1",
          "max": "3",
          "histogram": [
           {
            "bin_start": 1,
            "bin_end": 1.2,
            "count": 321
           },
           {
            "bin_start": 1.2,
            "bin_end": 1.4,
            "count": 0
           },
           {
            "bin_start": 1.4,
            "bin_end": 1.6,
            "count": 0
           },
           {
            "bin_start": 1.6,
            "bin_end": 1.8,
            "count": 0
           },
           {
            "bin_start": 1.8,
            "bin_end": 2,
            "count": 0
           },
           {
            "bin_start": 2,
            "bin_end": 2.2,
            "count": 277
           },
           {
            "bin_start": 2.2,
            "bin_end": 2.4000000000000004,
            "count": 0
           },
           {
            "bin_start": 2.4000000000000004,
            "bin_end": 2.6,
            "count": 0
           },
           {
            "bin_start": 2.6,
            "bin_end": 2.8,
            "count": 0
           },
           {
            "bin_start": 2.8,
            "bin_end": 3,
            "count": 709
           }
          ]
         }
        },
        {
         "name": "survived",
         "dtype": "int64",
         "stats": {
          "unique_count": 2,
          "nan_count": 0,
          "min": "0",
          "max": "1",
          "histogram": [
           {
            "bin_start": 0,
            "bin_end": 0.1,
            "count": 809
           },
           {
            "bin_start": 0.1,
            "bin_end": 0.2,
            "count": 0
           },
           {
            "bin_start": 0.2,
            "bin_end": 0.30000000000000004,
            "count": 0
           },
           {
            "bin_start": 0.30000000000000004,
            "bin_end": 0.4,
            "count": 0
           },
           {
            "bin_start": 0.4,
            "bin_end": 0.5,
            "count": 0
           },
           {
            "bin_start": 0.5,
            "bin_end": 0.6000000000000001,
            "count": 0
           },
           {
            "bin_start": 0.6000000000000001,
            "bin_end": 0.7000000000000001,
            "count": 0
           },
           {
            "bin_start": 0.7000000000000001,
            "bin_end": 0.8,
            "count": 0
           },
           {
            "bin_start": 0.8,
            "bin_end": 0.9,
            "count": 0
           },
           {
            "bin_start": 0.9,
            "bin_end": 1,
            "count": 498
           }
          ]
         }
        },
        {
         "name": "name",
         "dtype": "object",
         "stats": {
          "unique_count": 1305,
          "nan_count": 0,
          "categories": [
           {
            "name": "Connolly, Miss. Kate",
            "count": 2
           },
           {
            "name": "Kelly, Mr. James",
            "count": 2
           },
           {
            "name": "1303 others",
            "count": 1303
           }
          ]
         }
        },
        {
         "name": "sex",
         "dtype": "int64",
         "stats": {
          "unique_count": 2,
          "nan_count": 0,
          "min": "0",
          "max": "1",
          "histogram": [
           {
            "bin_start": 0,
            "bin_end": 0.1,
            "count": 464
           },
           {
            "bin_start": 0.1,
            "bin_end": 0.2,
            "count": 0
           },
           {
            "bin_start": 0.2,
            "bin_end": 0.30000000000000004,
            "count": 0
           },
           {
            "bin_start": 0.30000000000000004,
            "bin_end": 0.4,
            "count": 0
           },
           {
            "bin_start": 0.4,
            "bin_end": 0.5,
            "count": 0
           },
           {
            "bin_start": 0.5,
            "bin_end": 0.6000000000000001,
            "count": 0
           },
           {
            "bin_start": 0.6000000000000001,
            "bin_end": 0.7000000000000001,
            "count": 0
           },
           {
            "bin_start": 0.7000000000000001,
            "bin_end": 0.8,
            "count": 0
           },
           {
            "bin_start": 0.8,
            "bin_end": 0.9,
            "count": 0
           },
           {
            "bin_start": 0.9,
            "bin_end": 1,
            "count": 843
           }
          ]
         }
        },
        {
         "name": "age",
         "dtype": "float64",
         "stats": {
          "unique_count": 98,
          "nan_count": 263,
          "min": "0.1667",
          "max": "80.0",
          "histogram": [
           {
            "bin_start": 0.1667,
            "bin_end": 8.15003,
            "count": 72
           },
           {
            "bin_start": 8.15003,
            "bin_end": 16.13336,
            "count": 62
           },
           {
            "bin_start": 16.13336,
            "bin_end": 24.11669,
            "count": 274
           },
           {
            "bin_start": 24.11669,
            "bin_end": 32.10002,
            "count": 250
           },
           {
            "bin_start": 32.10002,
            "bin_end": 40.083349999999996,
            "count": 160
           },
           {
            "bin_start": 40.083349999999996,
            "bin_end": 48.06668,
            "count": 108
           },
           {
            "bin_start": 48.06668,
            "bin_end": 56.05000999999999,
            "count": 65
           },
           {
            "bin_start": 56.05000999999999,
            "bin_end": 64.03334,
            "count": 40
           },
           {
            "bin_start": 64.03334,
            "bin_end": 72.01667,
            "count": 10
           },
           {
            "bin_start": 72.01667,
            "bin_end": 80,
            "count": 3
           }
          ]
         }
        },
        {
         "name": "sibsp",
         "dtype": "int64",
         "stats": {
          "unique_count": 7,
          "nan_count": 0,
          "min": "0",
          "max": "8",
          "histogram": [
           {
            "bin_start": 0,
            "bin_end": 0.8,
            "count": 889
           },
           {
            "bin_start": 0.8,
            "bin_end": 1.6,
            "count": 319
           },
           {
            "bin_start": 1.6,
            "bin_end": 2.4000000000000004,
            "count": 42
           },
           {
            "bin_start": 2.4000000000000004,
            "bin_end": 3.2,
            "count": 20
           },
           {
            "bin_start": 3.2,
            "bin_end": 4,
            "count": 0
           },
           {
            "bin_start": 4,
            "bin_end": 4.800000000000001,
            "count": 22
           },
           {
            "bin_start": 4.800000000000001,
            "bin_end": 5.6000000000000005,
            "count": 6
           },
           {
            "bin_start": 5.6000000000000005,
            "bin_end": 6.4,
            "count": 0
           },
           {
            "bin_start": 6.4,
            "bin_end": 7.2,
            "count": 0
           },
           {
            "bin_start": 7.2,
            "bin_end": 8,
            "count": 9
           }
          ]
         }
        },
        {
         "name": "parch",
         "dtype": "int64",
         "stats": {
          "unique_count": 8,
          "nan_count": 0,
          "min": "0",
          "max": "9",
          "histogram": [
           {
            "bin_start": 0,
            "bin_end": 0.9,
            "count": 1000
           },
           {
            "bin_start": 0.9,
            "bin_end": 1.8,
            "count": 170
           },
           {
            "bin_start": 1.8,
            "bin_end": 2.7,
            "count": 113
           },
           {
            "bin_start": 2.7,
            "bin_end": 3.6,
            "count": 8
           },
           {
            "bin_start": 3.6,
            "bin_end": 4.5,
            "count": 6
           },
           {
            "bin_start": 4.5,
            "bin_end": 5.4,
            "count": 6
           },
           {
            "bin_start": 5.4,
            "bin_end": 6.3,
            "count": 2
           },
           {
            "bin_start": 6.3,
            "bin_end": 7.2,
            "count": 0
           },
           {
            "bin_start": 7.2,
            "bin_end": 8.1,
            "count": 0
           },
           {
            "bin_start": 8.1,
            "bin_end": 9,
            "count": 2
           }
          ]
         }
        },
        {
         "name": "ticket",
         "dtype": "object",
         "stats": {
          "unique_count": 928,
          "nan_count": 0,
          "categories": [
           {
            "name": "CA. 2343",
            "count": 11
           },
           {
            "name": "1601",
            "count": 8
           },
           {
            "name": "926 others",
            "count": 1288
           }
          ]
         }
        },
        {
         "name": "fare",
         "dtype": "float64",
         "stats": {
          "unique_count": 280,
          "nan_count": 1,
          "min": "0.0",
          "max": "512.3292",
          "histogram": [
           {
            "bin_start": 0,
            "bin_end": 51.23292,
            "count": 1070
           },
           {
            "bin_start": 51.23292,
            "bin_end": 102.46584,
            "count": 152
           },
           {
            "bin_start": 102.46584,
            "bin_end": 153.69876,
            "count": 42
           },
           {
            "bin_start": 153.69876,
            "bin_end": 204.93168,
            "count": 4
           },
           {
            "bin_start": 204.93168,
            "bin_end": 256.1646,
            "count": 21
           },
           {
            "bin_start": 256.1646,
            "bin_end": 307.39752,
            "count": 13
           },
           {
            "bin_start": 307.39752,
            "bin_end": 358.63044,
            "count": 0
           },
           {
            "bin_start": 358.63044,
            "bin_end": 409.86336,
            "count": 0
           },
           {
            "bin_start": 409.86336,
            "bin_end": 461.09628,
            "count": 0
           },
           {
            "bin_start": 461.09628,
            "bin_end": 512.3292,
            "count": 4
           }
          ]
         }
        },
        {
         "name": "cabin",
         "dtype": "object",
         "stats": {
          "unique_count": 185,
          "nan_count": 1014,
          "categories": [
           {
            "name": "C23 C25 C27",
            "count": 6
           },
           {
            "name": "184 others",
            "count": 287
           },
           {
            "name": "Missing",
            "count": 1014
           }
          ]
         }
        },
        {
         "name": "embarked",
         "dtype": "object",
         "stats": {
          "unique_count": 3,
          "nan_count": 0,
          "categories": [
           {
            "name": "S",
            "count": 914
           },
           {
            "name": "C",
            "count": 270
           },
           {
            "name": "Q",
            "count": 123
           }
          ]
         }
        },
        {
         "name": "_deepnote_index_column",
         "dtype": "int64"
        }
       ],
       "rows_top": [
        {
         "pclass": 1,
         "survived": 1,
         "name": "Allen, Miss. Elisabeth Walton",
         "sex": 0,
         "age": 29,
         "sibsp": 0,
         "parch": 0,
         "ticket": "24160",
         "fare": 211.3375,
         "cabin": "B5",
         "embarked": "S",
         "_deepnote_index_column": 0
        },
        {
         "pclass": 1,
         "survived": 1,
         "name": "Allison, Master. Hudson Trevor",
         "sex": 1,
         "age": 0.9167,
         "sibsp": 1,
         "parch": 2,
         "ticket": "113781",
         "fare": 151.55,
         "cabin": "C22 C26",
         "embarked": "S",
         "_deepnote_index_column": 1
        },
        {
         "pclass": 1,
         "survived": 0,
         "name": "Allison, Miss. Helen Loraine",
         "sex": 0,
         "age": 2,
         "sibsp": 1,
         "parch": 2,
         "ticket": "113781",
         "fare": 151.55,
         "cabin": "C22 C26",
         "embarked": "S",
         "_deepnote_index_column": 2
        },
        {
         "pclass": 1,
         "survived": 0,
         "name": "Allison, Mr. Hudson Joshua Creighton",
         "sex": 1,
         "age": 30,
         "sibsp": 1,
         "parch": 2,
         "ticket": "113781",
         "fare": 151.55,
         "cabin": "C22 C26",
         "embarked": "S",
         "_deepnote_index_column": 3
        },
        {
         "pclass": 1,
         "survived": 0,
         "name": "Allison, Mrs. Hudson J C (Bessie Waldo Daniels)",
         "sex": 0,
         "age": 25,
         "sibsp": 1,
         "parch": 2,
         "ticket": "113781",
         "fare": 151.55,
         "cabin": "C22 C26",
         "embarked": "S",
         "_deepnote_index_column": 4
        },
        {
         "pclass": 1,
         "survived": 1,
         "name": "Anderson, Mr. Harry",
         "sex": 1,
         "age": 48,
         "sibsp": 0,
         "parch": 0,
         "ticket": "19952",
         "fare": 26.55,
         "cabin": "E12",
         "embarked": "S",
         "_deepnote_index_column": 5
        },
        {
         "pclass": 1,
         "survived": 1,
         "name": "Andrews, Miss. Kornelia Theodosia",
         "sex": 0,
         "age": 63,
         "sibsp": 1,
         "parch": 0,
         "ticket": "13502",
         "fare": 77.9583,
         "cabin": "D7",
         "embarked": "S",
         "_deepnote_index_column": 6
        },
        {
         "pclass": 1,
         "survived": 0,
         "name": "Andrews, Mr. Thomas Jr",
         "sex": 1,
         "age": 39,
         "sibsp": 0,
         "parch": 0,
         "ticket": "112050",
         "fare": 0,
         "cabin": "A36",
         "embarked": "S",
         "_deepnote_index_column": 7
        },
        {
         "pclass": 1,
         "survived": 1,
         "name": "Appleton, Mrs. Edward Dale (Charlotte Lamson)",
         "sex": 0,
         "age": 53,
         "sibsp": 2,
         "parch": 0,
         "ticket": "11769",
         "fare": 51.4792,
         "cabin": "C101",
         "embarked": "S",
         "_deepnote_index_column": 8
        },
        {
         "pclass": 1,
         "survived": 0,
         "name": "Artagaveytia, Mr. Ramon",
         "sex": 1,
         "age": 71,
         "sibsp": 0,
         "parch": 0,
         "ticket": "PC 17609",
         "fare": 49.5042,
         "cabin": "nan",
         "embarked": "C",
         "_deepnote_index_column": 9
        },
        {
         "pclass": 1,
         "survived": 0,
         "name": "Astor, Col. John Jacob",
         "sex": 1,
         "age": 47,
         "sibsp": 1,
         "parch": 0,
         "ticket": "PC 17757",
         "fare": 227.525,
         "cabin": "C62 C64",
         "embarked": "C",
         "_deepnote_index_column": 10
        },
        {
         "pclass": 1,
         "survived": 1,
         "name": "Astor, Mrs. John Jacob (Madeleine Talmadge Force)",
         "sex": 0,
         "age": 18,
         "sibsp": 1,
         "parch": 0,
         "ticket": "PC 17757",
         "fare": 227.525,
         "cabin": "C62 C64",
         "embarked": "C",
         "_deepnote_index_column": 11
        },
        {
         "pclass": 1,
         "survived": 1,
         "name": "Aubart, Mme. Leontine Pauline",
         "sex": 0,
         "age": 24,
         "sibsp": 0,
         "parch": 0,
         "ticket": "PC 17477",
         "fare": 69.3,
         "cabin": "B35",
         "embarked": "C",
         "_deepnote_index_column": 12
        },
        {
         "pclass": 1,
         "survived": 1,
         "name": "Barber, Miss. Ellen \"Nellie\"",
         "sex": 0,
         "age": 26,
         "sibsp": 0,
         "parch": 0,
         "ticket": "19877",
         "fare": 78.85,
         "cabin": "nan",
         "embarked": "S",
         "_deepnote_index_column": 13
        },
        {
         "pclass": 1,
         "survived": 1,
         "name": "Barkworth, Mr. Algernon Henry Wilson",
         "sex": 1,
         "age": 80,
         "sibsp": 0,
         "parch": 0,
         "ticket": "27042",
         "fare": 30,
         "cabin": "A23",
         "embarked": "S",
         "_deepnote_index_column": 14
        },
        {
         "pclass": 1,
         "survived": 0,
         "name": "Baumann, Mr. John D",
         "sex": 1,
         "age": "nan",
         "sibsp": 0,
         "parch": 0,
         "ticket": "PC 17318",
         "fare": 25.925,
         "cabin": "nan",
         "embarked": "S",
         "_deepnote_index_column": 15
        },
        {
         "pclass": 1,
         "survived": 0,
         "name": "Baxter, Mr. Quigg Edmond",
         "sex": 1,
         "age": 24,
         "sibsp": 0,
         "parch": 1,
         "ticket": "PC 17558",
         "fare": 247.5208,
         "cabin": "B58 B60",
         "embarked": "C",
         "_deepnote_index_column": 16
        },
        {
         "pclass": 1,
         "survived": 1,
         "name": "Baxter, Mrs. James (Helene DeLaudeniere Chaput)",
         "sex": 0,
         "age": 50,
         "sibsp": 0,
         "parch": 1,
         "ticket": "PC 17558",
         "fare": 247.5208,
         "cabin": "B58 B60",
         "embarked": "C",
         "_deepnote_index_column": 17
        },
        {
         "pclass": 1,
         "survived": 1,
         "name": "Bazzani, Miss. Albina",
         "sex": 0,
         "age": 32,
         "sibsp": 0,
         "parch": 0,
         "ticket": "11813",
         "fare": 76.2917,
         "cabin": "D15",
         "embarked": "C",
         "_deepnote_index_column": 18
        },
        {
         "pclass": 1,
         "survived": 0,
         "name": "Beattie, Mr. Thomson",
         "sex": 1,
         "age": 36,
         "sibsp": 0,
         "parch": 0,
         "ticket": "13050",
         "fare": 75.2417,
         "cabin": "C6",
         "embarked": "C",
         "_deepnote_index_column": 19
        },
        {
         "pclass": 1,
         "survived": 1,
         "name": "Beckwith, Mr. Richard Leonard",
         "sex": 1,
         "age": 37,
         "sibsp": 1,
         "parch": 1,
         "ticket": "11751",
         "fare": 52.5542,
         "cabin": "D35",
         "embarked": "S",
         "_deepnote_index_column": 20
        },
        {
         "pclass": 1,
         "survived": 1,
         "name": "Beckwith, Mrs. Richard Leonard (Sallie Monypeny)",
         "sex": 0,
         "age": 47,
         "sibsp": 1,
         "parch": 1,
         "ticket": "11751",
         "fare": 52.5542,
         "cabin": "D35",
         "embarked": "S",
         "_deepnote_index_column": 21
        },
        {
         "pclass": 1,
         "survived": 1,
         "name": "Behr, Mr. Karl Howell",
         "sex": 1,
         "age": 26,
         "sibsp": 0,
         "parch": 0,
         "ticket": "111369",
         "fare": 30,
         "cabin": "C148",
         "embarked": "C",
         "_deepnote_index_column": 22
        },
        {
         "pclass": 1,
         "survived": 1,
         "name": "Bidois, Miss. Rosalie",
         "sex": 0,
         "age": 42,
         "sibsp": 0,
         "parch": 0,
         "ticket": "PC 17757",
         "fare": 227.525,
         "cabin": "nan",
         "embarked": "C",
         "_deepnote_index_column": 23
        },
        {
         "pclass": 1,
         "survived": 1,
         "name": "Bird, Miss. Ellen",
         "sex": 0,
         "age": 29,
         "sibsp": 0,
         "parch": 0,
         "ticket": "PC 17483",
         "fare": 221.7792,
         "cabin": "C97",
         "embarked": "S",
         "_deepnote_index_column": 24
        },
        {
         "pclass": 1,
         "survived": 0,
         "name": "Birnbaum, Mr. Jakob",
         "sex": 1,
         "age": 25,
         "sibsp": 0,
         "parch": 0,
         "ticket": "13905",
         "fare": 26,
         "cabin": "nan",
         "embarked": "C",
         "_deepnote_index_column": 25
        },
        {
         "pclass": 1,
         "survived": 1,
         "name": "Bishop, Mr. Dickinson H",
         "sex": 1,
         "age": 25,
         "sibsp": 1,
         "parch": 0,
         "ticket": "11967",
         "fare": 91.0792,
         "cabin": "B49",
         "embarked": "C",
         "_deepnote_index_column": 26
        },
        {
         "pclass": 1,
         "survived": 1,
         "name": "Bishop, Mrs. Dickinson H (Helen Walton)",
         "sex": 0,
         "age": 19,
         "sibsp": 1,
         "parch": 0,
         "ticket": "11967",
         "fare": 91.0792,
         "cabin": "B49",
         "embarked": "C",
         "_deepnote_index_column": 27
        },
        {
         "pclass": 1,
         "survived": 1,
         "name": "Bissette, Miss. Amelia",
         "sex": 0,
         "age": 35,
         "sibsp": 0,
         "parch": 0,
         "ticket": "PC 17760",
         "fare": 135.6333,
         "cabin": "C99",
         "embarked": "S",
         "_deepnote_index_column": 28
        },
        {
         "pclass": 1,
         "survived": 1,
         "name": "Bjornstrom-Steffansson, Mr. Mauritz Hakan",
         "sex": 1,
         "age": 28,
         "sibsp": 0,
         "parch": 0,
         "ticket": "110564",
         "fare": 26.55,
         "cabin": "C52",
         "embarked": "S",
         "_deepnote_index_column": 29
        },
        {
         "pclass": 1,
         "survived": 0,
         "name": "Blackwell, Mr. Stephen Weart",
         "sex": 1,
         "age": 45,
         "sibsp": 0,
         "parch": 0,
         "ticket": "113784",
         "fare": 35.5,
         "cabin": "T",
         "embarked": "S",
         "_deepnote_index_column": 30
        },
        {
         "pclass": 1,
         "survived": 1,
         "name": "Blank, Mr. Henry",
         "sex": 1,
         "age": 40,
         "sibsp": 0,
         "parch": 0,
         "ticket": "112277",
         "fare": 31,
         "cabin": "A31",
         "embarked": "C",
         "_deepnote_index_column": 31
        },
        {
         "pclass": 1,
         "survived": 1,
         "name": "Bonnell, Miss. Caroline",
         "sex": 0,
         "age": 30,
         "sibsp": 0,
         "parch": 0,
         "ticket": "36928",
         "fare": 164.8667,
         "cabin": "C7",
         "embarked": "S",
         "_deepnote_index_column": 32
        },
        {
         "pclass": 1,
         "survived": 1,
         "name": "Bonnell, Miss. Elizabeth",
         "sex": 0,
         "age": 58,
         "sibsp": 0,
         "parch": 0,
         "ticket": "113783",
         "fare": 26.55,
         "cabin": "C103",
         "embarked": "S",
         "_deepnote_index_column": 33
        },
        {
         "pclass": 1,
         "survived": 0,
         "name": "Borebank, Mr. John James",
         "sex": 1,
         "age": 42,
         "sibsp": 0,
         "parch": 0,
         "ticket": "110489",
         "fare": 26.55,
         "cabin": "D22",
         "embarked": "S",
         "_deepnote_index_column": 34
        },
        {
         "pclass": 1,
         "survived": 1,
         "name": "Bowen, Miss. Grace Scott",
         "sex": 0,
         "age": 45,
         "sibsp": 0,
         "parch": 0,
         "ticket": "PC 17608",
         "fare": 262.375,
         "cabin": "nan",
         "embarked": "C",
         "_deepnote_index_column": 35
        },
        {
         "pclass": 1,
         "survived": 1,
         "name": "Bowerman, Miss. Elsie Edith",
         "sex": 0,
         "age": 22,
         "sibsp": 0,
         "parch": 1,
         "ticket": "113505",
         "fare": 55,
         "cabin": "E33",
         "embarked": "S",
         "_deepnote_index_column": 36
        },
        {
         "pclass": 1,
         "survived": 1,
         "name": "Bradley, Mr. George (\"George Arthur Brayton\")",
         "sex": 1,
         "age": "nan",
         "sibsp": 0,
         "parch": 0,
         "ticket": "111427",
         "fare": 26.55,
         "cabin": "nan",
         "embarked": "S",
         "_deepnote_index_column": 37
        },
        {
         "pclass": 1,
         "survived": 0,
         "name": "Brady, Mr. John Bertram",
         "sex": 1,
         "age": 41,
         "sibsp": 0,
         "parch": 0,
         "ticket": "113054",
         "fare": 30.5,
         "cabin": "A21",
         "embarked": "S",
         "_deepnote_index_column": 38
        },
        {
         "pclass": 1,
         "survived": 0,
         "name": "Brandeis, Mr. Emil",
         "sex": 1,
         "age": 48,
         "sibsp": 0,
         "parch": 0,
         "ticket": "PC 17591",
         "fare": 50.4958,
         "cabin": "B10",
         "embarked": "C",
         "_deepnote_index_column": 39
        },
        {
         "pclass": 1,
         "survived": 0,
         "name": "Brewe, Dr. Arthur Jackson",
         "sex": 1,
         "age": "nan",
         "sibsp": 0,
         "parch": 0,
         "ticket": "112379",
         "fare": 39.6,
         "cabin": "nan",
         "embarked": "C",
         "_deepnote_index_column": 40
        },
        {
         "pclass": 1,
         "survived": 1,
         "name": "Brown, Mrs. James Joseph (Margaret Tobin)",
         "sex": 0,
         "age": 44,
         "sibsp": 0,
         "parch": 0,
         "ticket": "PC 17610",
         "fare": 27.7208,
         "cabin": "B4",
         "embarked": "C",
         "_deepnote_index_column": 41
        },
        {
         "pclass": 1,
         "survived": 1,
         "name": "Brown, Mrs. John Murray (Caroline Lane Lamson)",
         "sex": 0,
         "age": 59,
         "sibsp": 2,
         "parch": 0,
         "ticket": "11769",
         "fare": 51.4792,
         "cabin": "C101",
         "embarked": "S",
         "_deepnote_index_column": 42
        },
        {
         "pclass": 1,
         "survived": 1,
         "name": "Bucknell, Mrs. William Robert (Emma Eliza Ward)",
         "sex": 0,
         "age": 60,
         "sibsp": 0,
         "parch": 0,
         "ticket": "11813",
         "fare": 76.2917,
         "cabin": "D15",
         "embarked": "C",
         "_deepnote_index_column": 43
        },
        {
         "pclass": 1,
         "survived": 1,
         "name": "Burns, Miss. Elizabeth Margaret",
         "sex": 0,
         "age": 41,
         "sibsp": 0,
         "parch": 0,
         "ticket": "16966",
         "fare": 134.5,
         "cabin": "E40",
         "embarked": "C",
         "_deepnote_index_column": 44
        }
       ],
       "rows_bottom": [
        {
         "pclass": 3,
         "survived": 0,
         "name": "van Billiard, Mr. Austin Blyler",
         "sex": 1,
         "age": 40.5,
         "sibsp": 0,
         "parch": 2,
         "ticket": "A/5. 851",
         "fare": 14.5,
         "cabin": "nan",
         "embarked": "S",
         "_deepnote_index_column": 1264
        },
        {
         "pclass": 3,
         "survived": 0,
         "name": "Van Impe, Miss. Catharina",
         "sex": 0,
         "age": 10,
         "sibsp": 0,
         "parch": 2,
         "ticket": "345773",
         "fare": 24.15,
         "cabin": "nan",
         "embarked": "S",
         "_deepnote_index_column": 1265
        },
        {
         "pclass": 3,
         "survived": 0,
         "name": "Van Impe, Mr. Jean Baptiste",
         "sex": 1,
         "age": 36,
         "sibsp": 1,
         "parch": 1,
         "ticket": "345773",
         "fare": 24.15,
         "cabin": "nan",
         "embarked": "S",
         "_deepnote_index_column": 1266
        },
        {
         "pclass": 3,
         "survived": 0,
         "name": "Van Impe, Mrs. Jean Baptiste (Rosalie Paula Govaert)",
         "sex": 0,
         "age": 30,
         "sibsp": 1,
         "parch": 1,
         "ticket": "345773",
         "fare": 24.15,
         "cabin": "nan",
         "embarked": "S",
         "_deepnote_index_column": 1267
        },
        {
         "pclass": 3,
         "survived": 0,
         "name": "van Melkebeke, Mr. Philemon",
         "sex": 1,
         "age": "nan",
         "sibsp": 0,
         "parch": 0,
         "ticket": "345777",
         "fare": 9.5,
         "cabin": "nan",
         "embarked": "S",
         "_deepnote_index_column": 1268
        },
        {
         "pclass": 3,
         "survived": 0,
         "name": "Vande Velde, Mr. Johannes Joseph",
         "sex": 1,
         "age": 33,
         "sibsp": 0,
         "parch": 0,
         "ticket": "345780",
         "fare": 9.5,
         "cabin": "nan",
         "embarked": "S",
         "_deepnote_index_column": 1269
        },
        {
         "pclass": 3,
         "survived": 0,
         "name": "Vande Walle, Mr. Nestor Cyriel",
         "sex": 1,
         "age": 28,
         "sibsp": 0,
         "parch": 0,
         "ticket": "345770",
         "fare": 9.5,
         "cabin": "nan",
         "embarked": "S",
         "_deepnote_index_column": 1270
        },
        {
         "pclass": 3,
         "survived": 0,
         "name": "Vanden Steen, Mr. Leo Peter",
         "sex": 1,
         "age": 28,
         "sibsp": 0,
         "parch": 0,
         "ticket": "345783",
         "fare": 9.5,
         "cabin": "nan",
         "embarked": "S",
         "_deepnote_index_column": 1271
        },
        {
         "pclass": 3,
         "survived": 0,
         "name": "Vander Cruyssen, Mr. Victor",
         "sex": 1,
         "age": 47,
         "sibsp": 0,
         "parch": 0,
         "ticket": "345765",
         "fare": 9,
         "cabin": "nan",
         "embarked": "S",
         "_deepnote_index_column": 1272
        },
        {
         "pclass": 3,
         "survived": 0,
         "name": "Vander Planke, Miss. Augusta Maria",
         "sex": 0,
         "age": 18,
         "sibsp": 2,
         "parch": 0,
         "ticket": "345764",
         "fare": 18,
         "cabin": "nan",
         "embarked": "S",
         "_deepnote_index_column": 1273
        },
        {
         "pclass": 3,
         "survived": 0,
         "name": "Vander Planke, Mr. Julius",
         "sex": 1,
         "age": 31,
         "sibsp": 3,
         "parch": 0,
         "ticket": "345763",
         "fare": 18,
         "cabin": "nan",
         "embarked": "S",
         "_deepnote_index_column": 1274
        },
        {
         "pclass": 3,
         "survived": 0,
         "name": "Vander Planke, Mr. Leo Edmondus",
         "sex": 1,
         "age": 16,
         "sibsp": 2,
         "parch": 0,
         "ticket": "345764",
         "fare": 18,
         "cabin": "nan",
         "embarked": "S",
         "_deepnote_index_column": 1275
        },
        {
         "pclass": 3,
         "survived": 0,
         "name": "Vander Planke, Mrs. Julius (Emelia Maria Vandemoortele)",
         "sex": 0,
         "age": 31,
         "sibsp": 1,
         "parch": 0,
         "ticket": "345763",
         "fare": 18,
         "cabin": "nan",
         "embarked": "S",
         "_deepnote_index_column": 1276
        },
        {
         "pclass": 3,
         "survived": 1,
         "name": "Vartanian, Mr. David",
         "sex": 1,
         "age": 22,
         "sibsp": 0,
         "parch": 0,
         "ticket": "2658",
         "fare": 7.225,
         "cabin": "nan",
         "embarked": "C",
         "_deepnote_index_column": 1277
        },
        {
         "pclass": 3,
         "survived": 0,
         "name": "Vendel, Mr. Olof Edvin",
         "sex": 1,
         "age": 20,
         "sibsp": 0,
         "parch": 0,
         "ticket": "350416",
         "fare": 7.8542,
         "cabin": "nan",
         "embarked": "S",
         "_deepnote_index_column": 1278
        },
        {
         "pclass": 3,
         "survived": 0,
         "name": "Vestrom, Miss. Hulda Amanda Adolfina",
         "sex": 0,
         "age": 14,
         "sibsp": 0,
         "parch": 0,
         "ticket": "350406",
         "fare": 7.8542,
         "cabin": "nan",
         "embarked": "S",
         "_deepnote_index_column": 1279
        },
        {
         "pclass": 3,
         "survived": 0,
         "name": "Vovk, Mr. Janko",
         "sex": 1,
         "age": 22,
         "sibsp": 0,
         "parch": 0,
         "ticket": "349252",
         "fare": 7.8958,
         "cabin": "nan",
         "embarked": "S",
         "_deepnote_index_column": 1280
        },
        {
         "pclass": 3,
         "survived": 0,
         "name": "Waelens, Mr. Achille",
         "sex": 1,
         "age": 22,
         "sibsp": 0,
         "parch": 0,
         "ticket": "345767",
         "fare": 9,
         "cabin": "nan",
         "embarked": "S",
         "_deepnote_index_column": 1281
        },
        {
         "pclass": 3,
         "survived": 0,
         "name": "Ware, Mr. Frederick",
         "sex": 1,
         "age": "nan",
         "sibsp": 0,
         "parch": 0,
         "ticket": "359309",
         "fare": 8.05,
         "cabin": "nan",
         "embarked": "S",
         "_deepnote_index_column": 1282
        },
        {
         "pclass": 3,
         "survived": 0,
         "name": "Warren, Mr. Charles William",
         "sex": 1,
         "age": "nan",
         "sibsp": 0,
         "parch": 0,
         "ticket": "C.A. 49867",
         "fare": 7.55,
         "cabin": "nan",
         "embarked": "S",
         "_deepnote_index_column": 1283
        },
        {
         "pclass": 3,
         "survived": 0,
         "name": "Webber, Mr. James",
         "sex": 1,
         "age": "nan",
         "sibsp": 0,
         "parch": 0,
         "ticket": "SOTON/OQ 3101316",
         "fare": 8.05,
         "cabin": "nan",
         "embarked": "S",
         "_deepnote_index_column": 1284
        },
        {
         "pclass": 3,
         "survived": 0,
         "name": "Wenzel, Mr. Linhart",
         "sex": 1,
         "age": 32.5,
         "sibsp": 0,
         "parch": 0,
         "ticket": "345775",
         "fare": 9.5,
         "cabin": "nan",
         "embarked": "S",
         "_deepnote_index_column": 1285
        },
        {
         "pclass": 3,
         "survived": 1,
         "name": "Whabee, Mrs. George Joseph (Shawneene Abi-Saab)",
         "sex": 0,
         "age": 38,
         "sibsp": 0,
         "parch": 0,
         "ticket": "2688",
         "fare": 7.2292,
         "cabin": "nan",
         "embarked": "C",
         "_deepnote_index_column": 1286
        },
        {
         "pclass": 3,
         "survived": 0,
         "name": "Widegren, Mr. Carl/Charles Peter",
         "sex": 1,
         "age": 51,
         "sibsp": 0,
         "parch": 0,
         "ticket": "347064",
         "fare": 7.75,
         "cabin": "nan",
         "embarked": "S",
         "_deepnote_index_column": 1287
        },
        {
         "pclass": 3,
         "survived": 0,
         "name": "Wiklund, Mr. Jakob Alfred",
         "sex": 1,
         "age": 18,
         "sibsp": 1,
         "parch": 0,
         "ticket": "3101267",
         "fare": 6.4958,
         "cabin": "nan",
         "embarked": "S",
         "_deepnote_index_column": 1288
        },
        {
         "pclass": 3,
         "survived": 0,
         "name": "Wiklund, Mr. Karl Johan",
         "sex": 1,
         "age": 21,
         "sibsp": 1,
         "parch": 0,
         "ticket": "3101266",
         "fare": 6.4958,
         "cabin": "nan",
         "embarked": "S",
         "_deepnote_index_column": 1289
        },
        {
         "pclass": 3,
         "survived": 1,
         "name": "Wilkes, Mrs. James (Ellen Needs)",
         "sex": 0,
         "age": 47,
         "sibsp": 1,
         "parch": 0,
         "ticket": "363272",
         "fare": 7,
         "cabin": "nan",
         "embarked": "S",
         "_deepnote_index_column": 1290
        },
        {
         "pclass": 3,
         "survived": 0,
         "name": "Willer, Mr. Aaron (\"Abi Weller\")",
         "sex": 1,
         "age": "nan",
         "sibsp": 0,
         "parch": 0,
         "ticket": "3410",
         "fare": 8.7125,
         "cabin": "nan",
         "embarked": "S",
         "_deepnote_index_column": 1291
        },
        {
         "pclass": 3,
         "survived": 0,
         "name": "Willey, Mr. Edward",
         "sex": 1,
         "age": "nan",
         "sibsp": 0,
         "parch": 0,
         "ticket": "S.O./P.P. 751",
         "fare": 7.55,
         "cabin": "nan",
         "embarked": "S",
         "_deepnote_index_column": 1292
        },
        {
         "pclass": 3,
         "survived": 0,
         "name": "Williams, Mr. Howard Hugh \"Harry\"",
         "sex": 1,
         "age": "nan",
         "sibsp": 0,
         "parch": 0,
         "ticket": "A/5 2466",
         "fare": 8.05,
         "cabin": "nan",
         "embarked": "S",
         "_deepnote_index_column": 1293
        },
        {
         "pclass": 3,
         "survived": 0,
         "name": "Williams, Mr. Leslie",
         "sex": 1,
         "age": 28.5,
         "sibsp": 0,
         "parch": 0,
         "ticket": "54636",
         "fare": 16.1,
         "cabin": "nan",
         "embarked": "S",
         "_deepnote_index_column": 1294
        },
        {
         "pclass": 3,
         "survived": 0,
         "name": "Windelov, Mr. Einar",
         "sex": 1,
         "age": 21,
         "sibsp": 0,
         "parch": 0,
         "ticket": "SOTON/OQ 3101317",
         "fare": 7.25,
         "cabin": "nan",
         "embarked": "S",
         "_deepnote_index_column": 1295
        },
        {
         "pclass": 3,
         "survived": 0,
         "name": "Wirz, Mr. Albert",
         "sex": 1,
         "age": 27,
         "sibsp": 0,
         "parch": 0,
         "ticket": "315154",
         "fare": 8.6625,
         "cabin": "nan",
         "embarked": "S",
         "_deepnote_index_column": 1296
        },
        {
         "pclass": 3,
         "survived": 0,
         "name": "Wiseman, Mr. Phillippe",
         "sex": 1,
         "age": "nan",
         "sibsp": 0,
         "parch": 0,
         "ticket": "A/4. 34244",
         "fare": 7.25,
         "cabin": "nan",
         "embarked": "S",
         "_deepnote_index_column": 1297
        },
        {
         "pclass": 3,
         "survived": 0,
         "name": "Wittevrongel, Mr. Camille",
         "sex": 1,
         "age": 36,
         "sibsp": 0,
         "parch": 0,
         "ticket": "345771",
         "fare": 9.5,
         "cabin": "nan",
         "embarked": "S",
         "_deepnote_index_column": 1298
        },
        {
         "pclass": 3,
         "survived": 0,
         "name": "Yasbeck, Mr. Antoni",
         "sex": 1,
         "age": 27,
         "sibsp": 1,
         "parch": 0,
         "ticket": "2659",
         "fare": 14.4542,
         "cabin": "nan",
         "embarked": "C",
         "_deepnote_index_column": 1299
        },
        {
         "pclass": 3,
         "survived": 1,
         "name": "Yasbeck, Mrs. Antoni (Selini Alexander)",
         "sex": 0,
         "age": 15,
         "sibsp": 1,
         "parch": 0,
         "ticket": "2659",
         "fare": 14.4542,
         "cabin": "nan",
         "embarked": "C",
         "_deepnote_index_column": 1300
        },
        {
         "pclass": 3,
         "survived": 0,
         "name": "Youseff, Mr. Gerious",
         "sex": 1,
         "age": 45.5,
         "sibsp": 0,
         "parch": 0,
         "ticket": "2628",
         "fare": 7.225,
         "cabin": "nan",
         "embarked": "C",
         "_deepnote_index_column": 1301
        },
        {
         "pclass": 3,
         "survived": 0,
         "name": "Yousif, Mr. Wazli",
         "sex": 1,
         "age": "nan",
         "sibsp": 0,
         "parch": 0,
         "ticket": "2647",
         "fare": 7.225,
         "cabin": "nan",
         "embarked": "C",
         "_deepnote_index_column": 1302
        },
        {
         "pclass": 3,
         "survived": 0,
         "name": "Yousseff, Mr. Gerious",
         "sex": 1,
         "age": "nan",
         "sibsp": 0,
         "parch": 0,
         "ticket": "2627",
         "fare": 14.4583,
         "cabin": "nan",
         "embarked": "C",
         "_deepnote_index_column": 1303
        },
        {
         "pclass": 3,
         "survived": 0,
         "name": "Zabour, Miss. Hileni",
         "sex": 0,
         "age": 14.5,
         "sibsp": 1,
         "parch": 0,
         "ticket": "2665",
         "fare": 14.4542,
         "cabin": "nan",
         "embarked": "C",
         "_deepnote_index_column": 1304
        },
        {
         "pclass": 3,
         "survived": 0,
         "name": "Zabour, Miss. Thamine",
         "sex": 0,
         "age": "nan",
         "sibsp": 1,
         "parch": 0,
         "ticket": "2665",
         "fare": 14.4542,
         "cabin": "nan",
         "embarked": "C",
         "_deepnote_index_column": 1305
        },
        {
         "pclass": 3,
         "survived": 0,
         "name": "Zakarian, Mr. Mapriededer",
         "sex": 1,
         "age": 26.5,
         "sibsp": 0,
         "parch": 0,
         "ticket": "2656",
         "fare": 7.225,
         "cabin": "nan",
         "embarked": "C",
         "_deepnote_index_column": 1306
        },
        {
         "pclass": 3,
         "survived": 0,
         "name": "Zakarian, Mr. Ortin",
         "sex": 1,
         "age": 27,
         "sibsp": 0,
         "parch": 0,
         "ticket": "2670",
         "fare": 7.225,
         "cabin": "nan",
         "embarked": "C",
         "_deepnote_index_column": 1307
        },
        {
         "pclass": 3,
         "survived": 0,
         "name": "Zimmerman, Mr. Leo",
         "sex": 1,
         "age": 29,
         "sibsp": 0,
         "parch": 0,
         "ticket": "315082",
         "fare": 7.875,
         "cabin": "nan",
         "embarked": "S",
         "_deepnote_index_column": 1308
        }
       ]
      },
      "text/plain": "      pclass  survived                                             name  sex  \\\n0          1         1                    Allen, Miss. Elisabeth Walton    0   \n1          1         1                   Allison, Master. Hudson Trevor    1   \n2          1         0                     Allison, Miss. Helen Loraine    0   \n3          1         0             Allison, Mr. Hudson Joshua Creighton    1   \n4          1         0  Allison, Mrs. Hudson J C (Bessie Waldo Daniels)    0   \n...      ...       ...                                              ...  ...   \n1304       3         0                             Zabour, Miss. Hileni    0   \n1305       3         0                            Zabour, Miss. Thamine    0   \n1306       3         0                        Zakarian, Mr. Mapriededer    1   \n1307       3         0                              Zakarian, Mr. Ortin    1   \n1308       3         0                               Zimmerman, Mr. Leo    1   \n\n          age  sibsp  parch  ticket      fare    cabin embarked  \n0     29.0000      0      0   24160  211.3375       B5        S  \n1      0.9167      1      2  113781  151.5500  C22 C26        S  \n2      2.0000      1      2  113781  151.5500  C22 C26        S  \n3     30.0000      1      2  113781  151.5500  C22 C26        S  \n4     25.0000      1      2  113781  151.5500  C22 C26        S  \n...       ...    ...    ...     ...       ...      ...      ...  \n1304  14.5000      1      0    2665   14.4542      NaN        C  \n1305      NaN      1      0    2665   14.4542      NaN        C  \n1306  26.5000      0      0    2656    7.2250      NaN        C  \n1307  27.0000      0      0    2670    7.2250      NaN        C  \n1308  29.0000      0      0  315082    7.8750      NaN        S  \n\n[1307 rows x 11 columns]",
      "text/html": "<div>\n<style scoped>\n    .dataframe tbody tr th:only-of-type {\n        vertical-align: middle;\n    }\n\n    .dataframe tbody tr th {\n        vertical-align: top;\n    }\n\n    .dataframe thead th {\n        text-align: right;\n    }\n</style>\n<table border=\"1\" class=\"dataframe\">\n  <thead>\n    <tr style=\"text-align: right;\">\n      <th></th>\n      <th>pclass</th>\n      <th>survived</th>\n      <th>name</th>\n      <th>sex</th>\n      <th>age</th>\n      <th>sibsp</th>\n      <th>parch</th>\n      <th>ticket</th>\n      <th>fare</th>\n      <th>cabin</th>\n      <th>embarked</th>\n    </tr>\n  </thead>\n  <tbody>\n    <tr>\n      <th>0</th>\n      <td>1</td>\n      <td>1</td>\n      <td>Allen, Miss. Elisabeth Walton</td>\n      <td>0</td>\n      <td>29.0000</td>\n      <td>0</td>\n      <td>0</td>\n      <td>24160</td>\n      <td>211.3375</td>\n      <td>B5</td>\n      <td>S</td>\n    </tr>\n    <tr>\n      <th>1</th>\n      <td>1</td>\n      <td>1</td>\n      <td>Allison, Master. Hudson Trevor</td>\n      <td>1</td>\n      <td>0.9167</td>\n      <td>1</td>\n      <td>2</td>\n      <td>113781</td>\n      <td>151.5500</td>\n      <td>C22 C26</td>\n      <td>S</td>\n    </tr>\n    <tr>\n      <th>2</th>\n      <td>1</td>\n      <td>0</td>\n      <td>Allison, Miss. Helen Loraine</td>\n      <td>0</td>\n      <td>2.0000</td>\n      <td>1</td>\n      <td>2</td>\n      <td>113781</td>\n      <td>151.5500</td>\n      <td>C22 C26</td>\n      <td>S</td>\n    </tr>\n    <tr>\n      <th>3</th>\n      <td>1</td>\n      <td>0</td>\n      <td>Allison, Mr. Hudson Joshua Creighton</td>\n      <td>1</td>\n      <td>30.0000</td>\n      <td>1</td>\n      <td>2</td>\n      <td>113781</td>\n      <td>151.5500</td>\n      <td>C22 C26</td>\n      <td>S</td>\n    </tr>\n    <tr>\n      <th>4</th>\n      <td>1</td>\n      <td>0</td>\n      <td>Allison, Mrs. Hudson J C (Bessie Waldo Daniels)</td>\n      <td>0</td>\n      <td>25.0000</td>\n      <td>1</td>\n      <td>2</td>\n      <td>113781</td>\n      <td>151.5500</td>\n      <td>C22 C26</td>\n      <td>S</td>\n    </tr>\n    <tr>\n      <th>...</th>\n      <td>...</td>\n      <td>...</td>\n      <td>...</td>\n      <td>...</td>\n      <td>...</td>\n      <td>...</td>\n      <td>...</td>\n      <td>...</td>\n      <td>...</td>\n      <td>...</td>\n      <td>...</td>\n    </tr>\n    <tr>\n      <th>1304</th>\n      <td>3</td>\n      <td>0</td>\n      <td>Zabour, Miss. Hileni</td>\n      <td>0</td>\n      <td>14.5000</td>\n      <td>1</td>\n      <td>0</td>\n      <td>2665</td>\n      <td>14.4542</td>\n      <td>NaN</td>\n      <td>C</td>\n    </tr>\n    <tr>\n      <th>1305</th>\n      <td>3</td>\n      <td>0</td>\n      <td>Zabour, Miss. Thamine</td>\n      <td>0</td>\n      <td>NaN</td>\n      <td>1</td>\n      <td>0</td>\n      <td>2665</td>\n      <td>14.4542</td>\n      <td>NaN</td>\n      <td>C</td>\n    </tr>\n    <tr>\n      <th>1306</th>\n      <td>3</td>\n      <td>0</td>\n      <td>Zakarian, Mr. Mapriededer</td>\n      <td>1</td>\n      <td>26.5000</td>\n      <td>0</td>\n      <td>0</td>\n      <td>2656</td>\n      <td>7.2250</td>\n      <td>NaN</td>\n      <td>C</td>\n    </tr>\n    <tr>\n      <th>1307</th>\n      <td>3</td>\n      <td>0</td>\n      <td>Zakarian, Mr. Ortin</td>\n      <td>1</td>\n      <td>27.0000</td>\n      <td>0</td>\n      <td>0</td>\n      <td>2670</td>\n      <td>7.2250</td>\n      <td>NaN</td>\n      <td>C</td>\n    </tr>\n    <tr>\n      <th>1308</th>\n      <td>3</td>\n      <td>0</td>\n      <td>Zimmerman, Mr. Leo</td>\n      <td>1</td>\n      <td>29.0000</td>\n      <td>0</td>\n      <td>0</td>\n      <td>315082</td>\n      <td>7.8750</td>\n      <td>NaN</td>\n      <td>S</td>\n    </tr>\n  </tbody>\n</table>\n<p>1307 rows × 11 columns</p>\n</div>"
     },
     "metadata": {}
    }
   ],
   "execution_count": null
  },
  {
   "cell_type": "code",
   "source": "from sklearn.preprocessing import OneHotEncoder\n\nohe = OneHotEncoder()\ntemp = ohe.fit_transform(data[['embarked']])\ntemp = temp.toarray()\nprint(temp)",
   "metadata": {
    "tags": [],
    "cell_id": "00005-f92fc4eb-9da8-4bc5-9007-10cad1a4839f",
    "deepnote_to_be_reexecuted": false,
    "source_hash": "4879f641",
    "execution_start": 1632733790201,
    "execution_millis": 31,
    "deepnote_cell_type": "code"
   },
   "outputs": [
    {
     "name": "stdout",
     "text": "[[0. 0. 1.]\n [0. 0. 1.]\n [0. 0. 1.]\n ...\n [1. 0. 0.]\n [1. 0. 0.]\n [0. 0. 1.]]\n",
     "output_type": "stream"
    }
   ],
   "execution_count": null
  },
  {
   "cell_type": "code",
   "source": "data.drop(['embarked'], axis=1, inplace=True)\ndata[['C', 'Q', 'S']] = temp\ndata",
   "metadata": {
    "tags": [],
    "cell_id": "00006-7f710edc-e82a-43d5-a4ae-1dbee4d6ab21",
    "deepnote_to_be_reexecuted": false,
    "source_hash": "f788765a",
    "execution_start": 1632733791267,
    "execution_millis": 153,
    "deepnote_cell_type": "code"
   },
   "outputs": [
    {
     "name": "stderr",
     "text": "/shared-libs/python3.7/py/lib/python3.7/site-packages/pandas/core/frame.py:4315: SettingWithCopyWarning: \nA value is trying to be set on a copy of a slice from a DataFrame\n\nSee the caveats in the documentation: https://pandas.pydata.org/pandas-docs/stable/user_guide/indexing.html#returning-a-view-versus-a-copy\n  errors=errors,\n/shared-libs/python3.7/py-core/lib/python3.7/site-packages/ipykernel_launcher.py:2: SettingWithCopyWarning: \nA value is trying to be set on a copy of a slice from a DataFrame.\nTry using .loc[row_indexer,col_indexer] = value instead\n\nSee the caveats in the documentation: https://pandas.pydata.org/pandas-docs/stable/user_guide/indexing.html#returning-a-view-versus-a-copy\n  \n/shared-libs/python3.7/py/lib/python3.7/site-packages/pandas/core/indexing.py:1738: SettingWithCopyWarning: \nA value is trying to be set on a copy of a slice from a DataFrame.\nTry using .loc[row_indexer,col_indexer] = value instead\n\nSee the caveats in the documentation: https://pandas.pydata.org/pandas-docs/stable/user_guide/indexing.html#returning-a-view-versus-a-copy\n  self._setitem_single_column(loc, value[:, i].tolist(), pi)\n",
     "output_type": "stream"
    },
    {
     "output_type": "execute_result",
     "execution_count": 50,
     "data": {
      "application/vnd.deepnote.dataframe.v2+json": {
       "row_count": 1307,
       "column_count": 13,
       "columns": [
        {
         "name": "pclass",
         "dtype": "int64",
         "stats": {
          "unique_count": 3,
          "nan_count": 0,
          "min": "1",
          "max": "3",
          "histogram": [
           {
            "bin_start": 1,
            "bin_end": 1.2,
            "count": 321
           },
           {
            "bin_start": 1.2,
            "bin_end": 1.4,
            "count": 0
           },
           {
            "bin_start": 1.4,
            "bin_end": 1.6,
            "count": 0
           },
           {
            "bin_start": 1.6,
            "bin_end": 1.8,
            "count": 0
           },
           {
            "bin_start": 1.8,
            "bin_end": 2,
            "count": 0
           },
           {
            "bin_start": 2,
            "bin_end": 2.2,
            "count": 277
           },
           {
            "bin_start": 2.2,
            "bin_end": 2.4000000000000004,
            "count": 0
           },
           {
            "bin_start": 2.4000000000000004,
            "bin_end": 2.6,
            "count": 0
           },
           {
            "bin_start": 2.6,
            "bin_end": 2.8,
            "count": 0
           },
           {
            "bin_start": 2.8,
            "bin_end": 3,
            "count": 709
           }
          ]
         }
        },
        {
         "name": "survived",
         "dtype": "int64",
         "stats": {
          "unique_count": 2,
          "nan_count": 0,
          "min": "0",
          "max": "1",
          "histogram": [
           {
            "bin_start": 0,
            "bin_end": 0.1,
            "count": 809
           },
           {
            "bin_start": 0.1,
            "bin_end": 0.2,
            "count": 0
           },
           {
            "bin_start": 0.2,
            "bin_end": 0.30000000000000004,
            "count": 0
           },
           {
            "bin_start": 0.30000000000000004,
            "bin_end": 0.4,
            "count": 0
           },
           {
            "bin_start": 0.4,
            "bin_end": 0.5,
            "count": 0
           },
           {
            "bin_start": 0.5,
            "bin_end": 0.6000000000000001,
            "count": 0
           },
           {
            "bin_start": 0.6000000000000001,
            "bin_end": 0.7000000000000001,
            "count": 0
           },
           {
            "bin_start": 0.7000000000000001,
            "bin_end": 0.8,
            "count": 0
           },
           {
            "bin_start": 0.8,
            "bin_end": 0.9,
            "count": 0
           },
           {
            "bin_start": 0.9,
            "bin_end": 1,
            "count": 498
           }
          ]
         }
        },
        {
         "name": "name",
         "dtype": "object",
         "stats": {
          "unique_count": 1305,
          "nan_count": 0,
          "categories": [
           {
            "name": "Connolly, Miss. Kate",
            "count": 2
           },
           {
            "name": "Kelly, Mr. James",
            "count": 2
           },
           {
            "name": "1303 others",
            "count": 1303
           }
          ]
         }
        },
        {
         "name": "sex",
         "dtype": "int64",
         "stats": {
          "unique_count": 2,
          "nan_count": 0,
          "min": "0",
          "max": "1",
          "histogram": [
           {
            "bin_start": 0,
            "bin_end": 0.1,
            "count": 464
           },
           {
            "bin_start": 0.1,
            "bin_end": 0.2,
            "count": 0
           },
           {
            "bin_start": 0.2,
            "bin_end": 0.30000000000000004,
            "count": 0
           },
           {
            "bin_start": 0.30000000000000004,
            "bin_end": 0.4,
            "count": 0
           },
           {
            "bin_start": 0.4,
            "bin_end": 0.5,
            "count": 0
           },
           {
            "bin_start": 0.5,
            "bin_end": 0.6000000000000001,
            "count": 0
           },
           {
            "bin_start": 0.6000000000000001,
            "bin_end": 0.7000000000000001,
            "count": 0
           },
           {
            "bin_start": 0.7000000000000001,
            "bin_end": 0.8,
            "count": 0
           },
           {
            "bin_start": 0.8,
            "bin_end": 0.9,
            "count": 0
           },
           {
            "bin_start": 0.9,
            "bin_end": 1,
            "count": 843
           }
          ]
         }
        },
        {
         "name": "age",
         "dtype": "float64",
         "stats": {
          "unique_count": 98,
          "nan_count": 263,
          "min": "0.1667",
          "max": "80.0",
          "histogram": [
           {
            "bin_start": 0.1667,
            "bin_end": 8.15003,
            "count": 72
           },
           {
            "bin_start": 8.15003,
            "bin_end": 16.13336,
            "count": 62
           },
           {
            "bin_start": 16.13336,
            "bin_end": 24.11669,
            "count": 274
           },
           {
            "bin_start": 24.11669,
            "bin_end": 32.10002,
            "count": 250
           },
           {
            "bin_start": 32.10002,
            "bin_end": 40.083349999999996,
            "count": 160
           },
           {
            "bin_start": 40.083349999999996,
            "bin_end": 48.06668,
            "count": 108
           },
           {
            "bin_start": 48.06668,
            "bin_end": 56.05000999999999,
            "count": 65
           },
           {
            "bin_start": 56.05000999999999,
            "bin_end": 64.03334,
            "count": 40
           },
           {
            "bin_start": 64.03334,
            "bin_end": 72.01667,
            "count": 10
           },
           {
            "bin_start": 72.01667,
            "bin_end": 80,
            "count": 3
           }
          ]
         }
        },
        {
         "name": "sibsp",
         "dtype": "int64",
         "stats": {
          "unique_count": 7,
          "nan_count": 0,
          "min": "0",
          "max": "8",
          "histogram": [
           {
            "bin_start": 0,
            "bin_end": 0.8,
            "count": 889
           },
           {
            "bin_start": 0.8,
            "bin_end": 1.6,
            "count": 319
           },
           {
            "bin_start": 1.6,
            "bin_end": 2.4000000000000004,
            "count": 42
           },
           {
            "bin_start": 2.4000000000000004,
            "bin_end": 3.2,
            "count": 20
           },
           {
            "bin_start": 3.2,
            "bin_end": 4,
            "count": 0
           },
           {
            "bin_start": 4,
            "bin_end": 4.800000000000001,
            "count": 22
           },
           {
            "bin_start": 4.800000000000001,
            "bin_end": 5.6000000000000005,
            "count": 6
           },
           {
            "bin_start": 5.6000000000000005,
            "bin_end": 6.4,
            "count": 0
           },
           {
            "bin_start": 6.4,
            "bin_end": 7.2,
            "count": 0
           },
           {
            "bin_start": 7.2,
            "bin_end": 8,
            "count": 9
           }
          ]
         }
        },
        {
         "name": "parch",
         "dtype": "int64",
         "stats": {
          "unique_count": 8,
          "nan_count": 0,
          "min": "0",
          "max": "9",
          "histogram": [
           {
            "bin_start": 0,
            "bin_end": 0.9,
            "count": 1000
           },
           {
            "bin_start": 0.9,
            "bin_end": 1.8,
            "count": 170
           },
           {
            "bin_start": 1.8,
            "bin_end": 2.7,
            "count": 113
           },
           {
            "bin_start": 2.7,
            "bin_end": 3.6,
            "count": 8
           },
           {
            "bin_start": 3.6,
            "bin_end": 4.5,
            "count": 6
           },
           {
            "bin_start": 4.5,
            "bin_end": 5.4,
            "count": 6
           },
           {
            "bin_start": 5.4,
            "bin_end": 6.3,
            "count": 2
           },
           {
            "bin_start": 6.3,
            "bin_end": 7.2,
            "count": 0
           },
           {
            "bin_start": 7.2,
            "bin_end": 8.1,
            "count": 0
           },
           {
            "bin_start": 8.1,
            "bin_end": 9,
            "count": 2
           }
          ]
         }
        },
        {
         "name": "ticket",
         "dtype": "object",
         "stats": {
          "unique_count": 928,
          "nan_count": 0,
          "categories": [
           {
            "name": "CA. 2343",
            "count": 11
           },
           {
            "name": "1601",
            "count": 8
           },
           {
            "name": "926 others",
            "count": 1288
           }
          ]
         }
        },
        {
         "name": "fare",
         "dtype": "float64",
         "stats": {
          "unique_count": 280,
          "nan_count": 1,
          "min": "0.0",
          "max": "512.3292",
          "histogram": [
           {
            "bin_start": 0,
            "bin_end": 51.23292,
            "count": 1070
           },
           {
            "bin_start": 51.23292,
            "bin_end": 102.46584,
            "count": 152
           },
           {
            "bin_start": 102.46584,
            "bin_end": 153.69876,
            "count": 42
           },
           {
            "bin_start": 153.69876,
            "bin_end": 204.93168,
            "count": 4
           },
           {
            "bin_start": 204.93168,
            "bin_end": 256.1646,
            "count": 21
           },
           {
            "bin_start": 256.1646,
            "bin_end": 307.39752,
            "count": 13
           },
           {
            "bin_start": 307.39752,
            "bin_end": 358.63044,
            "count": 0
           },
           {
            "bin_start": 358.63044,
            "bin_end": 409.86336,
            "count": 0
           },
           {
            "bin_start": 409.86336,
            "bin_end": 461.09628,
            "count": 0
           },
           {
            "bin_start": 461.09628,
            "bin_end": 512.3292,
            "count": 4
           }
          ]
         }
        },
        {
         "name": "cabin",
         "dtype": "object",
         "stats": {
          "unique_count": 185,
          "nan_count": 1014,
          "categories": [
           {
            "name": "C23 C25 C27",
            "count": 6
           },
           {
            "name": "184 others",
            "count": 287
           },
           {
            "name": "Missing",
            "count": 1014
           }
          ]
         }
        },
        {
         "name": "C",
         "dtype": "float64",
         "stats": {
          "unique_count": 2,
          "nan_count": 0,
          "min": "0.0",
          "max": "1.0",
          "histogram": [
           {
            "bin_start": 0,
            "bin_end": 0.1,
            "count": 1037
           },
           {
            "bin_start": 0.1,
            "bin_end": 0.2,
            "count": 0
           },
           {
            "bin_start": 0.2,
            "bin_end": 0.30000000000000004,
            "count": 0
           },
           {
            "bin_start": 0.30000000000000004,
            "bin_end": 0.4,
            "count": 0
           },
           {
            "bin_start": 0.4,
            "bin_end": 0.5,
            "count": 0
           },
           {
            "bin_start": 0.5,
            "bin_end": 0.6000000000000001,
            "count": 0
           },
           {
            "bin_start": 0.6000000000000001,
            "bin_end": 0.7000000000000001,
            "count": 0
           },
           {
            "bin_start": 0.7000000000000001,
            "bin_end": 0.8,
            "count": 0
           },
           {
            "bin_start": 0.8,
            "bin_end": 0.9,
            "count": 0
           },
           {
            "bin_start": 0.9,
            "bin_end": 1,
            "count": 270
           }
          ]
         }
        },
        {
         "name": "Q",
         "dtype": "float64",
         "stats": {
          "unique_count": 2,
          "nan_count": 0,
          "min": "0.0",
          "max": "1.0",
          "histogram": [
           {
            "bin_start": 0,
            "bin_end": 0.1,
            "count": 1184
           },
           {
            "bin_start": 0.1,
            "bin_end": 0.2,
            "count": 0
           },
           {
            "bin_start": 0.2,
            "bin_end": 0.30000000000000004,
            "count": 0
           },
           {
            "bin_start": 0.30000000000000004,
            "bin_end": 0.4,
            "count": 0
           },
           {
            "bin_start": 0.4,
            "bin_end": 0.5,
            "count": 0
           },
           {
            "bin_start": 0.5,
            "bin_end": 0.6000000000000001,
            "count": 0
           },
           {
            "bin_start": 0.6000000000000001,
            "bin_end": 0.7000000000000001,
            "count": 0
           },
           {
            "bin_start": 0.7000000000000001,
            "bin_end": 0.8,
            "count": 0
           },
           {
            "bin_start": 0.8,
            "bin_end": 0.9,
            "count": 0
           },
           {
            "bin_start": 0.9,
            "bin_end": 1,
            "count": 123
           }
          ]
         }
        },
        {
         "name": "S",
         "dtype": "float64",
         "stats": {
          "unique_count": 2,
          "nan_count": 0,
          "min": "0.0",
          "max": "1.0",
          "histogram": [
           {
            "bin_start": 0,
            "bin_end": 0.1,
            "count": 393
           },
           {
            "bin_start": 0.1,
            "bin_end": 0.2,
            "count": 0
           },
           {
            "bin_start": 0.2,
            "bin_end": 0.30000000000000004,
            "count": 0
           },
           {
            "bin_start": 0.30000000000000004,
            "bin_end": 0.4,
            "count": 0
           },
           {
            "bin_start": 0.4,
            "bin_end": 0.5,
            "count": 0
           },
           {
            "bin_start": 0.5,
            "bin_end": 0.6000000000000001,
            "count": 0
           },
           {
            "bin_start": 0.6000000000000001,
            "bin_end": 0.7000000000000001,
            "count": 0
           },
           {
            "bin_start": 0.7000000000000001,
            "bin_end": 0.8,
            "count": 0
           },
           {
            "bin_start": 0.8,
            "bin_end": 0.9,
            "count": 0
           },
           {
            "bin_start": 0.9,
            "bin_end": 1,
            "count": 914
           }
          ]
         }
        },
        {
         "name": "_deepnote_index_column",
         "dtype": "int64"
        }
       ],
       "rows_top": [
        {
         "pclass": 1,
         "survived": 1,
         "name": "Allen, Miss. Elisabeth Walton",
         "sex": 0,
         "age": 29,
         "sibsp": 0,
         "parch": 0,
         "ticket": "24160",
         "fare": 211.3375,
         "cabin": "B5",
         "C": 0,
         "Q": 0,
         "S": 1,
         "_deepnote_index_column": 0
        },
        {
         "pclass": 1,
         "survived": 1,
         "name": "Allison, Master. Hudson Trevor",
         "sex": 1,
         "age": 0.9167,
         "sibsp": 1,
         "parch": 2,
         "ticket": "113781",
         "fare": 151.55,
         "cabin": "C22 C26",
         "C": 0,
         "Q": 0,
         "S": 1,
         "_deepnote_index_column": 1
        },
        {
         "pclass": 1,
         "survived": 0,
         "name": "Allison, Miss. Helen Loraine",
         "sex": 0,
         "age": 2,
         "sibsp": 1,
         "parch": 2,
         "ticket": "113781",
         "fare": 151.55,
         "cabin": "C22 C26",
         "C": 0,
         "Q": 0,
         "S": 1,
         "_deepnote_index_column": 2
        },
        {
         "pclass": 1,
         "survived": 0,
         "name": "Allison, Mr. Hudson Joshua Creighton",
         "sex": 1,
         "age": 30,
         "sibsp": 1,
         "parch": 2,
         "ticket": "113781",
         "fare": 151.55,
         "cabin": "C22 C26",
         "C": 0,
         "Q": 0,
         "S": 1,
         "_deepnote_index_column": 3
        },
        {
         "pclass": 1,
         "survived": 0,
         "name": "Allison, Mrs. Hudson J C (Bessie Waldo Daniels)",
         "sex": 0,
         "age": 25,
         "sibsp": 1,
         "parch": 2,
         "ticket": "113781",
         "fare": 151.55,
         "cabin": "C22 C26",
         "C": 0,
         "Q": 0,
         "S": 1,
         "_deepnote_index_column": 4
        },
        {
         "pclass": 1,
         "survived": 1,
         "name": "Anderson, Mr. Harry",
         "sex": 1,
         "age": 48,
         "sibsp": 0,
         "parch": 0,
         "ticket": "19952",
         "fare": 26.55,
         "cabin": "E12",
         "C": 0,
         "Q": 0,
         "S": 1,
         "_deepnote_index_column": 5
        },
        {
         "pclass": 1,
         "survived": 1,
         "name": "Andrews, Miss. Kornelia Theodosia",
         "sex": 0,
         "age": 63,
         "sibsp": 1,
         "parch": 0,
         "ticket": "13502",
         "fare": 77.9583,
         "cabin": "D7",
         "C": 0,
         "Q": 0,
         "S": 1,
         "_deepnote_index_column": 6
        },
        {
         "pclass": 1,
         "survived": 0,
         "name": "Andrews, Mr. Thomas Jr",
         "sex": 1,
         "age": 39,
         "sibsp": 0,
         "parch": 0,
         "ticket": "112050",
         "fare": 0,
         "cabin": "A36",
         "C": 0,
         "Q": 0,
         "S": 1,
         "_deepnote_index_column": 7
        },
        {
         "pclass": 1,
         "survived": 1,
         "name": "Appleton, Mrs. Edward Dale (Charlotte Lamson)",
         "sex": 0,
         "age": 53,
         "sibsp": 2,
         "parch": 0,
         "ticket": "11769",
         "fare": 51.4792,
         "cabin": "C101",
         "C": 0,
         "Q": 0,
         "S": 1,
         "_deepnote_index_column": 8
        },
        {
         "pclass": 1,
         "survived": 0,
         "name": "Artagaveytia, Mr. Ramon",
         "sex": 1,
         "age": 71,
         "sibsp": 0,
         "parch": 0,
         "ticket": "PC 17609",
         "fare": 49.5042,
         "cabin": "nan",
         "C": 1,
         "Q": 0,
         "S": 0,
         "_deepnote_index_column": 9
        },
        {
         "pclass": 1,
         "survived": 0,
         "name": "Astor, Col. John Jacob",
         "sex": 1,
         "age": 47,
         "sibsp": 1,
         "parch": 0,
         "ticket": "PC 17757",
         "fare": 227.525,
         "cabin": "C62 C64",
         "C": 1,
         "Q": 0,
         "S": 0,
         "_deepnote_index_column": 10
        },
        {
         "pclass": 1,
         "survived": 1,
         "name": "Astor, Mrs. John Jacob (Madeleine Talmadge Force)",
         "sex": 0,
         "age": 18,
         "sibsp": 1,
         "parch": 0,
         "ticket": "PC 17757",
         "fare": 227.525,
         "cabin": "C62 C64",
         "C": 1,
         "Q": 0,
         "S": 0,
         "_deepnote_index_column": 11
        },
        {
         "pclass": 1,
         "survived": 1,
         "name": "Aubart, Mme. Leontine Pauline",
         "sex": 0,
         "age": 24,
         "sibsp": 0,
         "parch": 0,
         "ticket": "PC 17477",
         "fare": 69.3,
         "cabin": "B35",
         "C": 1,
         "Q": 0,
         "S": 0,
         "_deepnote_index_column": 12
        },
        {
         "pclass": 1,
         "survived": 1,
         "name": "Barber, Miss. Ellen \"Nellie\"",
         "sex": 0,
         "age": 26,
         "sibsp": 0,
         "parch": 0,
         "ticket": "19877",
         "fare": 78.85,
         "cabin": "nan",
         "C": 0,
         "Q": 0,
         "S": 1,
         "_deepnote_index_column": 13
        },
        {
         "pclass": 1,
         "survived": 1,
         "name": "Barkworth, Mr. Algernon Henry Wilson",
         "sex": 1,
         "age": 80,
         "sibsp": 0,
         "parch": 0,
         "ticket": "27042",
         "fare": 30,
         "cabin": "A23",
         "C": 0,
         "Q": 0,
         "S": 1,
         "_deepnote_index_column": 14
        },
        {
         "pclass": 1,
         "survived": 0,
         "name": "Baumann, Mr. John D",
         "sex": 1,
         "age": "nan",
         "sibsp": 0,
         "parch": 0,
         "ticket": "PC 17318",
         "fare": 25.925,
         "cabin": "nan",
         "C": 0,
         "Q": 0,
         "S": 1,
         "_deepnote_index_column": 15
        },
        {
         "pclass": 1,
         "survived": 0,
         "name": "Baxter, Mr. Quigg Edmond",
         "sex": 1,
         "age": 24,
         "sibsp": 0,
         "parch": 1,
         "ticket": "PC 17558",
         "fare": 247.5208,
         "cabin": "B58 B60",
         "C": 1,
         "Q": 0,
         "S": 0,
         "_deepnote_index_column": 16
        },
        {
         "pclass": 1,
         "survived": 1,
         "name": "Baxter, Mrs. James (Helene DeLaudeniere Chaput)",
         "sex": 0,
         "age": 50,
         "sibsp": 0,
         "parch": 1,
         "ticket": "PC 17558",
         "fare": 247.5208,
         "cabin": "B58 B60",
         "C": 1,
         "Q": 0,
         "S": 0,
         "_deepnote_index_column": 17
        },
        {
         "pclass": 1,
         "survived": 1,
         "name": "Bazzani, Miss. Albina",
         "sex": 0,
         "age": 32,
         "sibsp": 0,
         "parch": 0,
         "ticket": "11813",
         "fare": 76.2917,
         "cabin": "D15",
         "C": 1,
         "Q": 0,
         "S": 0,
         "_deepnote_index_column": 18
        },
        {
         "pclass": 1,
         "survived": 0,
         "name": "Beattie, Mr. Thomson",
         "sex": 1,
         "age": 36,
         "sibsp": 0,
         "parch": 0,
         "ticket": "13050",
         "fare": 75.2417,
         "cabin": "C6",
         "C": 1,
         "Q": 0,
         "S": 0,
         "_deepnote_index_column": 19
        },
        {
         "pclass": 1,
         "survived": 1,
         "name": "Beckwith, Mr. Richard Leonard",
         "sex": 1,
         "age": 37,
         "sibsp": 1,
         "parch": 1,
         "ticket": "11751",
         "fare": 52.5542,
         "cabin": "D35",
         "C": 0,
         "Q": 0,
         "S": 1,
         "_deepnote_index_column": 20
        },
        {
         "pclass": 1,
         "survived": 1,
         "name": "Beckwith, Mrs. Richard Leonard (Sallie Monypeny)",
         "sex": 0,
         "age": 47,
         "sibsp": 1,
         "parch": 1,
         "ticket": "11751",
         "fare": 52.5542,
         "cabin": "D35",
         "C": 0,
         "Q": 0,
         "S": 1,
         "_deepnote_index_column": 21
        },
        {
         "pclass": 1,
         "survived": 1,
         "name": "Behr, Mr. Karl Howell",
         "sex": 1,
         "age": 26,
         "sibsp": 0,
         "parch": 0,
         "ticket": "111369",
         "fare": 30,
         "cabin": "C148",
         "C": 1,
         "Q": 0,
         "S": 0,
         "_deepnote_index_column": 22
        },
        {
         "pclass": 1,
         "survived": 1,
         "name": "Bidois, Miss. Rosalie",
         "sex": 0,
         "age": 42,
         "sibsp": 0,
         "parch": 0,
         "ticket": "PC 17757",
         "fare": 227.525,
         "cabin": "nan",
         "C": 1,
         "Q": 0,
         "S": 0,
         "_deepnote_index_column": 23
        },
        {
         "pclass": 1,
         "survived": 1,
         "name": "Bird, Miss. Ellen",
         "sex": 0,
         "age": 29,
         "sibsp": 0,
         "parch": 0,
         "ticket": "PC 17483",
         "fare": 221.7792,
         "cabin": "C97",
         "C": 0,
         "Q": 0,
         "S": 1,
         "_deepnote_index_column": 24
        },
        {
         "pclass": 1,
         "survived": 0,
         "name": "Birnbaum, Mr. Jakob",
         "sex": 1,
         "age": 25,
         "sibsp": 0,
         "parch": 0,
         "ticket": "13905",
         "fare": 26,
         "cabin": "nan",
         "C": 1,
         "Q": 0,
         "S": 0,
         "_deepnote_index_column": 25
        },
        {
         "pclass": 1,
         "survived": 1,
         "name": "Bishop, Mr. Dickinson H",
         "sex": 1,
         "age": 25,
         "sibsp": 1,
         "parch": 0,
         "ticket": "11967",
         "fare": 91.0792,
         "cabin": "B49",
         "C": 1,
         "Q": 0,
         "S": 0,
         "_deepnote_index_column": 26
        },
        {
         "pclass": 1,
         "survived": 1,
         "name": "Bishop, Mrs. Dickinson H (Helen Walton)",
         "sex": 0,
         "age": 19,
         "sibsp": 1,
         "parch": 0,
         "ticket": "11967",
         "fare": 91.0792,
         "cabin": "B49",
         "C": 1,
         "Q": 0,
         "S": 0,
         "_deepnote_index_column": 27
        },
        {
         "pclass": 1,
         "survived": 1,
         "name": "Bissette, Miss. Amelia",
         "sex": 0,
         "age": 35,
         "sibsp": 0,
         "parch": 0,
         "ticket": "PC 17760",
         "fare": 135.6333,
         "cabin": "C99",
         "C": 0,
         "Q": 0,
         "S": 1,
         "_deepnote_index_column": 28
        },
        {
         "pclass": 1,
         "survived": 1,
         "name": "Bjornstrom-Steffansson, Mr. Mauritz Hakan",
         "sex": 1,
         "age": 28,
         "sibsp": 0,
         "parch": 0,
         "ticket": "110564",
         "fare": 26.55,
         "cabin": "C52",
         "C": 0,
         "Q": 0,
         "S": 1,
         "_deepnote_index_column": 29
        },
        {
         "pclass": 1,
         "survived": 0,
         "name": "Blackwell, Mr. Stephen Weart",
         "sex": 1,
         "age": 45,
         "sibsp": 0,
         "parch": 0,
         "ticket": "113784",
         "fare": 35.5,
         "cabin": "T",
         "C": 0,
         "Q": 0,
         "S": 1,
         "_deepnote_index_column": 30
        },
        {
         "pclass": 1,
         "survived": 1,
         "name": "Blank, Mr. Henry",
         "sex": 1,
         "age": 40,
         "sibsp": 0,
         "parch": 0,
         "ticket": "112277",
         "fare": 31,
         "cabin": "A31",
         "C": 1,
         "Q": 0,
         "S": 0,
         "_deepnote_index_column": 31
        },
        {
         "pclass": 1,
         "survived": 1,
         "name": "Bonnell, Miss. Caroline",
         "sex": 0,
         "age": 30,
         "sibsp": 0,
         "parch": 0,
         "ticket": "36928",
         "fare": 164.8667,
         "cabin": "C7",
         "C": 0,
         "Q": 0,
         "S": 1,
         "_deepnote_index_column": 32
        },
        {
         "pclass": 1,
         "survived": 1,
         "name": "Bonnell, Miss. Elizabeth",
         "sex": 0,
         "age": 58,
         "sibsp": 0,
         "parch": 0,
         "ticket": "113783",
         "fare": 26.55,
         "cabin": "C103",
         "C": 0,
         "Q": 0,
         "S": 1,
         "_deepnote_index_column": 33
        },
        {
         "pclass": 1,
         "survived": 0,
         "name": "Borebank, Mr. John James",
         "sex": 1,
         "age": 42,
         "sibsp": 0,
         "parch": 0,
         "ticket": "110489",
         "fare": 26.55,
         "cabin": "D22",
         "C": 0,
         "Q": 0,
         "S": 1,
         "_deepnote_index_column": 34
        },
        {
         "pclass": 1,
         "survived": 1,
         "name": "Bowen, Miss. Grace Scott",
         "sex": 0,
         "age": 45,
         "sibsp": 0,
         "parch": 0,
         "ticket": "PC 17608",
         "fare": 262.375,
         "cabin": "nan",
         "C": 1,
         "Q": 0,
         "S": 0,
         "_deepnote_index_column": 35
        },
        {
         "pclass": 1,
         "survived": 1,
         "name": "Bowerman, Miss. Elsie Edith",
         "sex": 0,
         "age": 22,
         "sibsp": 0,
         "parch": 1,
         "ticket": "113505",
         "fare": 55,
         "cabin": "E33",
         "C": 0,
         "Q": 0,
         "S": 1,
         "_deepnote_index_column": 36
        },
        {
         "pclass": 1,
         "survived": 1,
         "name": "Bradley, Mr. George (\"George Arthur Brayton\")",
         "sex": 1,
         "age": "nan",
         "sibsp": 0,
         "parch": 0,
         "ticket": "111427",
         "fare": 26.55,
         "cabin": "nan",
         "C": 0,
         "Q": 0,
         "S": 1,
         "_deepnote_index_column": 37
        }
       ],
       "rows_bottom": [
        {
         "pclass": 3,
         "survived": 0,
         "name": "Vanden Steen, Mr. Leo Peter",
         "sex": 1,
         "age": 28,
         "sibsp": 0,
         "parch": 0,
         "ticket": "345783",
         "fare": 9.5,
         "cabin": "nan",
         "C": 0,
         "Q": 0,
         "S": 1,
         "_deepnote_index_column": 1271
        },
        {
         "pclass": 3,
         "survived": 0,
         "name": "Vander Cruyssen, Mr. Victor",
         "sex": 1,
         "age": 47,
         "sibsp": 0,
         "parch": 0,
         "ticket": "345765",
         "fare": 9,
         "cabin": "nan",
         "C": 0,
         "Q": 0,
         "S": 1,
         "_deepnote_index_column": 1272
        },
        {
         "pclass": 3,
         "survived": 0,
         "name": "Vander Planke, Miss. Augusta Maria",
         "sex": 0,
         "age": 18,
         "sibsp": 2,
         "parch": 0,
         "ticket": "345764",
         "fare": 18,
         "cabin": "nan",
         "C": 0,
         "Q": 0,
         "S": 1,
         "_deepnote_index_column": 1273
        },
        {
         "pclass": 3,
         "survived": 0,
         "name": "Vander Planke, Mr. Julius",
         "sex": 1,
         "age": 31,
         "sibsp": 3,
         "parch": 0,
         "ticket": "345763",
         "fare": 18,
         "cabin": "nan",
         "C": 0,
         "Q": 0,
         "S": 1,
         "_deepnote_index_column": 1274
        },
        {
         "pclass": 3,
         "survived": 0,
         "name": "Vander Planke, Mr. Leo Edmondus",
         "sex": 1,
         "age": 16,
         "sibsp": 2,
         "parch": 0,
         "ticket": "345764",
         "fare": 18,
         "cabin": "nan",
         "C": 0,
         "Q": 0,
         "S": 1,
         "_deepnote_index_column": 1275
        },
        {
         "pclass": 3,
         "survived": 0,
         "name": "Vander Planke, Mrs. Julius (Emelia Maria Vandemoortele)",
         "sex": 0,
         "age": 31,
         "sibsp": 1,
         "parch": 0,
         "ticket": "345763",
         "fare": 18,
         "cabin": "nan",
         "C": 0,
         "Q": 0,
         "S": 1,
         "_deepnote_index_column": 1276
        },
        {
         "pclass": 3,
         "survived": 1,
         "name": "Vartanian, Mr. David",
         "sex": 1,
         "age": 22,
         "sibsp": 0,
         "parch": 0,
         "ticket": "2658",
         "fare": 7.225,
         "cabin": "nan",
         "C": 1,
         "Q": 0,
         "S": 0,
         "_deepnote_index_column": 1277
        },
        {
         "pclass": 3,
         "survived": 0,
         "name": "Vendel, Mr. Olof Edvin",
         "sex": 1,
         "age": 20,
         "sibsp": 0,
         "parch": 0,
         "ticket": "350416",
         "fare": 7.8542,
         "cabin": "nan",
         "C": 0,
         "Q": 0,
         "S": 1,
         "_deepnote_index_column": 1278
        },
        {
         "pclass": 3,
         "survived": 0,
         "name": "Vestrom, Miss. Hulda Amanda Adolfina",
         "sex": 0,
         "age": 14,
         "sibsp": 0,
         "parch": 0,
         "ticket": "350406",
         "fare": 7.8542,
         "cabin": "nan",
         "C": 0,
         "Q": 0,
         "S": 1,
         "_deepnote_index_column": 1279
        },
        {
         "pclass": 3,
         "survived": 0,
         "name": "Vovk, Mr. Janko",
         "sex": 1,
         "age": 22,
         "sibsp": 0,
         "parch": 0,
         "ticket": "349252",
         "fare": 7.8958,
         "cabin": "nan",
         "C": 0,
         "Q": 0,
         "S": 1,
         "_deepnote_index_column": 1280
        },
        {
         "pclass": 3,
         "survived": 0,
         "name": "Waelens, Mr. Achille",
         "sex": 1,
         "age": 22,
         "sibsp": 0,
         "parch": 0,
         "ticket": "345767",
         "fare": 9,
         "cabin": "nan",
         "C": 0,
         "Q": 0,
         "S": 1,
         "_deepnote_index_column": 1281
        },
        {
         "pclass": 3,
         "survived": 0,
         "name": "Ware, Mr. Frederick",
         "sex": 1,
         "age": "nan",
         "sibsp": 0,
         "parch": 0,
         "ticket": "359309",
         "fare": 8.05,
         "cabin": "nan",
         "C": 0,
         "Q": 0,
         "S": 1,
         "_deepnote_index_column": 1282
        },
        {
         "pclass": 3,
         "survived": 0,
         "name": "Warren, Mr. Charles William",
         "sex": 1,
         "age": "nan",
         "sibsp": 0,
         "parch": 0,
         "ticket": "C.A. 49867",
         "fare": 7.55,
         "cabin": "nan",
         "C": 0,
         "Q": 0,
         "S": 1,
         "_deepnote_index_column": 1283
        },
        {
         "pclass": 3,
         "survived": 0,
         "name": "Webber, Mr. James",
         "sex": 1,
         "age": "nan",
         "sibsp": 0,
         "parch": 0,
         "ticket": "SOTON/OQ 3101316",
         "fare": 8.05,
         "cabin": "nan",
         "C": 0,
         "Q": 0,
         "S": 1,
         "_deepnote_index_column": 1284
        },
        {
         "pclass": 3,
         "survived": 0,
         "name": "Wenzel, Mr. Linhart",
         "sex": 1,
         "age": 32.5,
         "sibsp": 0,
         "parch": 0,
         "ticket": "345775",
         "fare": 9.5,
         "cabin": "nan",
         "C": 0,
         "Q": 0,
         "S": 1,
         "_deepnote_index_column": 1285
        },
        {
         "pclass": 3,
         "survived": 1,
         "name": "Whabee, Mrs. George Joseph (Shawneene Abi-Saab)",
         "sex": 0,
         "age": 38,
         "sibsp": 0,
         "parch": 0,
         "ticket": "2688",
         "fare": 7.2292,
         "cabin": "nan",
         "C": 1,
         "Q": 0,
         "S": 0,
         "_deepnote_index_column": 1286
        },
        {
         "pclass": 3,
         "survived": 0,
         "name": "Widegren, Mr. Carl/Charles Peter",
         "sex": 1,
         "age": 51,
         "sibsp": 0,
         "parch": 0,
         "ticket": "347064",
         "fare": 7.75,
         "cabin": "nan",
         "C": 0,
         "Q": 0,
         "S": 1,
         "_deepnote_index_column": 1287
        },
        {
         "pclass": 3,
         "survived": 0,
         "name": "Wiklund, Mr. Jakob Alfred",
         "sex": 1,
         "age": 18,
         "sibsp": 1,
         "parch": 0,
         "ticket": "3101267",
         "fare": 6.4958,
         "cabin": "nan",
         "C": 0,
         "Q": 0,
         "S": 1,
         "_deepnote_index_column": 1288
        },
        {
         "pclass": 3,
         "survived": 0,
         "name": "Wiklund, Mr. Karl Johan",
         "sex": 1,
         "age": 21,
         "sibsp": 1,
         "parch": 0,
         "ticket": "3101266",
         "fare": 6.4958,
         "cabin": "nan",
         "C": 0,
         "Q": 0,
         "S": 1,
         "_deepnote_index_column": 1289
        },
        {
         "pclass": 3,
         "survived": 1,
         "name": "Wilkes, Mrs. James (Ellen Needs)",
         "sex": 0,
         "age": 47,
         "sibsp": 1,
         "parch": 0,
         "ticket": "363272",
         "fare": 7,
         "cabin": "nan",
         "C": 0,
         "Q": 0,
         "S": 1,
         "_deepnote_index_column": 1290
        },
        {
         "pclass": 3,
         "survived": 0,
         "name": "Willer, Mr. Aaron (\"Abi Weller\")",
         "sex": 1,
         "age": "nan",
         "sibsp": 0,
         "parch": 0,
         "ticket": "3410",
         "fare": 8.7125,
         "cabin": "nan",
         "C": 0,
         "Q": 0,
         "S": 1,
         "_deepnote_index_column": 1291
        },
        {
         "pclass": 3,
         "survived": 0,
         "name": "Willey, Mr. Edward",
         "sex": 1,
         "age": "nan",
         "sibsp": 0,
         "parch": 0,
         "ticket": "S.O./P.P. 751",
         "fare": 7.55,
         "cabin": "nan",
         "C": 0,
         "Q": 0,
         "S": 1,
         "_deepnote_index_column": 1292
        },
        {
         "pclass": 3,
         "survived": 0,
         "name": "Williams, Mr. Howard Hugh \"Harry\"",
         "sex": 1,
         "age": "nan",
         "sibsp": 0,
         "parch": 0,
         "ticket": "A/5 2466",
         "fare": 8.05,
         "cabin": "nan",
         "C": 0,
         "Q": 0,
         "S": 1,
         "_deepnote_index_column": 1293
        },
        {
         "pclass": 3,
         "survived": 0,
         "name": "Williams, Mr. Leslie",
         "sex": 1,
         "age": 28.5,
         "sibsp": 0,
         "parch": 0,
         "ticket": "54636",
         "fare": 16.1,
         "cabin": "nan",
         "C": 0,
         "Q": 0,
         "S": 1,
         "_deepnote_index_column": 1294
        },
        {
         "pclass": 3,
         "survived": 0,
         "name": "Windelov, Mr. Einar",
         "sex": 1,
         "age": 21,
         "sibsp": 0,
         "parch": 0,
         "ticket": "SOTON/OQ 3101317",
         "fare": 7.25,
         "cabin": "nan",
         "C": 0,
         "Q": 0,
         "S": 1,
         "_deepnote_index_column": 1295
        },
        {
         "pclass": 3,
         "survived": 0,
         "name": "Wirz, Mr. Albert",
         "sex": 1,
         "age": 27,
         "sibsp": 0,
         "parch": 0,
         "ticket": "315154",
         "fare": 8.6625,
         "cabin": "nan",
         "C": 0,
         "Q": 0,
         "S": 1,
         "_deepnote_index_column": 1296
        },
        {
         "pclass": 3,
         "survived": 0,
         "name": "Wiseman, Mr. Phillippe",
         "sex": 1,
         "age": "nan",
         "sibsp": 0,
         "parch": 0,
         "ticket": "A/4. 34244",
         "fare": 7.25,
         "cabin": "nan",
         "C": 0,
         "Q": 0,
         "S": 1,
         "_deepnote_index_column": 1297
        },
        {
         "pclass": 3,
         "survived": 0,
         "name": "Wittevrongel, Mr. Camille",
         "sex": 1,
         "age": 36,
         "sibsp": 0,
         "parch": 0,
         "ticket": "345771",
         "fare": 9.5,
         "cabin": "nan",
         "C": 0,
         "Q": 0,
         "S": 1,
         "_deepnote_index_column": 1298
        },
        {
         "pclass": 3,
         "survived": 0,
         "name": "Yasbeck, Mr. Antoni",
         "sex": 1,
         "age": 27,
         "sibsp": 1,
         "parch": 0,
         "ticket": "2659",
         "fare": 14.4542,
         "cabin": "nan",
         "C": 1,
         "Q": 0,
         "S": 0,
         "_deepnote_index_column": 1299
        },
        {
         "pclass": 3,
         "survived": 1,
         "name": "Yasbeck, Mrs. Antoni (Selini Alexander)",
         "sex": 0,
         "age": 15,
         "sibsp": 1,
         "parch": 0,
         "ticket": "2659",
         "fare": 14.4542,
         "cabin": "nan",
         "C": 1,
         "Q": 0,
         "S": 0,
         "_deepnote_index_column": 1300
        },
        {
         "pclass": 3,
         "survived": 0,
         "name": "Youseff, Mr. Gerious",
         "sex": 1,
         "age": 45.5,
         "sibsp": 0,
         "parch": 0,
         "ticket": "2628",
         "fare": 7.225,
         "cabin": "nan",
         "C": 1,
         "Q": 0,
         "S": 0,
         "_deepnote_index_column": 1301
        },
        {
         "pclass": 3,
         "survived": 0,
         "name": "Yousif, Mr. Wazli",
         "sex": 1,
         "age": "nan",
         "sibsp": 0,
         "parch": 0,
         "ticket": "2647",
         "fare": 7.225,
         "cabin": "nan",
         "C": 1,
         "Q": 0,
         "S": 0,
         "_deepnote_index_column": 1302
        },
        {
         "pclass": 3,
         "survived": 0,
         "name": "Yousseff, Mr. Gerious",
         "sex": 1,
         "age": "nan",
         "sibsp": 0,
         "parch": 0,
         "ticket": "2627",
         "fare": 14.4583,
         "cabin": "nan",
         "C": 1,
         "Q": 0,
         "S": 0,
         "_deepnote_index_column": 1303
        },
        {
         "pclass": 3,
         "survived": 0,
         "name": "Zabour, Miss. Hileni",
         "sex": 0,
         "age": 14.5,
         "sibsp": 1,
         "parch": 0,
         "ticket": "2665",
         "fare": 14.4542,
         "cabin": "nan",
         "C": 1,
         "Q": 0,
         "S": 0,
         "_deepnote_index_column": 1304
        },
        {
         "pclass": 3,
         "survived": 0,
         "name": "Zabour, Miss. Thamine",
         "sex": 0,
         "age": "nan",
         "sibsp": 1,
         "parch": 0,
         "ticket": "2665",
         "fare": 14.4542,
         "cabin": "nan",
         "C": 1,
         "Q": 0,
         "S": 0,
         "_deepnote_index_column": 1305
        },
        {
         "pclass": 3,
         "survived": 0,
         "name": "Zakarian, Mr. Mapriededer",
         "sex": 1,
         "age": 26.5,
         "sibsp": 0,
         "parch": 0,
         "ticket": "2656",
         "fare": 7.225,
         "cabin": "nan",
         "C": 1,
         "Q": 0,
         "S": 0,
         "_deepnote_index_column": 1306
        },
        {
         "pclass": 3,
         "survived": 0,
         "name": "Zakarian, Mr. Ortin",
         "sex": 1,
         "age": 27,
         "sibsp": 0,
         "parch": 0,
         "ticket": "2670",
         "fare": 7.225,
         "cabin": "nan",
         "C": 1,
         "Q": 0,
         "S": 0,
         "_deepnote_index_column": 1307
        },
        {
         "pclass": 3,
         "survived": 0,
         "name": "Zimmerman, Mr. Leo",
         "sex": 1,
         "age": 29,
         "sibsp": 0,
         "parch": 0,
         "ticket": "315082",
         "fare": 7.875,
         "cabin": "nan",
         "C": 0,
         "Q": 0,
         "S": 1,
         "_deepnote_index_column": 1308
        }
       ]
      },
      "text/plain": "      pclass  survived                                             name  sex  \\\n0          1         1                    Allen, Miss. Elisabeth Walton    0   \n1          1         1                   Allison, Master. Hudson Trevor    1   \n2          1         0                     Allison, Miss. Helen Loraine    0   \n3          1         0             Allison, Mr. Hudson Joshua Creighton    1   \n4          1         0  Allison, Mrs. Hudson J C (Bessie Waldo Daniels)    0   \n...      ...       ...                                              ...  ...   \n1304       3         0                             Zabour, Miss. Hileni    0   \n1305       3         0                            Zabour, Miss. Thamine    0   \n1306       3         0                        Zakarian, Mr. Mapriededer    1   \n1307       3         0                              Zakarian, Mr. Ortin    1   \n1308       3         0                               Zimmerman, Mr. Leo    1   \n\n          age  sibsp  parch  ticket      fare    cabin    C    Q    S  \n0     29.0000      0      0   24160  211.3375       B5  0.0  0.0  1.0  \n1      0.9167      1      2  113781  151.5500  C22 C26  0.0  0.0  1.0  \n2      2.0000      1      2  113781  151.5500  C22 C26  0.0  0.0  1.0  \n3     30.0000      1      2  113781  151.5500  C22 C26  0.0  0.0  1.0  \n4     25.0000      1      2  113781  151.5500  C22 C26  0.0  0.0  1.0  \n...       ...    ...    ...     ...       ...      ...  ...  ...  ...  \n1304  14.5000      1      0    2665   14.4542      NaN  1.0  0.0  0.0  \n1305      NaN      1      0    2665   14.4542      NaN  1.0  0.0  0.0  \n1306  26.5000      0      0    2656    7.2250      NaN  1.0  0.0  0.0  \n1307  27.0000      0      0    2670    7.2250      NaN  1.0  0.0  0.0  \n1308  29.0000      0      0  315082    7.8750      NaN  0.0  0.0  1.0  \n\n[1307 rows x 13 columns]",
      "text/html": "<div>\n<style scoped>\n    .dataframe tbody tr th:only-of-type {\n        vertical-align: middle;\n    }\n\n    .dataframe tbody tr th {\n        vertical-align: top;\n    }\n\n    .dataframe thead th {\n        text-align: right;\n    }\n</style>\n<table border=\"1\" class=\"dataframe\">\n  <thead>\n    <tr style=\"text-align: right;\">\n      <th></th>\n      <th>pclass</th>\n      <th>survived</th>\n      <th>name</th>\n      <th>sex</th>\n      <th>age</th>\n      <th>sibsp</th>\n      <th>parch</th>\n      <th>ticket</th>\n      <th>fare</th>\n      <th>cabin</th>\n      <th>C</th>\n      <th>Q</th>\n      <th>S</th>\n    </tr>\n  </thead>\n  <tbody>\n    <tr>\n      <th>0</th>\n      <td>1</td>\n      <td>1</td>\n      <td>Allen, Miss. Elisabeth Walton</td>\n      <td>0</td>\n      <td>29.0000</td>\n      <td>0</td>\n      <td>0</td>\n      <td>24160</td>\n      <td>211.3375</td>\n      <td>B5</td>\n      <td>0.0</td>\n      <td>0.0</td>\n      <td>1.0</td>\n    </tr>\n    <tr>\n      <th>1</th>\n      <td>1</td>\n      <td>1</td>\n      <td>Allison, Master. Hudson Trevor</td>\n      <td>1</td>\n      <td>0.9167</td>\n      <td>1</td>\n      <td>2</td>\n      <td>113781</td>\n      <td>151.5500</td>\n      <td>C22 C26</td>\n      <td>0.0</td>\n      <td>0.0</td>\n      <td>1.0</td>\n    </tr>\n    <tr>\n      <th>2</th>\n      <td>1</td>\n      <td>0</td>\n      <td>Allison, Miss. Helen Loraine</td>\n      <td>0</td>\n      <td>2.0000</td>\n      <td>1</td>\n      <td>2</td>\n      <td>113781</td>\n      <td>151.5500</td>\n      <td>C22 C26</td>\n      <td>0.0</td>\n      <td>0.0</td>\n      <td>1.0</td>\n    </tr>\n    <tr>\n      <th>3</th>\n      <td>1</td>\n      <td>0</td>\n      <td>Allison, Mr. Hudson Joshua Creighton</td>\n      <td>1</td>\n      <td>30.0000</td>\n      <td>1</td>\n      <td>2</td>\n      <td>113781</td>\n      <td>151.5500</td>\n      <td>C22 C26</td>\n      <td>0.0</td>\n      <td>0.0</td>\n      <td>1.0</td>\n    </tr>\n    <tr>\n      <th>4</th>\n      <td>1</td>\n      <td>0</td>\n      <td>Allison, Mrs. Hudson J C (Bessie Waldo Daniels)</td>\n      <td>0</td>\n      <td>25.0000</td>\n      <td>1</td>\n      <td>2</td>\n      <td>113781</td>\n      <td>151.5500</td>\n      <td>C22 C26</td>\n      <td>0.0</td>\n      <td>0.0</td>\n      <td>1.0</td>\n    </tr>\n    <tr>\n      <th>...</th>\n      <td>...</td>\n      <td>...</td>\n      <td>...</td>\n      <td>...</td>\n      <td>...</td>\n      <td>...</td>\n      <td>...</td>\n      <td>...</td>\n      <td>...</td>\n      <td>...</td>\n      <td>...</td>\n      <td>...</td>\n      <td>...</td>\n    </tr>\n    <tr>\n      <th>1304</th>\n      <td>3</td>\n      <td>0</td>\n      <td>Zabour, Miss. Hileni</td>\n      <td>0</td>\n      <td>14.5000</td>\n      <td>1</td>\n      <td>0</td>\n      <td>2665</td>\n      <td>14.4542</td>\n      <td>NaN</td>\n      <td>1.0</td>\n      <td>0.0</td>\n      <td>0.0</td>\n    </tr>\n    <tr>\n      <th>1305</th>\n      <td>3</td>\n      <td>0</td>\n      <td>Zabour, Miss. Thamine</td>\n      <td>0</td>\n      <td>NaN</td>\n      <td>1</td>\n      <td>0</td>\n      <td>2665</td>\n      <td>14.4542</td>\n      <td>NaN</td>\n      <td>1.0</td>\n      <td>0.0</td>\n      <td>0.0</td>\n    </tr>\n    <tr>\n      <th>1306</th>\n      <td>3</td>\n      <td>0</td>\n      <td>Zakarian, Mr. Mapriededer</td>\n      <td>1</td>\n      <td>26.5000</td>\n      <td>0</td>\n      <td>0</td>\n      <td>2656</td>\n      <td>7.2250</td>\n      <td>NaN</td>\n      <td>1.0</td>\n      <td>0.0</td>\n      <td>0.0</td>\n    </tr>\n    <tr>\n      <th>1307</th>\n      <td>3</td>\n      <td>0</td>\n      <td>Zakarian, Mr. Ortin</td>\n      <td>1</td>\n      <td>27.0000</td>\n      <td>0</td>\n      <td>0</td>\n      <td>2670</td>\n      <td>7.2250</td>\n      <td>NaN</td>\n      <td>1.0</td>\n      <td>0.0</td>\n      <td>0.0</td>\n    </tr>\n    <tr>\n      <th>1308</th>\n      <td>3</td>\n      <td>0</td>\n      <td>Zimmerman, Mr. Leo</td>\n      <td>1</td>\n      <td>29.0000</td>\n      <td>0</td>\n      <td>0</td>\n      <td>315082</td>\n      <td>7.8750</td>\n      <td>NaN</td>\n      <td>0.0</td>\n      <td>0.0</td>\n      <td>1.0</td>\n    </tr>\n  </tbody>\n</table>\n<p>1307 rows × 13 columns</p>\n</div>"
     },
     "metadata": {}
    }
   ],
   "execution_count": null
  },
  {
   "cell_type": "code",
   "source": "from sklearn.impute import SimpleImputer\n\nsi = SimpleImputer(strategy='mean')\ntemp = si.fit_transform(data[['age']])\ntemp",
   "metadata": {
    "tags": [],
    "cell_id": "00009-11317ddb-cc32-4c25-ae86-f597b7c729b4",
    "deepnote_to_be_reexecuted": false,
    "source_hash": "55ef8d0b",
    "execution_start": 1632733793368,
    "execution_millis": 24,
    "deepnote_cell_type": "code"
   },
   "outputs": [
    {
     "output_type": "execute_result",
     "execution_count": 51,
     "data": {
      "text/plain": "array([[29.    ],\n       [ 0.9167],\n       [ 2.    ],\n       ...,\n       [26.5   ],\n       [27.    ],\n       [29.    ]])"
     },
     "metadata": {}
    }
   ],
   "execution_count": null
  },
  {
   "cell_type": "code",
   "source": "data['age'] = temp",
   "metadata": {
    "tags": [],
    "cell_id": "00010-155014ea-9ea8-403f-913b-01bcbc2581e0",
    "deepnote_to_be_reexecuted": false,
    "source_hash": "cdb1787c",
    "execution_start": 1632733794228,
    "execution_millis": 18,
    "deepnote_cell_type": "code"
   },
   "outputs": [
    {
     "name": "stderr",
     "text": "/shared-libs/python3.7/py-core/lib/python3.7/site-packages/ipykernel_launcher.py:1: SettingWithCopyWarning: \nA value is trying to be set on a copy of a slice from a DataFrame.\nTry using .loc[row_indexer,col_indexer] = value instead\n\nSee the caveats in the documentation: https://pandas.pydata.org/pandas-docs/stable/user_guide/indexing.html#returning-a-view-versus-a-copy\n  \"\"\"Entry point for launching an IPython kernel.\n",
     "output_type": "stream"
    }
   ],
   "execution_count": null
  },
  {
   "cell_type": "code",
   "source": "data.info()",
   "metadata": {
    "tags": [],
    "cell_id": "00011-b99f523d-7840-4300-bc5e-8af18f0e2171",
    "deepnote_to_be_reexecuted": false,
    "source_hash": "957547ae",
    "execution_start": 1632733795777,
    "execution_millis": 26,
    "deepnote_cell_type": "code"
   },
   "outputs": [
    {
     "name": "stdout",
     "text": "<class 'pandas.core.frame.DataFrame'>\nInt64Index: 1307 entries, 0 to 1308\nData columns (total 13 columns):\n #   Column    Non-Null Count  Dtype  \n---  ------    --------------  -----  \n 0   pclass    1307 non-null   int64  \n 1   survived  1307 non-null   int64  \n 2   name      1307 non-null   object \n 3   sex       1307 non-null   int64  \n 4   age       1307 non-null   float64\n 5   sibsp     1307 non-null   int64  \n 6   parch     1307 non-null   int64  \n 7   ticket    1307 non-null   object \n 8   fare      1306 non-null   float64\n 9   cabin     293 non-null    object \n 10  C         1307 non-null   float64\n 11  Q         1307 non-null   float64\n 12  S         1307 non-null   float64\ndtypes: float64(5), int64(5), object(3)\nmemory usage: 143.0+ KB\n",
     "output_type": "stream"
    }
   ],
   "execution_count": null
  },
  {
   "cell_type": "code",
   "source": "import seaborn as sns\n\nplt.figure(figsize=(20,20))\nsns.heatmap(data.corr(), annot=True)",
   "metadata": {
    "tags": [],
    "cell_id": "00004-ac55ef77-b982-444c-8961-dfa209bc4bf7",
    "deepnote_to_be_reexecuted": false,
    "source_hash": "7981e3f6",
    "execution_start": 1632733797235,
    "execution_millis": 1973,
    "deepnote_cell_type": "code"
   },
   "outputs": [
    {
     "output_type": "execute_result",
     "execution_count": 54,
     "data": {
      "text/plain": "<AxesSubplot:>"
     },
     "metadata": {}
    },
    {
     "data": {
      "text/plain": "<Figure size 1440x1440 with 2 Axes>",
      "image/png": "[encoded data removed]"
     },
     "metadata": {
      "needs_background": "light",
      "image/png": {
       "width": 1065,
       "height": 1122
      }
     },
     "output_type": "display_data"
    }
   ],
   "execution_count": null
  },
  {
   "cell_type": "code",
   "source": "data_temp = data.dropna(subset=['cabin'], inplace=False)\ndata_temp",
   "metadata": {
    "tags": [],
    "cell_id": "00010-33eafe71-d4a8-4b12-bc49-1cae799223a1",
    "deepnote_to_be_reexecuted": false,
    "source_hash": "e3b5d28",
    "execution_start": 1632733425121,
    "execution_millis": 65,
    "deepnote_cell_type": "code"
   },
   "outputs": [
    {
     "output_type": "execute_result",
     "execution_count": 35,
     "data": {
      "application/vnd.deepnote.dataframe.v2+json": {
       "row_count": 293,
       "column_count": 13,
       "columns": [
        {
         "name": "pclass",
         "dtype": "int64",
         "stats": {
          "unique_count": 3,
          "nan_count": 0,
          "min": "1",
          "max": "3",
          "histogram": [
           {
            "bin_start": 1,
            "bin_end": 1.2,
            "count": 254
           },
           {
            "bin_start": 1.2,
            "bin_end": 1.4,
            "count": 0
           },
           {
            "bin_start": 1.4,
            "bin_end": 1.6,
            "count": 0
           },
           {
            "bin_start": 1.6,
            "bin_end": 1.8,
            "count": 0
           },
           {
            "bin_start": 1.8,
            "bin_end": 2,
            "count": 0
           },
           {
            "bin_start": 2,
            "bin_end": 2.2,
            "count": 23
           },
           {
            "bin_start": 2.2,
            "bin_end": 2.4000000000000004,
            "count": 0
           },
           {
            "bin_start": 2.4000000000000004,
            "bin_end": 2.6,
            "count": 0
           },
           {
            "bin_start": 2.6,
            "bin_end": 2.8,
            "count": 0
           },
           {
            "bin_start": 2.8,
            "bin_end": 3,
            "count": 16
           }
          ]
         }
        },
        {
         "name": "survived",
         "dtype": "int64",
         "stats": {
          "unique_count": 2,
          "nan_count": 0,
          "min": "0",
          "max": "1",
          "histogram": [
           {
            "bin_start": 0,
            "bin_end": 0.1,
            "count": 102
           },
           {
            "bin_start": 0.1,
            "bin_end": 0.2,
            "count": 0
           },
           {
            "bin_start": 0.2,
            "bin_end": 0.30000000000000004,
            "count": 0
           },
           {
            "bin_start": 0.30000000000000004,
            "bin_end": 0.4,
            "count": 0
           },
           {
            "bin_start": 0.4,
            "bin_end": 0.5,
            "count": 0
           },
           {
            "bin_start": 0.5,
            "bin_end": 0.6000000000000001,
            "count": 0
           },
           {
            "bin_start": 0.6000000000000001,
            "bin_end": 0.7000000000000001,
            "count": 0
           },
           {
            "bin_start": 0.7000000000000001,
            "bin_end": 0.8,
            "count": 0
           },
           {
            "bin_start": 0.8,
            "bin_end": 0.9,
            "count": 0
           },
           {
            "bin_start": 0.9,
            "bin_end": 1,
            "count": 191
           }
          ]
         }
        },
        {
         "name": "name",
         "dtype": "object",
         "stats": {
          "unique_count": 293,
          "nan_count": 0,
          "categories": [
           {
            "name": "Allen, Miss. Elisabeth Walton",
            "count": 1
           },
           {
            "name": "Allison, Master. Hudson Trevor",
            "count": 1
           },
           {
            "name": "291 others",
            "count": 291
           }
          ]
         }
        },
        {
         "name": "sex",
         "dtype": "int64",
         "stats": {
          "unique_count": 2,
          "nan_count": 0,
          "min": "0",
          "max": "1",
          "histogram": [
           {
            "bin_start": 0,
            "bin_end": 0.1,
            "count": 139
           },
           {
            "bin_start": 0.1,
            "bin_end": 0.2,
            "count": 0
           },
           {
            "bin_start": 0.2,
            "bin_end": 0.30000000000000004,
            "count": 0
           },
           {
            "bin_start": 0.30000000000000004,
            "bin_end": 0.4,
            "count": 0
           },
           {
            "bin_start": 0.4,
            "bin_end": 0.5,
            "count": 0
           },
           {
            "bin_start": 0.5,
            "bin_end": 0.6000000000000001,
            "count": 0
           },
           {
            "bin_start": 0.6000000000000001,
            "bin_end": 0.7000000000000001,
            "count": 0
           },
           {
            "bin_start": 0.7000000000000001,
            "bin_end": 0.8,
            "count": 0
           },
           {
            "bin_start": 0.8,
            "bin_end": 0.9,
            "count": 0
           },
           {
            "bin_start": 0.9,
            "bin_end": 1,
            "count": 154
           }
          ]
         }
        },
        {
         "name": "age",
         "dtype": "float64",
         "stats": {
          "unique_count": 71,
          "nan_count": 23,
          "min": "0.9167",
          "max": "80.0",
          "histogram": [
           {
            "bin_start": 0.9167,
            "bin_end": 8.82503,
            "count": 12
           },
           {
            "bin_start": 8.82503,
            "bin_end": 16.733359999999998,
            "count": 8
           },
           {
            "bin_start": 16.733359999999998,
            "bin_end": 24.641689999999997,
            "count": 43
           },
           {
            "bin_start": 24.641689999999997,
            "bin_end": 32.550019999999996,
            "count": 48
           },
           {
            "bin_start": 32.550019999999996,
            "bin_end": 40.458349999999996,
            "count": 52
           },
           {
            "bin_start": 40.458349999999996,
            "bin_end": 48.366679999999995,
            "count": 41
           },
           {
            "bin_start": 48.366679999999995,
            "bin_end": 56.275009999999995,
            "count": 36
           },
           {
            "bin_start": 56.275009999999995,
            "bin_end": 64.18334,
            "count": 23
           },
           {
            "bin_start": 64.18334,
            "bin_end": 72.09167000000001,
            "count": 5
           },
           {
            "bin_start": 72.09167000000001,
            "bin_end": 80,
            "count": 2
           }
          ]
         }
        },
        {
         "name": "sibsp",
         "dtype": "int64",
         "stats": {
          "unique_count": 4,
          "nan_count": 0,
          "min": "0",
          "max": "3",
          "histogram": [
           {
            "bin_start": 0,
            "bin_end": 0.3,
            "count": 169
           },
           {
            "bin_start": 0.3,
            "bin_end": 0.6,
            "count": 0
           },
           {
            "bin_start": 0.6,
            "bin_end": 0.8999999999999999,
            "count": 0
           },
           {
            "bin_start": 0.8999999999999999,
            "bin_end": 1.2,
            "count": 110
           },
           {
            "bin_start": 1.2,
            "bin_end": 1.5,
            "count": 0
           },
           {
            "bin_start": 1.5,
            "bin_end": 1.7999999999999998,
            "count": 0
           },
           {
            "bin_start": 1.7999999999999998,
            "bin_end": 2.1,
            "count": 10
           },
           {
            "bin_start": 2.1,
            "bin_end": 2.4,
            "count": 0
           },
           {
            "bin_start": 2.4,
            "bin_end": 2.6999999999999997,
            "count": 0
           },
           {
            "bin_start": 2.6999999999999997,
            "bin_end": 3,
            "count": 4
           }
          ]
         }
        },
        {
         "name": "parch",
         "dtype": "int64",
         "stats": {
          "unique_count": 5,
          "nan_count": 0,
          "min": "0",
          "max": "4",
          "histogram": [
           {
            "bin_start": 0,
            "bin_end": 0.4,
            "count": 203
           },
           {
            "bin_start": 0.4,
            "bin_end": 0.8,
            "count": 0
           },
           {
            "bin_start": 0.8,
            "bin_end": 1.2000000000000002,
            "count": 56
           },
           {
            "bin_start": 1.2000000000000002,
            "bin_end": 1.6,
            "count": 0
           },
           {
            "bin_start": 1.6,
            "bin_end": 2,
            "count": 0
           },
           {
            "bin_start": 2,
            "bin_end": 2.4000000000000004,
            "count": 29
           },
           {
            "bin_start": 2.4000000000000004,
            "bin_end": 2.8000000000000003,
            "count": 0
           },
           {
            "bin_start": 2.8000000000000003,
            "bin_end": 3.2,
            "count": 3
           },
           {
            "bin_start": 3.2,
            "bin_end": 3.6,
            "count": 0
           },
           {
            "bin_start": 3.6,
            "bin_end": 4,
            "count": 2
           }
          ]
         }
        },
        {
         "name": "ticket",
         "dtype": "object",
         "stats": {
          "unique_count": 173,
          "nan_count": 0,
          "categories": [
           {
            "name": "PC 17608",
            "count": 6
           },
           {
            "name": "19950",
            "count": 6
           },
           {
            "name": "171 others",
            "count": 281
           }
          ]
         }
        },
        {
         "name": "fare",
         "dtype": "float64",
         "stats": {
          "unique_count": 111,
          "nan_count": 0,
          "min": "0.0",
          "max": "512.3292",
          "histogram": [
           {
            "bin_start": 0,
            "bin_end": 51.23292,
            "count": 115
           },
           {
            "bin_start": 51.23292,
            "bin_end": 102.46584,
            "count": 108
           },
           {
            "bin_start": 102.46584,
            "bin_end": 153.69876,
            "count": 35
           },
           {
            "bin_start": 153.69876,
            "bin_end": 204.93168,
            "count": 2
           },
           {
            "bin_start": 204.93168,
            "bin_end": 256.1646,
            "count": 18
           },
           {
            "bin_start": 256.1646,
            "bin_end": 307.39752,
            "count": 12
           },
           {
            "bin_start": 307.39752,
            "bin_end": 358.63044,
            "count": 0
           },
           {
            "bin_start": 358.63044,
            "bin_end": 409.86336,
            "count": 0
           },
           {
            "bin_start": 409.86336,
            "bin_end": 461.09628,
            "count": 0
           },
           {
            "bin_start": 461.09628,
            "bin_end": 512.3292,
            "count": 3
           }
          ]
         }
        },
        {
         "name": "cabin",
         "dtype": "object",
         "stats": {
          "unique_count": 185,
          "nan_count": 0,
          "categories": [
           {
            "name": "C23 C25 C27",
            "count": 6
           },
           {
            "name": "B57 B59 B63 B66",
            "count": 5
           },
           {
            "name": "183 others",
            "count": 282
           }
          ]
         }
        },
        {
         "name": "C",
         "dtype": "float64",
         "stats": {
          "unique_count": 2,
          "nan_count": 0,
          "min": "0.0",
          "max": "1.0",
          "histogram": [
           {
            "bin_start": 0,
            "bin_end": 0.1,
            "count": 175
           },
           {
            "bin_start": 0.1,
            "bin_end": 0.2,
            "count": 0
           },
           {
            "bin_start": 0.2,
            "bin_end": 0.30000000000000004,
            "count": 0
           },
           {
            "bin_start": 0.30000000000000004,
            "bin_end": 0.4,
            "count": 0
           },
           {
            "bin_start": 0.4,
            "bin_end": 0.5,
            "count": 0
           },
           {
            "bin_start": 0.5,
            "bin_end": 0.6000000000000001,
            "count": 0
           },
           {
            "bin_start": 0.6000000000000001,
            "bin_end": 0.7000000000000001,
            "count": 0
           },
           {
            "bin_start": 0.7000000000000001,
            "bin_end": 0.8,
            "count": 0
           },
           {
            "bin_start": 0.8,
            "bin_end": 0.9,
            "count": 0
           },
           {
            "bin_start": 0.9,
            "bin_end": 1,
            "count": 118
           }
          ]
         }
        },
        {
         "name": "Q",
         "dtype": "float64",
         "stats": {
          "unique_count": 2,
          "nan_count": 0,
          "min": "0.0",
          "max": "1.0",
          "histogram": [
           {
            "bin_start": 0,
            "bin_end": 0.1,
            "count": 288
           },
           {
            "bin_start": 0.1,
            "bin_end": 0.2,
            "count": 0
           },
           {
            "bin_start": 0.2,
            "bin_end": 0.30000000000000004,
            "count": 0
           },
           {
            "bin_start": 0.30000000000000004,
            "bin_end": 0.4,
            "count": 0
           },
           {
            "bin_start": 0.4,
            "bin_end": 0.5,
            "count": 0
           },
           {
            "bin_start": 0.5,
            "bin_end": 0.6000000000000001,
            "count": 0
           },
           {
            "bin_start": 0.6000000000000001,
            "bin_end": 0.7000000000000001,
            "count": 0
           },
           {
            "bin_start": 0.7000000000000001,
            "bin_end": 0.8,
            "count": 0
           },
           {
            "bin_start": 0.8,
            "bin_end": 0.9,
            "count": 0
           },
           {
            "bin_start": 0.9,
            "bin_end": 1,
            "count": 5
           }
          ]
         }
        },
        {
         "name": "S",
         "dtype": "float64",
         "stats": {
          "unique_count": 2,
          "nan_count": 0,
          "min": "0.0",
          "max": "1.0",
          "histogram": [
           {
            "bin_start": 0,
            "bin_end": 0.1,
            "count": 123
           },
           {
            "bin_start": 0.1,
            "bin_end": 0.2,
            "count": 0
           },
           {
            "bin_start": 0.2,
            "bin_end": 0.30000000000000004,
            "count": 0
           },
           {
            "bin_start": 0.30000000000000004,
            "bin_end": 0.4,
            "count": 0
           },
           {
            "bin_start": 0.4,
            "bin_end": 0.5,
            "count": 0
           },
           {
            "bin_start": 0.5,
            "bin_end": 0.6000000000000001,
            "count": 0
           },
           {
            "bin_start": 0.6000000000000001,
            "bin_end": 0.7000000000000001,
            "count": 0
           },
           {
            "bin_start": 0.7000000000000001,
            "bin_end": 0.8,
            "count": 0
           },
           {
            "bin_start": 0.8,
            "bin_end": 0.9,
            "count": 0
           },
           {
            "bin_start": 0.9,
            "bin_end": 1,
            "count": 170
           }
          ]
         }
        },
        {
         "name": "_deepnote_index_column",
         "dtype": "int64"
        }
       ],
       "rows_top": [
        {
         "pclass": 1,
         "survived": 1,
         "name": "Allen, Miss. Elisabeth Walton",
         "sex": 0,
         "age": 29,
         "sibsp": 0,
         "parch": 0,
         "ticket": "24160",
         "fare": 211.3375,
         "cabin": "B5",
         "C": 0,
         "Q": 0,
         "S": 1,
         "_deepnote_index_column": 0
        },
        {
         "pclass": 1,
         "survived": 1,
         "name": "Allison, Master. Hudson Trevor",
         "sex": 1,
         "age": 0.9167,
         "sibsp": 1,
         "parch": 2,
         "ticket": "113781",
         "fare": 151.55,
         "cabin": "C22 C26",
         "C": 0,
         "Q": 0,
         "S": 1,
         "_deepnote_index_column": 1
        },
        {
         "pclass": 1,
         "survived": 0,
         "name": "Allison, Miss. Helen Loraine",
         "sex": 0,
         "age": 2,
         "sibsp": 1,
         "parch": 2,
         "ticket": "113781",
         "fare": 151.55,
         "cabin": "C22 C26",
         "C": 0,
         "Q": 0,
         "S": 1,
         "_deepnote_index_column": 2
        },
        {
         "pclass": 1,
         "survived": 0,
         "name": "Allison, Mr. Hudson Joshua Creighton",
         "sex": 1,
         "age": 30,
         "sibsp": 1,
         "parch": 2,
         "ticket": "113781",
         "fare": 151.55,
         "cabin": "C22 C26",
         "C": 0,
         "Q": 0,
         "S": 1,
         "_deepnote_index_column": 3
        },
        {
         "pclass": 1,
         "survived": 0,
         "name": "Allison, Mrs. Hudson J C (Bessie Waldo Daniels)",
         "sex": 0,
         "age": 25,
         "sibsp": 1,
         "parch": 2,
         "ticket": "113781",
         "fare": 151.55,
         "cabin": "C22 C26",
         "C": 0,
         "Q": 0,
         "S": 1,
         "_deepnote_index_column": 4
        },
        {
         "pclass": 1,
         "survived": 1,
         "name": "Anderson, Mr. Harry",
         "sex": 1,
         "age": 48,
         "sibsp": 0,
         "parch": 0,
         "ticket": "19952",
         "fare": 26.55,
         "cabin": "E12",
         "C": 0,
         "Q": 0,
         "S": 1,
         "_deepnote_index_column": 5
        },
        {
         "pclass": 1,
         "survived": 1,
         "name": "Andrews, Miss. Kornelia Theodosia",
         "sex": 0,
         "age": 63,
         "sibsp": 1,
         "parch": 0,
         "ticket": "13502",
         "fare": 77.9583,
         "cabin": "D7",
         "C": 0,
         "Q": 0,
         "S": 1,
         "_deepnote_index_column": 6
        },
        {
         "pclass": 1,
         "survived": 0,
         "name": "Andrews, Mr. Thomas Jr",
         "sex": 1,
         "age": 39,
         "sibsp": 0,
         "parch": 0,
         "ticket": "112050",
         "fare": 0,
         "cabin": "A36",
         "C": 0,
         "Q": 0,
         "S": 1,
         "_deepnote_index_column": 7
        },
        {
         "pclass": 1,
         "survived": 1,
         "name": "Appleton, Mrs. Edward Dale (Charlotte Lamson)",
         "sex": 0,
         "age": 53,
         "sibsp": 2,
         "parch": 0,
         "ticket": "11769",
         "fare": 51.4792,
         "cabin": "C101",
         "C": 0,
         "Q": 0,
         "S": 1,
         "_deepnote_index_column": 8
        },
        {
         "pclass": 1,
         "survived": 0,
         "name": "Astor, Col. John Jacob",
         "sex": 1,
         "age": 47,
         "sibsp": 1,
         "parch": 0,
         "ticket": "PC 17757",
         "fare": 227.525,
         "cabin": "C62 C64",
         "C": 1,
         "Q": 0,
         "S": 0,
         "_deepnote_index_column": 10
        },
        {
         "pclass": 1,
         "survived": 1,
         "name": "Astor, Mrs. John Jacob (Madeleine Talmadge Force)",
         "sex": 0,
         "age": 18,
         "sibsp": 1,
         "parch": 0,
         "ticket": "PC 17757",
         "fare": 227.525,
         "cabin": "C62 C64",
         "C": 1,
         "Q": 0,
         "S": 0,
         "_deepnote_index_column": 11
        },
        {
         "pclass": 1,
         "survived": 1,
         "name": "Aubart, Mme. Leontine Pauline",
         "sex": 0,
         "age": 24,
         "sibsp": 0,
         "parch": 0,
         "ticket": "PC 17477",
         "fare": 69.3,
         "cabin": "B35",
         "C": 1,
         "Q": 0,
         "S": 0,
         "_deepnote_index_column": 12
        },
        {
         "pclass": 1,
         "survived": 1,
         "name": "Barkworth, Mr. Algernon Henry Wilson",
         "sex": 1,
         "age": 80,
         "sibsp": 0,
         "parch": 0,
         "ticket": "27042",
         "fare": 30,
         "cabin": "A23",
         "C": 0,
         "Q": 0,
         "S": 1,
         "_deepnote_index_column": 14
        },
        {
         "pclass": 1,
         "survived": 0,
         "name": "Baxter, Mr. Quigg Edmond",
         "sex": 1,
         "age": 24,
         "sibsp": 0,
         "parch": 1,
         "ticket": "PC 17558",
         "fare": 247.5208,
         "cabin": "B58 B60",
         "C": 1,
         "Q": 0,
         "S": 0,
         "_deepnote_index_column": 16
        },
        {
         "pclass": 1,
         "survived": 1,
         "name": "Baxter, Mrs. James (Helene DeLaudeniere Chaput)",
         "sex": 0,
         "age": 50,
         "sibsp": 0,
         "parch": 1,
         "ticket": "PC 17558",
         "fare": 247.5208,
         "cabin": "B58 B60",
         "C": 1,
         "Q": 0,
         "S": 0,
         "_deepnote_index_column": 17
        },
        {
         "pclass": 1,
         "survived": 1,
         "name": "Bazzani, Miss. Albina",
         "sex": 0,
         "age": 32,
         "sibsp": 0,
         "parch": 0,
         "ticket": "11813",
         "fare": 76.2917,
         "cabin": "D15",
         "C": 1,
         "Q": 0,
         "S": 0,
         "_deepnote_index_column": 18
        },
        {
         "pclass": 1,
         "survived": 0,
         "name": "Beattie, Mr. Thomson",
         "sex": 1,
         "age": 36,
         "sibsp": 0,
         "parch": 0,
         "ticket": "13050",
         "fare": 75.2417,
         "cabin": "C6",
         "C": 1,
         "Q": 0,
         "S": 0,
         "_deepnote_index_column": 19
        },
        {
         "pclass": 1,
         "survived": 1,
         "name": "Beckwith, Mr. Richard Leonard",
         "sex": 1,
         "age": 37,
         "sibsp": 1,
         "parch": 1,
         "ticket": "11751",
         "fare": 52.5542,
         "cabin": "D35",
         "C": 0,
         "Q": 0,
         "S": 1,
         "_deepnote_index_column": 20
        },
        {
         "pclass": 1,
         "survived": 1,
         "name": "Beckwith, Mrs. Richard Leonard (Sallie Monypeny)",
         "sex": 0,
         "age": 47,
         "sibsp": 1,
         "parch": 1,
         "ticket": "11751",
         "fare": 52.5542,
         "cabin": "D35",
         "C": 0,
         "Q": 0,
         "S": 1,
         "_deepnote_index_column": 21
        },
        {
         "pclass": 1,
         "survived": 1,
         "name": "Behr, Mr. Karl Howell",
         "sex": 1,
         "age": 26,
         "sibsp": 0,
         "parch": 0,
         "ticket": "111369",
         "fare": 30,
         "cabin": "C148",
         "C": 1,
         "Q": 0,
         "S": 0,
         "_deepnote_index_column": 22
        },
        {
         "pclass": 1,
         "survived": 1,
         "name": "Bird, Miss. Ellen",
         "sex": 0,
         "age": 29,
         "sibsp": 0,
         "parch": 0,
         "ticket": "PC 17483",
         "fare": 221.7792,
         "cabin": "C97",
         "C": 0,
         "Q": 0,
         "S": 1,
         "_deepnote_index_column": 24
        },
        {
         "pclass": 1,
         "survived": 1,
         "name": "Bishop, Mr. Dickinson H",
         "sex": 1,
         "age": 25,
         "sibsp": 1,
         "parch": 0,
         "ticket": "11967",
         "fare": 91.0792,
         "cabin": "B49",
         "C": 1,
         "Q": 0,
         "S": 0,
         "_deepnote_index_column": 26
        },
        {
         "pclass": 1,
         "survived": 1,
         "name": "Bishop, Mrs. Dickinson H (Helen Walton)",
         "sex": 0,
         "age": 19,
         "sibsp": 1,
         "parch": 0,
         "ticket": "11967",
         "fare": 91.0792,
         "cabin": "B49",
         "C": 1,
         "Q": 0,
         "S": 0,
         "_deepnote_index_column": 27
        },
        {
         "pclass": 1,
         "survived": 1,
         "name": "Bissette, Miss. Amelia",
         "sex": 0,
         "age": 35,
         "sibsp": 0,
         "parch": 0,
         "ticket": "PC 17760",
         "fare": 135.6333,
         "cabin": "C99",
         "C": 0,
         "Q": 0,
         "S": 1,
         "_deepnote_index_column": 28
        },
        {
         "pclass": 1,
         "survived": 1,
         "name": "Bjornstrom-Steffansson, Mr. Mauritz Hakan",
         "sex": 1,
         "age": 28,
         "sibsp": 0,
         "parch": 0,
         "ticket": "110564",
         "fare": 26.55,
         "cabin": "C52",
         "C": 0,
         "Q": 0,
         "S": 1,
         "_deepnote_index_column": 29
        },
        {
         "pclass": 1,
         "survived": 0,
         "name": "Blackwell, Mr. Stephen Weart",
         "sex": 1,
         "age": 45,
         "sibsp": 0,
         "parch": 0,
         "ticket": "113784",
         "fare": 35.5,
         "cabin": "T",
         "C": 0,
         "Q": 0,
         "S": 1,
         "_deepnote_index_column": 30
        },
        {
         "pclass": 1,
         "survived": 1,
         "name": "Blank, Mr. Henry",
         "sex": 1,
         "age": 40,
         "sibsp": 0,
         "parch": 0,
         "ticket": "112277",
         "fare": 31,
         "cabin": "A31",
         "C": 1,
         "Q": 0,
         "S": 0,
         "_deepnote_index_column": 31
        },
        {
         "pclass": 1,
         "survived": 1,
         "name": "Bonnell, Miss. Caroline",
         "sex": 0,
         "age": 30,
         "sibsp": 0,
         "parch": 0,
         "ticket": "36928",
         "fare": 164.8667,
         "cabin": "C7",
         "C": 0,
         "Q": 0,
         "S": 1,
         "_deepnote_index_column": 32
        },
        {
         "pclass": 1,
         "survived": 1,
         "name": "Bonnell, Miss. Elizabeth",
         "sex": 0,
         "age": 58,
         "sibsp": 0,
         "parch": 0,
         "ticket": "113783",
         "fare": 26.55,
         "cabin": "C103",
         "C": 0,
         "Q": 0,
         "S": 1,
         "_deepnote_index_column": 33
        },
        {
         "pclass": 1,
         "survived": 0,
         "name": "Borebank, Mr. John James",
         "sex": 1,
         "age": 42,
         "sibsp": 0,
         "parch": 0,
         "ticket": "110489",
         "fare": 26.55,
         "cabin": "D22",
         "C": 0,
         "Q": 0,
         "S": 1,
         "_deepnote_index_column": 34
        },
        {
         "pclass": 1,
         "survived": 1,
         "name": "Bowerman, Miss. Elsie Edith",
         "sex": 0,
         "age": 22,
         "sibsp": 0,
         "parch": 1,
         "ticket": "113505",
         "fare": 55,
         "cabin": "E33",
         "C": 0,
         "Q": 0,
         "S": 1,
         "_deepnote_index_column": 36
        },
        {
         "pclass": 1,
         "survived": 0,
         "name": "Brady, Mr. John Bertram",
         "sex": 1,
         "age": 41,
         "sibsp": 0,
         "parch": 0,
         "ticket": "113054",
         "fare": 30.5,
         "cabin": "A21",
         "C": 0,
         "Q": 0,
         "S": 1,
         "_deepnote_index_column": 38
        },
        {
         "pclass": 1,
         "survived": 0,
         "name": "Brandeis, Mr. Emil",
         "sex": 1,
         "age": 48,
         "sibsp": 0,
         "parch": 0,
         "ticket": "PC 17591",
         "fare": 50.4958,
         "cabin": "B10",
         "C": 1,
         "Q": 0,
         "S": 0,
         "_deepnote_index_column": 39
        },
        {
         "pclass": 1,
         "survived": 1,
         "name": "Brown, Mrs. James Joseph (Margaret Tobin)",
         "sex": 0,
         "age": 44,
         "sibsp": 0,
         "parch": 0,
         "ticket": "PC 17610",
         "fare": 27.7208,
         "cabin": "B4",
         "C": 1,
         "Q": 0,
         "S": 0,
         "_deepnote_index_column": 41
        },
        {
         "pclass": 1,
         "survived": 1,
         "name": "Brown, Mrs. John Murray (Caroline Lane Lamson)",
         "sex": 0,
         "age": 59,
         "sibsp": 2,
         "parch": 0,
         "ticket": "11769",
         "fare": 51.4792,
         "cabin": "C101",
         "C": 0,
         "Q": 0,
         "S": 1,
         "_deepnote_index_column": 42
        },
        {
         "pclass": 1,
         "survived": 1,
         "name": "Bucknell, Mrs. William Robert (Emma Eliza Ward)",
         "sex": 0,
         "age": 60,
         "sibsp": 0,
         "parch": 0,
         "ticket": "11813",
         "fare": 76.2917,
         "cabin": "D15",
         "C": 1,
         "Q": 0,
         "S": 0,
         "_deepnote_index_column": 43
        },
        {
         "pclass": 1,
         "survived": 1,
         "name": "Burns, Miss. Elizabeth Margaret",
         "sex": 0,
         "age": 41,
         "sibsp": 0,
         "parch": 0,
         "ticket": "16966",
         "fare": 134.5,
         "cabin": "E40",
         "C": 1,
         "Q": 0,
         "S": 0,
         "_deepnote_index_column": 44
        },
        {
         "pclass": 1,
         "survived": 0,
         "name": "Butt, Major. Archibald Willingham",
         "sex": 1,
         "age": 45,
         "sibsp": 0,
         "parch": 0,
         "ticket": "113050",
         "fare": 26.55,
         "cabin": "B38",
         "C": 0,
         "Q": 0,
         "S": 1,
         "_deepnote_index_column": 45
        }
       ],
       "rows_bottom": [
        {
         "pclass": 2,
         "survived": 1,
         "name": "Becker, Master. Richard F",
         "sex": 1,
         "age": 1,
         "sibsp": 2,
         "parch": 1,
         "ticket": "230136",
         "fare": 39,
         "cabin": "F4",
         "C": 0,
         "Q": 0,
         "S": 1,
         "_deepnote_index_column": 339
        },
        {
         "pclass": 2,
         "survived": 1,
         "name": "Becker, Miss. Marion Louise",
         "sex": 0,
         "age": 4,
         "sibsp": 2,
         "parch": 1,
         "ticket": "230136",
         "fare": 39,
         "cabin": "F4",
         "C": 0,
         "Q": 0,
         "S": 1,
         "_deepnote_index_column": 340
        },
        {
         "pclass": 2,
         "survived": 1,
         "name": "Becker, Miss. Ruth Elizabeth",
         "sex": 0,
         "age": 12,
         "sibsp": 2,
         "parch": 1,
         "ticket": "230136",
         "fare": 39,
         "cabin": "F4",
         "C": 0,
         "Q": 0,
         "S": 1,
         "_deepnote_index_column": 341
        },
        {
         "pclass": 2,
         "survived": 1,
         "name": "Becker, Mrs. Allen Oliver (Nellie E Baumgardner)",
         "sex": 0,
         "age": 36,
         "sibsp": 0,
         "parch": 3,
         "ticket": "230136",
         "fare": 39,
         "cabin": "F4",
         "C": 0,
         "Q": 0,
         "S": 1,
         "_deepnote_index_column": 342
        },
        {
         "pclass": 2,
         "survived": 1,
         "name": "Beesley, Mr. Lawrence",
         "sex": 1,
         "age": 34,
         "sibsp": 0,
         "parch": 0,
         "ticket": "248698",
         "fare": 13,
         "cabin": "D56",
         "C": 0,
         "Q": 0,
         "S": 1,
         "_deepnote_index_column": 343
        },
        {
         "pclass": 2,
         "survived": 1,
         "name": "Brown, Miss. Amelia \"Mildred\"",
         "sex": 0,
         "age": 24,
         "sibsp": 0,
         "parch": 0,
         "ticket": "248733",
         "fare": 13,
         "cabin": "F33",
         "C": 0,
         "Q": 0,
         "S": 1,
         "_deepnote_index_column": 349
        },
        {
         "pclass": 2,
         "survived": 1,
         "name": "Cook, Mrs. (Selena Rogers)",
         "sex": 0,
         "age": 22,
         "sibsp": 0,
         "parch": 0,
         "ticket": "W./C. 14266",
         "fare": 10.5,
         "cabin": "F33",
         "C": 0,
         "Q": 0,
         "S": 1,
         "_deepnote_index_column": 380
        },
        {
         "pclass": 2,
         "survived": 1,
         "name": "Jerwan, Mrs. Amin S (Marie Marthe Thuillard)",
         "sex": 0,
         "age": 23,
         "sibsp": 0,
         "parch": 0,
         "ticket": "SC/AH Basle 541",
         "fare": 13.7917,
         "cabin": "D",
         "C": 1,
         "Q": 0,
         "S": 0,
         "_deepnote_index_column": 465
        },
        {
         "pclass": 2,
         "survived": 1,
         "name": "Keane, Miss. Nora A",
         "sex": 0,
         "age": "nan",
         "sibsp": 0,
         "parch": 0,
         "ticket": "226593",
         "fare": 12.35,
         "cabin": "E101",
         "C": 0,
         "Q": 1,
         "S": 0,
         "_deepnote_index_column": 469
        },
        {
         "pclass": 2,
         "survived": 1,
         "name": "Lemore, Mrs. (Amelia Milley)",
         "sex": 0,
         "age": 34,
         "sibsp": 0,
         "parch": 0,
         "ticket": "C.A. 34260",
         "fare": 10.5,
         "cabin": "F33",
         "C": 0,
         "Q": 0,
         "S": 1,
         "_deepnote_index_column": 484
        },
        {
         "pclass": 2,
         "survived": 0,
         "name": "Levy, Mr. Rene Jacques",
         "sex": 1,
         "age": 36,
         "sibsp": 0,
         "parch": 0,
         "ticket": "SC/Paris 2163",
         "fare": 12.875,
         "cabin": "D",
         "C": 1,
         "Q": 0,
         "S": 0,
         "_deepnote_index_column": 485
        },
        {
         "pclass": 2,
         "survived": 0,
         "name": "Mack, Mrs. (Mary)",
         "sex": 0,
         "age": 57,
         "sibsp": 0,
         "parch": 0,
         "ticket": "S.O./P.P. 3",
         "fare": 10.5,
         "cabin": "E77",
         "C": 0,
         "Q": 0,
         "S": 1,
         "_deepnote_index_column": 490
        },
        {
         "pclass": 2,
         "survived": 0,
         "name": "Malachard, Mr. Noel",
         "sex": 1,
         "age": "nan",
         "sibsp": 0,
         "parch": 0,
         "ticket": "237735",
         "fare": 15.0458,
         "cabin": "D",
         "C": 1,
         "Q": 0,
         "S": 0,
         "_deepnote_index_column": 491
        },
        {
         "pclass": 2,
         "survived": 1,
         "name": "Navratil, Master. Edmond Roger",
         "sex": 1,
         "age": 2,
         "sibsp": 1,
         "parch": 1,
         "ticket": "230080",
         "fare": 26,
         "cabin": "F2",
         "C": 0,
         "Q": 0,
         "S": 1,
         "_deepnote_index_column": 514
        },
        {
         "pclass": 2,
         "survived": 1,
         "name": "Navratil, Master. Michel M",
         "sex": 1,
         "age": 3,
         "sibsp": 1,
         "parch": 1,
         "ticket": "230080",
         "fare": 26,
         "cabin": "F2",
         "C": 0,
         "Q": 0,
         "S": 1,
         "_deepnote_index_column": 515
        },
        {
         "pclass": 2,
         "survived": 0,
         "name": "Navratil, Mr. Michel (\"Louis M Hoffman\")",
         "sex": 1,
         "age": 36.5,
         "sibsp": 0,
         "parch": 2,
         "ticket": "230080",
         "fare": 26,
         "cabin": "F2",
         "C": 0,
         "Q": 0,
         "S": 1,
         "_deepnote_index_column": 516
        },
        {
         "pclass": 2,
         "survived": 0,
         "name": "Nesson, Mr. Israel",
         "sex": 1,
         "age": 26,
         "sibsp": 0,
         "parch": 0,
         "ticket": "244368",
         "fare": 13,
         "cabin": "F2",
         "C": 0,
         "Q": 0,
         "S": 1,
         "_deepnote_index_column": 517
        },
        {
         "pclass": 2,
         "survived": 1,
         "name": "Nourney, Mr. Alfred (\"Baron von Drachstedt\")",
         "sex": 1,
         "age": 20,
         "sibsp": 0,
         "parch": 0,
         "ticket": "SC/PARIS 2166",
         "fare": 13.8625,
         "cabin": "D38",
         "C": 1,
         "Q": 0,
         "S": 0,
         "_deepnote_index_column": 520
        },
        {
         "pclass": 2,
         "survived": 1,
         "name": "Nye, Mrs. (Elizabeth Ramell)",
         "sex": 0,
         "age": 29,
         "sibsp": 0,
         "parch": 0,
         "ticket": "C.A. 29395",
         "fare": 10.5,
         "cabin": "F33",
         "C": 0,
         "Q": 0,
         "S": 1,
         "_deepnote_index_column": 521
        },
        {
         "pclass": 2,
         "survived": 0,
         "name": "Swane, Mr. George",
         "sex": 1,
         "age": 18.5,
         "sibsp": 0,
         "parch": 0,
         "ticket": "248734",
         "fare": 13,
         "cabin": "F",
         "C": 0,
         "Q": 0,
         "S": 1,
         "_deepnote_index_column": 568
        },
        {
         "pclass": 2,
         "survived": 1,
         "name": "Troutt, Miss. Edwina Celia \"Winnie\"",
         "sex": 0,
         "age": 27,
         "sibsp": 0,
         "parch": 0,
         "ticket": "34218",
         "fare": 10.5,
         "cabin": "E101",
         "C": 0,
         "Q": 0,
         "S": 1,
         "_deepnote_index_column": 573
        },
        {
         "pclass": 2,
         "survived": 1,
         "name": "Webber, Miss. Susan",
         "sex": 0,
         "age": 32.5,
         "sibsp": 0,
         "parch": 0,
         "ticket": "27267",
         "fare": 13,
         "cabin": "E101",
         "C": 0,
         "Q": 0,
         "S": 1,
         "_deepnote_index_column": 584
        },
        {
         "pclass": 3,
         "survived": 1,
         "name": "Abelseth, Mr. Olaus Jorgensen",
         "sex": 1,
         "age": 25,
         "sibsp": 0,
         "parch": 0,
         "ticket": "348122",
         "fare": 7.65,
         "cabin": "F G63",
         "C": 0,
         "Q": 0,
         "S": 1,
         "_deepnote_index_column": 605
        },
        {
         "pclass": 3,
         "survived": 0,
         "name": "Humblen, Mr. Adolf Mathias Nicolai Olsen",
         "sex": 1,
         "age": 42,
         "sibsp": 0,
         "parch": 0,
         "ticket": "348121",
         "fare": 7.65,
         "cabin": "F G63",
         "C": 0,
         "Q": 0,
         "S": 1,
         "_deepnote_index_column": 873
        },
        {
         "pclass": 3,
         "survived": 1,
         "name": "Krekorian, Mr. Neshan",
         "sex": 1,
         "age": 25,
         "sibsp": 0,
         "parch": 0,
         "ticket": "2654",
         "fare": 7.2292,
         "cabin": "F E57",
         "C": 1,
         "Q": 0,
         "S": 0,
         "_deepnote_index_column": 941
        },
        {
         "pclass": 3,
         "survived": 0,
         "name": "Mardirosian, Mr. Sarkis",
         "sex": 1,
         "age": "nan",
         "sibsp": 0,
         "parch": 0,
         "ticket": "2655",
         "fare": 7.2292,
         "cabin": "F E46",
         "C": 1,
         "Q": 0,
         "S": 0,
         "_deepnote_index_column": 994
        },
        {
         "pclass": 3,
         "survived": 0,
         "name": "Moen, Mr. Sigurd Hansen",
         "sex": 1,
         "age": 25,
         "sibsp": 0,
         "parch": 0,
         "ticket": "348123",
         "fare": 7.65,
         "cabin": "F G73",
         "C": 0,
         "Q": 0,
         "S": 1,
         "_deepnote_index_column": 1024
        },
        {
         "pclass": 3,
         "survived": 1,
         "name": "Moor, Master. Meier",
         "sex": 1,
         "age": 6,
         "sibsp": 0,
         "parch": 1,
         "ticket": "392096",
         "fare": 12.475,
         "cabin": "E121",
         "C": 0,
         "Q": 0,
         "S": 1,
         "_deepnote_index_column": 1025
        },
        {
         "pclass": 3,
         "survived": 1,
         "name": "Moor, Mrs. (Beila)",
         "sex": 0,
         "age": 27,
         "sibsp": 0,
         "parch": 1,
         "ticket": "392096",
         "fare": 12.475,
         "cabin": "E121",
         "C": 0,
         "Q": 0,
         "S": 1,
         "_deepnote_index_column": 1026
        },
        {
         "pclass": 3,
         "survived": 1,
         "name": "Peter, Miss. Anna",
         "sex": 0,
         "age": "nan",
         "sibsp": 1,
         "parch": 1,
         "ticket": "2668",
         "fare": 22.3583,
         "cabin": "F E69",
         "C": 1,
         "Q": 0,
         "S": 0,
         "_deepnote_index_column": 1122
        },
        {
         "pclass": 3,
         "survived": 1,
         "name": "Pickard, Mr. Berk (Berk Trembisky)",
         "sex": 1,
         "age": 32,
         "sibsp": 0,
         "parch": 0,
         "ticket": "SOTON/O.Q. 392078",
         "fare": 8.05,
         "cabin": "E10",
         "C": 0,
         "Q": 0,
         "S": 1,
         "_deepnote_index_column": 1131
        },
        {
         "pclass": 3,
         "survived": 1,
         "name": "Sandstrom, Miss. Beatrice Irene",
         "sex": 0,
         "age": 1,
         "sibsp": 1,
         "parch": 1,
         "ticket": "PP 9549",
         "fare": 16.7,
         "cabin": "G6",
         "C": 0,
         "Q": 0,
         "S": 1,
         "_deepnote_index_column": 1187
        },
        {
         "pclass": 3,
         "survived": 1,
         "name": "Sandstrom, Mrs. Hjalmar (Agnes Charlotta Bengtsson)",
         "sex": 0,
         "age": 24,
         "sibsp": 0,
         "parch": 2,
         "ticket": "PP 9549",
         "fare": 16.7,
         "cabin": "G6",
         "C": 0,
         "Q": 0,
         "S": 1,
         "_deepnote_index_column": 1188
        },
        {
         "pclass": 3,
         "survived": 1,
         "name": "Sandstrom, Miss. Marguerite Rut",
         "sex": 0,
         "age": 4,
         "sibsp": 1,
         "parch": 1,
         "ticket": "PP 9549",
         "fare": 16.7,
         "cabin": "G6",
         "C": 0,
         "Q": 0,
         "S": 1,
         "_deepnote_index_column": 1189
        },
        {
         "pclass": 3,
         "survived": 0,
         "name": "Soholt, Mr. Peter Andreas Lauritz Andersen",
         "sex": 1,
         "age": 19,
         "sibsp": 0,
         "parch": 0,
         "ticket": "348124",
         "fare": 7.65,
         "cabin": "F G73",
         "C": 0,
         "Q": 0,
         "S": 1,
         "_deepnote_index_column": 1217
        },
        {
         "pclass": 3,
         "survived": 0,
         "name": "Strom, Miss. Telma Matilda",
         "sex": 0,
         "age": 2,
         "sibsp": 0,
         "parch": 1,
         "ticket": "347054",
         "fare": 10.4625,
         "cabin": "G6",
         "C": 0,
         "Q": 0,
         "S": 1,
         "_deepnote_index_column": 1230
        },
        {
         "pclass": 3,
         "survived": 0,
         "name": "Strom, Mrs. Wilhelm (Elna Matilda Persson)",
         "sex": 0,
         "age": 29,
         "sibsp": 1,
         "parch": 1,
         "ticket": "347054",
         "fare": 10.4625,
         "cabin": "G6",
         "C": 0,
         "Q": 0,
         "S": 1,
         "_deepnote_index_column": 1231
        },
        {
         "pclass": 3,
         "survived": 0,
         "name": "Tobin, Mr. Roger",
         "sex": 1,
         "age": "nan",
         "sibsp": 0,
         "parch": 0,
         "ticket": "383121",
         "fare": 7.75,
         "cabin": "F38",
         "C": 0,
         "Q": 1,
         "S": 0,
         "_deepnote_index_column": 1249
        }
       ]
      },
      "text/plain": "      pclass  survived                                             name  sex  \\\n0          1         1                    Allen, Miss. Elisabeth Walton    0   \n1          1         1                   Allison, Master. Hudson Trevor    1   \n2          1         0                     Allison, Miss. Helen Loraine    0   \n3          1         0             Allison, Mr. Hudson Joshua Creighton    1   \n4          1         0  Allison, Mrs. Hudson J C (Bessie Waldo Daniels)    0   \n...      ...       ...                                              ...  ...   \n1189       3         1                  Sandstrom, Miss. Marguerite Rut    0   \n1217       3         0       Soholt, Mr. Peter Andreas Lauritz Andersen    1   \n1230       3         0                       Strom, Miss. Telma Matilda    0   \n1231       3         0       Strom, Mrs. Wilhelm (Elna Matilda Persson)    0   \n1249       3         0                                 Tobin, Mr. Roger    1   \n\n          age  sibsp  parch   ticket      fare    cabin    C    Q    S  \n0     29.0000      0      0    24160  211.3375       B5  0.0  0.0  1.0  \n1      0.9167      1      2   113781  151.5500  C22 C26  0.0  0.0  1.0  \n2      2.0000      1      2   113781  151.5500  C22 C26  0.0  0.0  1.0  \n3     30.0000      1      2   113781  151.5500  C22 C26  0.0  0.0  1.0  \n4     25.0000      1      2   113781  151.5500  C22 C26  0.0  0.0  1.0  \n...       ...    ...    ...      ...       ...      ...  ...  ...  ...  \n1189   4.0000      1      1  PP 9549   16.7000       G6  0.0  0.0  1.0  \n1217  19.0000      0      0   348124    7.6500    F G73  0.0  0.0  1.0  \n1230   2.0000      0      1   347054   10.4625       G6  0.0  0.0  1.0  \n1231  29.0000      1      1   347054   10.4625       G6  0.0  0.0  1.0  \n1249      NaN      0      0   383121    7.7500      F38  0.0  1.0  0.0  \n\n[293 rows x 13 columns]",
      "text/html": "<div>\n<style scoped>\n    .dataframe tbody tr th:only-of-type {\n        vertical-align: middle;\n    }\n\n    .dataframe tbody tr th {\n        vertical-align: top;\n    }\n\n    .dataframe thead th {\n        text-align: right;\n    }\n</style>\n<table border=\"1\" class=\"dataframe\">\n  <thead>\n    <tr style=\"text-align: right;\">\n      <th></th>\n      <th>pclass</th>\n      <th>survived</th>\n      <th>name</th>\n      <th>sex</th>\n      <th>age</th>\n      <th>sibsp</th>\n      <th>parch</th>\n      <th>ticket</th>\n      <th>fare</th>\n      <th>cabin</th>\n      <th>C</th>\n      <th>Q</th>\n      <th>S</th>\n    </tr>\n  </thead>\n  <tbody>\n    <tr>\n      <th>0</th>\n      <td>1</td>\n      <td>1</td>\n      <td>Allen, Miss. Elisabeth Walton</td>\n      <td>0</td>\n      <td>29.0000</td>\n      <td>0</td>\n      <td>0</td>\n      <td>24160</td>\n      <td>211.3375</td>\n      <td>B5</td>\n      <td>0.0</td>\n      <td>0.0</td>\n      <td>1.0</td>\n    </tr>\n    <tr>\n      <th>1</th>\n      <td>1</td>\n      <td>1</td>\n      <td>Allison, Master. Hudson Trevor</td>\n      <td>1</td>\n      <td>0.9167</td>\n      <td>1</td>\n      <td>2</td>\n      <td>113781</td>\n      <td>151.5500</td>\n      <td>C22 C26</td>\n      <td>0.0</td>\n      <td>0.0</td>\n      <td>1.0</td>\n    </tr>\n    <tr>\n      <th>2</th>\n      <td>1</td>\n      <td>0</td>\n      <td>Allison, Miss. Helen Loraine</td>\n      <td>0</td>\n      <td>2.0000</td>\n      <td>1</td>\n      <td>2</td>\n      <td>113781</td>\n      <td>151.5500</td>\n      <td>C22 C26</td>\n      <td>0.0</td>\n      <td>0.0</td>\n      <td>1.0</td>\n    </tr>\n    <tr>\n      <th>3</th>\n      <td>1</td>\n      <td>0</td>\n      <td>Allison, Mr. Hudson Joshua Creighton</td>\n      <td>1</td>\n      <td>30.0000</td>\n      <td>1</td>\n      <td>2</td>\n      <td>113781</td>\n      <td>151.5500</td>\n      <td>C22 C26</td>\n      <td>0.0</td>\n      <td>0.0</td>\n      <td>1.0</td>\n    </tr>\n    <tr>\n      <th>4</th>\n      <td>1</td>\n      <td>0</td>\n      <td>Allison, Mrs. Hudson J C (Bessie Waldo Daniels)</td>\n      <td>0</td>\n      <td>25.0000</td>\n      <td>1</td>\n      <td>2</td>\n      <td>113781</td>\n      <td>151.5500</td>\n      <td>C22 C26</td>\n      <td>0.0</td>\n      <td>0.0</td>\n      <td>1.0</td>\n    </tr>\n    <tr>\n      <th>...</th>\n      <td>...</td>\n      <td>...</td>\n      <td>...</td>\n      <td>...</td>\n      <td>...</td>\n      <td>...</td>\n      <td>...</td>\n      <td>...</td>\n      <td>...</td>\n      <td>...</td>\n      <td>...</td>\n      <td>...</td>\n      <td>...</td>\n    </tr>\n    <tr>\n      <th>1189</th>\n      <td>3</td>\n      <td>1</td>\n      <td>Sandstrom, Miss. Marguerite Rut</td>\n      <td>0</td>\n      <td>4.0000</td>\n      <td>1</td>\n      <td>1</td>\n      <td>PP 9549</td>\n      <td>16.7000</td>\n      <td>G6</td>\n      <td>0.0</td>\n      <td>0.0</td>\n      <td>1.0</td>\n    </tr>\n    <tr>\n      <th>1217</th>\n      <td>3</td>\n      <td>0</td>\n      <td>Soholt, Mr. Peter Andreas Lauritz Andersen</td>\n      <td>1</td>\n      <td>19.0000</td>\n      <td>0</td>\n      <td>0</td>\n      <td>348124</td>\n      <td>7.6500</td>\n      <td>F G73</td>\n      <td>0.0</td>\n      <td>0.0</td>\n      <td>1.0</td>\n    </tr>\n    <tr>\n      <th>1230</th>\n      <td>3</td>\n      <td>0</td>\n      <td>Strom, Miss. Telma Matilda</td>\n      <td>0</td>\n      <td>2.0000</td>\n      <td>0</td>\n      <td>1</td>\n      <td>347054</td>\n      <td>10.4625</td>\n      <td>G6</td>\n      <td>0.0</td>\n      <td>0.0</td>\n      <td>1.0</td>\n    </tr>\n    <tr>\n      <th>1231</th>\n      <td>3</td>\n      <td>0</td>\n      <td>Strom, Mrs. Wilhelm (Elna Matilda Persson)</td>\n      <td>0</td>\n      <td>29.0000</td>\n      <td>1</td>\n      <td>1</td>\n      <td>347054</td>\n      <td>10.4625</td>\n      <td>G6</td>\n      <td>0.0</td>\n      <td>0.0</td>\n      <td>1.0</td>\n    </tr>\n    <tr>\n      <th>1249</th>\n      <td>3</td>\n      <td>0</td>\n      <td>Tobin, Mr. Roger</td>\n      <td>1</td>\n      <td>NaN</td>\n      <td>0</td>\n      <td>0</td>\n      <td>383121</td>\n      <td>7.7500</td>\n      <td>F38</td>\n      <td>0.0</td>\n      <td>1.0</td>\n      <td>0.0</td>\n    </tr>\n  </tbody>\n</table>\n<p>293 rows × 13 columns</p>\n</div>"
     },
     "metadata": {}
    }
   ],
   "execution_count": null
  },
  {
   "cell_type": "code",
   "source": "x = data.drop(['survived', 'name', 'ticket', 'cabin'], axis=1).values\ny = data['survived'].values",
   "metadata": {
    "tags": [],
    "cell_id": "00011-791ba4bc-b549-41ca-a6e3-1317b65190e3",
    "deepnote_to_be_reexecuted": false,
    "source_hash": "1a5c18f",
    "execution_start": 1632735182382,
    "execution_millis": 0,
    "deepnote_cell_type": "code"
   },
   "outputs": [],
   "execution_count": null
  },
  {
   "cell_type": "code",
   "source": "from sklearn.model_selection import train_test_split\nfrom sklearn.naive_bayes import GaussianNB",
   "metadata": {
    "tags": [],
    "cell_id": "00014-be432035-0c3d-4ac9-be7a-e0f6a0131bde",
    "deepnote_to_be_reexecuted": false,
    "source_hash": "d35f0517",
    "execution_start": 1632735183470,
    "execution_millis": 13,
    "deepnote_cell_type": "code"
   },
   "outputs": [],
   "execution_count": null
  },
  {
   "cell_type": "code",
   "source": "x_tra, x_tes, y_tra, y_tes = train_test_split(x, y, test_size=0.3, random_state=1)",
   "metadata": {
    "tags": [],
    "cell_id": "00015-10cdb603-c13c-4d31-8b73-c7ba851b30e0",
    "deepnote_to_be_reexecuted": false,
    "source_hash": "29dfbfe",
    "execution_start": 1632735183483,
    "execution_millis": 14,
    "deepnote_cell_type": "code"
   },
   "outputs": [],
   "execution_count": null
  },
  {
   "cell_type": "code",
   "source": "gnb = GaussianNB()\ngnb.fit(x_tra, y_tra)",
   "metadata": {
    "tags": [],
    "cell_id": "00016-ec7f9b1a-7f02-4b89-b73b-0ece0fd2ca16",
    "deepnote_to_be_reexecuted": false,
    "source_hash": "6b97c0cf",
    "execution_start": 1632735186628,
    "execution_millis": 14,
    "deepnote_cell_type": "code"
   },
   "outputs": [
    {
     "output_type": "execute_result",
     "execution_count": 79,
     "data": {
      "text/plain": "GaussianNB()"
     },
     "metadata": {}
    }
   ],
   "execution_count": null
  },
  {
   "cell_type": "code",
   "source": "from sklearn.metrics import f1_score",
   "metadata": {
    "tags": [],
    "cell_id": "00017-abac91e4-9924-4cef-b11c-ff3fc181e62e",
    "deepnote_to_be_reexecuted": false,
    "source_hash": "8b9145dc",
    "execution_start": 1632735188014,
    "execution_millis": 8,
    "deepnote_cell_type": "code"
   },
   "outputs": [],
   "execution_count": null
  },
  {
   "cell_type": "code",
   "source": "from sklearn.metrics import accuracy_score",
   "metadata": {
    "tags": [],
    "cell_id": "00018-f9e08d43-6a12-4db5-8491-9560a4cf35e7",
    "deepnote_to_be_reexecuted": false,
    "source_hash": "dcc0610b",
    "execution_start": 1632735188037,
    "execution_millis": 8,
    "deepnote_cell_type": "code"
   },
   "outputs": [],
   "execution_count": null
  },
  {
   "cell_type": "code",
   "source": "y_pred = gnb.predict(x_tra)\nprint(f1_score(y_true=y_tra, y_pred=y_pred))",
   "metadata": {
    "tags": [],
    "cell_id": "00017-03f3eca7-8b3d-49d7-b7a3-0eef4fba6c7c",
    "deepnote_to_be_reexecuted": false,
    "source_hash": "814c3116",
    "execution_start": 1632735188045,
    "execution_millis": 25,
    "deepnote_cell_type": "code"
   },
   "outputs": [
    {
     "name": "stdout",
     "text": "0.7035330261136712\n",
     "output_type": "stream"
    }
   ],
   "execution_count": null
  },
  {
   "cell_type": "code",
   "source": "print(accuracy_score(y_tra, y_pred))",
   "metadata": {
    "tags": [],
    "cell_id": "00019-99ce1fa1-c58f-4f79-82e5-3cb20f8b21a2",
    "deepnote_to_be_reexecuted": false,
    "source_hash": "555a67d9",
    "execution_start": 1632735188110,
    "execution_millis": 644529,
    "deepnote_cell_type": "code"
   },
   "outputs": [
    {
     "name": "stdout",
     "text": "0.7888402625820569\n",
     "output_type": "stream"
    }
   ],
   "execution_count": null
  },
  {
   "cell_type": "code",
   "source": "from sklearn.metrics import confusion_matrix\nprint(confusion_matrix(y_tra, y_pred))",
   "metadata": {
    "tags": [],
    "cell_id": "00021-e237d815-c9f5-4f0a-bc51-6fc6ba7fe4fa",
    "deepnote_to_be_reexecuted": false,
    "source_hash": "8c9b39f5",
    "execution_start": 1632735189771,
    "execution_millis": 76,
    "deepnote_cell_type": "code"
   },
   "outputs": [
    {
     "name": "stdout",
     "text": "[[492  76]\n [117 229]]\n",
     "output_type": "stream"
    }
   ],
   "execution_count": null
  },
  {
   "cell_type": "code",
   "source": "y_pred = gnb.predict(x_tes)\nprint(f1_score(y_true=y_tra, y_pred=y_pred))\nprint(accuracy_score(y_tra, y_pred))\nprint(confusion_matrix(y_tra, y_pred))",
   "metadata": {
    "tags": [],
    "cell_id": "00022-0698b7f3-8494-4aca-ba99-be6872663867",
    "deepnote_to_be_reexecuted": false,
    "source_hash": "10c4d097",
    "execution_start": 1632735191214,
    "execution_millis": 146,
    "deepnote_cell_type": "code"
   },
   "outputs": [
    {
     "output_type": "error",
     "ename": "ValueError",
     "evalue": "Input contains NaN, infinity or a value too large for dtype('float64').",
     "traceback": [
      "\u001b[0;31m---------------------------------------------------------------------------\u001b[0m",
      "\u001b[0;31mValueError\u001b[0m                                Traceback (most recent call last)",
      "\u001b[0;32m/tmp/ipykernel_91/2225320308.py\u001b[0m in \u001b[0;36m<module>\u001b[0;34m\u001b[0m\n\u001b[0;32m----> 1\u001b[0;31m \u001b[0my_pred\u001b[0m \u001b[0;34m=\u001b[0m \u001b[0mgnb\u001b[0m\u001b[0;34m.\u001b[0m\u001b[0mpredict\u001b[0m\u001b[0;34m(\u001b[0m\u001b[0mx_tes\u001b[0m\u001b[0;34m)\u001b[0m\u001b[0;34m\u001b[0m\u001b[0;34m\u001b[0m\u001b[0m\n\u001b[0m\u001b[1;32m      2\u001b[0m \u001b[0mprint\u001b[0m\u001b[0;34m(\u001b[0m\u001b[0mf1_score\u001b[0m\u001b[0;34m(\u001b[0m\u001b[0my_true\u001b[0m\u001b[0;34m=\u001b[0m\u001b[0my_tra\u001b[0m\u001b[0;34m,\u001b[0m \u001b[0my_pred\u001b[0m\u001b[0;34m=\u001b[0m\u001b[0my_pred\u001b[0m\u001b[0;34m)\u001b[0m\u001b[0;34m)\u001b[0m\u001b[0;34m\u001b[0m\u001b[0;34m\u001b[0m\u001b[0m\n\u001b[1;32m      3\u001b[0m \u001b[0mprint\u001b[0m\u001b[0;34m(\u001b[0m\u001b[0maccuracy_score\u001b[0m\u001b[0;34m(\u001b[0m\u001b[0my_tra\u001b[0m\u001b[0;34m,\u001b[0m \u001b[0my_pred\u001b[0m\u001b[0;34m)\u001b[0m\u001b[0;34m)\u001b[0m\u001b[0;34m\u001b[0m\u001b[0;34m\u001b[0m\u001b[0m\n\u001b[1;32m      4\u001b[0m \u001b[0mprint\u001b[0m\u001b[0;34m(\u001b[0m\u001b[0mconfusion_matrix\u001b[0m\u001b[0;34m(\u001b[0m\u001b[0my_tra\u001b[0m\u001b[0;34m,\u001b[0m \u001b[0my_pred\u001b[0m\u001b[0;34m)\u001b[0m\u001b[0;34m)\u001b[0m\u001b[0;34m\u001b[0m\u001b[0;34m\u001b[0m\u001b[0m\n",
      "\u001b[0;32m/shared-libs/python3.7/py/lib/python3.7/site-packages/sklearn/naive_bayes.py\u001b[0m in \u001b[0;36mpredict\u001b[0;34m(self, X)\u001b[0m\n\u001b[1;32m     72\u001b[0m         \"\"\"\n\u001b[1;32m     73\u001b[0m         \u001b[0mcheck_is_fitted\u001b[0m\u001b[0;34m(\u001b[0m\u001b[0mself\u001b[0m\u001b[0;34m)\u001b[0m\u001b[0;34m\u001b[0m\u001b[0;34m\u001b[0m\u001b[0m\n\u001b[0;32m---> 74\u001b[0;31m         \u001b[0mX\u001b[0m \u001b[0;34m=\u001b[0m \u001b[0mself\u001b[0m\u001b[0;34m.\u001b[0m\u001b[0m_check_X\u001b[0m\u001b[0;34m(\u001b[0m\u001b[0mX\u001b[0m\u001b[0;34m)\u001b[0m\u001b[0;34m\u001b[0m\u001b[0;34m\u001b[0m\u001b[0m\n\u001b[0m\u001b[1;32m     75\u001b[0m         \u001b[0mjll\u001b[0m \u001b[0;34m=\u001b[0m \u001b[0mself\u001b[0m\u001b[0;34m.\u001b[0m\u001b[0m_joint_log_likelihood\u001b[0m\u001b[0;34m(\u001b[0m\u001b[0mX\u001b[0m\u001b[0;34m)\u001b[0m\u001b[0;34m\u001b[0m\u001b[0;34m\u001b[0m\u001b[0m\n\u001b[1;32m     76\u001b[0m         \u001b[0;32mreturn\u001b[0m \u001b[0mself\u001b[0m\u001b[0;34m.\u001b[0m\u001b[0mclasses_\u001b[0m\u001b[0;34m[\u001b[0m\u001b[0mnp\u001b[0m\u001b[0;34m.\u001b[0m\u001b[0margmax\u001b[0m\u001b[0;34m(\u001b[0m\u001b[0mjll\u001b[0m\u001b[0;34m,\u001b[0m \u001b[0maxis\u001b[0m\u001b[0;34m=\u001b[0m\u001b[0;36m1\u001b[0m\u001b[0;34m)\u001b[0m\u001b[0;34m]\u001b[0m\u001b[0;34m\u001b[0m\u001b[0;34m\u001b[0m\u001b[0m\n",
      "\u001b[0;32m/shared-libs/python3.7/py/lib/python3.7/site-packages/sklearn/naive_bayes.py\u001b[0m in \u001b[0;36m_check_X\u001b[0;34m(self, X)\u001b[0m\n\u001b[1;32m    211\u001b[0m \u001b[0;34m\u001b[0m\u001b[0m\n\u001b[1;32m    212\u001b[0m     \u001b[0;32mdef\u001b[0m \u001b[0m_check_X\u001b[0m\u001b[0;34m(\u001b[0m\u001b[0mself\u001b[0m\u001b[0;34m,\u001b[0m \u001b[0mX\u001b[0m\u001b[0;34m)\u001b[0m\u001b[0;34m:\u001b[0m\u001b[0;34m\u001b[0m\u001b[0;34m\u001b[0m\u001b[0m\n\u001b[0;32m--> 213\u001b[0;31m         \u001b[0;32mreturn\u001b[0m \u001b[0mcheck_array\u001b[0m\u001b[0;34m(\u001b[0m\u001b[0mX\u001b[0m\u001b[0;34m)\u001b[0m\u001b[0;34m\u001b[0m\u001b[0;34m\u001b[0m\u001b[0m\n\u001b[0m\u001b[1;32m    214\u001b[0m \u001b[0;34m\u001b[0m\u001b[0m\n\u001b[1;32m    215\u001b[0m     \u001b[0;34m@\u001b[0m\u001b[0mstaticmethod\u001b[0m\u001b[0;34m\u001b[0m\u001b[0;34m\u001b[0m\u001b[0m\n",
      "\u001b[0;32m/shared-libs/python3.7/py/lib/python3.7/site-packages/sklearn/utils/validation.py\u001b[0m in \u001b[0;36minner_f\u001b[0;34m(*args, **kwargs)\u001b[0m\n\u001b[1;32m     61\u001b[0m             \u001b[0mextra_args\u001b[0m \u001b[0;34m=\u001b[0m \u001b[0mlen\u001b[0m\u001b[0;34m(\u001b[0m\u001b[0margs\u001b[0m\u001b[0;34m)\u001b[0m \u001b[0;34m-\u001b[0m \u001b[0mlen\u001b[0m\u001b[0;34m(\u001b[0m\u001b[0mall_args\u001b[0m\u001b[0;34m)\u001b[0m\u001b[0;34m\u001b[0m\u001b[0;34m\u001b[0m\u001b[0m\n\u001b[1;32m     62\u001b[0m             \u001b[0;32mif\u001b[0m \u001b[0mextra_args\u001b[0m \u001b[0;34m<=\u001b[0m \u001b[0;36m0\u001b[0m\u001b[0;34m:\u001b[0m\u001b[0;34m\u001b[0m\u001b[0;34m\u001b[0m\u001b[0m\n\u001b[0;32m---> 63\u001b[0;31m                 \u001b[0;32mreturn\u001b[0m \u001b[0mf\u001b[0m\u001b[0;34m(\u001b[0m\u001b[0;34m*\u001b[0m\u001b[0margs\u001b[0m\u001b[0;34m,\u001b[0m \u001b[0;34m**\u001b[0m\u001b[0mkwargs\u001b[0m\u001b[0;34m)\u001b[0m\u001b[0;34m\u001b[0m\u001b[0;34m\u001b[0m\u001b[0m\n\u001b[0m\u001b[1;32m     64\u001b[0m \u001b[0;34m\u001b[0m\u001b[0m\n\u001b[1;32m     65\u001b[0m             \u001b[0;31m# extra_args > 0\u001b[0m\u001b[0;34m\u001b[0m\u001b[0;34m\u001b[0m\u001b[0;34m\u001b[0m\u001b[0m\n",
      "\u001b[0;32m/shared-libs/python3.7/py/lib/python3.7/site-packages/sklearn/utils/validation.py\u001b[0m in \u001b[0;36mcheck_array\u001b[0;34m(array, accept_sparse, accept_large_sparse, dtype, order, copy, force_all_finite, ensure_2d, allow_nd, ensure_min_samples, ensure_min_features, estimator)\u001b[0m\n\u001b[1;32m    719\u001b[0m         \u001b[0;32mif\u001b[0m \u001b[0mforce_all_finite\u001b[0m\u001b[0;34m:\u001b[0m\u001b[0;34m\u001b[0m\u001b[0;34m\u001b[0m\u001b[0m\n\u001b[1;32m    720\u001b[0m             _assert_all_finite(array,\n\u001b[0;32m--> 721\u001b[0;31m                                allow_nan=force_all_finite == 'allow-nan')\n\u001b[0m\u001b[1;32m    722\u001b[0m \u001b[0;34m\u001b[0m\u001b[0m\n\u001b[1;32m    723\u001b[0m     \u001b[0;32mif\u001b[0m \u001b[0mensure_min_samples\u001b[0m \u001b[0;34m>\u001b[0m \u001b[0;36m0\u001b[0m\u001b[0;34m:\u001b[0m\u001b[0;34m\u001b[0m\u001b[0;34m\u001b[0m\u001b[0m\n",
      "\u001b[0;32m/shared-libs/python3.7/py/lib/python3.7/site-packages/sklearn/utils/validation.py\u001b[0m in \u001b[0;36m_assert_all_finite\u001b[0;34m(X, allow_nan, msg_dtype)\u001b[0m\n\u001b[1;32m    104\u001b[0m                     \u001b[0mmsg_err\u001b[0m\u001b[0;34m.\u001b[0m\u001b[0mformat\u001b[0m\u001b[0;34m\u001b[0m\u001b[0;34m\u001b[0m\u001b[0m\n\u001b[1;32m    105\u001b[0m                     (type_err,\n\u001b[0;32m--> 106\u001b[0;31m                      msg_dtype if msg_dtype is not None else X.dtype)\n\u001b[0m\u001b[1;32m    107\u001b[0m             )\n\u001b[1;32m    108\u001b[0m     \u001b[0;31m# for object dtype data, we only check for NaNs (GH-13254)\u001b[0m\u001b[0;34m\u001b[0m\u001b[0;34m\u001b[0m\u001b[0;34m\u001b[0m\u001b[0m\n",
      "\u001b[0;31mValueError\u001b[0m: Input contains NaN, infinity or a value too large for dtype('float64')."
     ]
    }
   ],
   "execution_count": null
  },
  {
   "cell_type": "code",
   "source": "",
   "metadata": {
    "tags": [],
    "cell_id": "00023-cd472e16-b6f7-461a-8917-a299ca815be4",
    "deepnote_cell_type": "code"
   },
   "outputs": [],
   "execution_count": null
  },
  {
   "cell_type": "markdown",
   "source": "<a style='text-decoration:none;line-height:16px;display:flex;color:#5B5B62;padding:10px;justify-content:end;' href='https://deepnote.com?utm_source=created-in-deepnote-cell&projectId=a5ba1956-2aa0-49ed-9952-f1c7a30328f2' target=\"_blank\">\n<img alt='Created in deepnote.com' style='display:inline;max-height:16px;margin:0px;margin-right:7.5px;' src='data:image/svg+xml;base64,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' > </img>\nCreated in <span style='font-weight:600;margin-left:4px;'>Deepnote</span></a>",
   "metadata": {
    "tags": [],
    "created_in_deepnote_cell": true,
    "deepnote_cell_type": "markdown"
   }
  }
 ],
 "nbformat": 4,
 "nbformat_minor": 2,
 "metadata": {
  "orig_nbformat": 2,
  "deepnote": {
   "is_reactive": false
  },
  "deepnote_notebook_id": "270b875f-c5fc-4ac1-9fed-ece291f606f7",
  "deepnote_execution_queue": []
 }
}