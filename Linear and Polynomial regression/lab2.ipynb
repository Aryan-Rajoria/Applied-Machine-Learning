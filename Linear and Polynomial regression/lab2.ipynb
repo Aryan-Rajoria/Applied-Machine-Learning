{
 "cells": [
  {
   "cell_type": "markdown",
   "metadata": {
    "cell_id": "00000-d2b6ca99-b606-455b-9d5f-ae52c8dd70b6",
    "deepnote_cell_type": "markdown",
    "tags": []
   },
   "source": [
    "# Linear and Polynomial Regression"
   ]
  },
  {
   "cell_type": "code",
   "execution_count": null,
   "metadata": {
    "cell_id": "00001-ebb4350b-52ad-4c26-93d5-cb99b9fae4f5",
    "deepnote_cell_type": "code",
    "deepnote_to_be_reexecuted": false,
    "execution_millis": 2088,
    "execution_start": 1631900629319,
    "source_hash": "34ad2d5b",
    "tags": []
   },
   "outputs": [],
   "source": [
    "import numpy as np\n",
    "import pandas as pd\n",
    "import seaborn as sns\n",
    "import matplotlib.pyplot as plt"
   ]
  },
  {
   "cell_type": "code",
   "execution_count": null,
   "metadata": {
    "cell_id": "00001-33c84a2b-e923-42f0-aa0b-0d399e069a5f",
    "deepnote_cell_type": "code",
    "deepnote_to_be_reexecuted": false,
    "execution_millis": 170,
    "execution_start": 1631900631414,
    "source_hash": "8a45593b",
    "tags": []
   },
   "outputs": [
    {
     "data": {
      "application/vnd.deepnote.dataframe.v2+json": {
       "column_count": 14,
       "columns": [
        {
         "dtype": "float64",
         "name": "CRIM",
         "stats": {
          "histogram": [
           {
            "bin_end": 8.903308,
            "bin_start": 0.00632,
            "count": 439
           },
           {
            "bin_end": 17.800296,
            "bin_start": 8.903308,
            "count": 44
           },
           {
            "bin_end": 26.697284,
            "bin_start": 17.800296,
            "count": 14
           },
           {
            "bin_end": 35.594272000000004,
            "bin_start": 26.697284,
            "count": 1
           },
           {
            "bin_end": 44.491260000000004,
            "bin_start": 35.594272000000004,
            "count": 3
           },
           {
            "bin_end": 53.388248000000004,
            "bin_start": 44.491260000000004,
            "count": 2
           },
           {
            "bin_end": 62.285236000000005,
            "bin_start": 53.388248000000004,
            "count": 0
           },
           {
            "bin_end": 71.182224,
            "bin_start": 62.285236000000005,
            "count": 1
           },
           {
            "bin_end": 80.079212,
            "bin_start": 71.182224,
            "count": 1
           },
           {
            "bin_end": 88.9762,
            "bin_start": 80.079212,
            "count": 1
           }
          ],
          "max": "88.9762",
          "min": "0.00632",
          "nan_count": 0,
          "unique_count": 504
         }
        },
        {
         "dtype": "float64",
         "name": "ZN",
         "stats": {
          "histogram": [
           {
            "bin_end": 10,
            "bin_start": 0,
            "count": 372
           },
           {
            "bin_end": 20,
            "bin_start": 10,
            "count": 12
           },
           {
            "bin_end": 30,
            "bin_start": 20,
            "count": 48
           },
           {
            "bin_end": 40,
            "bin_start": 30,
            "count": 16
           },
           {
            "bin_end": 50,
            "bin_start": 40,
            "count": 13
           },
           {
            "bin_end": 60,
            "bin_start": 50,
            "count": 6
           },
           {
            "bin_end": 70,
            "bin_start": 60,
            "count": 4
           },
           {
            "bin_end": 80,
            "bin_start": 70,
            "count": 6
           },
           {
            "bin_end": 90,
            "bin_start": 80,
            "count": 19
           },
           {
            "bin_end": 100,
            "bin_start": 90,
            "count": 10
           }
          ],
          "max": "100.0",
          "min": "0.0",
          "nan_count": 0,
          "unique_count": 26
         }
        },
        {
         "dtype": "float64",
         "name": "INDUS",
         "stats": {
          "histogram": [
           {
            "bin_end": 3.1879999999999997,
            "bin_start": 0.46,
            "count": 56
           },
           {
            "bin_end": 5.9159999999999995,
            "bin_start": 3.1879999999999997,
            "count": 95
           },
           {
            "bin_end": 8.644,
            "bin_start": 5.9159999999999995,
            "count": 99
           },
           {
            "bin_end": 11.372,
            "bin_start": 8.644,
            "count": 44
           },
           {
            "bin_end": 14.1,
            "bin_start": 11.372,
            "count": 20
           },
           {
            "bin_end": 16.828,
            "bin_start": 14.1,
            "count": 3
           },
           {
            "bin_end": 19.555999999999997,
            "bin_start": 16.828,
            "count": 132
           },
           {
            "bin_end": 22.284,
            "bin_start": 19.555999999999997,
            "count": 45
           },
           {
            "bin_end": 25.012,
            "bin_start": 22.284,
            "count": 0
           },
           {
            "bin_end": 27.74,
            "bin_start": 25.012,
            "count": 12
           }
          ],
          "max": "27.74",
          "min": "0.46",
          "nan_count": 0,
          "unique_count": 76
         }
        },
        {
         "dtype": "int64",
         "name": "CHAS",
         "stats": {
          "histogram": [
           {
            "bin_end": 0.1,
            "bin_start": 0,
            "count": 471
           },
           {
            "bin_end": 0.2,
            "bin_start": 0.1,
            "count": 0
           },
           {
            "bin_end": 0.30000000000000004,
            "bin_start": 0.2,
            "count": 0
           },
           {
            "bin_end": 0.4,
            "bin_start": 0.30000000000000004,
            "count": 0
           },
           {
            "bin_end": 0.5,
            "bin_start": 0.4,
            "count": 0
           },
           {
            "bin_end": 0.6000000000000001,
            "bin_start": 0.5,
            "count": 0
           },
           {
            "bin_end": 0.7000000000000001,
            "bin_start": 0.6000000000000001,
            "count": 0
           },
           {
            "bin_end": 0.8,
            "bin_start": 0.7000000000000001,
            "count": 0
           },
           {
            "bin_end": 0.9,
            "bin_start": 0.8,
            "count": 0
           },
           {
            "bin_end": 1,
            "bin_start": 0.9,
            "count": 35
           }
          ],
          "max": "1",
          "min": "0",
          "nan_count": 0,
          "unique_count": 2
         }
        },
        {
         "dtype": "float64",
         "name": "NOX",
         "stats": {
          "histogram": [
           {
            "bin_end": 0.4336,
            "bin_start": 0.385,
            "count": 75
           },
           {
            "bin_end": 0.4822,
            "bin_start": 0.4336,
            "count": 80
           },
           {
            "bin_end": 0.5307999999999999,
            "bin_start": 0.4822,
            "count": 89
           },
           {
            "bin_end": 0.5794,
            "bin_start": 0.5307999999999999,
            "count": 60
           },
           {
            "bin_end": 0.628,
            "bin_start": 0.5794,
            "count": 78
           },
           {
            "bin_end": 0.6766,
            "bin_start": 0.628,
            "count": 30
           },
           {
            "bin_end": 0.7252000000000001,
            "bin_start": 0.6766,
            "count": 57
           },
           {
            "bin_end": 0.7738,
            "bin_start": 0.7252000000000001,
            "count": 21
           },
           {
            "bin_end": 0.8224,
            "bin_start": 0.7738,
            "count": 0
           },
           {
            "bin_end": 0.871,
            "bin_start": 0.8224,
            "count": 16
           }
          ],
          "max": "0.871",
          "min": "0.385",
          "nan_count": 0,
          "unique_count": 81
         }
        },
        {
         "dtype": "float64",
         "name": "RM",
         "stats": {
          "histogram": [
           {
            "bin_end": 4.0828999999999995,
            "bin_start": 3.561,
            "count": 2
           },
           {
            "bin_end": 4.6048,
            "bin_start": 4.0828999999999995,
            "count": 4
           },
           {
            "bin_end": 5.1267,
            "bin_start": 4.6048,
            "count": 14
           },
           {
            "bin_end": 5.6486,
            "bin_start": 5.1267,
            "count": 45
           },
           {
            "bin_end": 6.1705,
            "bin_start": 5.6486,
            "count": 177
           },
           {
            "bin_end": 6.692399999999999,
            "bin_start": 6.1705,
            "count": 151
           },
           {
            "bin_end": 7.2143,
            "bin_start": 6.692399999999999,
            "count": 69
           },
           {
            "bin_end": 7.736199999999999,
            "bin_start": 7.2143,
            "count": 22
           },
           {
            "bin_end": 8.258099999999999,
            "bin_start": 7.736199999999999,
            "count": 13
           },
           {
            "bin_end": 8.78,
            "bin_start": 8.258099999999999,
            "count": 9
           }
          ],
          "max": "8.78",
          "min": "3.561",
          "nan_count": 0,
          "unique_count": 446
         }
        },
        {
         "dtype": "float64",
         "name": "AGE",
         "stats": {
          "histogram": [
           {
            "bin_end": 12.61,
            "bin_start": 2.9,
            "count": 14
           },
           {
            "bin_end": 22.319999999999997,
            "bin_start": 12.61,
            "count": 31
           },
           {
            "bin_end": 32.029999999999994,
            "bin_start": 22.319999999999997,
            "count": 29
           },
           {
            "bin_end": 41.739999999999995,
            "bin_start": 32.029999999999994,
            "count": 42
           },
           {
            "bin_end": 51.449999999999996,
            "bin_start": 41.739999999999995,
            "count": 32
           },
           {
            "bin_end": 61.15999999999999,
            "bin_start": 51.449999999999996,
            "count": 38
           },
           {
            "bin_end": 70.87,
            "bin_start": 61.15999999999999,
            "count": 39
           },
           {
            "bin_end": 80.58,
            "bin_start": 70.87,
            "count": 42
           },
           {
            "bin_end": 90.28999999999999,
            "bin_start": 80.58,
            "count": 71
           },
           {
            "bin_end": 100,
            "bin_start": 90.28999999999999,
            "count": 168
           }
          ],
          "max": "100.0",
          "min": "2.9",
          "nan_count": 0,
          "unique_count": 356
         }
        },
        {
         "dtype": "float64",
         "name": "DIS",
         "stats": {
          "histogram": [
           {
            "bin_end": 2.2292899999999998,
            "bin_start": 1.1296,
            "count": 150
           },
           {
            "bin_end": 3.32898,
            "bin_start": 2.2292899999999998,
            "count": 111
           },
           {
            "bin_end": 4.42867,
            "bin_start": 3.32898,
            "count": 81
           },
           {
            "bin_end": 5.52836,
            "bin_start": 4.42867,
            "count": 61
           },
           {
            "bin_end": 6.62805,
            "bin_start": 5.52836,
            "count": 46
           },
           {
            "bin_end": 7.727740000000001,
            "bin_start": 6.62805,
            "count": 26
           },
           {
            "bin_end": 8.82743,
            "bin_start": 7.727740000000001,
            "count": 19
           },
           {
            "bin_end": 9.92712,
            "bin_start": 8.82743,
            "count": 7
           },
           {
            "bin_end": 11.026810000000001,
            "bin_start": 9.92712,
            "count": 4
           },
           {
            "bin_end": 12.1265,
            "bin_start": 11.026810000000001,
            "count": 1
           }
          ],
          "max": "12.1265",
          "min": "1.1296",
          "nan_count": 0,
          "unique_count": 412
         }
        },
        {
         "dtype": "int64",
         "name": "RAD",
         "stats": {
          "histogram": [
           {
            "bin_end": 3.3,
            "bin_start": 1,
            "count": 82
           },
           {
            "bin_end": 5.6,
            "bin_start": 3.3,
            "count": 225
           },
           {
            "bin_end": 7.8999999999999995,
            "bin_start": 5.6,
            "count": 43
           },
           {
            "bin_end": 10.2,
            "bin_start": 7.8999999999999995,
            "count": 24
           },
           {
            "bin_end": 12.5,
            "bin_start": 10.2,
            "count": 0
           },
           {
            "bin_end": 14.799999999999999,
            "bin_start": 12.5,
            "count": 0
           },
           {
            "bin_end": 17.099999999999998,
            "bin_start": 14.799999999999999,
            "count": 0
           },
           {
            "bin_end": 19.4,
            "bin_start": 17.099999999999998,
            "count": 0
           },
           {
            "bin_end": 21.7,
            "bin_start": 19.4,
            "count": 0
           },
           {
            "bin_end": 24,
            "bin_start": 21.7,
            "count": 132
           }
          ],
          "max": "24",
          "min": "1",
          "nan_count": 0,
          "unique_count": 9
         }
        },
        {
         "dtype": "float64",
         "name": "TAX",
         "stats": {
          "histogram": [
           {
            "bin_end": 239.4,
            "bin_start": 187,
            "count": 54
           },
           {
            "bin_end": 291.8,
            "bin_start": 239.4,
            "count": 100
           },
           {
            "bin_end": 344.2,
            "bin_start": 291.8,
            "count": 108
           },
           {
            "bin_end": 396.6,
            "bin_start": 344.2,
            "count": 32
           },
           {
            "bin_end": 449,
            "bin_start": 396.6,
            "count": 74
           },
           {
            "bin_end": 501.4,
            "bin_start": 449,
            "count": 1
           },
           {
            "bin_end": 553.8,
            "bin_start": 501.4,
            "count": 0
           },
           {
            "bin_end": 606.2,
            "bin_start": 553.8,
            "count": 0
           },
           {
            "bin_end": 658.5999999999999,
            "bin_start": 606.2,
            "count": 0
           },
           {
            "bin_end": 711,
            "bin_start": 658.5999999999999,
            "count": 137
           }
          ],
          "max": "711.0",
          "min": "187.0",
          "nan_count": 0,
          "unique_count": 66
         }
        },
        {
         "dtype": "float64",
         "name": "PTRATIO",
         "stats": {
          "histogram": [
           {
            "bin_end": 13.54,
            "bin_start": 12.6,
            "count": 15
           },
           {
            "bin_end": 14.48,
            "bin_start": 13.54,
            "count": 2
           },
           {
            "bin_end": 15.42,
            "bin_start": 14.48,
            "count": 58
           },
           {
            "bin_end": 16.36,
            "bin_start": 15.42,
            "count": 15
           },
           {
            "bin_end": 17.3,
            "bin_start": 16.36,
            "count": 35
           },
           {
            "bin_end": 18.240000000000002,
            "bin_start": 17.3,
            "count": 69
           },
           {
            "bin_end": 19.18,
            "bin_start": 18.240000000000002,
            "count": 76
           },
           {
            "bin_end": 20.12,
            "bin_start": 19.18,
            "count": 40
           },
           {
            "bin_end": 21.060000000000002,
            "bin_start": 20.12,
            "count": 178
           },
           {
            "bin_end": 22,
            "bin_start": 21.060000000000002,
            "count": 18
           }
          ],
          "max": "22.0",
          "min": "12.6",
          "nan_count": 0,
          "unique_count": 46
         }
        },
        {
         "dtype": "float64",
         "name": "B",
         "stats": {
          "histogram": [
           {
            "bin_end": 39.978,
            "bin_start": 0.32,
            "count": 18
           },
           {
            "bin_end": 79.636,
            "bin_start": 39.978,
            "count": 6
           },
           {
            "bin_end": 119.294,
            "bin_start": 79.636,
            "count": 10
           },
           {
            "bin_end": 158.952,
            "bin_start": 119.294,
            "count": 2
           },
           {
            "bin_end": 198.61,
            "bin_start": 158.952,
            "count": 3
           },
           {
            "bin_end": 238.268,
            "bin_start": 198.61,
            "count": 3
           },
           {
            "bin_end": 277.926,
            "bin_start": 238.268,
            "count": 7
           },
           {
            "bin_end": 317.584,
            "bin_start": 277.926,
            "count": 11
           },
           {
            "bin_end": 357.242,
            "bin_start": 317.584,
            "count": 33
           },
           {
            "bin_end": 396.9,
            "bin_start": 357.242,
            "count": 413
           }
          ],
          "max": "396.9",
          "min": "0.32",
          "nan_count": 0,
          "unique_count": 357
         }
        },
        {
         "dtype": "float64",
         "name": "LSTAT",
         "stats": {
          "histogram": [
           {
            "bin_end": 5.354,
            "bin_start": 1.73,
            "count": 75
           },
           {
            "bin_end": 8.978,
            "bin_start": 5.354,
            "count": 108
           },
           {
            "bin_end": 12.602,
            "bin_start": 8.978,
            "count": 99
           },
           {
            "bin_end": 16.226,
            "bin_start": 12.602,
            "count": 84
           },
           {
            "bin_end": 19.85,
            "bin_start": 16.226,
            "count": 64
           },
           {
            "bin_end": 23.474,
            "bin_start": 19.85,
            "count": 30
           },
           {
            "bin_end": 27.098000000000003,
            "bin_start": 23.474,
            "count": 21
           },
           {
            "bin_end": 30.722,
            "bin_start": 27.098000000000003,
            "count": 16
           },
           {
            "bin_end": 34.346,
            "bin_start": 30.722,
            "count": 4
           },
           {
            "bin_end": 37.97,
            "bin_start": 34.346,
            "count": 5
           }
          ],
          "max": "37.97",
          "min": "1.73",
          "nan_count": 0,
          "unique_count": 455
         }
        },
        {
         "dtype": "float64",
         "name": "MEDV",
         "stats": {
          "histogram": [
           {
            "bin_end": 9.5,
            "bin_start": 5,
            "count": 21
           },
           {
            "bin_end": 14,
            "bin_start": 9.5,
            "count": 55
           },
           {
            "bin_end": 18.5,
            "bin_start": 14,
            "count": 82
           },
           {
            "bin_end": 23,
            "bin_start": 18.5,
            "count": 154
           },
           {
            "bin_end": 27.5,
            "bin_start": 23,
            "count": 84
           },
           {
            "bin_end": 32,
            "bin_start": 27.5,
            "count": 41
           },
           {
            "bin_end": 36.5,
            "bin_start": 32,
            "count": 30
           },
           {
            "bin_end": 41,
            "bin_start": 36.5,
            "count": 8
           },
           {
            "bin_end": 45.5,
            "bin_start": 41,
            "count": 10
           },
           {
            "bin_end": 50,
            "bin_start": 45.5,
            "count": 21
           }
          ],
          "max": "50.0",
          "min": "5.0",
          "nan_count": 0,
          "unique_count": 229
         }
        },
        {
         "dtype": "int64",
         "name": "_deepnote_index_column"
        }
       ],
       "row_count": 506,
       "rows_bottom": [
        {
         "AGE": 84,
         "B": 396.9,
         "CHAS": 0,
         "CRIM": 4.34879,
         "DIS": 3.0334,
         "INDUS": 18.1,
         "LSTAT": 16.29,
         "MEDV": 19.9,
         "NOX": 0.58,
         "PTRATIO": 20.2,
         "RAD": 24,
         "RM": 6.167,
         "TAX": 666,
         "ZN": 0,
         "_deepnote_index_column": 470
        },
        {
         "AGE": 90.7,
         "B": 395.33,
         "CHAS": 0,
         "CRIM": 4.03841,
         "DIS": 3.0993,
         "INDUS": 18.1,
         "LSTAT": 12.87,
         "MEDV": 19.6,
         "NOX": 0.532,
         "PTRATIO": 20.2,
         "RAD": 24,
         "RM": 6.229,
         "TAX": 666,
         "ZN": 0,
         "_deepnote_index_column": 471
        },
        {
         "AGE": 75,
         "B": 393.37,
         "CHAS": 0,
         "CRIM": 3.56868,
         "DIS": 2.8965,
         "INDUS": 18.1,
         "LSTAT": 14.36,
         "MEDV": 23.2,
         "NOX": 0.58,
         "PTRATIO": 20.2,
         "RAD": 24,
         "RM": 6.437,
         "TAX": 666,
         "ZN": 0,
         "_deepnote_index_column": 472
        },
        {
         "AGE": 67.6,
         "B": 374.68,
         "CHAS": 0,
         "CRIM": 4.64689,
         "DIS": 2.5329,
         "INDUS": 18.1,
         "LSTAT": 11.66,
         "MEDV": 29.8,
         "NOX": 0.614,
         "PTRATIO": 20.2,
         "RAD": 24,
         "RM": 6.98,
         "TAX": 666,
         "ZN": 0,
         "_deepnote_index_column": 473
        },
        {
         "AGE": 95.4,
         "B": 352.58,
         "CHAS": 0,
         "CRIM": 8.05579,
         "DIS": 2.4298,
         "INDUS": 18.1,
         "LSTAT": 18.14,
         "MEDV": 13.8,
         "NOX": 0.584,
         "PTRATIO": 20.2,
         "RAD": 24,
         "RM": 5.427,
         "TAX": 666,
         "ZN": 0,
         "_deepnote_index_column": 474
        },
        {
         "AGE": 97.4,
         "B": 302.76,
         "CHAS": 0,
         "CRIM": 6.39312,
         "DIS": 2.206,
         "INDUS": 18.1,
         "LSTAT": 24.1,
         "MEDV": 13.3,
         "NOX": 0.584,
         "PTRATIO": 20.2,
         "RAD": 24,
         "RM": 6.162,
         "TAX": 666,
         "ZN": 0,
         "_deepnote_index_column": 475
        },
        {
         "AGE": 93.6,
         "B": 396.21,
         "CHAS": 0,
         "CRIM": 4.87141,
         "DIS": 2.3053,
         "INDUS": 18.1,
         "LSTAT": 18.68,
         "MEDV": 16.7,
         "NOX": 0.614,
         "PTRATIO": 20.2,
         "RAD": 24,
         "RM": 6.484,
         "TAX": 666,
         "ZN": 0,
         "_deepnote_index_column": 476
        },
        {
         "AGE": 97.3,
         "B": 349.48,
         "CHAS": 0,
         "CRIM": 15.0234,
         "DIS": 2.1007,
         "INDUS": 18.1,
         "LSTAT": 24.91,
         "MEDV": 12,
         "NOX": 0.614,
         "PTRATIO": 20.2,
         "RAD": 24,
         "RM": 5.304,
         "TAX": 666,
         "ZN": 0,
         "_deepnote_index_column": 477
        },
        {
         "AGE": 96.7,
         "B": 379.7,
         "CHAS": 0,
         "CRIM": 10.233,
         "DIS": 2.1705,
         "INDUS": 18.1,
         "LSTAT": 18.03,
         "MEDV": 14.6,
         "NOX": 0.614,
         "PTRATIO": 20.2,
         "RAD": 24,
         "RM": 6.185,
         "TAX": 666,
         "ZN": 0,
         "_deepnote_index_column": 478
        },
        {
         "AGE": 88,
         "B": 383.32,
         "CHAS": 0,
         "CRIM": 14.3337,
         "DIS": 1.9512,
         "INDUS": 18.1,
         "LSTAT": 13.11,
         "MEDV": 21.4,
         "NOX": 0.614,
         "PTRATIO": 20.2,
         "RAD": 24,
         "RM": 6.229,
         "TAX": 666,
         "ZN": 0,
         "_deepnote_index_column": 479
        },
        {
         "AGE": 64.7,
         "B": 396.9,
         "CHAS": 0,
         "CRIM": 5.82401,
         "DIS": 3.4242,
         "INDUS": 18.1,
         "LSTAT": 10.74,
         "MEDV": 23,
         "NOX": 0.532,
         "PTRATIO": 20.2,
         "RAD": 24,
         "RM": 6.242,
         "TAX": 666,
         "ZN": 0,
         "_deepnote_index_column": 480
        },
        {
         "AGE": 74.9,
         "B": 393.07,
         "CHAS": 0,
         "CRIM": 5.70818,
         "DIS": 3.3317,
         "INDUS": 18.1,
         "LSTAT": 7.74,
         "MEDV": 23.7,
         "NOX": 0.532,
         "PTRATIO": 20.2,
         "RAD": 24,
         "RM": 6.75,
         "TAX": 666,
         "ZN": 0,
         "_deepnote_index_column": 481
        },
        {
         "AGE": 77,
         "B": 395.28,
         "CHAS": 0,
         "CRIM": 5.73116,
         "DIS": 3.4106,
         "INDUS": 18.1,
         "LSTAT": 7.01,
         "MEDV": 25,
         "NOX": 0.532,
         "PTRATIO": 20.2,
         "RAD": 24,
         "RM": 7.061,
         "TAX": 666,
         "ZN": 0,
         "_deepnote_index_column": 482
        },
        {
         "AGE": 40.3,
         "B": 392.92,
         "CHAS": 0,
         "CRIM": 2.81838,
         "DIS": 4.0983,
         "INDUS": 18.1,
         "LSTAT": 10.42,
         "MEDV": 21.8,
         "NOX": 0.532,
         "PTRATIO": 20.2,
         "RAD": 24,
         "RM": 5.762,
         "TAX": 666,
         "ZN": 0,
         "_deepnote_index_column": 483
        },
        {
         "AGE": 41.9,
         "B": 370.73,
         "CHAS": 0,
         "CRIM": 2.37857,
         "DIS": 3.724,
         "INDUS": 18.1,
         "LSTAT": 13.34,
         "MEDV": 20.6,
         "NOX": 0.583,
         "PTRATIO": 20.2,
         "RAD": 24,
         "RM": 5.871,
         "TAX": 666,
         "ZN": 0,
         "_deepnote_index_column": 484
        },
        {
         "AGE": 51.9,
         "B": 388.62,
         "CHAS": 0,
         "CRIM": 3.67367,
         "DIS": 3.9917,
         "INDUS": 18.1,
         "LSTAT": 10.58,
         "MEDV": 21.2,
         "NOX": 0.583,
         "PTRATIO": 20.2,
         "RAD": 24,
         "RM": 6.312,
         "TAX": 666,
         "ZN": 0,
         "_deepnote_index_column": 485
        },
        {
         "AGE": 79.8,
         "B": 392.68,
         "CHAS": 0,
         "CRIM": 5.69175,
         "DIS": 3.5459,
         "INDUS": 18.1,
         "LSTAT": 14.98,
         "MEDV": 19.1,
         "NOX": 0.583,
         "PTRATIO": 20.2,
         "RAD": 24,
         "RM": 6.114,
         "TAX": 666,
         "ZN": 0,
         "_deepnote_index_column": 486
        },
        {
         "AGE": 53.2,
         "B": 388.22,
         "CHAS": 0,
         "CRIM": 4.83567,
         "DIS": 3.1523,
         "INDUS": 18.1,
         "LSTAT": 11.45,
         "MEDV": 20.6,
         "NOX": 0.583,
         "PTRATIO": 20.2,
         "RAD": 24,
         "RM": 5.905,
         "TAX": 666,
         "ZN": 0,
         "_deepnote_index_column": 487
        },
        {
         "AGE": 92.7,
         "B": 395.09,
         "CHAS": 0,
         "CRIM": 0.15086,
         "DIS": 1.8209,
         "INDUS": 27.74,
         "LSTAT": 18.06,
         "MEDV": 15.2,
         "NOX": 0.609,
         "PTRATIO": 20.1,
         "RAD": 4,
         "RM": 5.454,
         "TAX": 711,
         "ZN": 0,
         "_deepnote_index_column": 488
        },
        {
         "AGE": 98.3,
         "B": 344.05,
         "CHAS": 0,
         "CRIM": 0.18337,
         "DIS": 1.7554,
         "INDUS": 27.74,
         "LSTAT": 23.97,
         "MEDV": 7,
         "NOX": 0.609,
         "PTRATIO": 20.1,
         "RAD": 4,
         "RM": 5.414,
         "TAX": 711,
         "ZN": 0,
         "_deepnote_index_column": 489
        },
        {
         "AGE": 98,
         "B": 318.43,
         "CHAS": 0,
         "CRIM": 0.20746,
         "DIS": 1.8226,
         "INDUS": 27.74,
         "LSTAT": 29.68,
         "MEDV": 8.1,
         "NOX": 0.609,
         "PTRATIO": 20.1,
         "RAD": 4,
         "RM": 5.093,
         "TAX": 711,
         "ZN": 0,
         "_deepnote_index_column": 490
        },
        {
         "AGE": 98.8,
         "B": 390.11,
         "CHAS": 0,
         "CRIM": 0.10574,
         "DIS": 1.8681,
         "INDUS": 27.74,
         "LSTAT": 18.07,
         "MEDV": 13.6,
         "NOX": 0.609,
         "PTRATIO": 20.1,
         "RAD": 4,
         "RM": 5.983,
         "TAX": 711,
         "ZN": 0,
         "_deepnote_index_column": 491
        },
        {
         "AGE": 83.5,
         "B": 396.9,
         "CHAS": 0,
         "CRIM": 0.11132,
         "DIS": 2.1099,
         "INDUS": 27.74,
         "LSTAT": 13.35,
         "MEDV": 20.1,
         "NOX": 0.609,
         "PTRATIO": 20.1,
         "RAD": 4,
         "RM": 5.983,
         "TAX": 711,
         "ZN": 0,
         "_deepnote_index_column": 492
        },
        {
         "AGE": 54,
         "B": 396.9,
         "CHAS": 0,
         "CRIM": 0.17331,
         "DIS": 2.3817,
         "INDUS": 9.69,
         "LSTAT": 12.01,
         "MEDV": 21.8,
         "NOX": 0.585,
         "PTRATIO": 19.2,
         "RAD": 6,
         "RM": 5.707,
         "TAX": 391,
         "ZN": 0,
         "_deepnote_index_column": 493
        },
        {
         "AGE": 42.6,
         "B": 396.9,
         "CHAS": 0,
         "CRIM": 0.27957,
         "DIS": 2.3817,
         "INDUS": 9.69,
         "LSTAT": 13.59,
         "MEDV": 24.5,
         "NOX": 0.585,
         "PTRATIO": 19.2,
         "RAD": 6,
         "RM": 5.926,
         "TAX": 391,
         "ZN": 0,
         "_deepnote_index_column": 494
        },
        {
         "AGE": 28.8,
         "B": 393.29,
         "CHAS": 0,
         "CRIM": 0.17899,
         "DIS": 2.7986,
         "INDUS": 9.69,
         "LSTAT": 17.6,
         "MEDV": 23.1,
         "NOX": 0.585,
         "PTRATIO": 19.2,
         "RAD": 6,
         "RM": 5.67,
         "TAX": 391,
         "ZN": 0,
         "_deepnote_index_column": 495
        },
        {
         "AGE": 72.9,
         "B": 396.9,
         "CHAS": 0,
         "CRIM": 0.2896,
         "DIS": 2.7986,
         "INDUS": 9.69,
         "LSTAT": 21.14,
         "MEDV": 19.7,
         "NOX": 0.585,
         "PTRATIO": 19.2,
         "RAD": 6,
         "RM": 5.39,
         "TAX": 391,
         "ZN": 0,
         "_deepnote_index_column": 496
        },
        {
         "AGE": 70.6,
         "B": 396.9,
         "CHAS": 0,
         "CRIM": 0.26838,
         "DIS": 2.8927,
         "INDUS": 9.69,
         "LSTAT": 14.1,
         "MEDV": 18.3,
         "NOX": 0.585,
         "PTRATIO": 19.2,
         "RAD": 6,
         "RM": 5.794,
         "TAX": 391,
         "ZN": 0,
         "_deepnote_index_column": 497
        },
        {
         "AGE": 65.3,
         "B": 396.9,
         "CHAS": 0,
         "CRIM": 0.23912,
         "DIS": 2.4091,
         "INDUS": 9.69,
         "LSTAT": 12.92,
         "MEDV": 21.2,
         "NOX": 0.585,
         "PTRATIO": 19.2,
         "RAD": 6,
         "RM": 6.019,
         "TAX": 391,
         "ZN": 0,
         "_deepnote_index_column": 498
        },
        {
         "AGE": 73.5,
         "B": 395.77,
         "CHAS": 0,
         "CRIM": 0.17783,
         "DIS": 2.3999,
         "INDUS": 9.69,
         "LSTAT": 15.1,
         "MEDV": 17.5,
         "NOX": 0.585,
         "PTRATIO": 19.2,
         "RAD": 6,
         "RM": 5.569,
         "TAX": 391,
         "ZN": 0,
         "_deepnote_index_column": 499
        },
        {
         "AGE": 79.7,
         "B": 396.9,
         "CHAS": 0,
         "CRIM": 0.22438,
         "DIS": 2.4982,
         "INDUS": 9.69,
         "LSTAT": 14.33,
         "MEDV": 16.8,
         "NOX": 0.585,
         "PTRATIO": 19.2,
         "RAD": 6,
         "RM": 6.027,
         "TAX": 391,
         "ZN": 0,
         "_deepnote_index_column": 500
        },
        {
         "AGE": 69.1,
         "B": 391.99,
         "CHAS": 0,
         "CRIM": 0.06263,
         "DIS": 2.4786,
         "INDUS": 11.93,
         "LSTAT": 9.67,
         "MEDV": 22.4,
         "NOX": 0.573,
         "PTRATIO": 21,
         "RAD": 1,
         "RM": 6.593,
         "TAX": 273,
         "ZN": 0,
         "_deepnote_index_column": 501
        },
        {
         "AGE": 76.7,
         "B": 396.9,
         "CHAS": 0,
         "CRIM": 0.04527,
         "DIS": 2.2875,
         "INDUS": 11.93,
         "LSTAT": 9.08,
         "MEDV": 20.6,
         "NOX": 0.573,
         "PTRATIO": 21,
         "RAD": 1,
         "RM": 6.12,
         "TAX": 273,
         "ZN": 0,
         "_deepnote_index_column": 502
        },
        {
         "AGE": 91,
         "B": 396.9,
         "CHAS": 0,
         "CRIM": 0.06076,
         "DIS": 2.1675,
         "INDUS": 11.93,
         "LSTAT": 5.64,
         "MEDV": 23.9,
         "NOX": 0.573,
         "PTRATIO": 21,
         "RAD": 1,
         "RM": 6.976,
         "TAX": 273,
         "ZN": 0,
         "_deepnote_index_column": 503
        },
        {
         "AGE": 89.3,
         "B": 393.45,
         "CHAS": 0,
         "CRIM": 0.10959,
         "DIS": 2.3889,
         "INDUS": 11.93,
         "LSTAT": 6.48,
         "MEDV": 22,
         "NOX": 0.573,
         "PTRATIO": 21,
         "RAD": 1,
         "RM": 6.794,
         "TAX": 273,
         "ZN": 0,
         "_deepnote_index_column": 504
        },
        {
         "AGE": 80.8,
         "B": 396.9,
         "CHAS": 0,
         "CRIM": 0.04741,
         "DIS": 2.505,
         "INDUS": 11.93,
         "LSTAT": 7.88,
         "MEDV": 11.9,
         "NOX": 0.573,
         "PTRATIO": 21,
         "RAD": 1,
         "RM": 6.03,
         "TAX": 273,
         "ZN": 0,
         "_deepnote_index_column": 505
        }
       ],
       "rows_top": [
        {
         "AGE": 65.2,
         "B": 396.9,
         "CHAS": 0,
         "CRIM": 0.00632,
         "DIS": 4.09,
         "INDUS": 2.31,
         "LSTAT": 4.98,
         "MEDV": 24,
         "NOX": 0.538,
         "PTRATIO": 15.3,
         "RAD": 1,
         "RM": 6.575,
         "TAX": 296,
         "ZN": 18,
         "_deepnote_index_column": 0
        },
        {
         "AGE": 78.9,
         "B": 396.9,
         "CHAS": 0,
         "CRIM": 0.02731,
         "DIS": 4.9671,
         "INDUS": 7.07,
         "LSTAT": 9.14,
         "MEDV": 21.6,
         "NOX": 0.469,
         "PTRATIO": 17.8,
         "RAD": 2,
         "RM": 6.421,
         "TAX": 242,
         "ZN": 0,
         "_deepnote_index_column": 1
        },
        {
         "AGE": 61.1,
         "B": 392.83,
         "CHAS": 0,
         "CRIM": 0.02729,
         "DIS": 4.9671,
         "INDUS": 7.07,
         "LSTAT": 4.03,
         "MEDV": 34.7,
         "NOX": 0.469,
         "PTRATIO": 17.8,
         "RAD": 2,
         "RM": 7.185,
         "TAX": 242,
         "ZN": 0,
         "_deepnote_index_column": 2
        },
        {
         "AGE": 45.8,
         "B": 394.63,
         "CHAS": 0,
         "CRIM": 0.03237,
         "DIS": 6.0622,
         "INDUS": 2.18,
         "LSTAT": 2.94,
         "MEDV": 33.4,
         "NOX": 0.458,
         "PTRATIO": 18.7,
         "RAD": 3,
         "RM": 6.998,
         "TAX": 222,
         "ZN": 0,
         "_deepnote_index_column": 3
        },
        {
         "AGE": 54.2,
         "B": 396.9,
         "CHAS": 0,
         "CRIM": 0.06905,
         "DIS": 6.0622,
         "INDUS": 2.18,
         "LSTAT": 5.33,
         "MEDV": 36.2,
         "NOX": 0.458,
         "PTRATIO": 18.7,
         "RAD": 3,
         "RM": 7.147,
         "TAX": 222,
         "ZN": 0,
         "_deepnote_index_column": 4
        },
        {
         "AGE": 58.7,
         "B": 394.12,
         "CHAS": 0,
         "CRIM": 0.02985,
         "DIS": 6.0622,
         "INDUS": 2.18,
         "LSTAT": 5.21,
         "MEDV": 28.7,
         "NOX": 0.458,
         "PTRATIO": 18.7,
         "RAD": 3,
         "RM": 6.43,
         "TAX": 222,
         "ZN": 0,
         "_deepnote_index_column": 5
        },
        {
         "AGE": 66.6,
         "B": 395.6,
         "CHAS": 0,
         "CRIM": 0.08829,
         "DIS": 5.5605,
         "INDUS": 7.87,
         "LSTAT": 12.43,
         "MEDV": 22.9,
         "NOX": 0.524,
         "PTRATIO": 15.2,
         "RAD": 5,
         "RM": 6.012,
         "TAX": 311,
         "ZN": 12.5,
         "_deepnote_index_column": 6
        },
        {
         "AGE": 96.1,
         "B": 396.9,
         "CHAS": 0,
         "CRIM": 0.14455,
         "DIS": 5.9505,
         "INDUS": 7.87,
         "LSTAT": 19.15,
         "MEDV": 27.1,
         "NOX": 0.524,
         "PTRATIO": 15.2,
         "RAD": 5,
         "RM": 6.172,
         "TAX": 311,
         "ZN": 12.5,
         "_deepnote_index_column": 7
        },
        {
         "AGE": 100,
         "B": 386.63,
         "CHAS": 0,
         "CRIM": 0.21124,
         "DIS": 6.0821,
         "INDUS": 7.87,
         "LSTAT": 29.93,
         "MEDV": 16.5,
         "NOX": 0.524,
         "PTRATIO": 15.2,
         "RAD": 5,
         "RM": 5.631,
         "TAX": 311,
         "ZN": 12.5,
         "_deepnote_index_column": 8
        },
        {
         "AGE": 85.9,
         "B": 386.71,
         "CHAS": 0,
         "CRIM": 0.17004,
         "DIS": 6.5921,
         "INDUS": 7.87,
         "LSTAT": 17.1,
         "MEDV": 18.9,
         "NOX": 0.524,
         "PTRATIO": 15.2,
         "RAD": 5,
         "RM": 6.004,
         "TAX": 311,
         "ZN": 12.5,
         "_deepnote_index_column": 9
        },
        {
         "AGE": 94.3,
         "B": 392.52,
         "CHAS": 0,
         "CRIM": 0.22489,
         "DIS": 6.3467,
         "INDUS": 7.87,
         "LSTAT": 20.45,
         "MEDV": 15,
         "NOX": 0.524,
         "PTRATIO": 15.2,
         "RAD": 5,
         "RM": 6.377,
         "TAX": 311,
         "ZN": 12.5,
         "_deepnote_index_column": 10
        },
        {
         "AGE": 82.9,
         "B": 396.9,
         "CHAS": 0,
         "CRIM": 0.11747,
         "DIS": 6.2267,
         "INDUS": 7.87,
         "LSTAT": 13.27,
         "MEDV": 18.9,
         "NOX": 0.524,
         "PTRATIO": 15.2,
         "RAD": 5,
         "RM": 6.009,
         "TAX": 311,
         "ZN": 12.5,
         "_deepnote_index_column": 11
        },
        {
         "AGE": 39,
         "B": 390.5,
         "CHAS": 0,
         "CRIM": 0.09378,
         "DIS": 5.4509,
         "INDUS": 7.87,
         "LSTAT": 15.71,
         "MEDV": 21.7,
         "NOX": 0.524,
         "PTRATIO": 15.2,
         "RAD": 5,
         "RM": 5.889,
         "TAX": 311,
         "ZN": 12.5,
         "_deepnote_index_column": 12
        },
        {
         "AGE": 61.8,
         "B": 396.9,
         "CHAS": 0,
         "CRIM": 0.62976,
         "DIS": 4.7075,
         "INDUS": 8.14,
         "LSTAT": 8.26,
         "MEDV": 20.4,
         "NOX": 0.538,
         "PTRATIO": 21,
         "RAD": 4,
         "RM": 5.949,
         "TAX": 307,
         "ZN": 0,
         "_deepnote_index_column": 13
        },
        {
         "AGE": 84.5,
         "B": 380.02,
         "CHAS": 0,
         "CRIM": 0.63796,
         "DIS": 4.4619,
         "INDUS": 8.14,
         "LSTAT": 10.26,
         "MEDV": 18.2,
         "NOX": 0.538,
         "PTRATIO": 21,
         "RAD": 4,
         "RM": 6.096,
         "TAX": 307,
         "ZN": 0,
         "_deepnote_index_column": 14
        },
        {
         "AGE": 56.5,
         "B": 395.62,
         "CHAS": 0,
         "CRIM": 0.62739,
         "DIS": 4.4986,
         "INDUS": 8.14,
         "LSTAT": 8.47,
         "MEDV": 19.9,
         "NOX": 0.538,
         "PTRATIO": 21,
         "RAD": 4,
         "RM": 5.834,
         "TAX": 307,
         "ZN": 0,
         "_deepnote_index_column": 15
        },
        {
         "AGE": 29.3,
         "B": 386.85,
         "CHAS": 0,
         "CRIM": 1.05393,
         "DIS": 4.4986,
         "INDUS": 8.14,
         "LSTAT": 6.58,
         "MEDV": 23.1,
         "NOX": 0.538,
         "PTRATIO": 21,
         "RAD": 4,
         "RM": 5.935,
         "TAX": 307,
         "ZN": 0,
         "_deepnote_index_column": 16
        },
        {
         "AGE": 81.7,
         "B": 386.75,
         "CHAS": 0,
         "CRIM": 0.7842,
         "DIS": 4.2579,
         "INDUS": 8.14,
         "LSTAT": 14.67,
         "MEDV": 17.5,
         "NOX": 0.538,
         "PTRATIO": 21,
         "RAD": 4,
         "RM": 5.99,
         "TAX": 307,
         "ZN": 0,
         "_deepnote_index_column": 17
        },
        {
         "AGE": 36.6,
         "B": 288.99,
         "CHAS": 0,
         "CRIM": 0.80271,
         "DIS": 3.7965,
         "INDUS": 8.14,
         "LSTAT": 11.69,
         "MEDV": 20.2,
         "NOX": 0.538,
         "PTRATIO": 21,
         "RAD": 4,
         "RM": 5.456,
         "TAX": 307,
         "ZN": 0,
         "_deepnote_index_column": 18
        },
        {
         "AGE": 69.5,
         "B": 390.95,
         "CHAS": 0,
         "CRIM": 0.7258,
         "DIS": 3.7965,
         "INDUS": 8.14,
         "LSTAT": 11.28,
         "MEDV": 18.2,
         "NOX": 0.538,
         "PTRATIO": 21,
         "RAD": 4,
         "RM": 5.727,
         "TAX": 307,
         "ZN": 0,
         "_deepnote_index_column": 19
        },
        {
         "AGE": 98.1,
         "B": 376.57,
         "CHAS": 0,
         "CRIM": 1.25179,
         "DIS": 3.7979,
         "INDUS": 8.14,
         "LSTAT": 21.02,
         "MEDV": 13.6,
         "NOX": 0.538,
         "PTRATIO": 21,
         "RAD": 4,
         "RM": 5.57,
         "TAX": 307,
         "ZN": 0,
         "_deepnote_index_column": 20
        },
        {
         "AGE": 89.2,
         "B": 392.53,
         "CHAS": 0,
         "CRIM": 0.85204,
         "DIS": 4.0123,
         "INDUS": 8.14,
         "LSTAT": 13.83,
         "MEDV": 19.6,
         "NOX": 0.538,
         "PTRATIO": 21,
         "RAD": 4,
         "RM": 5.965,
         "TAX": 307,
         "ZN": 0,
         "_deepnote_index_column": 21
        },
        {
         "AGE": 91.7,
         "B": 396.9,
         "CHAS": 0,
         "CRIM": 1.23247,
         "DIS": 3.9769,
         "INDUS": 8.14,
         "LSTAT": 18.72,
         "MEDV": 15.2,
         "NOX": 0.538,
         "PTRATIO": 21,
         "RAD": 4,
         "RM": 6.142,
         "TAX": 307,
         "ZN": 0,
         "_deepnote_index_column": 22
        },
        {
         "AGE": 100,
         "B": 394.54,
         "CHAS": 0,
         "CRIM": 0.98843,
         "DIS": 4.0952,
         "INDUS": 8.14,
         "LSTAT": 19.88,
         "MEDV": 14.5,
         "NOX": 0.538,
         "PTRATIO": 21,
         "RAD": 4,
         "RM": 5.813,
         "TAX": 307,
         "ZN": 0,
         "_deepnote_index_column": 23
        },
        {
         "AGE": 94.1,
         "B": 394.33,
         "CHAS": 0,
         "CRIM": 0.75026,
         "DIS": 4.3996,
         "INDUS": 8.14,
         "LSTAT": 16.3,
         "MEDV": 15.6,
         "NOX": 0.538,
         "PTRATIO": 21,
         "RAD": 4,
         "RM": 5.924,
         "TAX": 307,
         "ZN": 0,
         "_deepnote_index_column": 24
        },
        {
         "AGE": 85.7,
         "B": 303.42,
         "CHAS": 0,
         "CRIM": 0.84054,
         "DIS": 4.4546,
         "INDUS": 8.14,
         "LSTAT": 16.51,
         "MEDV": 13.9,
         "NOX": 0.538,
         "PTRATIO": 21,
         "RAD": 4,
         "RM": 5.599,
         "TAX": 307,
         "ZN": 0,
         "_deepnote_index_column": 25
        },
        {
         "AGE": 90.3,
         "B": 376.88,
         "CHAS": 0,
         "CRIM": 0.67191,
         "DIS": 4.682,
         "INDUS": 8.14,
         "LSTAT": 14.81,
         "MEDV": 16.6,
         "NOX": 0.538,
         "PTRATIO": 21,
         "RAD": 4,
         "RM": 5.813,
         "TAX": 307,
         "ZN": 0,
         "_deepnote_index_column": 26
        },
        {
         "AGE": 88.8,
         "B": 306.38,
         "CHAS": 0,
         "CRIM": 0.95577,
         "DIS": 4.4534,
         "INDUS": 8.14,
         "LSTAT": 17.28,
         "MEDV": 14.8,
         "NOX": 0.538,
         "PTRATIO": 21,
         "RAD": 4,
         "RM": 6.047,
         "TAX": 307,
         "ZN": 0,
         "_deepnote_index_column": 27
        },
        {
         "AGE": 94.4,
         "B": 387.94,
         "CHAS": 0,
         "CRIM": 0.77299,
         "DIS": 4.4547,
         "INDUS": 8.14,
         "LSTAT": 12.8,
         "MEDV": 18.4,
         "NOX": 0.538,
         "PTRATIO": 21,
         "RAD": 4,
         "RM": 6.495,
         "TAX": 307,
         "ZN": 0,
         "_deepnote_index_column": 28
        },
        {
         "AGE": 87.3,
         "B": 380.23,
         "CHAS": 0,
         "CRIM": 1.00245,
         "DIS": 4.239,
         "INDUS": 8.14,
         "LSTAT": 11.98,
         "MEDV": 21,
         "NOX": 0.538,
         "PTRATIO": 21,
         "RAD": 4,
         "RM": 6.674,
         "TAX": 307,
         "ZN": 0,
         "_deepnote_index_column": 29
        },
        {
         "AGE": 94.1,
         "B": 360.17,
         "CHAS": 0,
         "CRIM": 1.13081,
         "DIS": 4.233,
         "INDUS": 8.14,
         "LSTAT": 22.6,
         "MEDV": 12.7,
         "NOX": 0.538,
         "PTRATIO": 21,
         "RAD": 4,
         "RM": 5.713,
         "TAX": 307,
         "ZN": 0,
         "_deepnote_index_column": 30
        },
        {
         "AGE": 100,
         "B": 376.73,
         "CHAS": 0,
         "CRIM": 1.35472,
         "DIS": 4.175,
         "INDUS": 8.14,
         "LSTAT": 13.04,
         "MEDV": 14.5,
         "NOX": 0.538,
         "PTRATIO": 21,
         "RAD": 4,
         "RM": 6.072,
         "TAX": 307,
         "ZN": 0,
         "_deepnote_index_column": 31
        },
        {
         "AGE": 82,
         "B": 232.6,
         "CHAS": 0,
         "CRIM": 1.38799,
         "DIS": 3.99,
         "INDUS": 8.14,
         "LSTAT": 27.71,
         "MEDV": 13.2,
         "NOX": 0.538,
         "PTRATIO": 21,
         "RAD": 4,
         "RM": 5.95,
         "TAX": 307,
         "ZN": 0,
         "_deepnote_index_column": 32
        },
        {
         "AGE": 95,
         "B": 358.77,
         "CHAS": 0,
         "CRIM": 1.15172,
         "DIS": 3.7872,
         "INDUS": 8.14,
         "LSTAT": 18.35,
         "MEDV": 13.1,
         "NOX": 0.538,
         "PTRATIO": 21,
         "RAD": 4,
         "RM": 5.701,
         "TAX": 307,
         "ZN": 0,
         "_deepnote_index_column": 33
        },
        {
         "AGE": 96.9,
         "B": 248.31,
         "CHAS": 0,
         "CRIM": 1.61282,
         "DIS": 3.7598,
         "INDUS": 8.14,
         "LSTAT": 20.34,
         "MEDV": 13.5,
         "NOX": 0.538,
         "PTRATIO": 21,
         "RAD": 4,
         "RM": 6.096,
         "TAX": 307,
         "ZN": 0,
         "_deepnote_index_column": 34
        }
       ]
      },
      "text/html": [
       "<div>\n",
       "<style scoped>\n",
       "    .dataframe tbody tr th:only-of-type {\n",
       "        vertical-align: middle;\n",
       "    }\n",
       "\n",
       "    .dataframe tbody tr th {\n",
       "        vertical-align: top;\n",
       "    }\n",
       "\n",
       "    .dataframe thead th {\n",
       "        text-align: right;\n",
       "    }\n",
       "</style>\n",
       "<table border=\"1\" class=\"dataframe\">\n",
       "  <thead>\n",
       "    <tr style=\"text-align: right;\">\n",
       "      <th></th>\n",
       "      <th>CRIM</th>\n",
       "      <th>ZN</th>\n",
       "      <th>INDUS</th>\n",
       "      <th>CHAS</th>\n",
       "      <th>NOX</th>\n",
       "      <th>RM</th>\n",
       "      <th>AGE</th>\n",
       "      <th>DIS</th>\n",
       "      <th>RAD</th>\n",
       "      <th>TAX</th>\n",
       "      <th>PTRATIO</th>\n",
       "      <th>B</th>\n",
       "      <th>LSTAT</th>\n",
       "      <th>MEDV</th>\n",
       "    </tr>\n",
       "  </thead>\n",
       "  <tbody>\n",
       "    <tr>\n",
       "      <th>0</th>\n",
       "      <td>0.00632</td>\n",
       "      <td>18.0</td>\n",
       "      <td>2.31</td>\n",
       "      <td>0</td>\n",
       "      <td>0.538</td>\n",
       "      <td>6.575</td>\n",
       "      <td>65.2</td>\n",
       "      <td>4.0900</td>\n",
       "      <td>1</td>\n",
       "      <td>296.0</td>\n",
       "      <td>15.3</td>\n",
       "      <td>396.90</td>\n",
       "      <td>4.98</td>\n",
       "      <td>24.0</td>\n",
       "    </tr>\n",
       "    <tr>\n",
       "      <th>1</th>\n",
       "      <td>0.02731</td>\n",
       "      <td>0.0</td>\n",
       "      <td>7.07</td>\n",
       "      <td>0</td>\n",
       "      <td>0.469</td>\n",
       "      <td>6.421</td>\n",
       "      <td>78.9</td>\n",
       "      <td>4.9671</td>\n",
       "      <td>2</td>\n",
       "      <td>242.0</td>\n",
       "      <td>17.8</td>\n",
       "      <td>396.90</td>\n",
       "      <td>9.14</td>\n",
       "      <td>21.6</td>\n",
       "    </tr>\n",
       "    <tr>\n",
       "      <th>2</th>\n",
       "      <td>0.02729</td>\n",
       "      <td>0.0</td>\n",
       "      <td>7.07</td>\n",
       "      <td>0</td>\n",
       "      <td>0.469</td>\n",
       "      <td>7.185</td>\n",
       "      <td>61.1</td>\n",
       "      <td>4.9671</td>\n",
       "      <td>2</td>\n",
       "      <td>242.0</td>\n",
       "      <td>17.8</td>\n",
       "      <td>392.83</td>\n",
       "      <td>4.03</td>\n",
       "      <td>34.7</td>\n",
       "    </tr>\n",
       "    <tr>\n",
       "      <th>3</th>\n",
       "      <td>0.03237</td>\n",
       "      <td>0.0</td>\n",
       "      <td>2.18</td>\n",
       "      <td>0</td>\n",
       "      <td>0.458</td>\n",
       "      <td>6.998</td>\n",
       "      <td>45.8</td>\n",
       "      <td>6.0622</td>\n",
       "      <td>3</td>\n",
       "      <td>222.0</td>\n",
       "      <td>18.7</td>\n",
       "      <td>394.63</td>\n",
       "      <td>2.94</td>\n",
       "      <td>33.4</td>\n",
       "    </tr>\n",
       "    <tr>\n",
       "      <th>4</th>\n",
       "      <td>0.06905</td>\n",
       "      <td>0.0</td>\n",
       "      <td>2.18</td>\n",
       "      <td>0</td>\n",
       "      <td>0.458</td>\n",
       "      <td>7.147</td>\n",
       "      <td>54.2</td>\n",
       "      <td>6.0622</td>\n",
       "      <td>3</td>\n",
       "      <td>222.0</td>\n",
       "      <td>18.7</td>\n",
       "      <td>396.90</td>\n",
       "      <td>5.33</td>\n",
       "      <td>36.2</td>\n",
       "    </tr>\n",
       "    <tr>\n",
       "      <th>...</th>\n",
       "      <td>...</td>\n",
       "      <td>...</td>\n",
       "      <td>...</td>\n",
       "      <td>...</td>\n",
       "      <td>...</td>\n",
       "      <td>...</td>\n",
       "      <td>...</td>\n",
       "      <td>...</td>\n",
       "      <td>...</td>\n",
       "      <td>...</td>\n",
       "      <td>...</td>\n",
       "      <td>...</td>\n",
       "      <td>...</td>\n",
       "      <td>...</td>\n",
       "    </tr>\n",
       "    <tr>\n",
       "      <th>501</th>\n",
       "      <td>0.06263</td>\n",
       "      <td>0.0</td>\n",
       "      <td>11.93</td>\n",
       "      <td>0</td>\n",
       "      <td>0.573</td>\n",
       "      <td>6.593</td>\n",
       "      <td>69.1</td>\n",
       "      <td>2.4786</td>\n",
       "      <td>1</td>\n",
       "      <td>273.0</td>\n",
       "      <td>21.0</td>\n",
       "      <td>391.99</td>\n",
       "      <td>9.67</td>\n",
       "      <td>22.4</td>\n",
       "    </tr>\n",
       "    <tr>\n",
       "      <th>502</th>\n",
       "      <td>0.04527</td>\n",
       "      <td>0.0</td>\n",
       "      <td>11.93</td>\n",
       "      <td>0</td>\n",
       "      <td>0.573</td>\n",
       "      <td>6.120</td>\n",
       "      <td>76.7</td>\n",
       "      <td>2.2875</td>\n",
       "      <td>1</td>\n",
       "      <td>273.0</td>\n",
       "      <td>21.0</td>\n",
       "      <td>396.90</td>\n",
       "      <td>9.08</td>\n",
       "      <td>20.6</td>\n",
       "    </tr>\n",
       "    <tr>\n",
       "      <th>503</th>\n",
       "      <td>0.06076</td>\n",
       "      <td>0.0</td>\n",
       "      <td>11.93</td>\n",
       "      <td>0</td>\n",
       "      <td>0.573</td>\n",
       "      <td>6.976</td>\n",
       "      <td>91.0</td>\n",
       "      <td>2.1675</td>\n",
       "      <td>1</td>\n",
       "      <td>273.0</td>\n",
       "      <td>21.0</td>\n",
       "      <td>396.90</td>\n",
       "      <td>5.64</td>\n",
       "      <td>23.9</td>\n",
       "    </tr>\n",
       "    <tr>\n",
       "      <th>504</th>\n",
       "      <td>0.10959</td>\n",
       "      <td>0.0</td>\n",
       "      <td>11.93</td>\n",
       "      <td>0</td>\n",
       "      <td>0.573</td>\n",
       "      <td>6.794</td>\n",
       "      <td>89.3</td>\n",
       "      <td>2.3889</td>\n",
       "      <td>1</td>\n",
       "      <td>273.0</td>\n",
       "      <td>21.0</td>\n",
       "      <td>393.45</td>\n",
       "      <td>6.48</td>\n",
       "      <td>22.0</td>\n",
       "    </tr>\n",
       "    <tr>\n",
       "      <th>505</th>\n",
       "      <td>0.04741</td>\n",
       "      <td>0.0</td>\n",
       "      <td>11.93</td>\n",
       "      <td>0</td>\n",
       "      <td>0.573</td>\n",
       "      <td>6.030</td>\n",
       "      <td>80.8</td>\n",
       "      <td>2.5050</td>\n",
       "      <td>1</td>\n",
       "      <td>273.0</td>\n",
       "      <td>21.0</td>\n",
       "      <td>396.90</td>\n",
       "      <td>7.88</td>\n",
       "      <td>11.9</td>\n",
       "    </tr>\n",
       "  </tbody>\n",
       "</table>\n",
       "<p>506 rows × 14 columns</p>\n",
       "</div>"
      ],
      "text/plain": [
       "        CRIM    ZN  INDUS  CHAS    NOX     RM   AGE     DIS  RAD    TAX  \\\n",
       "0    0.00632  18.0   2.31     0  0.538  6.575  65.2  4.0900    1  296.0   \n",
       "1    0.02731   0.0   7.07     0  0.469  6.421  78.9  4.9671    2  242.0   \n",
       "2    0.02729   0.0   7.07     0  0.469  7.185  61.1  4.9671    2  242.0   \n",
       "3    0.03237   0.0   2.18     0  0.458  6.998  45.8  6.0622    3  222.0   \n",
       "4    0.06905   0.0   2.18     0  0.458  7.147  54.2  6.0622    3  222.0   \n",
       "..       ...   ...    ...   ...    ...    ...   ...     ...  ...    ...   \n",
       "501  0.06263   0.0  11.93     0  0.573  6.593  69.1  2.4786    1  273.0   \n",
       "502  0.04527   0.0  11.93     0  0.573  6.120  76.7  2.2875    1  273.0   \n",
       "503  0.06076   0.0  11.93     0  0.573  6.976  91.0  2.1675    1  273.0   \n",
       "504  0.10959   0.0  11.93     0  0.573  6.794  89.3  2.3889    1  273.0   \n",
       "505  0.04741   0.0  11.93     0  0.573  6.030  80.8  2.5050    1  273.0   \n",
       "\n",
       "     PTRATIO       B  LSTAT  MEDV  \n",
       "0       15.3  396.90   4.98  24.0  \n",
       "1       17.8  396.90   9.14  21.6  \n",
       "2       17.8  392.83   4.03  34.7  \n",
       "3       18.7  394.63   2.94  33.4  \n",
       "4       18.7  396.90   5.33  36.2  \n",
       "..       ...     ...    ...   ...  \n",
       "501     21.0  391.99   9.67  22.4  \n",
       "502     21.0  396.90   9.08  20.6  \n",
       "503     21.0  396.90   5.64  23.9  \n",
       "504     21.0  393.45   6.48  22.0  \n",
       "505     21.0  396.90   7.88  11.9  \n",
       "\n",
       "[506 rows x 14 columns]"
      ]
     },
     "execution_count": 2,
     "metadata": {},
     "output_type": "execute_result"
    }
   ],
   "source": [
    "column_names = ['CRIM', 'ZN', 'INDUS', 'CHAS', 'NOX', 'RM', 'AGE', 'DIS', 'RAD', 'TAX', 'PTRATIO', 'B', 'LSTAT', 'MEDV']\n",
    "data = pd.read_csv('./housing.csv', header=None, delimiter=r\"\\s+\", names=column_names)\n",
    "data"
   ]
  },
  {
   "cell_type": "code",
   "execution_count": null,
   "metadata": {
    "cell_id": "00002-b2755153-6094-470f-a702-7fb850eeea8c",
    "deepnote_cell_type": "code",
    "deepnote_to_be_reexecuted": false,
    "execution_millis": 155,
    "execution_start": 1631900632437,
    "source_hash": "d786443f",
    "tags": []
   },
   "outputs": [
    {
     "data": {
      "application/vnd.deepnote.dataframe.v2+json": {
       "column_count": 14,
       "columns": [
        {
         "dtype": "float64",
         "name": "CRIM",
         "stats": {
          "histogram": [
           {
            "bin_end": 50.605688,
            "bin_start": 0.00632,
            "count": 6
           },
           {
            "bin_end": 101.205056,
            "bin_start": 50.605688,
            "count": 1
           },
           {
            "bin_end": 151.80442399999998,
            "bin_start": 101.205056,
            "count": 0
           },
           {
            "bin_end": 202.40379199999998,
            "bin_start": 151.80442399999998,
            "count": 0
           },
           {
            "bin_end": 253.00315999999998,
            "bin_start": 202.40379199999998,
            "count": 0
           },
           {
            "bin_end": 303.602528,
            "bin_start": 253.00315999999998,
            "count": 0
           },
           {
            "bin_end": 354.201896,
            "bin_start": 303.602528,
            "count": 0
           },
           {
            "bin_end": 404.801264,
            "bin_start": 354.201896,
            "count": 0
           },
           {
            "bin_end": 455.40063200000003,
            "bin_start": 404.801264,
            "count": 0
           },
           {
            "bin_end": 506,
            "bin_start": 455.40063200000003,
            "count": 1
           }
          ],
          "max": "506.0",
          "min": "0.00632",
          "nan_count": 0,
          "unique_count": 8
         }
        },
        {
         "dtype": "float64",
         "name": "ZN",
         "stats": {
          "histogram": [
           {
            "bin_end": 50.6,
            "bin_start": 0,
            "count": 6
           },
           {
            "bin_end": 101.2,
            "bin_start": 50.6,
            "count": 1
           },
           {
            "bin_end": 151.8,
            "bin_start": 101.2,
            "count": 0
           },
           {
            "bin_end": 202.4,
            "bin_start": 151.8,
            "count": 0
           },
           {
            "bin_end": 253,
            "bin_start": 202.4,
            "count": 0
           },
           {
            "bin_end": 303.6,
            "bin_start": 253,
            "count": 0
           },
           {
            "bin_end": 354.2,
            "bin_start": 303.6,
            "count": 0
           },
           {
            "bin_end": 404.8,
            "bin_start": 354.2,
            "count": 0
           },
           {
            "bin_end": 455.40000000000003,
            "bin_start": 404.8,
            "count": 0
           },
           {
            "bin_end": 506,
            "bin_start": 455.40000000000003,
            "count": 1
           }
          ],
          "max": "506.0",
          "min": "0.0",
          "nan_count": 0,
          "unique_count": 6
         }
        },
        {
         "dtype": "float64",
         "name": "INDUS",
         "stats": {
          "histogram": [
           {
            "bin_end": 51.014,
            "bin_start": 0.46,
            "count": 7
           },
           {
            "bin_end": 101.568,
            "bin_start": 51.014,
            "count": 0
           },
           {
            "bin_end": 152.122,
            "bin_start": 101.568,
            "count": 0
           },
           {
            "bin_end": 202.67600000000002,
            "bin_start": 152.122,
            "count": 0
           },
           {
            "bin_end": 253.23000000000002,
            "bin_start": 202.67600000000002,
            "count": 0
           },
           {
            "bin_end": 303.784,
            "bin_start": 253.23000000000002,
            "count": 0
           },
           {
            "bin_end": 354.338,
            "bin_start": 303.784,
            "count": 0
           },
           {
            "bin_end": 404.892,
            "bin_start": 354.338,
            "count": 0
           },
           {
            "bin_end": 455.44599999999997,
            "bin_start": 404.892,
            "count": 0
           },
           {
            "bin_end": 506,
            "bin_start": 455.44599999999997,
            "count": 1
           }
          ],
          "max": "506.0",
          "min": "0.46",
          "nan_count": 0,
          "unique_count": 8
         }
        },
        {
         "dtype": "float64",
         "name": "CHAS",
         "stats": {
          "histogram": [
           {
            "bin_end": 50.6,
            "bin_start": 0,
            "count": 7
           },
           {
            "bin_end": 101.2,
            "bin_start": 50.6,
            "count": 0
           },
           {
            "bin_end": 151.8,
            "bin_start": 101.2,
            "count": 0
           },
           {
            "bin_end": 202.4,
            "bin_start": 151.8,
            "count": 0
           },
           {
            "bin_end": 253,
            "bin_start": 202.4,
            "count": 0
           },
           {
            "bin_end": 303.6,
            "bin_start": 253,
            "count": 0
           },
           {
            "bin_end": 354.2,
            "bin_start": 303.6,
            "count": 0
           },
           {
            "bin_end": 404.8,
            "bin_start": 354.2,
            "count": 0
           },
           {
            "bin_end": 455.40000000000003,
            "bin_start": 404.8,
            "count": 0
           },
           {
            "bin_end": 506,
            "bin_start": 455.40000000000003,
            "count": 1
           }
          ],
          "max": "506.0",
          "min": "0.0",
          "nan_count": 0,
          "unique_count": 5
         }
        },
        {
         "dtype": "float64",
         "name": "NOX",
         "stats": {
          "histogram": [
           {
            "bin_end": 50.7042899081008,
            "bin_start": 0.11587767566755595,
            "count": 7
           },
           {
            "bin_end": 101.29270214053405,
            "bin_start": 50.7042899081008,
            "count": 0
           },
           {
            "bin_end": 151.88111437296726,
            "bin_start": 101.29270214053405,
            "count": 0
           },
           {
            "bin_end": 202.46952660540052,
            "bin_start": 151.88111437296726,
            "count": 0
           },
           {
            "bin_end": 253.05793883783377,
            "bin_start": 202.46952660540052,
            "count": 0
           },
           {
            "bin_end": 303.646351070267,
            "bin_start": 253.05793883783377,
            "count": 0
           },
           {
            "bin_end": 354.23476330270023,
            "bin_start": 303.646351070267,
            "count": 0
           },
           {
            "bin_end": 404.8231755351335,
            "bin_start": 354.23476330270023,
            "count": 0
           },
           {
            "bin_end": 455.41158776756674,
            "bin_start": 404.8231755351335,
            "count": 0
           },
           {
            "bin_end": 506,
            "bin_start": 455.41158776756674,
            "count": 1
           }
          ],
          "max": "506.0",
          "min": "0.11587767566755595",
          "nan_count": 0,
          "unique_count": 8
         }
        },
        {
         "dtype": "float64",
         "name": "RM",
         "stats": {
          "histogram": [
           {
            "bin_end": 51.23235542907379,
            "bin_start": 0.7026171434153233,
            "count": 7
           },
           {
            "bin_end": 101.76209371473226,
            "bin_start": 51.23235542907379,
            "count": 0
           },
           {
            "bin_end": 152.2918320003907,
            "bin_start": 101.76209371473226,
            "count": 0
           },
           {
            "bin_end": 202.8215702860492,
            "bin_start": 152.2918320003907,
            "count": 0
           },
           {
            "bin_end": 253.35130857170768,
            "bin_start": 202.8215702860492,
            "count": 0
           },
           {
            "bin_end": 303.8810468573661,
            "bin_start": 253.35130857170768,
            "count": 0
           },
           {
            "bin_end": 354.41078514302455,
            "bin_start": 303.8810468573661,
            "count": 0
           },
           {
            "bin_end": 404.94052342868304,
            "bin_start": 354.41078514302455,
            "count": 0
           },
           {
            "bin_end": 455.4702617143415,
            "bin_start": 404.94052342868304,
            "count": 0
           },
           {
            "bin_end": 506,
            "bin_start": 455.4702617143415,
            "count": 1
           }
          ],
          "max": "506.0",
          "min": "0.7026171434153233",
          "nan_count": 0,
          "unique_count": 8
         }
        },
        {
         "dtype": "float64",
         "name": "AGE",
         "stats": {
          "histogram": [
           {
            "bin_end": 53.21,
            "bin_start": 2.9,
            "count": 3
           },
           {
            "bin_end": 103.52000000000001,
            "bin_start": 53.21,
            "count": 4
           },
           {
            "bin_end": 153.83,
            "bin_start": 103.52000000000001,
            "count": 0
           },
           {
            "bin_end": 204.14000000000001,
            "bin_start": 153.83,
            "count": 0
           },
           {
            "bin_end": 254.45000000000002,
            "bin_start": 204.14000000000001,
            "count": 0
           },
           {
            "bin_end": 304.76,
            "bin_start": 254.45000000000002,
            "count": 0
           },
           {
            "bin_end": 355.07,
            "bin_start": 304.76,
            "count": 0
           },
           {
            "bin_end": 405.38,
            "bin_start": 355.07,
            "count": 0
           },
           {
            "bin_end": 455.69,
            "bin_start": 405.38,
            "count": 0
           },
           {
            "bin_end": 506,
            "bin_start": 455.69,
            "count": 1
           }
          ],
          "max": "506.0",
          "min": "2.9",
          "nan_count": 0,
          "unique_count": 8
         }
        },
        {
         "dtype": "float64",
         "name": "DIS",
         "stats": {
          "histogram": [
           {
            "bin_end": 51.616640000000004,
            "bin_start": 1.1296,
            "count": 7
           },
           {
            "bin_end": 102.10368,
            "bin_start": 51.616640000000004,
            "count": 0
           },
           {
            "bin_end": 152.59072,
            "bin_start": 102.10368,
            "count": 0
           },
           {
            "bin_end": 203.07776,
            "bin_start": 152.59072,
            "count": 0
           },
           {
            "bin_end": 253.56480000000002,
            "bin_start": 203.07776,
            "count": 0
           },
           {
            "bin_end": 304.05183999999997,
            "bin_start": 253.56480000000002,
            "count": 0
           },
           {
            "bin_end": 354.53888,
            "bin_start": 304.05183999999997,
            "count": 0
           },
           {
            "bin_end": 405.02592,
            "bin_start": 354.53888,
            "count": 0
           },
           {
            "bin_end": 455.51295999999996,
            "bin_start": 405.02592,
            "count": 0
           },
           {
            "bin_end": 506,
            "bin_start": 455.51295999999996,
            "count": 1
           }
          ],
          "max": "506.0",
          "min": "1.1296",
          "nan_count": 0,
          "unique_count": 8
         }
        },
        {
         "dtype": "float64",
         "name": "RAD",
         "stats": {
          "histogram": [
           {
            "bin_end": 51.5,
            "bin_start": 1,
            "count": 7
           },
           {
            "bin_end": 102,
            "bin_start": 51.5,
            "count": 0
           },
           {
            "bin_end": 152.5,
            "bin_start": 102,
            "count": 0
           },
           {
            "bin_end": 203,
            "bin_start": 152.5,
            "count": 0
           },
           {
            "bin_end": 253.5,
            "bin_start": 203,
            "count": 0
           },
           {
            "bin_end": 304,
            "bin_start": 253.5,
            "count": 0
           },
           {
            "bin_end": 354.5,
            "bin_start": 304,
            "count": 0
           },
           {
            "bin_end": 405,
            "bin_start": 354.5,
            "count": 0
           },
           {
            "bin_end": 455.5,
            "bin_start": 405,
            "count": 0
           },
           {
            "bin_end": 506,
            "bin_start": 455.5,
            "count": 1
           }
          ],
          "max": "506.0",
          "min": "1.0",
          "nan_count": 0,
          "unique_count": 7
         }
        },
        {
         "dtype": "float64",
         "name": "TAX",
         "stats": {
          "histogram": [
           {
            "bin_end": 222.78340444946312,
            "bin_start": 168.53711605495903,
            "count": 2
           },
           {
            "bin_end": 277.0296928439672,
            "bin_start": 222.78340444946312,
            "count": 0
           },
           {
            "bin_end": 331.27598123847133,
            "bin_start": 277.0296928439672,
            "count": 2
           },
           {
            "bin_end": 385.5222696329754,
            "bin_start": 331.27598123847133,
            "count": 0
           },
           {
            "bin_end": 439.7685580274795,
            "bin_start": 385.5222696329754,
            "count": 1
           },
           {
            "bin_end": 494.01484642198363,
            "bin_start": 439.7685580274795,
            "count": 0
           },
           {
            "bin_end": 548.2611348164877,
            "bin_start": 494.01484642198363,
            "count": 1
           },
           {
            "bin_end": 602.5074232109919,
            "bin_start": 548.2611348164877,
            "count": 0
           },
           {
            "bin_end": 656.7537116054959,
            "bin_start": 602.5074232109919,
            "count": 0
           },
           {
            "bin_end": 711,
            "bin_start": 656.7537116054959,
            "count": 2
           }
          ],
          "max": "711.0",
          "min": "168.53711605495903",
          "nan_count": 0,
          "unique_count": 8
         }
        },
        {
         "dtype": "float64",
         "name": "PTRATIO",
         "stats": {
          "histogram": [
           {
            "bin_end": 52.548450971343,
            "bin_start": 2.1649455237144406,
            "count": 7
           },
           {
            "bin_end": 102.93195641897155,
            "bin_start": 52.548450971343,
            "count": 0
           },
           {
            "bin_end": 153.31546186660012,
            "bin_start": 102.93195641897155,
            "count": 0
           },
           {
            "bin_end": 203.69896731422867,
            "bin_start": 153.31546186660012,
            "count": 0
           },
           {
            "bin_end": 254.08247276185722,
            "bin_start": 203.69896731422867,
            "count": 0
           },
           {
            "bin_end": 304.4659782094858,
            "bin_start": 254.08247276185722,
            "count": 0
           },
           {
            "bin_end": 354.8494836571143,
            "bin_start": 304.4659782094858,
            "count": 0
           },
           {
            "bin_end": 405.2329891047429,
            "bin_start": 354.8494836571143,
            "count": 0
           },
           {
            "bin_end": 455.6164945523715,
            "bin_start": 405.2329891047429,
            "count": 0
           },
           {
            "bin_end": 506,
            "bin_start": 455.6164945523715,
            "count": 1
           }
          ],
          "max": "506.0",
          "min": "2.1649455237144406",
          "nan_count": 0,
          "unique_count": 8
         }
        },
        {
         "dtype": "float64",
         "name": "B",
         "stats": {
          "histogram": [
           {
            "bin_end": 50.888,
            "bin_start": 0.32,
            "count": 1
           },
           {
            "bin_end": 101.45599999999999,
            "bin_start": 50.888,
            "count": 1
           },
           {
            "bin_end": 152.024,
            "bin_start": 101.45599999999999,
            "count": 0
           },
           {
            "bin_end": 202.59199999999998,
            "bin_start": 152.024,
            "count": 0
           },
           {
            "bin_end": 253.15999999999997,
            "bin_start": 202.59199999999998,
            "count": 0
           },
           {
            "bin_end": 303.728,
            "bin_start": 253.15999999999997,
            "count": 0
           },
           {
            "bin_end": 354.296,
            "bin_start": 303.728,
            "count": 0
           },
           {
            "bin_end": 404.864,
            "bin_start": 354.296,
            "count": 5
           },
           {
            "bin_end": 455.43199999999996,
            "bin_start": 404.864,
            "count": 0
           },
           {
            "bin_end": 506,
            "bin_start": 455.43199999999996,
            "count": 1
           }
          ],
          "max": "506.0",
          "min": "0.32",
          "nan_count": 0,
          "unique_count": 8
         }
        },
        {
         "dtype": "float64",
         "name": "LSTAT",
         "stats": {
          "histogram": [
           {
            "bin_end": 52.157,
            "bin_start": 1.73,
            "count": 7
           },
           {
            "bin_end": 102.584,
            "bin_start": 52.157,
            "count": 0
           },
           {
            "bin_end": 153.011,
            "bin_start": 102.584,
            "count": 0
           },
           {
            "bin_end": 203.438,
            "bin_start": 153.011,
            "count": 0
           },
           {
            "bin_end": 253.86499999999998,
            "bin_start": 203.438,
            "count": 0
           },
           {
            "bin_end": 304.29200000000003,
            "bin_start": 253.86499999999998,
            "count": 0
           },
           {
            "bin_end": 354.719,
            "bin_start": 304.29200000000003,
            "count": 0
           },
           {
            "bin_end": 405.146,
            "bin_start": 354.719,
            "count": 0
           },
           {
            "bin_end": 455.57300000000004,
            "bin_start": 405.146,
            "count": 0
           },
           {
            "bin_end": 506,
            "bin_start": 455.57300000000004,
            "count": 1
           }
          ],
          "max": "506.0",
          "min": "1.73",
          "nan_count": 0,
          "unique_count": 8
         }
        },
        {
         "dtype": "float64",
         "name": "MEDV",
         "stats": {
          "histogram": [
           {
            "bin_end": 55.1,
            "bin_start": 5,
            "count": 7
           },
           {
            "bin_end": 105.2,
            "bin_start": 55.1,
            "count": 0
           },
           {
            "bin_end": 155.3,
            "bin_start": 105.2,
            "count": 0
           },
           {
            "bin_end": 205.4,
            "bin_start": 155.3,
            "count": 0
           },
           {
            "bin_end": 255.5,
            "bin_start": 205.4,
            "count": 0
           },
           {
            "bin_end": 305.6,
            "bin_start": 255.5,
            "count": 0
           },
           {
            "bin_end": 355.7,
            "bin_start": 305.6,
            "count": 0
           },
           {
            "bin_end": 405.8,
            "bin_start": 355.7,
            "count": 0
           },
           {
            "bin_end": 455.90000000000003,
            "bin_start": 405.8,
            "count": 0
           },
           {
            "bin_end": 506,
            "bin_start": 455.90000000000003,
            "count": 1
           }
          ],
          "max": "506.0",
          "min": "5.0",
          "nan_count": 0,
          "unique_count": 8
         }
        },
        {
         "dtype": "object",
         "name": "_deepnote_index_column"
        }
       ],
       "row_count": 8,
       "rows_bottom": null,
       "rows_top": [
        {
         "AGE": 506,
         "B": 506,
         "CHAS": 506,
         "CRIM": 506,
         "DIS": 506,
         "INDUS": 506,
         "LSTAT": 506,
         "MEDV": 506,
         "NOX": 506,
         "PTRATIO": 506,
         "RAD": 506,
         "RM": 506,
         "TAX": 506,
         "ZN": 506,
         "_deepnote_index_column": "count"
        },
        {
         "AGE": 68.57490118577076,
         "B": 356.6740316205534,
         "CHAS": 0.0691699604743083,
         "CRIM": 3.613523557312254,
         "DIS": 3.795042687747036,
         "INDUS": 11.13677865612648,
         "LSTAT": 12.653063241106722,
         "MEDV": 22.532806324110677,
         "NOX": 0.5546950592885376,
         "PTRATIO": 18.455533596837945,
         "RAD": 9.549407114624506,
         "RM": 6.284634387351779,
         "TAX": 408.2371541501976,
         "ZN": 11.363636363636363,
         "_deepnote_index_column": "mean"
        },
        {
         "AGE": 28.148861406903617,
         "B": 91.29486438415783,
         "CHAS": 0.25399404134041037,
         "CRIM": 8.60154510533249,
         "DIS": 2.105710126627611,
         "INDUS": 6.860352940897585,
         "LSTAT": 7.141061511348571,
         "MEDV": 9.197104087379818,
         "NOX": 0.11587767566755595,
         "PTRATIO": 2.1649455237144406,
         "RAD": 8.707259384239366,
         "RM": 0.7026171434153233,
         "TAX": 168.53711605495903,
         "ZN": 23.32245299451514,
         "_deepnote_index_column": "std"
        },
        {
         "AGE": 2.9,
         "B": 0.32,
         "CHAS": 0,
         "CRIM": 0.00632,
         "DIS": 1.1296,
         "INDUS": 0.46,
         "LSTAT": 1.73,
         "MEDV": 5,
         "NOX": 0.385,
         "PTRATIO": 12.6,
         "RAD": 1,
         "RM": 3.561,
         "TAX": 187,
         "ZN": 0,
         "_deepnote_index_column": "min"
        },
        {
         "AGE": 45.025,
         "B": 375.3775,
         "CHAS": 0,
         "CRIM": 0.08204499999999999,
         "DIS": 2.100175,
         "INDUS": 5.19,
         "LSTAT": 6.949999999999999,
         "MEDV": 17.025,
         "NOX": 0.449,
         "PTRATIO": 17.4,
         "RAD": 4,
         "RM": 5.8855,
         "TAX": 279,
         "ZN": 0,
         "_deepnote_index_column": "25%"
        },
        {
         "AGE": 77.5,
         "B": 391.44,
         "CHAS": 0,
         "CRIM": 0.25651,
         "DIS": 3.2074499999999997,
         "INDUS": 9.69,
         "LSTAT": 11.36,
         "MEDV": 21.2,
         "NOX": 0.538,
         "PTRATIO": 19.05,
         "RAD": 5,
         "RM": 6.2085,
         "TAX": 330,
         "ZN": 0,
         "_deepnote_index_column": "50%"
        },
        {
         "AGE": 94.07499999999999,
         "B": 396.225,
         "CHAS": 0,
         "CRIM": 3.6770825,
         "DIS": 5.1884250000000005,
         "INDUS": 18.1,
         "LSTAT": 16.955000000000002,
         "MEDV": 25,
         "NOX": 0.624,
         "PTRATIO": 20.2,
         "RAD": 24,
         "RM": 6.6235,
         "TAX": 666,
         "ZN": 12.5,
         "_deepnote_index_column": "75%"
        },
        {
         "AGE": 100,
         "B": 396.9,
         "CHAS": 1,
         "CRIM": 88.9762,
         "DIS": 12.1265,
         "INDUS": 27.74,
         "LSTAT": 37.97,
         "MEDV": 50,
         "NOX": 0.871,
         "PTRATIO": 22,
         "RAD": 24,
         "RM": 8.78,
         "TAX": 711,
         "ZN": 100,
         "_deepnote_index_column": "max"
        }
       ]
      },
      "text/html": [
       "<div>\n",
       "<style scoped>\n",
       "    .dataframe tbody tr th:only-of-type {\n",
       "        vertical-align: middle;\n",
       "    }\n",
       "\n",
       "    .dataframe tbody tr th {\n",
       "        vertical-align: top;\n",
       "    }\n",
       "\n",
       "    .dataframe thead th {\n",
       "        text-align: right;\n",
       "    }\n",
       "</style>\n",
       "<table border=\"1\" class=\"dataframe\">\n",
       "  <thead>\n",
       "    <tr style=\"text-align: right;\">\n",
       "      <th></th>\n",
       "      <th>CRIM</th>\n",
       "      <th>ZN</th>\n",
       "      <th>INDUS</th>\n",
       "      <th>CHAS</th>\n",
       "      <th>NOX</th>\n",
       "      <th>RM</th>\n",
       "      <th>AGE</th>\n",
       "      <th>DIS</th>\n",
       "      <th>RAD</th>\n",
       "      <th>TAX</th>\n",
       "      <th>PTRATIO</th>\n",
       "      <th>B</th>\n",
       "      <th>LSTAT</th>\n",
       "      <th>MEDV</th>\n",
       "    </tr>\n",
       "  </thead>\n",
       "  <tbody>\n",
       "    <tr>\n",
       "      <th>count</th>\n",
       "      <td>506.000000</td>\n",
       "      <td>506.000000</td>\n",
       "      <td>506.000000</td>\n",
       "      <td>506.000000</td>\n",
       "      <td>506.000000</td>\n",
       "      <td>506.000000</td>\n",
       "      <td>506.000000</td>\n",
       "      <td>506.000000</td>\n",
       "      <td>506.000000</td>\n",
       "      <td>506.000000</td>\n",
       "      <td>506.000000</td>\n",
       "      <td>506.000000</td>\n",
       "      <td>506.000000</td>\n",
       "      <td>506.000000</td>\n",
       "    </tr>\n",
       "    <tr>\n",
       "      <th>mean</th>\n",
       "      <td>3.613524</td>\n",
       "      <td>11.363636</td>\n",
       "      <td>11.136779</td>\n",
       "      <td>0.069170</td>\n",
       "      <td>0.554695</td>\n",
       "      <td>6.284634</td>\n",
       "      <td>68.574901</td>\n",
       "      <td>3.795043</td>\n",
       "      <td>9.549407</td>\n",
       "      <td>408.237154</td>\n",
       "      <td>18.455534</td>\n",
       "      <td>356.674032</td>\n",
       "      <td>12.653063</td>\n",
       "      <td>22.532806</td>\n",
       "    </tr>\n",
       "    <tr>\n",
       "      <th>std</th>\n",
       "      <td>8.601545</td>\n",
       "      <td>23.322453</td>\n",
       "      <td>6.860353</td>\n",
       "      <td>0.253994</td>\n",
       "      <td>0.115878</td>\n",
       "      <td>0.702617</td>\n",
       "      <td>28.148861</td>\n",
       "      <td>2.105710</td>\n",
       "      <td>8.707259</td>\n",
       "      <td>168.537116</td>\n",
       "      <td>2.164946</td>\n",
       "      <td>91.294864</td>\n",
       "      <td>7.141062</td>\n",
       "      <td>9.197104</td>\n",
       "    </tr>\n",
       "    <tr>\n",
       "      <th>min</th>\n",
       "      <td>0.006320</td>\n",
       "      <td>0.000000</td>\n",
       "      <td>0.460000</td>\n",
       "      <td>0.000000</td>\n",
       "      <td>0.385000</td>\n",
       "      <td>3.561000</td>\n",
       "      <td>2.900000</td>\n",
       "      <td>1.129600</td>\n",
       "      <td>1.000000</td>\n",
       "      <td>187.000000</td>\n",
       "      <td>12.600000</td>\n",
       "      <td>0.320000</td>\n",
       "      <td>1.730000</td>\n",
       "      <td>5.000000</td>\n",
       "    </tr>\n",
       "    <tr>\n",
       "      <th>25%</th>\n",
       "      <td>0.082045</td>\n",
       "      <td>0.000000</td>\n",
       "      <td>5.190000</td>\n",
       "      <td>0.000000</td>\n",
       "      <td>0.449000</td>\n",
       "      <td>5.885500</td>\n",
       "      <td>45.025000</td>\n",
       "      <td>2.100175</td>\n",
       "      <td>4.000000</td>\n",
       "      <td>279.000000</td>\n",
       "      <td>17.400000</td>\n",
       "      <td>375.377500</td>\n",
       "      <td>6.950000</td>\n",
       "      <td>17.025000</td>\n",
       "    </tr>\n",
       "    <tr>\n",
       "      <th>50%</th>\n",
       "      <td>0.256510</td>\n",
       "      <td>0.000000</td>\n",
       "      <td>9.690000</td>\n",
       "      <td>0.000000</td>\n",
       "      <td>0.538000</td>\n",
       "      <td>6.208500</td>\n",
       "      <td>77.500000</td>\n",
       "      <td>3.207450</td>\n",
       "      <td>5.000000</td>\n",
       "      <td>330.000000</td>\n",
       "      <td>19.050000</td>\n",
       "      <td>391.440000</td>\n",
       "      <td>11.360000</td>\n",
       "      <td>21.200000</td>\n",
       "    </tr>\n",
       "    <tr>\n",
       "      <th>75%</th>\n",
       "      <td>3.677083</td>\n",
       "      <td>12.500000</td>\n",
       "      <td>18.100000</td>\n",
       "      <td>0.000000</td>\n",
       "      <td>0.624000</td>\n",
       "      <td>6.623500</td>\n",
       "      <td>94.075000</td>\n",
       "      <td>5.188425</td>\n",
       "      <td>24.000000</td>\n",
       "      <td>666.000000</td>\n",
       "      <td>20.200000</td>\n",
       "      <td>396.225000</td>\n",
       "      <td>16.955000</td>\n",
       "      <td>25.000000</td>\n",
       "    </tr>\n",
       "    <tr>\n",
       "      <th>max</th>\n",
       "      <td>88.976200</td>\n",
       "      <td>100.000000</td>\n",
       "      <td>27.740000</td>\n",
       "      <td>1.000000</td>\n",
       "      <td>0.871000</td>\n",
       "      <td>8.780000</td>\n",
       "      <td>100.000000</td>\n",
       "      <td>12.126500</td>\n",
       "      <td>24.000000</td>\n",
       "      <td>711.000000</td>\n",
       "      <td>22.000000</td>\n",
       "      <td>396.900000</td>\n",
       "      <td>37.970000</td>\n",
       "      <td>50.000000</td>\n",
       "    </tr>\n",
       "  </tbody>\n",
       "</table>\n",
       "</div>"
      ],
      "text/plain": [
       "             CRIM          ZN       INDUS        CHAS         NOX          RM  \\\n",
       "count  506.000000  506.000000  506.000000  506.000000  506.000000  506.000000   \n",
       "mean     3.613524   11.363636   11.136779    0.069170    0.554695    6.284634   \n",
       "std      8.601545   23.322453    6.860353    0.253994    0.115878    0.702617   \n",
       "min      0.006320    0.000000    0.460000    0.000000    0.385000    3.561000   \n",
       "25%      0.082045    0.000000    5.190000    0.000000    0.449000    5.885500   \n",
       "50%      0.256510    0.000000    9.690000    0.000000    0.538000    6.208500   \n",
       "75%      3.677083   12.500000   18.100000    0.000000    0.624000    6.623500   \n",
       "max     88.976200  100.000000   27.740000    1.000000    0.871000    8.780000   \n",
       "\n",
       "              AGE         DIS         RAD         TAX     PTRATIO           B  \\\n",
       "count  506.000000  506.000000  506.000000  506.000000  506.000000  506.000000   \n",
       "mean    68.574901    3.795043    9.549407  408.237154   18.455534  356.674032   \n",
       "std     28.148861    2.105710    8.707259  168.537116    2.164946   91.294864   \n",
       "min      2.900000    1.129600    1.000000  187.000000   12.600000    0.320000   \n",
       "25%     45.025000    2.100175    4.000000  279.000000   17.400000  375.377500   \n",
       "50%     77.500000    3.207450    5.000000  330.000000   19.050000  391.440000   \n",
       "75%     94.075000    5.188425   24.000000  666.000000   20.200000  396.225000   \n",
       "max    100.000000   12.126500   24.000000  711.000000   22.000000  396.900000   \n",
       "\n",
       "            LSTAT        MEDV  \n",
       "count  506.000000  506.000000  \n",
       "mean    12.653063   22.532806  \n",
       "std      7.141062    9.197104  \n",
       "min      1.730000    5.000000  \n",
       "25%      6.950000   17.025000  \n",
       "50%     11.360000   21.200000  \n",
       "75%     16.955000   25.000000  \n",
       "max     37.970000   50.000000  "
      ]
     },
     "execution_count": 3,
     "metadata": {},
     "output_type": "execute_result"
    }
   ],
   "source": [
    "data.describe()"
   ]
  },
  {
   "cell_type": "code",
   "execution_count": null,
   "metadata": {
    "cell_id": "00003-cf65ce81-9dd1-49f3-9fc3-b90951a60261",
    "deepnote_cell_type": "code",
    "deepnote_to_be_reexecuted": false,
    "execution_millis": 7,
    "execution_start": 1631900633436,
    "source_hash": "957547ae",
    "tags": []
   },
   "outputs": [
    {
     "name": "stdout",
     "output_type": "stream",
     "text": [
      "<class 'pandas.core.frame.DataFrame'>\n",
      "RangeIndex: 506 entries, 0 to 505\n",
      "Data columns (total 14 columns):\n",
      " #   Column   Non-Null Count  Dtype  \n",
      "---  ------   --------------  -----  \n",
      " 0   CRIM     506 non-null    float64\n",
      " 1   ZN       506 non-null    float64\n",
      " 2   INDUS    506 non-null    float64\n",
      " 3   CHAS     506 non-null    int64  \n",
      " 4   NOX      506 non-null    float64\n",
      " 5   RM       506 non-null    float64\n",
      " 6   AGE      506 non-null    float64\n",
      " 7   DIS      506 non-null    float64\n",
      " 8   RAD      506 non-null    int64  \n",
      " 9   TAX      506 non-null    float64\n",
      " 10  PTRATIO  506 non-null    float64\n",
      " 11  B        506 non-null    float64\n",
      " 12  LSTAT    506 non-null    float64\n",
      " 13  MEDV     506 non-null    float64\n",
      "dtypes: float64(12), int64(2)\n",
      "memory usage: 55.5 KB\n"
     ]
    }
   ],
   "source": [
    "data.info()"
   ]
  },
  {
   "cell_type": "code",
   "execution_count": null,
   "metadata": {
    "cell_id": "00004-13fe90e9-df11-43a2-8d51-c7a0b74700df",
    "deepnote_cell_type": "code",
    "deepnote_to_be_reexecuted": false,
    "execution_millis": 8,
    "execution_start": 1631900633824,
    "source_hash": "2007f58",
    "tags": []
   },
   "outputs": [
    {
     "data": {
      "text/plain": [
       "(506, 14)"
      ]
     },
     "execution_count": 5,
     "metadata": {},
     "output_type": "execute_result"
    }
   ],
   "source": [
    "data.shape"
   ]
  },
  {
   "cell_type": "code",
   "execution_count": null,
   "metadata": {
    "cell_id": "00005-6400deb5-87a4-4e14-8b2a-0d9c0cf1dbf5",
    "deepnote_cell_type": "code",
    "deepnote_to_be_reexecuted": false,
    "execution_millis": 1699,
    "execution_start": 1631900634283,
    "source_hash": "6e33e6a9",
    "tags": []
   },
   "outputs": [
    {
     "data": {
      "text/plain": [
       "<AxesSubplot:>"
      ]
     },
     "execution_count": 6,
     "metadata": {},
     "output_type": "execute_result"
    },
    {
     "data": {
      "image/png": "[encoded data removed]",
      "text/plain": [
       "<Figure size 1440x1440 with 2 Axes>"
      ]
     },
     "metadata": {
      "image/png": {
       "height": 1122,
       "width": 1057
      },
      "needs_background": "light"
     },
     "output_type": "display_data"
    }
   ],
   "source": [
    "fig, ax = plt.subplots(figsize=(20,20))\n",
    "sns.heatmap(data.corr().abs(),  annot=True, ax=ax)"
   ]
  },
  {
   "cell_type": "code",
   "execution_count": null,
   "metadata": {
    "cell_id": "00005-ac891f51-02c4-407b-a561-14f752dce41f",
    "deepnote_cell_type": "code",
    "deepnote_to_be_reexecuted": false,
    "execution_millis": 2141,
    "execution_start": 1631900636017,
    "source_hash": "528bc732",
    "tags": []
   },
   "outputs": [
    {
     "data": {
      "text/plain": [
       "array([[<AxesSubplot:title={'center':'CRIM'}>,\n",
       "        <AxesSubplot:title={'center':'ZN'}>,\n",
       "        <AxesSubplot:title={'center':'INDUS'}>,\n",
       "        <AxesSubplot:title={'center':'CHAS'}>],\n",
       "       [<AxesSubplot:title={'center':'NOX'}>,\n",
       "        <AxesSubplot:title={'center':'RM'}>,\n",
       "        <AxesSubplot:title={'center':'AGE'}>,\n",
       "        <AxesSubplot:title={'center':'DIS'}>],\n",
       "       [<AxesSubplot:title={'center':'RAD'}>,\n",
       "        <AxesSubplot:title={'center':'TAX'}>,\n",
       "        <AxesSubplot:title={'center':'PTRATIO'}>,\n",
       "        <AxesSubplot:title={'center':'B'}>],\n",
       "       [<AxesSubplot:title={'center':'LSTAT'}>,\n",
       "        <AxesSubplot:title={'center':'MEDV'}>, <AxesSubplot:>,\n",
       "        <AxesSubplot:>]], dtype=object)"
      ]
     },
     "execution_count": 7,
     "metadata": {},
     "output_type": "execute_result"
    },
    {
     "data": {
      "image/png": "[encoded data removed]",
      "text/plain": [
       "<Figure size 1440x1080 with 16 Axes>"
      ]
     },
     "metadata": {
      "image/png": {
       "height": 862,
       "width": 1157
      },
      "needs_background": "light"
     },
     "output_type": "display_data"
    }
   ],
   "source": [
    "data.hist(bins=10,figsize=(20,15),grid=False)"
   ]
  },
  {
   "cell_type": "code",
   "execution_count": null,
   "metadata": {
    "cell_id": "00006-3e9a9ae6-a0a8-4d9b-9dd6-2425b67615fc",
    "deepnote_cell_type": "code",
    "deepnote_to_be_reexecuted": false,
    "execution_millis": 1596,
    "execution_start": 1631900638163,
    "source_hash": "7f9c4cd6",
    "tags": []
   },
   "outputs": [
    {
     "data": {
      "image/png": "[encoded data removed]",
      "text/plain": [
       "<Figure size 1440x720 with 14 Axes>"
      ]
     },
     "metadata": {
      "image/png": {
       "height": 725,
       "width": 1446
      },
      "needs_background": "light"
     },
     "output_type": "display_data"
    }
   ],
   "source": [
    "from scipy import stats\n",
    "\n",
    "fig, axs = plt.subplots(ncols=7, nrows=2, figsize=(20, 10))\n",
    "index = 0\n",
    "axs = axs.flatten()\n",
    "for k,v in data.items():\n",
    "    sns.boxplot(y=k, data=data, ax=axs[index])\n",
    "    index += 1\n",
    "plt.tight_layout(pad=0.4, w_pad=0.5, h_pad=5.0)"
   ]
  },
  {
   "cell_type": "code",
   "execution_count": null,
   "metadata": {
    "cell_id": "00007-5084ebb5-cf8e-439b-9796-ae30c7c1c39b",
    "deepnote_cell_type": "code",
    "deepnote_to_be_reexecuted": false,
    "execution_millis": 67,
    "execution_start": 1631900639781,
    "source_hash": "abbdce6e",
    "tags": []
   },
   "outputs": [
    {
     "name": "stdout",
     "output_type": "stream",
     "text": [
      "Column CRIM outliers = 13.04%\n",
      "Column ZN outliers = 13.44%\n",
      "Column INDUS outliers = 0.00%\n",
      "Column CHAS outliers = 100.00%\n",
      "Column NOX outliers = 0.00%\n",
      "Column RM outliers = 5.93%\n",
      "Column AGE outliers = 0.00%\n",
      "Column DIS outliers = 0.99%\n",
      "Column RAD outliers = 0.00%\n",
      "Column TAX outliers = 0.00%\n",
      "Column PTRATIO outliers = 2.96%\n",
      "Column B outliers = 15.22%\n",
      "Column LSTAT outliers = 1.38%\n",
      "Column MEDV outliers = 7.91%\n"
     ]
    }
   ],
   "source": [
    "for k, v in data.items():\n",
    "    q1 = v.quantile(0.25)\n",
    "    q3 = v.quantile(0.75)\n",
    "    irq = q3 - q1\n",
    "    v_col = v[(v <= q1 - 1.5 * irq) | (v >= q3 + 1.5 * irq)]\n",
    "    perc = np.shape(v_col)[0] * 100.0 / np.shape(data)[0]\n",
    "    print(\"Column %s outliers = %.2f%%\" % (k, perc))"
   ]
  },
  {
   "cell_type": "code",
   "execution_count": null,
   "metadata": {
    "cell_id": "00008-0400161a-8a38-4607-8517-ad693f643000",
    "deepnote_cell_type": "code",
    "deepnote_to_be_reexecuted": false,
    "execution_millis": 22,
    "execution_start": 1631900639826,
    "source_hash": "11298b42",
    "tags": []
   },
   "outputs": [
    {
     "name": "stdout",
     "output_type": "stream",
     "text": [
      "(490, 14)\n"
     ]
    }
   ],
   "source": [
    "data = data[~(data['MEDV'] >= 50.0)]\n",
    "print(np.shape(data))"
   ]
  },
  {
   "cell_type": "code",
   "execution_count": null,
   "metadata": {
    "cell_id": "00009-9f379a2c-92a1-4d1f-a3de-309f6e7f9282",
    "deepnote_cell_type": "code",
    "deepnote_to_be_reexecuted": false,
    "execution_millis": 60,
    "execution_start": 1631900639827,
    "source_hash": "e6928a8f",
    "tags": []
   },
   "outputs": [
    {
     "data": {
      "application/vnd.deepnote.dataframe.v2+json": {
       "column_count": 14,
       "columns": [
        {
         "dtype": "float64",
         "name": "CRIM",
         "stats": {
          "histogram": [
           {
            "bin_end": 8.903308,
            "bin_start": 0.00632,
            "count": 424
           },
           {
            "bin_end": 17.800296,
            "bin_start": 8.903308,
            "count": 43
           },
           {
            "bin_end": 26.697284,
            "bin_start": 17.800296,
            "count": 14
           },
           {
            "bin_end": 35.594272000000004,
            "bin_start": 26.697284,
            "count": 1
           },
           {
            "bin_end": 44.491260000000004,
            "bin_start": 35.594272000000004,
            "count": 3
           },
           {
            "bin_end": 53.388248000000004,
            "bin_start": 44.491260000000004,
            "count": 2
           },
           {
            "bin_end": 62.285236000000005,
            "bin_start": 53.388248000000004,
            "count": 0
           },
           {
            "bin_end": 71.182224,
            "bin_start": 62.285236000000005,
            "count": 1
           },
           {
            "bin_end": 80.079212,
            "bin_start": 71.182224,
            "count": 1
           },
           {
            "bin_end": 88.9762,
            "bin_start": 80.079212,
            "count": 1
           }
          ],
          "max": "88.9762",
          "min": "0.00632",
          "nan_count": 0,
          "unique_count": 489
         }
        },
        {
         "dtype": "float64",
         "name": "ZN",
         "stats": {
          "histogram": [
           {
            "bin_end": 10,
            "bin_start": 0,
            "count": 361
           },
           {
            "bin_end": 20,
            "bin_start": 10,
            "count": 12
           },
           {
            "bin_end": 30,
            "bin_start": 20,
            "count": 46
           },
           {
            "bin_end": 40,
            "bin_start": 30,
            "count": 16
           },
           {
            "bin_end": 50,
            "bin_start": 40,
            "count": 13
           },
           {
            "bin_end": 60,
            "bin_start": 50,
            "count": 6
           },
           {
            "bin_end": 70,
            "bin_start": 60,
            "count": 4
           },
           {
            "bin_end": 80,
            "bin_start": 70,
            "count": 6
           },
           {
            "bin_end": 90,
            "bin_start": 80,
            "count": 18
           },
           {
            "bin_end": 100,
            "bin_start": 90,
            "count": 8
           }
          ],
          "max": "100.0",
          "min": "0.0",
          "nan_count": 0,
          "unique_count": 26
         }
        },
        {
         "dtype": "float64",
         "name": "INDUS",
         "stats": {
          "histogram": [
           {
            "bin_end": 3.4400000000000004,
            "bin_start": 0.74,
            "count": 71
           },
           {
            "bin_end": 6.140000000000001,
            "bin_start": 3.4400000000000004,
            "count": 86
           },
           {
            "bin_end": 8.840000000000002,
            "bin_start": 6.140000000000001,
            "count": 86
           },
           {
            "bin_end": 11.540000000000001,
            "bin_start": 8.840000000000002,
            "count": 44
           },
           {
            "bin_end": 14.24,
            "bin_start": 11.540000000000001,
            "count": 20
           },
           {
            "bin_end": 16.94,
            "bin_start": 14.24,
            "count": 3
           },
           {
            "bin_end": 19.64,
            "bin_start": 16.94,
            "count": 153
           },
           {
            "bin_end": 22.34,
            "bin_start": 19.64,
            "count": 15
           },
           {
            "bin_end": 25.04,
            "bin_start": 22.34,
            "count": 0
           },
           {
            "bin_end": 27.74,
            "bin_start": 25.04,
            "count": 12
           }
          ],
          "max": "27.74",
          "min": "0.74",
          "nan_count": 0,
          "unique_count": 74
         }
        },
        {
         "dtype": "int64",
         "name": "CHAS",
         "stats": {
          "histogram": [
           {
            "bin_end": 0.1,
            "bin_start": 0,
            "count": 461
           },
           {
            "bin_end": 0.2,
            "bin_start": 0.1,
            "count": 0
           },
           {
            "bin_end": 0.30000000000000004,
            "bin_start": 0.2,
            "count": 0
           },
           {
            "bin_end": 0.4,
            "bin_start": 0.30000000000000004,
            "count": 0
           },
           {
            "bin_end": 0.5,
            "bin_start": 0.4,
            "count": 0
           },
           {
            "bin_end": 0.6000000000000001,
            "bin_start": 0.5,
            "count": 0
           },
           {
            "bin_end": 0.7000000000000001,
            "bin_start": 0.6000000000000001,
            "count": 0
           },
           {
            "bin_end": 0.8,
            "bin_start": 0.7000000000000001,
            "count": 0
           },
           {
            "bin_end": 0.9,
            "bin_start": 0.8,
            "count": 0
           },
           {
            "bin_end": 1,
            "bin_start": 0.9,
            "count": 29
           }
          ],
          "max": "1",
          "min": "0",
          "nan_count": 0,
          "unique_count": 2
         }
        },
        {
         "dtype": "float64",
         "name": "NOX",
         "stats": {
          "histogram": [
           {
            "bin_end": 0.4336,
            "bin_start": 0.385,
            "count": 72
           },
           {
            "bin_end": 0.4822,
            "bin_start": 0.4336,
            "count": 80
           },
           {
            "bin_end": 0.5307999999999999,
            "bin_start": 0.4822,
            "count": 87
           },
           {
            "bin_end": 0.5794,
            "bin_start": 0.5307999999999999,
            "count": 59
           },
           {
            "bin_end": 0.628,
            "bin_start": 0.5794,
            "count": 74
           },
           {
            "bin_end": 0.6766,
            "bin_start": 0.628,
            "count": 24
           },
           {
            "bin_end": 0.7252000000000001,
            "bin_start": 0.6766,
            "count": 57
           },
           {
            "bin_end": 0.7738,
            "bin_start": 0.7252000000000001,
            "count": 21
           },
           {
            "bin_end": 0.8224,
            "bin_start": 0.7738,
            "count": 0
           },
           {
            "bin_end": 0.871,
            "bin_start": 0.8224,
            "count": 16
           }
          ],
          "max": "0.871",
          "min": "0.385",
          "nan_count": 0,
          "unique_count": 80
         }
        },
        {
         "dtype": "float64",
         "name": "RM",
         "stats": {
          "histogram": [
           {
            "bin_end": 4.0828999999999995,
            "bin_start": 3.561,
            "count": 2
           },
           {
            "bin_end": 4.6048,
            "bin_start": 4.0828999999999995,
            "count": 4
           },
           {
            "bin_end": 5.1267,
            "bin_start": 4.6048,
            "count": 13
           },
           {
            "bin_end": 5.6486,
            "bin_start": 5.1267,
            "count": 45
           },
           {
            "bin_end": 6.1705,
            "bin_start": 5.6486,
            "count": 176
           },
           {
            "bin_end": 6.692399999999999,
            "bin_start": 6.1705,
            "count": 149
           },
           {
            "bin_end": 7.2143,
            "bin_start": 6.692399999999999,
            "count": 68
           },
           {
            "bin_end": 7.736199999999999,
            "bin_start": 7.2143,
            "count": 21
           },
           {
            "bin_end": 8.258099999999999,
            "bin_start": 7.736199999999999,
            "count": 7
           },
           {
            "bin_end": 8.78,
            "bin_start": 8.258099999999999,
            "count": 5
           }
          ],
          "max": "8.78",
          "min": "3.561",
          "nan_count": 0,
          "unique_count": 431
         }
        },
        {
         "dtype": "float64",
         "name": "AGE",
         "stats": {
          "histogram": [
           {
            "bin_end": 12.61,
            "bin_start": 2.9,
            "count": 14
           },
           {
            "bin_end": 22.319999999999997,
            "bin_start": 12.61,
            "count": 31
           },
           {
            "bin_end": 32.029999999999994,
            "bin_start": 22.319999999999997,
            "count": 26
           },
           {
            "bin_end": 41.739999999999995,
            "bin_start": 32.029999999999994,
            "count": 42
           },
           {
            "bin_end": 51.449999999999996,
            "bin_start": 41.739999999999995,
            "count": 32
           },
           {
            "bin_end": 61.15999999999999,
            "bin_start": 51.449999999999996,
            "count": 37
           },
           {
            "bin_end": 70.87,
            "bin_start": 61.15999999999999,
            "count": 38
           },
           {
            "bin_end": 80.58,
            "bin_start": 70.87,
            "count": 42
           },
           {
            "bin_end": 90.28999999999999,
            "bin_start": 80.58,
            "count": 68
           },
           {
            "bin_end": 100,
            "bin_start": 90.28999999999999,
            "count": 160
           }
          ],
          "max": "100.0",
          "min": "2.9",
          "nan_count": 0,
          "unique_count": 350
         }
        },
        {
         "dtype": "float64",
         "name": "DIS",
         "stats": {
          "histogram": [
           {
            "bin_end": 2.23595,
            "bin_start": 1.137,
            "count": 140
           },
           {
            "bin_end": 3.3348999999999998,
            "bin_start": 2.23595,
            "count": 109
           },
           {
            "bin_end": 4.43385,
            "bin_start": 3.3348999999999998,
            "count": 82
           },
           {
            "bin_end": 5.5328,
            "bin_start": 4.43385,
            "count": 58
           },
           {
            "bin_end": 6.63175,
            "bin_start": 5.5328,
            "count": 44
           },
           {
            "bin_end": 7.730699999999999,
            "bin_start": 6.63175,
            "count": 26
           },
           {
            "bin_end": 8.829649999999999,
            "bin_start": 7.730699999999999,
            "count": 19
           },
           {
            "bin_end": 9.9286,
            "bin_start": 8.829649999999999,
            "count": 7
           },
           {
            "bin_end": 11.02755,
            "bin_start": 9.9286,
            "count": 4
           },
           {
            "bin_end": 12.1265,
            "bin_start": 11.02755,
            "count": 1
           }
          ],
          "max": "12.1265",
          "min": "1.137",
          "nan_count": 0,
          "unique_count": 398
         }
        },
        {
         "dtype": "int64",
         "name": "RAD",
         "stats": {
          "histogram": [
           {
            "bin_end": 3.3,
            "bin_start": 1,
            "count": 80
           },
           {
            "bin_end": 5.6,
            "bin_start": 3.3,
            "count": 217
           },
           {
            "bin_end": 7.8999999999999995,
            "bin_start": 5.6,
            "count": 43
           },
           {
            "bin_end": 10.2,
            "bin_start": 7.8999999999999995,
            "count": 23
           },
           {
            "bin_end": 12.5,
            "bin_start": 10.2,
            "count": 0
           },
           {
            "bin_end": 14.799999999999999,
            "bin_start": 12.5,
            "count": 0
           },
           {
            "bin_end": 17.099999999999998,
            "bin_start": 14.799999999999999,
            "count": 0
           },
           {
            "bin_end": 19.4,
            "bin_start": 17.099999999999998,
            "count": 0
           },
           {
            "bin_end": 21.7,
            "bin_start": 19.4,
            "count": 0
           },
           {
            "bin_end": 24,
            "bin_start": 21.7,
            "count": 127
           }
          ],
          "max": "24",
          "min": "1",
          "nan_count": 0,
          "unique_count": 9
         }
        },
        {
         "dtype": "float64",
         "name": "TAX",
         "stats": {
          "histogram": [
           {
            "bin_end": 239.4,
            "bin_start": 187,
            "count": 51
           },
           {
            "bin_end": 291.8,
            "bin_start": 239.4,
            "count": 97
           },
           {
            "bin_end": 344.2,
            "bin_start": 291.8,
            "count": 107
           },
           {
            "bin_end": 396.6,
            "bin_start": 344.2,
            "count": 32
           },
           {
            "bin_end": 449,
            "bin_start": 396.6,
            "count": 70
           },
           {
            "bin_end": 501.4,
            "bin_start": 449,
            "count": 1
           },
           {
            "bin_end": 553.8,
            "bin_start": 501.4,
            "count": 0
           },
           {
            "bin_end": 606.2,
            "bin_start": 553.8,
            "count": 0
           },
           {
            "bin_end": 658.5999999999999,
            "bin_start": 606.2,
            "count": 0
           },
           {
            "bin_end": 711,
            "bin_start": 658.5999999999999,
            "count": 132
           }
          ],
          "max": "711.0",
          "min": "187.0",
          "nan_count": 0,
          "unique_count": 64
         }
        },
        {
         "dtype": "float64",
         "name": "PTRATIO",
         "stats": {
          "histogram": [
           {
            "bin_end": 13.54,
            "bin_start": 12.6,
            "count": 13
           },
           {
            "bin_end": 14.48,
            "bin_start": 13.54,
            "count": 0
           },
           {
            "bin_end": 15.42,
            "bin_start": 14.48,
            "count": 53
           },
           {
            "bin_end": 16.36,
            "bin_start": 15.42,
            "count": 15
           },
           {
            "bin_end": 17.3,
            "bin_start": 16.36,
            "count": 35
           },
           {
            "bin_end": 18.240000000000002,
            "bin_start": 17.3,
            "count": 67
           },
           {
            "bin_end": 19.18,
            "bin_start": 18.240000000000002,
            "count": 76
           },
           {
            "bin_end": 20.12,
            "bin_start": 19.18,
            "count": 40
           },
           {
            "bin_end": 21.060000000000002,
            "bin_start": 20.12,
            "count": 173
           },
           {
            "bin_end": 22,
            "bin_start": 21.060000000000002,
            "count": 18
           }
          ],
          "max": "22.0",
          "min": "12.6",
          "nan_count": 0,
          "unique_count": 44
         }
        },
        {
         "dtype": "float64",
         "name": "B",
         "stats": {
          "histogram": [
           {
            "bin_end": 39.978,
            "bin_start": 0.32,
            "count": 18
           },
           {
            "bin_end": 79.636,
            "bin_start": 39.978,
            "count": 6
           },
           {
            "bin_end": 119.294,
            "bin_start": 79.636,
            "count": 10
           },
           {
            "bin_end": 158.952,
            "bin_start": 119.294,
            "count": 2
           },
           {
            "bin_end": 198.61,
            "bin_start": 158.952,
            "count": 3
           },
           {
            "bin_end": 238.268,
            "bin_start": 198.61,
            "count": 3
           },
           {
            "bin_end": 277.926,
            "bin_start": 238.268,
            "count": 7
           },
           {
            "bin_end": 317.584,
            "bin_start": 277.926,
            "count": 11
           },
           {
            "bin_end": 357.242,
            "bin_start": 317.584,
            "count": 32
           },
           {
            "bin_end": 396.9,
            "bin_start": 357.242,
            "count": 398
           }
          ],
          "max": "396.9",
          "min": "0.32",
          "nan_count": 0,
          "unique_count": 342
         }
        },
        {
         "dtype": "float64",
         "name": "LSTAT",
         "stats": {
          "histogram": [
           {
            "bin_end": 5.579000000000001,
            "bin_start": 1.98,
            "count": 69
           },
           {
            "bin_end": 9.178,
            "bin_start": 5.579000000000001,
            "count": 105
           },
           {
            "bin_end": 12.777000000000001,
            "bin_start": 9.178,
            "count": 96
           },
           {
            "bin_end": 16.376,
            "bin_start": 12.777000000000001,
            "count": 84
           },
           {
            "bin_end": 19.975,
            "bin_start": 16.376,
            "count": 62
           },
           {
            "bin_end": 23.574,
            "bin_start": 19.975,
            "count": 28
           },
           {
            "bin_end": 27.173000000000002,
            "bin_start": 23.574,
            "count": 21
           },
           {
            "bin_end": 30.772000000000002,
            "bin_start": 27.173000000000002,
            "count": 16
           },
           {
            "bin_end": 34.371,
            "bin_start": 30.772000000000002,
            "count": 5
           },
           {
            "bin_end": 37.97,
            "bin_start": 34.371,
            "count": 4
           }
          ],
          "max": "37.97",
          "min": "1.98",
          "nan_count": 0,
          "unique_count": 442
         }
        },
        {
         "dtype": "float64",
         "name": "MEDV",
         "stats": {
          "histogram": [
           {
            "bin_end": 9.379999999999999,
            "bin_start": 5,
            "count": 21
           },
           {
            "bin_end": 13.76,
            "bin_start": 9.379999999999999,
            "count": 48
           },
           {
            "bin_end": 18.14,
            "bin_start": 13.76,
            "count": 81
           },
           {
            "bin_end": 22.52,
            "bin_start": 18.14,
            "count": 147
           },
           {
            "bin_end": 26.9,
            "bin_start": 22.52,
            "count": 96
           },
           {
            "bin_end": 31.28,
            "bin_start": 26.9,
            "count": 39
           },
           {
            "bin_end": 35.66,
            "bin_start": 31.28,
            "count": 30
           },
           {
            "bin_end": 40.04,
            "bin_start": 35.66,
            "count": 13
           },
           {
            "bin_end": 44.42,
            "bin_start": 40.04,
            "count": 8
           },
           {
            "bin_end": 48.8,
            "bin_start": 44.42,
            "count": 7
           }
          ],
          "max": "48.8",
          "min": "5.0",
          "nan_count": 0,
          "unique_count": 228
         }
        },
        {
         "dtype": "int64",
         "name": "_deepnote_index_column"
        }
       ],
       "row_count": 490,
       "rows_bottom": [
        {
         "AGE": 84,
         "B": 396.9,
         "CHAS": 0,
         "CRIM": 4.34879,
         "DIS": 3.0334,
         "INDUS": 18.1,
         "LSTAT": 16.29,
         "MEDV": 19.9,
         "NOX": 0.58,
         "PTRATIO": 20.2,
         "RAD": 24,
         "RM": 6.167,
         "TAX": 666,
         "ZN": 0,
         "_deepnote_index_column": 470
        },
        {
         "AGE": 90.7,
         "B": 395.33,
         "CHAS": 0,
         "CRIM": 4.03841,
         "DIS": 3.0993,
         "INDUS": 18.1,
         "LSTAT": 12.87,
         "MEDV": 19.6,
         "NOX": 0.532,
         "PTRATIO": 20.2,
         "RAD": 24,
         "RM": 6.229,
         "TAX": 666,
         "ZN": 0,
         "_deepnote_index_column": 471
        },
        {
         "AGE": 75,
         "B": 393.37,
         "CHAS": 0,
         "CRIM": 3.56868,
         "DIS": 2.8965,
         "INDUS": 18.1,
         "LSTAT": 14.36,
         "MEDV": 23.2,
         "NOX": 0.58,
         "PTRATIO": 20.2,
         "RAD": 24,
         "RM": 6.437,
         "TAX": 666,
         "ZN": 0,
         "_deepnote_index_column": 472
        },
        {
         "AGE": 67.6,
         "B": 374.68,
         "CHAS": 0,
         "CRIM": 4.64689,
         "DIS": 2.5329,
         "INDUS": 18.1,
         "LSTAT": 11.66,
         "MEDV": 29.8,
         "NOX": 0.614,
         "PTRATIO": 20.2,
         "RAD": 24,
         "RM": 6.98,
         "TAX": 666,
         "ZN": 0,
         "_deepnote_index_column": 473
        },
        {
         "AGE": 95.4,
         "B": 352.58,
         "CHAS": 0,
         "CRIM": 8.05579,
         "DIS": 2.4298,
         "INDUS": 18.1,
         "LSTAT": 18.14,
         "MEDV": 13.8,
         "NOX": 0.584,
         "PTRATIO": 20.2,
         "RAD": 24,
         "RM": 5.427,
         "TAX": 666,
         "ZN": 0,
         "_deepnote_index_column": 474
        },
        {
         "AGE": 97.4,
         "B": 302.76,
         "CHAS": 0,
         "CRIM": 6.39312,
         "DIS": 2.206,
         "INDUS": 18.1,
         "LSTAT": 24.1,
         "MEDV": 13.3,
         "NOX": 0.584,
         "PTRATIO": 20.2,
         "RAD": 24,
         "RM": 6.162,
         "TAX": 666,
         "ZN": 0,
         "_deepnote_index_column": 475
        },
        {
         "AGE": 93.6,
         "B": 396.21,
         "CHAS": 0,
         "CRIM": 4.87141,
         "DIS": 2.3053,
         "INDUS": 18.1,
         "LSTAT": 18.68,
         "MEDV": 16.7,
         "NOX": 0.614,
         "PTRATIO": 20.2,
         "RAD": 24,
         "RM": 6.484,
         "TAX": 666,
         "ZN": 0,
         "_deepnote_index_column": 476
        },
        {
         "AGE": 97.3,
         "B": 349.48,
         "CHAS": 0,
         "CRIM": 15.0234,
         "DIS": 2.1007,
         "INDUS": 18.1,
         "LSTAT": 24.91,
         "MEDV": 12,
         "NOX": 0.614,
         "PTRATIO": 20.2,
         "RAD": 24,
         "RM": 5.304,
         "TAX": 666,
         "ZN": 0,
         "_deepnote_index_column": 477
        },
        {
         "AGE": 96.7,
         "B": 379.7,
         "CHAS": 0,
         "CRIM": 10.233,
         "DIS": 2.1705,
         "INDUS": 18.1,
         "LSTAT": 18.03,
         "MEDV": 14.6,
         "NOX": 0.614,
         "PTRATIO": 20.2,
         "RAD": 24,
         "RM": 6.185,
         "TAX": 666,
         "ZN": 0,
         "_deepnote_index_column": 478
        },
        {
         "AGE": 88,
         "B": 383.32,
         "CHAS": 0,
         "CRIM": 14.3337,
         "DIS": 1.9512,
         "INDUS": 18.1,
         "LSTAT": 13.11,
         "MEDV": 21.4,
         "NOX": 0.614,
         "PTRATIO": 20.2,
         "RAD": 24,
         "RM": 6.229,
         "TAX": 666,
         "ZN": 0,
         "_deepnote_index_column": 479
        },
        {
         "AGE": 64.7,
         "B": 396.9,
         "CHAS": 0,
         "CRIM": 5.82401,
         "DIS": 3.4242,
         "INDUS": 18.1,
         "LSTAT": 10.74,
         "MEDV": 23,
         "NOX": 0.532,
         "PTRATIO": 20.2,
         "RAD": 24,
         "RM": 6.242,
         "TAX": 666,
         "ZN": 0,
         "_deepnote_index_column": 480
        },
        {
         "AGE": 74.9,
         "B": 393.07,
         "CHAS": 0,
         "CRIM": 5.70818,
         "DIS": 3.3317,
         "INDUS": 18.1,
         "LSTAT": 7.74,
         "MEDV": 23.7,
         "NOX": 0.532,
         "PTRATIO": 20.2,
         "RAD": 24,
         "RM": 6.75,
         "TAX": 666,
         "ZN": 0,
         "_deepnote_index_column": 481
        },
        {
         "AGE": 77,
         "B": 395.28,
         "CHAS": 0,
         "CRIM": 5.73116,
         "DIS": 3.4106,
         "INDUS": 18.1,
         "LSTAT": 7.01,
         "MEDV": 25,
         "NOX": 0.532,
         "PTRATIO": 20.2,
         "RAD": 24,
         "RM": 7.061,
         "TAX": 666,
         "ZN": 0,
         "_deepnote_index_column": 482
        },
        {
         "AGE": 40.3,
         "B": 392.92,
         "CHAS": 0,
         "CRIM": 2.81838,
         "DIS": 4.0983,
         "INDUS": 18.1,
         "LSTAT": 10.42,
         "MEDV": 21.8,
         "NOX": 0.532,
         "PTRATIO": 20.2,
         "RAD": 24,
         "RM": 5.762,
         "TAX": 666,
         "ZN": 0,
         "_deepnote_index_column": 483
        },
        {
         "AGE": 41.9,
         "B": 370.73,
         "CHAS": 0,
         "CRIM": 2.37857,
         "DIS": 3.724,
         "INDUS": 18.1,
         "LSTAT": 13.34,
         "MEDV": 20.6,
         "NOX": 0.583,
         "PTRATIO": 20.2,
         "RAD": 24,
         "RM": 5.871,
         "TAX": 666,
         "ZN": 0,
         "_deepnote_index_column": 484
        },
        {
         "AGE": 51.9,
         "B": 388.62,
         "CHAS": 0,
         "CRIM": 3.67367,
         "DIS": 3.9917,
         "INDUS": 18.1,
         "LSTAT": 10.58,
         "MEDV": 21.2,
         "NOX": 0.583,
         "PTRATIO": 20.2,
         "RAD": 24,
         "RM": 6.312,
         "TAX": 666,
         "ZN": 0,
         "_deepnote_index_column": 485
        },
        {
         "AGE": 79.8,
         "B": 392.68,
         "CHAS": 0,
         "CRIM": 5.69175,
         "DIS": 3.5459,
         "INDUS": 18.1,
         "LSTAT": 14.98,
         "MEDV": 19.1,
         "NOX": 0.583,
         "PTRATIO": 20.2,
         "RAD": 24,
         "RM": 6.114,
         "TAX": 666,
         "ZN": 0,
         "_deepnote_index_column": 486
        },
        {
         "AGE": 53.2,
         "B": 388.22,
         "CHAS": 0,
         "CRIM": 4.83567,
         "DIS": 3.1523,
         "INDUS": 18.1,
         "LSTAT": 11.45,
         "MEDV": 20.6,
         "NOX": 0.583,
         "PTRATIO": 20.2,
         "RAD": 24,
         "RM": 5.905,
         "TAX": 666,
         "ZN": 0,
         "_deepnote_index_column": 487
        },
        {
         "AGE": 92.7,
         "B": 395.09,
         "CHAS": 0,
         "CRIM": 0.15086,
         "DIS": 1.8209,
         "INDUS": 27.74,
         "LSTAT": 18.06,
         "MEDV": 15.2,
         "NOX": 0.609,
         "PTRATIO": 20.1,
         "RAD": 4,
         "RM": 5.454,
         "TAX": 711,
         "ZN": 0,
         "_deepnote_index_column": 488
        },
        {
         "AGE": 98.3,
         "B": 344.05,
         "CHAS": 0,
         "CRIM": 0.18337,
         "DIS": 1.7554,
         "INDUS": 27.74,
         "LSTAT": 23.97,
         "MEDV": 7,
         "NOX": 0.609,
         "PTRATIO": 20.1,
         "RAD": 4,
         "RM": 5.414,
         "TAX": 711,
         "ZN": 0,
         "_deepnote_index_column": 489
        },
        {
         "AGE": 98,
         "B": 318.43,
         "CHAS": 0,
         "CRIM": 0.20746,
         "DIS": 1.8226,
         "INDUS": 27.74,
         "LSTAT": 29.68,
         "MEDV": 8.1,
         "NOX": 0.609,
         "PTRATIO": 20.1,
         "RAD": 4,
         "RM": 5.093,
         "TAX": 711,
         "ZN": 0,
         "_deepnote_index_column": 490
        },
        {
         "AGE": 98.8,
         "B": 390.11,
         "CHAS": 0,
         "CRIM": 0.10574,
         "DIS": 1.8681,
         "INDUS": 27.74,
         "LSTAT": 18.07,
         "MEDV": 13.6,
         "NOX": 0.609,
         "PTRATIO": 20.1,
         "RAD": 4,
         "RM": 5.983,
         "TAX": 711,
         "ZN": 0,
         "_deepnote_index_column": 491
        },
        {
         "AGE": 83.5,
         "B": 396.9,
         "CHAS": 0,
         "CRIM": 0.11132,
         "DIS": 2.1099,
         "INDUS": 27.74,
         "LSTAT": 13.35,
         "MEDV": 20.1,
         "NOX": 0.609,
         "PTRATIO": 20.1,
         "RAD": 4,
         "RM": 5.983,
         "TAX": 711,
         "ZN": 0,
         "_deepnote_index_column": 492
        },
        {
         "AGE": 54,
         "B": 396.9,
         "CHAS": 0,
         "CRIM": 0.17331,
         "DIS": 2.3817,
         "INDUS": 9.69,
         "LSTAT": 12.01,
         "MEDV": 21.8,
         "NOX": 0.585,
         "PTRATIO": 19.2,
         "RAD": 6,
         "RM": 5.707,
         "TAX": 391,
         "ZN": 0,
         "_deepnote_index_column": 493
        },
        {
         "AGE": 42.6,
         "B": 396.9,
         "CHAS": 0,
         "CRIM": 0.27957,
         "DIS": 2.3817,
         "INDUS": 9.69,
         "LSTAT": 13.59,
         "MEDV": 24.5,
         "NOX": 0.585,
         "PTRATIO": 19.2,
         "RAD": 6,
         "RM": 5.926,
         "TAX": 391,
         "ZN": 0,
         "_deepnote_index_column": 494
        },
        {
         "AGE": 28.8,
         "B": 393.29,
         "CHAS": 0,
         "CRIM": 0.17899,
         "DIS": 2.7986,
         "INDUS": 9.69,
         "LSTAT": 17.6,
         "MEDV": 23.1,
         "NOX": 0.585,
         "PTRATIO": 19.2,
         "RAD": 6,
         "RM": 5.67,
         "TAX": 391,
         "ZN": 0,
         "_deepnote_index_column": 495
        },
        {
         "AGE": 72.9,
         "B": 396.9,
         "CHAS": 0,
         "CRIM": 0.2896,
         "DIS": 2.7986,
         "INDUS": 9.69,
         "LSTAT": 21.14,
         "MEDV": 19.7,
         "NOX": 0.585,
         "PTRATIO": 19.2,
         "RAD": 6,
         "RM": 5.39,
         "TAX": 391,
         "ZN": 0,
         "_deepnote_index_column": 496
        },
        {
         "AGE": 70.6,
         "B": 396.9,
         "CHAS": 0,
         "CRIM": 0.26838,
         "DIS": 2.8927,
         "INDUS": 9.69,
         "LSTAT": 14.1,
         "MEDV": 18.3,
         "NOX": 0.585,
         "PTRATIO": 19.2,
         "RAD": 6,
         "RM": 5.794,
         "TAX": 391,
         "ZN": 0,
         "_deepnote_index_column": 497
        },
        {
         "AGE": 65.3,
         "B": 396.9,
         "CHAS": 0,
         "CRIM": 0.23912,
         "DIS": 2.4091,
         "INDUS": 9.69,
         "LSTAT": 12.92,
         "MEDV": 21.2,
         "NOX": 0.585,
         "PTRATIO": 19.2,
         "RAD": 6,
         "RM": 6.019,
         "TAX": 391,
         "ZN": 0,
         "_deepnote_index_column": 498
        },
        {
         "AGE": 73.5,
         "B": 395.77,
         "CHAS": 0,
         "CRIM": 0.17783,
         "DIS": 2.3999,
         "INDUS": 9.69,
         "LSTAT": 15.1,
         "MEDV": 17.5,
         "NOX": 0.585,
         "PTRATIO": 19.2,
         "RAD": 6,
         "RM": 5.569,
         "TAX": 391,
         "ZN": 0,
         "_deepnote_index_column": 499
        },
        {
         "AGE": 79.7,
         "B": 396.9,
         "CHAS": 0,
         "CRIM": 0.22438,
         "DIS": 2.4982,
         "INDUS": 9.69,
         "LSTAT": 14.33,
         "MEDV": 16.8,
         "NOX": 0.585,
         "PTRATIO": 19.2,
         "RAD": 6,
         "RM": 6.027,
         "TAX": 391,
         "ZN": 0,
         "_deepnote_index_column": 500
        },
        {
         "AGE": 69.1,
         "B": 391.99,
         "CHAS": 0,
         "CRIM": 0.06263,
         "DIS": 2.4786,
         "INDUS": 11.93,
         "LSTAT": 9.67,
         "MEDV": 22.4,
         "NOX": 0.573,
         "PTRATIO": 21,
         "RAD": 1,
         "RM": 6.593,
         "TAX": 273,
         "ZN": 0,
         "_deepnote_index_column": 501
        },
        {
         "AGE": 76.7,
         "B": 396.9,
         "CHAS": 0,
         "CRIM": 0.04527,
         "DIS": 2.2875,
         "INDUS": 11.93,
         "LSTAT": 9.08,
         "MEDV": 20.6,
         "NOX": 0.573,
         "PTRATIO": 21,
         "RAD": 1,
         "RM": 6.12,
         "TAX": 273,
         "ZN": 0,
         "_deepnote_index_column": 502
        },
        {
         "AGE": 91,
         "B": 396.9,
         "CHAS": 0,
         "CRIM": 0.06076,
         "DIS": 2.1675,
         "INDUS": 11.93,
         "LSTAT": 5.64,
         "MEDV": 23.9,
         "NOX": 0.573,
         "PTRATIO": 21,
         "RAD": 1,
         "RM": 6.976,
         "TAX": 273,
         "ZN": 0,
         "_deepnote_index_column": 503
        },
        {
         "AGE": 89.3,
         "B": 393.45,
         "CHAS": 0,
         "CRIM": 0.10959,
         "DIS": 2.3889,
         "INDUS": 11.93,
         "LSTAT": 6.48,
         "MEDV": 22,
         "NOX": 0.573,
         "PTRATIO": 21,
         "RAD": 1,
         "RM": 6.794,
         "TAX": 273,
         "ZN": 0,
         "_deepnote_index_column": 504
        },
        {
         "AGE": 80.8,
         "B": 396.9,
         "CHAS": 0,
         "CRIM": 0.04741,
         "DIS": 2.505,
         "INDUS": 11.93,
         "LSTAT": 7.88,
         "MEDV": 11.9,
         "NOX": 0.573,
         "PTRATIO": 21,
         "RAD": 1,
         "RM": 6.03,
         "TAX": 273,
         "ZN": 0,
         "_deepnote_index_column": 505
        }
       ],
       "rows_top": [
        {
         "AGE": 65.2,
         "B": 396.9,
         "CHAS": 0,
         "CRIM": 0.00632,
         "DIS": 4.09,
         "INDUS": 2.31,
         "LSTAT": 4.98,
         "MEDV": 24,
         "NOX": 0.538,
         "PTRATIO": 15.3,
         "RAD": 1,
         "RM": 6.575,
         "TAX": 296,
         "ZN": 18,
         "_deepnote_index_column": 0
        },
        {
         "AGE": 78.9,
         "B": 396.9,
         "CHAS": 0,
         "CRIM": 0.02731,
         "DIS": 4.9671,
         "INDUS": 7.07,
         "LSTAT": 9.14,
         "MEDV": 21.6,
         "NOX": 0.469,
         "PTRATIO": 17.8,
         "RAD": 2,
         "RM": 6.421,
         "TAX": 242,
         "ZN": 0,
         "_deepnote_index_column": 1
        },
        {
         "AGE": 61.1,
         "B": 392.83,
         "CHAS": 0,
         "CRIM": 0.02729,
         "DIS": 4.9671,
         "INDUS": 7.07,
         "LSTAT": 4.03,
         "MEDV": 34.7,
         "NOX": 0.469,
         "PTRATIO": 17.8,
         "RAD": 2,
         "RM": 7.185,
         "TAX": 242,
         "ZN": 0,
         "_deepnote_index_column": 2
        },
        {
         "AGE": 45.8,
         "B": 394.63,
         "CHAS": 0,
         "CRIM": 0.03237,
         "DIS": 6.0622,
         "INDUS": 2.18,
         "LSTAT": 2.94,
         "MEDV": 33.4,
         "NOX": 0.458,
         "PTRATIO": 18.7,
         "RAD": 3,
         "RM": 6.998,
         "TAX": 222,
         "ZN": 0,
         "_deepnote_index_column": 3
        },
        {
         "AGE": 54.2,
         "B": 396.9,
         "CHAS": 0,
         "CRIM": 0.06905,
         "DIS": 6.0622,
         "INDUS": 2.18,
         "LSTAT": 5.33,
         "MEDV": 36.2,
         "NOX": 0.458,
         "PTRATIO": 18.7,
         "RAD": 3,
         "RM": 7.147,
         "TAX": 222,
         "ZN": 0,
         "_deepnote_index_column": 4
        },
        {
         "AGE": 58.7,
         "B": 394.12,
         "CHAS": 0,
         "CRIM": 0.02985,
         "DIS": 6.0622,
         "INDUS": 2.18,
         "LSTAT": 5.21,
         "MEDV": 28.7,
         "NOX": 0.458,
         "PTRATIO": 18.7,
         "RAD": 3,
         "RM": 6.43,
         "TAX": 222,
         "ZN": 0,
         "_deepnote_index_column": 5
        },
        {
         "AGE": 66.6,
         "B": 395.6,
         "CHAS": 0,
         "CRIM": 0.08829,
         "DIS": 5.5605,
         "INDUS": 7.87,
         "LSTAT": 12.43,
         "MEDV": 22.9,
         "NOX": 0.524,
         "PTRATIO": 15.2,
         "RAD": 5,
         "RM": 6.012,
         "TAX": 311,
         "ZN": 12.5,
         "_deepnote_index_column": 6
        },
        {
         "AGE": 96.1,
         "B": 396.9,
         "CHAS": 0,
         "CRIM": 0.14455,
         "DIS": 5.9505,
         "INDUS": 7.87,
         "LSTAT": 19.15,
         "MEDV": 27.1,
         "NOX": 0.524,
         "PTRATIO": 15.2,
         "RAD": 5,
         "RM": 6.172,
         "TAX": 311,
         "ZN": 12.5,
         "_deepnote_index_column": 7
        },
        {
         "AGE": 100,
         "B": 386.63,
         "CHAS": 0,
         "CRIM": 0.21124,
         "DIS": 6.0821,
         "INDUS": 7.87,
         "LSTAT": 29.93,
         "MEDV": 16.5,
         "NOX": 0.524,
         "PTRATIO": 15.2,
         "RAD": 5,
         "RM": 5.631,
         "TAX": 311,
         "ZN": 12.5,
         "_deepnote_index_column": 8
        },
        {
         "AGE": 85.9,
         "B": 386.71,
         "CHAS": 0,
         "CRIM": 0.17004,
         "DIS": 6.5921,
         "INDUS": 7.87,
         "LSTAT": 17.1,
         "MEDV": 18.9,
         "NOX": 0.524,
         "PTRATIO": 15.2,
         "RAD": 5,
         "RM": 6.004,
         "TAX": 311,
         "ZN": 12.5,
         "_deepnote_index_column": 9
        },
        {
         "AGE": 94.3,
         "B": 392.52,
         "CHAS": 0,
         "CRIM": 0.22489,
         "DIS": 6.3467,
         "INDUS": 7.87,
         "LSTAT": 20.45,
         "MEDV": 15,
         "NOX": 0.524,
         "PTRATIO": 15.2,
         "RAD": 5,
         "RM": 6.377,
         "TAX": 311,
         "ZN": 12.5,
         "_deepnote_index_column": 10
        },
        {
         "AGE": 82.9,
         "B": 396.9,
         "CHAS": 0,
         "CRIM": 0.11747,
         "DIS": 6.2267,
         "INDUS": 7.87,
         "LSTAT": 13.27,
         "MEDV": 18.9,
         "NOX": 0.524,
         "PTRATIO": 15.2,
         "RAD": 5,
         "RM": 6.009,
         "TAX": 311,
         "ZN": 12.5,
         "_deepnote_index_column": 11
        },
        {
         "AGE": 39,
         "B": 390.5,
         "CHAS": 0,
         "CRIM": 0.09378,
         "DIS": 5.4509,
         "INDUS": 7.87,
         "LSTAT": 15.71,
         "MEDV": 21.7,
         "NOX": 0.524,
         "PTRATIO": 15.2,
         "RAD": 5,
         "RM": 5.889,
         "TAX": 311,
         "ZN": 12.5,
         "_deepnote_index_column": 12
        },
        {
         "AGE": 61.8,
         "B": 396.9,
         "CHAS": 0,
         "CRIM": 0.62976,
         "DIS": 4.7075,
         "INDUS": 8.14,
         "LSTAT": 8.26,
         "MEDV": 20.4,
         "NOX": 0.538,
         "PTRATIO": 21,
         "RAD": 4,
         "RM": 5.949,
         "TAX": 307,
         "ZN": 0,
         "_deepnote_index_column": 13
        },
        {
         "AGE": 84.5,
         "B": 380.02,
         "CHAS": 0,
         "CRIM": 0.63796,
         "DIS": 4.4619,
         "INDUS": 8.14,
         "LSTAT": 10.26,
         "MEDV": 18.2,
         "NOX": 0.538,
         "PTRATIO": 21,
         "RAD": 4,
         "RM": 6.096,
         "TAX": 307,
         "ZN": 0,
         "_deepnote_index_column": 14
        },
        {
         "AGE": 56.5,
         "B": 395.62,
         "CHAS": 0,
         "CRIM": 0.62739,
         "DIS": 4.4986,
         "INDUS": 8.14,
         "LSTAT": 8.47,
         "MEDV": 19.9,
         "NOX": 0.538,
         "PTRATIO": 21,
         "RAD": 4,
         "RM": 5.834,
         "TAX": 307,
         "ZN": 0,
         "_deepnote_index_column": 15
        },
        {
         "AGE": 29.3,
         "B": 386.85,
         "CHAS": 0,
         "CRIM": 1.05393,
         "DIS": 4.4986,
         "INDUS": 8.14,
         "LSTAT": 6.58,
         "MEDV": 23.1,
         "NOX": 0.538,
         "PTRATIO": 21,
         "RAD": 4,
         "RM": 5.935,
         "TAX": 307,
         "ZN": 0,
         "_deepnote_index_column": 16
        },
        {
         "AGE": 81.7,
         "B": 386.75,
         "CHAS": 0,
         "CRIM": 0.7842,
         "DIS": 4.2579,
         "INDUS": 8.14,
         "LSTAT": 14.67,
         "MEDV": 17.5,
         "NOX": 0.538,
         "PTRATIO": 21,
         "RAD": 4,
         "RM": 5.99,
         "TAX": 307,
         "ZN": 0,
         "_deepnote_index_column": 17
        },
        {
         "AGE": 36.6,
         "B": 288.99,
         "CHAS": 0,
         "CRIM": 0.80271,
         "DIS": 3.7965,
         "INDUS": 8.14,
         "LSTAT": 11.69,
         "MEDV": 20.2,
         "NOX": 0.538,
         "PTRATIO": 21,
         "RAD": 4,
         "RM": 5.456,
         "TAX": 307,
         "ZN": 0,
         "_deepnote_index_column": 18
        },
        {
         "AGE": 69.5,
         "B": 390.95,
         "CHAS": 0,
         "CRIM": 0.7258,
         "DIS": 3.7965,
         "INDUS": 8.14,
         "LSTAT": 11.28,
         "MEDV": 18.2,
         "NOX": 0.538,
         "PTRATIO": 21,
         "RAD": 4,
         "RM": 5.727,
         "TAX": 307,
         "ZN": 0,
         "_deepnote_index_column": 19
        },
        {
         "AGE": 98.1,
         "B": 376.57,
         "CHAS": 0,
         "CRIM": 1.25179,
         "DIS": 3.7979,
         "INDUS": 8.14,
         "LSTAT": 21.02,
         "MEDV": 13.6,
         "NOX": 0.538,
         "PTRATIO": 21,
         "RAD": 4,
         "RM": 5.57,
         "TAX": 307,
         "ZN": 0,
         "_deepnote_index_column": 20
        },
        {
         "AGE": 89.2,
         "B": 392.53,
         "CHAS": 0,
         "CRIM": 0.85204,
         "DIS": 4.0123,
         "INDUS": 8.14,
         "LSTAT": 13.83,
         "MEDV": 19.6,
         "NOX": 0.538,
         "PTRATIO": 21,
         "RAD": 4,
         "RM": 5.965,
         "TAX": 307,
         "ZN": 0,
         "_deepnote_index_column": 21
        },
        {
         "AGE": 91.7,
         "B": 396.9,
         "CHAS": 0,
         "CRIM": 1.23247,
         "DIS": 3.9769,
         "INDUS": 8.14,
         "LSTAT": 18.72,
         "MEDV": 15.2,
         "NOX": 0.538,
         "PTRATIO": 21,
         "RAD": 4,
         "RM": 6.142,
         "TAX": 307,
         "ZN": 0,
         "_deepnote_index_column": 22
        },
        {
         "AGE": 100,
         "B": 394.54,
         "CHAS": 0,
         "CRIM": 0.98843,
         "DIS": 4.0952,
         "INDUS": 8.14,
         "LSTAT": 19.88,
         "MEDV": 14.5,
         "NOX": 0.538,
         "PTRATIO": 21,
         "RAD": 4,
         "RM": 5.813,
         "TAX": 307,
         "ZN": 0,
         "_deepnote_index_column": 23
        },
        {
         "AGE": 94.1,
         "B": 394.33,
         "CHAS": 0,
         "CRIM": 0.75026,
         "DIS": 4.3996,
         "INDUS": 8.14,
         "LSTAT": 16.3,
         "MEDV": 15.6,
         "NOX": 0.538,
         "PTRATIO": 21,
         "RAD": 4,
         "RM": 5.924,
         "TAX": 307,
         "ZN": 0,
         "_deepnote_index_column": 24
        },
        {
         "AGE": 85.7,
         "B": 303.42,
         "CHAS": 0,
         "CRIM": 0.84054,
         "DIS": 4.4546,
         "INDUS": 8.14,
         "LSTAT": 16.51,
         "MEDV": 13.9,
         "NOX": 0.538,
         "PTRATIO": 21,
         "RAD": 4,
         "RM": 5.599,
         "TAX": 307,
         "ZN": 0,
         "_deepnote_index_column": 25
        },
        {
         "AGE": 90.3,
         "B": 376.88,
         "CHAS": 0,
         "CRIM": 0.67191,
         "DIS": 4.682,
         "INDUS": 8.14,
         "LSTAT": 14.81,
         "MEDV": 16.6,
         "NOX": 0.538,
         "PTRATIO": 21,
         "RAD": 4,
         "RM": 5.813,
         "TAX": 307,
         "ZN": 0,
         "_deepnote_index_column": 26
        },
        {
         "AGE": 88.8,
         "B": 306.38,
         "CHAS": 0,
         "CRIM": 0.95577,
         "DIS": 4.4534,
         "INDUS": 8.14,
         "LSTAT": 17.28,
         "MEDV": 14.8,
         "NOX": 0.538,
         "PTRATIO": 21,
         "RAD": 4,
         "RM": 6.047,
         "TAX": 307,
         "ZN": 0,
         "_deepnote_index_column": 27
        },
        {
         "AGE": 94.4,
         "B": 387.94,
         "CHAS": 0,
         "CRIM": 0.77299,
         "DIS": 4.4547,
         "INDUS": 8.14,
         "LSTAT": 12.8,
         "MEDV": 18.4,
         "NOX": 0.538,
         "PTRATIO": 21,
         "RAD": 4,
         "RM": 6.495,
         "TAX": 307,
         "ZN": 0,
         "_deepnote_index_column": 28
        },
        {
         "AGE": 87.3,
         "B": 380.23,
         "CHAS": 0,
         "CRIM": 1.00245,
         "DIS": 4.239,
         "INDUS": 8.14,
         "LSTAT": 11.98,
         "MEDV": 21,
         "NOX": 0.538,
         "PTRATIO": 21,
         "RAD": 4,
         "RM": 6.674,
         "TAX": 307,
         "ZN": 0,
         "_deepnote_index_column": 29
        },
        {
         "AGE": 94.1,
         "B": 360.17,
         "CHAS": 0,
         "CRIM": 1.13081,
         "DIS": 4.233,
         "INDUS": 8.14,
         "LSTAT": 22.6,
         "MEDV": 12.7,
         "NOX": 0.538,
         "PTRATIO": 21,
         "RAD": 4,
         "RM": 5.713,
         "TAX": 307,
         "ZN": 0,
         "_deepnote_index_column": 30
        },
        {
         "AGE": 100,
         "B": 376.73,
         "CHAS": 0,
         "CRIM": 1.35472,
         "DIS": 4.175,
         "INDUS": 8.14,
         "LSTAT": 13.04,
         "MEDV": 14.5,
         "NOX": 0.538,
         "PTRATIO": 21,
         "RAD": 4,
         "RM": 6.072,
         "TAX": 307,
         "ZN": 0,
         "_deepnote_index_column": 31
        },
        {
         "AGE": 82,
         "B": 232.6,
         "CHAS": 0,
         "CRIM": 1.38799,
         "DIS": 3.99,
         "INDUS": 8.14,
         "LSTAT": 27.71,
         "MEDV": 13.2,
         "NOX": 0.538,
         "PTRATIO": 21,
         "RAD": 4,
         "RM": 5.95,
         "TAX": 307,
         "ZN": 0,
         "_deepnote_index_column": 32
        },
        {
         "AGE": 95,
         "B": 358.77,
         "CHAS": 0,
         "CRIM": 1.15172,
         "DIS": 3.7872,
         "INDUS": 8.14,
         "LSTAT": 18.35,
         "MEDV": 13.1,
         "NOX": 0.538,
         "PTRATIO": 21,
         "RAD": 4,
         "RM": 5.701,
         "TAX": 307,
         "ZN": 0,
         "_deepnote_index_column": 33
        },
        {
         "AGE": 96.9,
         "B": 248.31,
         "CHAS": 0,
         "CRIM": 1.61282,
         "DIS": 3.7598,
         "INDUS": 8.14,
         "LSTAT": 20.34,
         "MEDV": 13.5,
         "NOX": 0.538,
         "PTRATIO": 21,
         "RAD": 4,
         "RM": 6.096,
         "TAX": 307,
         "ZN": 0,
         "_deepnote_index_column": 34
        }
       ]
      },
      "text/html": [
       "<div>\n",
       "<style scoped>\n",
       "    .dataframe tbody tr th:only-of-type {\n",
       "        vertical-align: middle;\n",
       "    }\n",
       "\n",
       "    .dataframe tbody tr th {\n",
       "        vertical-align: top;\n",
       "    }\n",
       "\n",
       "    .dataframe thead th {\n",
       "        text-align: right;\n",
       "    }\n",
       "</style>\n",
       "<table border=\"1\" class=\"dataframe\">\n",
       "  <thead>\n",
       "    <tr style=\"text-align: right;\">\n",
       "      <th></th>\n",
       "      <th>CRIM</th>\n",
       "      <th>ZN</th>\n",
       "      <th>INDUS</th>\n",
       "      <th>CHAS</th>\n",
       "      <th>NOX</th>\n",
       "      <th>RM</th>\n",
       "      <th>AGE</th>\n",
       "      <th>DIS</th>\n",
       "      <th>RAD</th>\n",
       "      <th>TAX</th>\n",
       "      <th>PTRATIO</th>\n",
       "      <th>B</th>\n",
       "      <th>LSTAT</th>\n",
       "      <th>MEDV</th>\n",
       "    </tr>\n",
       "  </thead>\n",
       "  <tbody>\n",
       "    <tr>\n",
       "      <th>0</th>\n",
       "      <td>0.00632</td>\n",
       "      <td>18.0</td>\n",
       "      <td>2.31</td>\n",
       "      <td>0</td>\n",
       "      <td>0.538</td>\n",
       "      <td>6.575</td>\n",
       "      <td>65.2</td>\n",
       "      <td>4.0900</td>\n",
       "      <td>1</td>\n",
       "      <td>296.0</td>\n",
       "      <td>15.3</td>\n",
       "      <td>396.90</td>\n",
       "      <td>4.98</td>\n",
       "      <td>24.0</td>\n",
       "    </tr>\n",
       "    <tr>\n",
       "      <th>1</th>\n",
       "      <td>0.02731</td>\n",
       "      <td>0.0</td>\n",
       "      <td>7.07</td>\n",
       "      <td>0</td>\n",
       "      <td>0.469</td>\n",
       "      <td>6.421</td>\n",
       "      <td>78.9</td>\n",
       "      <td>4.9671</td>\n",
       "      <td>2</td>\n",
       "      <td>242.0</td>\n",
       "      <td>17.8</td>\n",
       "      <td>396.90</td>\n",
       "      <td>9.14</td>\n",
       "      <td>21.6</td>\n",
       "    </tr>\n",
       "    <tr>\n",
       "      <th>2</th>\n",
       "      <td>0.02729</td>\n",
       "      <td>0.0</td>\n",
       "      <td>7.07</td>\n",
       "      <td>0</td>\n",
       "      <td>0.469</td>\n",
       "      <td>7.185</td>\n",
       "      <td>61.1</td>\n",
       "      <td>4.9671</td>\n",
       "      <td>2</td>\n",
       "      <td>242.0</td>\n",
       "      <td>17.8</td>\n",
       "      <td>392.83</td>\n",
       "      <td>4.03</td>\n",
       "      <td>34.7</td>\n",
       "    </tr>\n",
       "    <tr>\n",
       "      <th>3</th>\n",
       "      <td>0.03237</td>\n",
       "      <td>0.0</td>\n",
       "      <td>2.18</td>\n",
       "      <td>0</td>\n",
       "      <td>0.458</td>\n",
       "      <td>6.998</td>\n",
       "      <td>45.8</td>\n",
       "      <td>6.0622</td>\n",
       "      <td>3</td>\n",
       "      <td>222.0</td>\n",
       "      <td>18.7</td>\n",
       "      <td>394.63</td>\n",
       "      <td>2.94</td>\n",
       "      <td>33.4</td>\n",
       "    </tr>\n",
       "    <tr>\n",
       "      <th>4</th>\n",
       "      <td>0.06905</td>\n",
       "      <td>0.0</td>\n",
       "      <td>2.18</td>\n",
       "      <td>0</td>\n",
       "      <td>0.458</td>\n",
       "      <td>7.147</td>\n",
       "      <td>54.2</td>\n",
       "      <td>6.0622</td>\n",
       "      <td>3</td>\n",
       "      <td>222.0</td>\n",
       "      <td>18.7</td>\n",
       "      <td>396.90</td>\n",
       "      <td>5.33</td>\n",
       "      <td>36.2</td>\n",
       "    </tr>\n",
       "    <tr>\n",
       "      <th>...</th>\n",
       "      <td>...</td>\n",
       "      <td>...</td>\n",
       "      <td>...</td>\n",
       "      <td>...</td>\n",
       "      <td>...</td>\n",
       "      <td>...</td>\n",
       "      <td>...</td>\n",
       "      <td>...</td>\n",
       "      <td>...</td>\n",
       "      <td>...</td>\n",
       "      <td>...</td>\n",
       "      <td>...</td>\n",
       "      <td>...</td>\n",
       "      <td>...</td>\n",
       "    </tr>\n",
       "    <tr>\n",
       "      <th>501</th>\n",
       "      <td>0.06263</td>\n",
       "      <td>0.0</td>\n",
       "      <td>11.93</td>\n",
       "      <td>0</td>\n",
       "      <td>0.573</td>\n",
       "      <td>6.593</td>\n",
       "      <td>69.1</td>\n",
       "      <td>2.4786</td>\n",
       "      <td>1</td>\n",
       "      <td>273.0</td>\n",
       "      <td>21.0</td>\n",
       "      <td>391.99</td>\n",
       "      <td>9.67</td>\n",
       "      <td>22.4</td>\n",
       "    </tr>\n",
       "    <tr>\n",
       "      <th>502</th>\n",
       "      <td>0.04527</td>\n",
       "      <td>0.0</td>\n",
       "      <td>11.93</td>\n",
       "      <td>0</td>\n",
       "      <td>0.573</td>\n",
       "      <td>6.120</td>\n",
       "      <td>76.7</td>\n",
       "      <td>2.2875</td>\n",
       "      <td>1</td>\n",
       "      <td>273.0</td>\n",
       "      <td>21.0</td>\n",
       "      <td>396.90</td>\n",
       "      <td>9.08</td>\n",
       "      <td>20.6</td>\n",
       "    </tr>\n",
       "    <tr>\n",
       "      <th>503</th>\n",
       "      <td>0.06076</td>\n",
       "      <td>0.0</td>\n",
       "      <td>11.93</td>\n",
       "      <td>0</td>\n",
       "      <td>0.573</td>\n",
       "      <td>6.976</td>\n",
       "      <td>91.0</td>\n",
       "      <td>2.1675</td>\n",
       "      <td>1</td>\n",
       "      <td>273.0</td>\n",
       "      <td>21.0</td>\n",
       "      <td>396.90</td>\n",
       "      <td>5.64</td>\n",
       "      <td>23.9</td>\n",
       "    </tr>\n",
       "    <tr>\n",
       "      <th>504</th>\n",
       "      <td>0.10959</td>\n",
       "      <td>0.0</td>\n",
       "      <td>11.93</td>\n",
       "      <td>0</td>\n",
       "      <td>0.573</td>\n",
       "      <td>6.794</td>\n",
       "      <td>89.3</td>\n",
       "      <td>2.3889</td>\n",
       "      <td>1</td>\n",
       "      <td>273.0</td>\n",
       "      <td>21.0</td>\n",
       "      <td>393.45</td>\n",
       "      <td>6.48</td>\n",
       "      <td>22.0</td>\n",
       "    </tr>\n",
       "    <tr>\n",
       "      <th>505</th>\n",
       "      <td>0.04741</td>\n",
       "      <td>0.0</td>\n",
       "      <td>11.93</td>\n",
       "      <td>0</td>\n",
       "      <td>0.573</td>\n",
       "      <td>6.030</td>\n",
       "      <td>80.8</td>\n",
       "      <td>2.5050</td>\n",
       "      <td>1</td>\n",
       "      <td>273.0</td>\n",
       "      <td>21.0</td>\n",
       "      <td>396.90</td>\n",
       "      <td>7.88</td>\n",
       "      <td>11.9</td>\n",
       "    </tr>\n",
       "  </tbody>\n",
       "</table>\n",
       "<p>490 rows × 14 columns</p>\n",
       "</div>"
      ],
      "text/plain": [
       "        CRIM    ZN  INDUS  CHAS    NOX     RM   AGE     DIS  RAD    TAX  \\\n",
       "0    0.00632  18.0   2.31     0  0.538  6.575  65.2  4.0900    1  296.0   \n",
       "1    0.02731   0.0   7.07     0  0.469  6.421  78.9  4.9671    2  242.0   \n",
       "2    0.02729   0.0   7.07     0  0.469  7.185  61.1  4.9671    2  242.0   \n",
       "3    0.03237   0.0   2.18     0  0.458  6.998  45.8  6.0622    3  222.0   \n",
       "4    0.06905   0.0   2.18     0  0.458  7.147  54.2  6.0622    3  222.0   \n",
       "..       ...   ...    ...   ...    ...    ...   ...     ...  ...    ...   \n",
       "501  0.06263   0.0  11.93     0  0.573  6.593  69.1  2.4786    1  273.0   \n",
       "502  0.04527   0.0  11.93     0  0.573  6.120  76.7  2.2875    1  273.0   \n",
       "503  0.06076   0.0  11.93     0  0.573  6.976  91.0  2.1675    1  273.0   \n",
       "504  0.10959   0.0  11.93     0  0.573  6.794  89.3  2.3889    1  273.0   \n",
       "505  0.04741   0.0  11.93     0  0.573  6.030  80.8  2.5050    1  273.0   \n",
       "\n",
       "     PTRATIO       B  LSTAT  MEDV  \n",
       "0       15.3  396.90   4.98  24.0  \n",
       "1       17.8  396.90   9.14  21.6  \n",
       "2       17.8  392.83   4.03  34.7  \n",
       "3       18.7  394.63   2.94  33.4  \n",
       "4       18.7  396.90   5.33  36.2  \n",
       "..       ...     ...    ...   ...  \n",
       "501     21.0  391.99   9.67  22.4  \n",
       "502     21.0  396.90   9.08  20.6  \n",
       "503     21.0  396.90   5.64  23.9  \n",
       "504     21.0  393.45   6.48  22.0  \n",
       "505     21.0  396.90   7.88  11.9  \n",
       "\n",
       "[490 rows x 14 columns]"
      ]
     },
     "execution_count": 11,
     "metadata": {},
     "output_type": "execute_result"
    }
   ],
   "source": [
    "data"
   ]
  },
  {
   "cell_type": "code",
   "execution_count": null,
   "metadata": {
    "cell_id": "00011-633e3728-e886-441a-860a-3576cd7e42cb",
    "deepnote_cell_type": "code",
    "deepnote_to_be_reexecuted": false,
    "execution_millis": 107,
    "execution_start": 1631900639886,
    "source_hash": "abbdce6e",
    "tags": []
   },
   "outputs": [
    {
     "name": "stdout",
     "output_type": "stream",
     "text": [
      "Column CRIM outliers = 13.27%\n",
      "Column ZN outliers = 13.27%\n",
      "Column INDUS outliers = 0.00%\n",
      "Column CHAS outliers = 100.00%\n",
      "Column NOX outliers = 0.00%\n",
      "Column RM outliers = 4.69%\n",
      "Column AGE outliers = 0.00%\n",
      "Column DIS outliers = 1.02%\n",
      "Column RAD outliers = 0.00%\n",
      "Column TAX outliers = 0.00%\n",
      "Column PTRATIO outliers = 2.65%\n",
      "Column B outliers = 15.92%\n",
      "Column LSTAT outliers = 1.43%\n",
      "Column MEDV outliers = 4.49%\n"
     ]
    }
   ],
   "source": [
    "for k, v in data.items():\n",
    "    q1 = v.quantile(0.25)\n",
    "    q3 = v.quantile(0.75)\n",
    "    irq = q3 - q1\n",
    "    v_col = v[(v <= q1 - 1.5 * irq) | (v >= q3 + 1.5 * irq)]\n",
    "    perc = np.shape(v_col)[0] * 100.0 / np.shape(data)[0]\n",
    "    print(\"Column %s outliers = %.2f%%\" % (k, perc))"
   ]
  },
  {
   "cell_type": "code",
   "execution_count": null,
   "metadata": {
    "cell_id": "00012-8f40cc5f-2048-488f-b4ff-ddcb6b34e22c",
    "deepnote_cell_type": "code",
    "deepnote_to_be_reexecuted": false,
    "execution_millis": 3191,
    "execution_start": 1631900640165,
    "source_hash": "333d99b",
    "tags": []
   },
   "outputs": [
    {
     "name": "stderr",
     "output_type": "stream",
     "text": [
      "/shared-libs/python3.7/py/lib/python3.7/site-packages/seaborn/distributions.py:2619: FutureWarning: `distplot` is a deprecated function and will be removed in a future version. Please adapt your code to use either `displot` (a figure-level function with similar flexibility) or `histplot` (an axes-level function for histograms).\n",
      "  warnings.warn(msg, FutureWarning)\n",
      "/shared-libs/python3.7/py/lib/python3.7/site-packages/seaborn/distributions.py:2619: FutureWarning: `distplot` is a deprecated function and will be removed in a future version. Please adapt your code to use either `displot` (a figure-level function with similar flexibility) or `histplot` (an axes-level function for histograms).\n",
      "  warnings.warn(msg, FutureWarning)\n",
      "/shared-libs/python3.7/py/lib/python3.7/site-packages/seaborn/distributions.py:2619: FutureWarning: `distplot` is a deprecated function and will be removed in a future version. Please adapt your code to use either `displot` (a figure-level function with similar flexibility) or `histplot` (an axes-level function for histograms).\n",
      "  warnings.warn(msg, FutureWarning)\n",
      "/shared-libs/python3.7/py/lib/python3.7/site-packages/seaborn/distributions.py:2619: FutureWarning: `distplot` is a deprecated function and will be removed in a future version. Please adapt your code to use either `displot` (a figure-level function with similar flexibility) or `histplot` (an axes-level function for histograms).\n",
      "  warnings.warn(msg, FutureWarning)\n",
      "/shared-libs/python3.7/py/lib/python3.7/site-packages/seaborn/distributions.py:2619: FutureWarning: `distplot` is a deprecated function and will be removed in a future version. Please adapt your code to use either `displot` (a figure-level function with similar flexibility) or `histplot` (an axes-level function for histograms).\n",
      "  warnings.warn(msg, FutureWarning)\n",
      "/shared-libs/python3.7/py/lib/python3.7/site-packages/seaborn/distributions.py:2619: FutureWarning: `distplot` is a deprecated function and will be removed in a future version. Please adapt your code to use either `displot` (a figure-level function with similar flexibility) or `histplot` (an axes-level function for histograms).\n",
      "  warnings.warn(msg, FutureWarning)\n",
      "/shared-libs/python3.7/py/lib/python3.7/site-packages/seaborn/distributions.py:2619: FutureWarning: `distplot` is a deprecated function and will be removed in a future version. Please adapt your code to use either `displot` (a figure-level function with similar flexibility) or `histplot` (an axes-level function for histograms).\n",
      "  warnings.warn(msg, FutureWarning)\n",
      "/shared-libs/python3.7/py/lib/python3.7/site-packages/seaborn/distributions.py:2619: FutureWarning: `distplot` is a deprecated function and will be removed in a future version. Please adapt your code to use either `displot` (a figure-level function with similar flexibility) or `histplot` (an axes-level function for histograms).\n",
      "  warnings.warn(msg, FutureWarning)\n",
      "/shared-libs/python3.7/py/lib/python3.7/site-packages/seaborn/distributions.py:2619: FutureWarning: `distplot` is a deprecated function and will be removed in a future version. Please adapt your code to use either `displot` (a figure-level function with similar flexibility) or `histplot` (an axes-level function for histograms).\n",
      "  warnings.warn(msg, FutureWarning)\n",
      "/shared-libs/python3.7/py/lib/python3.7/site-packages/seaborn/distributions.py:2619: FutureWarning: `distplot` is a deprecated function and will be removed in a future version. Please adapt your code to use either `displot` (a figure-level function with similar flexibility) or `histplot` (an axes-level function for histograms).\n",
      "  warnings.warn(msg, FutureWarning)\n",
      "/shared-libs/python3.7/py/lib/python3.7/site-packages/seaborn/distributions.py:2619: FutureWarning: `distplot` is a deprecated function and will be removed in a future version. Please adapt your code to use either `displot` (a figure-level function with similar flexibility) or `histplot` (an axes-level function for histograms).\n",
      "  warnings.warn(msg, FutureWarning)\n",
      "/shared-libs/python3.7/py/lib/python3.7/site-packages/seaborn/distributions.py:2619: FutureWarning: `distplot` is a deprecated function and will be removed in a future version. Please adapt your code to use either `displot` (a figure-level function with similar flexibility) or `histplot` (an axes-level function for histograms).\n",
      "  warnings.warn(msg, FutureWarning)\n",
      "/shared-libs/python3.7/py/lib/python3.7/site-packages/seaborn/distributions.py:2619: FutureWarning: `distplot` is a deprecated function and will be removed in a future version. Please adapt your code to use either `displot` (a figure-level function with similar flexibility) or `histplot` (an axes-level function for histograms).\n",
      "  warnings.warn(msg, FutureWarning)\n",
      "/shared-libs/python3.7/py/lib/python3.7/site-packages/seaborn/distributions.py:2619: FutureWarning: `distplot` is a deprecated function and will be removed in a future version. Please adapt your code to use either `displot` (a figure-level function with similar flexibility) or `histplot` (an axes-level function for histograms).\n",
      "  warnings.warn(msg, FutureWarning)\n"
     ]
    },
    {
     "data": {
      "image/png": "[encoded data removed]",
      "text/plain": [
       "<Figure size 1440x720 with 14 Axes>"
      ]
     },
     "metadata": {
      "image/png": {
       "height": 726,
       "width": 1446
      },
      "needs_background": "light"
     },
     "output_type": "display_data"
    }
   ],
   "source": [
    "fig, axs = plt.subplots(ncols=7, nrows=2, figsize=(20, 10))\n",
    "index = 0\n",
    "axs = axs.flatten()\n",
    "for k,v in data.items():\n",
    "    sns.distplot(v, ax=axs[index])\n",
    "    index += 1\n",
    "plt.tight_layout(pad=0.4, w_pad=0.5, h_pad=5.0)"
   ]
  },
  {
   "cell_type": "code",
   "execution_count": null,
   "metadata": {
    "cell_id": "00013-db0efdc3-477e-40e6-859b-97b3f6858db9",
    "deepnote_cell_type": "code",
    "deepnote_to_be_reexecuted": false,
    "execution_millis": 1447,
    "execution_start": 1631900722805,
    "source_hash": "6e33e6a9",
    "tags": []
   },
   "outputs": [
    {
     "data": {
      "text/plain": [
       "<AxesSubplot:>"
      ]
     },
     "execution_count": 19,
     "metadata": {},
     "output_type": "execute_result"
    },
    {
     "data": {
      "image/png": "[encoded data removed]",
      "text/plain": [
       "<Figure size 1440x1440 with 2 Axes>"
      ]
     },
     "metadata": {
      "image/png": {
       "height": 1122,
       "width": 1057
      },
      "needs_background": "light"
     },
     "output_type": "display_data"
    }
   ],
   "source": [
    "fig, ax = plt.subplots(figsize=(20,20))\n",
    "sns.heatmap(data.corr().abs(),  annot=True, ax=ax)"
   ]
  },
  {
   "cell_type": "code",
   "execution_count": null,
   "metadata": {
    "cell_id": "00013-1ab09d3e-367a-44e4-bad9-5a1f64b41282",
    "deepnote_cell_type": "code",
    "deepnote_to_be_reexecuted": false,
    "execution_millis": 6,
    "execution_start": 1631900709179,
    "source_hash": "2496fae",
    "tags": []
   },
   "outputs": [
    {
     "name": "stderr",
     "output_type": "stream",
     "text": [
      "/shared-libs/python3.7/py/lib/python3.7/site-packages/pandas/core/frame.py:4315: SettingWithCopyWarning: \n",
      "A value is trying to be set on a copy of a slice from a DataFrame\n",
      "\n",
      "See the caveats in the documentation: https://pandas.pydata.org/pandas-docs/stable/user_guide/indexing.html#returning-a-view-versus-a-copy\n",
      "  errors=errors,\n"
     ]
    }
   ],
   "source": [
    "# Dropping columns CHAS, RAD\n",
    "data.drop('RAD', axis=1, inplace=True)"
   ]
  },
  {
   "cell_type": "code",
   "execution_count": null,
   "metadata": {
    "cell_id": "00015-c9b32a7b-0bf5-408b-8396-1f747010a42d",
    "deepnote_cell_type": "code",
    "deepnote_to_be_reexecuted": false,
    "execution_millis": 1,
    "execution_start": 1631902086763,
    "source_hash": "43179708",
    "tags": []
   },
   "outputs": [],
   "source": [
    "from sklearn.model_selection import train_test_split\n",
    "\n",
    "x_train, x_test, y_train, y_test  = train_test_split(data.loc[:, data.columns != 'MEDV'],data[['MEDV']],test_size=0.2, random_state=1 )"
   ]
  },
  {
   "cell_type": "code",
   "execution_count": null,
   "metadata": {
    "cell_id": "00016-2adb3aa1-39fb-4e87-a680-c1beda1278e5",
    "deepnote_cell_type": "code",
    "deepnote_to_be_reexecuted": false,
    "execution_millis": 35,
    "execution_start": 1631902070781,
    "source_hash": "be3eac57",
    "tags": []
   },
   "outputs": [
    {
     "data": {
      "application/vnd.deepnote.dataframe.v2+json": {
       "column_count": 12,
       "columns": [
        {
         "dtype": "float64",
         "name": "CRIM",
         "stats": {
          "histogram": [
           {
            "bin_end": 8.903308,
            "bin_start": 0.00632,
            "count": 424
           },
           {
            "bin_end": 17.800296,
            "bin_start": 8.903308,
            "count": 43
           },
           {
            "bin_end": 26.697284,
            "bin_start": 17.800296,
            "count": 14
           },
           {
            "bin_end": 35.594272000000004,
            "bin_start": 26.697284,
            "count": 1
           },
           {
            "bin_end": 44.491260000000004,
            "bin_start": 35.594272000000004,
            "count": 3
           },
           {
            "bin_end": 53.388248000000004,
            "bin_start": 44.491260000000004,
            "count": 2
           },
           {
            "bin_end": 62.285236000000005,
            "bin_start": 53.388248000000004,
            "count": 0
           },
           {
            "bin_end": 71.182224,
            "bin_start": 62.285236000000005,
            "count": 1
           },
           {
            "bin_end": 80.079212,
            "bin_start": 71.182224,
            "count": 1
           },
           {
            "bin_end": 88.9762,
            "bin_start": 80.079212,
            "count": 1
           }
          ],
          "max": "88.9762",
          "min": "0.00632",
          "nan_count": 0,
          "unique_count": 489
         }
        },
        {
         "dtype": "float64",
         "name": "ZN",
         "stats": {
          "histogram": [
           {
            "bin_end": 10,
            "bin_start": 0,
            "count": 361
           },
           {
            "bin_end": 20,
            "bin_start": 10,
            "count": 12
           },
           {
            "bin_end": 30,
            "bin_start": 20,
            "count": 46
           },
           {
            "bin_end": 40,
            "bin_start": 30,
            "count": 16
           },
           {
            "bin_end": 50,
            "bin_start": 40,
            "count": 13
           },
           {
            "bin_end": 60,
            "bin_start": 50,
            "count": 6
           },
           {
            "bin_end": 70,
            "bin_start": 60,
            "count": 4
           },
           {
            "bin_end": 80,
            "bin_start": 70,
            "count": 6
           },
           {
            "bin_end": 90,
            "bin_start": 80,
            "count": 18
           },
           {
            "bin_end": 100,
            "bin_start": 90,
            "count": 8
           }
          ],
          "max": "100.0",
          "min": "0.0",
          "nan_count": 0,
          "unique_count": 26
         }
        },
        {
         "dtype": "float64",
         "name": "INDUS",
         "stats": {
          "histogram": [
           {
            "bin_end": 3.4400000000000004,
            "bin_start": 0.74,
            "count": 71
           },
           {
            "bin_end": 6.140000000000001,
            "bin_start": 3.4400000000000004,
            "count": 86
           },
           {
            "bin_end": 8.840000000000002,
            "bin_start": 6.140000000000001,
            "count": 86
           },
           {
            "bin_end": 11.540000000000001,
            "bin_start": 8.840000000000002,
            "count": 44
           },
           {
            "bin_end": 14.24,
            "bin_start": 11.540000000000001,
            "count": 20
           },
           {
            "bin_end": 16.94,
            "bin_start": 14.24,
            "count": 3
           },
           {
            "bin_end": 19.64,
            "bin_start": 16.94,
            "count": 153
           },
           {
            "bin_end": 22.34,
            "bin_start": 19.64,
            "count": 15
           },
           {
            "bin_end": 25.04,
            "bin_start": 22.34,
            "count": 0
           },
           {
            "bin_end": 27.74,
            "bin_start": 25.04,
            "count": 12
           }
          ],
          "max": "27.74",
          "min": "0.74",
          "nan_count": 0,
          "unique_count": 74
         }
        },
        {
         "dtype": "int64",
         "name": "CHAS",
         "stats": {
          "histogram": [
           {
            "bin_end": 0.1,
            "bin_start": 0,
            "count": 461
           },
           {
            "bin_end": 0.2,
            "bin_start": 0.1,
            "count": 0
           },
           {
            "bin_end": 0.30000000000000004,
            "bin_start": 0.2,
            "count": 0
           },
           {
            "bin_end": 0.4,
            "bin_start": 0.30000000000000004,
            "count": 0
           },
           {
            "bin_end": 0.5,
            "bin_start": 0.4,
            "count": 0
           },
           {
            "bin_end": 0.6000000000000001,
            "bin_start": 0.5,
            "count": 0
           },
           {
            "bin_end": 0.7000000000000001,
            "bin_start": 0.6000000000000001,
            "count": 0
           },
           {
            "bin_end": 0.8,
            "bin_start": 0.7000000000000001,
            "count": 0
           },
           {
            "bin_end": 0.9,
            "bin_start": 0.8,
            "count": 0
           },
           {
            "bin_end": 1,
            "bin_start": 0.9,
            "count": 29
           }
          ],
          "max": "1",
          "min": "0",
          "nan_count": 0,
          "unique_count": 2
         }
        },
        {
         "dtype": "float64",
         "name": "NOX",
         "stats": {
          "histogram": [
           {
            "bin_end": 0.4336,
            "bin_start": 0.385,
            "count": 72
           },
           {
            "bin_end": 0.4822,
            "bin_start": 0.4336,
            "count": 80
           },
           {
            "bin_end": 0.5307999999999999,
            "bin_start": 0.4822,
            "count": 87
           },
           {
            "bin_end": 0.5794,
            "bin_start": 0.5307999999999999,
            "count": 59
           },
           {
            "bin_end": 0.628,
            "bin_start": 0.5794,
            "count": 74
           },
           {
            "bin_end": 0.6766,
            "bin_start": 0.628,
            "count": 24
           },
           {
            "bin_end": 0.7252000000000001,
            "bin_start": 0.6766,
            "count": 57
           },
           {
            "bin_end": 0.7738,
            "bin_start": 0.7252000000000001,
            "count": 21
           },
           {
            "bin_end": 0.8224,
            "bin_start": 0.7738,
            "count": 0
           },
           {
            "bin_end": 0.871,
            "bin_start": 0.8224,
            "count": 16
           }
          ],
          "max": "0.871",
          "min": "0.385",
          "nan_count": 0,
          "unique_count": 80
         }
        },
        {
         "dtype": "float64",
         "name": "RM",
         "stats": {
          "histogram": [
           {
            "bin_end": 4.0828999999999995,
            "bin_start": 3.561,
            "count": 2
           },
           {
            "bin_end": 4.6048,
            "bin_start": 4.0828999999999995,
            "count": 4
           },
           {
            "bin_end": 5.1267,
            "bin_start": 4.6048,
            "count": 13
           },
           {
            "bin_end": 5.6486,
            "bin_start": 5.1267,
            "count": 45
           },
           {
            "bin_end": 6.1705,
            "bin_start": 5.6486,
            "count": 176
           },
           {
            "bin_end": 6.692399999999999,
            "bin_start": 6.1705,
            "count": 149
           },
           {
            "bin_end": 7.2143,
            "bin_start": 6.692399999999999,
            "count": 68
           },
           {
            "bin_end": 7.736199999999999,
            "bin_start": 7.2143,
            "count": 21
           },
           {
            "bin_end": 8.258099999999999,
            "bin_start": 7.736199999999999,
            "count": 7
           },
           {
            "bin_end": 8.78,
            "bin_start": 8.258099999999999,
            "count": 5
           }
          ],
          "max": "8.78",
          "min": "3.561",
          "nan_count": 0,
          "unique_count": 431
         }
        },
        {
         "dtype": "float64",
         "name": "AGE",
         "stats": {
          "histogram": [
           {
            "bin_end": 12.61,
            "bin_start": 2.9,
            "count": 14
           },
           {
            "bin_end": 22.319999999999997,
            "bin_start": 12.61,
            "count": 31
           },
           {
            "bin_end": 32.029999999999994,
            "bin_start": 22.319999999999997,
            "count": 26
           },
           {
            "bin_end": 41.739999999999995,
            "bin_start": 32.029999999999994,
            "count": 42
           },
           {
            "bin_end": 51.449999999999996,
            "bin_start": 41.739999999999995,
            "count": 32
           },
           {
            "bin_end": 61.15999999999999,
            "bin_start": 51.449999999999996,
            "count": 37
           },
           {
            "bin_end": 70.87,
            "bin_start": 61.15999999999999,
            "count": 38
           },
           {
            "bin_end": 80.58,
            "bin_start": 70.87,
            "count": 42
           },
           {
            "bin_end": 90.28999999999999,
            "bin_start": 80.58,
            "count": 68
           },
           {
            "bin_end": 100,
            "bin_start": 90.28999999999999,
            "count": 160
           }
          ],
          "max": "100.0",
          "min": "2.9",
          "nan_count": 0,
          "unique_count": 350
         }
        },
        {
         "dtype": "float64",
         "name": "DIS",
         "stats": {
          "histogram": [
           {
            "bin_end": 2.23595,
            "bin_start": 1.137,
            "count": 140
           },
           {
            "bin_end": 3.3348999999999998,
            "bin_start": 2.23595,
            "count": 109
           },
           {
            "bin_end": 4.43385,
            "bin_start": 3.3348999999999998,
            "count": 82
           },
           {
            "bin_end": 5.5328,
            "bin_start": 4.43385,
            "count": 58
           },
           {
            "bin_end": 6.63175,
            "bin_start": 5.5328,
            "count": 44
           },
           {
            "bin_end": 7.730699999999999,
            "bin_start": 6.63175,
            "count": 26
           },
           {
            "bin_end": 8.829649999999999,
            "bin_start": 7.730699999999999,
            "count": 19
           },
           {
            "bin_end": 9.9286,
            "bin_start": 8.829649999999999,
            "count": 7
           },
           {
            "bin_end": 11.02755,
            "bin_start": 9.9286,
            "count": 4
           },
           {
            "bin_end": 12.1265,
            "bin_start": 11.02755,
            "count": 1
           }
          ],
          "max": "12.1265",
          "min": "1.137",
          "nan_count": 0,
          "unique_count": 398
         }
        },
        {
         "dtype": "float64",
         "name": "TAX",
         "stats": {
          "histogram": [
           {
            "bin_end": 239.4,
            "bin_start": 187,
            "count": 51
           },
           {
            "bin_end": 291.8,
            "bin_start": 239.4,
            "count": 97
           },
           {
            "bin_end": 344.2,
            "bin_start": 291.8,
            "count": 107
           },
           {
            "bin_end": 396.6,
            "bin_start": 344.2,
            "count": 32
           },
           {
            "bin_end": 449,
            "bin_start": 396.6,
            "count": 70
           },
           {
            "bin_end": 501.4,
            "bin_start": 449,
            "count": 1
           },
           {
            "bin_end": 553.8,
            "bin_start": 501.4,
            "count": 0
           },
           {
            "bin_end": 606.2,
            "bin_start": 553.8,
            "count": 0
           },
           {
            "bin_end": 658.5999999999999,
            "bin_start": 606.2,
            "count": 0
           },
           {
            "bin_end": 711,
            "bin_start": 658.5999999999999,
            "count": 132
           }
          ],
          "max": "711.0",
          "min": "187.0",
          "nan_count": 0,
          "unique_count": 64
         }
        },
        {
         "dtype": "float64",
         "name": "PTRATIO",
         "stats": {
          "histogram": [
           {
            "bin_end": 13.54,
            "bin_start": 12.6,
            "count": 13
           },
           {
            "bin_end": 14.48,
            "bin_start": 13.54,
            "count": 0
           },
           {
            "bin_end": 15.42,
            "bin_start": 14.48,
            "count": 53
           },
           {
            "bin_end": 16.36,
            "bin_start": 15.42,
            "count": 15
           },
           {
            "bin_end": 17.3,
            "bin_start": 16.36,
            "count": 35
           },
           {
            "bin_end": 18.240000000000002,
            "bin_start": 17.3,
            "count": 67
           },
           {
            "bin_end": 19.18,
            "bin_start": 18.240000000000002,
            "count": 76
           },
           {
            "bin_end": 20.12,
            "bin_start": 19.18,
            "count": 40
           },
           {
            "bin_end": 21.060000000000002,
            "bin_start": 20.12,
            "count": 173
           },
           {
            "bin_end": 22,
            "bin_start": 21.060000000000002,
            "count": 18
           }
          ],
          "max": "22.0",
          "min": "12.6",
          "nan_count": 0,
          "unique_count": 44
         }
        },
        {
         "dtype": "float64",
         "name": "B",
         "stats": {
          "histogram": [
           {
            "bin_end": 39.978,
            "bin_start": 0.32,
            "count": 18
           },
           {
            "bin_end": 79.636,
            "bin_start": 39.978,
            "count": 6
           },
           {
            "bin_end": 119.294,
            "bin_start": 79.636,
            "count": 10
           },
           {
            "bin_end": 158.952,
            "bin_start": 119.294,
            "count": 2
           },
           {
            "bin_end": 198.61,
            "bin_start": 158.952,
            "count": 3
           },
           {
            "bin_end": 238.268,
            "bin_start": 198.61,
            "count": 3
           },
           {
            "bin_end": 277.926,
            "bin_start": 238.268,
            "count": 7
           },
           {
            "bin_end": 317.584,
            "bin_start": 277.926,
            "count": 11
           },
           {
            "bin_end": 357.242,
            "bin_start": 317.584,
            "count": 32
           },
           {
            "bin_end": 396.9,
            "bin_start": 357.242,
            "count": 398
           }
          ],
          "max": "396.9",
          "min": "0.32",
          "nan_count": 0,
          "unique_count": 342
         }
        },
        {
         "dtype": "float64",
         "name": "LSTAT",
         "stats": {
          "histogram": [
           {
            "bin_end": 5.579000000000001,
            "bin_start": 1.98,
            "count": 69
           },
           {
            "bin_end": 9.178,
            "bin_start": 5.579000000000001,
            "count": 105
           },
           {
            "bin_end": 12.777000000000001,
            "bin_start": 9.178,
            "count": 96
           },
           {
            "bin_end": 16.376,
            "bin_start": 12.777000000000001,
            "count": 84
           },
           {
            "bin_end": 19.975,
            "bin_start": 16.376,
            "count": 62
           },
           {
            "bin_end": 23.574,
            "bin_start": 19.975,
            "count": 28
           },
           {
            "bin_end": 27.173000000000002,
            "bin_start": 23.574,
            "count": 21
           },
           {
            "bin_end": 30.772000000000002,
            "bin_start": 27.173000000000002,
            "count": 16
           },
           {
            "bin_end": 34.371,
            "bin_start": 30.772000000000002,
            "count": 5
           },
           {
            "bin_end": 37.97,
            "bin_start": 34.371,
            "count": 4
           }
          ],
          "max": "37.97",
          "min": "1.98",
          "nan_count": 0,
          "unique_count": 442
         }
        },
        {
         "dtype": "int64",
         "name": "_deepnote_index_column"
        }
       ],
       "row_count": 490,
       "rows_bottom": [
        {
         "AGE": 65.4,
         "B": 396.9,
         "CHAS": 0,
         "CRIM": 7.83932,
         "DIS": 2.9634,
         "INDUS": 18.1,
         "LSTAT": 13.22,
         "NOX": 0.655,
         "PTRATIO": 20.2,
         "RM": 6.209,
         "TAX": 666,
         "ZN": 0,
         "_deepnote_index_column": 464
        },
        {
         "AGE": 48.2,
         "B": 334.4,
         "CHAS": 0,
         "CRIM": 3.1636,
         "DIS": 3.0665,
         "INDUS": 18.1,
         "LSTAT": 14.13,
         "NOX": 0.655,
         "PTRATIO": 20.2,
         "RM": 5.759,
         "TAX": 666,
         "ZN": 0,
         "_deepnote_index_column": 465
        },
        {
         "AGE": 84.7,
         "B": 22.01,
         "CHAS": 0,
         "CRIM": 3.77498,
         "DIS": 2.8715,
         "INDUS": 18.1,
         "LSTAT": 17.15,
         "NOX": 0.655,
         "PTRATIO": 20.2,
         "RM": 5.952,
         "TAX": 666,
         "ZN": 0,
         "_deepnote_index_column": 466
        },
        {
         "AGE": 94.5,
         "B": 331.29,
         "CHAS": 0,
         "CRIM": 4.42228,
         "DIS": 2.5403,
         "INDUS": 18.1,
         "LSTAT": 21.32,
         "NOX": 0.584,
         "PTRATIO": 20.2,
         "RM": 6.003,
         "TAX": 666,
         "ZN": 0,
         "_deepnote_index_column": 467
        },
        {
         "AGE": 71,
         "B": 368.74,
         "CHAS": 0,
         "CRIM": 15.5757,
         "DIS": 2.9084,
         "INDUS": 18.1,
         "LSTAT": 18.13,
         "NOX": 0.58,
         "PTRATIO": 20.2,
         "RM": 5.926,
         "TAX": 666,
         "ZN": 0,
         "_deepnote_index_column": 468
        },
        {
         "AGE": 56.7,
         "B": 396.9,
         "CHAS": 0,
         "CRIM": 13.0751,
         "DIS": 2.8237,
         "INDUS": 18.1,
         "LSTAT": 14.76,
         "NOX": 0.58,
         "PTRATIO": 20.2,
         "RM": 5.713,
         "TAX": 666,
         "ZN": 0,
         "_deepnote_index_column": 469
        },
        {
         "AGE": 84,
         "B": 396.9,
         "CHAS": 0,
         "CRIM": 4.34879,
         "DIS": 3.0334,
         "INDUS": 18.1,
         "LSTAT": 16.29,
         "NOX": 0.58,
         "PTRATIO": 20.2,
         "RM": 6.167,
         "TAX": 666,
         "ZN": 0,
         "_deepnote_index_column": 470
        },
        {
         "AGE": 90.7,
         "B": 395.33,
         "CHAS": 0,
         "CRIM": 4.03841,
         "DIS": 3.0993,
         "INDUS": 18.1,
         "LSTAT": 12.87,
         "NOX": 0.532,
         "PTRATIO": 20.2,
         "RM": 6.229,
         "TAX": 666,
         "ZN": 0,
         "_deepnote_index_column": 471
        },
        {
         "AGE": 75,
         "B": 393.37,
         "CHAS": 0,
         "CRIM": 3.56868,
         "DIS": 2.8965,
         "INDUS": 18.1,
         "LSTAT": 14.36,
         "NOX": 0.58,
         "PTRATIO": 20.2,
         "RM": 6.437,
         "TAX": 666,
         "ZN": 0,
         "_deepnote_index_column": 472
        },
        {
         "AGE": 67.6,
         "B": 374.68,
         "CHAS": 0,
         "CRIM": 4.64689,
         "DIS": 2.5329,
         "INDUS": 18.1,
         "LSTAT": 11.66,
         "NOX": 0.614,
         "PTRATIO": 20.2,
         "RM": 6.98,
         "TAX": 666,
         "ZN": 0,
         "_deepnote_index_column": 473
        },
        {
         "AGE": 95.4,
         "B": 352.58,
         "CHAS": 0,
         "CRIM": 8.05579,
         "DIS": 2.4298,
         "INDUS": 18.1,
         "LSTAT": 18.14,
         "NOX": 0.584,
         "PTRATIO": 20.2,
         "RM": 5.427,
         "TAX": 666,
         "ZN": 0,
         "_deepnote_index_column": 474
        },
        {
         "AGE": 97.4,
         "B": 302.76,
         "CHAS": 0,
         "CRIM": 6.39312,
         "DIS": 2.206,
         "INDUS": 18.1,
         "LSTAT": 24.1,
         "NOX": 0.584,
         "PTRATIO": 20.2,
         "RM": 6.162,
         "TAX": 666,
         "ZN": 0,
         "_deepnote_index_column": 475
        },
        {
         "AGE": 93.6,
         "B": 396.21,
         "CHAS": 0,
         "CRIM": 4.87141,
         "DIS": 2.3053,
         "INDUS": 18.1,
         "LSTAT": 18.68,
         "NOX": 0.614,
         "PTRATIO": 20.2,
         "RM": 6.484,
         "TAX": 666,
         "ZN": 0,
         "_deepnote_index_column": 476
        },
        {
         "AGE": 97.3,
         "B": 349.48,
         "CHAS": 0,
         "CRIM": 15.0234,
         "DIS": 2.1007,
         "INDUS": 18.1,
         "LSTAT": 24.91,
         "NOX": 0.614,
         "PTRATIO": 20.2,
         "RM": 5.304,
         "TAX": 666,
         "ZN": 0,
         "_deepnote_index_column": 477
        },
        {
         "AGE": 96.7,
         "B": 379.7,
         "CHAS": 0,
         "CRIM": 10.233,
         "DIS": 2.1705,
         "INDUS": 18.1,
         "LSTAT": 18.03,
         "NOX": 0.614,
         "PTRATIO": 20.2,
         "RM": 6.185,
         "TAX": 666,
         "ZN": 0,
         "_deepnote_index_column": 478
        },
        {
         "AGE": 88,
         "B": 383.32,
         "CHAS": 0,
         "CRIM": 14.3337,
         "DIS": 1.9512,
         "INDUS": 18.1,
         "LSTAT": 13.11,
         "NOX": 0.614,
         "PTRATIO": 20.2,
         "RM": 6.229,
         "TAX": 666,
         "ZN": 0,
         "_deepnote_index_column": 479
        },
        {
         "AGE": 64.7,
         "B": 396.9,
         "CHAS": 0,
         "CRIM": 5.82401,
         "DIS": 3.4242,
         "INDUS": 18.1,
         "LSTAT": 10.74,
         "NOX": 0.532,
         "PTRATIO": 20.2,
         "RM": 6.242,
         "TAX": 666,
         "ZN": 0,
         "_deepnote_index_column": 480
        },
        {
         "AGE": 74.9,
         "B": 393.07,
         "CHAS": 0,
         "CRIM": 5.70818,
         "DIS": 3.3317,
         "INDUS": 18.1,
         "LSTAT": 7.74,
         "NOX": 0.532,
         "PTRATIO": 20.2,
         "RM": 6.75,
         "TAX": 666,
         "ZN": 0,
         "_deepnote_index_column": 481
        },
        {
         "AGE": 77,
         "B": 395.28,
         "CHAS": 0,
         "CRIM": 5.73116,
         "DIS": 3.4106,
         "INDUS": 18.1,
         "LSTAT": 7.01,
         "NOX": 0.532,
         "PTRATIO": 20.2,
         "RM": 7.061,
         "TAX": 666,
         "ZN": 0,
         "_deepnote_index_column": 482
        },
        {
         "AGE": 40.3,
         "B": 392.92,
         "CHAS": 0,
         "CRIM": 2.81838,
         "DIS": 4.0983,
         "INDUS": 18.1,
         "LSTAT": 10.42,
         "NOX": 0.532,
         "PTRATIO": 20.2,
         "RM": 5.762,
         "TAX": 666,
         "ZN": 0,
         "_deepnote_index_column": 483
        },
        {
         "AGE": 41.9,
         "B": 370.73,
         "CHAS": 0,
         "CRIM": 2.37857,
         "DIS": 3.724,
         "INDUS": 18.1,
         "LSTAT": 13.34,
         "NOX": 0.583,
         "PTRATIO": 20.2,
         "RM": 5.871,
         "TAX": 666,
         "ZN": 0,
         "_deepnote_index_column": 484
        },
        {
         "AGE": 51.9,
         "B": 388.62,
         "CHAS": 0,
         "CRIM": 3.67367,
         "DIS": 3.9917,
         "INDUS": 18.1,
         "LSTAT": 10.58,
         "NOX": 0.583,
         "PTRATIO": 20.2,
         "RM": 6.312,
         "TAX": 666,
         "ZN": 0,
         "_deepnote_index_column": 485
        },
        {
         "AGE": 79.8,
         "B": 392.68,
         "CHAS": 0,
         "CRIM": 5.69175,
         "DIS": 3.5459,
         "INDUS": 18.1,
         "LSTAT": 14.98,
         "NOX": 0.583,
         "PTRATIO": 20.2,
         "RM": 6.114,
         "TAX": 666,
         "ZN": 0,
         "_deepnote_index_column": 486
        },
        {
         "AGE": 53.2,
         "B": 388.22,
         "CHAS": 0,
         "CRIM": 4.83567,
         "DIS": 3.1523,
         "INDUS": 18.1,
         "LSTAT": 11.45,
         "NOX": 0.583,
         "PTRATIO": 20.2,
         "RM": 5.905,
         "TAX": 666,
         "ZN": 0,
         "_deepnote_index_column": 487
        },
        {
         "AGE": 92.7,
         "B": 395.09,
         "CHAS": 0,
         "CRIM": 0.15086,
         "DIS": 1.8209,
         "INDUS": 27.74,
         "LSTAT": 18.06,
         "NOX": 0.609,
         "PTRATIO": 20.1,
         "RM": 5.454,
         "TAX": 711,
         "ZN": 0,
         "_deepnote_index_column": 488
        },
        {
         "AGE": 98.3,
         "B": 344.05,
         "CHAS": 0,
         "CRIM": 0.18337,
         "DIS": 1.7554,
         "INDUS": 27.74,
         "LSTAT": 23.97,
         "NOX": 0.609,
         "PTRATIO": 20.1,
         "RM": 5.414,
         "TAX": 711,
         "ZN": 0,
         "_deepnote_index_column": 489
        },
        {
         "AGE": 98,
         "B": 318.43,
         "CHAS": 0,
         "CRIM": 0.20746,
         "DIS": 1.8226,
         "INDUS": 27.74,
         "LSTAT": 29.68,
         "NOX": 0.609,
         "PTRATIO": 20.1,
         "RM": 5.093,
         "TAX": 711,
         "ZN": 0,
         "_deepnote_index_column": 490
        },
        {
         "AGE": 98.8,
         "B": 390.11,
         "CHAS": 0,
         "CRIM": 0.10574,
         "DIS": 1.8681,
         "INDUS": 27.74,
         "LSTAT": 18.07,
         "NOX": 0.609,
         "PTRATIO": 20.1,
         "RM": 5.983,
         "TAX": 711,
         "ZN": 0,
         "_deepnote_index_column": 491
        },
        {
         "AGE": 83.5,
         "B": 396.9,
         "CHAS": 0,
         "CRIM": 0.11132,
         "DIS": 2.1099,
         "INDUS": 27.74,
         "LSTAT": 13.35,
         "NOX": 0.609,
         "PTRATIO": 20.1,
         "RM": 5.983,
         "TAX": 711,
         "ZN": 0,
         "_deepnote_index_column": 492
        },
        {
         "AGE": 54,
         "B": 396.9,
         "CHAS": 0,
         "CRIM": 0.17331,
         "DIS": 2.3817,
         "INDUS": 9.69,
         "LSTAT": 12.01,
         "NOX": 0.585,
         "PTRATIO": 19.2,
         "RM": 5.707,
         "TAX": 391,
         "ZN": 0,
         "_deepnote_index_column": 493
        },
        {
         "AGE": 42.6,
         "B": 396.9,
         "CHAS": 0,
         "CRIM": 0.27957,
         "DIS": 2.3817,
         "INDUS": 9.69,
         "LSTAT": 13.59,
         "NOX": 0.585,
         "PTRATIO": 19.2,
         "RM": 5.926,
         "TAX": 391,
         "ZN": 0,
         "_deepnote_index_column": 494
        },
        {
         "AGE": 28.8,
         "B": 393.29,
         "CHAS": 0,
         "CRIM": 0.17899,
         "DIS": 2.7986,
         "INDUS": 9.69,
         "LSTAT": 17.6,
         "NOX": 0.585,
         "PTRATIO": 19.2,
         "RM": 5.67,
         "TAX": 391,
         "ZN": 0,
         "_deepnote_index_column": 495
        },
        {
         "AGE": 72.9,
         "B": 396.9,
         "CHAS": 0,
         "CRIM": 0.2896,
         "DIS": 2.7986,
         "INDUS": 9.69,
         "LSTAT": 21.14,
         "NOX": 0.585,
         "PTRATIO": 19.2,
         "RM": 5.39,
         "TAX": 391,
         "ZN": 0,
         "_deepnote_index_column": 496
        },
        {
         "AGE": 70.6,
         "B": 396.9,
         "CHAS": 0,
         "CRIM": 0.26838,
         "DIS": 2.8927,
         "INDUS": 9.69,
         "LSTAT": 14.1,
         "NOX": 0.585,
         "PTRATIO": 19.2,
         "RM": 5.794,
         "TAX": 391,
         "ZN": 0,
         "_deepnote_index_column": 497
        },
        {
         "AGE": 65.3,
         "B": 396.9,
         "CHAS": 0,
         "CRIM": 0.23912,
         "DIS": 2.4091,
         "INDUS": 9.69,
         "LSTAT": 12.92,
         "NOX": 0.585,
         "PTRATIO": 19.2,
         "RM": 6.019,
         "TAX": 391,
         "ZN": 0,
         "_deepnote_index_column": 498
        },
        {
         "AGE": 73.5,
         "B": 395.77,
         "CHAS": 0,
         "CRIM": 0.17783,
         "DIS": 2.3999,
         "INDUS": 9.69,
         "LSTAT": 15.1,
         "NOX": 0.585,
         "PTRATIO": 19.2,
         "RM": 5.569,
         "TAX": 391,
         "ZN": 0,
         "_deepnote_index_column": 499
        },
        {
         "AGE": 79.7,
         "B": 396.9,
         "CHAS": 0,
         "CRIM": 0.22438,
         "DIS": 2.4982,
         "INDUS": 9.69,
         "LSTAT": 14.33,
         "NOX": 0.585,
         "PTRATIO": 19.2,
         "RM": 6.027,
         "TAX": 391,
         "ZN": 0,
         "_deepnote_index_column": 500
        },
        {
         "AGE": 69.1,
         "B": 391.99,
         "CHAS": 0,
         "CRIM": 0.06263,
         "DIS": 2.4786,
         "INDUS": 11.93,
         "LSTAT": 9.67,
         "NOX": 0.573,
         "PTRATIO": 21,
         "RM": 6.593,
         "TAX": 273,
         "ZN": 0,
         "_deepnote_index_column": 501
        },
        {
         "AGE": 76.7,
         "B": 396.9,
         "CHAS": 0,
         "CRIM": 0.04527,
         "DIS": 2.2875,
         "INDUS": 11.93,
         "LSTAT": 9.08,
         "NOX": 0.573,
         "PTRATIO": 21,
         "RM": 6.12,
         "TAX": 273,
         "ZN": 0,
         "_deepnote_index_column": 502
        },
        {
         "AGE": 91,
         "B": 396.9,
         "CHAS": 0,
         "CRIM": 0.06076,
         "DIS": 2.1675,
         "INDUS": 11.93,
         "LSTAT": 5.64,
         "NOX": 0.573,
         "PTRATIO": 21,
         "RM": 6.976,
         "TAX": 273,
         "ZN": 0,
         "_deepnote_index_column": 503
        },
        {
         "AGE": 89.3,
         "B": 393.45,
         "CHAS": 0,
         "CRIM": 0.10959,
         "DIS": 2.3889,
         "INDUS": 11.93,
         "LSTAT": 6.48,
         "NOX": 0.573,
         "PTRATIO": 21,
         "RM": 6.794,
         "TAX": 273,
         "ZN": 0,
         "_deepnote_index_column": 504
        },
        {
         "AGE": 80.8,
         "B": 396.9,
         "CHAS": 0,
         "CRIM": 0.04741,
         "DIS": 2.505,
         "INDUS": 11.93,
         "LSTAT": 7.88,
         "NOX": 0.573,
         "PTRATIO": 21,
         "RM": 6.03,
         "TAX": 273,
         "ZN": 0,
         "_deepnote_index_column": 505
        }
       ],
       "rows_top": [
        {
         "AGE": 65.2,
         "B": 396.9,
         "CHAS": 0,
         "CRIM": 0.00632,
         "DIS": 4.09,
         "INDUS": 2.31,
         "LSTAT": 4.98,
         "NOX": 0.538,
         "PTRATIO": 15.3,
         "RM": 6.575,
         "TAX": 296,
         "ZN": 18,
         "_deepnote_index_column": 0
        },
        {
         "AGE": 78.9,
         "B": 396.9,
         "CHAS": 0,
         "CRIM": 0.02731,
         "DIS": 4.9671,
         "INDUS": 7.07,
         "LSTAT": 9.14,
         "NOX": 0.469,
         "PTRATIO": 17.8,
         "RM": 6.421,
         "TAX": 242,
         "ZN": 0,
         "_deepnote_index_column": 1
        },
        {
         "AGE": 61.1,
         "B": 392.83,
         "CHAS": 0,
         "CRIM": 0.02729,
         "DIS": 4.9671,
         "INDUS": 7.07,
         "LSTAT": 4.03,
         "NOX": 0.469,
         "PTRATIO": 17.8,
         "RM": 7.185,
         "TAX": 242,
         "ZN": 0,
         "_deepnote_index_column": 2
        },
        {
         "AGE": 45.8,
         "B": 394.63,
         "CHAS": 0,
         "CRIM": 0.03237,
         "DIS": 6.0622,
         "INDUS": 2.18,
         "LSTAT": 2.94,
         "NOX": 0.458,
         "PTRATIO": 18.7,
         "RM": 6.998,
         "TAX": 222,
         "ZN": 0,
         "_deepnote_index_column": 3
        },
        {
         "AGE": 54.2,
         "B": 396.9,
         "CHAS": 0,
         "CRIM": 0.06905,
         "DIS": 6.0622,
         "INDUS": 2.18,
         "LSTAT": 5.33,
         "NOX": 0.458,
         "PTRATIO": 18.7,
         "RM": 7.147,
         "TAX": 222,
         "ZN": 0,
         "_deepnote_index_column": 4
        },
        {
         "AGE": 58.7,
         "B": 394.12,
         "CHAS": 0,
         "CRIM": 0.02985,
         "DIS": 6.0622,
         "INDUS": 2.18,
         "LSTAT": 5.21,
         "NOX": 0.458,
         "PTRATIO": 18.7,
         "RM": 6.43,
         "TAX": 222,
         "ZN": 0,
         "_deepnote_index_column": 5
        },
        {
         "AGE": 66.6,
         "B": 395.6,
         "CHAS": 0,
         "CRIM": 0.08829,
         "DIS": 5.5605,
         "INDUS": 7.87,
         "LSTAT": 12.43,
         "NOX": 0.524,
         "PTRATIO": 15.2,
         "RM": 6.012,
         "TAX": 311,
         "ZN": 12.5,
         "_deepnote_index_column": 6
        },
        {
         "AGE": 96.1,
         "B": 396.9,
         "CHAS": 0,
         "CRIM": 0.14455,
         "DIS": 5.9505,
         "INDUS": 7.87,
         "LSTAT": 19.15,
         "NOX": 0.524,
         "PTRATIO": 15.2,
         "RM": 6.172,
         "TAX": 311,
         "ZN": 12.5,
         "_deepnote_index_column": 7
        },
        {
         "AGE": 100,
         "B": 386.63,
         "CHAS": 0,
         "CRIM": 0.21124,
         "DIS": 6.0821,
         "INDUS": 7.87,
         "LSTAT": 29.93,
         "NOX": 0.524,
         "PTRATIO": 15.2,
         "RM": 5.631,
         "TAX": 311,
         "ZN": 12.5,
         "_deepnote_index_column": 8
        },
        {
         "AGE": 85.9,
         "B": 386.71,
         "CHAS": 0,
         "CRIM": 0.17004,
         "DIS": 6.5921,
         "INDUS": 7.87,
         "LSTAT": 17.1,
         "NOX": 0.524,
         "PTRATIO": 15.2,
         "RM": 6.004,
         "TAX": 311,
         "ZN": 12.5,
         "_deepnote_index_column": 9
        },
        {
         "AGE": 94.3,
         "B": 392.52,
         "CHAS": 0,
         "CRIM": 0.22489,
         "DIS": 6.3467,
         "INDUS": 7.87,
         "LSTAT": 20.45,
         "NOX": 0.524,
         "PTRATIO": 15.2,
         "RM": 6.377,
         "TAX": 311,
         "ZN": 12.5,
         "_deepnote_index_column": 10
        },
        {
         "AGE": 82.9,
         "B": 396.9,
         "CHAS": 0,
         "CRIM": 0.11747,
         "DIS": 6.2267,
         "INDUS": 7.87,
         "LSTAT": 13.27,
         "NOX": 0.524,
         "PTRATIO": 15.2,
         "RM": 6.009,
         "TAX": 311,
         "ZN": 12.5,
         "_deepnote_index_column": 11
        },
        {
         "AGE": 39,
         "B": 390.5,
         "CHAS": 0,
         "CRIM": 0.09378,
         "DIS": 5.4509,
         "INDUS": 7.87,
         "LSTAT": 15.71,
         "NOX": 0.524,
         "PTRATIO": 15.2,
         "RM": 5.889,
         "TAX": 311,
         "ZN": 12.5,
         "_deepnote_index_column": 12
        },
        {
         "AGE": 61.8,
         "B": 396.9,
         "CHAS": 0,
         "CRIM": 0.62976,
         "DIS": 4.7075,
         "INDUS": 8.14,
         "LSTAT": 8.26,
         "NOX": 0.538,
         "PTRATIO": 21,
         "RM": 5.949,
         "TAX": 307,
         "ZN": 0,
         "_deepnote_index_column": 13
        },
        {
         "AGE": 84.5,
         "B": 380.02,
         "CHAS": 0,
         "CRIM": 0.63796,
         "DIS": 4.4619,
         "INDUS": 8.14,
         "LSTAT": 10.26,
         "NOX": 0.538,
         "PTRATIO": 21,
         "RM": 6.096,
         "TAX": 307,
         "ZN": 0,
         "_deepnote_index_column": 14
        },
        {
         "AGE": 56.5,
         "B": 395.62,
         "CHAS": 0,
         "CRIM": 0.62739,
         "DIS": 4.4986,
         "INDUS": 8.14,
         "LSTAT": 8.47,
         "NOX": 0.538,
         "PTRATIO": 21,
         "RM": 5.834,
         "TAX": 307,
         "ZN": 0,
         "_deepnote_index_column": 15
        },
        {
         "AGE": 29.3,
         "B": 386.85,
         "CHAS": 0,
         "CRIM": 1.05393,
         "DIS": 4.4986,
         "INDUS": 8.14,
         "LSTAT": 6.58,
         "NOX": 0.538,
         "PTRATIO": 21,
         "RM": 5.935,
         "TAX": 307,
         "ZN": 0,
         "_deepnote_index_column": 16
        },
        {
         "AGE": 81.7,
         "B": 386.75,
         "CHAS": 0,
         "CRIM": 0.7842,
         "DIS": 4.2579,
         "INDUS": 8.14,
         "LSTAT": 14.67,
         "NOX": 0.538,
         "PTRATIO": 21,
         "RM": 5.99,
         "TAX": 307,
         "ZN": 0,
         "_deepnote_index_column": 17
        },
        {
         "AGE": 36.6,
         "B": 288.99,
         "CHAS": 0,
         "CRIM": 0.80271,
         "DIS": 3.7965,
         "INDUS": 8.14,
         "LSTAT": 11.69,
         "NOX": 0.538,
         "PTRATIO": 21,
         "RM": 5.456,
         "TAX": 307,
         "ZN": 0,
         "_deepnote_index_column": 18
        },
        {
         "AGE": 69.5,
         "B": 390.95,
         "CHAS": 0,
         "CRIM": 0.7258,
         "DIS": 3.7965,
         "INDUS": 8.14,
         "LSTAT": 11.28,
         "NOX": 0.538,
         "PTRATIO": 21,
         "RM": 5.727,
         "TAX": 307,
         "ZN": 0,
         "_deepnote_index_column": 19
        },
        {
         "AGE": 98.1,
         "B": 376.57,
         "CHAS": 0,
         "CRIM": 1.25179,
         "DIS": 3.7979,
         "INDUS": 8.14,
         "LSTAT": 21.02,
         "NOX": 0.538,
         "PTRATIO": 21,
         "RM": 5.57,
         "TAX": 307,
         "ZN": 0,
         "_deepnote_index_column": 20
        },
        {
         "AGE": 89.2,
         "B": 392.53,
         "CHAS": 0,
         "CRIM": 0.85204,
         "DIS": 4.0123,
         "INDUS": 8.14,
         "LSTAT": 13.83,
         "NOX": 0.538,
         "PTRATIO": 21,
         "RM": 5.965,
         "TAX": 307,
         "ZN": 0,
         "_deepnote_index_column": 21
        },
        {
         "AGE": 91.7,
         "B": 396.9,
         "CHAS": 0,
         "CRIM": 1.23247,
         "DIS": 3.9769,
         "INDUS": 8.14,
         "LSTAT": 18.72,
         "NOX": 0.538,
         "PTRATIO": 21,
         "RM": 6.142,
         "TAX": 307,
         "ZN": 0,
         "_deepnote_index_column": 22
        },
        {
         "AGE": 100,
         "B": 394.54,
         "CHAS": 0,
         "CRIM": 0.98843,
         "DIS": 4.0952,
         "INDUS": 8.14,
         "LSTAT": 19.88,
         "NOX": 0.538,
         "PTRATIO": 21,
         "RM": 5.813,
         "TAX": 307,
         "ZN": 0,
         "_deepnote_index_column": 23
        },
        {
         "AGE": 94.1,
         "B": 394.33,
         "CHAS": 0,
         "CRIM": 0.75026,
         "DIS": 4.3996,
         "INDUS": 8.14,
         "LSTAT": 16.3,
         "NOX": 0.538,
         "PTRATIO": 21,
         "RM": 5.924,
         "TAX": 307,
         "ZN": 0,
         "_deepnote_index_column": 24
        },
        {
         "AGE": 85.7,
         "B": 303.42,
         "CHAS": 0,
         "CRIM": 0.84054,
         "DIS": 4.4546,
         "INDUS": 8.14,
         "LSTAT": 16.51,
         "NOX": 0.538,
         "PTRATIO": 21,
         "RM": 5.599,
         "TAX": 307,
         "ZN": 0,
         "_deepnote_index_column": 25
        },
        {
         "AGE": 90.3,
         "B": 376.88,
         "CHAS": 0,
         "CRIM": 0.67191,
         "DIS": 4.682,
         "INDUS": 8.14,
         "LSTAT": 14.81,
         "NOX": 0.538,
         "PTRATIO": 21,
         "RM": 5.813,
         "TAX": 307,
         "ZN": 0,
         "_deepnote_index_column": 26
        },
        {
         "AGE": 88.8,
         "B": 306.38,
         "CHAS": 0,
         "CRIM": 0.95577,
         "DIS": 4.4534,
         "INDUS": 8.14,
         "LSTAT": 17.28,
         "NOX": 0.538,
         "PTRATIO": 21,
         "RM": 6.047,
         "TAX": 307,
         "ZN": 0,
         "_deepnote_index_column": 27
        },
        {
         "AGE": 94.4,
         "B": 387.94,
         "CHAS": 0,
         "CRIM": 0.77299,
         "DIS": 4.4547,
         "INDUS": 8.14,
         "LSTAT": 12.8,
         "NOX": 0.538,
         "PTRATIO": 21,
         "RM": 6.495,
         "TAX": 307,
         "ZN": 0,
         "_deepnote_index_column": 28
        },
        {
         "AGE": 87.3,
         "B": 380.23,
         "CHAS": 0,
         "CRIM": 1.00245,
         "DIS": 4.239,
         "INDUS": 8.14,
         "LSTAT": 11.98,
         "NOX": 0.538,
         "PTRATIO": 21,
         "RM": 6.674,
         "TAX": 307,
         "ZN": 0,
         "_deepnote_index_column": 29
        },
        {
         "AGE": 94.1,
         "B": 360.17,
         "CHAS": 0,
         "CRIM": 1.13081,
         "DIS": 4.233,
         "INDUS": 8.14,
         "LSTAT": 22.6,
         "NOX": 0.538,
         "PTRATIO": 21,
         "RM": 5.713,
         "TAX": 307,
         "ZN": 0,
         "_deepnote_index_column": 30
        },
        {
         "AGE": 100,
         "B": 376.73,
         "CHAS": 0,
         "CRIM": 1.35472,
         "DIS": 4.175,
         "INDUS": 8.14,
         "LSTAT": 13.04,
         "NOX": 0.538,
         "PTRATIO": 21,
         "RM": 6.072,
         "TAX": 307,
         "ZN": 0,
         "_deepnote_index_column": 31
        },
        {
         "AGE": 82,
         "B": 232.6,
         "CHAS": 0,
         "CRIM": 1.38799,
         "DIS": 3.99,
         "INDUS": 8.14,
         "LSTAT": 27.71,
         "NOX": 0.538,
         "PTRATIO": 21,
         "RM": 5.95,
         "TAX": 307,
         "ZN": 0,
         "_deepnote_index_column": 32
        },
        {
         "AGE": 95,
         "B": 358.77,
         "CHAS": 0,
         "CRIM": 1.15172,
         "DIS": 3.7872,
         "INDUS": 8.14,
         "LSTAT": 18.35,
         "NOX": 0.538,
         "PTRATIO": 21,
         "RM": 5.701,
         "TAX": 307,
         "ZN": 0,
         "_deepnote_index_column": 33
        },
        {
         "AGE": 96.9,
         "B": 248.31,
         "CHAS": 0,
         "CRIM": 1.61282,
         "DIS": 3.7598,
         "INDUS": 8.14,
         "LSTAT": 20.34,
         "NOX": 0.538,
         "PTRATIO": 21,
         "RM": 6.096,
         "TAX": 307,
         "ZN": 0,
         "_deepnote_index_column": 34
        },
        {
         "AGE": 68.2,
         "B": 396.9,
         "CHAS": 0,
         "CRIM": 0.06417,
         "DIS": 3.3603,
         "INDUS": 5.96,
         "LSTAT": 9.68,
         "NOX": 0.499,
         "PTRATIO": 19.2,
         "RM": 5.933,
         "TAX": 279,
         "ZN": 0,
         "_deepnote_index_column": 35
        },
        {
         "AGE": 61.4,
         "B": 377.56,
         "CHAS": 0,
         "CRIM": 0.09744,
         "DIS": 3.3779,
         "INDUS": 5.96,
         "LSTAT": 11.41,
         "NOX": 0.499,
         "PTRATIO": 19.2,
         "RM": 5.841,
         "TAX": 279,
         "ZN": 0,
         "_deepnote_index_column": 36
        },
        {
         "AGE": 41.5,
         "B": 396.9,
         "CHAS": 0,
         "CRIM": 0.08014,
         "DIS": 3.9342,
         "INDUS": 5.96,
         "LSTAT": 8.77,
         "NOX": 0.499,
         "PTRATIO": 19.2,
         "RM": 5.85,
         "TAX": 279,
         "ZN": 0,
         "_deepnote_index_column": 37
        },
        {
         "AGE": 30.2,
         "B": 393.43,
         "CHAS": 0,
         "CRIM": 0.17505,
         "DIS": 3.8473,
         "INDUS": 5.96,
         "LSTAT": 10.13,
         "NOX": 0.499,
         "PTRATIO": 19.2,
         "RM": 5.966,
         "TAX": 279,
         "ZN": 0,
         "_deepnote_index_column": 38
        },
        {
         "AGE": 21.8,
         "B": 395.63,
         "CHAS": 0,
         "CRIM": 0.02763,
         "DIS": 5.4011,
         "INDUS": 2.95,
         "LSTAT": 4.32,
         "NOX": 0.428,
         "PTRATIO": 18.3,
         "RM": 6.595,
         "TAX": 252,
         "ZN": 75,
         "_deepnote_index_column": 39
        },
        {
         "AGE": 15.8,
         "B": 395.62,
         "CHAS": 0,
         "CRIM": 0.03359,
         "DIS": 5.4011,
         "INDUS": 2.95,
         "LSTAT": 1.98,
         "NOX": 0.428,
         "PTRATIO": 18.3,
         "RM": 7.024,
         "TAX": 252,
         "ZN": 75,
         "_deepnote_index_column": 40
        }
       ]
      },
      "text/html": [
       "<div>\n",
       "<style scoped>\n",
       "    .dataframe tbody tr th:only-of-type {\n",
       "        vertical-align: middle;\n",
       "    }\n",
       "\n",
       "    .dataframe tbody tr th {\n",
       "        vertical-align: top;\n",
       "    }\n",
       "\n",
       "    .dataframe thead th {\n",
       "        text-align: right;\n",
       "    }\n",
       "</style>\n",
       "<table border=\"1\" class=\"dataframe\">\n",
       "  <thead>\n",
       "    <tr style=\"text-align: right;\">\n",
       "      <th></th>\n",
       "      <th>CRIM</th>\n",
       "      <th>ZN</th>\n",
       "      <th>INDUS</th>\n",
       "      <th>CHAS</th>\n",
       "      <th>NOX</th>\n",
       "      <th>RM</th>\n",
       "      <th>AGE</th>\n",
       "      <th>DIS</th>\n",
       "      <th>TAX</th>\n",
       "      <th>PTRATIO</th>\n",
       "      <th>B</th>\n",
       "      <th>LSTAT</th>\n",
       "    </tr>\n",
       "  </thead>\n",
       "  <tbody>\n",
       "    <tr>\n",
       "      <th>0</th>\n",
       "      <td>0.00632</td>\n",
       "      <td>18.0</td>\n",
       "      <td>2.31</td>\n",
       "      <td>0</td>\n",
       "      <td>0.538</td>\n",
       "      <td>6.575</td>\n",
       "      <td>65.2</td>\n",
       "      <td>4.0900</td>\n",
       "      <td>296.0</td>\n",
       "      <td>15.3</td>\n",
       "      <td>396.90</td>\n",
       "      <td>4.98</td>\n",
       "    </tr>\n",
       "    <tr>\n",
       "      <th>1</th>\n",
       "      <td>0.02731</td>\n",
       "      <td>0.0</td>\n",
       "      <td>7.07</td>\n",
       "      <td>0</td>\n",
       "      <td>0.469</td>\n",
       "      <td>6.421</td>\n",
       "      <td>78.9</td>\n",
       "      <td>4.9671</td>\n",
       "      <td>242.0</td>\n",
       "      <td>17.8</td>\n",
       "      <td>396.90</td>\n",
       "      <td>9.14</td>\n",
       "    </tr>\n",
       "    <tr>\n",
       "      <th>2</th>\n",
       "      <td>0.02729</td>\n",
       "      <td>0.0</td>\n",
       "      <td>7.07</td>\n",
       "      <td>0</td>\n",
       "      <td>0.469</td>\n",
       "      <td>7.185</td>\n",
       "      <td>61.1</td>\n",
       "      <td>4.9671</td>\n",
       "      <td>242.0</td>\n",
       "      <td>17.8</td>\n",
       "      <td>392.83</td>\n",
       "      <td>4.03</td>\n",
       "    </tr>\n",
       "    <tr>\n",
       "      <th>3</th>\n",
       "      <td>0.03237</td>\n",
       "      <td>0.0</td>\n",
       "      <td>2.18</td>\n",
       "      <td>0</td>\n",
       "      <td>0.458</td>\n",
       "      <td>6.998</td>\n",
       "      <td>45.8</td>\n",
       "      <td>6.0622</td>\n",
       "      <td>222.0</td>\n",
       "      <td>18.7</td>\n",
       "      <td>394.63</td>\n",
       "      <td>2.94</td>\n",
       "    </tr>\n",
       "    <tr>\n",
       "      <th>4</th>\n",
       "      <td>0.06905</td>\n",
       "      <td>0.0</td>\n",
       "      <td>2.18</td>\n",
       "      <td>0</td>\n",
       "      <td>0.458</td>\n",
       "      <td>7.147</td>\n",
       "      <td>54.2</td>\n",
       "      <td>6.0622</td>\n",
       "      <td>222.0</td>\n",
       "      <td>18.7</td>\n",
       "      <td>396.90</td>\n",
       "      <td>5.33</td>\n",
       "    </tr>\n",
       "    <tr>\n",
       "      <th>...</th>\n",
       "      <td>...</td>\n",
       "      <td>...</td>\n",
       "      <td>...</td>\n",
       "      <td>...</td>\n",
       "      <td>...</td>\n",
       "      <td>...</td>\n",
       "      <td>...</td>\n",
       "      <td>...</td>\n",
       "      <td>...</td>\n",
       "      <td>...</td>\n",
       "      <td>...</td>\n",
       "      <td>...</td>\n",
       "    </tr>\n",
       "    <tr>\n",
       "      <th>501</th>\n",
       "      <td>0.06263</td>\n",
       "      <td>0.0</td>\n",
       "      <td>11.93</td>\n",
       "      <td>0</td>\n",
       "      <td>0.573</td>\n",
       "      <td>6.593</td>\n",
       "      <td>69.1</td>\n",
       "      <td>2.4786</td>\n",
       "      <td>273.0</td>\n",
       "      <td>21.0</td>\n",
       "      <td>391.99</td>\n",
       "      <td>9.67</td>\n",
       "    </tr>\n",
       "    <tr>\n",
       "      <th>502</th>\n",
       "      <td>0.04527</td>\n",
       "      <td>0.0</td>\n",
       "      <td>11.93</td>\n",
       "      <td>0</td>\n",
       "      <td>0.573</td>\n",
       "      <td>6.120</td>\n",
       "      <td>76.7</td>\n",
       "      <td>2.2875</td>\n",
       "      <td>273.0</td>\n",
       "      <td>21.0</td>\n",
       "      <td>396.90</td>\n",
       "      <td>9.08</td>\n",
       "    </tr>\n",
       "    <tr>\n",
       "      <th>503</th>\n",
       "      <td>0.06076</td>\n",
       "      <td>0.0</td>\n",
       "      <td>11.93</td>\n",
       "      <td>0</td>\n",
       "      <td>0.573</td>\n",
       "      <td>6.976</td>\n",
       "      <td>91.0</td>\n",
       "      <td>2.1675</td>\n",
       "      <td>273.0</td>\n",
       "      <td>21.0</td>\n",
       "      <td>396.90</td>\n",
       "      <td>5.64</td>\n",
       "    </tr>\n",
       "    <tr>\n",
       "      <th>504</th>\n",
       "      <td>0.10959</td>\n",
       "      <td>0.0</td>\n",
       "      <td>11.93</td>\n",
       "      <td>0</td>\n",
       "      <td>0.573</td>\n",
       "      <td>6.794</td>\n",
       "      <td>89.3</td>\n",
       "      <td>2.3889</td>\n",
       "      <td>273.0</td>\n",
       "      <td>21.0</td>\n",
       "      <td>393.45</td>\n",
       "      <td>6.48</td>\n",
       "    </tr>\n",
       "    <tr>\n",
       "      <th>505</th>\n",
       "      <td>0.04741</td>\n",
       "      <td>0.0</td>\n",
       "      <td>11.93</td>\n",
       "      <td>0</td>\n",
       "      <td>0.573</td>\n",
       "      <td>6.030</td>\n",
       "      <td>80.8</td>\n",
       "      <td>2.5050</td>\n",
       "      <td>273.0</td>\n",
       "      <td>21.0</td>\n",
       "      <td>396.90</td>\n",
       "      <td>7.88</td>\n",
       "    </tr>\n",
       "  </tbody>\n",
       "</table>\n",
       "<p>490 rows × 12 columns</p>\n",
       "</div>"
      ],
      "text/plain": [
       "        CRIM    ZN  INDUS  CHAS    NOX     RM   AGE     DIS    TAX  PTRATIO  \\\n",
       "0    0.00632  18.0   2.31     0  0.538  6.575  65.2  4.0900  296.0     15.3   \n",
       "1    0.02731   0.0   7.07     0  0.469  6.421  78.9  4.9671  242.0     17.8   \n",
       "2    0.02729   0.0   7.07     0  0.469  7.185  61.1  4.9671  242.0     17.8   \n",
       "3    0.03237   0.0   2.18     0  0.458  6.998  45.8  6.0622  222.0     18.7   \n",
       "4    0.06905   0.0   2.18     0  0.458  7.147  54.2  6.0622  222.0     18.7   \n",
       "..       ...   ...    ...   ...    ...    ...   ...     ...    ...      ...   \n",
       "501  0.06263   0.0  11.93     0  0.573  6.593  69.1  2.4786  273.0     21.0   \n",
       "502  0.04527   0.0  11.93     0  0.573  6.120  76.7  2.2875  273.0     21.0   \n",
       "503  0.06076   0.0  11.93     0  0.573  6.976  91.0  2.1675  273.0     21.0   \n",
       "504  0.10959   0.0  11.93     0  0.573  6.794  89.3  2.3889  273.0     21.0   \n",
       "505  0.04741   0.0  11.93     0  0.573  6.030  80.8  2.5050  273.0     21.0   \n",
       "\n",
       "          B  LSTAT  \n",
       "0    396.90   4.98  \n",
       "1    396.90   9.14  \n",
       "2    392.83   4.03  \n",
       "3    394.63   2.94  \n",
       "4    396.90   5.33  \n",
       "..      ...    ...  \n",
       "501  391.99   9.67  \n",
       "502  396.90   9.08  \n",
       "503  396.90   5.64  \n",
       "504  393.45   6.48  \n",
       "505  396.90   7.88  \n",
       "\n",
       "[490 rows x 12 columns]"
      ]
     },
     "execution_count": 52,
     "metadata": {},
     "output_type": "execute_result"
    }
   ],
   "source": [
    "data.loc[:,data.columns != 'MEDV']"
   ]
  },
  {
   "cell_type": "code",
   "execution_count": null,
   "metadata": {
    "cell_id": "00016-df9e4b33-d9ee-467f-8aac-a52142ee2b4b",
    "deepnote_cell_type": "code",
    "deepnote_to_be_reexecuted": false,
    "execution_millis": 62,
    "execution_start": 1631902093732,
    "source_hash": "e396a278",
    "tags": []
   },
   "outputs": [
    {
     "data": {
      "application/vnd.deepnote.dataframe.v2+json": {
       "column_count": 12,
       "columns": [
        {
         "dtype": "float64",
         "name": "CRIM",
         "stats": {
          "histogram": [
           {
            "bin_end": 7.359097999999999,
            "bin_start": 0.00632,
            "count": 328
           },
           {
            "bin_end": 14.711875999999998,
            "bin_start": 7.359097999999999,
            "count": 40
           },
           {
            "bin_end": 22.064653999999994,
            "bin_start": 14.711875999999998,
            "count": 12
           },
           {
            "bin_end": 29.417431999999994,
            "bin_start": 22.064653999999994,
            "count": 6
           },
           {
            "bin_end": 36.77021,
            "bin_start": 29.417431999999994,
            "count": 0
           },
           {
            "bin_end": 44.12298799999999,
            "bin_start": 36.77021,
            "count": 2
           },
           {
            "bin_end": 51.47576599999999,
            "bin_start": 44.12298799999999,
            "count": 2
           },
           {
            "bin_end": 58.828543999999994,
            "bin_start": 51.47576599999999,
            "count": 0
           },
           {
            "bin_end": 66.181322,
            "bin_start": 58.828543999999994,
            "count": 0
           },
           {
            "bin_end": 73.5341,
            "bin_start": 66.181322,
            "count": 2
           }
          ],
          "max": "73.5341",
          "min": "0.00632",
          "nan_count": 0,
          "unique_count": 391
         }
        },
        {
         "dtype": "float64",
         "name": "ZN",
         "stats": {
          "histogram": [
           {
            "bin_end": 10,
            "bin_start": 0,
            "count": 291
           },
           {
            "bin_end": 20,
            "bin_start": 10,
            "count": 9
           },
           {
            "bin_end": 30,
            "bin_start": 20,
            "count": 39
           },
           {
            "bin_end": 40,
            "bin_start": 30,
            "count": 10
           },
           {
            "bin_end": 50,
            "bin_start": 40,
            "count": 12
           },
           {
            "bin_end": 60,
            "bin_start": 50,
            "count": 6
           },
           {
            "bin_end": 70,
            "bin_start": 60,
            "count": 1
           },
           {
            "bin_end": 80,
            "bin_start": 70,
            "count": 5
           },
           {
            "bin_end": 90,
            "bin_start": 80,
            "count": 13
           },
           {
            "bin_end": 100,
            "bin_start": 90,
            "count": 6
           }
          ],
          "max": "100.0",
          "min": "0.0",
          "nan_count": 0,
          "unique_count": 26
         }
        },
        {
         "dtype": "float64",
         "name": "INDUS",
         "stats": {
          "histogram": [
           {
            "bin_end": 3.4400000000000004,
            "bin_start": 0.74,
            "count": 55
           },
           {
            "bin_end": 6.140000000000001,
            "bin_start": 3.4400000000000004,
            "count": 69
           },
           {
            "bin_end": 8.840000000000002,
            "bin_start": 6.140000000000001,
            "count": 69
           },
           {
            "bin_end": 11.540000000000001,
            "bin_start": 8.840000000000002,
            "count": 32
           },
           {
            "bin_end": 14.24,
            "bin_start": 11.540000000000001,
            "count": 19
           },
           {
            "bin_end": 16.94,
            "bin_start": 14.24,
            "count": 2
           },
           {
            "bin_end": 19.64,
            "bin_start": 16.94,
            "count": 122
           },
           {
            "bin_end": 22.34,
            "bin_start": 19.64,
            "count": 13
           },
           {
            "bin_end": 25.04,
            "bin_start": 22.34,
            "count": 0
           },
           {
            "bin_end": 27.74,
            "bin_start": 25.04,
            "count": 11
           }
          ],
          "max": "27.74",
          "min": "0.74",
          "nan_count": 0,
          "unique_count": 68
         }
        },
        {
         "dtype": "int64",
         "name": "CHAS",
         "stats": {
          "histogram": [
           {
            "bin_end": 0.1,
            "bin_start": 0,
            "count": 367
           },
           {
            "bin_end": 0.2,
            "bin_start": 0.1,
            "count": 0
           },
           {
            "bin_end": 0.30000000000000004,
            "bin_start": 0.2,
            "count": 0
           },
           {
            "bin_end": 0.4,
            "bin_start": 0.30000000000000004,
            "count": 0
           },
           {
            "bin_end": 0.5,
            "bin_start": 0.4,
            "count": 0
           },
           {
            "bin_end": 0.6000000000000001,
            "bin_start": 0.5,
            "count": 0
           },
           {
            "bin_end": 0.7000000000000001,
            "bin_start": 0.6000000000000001,
            "count": 0
           },
           {
            "bin_end": 0.8,
            "bin_start": 0.7000000000000001,
            "count": 0
           },
           {
            "bin_end": 0.9,
            "bin_start": 0.8,
            "count": 0
           },
           {
            "bin_end": 1,
            "bin_start": 0.9,
            "count": 25
           }
          ],
          "max": "1",
          "min": "0",
          "nan_count": 0,
          "unique_count": 2
         }
        },
        {
         "dtype": "float64",
         "name": "NOX",
         "stats": {
          "histogram": [
           {
            "bin_end": 0.43720000000000003,
            "bin_start": 0.389,
            "count": 71
           },
           {
            "bin_end": 0.4854,
            "bin_start": 0.43720000000000003,
            "count": 54
           },
           {
            "bin_end": 0.5336000000000001,
            "bin_start": 0.4854,
            "count": 68
           },
           {
            "bin_end": 0.5818,
            "bin_start": 0.5336000000000001,
            "count": 52
           },
           {
            "bin_end": 0.63,
            "bin_start": 0.5818,
            "count": 50
           },
           {
            "bin_end": 0.6782,
            "bin_start": 0.63,
            "count": 19
           },
           {
            "bin_end": 0.7263999999999999,
            "bin_start": 0.6782,
            "count": 48
           },
           {
            "bin_end": 0.7746,
            "bin_start": 0.7263999999999999,
            "count": 17
           },
           {
            "bin_end": 0.8228,
            "bin_start": 0.7746,
            "count": 0
           },
           {
            "bin_end": 0.871,
            "bin_start": 0.8228,
            "count": 13
           }
          ],
          "max": "0.871",
          "min": "0.389",
          "nan_count": 0,
          "unique_count": 77
         }
        },
        {
         "dtype": "float64",
         "name": "RM",
         "stats": {
          "histogram": [
           {
            "bin_end": 4.0447,
            "bin_start": 3.561,
            "count": 2
           },
           {
            "bin_end": 4.5283999999999995,
            "bin_start": 4.0447,
            "count": 4
           },
           {
            "bin_end": 5.0121,
            "bin_start": 4.5283999999999995,
            "count": 9
           },
           {
            "bin_end": 5.4958,
            "bin_start": 5.0121,
            "count": 21
           },
           {
            "bin_end": 5.9795,
            "bin_start": 5.4958,
            "count": 104
           },
           {
            "bin_end": 6.4632,
            "bin_start": 5.9795,
            "count": 131
           },
           {
            "bin_end": 6.946899999999999,
            "bin_start": 6.4632,
            "count": 71
           },
           {
            "bin_end": 7.4306,
            "bin_start": 6.946899999999999,
            "count": 36
           },
           {
            "bin_end": 7.9143,
            "bin_start": 7.4306,
            "count": 10
           },
           {
            "bin_end": 8.398,
            "bin_start": 7.9143,
            "count": 4
           }
          ],
          "max": "8.398",
          "min": "3.561",
          "nan_count": 0,
          "unique_count": 358
         }
        },
        {
         "dtype": "float64",
         "name": "AGE",
         "stats": {
          "histogram": [
           {
            "bin_end": 12.61,
            "bin_start": 2.9,
            "count": 13
           },
           {
            "bin_end": 22.319999999999997,
            "bin_start": 12.61,
            "count": 20
           },
           {
            "bin_end": 32.029999999999994,
            "bin_start": 22.319999999999997,
            "count": 20
           },
           {
            "bin_end": 41.739999999999995,
            "bin_start": 32.029999999999994,
            "count": 35
           },
           {
            "bin_end": 51.449999999999996,
            "bin_start": 41.739999999999995,
            "count": 28
           },
           {
            "bin_end": 61.15999999999999,
            "bin_start": 51.449999999999996,
            "count": 26
           },
           {
            "bin_end": 70.87,
            "bin_start": 61.15999999999999,
            "count": 29
           },
           {
            "bin_end": 80.58,
            "bin_start": 70.87,
            "count": 35
           },
           {
            "bin_end": 90.28999999999999,
            "bin_start": 80.58,
            "count": 52
           },
           {
            "bin_end": 100,
            "bin_start": 90.28999999999999,
            "count": 134
           }
          ],
          "max": "100.0",
          "min": "2.9",
          "nan_count": 0,
          "unique_count": 290
         }
        },
        {
         "dtype": "float64",
         "name": "DIS",
         "stats": {
          "histogram": [
           {
            "bin_end": 2.23595,
            "bin_start": 1.137,
            "count": 115
           },
           {
            "bin_end": 3.3348999999999998,
            "bin_start": 2.23595,
            "count": 87
           },
           {
            "bin_end": 4.43385,
            "bin_start": 3.3348999999999998,
            "count": 64
           },
           {
            "bin_end": 5.5328,
            "bin_start": 4.43385,
            "count": 52
           },
           {
            "bin_end": 6.63175,
            "bin_start": 5.5328,
            "count": 27
           },
           {
            "bin_end": 7.730699999999999,
            "bin_start": 6.63175,
            "count": 22
           },
           {
            "bin_end": 8.829649999999999,
            "bin_start": 7.730699999999999,
            "count": 18
           },
           {
            "bin_end": 9.9286,
            "bin_start": 8.829649999999999,
            "count": 4
           },
           {
            "bin_end": 11.02755,
            "bin_start": 9.9286,
            "count": 2
           },
           {
            "bin_end": 12.1265,
            "bin_start": 11.02755,
            "count": 1
           }
          ],
          "max": "12.1265",
          "min": "1.137",
          "nan_count": 0,
          "unique_count": 334
         }
        },
        {
         "dtype": "float64",
         "name": "TAX",
         "stats": {
          "histogram": [
           {
            "bin_end": 239.4,
            "bin_start": 187,
            "count": 41
           },
           {
            "bin_end": 291.8,
            "bin_start": 239.4,
            "count": 83
           },
           {
            "bin_end": 344.2,
            "bin_start": 291.8,
            "count": 81
           },
           {
            "bin_end": 396.6,
            "bin_start": 344.2,
            "count": 24
           },
           {
            "bin_end": 449,
            "bin_start": 396.6,
            "count": 57
           },
           {
            "bin_end": 501.4,
            "bin_start": 449,
            "count": 1
           },
           {
            "bin_end": 553.8,
            "bin_start": 501.4,
            "count": 0
           },
           {
            "bin_end": 606.2,
            "bin_start": 553.8,
            "count": 0
           },
           {
            "bin_end": 658.5999999999999,
            "bin_start": 606.2,
            "count": 0
           },
           {
            "bin_end": 711,
            "bin_start": 658.5999999999999,
            "count": 105
           }
          ],
          "max": "711.0",
          "min": "187.0",
          "nan_count": 0,
          "unique_count": 59
         }
        },
        {
         "dtype": "float64",
         "name": "PTRATIO",
         "stats": {
          "histogram": [
           {
            "bin_end": 13.54,
            "bin_start": 12.6,
            "count": 10
           },
           {
            "bin_end": 14.48,
            "bin_start": 13.54,
            "count": 0
           },
           {
            "bin_end": 15.42,
            "bin_start": 14.48,
            "count": 42
           },
           {
            "bin_end": 16.36,
            "bin_start": 15.42,
            "count": 8
           },
           {
            "bin_end": 17.3,
            "bin_start": 16.36,
            "count": 29
           },
           {
            "bin_end": 18.240000000000002,
            "bin_start": 17.3,
            "count": 58
           },
           {
            "bin_end": 19.18,
            "bin_start": 18.240000000000002,
            "count": 59
           },
           {
            "bin_end": 20.12,
            "bin_start": 19.18,
            "count": 33
           },
           {
            "bin_end": 21.060000000000002,
            "bin_start": 20.12,
            "count": 137
           },
           {
            "bin_end": 22,
            "bin_start": 21.060000000000002,
            "count": 16
           }
          ],
          "max": "22.0",
          "min": "12.6",
          "nan_count": 0,
          "unique_count": 44
         }
        },
        {
         "dtype": "float64",
         "name": "B",
         "stats": {
          "histogram": [
           {
            "bin_end": 39.978,
            "bin_start": 0.32,
            "count": 15
           },
           {
            "bin_end": 79.636,
            "bin_start": 39.978,
            "count": 4
           },
           {
            "bin_end": 119.294,
            "bin_start": 79.636,
            "count": 10
           },
           {
            "bin_end": 158.952,
            "bin_start": 119.294,
            "count": 2
           },
           {
            "bin_end": 198.61,
            "bin_start": 158.952,
            "count": 3
           },
           {
            "bin_end": 238.268,
            "bin_start": 198.61,
            "count": 2
           },
           {
            "bin_end": 277.926,
            "bin_start": 238.268,
            "count": 6
           },
           {
            "bin_end": 317.584,
            "bin_start": 277.926,
            "count": 7
           },
           {
            "bin_end": 357.242,
            "bin_start": 317.584,
            "count": 28
           },
           {
            "bin_end": 396.9,
            "bin_start": 357.242,
            "count": 315
           }
          ],
          "max": "396.9",
          "min": "0.32",
          "nan_count": 0,
          "unique_count": 282
         }
        },
        {
         "dtype": "float64",
         "name": "LSTAT",
         "stats": {
          "histogram": [
           {
            "bin_end": 5.579000000000001,
            "bin_start": 1.98,
            "count": 56
           },
           {
            "bin_end": 9.178,
            "bin_start": 5.579000000000001,
            "count": 80
           },
           {
            "bin_end": 12.777000000000001,
            "bin_start": 9.178,
            "count": 76
           },
           {
            "bin_end": 16.376,
            "bin_start": 12.777000000000001,
            "count": 64
           },
           {
            "bin_end": 19.975,
            "bin_start": 16.376,
            "count": 54
           },
           {
            "bin_end": 23.574,
            "bin_start": 19.975,
            "count": 23
           },
           {
            "bin_end": 27.173000000000002,
            "bin_start": 23.574,
            "count": 15
           },
           {
            "bin_end": 30.772000000000002,
            "bin_start": 27.173000000000002,
            "count": 15
           },
           {
            "bin_end": 34.371,
            "bin_start": 30.772000000000002,
            "count": 5
           },
           {
            "bin_end": 37.97,
            "bin_start": 34.371,
            "count": 4
           }
          ],
          "max": "37.97",
          "min": "1.98",
          "nan_count": 0,
          "unique_count": 365
         }
        },
        {
         "dtype": "int64",
         "name": "_deepnote_index_column"
        }
       ],
       "row_count": 392,
       "rows_bottom": [
        {
         "AGE": 100,
         "B": 396.9,
         "CHAS": 0,
         "CRIM": 25.0461,
         "DIS": 1.5888,
         "INDUS": 18.1,
         "LSTAT": 26.77,
         "NOX": 0.693,
         "PTRATIO": 20.2,
         "RM": 5.987,
         "TAX": 666,
         "ZN": 0,
         "_deepnote_index_column": 400
        },
        {
         "AGE": 78.9,
         "B": 396.9,
         "CHAS": 0,
         "CRIM": 0.02731,
         "DIS": 4.9671,
         "INDUS": 7.07,
         "LSTAT": 9.14,
         "NOX": 0.469,
         "PTRATIO": 17.8,
         "RM": 6.421,
         "TAX": 242,
         "ZN": 0,
         "_deepnote_index_column": 1
        },
        {
         "AGE": 40.1,
         "B": 396.9,
         "CHAS": 0,
         "CRIM": 0.34109,
         "DIS": 4.7211,
         "INDUS": 7.38,
         "LSTAT": 6.12,
         "NOX": 0.493,
         "PTRATIO": 19.6,
         "RM": 6.415,
         "TAX": 287,
         "ZN": 0,
         "_deepnote_index_column": 324
        },
        {
         "AGE": 91.7,
         "B": 396.9,
         "CHAS": 0,
         "CRIM": 1.23247,
         "DIS": 3.9769,
         "INDUS": 8.14,
         "LSTAT": 18.72,
         "NOX": 0.538,
         "PTRATIO": 21,
         "RM": 6.142,
         "TAX": 307,
         "ZN": 0,
         "_deepnote_index_column": 22
        },
        {
         "AGE": 25.8,
         "B": 382.44,
         "CHAS": 0,
         "CRIM": 0.06617,
         "DIS": 5.2146,
         "INDUS": 3.24,
         "LSTAT": 9.97,
         "NOX": 0.46,
         "PTRATIO": 16.9,
         "RM": 5.868,
         "TAX": 430,
         "ZN": 0,
         "_deepnote_index_column": 328
        },
        {
         "AGE": 32.2,
         "B": 368.57,
         "CHAS": 0,
         "CRIM": 0.04544,
         "DIS": 5.8736,
         "INDUS": 3.24,
         "LSTAT": 9.09,
         "NOX": 0.46,
         "PTRATIO": 16.9,
         "RM": 6.144,
         "TAX": 430,
         "ZN": 0,
         "_deepnote_index_column": 330
        },
        {
         "AGE": 96.1,
         "B": 396.9,
         "CHAS": 0,
         "CRIM": 0.14455,
         "DIS": 5.9505,
         "INDUS": 7.87,
         "LSTAT": 19.15,
         "NOX": 0.524,
         "PTRATIO": 15.2,
         "RM": 6.172,
         "TAX": 311,
         "ZN": 12.5,
         "_deepnote_index_column": 7
        },
        {
         "AGE": 79.7,
         "B": 396.9,
         "CHAS": 0,
         "CRIM": 0.22438,
         "DIS": 2.4982,
         "INDUS": 9.69,
         "LSTAT": 14.33,
         "NOX": 0.585,
         "PTRATIO": 19.2,
         "RM": 6.027,
         "TAX": 391,
         "ZN": 0,
         "_deepnote_index_column": 500
        },
        {
         "AGE": 100,
         "B": 396.9,
         "CHAS": 0,
         "CRIM": 1.62864,
         "DIS": 1.4394,
         "INDUS": 21.89,
         "LSTAT": 34.41,
         "NOX": 0.624,
         "PTRATIO": 21.2,
         "RM": 5.019,
         "TAX": 437,
         "ZN": 0,
         "_deepnote_index_column": 141
        },
        {
         "AGE": 45.1,
         "B": 395.99,
         "CHAS": 0,
         "CRIM": 0.05188,
         "DIS": 4.4272,
         "INDUS": 4.49,
         "LSTAT": 12.86,
         "NOX": 0.449,
         "PTRATIO": 18.5,
         "RM": 6.015,
         "TAX": 247,
         "ZN": 0,
         "_deepnote_index_column": 86
        },
        {
         "AGE": 89,
         "B": 353.04,
         "CHAS": 1,
         "CRIM": 4.22239,
         "DIS": 1.9047,
         "INDUS": 18.1,
         "LSTAT": 14.64,
         "NOX": 0.77,
         "PTRATIO": 20.2,
         "RM": 5.803,
         "TAX": 666,
         "ZN": 0,
         "_deepnote_index_column": 363
        },
        {
         "AGE": 17.5,
         "B": 393.74,
         "CHAS": 0,
         "CRIM": 0.19073,
         "DIS": 7.8265,
         "INDUS": 5.86,
         "LSTAT": 6.56,
         "NOX": 0.431,
         "PTRATIO": 19.1,
         "RM": 6.718,
         "TAX": 330,
         "ZN": 22,
         "_deepnote_index_column": 249
        },
        {
         "AGE": 77.7,
         "B": 390.39,
         "CHAS": 1,
         "CRIM": 0.62356,
         "DIS": 3.2721,
         "INDUS": 6.2,
         "LSTAT": 9.93,
         "NOX": 0.507,
         "PTRATIO": 17.4,
         "RM": 6.879,
         "TAX": 307,
         "ZN": 0,
         "_deepnote_index_column": 222
        },
        {
         "AGE": 36.8,
         "B": 396.9,
         "CHAS": 0,
         "CRIM": 0.13554,
         "DIS": 6.498,
         "INDUS": 6.07,
         "LSTAT": 13.09,
         "NOX": 0.409,
         "PTRATIO": 18.9,
         "RM": 5.594,
         "TAX": 345,
         "ZN": 12.5,
         "_deepnote_index_column": 68
        },
        {
         "AGE": 45.7,
         "B": 395.56,
         "CHAS": 0,
         "CRIM": 0.08873,
         "DIS": 6.8147,
         "INDUS": 5.64,
         "LSTAT": 13.45,
         "NOX": 0.439,
         "PTRATIO": 16.8,
         "RM": 5.963,
         "TAX": 243,
         "ZN": 21,
         "_deepnote_index_column": 50
        },
        {
         "AGE": 100,
         "B": 88.27,
         "CHAS": 0,
         "CRIM": 45.7461,
         "DIS": 1.6582,
         "INDUS": 18.1,
         "LSTAT": 36.98,
         "NOX": 0.693,
         "PTRATIO": 20.2,
         "RM": 4.519,
         "TAX": 666,
         "ZN": 0,
         "_deepnote_index_column": 414
        },
        {
         "AGE": 95.6,
         "B": 60.72,
         "CHAS": 0,
         "CRIM": 9.33889,
         "DIS": 1.9682,
         "INDUS": 18.1,
         "LSTAT": 24.08,
         "NOX": 0.679,
         "PTRATIO": 20.2,
         "RM": 6.38,
         "TAX": 666,
         "ZN": 0,
         "_deepnote_index_column": 429
        },
        {
         "AGE": 94,
         "B": 88.63,
         "CHAS": 0,
         "CRIM": 2.44668,
         "DIS": 1.7364,
         "INDUS": 19.58,
         "LSTAT": 16.14,
         "NOX": 0.871,
         "PTRATIO": 14.7,
         "RM": 5.272,
         "TAX": 403,
         "ZN": 0,
         "_deepnote_index_column": 156
        },
        {
         "AGE": 89.4,
         "B": 388.37,
         "CHAS": 0,
         "CRIM": 0.53412,
         "DIS": 2.1398,
         "INDUS": 3.97,
         "LSTAT": 7.26,
         "NOX": 0.647,
         "PTRATIO": 13,
         "RM": 7.52,
         "TAX": 264,
         "ZN": 20,
         "_deepnote_index_column": 261
        },
        {
         "AGE": 100,
         "B": 35.05,
         "CHAS": 0,
         "CRIM": 14.0507,
         "DIS": 1.5275,
         "INDUS": 18.1,
         "LSTAT": 21.22,
         "NOX": 0.597,
         "PTRATIO": 20.2,
         "RM": 6.657,
         "TAX": 666,
         "ZN": 0,
         "_deepnote_index_column": 411
        },
        {
         "AGE": 100,
         "B": 16.45,
         "CHAS": 0,
         "CRIM": 73.5341,
         "DIS": 1.8026,
         "INDUS": 18.1,
         "LSTAT": 20.62,
         "NOX": 0.679,
         "PTRATIO": 20.2,
         "RM": 5.957,
         "TAX": 666,
         "ZN": 0,
         "_deepnote_index_column": 418
        },
        {
         "AGE": 100,
         "B": 396.9,
         "CHAS": 0,
         "CRIM": 11.1081,
         "DIS": 1.1742,
         "INDUS": 18.1,
         "LSTAT": 34.77,
         "NOX": 0.668,
         "PTRATIO": 20.2,
         "RM": 4.906,
         "TAX": 666,
         "ZN": 0,
         "_deepnote_index_column": 373
        },
        {
         "AGE": 94.5,
         "B": 393.42,
         "CHAS": 0,
         "CRIM": 0.82526,
         "DIS": 2.0788,
         "INDUS": 3.97,
         "LSTAT": 11.25,
         "NOX": 0.647,
         "PTRATIO": 13,
         "RM": 7.327,
         "TAX": 264,
         "ZN": 20,
         "_deepnote_index_column": 263
        },
        {
         "AGE": 31.3,
         "B": 396.9,
         "CHAS": 0,
         "CRIM": 0.03871,
         "DIS": 7.3172,
         "INDUS": 5.32,
         "LSTAT": 7.14,
         "NOX": 0.405,
         "PTRATIO": 16.6,
         "RM": 6.209,
         "TAX": 293,
         "ZN": 52.5,
         "_deepnote_index_column": 287
        },
        {
         "AGE": 92.2,
         "B": 394.12,
         "CHAS": 0,
         "CRIM": 0.09103,
         "DIS": 2.7006,
         "INDUS": 2.46,
         "LSTAT": 4.82,
         "NOX": 0.488,
         "PTRATIO": 17.8,
         "RM": 7.155,
         "TAX": 193,
         "ZN": 0,
         "_deepnote_index_column": 182
        },
        {
         "AGE": 23.4,
         "B": 396.9,
         "CHAS": 0,
         "CRIM": 0.03615,
         "DIS": 5.1167,
         "INDUS": 4.95,
         "LSTAT": 4.7,
         "NOX": 0.411,
         "PTRATIO": 19.2,
         "RM": 6.63,
         "TAX": 245,
         "ZN": 80,
         "_deepnote_index_column": 292
        },
        {
         "AGE": 100,
         "B": 370.22,
         "CHAS": 0,
         "CRIM": 20.7162,
         "DIS": 1.1781,
         "INDUS": 18.1,
         "LSTAT": 23.34,
         "NOX": 0.659,
         "PTRATIO": 20.2,
         "RM": 4.138,
         "TAX": 666,
         "ZN": 0,
         "_deepnote_index_column": 406
        },
        {
         "AGE": 70.2,
         "B": 389.13,
         "CHAS": 0,
         "CRIM": 0.19133,
         "DIS": 7.9549,
         "INDUS": 5.86,
         "LSTAT": 18.46,
         "NOX": 0.431,
         "PTRATIO": 19.1,
         "RM": 5.605,
         "TAX": 330,
         "ZN": 22,
         "_deepnote_index_column": 245
        },
        {
         "AGE": 17.5,
         "B": 376.94,
         "CHAS": 0,
         "CRIM": 0.15876,
         "DIS": 5.2873,
         "INDUS": 10.81,
         "LSTAT": 9.88,
         "NOX": 0.413,
         "PTRATIO": 19.2,
         "RM": 5.961,
         "TAX": 305,
         "ZN": 0,
         "_deepnote_index_column": 71
        },
        {
         "AGE": 93.6,
         "B": 396.21,
         "CHAS": 0,
         "CRIM": 4.87141,
         "DIS": 2.3053,
         "INDUS": 18.1,
         "LSTAT": 18.68,
         "NOX": 0.614,
         "PTRATIO": 20.2,
         "RM": 6.484,
         "TAX": 666,
         "ZN": 0,
         "_deepnote_index_column": 476
        },
        {
         "AGE": 94.7,
         "B": 396.9,
         "CHAS": 0,
         "CRIM": 0.88125,
         "DIS": 1.9799,
         "INDUS": 21.89,
         "LSTAT": 18.34,
         "NOX": 0.624,
         "PTRATIO": 21.2,
         "RM": 5.637,
         "TAX": 437,
         "ZN": 0,
         "_deepnote_index_column": 129
        },
        {
         "AGE": 97.8,
         "B": 396.9,
         "CHAS": 0,
         "CRIM": 2.77974,
         "DIS": 1.3459,
         "INDUS": 19.58,
         "LSTAT": 29.29,
         "NOX": 0.871,
         "PTRATIO": 14.7,
         "RM": 4.903,
         "TAX": 403,
         "ZN": 0,
         "_deepnote_index_column": 144
        },
        {
         "AGE": 65.4,
         "B": 396.9,
         "CHAS": 0,
         "CRIM": 7.83932,
         "DIS": 2.9634,
         "INDUS": 18.1,
         "LSTAT": 13.22,
         "NOX": 0.655,
         "PTRATIO": 20.2,
         "RM": 6.209,
         "TAX": 666,
         "ZN": 0,
         "_deepnote_index_column": 464
        },
        {
         "AGE": 52.3,
         "B": 364.61,
         "CHAS": 0,
         "CRIM": 0.06162,
         "DIS": 8.0136,
         "INDUS": 4.39,
         "LSTAT": 12.67,
         "NOX": 0.442,
         "PTRATIO": 18.8,
         "RM": 5.898,
         "TAX": 352,
         "ZN": 0,
         "_deepnote_index_column": 346
        },
        {
         "AGE": 95.4,
         "B": 388.69,
         "CHAS": 0,
         "CRIM": 0.32982,
         "DIS": 2.4699,
         "INDUS": 21.89,
         "LSTAT": 15.03,
         "NOX": 0.624,
         "PTRATIO": 21.2,
         "RM": 5.822,
         "TAX": 437,
         "ZN": 0,
         "_deepnote_index_column": 133
        },
        {
         "AGE": 92.1,
         "B": 393.25,
         "CHAS": 1,
         "CRIM": 0.17446,
         "DIS": 3.8771,
         "INDUS": 10.59,
         "LSTAT": 17.27,
         "NOX": 0.489,
         "PTRATIO": 18.6,
         "RM": 5.96,
         "TAX": 277,
         "ZN": 0,
         "_deepnote_index_column": 210
        },
        {
         "AGE": 100,
         "B": 179.36,
         "CHAS": 0,
         "CRIM": 14.4383,
         "DIS": 1.4655,
         "INDUS": 18.1,
         "LSTAT": 19.78,
         "NOX": 0.597,
         "PTRATIO": 20.2,
         "RM": 6.852,
         "TAX": 666,
         "ZN": 0,
         "_deepnote_index_column": 409
        },
        {
         "AGE": 91.6,
         "B": 387.89,
         "CHAS": 0,
         "CRIM": 0.55007,
         "DIS": 1.9301,
         "INDUS": 3.97,
         "LSTAT": 8.1,
         "NOX": 0.647,
         "PTRATIO": 13,
         "RM": 7.206,
         "TAX": 264,
         "ZN": 20,
         "_deepnote_index_column": 264
        },
        {
         "AGE": 7.8,
         "B": 390.91,
         "CHAS": 0,
         "CRIM": 0.09164,
         "DIS": 5.2873,
         "INDUS": 10.81,
         "LSTAT": 5.52,
         "NOX": 0.413,
         "PTRATIO": 19.2,
         "RM": 6.065,
         "TAX": 305,
         "ZN": 0,
         "_deepnote_index_column": 72
        },
        {
         "AGE": 100,
         "B": 28.79,
         "CHAS": 0,
         "CRIM": 18.811,
         "DIS": 1.5539,
         "INDUS": 18.1,
         "LSTAT": 34.37,
         "NOX": 0.597,
         "PTRATIO": 20.2,
         "RM": 4.628,
         "TAX": 666,
         "ZN": 0,
         "_deepnote_index_column": 412
        },
        {
         "AGE": 7.8,
         "B": 374.71,
         "CHAS": 0,
         "CRIM": 0.12757,
         "DIS": 7.0355,
         "INDUS": 4.93,
         "LSTAT": 5.19,
         "NOX": 0.428,
         "PTRATIO": 16.6,
         "RM": 6.393,
         "TAX": 300,
         "ZN": 30,
         "_deepnote_index_column": 243
        },
        {
         "AGE": 41.5,
         "B": 396.9,
         "CHAS": 0,
         "CRIM": 0.08014,
         "DIS": 3.9342,
         "INDUS": 5.96,
         "LSTAT": 8.77,
         "NOX": 0.499,
         "PTRATIO": 19.2,
         "RM": 5.85,
         "TAX": 279,
         "ZN": 0,
         "_deepnote_index_column": 37
        }
       ],
       "rows_top": [
        {
         "AGE": 96.6,
         "B": 240.52,
         "CHAS": 0,
         "CRIM": 12.8023,
         "DIS": 1.8956,
         "INDUS": 18.1,
         "LSTAT": 23.79,
         "NOX": 0.74,
         "PTRATIO": 20.2,
         "RM": 5.854,
         "TAX": 666,
         "ZN": 0,
         "_deepnote_index_column": 444
        },
        {
         "AGE": 29.2,
         "B": 390.68,
         "CHAS": 0,
         "CRIM": 0.15445,
         "DIS": 7.8148,
         "INDUS": 5.13,
         "LSTAT": 6.86,
         "NOX": 0.453,
         "PTRATIO": 19.7,
         "RM": 6.145,
         "TAX": 284,
         "ZN": 25,
         "_deepnote_index_column": 58
        },
        {
         "AGE": 100,
         "B": 372.92,
         "CHAS": 0,
         "CRIM": 14.3337,
         "DIS": 1.5895,
         "INDUS": 18.1,
         "LSTAT": 30.62,
         "NOX": 0.7,
         "PTRATIO": 20.2,
         "RM": 4.88,
         "TAX": 666,
         "ZN": 0,
         "_deepnote_index_column": 388
        },
        {
         "AGE": 53.7,
         "B": 386.4,
         "CHAS": 0,
         "CRIM": 0.05646,
         "DIS": 5.0141,
         "INDUS": 12.83,
         "LSTAT": 12.34,
         "NOX": 0.437,
         "PTRATIO": 18.7,
         "RM": 6.232,
         "TAX": 398,
         "ZN": 0,
         "_deepnote_index_column": 78
        },
        {
         "AGE": 87.9,
         "B": 10.48,
         "CHAS": 0,
         "CRIM": 4.66883,
         "DIS": 2.5806,
         "INDUS": 18.1,
         "LSTAT": 19.01,
         "NOX": 0.713,
         "PTRATIO": 20.2,
         "RM": 5.976,
         "TAX": 666,
         "ZN": 0,
         "_deepnote_index_column": 456
        },
        {
         "AGE": 100,
         "B": 383.29,
         "CHAS": 0,
         "CRIM": 0.66351,
         "DIS": 1.8946,
         "INDUS": 3.97,
         "LSTAT": 7.79,
         "NOX": 0.647,
         "PTRATIO": 13,
         "RM": 7.333,
         "TAX": 264,
         "ZN": 20,
         "_deepnote_index_column": 258
        },
        {
         "AGE": 46.3,
         "B": 396.9,
         "CHAS": 0,
         "CRIM": 0.03427,
         "DIS": 5.2311,
         "INDUS": 5.19,
         "LSTAT": 9.8,
         "NOX": 0.515,
         "PTRATIO": 20.2,
         "RM": 5.869,
         "TAX": 224,
         "ZN": 0,
         "_deepnote_index_column": 336
        },
        {
         "AGE": 71.3,
         "B": 395.58,
         "CHAS": 0,
         "CRIM": 0.11432,
         "DIS": 2.8561,
         "INDUS": 8.56,
         "LSTAT": 7.67,
         "NOX": 0.52,
         "PTRATIO": 20.9,
         "RM": 6.781,
         "TAX": 384,
         "ZN": 0,
         "_deepnote_index_column": 101
        },
        {
         "AGE": 76.9,
         "B": 376.14,
         "CHAS": 0,
         "CRIM": 0.46296,
         "DIS": 3.6715,
         "INDUS": 6.2,
         "LSTAT": 5.25,
         "NOX": 0.504,
         "PTRATIO": 17.4,
         "RM": 7.412,
         "TAX": 307,
         "ZN": 0,
         "_deepnote_index_column": 231
        },
        {
         "AGE": 89.8,
         "B": 391,
         "CHAS": 0,
         "CRIM": 0.08308,
         "DIS": 2.9879,
         "INDUS": 2.46,
         "LSTAT": 13.98,
         "NOX": 0.488,
         "PTRATIO": 17.8,
         "RM": 5.604,
         "TAX": 193,
         "ZN": 0,
         "_deepnote_index_column": 184
        },
        {
         "AGE": 86.1,
         "B": 83.45,
         "CHAS": 0,
         "CRIM": 8.49213,
         "DIS": 2.0527,
         "INDUS": 18.1,
         "LSTAT": 17.64,
         "NOX": 0.584,
         "PTRATIO": 20.2,
         "RM": 6.348,
         "TAX": 666,
         "ZN": 0,
         "_deepnote_index_column": 430
        },
        {
         "AGE": 95.6,
         "B": 396.9,
         "CHAS": 0,
         "CRIM": 0.10008,
         "DIS": 2.847,
         "INDUS": 2.46,
         "LSTAT": 5.68,
         "NOX": 0.488,
         "PTRATIO": 17.8,
         "RM": 6.563,
         "TAX": 193,
         "ZN": 0,
         "_deepnote_index_column": 183
        },
        {
         "AGE": 77,
         "B": 395.28,
         "CHAS": 0,
         "CRIM": 5.73116,
         "DIS": 3.4106,
         "INDUS": 18.1,
         "LSTAT": 7.01,
         "NOX": 0.532,
         "PTRATIO": 20.2,
         "RM": 7.061,
         "TAX": 666,
         "ZN": 0,
         "_deepnote_index_column": 482
        },
        {
         "AGE": 85.1,
         "B": 2.52,
         "CHAS": 0,
         "CRIM": 7.05042,
         "DIS": 2.0218,
         "INDUS": 18.1,
         "LSTAT": 23.29,
         "NOX": 0.614,
         "PTRATIO": 20.2,
         "RM": 6.103,
         "TAX": 666,
         "ZN": 0,
         "_deepnote_index_column": 423
        },
        {
         "AGE": 58.5,
         "B": 396.9,
         "CHAS": 0,
         "CRIM": 0.06151,
         "DIS": 4.8122,
         "INDUS": 5.19,
         "LSTAT": 9.29,
         "NOX": 0.515,
         "PTRATIO": 20.2,
         "RM": 5.968,
         "TAX": 224,
         "ZN": 0,
         "_deepnote_index_column": 340
        },
        {
         "AGE": 36.6,
         "B": 288.99,
         "CHAS": 0,
         "CRIM": 0.80271,
         "DIS": 3.7965,
         "INDUS": 8.14,
         "LSTAT": 11.69,
         "NOX": 0.538,
         "PTRATIO": 21,
         "RM": 5.456,
         "TAX": 307,
         "ZN": 0,
         "_deepnote_index_column": 18
        },
        {
         "AGE": 15.8,
         "B": 395.62,
         "CHAS": 0,
         "CRIM": 0.03359,
         "DIS": 5.4011,
         "INDUS": 2.95,
         "LSTAT": 1.98,
         "NOX": 0.428,
         "PTRATIO": 18.3,
         "RM": 7.024,
         "TAX": 252,
         "ZN": 75,
         "_deepnote_index_column": 40
        },
        {
         "AGE": 70.6,
         "B": 3.65,
         "CHAS": 0,
         "CRIM": 8.79212,
         "DIS": 2.0635,
         "INDUS": 18.1,
         "LSTAT": 17.16,
         "NOX": 0.584,
         "PTRATIO": 20.2,
         "RM": 5.565,
         "TAX": 666,
         "ZN": 0,
         "_deepnote_index_column": 424
        },
        {
         "AGE": 93,
         "B": 240.16,
         "CHAS": 0,
         "CRIM": 2.924,
         "DIS": 2.2834,
         "INDUS": 19.58,
         "LSTAT": 9.81,
         "NOX": 0.605,
         "PTRATIO": 14.7,
         "RM": 6.101,
         "TAX": 403,
         "ZN": 0,
         "_deepnote_index_column": 165
        },
        {
         "AGE": 2.9,
         "B": 385.41,
         "CHAS": 0,
         "CRIM": 0.12744,
         "DIS": 5.7209,
         "INDUS": 6.91,
         "LSTAT": 4.84,
         "NOX": 0.448,
         "PTRATIO": 17.9,
         "RM": 6.77,
         "TAX": 233,
         "ZN": 0,
         "_deepnote_index_column": 41
        },
        {
         "AGE": 100,
         "B": 169.27,
         "CHAS": 0,
         "CRIM": 2.15505,
         "DIS": 1.5166,
         "INDUS": 19.58,
         "LSTAT": 16.65,
         "NOX": 0.871,
         "PTRATIO": 14.7,
         "RM": 5.628,
         "TAX": 403,
         "ZN": 0,
         "_deepnote_index_column": 146
        },
        {
         "AGE": 74.8,
         "B": 97.95,
         "CHAS": 0,
         "CRIM": 6.44405,
         "DIS": 2.2004,
         "INDUS": 18.1,
         "LSTAT": 12.03,
         "NOX": 0.584,
         "PTRATIO": 20.2,
         "RM": 6.425,
         "TAX": 666,
         "ZN": 0,
         "_deepnote_index_column": 432
        },
        {
         "AGE": 42.6,
         "B": 396.9,
         "CHAS": 0,
         "CRIM": 0.27957,
         "DIS": 2.3817,
         "INDUS": 9.69,
         "LSTAT": 13.59,
         "NOX": 0.585,
         "PTRATIO": 19.2,
         "RM": 5.926,
         "TAX": 391,
         "ZN": 0,
         "_deepnote_index_column": 494
        },
        {
         "AGE": 58,
         "B": 396.9,
         "CHAS": 0,
         "CRIM": 0.14103,
         "DIS": 6.32,
         "INDUS": 13.92,
         "LSTAT": 15.84,
         "NOX": 0.437,
         "PTRATIO": 16,
         "RM": 5.79,
         "TAX": 289,
         "ZN": 0,
         "_deepnote_index_column": 297
        },
        {
         "AGE": 76.7,
         "B": 396.9,
         "CHAS": 0,
         "CRIM": 0.04527,
         "DIS": 2.2875,
         "INDUS": 11.93,
         "LSTAT": 9.08,
         "NOX": 0.573,
         "PTRATIO": 21,
         "RM": 6.12,
         "TAX": 273,
         "ZN": 0,
         "_deepnote_index_column": 502
        },
        {
         "AGE": 84.6,
         "B": 384.07,
         "CHAS": 0,
         "CRIM": 0.7857,
         "DIS": 2.1329,
         "INDUS": 3.97,
         "LSTAT": 14.79,
         "NOX": 0.647,
         "PTRATIO": 13,
         "RM": 7.014,
         "TAX": 264,
         "ZN": 20,
         "_deepnote_index_column": 266
        },
        {
         "AGE": 33.5,
         "B": 396.9,
         "CHAS": 0,
         "CRIM": 0.04113,
         "DIS": 5.4007,
         "INDUS": 4.86,
         "LSTAT": 5.29,
         "NOX": 0.426,
         "PTRATIO": 19,
         "RM": 6.727,
         "TAX": 281,
         "ZN": 25,
         "_deepnote_index_column": 80
        },
        {
         "AGE": 33.3,
         "B": 396.9,
         "CHAS": 0,
         "CRIM": 0.18836,
         "DIS": 5.1004,
         "INDUS": 6.91,
         "LSTAT": 14.15,
         "NOX": 0.448,
         "PTRATIO": 17.9,
         "RM": 5.786,
         "TAX": 233,
         "ZN": 0,
         "_deepnote_index_column": 46
        },
        {
         "AGE": 97.9,
         "B": 396.9,
         "CHAS": 0,
         "CRIM": 0.54452,
         "DIS": 1.6687,
         "INDUS": 21.89,
         "LSTAT": 18.46,
         "NOX": 0.624,
         "PTRATIO": 21.2,
         "RM": 6.151,
         "TAX": 437,
         "ZN": 0,
         "_deepnote_index_column": 139
        },
        {
         "AGE": 98.2,
         "B": 394.67,
         "CHAS": 0,
         "CRIM": 0.55778,
         "DIS": 2.1107,
         "INDUS": 21.89,
         "LSTAT": 16.96,
         "NOX": 0.624,
         "PTRATIO": 21.2,
         "RM": 6.335,
         "TAX": 437,
         "ZN": 0,
         "_deepnote_index_column": 135
        },
        {
         "AGE": 28.9,
         "B": 396.33,
         "CHAS": 0,
         "CRIM": 0.02875,
         "DIS": 3.6659,
         "INDUS": 15.04,
         "LSTAT": 6.21,
         "NOX": 0.464,
         "PTRATIO": 18.2,
         "RM": 6.211,
         "TAX": 270,
         "ZN": 28,
         "_deepnote_index_column": 93
        },
        {
         "AGE": 98.8,
         "B": 391.98,
         "CHAS": 0,
         "CRIM": 8.71675,
         "DIS": 1.7257,
         "INDUS": 18.1,
         "LSTAT": 17.12,
         "NOX": 0.693,
         "PTRATIO": 20.2,
         "RM": 6.471,
         "TAX": 666,
         "ZN": 0,
         "_deepnote_index_column": 395
        },
        {
         "AGE": 70.4,
         "B": 395.63,
         "CHAS": 0,
         "CRIM": 0.04462,
         "DIS": 5.4007,
         "INDUS": 4.86,
         "LSTAT": 7.22,
         "NOX": 0.426,
         "PTRATIO": 19,
         "RM": 6.619,
         "TAX": 281,
         "ZN": 25,
         "_deepnote_index_column": 81
        },
        {
         "AGE": 92.4,
         "B": 391.45,
         "CHAS": 0,
         "CRIM": 22.0511,
         "DIS": 1.8662,
         "INDUS": 18.1,
         "LSTAT": 22.11,
         "NOX": 0.74,
         "PTRATIO": 20.2,
         "RM": 5.818,
         "TAX": 666,
         "ZN": 0,
         "_deepnote_index_column": 440
        },
        {
         "AGE": 17.2,
         "B": 375.21,
         "CHAS": 0,
         "CRIM": 0.06724,
         "DIS": 5.2146,
         "INDUS": 3.24,
         "LSTAT": 7.34,
         "NOX": 0.46,
         "PTRATIO": 16.9,
         "RM": 6.333,
         "TAX": 430,
         "ZN": 0,
         "_deepnote_index_column": 329
        },
        {
         "AGE": 83.7,
         "B": 272.21,
         "CHAS": 0,
         "CRIM": 7.75223,
         "DIS": 2.7831,
         "INDUS": 18.1,
         "LSTAT": 16.23,
         "NOX": 0.713,
         "PTRATIO": 20.2,
         "RM": 6.301,
         "TAX": 666,
         "ZN": 0,
         "_deepnote_index_column": 458
        },
        {
         "AGE": 52.3,
         "B": 396.9,
         "CHAS": 0,
         "CRIM": 0.1676,
         "DIS": 4.5404,
         "INDUS": 7.38,
         "LSTAT": 7.2,
         "NOX": 0.493,
         "PTRATIO": 19.6,
         "RM": 6.426,
         "TAX": 287,
         "ZN": 0,
         "_deepnote_index_column": 320
        },
        {
         "AGE": 94.6,
         "B": 109.85,
         "CHAS": 0,
         "CRIM": 11.1604,
         "DIS": 2.1247,
         "INDUS": 18.1,
         "LSTAT": 23.27,
         "NOX": 0.74,
         "PTRATIO": 20.2,
         "RM": 6.629,
         "TAX": 666,
         "ZN": 0,
         "_deepnote_index_column": 435
        },
        {
         "AGE": 21.4,
         "B": 380.34,
         "CHAS": 0,
         "CRIM": 0.44178,
         "DIS": 3.3751,
         "INDUS": 6.2,
         "LSTAT": 3.76,
         "NOX": 0.504,
         "PTRATIO": 17.4,
         "RM": 6.552,
         "TAX": 307,
         "ZN": 0,
         "_deepnote_index_column": 229
        },
        {
         "AGE": 91.9,
         "B": 395.67,
         "CHAS": 0,
         "CRIM": 0.1712,
         "DIS": 2.211,
         "INDUS": 8.56,
         "LSTAT": 18.66,
         "NOX": 0.52,
         "PTRATIO": 20.9,
         "RM": 5.836,
         "TAX": 384,
         "ZN": 0,
         "_deepnote_index_column": 106
        },
        {
         "AGE": 27.6,
         "B": 393.45,
         "CHAS": 1,
         "CRIM": 0.06127,
         "DIS": 4.8628,
         "INDUS": 6.41,
         "LSTAT": 4.16,
         "NOX": 0.447,
         "PTRATIO": 17.6,
         "RM": 6.826,
         "TAX": 254,
         "ZN": 40,
         "_deepnote_index_column": 277
        }
       ]
      },
      "text/html": [
       "<div>\n",
       "<style scoped>\n",
       "    .dataframe tbody tr th:only-of-type {\n",
       "        vertical-align: middle;\n",
       "    }\n",
       "\n",
       "    .dataframe tbody tr th {\n",
       "        vertical-align: top;\n",
       "    }\n",
       "\n",
       "    .dataframe thead th {\n",
       "        text-align: right;\n",
       "    }\n",
       "</style>\n",
       "<table border=\"1\" class=\"dataframe\">\n",
       "  <thead>\n",
       "    <tr style=\"text-align: right;\">\n",
       "      <th></th>\n",
       "      <th>CRIM</th>\n",
       "      <th>ZN</th>\n",
       "      <th>INDUS</th>\n",
       "      <th>CHAS</th>\n",
       "      <th>NOX</th>\n",
       "      <th>RM</th>\n",
       "      <th>AGE</th>\n",
       "      <th>DIS</th>\n",
       "      <th>TAX</th>\n",
       "      <th>PTRATIO</th>\n",
       "      <th>B</th>\n",
       "      <th>LSTAT</th>\n",
       "    </tr>\n",
       "  </thead>\n",
       "  <tbody>\n",
       "    <tr>\n",
       "      <th>444</th>\n",
       "      <td>12.80230</td>\n",
       "      <td>0.0</td>\n",
       "      <td>18.10</td>\n",
       "      <td>0</td>\n",
       "      <td>0.740</td>\n",
       "      <td>5.854</td>\n",
       "      <td>96.6</td>\n",
       "      <td>1.8956</td>\n",
       "      <td>666.0</td>\n",
       "      <td>20.2</td>\n",
       "      <td>240.52</td>\n",
       "      <td>23.79</td>\n",
       "    </tr>\n",
       "    <tr>\n",
       "      <th>58</th>\n",
       "      <td>0.15445</td>\n",
       "      <td>25.0</td>\n",
       "      <td>5.13</td>\n",
       "      <td>0</td>\n",
       "      <td>0.453</td>\n",
       "      <td>6.145</td>\n",
       "      <td>29.2</td>\n",
       "      <td>7.8148</td>\n",
       "      <td>284.0</td>\n",
       "      <td>19.7</td>\n",
       "      <td>390.68</td>\n",
       "      <td>6.86</td>\n",
       "    </tr>\n",
       "    <tr>\n",
       "      <th>388</th>\n",
       "      <td>14.33370</td>\n",
       "      <td>0.0</td>\n",
       "      <td>18.10</td>\n",
       "      <td>0</td>\n",
       "      <td>0.700</td>\n",
       "      <td>4.880</td>\n",
       "      <td>100.0</td>\n",
       "      <td>1.5895</td>\n",
       "      <td>666.0</td>\n",
       "      <td>20.2</td>\n",
       "      <td>372.92</td>\n",
       "      <td>30.62</td>\n",
       "    </tr>\n",
       "    <tr>\n",
       "      <th>78</th>\n",
       "      <td>0.05646</td>\n",
       "      <td>0.0</td>\n",
       "      <td>12.83</td>\n",
       "      <td>0</td>\n",
       "      <td>0.437</td>\n",
       "      <td>6.232</td>\n",
       "      <td>53.7</td>\n",
       "      <td>5.0141</td>\n",
       "      <td>398.0</td>\n",
       "      <td>18.7</td>\n",
       "      <td>386.40</td>\n",
       "      <td>12.34</td>\n",
       "    </tr>\n",
       "    <tr>\n",
       "      <th>456</th>\n",
       "      <td>4.66883</td>\n",
       "      <td>0.0</td>\n",
       "      <td>18.10</td>\n",
       "      <td>0</td>\n",
       "      <td>0.713</td>\n",
       "      <td>5.976</td>\n",
       "      <td>87.9</td>\n",
       "      <td>2.5806</td>\n",
       "      <td>666.0</td>\n",
       "      <td>20.2</td>\n",
       "      <td>10.48</td>\n",
       "      <td>19.01</td>\n",
       "    </tr>\n",
       "    <tr>\n",
       "      <th>...</th>\n",
       "      <td>...</td>\n",
       "      <td>...</td>\n",
       "      <td>...</td>\n",
       "      <td>...</td>\n",
       "      <td>...</td>\n",
       "      <td>...</td>\n",
       "      <td>...</td>\n",
       "      <td>...</td>\n",
       "      <td>...</td>\n",
       "      <td>...</td>\n",
       "      <td>...</td>\n",
       "      <td>...</td>\n",
       "    </tr>\n",
       "    <tr>\n",
       "      <th>264</th>\n",
       "      <td>0.55007</td>\n",
       "      <td>20.0</td>\n",
       "      <td>3.97</td>\n",
       "      <td>0</td>\n",
       "      <td>0.647</td>\n",
       "      <td>7.206</td>\n",
       "      <td>91.6</td>\n",
       "      <td>1.9301</td>\n",
       "      <td>264.0</td>\n",
       "      <td>13.0</td>\n",
       "      <td>387.89</td>\n",
       "      <td>8.10</td>\n",
       "    </tr>\n",
       "    <tr>\n",
       "      <th>72</th>\n",
       "      <td>0.09164</td>\n",
       "      <td>0.0</td>\n",
       "      <td>10.81</td>\n",
       "      <td>0</td>\n",
       "      <td>0.413</td>\n",
       "      <td>6.065</td>\n",
       "      <td>7.8</td>\n",
       "      <td>5.2873</td>\n",
       "      <td>305.0</td>\n",
       "      <td>19.2</td>\n",
       "      <td>390.91</td>\n",
       "      <td>5.52</td>\n",
       "    </tr>\n",
       "    <tr>\n",
       "      <th>412</th>\n",
       "      <td>18.81100</td>\n",
       "      <td>0.0</td>\n",
       "      <td>18.10</td>\n",
       "      <td>0</td>\n",
       "      <td>0.597</td>\n",
       "      <td>4.628</td>\n",
       "      <td>100.0</td>\n",
       "      <td>1.5539</td>\n",
       "      <td>666.0</td>\n",
       "      <td>20.2</td>\n",
       "      <td>28.79</td>\n",
       "      <td>34.37</td>\n",
       "    </tr>\n",
       "    <tr>\n",
       "      <th>243</th>\n",
       "      <td>0.12757</td>\n",
       "      <td>30.0</td>\n",
       "      <td>4.93</td>\n",
       "      <td>0</td>\n",
       "      <td>0.428</td>\n",
       "      <td>6.393</td>\n",
       "      <td>7.8</td>\n",
       "      <td>7.0355</td>\n",
       "      <td>300.0</td>\n",
       "      <td>16.6</td>\n",
       "      <td>374.71</td>\n",
       "      <td>5.19</td>\n",
       "    </tr>\n",
       "    <tr>\n",
       "      <th>37</th>\n",
       "      <td>0.08014</td>\n",
       "      <td>0.0</td>\n",
       "      <td>5.96</td>\n",
       "      <td>0</td>\n",
       "      <td>0.499</td>\n",
       "      <td>5.850</td>\n",
       "      <td>41.5</td>\n",
       "      <td>3.9342</td>\n",
       "      <td>279.0</td>\n",
       "      <td>19.2</td>\n",
       "      <td>396.90</td>\n",
       "      <td>8.77</td>\n",
       "    </tr>\n",
       "  </tbody>\n",
       "</table>\n",
       "<p>392 rows × 12 columns</p>\n",
       "</div>"
      ],
      "text/plain": [
       "         CRIM    ZN  INDUS  CHAS    NOX     RM    AGE     DIS    TAX  PTRATIO  \\\n",
       "444  12.80230   0.0  18.10     0  0.740  5.854   96.6  1.8956  666.0     20.2   \n",
       "58    0.15445  25.0   5.13     0  0.453  6.145   29.2  7.8148  284.0     19.7   \n",
       "388  14.33370   0.0  18.10     0  0.700  4.880  100.0  1.5895  666.0     20.2   \n",
       "78    0.05646   0.0  12.83     0  0.437  6.232   53.7  5.0141  398.0     18.7   \n",
       "456   4.66883   0.0  18.10     0  0.713  5.976   87.9  2.5806  666.0     20.2   \n",
       "..        ...   ...    ...   ...    ...    ...    ...     ...    ...      ...   \n",
       "264   0.55007  20.0   3.97     0  0.647  7.206   91.6  1.9301  264.0     13.0   \n",
       "72    0.09164   0.0  10.81     0  0.413  6.065    7.8  5.2873  305.0     19.2   \n",
       "412  18.81100   0.0  18.10     0  0.597  4.628  100.0  1.5539  666.0     20.2   \n",
       "243   0.12757  30.0   4.93     0  0.428  6.393    7.8  7.0355  300.0     16.6   \n",
       "37    0.08014   0.0   5.96     0  0.499  5.850   41.5  3.9342  279.0     19.2   \n",
       "\n",
       "          B  LSTAT  \n",
       "444  240.52  23.79  \n",
       "58   390.68   6.86  \n",
       "388  372.92  30.62  \n",
       "78   386.40  12.34  \n",
       "456   10.48  19.01  \n",
       "..      ...    ...  \n",
       "264  387.89   8.10  \n",
       "72   390.91   5.52  \n",
       "412   28.79  34.37  \n",
       "243  374.71   5.19  \n",
       "37   396.90   8.77  \n",
       "\n",
       "[392 rows x 12 columns]"
      ]
     },
     "execution_count": 54,
     "metadata": {},
     "output_type": "execute_result"
    }
   ],
   "source": [
    "x_train"
   ]
  },
  {
   "cell_type": "code",
   "execution_count": null,
   "metadata": {
    "cell_id": "00015-fc91d6f2-47d5-4f29-8b3e-b8357dfa0fe4",
    "deepnote_cell_type": "code",
    "deepnote_to_be_reexecuted": false,
    "execution_millis": 0,
    "execution_start": 1631902096582,
    "source_hash": "473c5b6b",
    "tags": []
   },
   "outputs": [],
   "source": [
    "# Linear Regression\n",
    "\n",
    "from sklearn.linear_model import LinearRegression, Lasso\n",
    "from sklearn.metrics import mean_squared_error, r2_score\n"
   ]
  },
  {
   "cell_type": "code",
   "execution_count": null,
   "metadata": {
    "cell_id": "00016-d279c185-d992-4799-96f6-95f71416d990",
    "deepnote_cell_type": "code",
    "deepnote_to_be_reexecuted": false,
    "execution_millis": 21,
    "execution_start": 1631902097573,
    "source_hash": "c2415559",
    "tags": []
   },
   "outputs": [
    {
     "data": {
      "text/plain": [
       "LinearRegression(normalize=True)"
      ]
     },
     "execution_count": 56,
     "metadata": {},
     "output_type": "execute_result"
    }
   ],
   "source": [
    "lin_mod = LinearRegression(fit_intercept=True, normalize=True)\n",
    "lin_mod.fit(x_train, y_train)"
   ]
  },
  {
   "cell_type": "code",
   "execution_count": null,
   "metadata": {
    "cell_id": "00019-ca4953b2-c97f-4cca-b87e-0dd84e6a7dba",
    "deepnote_cell_type": "code",
    "deepnote_to_be_reexecuted": false,
    "execution_millis": 7,
    "execution_start": 1631902098600,
    "source_hash": "c01d465c",
    "tags": []
   },
   "outputs": [
    {
     "name": "stdout",
     "output_type": "stream",
     "text": [
      "RMSE is 3.7638903149681027\n",
      "r2 score is 0.7755250676556051\n"
     ]
    }
   ],
   "source": [
    "y_p = lin_mod.predict(x_train)\n",
    "rmse = np.sqrt(mean_squared_error(y_train, y_p))\n",
    "r2 = r2_score(y_train, y_p)\n",
    "print(f'RMSE is {rmse}')\n",
    "print(f'r2 score is {r2}')"
   ]
  },
  {
   "cell_type": "code",
   "execution_count": null,
   "metadata": {
    "cell_id": "00020-8610dd38-6daf-478c-a100-05c88c38a46c",
    "deepnote_cell_type": "code",
    "deepnote_to_be_reexecuted": false,
    "execution_millis": 8,
    "execution_start": 1631902099832,
    "source_hash": "2871bef4",
    "tags": []
   },
   "outputs": [
    {
     "name": "stdout",
     "output_type": "stream",
     "text": [
      "RMSE is 3.97551613933448\n",
      "r2 score is 0.7189570502019761\n"
     ]
    }
   ],
   "source": [
    "y_p = lin_mod.predict(x_test)\n",
    "rmse = np.sqrt(mean_squared_error(y_test, y_p))\n",
    "r2 = r2_score(y_test, y_p)\n",
    "print(f'RMSE is {rmse}')\n",
    "print(f'r2 score is {r2}')"
   ]
  },
  {
   "cell_type": "markdown",
   "metadata": {
    "cell_id": "00024-f51cae2d-9379-4ca4-9647-a719f5facae2",
    "deepnote_cell_type": "markdown",
    "tags": []
   },
   "source": [
    "# Linear with Polynomial some features"
   ]
  },
  {
   "cell_type": "markdown",
   "metadata": {
    "cell_id": "00024-b3582dd9-9e95-47bd-bcf1-b08f535d94ec",
    "deepnote_cell_type": "markdown",
    "tags": []
   },
   "source": [
    "### Number of degree is 2"
   ]
  },
  {
   "cell_type": "code",
   "execution_count": null,
   "metadata": {
    "cell_id": "00024-a052dbdd-071c-4cb5-9163-61bcdabf2475",
    "deepnote_cell_type": "code",
    "deepnote_to_be_reexecuted": false,
    "execution_millis": 32,
    "execution_start": 1631902527039,
    "source_hash": "d8e4d441",
    "tags": []
   },
   "outputs": [],
   "source": [
    "from sklearn.preprocessing import PolynomialFeatures\n",
    "\n",
    "data2 = data.copy(deep=True)\n",
    "x = data2.loc[:, data2.columns != 'MEDV']\n",
    "y = data2[['MEDV']]"
   ]
  },
  {
   "cell_type": "code",
   "execution_count": null,
   "metadata": {
    "cell_id": "00025-eb218f85-1469-4ef5-8eaa-bf8f2d19a00c",
    "deepnote_cell_type": "code",
    "deepnote_to_be_reexecuted": false,
    "execution_millis": 10,
    "execution_start": 1631902532180,
    "source_hash": "8dc2b051",
    "tags": []
   },
   "outputs": [],
   "source": [
    "poly = PolynomialFeatures(2)\n",
    "x = poly.fit_transform(x)"
   ]
  },
  {
   "cell_type": "code",
   "execution_count": null,
   "metadata": {
    "cell_id": "00026-d8f233a2-4cca-4019-b0a2-6c0d3f242eae",
    "deepnote_cell_type": "code",
    "deepnote_to_be_reexecuted": false,
    "execution_millis": 11,
    "execution_start": 1631902532196,
    "source_hash": "577d5527",
    "tags": []
   },
   "outputs": [
    {
     "data": {
      "text/plain": [
       "array([[1.00000000e+00, 6.32000000e-03, 1.80000000e+01, ...,\n",
       "        1.57529610e+05, 1.97656200e+03, 2.48004000e+01],\n",
       "       [1.00000000e+00, 2.73100000e-02, 0.00000000e+00, ...,\n",
       "        1.57529610e+05, 3.62766600e+03, 8.35396000e+01],\n",
       "       [1.00000000e+00, 2.72900000e-02, 0.00000000e+00, ...,\n",
       "        1.54315409e+05, 1.58310490e+03, 1.62409000e+01],\n",
       "       ...,\n",
       "       [1.00000000e+00, 6.07600000e-02, 0.00000000e+00, ...,\n",
       "        1.57529610e+05, 2.23851600e+03, 3.18096000e+01],\n",
       "       [1.00000000e+00, 1.09590000e-01, 0.00000000e+00, ...,\n",
       "        1.54802902e+05, 2.54955600e+03, 4.19904000e+01],\n",
       "       [1.00000000e+00, 4.74100000e-02, 0.00000000e+00, ...,\n",
       "        1.57529610e+05, 3.12757200e+03, 6.20944000e+01]])"
      ]
     },
     "execution_count": 76,
     "metadata": {},
     "output_type": "execute_result"
    }
   ],
   "source": [
    "x"
   ]
  },
  {
   "cell_type": "code",
   "execution_count": null,
   "metadata": {
    "cell_id": "00027-0076aba7-5fb2-473f-9392-94922818fc08",
    "deepnote_cell_type": "code",
    "deepnote_to_be_reexecuted": false,
    "execution_millis": 11,
    "execution_start": 1631902537645,
    "source_hash": "21dff08",
    "tags": []
   },
   "outputs": [],
   "source": [
    "x_train, x_test, y_train, y_test = train_test_split(x, y, test_size=0.2, random_state=1)"
   ]
  },
  {
   "cell_type": "code",
   "execution_count": null,
   "metadata": {
    "cell_id": "00028-c382391d-bcd8-4591-82d8-7047545fd670",
    "deepnote_cell_type": "code",
    "deepnote_to_be_reexecuted": false,
    "execution_millis": 64,
    "execution_start": 1631902537660,
    "source_hash": "c2415559",
    "tags": []
   },
   "outputs": [
    {
     "data": {
      "text/plain": [
       "LinearRegression(normalize=True)"
      ]
     },
     "execution_count": 78,
     "metadata": {},
     "output_type": "execute_result"
    }
   ],
   "source": [
    "lin_mod = LinearRegression(fit_intercept=True, normalize=True)\n",
    "lin_mod.fit(x_train, y_train)"
   ]
  },
  {
   "cell_type": "code",
   "execution_count": null,
   "metadata": {
    "cell_id": "00029-7c243806-f130-495c-bfa4-9dbb4256c08c",
    "deepnote_cell_type": "code",
    "deepnote_to_be_reexecuted": false,
    "execution_millis": 40,
    "execution_start": 1631902537742,
    "source_hash": "c01d465c",
    "tags": []
   },
   "outputs": [
    {
     "name": "stdout",
     "output_type": "stream",
     "text": [
      "RMSE is 2.0972439900733604\n",
      "r2 score is 0.9303065684983335\n"
     ]
    }
   ],
   "source": [
    "y_p = lin_mod.predict(x_train)\n",
    "rmse = np.sqrt(mean_squared_error(y_train, y_p))\n",
    "r2 = r2_score(y_train, y_p)\n",
    "print(f'RMSE is {rmse}')\n",
    "print(f'r2 score is {r2}')"
   ]
  },
  {
   "cell_type": "code",
   "execution_count": null,
   "metadata": {
    "cell_id": "00030-eb9d3299-04d6-42f2-bf15-57a702556ee4",
    "deepnote_cell_type": "code",
    "deepnote_to_be_reexecuted": false,
    "execution_millis": 48,
    "execution_start": 1631902537821,
    "source_hash": "2871bef4",
    "tags": []
   },
   "outputs": [
    {
     "name": "stdout",
     "output_type": "stream",
     "text": [
      "RMSE is 3.5091909107761214\n",
      "r2 score is 0.7810224235092084\n"
     ]
    }
   ],
   "source": [
    "y_p = lin_mod.predict(x_test)\n",
    "rmse = np.sqrt(mean_squared_error(y_test, y_p))\n",
    "r2 = r2_score(y_test, y_p)\n",
    "print(f'RMSE is {rmse}')\n",
    "print(f'r2 score is {r2}')"
   ]
  },
  {
   "cell_type": "markdown",
   "metadata": {
    "cell_id": "00031-1f28c57f-32f4-4e7f-a07d-8f1b4c4f91e6",
    "deepnote_cell_type": "markdown",
    "tags": []
   },
   "source": [
    "### Number of degree 3"
   ]
  },
  {
   "cell_type": "code",
   "execution_count": null,
   "metadata": {
    "cell_id": "00032-99bbf475-73f3-4f77-a30e-af1a10abaaac",
    "deepnote_cell_type": "code",
    "deepnote_to_be_reexecuted": false,
    "execution_millis": 135,
    "execution_start": 1631902624065,
    "source_hash": "fc705497",
    "tags": []
   },
   "outputs": [
    {
     "name": "stdout",
     "output_type": "stream",
     "text": [
      "RMSE is 0.30281072290128747\n",
      "r2 score is 0.9985470976327816\n"
     ]
    }
   ],
   "source": [
    "from sklearn.preprocessing import PolynomialFeatures\n",
    "\n",
    "data2 = data.copy(deep=True)\n",
    "x = data2.loc[:, data2.columns != 'MEDV']\n",
    "y = data2[['MEDV']]\n",
    "\n",
    "poly = PolynomialFeatures(3)\n",
    "x = poly.fit_transform(x)\n",
    "\n",
    "x_train, x_test, y_train, y_test = train_test_split(x, y, test_size=0.2, random_state=1)\n",
    "lin_mod = LinearRegression(fit_intercept=True, normalize=True)\n",
    "lin_mod.fit(x_train, y_train)\n",
    "\n",
    "y_p = lin_mod.predict(x_train)\n",
    "rmse = np.sqrt(mean_squared_error(y_train, y_p))\n",
    "r2 = r2_score(y_train, y_p)\n",
    "print(f'RMSE is {rmse}')\n",
    "print(f'r2 score is {r2}')"
   ]
  },
  {
   "cell_type": "code",
   "execution_count": null,
   "metadata": {
    "cell_id": "00033-0e7696c7-5e72-47ed-90e6-be9db2d46fab",
    "deepnote_cell_type": "code",
    "deepnote_to_be_reexecuted": false,
    "execution_millis": 25,
    "execution_start": 1631902632979,
    "source_hash": "2871bef4",
    "tags": []
   },
   "outputs": [
    {
     "name": "stdout",
     "output_type": "stream",
     "text": [
      "RMSE is 321.3501665189339\n",
      "r2 score is -1835.2961002677498\n"
     ]
    }
   ],
   "source": [
    "y_p = lin_mod.predict(x_test)\n",
    "rmse = np.sqrt(mean_squared_error(y_test, y_p))\n",
    "r2 = r2_score(y_test, y_p)\n",
    "print(f'RMSE is {rmse}')\n",
    "print(f'r2 score is {r2}')"
   ]
  },
  {
   "cell_type": "markdown",
   "metadata": {
    "cell_id": "00032-1d22727d-83b0-48b0-9aaa-7ed36dd23bfe",
    "deepnote_cell_type": "markdown",
    "tags": []
   },
   "source": [
    "### Number of degree 6"
   ]
  },
  {
   "cell_type": "code",
   "execution_count": null,
   "metadata": {
    "cell_id": "00035-6b46416f-6f39-4a28-be16-bebf2034d59d",
    "deepnote_cell_type": "code",
    "deepnote_to_be_reexecuted": false,
    "execution_millis": 2269,
    "execution_start": 1631902648870,
    "source_hash": "308dd7a7",
    "tags": []
   },
   "outputs": [
    {
     "name": "stdout",
     "output_type": "stream",
     "text": [
      "RMSE is 5.898907810481533e-13\n",
      "r2 score is 1.0\n"
     ]
    }
   ],
   "source": [
    "from sklearn.preprocessing import PolynomialFeatures\n",
    "\n",
    "data2 = data.copy(deep=True)\n",
    "x = data2.loc[:, data2.columns != 'MEDV']\n",
    "y = data2[['MEDV']]\n",
    "\n",
    "poly = PolynomialFeatures(6)\n",
    "x = poly.fit_transform(x)\n",
    "\n",
    "x_train, x_test, y_train, y_test = train_test_split(x, y, test_size=0.2, random_state=1)\n",
    "lin_mod = LinearRegression(fit_intercept=True, normalize=True)\n",
    "lin_mod.fit(x_train, y_train)\n",
    "\n",
    "y_p = lin_mod.predict(x_train)\n",
    "rmse = np.sqrt(mean_squared_error(y_train, y_p))\n",
    "r2 = r2_score(y_train, y_p)\n",
    "print(f'RMSE is {rmse}')\n",
    "print(f'r2 score is {r2}')"
   ]
  },
  {
   "cell_type": "code",
   "execution_count": null,
   "metadata": {
    "cell_id": "00036-aff0f881-b113-4abc-9e2f-f7beacf8413e",
    "deepnote_cell_type": "code",
    "deepnote_to_be_reexecuted": false,
    "execution_millis": 89,
    "execution_start": 1631902651180,
    "source_hash": "2871bef4",
    "tags": []
   },
   "outputs": [
    {
     "name": "stdout",
     "output_type": "stream",
     "text": [
      "RMSE is 24.279327301021805\n",
      "r2 score is -9.482357151773618\n"
     ]
    }
   ],
   "source": [
    "y_p = lin_mod.predict(x_test)\n",
    "rmse = np.sqrt(mean_squared_error(y_test, y_p))\n",
    "r2 = r2_score(y_test, y_p)\n",
    "print(f'RMSE is {rmse}')\n",
    "print(f'r2 score is {r2}')"
   ]
  },
  {
   "cell_type": "markdown",
   "metadata": {
    "created_in_deepnote_cell": true,
    "deepnote_cell_type": "markdown",
    "tags": []
   },
   "source": [
    "<a style='text-decoration:none;line-height:16px;display:flex;color:#5B5B62;padding:10px;justify-content:end;' href='https://deepnote.com?utm_source=created-in-deepnote-cell&projectId=a5ba1956-2aa0-49ed-9952-f1c7a30328f2' target=\"_blank\">\n",
    "<img alt='Created in deepnote.com' style='display:inline;max-height:16px;margin:0px;margin-right:7.5px;' src='data:image/svg+xml;base64,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' > </img>\n",
    "Created in <span style='font-weight:600;margin-left:4px;'>Deepnote</span></a>"
   ]
  }
 ],
 "metadata": {
  "deepnote": {
   "is_reactive": false
  },
  "deepnote_execution_queue": [],
  "deepnote_notebook_id": "90bc9d53-4b32-4a42-b979-54126c1da1b4",
  "kernelspec": {
   "display_name": "Python 3.9.5 ('base')",
   "language": "python",
   "name": "python3"
  },
  "language_info": {
   "name": "python",
   "version": "3.9.5"
  },
  "orig_nbformat": 2,
  "vscode": {
   "interpreter": {
    "hash": "9cd87bd5d8db12eeb5155f632ffa69c8689482c50dc7d42009e720cebbcd08d3"
   }
  }
 },
 "nbformat": 4,
 "nbformat_minor": 2
}
