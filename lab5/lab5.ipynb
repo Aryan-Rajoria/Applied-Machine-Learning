{
 "cells": [
  {
   "cell_type": "markdown",
   "source": "# Aryan Rajoria\n### Lab 5",
   "metadata": {
    "tags": [],
    "cell_id": "00000-3d4afcff-49f0-46be-a99a-829433adf9d0",
    "deepnote_cell_type": "markdown"
   }
  },
  {
   "cell_type": "code",
   "metadata": {
    "tags": [],
    "cell_id": "00000-50bb4554-dc8a-42bd-9146-fac8f44aeb72",
    "deepnote_to_be_reexecuted": false,
    "source_hash": "ecaba466",
    "execution_start": 1635758671499,
    "execution_millis": 2,
    "deepnote_cell_type": "code"
   },
   "source": "import urllib\n\n# urllib.request.urlretrieve('https://archive.ics.uci.edu/ml/machine-learning-databases/00547/Algerian_forest_fires_dataset_UPDATE.csv', '/work/Labs/lab5/data.csv')",
   "outputs": [],
   "execution_count": null
  },
  {
   "cell_type": "code",
   "metadata": {
    "tags": [],
    "cell_id": "00001-a69252b1-06f7-4fce-a008-ba905c4b20a4",
    "deepnote_to_be_reexecuted": false,
    "source_hash": "630af2ba",
    "execution_start": 1635758671785,
    "execution_millis": 35,
    "deepnote_cell_type": "code"
   },
   "source": "import pandas as pd\n\ndata = pd.read_csv('./data.csv')",
   "outputs": [],
   "execution_count": null
  },
  {
   "cell_type": "code",
   "metadata": {
    "tags": [],
    "cell_id": "00002-702cf999-a8ce-47b2-84ac-79b2aec4d507",
    "deepnote_to_be_reexecuted": false,
    "source_hash": "e6928a8f",
    "execution_start": 1635758672093,
    "execution_millis": 192,
    "deepnote_cell_type": "code"
   },
   "source": "data",
   "outputs": [
    {
     "output_type": "execute_result",
     "execution_count": 3,
     "data": {
      "application/vnd.deepnote.dataframe.v2+json": {
       "row_count": 244,
       "column_count": 14,
       "columns": [
        {
         "name": "day",
         "dtype": "int64",
         "stats": {
          "unique_count": 31,
          "nan_count": 0,
          "min": "1",
          "max": "31",
          "histogram": [
           {
            "bin_start": 1,
            "bin_end": 4,
            "count": 24
           },
           {
            "bin_start": 4,
            "bin_end": 7,
            "count": 24
           },
           {
            "bin_start": 7,
            "bin_end": 10,
            "count": 24
           },
           {
            "bin_start": 10,
            "bin_end": 13,
            "count": 24
           },
           {
            "bin_start": 13,
            "bin_end": 16,
            "count": 24
           },
           {
            "bin_start": 16,
            "bin_end": 19,
            "count": 24
           },
           {
            "bin_start": 19,
            "bin_end": 22,
            "count": 24
           },
           {
            "bin_start": 22,
            "bin_end": 25,
            "count": 24
           },
           {
            "bin_start": 25,
            "bin_end": 28,
            "count": 24
           },
           {
            "bin_start": 28,
            "bin_end": 31,
            "count": 28
           }
          ]
         }
        },
        {
         "name": "month",
         "dtype": "int64",
         "stats": {
          "unique_count": 4,
          "nan_count": 0,
          "min": "6",
          "max": "9",
          "histogram": [
           {
            "bin_start": 6,
            "bin_end": 6.3,
            "count": 60
           },
           {
            "bin_start": 6.3,
            "bin_end": 6.6,
            "count": 0
           },
           {
            "bin_start": 6.6,
            "bin_end": 6.9,
            "count": 0
           },
           {
            "bin_start": 6.9,
            "bin_end": 7.2,
            "count": 62
           },
           {
            "bin_start": 7.2,
            "bin_end": 7.5,
            "count": 0
           },
           {
            "bin_start": 7.5,
            "bin_end": 7.8,
            "count": 0
           },
           {
            "bin_start": 7.8,
            "bin_end": 8.1,
            "count": 62
           },
           {
            "bin_start": 8.1,
            "bin_end": 8.4,
            "count": 0
           },
           {
            "bin_start": 8.4,
            "bin_end": 8.7,
            "count": 0
           },
           {
            "bin_start": 8.7,
            "bin_end": 9,
            "count": 60
           }
          ]
         }
        },
        {
         "name": "year",
         "dtype": "int64",
         "stats": {
          "unique_count": 1,
          "nan_count": 0,
          "min": "2012",
          "max": "2012",
          "histogram": [
           {
            "bin_start": 2011.5,
            "bin_end": 2011.6,
            "count": 0
           },
           {
            "bin_start": 2011.6,
            "bin_end": 2011.7,
            "count": 0
           },
           {
            "bin_start": 2011.7,
            "bin_end": 2011.8,
            "count": 0
           },
           {
            "bin_start": 2011.8,
            "bin_end": 2011.9,
            "count": 0
           },
           {
            "bin_start": 2011.9,
            "bin_end": 2012,
            "count": 0
           },
           {
            "bin_start": 2012,
            "bin_end": 2012.1,
            "count": 244
           },
           {
            "bin_start": 2012.1,
            "bin_end": 2012.2,
            "count": 0
           },
           {
            "bin_start": 2012.2,
            "bin_end": 2012.3,
            "count": 0
           },
           {
            "bin_start": 2012.3,
            "bin_end": 2012.4,
            "count": 0
           },
           {
            "bin_start": 2012.4,
            "bin_end": 2012.5,
            "count": 0
           }
          ]
         }
        },
        {
         "name": "Temperature",
         "dtype": "int64",
         "stats": {
          "unique_count": 19,
          "nan_count": 0,
          "min": "22",
          "max": "42",
          "histogram": [
           {
            "bin_start": 22,
            "bin_end": 24,
            "count": 2
           },
           {
            "bin_start": 24,
            "bin_end": 26,
            "count": 9
           },
           {
            "bin_start": 26,
            "bin_end": 28,
            "count": 13
           },
           {
            "bin_start": 28,
            "bin_end": 30,
            "count": 33
           },
           {
            "bin_start": 30,
            "bin_end": 32,
            "count": 47
           },
           {
            "bin_start": 32,
            "bin_end": 34,
            "count": 44
           },
           {
            "bin_start": 34,
            "bin_end": 36,
            "count": 53
           },
           {
            "bin_start": 36,
            "bin_end": 38,
            "count": 30
           },
           {
            "bin_start": 38,
            "bin_end": 40,
            "count": 9
           },
           {
            "bin_start": 40,
            "bin_end": 42,
            "count": 4
           }
          ]
         }
        },
        {
         "name": " RH",
         "dtype": "int64",
         "stats": {
          "unique_count": 62,
          "nan_count": 0,
          "min": "21",
          "max": "90",
          "histogram": [
           {
            "bin_start": 21,
            "bin_end": 27.9,
            "count": 3
           },
           {
            "bin_start": 27.9,
            "bin_end": 34.8,
            "count": 7
           },
           {
            "bin_start": 34.8,
            "bin_end": 41.7,
            "count": 13
           },
           {
            "bin_start": 41.7,
            "bin_end": 48.6,
            "count": 24
           },
           {
            "bin_start": 48.6,
            "bin_end": 55.5,
            "count": 38
           },
           {
            "bin_start": 55.5,
            "bin_end": 62.400000000000006,
            "count": 34
           },
           {
            "bin_start": 62.400000000000006,
            "bin_end": 69.30000000000001,
            "count": 45
           },
           {
            "bin_start": 69.30000000000001,
            "bin_end": 76.2,
            "count": 32
           },
           {
            "bin_start": 76.2,
            "bin_end": 83.1,
            "count": 32
           },
           {
            "bin_start": 83.1,
            "bin_end": 90,
            "count": 16
           }
          ]
         }
        },
        {
         "name": " Ws",
         "dtype": "int64",
         "stats": {
          "unique_count": 18,
          "nan_count": 0,
          "min": "6",
          "max": "29",
          "histogram": [
           {
            "bin_start": 6,
            "bin_end": 8.3,
            "count": 2
           },
           {
            "bin_start": 8.3,
            "bin_end": 10.6,
            "count": 5
           },
           {
            "bin_start": 10.6,
            "bin_end": 12.899999999999999,
            "count": 14
           },
           {
            "bin_start": 12.899999999999999,
            "bin_end": 15.2,
            "count": 113
           },
           {
            "bin_start": 15.2,
            "bin_end": 17.5,
            "count": 55
           },
           {
            "bin_start": 17.5,
            "bin_end": 19.799999999999997,
            "count": 41
           },
           {
            "bin_start": 19.799999999999997,
            "bin_end": 22.099999999999998,
            "count": 12
           },
           {
            "bin_start": 22.099999999999998,
            "bin_end": 24.4,
            "count": 0
           },
           {
            "bin_start": 24.4,
            "bin_end": 26.7,
            "count": 1
           },
           {
            "bin_start": 26.7,
            "bin_end": 29,
            "count": 1
           }
          ]
         }
        },
        {
         "name": "Rain ",
         "dtype": "float64",
         "stats": {
          "unique_count": 39,
          "nan_count": 0,
          "min": "0.0",
          "max": "16.8",
          "histogram": [
           {
            "bin_start": 0,
            "bin_end": 1.6800000000000002,
            "count": 213
           },
           {
            "bin_start": 1.6800000000000002,
            "bin_end": 3.3600000000000003,
            "count": 14
           },
           {
            "bin_start": 3.3600000000000003,
            "bin_end": 5.040000000000001,
            "count": 8
           },
           {
            "bin_start": 5.040000000000001,
            "bin_end": 6.720000000000001,
            "count": 3
           },
           {
            "bin_start": 6.720000000000001,
            "bin_end": 8.4,
            "count": 2
           },
           {
            "bin_start": 8.4,
            "bin_end": 10.080000000000002,
            "count": 1
           },
           {
            "bin_start": 10.080000000000002,
            "bin_end": 11.760000000000002,
            "count": 1
           },
           {
            "bin_start": 11.760000000000002,
            "bin_end": 13.440000000000001,
            "count": 1
           },
           {
            "bin_start": 13.440000000000001,
            "bin_end": 15.120000000000001,
            "count": 0
           },
           {
            "bin_start": 15.120000000000001,
            "bin_end": 16.8,
            "count": 1
           }
          ]
         }
        },
        {
         "name": "FFMC",
         "dtype": "float64",
         "stats": {
          "unique_count": 173,
          "nan_count": 0,
          "min": "28.6",
          "max": "96.0",
          "histogram": [
           {
            "bin_start": 28.6,
            "bin_end": 35.34,
            "count": 2
           },
           {
            "bin_start": 35.34,
            "bin_end": 42.08,
            "count": 5
           },
           {
            "bin_start": 42.08,
            "bin_end": 48.82,
            "count": 11
           },
           {
            "bin_start": 48.82,
            "bin_end": 55.56,
            "count": 5
           },
           {
            "bin_start": 55.56,
            "bin_end": 62.300000000000004,
            "count": 16
           },
           {
            "bin_start": 62.300000000000004,
            "bin_end": 69.03999999999999,
            "count": 16
           },
           {
            "bin_start": 69.03999999999999,
            "bin_end": 75.78,
            "count": 20
           },
           {
            "bin_start": 75.78,
            "bin_end": 82.52000000000001,
            "count": 42
           },
           {
            "bin_start": 82.52000000000001,
            "bin_end": 89.26,
            "count": 87
           },
           {
            "bin_start": 89.26,
            "bin_end": 96,
            "count": 40
           }
          ]
         }
        },
        {
         "name": "DMC",
         "dtype": "float64",
         "stats": {
          "unique_count": 166,
          "nan_count": 0,
          "min": "0.7",
          "max": "65.9",
          "histogram": [
           {
            "bin_start": 0.7,
            "bin_end": 7.220000000000001,
            "count": 80
           },
           {
            "bin_start": 7.220000000000001,
            "bin_end": 13.74,
            "count": 67
           },
           {
            "bin_start": 13.74,
            "bin_end": 20.26,
            "count": 35
           },
           {
            "bin_start": 20.26,
            "bin_end": 26.78,
            "count": 30
           },
           {
            "bin_start": 26.78,
            "bin_end": 33.300000000000004,
            "count": 11
           },
           {
            "bin_start": 33.300000000000004,
            "bin_end": 39.82000000000001,
            "count": 7
           },
           {
            "bin_start": 39.82000000000001,
            "bin_end": 46.34,
            "count": 6
           },
           {
            "bin_start": 46.34,
            "bin_end": 52.86000000000001,
            "count": 4
           },
           {
            "bin_start": 52.86000000000001,
            "bin_end": 59.38000000000001,
            "count": 2
           },
           {
            "bin_start": 59.38000000000001,
            "bin_end": 65.9,
            "count": 2
           }
          ]
         }
        },
        {
         "name": "DC",
         "dtype": "object",
         "stats": {
          "unique_count": 198,
          "nan_count": 0,
          "categories": [
           {
            "name": "8",
            "count": 5
           },
           {
            "name": "7.6",
            "count": 4
           },
           {
            "name": "196 others",
            "count": 235
           }
          ]
         }
        },
        {
         "name": "ISI",
         "dtype": "float64",
         "stats": {
          "unique_count": 106,
          "nan_count": 0,
          "min": "0.0",
          "max": "19.0",
          "histogram": [
           {
            "bin_start": 0,
            "bin_end": 1.9,
            "count": 80
           },
           {
            "bin_start": 1.9,
            "bin_end": 3.8,
            "count": 44
           },
           {
            "bin_start": 3.8,
            "bin_end": 5.699999999999999,
            "count": 40
           },
           {
            "bin_start": 5.699999999999999,
            "bin_end": 7.6,
            "count": 24
           },
           {
            "bin_start": 7.6,
            "bin_end": 9.5,
            "count": 21
           },
           {
            "bin_start": 9.5,
            "bin_end": 11.399999999999999,
            "count": 15
           },
           {
            "bin_start": 11.399999999999999,
            "bin_end": 13.299999999999999,
            "count": 7
           },
           {
            "bin_start": 13.299999999999999,
            "bin_end": 15.2,
            "count": 5
           },
           {
            "bin_start": 15.2,
            "bin_end": 17.099999999999998,
            "count": 5
           },
           {
            "bin_start": 17.099999999999998,
            "bin_end": 19,
            "count": 3
           }
          ]
         }
        },
        {
         "name": "BUI",
         "dtype": "float64",
         "stats": {
          "unique_count": 174,
          "nan_count": 0,
          "min": "1.1",
          "max": "68.0",
          "histogram": [
           {
            "bin_start": 1.1,
            "bin_end": 7.790000000000001,
            "count": 80
           },
           {
            "bin_start": 7.790000000000001,
            "bin_end": 14.48,
            "count": 58
           },
           {
            "bin_start": 14.48,
            "bin_end": 21.17,
            "count": 35
           },
           {
            "bin_start": 21.17,
            "bin_end": 27.860000000000003,
            "count": 27
           },
           {
            "bin_start": 27.860000000000003,
            "bin_end": 34.550000000000004,
            "count": 14
           },
           {
            "bin_start": 34.550000000000004,
            "bin_end": 41.24,
            "count": 13
           },
           {
            "bin_start": 41.24,
            "bin_end": 47.93000000000001,
            "count": 6
           },
           {
            "bin_start": 47.93000000000001,
            "bin_end": 54.620000000000005,
            "count": 2
           },
           {
            "bin_start": 54.620000000000005,
            "bin_end": 61.31,
            "count": 5
           },
           {
            "bin_start": 61.31,
            "bin_end": 68,
            "count": 4
           }
          ]
         }
        },
        {
         "name": "FWI",
         "dtype": "object",
         "stats": {
          "unique_count": 127,
          "nan_count": 0,
          "categories": [
           {
            "name": "0.4",
            "count": 12
           },
           {
            "name": "0.8",
            "count": 10
           },
           {
            "name": "125 others",
            "count": 222
           }
          ]
         }
        },
        {
         "name": "Classes  ",
         "dtype": "object",
         "stats": {
          "unique_count": 8,
          "nan_count": 1,
          "categories": [
           {
            "name": "fire   ",
            "count": 131
           },
           {
            "name": "7 others",
            "count": 112
           },
           {
            "name": "Missing",
            "count": 1
           }
          ]
         }
        },
        {
         "name": "_deepnote_index_column",
         "dtype": "int64"
        }
       ],
       "rows_top": [
        {
         "day": 1,
         "month": 6,
         "year": 2012,
         "Temperature": 29,
         " RH": 57,
         " Ws": 18,
         "Rain ": 0,
         "FFMC": 65.7,
         "DMC": 3.4,
         "DC": "7.6",
         "ISI": 1.3,
         "BUI": 3.4,
         "FWI": "0.5",
         "Classes  ": "not fire   ",
         "_deepnote_index_column": 0
        },
        {
         "day": 2,
         "month": 6,
         "year": 2012,
         "Temperature": 29,
         " RH": 61,
         " Ws": 13,
         "Rain ": 1.3,
         "FFMC": 64.4,
         "DMC": 4.1,
         "DC": "7.6",
         "ISI": 1,
         "BUI": 3.9,
         "FWI": "0.4",
         "Classes  ": "not fire   ",
         "_deepnote_index_column": 1
        },
        {
         "day": 3,
         "month": 6,
         "year": 2012,
         "Temperature": 26,
         " RH": 82,
         " Ws": 22,
         "Rain ": 13.1,
         "FFMC": 47.1,
         "DMC": 2.5,
         "DC": "7.1",
         "ISI": 0.3,
         "BUI": 2.7,
         "FWI": "0.1",
         "Classes  ": "not fire   ",
         "_deepnote_index_column": 2
        },
        {
         "day": 4,
         "month": 6,
         "year": 2012,
         "Temperature": 25,
         " RH": 89,
         " Ws": 13,
         "Rain ": 2.5,
         "FFMC": 28.6,
         "DMC": 1.3,
         "DC": "6.9",
         "ISI": 0,
         "BUI": 1.7,
         "FWI": "0",
         "Classes  ": "not fire   ",
         "_deepnote_index_column": 3
        },
        {
         "day": 5,
         "month": 6,
         "year": 2012,
         "Temperature": 27,
         " RH": 77,
         " Ws": 16,
         "Rain ": 0,
         "FFMC": 64.8,
         "DMC": 3,
         "DC": "14.2",
         "ISI": 1.2,
         "BUI": 3.9,
         "FWI": "0.5",
         "Classes  ": "not fire   ",
         "_deepnote_index_column": 4
        },
        {
         "day": 6,
         "month": 6,
         "year": 2012,
         "Temperature": 31,
         " RH": 67,
         " Ws": 14,
         "Rain ": 0,
         "FFMC": 82.6,
         "DMC": 5.8,
         "DC": "22.2",
         "ISI": 3.1,
         "BUI": 7,
         "FWI": "2.5",
         "Classes  ": "fire   ",
         "_deepnote_index_column": 5
        },
        {
         "day": 7,
         "month": 6,
         "year": 2012,
         "Temperature": 33,
         " RH": 54,
         " Ws": 13,
         "Rain ": 0,
         "FFMC": 88.2,
         "DMC": 9.9,
         "DC": "30.5",
         "ISI": 6.4,
         "BUI": 10.9,
         "FWI": "7.2",
         "Classes  ": "fire   ",
         "_deepnote_index_column": 6
        },
        {
         "day": 8,
         "month": 6,
         "year": 2012,
         "Temperature": 30,
         " RH": 73,
         " Ws": 15,
         "Rain ": 0,
         "FFMC": 86.6,
         "DMC": 12.1,
         "DC": "38.3",
         "ISI": 5.6,
         "BUI": 13.5,
         "FWI": "7.1",
         "Classes  ": "fire   ",
         "_deepnote_index_column": 7
        },
        {
         "day": 9,
         "month": 6,
         "year": 2012,
         "Temperature": 25,
         " RH": 88,
         " Ws": 13,
         "Rain ": 0.2,
         "FFMC": 52.9,
         "DMC": 7.9,
         "DC": "38.8",
         "ISI": 0.4,
         "BUI": 10.5,
         "FWI": "0.3",
         "Classes  ": "not fire   ",
         "_deepnote_index_column": 8
        },
        {
         "day": 10,
         "month": 6,
         "year": 2012,
         "Temperature": 28,
         " RH": 79,
         " Ws": 12,
         "Rain ": 0,
         "FFMC": 73.2,
         "DMC": 9.5,
         "DC": "46.3",
         "ISI": 1.3,
         "BUI": 12.6,
         "FWI": "0.9",
         "Classes  ": "not fire   ",
         "_deepnote_index_column": 9
        },
        {
         "day": 11,
         "month": 6,
         "year": 2012,
         "Temperature": 31,
         " RH": 65,
         " Ws": 14,
         "Rain ": 0,
         "FFMC": 84.5,
         "DMC": 12.5,
         "DC": "54.3",
         "ISI": 4,
         "BUI": 15.8,
         "FWI": "5.6",
         "Classes  ": "fire   ",
         "_deepnote_index_column": 10
        },
        {
         "day": 12,
         "month": 6,
         "year": 2012,
         "Temperature": 26,
         " RH": 81,
         " Ws": 19,
         "Rain ": 0,
         "FFMC": 84,
         "DMC": 13.8,
         "DC": "61.4",
         "ISI": 4.8,
         "BUI": 17.7,
         "FWI": "7.1 ",
         "Classes  ": "fire   ",
         "_deepnote_index_column": 11
        },
        {
         "day": 13,
         "month": 6,
         "year": 2012,
         "Temperature": 27,
         " RH": 84,
         " Ws": 21,
         "Rain ": 1.2,
         "FFMC": 50,
         "DMC": 6.7,
         "DC": "17",
         "ISI": 0.5,
         "BUI": 6.7,
         "FWI": "0.2",
         "Classes  ": "not fire   ",
         "_deepnote_index_column": 12
        },
        {
         "day": 14,
         "month": 6,
         "year": 2012,
         "Temperature": 30,
         " RH": 78,
         " Ws": 20,
         "Rain ": 0.5,
         "FFMC": 59,
         "DMC": 4.6,
         "DC": "7.8",
         "ISI": 1,
         "BUI": 4.4,
         "FWI": "0.4",
         "Classes  ": "not fire   ",
         "_deepnote_index_column": 13
        },
        {
         "day": 15,
         "month": 6,
         "year": 2012,
         "Temperature": 28,
         " RH": 80,
         " Ws": 17,
         "Rain ": 3.1,
         "FFMC": 49.4,
         "DMC": 3,
         "DC": "7.4",
         "ISI": 0.4,
         "BUI": 3,
         "FWI": "0.1",
         "Classes  ": "not fire   ",
         "_deepnote_index_column": 14
        },
        {
         "day": 16,
         "month": 6,
         "year": 2012,
         "Temperature": 29,
         " RH": 89,
         " Ws": 13,
         "Rain ": 0.7,
         "FFMC": 36.1,
         "DMC": 1.7,
         "DC": "7.6",
         "ISI": 0,
         "BUI": 2.2,
         "FWI": "0",
         "Classes  ": "not fire   ",
         "_deepnote_index_column": 15
        },
        {
         "day": 17,
         "month": 6,
         "year": 2012,
         "Temperature": 30,
         " RH": 89,
         " Ws": 16,
         "Rain ": 0.6,
         "FFMC": 37.3,
         "DMC": 1.1,
         "DC": "7.8",
         "ISI": 0,
         "BUI": 1.6,
         "FWI": "0",
         "Classes  ": "not fire   ",
         "_deepnote_index_column": 16
        },
        {
         "day": 18,
         "month": 6,
         "year": 2012,
         "Temperature": 31,
         " RH": 78,
         " Ws": 14,
         "Rain ": 0.3,
         "FFMC": 56.9,
         "DMC": 1.9,
         "DC": "8",
         "ISI": 0.7,
         "BUI": 2.4,
         "FWI": "0.2",
         "Classes  ": "not fire   ",
         "_deepnote_index_column": 17
        },
        {
         "day": 19,
         "month": 6,
         "year": 2012,
         "Temperature": 31,
         " RH": 55,
         " Ws": 16,
         "Rain ": 0.1,
         "FFMC": 79.9,
         "DMC": 4.5,
         "DC": "16",
         "ISI": 2.5,
         "BUI": 5.3,
         "FWI": "1.4",
         "Classes  ": "not fire   ",
         "_deepnote_index_column": 18
        },
        {
         "day": 20,
         "month": 6,
         "year": 2012,
         "Temperature": 30,
         " RH": 80,
         " Ws": 16,
         "Rain ": 0.4,
         "FFMC": 59.8,
         "DMC": 3.4,
         "DC": "27.1",
         "ISI": 0.9,
         "BUI": 5.1,
         "FWI": "0.4",
         "Classes  ": "not fire   ",
         "_deepnote_index_column": 19
        },
        {
         "day": 21,
         "month": 6,
         "year": 2012,
         "Temperature": 30,
         " RH": 78,
         " Ws": 14,
         "Rain ": 0,
         "FFMC": 81,
         "DMC": 6.3,
         "DC": "31.6",
         "ISI": 2.6,
         "BUI": 8.4,
         "FWI": "2.2",
         "Classes  ": "fire   ",
         "_deepnote_index_column": 20
        },
        {
         "day": 22,
         "month": 6,
         "year": 2012,
         "Temperature": 31,
         " RH": 67,
         " Ws": 17,
         "Rain ": 0.1,
         "FFMC": 79.1,
         "DMC": 7,
         "DC": "39.5",
         "ISI": 2.4,
         "BUI": 9.7,
         "FWI": "2.3",
         "Classes  ": "not fire   ",
         "_deepnote_index_column": 21
        },
        {
         "day": 23,
         "month": 6,
         "year": 2012,
         "Temperature": 32,
         " RH": 62,
         " Ws": 18,
         "Rain ": 0.1,
         "FFMC": 81.4,
         "DMC": 8.2,
         "DC": "47.7",
         "ISI": 3.3,
         "BUI": 11.5,
         "FWI": "3.8",
         "Classes  ": "fire   ",
         "_deepnote_index_column": 22
        },
        {
         "day": 24,
         "month": 6,
         "year": 2012,
         "Temperature": 32,
         " RH": 66,
         " Ws": 17,
         "Rain ": 0,
         "FFMC": 85.9,
         "DMC": 11.2,
         "DC": "55.8",
         "ISI": 5.6,
         "BUI": 14.9,
         "FWI": "7.5",
         "Classes  ": "fire   ",
         "_deepnote_index_column": 23
        },
        {
         "day": 25,
         "month": 6,
         "year": 2012,
         "Temperature": 31,
         " RH": 64,
         " Ws": 15,
         "Rain ": 0,
         "FFMC": 86.7,
         "DMC": 14.2,
         "DC": "63.8",
         "ISI": 5.7,
         "BUI": 18.3,
         "FWI": "8.4",
         "Classes  ": "fire   ",
         "_deepnote_index_column": 24
        },
        {
         "day": 26,
         "month": 6,
         "year": 2012,
         "Temperature": 31,
         " RH": 64,
         " Ws": 18,
         "Rain ": 0,
         "FFMC": 86.8,
         "DMC": 17.8,
         "DC": "71.8",
         "ISI": 6.7,
         "BUI": 21.6,
         "FWI": "10.6",
         "Classes  ": "fire   ",
         "_deepnote_index_column": 25
        },
        {
         "day": 27,
         "month": 6,
         "year": 2012,
         "Temperature": 34,
         " RH": 53,
         " Ws": 18,
         "Rain ": 0,
         "FFMC": 89,
         "DMC": 21.6,
         "DC": "80.3",
         "ISI": 9.2,
         "BUI": 25.8,
         "FWI": "15",
         "Classes  ": "fire   ",
         "_deepnote_index_column": 26
        },
        {
         "day": 28,
         "month": 6,
         "year": 2012,
         "Temperature": 32,
         " RH": 55,
         " Ws": 14,
         "Rain ": 0,
         "FFMC": 89.1,
         "DMC": 25.5,
         "DC": "88.5",
         "ISI": 7.6,
         "BUI": 29.7,
         "FWI": "13.9",
         "Classes  ": "fire   ",
         "_deepnote_index_column": 27
        },
        {
         "day": 29,
         "month": 6,
         "year": 2012,
         "Temperature": 32,
         " RH": 47,
         " Ws": 13,
         "Rain ": 0.3,
         "FFMC": 79.9,
         "DMC": 18.4,
         "DC": "84.4",
         "ISI": 2.2,
         "BUI": 23.8,
         "FWI": "3.9",
         "Classes  ": "not fire   ",
         "_deepnote_index_column": 28
        },
        {
         "day": 30,
         "month": 6,
         "year": 2012,
         "Temperature": 33,
         " RH": 50,
         " Ws": 14,
         "Rain ": 0,
         "FFMC": 88.7,
         "DMC": 22.9,
         "DC": "92.8",
         "ISI": 7.2,
         "BUI": 28.3,
         "FWI": "12.9",
         "Classes  ": "fire   ",
         "_deepnote_index_column": 29
        },
        {
         "day": 1,
         "month": 7,
         "year": 2012,
         "Temperature": 29,
         " RH": 68,
         " Ws": 19,
         "Rain ": 1,
         "FFMC": 59.9,
         "DMC": 2.5,
         "DC": "8.6",
         "ISI": 1.1,
         "BUI": 2.9,
         "FWI": "0.4",
         "Classes  ": "not fire   ",
         "_deepnote_index_column": 30
        },
        {
         "day": 2,
         "month": 7,
         "year": 2012,
         "Temperature": 27,
         " RH": 75,
         " Ws": 19,
         "Rain ": 1.2,
         "FFMC": 55.7,
         "DMC": 2.4,
         "DC": "8.3",
         "ISI": 0.8,
         "BUI": 2.8,
         "FWI": "0.3",
         "Classes  ": "not fire   ",
         "_deepnote_index_column": 31
        },
        {
         "day": 3,
         "month": 7,
         "year": 2012,
         "Temperature": 32,
         " RH": 76,
         " Ws": 20,
         "Rain ": 0.7,
         "FFMC": 63.1,
         "DMC": 2.6,
         "DC": "9.2",
         "ISI": 1.3,
         "BUI": 3,
         "FWI": "0.5",
         "Classes  ": "not fire   ",
         "_deepnote_index_column": 32
        },
        {
         "day": 4,
         "month": 7,
         "year": 2012,
         "Temperature": 33,
         " RH": 78,
         " Ws": 17,
         "Rain ": 0,
         "FFMC": 80.1,
         "DMC": 4.6,
         "DC": "18.5",
         "ISI": 2.7,
         "BUI": 5.7,
         "FWI": "1.7",
         "Classes  ": "not fire   ",
         "_deepnote_index_column": 33
        },
        {
         "day": 5,
         "month": 7,
         "year": 2012,
         "Temperature": 33,
         " RH": 66,
         " Ws": 14,
         "Rain ": 0,
         "FFMC": 85.9,
         "DMC": 7.6,
         "DC": "27.9",
         "ISI": 4.8,
         "BUI": 9.1,
         "FWI": "4.9",
         "Classes  ": "fire   ",
         "_deepnote_index_column": 34
        }
       ],
       "rows_bottom": [
        {
         "day": 26,
         "month": 8,
         "year": 2012,
         "Temperature": 33,
         " RH": 37,
         " Ws": 16,
         "Rain ": 0,
         "FFMC": 92.2,
         "DMC": 61.3,
         "DC": "167.2",
         "ISI": 13.1,
         "BUI": 64,
         "FWI": "30.3",
         "Classes  ": "fire   ",
         "_deepnote_index_column": 208
        },
        {
         "day": 27,
         "month": 8,
         "year": 2012,
         "Temperature": 36,
         " RH": 54,
         " Ws": 14,
         "Rain ": 0,
         "FFMC": 91,
         "DMC": 65.9,
         "DC": "177.3",
         "ISI": 10,
         "BUI": 68,
         "FWI": "26.1",
         "Classes  ": "fire   ",
         "_deepnote_index_column": 209
        },
        {
         "day": 28,
         "month": 8,
         "year": 2012,
         "Temperature": 35,
         " RH": 56,
         " Ws": 14,
         "Rain ": 0.4,
         "FFMC": 79.2,
         "DMC": 37,
         "DC": "166",
         "ISI": 2.1,
         "BUI": 30.6,
         "FWI": "6.1",
         "Classes  ": "not fire   ",
         "_deepnote_index_column": 210
        },
        {
         "day": 29,
         "month": 8,
         "year": 2012,
         "Temperature": 35,
         " RH": 53,
         " Ws": 17,
         "Rain ": 0.5,
         "FFMC": 80.2,
         "DMC": 20.7,
         "DC": "149.2",
         "ISI": 2.7,
         "BUI": 30.6,
         "FWI": "5.9",
         "Classes  ": "fire   ",
         "_deepnote_index_column": 211
        },
        {
         "day": 30,
         "month": 8,
         "year": 2012,
         "Temperature": 34,
         " RH": 49,
         " Ws": 15,
         "Rain ": 0,
         "FFMC": 89.2,
         "DMC": 24.8,
         "DC": "159.1",
         "ISI": 8.1,
         "BUI": 35.7,
         "FWI": "16",
         "Classes  ": "fire   ",
         "_deepnote_index_column": 212
        },
        {
         "day": 31,
         "month": 8,
         "year": 2012,
         "Temperature": 30,
         " RH": 59,
         " Ws": 19,
         "Rain ": 0,
         "FFMC": 89.1,
         "DMC": 27.8,
         "DC": "168.2",
         "ISI": 9.8,
         "BUI": 39.3,
         "FWI": "19.4",
         "Classes  ": "fire   ",
         "_deepnote_index_column": 213
        },
        {
         "day": 1,
         "month": 9,
         "year": 2012,
         "Temperature": 29,
         " RH": 86,
         " Ws": 16,
         "Rain ": 0,
         "FFMC": 37.9,
         "DMC": 0.9,
         "DC": "8.2",
         "ISI": 0.1,
         "BUI": 1.4,
         "FWI": "0",
         "Classes  ": "not fire   ",
         "_deepnote_index_column": 214
        },
        {
         "day": 2,
         "month": 9,
         "year": 2012,
         "Temperature": 28,
         " RH": 67,
         " Ws": 19,
         "Rain ": 0,
         "FFMC": 75.4,
         "DMC": 2.9,
         "DC": "16.3",
         "ISI": 2,
         "BUI": 4,
         "FWI": "0.8",
         "Classes  ": "not fire   ",
         "_deepnote_index_column": 215
        },
        {
         "day": 3,
         "month": 9,
         "year": 2012,
         "Temperature": 28,
         " RH": 75,
         " Ws": 16,
         "Rain ": 0,
         "FFMC": 82.2,
         "DMC": 4.4,
         "DC": "24.3",
         "ISI": 3.3,
         "BUI": 6,
         "FWI": "2.5",
         "Classes  ": "fire   ",
         "_deepnote_index_column": 216
        },
        {
         "day": 4,
         "month": 9,
         "year": 2012,
         "Temperature": 30,
         " RH": 66,
         " Ws": 15,
         "Rain ": 0.2,
         "FFMC": 73.5,
         "DMC": 4.1,
         "DC": "26.6",
         "ISI": 1.5,
         "BUI": 6,
         "FWI": "0.7",
         "Classes  ": "not fire   ",
         "_deepnote_index_column": 217
        },
        {
         "day": 5,
         "month": 9,
         "year": 2012,
         "Temperature": 30,
         " RH": 58,
         " Ws": 12,
         "Rain ": 4.1,
         "FFMC": 66.1,
         "DMC": 4,
         "DC": "8.4",
         "ISI": 1,
         "BUI": 3.9,
         "FWI": "0.4",
         "Classes  ": "not fire   ",
         "_deepnote_index_column": 218
        },
        {
         "day": 6,
         "month": 9,
         "year": 2012,
         "Temperature": 34,
         " RH": 71,
         " Ws": 14,
         "Rain ": 6.5,
         "FFMC": 64.5,
         "DMC": 3.3,
         "DC": "9.1",
         "ISI": 1,
         "BUI": 3.5,
         "FWI": "0.4",
         "Classes  ": "not fire   ",
         "_deepnote_index_column": 219
        },
        {
         "day": 7,
         "month": 9,
         "year": 2012,
         "Temperature": 31,
         " RH": 62,
         " Ws": 15,
         "Rain ": 0,
         "FFMC": 83.3,
         "DMC": 5.8,
         "DC": "17.7",
         "ISI": 3.8,
         "BUI": 6.4,
         "FWI": "3.2",
         "Classes  ": "fire   ",
         "_deepnote_index_column": 220
        },
        {
         "day": 8,
         "month": 9,
         "year": 2012,
         "Temperature": 30,
         " RH": 88,
         " Ws": 14,
         "Rain ": 0,
         "FFMC": 82.5,
         "DMC": 6.6,
         "DC": "26.1",
         "ISI": 3,
         "BUI": 8.1,
         "FWI": "2.7",
         "Classes  ": "fire   ",
         "_deepnote_index_column": 221
        },
        {
         "day": 9,
         "month": 9,
         "year": 2012,
         "Temperature": 30,
         " RH": 80,
         " Ws": 15,
         "Rain ": 0,
         "FFMC": 83.1,
         "DMC": 7.9,
         "DC": "34.5",
         "ISI": 3.5,
         "BUI": 10,
         "FWI": "3.7",
         "Classes  ": "fire   ",
         "_deepnote_index_column": 222
        },
        {
         "day": 10,
         "month": 9,
         "year": 2012,
         "Temperature": 29,
         " RH": 74,
         " Ws": 15,
         "Rain ": 1.1,
         "FFMC": 59.5,
         "DMC": 4.7,
         "DC": "8.2",
         "ISI": 0.8,
         "BUI": 4.6,
         "FWI": "0.3",
         "Classes  ": "not fire   ",
         "_deepnote_index_column": 223
        },
        {
         "day": 11,
         "month": 9,
         "year": 2012,
         "Temperature": 30,
         " RH": 73,
         " Ws": 14,
         "Rain ": 0,
         "FFMC": 79.2,
         "DMC": 6.5,
         "DC": "16.6",
         "ISI": 2.1,
         "BUI": 6.6,
         "FWI": "1.2",
         "Classes  ": "not fire   ",
         "_deepnote_index_column": 224
        },
        {
         "day": 12,
         "month": 9,
         "year": 2012,
         "Temperature": 31,
         " RH": 72,
         " Ws": 14,
         "Rain ": 0,
         "FFMC": 84.2,
         "DMC": 8.3,
         "DC": "25.2",
         "ISI": 3.8,
         "BUI": 9.1,
         "FWI": "3.9",
         "Classes  ": "fire   ",
         "_deepnote_index_column": 225
        },
        {
         "day": 13,
         "month": 9,
         "year": 2012,
         "Temperature": 29,
         " RH": 49,
         " Ws": 19,
         "Rain ": 0,
         "FFMC": 88.6,
         "DMC": 11.5,
         "DC": "33.4",
         "ISI": 9.1,
         "BUI": 12.4,
         "FWI": "10.3",
         "Classes  ": "fire   ",
         "_deepnote_index_column": 226
        },
        {
         "day": 14,
         "month": 9,
         "year": 2012,
         "Temperature": 28,
         " RH": 81,
         " Ws": 15,
         "Rain ": 0,
         "FFMC": 84.6,
         "DMC": 12.6,
         "DC": "41.5",
         "ISI": 4.3,
         "BUI": 14.3,
         "FWI": "5.7",
         "Classes  ": "fire   ",
         "_deepnote_index_column": 227
        },
        {
         "day": 15,
         "month": 9,
         "year": 2012,
         "Temperature": 32,
         " RH": 51,
         " Ws": 13,
         "Rain ": 0,
         "FFMC": 88.7,
         "DMC": 16,
         "DC": "50.2",
         "ISI": 6.9,
         "BUI": 17.8,
         "FWI": "9.8",
         "Classes  ": "fire   ",
         "_deepnote_index_column": 228
        },
        {
         "day": 16,
         "month": 9,
         "year": 2012,
         "Temperature": 33,
         " RH": 26,
         " Ws": 13,
         "Rain ": 0,
         "FFMC": 93.9,
         "DMC": 21.2,
         "DC": "59.2",
         "ISI": 14.2,
         "BUI": 22.4,
         "FWI": "19.3",
         "Classes  ": "fire   ",
         "_deepnote_index_column": 229
        },
        {
         "day": 17,
         "month": 9,
         "year": 2012,
         "Temperature": 34,
         " RH": 44,
         " Ws": 12,
         "Rain ": 0,
         "FFMC": 92.5,
         "DMC": 25.2,
         "DC": "63.3",
         "ISI": 11.2,
         "BUI": 26.2,
         "FWI": "17.5",
         "Classes  ": "fire   ",
         "_deepnote_index_column": 230
        },
        {
         "day": 18,
         "month": 9,
         "year": 2012,
         "Temperature": 36,
         " RH": 33,
         " Ws": 13,
         "Rain ": 0.1,
         "FFMC": 90.6,
         "DMC": 25.8,
         "DC": "77.8",
         "ISI": 9,
         "BUI": 28.2,
         "FWI": "15.4",
         "Classes  ": "fire   ",
         "_deepnote_index_column": 231
        },
        {
         "day": 19,
         "month": 9,
         "year": 2012,
         "Temperature": 29,
         " RH": 41,
         " Ws": 8,
         "Rain ": 0.1,
         "FFMC": 83.9,
         "DMC": 24.9,
         "DC": "86",
         "ISI": 2.7,
         "BUI": 28.9,
         "FWI": "5.6",
         "Classes  ": "fire   ",
         "_deepnote_index_column": 232
        },
        {
         "day": 20,
         "month": 9,
         "year": 2012,
         "Temperature": 34,
         " RH": 58,
         " Ws": 13,
         "Rain ": 0.2,
         "FFMC": 79.5,
         "DMC": 18.7,
         "DC": "88",
         "ISI": 2.1,
         "BUI": 24.4,
         "FWI": "3.8",
         "Classes  ": "not fire   ",
         "_deepnote_index_column": 233
        },
        {
         "day": 21,
         "month": 9,
         "year": 2012,
         "Temperature": 35,
         " RH": 34,
         " Ws": 17,
         "Rain ": 0,
         "FFMC": 92.2,
         "DMC": 23.6,
         "DC": "97.3",
         "ISI": 13.8,
         "BUI": 29.4,
         "FWI": "21.6",
         "Classes  ": "fire   ",
         "_deepnote_index_column": 234
        },
        {
         "day": 22,
         "month": 9,
         "year": 2012,
         "Temperature": 33,
         " RH": 64,
         " Ws": 13,
         "Rain ": 0,
         "FFMC": 88.9,
         "DMC": 26.1,
         "DC": "106.3",
         "ISI": 7.1,
         "BUI": 32.4,
         "FWI": "13.7",
         "Classes  ": "fire   ",
         "_deepnote_index_column": 235
        },
        {
         "day": 23,
         "month": 9,
         "year": 2012,
         "Temperature": 35,
         " RH": 56,
         " Ws": 14,
         "Rain ": 0,
         "FFMC": 89,
         "DMC": 29.4,
         "DC": "115.6",
         "ISI": 7.5,
         "BUI": 36,
         "FWI": "15.2",
         "Classes  ": "fire   ",
         "_deepnote_index_column": 236
        },
        {
         "day": 24,
         "month": 9,
         "year": 2012,
         "Temperature": 26,
         " RH": 49,
         " Ws": 6,
         "Rain ": 2,
         "FFMC": 61.3,
         "DMC": 11.9,
         "DC": "28.1",
         "ISI": 0.6,
         "BUI": 11.9,
         "FWI": "0.4",
         "Classes  ": "not fire   ",
         "_deepnote_index_column": 237
        },
        {
         "day": 25,
         "month": 9,
         "year": 2012,
         "Temperature": 28,
         " RH": 70,
         " Ws": 15,
         "Rain ": 0,
         "FFMC": 79.9,
         "DMC": 13.8,
         "DC": "36.1",
         "ISI": 2.4,
         "BUI": 14.1,
         "FWI": "3",
         "Classes  ": "not fire   ",
         "_deepnote_index_column": 238
        },
        {
         "day": 26,
         "month": 9,
         "year": 2012,
         "Temperature": 30,
         " RH": 65,
         " Ws": 14,
         "Rain ": 0,
         "FFMC": 85.4,
         "DMC": 16,
         "DC": "44.5",
         "ISI": 4.5,
         "BUI": 16.9,
         "FWI": "6.5",
         "Classes  ": "fire   ",
         "_deepnote_index_column": 239
        },
        {
         "day": 27,
         "month": 9,
         "year": 2012,
         "Temperature": 28,
         " RH": 87,
         " Ws": 15,
         "Rain ": 4.4,
         "FFMC": 41.1,
         "DMC": 6.5,
         "DC": "8",
         "ISI": 0.1,
         "BUI": 6.2,
         "FWI": "0",
         "Classes  ": "not fire   ",
         "_deepnote_index_column": 240
        },
        {
         "day": 28,
         "month": 9,
         "year": 2012,
         "Temperature": 27,
         " RH": 87,
         " Ws": 29,
         "Rain ": 0.5,
         "FFMC": 45.9,
         "DMC": 3.5,
         "DC": "7.9",
         "ISI": 0.4,
         "BUI": 3.4,
         "FWI": "0.2",
         "Classes  ": "not fire   ",
         "_deepnote_index_column": 241
        },
        {
         "day": 29,
         "month": 9,
         "year": 2012,
         "Temperature": 24,
         " RH": 54,
         " Ws": 18,
         "Rain ": 0.1,
         "FFMC": 79.7,
         "DMC": 4.3,
         "DC": "15.2",
         "ISI": 1.7,
         "BUI": 5.1,
         "FWI": "0.7",
         "Classes  ": "not fire   ",
         "_deepnote_index_column": 242
        },
        {
         "day": 30,
         "month": 9,
         "year": 2012,
         "Temperature": 24,
         " RH": 64,
         " Ws": 15,
         "Rain ": 0.2,
         "FFMC": 67.3,
         "DMC": 3.8,
         "DC": "16.5",
         "ISI": 1.2,
         "BUI": 4.8,
         "FWI": "0.5",
         "Classes  ": "not fire    ",
         "_deepnote_index_column": 243
        }
       ]
      },
      "text/plain": "     day  month  year  Temperature   RH   Ws  Rain   FFMC   DMC    DC  ISI  \\\n0      1      6  2012           29   57   18    0.0  65.7   3.4   7.6  1.3   \n1      2      6  2012           29   61   13    1.3  64.4   4.1   7.6  1.0   \n2      3      6  2012           26   82   22   13.1  47.1   2.5   7.1  0.3   \n3      4      6  2012           25   89   13    2.5  28.6   1.3   6.9  0.0   \n4      5      6  2012           27   77   16    0.0  64.8   3.0  14.2  1.2   \n..   ...    ...   ...          ...  ...  ...    ...   ...   ...   ...  ...   \n239   26      9  2012           30   65   14    0.0  85.4  16.0  44.5  4.5   \n240   27      9  2012           28   87   15    4.4  41.1   6.5     8  0.1   \n241   28      9  2012           27   87   29    0.5  45.9   3.5   7.9  0.4   \n242   29      9  2012           24   54   18    0.1  79.7   4.3  15.2  1.7   \n243   30      9  2012           24   64   15    0.2  67.3   3.8  16.5  1.2   \n\n      BUI  FWI     Classes    \n0     3.4  0.5   not fire     \n1     3.9  0.4   not fire     \n2     2.7  0.1   not fire     \n3     1.7    0   not fire     \n4     3.9  0.5   not fire     \n..    ...  ...           ...  \n239  16.9  6.5       fire     \n240   6.2    0   not fire     \n241   3.4  0.2   not fire     \n242   5.1  0.7   not fire     \n243   4.8  0.5  not fire      \n\n[244 rows x 14 columns]",
      "text/html": "<div>\n<style scoped>\n    .dataframe tbody tr th:only-of-type {\n        vertical-align: middle;\n    }\n\n    .dataframe tbody tr th {\n        vertical-align: top;\n    }\n\n    .dataframe thead th {\n        text-align: right;\n    }\n</style>\n<table border=\"1\" class=\"dataframe\">\n  <thead>\n    <tr style=\"text-align: right;\">\n      <th></th>\n      <th>day</th>\n      <th>month</th>\n      <th>year</th>\n      <th>Temperature</th>\n      <th>RH</th>\n      <th>Ws</th>\n      <th>Rain</th>\n      <th>FFMC</th>\n      <th>DMC</th>\n      <th>DC</th>\n      <th>ISI</th>\n      <th>BUI</th>\n      <th>FWI</th>\n      <th>Classes</th>\n    </tr>\n  </thead>\n  <tbody>\n    <tr>\n      <th>0</th>\n      <td>1</td>\n      <td>6</td>\n      <td>2012</td>\n      <td>29</td>\n      <td>57</td>\n      <td>18</td>\n      <td>0.0</td>\n      <td>65.7</td>\n      <td>3.4</td>\n      <td>7.6</td>\n      <td>1.3</td>\n      <td>3.4</td>\n      <td>0.5</td>\n      <td>not fire</td>\n    </tr>\n    <tr>\n      <th>1</th>\n      <td>2</td>\n      <td>6</td>\n      <td>2012</td>\n      <td>29</td>\n      <td>61</td>\n      <td>13</td>\n      <td>1.3</td>\n      <td>64.4</td>\n      <td>4.1</td>\n      <td>7.6</td>\n      <td>1.0</td>\n      <td>3.9</td>\n      <td>0.4</td>\n      <td>not fire</td>\n    </tr>\n    <tr>\n      <th>2</th>\n      <td>3</td>\n      <td>6</td>\n      <td>2012</td>\n      <td>26</td>\n      <td>82</td>\n      <td>22</td>\n      <td>13.1</td>\n      <td>47.1</td>\n      <td>2.5</td>\n      <td>7.1</td>\n      <td>0.3</td>\n      <td>2.7</td>\n      <td>0.1</td>\n      <td>not fire</td>\n    </tr>\n    <tr>\n      <th>3</th>\n      <td>4</td>\n      <td>6</td>\n      <td>2012</td>\n      <td>25</td>\n      <td>89</td>\n      <td>13</td>\n      <td>2.5</td>\n      <td>28.6</td>\n      <td>1.3</td>\n      <td>6.9</td>\n      <td>0.0</td>\n      <td>1.7</td>\n      <td>0</td>\n      <td>not fire</td>\n    </tr>\n    <tr>\n      <th>4</th>\n      <td>5</td>\n      <td>6</td>\n      <td>2012</td>\n      <td>27</td>\n      <td>77</td>\n      <td>16</td>\n      <td>0.0</td>\n      <td>64.8</td>\n      <td>3.0</td>\n      <td>14.2</td>\n      <td>1.2</td>\n      <td>3.9</td>\n      <td>0.5</td>\n      <td>not fire</td>\n    </tr>\n    <tr>\n      <th>...</th>\n      <td>...</td>\n      <td>...</td>\n      <td>...</td>\n      <td>...</td>\n      <td>...</td>\n      <td>...</td>\n      <td>...</td>\n      <td>...</td>\n      <td>...</td>\n      <td>...</td>\n      <td>...</td>\n      <td>...</td>\n      <td>...</td>\n      <td>...</td>\n    </tr>\n    <tr>\n      <th>239</th>\n      <td>26</td>\n      <td>9</td>\n      <td>2012</td>\n      <td>30</td>\n      <td>65</td>\n      <td>14</td>\n      <td>0.0</td>\n      <td>85.4</td>\n      <td>16.0</td>\n      <td>44.5</td>\n      <td>4.5</td>\n      <td>16.9</td>\n      <td>6.5</td>\n      <td>fire</td>\n    </tr>\n    <tr>\n      <th>240</th>\n      <td>27</td>\n      <td>9</td>\n      <td>2012</td>\n      <td>28</td>\n      <td>87</td>\n      <td>15</td>\n      <td>4.4</td>\n      <td>41.1</td>\n      <td>6.5</td>\n      <td>8</td>\n      <td>0.1</td>\n      <td>6.2</td>\n      <td>0</td>\n      <td>not fire</td>\n    </tr>\n    <tr>\n      <th>241</th>\n      <td>28</td>\n      <td>9</td>\n      <td>2012</td>\n      <td>27</td>\n      <td>87</td>\n      <td>29</td>\n      <td>0.5</td>\n      <td>45.9</td>\n      <td>3.5</td>\n      <td>7.9</td>\n      <td>0.4</td>\n      <td>3.4</td>\n      <td>0.2</td>\n      <td>not fire</td>\n    </tr>\n    <tr>\n      <th>242</th>\n      <td>29</td>\n      <td>9</td>\n      <td>2012</td>\n      <td>24</td>\n      <td>54</td>\n      <td>18</td>\n      <td>0.1</td>\n      <td>79.7</td>\n      <td>4.3</td>\n      <td>15.2</td>\n      <td>1.7</td>\n      <td>5.1</td>\n      <td>0.7</td>\n      <td>not fire</td>\n    </tr>\n    <tr>\n      <th>243</th>\n      <td>30</td>\n      <td>9</td>\n      <td>2012</td>\n      <td>24</td>\n      <td>64</td>\n      <td>15</td>\n      <td>0.2</td>\n      <td>67.3</td>\n      <td>3.8</td>\n      <td>16.5</td>\n      <td>1.2</td>\n      <td>4.8</td>\n      <td>0.5</td>\n      <td>not fire</td>\n    </tr>\n  </tbody>\n</table>\n<p>244 rows × 14 columns</p>\n</div>"
     },
     "metadata": {}
    }
   ],
   "execution_count": null
  },
  {
   "cell_type": "code",
   "metadata": {
    "tags": [],
    "cell_id": "00003-1e5b1d76-e48b-4b84-a181-46bdc13b98f8",
    "deepnote_to_be_reexecuted": false,
    "source_hash": "7ed95d2d",
    "execution_start": 1635758673052,
    "execution_millis": 9,
    "deepnote_cell_type": "code"
   },
   "source": "((data['Classes  '].dtype) == 'O')",
   "outputs": [
    {
     "output_type": "execute_result",
     "execution_count": 4,
     "data": {
      "text/plain": "True"
     },
     "metadata": {}
    }
   ],
   "execution_count": null
  },
  {
   "cell_type": "code",
   "metadata": {
    "tags": [],
    "cell_id": "00003-ba8b392f-ec9f-420e-a3c2-60ace445c779",
    "deepnote_to_be_reexecuted": false,
    "source_hash": "2473e4db",
    "execution_start": 1635758673737,
    "execution_millis": 49,
    "deepnote_cell_type": "code"
   },
   "source": "for i in data.columns:\n    print(i)\n    k = str(i)\n    k = k.strip()\n    if ((data[i].dtype) == 'O'):\n        data[k] = data[i].str.strip()\n    if k!=i:\n        data.drop([i], axis=1, inplace=True)",
   "outputs": [
    {
     "name": "stdout",
     "text": "day\nmonth\nyear\nTemperature\n RH\n Ws\nRain \nFFMC\nDMC\nDC\nISI\nBUI\nFWI\nClasses  \n",
     "output_type": "stream"
    }
   ],
   "execution_count": null
  },
  {
   "cell_type": "code",
   "metadata": {
    "tags": [],
    "cell_id": "00003-464eb169-85be-4207-82b5-ba977894520d",
    "deepnote_to_be_reexecuted": false,
    "source_hash": "5db1c438",
    "execution_start": 1635758674953,
    "execution_millis": 111,
    "deepnote_cell_type": "code"
   },
   "source": "data['Classes'].value_counts()",
   "outputs": [
    {
     "output_type": "execute_result",
     "execution_count": 6,
     "data": {
      "text/plain": "fire        137\nnot fire    106\nName: Classes, dtype: int64"
     },
     "metadata": {}
    }
   ],
   "execution_count": null
  },
  {
   "cell_type": "code",
   "metadata": {
    "tags": [],
    "cell_id": "00003-1c7003a2-3c27-4550-afec-4a2b820705e4",
    "deepnote_to_be_reexecuted": false,
    "source_hash": "3ee67d08",
    "execution_start": 1635758675246,
    "execution_millis": 44,
    "deepnote_cell_type": "code"
   },
   "source": "data[data['Classes'] == 'Classes']",
   "outputs": [
    {
     "output_type": "execute_result",
     "execution_count": 7,
     "data": {
      "application/vnd.deepnote.dataframe.v2+json": {
       "row_count": 0,
       "column_count": 11,
       "columns": [
        {
         "name": "day",
         "dtype": "int64",
         "stats": {
          "unique_count": 0,
          "nan_count": 0,
          "min": null,
          "max": null,
          "histogram": [
           {
            "bin_start": 0,
            "bin_end": 0.1,
            "count": 0
           },
           {
            "bin_start": 0.1,
            "bin_end": 0.2,
            "count": 0
           },
           {
            "bin_start": 0.2,
            "bin_end": 0.30000000000000004,
            "count": 0
           },
           {
            "bin_start": 0.30000000000000004,
            "bin_end": 0.4,
            "count": 0
           },
           {
            "bin_start": 0.4,
            "bin_end": 0.5,
            "count": 0
           },
           {
            "bin_start": 0.5,
            "bin_end": 0.6000000000000001,
            "count": 0
           },
           {
            "bin_start": 0.6000000000000001,
            "bin_end": 0.7000000000000001,
            "count": 0
           },
           {
            "bin_start": 0.7000000000000001,
            "bin_end": 0.8,
            "count": 0
           },
           {
            "bin_start": 0.8,
            "bin_end": 0.9,
            "count": 0
           },
           {
            "bin_start": 0.9,
            "bin_end": 1,
            "count": 0
           }
          ]
         }
        },
        {
         "name": "month",
         "dtype": "int64",
         "stats": {
          "unique_count": 0,
          "nan_count": 0,
          "min": null,
          "max": null,
          "histogram": [
           {
            "bin_start": 0,
            "bin_end": 0.1,
            "count": 0
           },
           {
            "bin_start": 0.1,
            "bin_end": 0.2,
            "count": 0
           },
           {
            "bin_start": 0.2,
            "bin_end": 0.30000000000000004,
            "count": 0
           },
           {
            "bin_start": 0.30000000000000004,
            "bin_end": 0.4,
            "count": 0
           },
           {
            "bin_start": 0.4,
            "bin_end": 0.5,
            "count": 0
           },
           {
            "bin_start": 0.5,
            "bin_end": 0.6000000000000001,
            "count": 0
           },
           {
            "bin_start": 0.6000000000000001,
            "bin_end": 0.7000000000000001,
            "count": 0
           },
           {
            "bin_start": 0.7000000000000001,
            "bin_end": 0.8,
            "count": 0
           },
           {
            "bin_start": 0.8,
            "bin_end": 0.9,
            "count": 0
           },
           {
            "bin_start": 0.9,
            "bin_end": 1,
            "count": 0
           }
          ]
         }
        },
        {
         "name": "year",
         "dtype": "int64",
         "stats": {
          "unique_count": 0,
          "nan_count": 0,
          "min": null,
          "max": null,
          "histogram": [
           {
            "bin_start": 0,
            "bin_end": 0.1,
            "count": 0
           },
           {
            "bin_start": 0.1,
            "bin_end": 0.2,
            "count": 0
           },
           {
            "bin_start": 0.2,
            "bin_end": 0.30000000000000004,
            "count": 0
           },
           {
            "bin_start": 0.30000000000000004,
            "bin_end": 0.4,
            "count": 0
           },
           {
            "bin_start": 0.4,
            "bin_end": 0.5,
            "count": 0
           },
           {
            "bin_start": 0.5,
            "bin_end": 0.6000000000000001,
            "count": 0
           },
           {
            "bin_start": 0.6000000000000001,
            "bin_end": 0.7000000000000001,
            "count": 0
           },
           {
            "bin_start": 0.7000000000000001,
            "bin_end": 0.8,
            "count": 0
           },
           {
            "bin_start": 0.8,
            "bin_end": 0.9,
            "count": 0
           },
           {
            "bin_start": 0.9,
            "bin_end": 1,
            "count": 0
           }
          ]
         }
        },
        {
         "name": "Temperature",
         "dtype": "int64",
         "stats": {
          "unique_count": 0,
          "nan_count": 0,
          "min": null,
          "max": null,
          "histogram": [
           {
            "bin_start": 0,
            "bin_end": 0.1,
            "count": 0
           },
           {
            "bin_start": 0.1,
            "bin_end": 0.2,
            "count": 0
           },
           {
            "bin_start": 0.2,
            "bin_end": 0.30000000000000004,
            "count": 0
           },
           {
            "bin_start": 0.30000000000000004,
            "bin_end": 0.4,
            "count": 0
           },
           {
            "bin_start": 0.4,
            "bin_end": 0.5,
            "count": 0
           },
           {
            "bin_start": 0.5,
            "bin_end": 0.6000000000000001,
            "count": 0
           },
           {
            "bin_start": 0.6000000000000001,
            "bin_end": 0.7000000000000001,
            "count": 0
           },
           {
            "bin_start": 0.7000000000000001,
            "bin_end": 0.8,
            "count": 0
           },
           {
            "bin_start": 0.8,
            "bin_end": 0.9,
            "count": 0
           },
           {
            "bin_start": 0.9,
            "bin_end": 1,
            "count": 0
           }
          ]
         }
        },
        {
         "name": "FFMC",
         "dtype": "float64",
         "stats": {
          "unique_count": 0,
          "nan_count": 0,
          "min": null,
          "max": null,
          "histogram": [
           {
            "bin_start": 0,
            "bin_end": 0.1,
            "count": 0
           },
           {
            "bin_start": 0.1,
            "bin_end": 0.2,
            "count": 0
           },
           {
            "bin_start": 0.2,
            "bin_end": 0.30000000000000004,
            "count": 0
           },
           {
            "bin_start": 0.30000000000000004,
            "bin_end": 0.4,
            "count": 0
           },
           {
            "bin_start": 0.4,
            "bin_end": 0.5,
            "count": 0
           },
           {
            "bin_start": 0.5,
            "bin_end": 0.6000000000000001,
            "count": 0
           },
           {
            "bin_start": 0.6000000000000001,
            "bin_end": 0.7000000000000001,
            "count": 0
           },
           {
            "bin_start": 0.7000000000000001,
            "bin_end": 0.8,
            "count": 0
           },
           {
            "bin_start": 0.8,
            "bin_end": 0.9,
            "count": 0
           },
           {
            "bin_start": 0.9,
            "bin_end": 1,
            "count": 0
           }
          ]
         }
        },
        {
         "name": "DMC",
         "dtype": "float64",
         "stats": {
          "unique_count": 0,
          "nan_count": 0,
          "min": null,
          "max": null,
          "histogram": [
           {
            "bin_start": 0,
            "bin_end": 0.1,
            "count": 0
           },
           {
            "bin_start": 0.1,
            "bin_end": 0.2,
            "count": 0
           },
           {
            "bin_start": 0.2,
            "bin_end": 0.30000000000000004,
            "count": 0
           },
           {
            "bin_start": 0.30000000000000004,
            "bin_end": 0.4,
            "count": 0
           },
           {
            "bin_start": 0.4,
            "bin_end": 0.5,
            "count": 0
           },
           {
            "bin_start": 0.5,
            "bin_end": 0.6000000000000001,
            "count": 0
           },
           {
            "bin_start": 0.6000000000000001,
            "bin_end": 0.7000000000000001,
            "count": 0
           },
           {
            "bin_start": 0.7000000000000001,
            "bin_end": 0.8,
            "count": 0
           },
           {
            "bin_start": 0.8,
            "bin_end": 0.9,
            "count": 0
           },
           {
            "bin_start": 0.9,
            "bin_end": 1,
            "count": 0
           }
          ]
         }
        },
        {
         "name": "DC",
         "dtype": "object",
         "stats": {
          "unique_count": 0,
          "nan_count": 0,
          "categories": []
         }
        },
        {
         "name": "ISI",
         "dtype": "float64",
         "stats": {
          "unique_count": 0,
          "nan_count": 0,
          "min": null,
          "max": null,
          "histogram": [
           {
            "bin_start": 0,
            "bin_end": 0.1,
            "count": 0
           },
           {
            "bin_start": 0.1,
            "bin_end": 0.2,
            "count": 0
           },
           {
            "bin_start": 0.2,
            "bin_end": 0.30000000000000004,
            "count": 0
           },
           {
            "bin_start": 0.30000000000000004,
            "bin_end": 0.4,
            "count": 0
           },
           {
            "bin_start": 0.4,
            "bin_end": 0.5,
            "count": 0
           },
           {
            "bin_start": 0.5,
            "bin_end": 0.6000000000000001,
            "count": 0
           },
           {
            "bin_start": 0.6000000000000001,
            "bin_end": 0.7000000000000001,
            "count": 0
           },
           {
            "bin_start": 0.7000000000000001,
            "bin_end": 0.8,
            "count": 0
           },
           {
            "bin_start": 0.8,
            "bin_end": 0.9,
            "count": 0
           },
           {
            "bin_start": 0.9,
            "bin_end": 1,
            "count": 0
           }
          ]
         }
        },
        {
         "name": "BUI",
         "dtype": "float64",
         "stats": {
          "unique_count": 0,
          "nan_count": 0,
          "min": null,
          "max": null,
          "histogram": [
           {
            "bin_start": 0,
            "bin_end": 0.1,
            "count": 0
           },
           {
            "bin_start": 0.1,
            "bin_end": 0.2,
            "count": 0
           },
           {
            "bin_start": 0.2,
            "bin_end": 0.30000000000000004,
            "count": 0
           },
           {
            "bin_start": 0.30000000000000004,
            "bin_end": 0.4,
            "count": 0
           },
           {
            "bin_start": 0.4,
            "bin_end": 0.5,
            "count": 0
           },
           {
            "bin_start": 0.5,
            "bin_end": 0.6000000000000001,
            "count": 0
           },
           {
            "bin_start": 0.6000000000000001,
            "bin_end": 0.7000000000000001,
            "count": 0
           },
           {
            "bin_start": 0.7000000000000001,
            "bin_end": 0.8,
            "count": 0
           },
           {
            "bin_start": 0.8,
            "bin_end": 0.9,
            "count": 0
           },
           {
            "bin_start": 0.9,
            "bin_end": 1,
            "count": 0
           }
          ]
         }
        },
        {
         "name": "FWI",
         "dtype": "object",
         "stats": {
          "unique_count": 0,
          "nan_count": 0,
          "categories": []
         }
        },
        {
         "name": "Classes",
         "dtype": "object",
         "stats": {
          "unique_count": 0,
          "nan_count": 0,
          "categories": []
         }
        },
        {
         "name": "_deepnote_index_column",
         "dtype": "int64"
        }
       ],
       "rows_top": [],
       "rows_bottom": null
      },
      "text/plain": "Empty DataFrame\nColumns: [day, month, year, Temperature, FFMC, DMC, DC, ISI, BUI, FWI, Classes]\nIndex: []",
      "text/html": "<div>\n<style scoped>\n    .dataframe tbody tr th:only-of-type {\n        vertical-align: middle;\n    }\n\n    .dataframe tbody tr th {\n        vertical-align: top;\n    }\n\n    .dataframe thead th {\n        text-align: right;\n    }\n</style>\n<table border=\"1\" class=\"dataframe\">\n  <thead>\n    <tr style=\"text-align: right;\">\n      <th></th>\n      <th>day</th>\n      <th>month</th>\n      <th>year</th>\n      <th>Temperature</th>\n      <th>FFMC</th>\n      <th>DMC</th>\n      <th>DC</th>\n      <th>ISI</th>\n      <th>BUI</th>\n      <th>FWI</th>\n      <th>Classes</th>\n    </tr>\n  </thead>\n  <tbody>\n  </tbody>\n</table>\n</div>"
     },
     "metadata": {}
    }
   ],
   "execution_count": null
  },
  {
   "cell_type": "code",
   "metadata": {
    "tags": [],
    "cell_id": "00007-60ac9fbd-19d4-4d31-9694-70e02adf947d",
    "deepnote_to_be_reexecuted": false,
    "source_hash": "c74386d9",
    "execution_start": 1635758675404,
    "execution_millis": 68,
    "deepnote_cell_type": "code"
   },
   "source": "data = data.dropna()",
   "outputs": [],
   "execution_count": null
  },
  {
   "cell_type": "code",
   "metadata": {
    "tags": [],
    "cell_id": "00003-14ce52e1-0910-44bb-8189-86a67370f6e9",
    "deepnote_to_be_reexecuted": false,
    "source_hash": "b9a6d702",
    "execution_start": 1635758675643,
    "execution_millis": 151,
    "deepnote_cell_type": "code"
   },
   "source": "data[data['Classes'].notnull()]",
   "outputs": [
    {
     "output_type": "execute_result",
     "execution_count": 9,
     "data": {
      "application/vnd.deepnote.dataframe.v2+json": {
       "row_count": 243,
       "column_count": 11,
       "columns": [
        {
         "name": "day",
         "dtype": "int64",
         "stats": {
          "unique_count": 31,
          "nan_count": 0,
          "min": "1",
          "max": "31",
          "histogram": [
           {
            "bin_start": 1,
            "bin_end": 4,
            "count": 24
           },
           {
            "bin_start": 4,
            "bin_end": 7,
            "count": 24
           },
           {
            "bin_start": 7,
            "bin_end": 10,
            "count": 24
           },
           {
            "bin_start": 10,
            "bin_end": 13,
            "count": 24
           },
           {
            "bin_start": 13,
            "bin_end": 16,
            "count": 23
           },
           {
            "bin_start": 16,
            "bin_end": 19,
            "count": 24
           },
           {
            "bin_start": 19,
            "bin_end": 22,
            "count": 24
           },
           {
            "bin_start": 22,
            "bin_end": 25,
            "count": 24
           },
           {
            "bin_start": 25,
            "bin_end": 28,
            "count": 24
           },
           {
            "bin_start": 28,
            "bin_end": 31,
            "count": 28
           }
          ]
         }
        },
        {
         "name": "month",
         "dtype": "int64",
         "stats": {
          "unique_count": 4,
          "nan_count": 0,
          "min": "6",
          "max": "9",
          "histogram": [
           {
            "bin_start": 6,
            "bin_end": 6.3,
            "count": 60
           },
           {
            "bin_start": 6.3,
            "bin_end": 6.6,
            "count": 0
           },
           {
            "bin_start": 6.6,
            "bin_end": 6.9,
            "count": 0
           },
           {
            "bin_start": 6.9,
            "bin_end": 7.2,
            "count": 61
           },
           {
            "bin_start": 7.2,
            "bin_end": 7.5,
            "count": 0
           },
           {
            "bin_start": 7.5,
            "bin_end": 7.8,
            "count": 0
           },
           {
            "bin_start": 7.8,
            "bin_end": 8.1,
            "count": 62
           },
           {
            "bin_start": 8.1,
            "bin_end": 8.4,
            "count": 0
           },
           {
            "bin_start": 8.4,
            "bin_end": 8.7,
            "count": 0
           },
           {
            "bin_start": 8.7,
            "bin_end": 9,
            "count": 60
           }
          ]
         }
        },
        {
         "name": "year",
         "dtype": "int64",
         "stats": {
          "unique_count": 1,
          "nan_count": 0,
          "min": "2012",
          "max": "2012",
          "histogram": [
           {
            "bin_start": 2011.5,
            "bin_end": 2011.6,
            "count": 0
           },
           {
            "bin_start": 2011.6,
            "bin_end": 2011.7,
            "count": 0
           },
           {
            "bin_start": 2011.7,
            "bin_end": 2011.8,
            "count": 0
           },
           {
            "bin_start": 2011.8,
            "bin_end": 2011.9,
            "count": 0
           },
           {
            "bin_start": 2011.9,
            "bin_end": 2012,
            "count": 0
           },
           {
            "bin_start": 2012,
            "bin_end": 2012.1,
            "count": 243
           },
           {
            "bin_start": 2012.1,
            "bin_end": 2012.2,
            "count": 0
           },
           {
            "bin_start": 2012.2,
            "bin_end": 2012.3,
            "count": 0
           },
           {
            "bin_start": 2012.3,
            "bin_end": 2012.4,
            "count": 0
           },
           {
            "bin_start": 2012.4,
            "bin_end": 2012.5,
            "count": 0
           }
          ]
         }
        },
        {
         "name": "Temperature",
         "dtype": "int64",
         "stats": {
          "unique_count": 19,
          "nan_count": 0,
          "min": "22",
          "max": "42",
          "histogram": [
           {
            "bin_start": 22,
            "bin_end": 24,
            "count": 2
           },
           {
            "bin_start": 24,
            "bin_end": 26,
            "count": 9
           },
           {
            "bin_start": 26,
            "bin_end": 28,
            "count": 13
           },
           {
            "bin_start": 28,
            "bin_end": 30,
            "count": 33
           },
           {
            "bin_start": 30,
            "bin_end": 32,
            "count": 47
           },
           {
            "bin_start": 32,
            "bin_end": 34,
            "count": 44
           },
           {
            "bin_start": 34,
            "bin_end": 36,
            "count": 53
           },
           {
            "bin_start": 36,
            "bin_end": 38,
            "count": 29
           },
           {
            "bin_start": 38,
            "bin_end": 40,
            "count": 9
           },
           {
            "bin_start": 40,
            "bin_end": 42,
            "count": 4
           }
          ]
         }
        },
        {
         "name": "FFMC",
         "dtype": "float64",
         "stats": {
          "unique_count": 173,
          "nan_count": 0,
          "min": "28.6",
          "max": "96.0",
          "histogram": [
           {
            "bin_start": 28.6,
            "bin_end": 35.34,
            "count": 2
           },
           {
            "bin_start": 35.34,
            "bin_end": 42.08,
            "count": 5
           },
           {
            "bin_start": 42.08,
            "bin_end": 48.82,
            "count": 11
           },
           {
            "bin_start": 48.82,
            "bin_end": 55.56,
            "count": 5
           },
           {
            "bin_start": 55.56,
            "bin_end": 62.300000000000004,
            "count": 16
           },
           {
            "bin_start": 62.300000000000004,
            "bin_end": 69.03999999999999,
            "count": 16
           },
           {
            "bin_start": 69.03999999999999,
            "bin_end": 75.78,
            "count": 20
           },
           {
            "bin_start": 75.78,
            "bin_end": 82.52000000000001,
            "count": 42
           },
           {
            "bin_start": 82.52000000000001,
            "bin_end": 89.26,
            "count": 86
           },
           {
            "bin_start": 89.26,
            "bin_end": 96,
            "count": 40
           }
          ]
         }
        },
        {
         "name": "DMC",
         "dtype": "float64",
         "stats": {
          "unique_count": 165,
          "nan_count": 0,
          "min": "0.7",
          "max": "65.9",
          "histogram": [
           {
            "bin_start": 0.7,
            "bin_end": 7.220000000000001,
            "count": 80
           },
           {
            "bin_start": 7.220000000000001,
            "bin_end": 13.74,
            "count": 66
           },
           {
            "bin_start": 13.74,
            "bin_end": 20.26,
            "count": 35
           },
           {
            "bin_start": 20.26,
            "bin_end": 26.78,
            "count": 30
           },
           {
            "bin_start": 26.78,
            "bin_end": 33.300000000000004,
            "count": 11
           },
           {
            "bin_start": 33.300000000000004,
            "bin_end": 39.82000000000001,
            "count": 7
           },
           {
            "bin_start": 39.82000000000001,
            "bin_end": 46.34,
            "count": 6
           },
           {
            "bin_start": 46.34,
            "bin_end": 52.86000000000001,
            "count": 4
           },
           {
            "bin_start": 52.86000000000001,
            "bin_end": 59.38000000000001,
            "count": 2
           },
           {
            "bin_start": 59.38000000000001,
            "bin_end": 65.9,
            "count": 2
           }
          ]
         }
        },
        {
         "name": "DC",
         "dtype": "object",
         "stats": {
          "unique_count": 197,
          "nan_count": 0,
          "categories": [
           {
            "name": "8",
            "count": 5
           },
           {
            "name": "7.6",
            "count": 4
           },
           {
            "name": "195 others",
            "count": 234
           }
          ]
         }
        },
        {
         "name": "ISI",
         "dtype": "float64",
         "stats": {
          "unique_count": 106,
          "nan_count": 0,
          "min": "0.0",
          "max": "19.0",
          "histogram": [
           {
            "bin_start": 0,
            "bin_end": 1.9,
            "count": 80
           },
           {
            "bin_start": 1.9,
            "bin_end": 3.8,
            "count": 44
           },
           {
            "bin_start": 3.8,
            "bin_end": 5.699999999999999,
            "count": 40
           },
           {
            "bin_start": 5.699999999999999,
            "bin_end": 7.6,
            "count": 24
           },
           {
            "bin_start": 7.6,
            "bin_end": 9.5,
            "count": 21
           },
           {
            "bin_start": 9.5,
            "bin_end": 11.399999999999999,
            "count": 15
           },
           {
            "bin_start": 11.399999999999999,
            "bin_end": 13.299999999999999,
            "count": 6
           },
           {
            "bin_start": 13.299999999999999,
            "bin_end": 15.2,
            "count": 5
           },
           {
            "bin_start": 15.2,
            "bin_end": 17.099999999999998,
            "count": 5
           },
           {
            "bin_start": 17.099999999999998,
            "bin_end": 19,
            "count": 3
           }
          ]
         }
        },
        {
         "name": "BUI",
         "dtype": "float64",
         "stats": {
          "unique_count": 173,
          "nan_count": 0,
          "min": "1.1",
          "max": "68.0",
          "histogram": [
           {
            "bin_start": 1.1,
            "bin_end": 7.790000000000001,
            "count": 80
           },
           {
            "bin_start": 7.790000000000001,
            "bin_end": 14.48,
            "count": 57
           },
           {
            "bin_start": 14.48,
            "bin_end": 21.17,
            "count": 35
           },
           {
            "bin_start": 21.17,
            "bin_end": 27.860000000000003,
            "count": 27
           },
           {
            "bin_start": 27.860000000000003,
            "bin_end": 34.550000000000004,
            "count": 14
           },
           {
            "bin_start": 34.550000000000004,
            "bin_end": 41.24,
            "count": 13
           },
           {
            "bin_start": 41.24,
            "bin_end": 47.93000000000001,
            "count": 6
           },
           {
            "bin_start": 47.93000000000001,
            "bin_end": 54.620000000000005,
            "count": 2
           },
           {
            "bin_start": 54.620000000000005,
            "bin_end": 61.31,
            "count": 5
           },
           {
            "bin_start": 61.31,
            "bin_end": 68,
            "count": 4
           }
          ]
         }
        },
        {
         "name": "FWI",
         "dtype": "object",
         "stats": {
          "unique_count": 125,
          "nan_count": 0,
          "categories": [
           {
            "name": "0.4",
            "count": 12
           },
           {
            "name": "0.8",
            "count": 10
           },
           {
            "name": "123 others",
            "count": 221
           }
          ]
         }
        },
        {
         "name": "Classes",
         "dtype": "object",
         "stats": {
          "unique_count": 2,
          "nan_count": 0,
          "categories": [
           {
            "name": "fire",
            "count": 137
           },
           {
            "name": "not fire",
            "count": 106
           }
          ]
         }
        },
        {
         "name": "_deepnote_index_column",
         "dtype": "int64"
        }
       ],
       "rows_top": [
        {
         "day": 1,
         "month": 6,
         "year": 2012,
         "Temperature": 29,
         "FFMC": 65.7,
         "DMC": 3.4,
         "DC": "7.6",
         "ISI": 1.3,
         "BUI": 3.4,
         "FWI": "0.5",
         "Classes": "not fire",
         "_deepnote_index_column": 0
        },
        {
         "day": 2,
         "month": 6,
         "year": 2012,
         "Temperature": 29,
         "FFMC": 64.4,
         "DMC": 4.1,
         "DC": "7.6",
         "ISI": 1,
         "BUI": 3.9,
         "FWI": "0.4",
         "Classes": "not fire",
         "_deepnote_index_column": 1
        },
        {
         "day": 3,
         "month": 6,
         "year": 2012,
         "Temperature": 26,
         "FFMC": 47.1,
         "DMC": 2.5,
         "DC": "7.1",
         "ISI": 0.3,
         "BUI": 2.7,
         "FWI": "0.1",
         "Classes": "not fire",
         "_deepnote_index_column": 2
        },
        {
         "day": 4,
         "month": 6,
         "year": 2012,
         "Temperature": 25,
         "FFMC": 28.6,
         "DMC": 1.3,
         "DC": "6.9",
         "ISI": 0,
         "BUI": 1.7,
         "FWI": "0",
         "Classes": "not fire",
         "_deepnote_index_column": 3
        },
        {
         "day": 5,
         "month": 6,
         "year": 2012,
         "Temperature": 27,
         "FFMC": 64.8,
         "DMC": 3,
         "DC": "14.2",
         "ISI": 1.2,
         "BUI": 3.9,
         "FWI": "0.5",
         "Classes": "not fire",
         "_deepnote_index_column": 4
        },
        {
         "day": 6,
         "month": 6,
         "year": 2012,
         "Temperature": 31,
         "FFMC": 82.6,
         "DMC": 5.8,
         "DC": "22.2",
         "ISI": 3.1,
         "BUI": 7,
         "FWI": "2.5",
         "Classes": "fire",
         "_deepnote_index_column": 5
        },
        {
         "day": 7,
         "month": 6,
         "year": 2012,
         "Temperature": 33,
         "FFMC": 88.2,
         "DMC": 9.9,
         "DC": "30.5",
         "ISI": 6.4,
         "BUI": 10.9,
         "FWI": "7.2",
         "Classes": "fire",
         "_deepnote_index_column": 6
        },
        {
         "day": 8,
         "month": 6,
         "year": 2012,
         "Temperature": 30,
         "FFMC": 86.6,
         "DMC": 12.1,
         "DC": "38.3",
         "ISI": 5.6,
         "BUI": 13.5,
         "FWI": "7.1",
         "Classes": "fire",
         "_deepnote_index_column": 7
        },
        {
         "day": 9,
         "month": 6,
         "year": 2012,
         "Temperature": 25,
         "FFMC": 52.9,
         "DMC": 7.9,
         "DC": "38.8",
         "ISI": 0.4,
         "BUI": 10.5,
         "FWI": "0.3",
         "Classes": "not fire",
         "_deepnote_index_column": 8
        },
        {
         "day": 10,
         "month": 6,
         "year": 2012,
         "Temperature": 28,
         "FFMC": 73.2,
         "DMC": 9.5,
         "DC": "46.3",
         "ISI": 1.3,
         "BUI": 12.6,
         "FWI": "0.9",
         "Classes": "not fire",
         "_deepnote_index_column": 9
        },
        {
         "day": 11,
         "month": 6,
         "year": 2012,
         "Temperature": 31,
         "FFMC": 84.5,
         "DMC": 12.5,
         "DC": "54.3",
         "ISI": 4,
         "BUI": 15.8,
         "FWI": "5.6",
         "Classes": "fire",
         "_deepnote_index_column": 10
        },
        {
         "day": 12,
         "month": 6,
         "year": 2012,
         "Temperature": 26,
         "FFMC": 84,
         "DMC": 13.8,
         "DC": "61.4",
         "ISI": 4.8,
         "BUI": 17.7,
         "FWI": "7.1",
         "Classes": "fire",
         "_deepnote_index_column": 11
        },
        {
         "day": 13,
         "month": 6,
         "year": 2012,
         "Temperature": 27,
         "FFMC": 50,
         "DMC": 6.7,
         "DC": "17",
         "ISI": 0.5,
         "BUI": 6.7,
         "FWI": "0.2",
         "Classes": "not fire",
         "_deepnote_index_column": 12
        },
        {
         "day": 14,
         "month": 6,
         "year": 2012,
         "Temperature": 30,
         "FFMC": 59,
         "DMC": 4.6,
         "DC": "7.8",
         "ISI": 1,
         "BUI": 4.4,
         "FWI": "0.4",
         "Classes": "not fire",
         "_deepnote_index_column": 13
        },
        {
         "day": 15,
         "month": 6,
         "year": 2012,
         "Temperature": 28,
         "FFMC": 49.4,
         "DMC": 3,
         "DC": "7.4",
         "ISI": 0.4,
         "BUI": 3,
         "FWI": "0.1",
         "Classes": "not fire",
         "_deepnote_index_column": 14
        },
        {
         "day": 16,
         "month": 6,
         "year": 2012,
         "Temperature": 29,
         "FFMC": 36.1,
         "DMC": 1.7,
         "DC": "7.6",
         "ISI": 0,
         "BUI": 2.2,
         "FWI": "0",
         "Classes": "not fire",
         "_deepnote_index_column": 15
        },
        {
         "day": 17,
         "month": 6,
         "year": 2012,
         "Temperature": 30,
         "FFMC": 37.3,
         "DMC": 1.1,
         "DC": "7.8",
         "ISI": 0,
         "BUI": 1.6,
         "FWI": "0",
         "Classes": "not fire",
         "_deepnote_index_column": 16
        },
        {
         "day": 18,
         "month": 6,
         "year": 2012,
         "Temperature": 31,
         "FFMC": 56.9,
         "DMC": 1.9,
         "DC": "8",
         "ISI": 0.7,
         "BUI": 2.4,
         "FWI": "0.2",
         "Classes": "not fire",
         "_deepnote_index_column": 17
        },
        {
         "day": 19,
         "month": 6,
         "year": 2012,
         "Temperature": 31,
         "FFMC": 79.9,
         "DMC": 4.5,
         "DC": "16",
         "ISI": 2.5,
         "BUI": 5.3,
         "FWI": "1.4",
         "Classes": "not fire",
         "_deepnote_index_column": 18
        },
        {
         "day": 20,
         "month": 6,
         "year": 2012,
         "Temperature": 30,
         "FFMC": 59.8,
         "DMC": 3.4,
         "DC": "27.1",
         "ISI": 0.9,
         "BUI": 5.1,
         "FWI": "0.4",
         "Classes": "not fire",
         "_deepnote_index_column": 19
        },
        {
         "day": 21,
         "month": 6,
         "year": 2012,
         "Temperature": 30,
         "FFMC": 81,
         "DMC": 6.3,
         "DC": "31.6",
         "ISI": 2.6,
         "BUI": 8.4,
         "FWI": "2.2",
         "Classes": "fire",
         "_deepnote_index_column": 20
        },
        {
         "day": 22,
         "month": 6,
         "year": 2012,
         "Temperature": 31,
         "FFMC": 79.1,
         "DMC": 7,
         "DC": "39.5",
         "ISI": 2.4,
         "BUI": 9.7,
         "FWI": "2.3",
         "Classes": "not fire",
         "_deepnote_index_column": 21
        },
        {
         "day": 23,
         "month": 6,
         "year": 2012,
         "Temperature": 32,
         "FFMC": 81.4,
         "DMC": 8.2,
         "DC": "47.7",
         "ISI": 3.3,
         "BUI": 11.5,
         "FWI": "3.8",
         "Classes": "fire",
         "_deepnote_index_column": 22
        },
        {
         "day": 24,
         "month": 6,
         "year": 2012,
         "Temperature": 32,
         "FFMC": 85.9,
         "DMC": 11.2,
         "DC": "55.8",
         "ISI": 5.6,
         "BUI": 14.9,
         "FWI": "7.5",
         "Classes": "fire",
         "_deepnote_index_column": 23
        },
        {
         "day": 25,
         "month": 6,
         "year": 2012,
         "Temperature": 31,
         "FFMC": 86.7,
         "DMC": 14.2,
         "DC": "63.8",
         "ISI": 5.7,
         "BUI": 18.3,
         "FWI": "8.4",
         "Classes": "fire",
         "_deepnote_index_column": 24
        },
        {
         "day": 26,
         "month": 6,
         "year": 2012,
         "Temperature": 31,
         "FFMC": 86.8,
         "DMC": 17.8,
         "DC": "71.8",
         "ISI": 6.7,
         "BUI": 21.6,
         "FWI": "10.6",
         "Classes": "fire",
         "_deepnote_index_column": 25
        },
        {
         "day": 27,
         "month": 6,
         "year": 2012,
         "Temperature": 34,
         "FFMC": 89,
         "DMC": 21.6,
         "DC": "80.3",
         "ISI": 9.2,
         "BUI": 25.8,
         "FWI": "15",
         "Classes": "fire",
         "_deepnote_index_column": 26
        },
        {
         "day": 28,
         "month": 6,
         "year": 2012,
         "Temperature": 32,
         "FFMC": 89.1,
         "DMC": 25.5,
         "DC": "88.5",
         "ISI": 7.6,
         "BUI": 29.7,
         "FWI": "13.9",
         "Classes": "fire",
         "_deepnote_index_column": 27
        },
        {
         "day": 29,
         "month": 6,
         "year": 2012,
         "Temperature": 32,
         "FFMC": 79.9,
         "DMC": 18.4,
         "DC": "84.4",
         "ISI": 2.2,
         "BUI": 23.8,
         "FWI": "3.9",
         "Classes": "not fire",
         "_deepnote_index_column": 28
        },
        {
         "day": 30,
         "month": 6,
         "year": 2012,
         "Temperature": 33,
         "FFMC": 88.7,
         "DMC": 22.9,
         "DC": "92.8",
         "ISI": 7.2,
         "BUI": 28.3,
         "FWI": "12.9",
         "Classes": "fire",
         "_deepnote_index_column": 29
        },
        {
         "day": 1,
         "month": 7,
         "year": 2012,
         "Temperature": 29,
         "FFMC": 59.9,
         "DMC": 2.5,
         "DC": "8.6",
         "ISI": 1.1,
         "BUI": 2.9,
         "FWI": "0.4",
         "Classes": "not fire",
         "_deepnote_index_column": 30
        },
        {
         "day": 2,
         "month": 7,
         "year": 2012,
         "Temperature": 27,
         "FFMC": 55.7,
         "DMC": 2.4,
         "DC": "8.3",
         "ISI": 0.8,
         "BUI": 2.8,
         "FWI": "0.3",
         "Classes": "not fire",
         "_deepnote_index_column": 31
        },
        {
         "day": 3,
         "month": 7,
         "year": 2012,
         "Temperature": 32,
         "FFMC": 63.1,
         "DMC": 2.6,
         "DC": "9.2",
         "ISI": 1.3,
         "BUI": 3,
         "FWI": "0.5",
         "Classes": "not fire",
         "_deepnote_index_column": 32
        },
        {
         "day": 4,
         "month": 7,
         "year": 2012,
         "Temperature": 33,
         "FFMC": 80.1,
         "DMC": 4.6,
         "DC": "18.5",
         "ISI": 2.7,
         "BUI": 5.7,
         "FWI": "1.7",
         "Classes": "not fire",
         "_deepnote_index_column": 33
        },
        {
         "day": 5,
         "month": 7,
         "year": 2012,
         "Temperature": 33,
         "FFMC": 85.9,
         "DMC": 7.6,
         "DC": "27.9",
         "ISI": 4.8,
         "BUI": 9.1,
         "FWI": "4.9",
         "Classes": "fire",
         "_deepnote_index_column": 34
        },
        {
         "day": 6,
         "month": 7,
         "year": 2012,
         "Temperature": 32,
         "FFMC": 87,
         "DMC": 10.9,
         "DC": "37",
         "ISI": 5.6,
         "BUI": 12.5,
         "FWI": "6.8",
         "Classes": "fire",
         "_deepnote_index_column": 35
        },
        {
         "day": 7,
         "month": 7,
         "year": 2012,
         "Temperature": 35,
         "FFMC": 80,
         "DMC": 9.7,
         "DC": "40.4",
         "ISI": 2.8,
         "BUI": 12.1,
         "FWI": "3.2",
         "Classes": "not fire",
         "_deepnote_index_column": 36
        },
        {
         "day": 8,
         "month": 7,
         "year": 2012,
         "Temperature": 33,
         "FFMC": 85.6,
         "DMC": 12.5,
         "DC": "49.8",
         "ISI": 6,
         "BUI": 15.4,
         "FWI": "8",
         "Classes": "fire",
         "_deepnote_index_column": 37
        },
        {
         "day": 9,
         "month": 7,
         "year": 2012,
         "Temperature": 32,
         "FFMC": 66.6,
         "DMC": 7.7,
         "DC": "9.2",
         "ISI": 1.1,
         "BUI": 7.4,
         "FWI": "0.6",
         "Classes": "not fire",
         "_deepnote_index_column": 38
        },
        {
         "day": 10,
         "month": 7,
         "year": 2012,
         "Temperature": 33,
         "FFMC": 66.6,
         "DMC": 6,
         "DC": "9.3",
         "ISI": 1.1,
         "BUI": 5.8,
         "FWI": "0.5",
         "Classes": "not fire",
         "_deepnote_index_column": 39
        },
        {
         "day": 11,
         "month": 7,
         "year": 2012,
         "Temperature": 33,
         "FFMC": 81.1,
         "DMC": 8.1,
         "DC": "18.7",
         "ISI": 2.6,
         "BUI": 8.1,
         "FWI": "2.2",
         "Classes": "not fire",
         "_deepnote_index_column": 40
        },
        {
         "day": 12,
         "month": 7,
         "year": 2012,
         "Temperature": 31,
         "FFMC": 75.1,
         "DMC": 7.9,
         "DC": "27.7",
         "ISI": 1.5,
         "BUI": 9.2,
         "FWI": "0.9",
         "Classes": "not fire",
         "_deepnote_index_column": 41
        },
        {
         "day": 13,
         "month": 7,
         "year": 2012,
         "Temperature": 34,
         "FFMC": 81.8,
         "DMC": 9.7,
         "DC": "37.2",
         "ISI": 3,
         "BUI": 11.7,
         "FWI": "3.4",
         "Classes": "not fire",
         "_deepnote_index_column": 42
        },
        {
         "day": 14,
         "month": 7,
         "year": 2012,
         "Temperature": 34,
         "FFMC": 73.9,
         "DMC": 7.8,
         "DC": "22.9",
         "ISI": 1.4,
         "BUI": 8.4,
         "FWI": "0.8",
         "Classes": "not fire",
         "_deepnote_index_column": 43
        },
        {
         "day": 15,
         "month": 7,
         "year": 2012,
         "Temperature": 30,
         "FFMC": 60.7,
         "DMC": 5.2,
         "DC": "17",
         "ISI": 1.1,
         "BUI": 5.9,
         "FWI": "0.5",
         "Classes": "not fire",
         "_deepnote_index_column": 44
        }
       ],
       "rows_bottom": [
        {
         "day": 17,
         "month": 8,
         "year": 2012,
         "Temperature": 42,
         "FFMC": 96,
         "DMC": 30.3,
         "DC": "76.4",
         "ISI": 15.7,
         "BUI": 30.4,
         "FWI": "24",
         "Classes": "fire",
         "_deepnote_index_column": 199
        },
        {
         "day": 18,
         "month": 8,
         "year": 2012,
         "Temperature": 37,
         "FFMC": 94.3,
         "DMC": 35.9,
         "DC": "86.8",
         "ISI": 16,
         "BUI": 35.9,
         "FWI": "26.3",
         "Classes": "fire",
         "_deepnote_index_column": 200
        },
        {
         "day": 19,
         "month": 8,
         "year": 2012,
         "Temperature": 35,
         "FFMC": 82.7,
         "DMC": 32.7,
         "DC": "96.8",
         "ISI": 3.3,
         "BUI": 35.5,
         "FWI": "7.7",
         "Classes": "fire",
         "_deepnote_index_column": 201
        },
        {
         "day": 20,
         "month": 8,
         "year": 2012,
         "Temperature": 36,
         "FFMC": 83.7,
         "DMC": 34.4,
         "DC": "107",
         "ISI": 3.8,
         "BUI": 38.1,
         "FWI": "9",
         "Classes": "fire",
         "_deepnote_index_column": 202
        },
        {
         "day": 21,
         "month": 8,
         "year": 2012,
         "Temperature": 36,
         "FFMC": 86,
         "DMC": 36.9,
         "DC": "117.1",
         "ISI": 5.1,
         "BUI": 41.3,
         "FWI": "12.2",
         "Classes": "fire",
         "_deepnote_index_column": 203
        },
        {
         "day": 22,
         "month": 8,
         "year": 2012,
         "Temperature": 37,
         "FFMC": 89.5,
         "DMC": 41.1,
         "DC": "127.5",
         "ISI": 8,
         "BUI": 45.5,
         "FWI": "18.1",
         "Classes": "fire",
         "_deepnote_index_column": 204
        },
        {
         "day": 23,
         "month": 8,
         "year": 2012,
         "Temperature": 36,
         "FFMC": 91.2,
         "DMC": 46.1,
         "DC": "137.7",
         "ISI": 11.5,
         "BUI": 50.2,
         "FWI": "24.5",
         "Classes": "fire",
         "_deepnote_index_column": 205
        },
        {
         "day": 24,
         "month": 8,
         "year": 2012,
         "Temperature": 35,
         "FFMC": 92.1,
         "DMC": 51.3,
         "DC": "147.7",
         "ISI": 12.2,
         "BUI": 54.9,
         "FWI": "26.9",
         "Classes": "fire",
         "_deepnote_index_column": 206
        },
        {
         "day": 25,
         "month": 8,
         "year": 2012,
         "Temperature": 34,
         "FFMC": 92.1,
         "DMC": 56.3,
         "DC": "157.5",
         "ISI": 14.3,
         "BUI": 59.5,
         "FWI": "31.1",
         "Classes": "fire",
         "_deepnote_index_column": 207
        },
        {
         "day": 26,
         "month": 8,
         "year": 2012,
         "Temperature": 33,
         "FFMC": 92.2,
         "DMC": 61.3,
         "DC": "167.2",
         "ISI": 13.1,
         "BUI": 64,
         "FWI": "30.3",
         "Classes": "fire",
         "_deepnote_index_column": 208
        },
        {
         "day": 27,
         "month": 8,
         "year": 2012,
         "Temperature": 36,
         "FFMC": 91,
         "DMC": 65.9,
         "DC": "177.3",
         "ISI": 10,
         "BUI": 68,
         "FWI": "26.1",
         "Classes": "fire",
         "_deepnote_index_column": 209
        },
        {
         "day": 28,
         "month": 8,
         "year": 2012,
         "Temperature": 35,
         "FFMC": 79.2,
         "DMC": 37,
         "DC": "166",
         "ISI": 2.1,
         "BUI": 30.6,
         "FWI": "6.1",
         "Classes": "not fire",
         "_deepnote_index_column": 210
        },
        {
         "day": 29,
         "month": 8,
         "year": 2012,
         "Temperature": 35,
         "FFMC": 80.2,
         "DMC": 20.7,
         "DC": "149.2",
         "ISI": 2.7,
         "BUI": 30.6,
         "FWI": "5.9",
         "Classes": "fire",
         "_deepnote_index_column": 211
        },
        {
         "day": 30,
         "month": 8,
         "year": 2012,
         "Temperature": 34,
         "FFMC": 89.2,
         "DMC": 24.8,
         "DC": "159.1",
         "ISI": 8.1,
         "BUI": 35.7,
         "FWI": "16",
         "Classes": "fire",
         "_deepnote_index_column": 212
        },
        {
         "day": 31,
         "month": 8,
         "year": 2012,
         "Temperature": 30,
         "FFMC": 89.1,
         "DMC": 27.8,
         "DC": "168.2",
         "ISI": 9.8,
         "BUI": 39.3,
         "FWI": "19.4",
         "Classes": "fire",
         "_deepnote_index_column": 213
        },
        {
         "day": 1,
         "month": 9,
         "year": 2012,
         "Temperature": 29,
         "FFMC": 37.9,
         "DMC": 0.9,
         "DC": "8.2",
         "ISI": 0.1,
         "BUI": 1.4,
         "FWI": "0",
         "Classes": "not fire",
         "_deepnote_index_column": 214
        },
        {
         "day": 2,
         "month": 9,
         "year": 2012,
         "Temperature": 28,
         "FFMC": 75.4,
         "DMC": 2.9,
         "DC": "16.3",
         "ISI": 2,
         "BUI": 4,
         "FWI": "0.8",
         "Classes": "not fire",
         "_deepnote_index_column": 215
        },
        {
         "day": 3,
         "month": 9,
         "year": 2012,
         "Temperature": 28,
         "FFMC": 82.2,
         "DMC": 4.4,
         "DC": "24.3",
         "ISI": 3.3,
         "BUI": 6,
         "FWI": "2.5",
         "Classes": "fire",
         "_deepnote_index_column": 216
        },
        {
         "day": 4,
         "month": 9,
         "year": 2012,
         "Temperature": 30,
         "FFMC": 73.5,
         "DMC": 4.1,
         "DC": "26.6",
         "ISI": 1.5,
         "BUI": 6,
         "FWI": "0.7",
         "Classes": "not fire",
         "_deepnote_index_column": 217
        },
        {
         "day": 5,
         "month": 9,
         "year": 2012,
         "Temperature": 30,
         "FFMC": 66.1,
         "DMC": 4,
         "DC": "8.4",
         "ISI": 1,
         "BUI": 3.9,
         "FWI": "0.4",
         "Classes": "not fire",
         "_deepnote_index_column": 218
        },
        {
         "day": 6,
         "month": 9,
         "year": 2012,
         "Temperature": 34,
         "FFMC": 64.5,
         "DMC": 3.3,
         "DC": "9.1",
         "ISI": 1,
         "BUI": 3.5,
         "FWI": "0.4",
         "Classes": "not fire",
         "_deepnote_index_column": 219
        },
        {
         "day": 7,
         "month": 9,
         "year": 2012,
         "Temperature": 31,
         "FFMC": 83.3,
         "DMC": 5.8,
         "DC": "17.7",
         "ISI": 3.8,
         "BUI": 6.4,
         "FWI": "3.2",
         "Classes": "fire",
         "_deepnote_index_column": 220
        },
        {
         "day": 8,
         "month": 9,
         "year": 2012,
         "Temperature": 30,
         "FFMC": 82.5,
         "DMC": 6.6,
         "DC": "26.1",
         "ISI": 3,
         "BUI": 8.1,
         "FWI": "2.7",
         "Classes": "fire",
         "_deepnote_index_column": 221
        },
        {
         "day": 9,
         "month": 9,
         "year": 2012,
         "Temperature": 30,
         "FFMC": 83.1,
         "DMC": 7.9,
         "DC": "34.5",
         "ISI": 3.5,
         "BUI": 10,
         "FWI": "3.7",
         "Classes": "fire",
         "_deepnote_index_column": 222
        },
        {
         "day": 10,
         "month": 9,
         "year": 2012,
         "Temperature": 29,
         "FFMC": 59.5,
         "DMC": 4.7,
         "DC": "8.2",
         "ISI": 0.8,
         "BUI": 4.6,
         "FWI": "0.3",
         "Classes": "not fire",
         "_deepnote_index_column": 223
        },
        {
         "day": 11,
         "month": 9,
         "year": 2012,
         "Temperature": 30,
         "FFMC": 79.2,
         "DMC": 6.5,
         "DC": "16.6",
         "ISI": 2.1,
         "BUI": 6.6,
         "FWI": "1.2",
         "Classes": "not fire",
         "_deepnote_index_column": 224
        },
        {
         "day": 12,
         "month": 9,
         "year": 2012,
         "Temperature": 31,
         "FFMC": 84.2,
         "DMC": 8.3,
         "DC": "25.2",
         "ISI": 3.8,
         "BUI": 9.1,
         "FWI": "3.9",
         "Classes": "fire",
         "_deepnote_index_column": 225
        },
        {
         "day": 13,
         "month": 9,
         "year": 2012,
         "Temperature": 29,
         "FFMC": 88.6,
         "DMC": 11.5,
         "DC": "33.4",
         "ISI": 9.1,
         "BUI": 12.4,
         "FWI": "10.3",
         "Classes": "fire",
         "_deepnote_index_column": 226
        },
        {
         "day": 14,
         "month": 9,
         "year": 2012,
         "Temperature": 28,
         "FFMC": 84.6,
         "DMC": 12.6,
         "DC": "41.5",
         "ISI": 4.3,
         "BUI": 14.3,
         "FWI": "5.7",
         "Classes": "fire",
         "_deepnote_index_column": 227
        },
        {
         "day": 15,
         "month": 9,
         "year": 2012,
         "Temperature": 32,
         "FFMC": 88.7,
         "DMC": 16,
         "DC": "50.2",
         "ISI": 6.9,
         "BUI": 17.8,
         "FWI": "9.8",
         "Classes": "fire",
         "_deepnote_index_column": 228
        },
        {
         "day": 16,
         "month": 9,
         "year": 2012,
         "Temperature": 33,
         "FFMC": 93.9,
         "DMC": 21.2,
         "DC": "59.2",
         "ISI": 14.2,
         "BUI": 22.4,
         "FWI": "19.3",
         "Classes": "fire",
         "_deepnote_index_column": 229
        },
        {
         "day": 17,
         "month": 9,
         "year": 2012,
         "Temperature": 34,
         "FFMC": 92.5,
         "DMC": 25.2,
         "DC": "63.3",
         "ISI": 11.2,
         "BUI": 26.2,
         "FWI": "17.5",
         "Classes": "fire",
         "_deepnote_index_column": 230
        },
        {
         "day": 18,
         "month": 9,
         "year": 2012,
         "Temperature": 36,
         "FFMC": 90.6,
         "DMC": 25.8,
         "DC": "77.8",
         "ISI": 9,
         "BUI": 28.2,
         "FWI": "15.4",
         "Classes": "fire",
         "_deepnote_index_column": 231
        },
        {
         "day": 19,
         "month": 9,
         "year": 2012,
         "Temperature": 29,
         "FFMC": 83.9,
         "DMC": 24.9,
         "DC": "86",
         "ISI": 2.7,
         "BUI": 28.9,
         "FWI": "5.6",
         "Classes": "fire",
         "_deepnote_index_column": 232
        },
        {
         "day": 20,
         "month": 9,
         "year": 2012,
         "Temperature": 34,
         "FFMC": 79.5,
         "DMC": 18.7,
         "DC": "88",
         "ISI": 2.1,
         "BUI": 24.4,
         "FWI": "3.8",
         "Classes": "not fire",
         "_deepnote_index_column": 233
        },
        {
         "day": 21,
         "month": 9,
         "year": 2012,
         "Temperature": 35,
         "FFMC": 92.2,
         "DMC": 23.6,
         "DC": "97.3",
         "ISI": 13.8,
         "BUI": 29.4,
         "FWI": "21.6",
         "Classes": "fire",
         "_deepnote_index_column": 234
        },
        {
         "day": 22,
         "month": 9,
         "year": 2012,
         "Temperature": 33,
         "FFMC": 88.9,
         "DMC": 26.1,
         "DC": "106.3",
         "ISI": 7.1,
         "BUI": 32.4,
         "FWI": "13.7",
         "Classes": "fire",
         "_deepnote_index_column": 235
        },
        {
         "day": 23,
         "month": 9,
         "year": 2012,
         "Temperature": 35,
         "FFMC": 89,
         "DMC": 29.4,
         "DC": "115.6",
         "ISI": 7.5,
         "BUI": 36,
         "FWI": "15.2",
         "Classes": "fire",
         "_deepnote_index_column": 236
        },
        {
         "day": 24,
         "month": 9,
         "year": 2012,
         "Temperature": 26,
         "FFMC": 61.3,
         "DMC": 11.9,
         "DC": "28.1",
         "ISI": 0.6,
         "BUI": 11.9,
         "FWI": "0.4",
         "Classes": "not fire",
         "_deepnote_index_column": 237
        },
        {
         "day": 25,
         "month": 9,
         "year": 2012,
         "Temperature": 28,
         "FFMC": 79.9,
         "DMC": 13.8,
         "DC": "36.1",
         "ISI": 2.4,
         "BUI": 14.1,
         "FWI": "3",
         "Classes": "not fire",
         "_deepnote_index_column": 238
        },
        {
         "day": 26,
         "month": 9,
         "year": 2012,
         "Temperature": 30,
         "FFMC": 85.4,
         "DMC": 16,
         "DC": "44.5",
         "ISI": 4.5,
         "BUI": 16.9,
         "FWI": "6.5",
         "Classes": "fire",
         "_deepnote_index_column": 239
        },
        {
         "day": 27,
         "month": 9,
         "year": 2012,
         "Temperature": 28,
         "FFMC": 41.1,
         "DMC": 6.5,
         "DC": "8",
         "ISI": 0.1,
         "BUI": 6.2,
         "FWI": "0",
         "Classes": "not fire",
         "_deepnote_index_column": 240
        },
        {
         "day": 28,
         "month": 9,
         "year": 2012,
         "Temperature": 27,
         "FFMC": 45.9,
         "DMC": 3.5,
         "DC": "7.9",
         "ISI": 0.4,
         "BUI": 3.4,
         "FWI": "0.2",
         "Classes": "not fire",
         "_deepnote_index_column": 241
        },
        {
         "day": 29,
         "month": 9,
         "year": 2012,
         "Temperature": 24,
         "FFMC": 79.7,
         "DMC": 4.3,
         "DC": "15.2",
         "ISI": 1.7,
         "BUI": 5.1,
         "FWI": "0.7",
         "Classes": "not fire",
         "_deepnote_index_column": 242
        },
        {
         "day": 30,
         "month": 9,
         "year": 2012,
         "Temperature": 24,
         "FFMC": 67.3,
         "DMC": 3.8,
         "DC": "16.5",
         "ISI": 1.2,
         "BUI": 4.8,
         "FWI": "0.5",
         "Classes": "not fire",
         "_deepnote_index_column": 243
        }
       ]
      },
      "text/plain": "     day  month  year  Temperature  FFMC   DMC    DC  ISI   BUI  FWI   Classes\n0      1      6  2012           29  65.7   3.4   7.6  1.3   3.4  0.5  not fire\n1      2      6  2012           29  64.4   4.1   7.6  1.0   3.9  0.4  not fire\n2      3      6  2012           26  47.1   2.5   7.1  0.3   2.7  0.1  not fire\n3      4      6  2012           25  28.6   1.3   6.9  0.0   1.7    0  not fire\n4      5      6  2012           27  64.8   3.0  14.2  1.2   3.9  0.5  not fire\n..   ...    ...   ...          ...   ...   ...   ...  ...   ...  ...       ...\n239   26      9  2012           30  85.4  16.0  44.5  4.5  16.9  6.5      fire\n240   27      9  2012           28  41.1   6.5     8  0.1   6.2    0  not fire\n241   28      9  2012           27  45.9   3.5   7.9  0.4   3.4  0.2  not fire\n242   29      9  2012           24  79.7   4.3  15.2  1.7   5.1  0.7  not fire\n243   30      9  2012           24  67.3   3.8  16.5  1.2   4.8  0.5  not fire\n\n[243 rows x 11 columns]",
      "text/html": "<div>\n<style scoped>\n    .dataframe tbody tr th:only-of-type {\n        vertical-align: middle;\n    }\n\n    .dataframe tbody tr th {\n        vertical-align: top;\n    }\n\n    .dataframe thead th {\n        text-align: right;\n    }\n</style>\n<table border=\"1\" class=\"dataframe\">\n  <thead>\n    <tr style=\"text-align: right;\">\n      <th></th>\n      <th>day</th>\n      <th>month</th>\n      <th>year</th>\n      <th>Temperature</th>\n      <th>FFMC</th>\n      <th>DMC</th>\n      <th>DC</th>\n      <th>ISI</th>\n      <th>BUI</th>\n      <th>FWI</th>\n      <th>Classes</th>\n    </tr>\n  </thead>\n  <tbody>\n    <tr>\n      <th>0</th>\n      <td>1</td>\n      <td>6</td>\n      <td>2012</td>\n      <td>29</td>\n      <td>65.7</td>\n      <td>3.4</td>\n      <td>7.6</td>\n      <td>1.3</td>\n      <td>3.4</td>\n      <td>0.5</td>\n      <td>not fire</td>\n    </tr>\n    <tr>\n      <th>1</th>\n      <td>2</td>\n      <td>6</td>\n      <td>2012</td>\n      <td>29</td>\n      <td>64.4</td>\n      <td>4.1</td>\n      <td>7.6</td>\n      <td>1.0</td>\n      <td>3.9</td>\n      <td>0.4</td>\n      <td>not fire</td>\n    </tr>\n    <tr>\n      <th>2</th>\n      <td>3</td>\n      <td>6</td>\n      <td>2012</td>\n      <td>26</td>\n      <td>47.1</td>\n      <td>2.5</td>\n      <td>7.1</td>\n      <td>0.3</td>\n      <td>2.7</td>\n      <td>0.1</td>\n      <td>not fire</td>\n    </tr>\n    <tr>\n      <th>3</th>\n      <td>4</td>\n      <td>6</td>\n      <td>2012</td>\n      <td>25</td>\n      <td>28.6</td>\n      <td>1.3</td>\n      <td>6.9</td>\n      <td>0.0</td>\n      <td>1.7</td>\n      <td>0</td>\n      <td>not fire</td>\n    </tr>\n    <tr>\n      <th>4</th>\n      <td>5</td>\n      <td>6</td>\n      <td>2012</td>\n      <td>27</td>\n      <td>64.8</td>\n      <td>3.0</td>\n      <td>14.2</td>\n      <td>1.2</td>\n      <td>3.9</td>\n      <td>0.5</td>\n      <td>not fire</td>\n    </tr>\n    <tr>\n      <th>...</th>\n      <td>...</td>\n      <td>...</td>\n      <td>...</td>\n      <td>...</td>\n      <td>...</td>\n      <td>...</td>\n      <td>...</td>\n      <td>...</td>\n      <td>...</td>\n      <td>...</td>\n      <td>...</td>\n    </tr>\n    <tr>\n      <th>239</th>\n      <td>26</td>\n      <td>9</td>\n      <td>2012</td>\n      <td>30</td>\n      <td>85.4</td>\n      <td>16.0</td>\n      <td>44.5</td>\n      <td>4.5</td>\n      <td>16.9</td>\n      <td>6.5</td>\n      <td>fire</td>\n    </tr>\n    <tr>\n      <th>240</th>\n      <td>27</td>\n      <td>9</td>\n      <td>2012</td>\n      <td>28</td>\n      <td>41.1</td>\n      <td>6.5</td>\n      <td>8</td>\n      <td>0.1</td>\n      <td>6.2</td>\n      <td>0</td>\n      <td>not fire</td>\n    </tr>\n    <tr>\n      <th>241</th>\n      <td>28</td>\n      <td>9</td>\n      <td>2012</td>\n      <td>27</td>\n      <td>45.9</td>\n      <td>3.5</td>\n      <td>7.9</td>\n      <td>0.4</td>\n      <td>3.4</td>\n      <td>0.2</td>\n      <td>not fire</td>\n    </tr>\n    <tr>\n      <th>242</th>\n      <td>29</td>\n      <td>9</td>\n      <td>2012</td>\n      <td>24</td>\n      <td>79.7</td>\n      <td>4.3</td>\n      <td>15.2</td>\n      <td>1.7</td>\n      <td>5.1</td>\n      <td>0.7</td>\n      <td>not fire</td>\n    </tr>\n    <tr>\n      <th>243</th>\n      <td>30</td>\n      <td>9</td>\n      <td>2012</td>\n      <td>24</td>\n      <td>67.3</td>\n      <td>3.8</td>\n      <td>16.5</td>\n      <td>1.2</td>\n      <td>4.8</td>\n      <td>0.5</td>\n      <td>not fire</td>\n    </tr>\n  </tbody>\n</table>\n<p>243 rows × 11 columns</p>\n</div>"
     },
     "metadata": {}
    }
   ],
   "execution_count": null
  },
  {
   "cell_type": "code",
   "metadata": {
    "tags": [],
    "cell_id": "00009-718b1b75-3d6d-46e2-af97-f78117814969",
    "deepnote_to_be_reexecuted": false,
    "source_hash": "89d1a00",
    "execution_start": 1635758675867,
    "execution_millis": 3,
    "deepnote_cell_type": "code"
   },
   "source": "data['DC'] = data['DC'].astype('float64')",
   "outputs": [
    {
     "name": "stderr",
     "text": "/shared-libs/python3.7/py-core/lib/python3.7/site-packages/ipykernel_launcher.py:1: SettingWithCopyWarning: \nA value is trying to be set on a copy of a slice from a DataFrame.\nTry using .loc[row_indexer,col_indexer] = value instead\n\nSee the caveats in the documentation: https://pandas.pydata.org/pandas-docs/stable/user_guide/indexing.html#returning-a-view-versus-a-copy\n  \"\"\"Entry point for launching an IPython kernel.\n",
     "output_type": "stream"
    }
   ],
   "execution_count": null
  },
  {
   "cell_type": "code",
   "metadata": {
    "tags": [],
    "cell_id": "00010-16f6846e-6faf-4ae4-a650-5866ee497acf",
    "deepnote_to_be_reexecuted": false,
    "source_hash": "f51dc6e4",
    "execution_start": 1635758676123,
    "execution_millis": 2,
    "deepnote_cell_type": "code"
   },
   "source": "data['FWI'] = data['FWI'].astype('float64')",
   "outputs": [
    {
     "name": "stderr",
     "text": "/shared-libs/python3.7/py-core/lib/python3.7/site-packages/ipykernel_launcher.py:1: SettingWithCopyWarning: \nA value is trying to be set on a copy of a slice from a DataFrame.\nTry using .loc[row_indexer,col_indexer] = value instead\n\nSee the caveats in the documentation: https://pandas.pydata.org/pandas-docs/stable/user_guide/indexing.html#returning-a-view-versus-a-copy\n  \"\"\"Entry point for launching an IPython kernel.\n",
     "output_type": "stream"
    }
   ],
   "execution_count": null
  },
  {
   "cell_type": "code",
   "metadata": {
    "tags": [],
    "cell_id": "00003-c51de6bc-c54c-4822-b0a2-24b67144250c",
    "deepnote_to_be_reexecuted": false,
    "source_hash": "af565e11",
    "execution_start": 1635758677245,
    "execution_millis": 2,
    "deepnote_cell_type": "code"
   },
   "source": "# checking DC\nfor i in data['FWI']:\n    try:\n        k = float(i)\n\n    except Exception as e:\n        print(i, e)",
   "outputs": [],
   "execution_count": null
  },
  {
   "cell_type": "code",
   "metadata": {
    "tags": [],
    "cell_id": "00012-0c570ef5-0a26-4717-92ea-01d3c9796c2a",
    "deepnote_to_be_reexecuted": false,
    "source_hash": "e6928a8f",
    "execution_start": 1635758677405,
    "execution_millis": 126,
    "deepnote_cell_type": "code"
   },
   "source": "data",
   "outputs": [
    {
     "output_type": "execute_result",
     "execution_count": 13,
     "data": {
      "application/vnd.deepnote.dataframe.v2+json": {
       "row_count": 243,
       "column_count": 11,
       "columns": [
        {
         "name": "day",
         "dtype": "int64",
         "stats": {
          "unique_count": 31,
          "nan_count": 0,
          "min": "1",
          "max": "31",
          "histogram": [
           {
            "bin_start": 1,
            "bin_end": 4,
            "count": 24
           },
           {
            "bin_start": 4,
            "bin_end": 7,
            "count": 24
           },
           {
            "bin_start": 7,
            "bin_end": 10,
            "count": 24
           },
           {
            "bin_start": 10,
            "bin_end": 13,
            "count": 24
           },
           {
            "bin_start": 13,
            "bin_end": 16,
            "count": 23
           },
           {
            "bin_start": 16,
            "bin_end": 19,
            "count": 24
           },
           {
            "bin_start": 19,
            "bin_end": 22,
            "count": 24
           },
           {
            "bin_start": 22,
            "bin_end": 25,
            "count": 24
           },
           {
            "bin_start": 25,
            "bin_end": 28,
            "count": 24
           },
           {
            "bin_start": 28,
            "bin_end": 31,
            "count": 28
           }
          ]
         }
        },
        {
         "name": "month",
         "dtype": "int64",
         "stats": {
          "unique_count": 4,
          "nan_count": 0,
          "min": "6",
          "max": "9",
          "histogram": [
           {
            "bin_start": 6,
            "bin_end": 6.3,
            "count": 60
           },
           {
            "bin_start": 6.3,
            "bin_end": 6.6,
            "count": 0
           },
           {
            "bin_start": 6.6,
            "bin_end": 6.9,
            "count": 0
           },
           {
            "bin_start": 6.9,
            "bin_end": 7.2,
            "count": 61
           },
           {
            "bin_start": 7.2,
            "bin_end": 7.5,
            "count": 0
           },
           {
            "bin_start": 7.5,
            "bin_end": 7.8,
            "count": 0
           },
           {
            "bin_start": 7.8,
            "bin_end": 8.1,
            "count": 62
           },
           {
            "bin_start": 8.1,
            "bin_end": 8.4,
            "count": 0
           },
           {
            "bin_start": 8.4,
            "bin_end": 8.7,
            "count": 0
           },
           {
            "bin_start": 8.7,
            "bin_end": 9,
            "count": 60
           }
          ]
         }
        },
        {
         "name": "year",
         "dtype": "int64",
         "stats": {
          "unique_count": 1,
          "nan_count": 0,
          "min": "2012",
          "max": "2012",
          "histogram": [
           {
            "bin_start": 2011.5,
            "bin_end": 2011.6,
            "count": 0
           },
           {
            "bin_start": 2011.6,
            "bin_end": 2011.7,
            "count": 0
           },
           {
            "bin_start": 2011.7,
            "bin_end": 2011.8,
            "count": 0
           },
           {
            "bin_start": 2011.8,
            "bin_end": 2011.9,
            "count": 0
           },
           {
            "bin_start": 2011.9,
            "bin_end": 2012,
            "count": 0
           },
           {
            "bin_start": 2012,
            "bin_end": 2012.1,
            "count": 243
           },
           {
            "bin_start": 2012.1,
            "bin_end": 2012.2,
            "count": 0
           },
           {
            "bin_start": 2012.2,
            "bin_end": 2012.3,
            "count": 0
           },
           {
            "bin_start": 2012.3,
            "bin_end": 2012.4,
            "count": 0
           },
           {
            "bin_start": 2012.4,
            "bin_end": 2012.5,
            "count": 0
           }
          ]
         }
        },
        {
         "name": "Temperature",
         "dtype": "int64",
         "stats": {
          "unique_count": 19,
          "nan_count": 0,
          "min": "22",
          "max": "42",
          "histogram": [
           {
            "bin_start": 22,
            "bin_end": 24,
            "count": 2
           },
           {
            "bin_start": 24,
            "bin_end": 26,
            "count": 9
           },
           {
            "bin_start": 26,
            "bin_end": 28,
            "count": 13
           },
           {
            "bin_start": 28,
            "bin_end": 30,
            "count": 33
           },
           {
            "bin_start": 30,
            "bin_end": 32,
            "count": 47
           },
           {
            "bin_start": 32,
            "bin_end": 34,
            "count": 44
           },
           {
            "bin_start": 34,
            "bin_end": 36,
            "count": 53
           },
           {
            "bin_start": 36,
            "bin_end": 38,
            "count": 29
           },
           {
            "bin_start": 38,
            "bin_end": 40,
            "count": 9
           },
           {
            "bin_start": 40,
            "bin_end": 42,
            "count": 4
           }
          ]
         }
        },
        {
         "name": "FFMC",
         "dtype": "float64",
         "stats": {
          "unique_count": 173,
          "nan_count": 0,
          "min": "28.6",
          "max": "96.0",
          "histogram": [
           {
            "bin_start": 28.6,
            "bin_end": 35.34,
            "count": 2
           },
           {
            "bin_start": 35.34,
            "bin_end": 42.08,
            "count": 5
           },
           {
            "bin_start": 42.08,
            "bin_end": 48.82,
            "count": 11
           },
           {
            "bin_start": 48.82,
            "bin_end": 55.56,
            "count": 5
           },
           {
            "bin_start": 55.56,
            "bin_end": 62.300000000000004,
            "count": 16
           },
           {
            "bin_start": 62.300000000000004,
            "bin_end": 69.03999999999999,
            "count": 16
           },
           {
            "bin_start": 69.03999999999999,
            "bin_end": 75.78,
            "count": 20
           },
           {
            "bin_start": 75.78,
            "bin_end": 82.52000000000001,
            "count": 42
           },
           {
            "bin_start": 82.52000000000001,
            "bin_end": 89.26,
            "count": 86
           },
           {
            "bin_start": 89.26,
            "bin_end": 96,
            "count": 40
           }
          ]
         }
        },
        {
         "name": "DMC",
         "dtype": "float64",
         "stats": {
          "unique_count": 165,
          "nan_count": 0,
          "min": "0.7",
          "max": "65.9",
          "histogram": [
           {
            "bin_start": 0.7,
            "bin_end": 7.220000000000001,
            "count": 80
           },
           {
            "bin_start": 7.220000000000001,
            "bin_end": 13.74,
            "count": 66
           },
           {
            "bin_start": 13.74,
            "bin_end": 20.26,
            "count": 35
           },
           {
            "bin_start": 20.26,
            "bin_end": 26.78,
            "count": 30
           },
           {
            "bin_start": 26.78,
            "bin_end": 33.300000000000004,
            "count": 11
           },
           {
            "bin_start": 33.300000000000004,
            "bin_end": 39.82000000000001,
            "count": 7
           },
           {
            "bin_start": 39.82000000000001,
            "bin_end": 46.34,
            "count": 6
           },
           {
            "bin_start": 46.34,
            "bin_end": 52.86000000000001,
            "count": 4
           },
           {
            "bin_start": 52.86000000000001,
            "bin_end": 59.38000000000001,
            "count": 2
           },
           {
            "bin_start": 59.38000000000001,
            "bin_end": 65.9,
            "count": 2
           }
          ]
         }
        },
        {
         "name": "DC",
         "dtype": "float64",
         "stats": {
          "unique_count": 197,
          "nan_count": 0,
          "min": "6.9",
          "max": "220.4",
          "histogram": [
           {
            "bin_start": 6.9,
            "bin_end": 28.25,
            "count": 109
           },
           {
            "bin_start": 28.25,
            "bin_end": 49.6,
            "count": 50
           },
           {
            "bin_start": 49.6,
            "bin_end": 70.95000000000002,
            "count": 23
           },
           {
            "bin_start": 70.95000000000002,
            "bin_end": 92.30000000000001,
            "count": 21
           },
           {
            "bin_start": 92.30000000000001,
            "bin_end": 113.65,
            "count": 12
           },
           {
            "bin_start": 113.65,
            "bin_end": 135.00000000000003,
            "count": 7
           },
           {
            "bin_start": 135.00000000000003,
            "bin_end": 156.35000000000002,
            "count": 7
           },
           {
            "bin_start": 156.35000000000002,
            "bin_end": 177.70000000000002,
            "count": 8
           },
           {
            "bin_start": 177.70000000000002,
            "bin_end": 199.05,
            "count": 3
           },
           {
            "bin_start": 199.05,
            "bin_end": 220.4,
            "count": 3
           }
          ]
         }
        },
        {
         "name": "ISI",
         "dtype": "float64",
         "stats": {
          "unique_count": 106,
          "nan_count": 0,
          "min": "0.0",
          "max": "19.0",
          "histogram": [
           {
            "bin_start": 0,
            "bin_end": 1.9,
            "count": 80
           },
           {
            "bin_start": 1.9,
            "bin_end": 3.8,
            "count": 44
           },
           {
            "bin_start": 3.8,
            "bin_end": 5.699999999999999,
            "count": 40
           },
           {
            "bin_start": 5.699999999999999,
            "bin_end": 7.6,
            "count": 24
           },
           {
            "bin_start": 7.6,
            "bin_end": 9.5,
            "count": 21
           },
           {
            "bin_start": 9.5,
            "bin_end": 11.399999999999999,
            "count": 15
           },
           {
            "bin_start": 11.399999999999999,
            "bin_end": 13.299999999999999,
            "count": 6
           },
           {
            "bin_start": 13.299999999999999,
            "bin_end": 15.2,
            "count": 5
           },
           {
            "bin_start": 15.2,
            "bin_end": 17.099999999999998,
            "count": 5
           },
           {
            "bin_start": 17.099999999999998,
            "bin_end": 19,
            "count": 3
           }
          ]
         }
        },
        {
         "name": "BUI",
         "dtype": "float64",
         "stats": {
          "unique_count": 173,
          "nan_count": 0,
          "min": "1.1",
          "max": "68.0",
          "histogram": [
           {
            "bin_start": 1.1,
            "bin_end": 7.790000000000001,
            "count": 80
           },
           {
            "bin_start": 7.790000000000001,
            "bin_end": 14.48,
            "count": 57
           },
           {
            "bin_start": 14.48,
            "bin_end": 21.17,
            "count": 35
           },
           {
            "bin_start": 21.17,
            "bin_end": 27.860000000000003,
            "count": 27
           },
           {
            "bin_start": 27.860000000000003,
            "bin_end": 34.550000000000004,
            "count": 14
           },
           {
            "bin_start": 34.550000000000004,
            "bin_end": 41.24,
            "count": 13
           },
           {
            "bin_start": 41.24,
            "bin_end": 47.93000000000001,
            "count": 6
           },
           {
            "bin_start": 47.93000000000001,
            "bin_end": 54.620000000000005,
            "count": 2
           },
           {
            "bin_start": 54.620000000000005,
            "bin_end": 61.31,
            "count": 5
           },
           {
            "bin_start": 61.31,
            "bin_end": 68,
            "count": 4
           }
          ]
         }
        },
        {
         "name": "FWI",
         "dtype": "float64",
         "stats": {
          "unique_count": 125,
          "nan_count": 0,
          "min": "0.0",
          "max": "31.1",
          "histogram": [
           {
            "bin_start": 0,
            "bin_end": 3.1100000000000003,
            "count": 106
           },
           {
            "bin_start": 3.1100000000000003,
            "bin_end": 6.220000000000001,
            "count": 33
           },
           {
            "bin_start": 6.220000000000001,
            "bin_end": 9.330000000000002,
            "count": 26
           },
           {
            "bin_start": 9.330000000000002,
            "bin_end": 12.440000000000001,
            "count": 22
           },
           {
            "bin_start": 12.440000000000001,
            "bin_end": 15.55,
            "count": 21
           },
           {
            "bin_start": 15.55,
            "bin_end": 18.660000000000004,
            "count": 13
           },
           {
            "bin_start": 18.660000000000004,
            "bin_end": 21.770000000000003,
            "count": 11
           },
           {
            "bin_start": 21.770000000000003,
            "bin_end": 24.880000000000003,
            "count": 3
           },
           {
            "bin_start": 24.880000000000003,
            "bin_end": 27.990000000000002,
            "count": 4
           },
           {
            "bin_start": 27.990000000000002,
            "bin_end": 31.1,
            "count": 4
           }
          ]
         }
        },
        {
         "name": "Classes",
         "dtype": "object",
         "stats": {
          "unique_count": 2,
          "nan_count": 0,
          "categories": [
           {
            "name": "fire",
            "count": 137
           },
           {
            "name": "not fire",
            "count": 106
           }
          ]
         }
        },
        {
         "name": "_deepnote_index_column",
         "dtype": "int64"
        }
       ],
       "rows_top": [
        {
         "day": 1,
         "month": 6,
         "year": 2012,
         "Temperature": 29,
         "FFMC": 65.7,
         "DMC": 3.4,
         "DC": 7.6,
         "ISI": 1.3,
         "BUI": 3.4,
         "FWI": 0.5,
         "Classes": "not fire",
         "_deepnote_index_column": 0
        },
        {
         "day": 2,
         "month": 6,
         "year": 2012,
         "Temperature": 29,
         "FFMC": 64.4,
         "DMC": 4.1,
         "DC": 7.6,
         "ISI": 1,
         "BUI": 3.9,
         "FWI": 0.4,
         "Classes": "not fire",
         "_deepnote_index_column": 1
        },
        {
         "day": 3,
         "month": 6,
         "year": 2012,
         "Temperature": 26,
         "FFMC": 47.1,
         "DMC": 2.5,
         "DC": 7.1,
         "ISI": 0.3,
         "BUI": 2.7,
         "FWI": 0.1,
         "Classes": "not fire",
         "_deepnote_index_column": 2
        },
        {
         "day": 4,
         "month": 6,
         "year": 2012,
         "Temperature": 25,
         "FFMC": 28.6,
         "DMC": 1.3,
         "DC": 6.9,
         "ISI": 0,
         "BUI": 1.7,
         "FWI": 0,
         "Classes": "not fire",
         "_deepnote_index_column": 3
        },
        {
         "day": 5,
         "month": 6,
         "year": 2012,
         "Temperature": 27,
         "FFMC": 64.8,
         "DMC": 3,
         "DC": 14.2,
         "ISI": 1.2,
         "BUI": 3.9,
         "FWI": 0.5,
         "Classes": "not fire",
         "_deepnote_index_column": 4
        },
        {
         "day": 6,
         "month": 6,
         "year": 2012,
         "Temperature": 31,
         "FFMC": 82.6,
         "DMC": 5.8,
         "DC": 22.2,
         "ISI": 3.1,
         "BUI": 7,
         "FWI": 2.5,
         "Classes": "fire",
         "_deepnote_index_column": 5
        },
        {
         "day": 7,
         "month": 6,
         "year": 2012,
         "Temperature": 33,
         "FFMC": 88.2,
         "DMC": 9.9,
         "DC": 30.5,
         "ISI": 6.4,
         "BUI": 10.9,
         "FWI": 7.2,
         "Classes": "fire",
         "_deepnote_index_column": 6
        },
        {
         "day": 8,
         "month": 6,
         "year": 2012,
         "Temperature": 30,
         "FFMC": 86.6,
         "DMC": 12.1,
         "DC": 38.3,
         "ISI": 5.6,
         "BUI": 13.5,
         "FWI": 7.1,
         "Classes": "fire",
         "_deepnote_index_column": 7
        },
        {
         "day": 9,
         "month": 6,
         "year": 2012,
         "Temperature": 25,
         "FFMC": 52.9,
         "DMC": 7.9,
         "DC": 38.8,
         "ISI": 0.4,
         "BUI": 10.5,
         "FWI": 0.3,
         "Classes": "not fire",
         "_deepnote_index_column": 8
        },
        {
         "day": 10,
         "month": 6,
         "year": 2012,
         "Temperature": 28,
         "FFMC": 73.2,
         "DMC": 9.5,
         "DC": 46.3,
         "ISI": 1.3,
         "BUI": 12.6,
         "FWI": 0.9,
         "Classes": "not fire",
         "_deepnote_index_column": 9
        },
        {
         "day": 11,
         "month": 6,
         "year": 2012,
         "Temperature": 31,
         "FFMC": 84.5,
         "DMC": 12.5,
         "DC": 54.3,
         "ISI": 4,
         "BUI": 15.8,
         "FWI": 5.6,
         "Classes": "fire",
         "_deepnote_index_column": 10
        },
        {
         "day": 12,
         "month": 6,
         "year": 2012,
         "Temperature": 26,
         "FFMC": 84,
         "DMC": 13.8,
         "DC": 61.4,
         "ISI": 4.8,
         "BUI": 17.7,
         "FWI": 7.1,
         "Classes": "fire",
         "_deepnote_index_column": 11
        },
        {
         "day": 13,
         "month": 6,
         "year": 2012,
         "Temperature": 27,
         "FFMC": 50,
         "DMC": 6.7,
         "DC": 17,
         "ISI": 0.5,
         "BUI": 6.7,
         "FWI": 0.2,
         "Classes": "not fire",
         "_deepnote_index_column": 12
        },
        {
         "day": 14,
         "month": 6,
         "year": 2012,
         "Temperature": 30,
         "FFMC": 59,
         "DMC": 4.6,
         "DC": 7.8,
         "ISI": 1,
         "BUI": 4.4,
         "FWI": 0.4,
         "Classes": "not fire",
         "_deepnote_index_column": 13
        },
        {
         "day": 15,
         "month": 6,
         "year": 2012,
         "Temperature": 28,
         "FFMC": 49.4,
         "DMC": 3,
         "DC": 7.4,
         "ISI": 0.4,
         "BUI": 3,
         "FWI": 0.1,
         "Classes": "not fire",
         "_deepnote_index_column": 14
        },
        {
         "day": 16,
         "month": 6,
         "year": 2012,
         "Temperature": 29,
         "FFMC": 36.1,
         "DMC": 1.7,
         "DC": 7.6,
         "ISI": 0,
         "BUI": 2.2,
         "FWI": 0,
         "Classes": "not fire",
         "_deepnote_index_column": 15
        },
        {
         "day": 17,
         "month": 6,
         "year": 2012,
         "Temperature": 30,
         "FFMC": 37.3,
         "DMC": 1.1,
         "DC": 7.8,
         "ISI": 0,
         "BUI": 1.6,
         "FWI": 0,
         "Classes": "not fire",
         "_deepnote_index_column": 16
        },
        {
         "day": 18,
         "month": 6,
         "year": 2012,
         "Temperature": 31,
         "FFMC": 56.9,
         "DMC": 1.9,
         "DC": 8,
         "ISI": 0.7,
         "BUI": 2.4,
         "FWI": 0.2,
         "Classes": "not fire",
         "_deepnote_index_column": 17
        },
        {
         "day": 19,
         "month": 6,
         "year": 2012,
         "Temperature": 31,
         "FFMC": 79.9,
         "DMC": 4.5,
         "DC": 16,
         "ISI": 2.5,
         "BUI": 5.3,
         "FWI": 1.4,
         "Classes": "not fire",
         "_deepnote_index_column": 18
        },
        {
         "day": 20,
         "month": 6,
         "year": 2012,
         "Temperature": 30,
         "FFMC": 59.8,
         "DMC": 3.4,
         "DC": 27.1,
         "ISI": 0.9,
         "BUI": 5.1,
         "FWI": 0.4,
         "Classes": "not fire",
         "_deepnote_index_column": 19
        },
        {
         "day": 21,
         "month": 6,
         "year": 2012,
         "Temperature": 30,
         "FFMC": 81,
         "DMC": 6.3,
         "DC": 31.6,
         "ISI": 2.6,
         "BUI": 8.4,
         "FWI": 2.2,
         "Classes": "fire",
         "_deepnote_index_column": 20
        },
        {
         "day": 22,
         "month": 6,
         "year": 2012,
         "Temperature": 31,
         "FFMC": 79.1,
         "DMC": 7,
         "DC": 39.5,
         "ISI": 2.4,
         "BUI": 9.7,
         "FWI": 2.3,
         "Classes": "not fire",
         "_deepnote_index_column": 21
        },
        {
         "day": 23,
         "month": 6,
         "year": 2012,
         "Temperature": 32,
         "FFMC": 81.4,
         "DMC": 8.2,
         "DC": 47.7,
         "ISI": 3.3,
         "BUI": 11.5,
         "FWI": 3.8,
         "Classes": "fire",
         "_deepnote_index_column": 22
        },
        {
         "day": 24,
         "month": 6,
         "year": 2012,
         "Temperature": 32,
         "FFMC": 85.9,
         "DMC": 11.2,
         "DC": 55.8,
         "ISI": 5.6,
         "BUI": 14.9,
         "FWI": 7.5,
         "Classes": "fire",
         "_deepnote_index_column": 23
        },
        {
         "day": 25,
         "month": 6,
         "year": 2012,
         "Temperature": 31,
         "FFMC": 86.7,
         "DMC": 14.2,
         "DC": 63.8,
         "ISI": 5.7,
         "BUI": 18.3,
         "FWI": 8.4,
         "Classes": "fire",
         "_deepnote_index_column": 24
        },
        {
         "day": 26,
         "month": 6,
         "year": 2012,
         "Temperature": 31,
         "FFMC": 86.8,
         "DMC": 17.8,
         "DC": 71.8,
         "ISI": 6.7,
         "BUI": 21.6,
         "FWI": 10.6,
         "Classes": "fire",
         "_deepnote_index_column": 25
        },
        {
         "day": 27,
         "month": 6,
         "year": 2012,
         "Temperature": 34,
         "FFMC": 89,
         "DMC": 21.6,
         "DC": 80.3,
         "ISI": 9.2,
         "BUI": 25.8,
         "FWI": 15,
         "Classes": "fire",
         "_deepnote_index_column": 26
        },
        {
         "day": 28,
         "month": 6,
         "year": 2012,
         "Temperature": 32,
         "FFMC": 89.1,
         "DMC": 25.5,
         "DC": 88.5,
         "ISI": 7.6,
         "BUI": 29.7,
         "FWI": 13.9,
         "Classes": "fire",
         "_deepnote_index_column": 27
        },
        {
         "day": 29,
         "month": 6,
         "year": 2012,
         "Temperature": 32,
         "FFMC": 79.9,
         "DMC": 18.4,
         "DC": 84.4,
         "ISI": 2.2,
         "BUI": 23.8,
         "FWI": 3.9,
         "Classes": "not fire",
         "_deepnote_index_column": 28
        },
        {
         "day": 30,
         "month": 6,
         "year": 2012,
         "Temperature": 33,
         "FFMC": 88.7,
         "DMC": 22.9,
         "DC": 92.8,
         "ISI": 7.2,
         "BUI": 28.3,
         "FWI": 12.9,
         "Classes": "fire",
         "_deepnote_index_column": 29
        },
        {
         "day": 1,
         "month": 7,
         "year": 2012,
         "Temperature": 29,
         "FFMC": 59.9,
         "DMC": 2.5,
         "DC": 8.6,
         "ISI": 1.1,
         "BUI": 2.9,
         "FWI": 0.4,
         "Classes": "not fire",
         "_deepnote_index_column": 30
        },
        {
         "day": 2,
         "month": 7,
         "year": 2012,
         "Temperature": 27,
         "FFMC": 55.7,
         "DMC": 2.4,
         "DC": 8.3,
         "ISI": 0.8,
         "BUI": 2.8,
         "FWI": 0.3,
         "Classes": "not fire",
         "_deepnote_index_column": 31
        },
        {
         "day": 3,
         "month": 7,
         "year": 2012,
         "Temperature": 32,
         "FFMC": 63.1,
         "DMC": 2.6,
         "DC": 9.2,
         "ISI": 1.3,
         "BUI": 3,
         "FWI": 0.5,
         "Classes": "not fire",
         "_deepnote_index_column": 32
        },
        {
         "day": 4,
         "month": 7,
         "year": 2012,
         "Temperature": 33,
         "FFMC": 80.1,
         "DMC": 4.6,
         "DC": 18.5,
         "ISI": 2.7,
         "BUI": 5.7,
         "FWI": 1.7,
         "Classes": "not fire",
         "_deepnote_index_column": 33
        },
        {
         "day": 5,
         "month": 7,
         "year": 2012,
         "Temperature": 33,
         "FFMC": 85.9,
         "DMC": 7.6,
         "DC": 27.9,
         "ISI": 4.8,
         "BUI": 9.1,
         "FWI": 4.9,
         "Classes": "fire",
         "_deepnote_index_column": 34
        },
        {
         "day": 6,
         "month": 7,
         "year": 2012,
         "Temperature": 32,
         "FFMC": 87,
         "DMC": 10.9,
         "DC": 37,
         "ISI": 5.6,
         "BUI": 12.5,
         "FWI": 6.8,
         "Classes": "fire",
         "_deepnote_index_column": 35
        },
        {
         "day": 7,
         "month": 7,
         "year": 2012,
         "Temperature": 35,
         "FFMC": 80,
         "DMC": 9.7,
         "DC": 40.4,
         "ISI": 2.8,
         "BUI": 12.1,
         "FWI": 3.2,
         "Classes": "not fire",
         "_deepnote_index_column": 36
        },
        {
         "day": 8,
         "month": 7,
         "year": 2012,
         "Temperature": 33,
         "FFMC": 85.6,
         "DMC": 12.5,
         "DC": 49.8,
         "ISI": 6,
         "BUI": 15.4,
         "FWI": 8,
         "Classes": "fire",
         "_deepnote_index_column": 37
        },
        {
         "day": 9,
         "month": 7,
         "year": 2012,
         "Temperature": 32,
         "FFMC": 66.6,
         "DMC": 7.7,
         "DC": 9.2,
         "ISI": 1.1,
         "BUI": 7.4,
         "FWI": 0.6,
         "Classes": "not fire",
         "_deepnote_index_column": 38
        },
        {
         "day": 10,
         "month": 7,
         "year": 2012,
         "Temperature": 33,
         "FFMC": 66.6,
         "DMC": 6,
         "DC": 9.3,
         "ISI": 1.1,
         "BUI": 5.8,
         "FWI": 0.5,
         "Classes": "not fire",
         "_deepnote_index_column": 39
        },
        {
         "day": 11,
         "month": 7,
         "year": 2012,
         "Temperature": 33,
         "FFMC": 81.1,
         "DMC": 8.1,
         "DC": 18.7,
         "ISI": 2.6,
         "BUI": 8.1,
         "FWI": 2.2,
         "Classes": "not fire",
         "_deepnote_index_column": 40
        },
        {
         "day": 12,
         "month": 7,
         "year": 2012,
         "Temperature": 31,
         "FFMC": 75.1,
         "DMC": 7.9,
         "DC": 27.7,
         "ISI": 1.5,
         "BUI": 9.2,
         "FWI": 0.9,
         "Classes": "not fire",
         "_deepnote_index_column": 41
        },
        {
         "day": 13,
         "month": 7,
         "year": 2012,
         "Temperature": 34,
         "FFMC": 81.8,
         "DMC": 9.7,
         "DC": 37.2,
         "ISI": 3,
         "BUI": 11.7,
         "FWI": 3.4,
         "Classes": "not fire",
         "_deepnote_index_column": 42
        },
        {
         "day": 14,
         "month": 7,
         "year": 2012,
         "Temperature": 34,
         "FFMC": 73.9,
         "DMC": 7.8,
         "DC": 22.9,
         "ISI": 1.4,
         "BUI": 8.4,
         "FWI": 0.8,
         "Classes": "not fire",
         "_deepnote_index_column": 43
        },
        {
         "day": 15,
         "month": 7,
         "year": 2012,
         "Temperature": 30,
         "FFMC": 60.7,
         "DMC": 5.2,
         "DC": 17,
         "ISI": 1.1,
         "BUI": 5.9,
         "FWI": 0.5,
         "Classes": "not fire",
         "_deepnote_index_column": 44
        }
       ],
       "rows_bottom": [
        {
         "day": 17,
         "month": 8,
         "year": 2012,
         "Temperature": 42,
         "FFMC": 96,
         "DMC": 30.3,
         "DC": 76.4,
         "ISI": 15.7,
         "BUI": 30.4,
         "FWI": 24,
         "Classes": "fire",
         "_deepnote_index_column": 199
        },
        {
         "day": 18,
         "month": 8,
         "year": 2012,
         "Temperature": 37,
         "FFMC": 94.3,
         "DMC": 35.9,
         "DC": 86.8,
         "ISI": 16,
         "BUI": 35.9,
         "FWI": 26.3,
         "Classes": "fire",
         "_deepnote_index_column": 200
        },
        {
         "day": 19,
         "month": 8,
         "year": 2012,
         "Temperature": 35,
         "FFMC": 82.7,
         "DMC": 32.7,
         "DC": 96.8,
         "ISI": 3.3,
         "BUI": 35.5,
         "FWI": 7.7,
         "Classes": "fire",
         "_deepnote_index_column": 201
        },
        {
         "day": 20,
         "month": 8,
         "year": 2012,
         "Temperature": 36,
         "FFMC": 83.7,
         "DMC": 34.4,
         "DC": 107,
         "ISI": 3.8,
         "BUI": 38.1,
         "FWI": 9,
         "Classes": "fire",
         "_deepnote_index_column": 202
        },
        {
         "day": 21,
         "month": 8,
         "year": 2012,
         "Temperature": 36,
         "FFMC": 86,
         "DMC": 36.9,
         "DC": 117.1,
         "ISI": 5.1,
         "BUI": 41.3,
         "FWI": 12.2,
         "Classes": "fire",
         "_deepnote_index_column": 203
        },
        {
         "day": 22,
         "month": 8,
         "year": 2012,
         "Temperature": 37,
         "FFMC": 89.5,
         "DMC": 41.1,
         "DC": 127.5,
         "ISI": 8,
         "BUI": 45.5,
         "FWI": 18.1,
         "Classes": "fire",
         "_deepnote_index_column": 204
        },
        {
         "day": 23,
         "month": 8,
         "year": 2012,
         "Temperature": 36,
         "FFMC": 91.2,
         "DMC": 46.1,
         "DC": 137.7,
         "ISI": 11.5,
         "BUI": 50.2,
         "FWI": 24.5,
         "Classes": "fire",
         "_deepnote_index_column": 205
        },
        {
         "day": 24,
         "month": 8,
         "year": 2012,
         "Temperature": 35,
         "FFMC": 92.1,
         "DMC": 51.3,
         "DC": 147.7,
         "ISI": 12.2,
         "BUI": 54.9,
         "FWI": 26.9,
         "Classes": "fire",
         "_deepnote_index_column": 206
        },
        {
         "day": 25,
         "month": 8,
         "year": 2012,
         "Temperature": 34,
         "FFMC": 92.1,
         "DMC": 56.3,
         "DC": 157.5,
         "ISI": 14.3,
         "BUI": 59.5,
         "FWI": 31.1,
         "Classes": "fire",
         "_deepnote_index_column": 207
        },
        {
         "day": 26,
         "month": 8,
         "year": 2012,
         "Temperature": 33,
         "FFMC": 92.2,
         "DMC": 61.3,
         "DC": 167.2,
         "ISI": 13.1,
         "BUI": 64,
         "FWI": 30.3,
         "Classes": "fire",
         "_deepnote_index_column": 208
        },
        {
         "day": 27,
         "month": 8,
         "year": 2012,
         "Temperature": 36,
         "FFMC": 91,
         "DMC": 65.9,
         "DC": 177.3,
         "ISI": 10,
         "BUI": 68,
         "FWI": 26.1,
         "Classes": "fire",
         "_deepnote_index_column": 209
        },
        {
         "day": 28,
         "month": 8,
         "year": 2012,
         "Temperature": 35,
         "FFMC": 79.2,
         "DMC": 37,
         "DC": 166,
         "ISI": 2.1,
         "BUI": 30.6,
         "FWI": 6.1,
         "Classes": "not fire",
         "_deepnote_index_column": 210
        },
        {
         "day": 29,
         "month": 8,
         "year": 2012,
         "Temperature": 35,
         "FFMC": 80.2,
         "DMC": 20.7,
         "DC": 149.2,
         "ISI": 2.7,
         "BUI": 30.6,
         "FWI": 5.9,
         "Classes": "fire",
         "_deepnote_index_column": 211
        },
        {
         "day": 30,
         "month": 8,
         "year": 2012,
         "Temperature": 34,
         "FFMC": 89.2,
         "DMC": 24.8,
         "DC": 159.1,
         "ISI": 8.1,
         "BUI": 35.7,
         "FWI": 16,
         "Classes": "fire",
         "_deepnote_index_column": 212
        },
        {
         "day": 31,
         "month": 8,
         "year": 2012,
         "Temperature": 30,
         "FFMC": 89.1,
         "DMC": 27.8,
         "DC": 168.2,
         "ISI": 9.8,
         "BUI": 39.3,
         "FWI": 19.4,
         "Classes": "fire",
         "_deepnote_index_column": 213
        },
        {
         "day": 1,
         "month": 9,
         "year": 2012,
         "Temperature": 29,
         "FFMC": 37.9,
         "DMC": 0.9,
         "DC": 8.2,
         "ISI": 0.1,
         "BUI": 1.4,
         "FWI": 0,
         "Classes": "not fire",
         "_deepnote_index_column": 214
        },
        {
         "day": 2,
         "month": 9,
         "year": 2012,
         "Temperature": 28,
         "FFMC": 75.4,
         "DMC": 2.9,
         "DC": 16.3,
         "ISI": 2,
         "BUI": 4,
         "FWI": 0.8,
         "Classes": "not fire",
         "_deepnote_index_column": 215
        },
        {
         "day": 3,
         "month": 9,
         "year": 2012,
         "Temperature": 28,
         "FFMC": 82.2,
         "DMC": 4.4,
         "DC": 24.3,
         "ISI": 3.3,
         "BUI": 6,
         "FWI": 2.5,
         "Classes": "fire",
         "_deepnote_index_column": 216
        },
        {
         "day": 4,
         "month": 9,
         "year": 2012,
         "Temperature": 30,
         "FFMC": 73.5,
         "DMC": 4.1,
         "DC": 26.6,
         "ISI": 1.5,
         "BUI": 6,
         "FWI": 0.7,
         "Classes": "not fire",
         "_deepnote_index_column": 217
        },
        {
         "day": 5,
         "month": 9,
         "year": 2012,
         "Temperature": 30,
         "FFMC": 66.1,
         "DMC": 4,
         "DC": 8.4,
         "ISI": 1,
         "BUI": 3.9,
         "FWI": 0.4,
         "Classes": "not fire",
         "_deepnote_index_column": 218
        },
        {
         "day": 6,
         "month": 9,
         "year": 2012,
         "Temperature": 34,
         "FFMC": 64.5,
         "DMC": 3.3,
         "DC": 9.1,
         "ISI": 1,
         "BUI": 3.5,
         "FWI": 0.4,
         "Classes": "not fire",
         "_deepnote_index_column": 219
        },
        {
         "day": 7,
         "month": 9,
         "year": 2012,
         "Temperature": 31,
         "FFMC": 83.3,
         "DMC": 5.8,
         "DC": 17.7,
         "ISI": 3.8,
         "BUI": 6.4,
         "FWI": 3.2,
         "Classes": "fire",
         "_deepnote_index_column": 220
        },
        {
         "day": 8,
         "month": 9,
         "year": 2012,
         "Temperature": 30,
         "FFMC": 82.5,
         "DMC": 6.6,
         "DC": 26.1,
         "ISI": 3,
         "BUI": 8.1,
         "FWI": 2.7,
         "Classes": "fire",
         "_deepnote_index_column": 221
        },
        {
         "day": 9,
         "month": 9,
         "year": 2012,
         "Temperature": 30,
         "FFMC": 83.1,
         "DMC": 7.9,
         "DC": 34.5,
         "ISI": 3.5,
         "BUI": 10,
         "FWI": 3.7,
         "Classes": "fire",
         "_deepnote_index_column": 222
        },
        {
         "day": 10,
         "month": 9,
         "year": 2012,
         "Temperature": 29,
         "FFMC": 59.5,
         "DMC": 4.7,
         "DC": 8.2,
         "ISI": 0.8,
         "BUI": 4.6,
         "FWI": 0.3,
         "Classes": "not fire",
         "_deepnote_index_column": 223
        },
        {
         "day": 11,
         "month": 9,
         "year": 2012,
         "Temperature": 30,
         "FFMC": 79.2,
         "DMC": 6.5,
         "DC": 16.6,
         "ISI": 2.1,
         "BUI": 6.6,
         "FWI": 1.2,
         "Classes": "not fire",
         "_deepnote_index_column": 224
        },
        {
         "day": 12,
         "month": 9,
         "year": 2012,
         "Temperature": 31,
         "FFMC": 84.2,
         "DMC": 8.3,
         "DC": 25.2,
         "ISI": 3.8,
         "BUI": 9.1,
         "FWI": 3.9,
         "Classes": "fire",
         "_deepnote_index_column": 225
        },
        {
         "day": 13,
         "month": 9,
         "year": 2012,
         "Temperature": 29,
         "FFMC": 88.6,
         "DMC": 11.5,
         "DC": 33.4,
         "ISI": 9.1,
         "BUI": 12.4,
         "FWI": 10.3,
         "Classes": "fire",
         "_deepnote_index_column": 226
        },
        {
         "day": 14,
         "month": 9,
         "year": 2012,
         "Temperature": 28,
         "FFMC": 84.6,
         "DMC": 12.6,
         "DC": 41.5,
         "ISI": 4.3,
         "BUI": 14.3,
         "FWI": 5.7,
         "Classes": "fire",
         "_deepnote_index_column": 227
        },
        {
         "day": 15,
         "month": 9,
         "year": 2012,
         "Temperature": 32,
         "FFMC": 88.7,
         "DMC": 16,
         "DC": 50.2,
         "ISI": 6.9,
         "BUI": 17.8,
         "FWI": 9.8,
         "Classes": "fire",
         "_deepnote_index_column": 228
        },
        {
         "day": 16,
         "month": 9,
         "year": 2012,
         "Temperature": 33,
         "FFMC": 93.9,
         "DMC": 21.2,
         "DC": 59.2,
         "ISI": 14.2,
         "BUI": 22.4,
         "FWI": 19.3,
         "Classes": "fire",
         "_deepnote_index_column": 229
        },
        {
         "day": 17,
         "month": 9,
         "year": 2012,
         "Temperature": 34,
         "FFMC": 92.5,
         "DMC": 25.2,
         "DC": 63.3,
         "ISI": 11.2,
         "BUI": 26.2,
         "FWI": 17.5,
         "Classes": "fire",
         "_deepnote_index_column": 230
        },
        {
         "day": 18,
         "month": 9,
         "year": 2012,
         "Temperature": 36,
         "FFMC": 90.6,
         "DMC": 25.8,
         "DC": 77.8,
         "ISI": 9,
         "BUI": 28.2,
         "FWI": 15.4,
         "Classes": "fire",
         "_deepnote_index_column": 231
        },
        {
         "day": 19,
         "month": 9,
         "year": 2012,
         "Temperature": 29,
         "FFMC": 83.9,
         "DMC": 24.9,
         "DC": 86,
         "ISI": 2.7,
         "BUI": 28.9,
         "FWI": 5.6,
         "Classes": "fire",
         "_deepnote_index_column": 232
        },
        {
         "day": 20,
         "month": 9,
         "year": 2012,
         "Temperature": 34,
         "FFMC": 79.5,
         "DMC": 18.7,
         "DC": 88,
         "ISI": 2.1,
         "BUI": 24.4,
         "FWI": 3.8,
         "Classes": "not fire",
         "_deepnote_index_column": 233
        },
        {
         "day": 21,
         "month": 9,
         "year": 2012,
         "Temperature": 35,
         "FFMC": 92.2,
         "DMC": 23.6,
         "DC": 97.3,
         "ISI": 13.8,
         "BUI": 29.4,
         "FWI": 21.6,
         "Classes": "fire",
         "_deepnote_index_column": 234
        },
        {
         "day": 22,
         "month": 9,
         "year": 2012,
         "Temperature": 33,
         "FFMC": 88.9,
         "DMC": 26.1,
         "DC": 106.3,
         "ISI": 7.1,
         "BUI": 32.4,
         "FWI": 13.7,
         "Classes": "fire",
         "_deepnote_index_column": 235
        },
        {
         "day": 23,
         "month": 9,
         "year": 2012,
         "Temperature": 35,
         "FFMC": 89,
         "DMC": 29.4,
         "DC": 115.6,
         "ISI": 7.5,
         "BUI": 36,
         "FWI": 15.2,
         "Classes": "fire",
         "_deepnote_index_column": 236
        },
        {
         "day": 24,
         "month": 9,
         "year": 2012,
         "Temperature": 26,
         "FFMC": 61.3,
         "DMC": 11.9,
         "DC": 28.1,
         "ISI": 0.6,
         "BUI": 11.9,
         "FWI": 0.4,
         "Classes": "not fire",
         "_deepnote_index_column": 237
        },
        {
         "day": 25,
         "month": 9,
         "year": 2012,
         "Temperature": 28,
         "FFMC": 79.9,
         "DMC": 13.8,
         "DC": 36.1,
         "ISI": 2.4,
         "BUI": 14.1,
         "FWI": 3,
         "Classes": "not fire",
         "_deepnote_index_column": 238
        },
        {
         "day": 26,
         "month": 9,
         "year": 2012,
         "Temperature": 30,
         "FFMC": 85.4,
         "DMC": 16,
         "DC": 44.5,
         "ISI": 4.5,
         "BUI": 16.9,
         "FWI": 6.5,
         "Classes": "fire",
         "_deepnote_index_column": 239
        },
        {
         "day": 27,
         "month": 9,
         "year": 2012,
         "Temperature": 28,
         "FFMC": 41.1,
         "DMC": 6.5,
         "DC": 8,
         "ISI": 0.1,
         "BUI": 6.2,
         "FWI": 0,
         "Classes": "not fire",
         "_deepnote_index_column": 240
        },
        {
         "day": 28,
         "month": 9,
         "year": 2012,
         "Temperature": 27,
         "FFMC": 45.9,
         "DMC": 3.5,
         "DC": 7.9,
         "ISI": 0.4,
         "BUI": 3.4,
         "FWI": 0.2,
         "Classes": "not fire",
         "_deepnote_index_column": 241
        },
        {
         "day": 29,
         "month": 9,
         "year": 2012,
         "Temperature": 24,
         "FFMC": 79.7,
         "DMC": 4.3,
         "DC": 15.2,
         "ISI": 1.7,
         "BUI": 5.1,
         "FWI": 0.7,
         "Classes": "not fire",
         "_deepnote_index_column": 242
        },
        {
         "day": 30,
         "month": 9,
         "year": 2012,
         "Temperature": 24,
         "FFMC": 67.3,
         "DMC": 3.8,
         "DC": 16.5,
         "ISI": 1.2,
         "BUI": 4.8,
         "FWI": 0.5,
         "Classes": "not fire",
         "_deepnote_index_column": 243
        }
       ]
      },
      "text/plain": "     day  month  year  Temperature  FFMC   DMC    DC  ISI   BUI  FWI   Classes\n0      1      6  2012           29  65.7   3.4   7.6  1.3   3.4  0.5  not fire\n1      2      6  2012           29  64.4   4.1   7.6  1.0   3.9  0.4  not fire\n2      3      6  2012           26  47.1   2.5   7.1  0.3   2.7  0.1  not fire\n3      4      6  2012           25  28.6   1.3   6.9  0.0   1.7  0.0  not fire\n4      5      6  2012           27  64.8   3.0  14.2  1.2   3.9  0.5  not fire\n..   ...    ...   ...          ...   ...   ...   ...  ...   ...  ...       ...\n239   26      9  2012           30  85.4  16.0  44.5  4.5  16.9  6.5      fire\n240   27      9  2012           28  41.1   6.5   8.0  0.1   6.2  0.0  not fire\n241   28      9  2012           27  45.9   3.5   7.9  0.4   3.4  0.2  not fire\n242   29      9  2012           24  79.7   4.3  15.2  1.7   5.1  0.7  not fire\n243   30      9  2012           24  67.3   3.8  16.5  1.2   4.8  0.5  not fire\n\n[243 rows x 11 columns]",
      "text/html": "<div>\n<style scoped>\n    .dataframe tbody tr th:only-of-type {\n        vertical-align: middle;\n    }\n\n    .dataframe tbody tr th {\n        vertical-align: top;\n    }\n\n    .dataframe thead th {\n        text-align: right;\n    }\n</style>\n<table border=\"1\" class=\"dataframe\">\n  <thead>\n    <tr style=\"text-align: right;\">\n      <th></th>\n      <th>day</th>\n      <th>month</th>\n      <th>year</th>\n      <th>Temperature</th>\n      <th>FFMC</th>\n      <th>DMC</th>\n      <th>DC</th>\n      <th>ISI</th>\n      <th>BUI</th>\n      <th>FWI</th>\n      <th>Classes</th>\n    </tr>\n  </thead>\n  <tbody>\n    <tr>\n      <th>0</th>\n      <td>1</td>\n      <td>6</td>\n      <td>2012</td>\n      <td>29</td>\n      <td>65.7</td>\n      <td>3.4</td>\n      <td>7.6</td>\n      <td>1.3</td>\n      <td>3.4</td>\n      <td>0.5</td>\n      <td>not fire</td>\n    </tr>\n    <tr>\n      <th>1</th>\n      <td>2</td>\n      <td>6</td>\n      <td>2012</td>\n      <td>29</td>\n      <td>64.4</td>\n      <td>4.1</td>\n      <td>7.6</td>\n      <td>1.0</td>\n      <td>3.9</td>\n      <td>0.4</td>\n      <td>not fire</td>\n    </tr>\n    <tr>\n      <th>2</th>\n      <td>3</td>\n      <td>6</td>\n      <td>2012</td>\n      <td>26</td>\n      <td>47.1</td>\n      <td>2.5</td>\n      <td>7.1</td>\n      <td>0.3</td>\n      <td>2.7</td>\n      <td>0.1</td>\n      <td>not fire</td>\n    </tr>\n    <tr>\n      <th>3</th>\n      <td>4</td>\n      <td>6</td>\n      <td>2012</td>\n      <td>25</td>\n      <td>28.6</td>\n      <td>1.3</td>\n      <td>6.9</td>\n      <td>0.0</td>\n      <td>1.7</td>\n      <td>0.0</td>\n      <td>not fire</td>\n    </tr>\n    <tr>\n      <th>4</th>\n      <td>5</td>\n      <td>6</td>\n      <td>2012</td>\n      <td>27</td>\n      <td>64.8</td>\n      <td>3.0</td>\n      <td>14.2</td>\n      <td>1.2</td>\n      <td>3.9</td>\n      <td>0.5</td>\n      <td>not fire</td>\n    </tr>\n    <tr>\n      <th>...</th>\n      <td>...</td>\n      <td>...</td>\n      <td>...</td>\n      <td>...</td>\n      <td>...</td>\n      <td>...</td>\n      <td>...</td>\n      <td>...</td>\n      <td>...</td>\n      <td>...</td>\n      <td>...</td>\n    </tr>\n    <tr>\n      <th>239</th>\n      <td>26</td>\n      <td>9</td>\n      <td>2012</td>\n      <td>30</td>\n      <td>85.4</td>\n      <td>16.0</td>\n      <td>44.5</td>\n      <td>4.5</td>\n      <td>16.9</td>\n      <td>6.5</td>\n      <td>fire</td>\n    </tr>\n    <tr>\n      <th>240</th>\n      <td>27</td>\n      <td>9</td>\n      <td>2012</td>\n      <td>28</td>\n      <td>41.1</td>\n      <td>6.5</td>\n      <td>8.0</td>\n      <td>0.1</td>\n      <td>6.2</td>\n      <td>0.0</td>\n      <td>not fire</td>\n    </tr>\n    <tr>\n      <th>241</th>\n      <td>28</td>\n      <td>9</td>\n      <td>2012</td>\n      <td>27</td>\n      <td>45.9</td>\n      <td>3.5</td>\n      <td>7.9</td>\n      <td>0.4</td>\n      <td>3.4</td>\n      <td>0.2</td>\n      <td>not fire</td>\n    </tr>\n    <tr>\n      <th>242</th>\n      <td>29</td>\n      <td>9</td>\n      <td>2012</td>\n      <td>24</td>\n      <td>79.7</td>\n      <td>4.3</td>\n      <td>15.2</td>\n      <td>1.7</td>\n      <td>5.1</td>\n      <td>0.7</td>\n      <td>not fire</td>\n    </tr>\n    <tr>\n      <th>243</th>\n      <td>30</td>\n      <td>9</td>\n      <td>2012</td>\n      <td>24</td>\n      <td>67.3</td>\n      <td>3.8</td>\n      <td>16.5</td>\n      <td>1.2</td>\n      <td>4.8</td>\n      <td>0.5</td>\n      <td>not fire</td>\n    </tr>\n  </tbody>\n</table>\n<p>243 rows × 11 columns</p>\n</div>"
     },
     "metadata": {}
    }
   ],
   "execution_count": null
  },
  {
   "cell_type": "code",
   "metadata": {
    "tags": [],
    "cell_id": "00004-736a5436-816d-4dcd-b8f7-ef248e27dcd7",
    "deepnote_to_be_reexecuted": false,
    "source_hash": "e8dbebf7",
    "execution_start": 1635758677572,
    "execution_millis": 1,
    "deepnote_cell_type": "code"
   },
   "source": "data = data.drop(['year'], axis=1)",
   "outputs": [],
   "execution_count": null
  },
  {
   "cell_type": "code",
   "metadata": {
    "tags": [],
    "cell_id": "00014-20373a3b-cf26-4bc3-a2e7-cfdee5c42b5e",
    "deepnote_to_be_reexecuted": false,
    "source_hash": "1ad9b140",
    "execution_start": 1635758678045,
    "execution_millis": 1213,
    "deepnote_cell_type": "code"
   },
   "source": "from sklearn.preprocessing import LabelEncoder\n\ndata['Classes'] = LabelEncoder().fit_transform(data['Classes'])\ndata",
   "outputs": [
    {
     "output_type": "execute_result",
     "execution_count": 15,
     "data": {
      "application/vnd.deepnote.dataframe.v2+json": {
       "row_count": 243,
       "column_count": 10,
       "columns": [
        {
         "name": "day",
         "dtype": "int64",
         "stats": {
          "unique_count": 31,
          "nan_count": 0,
          "min": "1",
          "max": "31",
          "histogram": [
           {
            "bin_start": 1,
            "bin_end": 4,
            "count": 24
           },
           {
            "bin_start": 4,
            "bin_end": 7,
            "count": 24
           },
           {
            "bin_start": 7,
            "bin_end": 10,
            "count": 24
           },
           {
            "bin_start": 10,
            "bin_end": 13,
            "count": 24
           },
           {
            "bin_start": 13,
            "bin_end": 16,
            "count": 23
           },
           {
            "bin_start": 16,
            "bin_end": 19,
            "count": 24
           },
           {
            "bin_start": 19,
            "bin_end": 22,
            "count": 24
           },
           {
            "bin_start": 22,
            "bin_end": 25,
            "count": 24
           },
           {
            "bin_start": 25,
            "bin_end": 28,
            "count": 24
           },
           {
            "bin_start": 28,
            "bin_end": 31,
            "count": 28
           }
          ]
         }
        },
        {
         "name": "month",
         "dtype": "int64",
         "stats": {
          "unique_count": 4,
          "nan_count": 0,
          "min": "6",
          "max": "9",
          "histogram": [
           {
            "bin_start": 6,
            "bin_end": 6.3,
            "count": 60
           },
           {
            "bin_start": 6.3,
            "bin_end": 6.6,
            "count": 0
           },
           {
            "bin_start": 6.6,
            "bin_end": 6.9,
            "count": 0
           },
           {
            "bin_start": 6.9,
            "bin_end": 7.2,
            "count": 61
           },
           {
            "bin_start": 7.2,
            "bin_end": 7.5,
            "count": 0
           },
           {
            "bin_start": 7.5,
            "bin_end": 7.8,
            "count": 0
           },
           {
            "bin_start": 7.8,
            "bin_end": 8.1,
            "count": 62
           },
           {
            "bin_start": 8.1,
            "bin_end": 8.4,
            "count": 0
           },
           {
            "bin_start": 8.4,
            "bin_end": 8.7,
            "count": 0
           },
           {
            "bin_start": 8.7,
            "bin_end": 9,
            "count": 60
           }
          ]
         }
        },
        {
         "name": "Temperature",
         "dtype": "int64",
         "stats": {
          "unique_count": 19,
          "nan_count": 0,
          "min": "22",
          "max": "42",
          "histogram": [
           {
            "bin_start": 22,
            "bin_end": 24,
            "count": 2
           },
           {
            "bin_start": 24,
            "bin_end": 26,
            "count": 9
           },
           {
            "bin_start": 26,
            "bin_end": 28,
            "count": 13
           },
           {
            "bin_start": 28,
            "bin_end": 30,
            "count": 33
           },
           {
            "bin_start": 30,
            "bin_end": 32,
            "count": 47
           },
           {
            "bin_start": 32,
            "bin_end": 34,
            "count": 44
           },
           {
            "bin_start": 34,
            "bin_end": 36,
            "count": 53
           },
           {
            "bin_start": 36,
            "bin_end": 38,
            "count": 29
           },
           {
            "bin_start": 38,
            "bin_end": 40,
            "count": 9
           },
           {
            "bin_start": 40,
            "bin_end": 42,
            "count": 4
           }
          ]
         }
        },
        {
         "name": "FFMC",
         "dtype": "float64",
         "stats": {
          "unique_count": 173,
          "nan_count": 0,
          "min": "28.6",
          "max": "96.0",
          "histogram": [
           {
            "bin_start": 28.6,
            "bin_end": 35.34,
            "count": 2
           },
           {
            "bin_start": 35.34,
            "bin_end": 42.08,
            "count": 5
           },
           {
            "bin_start": 42.08,
            "bin_end": 48.82,
            "count": 11
           },
           {
            "bin_start": 48.82,
            "bin_end": 55.56,
            "count": 5
           },
           {
            "bin_start": 55.56,
            "bin_end": 62.300000000000004,
            "count": 16
           },
           {
            "bin_start": 62.300000000000004,
            "bin_end": 69.03999999999999,
            "count": 16
           },
           {
            "bin_start": 69.03999999999999,
            "bin_end": 75.78,
            "count": 20
           },
           {
            "bin_start": 75.78,
            "bin_end": 82.52000000000001,
            "count": 42
           },
           {
            "bin_start": 82.52000000000001,
            "bin_end": 89.26,
            "count": 86
           },
           {
            "bin_start": 89.26,
            "bin_end": 96,
            "count": 40
           }
          ]
         }
        },
        {
         "name": "DMC",
         "dtype": "float64",
         "stats": {
          "unique_count": 165,
          "nan_count": 0,
          "min": "0.7",
          "max": "65.9",
          "histogram": [
           {
            "bin_start": 0.7,
            "bin_end": 7.220000000000001,
            "count": 80
           },
           {
            "bin_start": 7.220000000000001,
            "bin_end": 13.74,
            "count": 66
           },
           {
            "bin_start": 13.74,
            "bin_end": 20.26,
            "count": 35
           },
           {
            "bin_start": 20.26,
            "bin_end": 26.78,
            "count": 30
           },
           {
            "bin_start": 26.78,
            "bin_end": 33.300000000000004,
            "count": 11
           },
           {
            "bin_start": 33.300000000000004,
            "bin_end": 39.82000000000001,
            "count": 7
           },
           {
            "bin_start": 39.82000000000001,
            "bin_end": 46.34,
            "count": 6
           },
           {
            "bin_start": 46.34,
            "bin_end": 52.86000000000001,
            "count": 4
           },
           {
            "bin_start": 52.86000000000001,
            "bin_end": 59.38000000000001,
            "count": 2
           },
           {
            "bin_start": 59.38000000000001,
            "bin_end": 65.9,
            "count": 2
           }
          ]
         }
        },
        {
         "name": "DC",
         "dtype": "float64",
         "stats": {
          "unique_count": 197,
          "nan_count": 0,
          "min": "6.9",
          "max": "220.4",
          "histogram": [
           {
            "bin_start": 6.9,
            "bin_end": 28.25,
            "count": 109
           },
           {
            "bin_start": 28.25,
            "bin_end": 49.6,
            "count": 50
           },
           {
            "bin_start": 49.6,
            "bin_end": 70.95000000000002,
            "count": 23
           },
           {
            "bin_start": 70.95000000000002,
            "bin_end": 92.30000000000001,
            "count": 21
           },
           {
            "bin_start": 92.30000000000001,
            "bin_end": 113.65,
            "count": 12
           },
           {
            "bin_start": 113.65,
            "bin_end": 135.00000000000003,
            "count": 7
           },
           {
            "bin_start": 135.00000000000003,
            "bin_end": 156.35000000000002,
            "count": 7
           },
           {
            "bin_start": 156.35000000000002,
            "bin_end": 177.70000000000002,
            "count": 8
           },
           {
            "bin_start": 177.70000000000002,
            "bin_end": 199.05,
            "count": 3
           },
           {
            "bin_start": 199.05,
            "bin_end": 220.4,
            "count": 3
           }
          ]
         }
        },
        {
         "name": "ISI",
         "dtype": "float64",
         "stats": {
          "unique_count": 106,
          "nan_count": 0,
          "min": "0.0",
          "max": "19.0",
          "histogram": [
           {
            "bin_start": 0,
            "bin_end": 1.9,
            "count": 80
           },
           {
            "bin_start": 1.9,
            "bin_end": 3.8,
            "count": 44
           },
           {
            "bin_start": 3.8,
            "bin_end": 5.699999999999999,
            "count": 40
           },
           {
            "bin_start": 5.699999999999999,
            "bin_end": 7.6,
            "count": 24
           },
           {
            "bin_start": 7.6,
            "bin_end": 9.5,
            "count": 21
           },
           {
            "bin_start": 9.5,
            "bin_end": 11.399999999999999,
            "count": 15
           },
           {
            "bin_start": 11.399999999999999,
            "bin_end": 13.299999999999999,
            "count": 6
           },
           {
            "bin_start": 13.299999999999999,
            "bin_end": 15.2,
            "count": 5
           },
           {
            "bin_start": 15.2,
            "bin_end": 17.099999999999998,
            "count": 5
           },
           {
            "bin_start": 17.099999999999998,
            "bin_end": 19,
            "count": 3
           }
          ]
         }
        },
        {
         "name": "BUI",
         "dtype": "float64",
         "stats": {
          "unique_count": 173,
          "nan_count": 0,
          "min": "1.1",
          "max": "68.0",
          "histogram": [
           {
            "bin_start": 1.1,
            "bin_end": 7.790000000000001,
            "count": 80
           },
           {
            "bin_start": 7.790000000000001,
            "bin_end": 14.48,
            "count": 57
           },
           {
            "bin_start": 14.48,
            "bin_end": 21.17,
            "count": 35
           },
           {
            "bin_start": 21.17,
            "bin_end": 27.860000000000003,
            "count": 27
           },
           {
            "bin_start": 27.860000000000003,
            "bin_end": 34.550000000000004,
            "count": 14
           },
           {
            "bin_start": 34.550000000000004,
            "bin_end": 41.24,
            "count": 13
           },
           {
            "bin_start": 41.24,
            "bin_end": 47.93000000000001,
            "count": 6
           },
           {
            "bin_start": 47.93000000000001,
            "bin_end": 54.620000000000005,
            "count": 2
           },
           {
            "bin_start": 54.620000000000005,
            "bin_end": 61.31,
            "count": 5
           },
           {
            "bin_start": 61.31,
            "bin_end": 68,
            "count": 4
           }
          ]
         }
        },
        {
         "name": "FWI",
         "dtype": "float64",
         "stats": {
          "unique_count": 125,
          "nan_count": 0,
          "min": "0.0",
          "max": "31.1",
          "histogram": [
           {
            "bin_start": 0,
            "bin_end": 3.1100000000000003,
            "count": 106
           },
           {
            "bin_start": 3.1100000000000003,
            "bin_end": 6.220000000000001,
            "count": 33
           },
           {
            "bin_start": 6.220000000000001,
            "bin_end": 9.330000000000002,
            "count": 26
           },
           {
            "bin_start": 9.330000000000002,
            "bin_end": 12.440000000000001,
            "count": 22
           },
           {
            "bin_start": 12.440000000000001,
            "bin_end": 15.55,
            "count": 21
           },
           {
            "bin_start": 15.55,
            "bin_end": 18.660000000000004,
            "count": 13
           },
           {
            "bin_start": 18.660000000000004,
            "bin_end": 21.770000000000003,
            "count": 11
           },
           {
            "bin_start": 21.770000000000003,
            "bin_end": 24.880000000000003,
            "count": 3
           },
           {
            "bin_start": 24.880000000000003,
            "bin_end": 27.990000000000002,
            "count": 4
           },
           {
            "bin_start": 27.990000000000002,
            "bin_end": 31.1,
            "count": 4
           }
          ]
         }
        },
        {
         "name": "Classes",
         "dtype": "int64",
         "stats": {
          "unique_count": 2,
          "nan_count": 0,
          "min": "0",
          "max": "1",
          "histogram": [
           {
            "bin_start": 0,
            "bin_end": 0.1,
            "count": 137
           },
           {
            "bin_start": 0.1,
            "bin_end": 0.2,
            "count": 0
           },
           {
            "bin_start": 0.2,
            "bin_end": 0.30000000000000004,
            "count": 0
           },
           {
            "bin_start": 0.30000000000000004,
            "bin_end": 0.4,
            "count": 0
           },
           {
            "bin_start": 0.4,
            "bin_end": 0.5,
            "count": 0
           },
           {
            "bin_start": 0.5,
            "bin_end": 0.6000000000000001,
            "count": 0
           },
           {
            "bin_start": 0.6000000000000001,
            "bin_end": 0.7000000000000001,
            "count": 0
           },
           {
            "bin_start": 0.7000000000000001,
            "bin_end": 0.8,
            "count": 0
           },
           {
            "bin_start": 0.8,
            "bin_end": 0.9,
            "count": 0
           },
           {
            "bin_start": 0.9,
            "bin_end": 1,
            "count": 106
           }
          ]
         }
        },
        {
         "name": "_deepnote_index_column",
         "dtype": "int64"
        }
       ],
       "rows_top": [
        {
         "day": 1,
         "month": 6,
         "Temperature": 29,
         "FFMC": 65.7,
         "DMC": 3.4,
         "DC": 7.6,
         "ISI": 1.3,
         "BUI": 3.4,
         "FWI": 0.5,
         "Classes": 1,
         "_deepnote_index_column": 0
        },
        {
         "day": 2,
         "month": 6,
         "Temperature": 29,
         "FFMC": 64.4,
         "DMC": 4.1,
         "DC": 7.6,
         "ISI": 1,
         "BUI": 3.9,
         "FWI": 0.4,
         "Classes": 1,
         "_deepnote_index_column": 1
        },
        {
         "day": 3,
         "month": 6,
         "Temperature": 26,
         "FFMC": 47.1,
         "DMC": 2.5,
         "DC": 7.1,
         "ISI": 0.3,
         "BUI": 2.7,
         "FWI": 0.1,
         "Classes": 1,
         "_deepnote_index_column": 2
        },
        {
         "day": 4,
         "month": 6,
         "Temperature": 25,
         "FFMC": 28.6,
         "DMC": 1.3,
         "DC": 6.9,
         "ISI": 0,
         "BUI": 1.7,
         "FWI": 0,
         "Classes": 1,
         "_deepnote_index_column": 3
        },
        {
         "day": 5,
         "month": 6,
         "Temperature": 27,
         "FFMC": 64.8,
         "DMC": 3,
         "DC": 14.2,
         "ISI": 1.2,
         "BUI": 3.9,
         "FWI": 0.5,
         "Classes": 1,
         "_deepnote_index_column": 4
        },
        {
         "day": 6,
         "month": 6,
         "Temperature": 31,
         "FFMC": 82.6,
         "DMC": 5.8,
         "DC": 22.2,
         "ISI": 3.1,
         "BUI": 7,
         "FWI": 2.5,
         "Classes": 0,
         "_deepnote_index_column": 5
        },
        {
         "day": 7,
         "month": 6,
         "Temperature": 33,
         "FFMC": 88.2,
         "DMC": 9.9,
         "DC": 30.5,
         "ISI": 6.4,
         "BUI": 10.9,
         "FWI": 7.2,
         "Classes": 0,
         "_deepnote_index_column": 6
        },
        {
         "day": 8,
         "month": 6,
         "Temperature": 30,
         "FFMC": 86.6,
         "DMC": 12.1,
         "DC": 38.3,
         "ISI": 5.6,
         "BUI": 13.5,
         "FWI": 7.1,
         "Classes": 0,
         "_deepnote_index_column": 7
        },
        {
         "day": 9,
         "month": 6,
         "Temperature": 25,
         "FFMC": 52.9,
         "DMC": 7.9,
         "DC": 38.8,
         "ISI": 0.4,
         "BUI": 10.5,
         "FWI": 0.3,
         "Classes": 1,
         "_deepnote_index_column": 8
        },
        {
         "day": 10,
         "month": 6,
         "Temperature": 28,
         "FFMC": 73.2,
         "DMC": 9.5,
         "DC": 46.3,
         "ISI": 1.3,
         "BUI": 12.6,
         "FWI": 0.9,
         "Classes": 1,
         "_deepnote_index_column": 9
        },
        {
         "day": 11,
         "month": 6,
         "Temperature": 31,
         "FFMC": 84.5,
         "DMC": 12.5,
         "DC": 54.3,
         "ISI": 4,
         "BUI": 15.8,
         "FWI": 5.6,
         "Classes": 0,
         "_deepnote_index_column": 10
        },
        {
         "day": 12,
         "month": 6,
         "Temperature": 26,
         "FFMC": 84,
         "DMC": 13.8,
         "DC": 61.4,
         "ISI": 4.8,
         "BUI": 17.7,
         "FWI": 7.1,
         "Classes": 0,
         "_deepnote_index_column": 11
        },
        {
         "day": 13,
         "month": 6,
         "Temperature": 27,
         "FFMC": 50,
         "DMC": 6.7,
         "DC": 17,
         "ISI": 0.5,
         "BUI": 6.7,
         "FWI": 0.2,
         "Classes": 1,
         "_deepnote_index_column": 12
        },
        {
         "day": 14,
         "month": 6,
         "Temperature": 30,
         "FFMC": 59,
         "DMC": 4.6,
         "DC": 7.8,
         "ISI": 1,
         "BUI": 4.4,
         "FWI": 0.4,
         "Classes": 1,
         "_deepnote_index_column": 13
        },
        {
         "day": 15,
         "month": 6,
         "Temperature": 28,
         "FFMC": 49.4,
         "DMC": 3,
         "DC": 7.4,
         "ISI": 0.4,
         "BUI": 3,
         "FWI": 0.1,
         "Classes": 1,
         "_deepnote_index_column": 14
        },
        {
         "day": 16,
         "month": 6,
         "Temperature": 29,
         "FFMC": 36.1,
         "DMC": 1.7,
         "DC": 7.6,
         "ISI": 0,
         "BUI": 2.2,
         "FWI": 0,
         "Classes": 1,
         "_deepnote_index_column": 15
        },
        {
         "day": 17,
         "month": 6,
         "Temperature": 30,
         "FFMC": 37.3,
         "DMC": 1.1,
         "DC": 7.8,
         "ISI": 0,
         "BUI": 1.6,
         "FWI": 0,
         "Classes": 1,
         "_deepnote_index_column": 16
        },
        {
         "day": 18,
         "month": 6,
         "Temperature": 31,
         "FFMC": 56.9,
         "DMC": 1.9,
         "DC": 8,
         "ISI": 0.7,
         "BUI": 2.4,
         "FWI": 0.2,
         "Classes": 1,
         "_deepnote_index_column": 17
        },
        {
         "day": 19,
         "month": 6,
         "Temperature": 31,
         "FFMC": 79.9,
         "DMC": 4.5,
         "DC": 16,
         "ISI": 2.5,
         "BUI": 5.3,
         "FWI": 1.4,
         "Classes": 1,
         "_deepnote_index_column": 18
        },
        {
         "day": 20,
         "month": 6,
         "Temperature": 30,
         "FFMC": 59.8,
         "DMC": 3.4,
         "DC": 27.1,
         "ISI": 0.9,
         "BUI": 5.1,
         "FWI": 0.4,
         "Classes": 1,
         "_deepnote_index_column": 19
        },
        {
         "day": 21,
         "month": 6,
         "Temperature": 30,
         "FFMC": 81,
         "DMC": 6.3,
         "DC": 31.6,
         "ISI": 2.6,
         "BUI": 8.4,
         "FWI": 2.2,
         "Classes": 0,
         "_deepnote_index_column": 20
        },
        {
         "day": 22,
         "month": 6,
         "Temperature": 31,
         "FFMC": 79.1,
         "DMC": 7,
         "DC": 39.5,
         "ISI": 2.4,
         "BUI": 9.7,
         "FWI": 2.3,
         "Classes": 1,
         "_deepnote_index_column": 21
        },
        {
         "day": 23,
         "month": 6,
         "Temperature": 32,
         "FFMC": 81.4,
         "DMC": 8.2,
         "DC": 47.7,
         "ISI": 3.3,
         "BUI": 11.5,
         "FWI": 3.8,
         "Classes": 0,
         "_deepnote_index_column": 22
        },
        {
         "day": 24,
         "month": 6,
         "Temperature": 32,
         "FFMC": 85.9,
         "DMC": 11.2,
         "DC": 55.8,
         "ISI": 5.6,
         "BUI": 14.9,
         "FWI": 7.5,
         "Classes": 0,
         "_deepnote_index_column": 23
        },
        {
         "day": 25,
         "month": 6,
         "Temperature": 31,
         "FFMC": 86.7,
         "DMC": 14.2,
         "DC": 63.8,
         "ISI": 5.7,
         "BUI": 18.3,
         "FWI": 8.4,
         "Classes": 0,
         "_deepnote_index_column": 24
        },
        {
         "day": 26,
         "month": 6,
         "Temperature": 31,
         "FFMC": 86.8,
         "DMC": 17.8,
         "DC": 71.8,
         "ISI": 6.7,
         "BUI": 21.6,
         "FWI": 10.6,
         "Classes": 0,
         "_deepnote_index_column": 25
        },
        {
         "day": 27,
         "month": 6,
         "Temperature": 34,
         "FFMC": 89,
         "DMC": 21.6,
         "DC": 80.3,
         "ISI": 9.2,
         "BUI": 25.8,
         "FWI": 15,
         "Classes": 0,
         "_deepnote_index_column": 26
        },
        {
         "day": 28,
         "month": 6,
         "Temperature": 32,
         "FFMC": 89.1,
         "DMC": 25.5,
         "DC": 88.5,
         "ISI": 7.6,
         "BUI": 29.7,
         "FWI": 13.9,
         "Classes": 0,
         "_deepnote_index_column": 27
        },
        {
         "day": 29,
         "month": 6,
         "Temperature": 32,
         "FFMC": 79.9,
         "DMC": 18.4,
         "DC": 84.4,
         "ISI": 2.2,
         "BUI": 23.8,
         "FWI": 3.9,
         "Classes": 1,
         "_deepnote_index_column": 28
        },
        {
         "day": 30,
         "month": 6,
         "Temperature": 33,
         "FFMC": 88.7,
         "DMC": 22.9,
         "DC": 92.8,
         "ISI": 7.2,
         "BUI": 28.3,
         "FWI": 12.9,
         "Classes": 0,
         "_deepnote_index_column": 29
        },
        {
         "day": 1,
         "month": 7,
         "Temperature": 29,
         "FFMC": 59.9,
         "DMC": 2.5,
         "DC": 8.6,
         "ISI": 1.1,
         "BUI": 2.9,
         "FWI": 0.4,
         "Classes": 1,
         "_deepnote_index_column": 30
        },
        {
         "day": 2,
         "month": 7,
         "Temperature": 27,
         "FFMC": 55.7,
         "DMC": 2.4,
         "DC": 8.3,
         "ISI": 0.8,
         "BUI": 2.8,
         "FWI": 0.3,
         "Classes": 1,
         "_deepnote_index_column": 31
        },
        {
         "day": 3,
         "month": 7,
         "Temperature": 32,
         "FFMC": 63.1,
         "DMC": 2.6,
         "DC": 9.2,
         "ISI": 1.3,
         "BUI": 3,
         "FWI": 0.5,
         "Classes": 1,
         "_deepnote_index_column": 32
        },
        {
         "day": 4,
         "month": 7,
         "Temperature": 33,
         "FFMC": 80.1,
         "DMC": 4.6,
         "DC": 18.5,
         "ISI": 2.7,
         "BUI": 5.7,
         "FWI": 1.7,
         "Classes": 1,
         "_deepnote_index_column": 33
        },
        {
         "day": 5,
         "month": 7,
         "Temperature": 33,
         "FFMC": 85.9,
         "DMC": 7.6,
         "DC": 27.9,
         "ISI": 4.8,
         "BUI": 9.1,
         "FWI": 4.9,
         "Classes": 0,
         "_deepnote_index_column": 34
        },
        {
         "day": 6,
         "month": 7,
         "Temperature": 32,
         "FFMC": 87,
         "DMC": 10.9,
         "DC": 37,
         "ISI": 5.6,
         "BUI": 12.5,
         "FWI": 6.8,
         "Classes": 0,
         "_deepnote_index_column": 35
        },
        {
         "day": 7,
         "month": 7,
         "Temperature": 35,
         "FFMC": 80,
         "DMC": 9.7,
         "DC": 40.4,
         "ISI": 2.8,
         "BUI": 12.1,
         "FWI": 3.2,
         "Classes": 1,
         "_deepnote_index_column": 36
        },
        {
         "day": 8,
         "month": 7,
         "Temperature": 33,
         "FFMC": 85.6,
         "DMC": 12.5,
         "DC": 49.8,
         "ISI": 6,
         "BUI": 15.4,
         "FWI": 8,
         "Classes": 0,
         "_deepnote_index_column": 37
        },
        {
         "day": 9,
         "month": 7,
         "Temperature": 32,
         "FFMC": 66.6,
         "DMC": 7.7,
         "DC": 9.2,
         "ISI": 1.1,
         "BUI": 7.4,
         "FWI": 0.6,
         "Classes": 1,
         "_deepnote_index_column": 38
        },
        {
         "day": 10,
         "month": 7,
         "Temperature": 33,
         "FFMC": 66.6,
         "DMC": 6,
         "DC": 9.3,
         "ISI": 1.1,
         "BUI": 5.8,
         "FWI": 0.5,
         "Classes": 1,
         "_deepnote_index_column": 39
        },
        {
         "day": 11,
         "month": 7,
         "Temperature": 33,
         "FFMC": 81.1,
         "DMC": 8.1,
         "DC": 18.7,
         "ISI": 2.6,
         "BUI": 8.1,
         "FWI": 2.2,
         "Classes": 1,
         "_deepnote_index_column": 40
        },
        {
         "day": 12,
         "month": 7,
         "Temperature": 31,
         "FFMC": 75.1,
         "DMC": 7.9,
         "DC": 27.7,
         "ISI": 1.5,
         "BUI": 9.2,
         "FWI": 0.9,
         "Classes": 1,
         "_deepnote_index_column": 41
        },
        {
         "day": 13,
         "month": 7,
         "Temperature": 34,
         "FFMC": 81.8,
         "DMC": 9.7,
         "DC": 37.2,
         "ISI": 3,
         "BUI": 11.7,
         "FWI": 3.4,
         "Classes": 1,
         "_deepnote_index_column": 42
        },
        {
         "day": 14,
         "month": 7,
         "Temperature": 34,
         "FFMC": 73.9,
         "DMC": 7.8,
         "DC": 22.9,
         "ISI": 1.4,
         "BUI": 8.4,
         "FWI": 0.8,
         "Classes": 1,
         "_deepnote_index_column": 43
        },
        {
         "day": 15,
         "month": 7,
         "Temperature": 30,
         "FFMC": 60.7,
         "DMC": 5.2,
         "DC": 17,
         "ISI": 1.1,
         "BUI": 5.9,
         "FWI": 0.5,
         "Classes": 1,
         "_deepnote_index_column": 44
        },
        {
         "day": 16,
         "month": 7,
         "Temperature": 28,
         "FFMC": 72.6,
         "DMC": 7,
         "DC": 25.5,
         "ISI": 0.7,
         "BUI": 8.3,
         "FWI": 0.4,
         "Classes": 1,
         "_deepnote_index_column": 45
        },
        {
         "day": 17,
         "month": 7,
         "Temperature": 29,
         "FFMC": 82.8,
         "DMC": 9.4,
         "DC": 34.1,
         "ISI": 3.2,
         "BUI": 11.1,
         "FWI": 3.6,
         "Classes": 0,
         "_deepnote_index_column": 46
        },
        {
         "day": 18,
         "month": 7,
         "Temperature": 31,
         "FFMC": 85.4,
         "DMC": 12.1,
         "DC": 43.1,
         "ISI": 4.6,
         "BUI": 14.2,
         "FWI": 6,
         "Classes": 0,
         "_deepnote_index_column": 47
        },
        {
         "day": 19,
         "month": 7,
         "Temperature": 35,
         "FFMC": 88.1,
         "DMC": 12,
         "DC": 52.8,
         "ISI": 7.7,
         "BUI": 18.2,
         "FWI": 10.9,
         "Classes": 0,
         "_deepnote_index_column": 48
        },
        {
         "day": 20,
         "month": 7,
         "Temperature": 33,
         "FFMC": 81.4,
         "DMC": 12.3,
         "DC": 62.1,
         "ISI": 2.8,
         "BUI": 16.5,
         "FWI": 4,
         "Classes": 0,
         "_deepnote_index_column": 49
        }
       ],
       "rows_bottom": [
        {
         "day": 12,
         "month": 8,
         "Temperature": 39,
         "FFMC": 93,
         "DMC": 18.4,
         "DC": 41.5,
         "ISI": 15.5,
         "BUI": 18.4,
         "FWI": 18.8,
         "Classes": 0,
         "_deepnote_index_column": 194
        },
        {
         "day": 13,
         "month": 8,
         "Temperature": 35,
         "FFMC": 88.3,
         "DMC": 16.9,
         "DC": 45.1,
         "ISI": 7.5,
         "BUI": 17.5,
         "FWI": 10.5,
         "Classes": 0,
         "_deepnote_index_column": 195
        },
        {
         "day": 14,
         "month": 8,
         "Temperature": 37,
         "FFMC": 91.9,
         "DMC": 22.3,
         "DC": 55.5,
         "ISI": 10.8,
         "BUI": 22.3,
         "FWI": 15.7,
         "Classes": 0,
         "_deepnote_index_column": 196
        },
        {
         "day": 15,
         "month": 8,
         "Temperature": 35,
         "FFMC": 83.9,
         "DMC": 16.9,
         "DC": 54.2,
         "ISI": 3.5,
         "BUI": 19,
         "FWI": 5.5,
         "Classes": 0,
         "_deepnote_index_column": 197
        },
        {
         "day": 16,
         "month": 8,
         "Temperature": 40,
         "FFMC": 92,
         "DMC": 22.6,
         "DC": 65.1,
         "ISI": 9.5,
         "BUI": 24.2,
         "FWI": 14.8,
         "Classes": 0,
         "_deepnote_index_column": 198
        },
        {
         "day": 17,
         "month": 8,
         "Temperature": 42,
         "FFMC": 96,
         "DMC": 30.3,
         "DC": 76.4,
         "ISI": 15.7,
         "BUI": 30.4,
         "FWI": 24,
         "Classes": 0,
         "_deepnote_index_column": 199
        },
        {
         "day": 18,
         "month": 8,
         "Temperature": 37,
         "FFMC": 94.3,
         "DMC": 35.9,
         "DC": 86.8,
         "ISI": 16,
         "BUI": 35.9,
         "FWI": 26.3,
         "Classes": 0,
         "_deepnote_index_column": 200
        },
        {
         "day": 19,
         "month": 8,
         "Temperature": 35,
         "FFMC": 82.7,
         "DMC": 32.7,
         "DC": 96.8,
         "ISI": 3.3,
         "BUI": 35.5,
         "FWI": 7.7,
         "Classes": 0,
         "_deepnote_index_column": 201
        },
        {
         "day": 20,
         "month": 8,
         "Temperature": 36,
         "FFMC": 83.7,
         "DMC": 34.4,
         "DC": 107,
         "ISI": 3.8,
         "BUI": 38.1,
         "FWI": 9,
         "Classes": 0,
         "_deepnote_index_column": 202
        },
        {
         "day": 21,
         "month": 8,
         "Temperature": 36,
         "FFMC": 86,
         "DMC": 36.9,
         "DC": 117.1,
         "ISI": 5.1,
         "BUI": 41.3,
         "FWI": 12.2,
         "Classes": 0,
         "_deepnote_index_column": 203
        },
        {
         "day": 22,
         "month": 8,
         "Temperature": 37,
         "FFMC": 89.5,
         "DMC": 41.1,
         "DC": 127.5,
         "ISI": 8,
         "BUI": 45.5,
         "FWI": 18.1,
         "Classes": 0,
         "_deepnote_index_column": 204
        },
        {
         "day": 23,
         "month": 8,
         "Temperature": 36,
         "FFMC": 91.2,
         "DMC": 46.1,
         "DC": 137.7,
         "ISI": 11.5,
         "BUI": 50.2,
         "FWI": 24.5,
         "Classes": 0,
         "_deepnote_index_column": 205
        },
        {
         "day": 24,
         "month": 8,
         "Temperature": 35,
         "FFMC": 92.1,
         "DMC": 51.3,
         "DC": 147.7,
         "ISI": 12.2,
         "BUI": 54.9,
         "FWI": 26.9,
         "Classes": 0,
         "_deepnote_index_column": 206
        },
        {
         "day": 25,
         "month": 8,
         "Temperature": 34,
         "FFMC": 92.1,
         "DMC": 56.3,
         "DC": 157.5,
         "ISI": 14.3,
         "BUI": 59.5,
         "FWI": 31.1,
         "Classes": 0,
         "_deepnote_index_column": 207
        },
        {
         "day": 26,
         "month": 8,
         "Temperature": 33,
         "FFMC": 92.2,
         "DMC": 61.3,
         "DC": 167.2,
         "ISI": 13.1,
         "BUI": 64,
         "FWI": 30.3,
         "Classes": 0,
         "_deepnote_index_column": 208
        },
        {
         "day": 27,
         "month": 8,
         "Temperature": 36,
         "FFMC": 91,
         "DMC": 65.9,
         "DC": 177.3,
         "ISI": 10,
         "BUI": 68,
         "FWI": 26.1,
         "Classes": 0,
         "_deepnote_index_column": 209
        },
        {
         "day": 28,
         "month": 8,
         "Temperature": 35,
         "FFMC": 79.2,
         "DMC": 37,
         "DC": 166,
         "ISI": 2.1,
         "BUI": 30.6,
         "FWI": 6.1,
         "Classes": 1,
         "_deepnote_index_column": 210
        },
        {
         "day": 29,
         "month": 8,
         "Temperature": 35,
         "FFMC": 80.2,
         "DMC": 20.7,
         "DC": 149.2,
         "ISI": 2.7,
         "BUI": 30.6,
         "FWI": 5.9,
         "Classes": 0,
         "_deepnote_index_column": 211
        },
        {
         "day": 30,
         "month": 8,
         "Temperature": 34,
         "FFMC": 89.2,
         "DMC": 24.8,
         "DC": 159.1,
         "ISI": 8.1,
         "BUI": 35.7,
         "FWI": 16,
         "Classes": 0,
         "_deepnote_index_column": 212
        },
        {
         "day": 31,
         "month": 8,
         "Temperature": 30,
         "FFMC": 89.1,
         "DMC": 27.8,
         "DC": 168.2,
         "ISI": 9.8,
         "BUI": 39.3,
         "FWI": 19.4,
         "Classes": 0,
         "_deepnote_index_column": 213
        },
        {
         "day": 1,
         "month": 9,
         "Temperature": 29,
         "FFMC": 37.9,
         "DMC": 0.9,
         "DC": 8.2,
         "ISI": 0.1,
         "BUI": 1.4,
         "FWI": 0,
         "Classes": 1,
         "_deepnote_index_column": 214
        },
        {
         "day": 2,
         "month": 9,
         "Temperature": 28,
         "FFMC": 75.4,
         "DMC": 2.9,
         "DC": 16.3,
         "ISI": 2,
         "BUI": 4,
         "FWI": 0.8,
         "Classes": 1,
         "_deepnote_index_column": 215
        },
        {
         "day": 3,
         "month": 9,
         "Temperature": 28,
         "FFMC": 82.2,
         "DMC": 4.4,
         "DC": 24.3,
         "ISI": 3.3,
         "BUI": 6,
         "FWI": 2.5,
         "Classes": 0,
         "_deepnote_index_column": 216
        },
        {
         "day": 4,
         "month": 9,
         "Temperature": 30,
         "FFMC": 73.5,
         "DMC": 4.1,
         "DC": 26.6,
         "ISI": 1.5,
         "BUI": 6,
         "FWI": 0.7,
         "Classes": 1,
         "_deepnote_index_column": 217
        },
        {
         "day": 5,
         "month": 9,
         "Temperature": 30,
         "FFMC": 66.1,
         "DMC": 4,
         "DC": 8.4,
         "ISI": 1,
         "BUI": 3.9,
         "FWI": 0.4,
         "Classes": 1,
         "_deepnote_index_column": 218
        },
        {
         "day": 6,
         "month": 9,
         "Temperature": 34,
         "FFMC": 64.5,
         "DMC": 3.3,
         "DC": 9.1,
         "ISI": 1,
         "BUI": 3.5,
         "FWI": 0.4,
         "Classes": 1,
         "_deepnote_index_column": 219
        },
        {
         "day": 7,
         "month": 9,
         "Temperature": 31,
         "FFMC": 83.3,
         "DMC": 5.8,
         "DC": 17.7,
         "ISI": 3.8,
         "BUI": 6.4,
         "FWI": 3.2,
         "Classes": 0,
         "_deepnote_index_column": 220
        },
        {
         "day": 8,
         "month": 9,
         "Temperature": 30,
         "FFMC": 82.5,
         "DMC": 6.6,
         "DC": 26.1,
         "ISI": 3,
         "BUI": 8.1,
         "FWI": 2.7,
         "Classes": 0,
         "_deepnote_index_column": 221
        },
        {
         "day": 9,
         "month": 9,
         "Temperature": 30,
         "FFMC": 83.1,
         "DMC": 7.9,
         "DC": 34.5,
         "ISI": 3.5,
         "BUI": 10,
         "FWI": 3.7,
         "Classes": 0,
         "_deepnote_index_column": 222
        },
        {
         "day": 10,
         "month": 9,
         "Temperature": 29,
         "FFMC": 59.5,
         "DMC": 4.7,
         "DC": 8.2,
         "ISI": 0.8,
         "BUI": 4.6,
         "FWI": 0.3,
         "Classes": 1,
         "_deepnote_index_column": 223
        },
        {
         "day": 11,
         "month": 9,
         "Temperature": 30,
         "FFMC": 79.2,
         "DMC": 6.5,
         "DC": 16.6,
         "ISI": 2.1,
         "BUI": 6.6,
         "FWI": 1.2,
         "Classes": 1,
         "_deepnote_index_column": 224
        },
        {
         "day": 12,
         "month": 9,
         "Temperature": 31,
         "FFMC": 84.2,
         "DMC": 8.3,
         "DC": 25.2,
         "ISI": 3.8,
         "BUI": 9.1,
         "FWI": 3.9,
         "Classes": 0,
         "_deepnote_index_column": 225
        },
        {
         "day": 13,
         "month": 9,
         "Temperature": 29,
         "FFMC": 88.6,
         "DMC": 11.5,
         "DC": 33.4,
         "ISI": 9.1,
         "BUI": 12.4,
         "FWI": 10.3,
         "Classes": 0,
         "_deepnote_index_column": 226
        },
        {
         "day": 14,
         "month": 9,
         "Temperature": 28,
         "FFMC": 84.6,
         "DMC": 12.6,
         "DC": 41.5,
         "ISI": 4.3,
         "BUI": 14.3,
         "FWI": 5.7,
         "Classes": 0,
         "_deepnote_index_column": 227
        },
        {
         "day": 15,
         "month": 9,
         "Temperature": 32,
         "FFMC": 88.7,
         "DMC": 16,
         "DC": 50.2,
         "ISI": 6.9,
         "BUI": 17.8,
         "FWI": 9.8,
         "Classes": 0,
         "_deepnote_index_column": 228
        },
        {
         "day": 16,
         "month": 9,
         "Temperature": 33,
         "FFMC": 93.9,
         "DMC": 21.2,
         "DC": 59.2,
         "ISI": 14.2,
         "BUI": 22.4,
         "FWI": 19.3,
         "Classes": 0,
         "_deepnote_index_column": 229
        },
        {
         "day": 17,
         "month": 9,
         "Temperature": 34,
         "FFMC": 92.5,
         "DMC": 25.2,
         "DC": 63.3,
         "ISI": 11.2,
         "BUI": 26.2,
         "FWI": 17.5,
         "Classes": 0,
         "_deepnote_index_column": 230
        },
        {
         "day": 18,
         "month": 9,
         "Temperature": 36,
         "FFMC": 90.6,
         "DMC": 25.8,
         "DC": 77.8,
         "ISI": 9,
         "BUI": 28.2,
         "FWI": 15.4,
         "Classes": 0,
         "_deepnote_index_column": 231
        },
        {
         "day": 19,
         "month": 9,
         "Temperature": 29,
         "FFMC": 83.9,
         "DMC": 24.9,
         "DC": 86,
         "ISI": 2.7,
         "BUI": 28.9,
         "FWI": 5.6,
         "Classes": 0,
         "_deepnote_index_column": 232
        },
        {
         "day": 20,
         "month": 9,
         "Temperature": 34,
         "FFMC": 79.5,
         "DMC": 18.7,
         "DC": 88,
         "ISI": 2.1,
         "BUI": 24.4,
         "FWI": 3.8,
         "Classes": 1,
         "_deepnote_index_column": 233
        },
        {
         "day": 21,
         "month": 9,
         "Temperature": 35,
         "FFMC": 92.2,
         "DMC": 23.6,
         "DC": 97.3,
         "ISI": 13.8,
         "BUI": 29.4,
         "FWI": 21.6,
         "Classes": 0,
         "_deepnote_index_column": 234
        },
        {
         "day": 22,
         "month": 9,
         "Temperature": 33,
         "FFMC": 88.9,
         "DMC": 26.1,
         "DC": 106.3,
         "ISI": 7.1,
         "BUI": 32.4,
         "FWI": 13.7,
         "Classes": 0,
         "_deepnote_index_column": 235
        },
        {
         "day": 23,
         "month": 9,
         "Temperature": 35,
         "FFMC": 89,
         "DMC": 29.4,
         "DC": 115.6,
         "ISI": 7.5,
         "BUI": 36,
         "FWI": 15.2,
         "Classes": 0,
         "_deepnote_index_column": 236
        },
        {
         "day": 24,
         "month": 9,
         "Temperature": 26,
         "FFMC": 61.3,
         "DMC": 11.9,
         "DC": 28.1,
         "ISI": 0.6,
         "BUI": 11.9,
         "FWI": 0.4,
         "Classes": 1,
         "_deepnote_index_column": 237
        },
        {
         "day": 25,
         "month": 9,
         "Temperature": 28,
         "FFMC": 79.9,
         "DMC": 13.8,
         "DC": 36.1,
         "ISI": 2.4,
         "BUI": 14.1,
         "FWI": 3,
         "Classes": 1,
         "_deepnote_index_column": 238
        },
        {
         "day": 26,
         "month": 9,
         "Temperature": 30,
         "FFMC": 85.4,
         "DMC": 16,
         "DC": 44.5,
         "ISI": 4.5,
         "BUI": 16.9,
         "FWI": 6.5,
         "Classes": 0,
         "_deepnote_index_column": 239
        },
        {
         "day": 27,
         "month": 9,
         "Temperature": 28,
         "FFMC": 41.1,
         "DMC": 6.5,
         "DC": 8,
         "ISI": 0.1,
         "BUI": 6.2,
         "FWI": 0,
         "Classes": 1,
         "_deepnote_index_column": 240
        },
        {
         "day": 28,
         "month": 9,
         "Temperature": 27,
         "FFMC": 45.9,
         "DMC": 3.5,
         "DC": 7.9,
         "ISI": 0.4,
         "BUI": 3.4,
         "FWI": 0.2,
         "Classes": 1,
         "_deepnote_index_column": 241
        },
        {
         "day": 29,
         "month": 9,
         "Temperature": 24,
         "FFMC": 79.7,
         "DMC": 4.3,
         "DC": 15.2,
         "ISI": 1.7,
         "BUI": 5.1,
         "FWI": 0.7,
         "Classes": 1,
         "_deepnote_index_column": 242
        },
        {
         "day": 30,
         "month": 9,
         "Temperature": 24,
         "FFMC": 67.3,
         "DMC": 3.8,
         "DC": 16.5,
         "ISI": 1.2,
         "BUI": 4.8,
         "FWI": 0.5,
         "Classes": 1,
         "_deepnote_index_column": 243
        }
       ]
      },
      "text/plain": "     day  month  Temperature  FFMC   DMC    DC  ISI   BUI  FWI  Classes\n0      1      6           29  65.7   3.4   7.6  1.3   3.4  0.5        1\n1      2      6           29  64.4   4.1   7.6  1.0   3.9  0.4        1\n2      3      6           26  47.1   2.5   7.1  0.3   2.7  0.1        1\n3      4      6           25  28.6   1.3   6.9  0.0   1.7  0.0        1\n4      5      6           27  64.8   3.0  14.2  1.2   3.9  0.5        1\n..   ...    ...          ...   ...   ...   ...  ...   ...  ...      ...\n239   26      9           30  85.4  16.0  44.5  4.5  16.9  6.5        0\n240   27      9           28  41.1   6.5   8.0  0.1   6.2  0.0        1\n241   28      9           27  45.9   3.5   7.9  0.4   3.4  0.2        1\n242   29      9           24  79.7   4.3  15.2  1.7   5.1  0.7        1\n243   30      9           24  67.3   3.8  16.5  1.2   4.8  0.5        1\n\n[243 rows x 10 columns]",
      "text/html": "<div>\n<style scoped>\n    .dataframe tbody tr th:only-of-type {\n        vertical-align: middle;\n    }\n\n    .dataframe tbody tr th {\n        vertical-align: top;\n    }\n\n    .dataframe thead th {\n        text-align: right;\n    }\n</style>\n<table border=\"1\" class=\"dataframe\">\n  <thead>\n    <tr style=\"text-align: right;\">\n      <th></th>\n      <th>day</th>\n      <th>month</th>\n      <th>Temperature</th>\n      <th>FFMC</th>\n      <th>DMC</th>\n      <th>DC</th>\n      <th>ISI</th>\n      <th>BUI</th>\n      <th>FWI</th>\n      <th>Classes</th>\n    </tr>\n  </thead>\n  <tbody>\n    <tr>\n      <th>0</th>\n      <td>1</td>\n      <td>6</td>\n      <td>29</td>\n      <td>65.7</td>\n      <td>3.4</td>\n      <td>7.6</td>\n      <td>1.3</td>\n      <td>3.4</td>\n      <td>0.5</td>\n      <td>1</td>\n    </tr>\n    <tr>\n      <th>1</th>\n      <td>2</td>\n      <td>6</td>\n      <td>29</td>\n      <td>64.4</td>\n      <td>4.1</td>\n      <td>7.6</td>\n      <td>1.0</td>\n      <td>3.9</td>\n      <td>0.4</td>\n      <td>1</td>\n    </tr>\n    <tr>\n      <th>2</th>\n      <td>3</td>\n      <td>6</td>\n      <td>26</td>\n      <td>47.1</td>\n      <td>2.5</td>\n      <td>7.1</td>\n      <td>0.3</td>\n      <td>2.7</td>\n      <td>0.1</td>\n      <td>1</td>\n    </tr>\n    <tr>\n      <th>3</th>\n      <td>4</td>\n      <td>6</td>\n      <td>25</td>\n      <td>28.6</td>\n      <td>1.3</td>\n      <td>6.9</td>\n      <td>0.0</td>\n      <td>1.7</td>\n      <td>0.0</td>\n      <td>1</td>\n    </tr>\n    <tr>\n      <th>4</th>\n      <td>5</td>\n      <td>6</td>\n      <td>27</td>\n      <td>64.8</td>\n      <td>3.0</td>\n      <td>14.2</td>\n      <td>1.2</td>\n      <td>3.9</td>\n      <td>0.5</td>\n      <td>1</td>\n    </tr>\n    <tr>\n      <th>...</th>\n      <td>...</td>\n      <td>...</td>\n      <td>...</td>\n      <td>...</td>\n      <td>...</td>\n      <td>...</td>\n      <td>...</td>\n      <td>...</td>\n      <td>...</td>\n      <td>...</td>\n    </tr>\n    <tr>\n      <th>239</th>\n      <td>26</td>\n      <td>9</td>\n      <td>30</td>\n      <td>85.4</td>\n      <td>16.0</td>\n      <td>44.5</td>\n      <td>4.5</td>\n      <td>16.9</td>\n      <td>6.5</td>\n      <td>0</td>\n    </tr>\n    <tr>\n      <th>240</th>\n      <td>27</td>\n      <td>9</td>\n      <td>28</td>\n      <td>41.1</td>\n      <td>6.5</td>\n      <td>8.0</td>\n      <td>0.1</td>\n      <td>6.2</td>\n      <td>0.0</td>\n      <td>1</td>\n    </tr>\n    <tr>\n      <th>241</th>\n      <td>28</td>\n      <td>9</td>\n      <td>27</td>\n      <td>45.9</td>\n      <td>3.5</td>\n      <td>7.9</td>\n      <td>0.4</td>\n      <td>3.4</td>\n      <td>0.2</td>\n      <td>1</td>\n    </tr>\n    <tr>\n      <th>242</th>\n      <td>29</td>\n      <td>9</td>\n      <td>24</td>\n      <td>79.7</td>\n      <td>4.3</td>\n      <td>15.2</td>\n      <td>1.7</td>\n      <td>5.1</td>\n      <td>0.7</td>\n      <td>1</td>\n    </tr>\n    <tr>\n      <th>243</th>\n      <td>30</td>\n      <td>9</td>\n      <td>24</td>\n      <td>67.3</td>\n      <td>3.8</td>\n      <td>16.5</td>\n      <td>1.2</td>\n      <td>4.8</td>\n      <td>0.5</td>\n      <td>1</td>\n    </tr>\n  </tbody>\n</table>\n<p>243 rows × 10 columns</p>\n</div>"
     },
     "metadata": {}
    }
   ],
   "execution_count": null
  },
  {
   "cell_type": "code",
   "metadata": {
    "tags": [],
    "cell_id": "00003-09445be6-a117-4c44-8a6c-9b7030e65444",
    "deepnote_to_be_reexecuted": false,
    "source_hash": "c7d53e96",
    "execution_start": 1635758679290,
    "execution_millis": 2062,
    "deepnote_cell_type": "code"
   },
   "source": "import matplotlib.pyplot as plt\nimport seaborn as sns\n\nsns.heatmap(data.corr().abs(), annot=True)",
   "outputs": [
    {
     "output_type": "execute_result",
     "execution_count": 16,
     "data": {
      "text/plain": "<AxesSubplot:>"
     },
     "metadata": {}
    },
    {
     "data": {
      "text/plain": "<Figure size 432x288 with 2 Axes>",
      "image/png": "[encoded data removed]"
     },
     "metadata": {
      "needs_background": "light",
      "image/png": {
       "width": 402,
       "height": 305
      }
     },
     "output_type": "display_data"
    }
   ],
   "execution_count": null
  },
  {
   "cell_type": "code",
   "metadata": {
    "tags": [],
    "cell_id": "00016-f21e6381-2de0-4669-ad0a-a5540749de26",
    "deepnote_to_be_reexecuted": false,
    "source_hash": "edd6d1a6",
    "execution_start": 1635758681360,
    "execution_millis": 105,
    "deepnote_cell_type": "code"
   },
   "source": "x = data.drop(['Classes'], axis=1)\ny = data['Classes']\nx",
   "outputs": [
    {
     "output_type": "execute_result",
     "execution_count": 17,
     "data": {
      "application/vnd.deepnote.dataframe.v2+json": {
       "row_count": 243,
       "column_count": 9,
       "columns": [
        {
         "name": "day",
         "dtype": "int64",
         "stats": {
          "unique_count": 31,
          "nan_count": 0,
          "min": "1",
          "max": "31",
          "histogram": [
           {
            "bin_start": 1,
            "bin_end": 4,
            "count": 24
           },
           {
            "bin_start": 4,
            "bin_end": 7,
            "count": 24
           },
           {
            "bin_start": 7,
            "bin_end": 10,
            "count": 24
           },
           {
            "bin_start": 10,
            "bin_end": 13,
            "count": 24
           },
           {
            "bin_start": 13,
            "bin_end": 16,
            "count": 23
           },
           {
            "bin_start": 16,
            "bin_end": 19,
            "count": 24
           },
           {
            "bin_start": 19,
            "bin_end": 22,
            "count": 24
           },
           {
            "bin_start": 22,
            "bin_end": 25,
            "count": 24
           },
           {
            "bin_start": 25,
            "bin_end": 28,
            "count": 24
           },
           {
            "bin_start": 28,
            "bin_end": 31,
            "count": 28
           }
          ]
         }
        },
        {
         "name": "month",
         "dtype": "int64",
         "stats": {
          "unique_count": 4,
          "nan_count": 0,
          "min": "6",
          "max": "9",
          "histogram": [
           {
            "bin_start": 6,
            "bin_end": 6.3,
            "count": 60
           },
           {
            "bin_start": 6.3,
            "bin_end": 6.6,
            "count": 0
           },
           {
            "bin_start": 6.6,
            "bin_end": 6.9,
            "count": 0
           },
           {
            "bin_start": 6.9,
            "bin_end": 7.2,
            "count": 61
           },
           {
            "bin_start": 7.2,
            "bin_end": 7.5,
            "count": 0
           },
           {
            "bin_start": 7.5,
            "bin_end": 7.8,
            "count": 0
           },
           {
            "bin_start": 7.8,
            "bin_end": 8.1,
            "count": 62
           },
           {
            "bin_start": 8.1,
            "bin_end": 8.4,
            "count": 0
           },
           {
            "bin_start": 8.4,
            "bin_end": 8.7,
            "count": 0
           },
           {
            "bin_start": 8.7,
            "bin_end": 9,
            "count": 60
           }
          ]
         }
        },
        {
         "name": "Temperature",
         "dtype": "int64",
         "stats": {
          "unique_count": 19,
          "nan_count": 0,
          "min": "22",
          "max": "42",
          "histogram": [
           {
            "bin_start": 22,
            "bin_end": 24,
            "count": 2
           },
           {
            "bin_start": 24,
            "bin_end": 26,
            "count": 9
           },
           {
            "bin_start": 26,
            "bin_end": 28,
            "count": 13
           },
           {
            "bin_start": 28,
            "bin_end": 30,
            "count": 33
           },
           {
            "bin_start": 30,
            "bin_end": 32,
            "count": 47
           },
           {
            "bin_start": 32,
            "bin_end": 34,
            "count": 44
           },
           {
            "bin_start": 34,
            "bin_end": 36,
            "count": 53
           },
           {
            "bin_start": 36,
            "bin_end": 38,
            "count": 29
           },
           {
            "bin_start": 38,
            "bin_end": 40,
            "count": 9
           },
           {
            "bin_start": 40,
            "bin_end": 42,
            "count": 4
           }
          ]
         }
        },
        {
         "name": "FFMC",
         "dtype": "float64",
         "stats": {
          "unique_count": 173,
          "nan_count": 0,
          "min": "28.6",
          "max": "96.0",
          "histogram": [
           {
            "bin_start": 28.6,
            "bin_end": 35.34,
            "count": 2
           },
           {
            "bin_start": 35.34,
            "bin_end": 42.08,
            "count": 5
           },
           {
            "bin_start": 42.08,
            "bin_end": 48.82,
            "count": 11
           },
           {
            "bin_start": 48.82,
            "bin_end": 55.56,
            "count": 5
           },
           {
            "bin_start": 55.56,
            "bin_end": 62.300000000000004,
            "count": 16
           },
           {
            "bin_start": 62.300000000000004,
            "bin_end": 69.03999999999999,
            "count": 16
           },
           {
            "bin_start": 69.03999999999999,
            "bin_end": 75.78,
            "count": 20
           },
           {
            "bin_start": 75.78,
            "bin_end": 82.52000000000001,
            "count": 42
           },
           {
            "bin_start": 82.52000000000001,
            "bin_end": 89.26,
            "count": 86
           },
           {
            "bin_start": 89.26,
            "bin_end": 96,
            "count": 40
           }
          ]
         }
        },
        {
         "name": "DMC",
         "dtype": "float64",
         "stats": {
          "unique_count": 165,
          "nan_count": 0,
          "min": "0.7",
          "max": "65.9",
          "histogram": [
           {
            "bin_start": 0.7,
            "bin_end": 7.220000000000001,
            "count": 80
           },
           {
            "bin_start": 7.220000000000001,
            "bin_end": 13.74,
            "count": 66
           },
           {
            "bin_start": 13.74,
            "bin_end": 20.26,
            "count": 35
           },
           {
            "bin_start": 20.26,
            "bin_end": 26.78,
            "count": 30
           },
           {
            "bin_start": 26.78,
            "bin_end": 33.300000000000004,
            "count": 11
           },
           {
            "bin_start": 33.300000000000004,
            "bin_end": 39.82000000000001,
            "count": 7
           },
           {
            "bin_start": 39.82000000000001,
            "bin_end": 46.34,
            "count": 6
           },
           {
            "bin_start": 46.34,
            "bin_end": 52.86000000000001,
            "count": 4
           },
           {
            "bin_start": 52.86000000000001,
            "bin_end": 59.38000000000001,
            "count": 2
           },
           {
            "bin_start": 59.38000000000001,
            "bin_end": 65.9,
            "count": 2
           }
          ]
         }
        },
        {
         "name": "DC",
         "dtype": "float64",
         "stats": {
          "unique_count": 197,
          "nan_count": 0,
          "min": "6.9",
          "max": "220.4",
          "histogram": [
           {
            "bin_start": 6.9,
            "bin_end": 28.25,
            "count": 109
           },
           {
            "bin_start": 28.25,
            "bin_end": 49.6,
            "count": 50
           },
           {
            "bin_start": 49.6,
            "bin_end": 70.95000000000002,
            "count": 23
           },
           {
            "bin_start": 70.95000000000002,
            "bin_end": 92.30000000000001,
            "count": 21
           },
           {
            "bin_start": 92.30000000000001,
            "bin_end": 113.65,
            "count": 12
           },
           {
            "bin_start": 113.65,
            "bin_end": 135.00000000000003,
            "count": 7
           },
           {
            "bin_start": 135.00000000000003,
            "bin_end": 156.35000000000002,
            "count": 7
           },
           {
            "bin_start": 156.35000000000002,
            "bin_end": 177.70000000000002,
            "count": 8
           },
           {
            "bin_start": 177.70000000000002,
            "bin_end": 199.05,
            "count": 3
           },
           {
            "bin_start": 199.05,
            "bin_end": 220.4,
            "count": 3
           }
          ]
         }
        },
        {
         "name": "ISI",
         "dtype": "float64",
         "stats": {
          "unique_count": 106,
          "nan_count": 0,
          "min": "0.0",
          "max": "19.0",
          "histogram": [
           {
            "bin_start": 0,
            "bin_end": 1.9,
            "count": 80
           },
           {
            "bin_start": 1.9,
            "bin_end": 3.8,
            "count": 44
           },
           {
            "bin_start": 3.8,
            "bin_end": 5.699999999999999,
            "count": 40
           },
           {
            "bin_start": 5.699999999999999,
            "bin_end": 7.6,
            "count": 24
           },
           {
            "bin_start": 7.6,
            "bin_end": 9.5,
            "count": 21
           },
           {
            "bin_start": 9.5,
            "bin_end": 11.399999999999999,
            "count": 15
           },
           {
            "bin_start": 11.399999999999999,
            "bin_end": 13.299999999999999,
            "count": 6
           },
           {
            "bin_start": 13.299999999999999,
            "bin_end": 15.2,
            "count": 5
           },
           {
            "bin_start": 15.2,
            "bin_end": 17.099999999999998,
            "count": 5
           },
           {
            "bin_start": 17.099999999999998,
            "bin_end": 19,
            "count": 3
           }
          ]
         }
        },
        {
         "name": "BUI",
         "dtype": "float64",
         "stats": {
          "unique_count": 173,
          "nan_count": 0,
          "min": "1.1",
          "max": "68.0",
          "histogram": [
           {
            "bin_start": 1.1,
            "bin_end": 7.790000000000001,
            "count": 80
           },
           {
            "bin_start": 7.790000000000001,
            "bin_end": 14.48,
            "count": 57
           },
           {
            "bin_start": 14.48,
            "bin_end": 21.17,
            "count": 35
           },
           {
            "bin_start": 21.17,
            "bin_end": 27.860000000000003,
            "count": 27
           },
           {
            "bin_start": 27.860000000000003,
            "bin_end": 34.550000000000004,
            "count": 14
           },
           {
            "bin_start": 34.550000000000004,
            "bin_end": 41.24,
            "count": 13
           },
           {
            "bin_start": 41.24,
            "bin_end": 47.93000000000001,
            "count": 6
           },
           {
            "bin_start": 47.93000000000001,
            "bin_end": 54.620000000000005,
            "count": 2
           },
           {
            "bin_start": 54.620000000000005,
            "bin_end": 61.31,
            "count": 5
           },
           {
            "bin_start": 61.31,
            "bin_end": 68,
            "count": 4
           }
          ]
         }
        },
        {
         "name": "FWI",
         "dtype": "float64",
         "stats": {
          "unique_count": 125,
          "nan_count": 0,
          "min": "0.0",
          "max": "31.1",
          "histogram": [
           {
            "bin_start": 0,
            "bin_end": 3.1100000000000003,
            "count": 106
           },
           {
            "bin_start": 3.1100000000000003,
            "bin_end": 6.220000000000001,
            "count": 33
           },
           {
            "bin_start": 6.220000000000001,
            "bin_end": 9.330000000000002,
            "count": 26
           },
           {
            "bin_start": 9.330000000000002,
            "bin_end": 12.440000000000001,
            "count": 22
           },
           {
            "bin_start": 12.440000000000001,
            "bin_end": 15.55,
            "count": 21
           },
           {
            "bin_start": 15.55,
            "bin_end": 18.660000000000004,
            "count": 13
           },
           {
            "bin_start": 18.660000000000004,
            "bin_end": 21.770000000000003,
            "count": 11
           },
           {
            "bin_start": 21.770000000000003,
            "bin_end": 24.880000000000003,
            "count": 3
           },
           {
            "bin_start": 24.880000000000003,
            "bin_end": 27.990000000000002,
            "count": 4
           },
           {
            "bin_start": 27.990000000000002,
            "bin_end": 31.1,
            "count": 4
           }
          ]
         }
        },
        {
         "name": "_deepnote_index_column",
         "dtype": "int64"
        }
       ],
       "rows_top": [
        {
         "day": 1,
         "month": 6,
         "Temperature": 29,
         "FFMC": 65.7,
         "DMC": 3.4,
         "DC": 7.6,
         "ISI": 1.3,
         "BUI": 3.4,
         "FWI": 0.5,
         "_deepnote_index_column": 0
        },
        {
         "day": 2,
         "month": 6,
         "Temperature": 29,
         "FFMC": 64.4,
         "DMC": 4.1,
         "DC": 7.6,
         "ISI": 1,
         "BUI": 3.9,
         "FWI": 0.4,
         "_deepnote_index_column": 1
        },
        {
         "day": 3,
         "month": 6,
         "Temperature": 26,
         "FFMC": 47.1,
         "DMC": 2.5,
         "DC": 7.1,
         "ISI": 0.3,
         "BUI": 2.7,
         "FWI": 0.1,
         "_deepnote_index_column": 2
        },
        {
         "day": 4,
         "month": 6,
         "Temperature": 25,
         "FFMC": 28.6,
         "DMC": 1.3,
         "DC": 6.9,
         "ISI": 0,
         "BUI": 1.7,
         "FWI": 0,
         "_deepnote_index_column": 3
        },
        {
         "day": 5,
         "month": 6,
         "Temperature": 27,
         "FFMC": 64.8,
         "DMC": 3,
         "DC": 14.2,
         "ISI": 1.2,
         "BUI": 3.9,
         "FWI": 0.5,
         "_deepnote_index_column": 4
        },
        {
         "day": 6,
         "month": 6,
         "Temperature": 31,
         "FFMC": 82.6,
         "DMC": 5.8,
         "DC": 22.2,
         "ISI": 3.1,
         "BUI": 7,
         "FWI": 2.5,
         "_deepnote_index_column": 5
        },
        {
         "day": 7,
         "month": 6,
         "Temperature": 33,
         "FFMC": 88.2,
         "DMC": 9.9,
         "DC": 30.5,
         "ISI": 6.4,
         "BUI": 10.9,
         "FWI": 7.2,
         "_deepnote_index_column": 6
        },
        {
         "day": 8,
         "month": 6,
         "Temperature": 30,
         "FFMC": 86.6,
         "DMC": 12.1,
         "DC": 38.3,
         "ISI": 5.6,
         "BUI": 13.5,
         "FWI": 7.1,
         "_deepnote_index_column": 7
        },
        {
         "day": 9,
         "month": 6,
         "Temperature": 25,
         "FFMC": 52.9,
         "DMC": 7.9,
         "DC": 38.8,
         "ISI": 0.4,
         "BUI": 10.5,
         "FWI": 0.3,
         "_deepnote_index_column": 8
        },
        {
         "day": 10,
         "month": 6,
         "Temperature": 28,
         "FFMC": 73.2,
         "DMC": 9.5,
         "DC": 46.3,
         "ISI": 1.3,
         "BUI": 12.6,
         "FWI": 0.9,
         "_deepnote_index_column": 9
        },
        {
         "day": 11,
         "month": 6,
         "Temperature": 31,
         "FFMC": 84.5,
         "DMC": 12.5,
         "DC": 54.3,
         "ISI": 4,
         "BUI": 15.8,
         "FWI": 5.6,
         "_deepnote_index_column": 10
        },
        {
         "day": 12,
         "month": 6,
         "Temperature": 26,
         "FFMC": 84,
         "DMC": 13.8,
         "DC": 61.4,
         "ISI": 4.8,
         "BUI": 17.7,
         "FWI": 7.1,
         "_deepnote_index_column": 11
        },
        {
         "day": 13,
         "month": 6,
         "Temperature": 27,
         "FFMC": 50,
         "DMC": 6.7,
         "DC": 17,
         "ISI": 0.5,
         "BUI": 6.7,
         "FWI": 0.2,
         "_deepnote_index_column": 12
        },
        {
         "day": 14,
         "month": 6,
         "Temperature": 30,
         "FFMC": 59,
         "DMC": 4.6,
         "DC": 7.8,
         "ISI": 1,
         "BUI": 4.4,
         "FWI": 0.4,
         "_deepnote_index_column": 13
        },
        {
         "day": 15,
         "month": 6,
         "Temperature": 28,
         "FFMC": 49.4,
         "DMC": 3,
         "DC": 7.4,
         "ISI": 0.4,
         "BUI": 3,
         "FWI": 0.1,
         "_deepnote_index_column": 14
        },
        {
         "day": 16,
         "month": 6,
         "Temperature": 29,
         "FFMC": 36.1,
         "DMC": 1.7,
         "DC": 7.6,
         "ISI": 0,
         "BUI": 2.2,
         "FWI": 0,
         "_deepnote_index_column": 15
        },
        {
         "day": 17,
         "month": 6,
         "Temperature": 30,
         "FFMC": 37.3,
         "DMC": 1.1,
         "DC": 7.8,
         "ISI": 0,
         "BUI": 1.6,
         "FWI": 0,
         "_deepnote_index_column": 16
        },
        {
         "day": 18,
         "month": 6,
         "Temperature": 31,
         "FFMC": 56.9,
         "DMC": 1.9,
         "DC": 8,
         "ISI": 0.7,
         "BUI": 2.4,
         "FWI": 0.2,
         "_deepnote_index_column": 17
        },
        {
         "day": 19,
         "month": 6,
         "Temperature": 31,
         "FFMC": 79.9,
         "DMC": 4.5,
         "DC": 16,
         "ISI": 2.5,
         "BUI": 5.3,
         "FWI": 1.4,
         "_deepnote_index_column": 18
        },
        {
         "day": 20,
         "month": 6,
         "Temperature": 30,
         "FFMC": 59.8,
         "DMC": 3.4,
         "DC": 27.1,
         "ISI": 0.9,
         "BUI": 5.1,
         "FWI": 0.4,
         "_deepnote_index_column": 19
        },
        {
         "day": 21,
         "month": 6,
         "Temperature": 30,
         "FFMC": 81,
         "DMC": 6.3,
         "DC": 31.6,
         "ISI": 2.6,
         "BUI": 8.4,
         "FWI": 2.2,
         "_deepnote_index_column": 20
        },
        {
         "day": 22,
         "month": 6,
         "Temperature": 31,
         "FFMC": 79.1,
         "DMC": 7,
         "DC": 39.5,
         "ISI": 2.4,
         "BUI": 9.7,
         "FWI": 2.3,
         "_deepnote_index_column": 21
        },
        {
         "day": 23,
         "month": 6,
         "Temperature": 32,
         "FFMC": 81.4,
         "DMC": 8.2,
         "DC": 47.7,
         "ISI": 3.3,
         "BUI": 11.5,
         "FWI": 3.8,
         "_deepnote_index_column": 22
        },
        {
         "day": 24,
         "month": 6,
         "Temperature": 32,
         "FFMC": 85.9,
         "DMC": 11.2,
         "DC": 55.8,
         "ISI": 5.6,
         "BUI": 14.9,
         "FWI": 7.5,
         "_deepnote_index_column": 23
        },
        {
         "day": 25,
         "month": 6,
         "Temperature": 31,
         "FFMC": 86.7,
         "DMC": 14.2,
         "DC": 63.8,
         "ISI": 5.7,
         "BUI": 18.3,
         "FWI": 8.4,
         "_deepnote_index_column": 24
        },
        {
         "day": 26,
         "month": 6,
         "Temperature": 31,
         "FFMC": 86.8,
         "DMC": 17.8,
         "DC": 71.8,
         "ISI": 6.7,
         "BUI": 21.6,
         "FWI": 10.6,
         "_deepnote_index_column": 25
        },
        {
         "day": 27,
         "month": 6,
         "Temperature": 34,
         "FFMC": 89,
         "DMC": 21.6,
         "DC": 80.3,
         "ISI": 9.2,
         "BUI": 25.8,
         "FWI": 15,
         "_deepnote_index_column": 26
        },
        {
         "day": 28,
         "month": 6,
         "Temperature": 32,
         "FFMC": 89.1,
         "DMC": 25.5,
         "DC": 88.5,
         "ISI": 7.6,
         "BUI": 29.7,
         "FWI": 13.9,
         "_deepnote_index_column": 27
        },
        {
         "day": 29,
         "month": 6,
         "Temperature": 32,
         "FFMC": 79.9,
         "DMC": 18.4,
         "DC": 84.4,
         "ISI": 2.2,
         "BUI": 23.8,
         "FWI": 3.9,
         "_deepnote_index_column": 28
        },
        {
         "day": 30,
         "month": 6,
         "Temperature": 33,
         "FFMC": 88.7,
         "DMC": 22.9,
         "DC": 92.8,
         "ISI": 7.2,
         "BUI": 28.3,
         "FWI": 12.9,
         "_deepnote_index_column": 29
        },
        {
         "day": 1,
         "month": 7,
         "Temperature": 29,
         "FFMC": 59.9,
         "DMC": 2.5,
         "DC": 8.6,
         "ISI": 1.1,
         "BUI": 2.9,
         "FWI": 0.4,
         "_deepnote_index_column": 30
        },
        {
         "day": 2,
         "month": 7,
         "Temperature": 27,
         "FFMC": 55.7,
         "DMC": 2.4,
         "DC": 8.3,
         "ISI": 0.8,
         "BUI": 2.8,
         "FWI": 0.3,
         "_deepnote_index_column": 31
        },
        {
         "day": 3,
         "month": 7,
         "Temperature": 32,
         "FFMC": 63.1,
         "DMC": 2.6,
         "DC": 9.2,
         "ISI": 1.3,
         "BUI": 3,
         "FWI": 0.5,
         "_deepnote_index_column": 32
        },
        {
         "day": 4,
         "month": 7,
         "Temperature": 33,
         "FFMC": 80.1,
         "DMC": 4.6,
         "DC": 18.5,
         "ISI": 2.7,
         "BUI": 5.7,
         "FWI": 1.7,
         "_deepnote_index_column": 33
        },
        {
         "day": 5,
         "month": 7,
         "Temperature": 33,
         "FFMC": 85.9,
         "DMC": 7.6,
         "DC": 27.9,
         "ISI": 4.8,
         "BUI": 9.1,
         "FWI": 4.9,
         "_deepnote_index_column": 34
        },
        {
         "day": 6,
         "month": 7,
         "Temperature": 32,
         "FFMC": 87,
         "DMC": 10.9,
         "DC": 37,
         "ISI": 5.6,
         "BUI": 12.5,
         "FWI": 6.8,
         "_deepnote_index_column": 35
        },
        {
         "day": 7,
         "month": 7,
         "Temperature": 35,
         "FFMC": 80,
         "DMC": 9.7,
         "DC": 40.4,
         "ISI": 2.8,
         "BUI": 12.1,
         "FWI": 3.2,
         "_deepnote_index_column": 36
        },
        {
         "day": 8,
         "month": 7,
         "Temperature": 33,
         "FFMC": 85.6,
         "DMC": 12.5,
         "DC": 49.8,
         "ISI": 6,
         "BUI": 15.4,
         "FWI": 8,
         "_deepnote_index_column": 37
        },
        {
         "day": 9,
         "month": 7,
         "Temperature": 32,
         "FFMC": 66.6,
         "DMC": 7.7,
         "DC": 9.2,
         "ISI": 1.1,
         "BUI": 7.4,
         "FWI": 0.6,
         "_deepnote_index_column": 38
        },
        {
         "day": 10,
         "month": 7,
         "Temperature": 33,
         "FFMC": 66.6,
         "DMC": 6,
         "DC": 9.3,
         "ISI": 1.1,
         "BUI": 5.8,
         "FWI": 0.5,
         "_deepnote_index_column": 39
        },
        {
         "day": 11,
         "month": 7,
         "Temperature": 33,
         "FFMC": 81.1,
         "DMC": 8.1,
         "DC": 18.7,
         "ISI": 2.6,
         "BUI": 8.1,
         "FWI": 2.2,
         "_deepnote_index_column": 40
        },
        {
         "day": 12,
         "month": 7,
         "Temperature": 31,
         "FFMC": 75.1,
         "DMC": 7.9,
         "DC": 27.7,
         "ISI": 1.5,
         "BUI": 9.2,
         "FWI": 0.9,
         "_deepnote_index_column": 41
        },
        {
         "day": 13,
         "month": 7,
         "Temperature": 34,
         "FFMC": 81.8,
         "DMC": 9.7,
         "DC": 37.2,
         "ISI": 3,
         "BUI": 11.7,
         "FWI": 3.4,
         "_deepnote_index_column": 42
        },
        {
         "day": 14,
         "month": 7,
         "Temperature": 34,
         "FFMC": 73.9,
         "DMC": 7.8,
         "DC": 22.9,
         "ISI": 1.4,
         "BUI": 8.4,
         "FWI": 0.8,
         "_deepnote_index_column": 43
        },
        {
         "day": 15,
         "month": 7,
         "Temperature": 30,
         "FFMC": 60.7,
         "DMC": 5.2,
         "DC": 17,
         "ISI": 1.1,
         "BUI": 5.9,
         "FWI": 0.5,
         "_deepnote_index_column": 44
        },
        {
         "day": 16,
         "month": 7,
         "Temperature": 28,
         "FFMC": 72.6,
         "DMC": 7,
         "DC": 25.5,
         "ISI": 0.7,
         "BUI": 8.3,
         "FWI": 0.4,
         "_deepnote_index_column": 45
        },
        {
         "day": 17,
         "month": 7,
         "Temperature": 29,
         "FFMC": 82.8,
         "DMC": 9.4,
         "DC": 34.1,
         "ISI": 3.2,
         "BUI": 11.1,
         "FWI": 3.6,
         "_deepnote_index_column": 46
        },
        {
         "day": 18,
         "month": 7,
         "Temperature": 31,
         "FFMC": 85.4,
         "DMC": 12.1,
         "DC": 43.1,
         "ISI": 4.6,
         "BUI": 14.2,
         "FWI": 6,
         "_deepnote_index_column": 47
        },
        {
         "day": 19,
         "month": 7,
         "Temperature": 35,
         "FFMC": 88.1,
         "DMC": 12,
         "DC": 52.8,
         "ISI": 7.7,
         "BUI": 18.2,
         "FWI": 10.9,
         "_deepnote_index_column": 48
        },
        {
         "day": 20,
         "month": 7,
         "Temperature": 33,
         "FFMC": 81.4,
         "DMC": 12.3,
         "DC": 62.1,
         "ISI": 2.8,
         "BUI": 16.5,
         "FWI": 4,
         "_deepnote_index_column": 49
        },
        {
         "day": 21,
         "month": 7,
         "Temperature": 33,
         "FFMC": 85.4,
         "DMC": 18.5,
         "DC": 71.5,
         "ISI": 5.2,
         "BUI": 22.4,
         "FWI": 8.8,
         "_deepnote_index_column": 50
        },
        {
         "day": 22,
         "month": 7,
         "Temperature": 28,
         "FFMC": 73.4,
         "DMC": 16.4,
         "DC": 79.9,
         "ISI": 1.8,
         "BUI": 21.7,
         "FWI": 2.8,
         "_deepnote_index_column": 51
        },
        {
         "day": 23,
         "month": 7,
         "Temperature": 27,
         "FFMC": 68.2,
         "DMC": 10.5,
         "DC": 71.3,
         "ISI": 1.8,
         "BUI": 15.4,
         "FWI": 2.1,
         "_deepnote_index_column": 52
        },
        {
         "day": 24,
         "month": 7,
         "Temperature": 28,
         "FFMC": 70,
         "DMC": 9.6,
         "DC": 79.7,
         "ISI": 1.4,
         "BUI": 14.7,
         "FWI": 1.3,
         "_deepnote_index_column": 53
        },
        {
         "day": 25,
         "month": 7,
         "Temperature": 31,
         "FFMC": 84.3,
         "DMC": 12.5,
         "DC": 88.7,
         "ISI": 4.8,
         "BUI": 18.5,
         "FWI": 7.3,
         "_deepnote_index_column": 54
        }
       ],
       "rows_bottom": [
        {
         "day": 6,
         "month": 8,
         "Temperature": 30,
         "FFMC": 70.5,
         "DMC": 11,
         "DC": 9.1,
         "ISI": 1.3,
         "BUI": 10.5,
         "FWI": 0.8,
         "_deepnote_index_column": 188
        },
        {
         "day": 7,
         "month": 8,
         "Temperature": 34,
         "FFMC": 69.7,
         "DMC": 7.2,
         "DC": 9.8,
         "ISI": 1.2,
         "BUI": 6.9,
         "FWI": 0.6,
         "_deepnote_index_column": 189
        },
        {
         "day": 8,
         "month": 8,
         "Temperature": 37,
         "FFMC": 87.4,
         "DMC": 11.2,
         "DC": 20.2,
         "ISI": 5.2,
         "BUI": 11,
         "FWI": 5.9,
         "_deepnote_index_column": 190
        },
        {
         "day": 9,
         "month": 8,
         "Temperature": 39,
         "FFMC": 91.7,
         "DMC": 16.5,
         "DC": 30.9,
         "ISI": 9.6,
         "BUI": 16.4,
         "FWI": 12.7,
         "_deepnote_index_column": 191
        },
        {
         "day": 10,
         "month": 8,
         "Temperature": 39,
         "FFMC": 89.3,
         "DMC": 15.8,
         "DC": 35.4,
         "ISI": 8.2,
         "BUI": 15.8,
         "FWI": 10.7,
         "_deepnote_index_column": 192
        },
        {
         "day": 11,
         "month": 8,
         "Temperature": 40,
         "FFMC": 94.2,
         "DMC": 22.5,
         "DC": 46.3,
         "ISI": 16.6,
         "BUI": 22.4,
         "FWI": 21.6,
         "_deepnote_index_column": 193
        },
        {
         "day": 12,
         "month": 8,
         "Temperature": 39,
         "FFMC": 93,
         "DMC": 18.4,
         "DC": 41.5,
         "ISI": 15.5,
         "BUI": 18.4,
         "FWI": 18.8,
         "_deepnote_index_column": 194
        },
        {
         "day": 13,
         "month": 8,
         "Temperature": 35,
         "FFMC": 88.3,
         "DMC": 16.9,
         "DC": 45.1,
         "ISI": 7.5,
         "BUI": 17.5,
         "FWI": 10.5,
         "_deepnote_index_column": 195
        },
        {
         "day": 14,
         "month": 8,
         "Temperature": 37,
         "FFMC": 91.9,
         "DMC": 22.3,
         "DC": 55.5,
         "ISI": 10.8,
         "BUI": 22.3,
         "FWI": 15.7,
         "_deepnote_index_column": 196
        },
        {
         "day": 15,
         "month": 8,
         "Temperature": 35,
         "FFMC": 83.9,
         "DMC": 16.9,
         "DC": 54.2,
         "ISI": 3.5,
         "BUI": 19,
         "FWI": 5.5,
         "_deepnote_index_column": 197
        },
        {
         "day": 16,
         "month": 8,
         "Temperature": 40,
         "FFMC": 92,
         "DMC": 22.6,
         "DC": 65.1,
         "ISI": 9.5,
         "BUI": 24.2,
         "FWI": 14.8,
         "_deepnote_index_column": 198
        },
        {
         "day": 17,
         "month": 8,
         "Temperature": 42,
         "FFMC": 96,
         "DMC": 30.3,
         "DC": 76.4,
         "ISI": 15.7,
         "BUI": 30.4,
         "FWI": 24,
         "_deepnote_index_column": 199
        },
        {
         "day": 18,
         "month": 8,
         "Temperature": 37,
         "FFMC": 94.3,
         "DMC": 35.9,
         "DC": 86.8,
         "ISI": 16,
         "BUI": 35.9,
         "FWI": 26.3,
         "_deepnote_index_column": 200
        },
        {
         "day": 19,
         "month": 8,
         "Temperature": 35,
         "FFMC": 82.7,
         "DMC": 32.7,
         "DC": 96.8,
         "ISI": 3.3,
         "BUI": 35.5,
         "FWI": 7.7,
         "_deepnote_index_column": 201
        },
        {
         "day": 20,
         "month": 8,
         "Temperature": 36,
         "FFMC": 83.7,
         "DMC": 34.4,
         "DC": 107,
         "ISI": 3.8,
         "BUI": 38.1,
         "FWI": 9,
         "_deepnote_index_column": 202
        },
        {
         "day": 21,
         "month": 8,
         "Temperature": 36,
         "FFMC": 86,
         "DMC": 36.9,
         "DC": 117.1,
         "ISI": 5.1,
         "BUI": 41.3,
         "FWI": 12.2,
         "_deepnote_index_column": 203
        },
        {
         "day": 22,
         "month": 8,
         "Temperature": 37,
         "FFMC": 89.5,
         "DMC": 41.1,
         "DC": 127.5,
         "ISI": 8,
         "BUI": 45.5,
         "FWI": 18.1,
         "_deepnote_index_column": 204
        },
        {
         "day": 23,
         "month": 8,
         "Temperature": 36,
         "FFMC": 91.2,
         "DMC": 46.1,
         "DC": 137.7,
         "ISI": 11.5,
         "BUI": 50.2,
         "FWI": 24.5,
         "_deepnote_index_column": 205
        },
        {
         "day": 24,
         "month": 8,
         "Temperature": 35,
         "FFMC": 92.1,
         "DMC": 51.3,
         "DC": 147.7,
         "ISI": 12.2,
         "BUI": 54.9,
         "FWI": 26.9,
         "_deepnote_index_column": 206
        },
        {
         "day": 25,
         "month": 8,
         "Temperature": 34,
         "FFMC": 92.1,
         "DMC": 56.3,
         "DC": 157.5,
         "ISI": 14.3,
         "BUI": 59.5,
         "FWI": 31.1,
         "_deepnote_index_column": 207
        },
        {
         "day": 26,
         "month": 8,
         "Temperature": 33,
         "FFMC": 92.2,
         "DMC": 61.3,
         "DC": 167.2,
         "ISI": 13.1,
         "BUI": 64,
         "FWI": 30.3,
         "_deepnote_index_column": 208
        },
        {
         "day": 27,
         "month": 8,
         "Temperature": 36,
         "FFMC": 91,
         "DMC": 65.9,
         "DC": 177.3,
         "ISI": 10,
         "BUI": 68,
         "FWI": 26.1,
         "_deepnote_index_column": 209
        },
        {
         "day": 28,
         "month": 8,
         "Temperature": 35,
         "FFMC": 79.2,
         "DMC": 37,
         "DC": 166,
         "ISI": 2.1,
         "BUI": 30.6,
         "FWI": 6.1,
         "_deepnote_index_column": 210
        },
        {
         "day": 29,
         "month": 8,
         "Temperature": 35,
         "FFMC": 80.2,
         "DMC": 20.7,
         "DC": 149.2,
         "ISI": 2.7,
         "BUI": 30.6,
         "FWI": 5.9,
         "_deepnote_index_column": 211
        },
        {
         "day": 30,
         "month": 8,
         "Temperature": 34,
         "FFMC": 89.2,
         "DMC": 24.8,
         "DC": 159.1,
         "ISI": 8.1,
         "BUI": 35.7,
         "FWI": 16,
         "_deepnote_index_column": 212
        },
        {
         "day": 31,
         "month": 8,
         "Temperature": 30,
         "FFMC": 89.1,
         "DMC": 27.8,
         "DC": 168.2,
         "ISI": 9.8,
         "BUI": 39.3,
         "FWI": 19.4,
         "_deepnote_index_column": 213
        },
        {
         "day": 1,
         "month": 9,
         "Temperature": 29,
         "FFMC": 37.9,
         "DMC": 0.9,
         "DC": 8.2,
         "ISI": 0.1,
         "BUI": 1.4,
         "FWI": 0,
         "_deepnote_index_column": 214
        },
        {
         "day": 2,
         "month": 9,
         "Temperature": 28,
         "FFMC": 75.4,
         "DMC": 2.9,
         "DC": 16.3,
         "ISI": 2,
         "BUI": 4,
         "FWI": 0.8,
         "_deepnote_index_column": 215
        },
        {
         "day": 3,
         "month": 9,
         "Temperature": 28,
         "FFMC": 82.2,
         "DMC": 4.4,
         "DC": 24.3,
         "ISI": 3.3,
         "BUI": 6,
         "FWI": 2.5,
         "_deepnote_index_column": 216
        },
        {
         "day": 4,
         "month": 9,
         "Temperature": 30,
         "FFMC": 73.5,
         "DMC": 4.1,
         "DC": 26.6,
         "ISI": 1.5,
         "BUI": 6,
         "FWI": 0.7,
         "_deepnote_index_column": 217
        },
        {
         "day": 5,
         "month": 9,
         "Temperature": 30,
         "FFMC": 66.1,
         "DMC": 4,
         "DC": 8.4,
         "ISI": 1,
         "BUI": 3.9,
         "FWI": 0.4,
         "_deepnote_index_column": 218
        },
        {
         "day": 6,
         "month": 9,
         "Temperature": 34,
         "FFMC": 64.5,
         "DMC": 3.3,
         "DC": 9.1,
         "ISI": 1,
         "BUI": 3.5,
         "FWI": 0.4,
         "_deepnote_index_column": 219
        },
        {
         "day": 7,
         "month": 9,
         "Temperature": 31,
         "FFMC": 83.3,
         "DMC": 5.8,
         "DC": 17.7,
         "ISI": 3.8,
         "BUI": 6.4,
         "FWI": 3.2,
         "_deepnote_index_column": 220
        },
        {
         "day": 8,
         "month": 9,
         "Temperature": 30,
         "FFMC": 82.5,
         "DMC": 6.6,
         "DC": 26.1,
         "ISI": 3,
         "BUI": 8.1,
         "FWI": 2.7,
         "_deepnote_index_column": 221
        },
        {
         "day": 9,
         "month": 9,
         "Temperature": 30,
         "FFMC": 83.1,
         "DMC": 7.9,
         "DC": 34.5,
         "ISI": 3.5,
         "BUI": 10,
         "FWI": 3.7,
         "_deepnote_index_column": 222
        },
        {
         "day": 10,
         "month": 9,
         "Temperature": 29,
         "FFMC": 59.5,
         "DMC": 4.7,
         "DC": 8.2,
         "ISI": 0.8,
         "BUI": 4.6,
         "FWI": 0.3,
         "_deepnote_index_column": 223
        },
        {
         "day": 11,
         "month": 9,
         "Temperature": 30,
         "FFMC": 79.2,
         "DMC": 6.5,
         "DC": 16.6,
         "ISI": 2.1,
         "BUI": 6.6,
         "FWI": 1.2,
         "_deepnote_index_column": 224
        },
        {
         "day": 12,
         "month": 9,
         "Temperature": 31,
         "FFMC": 84.2,
         "DMC": 8.3,
         "DC": 25.2,
         "ISI": 3.8,
         "BUI": 9.1,
         "FWI": 3.9,
         "_deepnote_index_column": 225
        },
        {
         "day": 13,
         "month": 9,
         "Temperature": 29,
         "FFMC": 88.6,
         "DMC": 11.5,
         "DC": 33.4,
         "ISI": 9.1,
         "BUI": 12.4,
         "FWI": 10.3,
         "_deepnote_index_column": 226
        },
        {
         "day": 14,
         "month": 9,
         "Temperature": 28,
         "FFMC": 84.6,
         "DMC": 12.6,
         "DC": 41.5,
         "ISI": 4.3,
         "BUI": 14.3,
         "FWI": 5.7,
         "_deepnote_index_column": 227
        },
        {
         "day": 15,
         "month": 9,
         "Temperature": 32,
         "FFMC": 88.7,
         "DMC": 16,
         "DC": 50.2,
         "ISI": 6.9,
         "BUI": 17.8,
         "FWI": 9.8,
         "_deepnote_index_column": 228
        },
        {
         "day": 16,
         "month": 9,
         "Temperature": 33,
         "FFMC": 93.9,
         "DMC": 21.2,
         "DC": 59.2,
         "ISI": 14.2,
         "BUI": 22.4,
         "FWI": 19.3,
         "_deepnote_index_column": 229
        },
        {
         "day": 17,
         "month": 9,
         "Temperature": 34,
         "FFMC": 92.5,
         "DMC": 25.2,
         "DC": 63.3,
         "ISI": 11.2,
         "BUI": 26.2,
         "FWI": 17.5,
         "_deepnote_index_column": 230
        },
        {
         "day": 18,
         "month": 9,
         "Temperature": 36,
         "FFMC": 90.6,
         "DMC": 25.8,
         "DC": 77.8,
         "ISI": 9,
         "BUI": 28.2,
         "FWI": 15.4,
         "_deepnote_index_column": 231
        },
        {
         "day": 19,
         "month": 9,
         "Temperature": 29,
         "FFMC": 83.9,
         "DMC": 24.9,
         "DC": 86,
         "ISI": 2.7,
         "BUI": 28.9,
         "FWI": 5.6,
         "_deepnote_index_column": 232
        },
        {
         "day": 20,
         "month": 9,
         "Temperature": 34,
         "FFMC": 79.5,
         "DMC": 18.7,
         "DC": 88,
         "ISI": 2.1,
         "BUI": 24.4,
         "FWI": 3.8,
         "_deepnote_index_column": 233
        },
        {
         "day": 21,
         "month": 9,
         "Temperature": 35,
         "FFMC": 92.2,
         "DMC": 23.6,
         "DC": 97.3,
         "ISI": 13.8,
         "BUI": 29.4,
         "FWI": 21.6,
         "_deepnote_index_column": 234
        },
        {
         "day": 22,
         "month": 9,
         "Temperature": 33,
         "FFMC": 88.9,
         "DMC": 26.1,
         "DC": 106.3,
         "ISI": 7.1,
         "BUI": 32.4,
         "FWI": 13.7,
         "_deepnote_index_column": 235
        },
        {
         "day": 23,
         "month": 9,
         "Temperature": 35,
         "FFMC": 89,
         "DMC": 29.4,
         "DC": 115.6,
         "ISI": 7.5,
         "BUI": 36,
         "FWI": 15.2,
         "_deepnote_index_column": 236
        },
        {
         "day": 24,
         "month": 9,
         "Temperature": 26,
         "FFMC": 61.3,
         "DMC": 11.9,
         "DC": 28.1,
         "ISI": 0.6,
         "BUI": 11.9,
         "FWI": 0.4,
         "_deepnote_index_column": 237
        },
        {
         "day": 25,
         "month": 9,
         "Temperature": 28,
         "FFMC": 79.9,
         "DMC": 13.8,
         "DC": 36.1,
         "ISI": 2.4,
         "BUI": 14.1,
         "FWI": 3,
         "_deepnote_index_column": 238
        },
        {
         "day": 26,
         "month": 9,
         "Temperature": 30,
         "FFMC": 85.4,
         "DMC": 16,
         "DC": 44.5,
         "ISI": 4.5,
         "BUI": 16.9,
         "FWI": 6.5,
         "_deepnote_index_column": 239
        },
        {
         "day": 27,
         "month": 9,
         "Temperature": 28,
         "FFMC": 41.1,
         "DMC": 6.5,
         "DC": 8,
         "ISI": 0.1,
         "BUI": 6.2,
         "FWI": 0,
         "_deepnote_index_column": 240
        },
        {
         "day": 28,
         "month": 9,
         "Temperature": 27,
         "FFMC": 45.9,
         "DMC": 3.5,
         "DC": 7.9,
         "ISI": 0.4,
         "BUI": 3.4,
         "FWI": 0.2,
         "_deepnote_index_column": 241
        },
        {
         "day": 29,
         "month": 9,
         "Temperature": 24,
         "FFMC": 79.7,
         "DMC": 4.3,
         "DC": 15.2,
         "ISI": 1.7,
         "BUI": 5.1,
         "FWI": 0.7,
         "_deepnote_index_column": 242
        },
        {
         "day": 30,
         "month": 9,
         "Temperature": 24,
         "FFMC": 67.3,
         "DMC": 3.8,
         "DC": 16.5,
         "ISI": 1.2,
         "BUI": 4.8,
         "FWI": 0.5,
         "_deepnote_index_column": 243
        }
       ]
      },
      "text/plain": "     day  month  Temperature  FFMC   DMC    DC  ISI   BUI  FWI\n0      1      6           29  65.7   3.4   7.6  1.3   3.4  0.5\n1      2      6           29  64.4   4.1   7.6  1.0   3.9  0.4\n2      3      6           26  47.1   2.5   7.1  0.3   2.7  0.1\n3      4      6           25  28.6   1.3   6.9  0.0   1.7  0.0\n4      5      6           27  64.8   3.0  14.2  1.2   3.9  0.5\n..   ...    ...          ...   ...   ...   ...  ...   ...  ...\n239   26      9           30  85.4  16.0  44.5  4.5  16.9  6.5\n240   27      9           28  41.1   6.5   8.0  0.1   6.2  0.0\n241   28      9           27  45.9   3.5   7.9  0.4   3.4  0.2\n242   29      9           24  79.7   4.3  15.2  1.7   5.1  0.7\n243   30      9           24  67.3   3.8  16.5  1.2   4.8  0.5\n\n[243 rows x 9 columns]",
      "text/html": "<div>\n<style scoped>\n    .dataframe tbody tr th:only-of-type {\n        vertical-align: middle;\n    }\n\n    .dataframe tbody tr th {\n        vertical-align: top;\n    }\n\n    .dataframe thead th {\n        text-align: right;\n    }\n</style>\n<table border=\"1\" class=\"dataframe\">\n  <thead>\n    <tr style=\"text-align: right;\">\n      <th></th>\n      <th>day</th>\n      <th>month</th>\n      <th>Temperature</th>\n      <th>FFMC</th>\n      <th>DMC</th>\n      <th>DC</th>\n      <th>ISI</th>\n      <th>BUI</th>\n      <th>FWI</th>\n    </tr>\n  </thead>\n  <tbody>\n    <tr>\n      <th>0</th>\n      <td>1</td>\n      <td>6</td>\n      <td>29</td>\n      <td>65.7</td>\n      <td>3.4</td>\n      <td>7.6</td>\n      <td>1.3</td>\n      <td>3.4</td>\n      <td>0.5</td>\n    </tr>\n    <tr>\n      <th>1</th>\n      <td>2</td>\n      <td>6</td>\n      <td>29</td>\n      <td>64.4</td>\n      <td>4.1</td>\n      <td>7.6</td>\n      <td>1.0</td>\n      <td>3.9</td>\n      <td>0.4</td>\n    </tr>\n    <tr>\n      <th>2</th>\n      <td>3</td>\n      <td>6</td>\n      <td>26</td>\n      <td>47.1</td>\n      <td>2.5</td>\n      <td>7.1</td>\n      <td>0.3</td>\n      <td>2.7</td>\n      <td>0.1</td>\n    </tr>\n    <tr>\n      <th>3</th>\n      <td>4</td>\n      <td>6</td>\n      <td>25</td>\n      <td>28.6</td>\n      <td>1.3</td>\n      <td>6.9</td>\n      <td>0.0</td>\n      <td>1.7</td>\n      <td>0.0</td>\n    </tr>\n    <tr>\n      <th>4</th>\n      <td>5</td>\n      <td>6</td>\n      <td>27</td>\n      <td>64.8</td>\n      <td>3.0</td>\n      <td>14.2</td>\n      <td>1.2</td>\n      <td>3.9</td>\n      <td>0.5</td>\n    </tr>\n    <tr>\n      <th>...</th>\n      <td>...</td>\n      <td>...</td>\n      <td>...</td>\n      <td>...</td>\n      <td>...</td>\n      <td>...</td>\n      <td>...</td>\n      <td>...</td>\n      <td>...</td>\n    </tr>\n    <tr>\n      <th>239</th>\n      <td>26</td>\n      <td>9</td>\n      <td>30</td>\n      <td>85.4</td>\n      <td>16.0</td>\n      <td>44.5</td>\n      <td>4.5</td>\n      <td>16.9</td>\n      <td>6.5</td>\n    </tr>\n    <tr>\n      <th>240</th>\n      <td>27</td>\n      <td>9</td>\n      <td>28</td>\n      <td>41.1</td>\n      <td>6.5</td>\n      <td>8.0</td>\n      <td>0.1</td>\n      <td>6.2</td>\n      <td>0.0</td>\n    </tr>\n    <tr>\n      <th>241</th>\n      <td>28</td>\n      <td>9</td>\n      <td>27</td>\n      <td>45.9</td>\n      <td>3.5</td>\n      <td>7.9</td>\n      <td>0.4</td>\n      <td>3.4</td>\n      <td>0.2</td>\n    </tr>\n    <tr>\n      <th>242</th>\n      <td>29</td>\n      <td>9</td>\n      <td>24</td>\n      <td>79.7</td>\n      <td>4.3</td>\n      <td>15.2</td>\n      <td>1.7</td>\n      <td>5.1</td>\n      <td>0.7</td>\n    </tr>\n    <tr>\n      <th>243</th>\n      <td>30</td>\n      <td>9</td>\n      <td>24</td>\n      <td>67.3</td>\n      <td>3.8</td>\n      <td>16.5</td>\n      <td>1.2</td>\n      <td>4.8</td>\n      <td>0.5</td>\n    </tr>\n  </tbody>\n</table>\n<p>243 rows × 9 columns</p>\n</div>"
     },
     "metadata": {}
    }
   ],
   "execution_count": null
  },
  {
   "cell_type": "code",
   "metadata": {
    "tags": [],
    "cell_id": "00004-16d613de-05e0-4092-b389-436f3807148c",
    "deepnote_to_be_reexecuted": false,
    "source_hash": "51182435",
    "execution_start": 1635758681469,
    "execution_millis": 236,
    "deepnote_cell_type": "code"
   },
   "source": "from sklearn.tree import DecisionTreeClassifier\n\nclf = DecisionTreeClassifier(random_state=1)\nclf.fit(x, y)\nclf.feature_importances_",
   "outputs": [
    {
     "output_type": "execute_result",
     "execution_count": 18,
     "data": {
      "text/plain": "array([0.        , 0.01852608, 0.        , 0.93496588, 0.00836662,\n       0.        , 0.03814143, 0.        , 0.        ])"
     },
     "metadata": {}
    }
   ],
   "execution_count": null
  },
  {
   "cell_type": "code",
   "metadata": {
    "tags": [],
    "cell_id": "00018-823de85a-482b-4f57-884e-2f825e848074",
    "deepnote_to_be_reexecuted": false,
    "source_hash": "6c7e717e",
    "execution_start": 1635758681656,
    "execution_millis": 11,
    "deepnote_cell_type": "code"
   },
   "source": "from sklearn.model_selection import train_test_split\n\nx_ta, x_te, y_ta, y_te = train_test_split(x[['FFMC']], y, test_size=0.3, random_state=1)",
   "outputs": [],
   "execution_count": null
  },
  {
   "cell_type": "code",
   "metadata": {
    "tags": [],
    "cell_id": "00019-230e0320-1d21-4150-b921-92a150382079",
    "deepnote_to_be_reexecuted": false,
    "source_hash": "9f87697a",
    "execution_start": 1635758681671,
    "execution_millis": 35,
    "deepnote_cell_type": "code"
   },
   "source": "x_ta",
   "outputs": [
    {
     "output_type": "execute_result",
     "execution_count": 20,
     "data": {
      "application/vnd.deepnote.dataframe.v2+json": {
       "row_count": 170,
       "column_count": 1,
       "columns": [
        {
         "name": "FFMC",
         "dtype": "float64",
         "stats": {
          "unique_count": 136,
          "nan_count": 0,
          "min": "28.6",
          "max": "96.0",
          "histogram": [
           {
            "bin_start": 28.6,
            "bin_end": 35.34,
            "count": 1
           },
           {
            "bin_start": 35.34,
            "bin_end": 42.08,
            "count": 3
           },
           {
            "bin_start": 42.08,
            "bin_end": 48.82,
            "count": 8
           },
           {
            "bin_start": 48.82,
            "bin_end": 55.56,
            "count": 4
           },
           {
            "bin_start": 55.56,
            "bin_end": 62.300000000000004,
            "count": 10
           },
           {
            "bin_start": 62.300000000000004,
            "bin_end": 69.03999999999999,
            "count": 9
           },
           {
            "bin_start": 69.03999999999999,
            "bin_end": 75.78,
            "count": 18
           },
           {
            "bin_start": 75.78,
            "bin_end": 82.52000000000001,
            "count": 30
           },
           {
            "bin_start": 82.52000000000001,
            "bin_end": 89.26,
            "count": 60
           },
           {
            "bin_start": 89.26,
            "bin_end": 96,
            "count": 27
           }
          ]
         }
        },
        {
         "name": "_deepnote_index_column",
         "dtype": "int64"
        }
       ],
       "rows_top": [
        {
         "FFMC": 68.4,
         "_deepnote_index_column": 95
        },
        {
         "FFMC": 85.4,
         "_deepnote_index_column": 59
        },
        {
         "FFMC": 58.5,
         "_deepnote_index_column": 102
        },
        {
         "FFMC": 87.8,
         "_deepnote_index_column": 147
        },
        {
         "FFMC": 59.5,
         "_deepnote_index_column": 223
        },
        {
         "FFMC": 89.4,
         "_deepnote_index_column": 88
        },
        {
         "FFMC": 49.4,
         "_deepnote_index_column": 14
        },
        {
         "FFMC": 82.5,
         "_deepnote_index_column": 221
        },
        {
         "FFMC": 79.1,
         "_deepnote_index_column": 21
        },
        {
         "FFMC": 90.3,
         "_deepnote_index_column": 56
        },
        {
         "FFMC": 91,
         "_deepnote_index_column": 209
        },
        {
         "FFMC": 89.2,
         "_deepnote_index_column": 55
        },
        {
         "FFMC": 73.7,
         "_deepnote_index_column": 114
        },
        {
         "FFMC": 88.9,
         "_deepnote_index_column": 84
        },
        {
         "FFMC": 70,
         "_deepnote_index_column": 53
        },
        {
         "FFMC": 78.1,
         "_deepnote_index_column": 130
        },
        {
         "FFMC": 87.3,
         "_deepnote_index_column": 174
        },
        {
         "FFMC": 88.7,
         "_deepnote_index_column": 228
        },
        {
         "FFMC": 47.4,
         "_deepnote_index_column": 120
        },
        {
         "FFMC": 81.8,
         "_deepnote_index_column": 42
        },
        {
         "FFMC": 56.9,
         "_deepnote_index_column": 17
        },
        {
         "FFMC": 82.6,
         "_deepnote_index_column": 5
        },
        {
         "FFMC": 89.3,
         "_deepnote_index_column": 182
        },
        {
         "FFMC": 72.8,
         "_deepnote_index_column": 175
        },
        {
         "FFMC": 88.1,
         "_deepnote_index_column": 48
        },
        {
         "FFMC": 83.9,
         "_deepnote_index_column": 197
        },
        {
         "FFMC": 86.4,
         "_deepnote_index_column": 66
        },
        {
         "FFMC": 88.9,
         "_deepnote_index_column": 70
        },
        {
         "FFMC": 37.9,
         "_deepnote_index_column": 214
        },
        {
         "FFMC": 87.8,
         "_deepnote_index_column": 112
        },
        {
         "FFMC": 91.9,
         "_deepnote_index_column": 196
        },
        {
         "FFMC": 84.3,
         "_deepnote_index_column": 54
        },
        {
         "FFMC": 79.5,
         "_deepnote_index_column": 233
        },
        {
         "FFMC": 69.6,
         "_deepnote_index_column": 98
        },
        {
         "FFMC": 80,
         "_deepnote_index_column": 178
        },
        {
         "FFMC": 83.7,
         "_deepnote_index_column": 127
        },
        {
         "FFMC": 87.7,
         "_deepnote_index_column": 108
        },
        {
         "FFMC": 85.3,
         "_deepnote_index_column": 145
        },
        {
         "FFMC": 75.8,
         "_deepnote_index_column": 97
        },
        {
         "FFMC": 89.1,
         "_deepnote_index_column": 82
        },
        {
         "FFMC": 55.7,
         "_deepnote_index_column": 123
        },
        {
         "FFMC": 47.4,
         "_deepnote_index_column": 105
        },
        {
         "FFMC": 79.9,
         "_deepnote_index_column": 238
        },
        {
         "FFMC": 42.6,
         "_deepnote_index_column": 94
        },
        {
         "FFMC": 63.7,
         "_deepnote_index_column": 152
        },
        {
         "FFMC": 50,
         "_deepnote_index_column": 12
        },
        {
         "FFMC": 74.8,
         "_deepnote_index_column": 162
        },
        {
         "FFMC": 62.2,
         "_deepnote_index_column": 138
        },
        {
         "FFMC": 83.1,
         "_deepnote_index_column": 222
        },
        {
         "FFMC": 84.6,
         "_deepnote_index_column": 168
        },
        {
         "FFMC": 91.7,
         "_deepnote_index_column": 191
        },
        {
         "FFMC": 96,
         "_deepnote_index_column": 199
        },
        {
         "FFMC": 92.5,
         "_deepnote_index_column": 230
        },
        {
         "FFMC": 88.6,
         "_deepnote_index_column": 81
        },
        {
         "FFMC": 48.7,
         "_deepnote_index_column": 124
        },
        {
         "FFMC": 82.3,
         "_deepnote_index_column": 160
        },
        {
         "FFMC": 77.5,
         "_deepnote_index_column": 161
        },
        {
         "FFMC": 59,
         "_deepnote_index_column": 13
        },
        {
         "FFMC": 75.4,
         "_deepnote_index_column": 215
        },
        {
         "FFMC": 84.5,
         "_deepnote_index_column": 167
        },
        {
         "FFMC": 72.6,
         "_deepnote_index_column": 45
        },
        {
         "FFMC": 80.8,
         "_deepnote_index_column": 159
        },
        {
         "FFMC": 71,
         "_deepnote_index_column": 103
        },
        {
         "FFMC": 80,
         "_deepnote_index_column": 36
        },
        {
         "FFMC": 92,
         "_deepnote_index_column": 198
        },
        {
         "FFMC": 84.6,
         "_deepnote_index_column": 227
        },
        {
         "FFMC": 87.4,
         "_deepnote_index_column": 190
        },
        {
         "FFMC": 92.2,
         "_deepnote_index_column": 234
        },
        {
         "FFMC": 82.4,
         "_deepnote_index_column": 75
        },
        {
         "FFMC": 86.2,
         "_deepnote_index_column": 150
        },
        {
         "FFMC": 80.2,
         "_deepnote_index_column": 211
        },
        {
         "FFMC": 69.7,
         "_deepnote_index_column": 189
        },
        {
         "FFMC": 47.1,
         "_deepnote_index_column": 2
        },
        {
         "FFMC": 88.3,
         "_deepnote_index_column": 187
        },
        {
         "FFMC": 88.2,
         "_deepnote_index_column": 6
        },
        {
         "FFMC": 83.9,
         "_deepnote_index_column": 232
        },
        {
         "FFMC": 89.3,
         "_deepnote_index_column": 192
        },
        {
         "FFMC": 89.3,
         "_deepnote_index_column": 77
        },
        {
         "FFMC": 77.8,
         "_deepnote_index_column": 113
        },
        {
         "FFMC": 86.8,
         "_deepnote_index_column": 65
        },
        {
         "FFMC": 79.7,
         "_deepnote_index_column": 151
        },
        {
         "FFMC": 82.8,
         "_deepnote_index_column": 46
        },
        {
         "FFMC": 87,
         "_deepnote_index_column": 74
        },
        {
         "FFMC": 46,
         "_deepnote_index_column": 92
        },
        {
         "FFMC": 88.1,
         "_deepnote_index_column": 180
        },
        {
         "FFMC": 84.9,
         "_deepnote_index_column": 87
        },
        {
         "FFMC": 78.3,
         "_deepnote_index_column": 143
        },
        {
         "FFMC": 89.9,
         "_deepnote_index_column": 171
        },
        {
         "FFMC": 84.5,
         "_deepnote_index_column": 10
        },
        {
         "FFMC": 63.1,
         "_deepnote_index_column": 32
        },
        {
         "FFMC": 66.8,
         "_deepnote_index_column": 136
        },
        {
         "FFMC": 89.5,
         "_deepnote_index_column": 83
        },
        {
         "FFMC": 88.9,
         "_deepnote_index_column": 235
        },
        {
         "FFMC": 90.5,
         "_deepnote_index_column": 166
        },
        {
         "FFMC": 88,
         "_deepnote_index_column": 155
        },
        {
         "FFMC": 56.1,
         "_deepnote_index_column": 100
        },
        {
         "FFMC": 79.4,
         "_deepnote_index_column": 125
        },
        {
         "FFMC": 85.9,
         "_deepnote_index_column": 23
        },
        {
         "FFMC": 77.1,
         "_deepnote_index_column": 126
        },
        {
         "FFMC": 73.2,
         "_deepnote_index_column": 9
        },
        {
         "FFMC": 92.2,
         "_deepnote_index_column": 208
        },
        {
         "FFMC": 40.9,
         "_deepnote_index_column": 104
        },
        {
         "FFMC": 87.6,
         "_deepnote_index_column": 153
        },
        {
         "FFMC": 70.5,
         "_deepnote_index_column": 188
        },
        {
         "FFMC": 53.4,
         "_deepnote_index_column": 135
        },
        {
         "FFMC": 83.8,
         "_deepnote_index_column": 111
        },
        {
         "FFMC": 93.9,
         "_deepnote_index_column": 229
        },
        {
         "FFMC": 85,
         "_deepnote_index_column": 64
        },
        {
         "FFMC": 36.1,
         "_deepnote_index_column": 15
        },
        {
         "FFMC": 75.1,
         "_deepnote_index_column": 41
        },
        {
         "FFMC": 82.7,
         "_deepnote_index_column": 201
        },
        {
         "FFMC": 89.4,
         "_deepnote_index_column": 109
        },
        {
         "FFMC": 88.3,
         "_deepnote_index_column": 80
        },
        {
         "FFMC": 68.2,
         "_deepnote_index_column": 52
        },
        {
         "FFMC": 89,
         "_deepnote_index_column": 26
        },
        {
         "FFMC": 80.2,
         "_deepnote_index_column": 76
        },
        {
         "FFMC": 73.9,
         "_deepnote_index_column": 43
        },
        {
         "FFMC": 86.7,
         "_deepnote_index_column": 24
        },
        {
         "FFMC": 28.6,
         "_deepnote_index_column": 3
        },
        {
         "FFMC": 92.1,
         "_deepnote_index_column": 207
        },
        {
         "FFMC": 81.4,
         "_deepnote_index_column": 49
        },
        {
         "FFMC": 92.5,
         "_deepnote_index_column": 149
        },
        {
         "FFMC": 89.4,
         "_deepnote_index_column": 131
        },
        {
         "FFMC": 90.6,
         "_deepnote_index_column": 231
        },
        {
         "FFMC": 59.9,
         "_deepnote_index_column": 30
        },
        {
         "FFMC": 45,
         "_deepnote_index_column": 121
        },
        {
         "FFMC": 73.8,
         "_deepnote_index_column": 176
        },
        {
         "FFMC": 68.3,
         "_deepnote_index_column": 115
        },
        {
         "FFMC": 79.2,
         "_deepnote_index_column": 224
        },
        {
         "FFMC": 52.9,
         "_deepnote_index_column": 8
        },
        {
         "FFMC": 87.2,
         "_deepnote_index_column": 60
        },
        {
         "FFMC": 85.6,
         "_deepnote_index_column": 128
        },
        {
         "FFMC": 64.4,
         "_deepnote_index_column": 1
        },
        {
         "FFMC": 86.5,
         "_deepnote_index_column": 57
        },
        {
         "FFMC": 81.4,
         "_deepnote_index_column": 22
        },
        {
         "FFMC": 78.8,
         "_deepnote_index_column": 61
        },
        {
         "FFMC": 76.6,
         "_deepnote_index_column": 63
        },
        {
         "FFMC": 86.6,
         "_deepnote_index_column": 7
        },
        {
         "FFMC": 85.4,
         "_deepnote_index_column": 239
        },
        {
         "FFMC": 60.2,
         "_deepnote_index_column": 141
        },
        {
         "FFMC": 85.8,
         "_deepnote_index_column": 86
        },
        {
         "FFMC": 80.8,
         "_deepnote_index_column": 96
        },
        {
         "FFMC": 73.5,
         "_deepnote_index_column": 217
        },
        {
         "FFMC": 82.2,
         "_deepnote_index_column": 216
        },
        {
         "FFMC": 77.1,
         "_deepnote_index_column": 68
        },
        {
         "FFMC": 85.4,
         "_deepnote_index_column": 50
        },
        {
         "FFMC": 86.2,
         "_deepnote_index_column": 142
        },
        {
         "FFMC": 84.7,
         "_deepnote_index_column": 157
        },
        {
         "FFMC": 90.5,
         "_deepnote_index_column": 156
        },
        {
         "FFMC": 65.5,
         "_deepnote_index_column": 139
        },
        {
         "FFMC": 89.1,
         "_deepnote_index_column": 213
        },
        {
         "FFMC": 86,
         "_deepnote_index_column": 146
        },
        {
         "FFMC": 59.9,
         "_deepnote_index_column": 101
        },
        {
         "FFMC": 81,
         "_deepnote_index_column": 20
        },
        {
         "FFMC": 87.5,
         "_deepnote_index_column": 179
        },
        {
         "FFMC": 86.8,
         "_deepnote_index_column": 25
        },
        {
         "FFMC": 72.3,
         "_deepnote_index_column": 134
        },
        {
         "FFMC": 88.9,
         "_deepnote_index_column": 71
        },
        {
         "FFMC": 91.2,
         "_deepnote_index_column": 205
        },
        {
         "FFMC": 71.4,
         "_deepnote_index_column": 129
        },
        {
         "FFMC": 74.2,
         "_deepnote_index_column": 144
        },
        {
         "FFMC": 94.2,
         "_deepnote_index_column": 193
        },
        {
         "FFMC": 89.4,
         "_deepnote_index_column": 79
        },
        {
         "FFMC": 88.9,
         "_deepnote_index_column": 133
        },
        {
         "FFMC": 89.5,
         "_deepnote_index_column": 204
        },
        {
         "FFMC": 47.4,
         "_deepnote_index_column": 137
        },
        {
         "FFMC": 81.3,
         "_deepnote_index_column": 72
        },
        {
         "FFMC": 64.6,
         "_deepnote_index_column": 140
        },
        {
         "FFMC": 89,
         "_deepnote_index_column": 236
        },
        {
         "FFMC": 85.6,
         "_deepnote_index_column": 37
        }
       ],
       "rows_bottom": null
      },
      "text/plain": "     FFMC\n95   68.4\n59   85.4\n102  58.5\n147  87.8\n223  59.5\n..    ...\n137  47.4\n72   81.3\n140  64.6\n236  89.0\n37   85.6\n\n[170 rows x 1 columns]",
      "text/html": "<div>\n<style scoped>\n    .dataframe tbody tr th:only-of-type {\n        vertical-align: middle;\n    }\n\n    .dataframe tbody tr th {\n        vertical-align: top;\n    }\n\n    .dataframe thead th {\n        text-align: right;\n    }\n</style>\n<table border=\"1\" class=\"dataframe\">\n  <thead>\n    <tr style=\"text-align: right;\">\n      <th></th>\n      <th>FFMC</th>\n    </tr>\n  </thead>\n  <tbody>\n    <tr>\n      <th>95</th>\n      <td>68.4</td>\n    </tr>\n    <tr>\n      <th>59</th>\n      <td>85.4</td>\n    </tr>\n    <tr>\n      <th>102</th>\n      <td>58.5</td>\n    </tr>\n    <tr>\n      <th>147</th>\n      <td>87.8</td>\n    </tr>\n    <tr>\n      <th>223</th>\n      <td>59.5</td>\n    </tr>\n    <tr>\n      <th>...</th>\n      <td>...</td>\n    </tr>\n    <tr>\n      <th>137</th>\n      <td>47.4</td>\n    </tr>\n    <tr>\n      <th>72</th>\n      <td>81.3</td>\n    </tr>\n    <tr>\n      <th>140</th>\n      <td>64.6</td>\n    </tr>\n    <tr>\n      <th>236</th>\n      <td>89.0</td>\n    </tr>\n    <tr>\n      <th>37</th>\n      <td>85.6</td>\n    </tr>\n  </tbody>\n</table>\n<p>170 rows × 1 columns</p>\n</div>"
     },
     "metadata": {}
    }
   ],
   "execution_count": null
  },
  {
   "cell_type": "code",
   "metadata": {
    "tags": [],
    "cell_id": "00019-3561ae4c-2002-49a1-843c-3cc45134d474",
    "deepnote_to_be_reexecuted": false,
    "source_hash": "2a5ee1a2",
    "execution_start": 1635758681928,
    "execution_millis": 6,
    "deepnote_cell_type": "code"
   },
   "source": "clf = DecisionTreeClassifier(random_state=1)\nclf.fit(x_ta, y_ta)",
   "outputs": [
    {
     "output_type": "execute_result",
     "execution_count": 21,
     "data": {
      "text/plain": "DecisionTreeClassifier(random_state=1)"
     },
     "metadata": {}
    }
   ],
   "execution_count": null
  },
  {
   "cell_type": "code",
   "metadata": {
    "tags": [],
    "cell_id": "00021-f37d5307-8c4a-442e-a2f6-e509afe513c5",
    "deepnote_to_be_reexecuted": false,
    "source_hash": "8ece9234",
    "execution_start": 1635758682409,
    "execution_millis": 14,
    "deepnote_cell_type": "code"
   },
   "source": "from sklearn.metrics import confusion_matrix",
   "outputs": [],
   "execution_count": null
  },
  {
   "cell_type": "code",
   "metadata": {
    "tags": [],
    "cell_id": "00021-ec8f887a-0d53-4eaa-b3da-5467df2252b3",
    "deepnote_to_be_reexecuted": false,
    "source_hash": "5b45e2a9",
    "execution_start": 1635758682757,
    "execution_millis": 9,
    "deepnote_cell_type": "code"
   },
   "source": "y_pred = clf.predict(x_ta)\n\nconfusion_matrix(y_ta, y_pred)",
   "outputs": [
    {
     "output_type": "execute_result",
     "execution_count": 23,
     "data": {
      "text/plain": "array([[98,  0],\n       [ 0, 72]])"
     },
     "metadata": {}
    }
   ],
   "execution_count": null
  },
  {
   "cell_type": "code",
   "metadata": {
    "tags": [],
    "cell_id": "00022-f24812f3-c0ec-43ba-87f4-8b9b95bea585",
    "deepnote_to_be_reexecuted": false,
    "source_hash": "81a6f70f",
    "execution_start": 1635758701634,
    "execution_millis": 35,
    "deepnote_cell_type": "code"
   },
   "source": "y_pred = clf.predict(x_te)\n\nconfusion_matrix(y_te, y_pred)",
   "outputs": [
    {
     "output_type": "execute_result",
     "execution_count": 24,
     "data": {
      "text/plain": "array([[39,  0],\n       [ 1, 33]])"
     },
     "metadata": {}
    }
   ],
   "execution_count": null
  },
  {
   "cell_type": "code",
   "source": "",
   "metadata": {
    "tags": [],
    "cell_id": "00025-0625720f-f01e-4278-926a-9e4207f95de4",
    "deepnote_cell_type": "code"
   },
   "outputs": [],
   "execution_count": null
  },
  {
   "cell_type": "markdown",
   "source": "<a style='text-decoration:none;line-height:16px;display:flex;color:#5B5B62;padding:10px;justify-content:end;' href='https://deepnote.com?utm_source=created-in-deepnote-cell&projectId=a5ba1956-2aa0-49ed-9952-f1c7a30328f2' target=\"_blank\">\n<img alt='Created in deepnote.com' style='display:inline;max-height:16px;margin:0px;margin-right:7.5px;' src='data:image/svg+xml;base64,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' > </img>\nCreated in <span style='font-weight:600;margin-left:4px;'>Deepnote</span></a>",
   "metadata": {
    "tags": [],
    "created_in_deepnote_cell": true,
    "deepnote_cell_type": "markdown"
   }
  }
 ],
 "nbformat": 4,
 "nbformat_minor": 2,
 "metadata": {
  "orig_nbformat": 2,
  "deepnote": {
   "is_reactive": false
  },
  "deepnote_notebook_id": "e86103ee-dc44-4ddc-89fd-f62a7fb37e0c",
  "deepnote_execution_queue": []
 }
}