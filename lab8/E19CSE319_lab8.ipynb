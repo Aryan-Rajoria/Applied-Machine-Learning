{
 "cells": [
  {
   "cell_type": "code",
   "metadata": {
    "tags": [],
    "cell_id": "00000-11fa9358-77af-4c93-8c6e-01b44ddfc50e",
    "deepnote_to_be_reexecuted": false,
    "source_hash": "7e25b8ed",
    "execution_start": 1636967712314,
    "execution_millis": 1109,
    "deepnote_cell_type": "code"
   },
   "source": "import urllib\n\nurllib.request.urlretrieve('https://archive.ics.uci.edu/ml/machine-learning-databases/00438/Health-News-Tweets.zip', '/work/Labs/lab8/data.zip')",
   "outputs": [
    {
     "output_type": "execute_result",
     "execution_count": 1,
     "data": {
      "text/plain": "('/work/Labs/lab8/data.zip', <http.client.HTTPMessage at 0x7f0819203110>)"
     },
     "metadata": {}
    }
   ],
   "execution_count": null
  },
  {
   "cell_type": "code",
   "source": "!unzip '/work/Labs/lab8/data.zip'",
   "metadata": {
    "tags": [],
    "cell_id": "00001-c779ee66-372d-4671-a7a3-80a6bb4f6642",
    "deepnote_to_be_reexecuted": false,
    "source_hash": "97424e15",
    "execution_start": 1636967744121,
    "execution_millis": 565,
    "is_code_hidden": false,
    "is_output_hidden": true,
    "deepnote_cell_type": "code"
   },
   "outputs": [
    {
     "name": "stdout",
     "text": "Archive:  /work/Labs/lab8/data.zip\n   creating: Health-Tweets/\n  inflating: Health-Tweets/bbchealth.txt  \n   creating: __MACOSX/\n   creating: __MACOSX/Health-Tweets/\n  inflating: __MACOSX/Health-Tweets/._bbchealth.txt  \n  inflating: Health-Tweets/cbchealth.txt  \n  inflating: __MACOSX/Health-Tweets/._cbchealth.txt  \n  inflating: Health-Tweets/cnnhealth.txt  \n  inflating: __MACOSX/Health-Tweets/._cnnhealth.txt  \n  inflating: Health-Tweets/everydayhealth.txt  \n  inflating: __MACOSX/Health-Tweets/._everydayhealth.txt  \n  inflating: Health-Tweets/foxnewshealth.txt  \n  inflating: __MACOSX/Health-Tweets/._foxnewshealth.txt  \n  inflating: Health-Tweets/gdnhealthcare.txt  \n  inflating: __MACOSX/Health-Tweets/._gdnhealthcare.txt  \n  inflating: Health-Tweets/goodhealth.txt  \n  inflating: __MACOSX/Health-Tweets/._goodhealth.txt  \n  inflating: Health-Tweets/KaiserHealthNews.txt  \n  inflating: __MACOSX/Health-Tweets/._KaiserHealthNews.txt  \n  inflating: Health-Tweets/latimeshealth.txt  \n  inflating: __MACOSX/Health-Tweets/._latimeshealth.txt  \n  inflating: Health-Tweets/msnhealthnews.txt  \n  inflating: __MACOSX/Health-Tweets/._msnhealthnews.txt  \n  inflating: Health-Tweets/NBChealth.txt  \n  inflating: __MACOSX/Health-Tweets/._NBChealth.txt  \n  inflating: Health-Tweets/nprhealth.txt  \n  inflating: __MACOSX/Health-Tweets/._nprhealth.txt  \n  inflating: Health-Tweets/nytimeshealth.txt  \n  inflating: __MACOSX/Health-Tweets/._nytimeshealth.txt  \n  inflating: Health-Tweets/reuters_health.txt  \n  inflating: __MACOSX/Health-Tweets/._reuters_health.txt  \n  inflating: Health-Tweets/usnewshealth.txt  \n  inflating: __MACOSX/Health-Tweets/._usnewshealth.txt  \n  inflating: Health-Tweets/wsjhealth.txt  \n  inflating: __MACOSX/Health-Tweets/._wsjhealth.txt  \n  inflating: __MACOSX/._Health-Tweets  \n",
     "output_type": "stream"
    }
   ],
   "execution_count": null
  },
  {
   "cell_type": "code",
   "source": "",
   "metadata": {
    "tags": [],
    "cell_id": "00002-bad0275d-151a-4ee9-8493-6c2933f7e454",
    "deepnote_cell_type": "code"
   },
   "outputs": [],
   "execution_count": null
  },
  {
   "cell_type": "markdown",
   "source": "<a style='text-decoration:none;line-height:16px;display:flex;color:#5B5B62;padding:10px;justify-content:end;' href='https://deepnote.com?utm_source=created-in-deepnote-cell&projectId=a5ba1956-2aa0-49ed-9952-f1c7a30328f2' target=\"_blank\">\n<img alt='Created in deepnote.com' style='display:inline;max-height:16px;margin:0px;margin-right:7.5px;' src='data:image/svg+xml;base64,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' > </img>\nCreated in <span style='font-weight:600;margin-left:4px;'>Deepnote</span></a>",
   "metadata": {
    "tags": [],
    "created_in_deepnote_cell": true,
    "deepnote_cell_type": "markdown"
   }
  }
 ],
 "nbformat": 4,
 "nbformat_minor": 2,
 "metadata": {
  "orig_nbformat": 2,
  "deepnote": {
   "is_reactive": false
  },
  "deepnote_notebook_id": "1de894df-641a-433a-b343-26b5c3c6f419",
  "deepnote_execution_queue": []
 }
}