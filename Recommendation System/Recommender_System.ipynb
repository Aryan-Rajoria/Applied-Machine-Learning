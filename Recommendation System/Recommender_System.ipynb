{
 "cells": [
  {
   "cell_type": "code",
   "metadata": {
    "id": "twD4DA8rLA9O",
    "cell_id": "00000-5e43c0ca-d637-45b4-be55-89e80733640b",
    "deepnote_cell_type": "code"
   },
   "source": "import matplotlib.pyplot as plt\nimport seaborn as sns\n",
   "outputs": [],
   "execution_count": null
  },
  {
   "cell_type": "code",
   "metadata": {
    "id": "WMQhpjto-RMO",
    "cell_id": "00001-d2676ea4-e5bf-4593-b04e-e2bfe2d5dc27",
    "deepnote_cell_type": "code"
   },
   "source": "import pandas as pd\ndf_movies=pd.read_csv('../../data/tmdb_5000_movies.csv')\ndf_credits =pd.read_csv('../../data/tmdb_5000_credits.csv')\n",
   "outputs": [],
   "execution_count": null
  },
  {
   "cell_type": "code",
   "metadata": {
    "colab": {
     "base_uri": "https://localhost:8080/",
     "height": 447
    },
    "id": "n93qFulD_RDh",
    "outputId": "a1de2693-2bc5-4638-f279-46cec4ae26b4",
    "cell_id": "00002-4bed3e82-9e11-4507-9e20-9a1ee1a891a4",
    "deepnote_cell_type": "code"
   },
   "source": "df_movies.head(3)",
   "outputs": [
    {
     "data": {
      "text/html": "<div>\n<style scoped>\n    .dataframe tbody tr th:only-of-type {\n        vertical-align: middle;\n    }\n\n    .dataframe tbody tr th {\n        vertical-align: top;\n    }\n\n    .dataframe thead th {\n        text-align: right;\n    }\n</style>\n<table border=\"1\" class=\"dataframe\">\n  <thead>\n    <tr style=\"text-align: right;\">\n      <th></th>\n      <th>budget</th>\n      <th>genres</th>\n      <th>homepage</th>\n      <th>id</th>\n      <th>keywords</th>\n      <th>original_language</th>\n      <th>original_title</th>\n      <th>overview</th>\n      <th>popularity</th>\n      <th>production_companies</th>\n      <th>production_countries</th>\n      <th>release_date</th>\n      <th>revenue</th>\n      <th>runtime</th>\n      <th>spoken_languages</th>\n      <th>status</th>\n      <th>tagline</th>\n      <th>title</th>\n      <th>vote_average</th>\n      <th>vote_count</th>\n    </tr>\n  </thead>\n  <tbody>\n    <tr>\n      <th>0</th>\n      <td>237000000</td>\n      <td>[{\"id\": 28, \"name\": \"Action\"}, {\"id\": 12, \"nam...</td>\n      <td>http://www.avatarmovie.com/</td>\n      <td>19995</td>\n      <td>[{\"id\": 1463, \"name\": \"culture clash\"}, {\"id\":...</td>\n      <td>en</td>\n      <td>Avatar</td>\n      <td>In the 22nd century, a paraplegic Marine is di...</td>\n      <td>150.437577</td>\n      <td>[{\"name\": \"Ingenious Film Partners\", \"id\": 289...</td>\n      <td>[{\"iso_3166_1\": \"US\", \"name\": \"United States o...</td>\n      <td>2009-12-10</td>\n      <td>2787965087</td>\n      <td>162.0</td>\n      <td>[{\"iso_639_1\": \"en\", \"name\": \"English\"}, {\"iso...</td>\n      <td>Released</td>\n      <td>Enter the World of Pandora.</td>\n      <td>Avatar</td>\n      <td>7.2</td>\n      <td>11800</td>\n    </tr>\n    <tr>\n      <th>1</th>\n      <td>300000000</td>\n      <td>[{\"id\": 12, \"name\": \"Adventure\"}, {\"id\": 14, \"...</td>\n      <td>http://disney.go.com/disneypictures/pirates/</td>\n      <td>285</td>\n      <td>[{\"id\": 270, \"name\": \"ocean\"}, {\"id\": 726, \"na...</td>\n      <td>en</td>\n      <td>Pirates of the Caribbean: At World's End</td>\n      <td>Captain Barbossa, long believed to be dead, ha...</td>\n      <td>139.082615</td>\n      <td>[{\"name\": \"Walt Disney Pictures\", \"id\": 2}, {\"...</td>\n      <td>[{\"iso_3166_1\": \"US\", \"name\": \"United States o...</td>\n      <td>2007-05-19</td>\n      <td>961000000</td>\n      <td>169.0</td>\n      <td>[{\"iso_639_1\": \"en\", \"name\": \"English\"}]</td>\n      <td>Released</td>\n      <td>At the end of the world, the adventure begins.</td>\n      <td>Pirates of the Caribbean: At World's End</td>\n      <td>6.9</td>\n      <td>4500</td>\n    </tr>\n    <tr>\n      <th>2</th>\n      <td>245000000</td>\n      <td>[{\"id\": 28, \"name\": \"Action\"}, {\"id\": 12, \"nam...</td>\n      <td>http://www.sonypictures.com/movies/spectre/</td>\n      <td>206647</td>\n      <td>[{\"id\": 470, \"name\": \"spy\"}, {\"id\": 818, \"name...</td>\n      <td>en</td>\n      <td>Spectre</td>\n      <td>A cryptic message from Bond’s past sends him o...</td>\n      <td>107.376788</td>\n      <td>[{\"name\": \"Columbia Pictures\", \"id\": 5}, {\"nam...</td>\n      <td>[{\"iso_3166_1\": \"GB\", \"name\": \"United Kingdom\"...</td>\n      <td>2015-10-26</td>\n      <td>880674609</td>\n      <td>148.0</td>\n      <td>[{\"iso_639_1\": \"fr\", \"name\": \"Fran\\u00e7ais\"},...</td>\n      <td>Released</td>\n      <td>A Plan No One Escapes</td>\n      <td>Spectre</td>\n      <td>6.3</td>\n      <td>4466</td>\n    </tr>\n  </tbody>\n</table>\n</div>",
      "text/plain": "      budget                                             genres  \\\n0  237000000  [{\"id\": 28, \"name\": \"Action\"}, {\"id\": 12, \"nam...   \n1  300000000  [{\"id\": 12, \"name\": \"Adventure\"}, {\"id\": 14, \"...   \n2  245000000  [{\"id\": 28, \"name\": \"Action\"}, {\"id\": 12, \"nam...   \n\n                                       homepage      id  \\\n0                   http://www.avatarmovie.com/   19995   \n1  http://disney.go.com/disneypictures/pirates/     285   \n2   http://www.sonypictures.com/movies/spectre/  206647   \n\n                                            keywords original_language  \\\n0  [{\"id\": 1463, \"name\": \"culture clash\"}, {\"id\":...                en   \n1  [{\"id\": 270, \"name\": \"ocean\"}, {\"id\": 726, \"na...                en   \n2  [{\"id\": 470, \"name\": \"spy\"}, {\"id\": 818, \"name...                en   \n\n                             original_title  \\\n0                                    Avatar   \n1  Pirates of the Caribbean: At World's End   \n2                                   Spectre   \n\n                                            overview  popularity  \\\n0  In the 22nd century, a paraplegic Marine is di...  150.437577   \n1  Captain Barbossa, long believed to be dead, ha...  139.082615   \n2  A cryptic message from Bond’s past sends him o...  107.376788   \n\n                                production_companies  \\\n0  [{\"name\": \"Ingenious Film Partners\", \"id\": 289...   \n1  [{\"name\": \"Walt Disney Pictures\", \"id\": 2}, {\"...   \n2  [{\"name\": \"Columbia Pictures\", \"id\": 5}, {\"nam...   \n\n                                production_countries release_date     revenue  \\\n0  [{\"iso_3166_1\": \"US\", \"name\": \"United States o...   2009-12-10  2787965087   \n1  [{\"iso_3166_1\": \"US\", \"name\": \"United States o...   2007-05-19   961000000   \n2  [{\"iso_3166_1\": \"GB\", \"name\": \"United Kingdom\"...   2015-10-26   880674609   \n\n   runtime                                   spoken_languages    status  \\\n0    162.0  [{\"iso_639_1\": \"en\", \"name\": \"English\"}, {\"iso...  Released   \n1    169.0           [{\"iso_639_1\": \"en\", \"name\": \"English\"}]  Released   \n2    148.0  [{\"iso_639_1\": \"fr\", \"name\": \"Fran\\u00e7ais\"},...  Released   \n\n                                          tagline  \\\n0                     Enter the World of Pandora.   \n1  At the end of the world, the adventure begins.   \n2                           A Plan No One Escapes   \n\n                                      title  vote_average  vote_count  \n0                                    Avatar           7.2       11800  \n1  Pirates of the Caribbean: At World's End           6.9        4500  \n2                                   Spectre           6.3        4466  "
     },
     "execution_count": 4,
     "metadata": {},
     "output_type": "execute_result"
    }
   ],
   "execution_count": null
  },
  {
   "cell_type": "code",
   "metadata": {
    "colab": {
     "base_uri": "https://localhost:8080/",
     "height": 270
    },
    "id": "YfHLqHZSGLs5",
    "outputId": "5758400b-6f0a-4bf2-8595-880750c1ee78",
    "cell_id": "00003-0fe36bfd-fd30-47f0-979c-6eee48702b59",
    "deepnote_cell_type": "code"
   },
   "source": "df_credits.head()  ",
   "outputs": [
    {
     "data": {
      "text/html": "<div>\n<style scoped>\n    .dataframe tbody tr th:only-of-type {\n        vertical-align: middle;\n    }\n\n    .dataframe tbody tr th {\n        vertical-align: top;\n    }\n\n    .dataframe thead th {\n        text-align: right;\n    }\n</style>\n<table border=\"1\" class=\"dataframe\">\n  <thead>\n    <tr style=\"text-align: right;\">\n      <th></th>\n      <th>movie_id</th>\n      <th>title</th>\n      <th>cast</th>\n      <th>crew</th>\n    </tr>\n  </thead>\n  <tbody>\n    <tr>\n      <th>0</th>\n      <td>19995</td>\n      <td>Avatar</td>\n      <td>[{\"cast_id\": 242, \"character\": \"Jake Sully\", \"...</td>\n      <td>[{\"credit_id\": \"52fe48009251416c750aca23\", \"de...</td>\n    </tr>\n    <tr>\n      <th>1</th>\n      <td>285</td>\n      <td>Pirates of the Caribbean: At World's End</td>\n      <td>[{\"cast_id\": 4, \"character\": \"Captain Jack Spa...</td>\n      <td>[{\"credit_id\": \"52fe4232c3a36847f800b579\", \"de...</td>\n    </tr>\n    <tr>\n      <th>2</th>\n      <td>206647</td>\n      <td>Spectre</td>\n      <td>[{\"cast_id\": 1, \"character\": \"James Bond\", \"cr...</td>\n      <td>[{\"credit_id\": \"54805967c3a36829b5002c41\", \"de...</td>\n    </tr>\n    <tr>\n      <th>3</th>\n      <td>49026</td>\n      <td>The Dark Knight Rises</td>\n      <td>[{\"cast_id\": 2, \"character\": \"Bruce Wayne / Ba...</td>\n      <td>[{\"credit_id\": \"52fe4781c3a36847f81398c3\", \"de...</td>\n    </tr>\n    <tr>\n      <th>4</th>\n      <td>49529</td>\n      <td>John Carter</td>\n      <td>[{\"cast_id\": 5, \"character\": \"John Carter\", \"c...</td>\n      <td>[{\"credit_id\": \"52fe479ac3a36847f813eaa3\", \"de...</td>\n    </tr>\n  </tbody>\n</table>\n</div>",
      "text/plain": "   movie_id                                     title  \\\n0     19995                                    Avatar   \n1       285  Pirates of the Caribbean: At World's End   \n2    206647                                   Spectre   \n3     49026                     The Dark Knight Rises   \n4     49529                               John Carter   \n\n                                                cast  \\\n0  [{\"cast_id\": 242, \"character\": \"Jake Sully\", \"...   \n1  [{\"cast_id\": 4, \"character\": \"Captain Jack Spa...   \n2  [{\"cast_id\": 1, \"character\": \"James Bond\", \"cr...   \n3  [{\"cast_id\": 2, \"character\": \"Bruce Wayne / Ba...   \n4  [{\"cast_id\": 5, \"character\": \"John Carter\", \"c...   \n\n                                                crew  \n0  [{\"credit_id\": \"52fe48009251416c750aca23\", \"de...  \n1  [{\"credit_id\": \"52fe4232c3a36847f800b579\", \"de...  \n2  [{\"credit_id\": \"54805967c3a36829b5002c41\", \"de...  \n3  [{\"credit_id\": \"52fe4781c3a36847f81398c3\", \"de...  \n4  [{\"credit_id\": \"52fe479ac3a36847f813eaa3\", \"de...  "
     },
     "execution_count": 5,
     "metadata": {},
     "output_type": "execute_result"
    }
   ],
   "execution_count": null
  },
  {
   "cell_type": "code",
   "metadata": {
    "colab": {
     "base_uri": "https://localhost:8080/"
    },
    "id": "Jrif2j5GGO3h",
    "outputId": "9bcd321c-28e1-495f-98f6-3c6795e7cd0c",
    "cell_id": "00004-57c0d3ab-c5ac-46e4-826f-0d1c4097b3bf",
    "deepnote_cell_type": "code"
   },
   "source": "df_credits.isnull().sum()",
   "outputs": [
    {
     "data": {
      "text/plain": "movie_id    0\ntitle       0\ncast        0\ncrew        0\ndtype: int64"
     },
     "execution_count": 6,
     "metadata": {},
     "output_type": "execute_result"
    }
   ],
   "execution_count": null
  },
  {
   "cell_type": "code",
   "metadata": {
    "colab": {
     "base_uri": "https://localhost:8080/"
    },
    "id": "9UF3RsjEGlAN",
    "outputId": "7aeb8c5d-4df2-4d4b-dcd6-1e8364d5386f",
    "cell_id": "00005-eb7dba48-6aa6-44da-820f-75e2417fb028",
    "deepnote_cell_type": "code"
   },
   "source": "df_movies.isnull().sum()",
   "outputs": [
    {
     "data": {
      "text/plain": "budget                     0\ngenres                     0\nhomepage                3091\nid                         0\nkeywords                   0\noriginal_language          0\noriginal_title             0\noverview                   3\npopularity                 0\nproduction_companies       0\nproduction_countries       0\nrelease_date               1\nrevenue                    0\nruntime                    2\nspoken_languages           0\nstatus                     0\ntagline                  844\ntitle                      0\nvote_average               0\nvote_count                 0\ndtype: int64"
     },
     "execution_count": 7,
     "metadata": {},
     "output_type": "execute_result"
    }
   ],
   "execution_count": null
  },
  {
   "cell_type": "code",
   "metadata": {
    "id": "bZmrBlb7M8Ho",
    "cell_id": "00006-15ad9bd0-36b8-421a-81d5-52bbc7bdb09f",
    "deepnote_cell_type": "code"
   },
   "source": "import ast\ndef convert (obj):\n  L=[]\n  for i in ast.literal_eval(obj):\n    L.append(i['name'])\n  return L",
   "outputs": [],
   "execution_count": null
  },
  {
   "cell_type": "code",
   "metadata": {
    "id": "M_zEHB6RNWDL",
    "cell_id": "00007-19c82e8f-e375-4c70-9c60-629fdb66ce52",
    "deepnote_cell_type": "code"
   },
   "source": "df_movies['genres']=df_movies['genres'].apply(convert)",
   "outputs": [],
   "execution_count": null
  },
  {
   "cell_type": "code",
   "metadata": {
    "id": "lg_EiM-ONrke",
    "cell_id": "00008-ff5175f2-8e33-4f4b-9924-62af164ace64",
    "deepnote_cell_type": "code"
   },
   "source": "df_movies['keywords'] = df_movies['keywords'].apply(convert)",
   "outputs": [],
   "execution_count": null
  },
  {
   "cell_type": "code",
   "metadata": {
    "id": "bGG2zhXTOKhs",
    "cell_id": "00009-3d82a7fb-775b-4dc4-89a7-0ada237ca89b",
    "deepnote_cell_type": "code"
   },
   "source": "df_movies['production_companies'] = df_movies['production_companies'].apply(convert)",
   "outputs": [],
   "execution_count": null
  },
  {
   "cell_type": "code",
   "metadata": {
    "colab": {
     "base_uri": "https://localhost:8080/",
     "height": 332
    },
    "id": "j4a4L71DOOEj",
    "outputId": "1fca7a4c-65ec-43b9-fd40-788f45cb7826",
    "cell_id": "00010-eaf99ef7-ac00-4261-ad70-33656904560b",
    "deepnote_cell_type": "code"
   },
   "source": "df_movies.head(2)",
   "outputs": [
    {
     "data": {
      "text/html": "<div>\n<style scoped>\n    .dataframe tbody tr th:only-of-type {\n        vertical-align: middle;\n    }\n\n    .dataframe tbody tr th {\n        vertical-align: top;\n    }\n\n    .dataframe thead th {\n        text-align: right;\n    }\n</style>\n<table border=\"1\" class=\"dataframe\">\n  <thead>\n    <tr style=\"text-align: right;\">\n      <th></th>\n      <th>budget</th>\n      <th>genres</th>\n      <th>homepage</th>\n      <th>id</th>\n      <th>keywords</th>\n      <th>original_language</th>\n      <th>original_title</th>\n      <th>overview</th>\n      <th>popularity</th>\n      <th>production_companies</th>\n      <th>production_countries</th>\n      <th>release_date</th>\n      <th>revenue</th>\n      <th>runtime</th>\n      <th>spoken_languages</th>\n      <th>status</th>\n      <th>tagline</th>\n      <th>title</th>\n      <th>vote_average</th>\n      <th>vote_count</th>\n    </tr>\n  </thead>\n  <tbody>\n    <tr>\n      <th>0</th>\n      <td>237000000</td>\n      <td>[Action, Adventure, Fantasy, Science Fiction]</td>\n      <td>http://www.avatarmovie.com/</td>\n      <td>19995</td>\n      <td>[culture clash, future, space war, space colon...</td>\n      <td>en</td>\n      <td>Avatar</td>\n      <td>In the 22nd century, a paraplegic Marine is di...</td>\n      <td>150.437577</td>\n      <td>[Ingenious Film Partners, Twentieth Century Fo...</td>\n      <td>[{\"iso_3166_1\": \"US\", \"name\": \"United States o...</td>\n      <td>2009-12-10</td>\n      <td>2787965087</td>\n      <td>162.0</td>\n      <td>[{\"iso_639_1\": \"en\", \"name\": \"English\"}, {\"iso...</td>\n      <td>Released</td>\n      <td>Enter the World of Pandora.</td>\n      <td>Avatar</td>\n      <td>7.2</td>\n      <td>11800</td>\n    </tr>\n    <tr>\n      <th>1</th>\n      <td>300000000</td>\n      <td>[Adventure, Fantasy, Action]</td>\n      <td>http://disney.go.com/disneypictures/pirates/</td>\n      <td>285</td>\n      <td>[ocean, drug abuse, exotic island, east india ...</td>\n      <td>en</td>\n      <td>Pirates of the Caribbean: At World's End</td>\n      <td>Captain Barbossa, long believed to be dead, ha...</td>\n      <td>139.082615</td>\n      <td>[Walt Disney Pictures, Jerry Bruckheimer Films...</td>\n      <td>[{\"iso_3166_1\": \"US\", \"name\": \"United States o...</td>\n      <td>2007-05-19</td>\n      <td>961000000</td>\n      <td>169.0</td>\n      <td>[{\"iso_639_1\": \"en\", \"name\": \"English\"}]</td>\n      <td>Released</td>\n      <td>At the end of the world, the adventure begins.</td>\n      <td>Pirates of the Caribbean: At World's End</td>\n      <td>6.9</td>\n      <td>4500</td>\n    </tr>\n  </tbody>\n</table>\n</div>",
      "text/plain": "      budget                                         genres  \\\n0  237000000  [Action, Adventure, Fantasy, Science Fiction]   \n1  300000000                   [Adventure, Fantasy, Action]   \n\n                                       homepage     id  \\\n0                   http://www.avatarmovie.com/  19995   \n1  http://disney.go.com/disneypictures/pirates/    285   \n\n                                            keywords original_language  \\\n0  [culture clash, future, space war, space colon...                en   \n1  [ocean, drug abuse, exotic island, east india ...                en   \n\n                             original_title  \\\n0                                    Avatar   \n1  Pirates of the Caribbean: At World's End   \n\n                                            overview  popularity  \\\n0  In the 22nd century, a paraplegic Marine is di...  150.437577   \n1  Captain Barbossa, long believed to be dead, ha...  139.082615   \n\n                                production_companies  \\\n0  [Ingenious Film Partners, Twentieth Century Fo...   \n1  [Walt Disney Pictures, Jerry Bruckheimer Films...   \n\n                                production_countries release_date     revenue  \\\n0  [{\"iso_3166_1\": \"US\", \"name\": \"United States o...   2009-12-10  2787965087   \n1  [{\"iso_3166_1\": \"US\", \"name\": \"United States o...   2007-05-19   961000000   \n\n   runtime                                   spoken_languages    status  \\\n0    162.0  [{\"iso_639_1\": \"en\", \"name\": \"English\"}, {\"iso...  Released   \n1    169.0           [{\"iso_639_1\": \"en\", \"name\": \"English\"}]  Released   \n\n                                          tagline  \\\n0                     Enter the World of Pandora.   \n1  At the end of the world, the adventure begins.   \n\n                                      title  vote_average  vote_count  \n0                                    Avatar           7.2       11800  \n1  Pirates of the Caribbean: At World's End           6.9        4500  "
     },
     "execution_count": 12,
     "metadata": {},
     "output_type": "execute_result"
    }
   ],
   "execution_count": null
  },
  {
   "cell_type": "code",
   "metadata": {
    "id": "sTrxsIFGOYtq",
    "cell_id": "00011-881cde43-be26-4c65-8244-ee6f5c7d8c04",
    "deepnote_cell_type": "code"
   },
   "source": "df_movies['production_countries'] = df_movies['production_countries'].apply(convert)",
   "outputs": [],
   "execution_count": null
  },
  {
   "cell_type": "code",
   "metadata": {
    "id": "T1xmil2gOYso",
    "cell_id": "00012-fd114014-ce2d-46fa-8e2a-29165c0a0c2f",
    "deepnote_cell_type": "code"
   },
   "source": "df_credits['cast'] = df_credits['cast'].apply(convert)",
   "outputs": [],
   "execution_count": null
  },
  {
   "cell_type": "code",
   "metadata": {
    "colab": {
     "base_uri": "https://localhost:8080/",
     "height": 192
    },
    "id": "NV_JCiWxOuEr",
    "outputId": "36cf5d9e-d802-4d8c-95db-86cd3b086de1",
    "cell_id": "00013-d25dd9e2-9c90-487c-b6fd-9c65fce3a55f",
    "deepnote_cell_type": "code"
   },
   "source": "df_credits.head(3)",
   "outputs": [
    {
     "data": {
      "text/html": "<div>\n<style scoped>\n    .dataframe tbody tr th:only-of-type {\n        vertical-align: middle;\n    }\n\n    .dataframe tbody tr th {\n        vertical-align: top;\n    }\n\n    .dataframe thead th {\n        text-align: right;\n    }\n</style>\n<table border=\"1\" class=\"dataframe\">\n  <thead>\n    <tr style=\"text-align: right;\">\n      <th></th>\n      <th>movie_id</th>\n      <th>title</th>\n      <th>cast</th>\n      <th>crew</th>\n    </tr>\n  </thead>\n  <tbody>\n    <tr>\n      <th>0</th>\n      <td>19995</td>\n      <td>Avatar</td>\n      <td>[Sam Worthington, Zoe Saldana, Sigourney Weave...</td>\n      <td>[{\"credit_id\": \"52fe48009251416c750aca23\", \"de...</td>\n    </tr>\n    <tr>\n      <th>1</th>\n      <td>285</td>\n      <td>Pirates of the Caribbean: At World's End</td>\n      <td>[Johnny Depp, Orlando Bloom, Keira Knightley, ...</td>\n      <td>[{\"credit_id\": \"52fe4232c3a36847f800b579\", \"de...</td>\n    </tr>\n    <tr>\n      <th>2</th>\n      <td>206647</td>\n      <td>Spectre</td>\n      <td>[Daniel Craig, Christoph Waltz, Léa Seydoux, R...</td>\n      <td>[{\"credit_id\": \"54805967c3a36829b5002c41\", \"de...</td>\n    </tr>\n  </tbody>\n</table>\n</div>",
      "text/plain": "   movie_id                                     title  \\\n0     19995                                    Avatar   \n1       285  Pirates of the Caribbean: At World's End   \n2    206647                                   Spectre   \n\n                                                cast  \\\n0  [Sam Worthington, Zoe Saldana, Sigourney Weave...   \n1  [Johnny Depp, Orlando Bloom, Keira Knightley, ...   \n2  [Daniel Craig, Christoph Waltz, Léa Seydoux, R...   \n\n                                                crew  \n0  [{\"credit_id\": \"52fe48009251416c750aca23\", \"de...  \n1  [{\"credit_id\": \"52fe4232c3a36847f800b579\", \"de...  \n2  [{\"credit_id\": \"54805967c3a36829b5002c41\", \"de...  "
     },
     "execution_count": 15,
     "metadata": {},
     "output_type": "execute_result"
    }
   ],
   "execution_count": null
  },
  {
   "cell_type": "code",
   "metadata": {
    "id": "YQu_TR18OzYO",
    "cell_id": "00014-08bf8a75-9415-4a46-ab6b-1a5eed9a25ff",
    "deepnote_cell_type": "code"
   },
   "source": "def director(obj):\n    for i in ast.literal_eval(obj):\n        if i['job'] == 'Director':\n            return i['name']\ndf_credits['crew'] = df_credits['crew'].apply(director)\ndf_credits.rename(columns={'crew':'director'},inplace=True)",
   "outputs": [],
   "execution_count": null
  },
  {
   "cell_type": "code",
   "metadata": {
    "colab": {
     "base_uri": "https://localhost:8080/",
     "height": 142
    },
    "id": "Wd8vlw7KPWM8",
    "outputId": "f89c1465-530d-4f1e-9556-3b94dae51f40",
    "cell_id": "00015-0f88d9ec-7ef0-4023-9405-8262fe9548a4",
    "deepnote_cell_type": "code"
   },
   "source": "df_credits.head(3)",
   "outputs": [
    {
     "data": {
      "text/html": "<div>\n<style scoped>\n    .dataframe tbody tr th:only-of-type {\n        vertical-align: middle;\n    }\n\n    .dataframe tbody tr th {\n        vertical-align: top;\n    }\n\n    .dataframe thead th {\n        text-align: right;\n    }\n</style>\n<table border=\"1\" class=\"dataframe\">\n  <thead>\n    <tr style=\"text-align: right;\">\n      <th></th>\n      <th>movie_id</th>\n      <th>title</th>\n      <th>cast</th>\n      <th>director</th>\n    </tr>\n  </thead>\n  <tbody>\n    <tr>\n      <th>0</th>\n      <td>19995</td>\n      <td>Avatar</td>\n      <td>[Sam Worthington, Zoe Saldana, Sigourney Weave...</td>\n      <td>James Cameron</td>\n    </tr>\n    <tr>\n      <th>1</th>\n      <td>285</td>\n      <td>Pirates of the Caribbean: At World's End</td>\n      <td>[Johnny Depp, Orlando Bloom, Keira Knightley, ...</td>\n      <td>Gore Verbinski</td>\n    </tr>\n    <tr>\n      <th>2</th>\n      <td>206647</td>\n      <td>Spectre</td>\n      <td>[Daniel Craig, Christoph Waltz, Léa Seydoux, R...</td>\n      <td>Sam Mendes</td>\n    </tr>\n  </tbody>\n</table>\n</div>",
      "text/plain": "   movie_id                                     title  \\\n0     19995                                    Avatar   \n1       285  Pirates of the Caribbean: At World's End   \n2    206647                                   Spectre   \n\n                                                cast        director  \n0  [Sam Worthington, Zoe Saldana, Sigourney Weave...   James Cameron  \n1  [Johnny Depp, Orlando Bloom, Keira Knightley, ...  Gore Verbinski  \n2  [Daniel Craig, Christoph Waltz, Léa Seydoux, R...      Sam Mendes  "
     },
     "execution_count": 17,
     "metadata": {},
     "output_type": "execute_result"
    }
   ],
   "execution_count": null
  },
  {
   "cell_type": "code",
   "metadata": {
    "colab": {
     "base_uri": "https://localhost:8080/",
     "height": 332
    },
    "id": "G7XJcfTMRfKv",
    "outputId": "a36eb0b9-fb8c-4281-8043-0c83afeba048",
    "cell_id": "00016-caa00fe5-b6e1-41f7-b103-3134e373e95d",
    "deepnote_cell_type": "code"
   },
   "source": "df_movies.head(2)",
   "outputs": [
    {
     "data": {
      "text/html": "<div>\n<style scoped>\n    .dataframe tbody tr th:only-of-type {\n        vertical-align: middle;\n    }\n\n    .dataframe tbody tr th {\n        vertical-align: top;\n    }\n\n    .dataframe thead th {\n        text-align: right;\n    }\n</style>\n<table border=\"1\" class=\"dataframe\">\n  <thead>\n    <tr style=\"text-align: right;\">\n      <th></th>\n      <th>budget</th>\n      <th>genres</th>\n      <th>homepage</th>\n      <th>id</th>\n      <th>keywords</th>\n      <th>original_language</th>\n      <th>original_title</th>\n      <th>overview</th>\n      <th>popularity</th>\n      <th>production_companies</th>\n      <th>production_countries</th>\n      <th>release_date</th>\n      <th>revenue</th>\n      <th>runtime</th>\n      <th>spoken_languages</th>\n      <th>status</th>\n      <th>tagline</th>\n      <th>title</th>\n      <th>vote_average</th>\n      <th>vote_count</th>\n    </tr>\n  </thead>\n  <tbody>\n    <tr>\n      <th>0</th>\n      <td>237000000</td>\n      <td>[Action, Adventure, Fantasy, Science Fiction]</td>\n      <td>http://www.avatarmovie.com/</td>\n      <td>19995</td>\n      <td>[culture clash, future, space war, space colon...</td>\n      <td>en</td>\n      <td>Avatar</td>\n      <td>In the 22nd century, a paraplegic Marine is di...</td>\n      <td>150.437577</td>\n      <td>[Ingenious Film Partners, Twentieth Century Fo...</td>\n      <td>[United States of America, United Kingdom]</td>\n      <td>2009-12-10</td>\n      <td>2787965087</td>\n      <td>162.0</td>\n      <td>[{\"iso_639_1\": \"en\", \"name\": \"English\"}, {\"iso...</td>\n      <td>Released</td>\n      <td>Enter the World of Pandora.</td>\n      <td>Avatar</td>\n      <td>7.2</td>\n      <td>11800</td>\n    </tr>\n    <tr>\n      <th>1</th>\n      <td>300000000</td>\n      <td>[Adventure, Fantasy, Action]</td>\n      <td>http://disney.go.com/disneypictures/pirates/</td>\n      <td>285</td>\n      <td>[ocean, drug abuse, exotic island, east india ...</td>\n      <td>en</td>\n      <td>Pirates of the Caribbean: At World's End</td>\n      <td>Captain Barbossa, long believed to be dead, ha...</td>\n      <td>139.082615</td>\n      <td>[Walt Disney Pictures, Jerry Bruckheimer Films...</td>\n      <td>[United States of America]</td>\n      <td>2007-05-19</td>\n      <td>961000000</td>\n      <td>169.0</td>\n      <td>[{\"iso_639_1\": \"en\", \"name\": \"English\"}]</td>\n      <td>Released</td>\n      <td>At the end of the world, the adventure begins.</td>\n      <td>Pirates of the Caribbean: At World's End</td>\n      <td>6.9</td>\n      <td>4500</td>\n    </tr>\n  </tbody>\n</table>\n</div>",
      "text/plain": "      budget                                         genres  \\\n0  237000000  [Action, Adventure, Fantasy, Science Fiction]   \n1  300000000                   [Adventure, Fantasy, Action]   \n\n                                       homepage     id  \\\n0                   http://www.avatarmovie.com/  19995   \n1  http://disney.go.com/disneypictures/pirates/    285   \n\n                                            keywords original_language  \\\n0  [culture clash, future, space war, space colon...                en   \n1  [ocean, drug abuse, exotic island, east india ...                en   \n\n                             original_title  \\\n0                                    Avatar   \n1  Pirates of the Caribbean: At World's End   \n\n                                            overview  popularity  \\\n0  In the 22nd century, a paraplegic Marine is di...  150.437577   \n1  Captain Barbossa, long believed to be dead, ha...  139.082615   \n\n                                production_companies  \\\n0  [Ingenious Film Partners, Twentieth Century Fo...   \n1  [Walt Disney Pictures, Jerry Bruckheimer Films...   \n\n                         production_countries release_date     revenue  \\\n0  [United States of America, United Kingdom]   2009-12-10  2787965087   \n1                  [United States of America]   2007-05-19   961000000   \n\n   runtime                                   spoken_languages    status  \\\n0    162.0  [{\"iso_639_1\": \"en\", \"name\": \"English\"}, {\"iso...  Released   \n1    169.0           [{\"iso_639_1\": \"en\", \"name\": \"English\"}]  Released   \n\n                                          tagline  \\\n0                     Enter the World of Pandora.   \n1  At the end of the world, the adventure begins.   \n\n                                      title  vote_average  vote_count  \n0                                    Avatar           7.2       11800  \n1  Pirates of the Caribbean: At World's End           6.9        4500  "
     },
     "execution_count": 18,
     "metadata": {},
     "output_type": "execute_result"
    }
   ],
   "execution_count": null
  },
  {
   "cell_type": "code",
   "metadata": {
    "colab": {
     "base_uri": "https://localhost:8080/",
     "height": 110
    },
    "id": "1uHAsrG6RjSz",
    "outputId": "d73c5d49-764f-44d0-bdc4-1200f59dbfd2",
    "cell_id": "00017-68e9520b-6b9e-438d-82fa-4cb716b7dc86",
    "deepnote_cell_type": "code"
   },
   "source": "df_credits.head(2)",
   "outputs": [
    {
     "data": {
      "text/html": "<div>\n<style scoped>\n    .dataframe tbody tr th:only-of-type {\n        vertical-align: middle;\n    }\n\n    .dataframe tbody tr th {\n        vertical-align: top;\n    }\n\n    .dataframe thead th {\n        text-align: right;\n    }\n</style>\n<table border=\"1\" class=\"dataframe\">\n  <thead>\n    <tr style=\"text-align: right;\">\n      <th></th>\n      <th>movie_id</th>\n      <th>title</th>\n      <th>cast</th>\n      <th>director</th>\n    </tr>\n  </thead>\n  <tbody>\n    <tr>\n      <th>0</th>\n      <td>19995</td>\n      <td>Avatar</td>\n      <td>[Sam Worthington, Zoe Saldana, Sigourney Weave...</td>\n      <td>James Cameron</td>\n    </tr>\n    <tr>\n      <th>1</th>\n      <td>285</td>\n      <td>Pirates of the Caribbean: At World's End</td>\n      <td>[Johnny Depp, Orlando Bloom, Keira Knightley, ...</td>\n      <td>Gore Verbinski</td>\n    </tr>\n  </tbody>\n</table>\n</div>",
      "text/plain": "   movie_id                                     title  \\\n0     19995                                    Avatar   \n1       285  Pirates of the Caribbean: At World's End   \n\n                                                cast        director  \n0  [Sam Worthington, Zoe Saldana, Sigourney Weave...   James Cameron  \n1  [Johnny Depp, Orlando Bloom, Keira Knightley, ...  Gore Verbinski  "
     },
     "execution_count": 19,
     "metadata": {},
     "output_type": "execute_result"
    }
   ],
   "execution_count": null
  },
  {
   "cell_type": "markdown",
   "source": "We will merge the movies and credits dataframes and select the columns which are required and have a unified movies dataframe to work on.",
   "metadata": {
    "id": "9NsG_3xBTJ0q",
    "cell_id": "00018-c52b2ff5-c787-4c10-9853-106049b21a90",
    "deepnote_cell_type": "markdown"
   }
  },
  {
   "cell_type": "code",
   "metadata": {
    "id": "cLtCJWJ-S9zy",
    "cell_id": "00019-f899cb4f-281f-48e8-81a3-ee2d4e85bc2f",
    "deepnote_cell_type": "code"
   },
   "source": "df_movies = df_movies.merge(df_credits, left_on='id', right_on='movie_id', how='left')\ndf_movies = df_movies[['id', 'original_title', 'genres', 'cast', 'vote_average', 'director', 'keywords']]",
   "outputs": [],
   "execution_count": null
  },
  {
   "cell_type": "code",
   "metadata": {
    "colab": {
     "base_uri": "https://localhost:8080/"
    },
    "id": "MrWKyKtmTjgq",
    "outputId": "1f66285b-12d7-4b47-fa2d-3dd327536784",
    "cell_id": "00020-625aa8d2-0d69-488f-87b3-5ee4d41d61a8",
    "deepnote_cell_type": "code"
   },
   "source": "df_movies.shape",
   "outputs": [
    {
     "data": {
      "text/plain": "(4803, 7)"
     },
     "execution_count": 21,
     "metadata": {},
     "output_type": "execute_result"
    }
   ],
   "execution_count": null
  },
  {
   "cell_type": "code",
   "metadata": {
    "colab": {
     "base_uri": "https://localhost:8080/"
    },
    "id": "gpJOmVO7VJeM",
    "outputId": "a6acf7a9-3702-4b75-eedf-3536e93eb25f",
    "cell_id": "00021-8387416d-a759-4036-b1ac-fef00a86eccd",
    "deepnote_cell_type": "code"
   },
   "source": "df_movies.dtypes",
   "outputs": [
    {
     "data": {
      "text/plain": "id                  int64\noriginal_title     object\ngenres             object\ncast               object\nvote_average      float64\ndirector           object\nkeywords           object\ndtype: object"
     },
     "execution_count": 22,
     "metadata": {},
     "output_type": "execute_result"
    }
   ],
   "execution_count": null
  },
  {
   "cell_type": "code",
   "metadata": {
    "colab": {
     "base_uri": "https://localhost:8080/",
     "height": 178
    },
    "id": "iHrF0arpVcOM",
    "outputId": "39d127e2-9726-44b1-ebdf-d92b62ac6812",
    "cell_id": "00022-420e798e-4cc8-4b43-8311-cb581825d9d7",
    "deepnote_cell_type": "code"
   },
   "source": "df_movies.head(2)",
   "outputs": [
    {
     "data": {
      "text/html": "<div>\n<style scoped>\n    .dataframe tbody tr th:only-of-type {\n        vertical-align: middle;\n    }\n\n    .dataframe tbody tr th {\n        vertical-align: top;\n    }\n\n    .dataframe thead th {\n        text-align: right;\n    }\n</style>\n<table border=\"1\" class=\"dataframe\">\n  <thead>\n    <tr style=\"text-align: right;\">\n      <th></th>\n      <th>id</th>\n      <th>original_title</th>\n      <th>genres</th>\n      <th>cast</th>\n      <th>vote_average</th>\n      <th>director</th>\n      <th>keywords</th>\n    </tr>\n  </thead>\n  <tbody>\n    <tr>\n      <th>0</th>\n      <td>19995</td>\n      <td>Avatar</td>\n      <td>[Action, Adventure, Fantasy, Science Fiction]</td>\n      <td>[Sam Worthington, Zoe Saldana, Sigourney Weave...</td>\n      <td>7.2</td>\n      <td>James Cameron</td>\n      <td>[culture clash, future, space war, space colon...</td>\n    </tr>\n    <tr>\n      <th>1</th>\n      <td>285</td>\n      <td>Pirates of the Caribbean: At World's End</td>\n      <td>[Adventure, Fantasy, Action]</td>\n      <td>[Johnny Depp, Orlando Bloom, Keira Knightley, ...</td>\n      <td>6.9</td>\n      <td>Gore Verbinski</td>\n      <td>[ocean, drug abuse, exotic island, east india ...</td>\n    </tr>\n  </tbody>\n</table>\n</div>",
      "text/plain": "      id                            original_title  \\\n0  19995                                    Avatar   \n1    285  Pirates of the Caribbean: At World's End   \n\n                                          genres  \\\n0  [Action, Adventure, Fantasy, Science Fiction]   \n1                   [Adventure, Fantasy, Action]   \n\n                                                cast  vote_average  \\\n0  [Sam Worthington, Zoe Saldana, Sigourney Weave...           7.2   \n1  [Johnny Depp, Orlando Bloom, Keira Knightley, ...           6.9   \n\n         director                                           keywords  \n0   James Cameron  [culture clash, future, space war, space colon...  \n1  Gore Verbinski  [ocean, drug abuse, exotic island, east india ...  "
     },
     "execution_count": 23,
     "metadata": {},
     "output_type": "execute_result"
    }
   ],
   "execution_count": null
  },
  {
   "cell_type": "code",
   "metadata": {
    "colab": {
     "base_uri": "https://localhost:8080/",
     "height": 607
    },
    "id": "wfZgW1xrVke2",
    "outputId": "60f9d803-34c2-445c-c2f1-496fe2426be0",
    "cell_id": "00023-cf444a41-5f01-4d4d-a7dd-f2bcc87e90d2",
    "deepnote_cell_type": "code"
   },
   "source": "plt.subplots(figsize=(12,10))\nlist1 = []\nfor i in df_movies['genres']:\n    list1.extend(i)\nax = pd.Series(list1).value_counts()[:10].sort_values(ascending=True).plot.barh(width=0.9,color=sns.color_palette('hls',10))\nfor i, v in enumerate(pd.Series(list1).value_counts()[:10].sort_values(ascending=True).values): \n    ax.text(.8, i, v,fontsize=12,color='white',weight='bold')\nplt.title('Top Genres')\nplt.show()",
   "outputs": [
    {
     "data": {
      "image/png": "[encoded data removed]",
      "text/plain": "<Figure size 864x720 with 1 Axes>"
     },
     "metadata": {
      "needs_background": "light",
      "image/png": {
       "width": 765,
       "height": 590
      }
     },
     "output_type": "display_data"
    }
   ],
   "execution_count": null
  },
  {
   "cell_type": "code",
   "metadata": {
    "colab": {
     "base_uri": "https://localhost:8080/"
    },
    "id": "u0XrcGn8V36a",
    "outputId": "aadb0489-5752-4934-94db-2f48a4065a1a",
    "cell_id": "00024-a49669a7-fecb-4da7-9468-4b5281a67261",
    "deepnote_cell_type": "code"
   },
   "source": "genreList = []\nfor index, row in df_movies.iterrows():\n    genres = row[\"genres\"]\n    \n    for genre in genres:\n        if genre not in genreList:\n            genreList.append(genre)\ngenreList[:10] #now we have a list with unique genres",
   "outputs": [
    {
     "data": {
      "text/plain": "['Action',\n 'Adventure',\n 'Fantasy',\n 'Science Fiction',\n 'Crime',\n 'Drama',\n 'Thriller',\n 'Animation',\n 'Family',\n 'Western']"
     },
     "execution_count": 25,
     "metadata": {},
     "output_type": "execute_result"
    }
   ],
   "execution_count": null
  },
  {
   "cell_type": "code",
   "metadata": {
    "id": "fVm072J6WZ9a",
    "cell_id": "00025-8a77a2c8-5478-4c91-a5b8-64e6efa544e9",
    "deepnote_cell_type": "code"
   },
   "source": "#one-hot encoding for multiple labels\ndef binary(genre_list):\n    binaryList = []\n    \n    for genre in genreList:\n        if genre in genre_list:\n            binaryList.append(1)\n        else:\n            binaryList.append(0)\n    \n    return binaryList",
   "outputs": [],
   "execution_count": null
  },
  {
   "cell_type": "code",
   "metadata": {
    "colab": {
     "base_uri": "https://localhost:8080/"
    },
    "id": "zQD76JBFWlma",
    "outputId": "d61f493f-7b99-4e82-c210-01829b13cca1",
    "cell_id": "00026-93cb32b8-2f3e-431a-b9bd-9d38fa8d16bb",
    "deepnote_cell_type": "code"
   },
   "source": "df_movies['genres_bin'] = df_movies['genres'].apply(lambda x: binary(x))\ndf_movies['genres_bin'].head()",
   "outputs": [
    {
     "data": {
      "text/plain": "0    [1, 1, 1, 1, 0, 0, 0, 0, 0, 0, 0, 0, 0, 0, 0, ...\n1    [1, 1, 1, 0, 0, 0, 0, 0, 0, 0, 0, 0, 0, 0, 0, ...\n2    [1, 1, 0, 0, 1, 0, 0, 0, 0, 0, 0, 0, 0, 0, 0, ...\n3    [1, 0, 0, 0, 1, 1, 1, 0, 0, 0, 0, 0, 0, 0, 0, ...\n4    [1, 1, 0, 1, 0, 0, 0, 0, 0, 0, 0, 0, 0, 0, 0, ...\nName: genres_bin, dtype: object"
     },
     "execution_count": 27,
     "metadata": {},
     "output_type": "execute_result"
    }
   ],
   "execution_count": null
  },
  {
   "cell_type": "code",
   "metadata": {
    "colab": {
     "base_uri": "https://localhost:8080/",
     "height": 607
    },
    "id": "ezgYcJBaW3rJ",
    "outputId": "2c4f9079-a3ae-4790-94af-a3099df5236b",
    "cell_id": "00027-509752b2-c562-4827-8437-062efa29752f",
    "deepnote_cell_type": "code"
   },
   "source": "plt.subplots(figsize=(12,10))\nlist1=[]\nfor i in df_movies['cast']:\n    list1.extend(i)\nax=pd.Series(list1).value_counts()[:15].sort_values(ascending=True).plot.barh(width=0.9,color=sns.color_palette('muted',40))\nfor i, v in enumerate(pd.Series(list1).value_counts()[:15].sort_values(ascending=True).values): \n    ax.text(.8, i, v,fontsize=10,color='white',weight='bold')\nplt.title('Actors with highest appearance')\nplt.show()",
   "outputs": [
    {
     "data": {
      "image/png": "[encoded data removed]",
      "text/plain": "<Figure size 864x720 with 1 Axes>"
     },
     "metadata": {
      "needs_background": "light",
      "image/png": {
       "width": 784,
       "height": 590
      }
     },
     "output_type": "display_data"
    }
   ],
   "execution_count": null
  },
  {
   "cell_type": "code",
   "metadata": {
    "id": "55re90DUW7N_",
    "cell_id": "00028-cc4c3089-505a-43dd-b53a-0a7d967443bf",
    "deepnote_cell_type": "code"
   },
   "source": "castList = []\nfor index, row in df_movies.iterrows():\n    cast = row[\"cast\"]\n    \n    for i in cast:\n        if i not in castList:\n            castList.append(i)",
   "outputs": [],
   "execution_count": null
  },
  {
   "cell_type": "code",
   "metadata": {
    "id": "t_55aQllXEIb",
    "cell_id": "00029-7687d511-9e97-46c7-ba1a-c807ba0d7a24",
    "deepnote_cell_type": "code"
   },
   "source": "def binary(cast_list):\n    binaryList = []\n    \n    for genre in castList:\n        if genre in cast_list:\n            binaryList.append(1)\n        else:\n            binaryList.append(0)\n    \n    return binaryList",
   "outputs": [],
   "execution_count": null
  },
  {
   "cell_type": "code",
   "metadata": {
    "colab": {
     "base_uri": "https://localhost:8080/"
    },
    "id": "RR_E35v4XOAZ",
    "outputId": "eadecf44-9a54-4224-903f-220aa50b910d",
    "cell_id": "00030-f3e03df8-6e96-4e30-bbfd-265812f24d9f",
    "deepnote_cell_type": "code"
   },
   "source": "df_movies['cast_bin'] = df_movies['cast'].apply(lambda x: binary(x))\ndf_movies['cast_bin'].head()",
   "outputs": [
    {
     "data": {
      "text/plain": "0    [1, 1, 1, 1, 1, 1, 1, 1, 1, 1, 1, 1, 1, 1, 1, ...\n1    [0, 0, 0, 0, 0, 0, 0, 0, 0, 0, 0, 0, 0, 0, 0, ...\n2    [0, 0, 0, 0, 0, 0, 0, 0, 0, 0, 0, 0, 0, 0, 0, ...\n3    [0, 0, 0, 0, 0, 0, 0, 0, 0, 0, 0, 0, 0, 0, 0, ...\n4    [0, 0, 0, 0, 0, 0, 0, 0, 0, 0, 0, 0, 0, 0, 0, ...\nName: cast_bin, dtype: object"
     },
     "execution_count": 31,
     "metadata": {},
     "output_type": "execute_result"
    }
   ],
   "execution_count": null
  },
  {
   "cell_type": "code",
   "metadata": {
    "id": "6iOiOmj6XRuG",
    "cell_id": "00031-a651268b-8de1-4315-9acb-fbd0bc71d1df",
    "deepnote_cell_type": "code"
   },
   "source": "def xstr(s):\n    if s is None:\n        return ''\n    return str(s)\ndf_movies['director'] = df_movies['director'].apply(xstr)",
   "outputs": [],
   "execution_count": null
  },
  {
   "cell_type": "code",
   "metadata": {
    "colab": {
     "base_uri": "https://localhost:8080/",
     "height": 607
    },
    "id": "NQ5pH62gXzp0",
    "outputId": "14928d1b-37a0-4094-87d8-f0b4a8d029e5",
    "cell_id": "00032-7939eb0f-0252-422b-b466-e36b13060886",
    "deepnote_cell_type": "code"
   },
   "source": "plt.subplots(figsize=(12,10))\nax = df_movies[df_movies['director']!=''].director.value_counts()[:10].sort_values(ascending=True).plot.barh(width=0.9,color=sns.color_palette('muted',40))\nfor i, v in enumerate(df_movies[df_movies['director']!=''].director.value_counts()[:10].sort_values(ascending=True).values): \n    ax.text(.5, i, v,fontsize=12,color='white',weight='bold')\nplt.title('Directors with highest movies')\nplt.show()",
   "outputs": [
    {
     "data": {
      "image/png": "[encoded data removed]",
      "text/plain": "<Figure size 864x720 with 1 Axes>"
     },
     "metadata": {
      "needs_background": "light",
      "image/png": {
       "width": 786,
       "height": 590
      }
     },
     "output_type": "display_data"
    }
   ],
   "execution_count": null
  },
  {
   "cell_type": "code",
   "metadata": {
    "id": "sy397UfPX5lU",
    "cell_id": "00033-639f4940-1f7b-413b-bbb0-72ee904478c5",
    "deepnote_cell_type": "code"
   },
   "source": "directorList=[]\nfor i in df_movies['director']:\n    if i not in directorList:\n        directorList.append(i)",
   "outputs": [],
   "execution_count": null
  },
  {
   "cell_type": "code",
   "metadata": {
    "colab": {
     "base_uri": "https://localhost:8080/"
    },
    "id": "WkAx9-_aS1v_",
    "outputId": "3ab09955-9c2a-4f48-d9fd-9686cc26101c",
    "cell_id": "00034-73f556d2-5145-443a-bfeb-d9064b06c4cf",
    "deepnote_cell_type": "code"
   },
   "source": "directorList",
   "outputs": [
    {
     "data": {
      "text/plain": "['James Cameron',\n 'Gore Verbinski',\n 'Sam Mendes',\n 'Christopher Nolan',\n 'Andrew Stanton',\n 'Sam Raimi',\n 'Byron Howard',\n 'Joss Whedon',\n 'David Yates',\n 'Zack Snyder',\n 'Bryan Singer',\n 'Marc Forster',\n 'Andrew Adamson',\n 'Rob Marshall',\n 'Barry Sonnenfeld',\n 'Peter Jackson',\n 'Marc Webb',\n 'Ridley Scott',\n 'Chris Weitz',\n 'Anthony Russo',\n 'Peter Berg',\n 'Colin Trevorrow',\n 'Shane Black',\n 'Tim Burton',\n 'Brett Ratner',\n 'Dan Scanlon',\n 'Michael Bay',\n 'Joseph Kosinski',\n 'John Lasseter',\n 'Martin Campbell',\n 'Lee Unkrich',\n 'McG',\n 'James Wan',\n 'J.J. Abrams',\n 'Baz Luhrmann',\n 'Mike Newell',\n 'Guillermo del Toro',\n 'Steven Spielberg',\n 'Peter Sohn',\n 'Brenda Chapman',\n 'Justin Lin',\n 'Roland Emmerich',\n 'Robert Zemeckis',\n 'Lilly Wachowski',\n 'Pete Docter',\n 'Conrad Vernon',\n 'Jon Favreau',\n 'Martin Scorsese',\n 'Rob Cohen',\n 'David Ayer',\n 'Tom Shadyac',\n 'Doug Liman',\n 'Kevin Reynolds',\n 'Stephen Sommers',\n 'Rupert Sanders',\n 'Robert Stromberg',\n 'Matt Reeves',\n 'Roland Joffé',\n 'Carl Rinsch',\n 'Mike Mitchell',\n 'Brad Bird',\n 'Chris Williams',\n 'Rich Moore',\n 'Chris Sanders',\n 'Jonathan Mostow',\n 'James Gunn',\n 'Hideaki Anno',\n 'David Fincher',\n 'Matthew Vaughn',\n 'Francis Lawrence',\n 'Jon Turteltaub',\n 'Wolfgang Petersen',\n 'James Bobin',\n 'Chris Miller',\n 'Duncan Jones',\n 'Alan Taylor',\n 'Michael Apted',\n 'Oliver Stone',\n 'Jan Pinkava',\n 'Eric Darnell',\n 'Shawn Levy',\n 'Gavin Hood',\n 'Chris Buck',\n 'George Miller',\n 'Ron Howard',\n 'Kenneth Branagh',\n 'Hoyt Yeatman',\n 'Jonathan Liebesman',\n 'Christopher McQuarrie',\n 'Joe Johnston',\n 'Steve Hickner',\n 'Jennifer Yuh Nelson',\n 'M. Night Shyamalan',\n 'Simon Wells',\n 'David Bowers',\n 'Joe Wright',\n 'Rob Minkoff',\n 'Lee Tamahori',\n 'Paul Feig',\n 'Peter Ramsey',\n 'Dean Parisot',\n 'Edward Zwick',\n 'Dean DeBlois',\n 'Alex Proyas',\n 'Richard Donner',\n 'Ang Lee',\n 'Jon M. Chu',\n 'Breck Eisner',\n 'Hironobu Sakaguchi',\n 'Peter Weir',\n 'Bill Condon',\n 'Louis Leterrier',\n 'Alejandro González Iñárritu',\n 'David Soren',\n 'Paul Greengrass',\n 'Mark Osborne',\n 'Peyton Reed',\n 'Tim Johnson',\n 'Phillip Noyce',\n 'Darren Aronofsky',\n 'Alfonso Cuarón',\n 'Ralph Zondag',\n 'Tom McGrath',\n 'Chris Columbus',\n 'Robert Schwentke',\n 'Carlos Saldanha',\n 'Guy Ritchie',\n 'Paul Verhoeven',\n 'John McTiernan',\n 'Tony Gilroy',\n 'Joel Schumacher',\n 'John Woo',\n 'Tim Story',\n 'Mark Steven Johnson',\n 'Neill Blomkamp',\n 'David Twohy',\n 'José Padilha',\n 'James L. Brooks',\n 'James Mangold',\n 'George Lucas',\n 'Thomas Langmann',\n 'Cedric Nicolas-Troyan',\n 'Roger Donaldson',\n 'Dave Green',\n 'Josh Trank',\n 'Brad Peyton',\n 'Roger Spottiswoode',\n 'Steven Soderbergh',\n 'Rob Letterman',\n 'Michel Gondry',\n 'Noam Murro',\n 'Raja Gosnell',\n 'Will Finn',\n 'Jan de Bont',\n 'Len Wiseman',\n 'Frank Coraci',\n 'Michael Mann',\n 'Bo Welch',\n 'Ron Clements',\n 'Peter Chelsom',\n 'Dominic Sena',\n 'Tony Scott',\n 'Paul Weitz',\n 'Adam McKay',\n 'Chuck Russell',\n 'Quentin Tarantino',\n 'Gary Trousdale',\n 'Mark Dindal',\n 'Simon West',\n 'Stefen Fangmeier',\n 'Spike Jonze',\n 'Chris Wedge',\n 'Florian Henckel von Donnersmarck',\n 'Peter Hyams',\n 'Tom Tykwer',\n 'Pitof',\n 'Brad Silberling',\n 'Patrick Hughes',\n 'Ericson Core',\n 'Lawrence Guterman',\n 'Ron Underwood',\n 'Steve Martino',\n 'David Mamet',\n 'Zhang Yimou',\n 'Ash Brannon',\n 'Frank Oz',\n 'Jay Roach',\n 'Luc Besson',\n 'Michael Patrick King',\n 'Don Michael Paul',\n 'Sergei Bodrov',\n 'Wally Pfister',\n 'Rupert Wyatt',\n 'Mark Waters',\n 'John Moore',\n 'John Lee Hancock',\n 'Renny Harlin',\n 'Phil Lord',\n 'Ben Stiller',\n 'Tony Bancroft',\n 'Timur Bekmambetov',\n 'Walt Becker',\n 'Dennis Dugan',\n 'Sydney Pollack',\n 'Thor Freudenthal',\n 'Brian De Palma',\n 'Mick Jackson',\n 'Alan J. Pakula',\n 'Kathryn Bigelow',\n 'John Milius',\n 'Andrei Konchalovsky',\n 'Gary Ross',\n 'Paul W.S. Anderson',\n 'Genndy Tartakovsky',\n 'Kevin Lima',\n 'Daniel Espinosa',\n 'Nancy Meyers',\n 'Jill Culton',\n 'Neil Burger',\n 'Jean-Jacques Annaud',\n 'Barry Cook',\n 'Martin Brest',\n 'Andrew Davis',\n 'Bob Fosse',\n 'Tarsem Singh',\n 'Edgar Wright',\n 'Jon Amiel',\n 'Peter Segal',\n 'Pete Travis',\n 'George A. Romero',\n 'Sylvester Stallone',\n 'Todd Phillips',\n 'Karey Kirkpatrick',\n 'Gary Winick',\n 'Mimi Leder',\n 'Seth Gordon',\n 'Adam Shankman',\n 'D.J. Caruso',\n 'Anthony Minghella',\n 'Albert Hughes',\n 'Les Mayfield',\n 'Joe Pytka',\n 'Scott Derrickson',\n 'Ivan Reitman',\n 'Eric Brevig',\n 'Kelly Asbury',\n 'Stephen Hopkins',\n 'Jonathan Demme',\n 'Henry Jaglom',\n 'James Algar',\n 'Vincent Ward',\n 'Steven Brill',\n 'Terry Gilliam',\n 'Lucile Hadzihalilovic',\n 'Roger Christian',\n 'Joe Dante',\n 'Kevin Costner',\n 'Antony Hoffman',\n 'Jacques Perrin',\n 'Andrés Couturier',\n 'Roger Allers',\n 'Cody Cameron',\n 'John Singleton',\n 'Oliver Hirschbiegel',\n 'Des McAnuff',\n 'Chris Renaud',\n 'Stephen Norrington',\n 'Pierre Coffin',\n 'David Kellogg',\n 'Mike Nichols',\n 'Vicky Jenson',\n 'F. Gary Gray',\n 'Antoine Fuqua',\n 'Robert Luketic',\n 'Gil Kenan',\n 'Barry Levinson',\n 'Jerry Zucker',\n 'Andy Tennant',\n 'Florent-Emilio Siri',\n 'Gary Goldman',\n 'Ron Shelton',\n 'Àlex Pastor',\n 'Henry Selick',\n 'Kyle Balda',\n 'Fergal Reilly',\n 'Judd Apatow',\n 'Steve Carr',\n 'Mel Gibson',\n 'David Silverman',\n 'Frank Darabont',\n 'Betty Thomas',\n 'Garry Marshall',\n 'Paul Tibbitt',\n 'Clark Johnson',\n 'Cameron Crowe',\n 'Randall Wallace',\n 'Jonathan Frakes',\n 'George Clooney',\n 'Gary Shore',\n 'Andrzej Bartkowiak',\n 'Måns Mårlind',\n 'Gregory Hoblit',\n 'Gary McKendry',\n 'Wych Kaosayananda',\n 'Mikael Salomon',\n 'Bobby Farrelly',\n 'Dan St. Pierre',\n 'Kerry Conran',\n 'Michael Caton-Jones',\n 'Mikael Håfström',\n 'Phil Alden Robinson',\n 'David Slade',\n 'Joseph Ruben',\n 'Seth MacFarlane',\n 'Alejandro Amenábar',\n 'Kinka Usher',\n 'Craig Gillespie',\n 'Rob Bowman',\n 'Doug Lefler',\n 'Scott Waugh',\n 'Lawrence Kasdan',\n 'Michael Lembeck',\n 'Tom Hooper',\n 'Nora Ephron',\n 'Angelina Jolie',\n 'Clint Eastwood',\n 'Larry Charles',\n 'Stanley Kubrick',\n 'Will Gluck',\n 'Glenn Ficarra',\n 'David S. Goyer',\n 'Taylor Hackford',\n 'Michael Lehmann',\n 'Stuart Beattie',\n 'Roman Polanski',\n 'Robert Rodriguez',\n 'Baltasar Kormákur',\n 'Daniel Lee',\n 'Keenen Ivory Wayans',\n 'Rob Reiner',\n 'Marco Schnabel',\n 'Demian Lichtenstein',\n 'Josh Gordon',\n 'Tim Hill',\n 'David Frankel',\n 'Marc Lawrence',\n 'Peter Billingsley',\n 'Wes Ball',\n 'Ryan Murphy',\n 'Robert Redford',\n 'Jay Russell',\n 'Kenny Ortega',\n 'David McNally',\n 'Brian Robbins',\n 'Brian Levant',\n 'Steven Zaillian',\n 'Sam Fell',\n 'Jon Avnet',\n 'Robert Stevenhagen',\n 'Kevin Donovan',\n 'Geoff Murphy',\n 'David O. Russell',\n 'Babak Najafi',\n 'Jean-Pierre Jeunet',\n 'Anthony Stacchi',\n 'Griffin Dunne',\n 'John Pasquin',\n 'Ruben Fleischer',\n 'Harold Ramis',\n 'Kevin Macdonald',\n 'Donald Petrie',\n 'Jorge Blanco',\n 'Stuart Baird',\n 'Joel Coen',\n 'Robert Lorenz',\n 'Harold Becker',\n 'Scott Stewart',\n 'Tony Bill',\n 'Rod Lurie',\n 'Walter Hill',\n 'Akiva Goldsman',\n 'Harald Zwart',\n 'Walter Salles',\n 'Iain Softley',\n 'Frank Miller',\n 'David Koepp',\n 'Uwe Boll',\n 'Soi Cheang',\n 'John Dahl',\n 'Tim Miller',\n 'Stephen Herek',\n 'Peter MacDonald',\n 'Anthony Hemingway',\n 'Sean Anders',\n 'Brian Taylor',\n 'John Madden',\n 'Kevin Bray',\n 'Mike Gabriel',\n 'Sam Weisman',\n 'Jesse Dylan',\n 'Wayne Wang',\n 'Gabriele Muccino',\n 'Tom Dey',\n 'Jimmy Hayward',\n 'Alan Parker',\n 'John Frankenheimer',\n 'Paul King',\n 'Akiva Schaffer',\n 'William Friedkin',\n 'Kent Alterman',\n 'Peter Lord',\n 'Shekhar Kapur',\n 'Karyn Kusama',\n 'Ronald F. Maxwell',\n 'Robert Butler',\n 'Steve Antin',\n 'Jim Gillespie',\n 'Francis Ford Coppola',\n 'Richard Lester',\n 'Scott Cooper',\n 'Curtis Hanson',\n 'Phyllida Lloyd',\n 'Jay Chandrasekhar',\n 'Terrence Malick',\n 'David Dobkin',\n 'Miloš Forman',\n 'Pierre Morel',\n 'Paul Hunter',\n 'Steve Oedekerk',\n 'John Whitesell',\n 'George Nolfi',\n 'Neil Jordan',\n 'Rawson Marshall Thurber',\n 'Spike Lee',\n 'Brian Helgeland',\n 'Frank Marshall',\n 'Hideo Nakata',\n 'Peter Hewitt',\n 'Joe Roth',\n 'Bennett Miller',\n 'Jaume Collet-Serra',\n 'Andy Fickman',\n 'James McTeigue',\n \"Matthew O'Callaghan\",\n 'Angela Robinson',\n 'Gary Fleder',\n 'Tommy Wirkola',\n 'Adrian Lyne',\n 'Stephen Gaghan',\n 'Jorge R. Gutierrez',\n 'Richard Loncraine',\n 'Christophe Gans',\n 'Howard Deutch',\n 'Jon Hurwitz',\n 'Steven Quale',\n 'John Landis',\n 'Alexander Witt',\n 'Beeban Kidron',\n 'Carl Franklin',\n 'Steven Seagal',\n 'Danny Boyle',\n 'Andrew Bergman',\n 'Barbet Schroeder',\n 'Peter Webber',\n 'Andrew Niccol',\n 'John Carpenter',\n 'Wes Anderson',\n 'David Cronenberg',\n 'John Stockwell',\n 'David Gordon Green',\n 'Jim Sheridan',\n 'Costa-Gavras',\n 'Patrick Read Johnson',\n 'Richard LaGravenese',\n 'Danny DeVito',\n 'George Armitage',\n 'Patrick Lussier',\n 'James Wong',\n 'Richard Curtis',\n 'Chuck Bowman',\n 'Olivier Megaton',\n 'Deepa Mehta',\n 'Warren Beatty',\n 'Penny Marshall',\n 'Ted Kotcheff',\n 'Andrei Tarkovsky',\n 'Yvette Kaplan',\n 'Stephen Frears',\n 'P.J. Hogan',\n 'Brad Furman',\n 'Terence Young',\n 'David Zucker',\n 'Denis Villeneuve',\n 'Thomas Carter',\n 'Roger Michell',\n 'Luis Llosa',\n 'Melville Shavelson',\n 'Garth Jennings',\n 'Joel Zwick',\n 'Russell Mulcahy',\n 'David R. Ellis',\n 'Peter Howitt',\n 'John A. Davis',\n 'David Lynch',\n 'Julie Taymor',\n 'Mathieu Kassovitz',\n 'John Gray',\n 'John Schultz',\n 'Sean Penn',\n 'Susan Stroman',\n 'Simon Wincer',\n 'Billy Bob Thornton',\n 'Danny Pang',\n 'George P. Cosmatos',\n 'Oliver Parker',\n 'Lawrence Kasanoff',\n 'Ben Affleck',\n 'Brian Gibson',\n 'Ben Sharpsteen',\n 'Michael Cimino',\n 'Paul McGuigan',\n 'Gus Van Sant',\n 'Roger Kumble',\n 'Burr Steers',\n 'Nick Park',\n 'John Hamburg',\n 'Reginald Hudlin',\n 'Joseph L. Mankiewicz',\n 'Barbra Streisand',\n 'Mark Pellington',\n 'John Glen',\n 'Catherine Hardwicke',\n 'John Herzfeld',\n 'Annabel Jankel',\n 'Julie Anne Robinson',\n 'Seth Rogen',\n 'Sngmoo Lee',\n 'Jamel Debbouze',\n 'Gordon Chan',\n 'Asger Leth',\n 'John G. Avildsen',\n 'Anne Fletcher',\n 'Bruce Beresford',\n 'Sam Taylor-Johnson',\n 'Ken Kwapis',\n 'Wes Craven',\n 'Etan Cohen',\n 'Nick Cassavetes',\n 'Nicholas Stoller',\n 'Mark A.Z. Dippé',\n 'Callan Brunker',\n 'Nimród Antal',\n 'Alejandro Agresti',\n 'Peter Hedges',\n 'Paul Weiland',\n 'Colin Strause',\n 'Joan Chen',\n 'Greg Mottola',\n 'Jake Kasdan',\n 'Diane Keaton',\n 'Kelly Makin',\n 'Stephen Daldry',\n 'Christian Duguay',\n 'Justin Chadwick',\n \"Pat O'Connor\",\n 'Frederik Du Chau',\n 'Irwin Winkler',\n 'Joseph Kahn',\n 'Sofia Coppola',\n 'Stephen T. Kay',\n 'Juan Antonio Bayona',\n 'Elaine May',\n 'Dennie Gordon',\n 'Charles Shyer',\n 'Ulu Grosbard',\n 'William Malone',\n 'Malcolm D. Lee',\n 'Jerry Jameson',\n 'Mic Rodgers',\n 'Christian Alvart',\n 'Jean-Marie Poiré',\n 'Marc F. Adler',\n 'Geoffrey Sax',\n 'Richard Shepard',\n 'Peter Chan',\n 'Sergei Bodrov Jr.',\n 'Bong Joon-ho',\n 'Bibo Bergeron',\n 'Jeff Nathanson',\n 'S.S. Rajamouli',\n 'Charles S. Dutton',\n 'Jonathan Lynn',\n 'David Carson',\n 'Wong Kar-wai',\n 'Yuefeng Song',\n 'Norman Jewison',\n 'David Mirkin',\n 'Luis Mandoki',\n 'Lee Daniels',\n 'Jeb Stuart',\n 'Steve Miner',\n 'Paul Thomas Anderson',\n 'David Leland',\n 'J Blakeson',\n 'Ryan Coogler',\n 'Kirk Jones',\n 'Jennifer Flackett',\n 'Kevin Smith',\n 'Christian Ditter',\n 'Charles Martin Smith',\n 'Fyodor Bondarchuk',\n 'Irvin Kershner',\n 'Steve Pink',\n 'Scott Hicks',\n 'Kirk De Micco',\n 'Chris Rock',\n 'Wilson Yip',\n 'Robert Wise',\n 'Kevin Rodney Sullivan',\n 'Kevin Munroe',\n 'Mike Tollin',\n 'Patrick Tatopoulos',\n 'Gary David Goldberg',\n 'Tobe Hooper',\n 'Alan Poul',\n 'Luke Greenfield',\n 'Gil Junger',\n 'Michael Ritchie',\n 'Steven E. de Souza',\n 'Alexandre Aja',\n 'Michael Rymer',\n 'Hugh Wilson',\n 'Mike Hodges',\n 'Scott Mann',\n 'Susanna White',\n 'Chris Carter',\n \"Tommy O'Haver\",\n 'Peter Landesman',\n 'Gary Chapman',\n 'Craig Mazin',\n 'Allen Hughes',\n 'Kimble Rendall',\n 'Peter Yates',\n 'Lasse Hallström',\n 'Jean-Marc Vallée',\n 'Tsui Hark',\n 'Lexi Alexander',\n 'Ronny Yu',\n 'Bille August',\n 'Moustapha Akkad',\n 'Jean-Paul Rappeneau',\n 'Joachim Rønning',\n 'Tony Kaye',\n 'Ken Scott',\n 'Hugh Johnson',\n 'Hayao Miyazaki',\n 'George Tillman, Jr.',\n 'Rand Ravich',\n 'Hugh Hudson',\n 'Ben Stassen',\n 'Chris Gorak',\n 'Scott Speer',\n 'Joe Charbanic',\n 'Jonathan Hensleigh',\n 'Danny Cannon',\n 'Boaz Yakin',\n 'Richard Marquand',\n 'Neil Marshall',\n 'David Wain',\n 'Jared Hess',\n 'Rupert Wainwright',\n 'John Luessenhop',\n 'Justin Zackham',\n 'John Gatins',\n 'Miguel Sapochnik',\n 'Shim Hyung-Rae',\n 'Don Scardino',\n 'Tim Robbins',\n 'Tom Reeve',\n 'Nanette Burstein',\n 'Ariel Vromen',\n 'Lewis Gilbert',\n 'John Francis Daley',\n 'J.B. Rogers',\n 'Michael Sucsy',\n 'Tom Vaughan',\n 'Stephen Hillenburg',\n 'Stig Bergqvist',\n 'Jason Reitman',\n 'Alexander Payne',\n 'Jonathan Levine',\n 'Rian Johnson',\n 'Chris Noonan',\n 'Michael McCullers',\n 'Forest Whitaker',\n 'Woody Allen',\n 'Peter Lepeniotis',\n 'Ted Demme',\n 'William Shatner',\n 'James Gartner',\n 'Lee Toland Krieger',\n 'Tim McCanlies',\n 'Drew Goddard',\n 'Jason Friedberg',\n 'Paul Michael Glaser',\n 'John R. Leonetti',\n 'Tom Hanks',\n 'Kimberly Peirce',\n 'Liz Friedlander',\n 'Phil Joanou',\n 'Shane Acker',\n 'Martha Coolidge',\n 'Stephen Anderson',\n 'Troy Miller',\n 'Tate Taylor',\n 'Brett Leonard',\n 'Alister Grierson',\n 'Nick Hurran',\n 'Charles Stone III',\n 'Paul Haggis',\n 'Kurt Wimmer',\n 'Jean-François Richet',\n 'Kevin Hooks',\n 'Ellory Elkayem',\n 'Niki Caro',\n 'Vincenzo Natali',\n 'Willard Huyck',\n \"Gavin O'Connor\",\n 'Bruce Hunt',\n 'Christopher Roberts',\n 'Kim Jee-woon',\n 'Nick Hamm',\n 'Andy Cadiff',\n 'Mike Disa',\n 'Richard J. Lewis',\n 'Sergio Leone',\n 'Niels Arden Oplev',\n 'Michael Radford',\n 'Steve Boyum',\n 'Chen Kaige',\n 'Corey Yuen Kwai',\n 'Andrew Dominik',\n 'Jackie Chan',\n 'Laurent Tirard',\n 'Reinhard Klooss',\n 'Frédéric Auburtin',\n 'Olivier Dahan',\n 'Maksim Fadeev',\n 'Liliana Cavani',\n 'Elizabeth Banks',\n 'Edward Norton',\n 'Ben Falcone',\n 'Richard Attenborough',\n 'Don Mancini',\n 'John Maybury',\n 'Norton Virgien',\n 'Shinji Aramaki',\n 'Miguel Arteta',\n 'James Gray',\n 'Janusz Kamiński',\n 'Robert B. Weide',\n 'Jeff Wadlow',\n 'Agustín Díaz Yanes',\n 'Camille Delamarre',\n 'David Lean',\n 'Richard Eyre',\n 'Nicholas Meyer',\n 'Callie Khouri',\n 'Sanaa Hamri',\n 'Todd Graff',\n 'Philip Kaufman',\n 'Saul Dibb',\n 'Walter Murch',\n 'Richard Linklater',\n 'E. Elias Merhige',\n 'Menno Meyjes',\n 'Jodie Foster',\n 'Scott Frank',\n 'Kevin Allen',\n 'Michael Cristofer',\n 'Andrew Morahan',\n 'Bob Rafelson',\n 'Michael Cohn',\n 'Alan Shapiro',\n 'Fernando Meirelles',\n 'Michael Hoffman',\n 'Oleg Stepchenko',\n 'Michael Winterbottom',\n 'Michael Pressman',\n 'Sharon Maguire',\n 'Charles Herman-Wurmfeld',\n 'Gábor Csupó',\n 'Tyler Perry',\n 'Joe Carnahan',\n 'John Polson',\n 'Bernardo Bertolucci',\n 'Cathy Malkasian',\n 'Chris Nahon',\n 'Fred Wolf',\n 'Bille Woodruff',\n 'Victor Salva',\n 'Mark Helfrich',\n 'Steve Bendelack',\n 'Dwight H. Little',\n 'Guillaume Canet',\n 'Kirsten Sheridan',\n 'Richard Fleischer',\n 'Bob Spiers',\n 'Damien Dante Wayans',\n 'John Wells',\n 'Tim Fywell',\n 'Nigel Cole',\n 'Dexter Fletcher',\n 'Jeremy Leven',\n 'Sylvain White',\n 'Troy Nixey',\n 'Philip G. Atwell',\n 'Jeff Schaffer',\n 'James Bridges',\n 'Steve Barron',\n 'Bill Paxton',\n 'Richard Kelly',\n 'Carter Smith',\n 'John Schlesinger',\n 'Ringo Lam',\n 'Bruce McCulloch',\n 'Patricia Riggen',\n 'Pascal Chaumeil',\n 'Jonathan Kaplan',\n 'Ole Bornedal',\n 'Richard Benjamin',\n 'Craig R. Baxley',\n 'John Hillcoat',\n 'John Guillermin',\n 'Marcos Siega',\n 'Rachel Talalay',\n 'Jeffrey W. Byrd',\n 'Atom Egoyan',\n 'Robert Towne',\n 'Giuseppe Tornatore',\n 'Werner Herzog',\n 'Jérôme Deschamps',\n 'Inna Evlannikova',\n 'Jonathan English',\n 'Sergey Bondarchuk',\n 'Teddy Chan',\n 'Mario Van Peebles',\n 'Leonard Nimoy',\n 'Herbert Ross',\n 'Bonnie Hunt',\n 'Neil LaBute',\n 'Grant Heslov',\n 'George Gallo',\n 'Sidney Lumet',\n 'Douglas McGrath',\n 'Kevin Spacey',\n 'Richard Williams',\n 'Mary McGuckian',\n 'Tony Goldwyn',\n 'Jonathan Newman',\n 'Michael Dinner',\n 'Joseph Sargent',\n 'Jerry Zaks',\n 'Fred Durst',\n 'Anne Fontaine',\n 'Jon Cassar',\n 'Mira Nair',\n 'Mel Brooks',\n 'Russell Crowe',\n 'Jessie Nelson',\n 'Christopher Spencer',\n 'Mike Bigelow',\n 'Daniel Sackheim',\n 'Deborah Kaplan',\n 'Uli Edel',\n 'Fred Dekker',\n 'Brian Trenchard-Smith',\n 'Blake Edwards',\n 'Laurence Dunmore',\n 'Christian Carion',\n 'Dax Shepard',\n 'Rowan Joffe',\n 'John Curran',\n 'Juan José Campanella',\n 'Trey Parker',\n 'Stuart Gillard',\n 'Katt Shea',\n 'Joshua Michael Stern',\n 'Tomas Alfredson',\n 'John Duigan',\n 'Colin Higgins',\n 'Jim Sonzero',\n 'Penelope Spheeris',\n 'Jeff Tremaine',\n 'Jeannot Szwarc',\n 'Steve McQueen',\n 'Thea Sharrock',\n 'Jon Lucas',\n 'Robin Budd',\n 'Ava DuVernay',\n 'Steve Trenbirth',\n 'Mennan Yapo',\n 'Jun Falkenstein',\n 'Tom McCarthy',\n 'Takashi Shimizu',\n 'Gary Nelson',\n 'Anton Corbijn',\n 'Gregory Nava',\n 'John Patrick Shanley',\n 'Joshua Logan',\n 'Steve Beck',\n 'Todd Strauss-Schulson',\n 'John McNaughton',\n 'Nelson McCormick',\n 'Eric Valette',\n 'Andrew Fleming',\n 'Michael Spierig',\n 'Jim Field Smith',\n 'Thomas Bezucha',\n 'William Brent Bell',\n 'Ben Gluck',\n 'Jessica Bendinger',\n 'Henry Joost',\n 'Ed Harris',\n 'Alfred Hitchcock',\n 'Shana Feste',\n 'Steve Rash',\n 'Mike Binder',\n 'Michael J. Bassett',\n 'Frank Nissen',\n 'Stephen Chow',\n 'Peter Hastings',\n 'Paul Abascal',\n 'Chris Koch',\n 'Amy Heckerling',\n 'Michael Moore',\n 'George Stevens',\n 'Billy Ray',\n 'Mark Mylod',\n 'Stephen St. Leger',\n 'Michael O. Sajbel',\n 'Charles T. Kanganis',\n 'Damon Santostefano',\n 'Bob Clark',\n 'Frank Passingham',\n 'Benson Lee',\n 'Glen Morgan',\n 'Mike Leigh',\n 'Alejandro Monteverde',\n 'Jonathan Glazer',\n 'J.C. Chandor',\n 'Paul Gross',\n 'Marc Abraham',\n 'Todd Haynes',\n 'Mabrouk El Mechri',\n 'Charlie Kaufman',\n 'Nancy Walker',\n 'Angelo Pizzo',\n 'Matthew Diamond',\n 'Katsuhiro Ōtomo',\n 'David Anspaugh',\n 'Andrew Jarecki',\n 'Daniel Algrant',\n 'Mike Barker',\n 'Wayne Thornley',\n 'Gnana Rajasekaran',\n 'Tom Walsh',\n 'Jonathan Jakubowicz',\n 'Scott Walker',\n 'Mark Rosman',\n 'Rob Hawk',\n 'Britt Allcroft',\n 'Alan Yuen',\n 'Brian Percival',\n 'Anand Tucker',\n 'Anthony Mann',\n 'Michael Dowse',\n 'Daniel Barnz',\n 'Emile Ardolino',\n 'Robert Altman',\n 'James Schamus',\n 'Andrew Douglas',\n 'Ricky Gervais',\n 'Vic Armstrong',\n 'Terry Zwigoff',\n 'Audrey Wells',\n 'Rick Friedberg',\n 'Sean McNamara',\n 'Jody Hill',\n 'Brandon Camp',\n 'Kevin Tancharoen',\n 'Nicholas Hytner',\n 'Bart Freundlich',\n 'William A. Fraker',\n 'John Boorman',\n 'Courtney Solomon',\n 'Jeff Kanew',\n 'István Szabó',\n 'Matthew Robbins',\n 'Hal Needham',\n ...]"
     },
     "execution_count": 35,
     "metadata": {},
     "output_type": "execute_result"
    }
   ],
   "execution_count": null
  },
  {
   "cell_type": "code",
   "metadata": {
    "id": "et9U23GiYDy-",
    "cell_id": "00035-95decd6e-2e2b-4717-a37f-29820189d80b",
    "deepnote_cell_type": "code"
   },
   "source": "def binary(director_list):\n    binaryList = []  \n    for direct in directorList:\n        if direct==director_list:\n            binaryList.append(1)\n        else:\n            binaryList.append(0)\n    return binaryList",
   "outputs": [],
   "execution_count": null
  },
  {
   "cell_type": "code",
   "metadata": {
    "colab": {
     "base_uri": "https://localhost:8080/",
     "height": 394
    },
    "id": "rIPg_lYnYIUa",
    "outputId": "31e4c0fd-87ba-4e0f-f256-611152b78bff",
    "cell_id": "00036-deaf0c75-afa6-41a8-ab47-63fb3b6906fc",
    "deepnote_cell_type": "code"
   },
   "source": "df_movies['director_bin'] = df_movies['director'].apply(lambda x: binary(x))\ndf_movies.head(3)",
   "outputs": [
    {
     "data": {
      "text/html": "<div>\n<style scoped>\n    .dataframe tbody tr th:only-of-type {\n        vertical-align: middle;\n    }\n\n    .dataframe tbody tr th {\n        vertical-align: top;\n    }\n\n    .dataframe thead th {\n        text-align: right;\n    }\n</style>\n<table border=\"1\" class=\"dataframe\">\n  <thead>\n    <tr style=\"text-align: right;\">\n      <th></th>\n      <th>id</th>\n      <th>original_title</th>\n      <th>genres</th>\n      <th>cast</th>\n      <th>vote_average</th>\n      <th>director</th>\n      <th>keywords</th>\n      <th>genres_bin</th>\n      <th>cast_bin</th>\n      <th>director_bin</th>\n    </tr>\n  </thead>\n  <tbody>\n    <tr>\n      <th>0</th>\n      <td>19995</td>\n      <td>Avatar</td>\n      <td>[Action, Adventure, Fantasy, Science Fiction]</td>\n      <td>[Sam Worthington, Zoe Saldana, Sigourney Weave...</td>\n      <td>7.2</td>\n      <td>James Cameron</td>\n      <td>[culture clash, future, space war, space colon...</td>\n      <td>[1, 1, 1, 1, 0, 0, 0, 0, 0, 0, 0, 0, 0, 0, 0, ...</td>\n      <td>[1, 1, 1, 1, 1, 1, 1, 1, 1, 1, 1, 1, 1, 1, 1, ...</td>\n      <td>[1, 0, 0, 0, 0, 0, 0, 0, 0, 0, 0, 0, 0, 0, 0, ...</td>\n    </tr>\n    <tr>\n      <th>1</th>\n      <td>285</td>\n      <td>Pirates of the Caribbean: At World's End</td>\n      <td>[Adventure, Fantasy, Action]</td>\n      <td>[Johnny Depp, Orlando Bloom, Keira Knightley, ...</td>\n      <td>6.9</td>\n      <td>Gore Verbinski</td>\n      <td>[ocean, drug abuse, exotic island, east india ...</td>\n      <td>[1, 1, 1, 0, 0, 0, 0, 0, 0, 0, 0, 0, 0, 0, 0, ...</td>\n      <td>[0, 0, 0, 0, 0, 0, 0, 0, 0, 0, 0, 0, 0, 0, 0, ...</td>\n      <td>[0, 1, 0, 0, 0, 0, 0, 0, 0, 0, 0, 0, 0, 0, 0, ...</td>\n    </tr>\n    <tr>\n      <th>2</th>\n      <td>206647</td>\n      <td>Spectre</td>\n      <td>[Action, Adventure, Crime]</td>\n      <td>[Daniel Craig, Christoph Waltz, Léa Seydoux, R...</td>\n      <td>6.3</td>\n      <td>Sam Mendes</td>\n      <td>[spy, based on novel, secret agent, sequel, mi...</td>\n      <td>[1, 1, 0, 0, 1, 0, 0, 0, 0, 0, 0, 0, 0, 0, 0, ...</td>\n      <td>[0, 0, 0, 0, 0, 0, 0, 0, 0, 0, 0, 0, 0, 0, 0, ...</td>\n      <td>[0, 0, 1, 0, 0, 0, 0, 0, 0, 0, 0, 0, 0, 0, 0, ...</td>\n    </tr>\n  </tbody>\n</table>\n</div>",
      "text/plain": "       id                            original_title  \\\n0   19995                                    Avatar   \n1     285  Pirates of the Caribbean: At World's End   \n2  206647                                   Spectre   \n\n                                          genres  \\\n0  [Action, Adventure, Fantasy, Science Fiction]   \n1                   [Adventure, Fantasy, Action]   \n2                     [Action, Adventure, Crime]   \n\n                                                cast  vote_average  \\\n0  [Sam Worthington, Zoe Saldana, Sigourney Weave...           7.2   \n1  [Johnny Depp, Orlando Bloom, Keira Knightley, ...           6.9   \n2  [Daniel Craig, Christoph Waltz, Léa Seydoux, R...           6.3   \n\n         director                                           keywords  \\\n0   James Cameron  [culture clash, future, space war, space colon...   \n1  Gore Verbinski  [ocean, drug abuse, exotic island, east india ...   \n2      Sam Mendes  [spy, based on novel, secret agent, sequel, mi...   \n\n                                          genres_bin  \\\n0  [1, 1, 1, 1, 0, 0, 0, 0, 0, 0, 0, 0, 0, 0, 0, ...   \n1  [1, 1, 1, 0, 0, 0, 0, 0, 0, 0, 0, 0, 0, 0, 0, ...   \n2  [1, 1, 0, 0, 1, 0, 0, 0, 0, 0, 0, 0, 0, 0, 0, ...   \n\n                                            cast_bin  \\\n0  [1, 1, 1, 1, 1, 1, 1, 1, 1, 1, 1, 1, 1, 1, 1, ...   \n1  [0, 0, 0, 0, 0, 0, 0, 0, 0, 0, 0, 0, 0, 0, 0, ...   \n2  [0, 0, 0, 0, 0, 0, 0, 0, 0, 0, 0, 0, 0, 0, 0, ...   \n\n                                        director_bin  \n0  [1, 0, 0, 0, 0, 0, 0, 0, 0, 0, 0, 0, 0, 0, 0, ...  \n1  [0, 1, 0, 0, 0, 0, 0, 0, 0, 0, 0, 0, 0, 0, 0, ...  \n2  [0, 0, 1, 0, 0, 0, 0, 0, 0, 0, 0, 0, 0, 0, 0, ...  "
     },
     "execution_count": 37,
     "metadata": {},
     "output_type": "execute_result"
    }
   ],
   "execution_count": null
  },
  {
   "cell_type": "code",
   "metadata": {
    "colab": {
     "base_uri": "https://localhost:8080/",
     "height": 332
    },
    "id": "4BH4csUMZqHQ",
    "outputId": "013b5d27-f691-4fc0-d45c-a79522a19c17",
    "cell_id": "00037-a5e3ad4d-0cb5-445d-b20b-377d4a16e4a6",
    "deepnote_cell_type": "code"
   },
   "source": "df_movies.head(2)",
   "outputs": [
    {
     "data": {
      "text/html": "<div>\n<style scoped>\n    .dataframe tbody tr th:only-of-type {\n        vertical-align: middle;\n    }\n\n    .dataframe tbody tr th {\n        vertical-align: top;\n    }\n\n    .dataframe thead th {\n        text-align: right;\n    }\n</style>\n<table border=\"1\" class=\"dataframe\">\n  <thead>\n    <tr style=\"text-align: right;\">\n      <th></th>\n      <th>id</th>\n      <th>original_title</th>\n      <th>genres</th>\n      <th>cast</th>\n      <th>vote_average</th>\n      <th>director</th>\n      <th>keywords</th>\n      <th>genres_bin</th>\n      <th>cast_bin</th>\n      <th>director_bin</th>\n    </tr>\n  </thead>\n  <tbody>\n    <tr>\n      <th>0</th>\n      <td>19995</td>\n      <td>Avatar</td>\n      <td>[Action, Adventure, Fantasy, Science Fiction]</td>\n      <td>[Sam Worthington, Zoe Saldana, Sigourney Weave...</td>\n      <td>7.2</td>\n      <td>James Cameron</td>\n      <td>[culture clash, future, space war, space colon...</td>\n      <td>[1, 1, 1, 1, 0, 0, 0, 0, 0, 0, 0, 0, 0, 0, 0, ...</td>\n      <td>[1, 1, 1, 1, 1, 1, 1, 1, 1, 1, 1, 1, 1, 1, 1, ...</td>\n      <td>[1, 0, 0, 0, 0, 0, 0, 0, 0, 0, 0, 0, 0, 0, 0, ...</td>\n    </tr>\n    <tr>\n      <th>1</th>\n      <td>285</td>\n      <td>Pirates of the Caribbean: At World's End</td>\n      <td>[Adventure, Fantasy, Action]</td>\n      <td>[Johnny Depp, Orlando Bloom, Keira Knightley, ...</td>\n      <td>6.9</td>\n      <td>Gore Verbinski</td>\n      <td>[ocean, drug abuse, exotic island, east india ...</td>\n      <td>[1, 1, 1, 0, 0, 0, 0, 0, 0, 0, 0, 0, 0, 0, 0, ...</td>\n      <td>[0, 0, 0, 0, 0, 0, 0, 0, 0, 0, 0, 0, 0, 0, 0, ...</td>\n      <td>[0, 1, 0, 0, 0, 0, 0, 0, 0, 0, 0, 0, 0, 0, 0, ...</td>\n    </tr>\n  </tbody>\n</table>\n</div>",
      "text/plain": "      id                            original_title  \\\n0  19995                                    Avatar   \n1    285  Pirates of the Caribbean: At World's End   \n\n                                          genres  \\\n0  [Action, Adventure, Fantasy, Science Fiction]   \n1                   [Adventure, Fantasy, Action]   \n\n                                                cast  vote_average  \\\n0  [Sam Worthington, Zoe Saldana, Sigourney Weave...           7.2   \n1  [Johnny Depp, Orlando Bloom, Keira Knightley, ...           6.9   \n\n         director                                           keywords  \\\n0   James Cameron  [culture clash, future, space war, space colon...   \n1  Gore Verbinski  [ocean, drug abuse, exotic island, east india ...   \n\n                                          genres_bin  \\\n0  [1, 1, 1, 1, 0, 0, 0, 0, 0, 0, 0, 0, 0, 0, 0, ...   \n1  [1, 1, 1, 0, 0, 0, 0, 0, 0, 0, 0, 0, 0, 0, 0, ...   \n\n                                            cast_bin  \\\n0  [1, 1, 1, 1, 1, 1, 1, 1, 1, 1, 1, 1, 1, 1, 1, ...   \n1  [0, 0, 0, 0, 0, 0, 0, 0, 0, 0, 0, 0, 0, 0, 0, ...   \n\n                                        director_bin  \n0  [1, 0, 0, 0, 0, 0, 0, 0, 0, 0, 0, 0, 0, 0, 0, ...  \n1  [0, 1, 0, 0, 0, 0, 0, 0, 0, 0, 0, 0, 0, 0, 0, ...  "
     },
     "execution_count": 38,
     "metadata": {},
     "output_type": "execute_result"
    }
   ],
   "execution_count": null
  },
  {
   "cell_type": "code",
   "metadata": {
    "colab": {
     "base_uri": "https://localhost:8080/",
     "height": 178
    },
    "id": "xvFl2Qc1bUCB",
    "outputId": "627f2400-d25c-43ef-b338-5ed29add329c",
    "cell_id": "00038-39c0c82a-06a3-446f-82e9-a67954825a23",
    "deepnote_cell_type": "code"
   },
   "source": "df_movies.head(2)",
   "outputs": [
    {
     "data": {
      "text/html": "<div>\n<style scoped>\n    .dataframe tbody tr th:only-of-type {\n        vertical-align: middle;\n    }\n\n    .dataframe tbody tr th {\n        vertical-align: top;\n    }\n\n    .dataframe thead th {\n        text-align: right;\n    }\n</style>\n<table border=\"1\" class=\"dataframe\">\n  <thead>\n    <tr style=\"text-align: right;\">\n      <th></th>\n      <th>id</th>\n      <th>original_title</th>\n      <th>genres</th>\n      <th>cast</th>\n      <th>vote_average</th>\n      <th>director</th>\n      <th>keywords</th>\n      <th>genres_bin</th>\n      <th>cast_bin</th>\n      <th>director_bin</th>\n    </tr>\n  </thead>\n  <tbody>\n    <tr>\n      <th>0</th>\n      <td>19995</td>\n      <td>Avatar</td>\n      <td>[Action, Adventure, Fantasy, Science Fiction]</td>\n      <td>[Sam Worthington, Zoe Saldana, Sigourney Weave...</td>\n      <td>7.2</td>\n      <td>James Cameron</td>\n      <td>[culture clash, future, space war, space colon...</td>\n      <td>[1, 1, 1, 1, 0, 0, 0, 0, 0, 0, 0, 0, 0, 0, 0, ...</td>\n      <td>[1, 1, 1, 1, 1, 1, 1, 1, 1, 1, 1, 1, 1, 1, 1, ...</td>\n      <td>[1, 0, 0, 0, 0, 0, 0, 0, 0, 0, 0, 0, 0, 0, 0, ...</td>\n    </tr>\n    <tr>\n      <th>1</th>\n      <td>285</td>\n      <td>Pirates of the Caribbean: At World's End</td>\n      <td>[Adventure, Fantasy, Action]</td>\n      <td>[Johnny Depp, Orlando Bloom, Keira Knightley, ...</td>\n      <td>6.9</td>\n      <td>Gore Verbinski</td>\n      <td>[ocean, drug abuse, exotic island, east india ...</td>\n      <td>[1, 1, 1, 0, 0, 0, 0, 0, 0, 0, 0, 0, 0, 0, 0, ...</td>\n      <td>[0, 0, 0, 0, 0, 0, 0, 0, 0, 0, 0, 0, 0, 0, 0, ...</td>\n      <td>[0, 1, 0, 0, 0, 0, 0, 0, 0, 0, 0, 0, 0, 0, 0, ...</td>\n    </tr>\n  </tbody>\n</table>\n</div>",
      "text/plain": "      id                            original_title  \\\n0  19995                                    Avatar   \n1    285  Pirates of the Caribbean: At World's End   \n\n                                          genres  \\\n0  [Action, Adventure, Fantasy, Science Fiction]   \n1                   [Adventure, Fantasy, Action]   \n\n                                                cast  vote_average  \\\n0  [Sam Worthington, Zoe Saldana, Sigourney Weave...           7.2   \n1  [Johnny Depp, Orlando Bloom, Keira Knightley, ...           6.9   \n\n         director                                           keywords  \\\n0   James Cameron  [culture clash, future, space war, space colon...   \n1  Gore Verbinski  [ocean, drug abuse, exotic island, east india ...   \n\n                                          genres_bin  \\\n0  [1, 1, 1, 1, 0, 0, 0, 0, 0, 0, 0, 0, 0, 0, 0, ...   \n1  [1, 1, 1, 0, 0, 0, 0, 0, 0, 0, 0, 0, 0, 0, 0, ...   \n\n                                            cast_bin  \\\n0  [1, 1, 1, 1, 1, 1, 1, 1, 1, 1, 1, 1, 1, 1, 1, ...   \n1  [0, 0, 0, 0, 0, 0, 0, 0, 0, 0, 0, 0, 0, 0, 0, ...   \n\n                                        director_bin  \n0  [1, 0, 0, 0, 0, 0, 0, 0, 0, 0, 0, 0, 0, 0, 0, ...  \n1  [0, 1, 0, 0, 0, 0, 0, 0, 0, 0, 0, 0, 0, 0, 0, ...  "
     },
     "execution_count": 39,
     "metadata": {},
     "output_type": "execute_result"
    }
   ],
   "execution_count": null
  },
  {
   "cell_type": "code",
   "metadata": {
    "id": "pO7CgJgjaUGe",
    "cell_id": "00039-3bcd9939-9345-42f4-aa92-661397f74beb",
    "deepnote_cell_type": "code"
   },
   "source": "df_movies=df_movies.dropna()",
   "outputs": [],
   "execution_count": null
  },
  {
   "cell_type": "code",
   "metadata": {
    "colab": {
     "base_uri": "https://localhost:8080/",
     "height": 278
    },
    "id": "_W6DiogLKjd0",
    "outputId": "1ff20a13-64ce-44d8-884b-2c451d2a41d4",
    "cell_id": "00040-430f52f2-b28a-425e-b548-675c5e39e76b",
    "deepnote_cell_type": "code"
   },
   "source": "df_movies.head(2)",
   "outputs": [
    {
     "data": {
      "text/html": "<div>\n<style scoped>\n    .dataframe tbody tr th:only-of-type {\n        vertical-align: middle;\n    }\n\n    .dataframe tbody tr th {\n        vertical-align: top;\n    }\n\n    .dataframe thead th {\n        text-align: right;\n    }\n</style>\n<table border=\"1\" class=\"dataframe\">\n  <thead>\n    <tr style=\"text-align: right;\">\n      <th></th>\n      <th>id</th>\n      <th>original_title</th>\n      <th>genres</th>\n      <th>cast</th>\n      <th>vote_average</th>\n      <th>director</th>\n      <th>keywords</th>\n      <th>genres_bin</th>\n      <th>cast_bin</th>\n      <th>director_bin</th>\n    </tr>\n  </thead>\n  <tbody>\n    <tr>\n      <th>0</th>\n      <td>19995</td>\n      <td>Avatar</td>\n      <td>[Action, Adventure, Fantasy, Science Fiction]</td>\n      <td>[Sam Worthington, Zoe Saldana, Sigourney Weave...</td>\n      <td>7.2</td>\n      <td>James Cameron</td>\n      <td>[culture clash, future, space war, space colon...</td>\n      <td>[1, 1, 1, 1, 0, 0, 0, 0, 0, 0, 0, 0, 0, 0, 0, ...</td>\n      <td>[1, 1, 1, 1, 1, 1, 1, 1, 1, 1, 1, 1, 1, 1, 1, ...</td>\n      <td>[1, 0, 0, 0, 0, 0, 0, 0, 0, 0, 0, 0, 0, 0, 0, ...</td>\n    </tr>\n    <tr>\n      <th>1</th>\n      <td>285</td>\n      <td>Pirates of the Caribbean: At World's End</td>\n      <td>[Adventure, Fantasy, Action]</td>\n      <td>[Johnny Depp, Orlando Bloom, Keira Knightley, ...</td>\n      <td>6.9</td>\n      <td>Gore Verbinski</td>\n      <td>[ocean, drug abuse, exotic island, east india ...</td>\n      <td>[1, 1, 1, 0, 0, 0, 0, 0, 0, 0, 0, 0, 0, 0, 0, ...</td>\n      <td>[0, 0, 0, 0, 0, 0, 0, 0, 0, 0, 0, 0, 0, 0, 0, ...</td>\n      <td>[0, 1, 0, 0, 0, 0, 0, 0, 0, 0, 0, 0, 0, 0, 0, ...</td>\n    </tr>\n  </tbody>\n</table>\n</div>",
      "text/plain": "      id                            original_title  \\\n0  19995                                    Avatar   \n1    285  Pirates of the Caribbean: At World's End   \n\n                                          genres  \\\n0  [Action, Adventure, Fantasy, Science Fiction]   \n1                   [Adventure, Fantasy, Action]   \n\n                                                cast  vote_average  \\\n0  [Sam Worthington, Zoe Saldana, Sigourney Weave...           7.2   \n1  [Johnny Depp, Orlando Bloom, Keira Knightley, ...           6.9   \n\n         director                                           keywords  \\\n0   James Cameron  [culture clash, future, space war, space colon...   \n1  Gore Verbinski  [ocean, drug abuse, exotic island, east india ...   \n\n                                          genres_bin  \\\n0  [1, 1, 1, 1, 0, 0, 0, 0, 0, 0, 0, 0, 0, 0, 0, ...   \n1  [1, 1, 1, 0, 0, 0, 0, 0, 0, 0, 0, 0, 0, 0, 0, ...   \n\n                                            cast_bin  \\\n0  [1, 1, 1, 1, 1, 1, 1, 1, 1, 1, 1, 1, 1, 1, 1, ...   \n1  [0, 0, 0, 0, 0, 0, 0, 0, 0, 0, 0, 0, 0, 0, 0, ...   \n\n                                        director_bin  \n0  [1, 0, 0, 0, 0, 0, 0, 0, 0, 0, 0, 0, 0, 0, 0, ...  \n1  [0, 1, 0, 0, 0, 0, 0, 0, 0, 0, 0, 0, 0, 0, 0, ...  "
     },
     "execution_count": 41,
     "metadata": {},
     "output_type": "execute_result"
    }
   ],
   "execution_count": null
  },
  {
   "cell_type": "code",
   "metadata": {
    "id": "s9ppiejeZwow",
    "cell_id": "00041-e7c42378-dd32-4431-9462-45cbbd8fa38f",
    "deepnote_cell_type": "code"
   },
   "source": "#working with Keyword column\nwords_list = []\nfor index, row in df_movies.iterrows():\n    keyword = row[\"keywords\"]\n    \n    for k in keyword:\n        if k not in words_list:\n            words_list.append(k)",
   "outputs": [],
   "execution_count": null
  },
  {
   "cell_type": "code",
   "metadata": {
    "colab": {
     "base_uri": "https://localhost:8080/"
    },
    "id": "TqvCowVrL2Ei",
    "outputId": "bad443a5-9c38-4380-be8e-5040195a6ba9",
    "cell_id": "00042-c8351656-9533-495d-aedd-9e6fd5ece411",
    "deepnote_cell_type": "code"
   },
   "source": "words_list",
   "outputs": [
    {
     "data": {
      "text/plain": "['culture clash',\n 'future',\n 'space war',\n 'space colony',\n 'society',\n 'space travel',\n 'futuristic',\n 'romance',\n 'space',\n 'alien',\n 'tribe',\n 'alien planet',\n 'cgi',\n 'marine',\n 'soldier',\n 'battle',\n 'love affair',\n 'anti war',\n 'power relations',\n 'mind and soul',\n '3d',\n 'ocean',\n 'drug abuse',\n 'exotic island',\n 'east india trading company',\n \"love of one's life\",\n 'traitor',\n 'shipwreck',\n 'strong woman',\n 'ship',\n 'alliance',\n 'calypso',\n 'afterlife',\n 'fighter',\n 'pirate',\n 'swashbuckler',\n 'aftercreditsstinger',\n 'spy',\n 'based on novel',\n 'secret agent',\n 'sequel',\n 'mi6',\n 'british secret service',\n 'united kingdom',\n 'dc comics',\n 'crime fighter',\n 'terrorist',\n 'secret identity',\n 'burglar',\n 'hostage drama',\n 'time bomb',\n 'gotham city',\n 'vigilante',\n 'cover-up',\n 'superhero',\n 'villainess',\n 'tragic hero',\n 'terrorism',\n 'destruction',\n 'catwoman',\n 'cat burglar',\n 'imax',\n 'flood',\n 'criminal underworld',\n 'batman',\n 'mars',\n 'medallion',\n 'princess',\n 'steampunk',\n 'martian',\n 'escape',\n 'edgar rice burroughs',\n 'alien race',\n 'superhuman strength',\n 'mars civilization',\n 'sword and planet',\n '19th century',\n 'dual identity',\n 'amnesia',\n 'sandstorm',\n 'forgiveness',\n 'spider',\n 'wretch',\n 'death of a friend',\n 'egomania',\n 'sand',\n 'narcism',\n 'hostility',\n 'marvel comic',\n 'revenge',\n 'hostage',\n 'magic',\n 'horse',\n 'fairy tale',\n 'musical',\n 'animation',\n 'tower',\n 'blonde woman',\n 'selfishness',\n 'healing power',\n 'based on fairy tale',\n 'duringcreditsstinger',\n 'healing gift',\n 'animal sidekick',\n 'based on comic book',\n 'vision',\n 'superhero team',\n 'marvel cinematic universe',\n 'witch',\n 'broom',\n 'school of witchcraft',\n 'wizardry',\n 'apparition',\n 'teenage crush',\n 'werewolf',\n 'super powers',\n 'clark kent',\n 'bruce wayne',\n 'dc extended universe',\n 'saving the world',\n 'invulnerability',\n 'kryptonite',\n 'lex luthor',\n 'killing',\n 'undercover',\n 'fortune teller',\n 'bondage',\n 'monster',\n 'captain',\n 'card game',\n 'compass',\n 'daughter',\n 'texas',\n 'survivor',\n 'texas ranger',\n 'partner',\n 'outlaw',\n 'lawyer',\n 'train',\n 'lone ranger',\n 'comanche',\n 'the lone ranger',\n 'tonto',\n 'superhuman',\n 'alien invasion',\n 'reboot',\n 'fictional place',\n 'brother sister relationship',\n 'lion',\n 'human being',\n 'leap in time',\n 'matter of life and death',\n 'faith',\n 'uncle',\n 'narnia',\n 'fantasy world',\n 'new york',\n 'shield',\n 'sea',\n 'mutiny',\n 'sword',\n 'prime minister',\n 'sailing',\n 'silver',\n 'duke',\n 'mermaid',\n 'time travel',\n 'time machine',\n 'fictional government agency',\n 'seeing the future',\n 'changing history',\n 'corruption',\n 'elves',\n 'dwarves',\n 'orcs',\n 'middle-earth (tolkien)',\n 'hobbit',\n 'dragon',\n 'unlikely friendship',\n 'epic battle',\n 'sword and sorcery',\n 'loss of father',\n 'serum',\n 'scientific experiment',\n 'spider bite',\n 'masked vigilante',\n 'genetic engineering',\n 'social outcast',\n 'robin hood',\n 'archer',\n 'knight',\n 'sherwood forest',\n 'bow and arrow',\n 'middle ages',\n 'medieval',\n 'king of england',\n 'wizard',\n 'england',\n 'experiment',\n 'lordship',\n 'polar bear',\n 'orphan',\n 'animal',\n 'based on young adult novel',\n 'film business',\n 'screenplay',\n 'show business',\n 'film making',\n 'film producer',\n 'indigenous',\n 'dinosaur',\n 'iceberg',\n 'panic',\n 'titanic',\n 'ocean liner',\n 'epic',\n 'rich woman - poor man',\n 'love',\n 'disaster',\n 'tragic love',\n 'class differences',\n 'star crossed lovers',\n 'steerage',\n 'salvage',\n 'rich snob',\n '1910s',\n 'civil war',\n 'war',\n 'fight',\n 'u.s. navy',\n 'mind reading',\n 'hong kong',\n 'soccer',\n 'scientist',\n 'fictional war',\n 'naval',\n 'armada',\n 'battleship',\n 'naval combat',\n 'jds myoko',\n 'lost communication',\n 'taser',\n 'buoy',\n 'communications expert',\n 'joint chiefs of staff',\n 'crash landing',\n 'jet fighter pilot',\n 'navy lieutenant',\n 'permission to marry',\n 'uss john paul jones',\n 'based on board game',\n 'mighty mo',\n 'uss missouri',\n 'dna',\n 'tyrannosaurus rex',\n 'velociraptor',\n 'island',\n 'suspense',\n 'amusement park',\n 'animal attack',\n 'theme park',\n 'jurassic park',\n 'animal horror',\n 'sociopath',\n 'killer',\n 'art gallery',\n 'istanbul turkey',\n 'uzi',\n 'booby trap',\n 'impersonating a police officer',\n 'macao',\n 'pizza boy',\n 'doctor',\n 'tentacle',\n 'death',\n 'super villain',\n 'war on terror',\n 'tennessee',\n 'malibu',\n 'tony stark',\n 'iron man',\n 'mandarin',\n 'war machine',\n 'iron patriot',\n 'extremis',\n 'queen',\n 'fantasy',\n 'alice in wonderland',\n 'mutant',\n 'beast',\n 'cyclops',\n 'dormitory',\n 'games',\n 'best friend',\n 'university',\n 'scary',\n 'egypt',\n 'sun',\n 'chaos',\n 'symbol',\n 'artifact',\n 'transformers',\n 'tank',\n 'robot',\n 'giant robot',\n 'transforming robot',\n 'circus',\n 'hope',\n 'illusion',\n 'lost',\n 'magic trick',\n 'obsession',\n 'electrocution',\n 'medical experiment',\n 'electricity',\n 'artificial intelligence',\n 'computer program',\n 'dystopia',\n 'computer',\n 'deception',\n 'duel',\n 'motorcycle',\n 'neon light',\n 'autocracy',\n 'car race',\n 'comedy',\n 'anthropomorphism',\n 'transformation',\n 'alien infection',\n 'magical object',\n 'protector',\n 'origin',\n 'college',\n 'toy',\n 'barbie',\n 'day care',\n 'teddy bear',\n 'toy comes to life',\n 'personification',\n 'inanimate objects coming to life',\n 'toy story',\n 'prophecy',\n 'san francisco',\n 'cyborg',\n 'killer robot',\n 'gas station',\n 'post-apocalyptic',\n 'army',\n 'firearm',\n 'wartime',\n 'los angeles',\n 'speed',\n 'car',\n 'race',\n 'muscle car',\n 'apocalypse',\n 'zombie',\n 'nuclear weapons',\n 'multiple perspectives',\n 'zombie apocalypse',\n '1970s',\n 'storm',\n 'changing the past or future',\n 'spacecraft',\n 'friendship',\n 'space opera',\n 'terrorist bombing',\n 'giant',\n 'infidelity',\n 'persia',\n 'brother against brother',\n 'armageddon',\n 'regent',\n 'based on video game',\n 'giant monster',\n 'moon',\n 'bodyguard',\n 'based on cartoon',\n 'sabotage',\n 'word domination',\n 'commando',\n 'riddle',\n 'whip',\n 'treasure',\n 'mexico city',\n 'leather jacket',\n 'machinegun',\n 'alien phenomenons',\n 'maya civilization',\n 'peru',\n 'treasure hunt',\n 'nuclear explosion',\n 'refrigerator',\n 'archaeologist',\n 'indiana jones',\n 'archeology\\xa0',\n 'friends',\n 'alternate history',\n 'fear',\n 'nature',\n 'human',\n 'journey',\n 'scotland',\n 'rebel',\n 'bravery',\n 'kingdom',\n 'wish',\n 'bear',\n 'scot',\n 'rebellious daughter',\n 'turns into animal',\n 'archery',\n 'ruins',\n 'peace offering',\n 'woman director',\n 'courage',\n 'stranded',\n 'hatred',\n 'romantic comedy',\n 'ambassador',\n 'civilization',\n 'natural disaster',\n 'end of the world',\n 'volcanic eruption',\n 'mayan',\n 'ark',\n 'solar',\n 'destruction  of mankind',\n 'holiday',\n 'victorian england',\n 'money',\n 'christmas eve',\n 'scrooge',\n 'christmas carol',\n 'ghost',\n 'lesson',\n 'charles dickens',\n 'christmas',\n 'jupiter',\n 'interspecies romance',\n 'africa',\n 'feral child',\n 'tarzan',\n 'jungle',\n 'self sacrifice',\n 'winter',\n 'cupboard',\n 'beaver',\n 'fairy-tale figure',\n 'supernatural powers',\n 'world domination',\n '1980s',\n 'scarecrow',\n 'sadism',\n 'joker',\n 'organized crime',\n 'criminal mastermind',\n 'district attorney',\n 'age difference',\n 'central and south america',\n 'balloon',\n 'floating in the air',\n 'exploring',\n 'middle east',\n 'arms dealer',\n 'counter terrorism',\n 'agent coulson',\n 'library',\n 'clock',\n 'film director',\n 'key',\n 'boy',\n 'automaton',\n 'hiding',\n 'filmmaking',\n 'leg brace',\n 'doberman',\n 'based on tv series',\n 'steam locomotive',\n 'drag',\n 'shared universe',\n 'anti hero',\n 'secret mission',\n 'villain',\n 'supervillain',\n 'father son relationship',\n 'daily life',\n 'married couple',\n 'support',\n 'father',\n 'marriage',\n 'baustelle',\n 'rescue',\n \"noah's ark\",\n 'deja vu',\n 'time warp',\n 'restart',\n 'military officer',\n 'exoskeleton',\n 'tattoo',\n 'water',\n 'doomsday',\n 'secret',\n 'technology',\n 'warhead',\n 'government',\n 'president',\n 'murder',\n 'attack',\n 'explosion',\n 'lasers',\n 'evil',\n 'cobra',\n 'dream',\n 'cartoon',\n 'imaginary friend',\n 'family',\n 'moving',\n 'kids',\n 'unicorn',\n 'emotions',\n 'snake',\n 'wolf',\n 'elephant',\n 'tiger',\n 'panther',\n 'remake',\n 'talking animal',\n 'talking to animals',\n 'immortality',\n 'forest',\n 'woman',\n 'eternal youth',\n 'snow white',\n 'evil queen',\n 'evil stepmother',\n 'imprisoned',\n 'sorceress',\n 'sleeping beauty',\n 'dark fantasy',\n 'adaptation',\n 'retelling',\n 'literary adaptation',\n 'leader',\n 'colony',\n 'woods',\n 'ape',\n 'monkey',\n 'medical research',\n 'plague',\n 'japan',\n 'suicide',\n 'samurai',\n 'based on true story',\n 'samurai sword',\n 'ronin',\n 'shogun',\n 'half breed',\n 'washington d.c.',\n 'captain america',\n 'political thriller',\n 'ogre',\n 'inventor',\n 'destiny',\n 'dreamer',\n 'futuristic car',\n 'futuristic city',\n 'brother brother relationship',\n 'hero',\n 'talent',\n 'another dimension',\n 'boy genius',\n 'hate',\n 'moral dilemma',\n 'teen superheroes',\n 'dead brother',\n 'support group',\n 'product placement',\n 'bullying',\n 'racing',\n 'arcade',\n 'medal',\n 'self esteem',\n 'curiosity',\n 'precocious child',\n 'first person shooter',\n 'glitch',\n 'carefree',\n 'video gamer',\n 'q*bert',\n 'interrupted wedding',\n 'social reject',\n 'santa claus',\n 'nerd',\n 'gift',\n 'bell',\n 'beard',\n 'north pole',\n 'chute',\n 'trestle',\n 'ticket',\n 'flying',\n 'blacksmith',\n 'arena',\n 'night',\n 'training',\n 'village',\n 'viking',\n 'ignorance',\n 'flight',\n 'nest',\n 'combat',\n 'well',\n 'warrior',\n 'man vs machine',\n 'sun glasses',\n 'nanotechnology',\n 'rocket launcher',\n 'firemen',\n 'veterinarian',\n 'fire engine',\n 'psychiatrist',\n 'spaceship',\n 'outer space',\n 'adventurer',\n 'single parent',\n 'nasa',\n 'expedition',\n 'wormhole',\n 'famine',\n 'black hole',\n 'race against time',\n 'quantum mechanics',\n 'family relationships',\n 'farmhouse',\n 'astronaut',\n 'father daughter relationship',\n 'single father',\n 'farmer',\n 'space station',\n 'astrophysics',\n 'zero gravity',\n 'time paradox',\n 'relativity',\n 'loss of lover',\n 'kidnapping',\n 'sleep',\n 'subconsciousness',\n 'heist',\n 'redemption',\n 'female hero',\n 'godzilla',\n 'kaiju',\n 'toyko',\n 'mountains',\n 'ring',\n 'goblin',\n 'tunnel',\n 'underground lake',\n 'buried treasure',\n 'climbing a tree',\n 'invisibility',\n 'ancient',\n 'gnomes',\n 'street gang',\n 'auto-tuning',\n 'automobile racing',\n 'diary',\n 'navy',\n 'funeral',\n 'tea',\n 'travel',\n 'hospital',\n 'cia',\n 'mine',\n 'historical fiction',\n 'nuclear war',\n 'cuban missile crisis',\n 'world war iii',\n '1960s',\n 'revolution',\n 'game of death',\n 'fire',\n 'fountain',\n 'book',\n 'castle',\n 'apprentice',\n 'merlin',\n 'mission',\n 'sorcerer',\n 'apprendista',\n 'morgana',\n \"new year's eve\",\n 'drowning',\n 'cataclysm',\n 'atlantic ocean',\n 'ball',\n 'self-abandonment',\n 'giant wave',\n 'blackout',\n 'single',\n 'capsized ship',\n 'mad hatter',\n 'ambush',\n 'sadness',\n 'stage',\n 'liberation of prisoners',\n 'prince',\n 'donkey',\n 'theatre play',\n 'conciliation',\n 'tricks',\n 'heir to the throne',\n 'assault',\n 'boarding school',\n \"coup d'etat\",\n 'teacher',\n 'cowardliness',\n 'pregnancy',\n 'capture',\n 'video game',\n 'chase',\n 'fictional language',\n 'muscles',\n 'orc',\n 'fiction',\n 'good vs evil',\n 'king',\n 'knife held to throat',\n 'snowing',\n 'quest',\n 'nurse',\n 'patriotism',\n 'hawaii',\n 'world war ii',\n 'pilot',\n 'pearl harbor',\n 'u.s. air force',\n 'airplane',\n 'pin-up',\n 'destroy',\n 'based on toy',\n 'teenage hero',\n 'aristotle',\n 'greece',\n 'campaign',\n 'alexander the great',\n 'homosexuality',\n 'gay relationship',\n 'ancient world',\n 'cutting the cord',\n 'child hero',\n 'dying and death',\n \"sorcerer's apprentice\",\n 'black magic',\n 'sorcery',\n 'occultism',\n 'chosen one',\n 'tournament',\n 'teenager',\n 'alcohol',\n 'forbidden love',\n 'lovers',\n 'affection',\n 'advertising expert',\n 'alcoholism',\n 'pokies',\n 'lost civilisation',\n 'alone',\n 'helplessness',\n 'virus',\n 'pandemic',\n 'london england',\n 'chocolate',\n 'factory worker',\n 'parents kids relationship',\n 'candy',\n 'overweight child',\n 'grandfather grandson relationship',\n 'paris',\n 'expensive restaurant',\n 'river',\n 'cook',\n 'mouse',\n 'confidence',\n 'roof',\n 'window',\n \"leaving one's family\",\n 'work',\n 'restaurant critic',\n 'kitchen',\n 'spice',\n 'court',\n 'cookbook',\n 'chef',\n 'rat',\n 'himalaya',\n 'martial arts',\n 'rivalry',\n 'ninja',\n 'crime',\n 'haunted by the past',\n 'evil doctor',\n 'escapade',\n 'master villain',\n 'fighting crime',\n 'unfulfillment',\n 'love and romance',\n 'unfulfilled love',\n 'jealousy',\n 'dance',\n 'hunger',\n 'zoo',\n 'hippopotamus',\n 'chimp',\n 'penguin',\n 'volcano',\n 'madagascar',\n 'zebra',\n 'shark',\n 'museum',\n 'theodore roosevelt',\n 'amelia earhart',\n 'smithsonian',\n 'boxer',\n 'philosophy',\n 'kung fu',\n 'underground world',\n 'temple',\n 'subway',\n 'sunlight',\n 'computer virus',\n 'precognition',\n 'super computer',\n 'machine town',\n 'ying yang',\n 'virtual reality',\n 'world religion',\n 'truth',\n 'cyberpunk',\n 'yin yang',\n 'gnosticism',\n 'betrayal',\n 'snowman',\n 'reindeer',\n 'curse',\n 'snow',\n 'troll',\n 'mountain climber',\n 'plato',\n 'rave',\n 'hostile takeover',\n 'norse mythology',\n 'asgard',\n 'australia',\n 'survival',\n 'on the run',\n 'convoy',\n 'peak oil',\n 'dark future',\n 'rome',\n 'vatican',\n 'symbolism',\n 'christian',\n 'illuminati',\n 'prequel',\n 'anti matter',\n 'conspiracy',\n 'investigator',\n 'catholicism',\n 'cern',\n 'new mexico',\n 'banishment',\n 'hammer',\n 'odin',\n 'heimdall',\n 'hamster',\n 'kids and family',\n 'cat vs dog',\n 'dog cat friendship',\n 'animal lead',\n 'girl dog relationship',\n 'dyr',\n 'underworld',\n 'hades',\n 'mythology',\n 'greek mythology',\n 'zeus',\n 'perseus',\n 'gods',\n 'ancient greece',\n 'based on greek myth',\n 'ares',\n 'imprisonment',\n 'vampire',\n 'fish out of water',\n 'chains',\n 'gothic',\n 'madness',\n 'old house',\n 'lost love',\n 'angry mob',\n '18th century',\n 'hidden room',\n 'old mansion',\n 'austria',\n 'vienna opera',\n 'vienna',\n 'rural setting',\n 'tennis',\n 'flower',\n 'florist',\n 'flower shop',\n 'beehive',\n 'fleet',\n 'panda',\n 'ice',\n 'war ship',\n 'arrest',\n 'avatar',\n 'air',\n 'spirit',\n 'world',\n 'domination',\n 'cheering',\n 'berlin',\n 'white house',\n 'explosive',\n 'mobile phone',\n 'map',\n 'mask',\n 'honeymoon',\n 'shanghai',\n 'pretended murder',\n 'letter',\n 'covered investigation',\n 'to shoot dead',\n 'video',\n 'stamp',\n 'hard drive',\n 'e-mail',\n 'decipherment',\n 'suitcase',\n 'disguise',\n 'celebration',\n 'good and bad',\n 'research laboratory',\n 'blast',\n 'usa president',\n 'secret service',\n 'the white house',\n 'alien abduction',\n \"based on children's book\",\n 'return',\n 'frog',\n 'girlfriend',\n 'rubin',\n 'peter pan',\n 'intelligence',\n 'adoption',\n 'child prodigy',\n 'growing up',\n 'children',\n 'talking dog',\n 'dog',\n 'first love',\n 'ancient egypt',\n 'time traveler',\n 'new school',\n 'george washington',\n 'gags',\n 'trouble',\n 'prodigy',\n 'adultery',\n 'beauty',\n 'trojan war',\n 'wall',\n 'fraud',\n 'sword fight',\n 'battlefield',\n 'pyre',\n 'trojan horse',\n 'trojan',\n 'bronze age',\n 'sparta greece',\n 'helen of troy',\n \"homer's iliad\",\n 'laser',\n 'secret service agent',\n 'space based weapon',\n 'female friendship',\n 'ghost hunting',\n 'asteroid',\n 'space marine',\n 'wedding',\n 'eiffel tower paris',\n 'disaster movie',\n 'space centre',\n 'illegal immigration',\n 'deportation',\n ...]"
     },
     "execution_count": 43,
     "metadata": {},
     "output_type": "execute_result"
    }
   ],
   "execution_count": null
  },
  {
   "cell_type": "code",
   "metadata": {
    "id": "x23a1dagaZde",
    "cell_id": "00043-e290d914-5964-427e-b89a-69a8751acfaa",
    "deepnote_cell_type": "code"
   },
   "source": "def binary(words):\n    binaryList = []\n    for genre in words_list:\n        if genre in words:\n            binaryList.append(1)\n        else:\n            binaryList.append(0)\n    return binaryList",
   "outputs": [],
   "execution_count": null
  },
  {
   "cell_type": "code",
   "metadata": {
    "id": "q14iii8Haeqh",
    "cell_id": "00044-f4197607-dd09-4e64-91b6-fbf509daf52d",
    "deepnote_cell_type": "code"
   },
   "source": "df_movies['words_bin'] = df_movies['keywords'].apply(lambda x: binary(x))\n\n#removing the movies with 0 score and without drector names\ndf_movies = df_movies[(df_movies['vote_average']!=0)]  \ndf_movies = df_movies[df_movies['director']!='']",
   "outputs": [],
   "execution_count": null
  },
  {
   "cell_type": "code",
   "metadata": {
    "colab": {
     "base_uri": "https://localhost:8080/",
     "height": 464
    },
    "id": "-Ur5JTaoeCb4",
    "outputId": "5403b0e2-4ed2-4816-d1de-ed9b45b01e1c",
    "cell_id": "00045-d406dcd1-fa77-44bd-be45-96e31cb13a07",
    "deepnote_cell_type": "code"
   },
   "source": "df_movies.head(3)",
   "outputs": [
    {
     "data": {
      "text/html": "<div>\n<style scoped>\n    .dataframe tbody tr th:only-of-type {\n        vertical-align: middle;\n    }\n\n    .dataframe tbody tr th {\n        vertical-align: top;\n    }\n\n    .dataframe thead th {\n        text-align: right;\n    }\n</style>\n<table border=\"1\" class=\"dataframe\">\n  <thead>\n    <tr style=\"text-align: right;\">\n      <th></th>\n      <th>id</th>\n      <th>original_title</th>\n      <th>genres</th>\n      <th>cast</th>\n      <th>vote_average</th>\n      <th>director</th>\n      <th>keywords</th>\n      <th>genres_bin</th>\n      <th>cast_bin</th>\n      <th>director_bin</th>\n      <th>words_bin</th>\n    </tr>\n  </thead>\n  <tbody>\n    <tr>\n      <th>0</th>\n      <td>19995</td>\n      <td>Avatar</td>\n      <td>[Action, Adventure, Fantasy, Science Fiction]</td>\n      <td>[Sam Worthington, Zoe Saldana, Sigourney Weave...</td>\n      <td>7.2</td>\n      <td>James Cameron</td>\n      <td>[culture clash, future, space war, space colon...</td>\n      <td>[1, 1, 1, 1, 0, 0, 0, 0, 0, 0, 0, 0, 0, 0, 0, ...</td>\n      <td>[1, 1, 1, 1, 1, 1, 1, 1, 1, 1, 1, 1, 1, 1, 1, ...</td>\n      <td>[1, 0, 0, 0, 0, 0, 0, 0, 0, 0, 0, 0, 0, 0, 0, ...</td>\n      <td>[1, 1, 1, 1, 1, 1, 1, 1, 1, 1, 1, 1, 1, 1, 1, ...</td>\n    </tr>\n    <tr>\n      <th>1</th>\n      <td>285</td>\n      <td>Pirates of the Caribbean: At World's End</td>\n      <td>[Adventure, Fantasy, Action]</td>\n      <td>[Johnny Depp, Orlando Bloom, Keira Knightley, ...</td>\n      <td>6.9</td>\n      <td>Gore Verbinski</td>\n      <td>[ocean, drug abuse, exotic island, east india ...</td>\n      <td>[1, 1, 1, 0, 0, 0, 0, 0, 0, 0, 0, 0, 0, 0, 0, ...</td>\n      <td>[0, 0, 0, 0, 0, 0, 0, 0, 0, 0, 0, 0, 0, 0, 0, ...</td>\n      <td>[0, 1, 0, 0, 0, 0, 0, 0, 0, 0, 0, 0, 0, 0, 0, ...</td>\n      <td>[0, 0, 0, 0, 0, 0, 0, 0, 0, 0, 0, 0, 0, 0, 0, ...</td>\n    </tr>\n    <tr>\n      <th>2</th>\n      <td>206647</td>\n      <td>Spectre</td>\n      <td>[Action, Adventure, Crime]</td>\n      <td>[Daniel Craig, Christoph Waltz, Léa Seydoux, R...</td>\n      <td>6.3</td>\n      <td>Sam Mendes</td>\n      <td>[spy, based on novel, secret agent, sequel, mi...</td>\n      <td>[1, 1, 0, 0, 1, 0, 0, 0, 0, 0, 0, 0, 0, 0, 0, ...</td>\n      <td>[0, 0, 0, 0, 0, 0, 0, 0, 0, 0, 0, 0, 0, 0, 0, ...</td>\n      <td>[0, 0, 1, 0, 0, 0, 0, 0, 0, 0, 0, 0, 0, 0, 0, ...</td>\n      <td>[0, 0, 0, 0, 0, 0, 0, 0, 0, 0, 0, 0, 0, 0, 0, ...</td>\n    </tr>\n  </tbody>\n</table>\n</div>",
      "text/plain": "       id                            original_title  \\\n0   19995                                    Avatar   \n1     285  Pirates of the Caribbean: At World's End   \n2  206647                                   Spectre   \n\n                                          genres  \\\n0  [Action, Adventure, Fantasy, Science Fiction]   \n1                   [Adventure, Fantasy, Action]   \n2                     [Action, Adventure, Crime]   \n\n                                                cast  vote_average  \\\n0  [Sam Worthington, Zoe Saldana, Sigourney Weave...           7.2   \n1  [Johnny Depp, Orlando Bloom, Keira Knightley, ...           6.9   \n2  [Daniel Craig, Christoph Waltz, Léa Seydoux, R...           6.3   \n\n         director                                           keywords  \\\n0   James Cameron  [culture clash, future, space war, space colon...   \n1  Gore Verbinski  [ocean, drug abuse, exotic island, east india ...   \n2      Sam Mendes  [spy, based on novel, secret agent, sequel, mi...   \n\n                                          genres_bin  \\\n0  [1, 1, 1, 1, 0, 0, 0, 0, 0, 0, 0, 0, 0, 0, 0, ...   \n1  [1, 1, 1, 0, 0, 0, 0, 0, 0, 0, 0, 0, 0, 0, 0, ...   \n2  [1, 1, 0, 0, 1, 0, 0, 0, 0, 0, 0, 0, 0, 0, 0, ...   \n\n                                            cast_bin  \\\n0  [1, 1, 1, 1, 1, 1, 1, 1, 1, 1, 1, 1, 1, 1, 1, ...   \n1  [0, 0, 0, 0, 0, 0, 0, 0, 0, 0, 0, 0, 0, 0, 0, ...   \n2  [0, 0, 0, 0, 0, 0, 0, 0, 0, 0, 0, 0, 0, 0, 0, ...   \n\n                                        director_bin  \\\n0  [1, 0, 0, 0, 0, 0, 0, 0, 0, 0, 0, 0, 0, 0, 0, ...   \n1  [0, 1, 0, 0, 0, 0, 0, 0, 0, 0, 0, 0, 0, 0, 0, ...   \n2  [0, 0, 1, 0, 0, 0, 0, 0, 0, 0, 0, 0, 0, 0, 0, ...   \n\n                                           words_bin  \n0  [1, 1, 1, 1, 1, 1, 1, 1, 1, 1, 1, 1, 1, 1, 1, ...  \n1  [0, 0, 0, 0, 0, 0, 0, 0, 0, 0, 0, 0, 0, 0, 0, ...  \n2  [0, 0, 0, 0, 0, 0, 0, 0, 0, 0, 0, 0, 0, 0, 0, ...  "
     },
     "execution_count": 46,
     "metadata": {},
     "output_type": "execute_result"
    }
   ],
   "execution_count": null
  },
  {
   "cell_type": "markdown",
   "source": "We will we using Cosine Similarity for finding the similarity between 2 movies.",
   "metadata": {
    "id": "v9jQyCZeatCw",
    "cell_id": "00046-8c7fad78-3d60-4107-8229-222253cf31f3",
    "deepnote_cell_type": "markdown"
   }
  },
  {
   "cell_type": "code",
   "metadata": {
    "id": "dJ5ZPjoZaso4",
    "cell_id": "00047-a1fc8bb4-33c5-480c-924c-4abbc0440efb",
    "deepnote_cell_type": "code"
   },
   "source": "from scipy import spatial\n\ndef Similarity(movieId1, movieId2):\n    a = df_movies.iloc[movieId1]\n    b = df_movies.iloc[movieId2]\n    \n    genresA = a['genres_bin']\n    genresB = b['genres_bin']\n    #print(genresB)\n    genreDistance = spatial.distance.cosine(genresA, genresB)\n    #print(genreDistance)\n    scoreA = a['cast_bin']\n    scoreB = b['cast_bin']\n    scoreDistance = spatial.distance.cosine(scoreA, scoreB)\n    #print(scoreDistance)\n    directA = a['director_bin']\n    directB = b['director_bin']\n    directDistance = spatial.distance.cosine(directA, directB)\n    #print(directDistance)\n    wordsA = a['words_bin']\n    wordsB = b['words_bin']\n    wordsDistance = spatial.distance.cosine(directA, directB)\n    return genreDistance + directDistance + scoreDistance + wordsDistance",
   "outputs": [],
   "execution_count": null
  },
  {
   "cell_type": "code",
   "metadata": {
    "colab": {
     "base_uri": "https://localhost:8080/"
    },
    "id": "en1PKOkoaoZ7",
    "outputId": "86b631bc-bb8c-42f9-c93e-e6c04844ac33",
    "cell_id": "00048-70a8bbdd-c85a-4519-af3f-24d7b5f896f9",
    "deepnote_cell_type": "code"
   },
   "source": "Similarity(3,110) #checking distance between any 2 random movies",
   "outputs": [
    {
     "data": {
      "text/plain": "3.984167818306054"
     },
     "execution_count": 48,
     "metadata": {},
     "output_type": "execute_result"
    }
   ],
   "execution_count": null
  },
  {
   "cell_type": "markdown",
   "source": "We see that the distance is about 3.984, which is high. The more the distance, the less similar the movies are. Let's see what these random movies actually were.",
   "metadata": {
    "id": "bQl4kgFfbDtt",
    "cell_id": "00049-95e0254c-c2d0-4101-8a71-cbee774ad17e",
    "deepnote_cell_type": "markdown"
   }
  },
  {
   "cell_type": "code",
   "metadata": {
    "colab": {
     "base_uri": "https://localhost:8080/"
    },
    "id": "GljAJiFGa-km",
    "outputId": "72d46f83-a374-43a2-f7e1-4c6240bf332b",
    "cell_id": "00050-d7ab3cef-5d49-4895-92e5-1a392024cfbf",
    "deepnote_cell_type": "code"
   },
   "source": "print(df_movies.iloc[3])\nprint(df_movies.iloc[110])",
   "outputs": [
    {
     "name": "stdout",
     "output_type": "stream",
     "text": "id                                                            49026\noriginal_title                                The Dark Knight Rises\ngenres                             [Action, Crime, Drama, Thriller]\ncast              [Christian Bale, Michael Caine, Gary Oldman, A...\nvote_average                                                    7.6\ndirector                                          Christopher Nolan\nkeywords          [dc comics, crime fighter, terrorist, secret i...\ngenres_bin        [1, 0, 0, 0, 1, 1, 1, 0, 0, 0, 0, 0, 0, 0, 0, ...\ncast_bin          [0, 0, 0, 0, 0, 0, 0, 0, 0, 0, 0, 0, 0, 0, 0, ...\ndirector_bin      [0, 0, 0, 1, 0, 0, 0, 0, 0, 0, 0, 0, 0, 0, 0, ...\nwords_bin         [0, 0, 0, 0, 0, 0, 0, 0, 0, 0, 0, 0, 0, 0, 0, ...\nName: 3, dtype: object\nid                                                              676\noriginal_title                                         Pearl Harbor\ngenres                                      [History, Romance, War]\ncast              [Ben Affleck, Josh Hartnett, Kate Beckinsale, ...\nvote_average                                                    6.6\ndirector                                                Michael Bay\nkeywords          [nurse, patriotism, hawaii, world war ii, pilo...\ngenres_bin        [0, 0, 0, 0, 0, 0, 0, 0, 0, 0, 0, 1, 0, 0, 1, ...\ncast_bin          [0, 0, 0, 0, 0, 0, 0, 0, 0, 0, 0, 0, 0, 0, 0, ...\ndirector_bin      [0, 0, 0, 0, 0, 0, 0, 0, 0, 0, 0, 0, 0, 0, 0, ...\nwords_bin         [0, 0, 0, 0, 0, 0, 0, 0, 0, 0, 0, 0, 0, 0, 0, ...\nName: 110, dtype: object\n"
    }
   ],
   "execution_count": null
  },
  {
   "cell_type": "code",
   "metadata": {
    "colab": {
     "base_uri": "https://localhost:8080/",
     "height": 472
    },
    "id": "Bchbb3ofbIVT",
    "outputId": "1ecf4cba-4693-4ea0-de5f-507647958287",
    "cell_id": "00051-14f26661-041f-4ed0-8b35-3cd24f29d45a",
    "deepnote_cell_type": "code"
   },
   "source": "new_id = list(range(0,df_movies.shape[0]))\ndf_movies['new_id']=new_id\ndf_movies=df_movies[['original_title','genres','vote_average','genres_bin','cast_bin','new_id','director','director_bin','words_bin']]\ndf_movies.head()",
   "outputs": [
    {
     "data": {
      "text/html": "<div>\n<style scoped>\n    .dataframe tbody tr th:only-of-type {\n        vertical-align: middle;\n    }\n\n    .dataframe tbody tr th {\n        vertical-align: top;\n    }\n\n    .dataframe thead th {\n        text-align: right;\n    }\n</style>\n<table border=\"1\" class=\"dataframe\">\n  <thead>\n    <tr style=\"text-align: right;\">\n      <th></th>\n      <th>original_title</th>\n      <th>genres</th>\n      <th>vote_average</th>\n      <th>genres_bin</th>\n      <th>cast_bin</th>\n      <th>new_id</th>\n      <th>director</th>\n      <th>director_bin</th>\n      <th>words_bin</th>\n    </tr>\n  </thead>\n  <tbody>\n    <tr>\n      <th>0</th>\n      <td>Avatar</td>\n      <td>[Action, Adventure, Fantasy, Science Fiction]</td>\n      <td>7.2</td>\n      <td>[1, 1, 1, 1, 0, 0, 0, 0, 0, 0, 0, 0, 0, 0, 0, ...</td>\n      <td>[1, 1, 1, 1, 1, 1, 1, 1, 1, 1, 1, 1, 1, 1, 1, ...</td>\n      <td>0</td>\n      <td>James Cameron</td>\n      <td>[1, 0, 0, 0, 0, 0, 0, 0, 0, 0, 0, 0, 0, 0, 0, ...</td>\n      <td>[1, 1, 1, 1, 1, 1, 1, 1, 1, 1, 1, 1, 1, 1, 1, ...</td>\n    </tr>\n    <tr>\n      <th>1</th>\n      <td>Pirates of the Caribbean: At World's End</td>\n      <td>[Adventure, Fantasy, Action]</td>\n      <td>6.9</td>\n      <td>[1, 1, 1, 0, 0, 0, 0, 0, 0, 0, 0, 0, 0, 0, 0, ...</td>\n      <td>[0, 0, 0, 0, 0, 0, 0, 0, 0, 0, 0, 0, 0, 0, 0, ...</td>\n      <td>1</td>\n      <td>Gore Verbinski</td>\n      <td>[0, 1, 0, 0, 0, 0, 0, 0, 0, 0, 0, 0, 0, 0, 0, ...</td>\n      <td>[0, 0, 0, 0, 0, 0, 0, 0, 0, 0, 0, 0, 0, 0, 0, ...</td>\n    </tr>\n    <tr>\n      <th>2</th>\n      <td>Spectre</td>\n      <td>[Action, Adventure, Crime]</td>\n      <td>6.3</td>\n      <td>[1, 1, 0, 0, 1, 0, 0, 0, 0, 0, 0, 0, 0, 0, 0, ...</td>\n      <td>[0, 0, 0, 0, 0, 0, 0, 0, 0, 0, 0, 0, 0, 0, 0, ...</td>\n      <td>2</td>\n      <td>Sam Mendes</td>\n      <td>[0, 0, 1, 0, 0, 0, 0, 0, 0, 0, 0, 0, 0, 0, 0, ...</td>\n      <td>[0, 0, 0, 0, 0, 0, 0, 0, 0, 0, 0, 0, 0, 0, 0, ...</td>\n    </tr>\n    <tr>\n      <th>3</th>\n      <td>The Dark Knight Rises</td>\n      <td>[Action, Crime, Drama, Thriller]</td>\n      <td>7.6</td>\n      <td>[1, 0, 0, 0, 1, 1, 1, 0, 0, 0, 0, 0, 0, 0, 0, ...</td>\n      <td>[0, 0, 0, 0, 0, 0, 0, 0, 0, 0, 0, 0, 0, 0, 0, ...</td>\n      <td>3</td>\n      <td>Christopher Nolan</td>\n      <td>[0, 0, 0, 1, 0, 0, 0, 0, 0, 0, 0, 0, 0, 0, 0, ...</td>\n      <td>[0, 0, 0, 0, 0, 0, 0, 0, 0, 0, 0, 0, 0, 0, 0, ...</td>\n    </tr>\n    <tr>\n      <th>4</th>\n      <td>John Carter</td>\n      <td>[Action, Adventure, Science Fiction]</td>\n      <td>6.1</td>\n      <td>[1, 1, 0, 1, 0, 0, 0, 0, 0, 0, 0, 0, 0, 0, 0, ...</td>\n      <td>[0, 0, 0, 0, 0, 0, 0, 0, 0, 0, 0, 0, 0, 0, 0, ...</td>\n      <td>4</td>\n      <td>Andrew Stanton</td>\n      <td>[0, 0, 0, 0, 1, 0, 0, 0, 0, 0, 0, 0, 0, 0, 0, ...</td>\n      <td>[0, 0, 0, 0, 0, 1, 0, 0, 0, 1, 0, 0, 0, 0, 0, ...</td>\n    </tr>\n  </tbody>\n</table>\n</div>",
      "text/plain": "                             original_title  \\\n0                                    Avatar   \n1  Pirates of the Caribbean: At World's End   \n2                                   Spectre   \n3                     The Dark Knight Rises   \n4                               John Carter   \n\n                                          genres  vote_average  \\\n0  [Action, Adventure, Fantasy, Science Fiction]           7.2   \n1                   [Adventure, Fantasy, Action]           6.9   \n2                     [Action, Adventure, Crime]           6.3   \n3               [Action, Crime, Drama, Thriller]           7.6   \n4           [Action, Adventure, Science Fiction]           6.1   \n\n                                          genres_bin  \\\n0  [1, 1, 1, 1, 0, 0, 0, 0, 0, 0, 0, 0, 0, 0, 0, ...   \n1  [1, 1, 1, 0, 0, 0, 0, 0, 0, 0, 0, 0, 0, 0, 0, ...   \n2  [1, 1, 0, 0, 1, 0, 0, 0, 0, 0, 0, 0, 0, 0, 0, ...   \n3  [1, 0, 0, 0, 1, 1, 1, 0, 0, 0, 0, 0, 0, 0, 0, ...   \n4  [1, 1, 0, 1, 0, 0, 0, 0, 0, 0, 0, 0, 0, 0, 0, ...   \n\n                                            cast_bin  new_id  \\\n0  [1, 1, 1, 1, 1, 1, 1, 1, 1, 1, 1, 1, 1, 1, 1, ...       0   \n1  [0, 0, 0, 0, 0, 0, 0, 0, 0, 0, 0, 0, 0, 0, 0, ...       1   \n2  [0, 0, 0, 0, 0, 0, 0, 0, 0, 0, 0, 0, 0, 0, 0, ...       2   \n3  [0, 0, 0, 0, 0, 0, 0, 0, 0, 0, 0, 0, 0, 0, 0, ...       3   \n4  [0, 0, 0, 0, 0, 0, 0, 0, 0, 0, 0, 0, 0, 0, 0, ...       4   \n\n            director                                       director_bin  \\\n0      James Cameron  [1, 0, 0, 0, 0, 0, 0, 0, 0, 0, 0, 0, 0, 0, 0, ...   \n1     Gore Verbinski  [0, 1, 0, 0, 0, 0, 0, 0, 0, 0, 0, 0, 0, 0, 0, ...   \n2         Sam Mendes  [0, 0, 1, 0, 0, 0, 0, 0, 0, 0, 0, 0, 0, 0, 0, ...   \n3  Christopher Nolan  [0, 0, 0, 1, 0, 0, 0, 0, 0, 0, 0, 0, 0, 0, 0, ...   \n4     Andrew Stanton  [0, 0, 0, 0, 1, 0, 0, 0, 0, 0, 0, 0, 0, 0, 0, ...   \n\n                                           words_bin  \n0  [1, 1, 1, 1, 1, 1, 1, 1, 1, 1, 1, 1, 1, 1, 1, ...  \n1  [0, 0, 0, 0, 0, 0, 0, 0, 0, 0, 0, 0, 0, 0, 0, ...  \n2  [0, 0, 0, 0, 0, 0, 0, 0, 0, 0, 0, 0, 0, 0, 0, ...  \n3  [0, 0, 0, 0, 0, 0, 0, 0, 0, 0, 0, 0, 0, 0, 0, ...  \n4  [0, 0, 0, 0, 0, 1, 0, 0, 0, 1, 0, 0, 0, 0, 0, ...  "
     },
     "execution_count": 50,
     "metadata": {},
     "output_type": "execute_result"
    }
   ],
   "execution_count": null
  },
  {
   "cell_type": "code",
   "metadata": {
    "colab": {
     "base_uri": "https://localhost:8080/"
    },
    "id": "1TNVuJeQY_bU",
    "outputId": "d197d910-5e5d-43f9-a51e-8a7c6b6a9b61",
    "cell_id": "00052-f521aba6-90bb-42ed-9564-d0d8c47d2fac",
    "deepnote_cell_type": "code"
   },
   "source": "new_movie = df_movies[df_movies['original_title'].str.contains('Avatar')].iloc[0].to_frame().T\nnew_movie['new_id'].values[0]",
   "outputs": [
    {
     "data": {
      "text/plain": "0"
     },
     "execution_count": 51,
     "metadata": {},
     "output_type": "execute_result"
    }
   ],
   "execution_count": null
  },
  {
   "cell_type": "code",
   "metadata": {
    "id": "lLDYWrDybn7F",
    "cell_id": "00053-1503d3b9-fe24-449d-b444-c5c0874a12e7",
    "deepnote_cell_type": "code"
   },
   "source": "import operator\n\ndef predict_score(name):\n    new_movie = df_movies[df_movies['original_title'].str.contains(name)].iloc[0].to_frame().T\n    print('Selected Movie: ',new_movie.original_title.values[0])\n    def getNeighbors(baseMovie, K):\n        distances = []\n    \n        for index, movie in df_movies.iterrows():\n            if movie['new_id'] != baseMovie['new_id'].values[0]:\n                dist = Similarity(baseMovie['new_id'].values[0], movie['new_id'])\n                distances.append((movie['new_id'], dist))\n    \n        distances.sort(key=operator.itemgetter(1))\n        neighbors = []\n        \n        for x in range(K):\n            neighbors.append(distances[x])\n        return neighbors\n\n    K = 5\n    avgRating = 0\n    neighbors = getNeighbors(new_movie, K)\n    \n    print('\\nRecommended Movies: \\n')\n    for neighbor in neighbors:\n        avgRating = avgRating+df_movies.iloc[neighbor[0]][2]  #avgRating+VoteAverage\n        print( df_movies.iloc[neighbor[0]][0]+\" | Genres: \"+str(df_movies.iloc[neighbor[0]][1]).strip('[]').replace(' ','')+\" | Rating: \"+str(df_movies.iloc[neighbor[0]][2]))\n    \n    print('\\n')\n    avgRating = avgRating/K\n    print('The predicted rating for %s is: %f' %(new_movie['original_title'].values[0],avgRating))\n    print('The actual rating for %s is %f' %(new_movie['original_title'].values[0],new_movie['vote_average']))\n",
   "outputs": [],
   "execution_count": null
  },
  {
   "cell_type": "code",
   "metadata": {
    "colab": {
     "base_uri": "https://localhost:8080/"
    },
    "id": "gHPbfYYTa8hS",
    "outputId": "01e1491c-71e2-4966-85ab-d69d40168e64",
    "cell_id": "00054-11290999-0904-4a24-af99-aedaa3ad0794",
    "deepnote_cell_type": "code"
   },
   "source": "df_movies.iloc[0][2]",
   "outputs": [
    {
     "data": {
      "text/plain": "7.2"
     },
     "execution_count": 53,
     "metadata": {},
     "output_type": "execute_result"
    }
   ],
   "execution_count": null
  },
  {
   "cell_type": "code",
   "metadata": {
    "colab": {
     "base_uri": "https://localhost:8080/"
    },
    "id": "9lvAxdnBcVMJ",
    "outputId": "99edad03-5851-49cf-b9ca-de9d42071b0a",
    "cell_id": "00055-61bbe35b-1cbd-42c6-9296-edce32ae86e0",
    "deepnote_cell_type": "code"
   },
   "source": "predict_score('Avatar')",
   "outputs": [
    {
     "name": "stdout",
     "output_type": "stream",
     "text": "Selected Movie:  Avatar\n"
    },
    {
     "name": "stderr",
     "output_type": "stream",
     "text": "E:\\pro\\anaconda3\\envs\\main\\lib\\site-packages\\scipy\\spatial\\distance.py:699: RuntimeWarning: invalid value encountered in double_scalars\n  dist = 1.0 - uv / np.sqrt(uu * vv)\n"
    },
    {
     "name": "stdout",
     "output_type": "stream",
     "text": "\nRecommended Movies: \n\nThe Abyss | Genres: 'Adventure','Action','Thriller','ScienceFiction' | Rating: 7.1\nTerminator 2: Judgment Day | Genres: 'Action','Thriller','ScienceFiction' | Rating: 7.7\nThe Terminator | Genres: 'Action','Thriller','ScienceFiction' | Rating: 7.3\nAliens | Genres: 'Horror','Action','Thriller','ScienceFiction' | Rating: 7.7\nTrue Lies | Genres: 'Action','Thriller' | Rating: 6.8\n\n\nThe predicted rating for Avatar is: 7.320000\nThe actual rating for Avatar is 7.200000\n"
    }
   ],
   "execution_count": null
  },
  {
   "cell_type": "code",
   "metadata": {
    "id": "i21FD-3EcYrB",
    "cell_id": "00056-137ce45d-ba1f-439e-8889-39c3f0c557ed",
    "deepnote_cell_type": "code"
   },
   "source": "predict_score('The Dark Knight Rises')",
   "outputs": [
    {
     "name": "stdout",
     "output_type": "stream",
     "text": "Selected Movie:  The Dark Knight Rises\n"
    },
    {
     "name": "stderr",
     "output_type": "stream",
     "text": "E:\\pro\\anaconda3\\envs\\main\\lib\\site-packages\\scipy\\spatial\\distance.py:699: RuntimeWarning: invalid value encountered in double_scalars\n  dist = 1.0 - uv / np.sqrt(uu * vv)\n"
    },
    {
     "name": "stdout",
     "output_type": "stream",
     "text": "\nRecommended Movies: \n\nThe Dark Knight | Genres: 'Drama','Action','Crime','Thriller' | Rating: 8.2\nBatman Begins | Genres: 'Action','Crime','Drama' | Rating: 7.5\nThe Prestige | Genres: 'Drama','Mystery','Thriller' | Rating: 8.0\nInsomnia | Genres: 'Crime','Mystery','Thriller' | Rating: 6.8\nInception | Genres: 'Action','Thriller','ScienceFiction','Mystery','Adventure' | Rating: 8.1\n\n\nThe predicted rating for The Dark Knight Rises is: 7.720000\nThe actual rating for The Dark Knight Rises is 7.600000\n"
    }
   ],
   "execution_count": null
  },
  {
   "cell_type": "code",
   "metadata": {
    "cell_id": "00057-be78b6fc-a54e-46d8-b0f0-8f2a189d66c0",
    "deepnote_cell_type": "code"
   },
   "source": "",
   "execution_count": null,
   "outputs": []
  },
  {
   "cell_type": "markdown",
   "source": "<a style='text-decoration:none;line-height:16px;display:flex;color:#5B5B62;padding:10px;justify-content:end;' href='https://deepnote.com?utm_source=created-in-deepnote-cell&projectId=a5ba1956-2aa0-49ed-9952-f1c7a30328f2' target=\"_blank\">\n<img alt='Created in deepnote.com' style='display:inline;max-height:16px;margin:0px;margin-right:7.5px;' src='data:image/svg+xml;base64,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' > </img>\nCreated in <span style='font-weight:600;margin-left:4px;'>Deepnote</span></a>",
   "metadata": {
    "tags": [],
    "created_in_deepnote_cell": true,
    "deepnote_cell_type": "markdown"
   }
  }
 ],
 "nbformat": 4,
 "nbformat_minor": 1,
 "metadata": {
  "colab": {
   "name": "Recommender System.ipynb",
   "provenance": []
  },
  "kernelspec": {
   "display_name": "Python 3 (ipykernel)",
   "language": "python",
   "name": "python3"
  },
  "language_info": {
   "codemirror_mode": {
    "name": "ipython",
    "version": 3
   },
   "file_extension": ".py",
   "mimetype": "text/x-python",
   "name": "python",
   "nbconvert_exporter": "python",
   "pygments_lexer": "ipython3",
   "version": "3.8.11"
  },
  "deepnote_notebook_id": "a64a1d70-bed2-4593-9edf-741d9ee63613",
  "deepnote": {},
  "deepnote_execution_queue": []
 }
}