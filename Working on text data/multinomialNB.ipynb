{
 "cells": [
  {
   "cell_type": "code",
   "execution_count": null,
   "metadata": {
    "cell_id": "00000-80d70cca-072a-42be-948b-3c49163663b2",
    "deepnote_cell_type": "code",
    "deepnote_to_be_reexecuted": false,
    "execution_millis": 14,
    "execution_start": 1633338789149,
    "source_hash": "583b3f2e"
   },
   "outputs": [
    {
     "name": "stdout",
     "output_type": "stream",
     "text": [
      "['and', 'document', 'first', 'is', 'one', 'second', 'the', 'third', 'this']\n"
     ]
    }
   ],
   "source": [
    "from sklearn.feature_extraction.text import CountVectorizer\n",
    "corpus = [\n",
    "    'This is the first document.',\n",
    "    'This document is the second document.',\n",
    "    'And this is the third one.',\n",
    "    'Is this the first document?',\n",
    "]\n",
    "vectorizer = CountVectorizer()\n",
    "X = vectorizer.fit_transform(corpus)\n",
    "print(vectorizer.get_feature_names())"
   ]
  },
  {
   "cell_type": "code",
   "execution_count": null,
   "metadata": {
    "cell_id": "00001-a23ff713-88e0-483a-bc92-d5da538c74e3",
    "deepnote_cell_type": "code",
    "deepnote_to_be_reexecuted": false,
    "execution_millis": 3,
    "execution_start": 1633338790270,
    "source_hash": "8e7c61bb"
   },
   "outputs": [
    {
     "name": "stdout",
     "output_type": "stream",
     "text": [
      "[[0 1 1 1 0 0 1 0 1]\n",
      " [0 2 0 1 0 1 1 0 1]\n",
      " [1 0 0 1 1 0 1 1 1]\n",
      " [0 1 1 1 0 0 1 0 1]]\n"
     ]
    }
   ],
   "source": [
    "print(X.toarray())"
   ]
  },
  {
   "cell_type": "code",
   "execution_count": null,
   "metadata": {
    "cell_id": "00002-8cd5d158-ebdb-4378-9659-5e9918123942",
    "deepnote_cell_type": "code",
    "deepnote_to_be_reexecuted": false,
    "execution_millis": 318,
    "execution_start": 1633338791297,
    "source_hash": "729ccf60"
   },
   "outputs": [],
   "source": [
    "import numpy as np, pandas as pd\n",
    "\n",
    "from sklearn.datasets import fetch_20newsgroups\n",
    "from sklearn.feature_extraction.text import TfidfVectorizer\n",
    "from sklearn.naive_bayes import MultinomialNB\n",
    "from sklearn.pipeline import make_pipeline\n",
    "from sklearn.metrics import  accuracy_score\n"
   ]
  },
  {
   "cell_type": "code",
   "execution_count": null,
   "metadata": {
    "cell_id": "00003-0683fec1-78d4-4f32-884c-23ca0ebdf352",
    "deepnote_cell_type": "code",
    "deepnote_to_be_reexecuted": false,
    "execution_millis": 21229,
    "execution_start": 1633338792032,
    "source_hash": "a41d77aa"
   },
   "outputs": [
    {
     "name": "stdout",
     "output_type": "stream",
     "text": [
      "['alt.atheism', 'comp.graphics', 'comp.os.ms-windows.misc', 'comp.sys.ibm.pc.hardware', 'comp.sys.mac.hardware', 'comp.windows.x', 'misc.forsale', 'rec.autos', 'rec.motorcycles', 'rec.sport.baseball', 'rec.sport.hockey', 'sci.crypt', 'sci.electronics', 'sci.med', 'sci.space', 'soc.religion.christian', 'talk.politics.guns', 'talk.politics.mideast', 'talk.politics.misc', 'talk.religion.misc']\n"
     ]
    }
   ],
   "source": [
    "# Load the dataset\n",
    "data = fetch_20newsgroups()\n",
    "# Get the text categories\n",
    "text_categories = data.target_names\n",
    "print(text_categories)\n"
   ]
  },
  {
   "cell_type": "code",
   "execution_count": null,
   "metadata": {
    "cell_id": "00004-04d13b44-be7d-4207-bcae-03ac60640a3c",
    "deepnote_cell_type": "code",
    "deepnote_to_be_reexecuted": false,
    "execution_millis": 1153,
    "execution_start": 1633338813259,
    "source_hash": "ad0a7a08"
   },
   "outputs": [],
   "source": [
    "# define the training set\n",
    "train_data = fetch_20newsgroups(subset=\"train\", categories=text_categories)\n",
    "# define the test set\n",
    "test_data = fetch_20newsgroups(subset=\"test\", categories=text_categories)"
   ]
  },
  {
   "cell_type": "code",
   "execution_count": null,
   "metadata": {
    "cell_id": "00005-1d5d3d13-12ea-47e1-9c60-098429e7524c",
    "deepnote_cell_type": "code",
    "deepnote_to_be_reexecuted": false,
    "execution_millis": 5,
    "execution_start": 1633338814413,
    "source_hash": "5d3abc2"
   },
   "outputs": [
    {
     "name": "stdout",
     "output_type": "stream",
     "text": [
      "We have 20 unique classes\n",
      "We have 11314 training samples\n",
      "We have 7532 test samples\n"
     ]
    }
   ],
   "source": [
    "print(\"We have {} unique classes\".format(len(text_categories)))\n",
    "print(\"We have {} training samples\".format(len(train_data.data)))\n",
    "print(\"We have {} test samples\".format(len(test_data.data)))"
   ]
  },
  {
   "cell_type": "code",
   "execution_count": null,
   "metadata": {
    "cell_id": "00006-c47cb22a-0648-42e8-983f-cc4f3afabf4c",
    "deepnote_cell_type": "code",
    "deepnote_to_be_reexecuted": false,
    "execution_millis": 42,
    "execution_start": 1633338814422,
    "source_hash": "26f51a5a"
   },
   "outputs": [
    {
     "name": "stdout",
     "output_type": "stream",
     "text": [
      "From: banschbach@vms.ocom.okstate.edu\n",
      "Subject: Re: Candida(yeast) Bloom, Fact or Fiction\n",
      "Organization: OSU College of Osteopathic Medicine\n",
      "Lines: 91\n",
      "Nntp-Posting-Host: vms.ocom.okstate.edu\n",
      "\n",
      "In article <1rp8p1$2d3@usenet.INS.CWRU.Edu>, esd3@po.CWRU.Edu (Elisabeth S. Davidson) writes:\n",
      "> \n",
      "> In a previous article, banschbach@vms.ocom.okstate.edu () says:\n",
      ">>least a few \"enlightened\" physicians practicing in the U.S.  It's really \n",
      ">>too bad that most U.S. medical schools don't cover nutrition because if \n",
      ">>they did, candida would not be viewed as a non-disease by so many in the \n",
      ">>medical profession.\n",
      "> \n",
      "> Case Western Reserve Med School teaches nutrition in its own section as\n",
      "> well as covering it in other sections as they apply (i.e. B12\n",
      "> deficiency in neuro as a cause of neuropathy, B12 deficiency in\n",
      "> hematology as a cause of megaloblastic anemia), yet I sill\n",
      "> hold the viewpoint of mainstream medicine:  candida can cause\n",
      "> mucocutaneous candidiasis, and, in already very sick patients\n",
      "> with damaged immune systems like AIDS and cancer patients,\n",
      "> systemic candida infection.  I think \"The Yeast Connection\" is\n",
      "> a bunch of hooey.  What does this have to do with how well\n",
      "> nutrition is taught, anyway?\n",
      "\n",
      "Elisabeth, let's set the record straight for the nth time, I have not read \n",
      "\"The Yeast Connection\".  So anything that I say is not due to brainwashing \n",
      "by this \"hated\" book.  It's okay I guess to hate the book, by why hate me?\n",
      "Elisabeth, I'm going to quote from Zinsser's Microbiology, 20th Edition.\n",
      "A book that you should be familiar with and not \"hate\". \"Candida species \n",
      "colonize the mucosal surfaces of all humans during birth or shortly \n",
      "thereafter.  The risk of endogenous infection is clearly ever present.  \n",
      "Indeed, candidiasis occurs worldwide and is the most common systemic \n",
      "mycosis.\"  Neutrophils play the main role in preventing a systemic \n",
      "infection(candidiasis) so you would have to have a low neutrophil count or \n",
      "\"sick\" neutrophils to see a systemic infection.  Poor diet and persistent \n",
      "parasitic infestation set many third world residents up for candidiasis.\n",
      "Your assessment of candidiasis in the U.S. is correct and I do not dispute \n",
      "it.\n",
      "\n",
      "What I posted was a discussion of candida blooms, without systemic \n",
      "infection.  These blooms would be responsible for local sites of irritation\n",
      "(GI tract, mouth, vagina and sinus cavity).  Knocking down the bacterial \n",
      "competition for candida was proposed as a possible trigger for candida \n",
      "blooms.  Let me quote from Zinsser's again: \"However, some factors, such as \n",
      "the use of a broad-spectrum antibacterial antibiotic, may predispose to \n",
      "both mucosal and systemic infections\".  I was addressing mucosal infections\n",
      "(I like the term blooms better).  The nutrition course that I teach covers \n",
      "this effect of antibiotic treatment as well as the \"cure\".  I guess that \n",
      "your nutrition course does not, too bad.  \n",
      "\n",
      "\n",
      ">>Here is a brief primer on yeast.  Yeast infections, as they are commonly \n",
      ">>called, are not truely caused by yeasts.  The most common organism responsible\n",
      ">>for this type of infection is Candida albicans or Monilia which is actually a \n",
      ">>yeast-like fungus.  \n",
      "> \n",
      "> Well, maybe I'm getting picky, but I always thought that a yeast\n",
      "> was one form that a fungus could exist in, the other being the\n",
      "> mold form.  Many fungi can occur as either yeasts or molds, \n",
      "> depending on environment.  Candida exibits what is known as\n",
      "> reverse dimorphism - it exists as a mold in the tissues\n",
      "> but exists as a yeast in the environment.  Should we maybe\n",
      "> call it a mold infection?  a fungus infection?  Maybe we\n",
      "> should say it is caused by a mold-like fungus.\n",
      ">  \n",
      ">> \n",
      ">>Martin Banschbach, Ph.D.\n",
      ">>Professor of Biochemistry and Chairman\n",
      ">>Department of Biochemistry and Microbiology\n",
      ">>OSU College of Osteopathic Medicine\n",
      ">>1111 West 17th St.\n",
      ">>Tulsa, Ok. 74107\n",
      ">>\n",
      "> \n",
      "> You're the chairman of Biochem and Micro and you didn't know \n",
      "> that a yeast is a form of a fungus?  (shudder)\n",
      "> Or maybe you did know, and were oversimplifying?\n",
      "\n",
      "My, my Elisabeth, do I detect a little of Steve Dyer in you?  If you \n",
      "noticed my faculty rank, I'm a biochemist, not a microbiologist.\n",
      "Candida is classifed as a fungus(according to Zinsser's).  But, as you point \n",
      "out, it displays dimorphism.  It is capable of producing yeast cells, \n",
      "pseudohyphae and true hyphae.  Elisabeth, you are probably a microbiologist \n",
      "and that makes a lot of sense to you.  To a biochemist, it's a lot of \n",
      "Greek.  So I called it a yeast-like fungus, go ahead and crucify me.\n",
      "\n",
      "You know Elisabeth, I still haven't been able to figure out why such a small \n",
      "little organism like Candida can bring out so much hostility in people in \n",
      "Sci. Med.  And I must admitt that I got sucked into the mud slinging too.\n",
      "I keep hoping that if people will just take the time to think about what \n",
      "I've said, that it will make sense.  I'm not asking anyone here to buy into \n",
      "\"The Yeast Connection\" book because I don't know what's in that book, plain \n",
      "and simple. And to be honest with you, I'm beginning to wish that it was never \n",
      "written.\n",
      "\n",
      "Marty B.\n",
      "\n"
     ]
    }
   ],
   "source": [
    "# let’s have a look as some training data\n",
    "print(test_data.data[5])"
   ]
  },
  {
   "cell_type": "code",
   "execution_count": null,
   "metadata": {
    "cell_id": "00007-246f6a4d-efc7-4569-b6e8-425f7999b817",
    "deepnote_cell_type": "code",
    "deepnote_to_be_reexecuted": false,
    "execution_millis": 6,
    "execution_start": 1633338814462,
    "source_hash": "c70df4a6"
   },
   "outputs": [
    {
     "name": "stdout",
     "output_type": "stream",
     "text": [
      "13\n",
      "sci.med\n"
     ]
    }
   ],
   "source": [
    "print(test_data.target[5])\n",
    "print(data.target_names[test_data.target[5]])"
   ]
  },
  {
   "cell_type": "code",
   "execution_count": null,
   "metadata": {
    "cell_id": "00008-95465a05-dae4-4293-ae3b-b563ed634df7",
    "deepnote_cell_type": "code",
    "deepnote_to_be_reexecuted": false,
    "execution_millis": 11974,
    "execution_start": 1633338814493,
    "source_hash": "48889076"
   },
   "outputs": [],
   "source": [
    "# Build the model\n",
    "model = make_pipeline(TfidfVectorizer(), MultinomialNB())\n",
    "# Train the model using the training data\n",
    "model.fit(train_data.data, train_data.target)\n",
    "# Predict the categories of the test data\n",
    "predicted_categories = model.predict(test_data.data)"
   ]
  },
  {
   "cell_type": "code",
   "execution_count": null,
   "metadata": {
    "cell_id": "00009-10c3a3d3-d561-44ff-a6ac-d85126bd2943",
    "deepnote_cell_type": "code",
    "deepnote_to_be_reexecuted": false,
    "execution_millis": 134,
    "execution_start": 1633338826473,
    "source_hash": "a8f83333"
   },
   "outputs": [
    {
     "name": "stdout",
     "output_type": "stream",
     "text": [
      "The accuracy is 0.7738980350504514\n"
     ]
    }
   ],
   "source": [
    "print(\"The accuracy is {}\".format(accuracy_score(test_data.target, predicted_categories)))"
   ]
  },
  {
   "cell_type": "code",
   "execution_count": null,
   "metadata": {
    "cell_id": "00010-504b96a9-7ced-4532-9ec4-f09def829b95",
    "deepnote_cell_type": "code",
    "deepnote_to_be_reexecuted": false,
    "execution_millis": 104,
    "execution_start": 1633338826504,
    "source_hash": "ca499ef2"
   },
   "outputs": [
    {
     "name": "stdout",
     "output_type": "stream",
     "text": [
      "['alt.atheism']\n"
     ]
    }
   ],
   "source": [
    "my_sentence = \"Are you an atheist?\"\n",
    "pred=model.predict([my_sentence])\n",
    "all_categories_names = np.array(data.target_names)\n",
    "print(all_categories_names[pred])"
   ]
  },
  {
   "cell_type": "code",
   "execution_count": null,
   "metadata": {
    "cell_id": "00011-d49f2fcd-ce29-4789-85f7-d65ecea91eb9",
    "deepnote_cell_type": "code",
    "tags": []
   },
   "outputs": [],
   "source": []
  },
  {
   "cell_type": "markdown",
   "metadata": {
    "created_in_deepnote_cell": true,
    "deepnote_cell_type": "markdown",
    "tags": []
   },
   "source": [
    "<a style='text-decoration:none;line-height:16px;display:flex;color:#5B5B62;padding:10px;justify-content:end;' href='https://deepnote.com?utm_source=created-in-deepnote-cell&projectId=a5ba1956-2aa0-49ed-9952-f1c7a30328f2' target=\"_blank\">\n",
    "<img alt='Created in deepnote.com' style='display:inline;max-height:16px;margin:0px;margin-right:7.5px;' src='data:image/svg+xml;base64,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' > </img>\n",
    "Created in <span style='font-weight:600;margin-left:4px;'>Deepnote</span></a>"
   ]
  }
 ],
 "metadata": {
  "deepnote": {},
  "deepnote_execution_queue": [],
  "deepnote_notebook_id": "dbee094b-ed8d-4a76-a5ca-a50cad12e6ca",
  "kernelspec": {
   "display_name": "Python 3.9.5 ('base')",
   "language": "python",
   "name": "python3"
  },
  "language_info": {
   "codemirror_mode": {
    "name": "ipython",
    "version": 3
   },
   "file_extension": ".py",
   "mimetype": "text/x-python",
   "name": "python",
   "nbconvert_exporter": "python",
   "pygments_lexer": "ipython3",
   "version": "3.9.5"
  },
  "vscode": {
   "interpreter": {
    "hash": "9cd87bd5d8db12eeb5155f632ffa69c8689482c50dc7d42009e720cebbcd08d3"
   }
  }
 },
 "nbformat": 4,
 "nbformat_minor": 5
}
