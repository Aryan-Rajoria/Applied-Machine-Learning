{
 "cells": [
  {
   "cell_type": "code",
   "metadata": {
    "tags": [],
    "cell_id": "00000-a2470aed-bd52-4360-9ffd-3a9118889a4e",
    "deepnote_to_be_reexecuted": false,
    "source_hash": "3558916e",
    "execution_start": 1635759754099,
    "execution_millis": 10,
    "deepnote_cell_type": "code"
   },
   "source": "import matplotlib.pyplot as plt\nimport seaborn as sns\nimport numpy as np",
   "execution_count": null,
   "outputs": []
  },
  {
   "cell_type": "code",
   "metadata": {
    "tags": [],
    "cell_id": "00001-edc11805-4cb0-4bd4-93fc-9089a48e3b07",
    "deepnote_to_be_reexecuted": false,
    "source_hash": "83a0ec73",
    "execution_start": 1635758136675,
    "execution_millis": 3857,
    "deepnote_cell_type": "code"
   },
   "source": "import pandas as pd\ndf_rating = pd.read_csv('/work/Labs/lab7/BX-Book-Ratings.csv', sep=';')\ndf_books =  pd.read_csv('/work/Labs/lab7/BX-Books.csv', sep=';', error_bad_lines=False)\ndf_users =  pd.read_csv('/work/Labs/lab7/BX-Users.csv',sep=';', error_bad_lines=False)",
   "execution_count": null,
   "outputs": [
    {
     "name": "stderr",
     "text": "b'Skipping line 6452: expected 8 fields, saw 9\\nSkipping line 43667: expected 8 fields, saw 10\\nSkipping line 51751: expected 8 fields, saw 9\\n'\nb'Skipping line 92038: expected 8 fields, saw 9\\nSkipping line 104319: expected 8 fields, saw 9\\nSkipping line 121768: expected 8 fields, saw 9\\n'\nb'Skipping line 144058: expected 8 fields, saw 9\\nSkipping line 150789: expected 8 fields, saw 9\\nSkipping line 157128: expected 8 fields, saw 9\\nSkipping line 180189: expected 8 fields, saw 9\\nSkipping line 185738: expected 8 fields, saw 9\\n'\nb'Skipping line 209388: expected 8 fields, saw 9\\nSkipping line 220626: expected 8 fields, saw 9\\nSkipping line 227933: expected 8 fields, saw 11\\nSkipping line 228957: expected 8 fields, saw 10\\nSkipping line 245933: expected 8 fields, saw 9\\nSkipping line 251296: expected 8 fields, saw 9\\nSkipping line 259941: expected 8 fields, saw 9\\nSkipping line 261529: expected 8 fields, saw 9\\n'\n/shared-libs/python3.7/py-core/lib/python3.7/site-packages/IPython/core/interactiveshell.py:3173: DtypeWarning: Columns (3) have mixed types.Specify dtype option on import or set low_memory=False.\n  interactivity=interactivity, compiler=compiler, result=result)\n",
     "output_type": "stream"
    }
   ]
  },
  {
   "cell_type": "code",
   "metadata": {
    "tags": [],
    "cell_id": "00003-a9ac4bae-6de5-4858-9b0b-b25bea3b9517",
    "deepnote_to_be_reexecuted": false,
    "source_hash": "dbf365c7",
    "execution_start": 1635758781792,
    "execution_millis": 71,
    "deepnote_cell_type": "code"
   },
   "source": "df_rating.info()",
   "execution_count": null,
   "outputs": [
    {
     "name": "stdout",
     "text": "<class 'pandas.core.frame.DataFrame'>\nRangeIndex: 1149780 entries, 0 to 1149779\nData columns (total 3 columns):\n #   Column       Non-Null Count    Dtype \n---  ------       --------------    ----- \n 0   User-ID      1149780 non-null  int64 \n 1   ISBN         1149780 non-null  object\n 2   Book-Rating  1149780 non-null  int64 \ndtypes: int64(2), object(1)\nmemory usage: 26.3+ MB\n",
     "output_type": "stream"
    }
   ]
  },
  {
   "cell_type": "code",
   "metadata": {
    "tags": [],
    "cell_id": "00003-b7fe64e2-76fd-4f36-b643-47efd6da3885",
    "deepnote_to_be_reexecuted": false,
    "source_hash": "644a5e51",
    "execution_start": 1635759041025,
    "execution_millis": 17,
    "deepnote_cell_type": "code"
   },
   "source": "count = 0\nfor i in df_rating['ISBN']:\n    try:\n        k = int(i)\n    except Exception as e:\n        print(i, type(i), repr(i), e)\n        if count>5:\n            break\n        else:\n            count+=1",
   "execution_count": null,
   "outputs": [
    {
     "name": "stdout",
     "text": "034545104X <class 'str'> '034545104X' invalid literal for int() with base 10: '034545104X'\n052165615X <class 'str'> '052165615X' invalid literal for int() with base 10: '052165615X'\n038550120X <class 'str'> '038550120X' invalid literal for int() with base 10: '038550120X'\n055356451X <class 'str'> '055356451X' invalid literal for int() with base 10: '055356451X'\n033390804X <class 'str'> '033390804X' invalid literal for int() with base 10: '033390804X'\n034544003X <class 'str'> '034544003X' invalid literal for int() with base 10: '034544003X'\nB0000BLD7X <class 'str'> 'B0000BLD7X' invalid literal for int() with base 10: 'B0000BLD7X'\n",
     "output_type": "stream"
    }
   ]
  },
  {
   "cell_type": "code",
   "metadata": {
    "tags": [],
    "cell_id": "00005-e4375d45-f03a-4e38-904a-133587d1d33b",
    "deepnote_to_be_reexecuted": false,
    "source_hash": "51fa676",
    "execution_start": 1635759336231,
    "execution_millis": 444,
    "deepnote_cell_type": "code"
   },
   "source": "df_books.info()",
   "execution_count": null,
   "outputs": [
    {
     "name": "stdout",
     "text": "<class 'pandas.core.frame.DataFrame'>\nRangeIndex: 271360 entries, 0 to 271359\nData columns (total 8 columns):\n #   Column               Non-Null Count   Dtype \n---  ------               --------------   ----- \n 0   ISBN                 271360 non-null  object\n 1   Book-Title           271360 non-null  object\n 2   Book-Author          271359 non-null  object\n 3   Year-Of-Publication  271360 non-null  object\n 4   Publisher            271358 non-null  object\n 5   Image-URL-S          271360 non-null  object\n 6   Image-URL-M          271360 non-null  object\n 7   Image-URL-L          271357 non-null  object\ndtypes: object(8)\nmemory usage: 16.6+ MB\n",
     "output_type": "stream"
    }
   ]
  },
  {
   "cell_type": "code",
   "metadata": {
    "tags": [],
    "cell_id": "00005-87c91993-b45c-4a34-bc38-b342b65d7990",
    "deepnote_to_be_reexecuted": false,
    "source_hash": "9bba8223",
    "execution_start": 1635760033483,
    "execution_millis": 152,
    "deepnote_cell_type": "code"
   },
   "source": "df_books = df_books.dropna()",
   "execution_count": null,
   "outputs": []
  },
  {
   "cell_type": "code",
   "metadata": {
    "tags": [],
    "cell_id": "00006-0b2b1661-1918-4920-8456-79fede6aca5a",
    "deepnote_to_be_reexecuted": false,
    "source_hash": "ad883d0c",
    "execution_start": 1635760047996,
    "execution_millis": 99,
    "deepnote_cell_type": "code"
   },
   "source": "df_users.info()",
   "execution_count": null,
   "outputs": [
    {
     "name": "stdout",
     "text": "<class 'pandas.core.frame.DataFrame'>\nRangeIndex: 278858 entries, 0 to 278857\nData columns (total 3 columns):\n #   Column    Non-Null Count   Dtype  \n---  ------    --------------   -----  \n 0   User-ID   278858 non-null  int64  \n 1   Location  278858 non-null  object \n 2   Age       168096 non-null  float64\ndtypes: float64(1), int64(1), object(1)\nmemory usage: 6.4+ MB\n",
     "output_type": "stream"
    }
   ]
  },
  {
   "cell_type": "code",
   "metadata": {
    "tags": [],
    "cell_id": "00007-d9b675f4-6430-4918-b272-cb6beb31e846",
    "deepnote_to_be_reexecuted": false,
    "source_hash": "109370de",
    "execution_start": 1635760258983,
    "execution_millis": 111,
    "deepnote_cell_type": "code"
   },
   "source": "from sklearn.impute import SimpleImputer\n\nse = SimpleImputer(strategy='mean')\n\nk = se.fit_transform([df_users['Age']])",
   "execution_count": null,
   "outputs": [
    {
     "output_type": "execute_result",
     "execution_count": 56,
     "data": {
      "text/plain": "array([[18., 17., 61., ..., 32., 17., 50.]])"
     },
     "metadata": {}
    }
   ]
  },
  {
   "cell_type": "code",
   "metadata": {
    "tags": [],
    "cell_id": "00008-49beb949-2497-4784-a929-42fce478e0d5",
    "deepnote_to_be_reexecuted": false,
    "source_hash": "a9c9713a",
    "execution_start": 1635760248292,
    "execution_millis": 10,
    "deepnote_cell_type": "code"
   },
   "source": "df_users['Age']",
   "execution_count": null,
   "outputs": [
    {
     "output_type": "execute_result",
     "execution_count": 55,
     "data": {
      "text/plain": "0          NaN\n1         18.0\n2          NaN\n3         17.0\n4          NaN\n          ... \n278853     NaN\n278854    50.0\n278855     NaN\n278856     NaN\n278857     NaN\nName: Age, Length: 278858, dtype: float64"
     },
     "metadata": {}
    }
   ]
  },
  {
   "cell_type": "code",
   "metadata": {
    "tags": [],
    "cell_id": "00009-f71f429b-1a25-4f37-bd75-c179be7a42b8",
    "deepnote_cell_type": "code"
   },
   "source": "",
   "execution_count": null,
   "outputs": []
  },
  {
   "cell_type": "markdown",
   "source": "<a style='text-decoration:none;line-height:16px;display:flex;color:#5B5B62;padding:10px;justify-content:end;' href='https://deepnote.com?utm_source=created-in-deepnote-cell&projectId=a5ba1956-2aa0-49ed-9952-f1c7a30328f2' target=\"_blank\">\n<img alt='Created in deepnote.com' style='display:inline;max-height:16px;margin:0px;margin-right:7.5px;' src='data:image/svg+xml;base64,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' > </img>\nCreated in <span style='font-weight:600;margin-left:4px;'>Deepnote</span></a>",
   "metadata": {
    "tags": [],
    "created_in_deepnote_cell": true,
    "deepnote_cell_type": "markdown"
   }
  }
 ],
 "nbformat": 4,
 "nbformat_minor": 2,
 "metadata": {
  "orig_nbformat": 2,
  "deepnote": {
   "is_reactive": false
  },
  "deepnote_notebook_id": "fcd7fb19-bbef-49c0-a9a5-cbef49ca79c7",
  "deepnote_execution_queue": []
 }
}