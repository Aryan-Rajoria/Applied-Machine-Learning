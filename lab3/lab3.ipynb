{
 "cells": [
  {
   "cell_type": "markdown",
   "source": "# Aryan Rajoria\n### Lab 3",
   "metadata": {
    "tags": [],
    "cell_id": "00000-19342469-48b1-4da6-82a4-3b9a75d31851",
    "deepnote_cell_type": "markdown"
   }
  },
  {
   "cell_type": "code",
   "metadata": {
    "tags": [],
    "cell_id": "00000-6effa3be-06a9-4f97-b14b-c3f26dd23c7b",
    "deepnote_to_be_reexecuted": false,
    "source_hash": "1a4b2f1",
    "execution_start": 1632487503598,
    "execution_millis": 1,
    "deepnote_cell_type": "code"
   },
   "source": "DATA_URL = 'https://raw.githubusercontent.com/Ravjot03/Heart-Disease-Prediction/325bb5ec409442eb8d22b236cb3f30de4a0e9685/framingham.csv'",
   "outputs": [],
   "execution_count": null
  },
  {
   "cell_type": "code",
   "metadata": {
    "tags": [],
    "cell_id": "00001-5e63d577-7171-49bd-92ea-3fcd21012310",
    "deepnote_to_be_reexecuted": false,
    "source_hash": "cceb3d48",
    "execution_start": 1632487503865,
    "execution_millis": 5,
    "deepnote_cell_type": "code"
   },
   "source": "import numpy as np\nimport pandas as pd\nimport matplotlib.pyplot as plt\nimport seaborn as sns",
   "outputs": [],
   "execution_count": null
  },
  {
   "cell_type": "code",
   "metadata": {
    "tags": [],
    "cell_id": "00002-1494d028-9190-4ef8-b4c6-95c08fd44a13",
    "deepnote_to_be_reexecuted": false,
    "source_hash": "e7b6b8b3",
    "execution_start": 1632487504100,
    "execution_millis": 2,
    "deepnote_cell_type": "code"
   },
   "source": "import urllib\nimport os\ndata_dir = os.path.join('/', 'work', 'Labs', 'lab3', 'data.csv')\ndef download():\n    \n    urllib.request.urlretrieve(DATA_URL, data_dir)",
   "outputs": [],
   "execution_count": null
  },
  {
   "cell_type": "code",
   "metadata": {
    "tags": [],
    "cell_id": "00004-788fbbad-f417-410c-b610-df527df364b6",
    "deepnote_to_be_reexecuted": false,
    "source_hash": "6a214f35",
    "execution_start": 1632487504352,
    "execution_millis": 166,
    "deepnote_cell_type": "code"
   },
   "source": "data = pd.read_csv(data_dir)\ndata",
   "outputs": [
    {
     "output_type": "execute_result",
     "execution_count": 8,
     "data": {
      "application/vnd.deepnote.dataframe.v2+json": {
       "row_count": 4240,
       "column_count": 16,
       "columns": [
        {
         "name": "male",
         "dtype": "int64",
         "stats": {
          "unique_count": 2,
          "nan_count": 0,
          "min": "0",
          "max": "1",
          "histogram": [
           {
            "bin_start": 0,
            "bin_end": 0.1,
            "count": 2420
           },
           {
            "bin_start": 0.1,
            "bin_end": 0.2,
            "count": 0
           },
           {
            "bin_start": 0.2,
            "bin_end": 0.30000000000000004,
            "count": 0
           },
           {
            "bin_start": 0.30000000000000004,
            "bin_end": 0.4,
            "count": 0
           },
           {
            "bin_start": 0.4,
            "bin_end": 0.5,
            "count": 0
           },
           {
            "bin_start": 0.5,
            "bin_end": 0.6000000000000001,
            "count": 0
           },
           {
            "bin_start": 0.6000000000000001,
            "bin_end": 0.7000000000000001,
            "count": 0
           },
           {
            "bin_start": 0.7000000000000001,
            "bin_end": 0.8,
            "count": 0
           },
           {
            "bin_start": 0.8,
            "bin_end": 0.9,
            "count": 0
           },
           {
            "bin_start": 0.9,
            "bin_end": 1,
            "count": 1820
           }
          ]
         }
        },
        {
         "name": "age",
         "dtype": "int64",
         "stats": {
          "unique_count": 39,
          "nan_count": 0,
          "min": "32",
          "max": "70",
          "histogram": [
           {
            "bin_start": 32,
            "bin_end": 35.8,
            "count": 66
           },
           {
            "bin_start": 35.8,
            "bin_end": 39.6,
            "count": 490
           },
           {
            "bin_start": 39.6,
            "bin_end": 43.4,
            "count": 705
           },
           {
            "bin_start": 43.4,
            "bin_end": 47.2,
            "count": 651
           },
           {
            "bin_start": 47.2,
            "bin_end": 51,
            "count": 445
           },
           {
            "bin_start": 51,
            "bin_end": 54.8,
            "count": 566
           },
           {
            "bin_start": 54.8,
            "bin_end": 58.599999999999994,
            "count": 508
           },
           {
            "bin_start": 58.599999999999994,
            "bin_end": 62.4,
            "count": 439
           },
           {
            "bin_start": 62.4,
            "bin_end": 66.19999999999999,
            "count": 298
           },
           {
            "bin_start": 66.19999999999999,
            "bin_end": 70,
            "count": 72
           }
          ]
         }
        },
        {
         "name": "education",
         "dtype": "float64",
         "stats": {
          "unique_count": 4,
          "nan_count": 105,
          "min": "1.0",
          "max": "4.0",
          "histogram": [
           {
            "bin_start": 1,
            "bin_end": 1.3,
            "count": 1720
           },
           {
            "bin_start": 1.3,
            "bin_end": 1.6,
            "count": 0
           },
           {
            "bin_start": 1.6,
            "bin_end": 1.9,
            "count": 0
           },
           {
            "bin_start": 1.9,
            "bin_end": 2.2,
            "count": 1253
           },
           {
            "bin_start": 2.2,
            "bin_end": 2.5,
            "count": 0
           },
           {
            "bin_start": 2.5,
            "bin_end": 2.8,
            "count": 0
           },
           {
            "bin_start": 2.8,
            "bin_end": 3.1,
            "count": 689
           },
           {
            "bin_start": 3.1,
            "bin_end": 3.4,
            "count": 0
           },
           {
            "bin_start": 3.4,
            "bin_end": 3.6999999999999997,
            "count": 0
           },
           {
            "bin_start": 3.6999999999999997,
            "bin_end": 4,
            "count": 473
           }
          ]
         }
        },
        {
         "name": "currentSmoker",
         "dtype": "int64",
         "stats": {
          "unique_count": 2,
          "nan_count": 0,
          "min": "0",
          "max": "1",
          "histogram": [
           {
            "bin_start": 0,
            "bin_end": 0.1,
            "count": 2145
           },
           {
            "bin_start": 0.1,
            "bin_end": 0.2,
            "count": 0
           },
           {
            "bin_start": 0.2,
            "bin_end": 0.30000000000000004,
            "count": 0
           },
           {
            "bin_start": 0.30000000000000004,
            "bin_end": 0.4,
            "count": 0
           },
           {
            "bin_start": 0.4,
            "bin_end": 0.5,
            "count": 0
           },
           {
            "bin_start": 0.5,
            "bin_end": 0.6000000000000001,
            "count": 0
           },
           {
            "bin_start": 0.6000000000000001,
            "bin_end": 0.7000000000000001,
            "count": 0
           },
           {
            "bin_start": 0.7000000000000001,
            "bin_end": 0.8,
            "count": 0
           },
           {
            "bin_start": 0.8,
            "bin_end": 0.9,
            "count": 0
           },
           {
            "bin_start": 0.9,
            "bin_end": 1,
            "count": 2095
           }
          ]
         }
        },
        {
         "name": "cigsPerDay",
         "dtype": "float64",
         "stats": {
          "unique_count": 33,
          "nan_count": 29,
          "min": "0.0",
          "max": "70.0",
          "histogram": [
           {
            "bin_start": 0,
            "bin_end": 7,
            "count": 2478
           },
           {
            "bin_start": 7,
            "bin_end": 14,
            "count": 307
           },
           {
            "bin_start": 14,
            "bin_end": 21,
            "count": 966
           },
           {
            "bin_start": 21,
            "bin_end": 28,
            "count": 61
           },
           {
            "bin_start": 28,
            "bin_end": 35,
            "count": 219
           },
           {
            "bin_start": 35,
            "bin_end": 42,
            "count": 103
           },
           {
            "bin_start": 42,
            "bin_end": 49,
            "count": 59
           },
           {
            "bin_start": 49,
            "bin_end": 56,
            "count": 6
           },
           {
            "bin_start": 56,
            "bin_end": 63,
            "count": 11
           },
           {
            "bin_start": 63,
            "bin_end": 70,
            "count": 1
           }
          ]
         }
        },
        {
         "name": "BPMeds",
         "dtype": "float64",
         "stats": {
          "unique_count": 2,
          "nan_count": 53,
          "min": "0.0",
          "max": "1.0",
          "histogram": [
           {
            "bin_start": 0,
            "bin_end": 0.1,
            "count": 4063
           },
           {
            "bin_start": 0.1,
            "bin_end": 0.2,
            "count": 0
           },
           {
            "bin_start": 0.2,
            "bin_end": 0.30000000000000004,
            "count": 0
           },
           {
            "bin_start": 0.30000000000000004,
            "bin_end": 0.4,
            "count": 0
           },
           {
            "bin_start": 0.4,
            "bin_end": 0.5,
            "count": 0
           },
           {
            "bin_start": 0.5,
            "bin_end": 0.6000000000000001,
            "count": 0
           },
           {
            "bin_start": 0.6000000000000001,
            "bin_end": 0.7000000000000001,
            "count": 0
           },
           {
            "bin_start": 0.7000000000000001,
            "bin_end": 0.8,
            "count": 0
           },
           {
            "bin_start": 0.8,
            "bin_end": 0.9,
            "count": 0
           },
           {
            "bin_start": 0.9,
            "bin_end": 1,
            "count": 124
           }
          ]
         }
        },
        {
         "name": "prevalentStroke",
         "dtype": "int64",
         "stats": {
          "unique_count": 2,
          "nan_count": 0,
          "min": "0",
          "max": "1",
          "histogram": [
           {
            "bin_start": 0,
            "bin_end": 0.1,
            "count": 4215
           },
           {
            "bin_start": 0.1,
            "bin_end": 0.2,
            "count": 0
           },
           {
            "bin_start": 0.2,
            "bin_end": 0.30000000000000004,
            "count": 0
           },
           {
            "bin_start": 0.30000000000000004,
            "bin_end": 0.4,
            "count": 0
           },
           {
            "bin_start": 0.4,
            "bin_end": 0.5,
            "count": 0
           },
           {
            "bin_start": 0.5,
            "bin_end": 0.6000000000000001,
            "count": 0
           },
           {
            "bin_start": 0.6000000000000001,
            "bin_end": 0.7000000000000001,
            "count": 0
           },
           {
            "bin_start": 0.7000000000000001,
            "bin_end": 0.8,
            "count": 0
           },
           {
            "bin_start": 0.8,
            "bin_end": 0.9,
            "count": 0
           },
           {
            "bin_start": 0.9,
            "bin_end": 1,
            "count": 25
           }
          ]
         }
        },
        {
         "name": "prevalentHyp",
         "dtype": "int64",
         "stats": {
          "unique_count": 2,
          "nan_count": 0,
          "min": "0",
          "max": "1",
          "histogram": [
           {
            "bin_start": 0,
            "bin_end": 0.1,
            "count": 2923
           },
           {
            "bin_start": 0.1,
            "bin_end": 0.2,
            "count": 0
           },
           {
            "bin_start": 0.2,
            "bin_end": 0.30000000000000004,
            "count": 0
           },
           {
            "bin_start": 0.30000000000000004,
            "bin_end": 0.4,
            "count": 0
           },
           {
            "bin_start": 0.4,
            "bin_end": 0.5,
            "count": 0
           },
           {
            "bin_start": 0.5,
            "bin_end": 0.6000000000000001,
            "count": 0
           },
           {
            "bin_start": 0.6000000000000001,
            "bin_end": 0.7000000000000001,
            "count": 0
           },
           {
            "bin_start": 0.7000000000000001,
            "bin_end": 0.8,
            "count": 0
           },
           {
            "bin_start": 0.8,
            "bin_end": 0.9,
            "count": 0
           },
           {
            "bin_start": 0.9,
            "bin_end": 1,
            "count": 1317
           }
          ]
         }
        },
        {
         "name": "diabetes",
         "dtype": "int64",
         "stats": {
          "unique_count": 2,
          "nan_count": 0,
          "min": "0",
          "max": "1",
          "histogram": [
           {
            "bin_start": 0,
            "bin_end": 0.1,
            "count": 4131
           },
           {
            "bin_start": 0.1,
            "bin_end": 0.2,
            "count": 0
           },
           {
            "bin_start": 0.2,
            "bin_end": 0.30000000000000004,
            "count": 0
           },
           {
            "bin_start": 0.30000000000000004,
            "bin_end": 0.4,
            "count": 0
           },
           {
            "bin_start": 0.4,
            "bin_end": 0.5,
            "count": 0
           },
           {
            "bin_start": 0.5,
            "bin_end": 0.6000000000000001,
            "count": 0
           },
           {
            "bin_start": 0.6000000000000001,
            "bin_end": 0.7000000000000001,
            "count": 0
           },
           {
            "bin_start": 0.7000000000000001,
            "bin_end": 0.8,
            "count": 0
           },
           {
            "bin_start": 0.8,
            "bin_end": 0.9,
            "count": 0
           },
           {
            "bin_start": 0.9,
            "bin_end": 1,
            "count": 109
           }
          ]
         }
        },
        {
         "name": "totChol",
         "dtype": "float64",
         "stats": {
          "unique_count": 248,
          "nan_count": 50,
          "min": "107.0",
          "max": "696.0",
          "histogram": [
           {
            "bin_start": 107,
            "bin_end": 165.9,
            "count": 164
           },
           {
            "bin_start": 165.9,
            "bin_end": 224.8,
            "count": 1555
           },
           {
            "bin_start": 224.8,
            "bin_end": 283.7,
            "count": 1898
           },
           {
            "bin_start": 283.7,
            "bin_end": 342.6,
            "count": 503
           },
           {
            "bin_start": 342.6,
            "bin_end": 401.5,
            "count": 60
           },
           {
            "bin_start": 401.5,
            "bin_end": 460.4,
            "count": 7
           },
           {
            "bin_start": 460.4,
            "bin_end": 519.3,
            "count": 1
           },
           {
            "bin_start": 519.3,
            "bin_end": 578.2,
            "count": 0
           },
           {
            "bin_start": 578.2,
            "bin_end": 637.1,
            "count": 1
           },
           {
            "bin_start": 637.1,
            "bin_end": 696,
            "count": 1
           }
          ]
         }
        },
        {
         "name": "sysBP",
         "dtype": "float64",
         "stats": {
          "unique_count": 234,
          "nan_count": 0,
          "min": "83.5",
          "max": "295.0",
          "histogram": [
           {
            "bin_start": 83.5,
            "bin_end": 104.65,
            "count": 219
           },
           {
            "bin_start": 104.65,
            "bin_end": 125.8,
            "count": 1642
           },
           {
            "bin_start": 125.8,
            "bin_end": 146.95,
            "count": 1474
           },
           {
            "bin_start": 146.95,
            "bin_end": 168.1,
            "count": 604
           },
           {
            "bin_start": 168.1,
            "bin_end": 189.25,
            "count": 206
           },
           {
            "bin_start": 189.25,
            "bin_end": 210.39999999999998,
            "count": 78
           },
           {
            "bin_start": 210.39999999999998,
            "bin_end": 231.54999999999998,
            "count": 11
           },
           {
            "bin_start": 231.54999999999998,
            "bin_end": 252.7,
            "count": 5
           },
           {
            "bin_start": 252.7,
            "bin_end": 273.85,
            "count": 0
           },
           {
            "bin_start": 273.85,
            "bin_end": 295,
            "count": 1
           }
          ]
         }
        },
        {
         "name": "diaBP",
         "dtype": "float64",
         "stats": {
          "unique_count": 146,
          "nan_count": 0,
          "min": "48.0",
          "max": "142.5",
          "histogram": [
           {
            "bin_start": 48,
            "bin_end": 57.45,
            "count": 18
           },
           {
            "bin_start": 57.45,
            "bin_end": 66.9,
            "count": 242
           },
           {
            "bin_start": 66.9,
            "bin_end": 76.35,
            "count": 1015
           },
           {
            "bin_start": 76.35,
            "bin_end": 85.8,
            "count": 1427
           },
           {
            "bin_start": 85.8,
            "bin_end": 95.25,
            "count": 967
           },
           {
            "bin_start": 95.25,
            "bin_end": 104.69999999999999,
            "count": 359
           },
           {
            "bin_start": 104.69999999999999,
            "bin_end": 114.14999999999999,
            "count": 150
           },
           {
            "bin_start": 114.14999999999999,
            "bin_end": 123.6,
            "count": 38
           },
           {
            "bin_start": 123.6,
            "bin_end": 133.05,
            "count": 18
           },
           {
            "bin_start": 133.05,
            "bin_end": 142.5,
            "count": 6
           }
          ]
         }
        },
        {
         "name": "BMI",
         "dtype": "float64",
         "stats": {
          "unique_count": 1364,
          "nan_count": 19,
          "min": "15.54",
          "max": "56.8",
          "histogram": [
           {
            "bin_start": 15.54,
            "bin_end": 19.665999999999997,
            "count": 158
           },
           {
            "bin_start": 19.665999999999997,
            "bin_end": 23.791999999999998,
            "count": 1211
           },
           {
            "bin_start": 23.791999999999998,
            "bin_end": 27.918,
            "count": 1751
           },
           {
            "bin_start": 27.918,
            "bin_end": 32.044,
            "count": 824
           },
           {
            "bin_start": 32.044,
            "bin_end": 36.169999999999995,
            "count": 196
           },
           {
            "bin_start": 36.169999999999995,
            "bin_end": 40.29599999999999,
            "count": 58
           },
           {
            "bin_start": 40.29599999999999,
            "bin_end": 44.422,
            "count": 17
           },
           {
            "bin_start": 44.422,
            "bin_end": 48.547999999999995,
            "count": 4
           },
           {
            "bin_start": 48.547999999999995,
            "bin_end": 52.67399999999999,
            "count": 1
           },
           {
            "bin_start": 52.67399999999999,
            "bin_end": 56.8,
            "count": 1
           }
          ]
         }
        },
        {
         "name": "heartRate",
         "dtype": "float64",
         "stats": {
          "unique_count": 73,
          "nan_count": 1,
          "min": "44.0",
          "max": "143.0",
          "histogram": [
           {
            "bin_start": 44,
            "bin_end": 53.9,
            "count": 61
           },
           {
            "bin_start": 53.9,
            "bin_end": 63.8,
            "count": 538
           },
           {
            "bin_start": 63.8,
            "bin_end": 73.7,
            "count": 1261
           },
           {
            "bin_start": 73.7,
            "bin_end": 83.6,
            "count": 1357
           },
           {
            "bin_start": 83.6,
            "bin_end": 93.5,
            "count": 646
           },
           {
            "bin_start": 93.5,
            "bin_end": 103.4,
            "count": 286
           },
           {
            "bin_start": 103.4,
            "bin_end": 113.3,
            "count": 70
           },
           {
            "bin_start": 113.3,
            "bin_end": 123.2,
            "count": 14
           },
           {
            "bin_start": 123.2,
            "bin_end": 133.10000000000002,
            "count": 4
           },
           {
            "bin_start": 133.10000000000002,
            "bin_end": 143,
            "count": 2
           }
          ]
         }
        },
        {
         "name": "glucose",
         "dtype": "float64",
         "stats": {
          "unique_count": 143,
          "nan_count": 388,
          "min": "40.0",
          "max": "394.0",
          "histogram": [
           {
            "bin_start": 40,
            "bin_end": 75.4,
            "count": 1573
           },
           {
            "bin_start": 75.4,
            "bin_end": 110.8,
            "count": 2098
           },
           {
            "bin_start": 110.8,
            "bin_end": 146.2,
            "count": 127
           },
           {
            "bin_start": 146.2,
            "bin_end": 181.6,
            "count": 16
           },
           {
            "bin_start": 181.6,
            "bin_end": 217,
            "count": 13
           },
           {
            "bin_start": 217,
            "bin_end": 252.39999999999998,
            "count": 6
           },
           {
            "bin_start": 252.39999999999998,
            "bin_end": 287.79999999999995,
            "count": 7
           },
           {
            "bin_start": 287.79999999999995,
            "bin_end": 323.2,
            "count": 4
           },
           {
            "bin_start": 323.2,
            "bin_end": 358.59999999999997,
            "count": 3
           },
           {
            "bin_start": 358.59999999999997,
            "bin_end": 394,
            "count": 5
           }
          ]
         }
        },
        {
         "name": "TenYearCHD",
         "dtype": "int64",
         "stats": {
          "unique_count": 2,
          "nan_count": 0,
          "min": "0",
          "max": "1",
          "histogram": [
           {
            "bin_start": 0,
            "bin_end": 0.1,
            "count": 3596
           },
           {
            "bin_start": 0.1,
            "bin_end": 0.2,
            "count": 0
           },
           {
            "bin_start": 0.2,
            "bin_end": 0.30000000000000004,
            "count": 0
           },
           {
            "bin_start": 0.30000000000000004,
            "bin_end": 0.4,
            "count": 0
           },
           {
            "bin_start": 0.4,
            "bin_end": 0.5,
            "count": 0
           },
           {
            "bin_start": 0.5,
            "bin_end": 0.6000000000000001,
            "count": 0
           },
           {
            "bin_start": 0.6000000000000001,
            "bin_end": 0.7000000000000001,
            "count": 0
           },
           {
            "bin_start": 0.7000000000000001,
            "bin_end": 0.8,
            "count": 0
           },
           {
            "bin_start": 0.8,
            "bin_end": 0.9,
            "count": 0
           },
           {
            "bin_start": 0.9,
            "bin_end": 1,
            "count": 644
           }
          ]
         }
        },
        {
         "name": "_deepnote_index_column",
         "dtype": "int64"
        }
       ],
       "rows_top": [
        {
         "male": 1,
         "age": 39,
         "education": 4,
         "currentSmoker": 0,
         "cigsPerDay": 0,
         "BPMeds": 0,
         "prevalentStroke": 0,
         "prevalentHyp": 0,
         "diabetes": 0,
         "totChol": 195,
         "sysBP": 106,
         "diaBP": 70,
         "BMI": 26.97,
         "heartRate": 80,
         "glucose": 77,
         "TenYearCHD": 0,
         "_deepnote_index_column": 0
        },
        {
         "male": 0,
         "age": 46,
         "education": 2,
         "currentSmoker": 0,
         "cigsPerDay": 0,
         "BPMeds": 0,
         "prevalentStroke": 0,
         "prevalentHyp": 0,
         "diabetes": 0,
         "totChol": 250,
         "sysBP": 121,
         "diaBP": 81,
         "BMI": 28.73,
         "heartRate": 95,
         "glucose": 76,
         "TenYearCHD": 0,
         "_deepnote_index_column": 1
        },
        {
         "male": 1,
         "age": 48,
         "education": 1,
         "currentSmoker": 1,
         "cigsPerDay": 20,
         "BPMeds": 0,
         "prevalentStroke": 0,
         "prevalentHyp": 0,
         "diabetes": 0,
         "totChol": 245,
         "sysBP": 127.5,
         "diaBP": 80,
         "BMI": 25.34,
         "heartRate": 75,
         "glucose": 70,
         "TenYearCHD": 0,
         "_deepnote_index_column": 2
        },
        {
         "male": 0,
         "age": 61,
         "education": 3,
         "currentSmoker": 1,
         "cigsPerDay": 30,
         "BPMeds": 0,
         "prevalentStroke": 0,
         "prevalentHyp": 1,
         "diabetes": 0,
         "totChol": 225,
         "sysBP": 150,
         "diaBP": 95,
         "BMI": 28.58,
         "heartRate": 65,
         "glucose": 103,
         "TenYearCHD": 1,
         "_deepnote_index_column": 3
        },
        {
         "male": 0,
         "age": 46,
         "education": 3,
         "currentSmoker": 1,
         "cigsPerDay": 23,
         "BPMeds": 0,
         "prevalentStroke": 0,
         "prevalentHyp": 0,
         "diabetes": 0,
         "totChol": 285,
         "sysBP": 130,
         "diaBP": 84,
         "BMI": 23.1,
         "heartRate": 85,
         "glucose": 85,
         "TenYearCHD": 0,
         "_deepnote_index_column": 4
        },
        {
         "male": 0,
         "age": 43,
         "education": 2,
         "currentSmoker": 0,
         "cigsPerDay": 0,
         "BPMeds": 0,
         "prevalentStroke": 0,
         "prevalentHyp": 1,
         "diabetes": 0,
         "totChol": 228,
         "sysBP": 180,
         "diaBP": 110,
         "BMI": 30.3,
         "heartRate": 77,
         "glucose": 99,
         "TenYearCHD": 0,
         "_deepnote_index_column": 5
        },
        {
         "male": 0,
         "age": 63,
         "education": 1,
         "currentSmoker": 0,
         "cigsPerDay": 0,
         "BPMeds": 0,
         "prevalentStroke": 0,
         "prevalentHyp": 0,
         "diabetes": 0,
         "totChol": 205,
         "sysBP": 138,
         "diaBP": 71,
         "BMI": 33.11,
         "heartRate": 60,
         "glucose": 85,
         "TenYearCHD": 1,
         "_deepnote_index_column": 6
        },
        {
         "male": 0,
         "age": 45,
         "education": 2,
         "currentSmoker": 1,
         "cigsPerDay": 20,
         "BPMeds": 0,
         "prevalentStroke": 0,
         "prevalentHyp": 0,
         "diabetes": 0,
         "totChol": 313,
         "sysBP": 100,
         "diaBP": 71,
         "BMI": 21.68,
         "heartRate": 79,
         "glucose": 78,
         "TenYearCHD": 0,
         "_deepnote_index_column": 7
        },
        {
         "male": 1,
         "age": 52,
         "education": 1,
         "currentSmoker": 0,
         "cigsPerDay": 0,
         "BPMeds": 0,
         "prevalentStroke": 0,
         "prevalentHyp": 1,
         "diabetes": 0,
         "totChol": 260,
         "sysBP": 141.5,
         "diaBP": 89,
         "BMI": 26.36,
         "heartRate": 76,
         "glucose": 79,
         "TenYearCHD": 0,
         "_deepnote_index_column": 8
        },
        {
         "male": 1,
         "age": 43,
         "education": 1,
         "currentSmoker": 1,
         "cigsPerDay": 30,
         "BPMeds": 0,
         "prevalentStroke": 0,
         "prevalentHyp": 1,
         "diabetes": 0,
         "totChol": 225,
         "sysBP": 162,
         "diaBP": 107,
         "BMI": 23.61,
         "heartRate": 93,
         "glucose": 88,
         "TenYearCHD": 0,
         "_deepnote_index_column": 9
        },
        {
         "male": 0,
         "age": 50,
         "education": 1,
         "currentSmoker": 0,
         "cigsPerDay": 0,
         "BPMeds": 0,
         "prevalentStroke": 0,
         "prevalentHyp": 0,
         "diabetes": 0,
         "totChol": 254,
         "sysBP": 133,
         "diaBP": 76,
         "BMI": 22.91,
         "heartRate": 75,
         "glucose": 76,
         "TenYearCHD": 0,
         "_deepnote_index_column": 10
        },
        {
         "male": 0,
         "age": 43,
         "education": 2,
         "currentSmoker": 0,
         "cigsPerDay": 0,
         "BPMeds": 0,
         "prevalentStroke": 0,
         "prevalentHyp": 0,
         "diabetes": 0,
         "totChol": 247,
         "sysBP": 131,
         "diaBP": 88,
         "BMI": 27.64,
         "heartRate": 72,
         "glucose": 61,
         "TenYearCHD": 0,
         "_deepnote_index_column": 11
        },
        {
         "male": 1,
         "age": 46,
         "education": 1,
         "currentSmoker": 1,
         "cigsPerDay": 15,
         "BPMeds": 0,
         "prevalentStroke": 0,
         "prevalentHyp": 1,
         "diabetes": 0,
         "totChol": 294,
         "sysBP": 142,
         "diaBP": 94,
         "BMI": 26.31,
         "heartRate": 98,
         "glucose": 64,
         "TenYearCHD": 0,
         "_deepnote_index_column": 12
        },
        {
         "male": 0,
         "age": 41,
         "education": 3,
         "currentSmoker": 0,
         "cigsPerDay": 0,
         "BPMeds": 1,
         "prevalentStroke": 0,
         "prevalentHyp": 1,
         "diabetes": 0,
         "totChol": 332,
         "sysBP": 124,
         "diaBP": 88,
         "BMI": 31.31,
         "heartRate": 65,
         "glucose": 84,
         "TenYearCHD": 0,
         "_deepnote_index_column": 13
        },
        {
         "male": 0,
         "age": 39,
         "education": 2,
         "currentSmoker": 1,
         "cigsPerDay": 9,
         "BPMeds": 0,
         "prevalentStroke": 0,
         "prevalentHyp": 0,
         "diabetes": 0,
         "totChol": 226,
         "sysBP": 114,
         "diaBP": 64,
         "BMI": 22.35,
         "heartRate": 85,
         "glucose": "nan",
         "TenYearCHD": 0,
         "_deepnote_index_column": 14
        },
        {
         "male": 0,
         "age": 38,
         "education": 2,
         "currentSmoker": 1,
         "cigsPerDay": 20,
         "BPMeds": 0,
         "prevalentStroke": 0,
         "prevalentHyp": 1,
         "diabetes": 0,
         "totChol": 221,
         "sysBP": 140,
         "diaBP": 90,
         "BMI": 21.35,
         "heartRate": 95,
         "glucose": 70,
         "TenYearCHD": 1,
         "_deepnote_index_column": 15
        },
        {
         "male": 1,
         "age": 48,
         "education": 3,
         "currentSmoker": 1,
         "cigsPerDay": 10,
         "BPMeds": 0,
         "prevalentStroke": 0,
         "prevalentHyp": 1,
         "diabetes": 0,
         "totChol": 232,
         "sysBP": 138,
         "diaBP": 90,
         "BMI": 22.37,
         "heartRate": 64,
         "glucose": 72,
         "TenYearCHD": 0,
         "_deepnote_index_column": 16
        },
        {
         "male": 0,
         "age": 46,
         "education": 2,
         "currentSmoker": 1,
         "cigsPerDay": 20,
         "BPMeds": 0,
         "prevalentStroke": 0,
         "prevalentHyp": 0,
         "diabetes": 0,
         "totChol": 291,
         "sysBP": 112,
         "diaBP": 78,
         "BMI": 23.38,
         "heartRate": 80,
         "glucose": 89,
         "TenYearCHD": 1,
         "_deepnote_index_column": 17
        },
        {
         "male": 0,
         "age": 38,
         "education": 2,
         "currentSmoker": 1,
         "cigsPerDay": 5,
         "BPMeds": 0,
         "prevalentStroke": 0,
         "prevalentHyp": 0,
         "diabetes": 0,
         "totChol": 195,
         "sysBP": 122,
         "diaBP": 84.5,
         "BMI": 23.24,
         "heartRate": 75,
         "glucose": 78,
         "TenYearCHD": 0,
         "_deepnote_index_column": 18
        },
        {
         "male": 1,
         "age": 41,
         "education": 2,
         "currentSmoker": 0,
         "cigsPerDay": 0,
         "BPMeds": 0,
         "prevalentStroke": 0,
         "prevalentHyp": 0,
         "diabetes": 0,
         "totChol": 195,
         "sysBP": 139,
         "diaBP": 88,
         "BMI": 26.88,
         "heartRate": 85,
         "glucose": 65,
         "TenYearCHD": 0,
         "_deepnote_index_column": 19
        },
        {
         "male": 0,
         "age": 42,
         "education": 2,
         "currentSmoker": 1,
         "cigsPerDay": 30,
         "BPMeds": 0,
         "prevalentStroke": 0,
         "prevalentHyp": 0,
         "diabetes": 0,
         "totChol": 190,
         "sysBP": 108,
         "diaBP": 70.5,
         "BMI": 21.59,
         "heartRate": 72,
         "glucose": 85,
         "TenYearCHD": 0,
         "_deepnote_index_column": 20
        },
        {
         "male": 0,
         "age": 43,
         "education": 1,
         "currentSmoker": 0,
         "cigsPerDay": 0,
         "BPMeds": 0,
         "prevalentStroke": 0,
         "prevalentHyp": 0,
         "diabetes": 0,
         "totChol": 185,
         "sysBP": 123.5,
         "diaBP": 77.5,
         "BMI": 29.89,
         "heartRate": 70,
         "glucose": "nan",
         "TenYearCHD": 0,
         "_deepnote_index_column": 21
        },
        {
         "male": 0,
         "age": 52,
         "education": 1,
         "currentSmoker": 0,
         "cigsPerDay": 0,
         "BPMeds": 0,
         "prevalentStroke": 0,
         "prevalentHyp": 0,
         "diabetes": 0,
         "totChol": 234,
         "sysBP": 148,
         "diaBP": 78,
         "BMI": 34.17,
         "heartRate": 70,
         "glucose": 113,
         "TenYearCHD": 0,
         "_deepnote_index_column": 22
        },
        {
         "male": 0,
         "age": 52,
         "education": 3,
         "currentSmoker": 1,
         "cigsPerDay": 20,
         "BPMeds": 0,
         "prevalentStroke": 0,
         "prevalentHyp": 0,
         "diabetes": 0,
         "totChol": 215,
         "sysBP": 132,
         "diaBP": 82,
         "BMI": 25.11,
         "heartRate": 71,
         "glucose": 75,
         "TenYearCHD": 0,
         "_deepnote_index_column": 23
        },
        {
         "male": 1,
         "age": 44,
         "education": 2,
         "currentSmoker": 1,
         "cigsPerDay": 30,
         "BPMeds": 0,
         "prevalentStroke": 0,
         "prevalentHyp": 1,
         "diabetes": 0,
         "totChol": 270,
         "sysBP": 137.5,
         "diaBP": 90,
         "BMI": 21.96,
         "heartRate": 75,
         "glucose": 83,
         "TenYearCHD": 0,
         "_deepnote_index_column": 24
        },
        {
         "male": 1,
         "age": 47,
         "education": 4,
         "currentSmoker": 1,
         "cigsPerDay": 20,
         "BPMeds": 0,
         "prevalentStroke": 0,
         "prevalentHyp": 0,
         "diabetes": 0,
         "totChol": 294,
         "sysBP": 102,
         "diaBP": 68,
         "BMI": 24.18,
         "heartRate": 62,
         "glucose": 66,
         "TenYearCHD": 1,
         "_deepnote_index_column": 25
        },
        {
         "male": 0,
         "age": 60,
         "education": 1,
         "currentSmoker": 0,
         "cigsPerDay": 0,
         "BPMeds": 0,
         "prevalentStroke": 0,
         "prevalentHyp": 0,
         "diabetes": 0,
         "totChol": 260,
         "sysBP": 110,
         "diaBP": 72.5,
         "BMI": 26.59,
         "heartRate": 65,
         "glucose": "nan",
         "TenYearCHD": 0,
         "_deepnote_index_column": 26
        },
        {
         "male": 1,
         "age": 35,
         "education": 2,
         "currentSmoker": 1,
         "cigsPerDay": 20,
         "BPMeds": 0,
         "prevalentStroke": 0,
         "prevalentHyp": 1,
         "diabetes": 0,
         "totChol": 225,
         "sysBP": 132,
         "diaBP": 91,
         "BMI": 26.09,
         "heartRate": 73,
         "glucose": 83,
         "TenYearCHD": 0,
         "_deepnote_index_column": 27
        },
        {
         "male": 0,
         "age": 61,
         "education": 3,
         "currentSmoker": 0,
         "cigsPerDay": 0,
         "BPMeds": 0,
         "prevalentStroke": 0,
         "prevalentHyp": 1,
         "diabetes": 0,
         "totChol": 272,
         "sysBP": 182,
         "diaBP": 121,
         "BMI": 32.8,
         "heartRate": 85,
         "glucose": 65,
         "TenYearCHD": 1,
         "_deepnote_index_column": 28
        },
        {
         "male": 0,
         "age": 60,
         "education": 1,
         "currentSmoker": 0,
         "cigsPerDay": 0,
         "BPMeds": 0,
         "prevalentStroke": 0,
         "prevalentHyp": 0,
         "diabetes": 0,
         "totChol": 247,
         "sysBP": 130,
         "diaBP": 88,
         "BMI": 30.36,
         "heartRate": 72,
         "glucose": 74,
         "TenYearCHD": 0,
         "_deepnote_index_column": 29
        },
        {
         "male": 1,
         "age": 36,
         "education": 4,
         "currentSmoker": 1,
         "cigsPerDay": 35,
         "BPMeds": 0,
         "prevalentStroke": 0,
         "prevalentHyp": 0,
         "diabetes": 0,
         "totChol": 295,
         "sysBP": 102,
         "diaBP": 68,
         "BMI": 28.15,
         "heartRate": 60,
         "glucose": 63,
         "TenYearCHD": 0,
         "_deepnote_index_column": 30
        }
       ],
       "rows_bottom": [
        {
         "male": 1,
         "age": 65,
         "education": 2,
         "currentSmoker": 0,
         "cigsPerDay": 0,
         "BPMeds": 0,
         "prevalentStroke": 0,
         "prevalentHyp": 0,
         "diabetes": 0,
         "totChol": 286,
         "sysBP": 135,
         "diaBP": 80,
         "BMI": 28.06,
         "heartRate": 70,
         "glucose": 116,
         "TenYearCHD": 0,
         "_deepnote_index_column": 4209
        },
        {
         "male": 1,
         "age": 50,
         "education": 1,
         "currentSmoker": 0,
         "cigsPerDay": 0,
         "BPMeds": 0,
         "prevalentStroke": 0,
         "prevalentHyp": 0,
         "diabetes": 0,
         "totChol": 282,
         "sysBP": 126.5,
         "diaBP": 88,
         "BMI": 27.3,
         "heartRate": 85,
         "glucose": 87,
         "TenYearCHD": 0,
         "_deepnote_index_column": 4210
        },
        {
         "male": 1,
         "age": 42,
         "education": 2,
         "currentSmoker": 1,
         "cigsPerDay": 40,
         "BPMeds": 0,
         "prevalentStroke": 0,
         "prevalentHyp": 0,
         "diabetes": 0,
         "totChol": 245,
         "sysBP": 105,
         "diaBP": 70,
         "BMI": 22.41,
         "heartRate": 65,
         "glucose": 69,
         "TenYearCHD": 0,
         "_deepnote_index_column": 4211
        },
        {
         "male": 1,
         "age": 48,
         "education": 2,
         "currentSmoker": 1,
         "cigsPerDay": 43,
         "BPMeds": 0,
         "prevalentStroke": 0,
         "prevalentHyp": 1,
         "diabetes": 0,
         "totChol": 209,
         "sysBP": 144,
         "diaBP": 88,
         "BMI": 29.11,
         "heartRate": 84,
         "glucose": 60,
         "TenYearCHD": 0,
         "_deepnote_index_column": 4212
        },
        {
         "male": 1,
         "age": 48,
         "education": 2,
         "currentSmoker": 0,
         "cigsPerDay": 0,
         "BPMeds": 0,
         "prevalentStroke": 0,
         "prevalentHyp": 0,
         "diabetes": 0,
         "totChol": 193,
         "sysBP": 141,
         "diaBP": 95,
         "BMI": 27.89,
         "heartRate": 75,
         "glucose": 84,
         "TenYearCHD": 1,
         "_deepnote_index_column": 4213
        },
        {
         "male": 0,
         "age": 56,
         "education": 3,
         "currentSmoker": 1,
         "cigsPerDay": 5,
         "BPMeds": 0,
         "prevalentStroke": 0,
         "prevalentHyp": 0,
         "diabetes": 0,
         "totChol": 230,
         "sysBP": 123,
         "diaBP": 78.5,
         "BMI": 24.71,
         "heartRate": 76,
         "glucose": 87,
         "TenYearCHD": 1,
         "_deepnote_index_column": 4214
        },
        {
         "male": 0,
         "age": 63,
         "education": 1,
         "currentSmoker": 0,
         "cigsPerDay": 0,
         "BPMeds": 0,
         "prevalentStroke": 0,
         "prevalentHyp": 1,
         "diabetes": 1,
         "totChol": 236,
         "sysBP": 155,
         "diaBP": 82,
         "BMI": 39.17,
         "heartRate": 78,
         "glucose": 79,
         "TenYearCHD": 0,
         "_deepnote_index_column": 4215
        },
        {
         "male": 0,
         "age": 59,
         "education": 3,
         "currentSmoker": 1,
         "cigsPerDay": 20,
         "BPMeds": 0,
         "prevalentStroke": 0,
         "prevalentHyp": 0,
         "diabetes": 0,
         "totChol": 251,
         "sysBP": 125,
         "diaBP": 80,
         "BMI": 22.18,
         "heartRate": 70,
         "glucose": 70,
         "TenYearCHD": 0,
         "_deepnote_index_column": 4216
        },
        {
         "male": 0,
         "age": 63,
         "education": 1,
         "currentSmoker": 0,
         "cigsPerDay": 0,
         "BPMeds": 0,
         "prevalentStroke": 0,
         "prevalentHyp": 1,
         "diabetes": 0,
         "totChol": 266,
         "sysBP": 167,
         "diaBP": 94,
         "BMI": 25.23,
         "heartRate": 95,
         "glucose": 94,
         "TenYearCHD": 0,
         "_deepnote_index_column": 4217
        },
        {
         "male": 0,
         "age": 52,
         "education": 1,
         "currentSmoker": 0,
         "cigsPerDay": 0,
         "BPMeds": 0,
         "prevalentStroke": 0,
         "prevalentHyp": 0,
         "diabetes": 0,
         "totChol": 265,
         "sysBP": 137.5,
         "diaBP": 84.5,
         "BMI": 26.91,
         "heartRate": 72,
         "glucose": 86,
         "TenYearCHD": 0,
         "_deepnote_index_column": 4218
        },
        {
         "male": 1,
         "age": 48,
         "education": 1,
         "currentSmoker": 0,
         "cigsPerDay": 0,
         "BPMeds": 0,
         "prevalentStroke": 0,
         "prevalentHyp": 0,
         "diabetes": 0,
         "totChol": 204,
         "sysBP": 125,
         "diaBP": 84.5,
         "BMI": 22.37,
         "heartRate": 65,
         "glucose": 75,
         "TenYearCHD": 0,
         "_deepnote_index_column": 4219
        },
        {
         "male": 1,
         "age": 60,
         "education": 1,
         "currentSmoker": 0,
         "cigsPerDay": 0,
         "BPMeds": 0,
         "prevalentStroke": 0,
         "prevalentHyp": 0,
         "diabetes": 0,
         "totChol": 252,
         "sysBP": 128,
         "diaBP": 82,
         "BMI": 21.18,
         "heartRate": 75,
         "glucose": 70,
         "TenYearCHD": 1,
         "_deepnote_index_column": 4220
        },
        {
         "male": 1,
         "age": 50,
         "education": 1,
         "currentSmoker": 0,
         "cigsPerDay": 0,
         "BPMeds": 0,
         "prevalentStroke": 0,
         "prevalentHyp": 0,
         "diabetes": 0,
         "totChol": 260,
         "sysBP": 119,
         "diaBP": 74,
         "BMI": 21.85,
         "heartRate": 80,
         "glucose": 72,
         "TenYearCHD": 1,
         "_deepnote_index_column": 4221
        },
        {
         "male": 1,
         "age": 53,
         "education": 3,
         "currentSmoker": 0,
         "cigsPerDay": 0,
         "BPMeds": 0,
         "prevalentStroke": 0,
         "prevalentHyp": 1,
         "diabetes": 0,
         "totChol": 289,
         "sysBP": 188,
         "diaBP": 110,
         "BMI": 26.7,
         "heartRate": 70,
         "glucose": 63,
         "TenYearCHD": 0,
         "_deepnote_index_column": 4222
        },
        {
         "male": 1,
         "age": 56,
         "education": 4,
         "currentSmoker": 0,
         "cigsPerDay": 0,
         "BPMeds": 1,
         "prevalentStroke": 0,
         "prevalentHyp": 1,
         "diabetes": 0,
         "totChol": 287,
         "sysBP": 149,
         "diaBP": 98,
         "BMI": 21.68,
         "heartRate": 90,
         "glucose": 75,
         "TenYearCHD": 1,
         "_deepnote_index_column": 4223
        },
        {
         "male": 1,
         "age": 47,
         "education": 2,
         "currentSmoker": 1,
         "cigsPerDay": 3,
         "BPMeds": 0,
         "prevalentStroke": 0,
         "prevalentHyp": 0,
         "diabetes": 0,
         "totChol": 198,
         "sysBP": 120,
         "diaBP": 80,
         "BMI": 25.23,
         "heartRate": 75,
         "glucose": 76,
         "TenYearCHD": 0,
         "_deepnote_index_column": 4224
        },
        {
         "male": 1,
         "age": 45,
         "education": 4,
         "currentSmoker": 1,
         "cigsPerDay": 43,
         "BPMeds": 0,
         "prevalentStroke": 0,
         "prevalentHyp": 0,
         "diabetes": 0,
         "totChol": 216,
         "sysBP": 137.5,
         "diaBP": 85,
         "BMI": 24.24,
         "heartRate": 83,
         "glucose": 105,
         "TenYearCHD": 0,
         "_deepnote_index_column": 4225
        },
        {
         "male": 1,
         "age": 58,
         "education": 1,
         "currentSmoker": 0,
         "cigsPerDay": 0,
         "BPMeds": 0,
         "prevalentStroke": 0,
         "prevalentHyp": 0,
         "diabetes": 0,
         "totChol": 233,
         "sysBP": 125.5,
         "diaBP": 84,
         "BMI": 26.05,
         "heartRate": 67,
         "glucose": 76,
         "TenYearCHD": 1,
         "_deepnote_index_column": 4226
        },
        {
         "male": 1,
         "age": 43,
         "education": 4,
         "currentSmoker": 1,
         "cigsPerDay": 20,
         "BPMeds": 0,
         "prevalentStroke": 0,
         "prevalentHyp": 0,
         "diabetes": 0,
         "totChol": 187,
         "sysBP": 129.5,
         "diaBP": 88,
         "BMI": 25.62,
         "heartRate": 80,
         "glucose": 75,
         "TenYearCHD": 0,
         "_deepnote_index_column": 4227
        },
        {
         "male": 0,
         "age": 50,
         "education": 1,
         "currentSmoker": 0,
         "cigsPerDay": 0,
         "BPMeds": 0,
         "prevalentStroke": 0,
         "prevalentHyp": 1,
         "diabetes": 1,
         "totChol": 260,
         "sysBP": 190,
         "diaBP": 130,
         "BMI": 43.67,
         "heartRate": 85,
         "glucose": 260,
         "TenYearCHD": 0,
         "_deepnote_index_column": 4228
        },
        {
         "male": 0,
         "age": 51,
         "education": 3,
         "currentSmoker": 1,
         "cigsPerDay": 20,
         "BPMeds": 0,
         "prevalentStroke": 0,
         "prevalentHyp": 1,
         "diabetes": 0,
         "totChol": 251,
         "sysBP": 140,
         "diaBP": 80,
         "BMI": 25.6,
         "heartRate": 75,
         "glucose": "nan",
         "TenYearCHD": 0,
         "_deepnote_index_column": 4229
        },
        {
         "male": 0,
         "age": 56,
         "education": 1,
         "currentSmoker": 1,
         "cigsPerDay": 3,
         "BPMeds": 0,
         "prevalentStroke": 0,
         "prevalentHyp": 1,
         "diabetes": 0,
         "totChol": 268,
         "sysBP": 170,
         "diaBP": 102,
         "BMI": 22.89,
         "heartRate": 57,
         "glucose": "nan",
         "TenYearCHD": 0,
         "_deepnote_index_column": 4230
        },
        {
         "male": 1,
         "age": 58,
         "education": 3,
         "currentSmoker": 0,
         "cigsPerDay": 0,
         "BPMeds": 0,
         "prevalentStroke": 0,
         "prevalentHyp": 1,
         "diabetes": 0,
         "totChol": 187,
         "sysBP": 141,
         "diaBP": 81,
         "BMI": 24.96,
         "heartRate": 80,
         "glucose": 81,
         "TenYearCHD": 0,
         "_deepnote_index_column": 4231
        },
        {
         "male": 1,
         "age": 68,
         "education": 1,
         "currentSmoker": 0,
         "cigsPerDay": 0,
         "BPMeds": 0,
         "prevalentStroke": 0,
         "prevalentHyp": 1,
         "diabetes": 0,
         "totChol": 176,
         "sysBP": 168,
         "diaBP": 97,
         "BMI": 23.14,
         "heartRate": 60,
         "glucose": 79,
         "TenYearCHD": 1,
         "_deepnote_index_column": 4232
        },
        {
         "male": 1,
         "age": 50,
         "education": 1,
         "currentSmoker": 1,
         "cigsPerDay": 1,
         "BPMeds": 0,
         "prevalentStroke": 0,
         "prevalentHyp": 1,
         "diabetes": 0,
         "totChol": 313,
         "sysBP": 179,
         "diaBP": 92,
         "BMI": 25.97,
         "heartRate": 66,
         "glucose": 86,
         "TenYearCHD": 1,
         "_deepnote_index_column": 4233
        },
        {
         "male": 1,
         "age": 51,
         "education": 3,
         "currentSmoker": 1,
         "cigsPerDay": 43,
         "BPMeds": 0,
         "prevalentStroke": 0,
         "prevalentHyp": 0,
         "diabetes": 0,
         "totChol": 207,
         "sysBP": 126.5,
         "diaBP": 80,
         "BMI": 19.71,
         "heartRate": 65,
         "glucose": 68,
         "TenYearCHD": 0,
         "_deepnote_index_column": 4234
        },
        {
         "male": 0,
         "age": 48,
         "education": 2,
         "currentSmoker": 1,
         "cigsPerDay": 20,
         "BPMeds": "nan",
         "prevalentStroke": 0,
         "prevalentHyp": 0,
         "diabetes": 0,
         "totChol": 248,
         "sysBP": 131,
         "diaBP": 72,
         "BMI": 22,
         "heartRate": 84,
         "glucose": 86,
         "TenYearCHD": 0,
         "_deepnote_index_column": 4235
        },
        {
         "male": 0,
         "age": 44,
         "education": 1,
         "currentSmoker": 1,
         "cigsPerDay": 15,
         "BPMeds": 0,
         "prevalentStroke": 0,
         "prevalentHyp": 0,
         "diabetes": 0,
         "totChol": 210,
         "sysBP": 126.5,
         "diaBP": 87,
         "BMI": 19.16,
         "heartRate": 86,
         "glucose": "nan",
         "TenYearCHD": 0,
         "_deepnote_index_column": 4236
        },
        {
         "male": 0,
         "age": 52,
         "education": 2,
         "currentSmoker": 0,
         "cigsPerDay": 0,
         "BPMeds": 0,
         "prevalentStroke": 0,
         "prevalentHyp": 0,
         "diabetes": 0,
         "totChol": 269,
         "sysBP": 133.5,
         "diaBP": 83,
         "BMI": 21.47,
         "heartRate": 80,
         "glucose": 107,
         "TenYearCHD": 0,
         "_deepnote_index_column": 4237
        },
        {
         "male": 1,
         "age": 40,
         "education": 3,
         "currentSmoker": 0,
         "cigsPerDay": 0,
         "BPMeds": 0,
         "prevalentStroke": 0,
         "prevalentHyp": 1,
         "diabetes": 0,
         "totChol": 185,
         "sysBP": 141,
         "diaBP": 98,
         "BMI": 25.6,
         "heartRate": 67,
         "glucose": 72,
         "TenYearCHD": 0,
         "_deepnote_index_column": 4238
        },
        {
         "male": 0,
         "age": 39,
         "education": 3,
         "currentSmoker": 1,
         "cigsPerDay": 30,
         "BPMeds": 0,
         "prevalentStroke": 0,
         "prevalentHyp": 0,
         "diabetes": 0,
         "totChol": 196,
         "sysBP": 133,
         "diaBP": 86,
         "BMI": 20.91,
         "heartRate": 85,
         "glucose": 80,
         "TenYearCHD": 0,
         "_deepnote_index_column": 4239
        }
       ]
      },
      "text/plain": "      male  age  education  currentSmoker  cigsPerDay  BPMeds  \\\n0        1   39        4.0              0         0.0     0.0   \n1        0   46        2.0              0         0.0     0.0   \n2        1   48        1.0              1        20.0     0.0   \n3        0   61        3.0              1        30.0     0.0   \n4        0   46        3.0              1        23.0     0.0   \n...    ...  ...        ...            ...         ...     ...   \n4235     0   48        2.0              1        20.0     NaN   \n4236     0   44        1.0              1        15.0     0.0   \n4237     0   52        2.0              0         0.0     0.0   \n4238     1   40        3.0              0         0.0     0.0   \n4239     0   39        3.0              1        30.0     0.0   \n\n      prevalentStroke  prevalentHyp  diabetes  totChol  sysBP  diaBP    BMI  \\\n0                   0             0         0    195.0  106.0   70.0  26.97   \n1                   0             0         0    250.0  121.0   81.0  28.73   \n2                   0             0         0    245.0  127.5   80.0  25.34   \n3                   0             1         0    225.0  150.0   95.0  28.58   \n4                   0             0         0    285.0  130.0   84.0  23.10   \n...               ...           ...       ...      ...    ...    ...    ...   \n4235                0             0         0    248.0  131.0   72.0  22.00   \n4236                0             0         0    210.0  126.5   87.0  19.16   \n4237                0             0         0    269.0  133.5   83.0  21.47   \n4238                0             1         0    185.0  141.0   98.0  25.60   \n4239                0             0         0    196.0  133.0   86.0  20.91   \n\n      heartRate  glucose  TenYearCHD  \n0          80.0     77.0           0  \n1          95.0     76.0           0  \n2          75.0     70.0           0  \n3          65.0    103.0           1  \n4          85.0     85.0           0  \n...         ...      ...         ...  \n4235       84.0     86.0           0  \n4236       86.0      NaN           0  \n4237       80.0    107.0           0  \n4238       67.0     72.0           0  \n4239       85.0     80.0           0  \n\n[4240 rows x 16 columns]",
      "text/html": "<div>\n<style scoped>\n    .dataframe tbody tr th:only-of-type {\n        vertical-align: middle;\n    }\n\n    .dataframe tbody tr th {\n        vertical-align: top;\n    }\n\n    .dataframe thead th {\n        text-align: right;\n    }\n</style>\n<table border=\"1\" class=\"dataframe\">\n  <thead>\n    <tr style=\"text-align: right;\">\n      <th></th>\n      <th>male</th>\n      <th>age</th>\n      <th>education</th>\n      <th>currentSmoker</th>\n      <th>cigsPerDay</th>\n      <th>BPMeds</th>\n      <th>prevalentStroke</th>\n      <th>prevalentHyp</th>\n      <th>diabetes</th>\n      <th>totChol</th>\n      <th>sysBP</th>\n      <th>diaBP</th>\n      <th>BMI</th>\n      <th>heartRate</th>\n      <th>glucose</th>\n      <th>TenYearCHD</th>\n    </tr>\n  </thead>\n  <tbody>\n    <tr>\n      <th>0</th>\n      <td>1</td>\n      <td>39</td>\n      <td>4.0</td>\n      <td>0</td>\n      <td>0.0</td>\n      <td>0.0</td>\n      <td>0</td>\n      <td>0</td>\n      <td>0</td>\n      <td>195.0</td>\n      <td>106.0</td>\n      <td>70.0</td>\n      <td>26.97</td>\n      <td>80.0</td>\n      <td>77.0</td>\n      <td>0</td>\n    </tr>\n    <tr>\n      <th>1</th>\n      <td>0</td>\n      <td>46</td>\n      <td>2.0</td>\n      <td>0</td>\n      <td>0.0</td>\n      <td>0.0</td>\n      <td>0</td>\n      <td>0</td>\n      <td>0</td>\n      <td>250.0</td>\n      <td>121.0</td>\n      <td>81.0</td>\n      <td>28.73</td>\n      <td>95.0</td>\n      <td>76.0</td>\n      <td>0</td>\n    </tr>\n    <tr>\n      <th>2</th>\n      <td>1</td>\n      <td>48</td>\n      <td>1.0</td>\n      <td>1</td>\n      <td>20.0</td>\n      <td>0.0</td>\n      <td>0</td>\n      <td>0</td>\n      <td>0</td>\n      <td>245.0</td>\n      <td>127.5</td>\n      <td>80.0</td>\n      <td>25.34</td>\n      <td>75.0</td>\n      <td>70.0</td>\n      <td>0</td>\n    </tr>\n    <tr>\n      <th>3</th>\n      <td>0</td>\n      <td>61</td>\n      <td>3.0</td>\n      <td>1</td>\n      <td>30.0</td>\n      <td>0.0</td>\n      <td>0</td>\n      <td>1</td>\n      <td>0</td>\n      <td>225.0</td>\n      <td>150.0</td>\n      <td>95.0</td>\n      <td>28.58</td>\n      <td>65.0</td>\n      <td>103.0</td>\n      <td>1</td>\n    </tr>\n    <tr>\n      <th>4</th>\n      <td>0</td>\n      <td>46</td>\n      <td>3.0</td>\n      <td>1</td>\n      <td>23.0</td>\n      <td>0.0</td>\n      <td>0</td>\n      <td>0</td>\n      <td>0</td>\n      <td>285.0</td>\n      <td>130.0</td>\n      <td>84.0</td>\n      <td>23.10</td>\n      <td>85.0</td>\n      <td>85.0</td>\n      <td>0</td>\n    </tr>\n    <tr>\n      <th>...</th>\n      <td>...</td>\n      <td>...</td>\n      <td>...</td>\n      <td>...</td>\n      <td>...</td>\n      <td>...</td>\n      <td>...</td>\n      <td>...</td>\n      <td>...</td>\n      <td>...</td>\n      <td>...</td>\n      <td>...</td>\n      <td>...</td>\n      <td>...</td>\n      <td>...</td>\n      <td>...</td>\n    </tr>\n    <tr>\n      <th>4235</th>\n      <td>0</td>\n      <td>48</td>\n      <td>2.0</td>\n      <td>1</td>\n      <td>20.0</td>\n      <td>NaN</td>\n      <td>0</td>\n      <td>0</td>\n      <td>0</td>\n      <td>248.0</td>\n      <td>131.0</td>\n      <td>72.0</td>\n      <td>22.00</td>\n      <td>84.0</td>\n      <td>86.0</td>\n      <td>0</td>\n    </tr>\n    <tr>\n      <th>4236</th>\n      <td>0</td>\n      <td>44</td>\n      <td>1.0</td>\n      <td>1</td>\n      <td>15.0</td>\n      <td>0.0</td>\n      <td>0</td>\n      <td>0</td>\n      <td>0</td>\n      <td>210.0</td>\n      <td>126.5</td>\n      <td>87.0</td>\n      <td>19.16</td>\n      <td>86.0</td>\n      <td>NaN</td>\n      <td>0</td>\n    </tr>\n    <tr>\n      <th>4237</th>\n      <td>0</td>\n      <td>52</td>\n      <td>2.0</td>\n      <td>0</td>\n      <td>0.0</td>\n      <td>0.0</td>\n      <td>0</td>\n      <td>0</td>\n      <td>0</td>\n      <td>269.0</td>\n      <td>133.5</td>\n      <td>83.0</td>\n      <td>21.47</td>\n      <td>80.0</td>\n      <td>107.0</td>\n      <td>0</td>\n    </tr>\n    <tr>\n      <th>4238</th>\n      <td>1</td>\n      <td>40</td>\n      <td>3.0</td>\n      <td>0</td>\n      <td>0.0</td>\n      <td>0.0</td>\n      <td>0</td>\n      <td>1</td>\n      <td>0</td>\n      <td>185.0</td>\n      <td>141.0</td>\n      <td>98.0</td>\n      <td>25.60</td>\n      <td>67.0</td>\n      <td>72.0</td>\n      <td>0</td>\n    </tr>\n    <tr>\n      <th>4239</th>\n      <td>0</td>\n      <td>39</td>\n      <td>3.0</td>\n      <td>1</td>\n      <td>30.0</td>\n      <td>0.0</td>\n      <td>0</td>\n      <td>0</td>\n      <td>0</td>\n      <td>196.0</td>\n      <td>133.0</td>\n      <td>86.0</td>\n      <td>20.91</td>\n      <td>85.0</td>\n      <td>80.0</td>\n      <td>0</td>\n    </tr>\n  </tbody>\n</table>\n<p>4240 rows × 16 columns</p>\n</div>"
     },
     "metadata": {}
    }
   ],
   "execution_count": null
  },
  {
   "cell_type": "code",
   "metadata": {
    "tags": [],
    "cell_id": "00004-65f63207-52ad-4759-b84d-d7c508f11925",
    "deepnote_to_be_reexecuted": false,
    "source_hash": "a80b2f66",
    "execution_start": 1632487505376,
    "execution_millis": 22,
    "deepnote_cell_type": "code"
   },
   "source": "cols = data.columns\ncols",
   "outputs": [
    {
     "output_type": "execute_result",
     "execution_count": 9,
     "data": {
      "text/plain": "Index(['male', 'age', 'education', 'currentSmoker', 'cigsPerDay', 'BPMeds',\n       'prevalentStroke', 'prevalentHyp', 'diabetes', 'totChol', 'sysBP',\n       'diaBP', 'BMI', 'heartRate', 'glucose', 'TenYearCHD'],\n      dtype='object')"
     },
     "metadata": {}
    }
   ],
   "execution_count": null
  },
  {
   "cell_type": "code",
   "metadata": {
    "tags": [],
    "cell_id": "00004-cf48eb37-f36d-4dac-a5a8-6974bd2fd685",
    "deepnote_to_be_reexecuted": false,
    "source_hash": "d786443f",
    "execution_start": 1632487507849,
    "execution_millis": 146,
    "deepnote_cell_type": "code"
   },
   "source": "data.describe()",
   "outputs": [
    {
     "output_type": "execute_result",
     "execution_count": 10,
     "data": {
      "application/vnd.deepnote.dataframe.v2+json": {
       "row_count": 8,
       "column_count": 16,
       "columns": [
        {
         "name": "male",
         "dtype": "float64",
         "stats": {
          "unique_count": 5,
          "nan_count": 0,
          "min": "0.0",
          "max": "4240.0",
          "histogram": [
           {
            "bin_start": 0,
            "bin_end": 424,
            "count": 7
           },
           {
            "bin_start": 424,
            "bin_end": 848,
            "count": 0
           },
           {
            "bin_start": 848,
            "bin_end": 1272,
            "count": 0
           },
           {
            "bin_start": 1272,
            "bin_end": 1696,
            "count": 0
           },
           {
            "bin_start": 1696,
            "bin_end": 2120,
            "count": 0
           },
           {
            "bin_start": 2120,
            "bin_end": 2544,
            "count": 0
           },
           {
            "bin_start": 2544,
            "bin_end": 2968,
            "count": 0
           },
           {
            "bin_start": 2968,
            "bin_end": 3392,
            "count": 0
           },
           {
            "bin_start": 3392,
            "bin_end": 3816,
            "count": 0
           },
           {
            "bin_start": 3816,
            "bin_end": 4240,
            "count": 1
           }
          ]
         }
        },
        {
         "name": "age",
         "dtype": "float64",
         "stats": {
          "unique_count": 8,
          "nan_count": 0,
          "min": "8.57294217547334",
          "max": "4240.0",
          "histogram": [
           {
            "bin_start": 8.57294217547334,
            "bin_end": 431.715647957926,
            "count": 7
           },
           {
            "bin_start": 431.715647957926,
            "bin_end": 854.8583537403788,
            "count": 0
           },
           {
            "bin_start": 854.8583537403788,
            "bin_end": 1278.0010595228316,
            "count": 0
           },
           {
            "bin_start": 1278.0010595228316,
            "bin_end": 1701.1437653052842,
            "count": 0
           },
           {
            "bin_start": 1701.1437653052842,
            "bin_end": 2124.2864710877366,
            "count": 0
           },
           {
            "bin_start": 2124.2864710877366,
            "bin_end": 2547.4291768701896,
            "count": 0
           },
           {
            "bin_start": 2547.4291768701896,
            "bin_end": 2970.571882652642,
            "count": 0
           },
           {
            "bin_start": 2970.571882652642,
            "bin_end": 3393.714588435095,
            "count": 0
           },
           {
            "bin_start": 3393.714588435095,
            "bin_end": 3816.8572942175474,
            "count": 0
           },
           {
            "bin_start": 3816.8572942175474,
            "bin_end": 4240,
            "count": 1
           }
          ]
         }
        },
        {
         "name": "education",
         "dtype": "float64",
         "stats": {
          "unique_count": 7,
          "nan_count": 0,
          "min": "1.0",
          "max": "4135.0",
          "histogram": [
           {
            "bin_start": 1,
            "bin_end": 414.4,
            "count": 7
           },
           {
            "bin_start": 414.4,
            "bin_end": 827.8,
            "count": 0
           },
           {
            "bin_start": 827.8,
            "bin_end": 1241.1999999999998,
            "count": 0
           },
           {
            "bin_start": 1241.1999999999998,
            "bin_end": 1654.6,
            "count": 0
           },
           {
            "bin_start": 1654.6,
            "bin_end": 2068,
            "count": 0
           },
           {
            "bin_start": 2068,
            "bin_end": 2481.3999999999996,
            "count": 0
           },
           {
            "bin_start": 2481.3999999999996,
            "bin_end": 2894.7999999999997,
            "count": 0
           },
           {
            "bin_start": 2894.7999999999997,
            "bin_end": 3308.2,
            "count": 0
           },
           {
            "bin_start": 3308.2,
            "bin_end": 3721.6,
            "count": 0
           },
           {
            "bin_start": 3721.6,
            "bin_end": 4135,
            "count": 1
           }
          ]
         }
        },
        {
         "name": "currentSmoker",
         "dtype": "float64",
         "stats": {
          "unique_count": 5,
          "nan_count": 0,
          "min": "0.0",
          "max": "4240.0",
          "histogram": [
           {
            "bin_start": 0,
            "bin_end": 424,
            "count": 7
           },
           {
            "bin_start": 424,
            "bin_end": 848,
            "count": 0
           },
           {
            "bin_start": 848,
            "bin_end": 1272,
            "count": 0
           },
           {
            "bin_start": 1272,
            "bin_end": 1696,
            "count": 0
           },
           {
            "bin_start": 1696,
            "bin_end": 2120,
            "count": 0
           },
           {
            "bin_start": 2120,
            "bin_end": 2544,
            "count": 0
           },
           {
            "bin_start": 2544,
            "bin_end": 2968,
            "count": 0
           },
           {
            "bin_start": 2968,
            "bin_end": 3392,
            "count": 0
           },
           {
            "bin_start": 3392,
            "bin_end": 3816,
            "count": 0
           },
           {
            "bin_start": 3816,
            "bin_end": 4240,
            "count": 1
           }
          ]
         }
        },
        {
         "name": "cigsPerDay",
         "dtype": "float64",
         "stats": {
          "unique_count": 6,
          "nan_count": 0,
          "min": "0.0",
          "max": "4211.0",
          "histogram": [
           {
            "bin_start": 0,
            "bin_end": 421.1,
            "count": 7
           },
           {
            "bin_start": 421.1,
            "bin_end": 842.2,
            "count": 0
           },
           {
            "bin_start": 842.2,
            "bin_end": 1263.3000000000002,
            "count": 0
           },
           {
            "bin_start": 1263.3000000000002,
            "bin_end": 1684.4,
            "count": 0
           },
           {
            "bin_start": 1684.4,
            "bin_end": 2105.5,
            "count": 0
           },
           {
            "bin_start": 2105.5,
            "bin_end": 2526.6000000000004,
            "count": 0
           },
           {
            "bin_start": 2526.6000000000004,
            "bin_end": 2947.7000000000003,
            "count": 0
           },
           {
            "bin_start": 2947.7000000000003,
            "bin_end": 3368.8,
            "count": 0
           },
           {
            "bin_start": 3368.8,
            "bin_end": 3789.9,
            "count": 0
           },
           {
            "bin_start": 3789.9,
            "bin_end": 4211,
            "count": 1
           }
          ]
         }
        },
        {
         "name": "BPMeds",
         "dtype": "float64",
         "stats": {
          "unique_count": 5,
          "nan_count": 0,
          "min": "0.0",
          "max": "4187.0",
          "histogram": [
           {
            "bin_start": 0,
            "bin_end": 418.7,
            "count": 7
           },
           {
            "bin_start": 418.7,
            "bin_end": 837.4,
            "count": 0
           },
           {
            "bin_start": 837.4,
            "bin_end": 1256.1,
            "count": 0
           },
           {
            "bin_start": 1256.1,
            "bin_end": 1674.8,
            "count": 0
           },
           {
            "bin_start": 1674.8,
            "bin_end": 2093.5,
            "count": 0
           },
           {
            "bin_start": 2093.5,
            "bin_end": 2512.2,
            "count": 0
           },
           {
            "bin_start": 2512.2,
            "bin_end": 2930.9,
            "count": 0
           },
           {
            "bin_start": 2930.9,
            "bin_end": 3349.6,
            "count": 0
           },
           {
            "bin_start": 3349.6,
            "bin_end": 3768.2999999999997,
            "count": 0
           },
           {
            "bin_start": 3768.2999999999997,
            "bin_end": 4187,
            "count": 1
           }
          ]
         }
        },
        {
         "name": "prevalentStroke",
         "dtype": "float64",
         "stats": {
          "unique_count": 5,
          "nan_count": 0,
          "min": "0.0",
          "max": "4240.0",
          "histogram": [
           {
            "bin_start": 0,
            "bin_end": 424,
            "count": 7
           },
           {
            "bin_start": 424,
            "bin_end": 848,
            "count": 0
           },
           {
            "bin_start": 848,
            "bin_end": 1272,
            "count": 0
           },
           {
            "bin_start": 1272,
            "bin_end": 1696,
            "count": 0
           },
           {
            "bin_start": 1696,
            "bin_end": 2120,
            "count": 0
           },
           {
            "bin_start": 2120,
            "bin_end": 2544,
            "count": 0
           },
           {
            "bin_start": 2544,
            "bin_end": 2968,
            "count": 0
           },
           {
            "bin_start": 2968,
            "bin_end": 3392,
            "count": 0
           },
           {
            "bin_start": 3392,
            "bin_end": 3816,
            "count": 0
           },
           {
            "bin_start": 3816,
            "bin_end": 4240,
            "count": 1
           }
          ]
         }
        },
        {
         "name": "prevalentHyp",
         "dtype": "float64",
         "stats": {
          "unique_count": 5,
          "nan_count": 0,
          "min": "0.0",
          "max": "4240.0",
          "histogram": [
           {
            "bin_start": 0,
            "bin_end": 424,
            "count": 7
           },
           {
            "bin_start": 424,
            "bin_end": 848,
            "count": 0
           },
           {
            "bin_start": 848,
            "bin_end": 1272,
            "count": 0
           },
           {
            "bin_start": 1272,
            "bin_end": 1696,
            "count": 0
           },
           {
            "bin_start": 1696,
            "bin_end": 2120,
            "count": 0
           },
           {
            "bin_start": 2120,
            "bin_end": 2544,
            "count": 0
           },
           {
            "bin_start": 2544,
            "bin_end": 2968,
            "count": 0
           },
           {
            "bin_start": 2968,
            "bin_end": 3392,
            "count": 0
           },
           {
            "bin_start": 3392,
            "bin_end": 3816,
            "count": 0
           },
           {
            "bin_start": 3816,
            "bin_end": 4240,
            "count": 1
           }
          ]
         }
        },
        {
         "name": "diabetes",
         "dtype": "float64",
         "stats": {
          "unique_count": 5,
          "nan_count": 0,
          "min": "0.0",
          "max": "4240.0",
          "histogram": [
           {
            "bin_start": 0,
            "bin_end": 424,
            "count": 7
           },
           {
            "bin_start": 424,
            "bin_end": 848,
            "count": 0
           },
           {
            "bin_start": 848,
            "bin_end": 1272,
            "count": 0
           },
           {
            "bin_start": 1272,
            "bin_end": 1696,
            "count": 0
           },
           {
            "bin_start": 1696,
            "bin_end": 2120,
            "count": 0
           },
           {
            "bin_start": 2120,
            "bin_end": 2544,
            "count": 0
           },
           {
            "bin_start": 2544,
            "bin_end": 2968,
            "count": 0
           },
           {
            "bin_start": 2968,
            "bin_end": 3392,
            "count": 0
           },
           {
            "bin_start": 3392,
            "bin_end": 3816,
            "count": 0
           },
           {
            "bin_start": 3816,
            "bin_end": 4240,
            "count": 1
           }
          ]
         }
        },
        {
         "name": "totChol",
         "dtype": "float64",
         "stats": {
          "unique_count": 8,
          "nan_count": 0,
          "min": "44.59128386860701",
          "max": "4190.0",
          "histogram": [
           {
            "bin_start": 44.59128386860701,
            "bin_end": 459.1321554817463,
            "count": 6
           },
           {
            "bin_start": 459.1321554817463,
            "bin_end": 873.6730270948856,
            "count": 1
           },
           {
            "bin_start": 873.6730270948856,
            "bin_end": 1288.213898708025,
            "count": 0
           },
           {
            "bin_start": 1288.213898708025,
            "bin_end": 1702.7547703211642,
            "count": 0
           },
           {
            "bin_start": 1702.7547703211642,
            "bin_end": 2117.2956419343036,
            "count": 0
           },
           {
            "bin_start": 2117.2956419343036,
            "bin_end": 2531.8365135474432,
            "count": 0
           },
           {
            "bin_start": 2531.8365135474432,
            "bin_end": 2946.3773851605824,
            "count": 0
           },
           {
            "bin_start": 2946.3773851605824,
            "bin_end": 3360.9182567737216,
            "count": 0
           },
           {
            "bin_start": 3360.9182567737216,
            "bin_end": 3775.459128386861,
            "count": 0
           },
           {
            "bin_start": 3775.459128386861,
            "bin_end": 4190,
            "count": 1
           }
          ]
         }
        },
        {
         "name": "sysBP",
         "dtype": "float64",
         "stats": {
          "unique_count": 8,
          "nan_count": 0,
          "min": "22.033299608849184",
          "max": "4240.0",
          "histogram": [
           {
            "bin_start": 22.033299608849184,
            "bin_end": 443.8299696479643,
            "count": 7
           },
           {
            "bin_start": 443.8299696479643,
            "bin_end": 865.6266396870794,
            "count": 0
           },
           {
            "bin_start": 865.6266396870794,
            "bin_end": 1287.4233097261945,
            "count": 0
           },
           {
            "bin_start": 1287.4233097261945,
            "bin_end": 1709.2199797653095,
            "count": 0
           },
           {
            "bin_start": 1709.2199797653095,
            "bin_end": 2131.0166498044246,
            "count": 0
           },
           {
            "bin_start": 2131.0166498044246,
            "bin_end": 2552.81331984354,
            "count": 0
           },
           {
            "bin_start": 2552.81331984354,
            "bin_end": 2974.6099898826546,
            "count": 0
           },
           {
            "bin_start": 2974.6099898826546,
            "bin_end": 3396.40665992177,
            "count": 0
           },
           {
            "bin_start": 3396.40665992177,
            "bin_end": 3818.203329960885,
            "count": 0
           },
           {
            "bin_start": 3818.203329960885,
            "bin_end": 4240,
            "count": 1
           }
          ]
         }
        },
        {
         "name": "diaBP",
         "dtype": "float64",
         "stats": {
          "unique_count": 8,
          "nan_count": 0,
          "min": "11.91039448330595",
          "max": "4240.0",
          "histogram": [
           {
            "bin_start": 11.91039448330595,
            "bin_end": 434.71935503497537,
            "count": 7
           },
           {
            "bin_start": 434.71935503497537,
            "bin_end": 857.5283155866448,
            "count": 0
           },
           {
            "bin_start": 857.5283155866448,
            "bin_end": 1280.3372761383143,
            "count": 0
           },
           {
            "bin_start": 1280.3372761383143,
            "bin_end": 1703.1462366899837,
            "count": 0
           },
           {
            "bin_start": 1703.1462366899837,
            "bin_end": 2125.955197241653,
            "count": 0
           },
           {
            "bin_start": 2125.955197241653,
            "bin_end": 2548.7641577933227,
            "count": 0
           },
           {
            "bin_start": 2548.7641577933227,
            "bin_end": 2971.573118344992,
            "count": 0
           },
           {
            "bin_start": 2971.573118344992,
            "bin_end": 3394.3820788966614,
            "count": 0
           },
           {
            "bin_start": 3394.3820788966614,
            "bin_end": 3817.1910394483307,
            "count": 0
           },
           {
            "bin_start": 3817.1910394483307,
            "bin_end": 4240,
            "count": 1
           }
          ]
         }
        },
        {
         "name": "BMI",
         "dtype": "float64",
         "stats": {
          "unique_count": 8,
          "nan_count": 0,
          "min": "4.079840168944382",
          "max": "4221.0",
          "histogram": [
           {
            "bin_start": 4.079840168944382,
            "bin_end": 425.7718561520499,
            "count": 7
           },
           {
            "bin_start": 425.7718561520499,
            "bin_end": 847.4638721351555,
            "count": 0
           },
           {
            "bin_start": 847.4638721351555,
            "bin_end": 1269.155888118261,
            "count": 0
           },
           {
            "bin_start": 1269.155888118261,
            "bin_end": 1690.8479041013666,
            "count": 0
           },
           {
            "bin_start": 1690.8479041013666,
            "bin_end": 2112.539920084472,
            "count": 0
           },
           {
            "bin_start": 2112.539920084472,
            "bin_end": 2534.2319360675774,
            "count": 0
           },
           {
            "bin_start": 2534.2319360675774,
            "bin_end": 2955.923952050683,
            "count": 0
           },
           {
            "bin_start": 2955.923952050683,
            "bin_end": 3377.6159680337887,
            "count": 0
           },
           {
            "bin_start": 3377.6159680337887,
            "bin_end": 3799.3079840168944,
            "count": 0
           },
           {
            "bin_start": 3799.3079840168944,
            "bin_end": 4221,
            "count": 1
           }
          ]
         }
        },
        {
         "name": "heartRate",
         "dtype": "float64",
         "stats": {
          "unique_count": 8,
          "nan_count": 0,
          "min": "12.025347984469386",
          "max": "4239.0",
          "histogram": [
           {
            "bin_start": 12.025347984469386,
            "bin_end": 434.7228131860224,
            "count": 7
           },
           {
            "bin_start": 434.7228131860224,
            "bin_end": 857.4202783875754,
            "count": 0
           },
           {
            "bin_start": 857.4202783875754,
            "bin_end": 1280.1177435891284,
            "count": 0
           },
           {
            "bin_start": 1280.1177435891284,
            "bin_end": 1702.8152087906815,
            "count": 0
           },
           {
            "bin_start": 1702.8152087906815,
            "bin_end": 2125.512673992235,
            "count": 0
           },
           {
            "bin_start": 2125.512673992235,
            "bin_end": 2548.2101391937877,
            "count": 0
           },
           {
            "bin_start": 2548.2101391937877,
            "bin_end": 2970.907604395341,
            "count": 0
           },
           {
            "bin_start": 2970.907604395341,
            "bin_end": 3393.605069596894,
            "count": 0
           },
           {
            "bin_start": 3393.605069596894,
            "bin_end": 3816.3025347984467,
            "count": 0
           },
           {
            "bin_start": 3816.3025347984467,
            "bin_end": 4239,
            "count": 1
           }
          ]
         }
        },
        {
         "name": "glucose",
         "dtype": "float64",
         "stats": {
          "unique_count": 8,
          "nan_count": 0,
          "min": "23.954334811344744",
          "max": "3852.0",
          "histogram": [
           {
            "bin_start": 23.954334811344744,
            "bin_end": 406.7589013302102,
            "count": 7
           },
           {
            "bin_start": 406.7589013302102,
            "bin_end": 789.5634678490758,
            "count": 0
           },
           {
            "bin_start": 789.5634678490758,
            "bin_end": 1172.3680343679412,
            "count": 0
           },
           {
            "bin_start": 1172.3680343679412,
            "bin_end": 1555.1726008868068,
            "count": 0
           },
           {
            "bin_start": 1555.1726008868068,
            "bin_end": 1937.9771674056724,
            "count": 0
           },
           {
            "bin_start": 1937.9771674056724,
            "bin_end": 2320.7817339245375,
            "count": 0
           },
           {
            "bin_start": 2320.7817339245375,
            "bin_end": 2703.586300443403,
            "count": 0
           },
           {
            "bin_start": 2703.586300443403,
            "bin_end": 3086.390866962269,
            "count": 0
           },
           {
            "bin_start": 3086.390866962269,
            "bin_end": 3469.1954334811344,
            "count": 0
           },
           {
            "bin_start": 3469.1954334811344,
            "bin_end": 3852,
            "count": 1
           }
          ]
         }
        },
        {
         "name": "TenYearCHD",
         "dtype": "float64",
         "stats": {
          "unique_count": 5,
          "nan_count": 0,
          "min": "0.0",
          "max": "4240.0",
          "histogram": [
           {
            "bin_start": 0,
            "bin_end": 424,
            "count": 7
           },
           {
            "bin_start": 424,
            "bin_end": 848,
            "count": 0
           },
           {
            "bin_start": 848,
            "bin_end": 1272,
            "count": 0
           },
           {
            "bin_start": 1272,
            "bin_end": 1696,
            "count": 0
           },
           {
            "bin_start": 1696,
            "bin_end": 2120,
            "count": 0
           },
           {
            "bin_start": 2120,
            "bin_end": 2544,
            "count": 0
           },
           {
            "bin_start": 2544,
            "bin_end": 2968,
            "count": 0
           },
           {
            "bin_start": 2968,
            "bin_end": 3392,
            "count": 0
           },
           {
            "bin_start": 3392,
            "bin_end": 3816,
            "count": 0
           },
           {
            "bin_start": 3816,
            "bin_end": 4240,
            "count": 1
           }
          ]
         }
        },
        {
         "name": "_deepnote_index_column",
         "dtype": "object"
        }
       ],
       "rows_top": [
        {
         "male": 4240,
         "age": 4240,
         "education": 4135,
         "currentSmoker": 4240,
         "cigsPerDay": 4211,
         "BPMeds": 4187,
         "prevalentStroke": 4240,
         "prevalentHyp": 4240,
         "diabetes": 4240,
         "totChol": 4190,
         "sysBP": 4240,
         "diaBP": 4240,
         "BMI": 4221,
         "heartRate": 4239,
         "glucose": 3852,
         "TenYearCHD": 4240,
         "_deepnote_index_column": "count"
        },
        {
         "male": 0.42924528301886794,
         "age": 49.58018867924528,
         "education": 1.9794437726723095,
         "currentSmoker": 0.49410377358490565,
         "cigsPerDay": 9.005936832106388,
         "BPMeds": 0.029615476474802963,
         "prevalentStroke": 0.00589622641509434,
         "prevalentHyp": 0.3106132075471698,
         "diabetes": 0.025707547169811322,
         "totChol": 236.69952267303103,
         "sysBP": 132.35459905660377,
         "diaBP": 82.89775943396226,
         "BMI": 25.80080075811419,
         "heartRate": 75.87898089171975,
         "glucose": 81.96365524402907,
         "TenYearCHD": 0.15188679245283018,
         "_deepnote_index_column": "mean"
        },
        {
         "male": 0.4950268328135282,
         "age": 8.57294217547334,
         "education": 1.0197911793650105,
         "currentSmoker": 0.5000242019006145,
         "cigsPerDay": 11.922461800609083,
         "BPMeds": 0.16954428739626196,
         "prevalentStroke": 0.0765692084019818,
         "prevalentHyp": 0.4627992628992856,
         "diabetes": 0.15828006133169917,
         "totChol": 44.59128386860701,
         "sysBP": 22.033299608849184,
         "diaBP": 11.91039448330595,
         "BMI": 4.079840168944382,
         "heartRate": 12.025347984469386,
         "glucose": 23.954334811344744,
         "TenYearCHD": 0.35895345563483705,
         "_deepnote_index_column": "std"
        },
        {
         "male": 0,
         "age": 32,
         "education": 1,
         "currentSmoker": 0,
         "cigsPerDay": 0,
         "BPMeds": 0,
         "prevalentStroke": 0,
         "prevalentHyp": 0,
         "diabetes": 0,
         "totChol": 107,
         "sysBP": 83.5,
         "diaBP": 48,
         "BMI": 15.54,
         "heartRate": 44,
         "glucose": 40,
         "TenYearCHD": 0,
         "_deepnote_index_column": "min"
        },
        {
         "male": 0,
         "age": 42,
         "education": 1,
         "currentSmoker": 0,
         "cigsPerDay": 0,
         "BPMeds": 0,
         "prevalentStroke": 0,
         "prevalentHyp": 0,
         "diabetes": 0,
         "totChol": 206,
         "sysBP": 117,
         "diaBP": 75,
         "BMI": 23.07,
         "heartRate": 68,
         "glucose": 71,
         "TenYearCHD": 0,
         "_deepnote_index_column": "25%"
        },
        {
         "male": 0,
         "age": 49,
         "education": 2,
         "currentSmoker": 0,
         "cigsPerDay": 0,
         "BPMeds": 0,
         "prevalentStroke": 0,
         "prevalentHyp": 0,
         "diabetes": 0,
         "totChol": 234,
         "sysBP": 128,
         "diaBP": 82,
         "BMI": 25.4,
         "heartRate": 75,
         "glucose": 78,
         "TenYearCHD": 0,
         "_deepnote_index_column": "50%"
        },
        {
         "male": 1,
         "age": 56,
         "education": 3,
         "currentSmoker": 1,
         "cigsPerDay": 20,
         "BPMeds": 0,
         "prevalentStroke": 0,
         "prevalentHyp": 1,
         "diabetes": 0,
         "totChol": 263,
         "sysBP": 144,
         "diaBP": 90,
         "BMI": 28.04,
         "heartRate": 83,
         "glucose": 87,
         "TenYearCHD": 0,
         "_deepnote_index_column": "75%"
        },
        {
         "male": 1,
         "age": 70,
         "education": 4,
         "currentSmoker": 1,
         "cigsPerDay": 70,
         "BPMeds": 1,
         "prevalentStroke": 1,
         "prevalentHyp": 1,
         "diabetes": 1,
         "totChol": 696,
         "sysBP": 295,
         "diaBP": 142.5,
         "BMI": 56.8,
         "heartRate": 143,
         "glucose": 394,
         "TenYearCHD": 1,
         "_deepnote_index_column": "max"
        }
       ],
       "rows_bottom": null
      },
      "text/plain": "              male          age    education  currentSmoker   cigsPerDay  \\\ncount  4240.000000  4240.000000  4135.000000    4240.000000  4211.000000   \nmean      0.429245    49.580189     1.979444       0.494104     9.005937   \nstd       0.495027     8.572942     1.019791       0.500024    11.922462   \nmin       0.000000    32.000000     1.000000       0.000000     0.000000   \n25%       0.000000    42.000000     1.000000       0.000000     0.000000   \n50%       0.000000    49.000000     2.000000       0.000000     0.000000   \n75%       1.000000    56.000000     3.000000       1.000000    20.000000   \nmax       1.000000    70.000000     4.000000       1.000000    70.000000   \n\n            BPMeds  prevalentStroke  prevalentHyp     diabetes      totChol  \\\ncount  4187.000000      4240.000000   4240.000000  4240.000000  4190.000000   \nmean      0.029615         0.005896      0.310613     0.025708   236.699523   \nstd       0.169544         0.076569      0.462799     0.158280    44.591284   \nmin       0.000000         0.000000      0.000000     0.000000   107.000000   \n25%       0.000000         0.000000      0.000000     0.000000   206.000000   \n50%       0.000000         0.000000      0.000000     0.000000   234.000000   \n75%       0.000000         0.000000      1.000000     0.000000   263.000000   \nmax       1.000000         1.000000      1.000000     1.000000   696.000000   \n\n             sysBP        diaBP          BMI    heartRate      glucose  \\\ncount  4240.000000  4240.000000  4221.000000  4239.000000  3852.000000   \nmean    132.354599    82.897759    25.800801    75.878981    81.963655   \nstd      22.033300    11.910394     4.079840    12.025348    23.954335   \nmin      83.500000    48.000000    15.540000    44.000000    40.000000   \n25%     117.000000    75.000000    23.070000    68.000000    71.000000   \n50%     128.000000    82.000000    25.400000    75.000000    78.000000   \n75%     144.000000    90.000000    28.040000    83.000000    87.000000   \nmax     295.000000   142.500000    56.800000   143.000000   394.000000   \n\n        TenYearCHD  \ncount  4240.000000  \nmean      0.151887  \nstd       0.358953  \nmin       0.000000  \n25%       0.000000  \n50%       0.000000  \n75%       0.000000  \nmax       1.000000  ",
      "text/html": "<div>\n<style scoped>\n    .dataframe tbody tr th:only-of-type {\n        vertical-align: middle;\n    }\n\n    .dataframe tbody tr th {\n        vertical-align: top;\n    }\n\n    .dataframe thead th {\n        text-align: right;\n    }\n</style>\n<table border=\"1\" class=\"dataframe\">\n  <thead>\n    <tr style=\"text-align: right;\">\n      <th></th>\n      <th>male</th>\n      <th>age</th>\n      <th>education</th>\n      <th>currentSmoker</th>\n      <th>cigsPerDay</th>\n      <th>BPMeds</th>\n      <th>prevalentStroke</th>\n      <th>prevalentHyp</th>\n      <th>diabetes</th>\n      <th>totChol</th>\n      <th>sysBP</th>\n      <th>diaBP</th>\n      <th>BMI</th>\n      <th>heartRate</th>\n      <th>glucose</th>\n      <th>TenYearCHD</th>\n    </tr>\n  </thead>\n  <tbody>\n    <tr>\n      <th>count</th>\n      <td>4240.000000</td>\n      <td>4240.000000</td>\n      <td>4135.000000</td>\n      <td>4240.000000</td>\n      <td>4211.000000</td>\n      <td>4187.000000</td>\n      <td>4240.000000</td>\n      <td>4240.000000</td>\n      <td>4240.000000</td>\n      <td>4190.000000</td>\n      <td>4240.000000</td>\n      <td>4240.000000</td>\n      <td>4221.000000</td>\n      <td>4239.000000</td>\n      <td>3852.000000</td>\n      <td>4240.000000</td>\n    </tr>\n    <tr>\n      <th>mean</th>\n      <td>0.429245</td>\n      <td>49.580189</td>\n      <td>1.979444</td>\n      <td>0.494104</td>\n      <td>9.005937</td>\n      <td>0.029615</td>\n      <td>0.005896</td>\n      <td>0.310613</td>\n      <td>0.025708</td>\n      <td>236.699523</td>\n      <td>132.354599</td>\n      <td>82.897759</td>\n      <td>25.800801</td>\n      <td>75.878981</td>\n      <td>81.963655</td>\n      <td>0.151887</td>\n    </tr>\n    <tr>\n      <th>std</th>\n      <td>0.495027</td>\n      <td>8.572942</td>\n      <td>1.019791</td>\n      <td>0.500024</td>\n      <td>11.922462</td>\n      <td>0.169544</td>\n      <td>0.076569</td>\n      <td>0.462799</td>\n      <td>0.158280</td>\n      <td>44.591284</td>\n      <td>22.033300</td>\n      <td>11.910394</td>\n      <td>4.079840</td>\n      <td>12.025348</td>\n      <td>23.954335</td>\n      <td>0.358953</td>\n    </tr>\n    <tr>\n      <th>min</th>\n      <td>0.000000</td>\n      <td>32.000000</td>\n      <td>1.000000</td>\n      <td>0.000000</td>\n      <td>0.000000</td>\n      <td>0.000000</td>\n      <td>0.000000</td>\n      <td>0.000000</td>\n      <td>0.000000</td>\n      <td>107.000000</td>\n      <td>83.500000</td>\n      <td>48.000000</td>\n      <td>15.540000</td>\n      <td>44.000000</td>\n      <td>40.000000</td>\n      <td>0.000000</td>\n    </tr>\n    <tr>\n      <th>25%</th>\n      <td>0.000000</td>\n      <td>42.000000</td>\n      <td>1.000000</td>\n      <td>0.000000</td>\n      <td>0.000000</td>\n      <td>0.000000</td>\n      <td>0.000000</td>\n      <td>0.000000</td>\n      <td>0.000000</td>\n      <td>206.000000</td>\n      <td>117.000000</td>\n      <td>75.000000</td>\n      <td>23.070000</td>\n      <td>68.000000</td>\n      <td>71.000000</td>\n      <td>0.000000</td>\n    </tr>\n    <tr>\n      <th>50%</th>\n      <td>0.000000</td>\n      <td>49.000000</td>\n      <td>2.000000</td>\n      <td>0.000000</td>\n      <td>0.000000</td>\n      <td>0.000000</td>\n      <td>0.000000</td>\n      <td>0.000000</td>\n      <td>0.000000</td>\n      <td>234.000000</td>\n      <td>128.000000</td>\n      <td>82.000000</td>\n      <td>25.400000</td>\n      <td>75.000000</td>\n      <td>78.000000</td>\n      <td>0.000000</td>\n    </tr>\n    <tr>\n      <th>75%</th>\n      <td>1.000000</td>\n      <td>56.000000</td>\n      <td>3.000000</td>\n      <td>1.000000</td>\n      <td>20.000000</td>\n      <td>0.000000</td>\n      <td>0.000000</td>\n      <td>1.000000</td>\n      <td>0.000000</td>\n      <td>263.000000</td>\n      <td>144.000000</td>\n      <td>90.000000</td>\n      <td>28.040000</td>\n      <td>83.000000</td>\n      <td>87.000000</td>\n      <td>0.000000</td>\n    </tr>\n    <tr>\n      <th>max</th>\n      <td>1.000000</td>\n      <td>70.000000</td>\n      <td>4.000000</td>\n      <td>1.000000</td>\n      <td>70.000000</td>\n      <td>1.000000</td>\n      <td>1.000000</td>\n      <td>1.000000</td>\n      <td>1.000000</td>\n      <td>696.000000</td>\n      <td>295.000000</td>\n      <td>142.500000</td>\n      <td>56.800000</td>\n      <td>143.000000</td>\n      <td>394.000000</td>\n      <td>1.000000</td>\n    </tr>\n  </tbody>\n</table>\n</div>"
     },
     "metadata": {}
    }
   ],
   "execution_count": null
  },
  {
   "cell_type": "code",
   "metadata": {
    "tags": [],
    "cell_id": "00005-52bb3ff0-6113-4836-8587-1a0e5251d000",
    "deepnote_to_be_reexecuted": false,
    "source_hash": "957547ae",
    "execution_start": 1632487508230,
    "execution_millis": 6,
    "deepnote_cell_type": "code"
   },
   "source": "data.info()",
   "outputs": [
    {
     "name": "stdout",
     "text": "<class 'pandas.core.frame.DataFrame'>\nRangeIndex: 4240 entries, 0 to 4239\nData columns (total 16 columns):\n #   Column           Non-Null Count  Dtype  \n---  ------           --------------  -----  \n 0   male             4240 non-null   int64  \n 1   age              4240 non-null   int64  \n 2   education        4135 non-null   float64\n 3   currentSmoker    4240 non-null   int64  \n 4   cigsPerDay       4211 non-null   float64\n 5   BPMeds           4187 non-null   float64\n 6   prevalentStroke  4240 non-null   int64  \n 7   prevalentHyp     4240 non-null   int64  \n 8   diabetes         4240 non-null   int64  \n 9   totChol          4190 non-null   float64\n 10  sysBP            4240 non-null   float64\n 11  diaBP            4240 non-null   float64\n 12  BMI              4221 non-null   float64\n 13  heartRate        4239 non-null   float64\n 14  glucose          3852 non-null   float64\n 15  TenYearCHD       4240 non-null   int64  \ndtypes: float64(9), int64(7)\nmemory usage: 530.1 KB\n",
     "output_type": "stream"
    }
   ],
   "execution_count": null
  },
  {
   "cell_type": "code",
   "metadata": {
    "tags": [],
    "cell_id": "00006-55d1ca25-ec01-450c-be64-cfc9580eef5a",
    "deepnote_to_be_reexecuted": false,
    "source_hash": "bc5b5a5",
    "execution_start": 1632487509885,
    "execution_millis": 6971,
    "deepnote_cell_type": "code"
   },
   "source": "data.hist(bins=100,figsize=(20,15))",
   "outputs": [
    {
     "output_type": "execute_result",
     "execution_count": 12,
     "data": {
      "text/plain": "array([[<AxesSubplot:title={'center':'male'}>,\n        <AxesSubplot:title={'center':'age'}>,\n        <AxesSubplot:title={'center':'education'}>,\n        <AxesSubplot:title={'center':'currentSmoker'}>],\n       [<AxesSubplot:title={'center':'cigsPerDay'}>,\n        <AxesSubplot:title={'center':'BPMeds'}>,\n        <AxesSubplot:title={'center':'prevalentStroke'}>,\n        <AxesSubplot:title={'center':'prevalentHyp'}>],\n       [<AxesSubplot:title={'center':'diabetes'}>,\n        <AxesSubplot:title={'center':'totChol'}>,\n        <AxesSubplot:title={'center':'sysBP'}>,\n        <AxesSubplot:title={'center':'diaBP'}>],\n       [<AxesSubplot:title={'center':'BMI'}>,\n        <AxesSubplot:title={'center':'heartRate'}>,\n        <AxesSubplot:title={'center':'glucose'}>,\n        <AxesSubplot:title={'center':'TenYearCHD'}>]], dtype=object)"
     },
     "metadata": {}
    },
    {
     "data": {
      "text/plain": "<Figure size 1440x1080 with 16 Axes>",
      "image/png": "[encoded data removed]"
     },
     "metadata": {
      "needs_background": "light",
      "image/png": {
       "width": 1162,
       "height": 862
      }
     },
     "output_type": "display_data"
    }
   ],
   "execution_count": null
  },
  {
   "cell_type": "code",
   "metadata": {
    "tags": [],
    "cell_id": "00007-bd210e1c-168e-47d8-8c90-df228e15d0fe",
    "deepnote_to_be_reexecuted": false,
    "source_hash": "3f69c899",
    "execution_start": 1632487571802,
    "execution_millis": 2236,
    "deepnote_cell_type": "code"
   },
   "source": "from scipy import stats\n\nfig, axs = plt.subplots(ncols=7, nrows=2, figsize=(20, 10))\nindex = 0\naxs = axs.flatten()\nfor k,v in data.items():\n    sns.boxplot(y=k, data=data, ax=axs[index])\n    index += 1\nplt.tight_layout(pad=0.4, w_pad=0.5, h_pad=5.0)\nplt.show()",
   "outputs": [
    {
     "output_type": "error",
     "ename": "IndexError",
     "evalue": "index 14 is out of bounds for axis 0 with size 14",
     "traceback": [
      "\u001b[0;31m---------------------------------------------------------------------------\u001b[0m",
      "\u001b[0;31mIndexError\u001b[0m                                Traceback (most recent call last)",
      "\u001b[0;32m/tmp/ipykernel_90/2347188675.py\u001b[0m in \u001b[0;36m<module>\u001b[0;34m\u001b[0m\n\u001b[1;32m      5\u001b[0m \u001b[0maxs\u001b[0m \u001b[0;34m=\u001b[0m \u001b[0maxs\u001b[0m\u001b[0;34m.\u001b[0m\u001b[0mflatten\u001b[0m\u001b[0;34m(\u001b[0m\u001b[0;34m)\u001b[0m\u001b[0;34m\u001b[0m\u001b[0;34m\u001b[0m\u001b[0m\n\u001b[1;32m      6\u001b[0m \u001b[0;32mfor\u001b[0m \u001b[0mk\u001b[0m\u001b[0;34m,\u001b[0m\u001b[0mv\u001b[0m \u001b[0;32min\u001b[0m \u001b[0mdata\u001b[0m\u001b[0;34m.\u001b[0m\u001b[0mitems\u001b[0m\u001b[0;34m(\u001b[0m\u001b[0;34m)\u001b[0m\u001b[0;34m:\u001b[0m\u001b[0;34m\u001b[0m\u001b[0;34m\u001b[0m\u001b[0m\n\u001b[0;32m----> 7\u001b[0;31m     \u001b[0msns\u001b[0m\u001b[0;34m.\u001b[0m\u001b[0mboxplot\u001b[0m\u001b[0;34m(\u001b[0m\u001b[0my\u001b[0m\u001b[0;34m=\u001b[0m\u001b[0mk\u001b[0m\u001b[0;34m,\u001b[0m \u001b[0mdata\u001b[0m\u001b[0;34m=\u001b[0m\u001b[0mdata\u001b[0m\u001b[0;34m,\u001b[0m \u001b[0max\u001b[0m\u001b[0;34m=\u001b[0m\u001b[0maxs\u001b[0m\u001b[0;34m[\u001b[0m\u001b[0mindex\u001b[0m\u001b[0;34m]\u001b[0m\u001b[0;34m)\u001b[0m\u001b[0;34m\u001b[0m\u001b[0;34m\u001b[0m\u001b[0m\n\u001b[0m\u001b[1;32m      8\u001b[0m     \u001b[0mindex\u001b[0m \u001b[0;34m+=\u001b[0m \u001b[0;36m1\u001b[0m\u001b[0;34m\u001b[0m\u001b[0;34m\u001b[0m\u001b[0m\n\u001b[1;32m      9\u001b[0m \u001b[0mplt\u001b[0m\u001b[0;34m.\u001b[0m\u001b[0mtight_layout\u001b[0m\u001b[0;34m(\u001b[0m\u001b[0mpad\u001b[0m\u001b[0;34m=\u001b[0m\u001b[0;36m0.4\u001b[0m\u001b[0;34m,\u001b[0m \u001b[0mw_pad\u001b[0m\u001b[0;34m=\u001b[0m\u001b[0;36m0.5\u001b[0m\u001b[0;34m,\u001b[0m \u001b[0mh_pad\u001b[0m\u001b[0;34m=\u001b[0m\u001b[0;36m5.0\u001b[0m\u001b[0;34m)\u001b[0m\u001b[0;34m\u001b[0m\u001b[0;34m\u001b[0m\u001b[0m\n",
      "\u001b[0;31mIndexError\u001b[0m: index 14 is out of bounds for axis 0 with size 14"
     ]
    },
    {
     "data": {
      "text/plain": "<Figure size 1440x720 with 14 Axes>",
      "image/png": "[encoded data removed]"
     },
     "metadata": {
      "needs_background": "light",
      "image/png": {
       "width": 1167,
       "height": 561
      }
     },
     "output_type": "display_data"
    }
   ],
   "execution_count": null
  },
  {
   "cell_type": "code",
   "metadata": {
    "tags": [],
    "cell_id": "00008-adc31fc9-f780-4815-af8e-6d6642c6c47c",
    "deepnote_to_be_reexecuted": false,
    "source_hash": "54e9713c",
    "execution_start": 1632487576875,
    "execution_millis": 4164,
    "deepnote_cell_type": "code"
   },
   "source": "fig, axs = plt.subplots(ncols=7, nrows=2, figsize=(20, 10))\nindex = 0\naxs = axs.flatten()\nfor k,v in data.items():\n    sns.distplot(v, ax=axs[index])\n    index += 1\nplt.tight_layout(pad=0.4, w_pad=0.5, h_pad=5.0)\nplt.show()",
   "outputs": [
    {
     "name": "stderr",
     "text": "/shared-libs/python3.7/py/lib/python3.7/site-packages/seaborn/distributions.py:2619: FutureWarning: `distplot` is a deprecated function and will be removed in a future version. Please adapt your code to use either `displot` (a figure-level function with similar flexibility) or `histplot` (an axes-level function for histograms).\n  warnings.warn(msg, FutureWarning)\n/shared-libs/python3.7/py/lib/python3.7/site-packages/seaborn/distributions.py:2619: FutureWarning: `distplot` is a deprecated function and will be removed in a future version. Please adapt your code to use either `displot` (a figure-level function with similar flexibility) or `histplot` (an axes-level function for histograms).\n  warnings.warn(msg, FutureWarning)\n/shared-libs/python3.7/py/lib/python3.7/site-packages/seaborn/distributions.py:2619: FutureWarning: `distplot` is a deprecated function and will be removed in a future version. Please adapt your code to use either `displot` (a figure-level function with similar flexibility) or `histplot` (an axes-level function for histograms).\n  warnings.warn(msg, FutureWarning)\n/shared-libs/python3.7/py/lib/python3.7/site-packages/seaborn/distributions.py:2619: FutureWarning: `distplot` is a deprecated function and will be removed in a future version. Please adapt your code to use either `displot` (a figure-level function with similar flexibility) or `histplot` (an axes-level function for histograms).\n  warnings.warn(msg, FutureWarning)\n/shared-libs/python3.7/py/lib/python3.7/site-packages/seaborn/distributions.py:2619: FutureWarning: `distplot` is a deprecated function and will be removed in a future version. Please adapt your code to use either `displot` (a figure-level function with similar flexibility) or `histplot` (an axes-level function for histograms).\n  warnings.warn(msg, FutureWarning)\n/shared-libs/python3.7/py/lib/python3.7/site-packages/seaborn/distributions.py:2619: FutureWarning: `distplot` is a deprecated function and will be removed in a future version. Please adapt your code to use either `displot` (a figure-level function with similar flexibility) or `histplot` (an axes-level function for histograms).\n  warnings.warn(msg, FutureWarning)\n/shared-libs/python3.7/py/lib/python3.7/site-packages/seaborn/distributions.py:2619: FutureWarning: `distplot` is a deprecated function and will be removed in a future version. Please adapt your code to use either `displot` (a figure-level function with similar flexibility) or `histplot` (an axes-level function for histograms).\n  warnings.warn(msg, FutureWarning)\n/shared-libs/python3.7/py/lib/python3.7/site-packages/seaborn/distributions.py:2619: FutureWarning: `distplot` is a deprecated function and will be removed in a future version. Please adapt your code to use either `displot` (a figure-level function with similar flexibility) or `histplot` (an axes-level function for histograms).\n  warnings.warn(msg, FutureWarning)\n/shared-libs/python3.7/py/lib/python3.7/site-packages/seaborn/distributions.py:2619: FutureWarning: `distplot` is a deprecated function and will be removed in a future version. Please adapt your code to use either `displot` (a figure-level function with similar flexibility) or `histplot` (an axes-level function for histograms).\n  warnings.warn(msg, FutureWarning)\n/shared-libs/python3.7/py/lib/python3.7/site-packages/seaborn/distributions.py:2619: FutureWarning: `distplot` is a deprecated function and will be removed in a future version. Please adapt your code to use either `displot` (a figure-level function with similar flexibility) or `histplot` (an axes-level function for histograms).\n  warnings.warn(msg, FutureWarning)\n/shared-libs/python3.7/py/lib/python3.7/site-packages/seaborn/distributions.py:2619: FutureWarning: `distplot` is a deprecated function and will be removed in a future version. Please adapt your code to use either `displot` (a figure-level function with similar flexibility) or `histplot` (an axes-level function for histograms).\n  warnings.warn(msg, FutureWarning)\n/shared-libs/python3.7/py/lib/python3.7/site-packages/seaborn/distributions.py:2619: FutureWarning: `distplot` is a deprecated function and will be removed in a future version. Please adapt your code to use either `displot` (a figure-level function with similar flexibility) or `histplot` (an axes-level function for histograms).\n  warnings.warn(msg, FutureWarning)\n/shared-libs/python3.7/py/lib/python3.7/site-packages/seaborn/distributions.py:2619: FutureWarning: `distplot` is a deprecated function and will be removed in a future version. Please adapt your code to use either `displot` (a figure-level function with similar flexibility) or `histplot` (an axes-level function for histograms).\n  warnings.warn(msg, FutureWarning)\n/shared-libs/python3.7/py/lib/python3.7/site-packages/seaborn/distributions.py:2619: FutureWarning: `distplot` is a deprecated function and will be removed in a future version. Please adapt your code to use either `displot` (a figure-level function with similar flexibility) or `histplot` (an axes-level function for histograms).\n  warnings.warn(msg, FutureWarning)\n",
     "output_type": "stream"
    },
    {
     "output_type": "error",
     "ename": "IndexError",
     "evalue": "index 14 is out of bounds for axis 0 with size 14",
     "traceback": [
      "\u001b[0;31m---------------------------------------------------------------------------\u001b[0m",
      "\u001b[0;31mIndexError\u001b[0m                                Traceback (most recent call last)",
      "\u001b[0;32m/tmp/ipykernel_90/817187202.py\u001b[0m in \u001b[0;36m<module>\u001b[0;34m\u001b[0m\n\u001b[1;32m      3\u001b[0m \u001b[0maxs\u001b[0m \u001b[0;34m=\u001b[0m \u001b[0maxs\u001b[0m\u001b[0;34m.\u001b[0m\u001b[0mflatten\u001b[0m\u001b[0;34m(\u001b[0m\u001b[0;34m)\u001b[0m\u001b[0;34m\u001b[0m\u001b[0;34m\u001b[0m\u001b[0m\n\u001b[1;32m      4\u001b[0m \u001b[0;32mfor\u001b[0m \u001b[0mk\u001b[0m\u001b[0;34m,\u001b[0m\u001b[0mv\u001b[0m \u001b[0;32min\u001b[0m \u001b[0mdata\u001b[0m\u001b[0;34m.\u001b[0m\u001b[0mitems\u001b[0m\u001b[0;34m(\u001b[0m\u001b[0;34m)\u001b[0m\u001b[0;34m:\u001b[0m\u001b[0;34m\u001b[0m\u001b[0;34m\u001b[0m\u001b[0m\n\u001b[0;32m----> 5\u001b[0;31m     \u001b[0msns\u001b[0m\u001b[0;34m.\u001b[0m\u001b[0mdistplot\u001b[0m\u001b[0;34m(\u001b[0m\u001b[0mv\u001b[0m\u001b[0;34m,\u001b[0m \u001b[0max\u001b[0m\u001b[0;34m=\u001b[0m\u001b[0maxs\u001b[0m\u001b[0;34m[\u001b[0m\u001b[0mindex\u001b[0m\u001b[0;34m]\u001b[0m\u001b[0;34m)\u001b[0m\u001b[0;34m\u001b[0m\u001b[0;34m\u001b[0m\u001b[0m\n\u001b[0m\u001b[1;32m      6\u001b[0m     \u001b[0mindex\u001b[0m \u001b[0;34m+=\u001b[0m \u001b[0;36m1\u001b[0m\u001b[0;34m\u001b[0m\u001b[0;34m\u001b[0m\u001b[0m\n\u001b[1;32m      7\u001b[0m \u001b[0mplt\u001b[0m\u001b[0;34m.\u001b[0m\u001b[0mtight_layout\u001b[0m\u001b[0;34m(\u001b[0m\u001b[0mpad\u001b[0m\u001b[0;34m=\u001b[0m\u001b[0;36m0.4\u001b[0m\u001b[0;34m,\u001b[0m \u001b[0mw_pad\u001b[0m\u001b[0;34m=\u001b[0m\u001b[0;36m0.5\u001b[0m\u001b[0;34m,\u001b[0m \u001b[0mh_pad\u001b[0m\u001b[0;34m=\u001b[0m\u001b[0;36m5.0\u001b[0m\u001b[0;34m)\u001b[0m\u001b[0;34m\u001b[0m\u001b[0;34m\u001b[0m\u001b[0m\n",
      "\u001b[0;31mIndexError\u001b[0m: index 14 is out of bounds for axis 0 with size 14"
     ]
    },
    {
     "data": {
      "text/plain": "<Figure size 1440x720 with 14 Axes>",
      "image/png": "[encoded data removed]"
     },
     "metadata": {
      "needs_background": "light",
      "image/png": {
       "width": 1161,
       "height": 589
      }
     },
     "output_type": "display_data"
    }
   ],
   "execution_count": null
  },
  {
   "cell_type": "code",
   "metadata": {
    "tags": [],
    "cell_id": "00009-d4862cb2-055b-46d8-987c-ede2f33e1bad",
    "deepnote_to_be_reexecuted": false,
    "source_hash": "7da70e8d",
    "execution_start": 1632487583372,
    "execution_millis": 2619,
    "deepnote_cell_type": "code"
   },
   "source": "fig, ax = plt.subplots(figsize=(20,20))\nsns.heatmap(data.corr().abs(),  annot=True, ax=ax)\nplt.show()",
   "outputs": [
    {
     "data": {
      "text/plain": "<Figure size 1440x1440 with 2 Axes>",
      "image/png": "[encoded data removed]"
     },
     "metadata": {
      "needs_background": "light",
      "image/png": {
       "width": 1126,
       "height": 1191
      }
     },
     "output_type": "display_data"
    }
   ],
   "execution_count": null
  },
  {
   "cell_type": "markdown",
   "source": "### Dropping unrelevant features",
   "metadata": {
    "tags": [],
    "cell_id": "00010-7050faa0-aeef-4de2-9531-8c524e83fde4",
    "deepnote_cell_type": "markdown"
   }
  },
  {
   "cell_type": "code",
   "metadata": {
    "tags": [],
    "cell_id": "00011-e0ec78ed-9697-4661-b0fa-ef8243dede92",
    "deepnote_to_be_reexecuted": true,
    "source_hash": "43abcae2",
    "execution_start": 1632131005015,
    "execution_millis": 7,
    "deepnote_cell_type": "code"
   },
   "source": "# dropping diaBP, sysBP, glucose, cigsPerDay\n# data = data.drop(['diaBP', 'sysBP', 'glucose', 'cigsPerDay'], axis=1)",
   "execution_count": null,
   "outputs": []
  },
  {
   "cell_type": "markdown",
   "source": "### Treat Outliers",
   "metadata": {
    "tags": [],
    "cell_id": "00012-a50eabfc-37fd-43ab-8ccb-a6ea0ac7b95b",
    "deepnote_cell_type": "markdown"
   }
  },
  {
   "cell_type": "code",
   "metadata": {
    "tags": [],
    "cell_id": "00013-bf41ef87-5191-4e04-b6e4-42df8e1cd69f",
    "deepnote_to_be_reexecuted": false,
    "source_hash": "b623e53d",
    "execution_start": 1632131005023,
    "execution_millis": 9,
    "deepnote_cell_type": "code"
   },
   "source": "",
   "execution_count": null,
   "outputs": []
  },
  {
   "cell_type": "markdown",
   "source": "### Seeing data with corr",
   "metadata": {
    "tags": [],
    "cell_id": "00014-bbe11618-5080-4d64-a2fa-54bd41b8e76f",
    "deepnote_cell_type": "markdown"
   }
  },
  {
   "cell_type": "code",
   "metadata": {
    "tags": [],
    "cell_id": "00015-5f5171ff-b466-4aa8-96db-2cffda8aaf0f",
    "deepnote_to_be_reexecuted": false,
    "source_hash": "b9ae251f",
    "execution_start": 1632487594104,
    "execution_millis": 2331,
    "deepnote_cell_type": "code"
   },
   "source": "data_one = data[data['TenYearCHD']==1]\n\nfig, ax = plt.subplots(figsize=(20,20))\nsns.heatmap(data_one.corr().abs(),  annot=True, ax=ax)\nplt.show()",
   "outputs": [
    {
     "data": {
      "text/plain": "<Figure size 1440x1440 with 2 Axes>",
      "image/png": "[encoded data removed]"
     },
     "metadata": {
      "needs_background": "light",
      "image/png": {
       "width": 1126,
       "height": 1191
      }
     },
     "output_type": "display_data"
    }
   ],
   "execution_count": null
  },
  {
   "cell_type": "markdown",
   "source": "",
   "metadata": {
    "tags": [],
    "cell_id": "00016-dee5a6c8-3695-4357-8252-376e5a9eb7a4",
    "deepnote_cell_type": "markdown"
   }
  },
  {
   "cell_type": "code",
   "metadata": {
    "tags": [],
    "cell_id": "00010-11dda515-c0bf-4df3-8ab5-ca905e055f5d",
    "deepnote_to_be_reexecuted": false,
    "source_hash": "9a53268f",
    "execution_start": 1632487598641,
    "execution_millis": 15,
    "deepnote_cell_type": "code"
   },
   "source": "data[(data['heartRate']==90) & (data['BMI']==22.54)]",
   "outputs": [
    {
     "output_type": "execute_result",
     "execution_count": 21,
     "data": {
      "application/vnd.deepnote.dataframe.v2+json": {
       "row_count": 1,
       "column_count": 16,
       "columns": [
        {
         "name": "male",
         "dtype": "int64",
         "stats": {
          "unique_count": 1,
          "nan_count": 0,
          "min": "0",
          "max": "0",
          "histogram": [
           {
            "bin_start": -0.5,
            "bin_end": -0.4,
            "count": 0
           },
           {
            "bin_start": -0.4,
            "bin_end": -0.3,
            "count": 0
           },
           {
            "bin_start": -0.3,
            "bin_end": -0.19999999999999996,
            "count": 0
           },
           {
            "bin_start": -0.19999999999999996,
            "bin_end": -0.09999999999999998,
            "count": 0
           },
           {
            "bin_start": -0.09999999999999998,
            "bin_end": 0,
            "count": 0
           },
           {
            "bin_start": 0,
            "bin_end": 0.10000000000000009,
            "count": 1
           },
           {
            "bin_start": 0.10000000000000009,
            "bin_end": 0.20000000000000007,
            "count": 0
           },
           {
            "bin_start": 0.20000000000000007,
            "bin_end": 0.30000000000000004,
            "count": 0
           },
           {
            "bin_start": 0.30000000000000004,
            "bin_end": 0.4,
            "count": 0
           },
           {
            "bin_start": 0.4,
            "bin_end": 0.5,
            "count": 0
           }
          ]
         }
        },
        {
         "name": "age",
         "dtype": "int64",
         "stats": {
          "unique_count": 1,
          "nan_count": 0,
          "min": "39",
          "max": "39",
          "histogram": [
           {
            "bin_start": 38.5,
            "bin_end": 38.6,
            "count": 0
           },
           {
            "bin_start": 38.6,
            "bin_end": 38.7,
            "count": 0
           },
           {
            "bin_start": 38.7,
            "bin_end": 38.8,
            "count": 0
           },
           {
            "bin_start": 38.8,
            "bin_end": 38.9,
            "count": 0
           },
           {
            "bin_start": 38.9,
            "bin_end": 39,
            "count": 0
           },
           {
            "bin_start": 39,
            "bin_end": 39.1,
            "count": 1
           },
           {
            "bin_start": 39.1,
            "bin_end": 39.2,
            "count": 0
           },
           {
            "bin_start": 39.2,
            "bin_end": 39.3,
            "count": 0
           },
           {
            "bin_start": 39.3,
            "bin_end": 39.4,
            "count": 0
           },
           {
            "bin_start": 39.4,
            "bin_end": 39.5,
            "count": 0
           }
          ]
         }
        },
        {
         "name": "education",
         "dtype": "float64",
         "stats": {
          "unique_count": 1,
          "nan_count": 0,
          "min": "2.0",
          "max": "2.0",
          "histogram": [
           {
            "bin_start": 1.5,
            "bin_end": 1.6,
            "count": 0
           },
           {
            "bin_start": 1.6,
            "bin_end": 1.7,
            "count": 0
           },
           {
            "bin_start": 1.7,
            "bin_end": 1.8,
            "count": 0
           },
           {
            "bin_start": 1.8,
            "bin_end": 1.9,
            "count": 0
           },
           {
            "bin_start": 1.9,
            "bin_end": 2,
            "count": 0
           },
           {
            "bin_start": 2,
            "bin_end": 2.1,
            "count": 1
           },
           {
            "bin_start": 2.1,
            "bin_end": 2.2,
            "count": 0
           },
           {
            "bin_start": 2.2,
            "bin_end": 2.3,
            "count": 0
           },
           {
            "bin_start": 2.3,
            "bin_end": 2.4,
            "count": 0
           },
           {
            "bin_start": 2.4,
            "bin_end": 2.5,
            "count": 0
           }
          ]
         }
        },
        {
         "name": "currentSmoker",
         "dtype": "int64",
         "stats": {
          "unique_count": 1,
          "nan_count": 0,
          "min": "1",
          "max": "1",
          "histogram": [
           {
            "bin_start": 0.5,
            "bin_end": 0.6,
            "count": 0
           },
           {
            "bin_start": 0.6,
            "bin_end": 0.7,
            "count": 0
           },
           {
            "bin_start": 0.7,
            "bin_end": 0.8,
            "count": 0
           },
           {
            "bin_start": 0.8,
            "bin_end": 0.9,
            "count": 0
           },
           {
            "bin_start": 0.9,
            "bin_end": 1,
            "count": 0
           },
           {
            "bin_start": 1,
            "bin_end": 1.1,
            "count": 1
           },
           {
            "bin_start": 1.1,
            "bin_end": 1.2000000000000002,
            "count": 0
           },
           {
            "bin_start": 1.2000000000000002,
            "bin_end": 1.3,
            "count": 0
           },
           {
            "bin_start": 1.3,
            "bin_end": 1.4,
            "count": 0
           },
           {
            "bin_start": 1.4,
            "bin_end": 1.5,
            "count": 0
           }
          ]
         }
        },
        {
         "name": "cigsPerDay",
         "dtype": "float64",
         "stats": {
          "unique_count": 1,
          "nan_count": 0,
          "min": "20.0",
          "max": "20.0",
          "histogram": [
           {
            "bin_start": 19.5,
            "bin_end": 19.6,
            "count": 0
           },
           {
            "bin_start": 19.6,
            "bin_end": 19.7,
            "count": 0
           },
           {
            "bin_start": 19.7,
            "bin_end": 19.8,
            "count": 0
           },
           {
            "bin_start": 19.8,
            "bin_end": 19.9,
            "count": 0
           },
           {
            "bin_start": 19.9,
            "bin_end": 20,
            "count": 0
           },
           {
            "bin_start": 20,
            "bin_end": 20.1,
            "count": 1
           },
           {
            "bin_start": 20.1,
            "bin_end": 20.2,
            "count": 0
           },
           {
            "bin_start": 20.2,
            "bin_end": 20.3,
            "count": 0
           },
           {
            "bin_start": 20.3,
            "bin_end": 20.4,
            "count": 0
           },
           {
            "bin_start": 20.4,
            "bin_end": 20.5,
            "count": 0
           }
          ]
         }
        },
        {
         "name": "BPMeds",
         "dtype": "float64",
         "stats": {
          "unique_count": 1,
          "nan_count": 0,
          "min": "0.0",
          "max": "0.0",
          "histogram": [
           {
            "bin_start": -0.5,
            "bin_end": -0.4,
            "count": 0
           },
           {
            "bin_start": -0.4,
            "bin_end": -0.3,
            "count": 0
           },
           {
            "bin_start": -0.3,
            "bin_end": -0.19999999999999996,
            "count": 0
           },
           {
            "bin_start": -0.19999999999999996,
            "bin_end": -0.09999999999999998,
            "count": 0
           },
           {
            "bin_start": -0.09999999999999998,
            "bin_end": 0,
            "count": 0
           },
           {
            "bin_start": 0,
            "bin_end": 0.10000000000000009,
            "count": 1
           },
           {
            "bin_start": 0.10000000000000009,
            "bin_end": 0.20000000000000007,
            "count": 0
           },
           {
            "bin_start": 0.20000000000000007,
            "bin_end": 0.30000000000000004,
            "count": 0
           },
           {
            "bin_start": 0.30000000000000004,
            "bin_end": 0.4,
            "count": 0
           },
           {
            "bin_start": 0.4,
            "bin_end": 0.5,
            "count": 0
           }
          ]
         }
        },
        {
         "name": "prevalentStroke",
         "dtype": "int64",
         "stats": {
          "unique_count": 1,
          "nan_count": 0,
          "min": "0",
          "max": "0",
          "histogram": [
           {
            "bin_start": -0.5,
            "bin_end": -0.4,
            "count": 0
           },
           {
            "bin_start": -0.4,
            "bin_end": -0.3,
            "count": 0
           },
           {
            "bin_start": -0.3,
            "bin_end": -0.19999999999999996,
            "count": 0
           },
           {
            "bin_start": -0.19999999999999996,
            "bin_end": -0.09999999999999998,
            "count": 0
           },
           {
            "bin_start": -0.09999999999999998,
            "bin_end": 0,
            "count": 0
           },
           {
            "bin_start": 0,
            "bin_end": 0.10000000000000009,
            "count": 1
           },
           {
            "bin_start": 0.10000000000000009,
            "bin_end": 0.20000000000000007,
            "count": 0
           },
           {
            "bin_start": 0.20000000000000007,
            "bin_end": 0.30000000000000004,
            "count": 0
           },
           {
            "bin_start": 0.30000000000000004,
            "bin_end": 0.4,
            "count": 0
           },
           {
            "bin_start": 0.4,
            "bin_end": 0.5,
            "count": 0
           }
          ]
         }
        },
        {
         "name": "prevalentHyp",
         "dtype": "int64",
         "stats": {
          "unique_count": 1,
          "nan_count": 0,
          "min": "0",
          "max": "0",
          "histogram": [
           {
            "bin_start": -0.5,
            "bin_end": -0.4,
            "count": 0
           },
           {
            "bin_start": -0.4,
            "bin_end": -0.3,
            "count": 0
           },
           {
            "bin_start": -0.3,
            "bin_end": -0.19999999999999996,
            "count": 0
           },
           {
            "bin_start": -0.19999999999999996,
            "bin_end": -0.09999999999999998,
            "count": 0
           },
           {
            "bin_start": -0.09999999999999998,
            "bin_end": 0,
            "count": 0
           },
           {
            "bin_start": 0,
            "bin_end": 0.10000000000000009,
            "count": 1
           },
           {
            "bin_start": 0.10000000000000009,
            "bin_end": 0.20000000000000007,
            "count": 0
           },
           {
            "bin_start": 0.20000000000000007,
            "bin_end": 0.30000000000000004,
            "count": 0
           },
           {
            "bin_start": 0.30000000000000004,
            "bin_end": 0.4,
            "count": 0
           },
           {
            "bin_start": 0.4,
            "bin_end": 0.5,
            "count": 0
           }
          ]
         }
        },
        {
         "name": "diabetes",
         "dtype": "int64",
         "stats": {
          "unique_count": 1,
          "nan_count": 0,
          "min": "0",
          "max": "0",
          "histogram": [
           {
            "bin_start": -0.5,
            "bin_end": -0.4,
            "count": 0
           },
           {
            "bin_start": -0.4,
            "bin_end": -0.3,
            "count": 0
           },
           {
            "bin_start": -0.3,
            "bin_end": -0.19999999999999996,
            "count": 0
           },
           {
            "bin_start": -0.19999999999999996,
            "bin_end": -0.09999999999999998,
            "count": 0
           },
           {
            "bin_start": -0.09999999999999998,
            "bin_end": 0,
            "count": 0
           },
           {
            "bin_start": 0,
            "bin_end": 0.10000000000000009,
            "count": 1
           },
           {
            "bin_start": 0.10000000000000009,
            "bin_end": 0.20000000000000007,
            "count": 0
           },
           {
            "bin_start": 0.20000000000000007,
            "bin_end": 0.30000000000000004,
            "count": 0
           },
           {
            "bin_start": 0.30000000000000004,
            "bin_end": 0.4,
            "count": 0
           },
           {
            "bin_start": 0.4,
            "bin_end": 0.5,
            "count": 0
           }
          ]
         }
        },
        {
         "name": "totChol",
         "dtype": "float64",
         "stats": {
          "unique_count": 1,
          "nan_count": 0,
          "min": "209.0",
          "max": "209.0",
          "histogram": [
           {
            "bin_start": 208.5,
            "bin_end": 208.6,
            "count": 0
           },
           {
            "bin_start": 208.6,
            "bin_end": 208.7,
            "count": 0
           },
           {
            "bin_start": 208.7,
            "bin_end": 208.8,
            "count": 0
           },
           {
            "bin_start": 208.8,
            "bin_end": 208.9,
            "count": 0
           },
           {
            "bin_start": 208.9,
            "bin_end": 209,
            "count": 0
           },
           {
            "bin_start": 209,
            "bin_end": 209.1,
            "count": 1
           },
           {
            "bin_start": 209.1,
            "bin_end": 209.2,
            "count": 0
           },
           {
            "bin_start": 209.2,
            "bin_end": 209.3,
            "count": 0
           },
           {
            "bin_start": 209.3,
            "bin_end": 209.4,
            "count": 0
           },
           {
            "bin_start": 209.4,
            "bin_end": 209.5,
            "count": 0
           }
          ]
         }
        },
        {
         "name": "sysBP",
         "dtype": "float64",
         "stats": {
          "unique_count": 1,
          "nan_count": 0,
          "min": "115.0",
          "max": "115.0",
          "histogram": [
           {
            "bin_start": 114.5,
            "bin_end": 114.6,
            "count": 0
           },
           {
            "bin_start": 114.6,
            "bin_end": 114.7,
            "count": 0
           },
           {
            "bin_start": 114.7,
            "bin_end": 114.8,
            "count": 0
           },
           {
            "bin_start": 114.8,
            "bin_end": 114.9,
            "count": 0
           },
           {
            "bin_start": 114.9,
            "bin_end": 115,
            "count": 0
           },
           {
            "bin_start": 115,
            "bin_end": 115.1,
            "count": 1
           },
           {
            "bin_start": 115.1,
            "bin_end": 115.2,
            "count": 0
           },
           {
            "bin_start": 115.2,
            "bin_end": 115.3,
            "count": 0
           },
           {
            "bin_start": 115.3,
            "bin_end": 115.4,
            "count": 0
           },
           {
            "bin_start": 115.4,
            "bin_end": 115.5,
            "count": 0
           }
          ]
         }
        },
        {
         "name": "diaBP",
         "dtype": "float64",
         "stats": {
          "unique_count": 1,
          "nan_count": 0,
          "min": "75.0",
          "max": "75.0",
          "histogram": [
           {
            "bin_start": 74.5,
            "bin_end": 74.6,
            "count": 0
           },
           {
            "bin_start": 74.6,
            "bin_end": 74.7,
            "count": 0
           },
           {
            "bin_start": 74.7,
            "bin_end": 74.8,
            "count": 0
           },
           {
            "bin_start": 74.8,
            "bin_end": 74.9,
            "count": 0
           },
           {
            "bin_start": 74.9,
            "bin_end": 75,
            "count": 0
           },
           {
            "bin_start": 75,
            "bin_end": 75.1,
            "count": 1
           },
           {
            "bin_start": 75.1,
            "bin_end": 75.2,
            "count": 0
           },
           {
            "bin_start": 75.2,
            "bin_end": 75.3,
            "count": 0
           },
           {
            "bin_start": 75.3,
            "bin_end": 75.4,
            "count": 0
           },
           {
            "bin_start": 75.4,
            "bin_end": 75.5,
            "count": 0
           }
          ]
         }
        },
        {
         "name": "BMI",
         "dtype": "float64",
         "stats": {
          "unique_count": 1,
          "nan_count": 0,
          "min": "22.54",
          "max": "22.54",
          "histogram": [
           {
            "bin_start": 22.04,
            "bin_end": 22.14,
            "count": 0
           },
           {
            "bin_start": 22.14,
            "bin_end": 22.24,
            "count": 0
           },
           {
            "bin_start": 22.24,
            "bin_end": 22.34,
            "count": 0
           },
           {
            "bin_start": 22.34,
            "bin_end": 22.439999999999998,
            "count": 0
           },
           {
            "bin_start": 22.439999999999998,
            "bin_end": 22.54,
            "count": 0
           },
           {
            "bin_start": 22.54,
            "bin_end": 22.64,
            "count": 1
           },
           {
            "bin_start": 22.64,
            "bin_end": 22.74,
            "count": 0
           },
           {
            "bin_start": 22.74,
            "bin_end": 22.84,
            "count": 0
           },
           {
            "bin_start": 22.84,
            "bin_end": 22.939999999999998,
            "count": 0
           },
           {
            "bin_start": 22.939999999999998,
            "bin_end": 23.04,
            "count": 0
           }
          ]
         }
        },
        {
         "name": "heartRate",
         "dtype": "float64",
         "stats": {
          "unique_count": 1,
          "nan_count": 0,
          "min": "90.0",
          "max": "90.0",
          "histogram": [
           {
            "bin_start": 89.5,
            "bin_end": 89.6,
            "count": 0
           },
           {
            "bin_start": 89.6,
            "bin_end": 89.7,
            "count": 0
           },
           {
            "bin_start": 89.7,
            "bin_end": 89.8,
            "count": 0
           },
           {
            "bin_start": 89.8,
            "bin_end": 89.9,
            "count": 0
           },
           {
            "bin_start": 89.9,
            "bin_end": 90,
            "count": 0
           },
           {
            "bin_start": 90,
            "bin_end": 90.1,
            "count": 1
           },
           {
            "bin_start": 90.1,
            "bin_end": 90.2,
            "count": 0
           },
           {
            "bin_start": 90.2,
            "bin_end": 90.3,
            "count": 0
           },
           {
            "bin_start": 90.3,
            "bin_end": 90.4,
            "count": 0
           },
           {
            "bin_start": 90.4,
            "bin_end": 90.5,
            "count": 0
           }
          ]
         }
        },
        {
         "name": "glucose",
         "dtype": "float64",
         "stats": {
          "unique_count": 0,
          "nan_count": 1,
          "min": null,
          "max": null,
          "histogram": [
           {
            "bin_start": 0,
            "bin_end": 0.1,
            "count": 0
           },
           {
            "bin_start": 0.1,
            "bin_end": 0.2,
            "count": 0
           },
           {
            "bin_start": 0.2,
            "bin_end": 0.30000000000000004,
            "count": 0
           },
           {
            "bin_start": 0.30000000000000004,
            "bin_end": 0.4,
            "count": 0
           },
           {
            "bin_start": 0.4,
            "bin_end": 0.5,
            "count": 0
           },
           {
            "bin_start": 0.5,
            "bin_end": 0.6000000000000001,
            "count": 0
           },
           {
            "bin_start": 0.6000000000000001,
            "bin_end": 0.7000000000000001,
            "count": 0
           },
           {
            "bin_start": 0.7000000000000001,
            "bin_end": 0.8,
            "count": 0
           },
           {
            "bin_start": 0.8,
            "bin_end": 0.9,
            "count": 0
           },
           {
            "bin_start": 0.9,
            "bin_end": 1,
            "count": 0
           }
          ]
         }
        },
        {
         "name": "TenYearCHD",
         "dtype": "int64",
         "stats": {
          "unique_count": 1,
          "nan_count": 0,
          "min": "0",
          "max": "0",
          "histogram": [
           {
            "bin_start": -0.5,
            "bin_end": -0.4,
            "count": 0
           },
           {
            "bin_start": -0.4,
            "bin_end": -0.3,
            "count": 0
           },
           {
            "bin_start": -0.3,
            "bin_end": -0.19999999999999996,
            "count": 0
           },
           {
            "bin_start": -0.19999999999999996,
            "bin_end": -0.09999999999999998,
            "count": 0
           },
           {
            "bin_start": -0.09999999999999998,
            "bin_end": 0,
            "count": 0
           },
           {
            "bin_start": 0,
            "bin_end": 0.10000000000000009,
            "count": 1
           },
           {
            "bin_start": 0.10000000000000009,
            "bin_end": 0.20000000000000007,
            "count": 0
           },
           {
            "bin_start": 0.20000000000000007,
            "bin_end": 0.30000000000000004,
            "count": 0
           },
           {
            "bin_start": 0.30000000000000004,
            "bin_end": 0.4,
            "count": 0
           },
           {
            "bin_start": 0.4,
            "bin_end": 0.5,
            "count": 0
           }
          ]
         }
        },
        {
         "name": "_deepnote_index_column",
         "dtype": "int64"
        }
       ],
       "rows_top": [
        {
         "male": 0,
         "age": 39,
         "education": 2,
         "currentSmoker": 1,
         "cigsPerDay": 20,
         "BPMeds": 0,
         "prevalentStroke": 0,
         "prevalentHyp": 0,
         "diabetes": 0,
         "totChol": 209,
         "sysBP": 115,
         "diaBP": 75,
         "BMI": 22.54,
         "heartRate": 90,
         "glucose": "nan",
         "TenYearCHD": 0,
         "_deepnote_index_column": 54
        }
       ],
       "rows_bottom": null
      },
      "text/plain": "    male  age  education  currentSmoker  cigsPerDay  BPMeds  prevalentStroke  \\\n54     0   39        2.0              1        20.0     0.0                0   \n\n    prevalentHyp  diabetes  totChol  sysBP  diaBP    BMI  heartRate  glucose  \\\n54             0         0    209.0  115.0   75.0  22.54       90.0      NaN   \n\n    TenYearCHD  \n54           0  ",
      "text/html": "<div>\n<style scoped>\n    .dataframe tbody tr th:only-of-type {\n        vertical-align: middle;\n    }\n\n    .dataframe tbody tr th {\n        vertical-align: top;\n    }\n\n    .dataframe thead th {\n        text-align: right;\n    }\n</style>\n<table border=\"1\" class=\"dataframe\">\n  <thead>\n    <tr style=\"text-align: right;\">\n      <th></th>\n      <th>male</th>\n      <th>age</th>\n      <th>education</th>\n      <th>currentSmoker</th>\n      <th>cigsPerDay</th>\n      <th>BPMeds</th>\n      <th>prevalentStroke</th>\n      <th>prevalentHyp</th>\n      <th>diabetes</th>\n      <th>totChol</th>\n      <th>sysBP</th>\n      <th>diaBP</th>\n      <th>BMI</th>\n      <th>heartRate</th>\n      <th>glucose</th>\n      <th>TenYearCHD</th>\n    </tr>\n  </thead>\n  <tbody>\n    <tr>\n      <th>54</th>\n      <td>0</td>\n      <td>39</td>\n      <td>2.0</td>\n      <td>1</td>\n      <td>20.0</td>\n      <td>0.0</td>\n      <td>0</td>\n      <td>0</td>\n      <td>0</td>\n      <td>209.0</td>\n      <td>115.0</td>\n      <td>75.0</td>\n      <td>22.54</td>\n      <td>90.0</td>\n      <td>NaN</td>\n      <td>0</td>\n    </tr>\n  </tbody>\n</table>\n</div>"
     },
     "metadata": {}
    }
   ],
   "execution_count": null
  },
  {
   "cell_type": "code",
   "metadata": {
    "tags": [],
    "cell_id": "00010-5b1835c7-25ae-4b6c-93db-a856bd13d1b0",
    "deepnote_to_be_reexecuted": false,
    "source_hash": "454049b5",
    "execution_start": 1632487599766,
    "execution_millis": 745,
    "deepnote_cell_type": "code"
   },
   "source": "from sklearn.impute import SimpleImputer\n\nimp = SimpleImputer(missing_values=np.nan, strategy='mean')\ndata = imp.fit_transform(data)\ndata = pd.DataFrame(data, columns=cols)",
   "outputs": [],
   "execution_count": null
  },
  {
   "cell_type": "code",
   "metadata": {
    "tags": [],
    "cell_id": "00012-8e38ce54-093f-4c78-885f-9451fdedd496",
    "deepnote_to_be_reexecuted": false,
    "source_hash": "2e54a909",
    "execution_start": 1632487600730,
    "execution_millis": 12,
    "deepnote_cell_type": "code"
   },
   "source": "sel_feat = ['diabetes', 'sysBP', 'currentSmoker', 'BPMeds', 'age']",
   "outputs": [],
   "execution_count": null
  },
  {
   "cell_type": "markdown",
   "source": "### Standardization",
   "metadata": {
    "tags": [],
    "cell_id": "00021-cf395725-929d-4bc3-b8f9-19bfaa04fb16",
    "deepnote_cell_type": "markdown"
   }
  },
  {
   "cell_type": "code",
   "metadata": {
    "tags": [],
    "cell_id": "00014-93803600-3b90-4870-9777-21e0d215a46b",
    "deepnote_to_be_reexecuted": false,
    "source_hash": "b0c192f8",
    "execution_start": 1632487601722,
    "execution_millis": 295,
    "deepnote_cell_type": "code"
   },
   "source": "X = data.loc[:,data.columns!='TenYearCHD']\nY = data.loc[:,data.columns=='TenYearCHD']\n\nfrom sklearn.preprocessing import StandardScaler\nsca = StandardScaler()\ncols_x = X.columns\nX = sca.fit_transform(X)\nX = pd.DataFrame(X, columns=cols_x)\n\nfrom sklearn.model_selection import train_test_split\n\nx_train, x_test, y_train, y_test = train_test_split(X, Y, test_size=0.2, random_state=1)\nx_train",
   "outputs": [
    {
     "output_type": "execute_result",
     "execution_count": 24,
     "data": {
      "application/vnd.deepnote.dataframe.v2+json": {
       "row_count": 3392,
       "column_count": 15,
       "columns": [
        {
         "name": "male",
         "dtype": "float64",
         "stats": {
          "unique_count": 2,
          "nan_count": 0,
          "min": "-0.867217455833587",
          "max": "1.15311332039411",
          "histogram": [
           {
            "bin_start": -0.867217455833587,
            "bin_end": -0.6651843782108173,
            "count": 1950
           },
           {
            "bin_start": -0.6651843782108173,
            "bin_end": -0.46315130058804765,
            "count": 0
           },
           {
            "bin_start": -0.46315130058804765,
            "bin_end": -0.261118222965278,
            "count": 0
           },
           {
            "bin_start": -0.261118222965278,
            "bin_end": -0.059085145342508305,
            "count": 0
           },
           {
            "bin_start": -0.059085145342508305,
            "bin_end": 0.14294793228026137,
            "count": 0
           },
           {
            "bin_start": 0.14294793228026137,
            "bin_end": 0.34498100990303104,
            "count": 0
           },
           {
            "bin_start": 0.34498100990303104,
            "bin_end": 0.5470140875258007,
            "count": 0
           },
           {
            "bin_start": 0.5470140875258007,
            "bin_end": 0.7490471651485704,
            "count": 0
           },
           {
            "bin_start": 0.7490471651485704,
            "bin_end": 0.9510802427713401,
            "count": 0
           },
           {
            "bin_start": 0.9510802427713401,
            "bin_end": 1.15311332039411,
            "count": 1442
           }
          ]
         }
        },
        {
         "name": "age",
         "dtype": "float64",
         "stats": {
          "unique_count": 39,
          "nan_count": 0,
          "min": "-2.0509017583003044",
          "max": "2.3821716425226778",
          "histogram": [
           {
            "bin_start": -2.0509017583003044,
            "bin_end": -1.6075944182180062,
            "count": 49
           },
           {
            "bin_start": -1.6075944182180062,
            "bin_end": -1.164287078135708,
            "count": 395
           },
           {
            "bin_start": -1.164287078135708,
            "bin_end": -0.7209797380534098,
            "count": 537
           },
           {
            "bin_start": -0.7209797380534098,
            "bin_end": -0.27767239797111154,
            "count": 533
           },
           {
            "bin_start": -0.27767239797111154,
            "bin_end": 0.16563494211118668,
            "count": 473
           },
           {
            "bin_start": 0.16563494211118668,
            "bin_end": 0.6089422821934849,
            "count": 340
           },
           {
            "bin_start": 0.6089422821934849,
            "bin_end": 1.0522496222757831,
            "count": 411
           },
           {
            "bin_start": 1.0522496222757831,
            "bin_end": 1.4955569623580813,
            "count": 354
           },
           {
            "bin_start": 1.4955569623580813,
            "bin_end": 1.9388643024403796,
            "count": 243
           },
           {
            "bin_start": 1.9388643024403796,
            "bin_end": 2.3821716425226778,
            "count": 57
           }
          ]
         }
        },
        {
         "name": "education",
         "dtype": "float64",
         "stats": {
          "unique_count": 5,
          "nan_count": 0,
          "min": "-0.972670960978334",
          "max": "2.0065841676478966",
          "histogram": [
           {
            "bin_start": -0.972670960978334,
            "bin_end": -0.6747454481157109,
            "count": 1383
           },
           {
            "bin_start": -0.6747454481157109,
            "bin_end": -0.3768199352530879,
            "count": 0
           },
           {
            "bin_start": -0.3768199352530879,
            "bin_end": -0.07889442239046474,
            "count": 0
           },
           {
            "bin_start": -0.07889442239046474,
            "bin_end": 0.2190310904721583,
            "count": 1081
           },
           {
            "bin_start": 0.2190310904721583,
            "bin_end": 0.5169566033347813,
            "count": 0
           },
           {
            "bin_start": 0.5169566033347813,
            "bin_end": 0.8148821161974046,
            "count": 0
           },
           {
            "bin_start": 0.8148821161974046,
            "bin_end": 1.1128076290600273,
            "count": 544
           },
           {
            "bin_start": 1.1128076290600273,
            "bin_end": 1.4107331419226505,
            "count": 0
           },
           {
            "bin_start": 1.4107331419226505,
            "bin_end": 1.7086586547852738,
            "count": 0
           },
           {
            "bin_start": 1.7086586547852738,
            "bin_end": 2.0065841676478966,
            "count": 384
           }
          ]
         }
        },
        {
         "name": "currentSmoker",
         "dtype": "float64",
         "stats": {
          "unique_count": 2,
          "nan_count": 0,
          "min": "-0.988276265368129",
          "max": "1.0118628110809722",
          "histogram": [
           {
            "bin_start": -0.988276265368129,
            "bin_end": -0.7882623577232188,
            "count": 1720
           },
           {
            "bin_start": -0.7882623577232188,
            "bin_end": -0.5882484500783087,
            "count": 0
           },
           {
            "bin_start": -0.5882484500783087,
            "bin_end": -0.3882345424333986,
            "count": 0
           },
           {
            "bin_start": -0.3882345424333986,
            "bin_end": -0.1882206347884885,
            "count": 0
           },
           {
            "bin_start": -0.1882206347884885,
            "bin_end": 0.011793272856421622,
            "count": 0
           },
           {
            "bin_start": 0.011793272856421622,
            "bin_end": 0.21180718050133174,
            "count": 0
           },
           {
            "bin_start": 0.21180718050133174,
            "bin_end": 0.41182108814624185,
            "count": 0
           },
           {
            "bin_start": 0.41182108814624185,
            "bin_end": 0.611834995791152,
            "count": 0
           },
           {
            "bin_start": 0.611834995791152,
            "bin_end": 0.8118489034360621,
            "count": 0
           },
           {
            "bin_start": 0.8118489034360621,
            "bin_end": 1.0118628110809722,
            "count": 1672
           }
          ]
         }
        },
        {
         "name": "cigsPerDay",
         "dtype": "float64",
         "stats": {
          "unique_count": 32,
          "nan_count": 0,
          "min": "-0.7580621924947025",
          "max": "5.134090335763483",
          "histogram": [
           {
            "bin_start": -0.7580621924947025,
            "bin_end": -0.16884693966888398,
            "count": 1983
           },
           {
            "bin_start": -0.16884693966888398,
            "bin_end": 0.42036831315693457,
            "count": 273
           },
           {
            "bin_start": 0.42036831315693457,
            "bin_end": 1.0095835659827532,
            "count": 762
           },
           {
            "bin_start": 1.0095835659827532,
            "bin_end": 1.5987988188085716,
            "count": 50
           },
           {
            "bin_start": 1.5987988188085716,
            "bin_end": 2.18801407163439,
            "count": 175
           },
           {
            "bin_start": 2.18801407163439,
            "bin_end": 2.7772293244602086,
            "count": 82
           },
           {
            "bin_start": 2.7772293244602086,
            "bin_end": 3.3664445772860274,
            "count": 51
           },
           {
            "bin_start": 3.3664445772860274,
            "bin_end": 3.9556598301118457,
            "count": 6
           },
           {
            "bin_start": 3.9556598301118457,
            "bin_end": 4.544875082937664,
            "count": 9
           },
           {
            "bin_start": 4.544875082937664,
            "bin_end": 5.134090335763483,
            "count": 1
           }
          ]
         }
        },
        {
         "name": "BPMeds",
         "dtype": "float64",
         "stats": {
          "unique_count": 3,
          "nan_count": 0,
          "min": "-0.175800003453265",
          "max": "5.760285597021094",
          "histogram": [
           {
            "bin_start": -0.175800003453265,
            "bin_end": 0.41780855659417093,
            "count": 3288
           },
           {
            "bin_start": 0.41780855659417093,
            "bin_end": 1.0114171166416068,
            "count": 0
           },
           {
            "bin_start": 1.0114171166416068,
            "bin_end": 1.6050256766890427,
            "count": 0
           },
           {
            "bin_start": 1.6050256766890427,
            "bin_end": 2.1986342367364786,
            "count": 0
           },
           {
            "bin_start": 2.1986342367364786,
            "bin_end": 2.7922427967839143,
            "count": 0
           },
           {
            "bin_start": 2.7922427967839143,
            "bin_end": 3.3858513568313504,
            "count": 0
           },
           {
            "bin_start": 3.3858513568313504,
            "bin_end": 3.9794599168787865,
            "count": 0
           },
           {
            "bin_start": 3.9794599168787865,
            "bin_end": 4.573068476926222,
            "count": 0
           },
           {
            "bin_start": 4.573068476926222,
            "bin_end": 5.166677036973658,
            "count": 0
           },
           {
            "bin_start": 5.166677036973658,
            "bin_end": 5.760285597021094,
            "count": 104
           }
          ]
         }
        },
        {
         "name": "prevalentStroke",
         "dtype": "float64",
         "stats": {
          "unique_count": 2,
          "nan_count": 0,
          "min": "-0.07701427206704359",
          "max": "12.984606270503546",
          "histogram": [
           {
            "bin_start": -0.07701427206704359,
            "bin_end": 1.2291477821900152,
            "count": 3376
           },
           {
            "bin_start": 1.2291477821900152,
            "bin_end": 2.535309836447074,
            "count": 0
           },
           {
            "bin_start": 2.535309836447074,
            "bin_end": 3.841471890704133,
            "count": 0
           },
           {
            "bin_start": 3.841471890704133,
            "bin_end": 5.147633944961192,
            "count": 0
           },
           {
            "bin_start": 5.147633944961192,
            "bin_end": 6.453795999218251,
            "count": 0
           },
           {
            "bin_start": 6.453795999218251,
            "bin_end": 7.75995805347531,
            "count": 0
           },
           {
            "bin_start": 7.75995805347531,
            "bin_end": 9.06612010773237,
            "count": 0
           },
           {
            "bin_start": 9.06612010773237,
            "bin_end": 10.372282161989428,
            "count": 0
           },
           {
            "bin_start": 10.372282161989428,
            "bin_end": 11.678444216246486,
            "count": 0
           },
           {
            "bin_start": 11.678444216246486,
            "bin_end": 12.984606270503546,
            "count": 16
           }
          ]
         }
        },
        {
         "name": "prevalentHyp",
         "dtype": "float64",
         "stats": {
          "unique_count": 2,
          "nan_count": 0,
          "min": "-0.6712410063003988",
          "max": "1.4897778750311814",
          "histogram": [
           {
            "bin_start": -0.6712410063003988,
            "bin_end": -0.4551391181672408,
            "count": 2349
           },
           {
            "bin_start": -0.4551391181672408,
            "bin_end": -0.23903723003408273,
            "count": 0
           },
           {
            "bin_start": -0.23903723003408273,
            "bin_end": -0.02293534190092461,
            "count": 0
           },
           {
            "bin_start": -0.02293534190092461,
            "bin_end": 0.1931665462322334,
            "count": 0
           },
           {
            "bin_start": 0.1931665462322334,
            "bin_end": 0.4092684343653914,
            "count": 0
           },
           {
            "bin_start": 0.4092684343653914,
            "bin_end": 0.6253703224985496,
            "count": 0
           },
           {
            "bin_start": 0.6253703224985496,
            "bin_end": 0.8414722106317076,
            "count": 0
           },
           {
            "bin_start": 0.8414722106317076,
            "bin_end": 1.0575740987648656,
            "count": 0
           },
           {
            "bin_start": 1.0575740987648656,
            "bin_end": 1.2736759868980236,
            "count": 0
           },
           {
            "bin_start": 1.2736759868980236,
            "bin_end": 1.4897778750311814,
            "count": 1043
           }
          ]
         }
        },
        {
         "name": "diabetes",
         "dtype": "float64",
         "stats": {
          "unique_count": 2,
          "nan_count": 0,
          "min": "-0.1624372586175049",
          "max": "6.156223076595531",
          "histogram": [
           {
            "bin_start": -0.1624372586175049,
            "bin_end": 0.46942877490379864,
            "count": 3307
           },
           {
            "bin_start": 0.46942877490379864,
            "bin_end": 1.1012948084251022,
            "count": 0
           },
           {
            "bin_start": 1.1012948084251022,
            "bin_end": 1.7331608419464057,
            "count": 0
           },
           {
            "bin_start": 1.7331608419464057,
            "bin_end": 2.3650268754677093,
            "count": 0
           },
           {
            "bin_start": 2.3650268754677093,
            "bin_end": 2.996892908989013,
            "count": 0
           },
           {
            "bin_start": 2.996892908989013,
            "bin_end": 3.6287589425103164,
            "count": 0
           },
           {
            "bin_start": 3.6287589425103164,
            "bin_end": 4.26062497603162,
            "count": 0
           },
           {
            "bin_start": 4.26062497603162,
            "bin_end": 4.8924910095529235,
            "count": 0
           },
           {
            "bin_start": 4.8924910095529235,
            "bin_end": 5.524357043074227,
            "count": 0
           },
           {
            "bin_start": 5.524357043074227,
            "bin_end": 6.156223076595531,
            "count": 85
           }
          ]
         }
        },
        {
         "name": "totChol",
         "dtype": "float64",
         "stats": {
          "unique_count": 244,
          "nan_count": 0,
          "min": "-2.6555377099360933",
          "max": "10.362741581558565",
          "histogram": [
           {
            "bin_start": -2.6555377099360933,
            "bin_end": -1.3537097807866276,
            "count": 256
           },
           {
            "bin_start": -1.3537097807866276,
            "bin_end": -0.05188185163716197,
            "count": 1450
           },
           {
            "bin_start": -0.05188185163716197,
            "bin_end": 1.2499460775123037,
            "count": 1357
           },
           {
            "bin_start": 1.2499460775123037,
            "bin_end": 2.5517740066617693,
            "count": 285
           },
           {
            "bin_start": 2.5517740066617693,
            "bin_end": 3.8536019358112354,
            "count": 36
           },
           {
            "bin_start": 3.8536019358112354,
            "bin_end": 5.1554298649607,
            "count": 6
           },
           {
            "bin_start": 5.1554298649607,
            "bin_end": 6.457257794110166,
            "count": 0
           },
           {
            "bin_start": 6.457257794110166,
            "bin_end": 7.759085723259632,
            "count": 0
           },
           {
            "bin_start": 7.759085723259632,
            "bin_end": 9.060913652409099,
            "count": 1
           },
           {
            "bin_start": 9.060913652409099,
            "bin_end": 10.362741581558565,
            "count": 1
           }
          ]
         }
        },
        {
         "name": "sysBP",
         "dtype": "float64",
         "stats": {
          "unique_count": 225,
          "nan_count": 0,
          "min": "-2.2175689569347066",
          "max": "5.249283713232685",
          "histogram": [
           {
            "bin_start": -2.2175689569347066,
            "bin_end": -1.4708836899179674,
            "count": 62
           },
           {
            "bin_start": -1.4708836899179674,
            "bin_end": -0.7241984229012284,
            "count": 777
           },
           {
            "bin_start": -0.7241984229012284,
            "bin_end": 0.022486844115510607,
            "count": 1187
           },
           {
            "bin_start": 0.022486844115510607,
            "bin_end": 0.7691721111322498,
            "count": 739
           },
           {
            "bin_start": 0.7691721111322498,
            "bin_end": 1.515857378148989,
            "count": 344
           },
           {
            "bin_start": 1.515857378148989,
            "bin_end": 2.262542645165728,
            "count": 173
           },
           {
            "bin_start": 2.262542645165728,
            "bin_end": 3.0092279121824674,
            "count": 73
           },
           {
            "bin_start": 3.0092279121824674,
            "bin_end": 3.755913179199206,
            "count": 29
           },
           {
            "bin_start": 3.755913179199206,
            "bin_end": 4.502598446215945,
            "count": 4
           },
           {
            "bin_start": 4.502598446215945,
            "bin_end": 5.249283713232685,
            "count": 4
           }
          ]
         }
        },
        {
         "name": "diaBP",
         "dtype": "float64",
         "stats": {
          "unique_count": 141,
          "nan_count": 0,
          "min": "-2.762430717068248",
          "max": "4.794885307301447",
          "histogram": [
           {
            "bin_start": -2.762430717068248,
            "bin_end": -2.0066991146312785,
            "count": 21
           },
           {
            "bin_start": -2.0066991146312785,
            "bin_end": -1.250967512194309,
            "count": 285
           },
           {
            "bin_start": -1.250967512194309,
            "bin_end": -0.49523590975733933,
            "count": 794
           },
           {
            "bin_start": -0.49523590975733933,
            "bin_end": 0.26049569267963024,
            "count": 1165
           },
           {
            "bin_start": 0.26049569267963024,
            "bin_end": 1.0162272951165998,
            "count": 668
           },
           {
            "bin_start": 1.0162272951165998,
            "bin_end": 1.7719588975535694,
            "count": 290
           },
           {
            "bin_start": 1.7719588975535694,
            "bin_end": 2.527690499990539,
            "count": 116
           },
           {
            "bin_start": 2.527690499990539,
            "bin_end": 3.2834221024275085,
            "count": 34
           },
           {
            "bin_start": 3.2834221024275085,
            "bin_end": 4.0391537048644786,
            "count": 13
           },
           {
            "bin_start": 4.0391537048644786,
            "bin_end": 4.794885307301447,
            "count": 6
           }
          ]
         }
        },
        {
         "name": "BMI",
         "dtype": "float64",
         "stats": {
          "unique_count": 1246,
          "nan_count": 0,
          "min": "-2.5209533425673545",
          "max": "6.259927856408026",
          "histogram": [
           {
            "bin_start": -2.5209533425673545,
            "bin_end": -1.6428652226698166,
            "count": 89
           },
           {
            "bin_start": -1.6428652226698166,
            "bin_end": -0.7647771027722787,
            "count": 635
           },
           {
            "bin_start": -0.7647771027722787,
            "bin_end": 0.11331101712525893,
            "count": 1303
           },
           {
            "bin_start": 0.11331101712525893,
            "bin_end": 0.991399137022797,
            "count": 919
           },
           {
            "bin_start": 0.991399137022797,
            "bin_end": 1.8694872569203351,
            "count": 307
           },
           {
            "bin_start": 1.8694872569203351,
            "bin_end": 2.7475753768178723,
            "count": 82
           },
           {
            "bin_start": 2.7475753768178723,
            "bin_end": 3.6256634967154104,
            "count": 42
           },
           {
            "bin_start": 3.6256634967154104,
            "bin_end": 4.5037516166129485,
            "count": 10
           },
           {
            "bin_start": 4.5037516166129485,
            "bin_end": 5.381839736510487,
            "count": 4
           },
           {
            "bin_start": 5.381839736510487,
            "bin_end": 6.259927856408026,
            "count": 1
           }
          ]
         }
        },
        {
         "name": "heartRate",
         "dtype": "float64",
         "stats": {
          "unique_count": 72,
          "nan_count": 0,
          "min": "-2.6516074396688945",
          "max": "5.5829448949512095",
          "histogram": [
           {
            "bin_start": -2.6516074396688945,
            "bin_end": -1.828152206206884,
            "count": 47
           },
           {
            "bin_start": -1.828152206206884,
            "bin_end": -1.0046969727448736,
            "count": 421
           },
           {
            "bin_start": -1.0046969727448736,
            "bin_end": -0.18124173928286336,
            "count": 1007
           },
           {
            "bin_start": -0.18124173928286336,
            "bin_end": 0.6422134941791473,
            "count": 1098
           },
           {
            "bin_start": 0.6422134941791473,
            "bin_end": 1.465668727641158,
            "count": 512
           },
           {
            "bin_start": 1.465668727641158,
            "bin_end": 2.2891239611031677,
            "count": 231
           },
           {
            "bin_start": 2.2891239611031677,
            "bin_end": 3.1125791945651784,
            "count": 60
           },
           {
            "bin_start": 3.1125791945651784,
            "bin_end": 3.936034428027189,
            "count": 11
           },
           {
            "bin_start": 3.936034428027189,
            "bin_end": 4.7594896614892,
            "count": 3
           },
           {
            "bin_start": 4.7594896614892,
            "bin_end": 5.5829448949512095,
            "count": 2
           }
          ]
         }
        },
        {
         "name": "glucose",
         "dtype": "float64",
         "stats": {
          "unique_count": 125,
          "nan_count": 0,
          "min": "-1.8381686881688306",
          "max": "13.668386015603176",
          "histogram": [
           {
            "bin_start": -1.8381686881688306,
            "bin_end": -0.28751321779162997,
            "count": 1264
           },
           {
            "bin_start": -0.28751321779162997,
            "bin_end": 1.2631422525855707,
            "count": 2000
           },
           {
            "bin_start": 1.2631422525855707,
            "bin_end": 2.8137977229627706,
            "count": 92
           },
           {
            "bin_start": 2.8137977229627706,
            "bin_end": 4.364453193339972,
            "count": 11
           },
           {
            "bin_start": 4.364453193339972,
            "bin_end": 5.915108663717173,
            "count": 9
           },
           {
            "bin_start": 5.915108663717173,
            "bin_end": 7.465764134094372,
            "count": 3
           },
           {
            "bin_start": 7.465764134094372,
            "bin_end": 9.016419604471574,
            "count": 3
           },
           {
            "bin_start": 9.016419604471574,
            "bin_end": 10.567075074848775,
            "count": 4
           },
           {
            "bin_start": 10.567075074848775,
            "bin_end": 12.117730545225976,
            "count": 3
           },
           {
            "bin_start": 12.117730545225976,
            "bin_end": 13.668386015603176,
            "count": 3
           }
          ]
         }
        },
        {
         "name": "_deepnote_index_column",
         "dtype": "int64"
        }
       ],
       "rows_top": [
        {
         "male": 1.15311332039411,
         "age": -0.18434453690115418,
         "education": -0.972670960978334,
         "currentSmoker": 1.0118628110809722,
         "cigsPerDay": -0.6738885849481571,
         "BPMeds": -0.175800003453265,
         "prevalentStroke": -0.07701427206704359,
         "prevalentHyp": -0.6712410063003988,
         "diabetes": -0.1624372586175049,
         "totChol": 0.5031435739620906,
         "sysBP": -0.10687808056520069,
         "diaBP": 1.0162272951165994,
         "BMI": -0.5210548266283617,
         "heartRate": -0.6553523282458389,
         "glucose": -6.224898192899329e-16,
         "_deepnote_index_column": 2161
        },
        {
         "male": -0.867217455833587,
         "age": 0.748934073798421,
         "education": 0.020414081897076167,
         "currentSmoker": 1.0118628110809722,
         "cigsPerDay": 0.9254099584362077,
         "BPMeds": -0.175800003453265,
         "prevalentStroke": -0.07701427206704359,
         "prevalentHyp": -0.6712410063003988,
         "diabetes": -0.1624372586175049,
         "totChol": 0.2098374547429736,
         "sysBP": -0.1976604838499106,
         "diaBP": -1.5868482243885178,
         "BMI": -0.06407555885851836,
         "heartRate": 1.3409027831772167,
         "glucose": 0.43963030786547547,
         "_deepnote_index_column": 133
        },
        {
         "male": -0.867217455833587,
         "age": 0.16563494211118654,
         "education": 1.0134991247724865,
         "currentSmoker": -0.988276265368129,
         "cigsPerDay": -0.7580621924947025,
         "BPMeds": -0.175800003453265,
         "prevalentStroke": -0.07701427206704359,
         "prevalentHyp": 1.4897778750311814,
         "diabetes": -0.1624372586175049,
         "totChol": -0.8731389854506894,
         "sysBP": 0.46051193996423634,
         "diaBP": -0.24332537561168305,
         "BMI": -0.47683102652160275,
         "heartRate": 0.010066042228512968,
         "glucose": 0.7900609226399841,
         "_deepnote_index_column": 3124
        },
        {
         "male": -0.867217455833587,
         "age": 1.91553233717289,
         "education": -0.972670960978334,
         "currentSmoker": 1.0118628110809722,
         "cigsPerDay": -0.6738885849481571,
         "BPMeds": 5.760285597021094,
         "prevalentStroke": -0.07701427206704359,
         "prevalentHyp": 1.4897778750311814,
         "diabetes": -0.1624372586175049,
         "totChol": 0.5482675923034933,
         "sysBP": 0.9825107588513183,
         "diaBP": 1.1841676512137038,
         "BMI": 1.6704801564399203,
         "heartRate": -0.4889977356272509,
         "glucose": -0.04221178744947389,
         "_deepnote_index_column": 2473
        },
        {
         "male": 1.15311332039411,
         "age": -1.1176231476007294,
         "education": 2.0065841676478966,
         "currentSmoker": 1.0118628110809722,
         "cigsPerDay": 2.608882109367118,
         "BPMeds": -0.175800003453265,
         "prevalentStroke": -0.07701427206704359,
         "prevalentHyp": -0.6712410063003988,
         "diabetes": -0.1624372586175049,
         "totChol": 2.195294261764689,
         "sysBP": -0.5607900969887503,
         "diaBP": -0.49523590975733955,
         "BMI": -0.7716563605666629,
         "heartRate": 0.5091298200842769,
         "glucose": 0.43963030786547547,
         "_deepnote_index_column": 3879
        },
        {
         "male": 1.15311332039411,
         "age": -1.700922279287964,
         "education": 1.0134991247724865,
         "currentSmoker": 1.0118628110809722,
         "cigsPerDay": 2.608882109367118,
         "BPMeds": -0.175800003453265,
         "prevalentStroke": -0.07701427206704359,
         "prevalentHyp": -0.6712410063003988,
         "diabetes": -0.1624372586175049,
         "totChol": -1.3920651963768196,
         "sysBP": -0.92391971012759,
         "diaBP": -1.712803491461346,
         "BMI": -1.172127439311203,
         "heartRate": -0.23946584669936896,
         "glucose": -0.5678577096112368,
         "_deepnote_index_column": 781
        },
        {
         "male": -0.867217455833587,
         "age": -0.3010043632386011,
         "education": 1.0134991247724865,
         "currentSmoker": -0.988276265368129,
         "cigsPerDay": -0.7580621924947025,
         "BPMeds": -0.175800003453265,
         "prevalentStroke": -0.07701427206704359,
         "prevalentHyp": -0.6712410063003988,
         "diabetes": -0.1624372586175049,
         "totChol": 1.2928138949366366,
         "sysBP": -1.0600933150546548,
         "diaBP": -0.8731017109758243,
         "BMI": 0.6852721651726768,
         "heartRate": 0.5091298200842769,
         "glucose": -0.2174270948367282,
         "_deepnote_index_column": 703
        },
        {
         "male": 1.15311332039411,
         "age": 0.16563494211118654,
         "education": -0.972670960978334,
         "currentSmoker": -0.988276265368129,
         "cigsPerDay": -0.7580621924947025,
         "BPMeds": -0.175800003453265,
         "prevalentStroke": -0.07701427206704359,
         "prevalentHyp": -0.6712410063003988,
         "diabetes": -0.1624372586175049,
         "totChol": 0.0067793722066617984,
         "sysBP": 0.12007792764657411,
         "diaBP": 0.3864509597524582,
         "BMI": -0.22868637036700992,
         "heartRate": -0.9048842171737208,
         "glucose": -0.8306806706921183,
         "_deepnote_index_column": 2828
        },
        {
         "male": -0.867217455833587,
         "age": 1.798872510835443,
         "education": 0.020414081897076167,
         "currentSmoker": -0.988276265368129,
         "cigsPerDay": -0.7580621924947025,
         "BPMeds": -0.175800003453265,
         "prevalentStroke": -0.07701427206704359,
         "prevalentHyp": 1.4897778750311814,
         "diabetes": -0.1624372586175049,
         "totChol": 0.43545754644998674,
         "sysBP": 0.7555547506395436,
         "diaBP": 1.1001974731651516,
         "BMI": 0.9702699880829018,
         "heartRate": 1.1745481905586286,
         "glucose": -0.08601561429628747,
         "_deepnote_index_column": 394
        },
        {
         "male": 1.15311332039411,
         "age": -1.2342829739381762,
         "education": -0.972670960978334,
         "currentSmoker": 1.0118628110809722,
         "cigsPerDay": 0.9254099584362077,
         "BPMeds": -0.175800003453265,
         "prevalentStroke": -0.07701427206704359,
         "prevalentHyp": 1.4897778750311814,
         "diabetes": -0.1624372586175049,
         "totChol": -0.3316507653538579,
         "sysBP": 0.41512073832188134,
         "diaBP": 0.6803465829223908,
         "BMI": 0.3093698642652246,
         "heartRate": -1.0712388097923087,
         "glucose": -0.3926424022239825,
         "_deepnote_index_column": 1034
        },
        {
         "male": -0.867217455833587,
         "age": -0.06768471056370727,
         "education": 1.0134991247724865,
         "currentSmoker": -0.988276265368129,
         "cigsPerDay": -0.7580621924947025,
         "BPMeds": 5.760285597021094,
         "prevalentStroke": -0.07701427206704359,
         "prevalentHyp": 1.4897778750311814,
         "diabetes": -0.1624372586175049,
         "totChol": 1.4281859499608445,
         "sysBP": -0.061486878922845725,
         "diaBP": 0.42843604877673425,
         "BMI": 0.2577754308073397,
         "heartRate": -0.4889977356272509,
         "glucose": -0.3926424022239825,
         "_deepnote_index_column": 541
        },
        {
         "male": -0.867217455833587,
         "age": 1.3322332054856556,
         "education": 0,
         "currentSmoker": -0.988276265368129,
         "cigsPerDay": -0.7580621924947025,
         "BPMeds": -0.175800003453265,
         "prevalentStroke": -0.07701427206704359,
         "prevalentHyp": -0.6712410063003988,
         "diabetes": -0.1624372586175049,
         "totChol": 0.6385156289862985,
         "sysBP": -0.4246164920616854,
         "diaBP": -0.3272955536602352,
         "BMI": 0.06613896367805024,
         "heartRate": 0.4259525237749829,
         "glucose": 1.4033144984953743,
         "_deepnote_index_column": 1375
        },
        {
         "male": -0.867217455833587,
         "age": -0.7676436685883887,
         "education": -0.972670960978334,
         "currentSmoker": 1.0118628110809722,
         "cigsPerDay": 0.08367388297075257,
         "BPMeds": -0.175800003453265,
         "prevalentStroke": -0.07701427206704359,
         "prevalentHyp": -0.6712410063003988,
         "diabetes": -0.1624372586175049,
         "totChol": 0.7287636656691038,
         "sysBP": 0.30164273421599397,
         "diaBP": 1.1001974731651516,
         "BMI": -0.34907338176874336,
         "heartRate": 0.09324333853780695,
         "glucose": -0.48025005591760966,
         "_deepnote_index_column": 3076
        },
        {
         "male": 1.15311332039411,
         "age": -0.18434453690115418,
         "education": 2.0065841676478966,
         "currentSmoker": 1.0118628110809722,
         "cigsPerDay": 0.9254099584362077,
         "BPMeds": -0.175800003453265,
         "prevalentStroke": -0.07701427206704359,
         "prevalentHyp": 1.4897778750311814,
         "diabetes": -0.1624372586175049,
         "totChol": 0.5031435739620906,
         "sysBP": 0.12007792764657411,
         "diaBP": 0.5963764048738386,
         "BMI": -1.2482906506061773,
         "heartRate": 2.1726757462701562,
         "glucose": -0.04221178744947389,
         "_deepnote_index_column": 2469
        },
        {
         "male": -0.867217455833587,
         "age": -0.06768471056370727,
         "education": 0.020414081897076167,
         "currentSmoker": 1.0118628110809722,
         "cigsPerDay": 0.9254099584362077,
         "BPMeds": -0.175800003453265,
         "prevalentStroke": -0.07701427206704359,
         "prevalentHyp": -0.6712410063003988,
         "diabetes": -0.1624372586175049,
         "totChol": 0.05190339054806442,
         "sysBP": -0.4246164920616854,
         "diaBP": -0.9150868000001003,
         "BMI": -0.6021317934907529,
         "heartRate": -1.1544161061016027,
         "glucose": -6.224898192899329e-16,
         "_deepnote_index_column": 3007
        },
        {
         "male": 1.15311332039411,
         "age": 1.2155733791482086,
         "education": 2.0065841676478966,
         "currentSmoker": 1.0118628110809722,
         "cigsPerDay": -0.505541369855066,
         "BPMeds": -0.175800003453265,
         "prevalentStroke": -0.07701427206704359,
         "prevalentHyp": 1.4897778750311814,
         "diabetes": -0.1624372586175049,
         "totChol": 0.6836396473277012,
         "sysBP": 1.6406831826654653,
         "diaBP": 2.1078396097477774,
         "BMI": 0.21355163070058072,
         "heartRate": 2.67173952412592,
         "glucose": 0.04539586624415327,
         "_deepnote_index_column": 630
        },
        {
         "male": 1.15311332039411,
         "age": 0.16563494211118654,
         "education": 2.0065841676478966,
         "currentSmoker": 1.0118628110809722,
         "cigsPerDay": 0.5045419207034801,
         "BPMeds": -0.175800003453265,
         "prevalentStroke": -0.07701427206704359,
         "prevalentHyp": -0.6712410063003988,
         "diabetes": -0.1624372586175049,
         "totChol": 0.02934138137736311,
         "sysBP": -0.3338340887769755,
         "diaBP": -0.24332537561168305,
         "BMI": -1.582426029190579,
         "heartRate": -1.3207706987201906,
         "glucose": -0.6992691901516775,
         "_deepnote_index_column": 254
        },
        {
         "male": -0.867217455833587,
         "age": 0.3989545947860803,
         "education": -0.972670960978334,
         "currentSmoker": 1.0118628110809722,
         "cigsPerDay": -0.337194154761975,
         "BPMeds": -0.175800003453265,
         "prevalentStroke": -0.07701427206704359,
         "prevalentHyp": -0.6712410063003988,
         "diabetes": -0.1624372586175049,
         "totChol": 0.23239946391367491,
         "sysBP": 0.30164273421599397,
         "diaBP": 0.42843604877673425,
         "BMI": -0.5136841932772349,
         "heartRate": -1.3207706987201906,
         "glucose": -1.268718939160254,
         "_deepnote_index_column": 929
        },
        {
         "male": -0.867217455833587,
         "age": -1.584262452950517,
         "education": 1.0134991247724865,
         "currentSmoker": 1.0118628110809722,
         "cigsPerDay": -0.337194154761975,
         "BPMeds": -0.175800003453265,
         "prevalentStroke": -0.07701427206704359,
         "prevalentHyp": -0.6712410063003988,
         "diabetes": -0.1624372586175049,
         "totChol": -0.8280149671092868,
         "sysBP": -0.4927032945252179,
         "diaBP": -0.8731017109758243,
         "BMI": -0.666010615867183,
         "heartRate": -0.07311125408078101,
         "glucose": -0.30503474853035534,
         "_deepnote_index_column": 1637
        },
        {
         "male": 1.15311332039411,
         "age": -0.41766418957604795,
         "education": 2.0065841676478966,
         "currentSmoker": 1.0118628110809722,
         "cigsPerDay": 0.9254099584362077,
         "BPMeds": -0.175800003453265,
         "prevalentStroke": -0.07701427206704359,
         "prevalentHyp": -0.6712410063003988,
         "diabetes": -0.1624372586175049,
         "totChol": 0.5031435739620906,
         "sysBP": -1.4232229281934945,
         "diaBP": -0.9990569780486526,
         "BMI": -1.4006170731961245,
         "heartRate": 0.3427752274656889,
         "glucose": -0.3926424022239825,
         "_deepnote_index_column": 2326
        },
        {
         "male": 1.15311332039411,
         "age": -0.6509838422509417,
         "education": 0,
         "currentSmoker": 1.0118628110809722,
         "cigsPerDay": -0.4213677623085205,
         "BPMeds": -0.175800003453265,
         "prevalentStroke": -0.07701427206704359,
         "prevalentHyp": -0.6712410063003988,
         "diabetes": -0.1624372586175049,
         "totChol": -0.918263003792092,
         "sysBP": -1.1508757183393648,
         "diaBP": -0.8311166219515482,
         "BMI": -0.35398713733616094,
         "heartRate": -1.3207706987201906,
         "glucose": -0.48025005591760966,
         "_deepnote_index_column": 1179
        },
        {
         "male": -0.867217455833587,
         "age": -0.06768471056370727,
         "education": 1.0134991247724865,
         "currentSmoker": -0.988276265368129,
         "cigsPerDay": -0.7580621924947025,
         "BPMeds": -0.175800003453265,
         "prevalentStroke": -0.07701427206704359,
         "prevalentHyp": -0.6712410063003988,
         "diabetes": -0.1624372586175049,
         "totChol": 0.02934138137736311,
         "sysBP": -1.6047877347629145,
         "diaBP": -1.3349376902428611,
         "BMI": -0.6463555935975118,
         "heartRate": -0.07311125408078101,
         "glucose": -0.2174270948367282,
         "_deepnote_index_column": 1964
        },
        {
         "male": -0.867217455833587,
         "age": 0.5156144211235272,
         "education": -0.972670960978334,
         "currentSmoker": 1.0118628110809722,
         "cigsPerDay": 0.9254099584362077,
         "BPMeds": -0.175800003453265,
         "prevalentStroke": -0.07701427206704359,
         "prevalentHyp": -0.6712410063003988,
         "diabetes": -0.1624372586175049,
         "totChol": -0.12859268281754607,
         "sysBP": -0.5607900969887503,
         "diaBP": -0.3272955536602352,
         "BMI": 0.41501560896470446,
         "heartRate": 0.7586617090121588,
         "glucose": -6.224898192899329e-16,
         "_deepnote_index_column": 2585
        },
        {
         "male": 1.15311332039411,
         "age": -0.6509838422509417,
         "education": 0.020414081897076167,
         "currentSmoker": -0.988276265368129,
         "cigsPerDay": -0.7580621924947025,
         "BPMeds": -0.175800003453265,
         "prevalentStroke": -0.07701427206704359,
         "prevalentHyp": -0.6712410063003988,
         "diabetes": -0.1624372586175049,
         "totChol": 0.164713436401571,
         "sysBP": -0.1976604838499106,
         "diaBP": -0.49523590975733955,
         "BMI": 0.036656430273543955,
         "heartRate": -0.07311125408078101,
         "glucose": 0.3520226541718483,
         "_deepnote_index_column": 126
        },
        {
         "male": 1.15311332039411,
         "age": 0.16563494211118654,
         "education": -0.972670960978334,
         "currentSmoker": -0.988276265368129,
         "cigsPerDay": -0.7580621924947025,
         "BPMeds": 2.0594934093101506e-17,
         "prevalentStroke": -0.07701427206704359,
         "prevalentHyp": -0.6712410063003988,
         "diabetes": -0.1624372586175049,
         "totChol": -1.5951232789131313,
         "sysBP": -0.7877461052005251,
         "diaBP": -0.03339993049030264,
         "BMI": 0.2184653862679983,
         "heartRate": -0.9880615134830147,
         "glucose": -0.655465363304864,
         "_deepnote_index_column": 1913
        },
        {
         "male": 1.15311332039411,
         "age": 0.28229476844863344,
         "education": 0,
         "currentSmoker": -0.988276265368129,
         "cigsPerDay": -0.7580621924947025,
         "BPMeds": -0.175800003453265,
         "prevalentStroke": -0.07701427206704359,
         "prevalentHyp": -0.6712410063003988,
         "diabetes": -0.1624372586175049,
         "totChol": 2.330666316788897,
         "sysBP": -0.83313730684288,
         "diaBP": 0.008585158533973439,
         "BMI": 1.2822934666139238,
         "heartRate": 0.17642063484710094,
         "glucose": -0.08601561429628747,
         "_deepnote_index_column": 2911
        },
        {
         "male": 1.15311332039411,
         "age": 0.16563494211118654,
         "education": 2.0065841676478966,
         "currentSmoker": 1.0118628110809722,
         "cigsPerDay": 0.08367388297075257,
         "BPMeds": -0.175800003453265,
         "prevalentStroke": -0.07701427206704359,
         "prevalentHyp": -0.6712410063003988,
         "diabetes": -0.1624372586175049,
         "totChol": -1.1664451046698066,
         "sysBP": -0.3338340887769755,
         "diaBP": 0.17652551463107777,
         "BMI": 0.891649899004219,
         "heartRate": -1.6534798839573666,
         "glucose": -0.4364462290707961,
         "_deepnote_index_column": 1391
        },
        {
         "male": 1.15311332039411,
         "age": -0.6509838422509417,
         "education": -0.972670960978334,
         "currentSmoker": -0.988276265368129,
         "cigsPerDay": -0.7580621924947025,
         "BPMeds": -0.175800003453265,
         "prevalentStroke": -0.07701427206704359,
         "prevalentHyp": -0.6712410063003988,
         "diabetes": -0.1624372586175049,
         "totChol": -0.06090665530544214,
         "sysBP": 0.12007792764657411,
         "diaBP": 0.42843604877673425,
         "BMI": -0.0370499032377213,
         "heartRate": -1.9861890691945425,
         "glucose": 0.04539586624415327,
         "_deepnote_index_column": 2998
        },
        {
         "male": -0.867217455833587,
         "age": -0.18434453690115418,
         "education": 0.020414081897076167,
         "currentSmoker": 1.0118628110809722,
         "cigsPerDay": 0.9254099584362077,
         "BPMeds": -0.175800003453265,
         "prevalentStroke": -0.07701427206704359,
         "prevalentHyp": 1.4897778750311814,
         "diabetes": -0.1624372586175049,
         "totChol": 0,
         "sysBP": 0.959815158030141,
         "diaBP": 1.0162272951165994,
         "BMI": 0.1349315416218979,
         "heartRate": 2.0063211536515686,
         "glucose": -6.224898192899329e-16,
         "_deepnote_index_column": 1448
        },
        {
         "male": -0.867217455833587,
         "age": 0.28229476844863344,
         "education": -0.972670960978334,
         "currentSmoker": 1.0118628110809722,
         "cigsPerDay": -0.505541369855066,
         "BPMeds": -0.175800003453265,
         "prevalentStroke": -0.07701427206704359,
         "prevalentHyp": 1.4897778750311814,
         "diabetes": -0.1624372586175049,
         "totChol": -0.6023948754022737,
         "sysBP": 2.389638009764322,
         "diaBP": 2.6116606780390907,
         "BMI": 0.2970854753466811,
         "heartRate": -0.4889977356272509,
         "glucose": 0.04539586624415327,
         "_deepnote_index_column": 588
        },
        {
         "male": -0.867217455833587,
         "age": 0.28229476844863344,
         "education": 1.0134991247724865,
         "currentSmoker": -0.988276265368129,
         "cigsPerDay": -0.7580621924947025,
         "BPMeds": -0.175800003453265,
         "prevalentStroke": -0.07701427206704359,
         "prevalentHyp": -0.6712410063003988,
         "diabetes": -0.1624372586175049,
         "totChol": 0.7964496931812077,
         "sysBP": -0.6288768994522828,
         "diaBP": -1.166997334145757,
         "BMI": -1.6757873849715144,
         "heartRate": -0.4889977356272509,
         "glucose": -0.30503474853035534,
         "_deepnote_index_column": 790
        },
        {
         "male": 1.15311332039411,
         "age": -1.1176231476007294,
         "education": 0.020414081897076167,
         "currentSmoker": 1.0118628110809722,
         "cigsPerDay": -0.337194154761975,
         "BPMeds": -0.175800003453265,
         "prevalentStroke": -0.07701427206704359,
         "prevalentHyp": -0.6712410063003988,
         "diabetes": -0.1624372586175049,
         "totChol": 1.0220697848882208,
         "sysBP": -0.5607900969887503,
         "diaBP": 0.3444658707281821,
         "BMI": -0.6930362714879801,
         "heartRate": -1.3207706987201906,
         "glucose": -6.224898192899329e-16,
         "_deepnote_index_column": 1915
        },
        {
         "male": -0.867217455833587,
         "age": 1.6822126844979963,
         "education": 0.020414081897076167,
         "currentSmoker": -0.988276265368129,
         "cigsPerDay": -0.7580621924947025,
         "BPMeds": -0.175800003453265,
         "prevalentStroke": -0.07701427206704359,
         "prevalentHyp": 1.4897778750311814,
         "diabetes": -0.1624372586175049,
         "totChol": 0.3903335281085841,
         "sysBP": 2.8889412278302267,
         "diaBP": 3.0315115682818514,
         "BMI": 2.314182135771635,
         "heartRate": 2.0063211536515686,
         "glucose": -0.12981944114310104,
         "_deepnote_index_column": 1614
        }
       ],
       "rows_bottom": [
        {
         "male": -0.867217455833587,
         "age": 0.8655939001358679,
         "education": 0,
         "currentSmoker": -0.988276265368129,
         "cigsPerDay": -0.7580621924947025,
         "BPMeds": 5.760285597021094,
         "prevalentStroke": -0.07701427206704359,
         "prevalentHyp": 1.4897778750311814,
         "diabetes": -0.1624372586175049,
         "totChol": -1.0536350588163,
         "sysBP": 1.0279019604936734,
         "diaBP": 0.17652551463107777,
         "BMI": 0.06859584146175858,
         "heartRate": -1.7366571802666606,
         "glucose": -0.6992691901516775,
         "_deepnote_index_column": 1478
        },
        {
         "male": 1.15311332039411,
         "age": 0.16563494211118654,
         "education": -0.972670960978334,
         "currentSmoker": 1.0118628110809722,
         "cigsPerDay": 0.9254099584362077,
         "BPMeds": -0.175800003453265,
         "prevalentStroke": -0.07701427206704359,
         "prevalentHyp": -0.6712410063003988,
         "diabetes": -0.1624372586175049,
         "totChol": -0.39933679286596185,
         "sysBP": -0.3338340887769755,
         "diaBP": -0.9990569780486526,
         "BMI": -1.1328173947718614,
         "heartRate": 0.09324333853780695,
         "glucose": -0.30503474853035534,
         "_deepnote_index_column": 1095
        },
        {
         "male": -0.867217455833587,
         "age": -0.41766418957604795,
         "education": 0.020414081897076167,
         "currentSmoker": -0.988276265368129,
         "cigsPerDay": -0.7580621924947025,
         "BPMeds": -0.175800003453265,
         "prevalentStroke": -0.07701427206704359,
         "prevalentHyp": -0.6712410063003988,
         "diabetes": -0.1624372586175049,
         "totChol": -0.5347088478901697,
         "sysBP": -0.7877461052005251,
         "diaBP": -0.8731017109758243,
         "BMI": -1.4300996066006308,
         "heartRate": 0.3427752274656889,
         "glucose": 1.096687710567679,
         "_deepnote_index_column": 542
        },
        {
         "male": -0.867217455833587,
         "age": -1.1176231476007294,
         "education": 1.0134991247724865,
         "currentSmoker": -0.988276265368129,
         "cigsPerDay": -0.7580621924947025,
         "BPMeds": -0.175800003453265,
         "prevalentStroke": -0.07701427206704359,
         "prevalentHyp": -0.6712410063003988,
         "diabetes": -0.1624372586175049,
         "totChol": -0.3767747836952605,
         "sysBP": 0.16546912928892907,
         "diaBP": -0.20134028658740696,
         "BMI": -0.7569150938644101,
         "heartRate": 0.3427752274656889,
         "glucose": -0.5240538827644232,
         "_deepnote_index_column": 4074
        },
        {
         "male": -0.867217455833587,
         "age": 0.8655939001358679,
         "education": -0.972670960978334,
         "currentSmoker": -0.988276265368129,
         "cigsPerDay": -0.7580621924947025,
         "BPMeds": -0.175800003453265,
         "prevalentStroke": -0.07701427206704359,
         "prevalentHyp": -0.6712410063003988,
         "diabetes": -0.1624372586175049,
         "totChol": -0.8957009946213907,
         "sysBP": -1.6501789364052692,
         "diaBP": -1.5868482243885178,
         "BMI": -1.7716056185361593,
         "heartRate": -1.3207706987201906,
         "glucose": -0.2174270948367282,
         "_deepnote_index_column": 431
        },
        {
         "male": -0.867217455833587,
         "age": -1.4676026266130702,
         "education": -0.972670960978334,
         "currentSmoker": 1.0118628110809722,
         "cigsPerDay": 0.9254099584362077,
         "BPMeds": -0.175800003453265,
         "prevalentStroke": -0.07701427206704359,
         "prevalentHyp": -0.6712410063003988,
         "diabetes": -0.1624372586175049,
         "totChol": -1.5499992605717288,
         "sysBP": -0.6969637019158151,
         "diaBP": -0.747146443902996,
         "BMI": -1.0541973056931786,
         "heartRate": -0.7385296245551328,
         "glucose": -0.2174270948367282,
         "_deepnote_index_column": 728
        },
        {
         "male": -0.867217455833587,
         "age": -0.5343240159134949,
         "education": 2.0065841676478966,
         "currentSmoker": -0.988276265368129,
         "cigsPerDay": -0.7580621924947025,
         "BPMeds": -0.175800003453265,
         "prevalentStroke": -0.07701427206704359,
         "prevalentHyp": -0.6712410063003988,
         "diabetes": -0.1624372586175049,
         "totChol": 0.3677715189378828,
         "sysBP": 0.12007792764657411,
         "diaBP": 0.17652551463107777,
         "BMI": -0.3564440151198693,
         "heartRate": 0.17642063484710094,
         "glucose": 0.08919969309096684,
         "_deepnote_index_column": 2561
        },
        {
         "male": -0.867217455833587,
         "age": -1.2342829739381762,
         "education": 1.0134991247724865,
         "currentSmoker": -0.988276265368129,
         "cigsPerDay": -0.7580621924947025,
         "BPMeds": -0.175800003453265,
         "prevalentStroke": -0.07701427206704359,
         "prevalentHyp": -0.6712410063003988,
         "diabetes": -0.1624372586175049,
         "totChol": -1.279255150523313,
         "sysBP": -0.37922529041933045,
         "diaBP": 0.008585158533973439,
         "BMI": -0.710234415973942,
         "heartRate": -0.8217069208644269,
         "glucose": -0.2174270948367282,
         "_deepnote_index_column": 1337
        },
        {
         "male": 1.15311332039411,
         "age": -0.5343240159134949,
         "education": 2.0065841676478966,
         "currentSmoker": -0.988276265368129,
         "cigsPerDay": -0.7580621924947025,
         "BPMeds": -0.175800003453265,
         "prevalentStroke": -0.07701427206704359,
         "prevalentHyp": -0.6712410063003988,
         "diabetes": 6.156223076595531,
         "totChol": -1.0761970679870012,
         "sysBP": -0.016095677280490765,
         "diaBP": -0.4112657317087874,
         "BMI": 0.6385914872822086,
         "heartRate": -0.07311125408078101,
         "glucose": 4.162955589844629,
         "_deepnote_index_column": 3606
        },
        {
         "male": 1.15311332039411,
         "age": -0.06768471056370727,
         "education": 0.020414081897076167,
         "currentSmoker": 1.0118628110809722,
         "cigsPerDay": 0.9254099584362077,
         "BPMeds": -0.175800003453265,
         "prevalentStroke": -0.07701427206704359,
         "prevalentHyp": 1.4897778750311814,
         "diabetes": -0.1624372586175049,
         "totChol": 1.2251278674245327,
         "sysBP": 1.2548579687054482,
         "diaBP": 1.352108007310808,
         "BMI": 1.0095800326222433,
         "heartRate": 0.7586617090121588,
         "glucose": 0.26441500047822114,
         "_deepnote_index_column": 2877
        },
        {
         "male": -0.867217455833587,
         "age": 1.2155733791482086,
         "education": -0.972670960978334,
         "currentSmoker": -0.988276265368129,
         "cigsPerDay": -0.7580621924947025,
         "BPMeds": -0.175800003453265,
         "prevalentStroke": -0.07701427206704359,
         "prevalentHyp": -0.6712410063003988,
         "diabetes": -0.1624372586175049,
         "totChol": -0.015782636964039514,
         "sysBP": -0.2884428871346205,
         "diaBP": 0.0925553365825256,
         "BMI": -1.341652006387113,
         "heartRate": -0.4058204393179569,
         "glucose": -0.2612309216835418,
         "_deepnote_index_column": 1031
        },
        {
         "male": -0.867217455833587,
         "age": 1.0989135528107616,
         "education": 0.020414081897076167,
         "currentSmoker": -0.988276265368129,
         "cigsPerDay": -0.7580621924947025,
         "BPMeds": 5.760285597021094,
         "prevalentStroke": -0.07701427206704359,
         "prevalentHyp": 1.4897778750311814,
         "diabetes": -0.1624372586175049,
         "totChol": -0.8054529579385854,
         "sysBP": 0.7328591498183661,
         "diaBP": 0.5963764048738386,
         "BMI": 0.012087652436456119,
         "heartRate": -0.9048842171737208,
         "glucose": 0.04539586624415327,
         "_deepnote_index_column": 1110
        },
        {
         "male": 1.15311332039411,
         "age": 1.5655528581605493,
         "education": -0.972670960978334,
         "currentSmoker": 1.0118628110809722,
         "cigsPerDay": 1.767146033901663,
         "BPMeds": -0.175800003453265,
         "prevalentStroke": -0.07701427206704359,
         "prevalentHyp": 1.4897778750311814,
         "diabetes": -0.1624372586175049,
         "totChol": -0.26396473784175395,
         "sysBP": 0.6193811457124787,
         "diaBP": -0.07538501951457872,
         "BMI": 0.33639551988602256,
         "heartRate": -0.4889977356272509,
         "glucose": 0.13300351993778042,
         "_deepnote_index_column": 1888
        },
        {
         "male": -0.867217455833587,
         "age": -1.4676026266130702,
         "education": -0.972670960978334,
         "currentSmoker": -0.988276265368129,
         "cigsPerDay": -0.7580621924947025,
         "BPMeds": -0.175800003453265,
         "prevalentStroke": -0.07701427206704359,
         "prevalentHyp": -0.6712410063003988,
         "diabetes": -0.1624372586175049,
         "totChol": -0.6249568845729749,
         "sysBP": -1.0147021134123,
         "diaBP": -0.4532508207330635,
         "BMI": -1.9337595522609423,
         "heartRate": 0.09324333853780695,
         "glucose": -0.08601561429628747,
         "_deepnote_index_column": 3550
        },
        {
         "male": -0.867217455833587,
         "age": 1.3322332054856556,
         "education": 0.020414081897076167,
         "currentSmoker": -0.988276265368129,
         "cigsPerDay": -0.7580621924947025,
         "BPMeds": -0.175800003453265,
         "prevalentStroke": -0.07701427206704359,
         "prevalentHyp": 1.4897778750311814,
         "diabetes": -0.1624372586175049,
         "totChol": -0.6023948754022737,
         "sysBP": 2.1172907999101924,
         "diaBP": 1.4360781853593603,
         "BMI": -1.022257894504964,
         "heartRate": 0.17642063484710094,
         "glucose": 0.5710417884059162,
         "_deepnote_index_column": 1527
        },
        {
         "male": 1.15311332039411,
         "age": 0.04897511577373963,
         "education": 0.020414081897076167,
         "currentSmoker": -0.988276265368129,
         "cigsPerDay": -0.7580621924947025,
         "BPMeds": -0.175800003453265,
         "prevalentStroke": -0.07701427206704359,
         "prevalentHyp": -0.6712410063003988,
         "diabetes": -0.1624372586175049,
         "totChol": 1.3379379132780393,
         "sysBP": -0.15226928220755565,
         "diaBP": 0.17652551463107777,
         "BMI": 0.014544530220164465,
         "heartRate": -1.6534798839573666,
         "glucose": 1.0528838837208656,
         "_deepnote_index_column": 753
        },
        {
         "male": -0.867217455833587,
         "age": 1.2155733791482086,
         "education": 1.0134991247724865,
         "currentSmoker": 1.0118628110809722,
         "cigsPerDay": -0.505541369855066,
         "BPMeds": -0.175800003453265,
         "prevalentStroke": -0.07701427206704359,
         "prevalentHyp": -0.6712410063003988,
         "diabetes": -0.1624372586175049,
         "totChol": 0.7513256748398051,
         "sysBP": -0.10687808056520069,
         "diaBP": -0.8731017109758243,
         "BMI": -1.2188081172016711,
         "heartRate": -0.07311125408078101,
         "glucose": 0.8776685763336113,
         "_deepnote_index_column": 3049
        },
        {
         "male": -0.867217455833587,
         "age": 0.04897511577373963,
         "education": -0.972670960978334,
         "currentSmoker": -0.988276265368129,
         "cigsPerDay": -0.7580621924947025,
         "BPMeds": -0.175800003453265,
         "prevalentStroke": -0.07701427206704359,
         "prevalentHyp": 1.4897778750311814,
         "diabetes": -0.1624372586175049,
         "totChol": 1.6989300600092603,
         "sysBP": 1.481813976917223,
         "diaBP": 0.5963764048738386,
         "BMI": 1.1471651885099376,
         "heartRate": -0.3226431430086629,
         "glucose": 0.04539586624415327,
         "_deepnote_index_column": 2628
        },
        {
         "male": -0.867217455833587,
         "age": -1.2342829739381762,
         "education": 0.020414081897076167,
         "currentSmoker": -0.988276265368129,
         "cigsPerDay": -0.7580621924947025,
         "BPMeds": -0.175800003453265,
         "prevalentStroke": -0.07701427206704359,
         "prevalentHyp": 1.4897778750311814,
         "diabetes": -0.1624372586175049,
         "totChol": 0.3452095097671815,
         "sysBP": -0.1976604838499106,
         "diaBP": 0.8482869390194951,
         "BMI": 1.1201395328891406,
         "heartRate": 2.4222076351980384,
         "glucose": -0.8306806706921183,
         "_deepnote_index_column": 562
        },
        {
         "male": -0.867217455833587,
         "age": 0.9822537264733149,
         "education": -0.972670960978334,
         "currentSmoker": -0.988276265368129,
         "cigsPerDay": -0.7580621924947025,
         "BPMeds": -0.175800003453265,
         "prevalentStroke": -0.07701427206704359,
         "prevalentHyp": -0.6712410063003988,
         "diabetes": -0.1624372586175049,
         "totChol": 1.247689876595234,
         "sysBP": -1.0147021134123,
         "diaBP": 0.008585158533973439,
         "BMI": 0.28971484199555436,
         "heartRate": -0.9048842171737208,
         "glucose": -0.3926424022239825,
         "_deepnote_index_column": 3562
        },
        {
         "male": -0.867217455833587,
         "age": -1.2342829739381762,
         "education": -0.972670960978334,
         "currentSmoker": -0.988276265368129,
         "cigsPerDay": -0.7580621924947025,
         "BPMeds": -0.175800003453265,
         "prevalentStroke": -0.07701427206704359,
         "prevalentHyp": -0.6712410063003988,
         "diabetes": -0.1624372586175049,
         "totChol": -1.2341311321819104,
         "sysBP": -1.0600933150546548,
         "diaBP": -1.0830271560972047,
         "BMI": -1.280230061794392,
         "heartRate": -0.3226431430086629,
         "glucose": -0.6992691901516775,
         "_deepnote_index_column": 252
        },
        {
         "male": -0.867217455833587,
         "age": -1.0009633212632825,
         "education": 0.020414081897076167,
         "currentSmoker": -0.988276265368129,
         "cigsPerDay": -0.7580621924947025,
         "BPMeds": -0.175800003453265,
         "prevalentStroke": -0.07701427206704359,
         "prevalentHyp": -0.6712410063003988,
         "diabetes": -0.1624372586175049,
         "totChol": -0.8957009946213907,
         "sysBP": -0.878528508485235,
         "diaBP": -1.0830271560972047,
         "BMI": -0.496486048791273,
         "heartRate": -0.9048842171737208,
         "glucose": 0.3520226541718483,
         "_deepnote_index_column": 2516
        },
        {
         "male": 1.15311332039411,
         "age": 0.16563494211118654,
         "education": 0.020414081897076167,
         "currentSmoker": 1.0118628110809722,
         "cigsPerDay": 0.9254099584362077,
         "BPMeds": -0.175800003453265,
         "prevalentStroke": -0.07701427206704359,
         "prevalentHyp": -0.6712410063003988,
         "diabetes": -0.1624372586175049,
         "totChol": 0.8415737115226104,
         "sysBP": -1.1054845166970098,
         "diaBP": -0.6631762658544439,
         "BMI": -0.540709848898032,
         "heartRate": -0.4889977356272509,
         "glucose": -0.6116615364580504,
         "_deepnote_index_column": 2962
        },
        {
         "male": -0.867217455833587,
         "age": -0.3010043632386011,
         "education": -0.972670960978334,
         "currentSmoker": 1.0118628110809722,
         "cigsPerDay": 0.9254099584362077,
         "BPMeds": -0.175800003453265,
         "prevalentStroke": -0.07701427206704359,
         "prevalentHyp": -0.6712410063003988,
         "diabetes": -0.1624372586175049,
         "totChol": -0.9408250129627933,
         "sysBP": 0.07468672600421916,
         "diaBP": -0.15935519756313088,
         "BMI": -1.0812229613139765,
         "heartRate": 0.7586617090121588,
         "glucose": -6.224898192899329e-16,
         "_deepnote_index_column": 1202
        },
        {
         "male": 1.15311332039411,
         "age": 0.8655939001358679,
         "education": -0.972670960978334,
         "currentSmoker": -0.988276265368129,
         "cigsPerDay": -0.7580621924947025,
         "BPMeds": -0.175800003453265,
         "prevalentStroke": -0.07701427206704359,
         "prevalentHyp": -0.6712410063003988,
         "diabetes": -0.1624372586175049,
         "totChol": -1.3243791688647157,
         "sysBP": -0.4246164920616854,
         "diaBP": -0.3272955536602352,
         "BMI": 0.13738841940560625,
         "heartRate": -0.156288550390075,
         "glucose": -0.17362326798991462,
         "_deepnote_index_column": 3462
        },
        {
         "male": 1.15311332039411,
         "age": -0.7676436685883887,
         "education": 2.0065841676478966,
         "currentSmoker": -0.988276265368129,
         "cigsPerDay": -0.7580621924947025,
         "BPMeds": -0.175800003453265,
         "prevalentStroke": -0.07701427206704359,
         "prevalentHyp": 1.4897778750311814,
         "diabetes": -0.1624372586175049,
         "totChol": 2.9398405643978323,
         "sysBP": 0.3924251375007039,
         "diaBP": -0.03339993049030264,
         "BMI": -0.04442053658884722,
         "heartRate": 1.3409027831772167,
         "glucose": 0.3520226541718483,
         "_deepnote_index_column": 2797
        },
        {
         "male": 1.15311332039411,
         "age": -0.5343240159134949,
         "education": 2.0065841676478966,
         "currentSmoker": 1.0118628110809722,
         "cigsPerDay": 2.861402932006755,
         "BPMeds": -0.175800003453265,
         "prevalentStroke": -0.07701427206704359,
         "prevalentHyp": -0.6712410063003988,
         "diabetes": -0.1624372586175049,
         "totChol": -0.46702282037806575,
         "sysBP": 0.23355593175246153,
         "diaBP": 0.17652551463107777,
         "BMI": -0.38346967074066723,
         "heartRate": 0.5923071163935708,
         "glucose": 1.0090800568740521,
         "_deepnote_index_column": 4225
        },
        {
         "male": -0.867217455833587,
         "age": 0.748934073798421,
         "education": -0.972670960978334,
         "currentSmoker": 1.0118628110809722,
         "cigsPerDay": -0.505541369855066,
         "BPMeds": -0.175800003453265,
         "prevalentStroke": -0.07701427206704359,
         "prevalentHyp": 1.4897778750311814,
         "diabetes": -0.1624372586175049,
         "totChol": 0.9543837573761169,
         "sysBP": 0.16546912928892907,
         "diaBP": 0.9322571170680473,
         "BMI": 1.7662983900045652,
         "heartRate": -2.1525436618131306,
         "glucose": 0.8776685763336113,
         "_deepnote_index_column": 144
        },
        {
         "male": -0.867217455833587,
         "age": -0.5343240159134949,
         "education": 0.020414081897076167,
         "currentSmoker": 1.0118628110809722,
         "cigsPerDay": 1.767146033901663,
         "BPMeds": -0.175800003453265,
         "prevalentStroke": -0.07701427206704359,
         "prevalentHyp": 1.4897778750311814,
         "diabetes": -0.1624372586175049,
         "totChol": -1.2566931413526117,
         "sysBP": 0.27894713339481647,
         "diaBP": 0.5963764048738386,
         "BMI": 0.12756090827077113,
         "heartRate": 1.1745481905586286,
         "glucose": -6.224898192899329e-16,
         "_deepnote_index_column": 2895
        },
        {
         "male": 1.15311332039411,
         "age": -0.41766418957604795,
         "education": -0.972670960978334,
         "currentSmoker": 1.0118628110809722,
         "cigsPerDay": -0.0004997245757929432,
         "BPMeds": -0.175800003453265,
         "prevalentStroke": -0.07701427206704359,
         "prevalentHyp": -0.6712410063003988,
         "diabetes": -0.1624372586175049,
         "totChol": 0.4128955372792854,
         "sysBP": -0.8558329076640575,
         "diaBP": -0.8731017109758243,
         "BMI": -0.6340712046789684,
         "heartRate": -1.3207706987201906,
         "glucose": -6.224898192899329e-16,
         "_deepnote_index_column": 2763
        },
        {
         "male": 1.15311332039411,
         "age": -1.3509428002756232,
         "education": 0.020414081897076167,
         "currentSmoker": 1.0118628110809722,
         "cigsPerDay": 0.9254099584362077,
         "BPMeds": -0.175800003453265,
         "prevalentStroke": -0.07701427206704359,
         "prevalentHyp": 1.4897778750311814,
         "diabetes": -0.1624372586175049,
         "totChol": 1.6312440324971562,
         "sysBP": 0.7101635489971886,
         "diaBP": 2.1918097877963296,
         "BMI": 1.2405265442908742,
         "heartRate": 1.5904346721050986,
         "glucose": -6.224898192899329e-16,
         "_deepnote_index_column": 905
        },
        {
         "male": -0.867217455833587,
         "age": 0.6322742474609742,
         "education": 0.020414081897076167,
         "currentSmoker": -0.988276265368129,
         "cigsPerDay": -0.7580621924947025,
         "BPMeds": -0.175800003453265,
         "prevalentStroke": -0.07701427206704359,
         "prevalentHyp": -0.6712410063003988,
         "diabetes": -0.1624372586175049,
         "totChol": 0.819011702351909,
         "sysBP": -0.3338340887769755,
         "diaBP": -0.24332537561168305,
         "BMI": -0.6758381270020182,
         "heartRate": 0.7586617090121588,
         "glucose": -0.655465363304864,
         "_deepnote_index_column": 3980
        },
        {
         "male": -0.867217455833587,
         "age": -1.584262452950517,
         "education": -0.972670960978334,
         "currentSmoker": 1.0118628110809722,
         "cigsPerDay": -0.505541369855066,
         "BPMeds": -0.175800003453265,
         "prevalentStroke": -0.07701427206704359,
         "prevalentHyp": -0.6712410063003988,
         "diabetes": -0.1624372586175049,
         "totChol": -2.294545563204872,
         "sysBP": -1.1054845166970098,
         "diaBP": -0.747146443902996,
         "BMI": -0.8035957717548775,
         "heartRate": -0.23946584669936896,
         "glucose": -0.30503474853035534,
         "_deepnote_index_column": 235
        }
       ]
      },
      "text/plain": "          male       age  education  currentSmoker  cigsPerDay    BPMeds  \\\n2161  1.153113 -0.184345  -0.972671       1.011863   -0.673889 -0.175800   \n133  -0.867217  0.748934   0.020414       1.011863    0.925410 -0.175800   \n3124 -0.867217  0.165635   1.013499      -0.988276   -0.758062 -0.175800   \n2473 -0.867217  1.915532  -0.972671       1.011863   -0.673889  5.760286   \n3879  1.153113 -1.117623   2.006584       1.011863    2.608882 -0.175800   \n...        ...       ...        ...            ...         ...       ...   \n2895 -0.867217 -0.534324   0.020414       1.011863    1.767146 -0.175800   \n2763  1.153113 -0.417664  -0.972671       1.011863   -0.000500 -0.175800   \n905   1.153113 -1.350943   0.020414       1.011863    0.925410 -0.175800   \n3980 -0.867217  0.632274   0.020414      -0.988276   -0.758062 -0.175800   \n235  -0.867217 -1.584262  -0.972671       1.011863   -0.505541 -0.175800   \n\n      prevalentStroke  prevalentHyp  diabetes   totChol     sysBP     diaBP  \\\n2161        -0.077014     -0.671241 -0.162437  0.503144 -0.106878  1.016227   \n133         -0.077014     -0.671241 -0.162437  0.209837 -0.197660 -1.586848   \n3124        -0.077014      1.489778 -0.162437 -0.873139  0.460512 -0.243325   \n2473        -0.077014      1.489778 -0.162437  0.548268  0.982511  1.184168   \n3879        -0.077014     -0.671241 -0.162437  2.195294 -0.560790 -0.495236   \n...               ...           ...       ...       ...       ...       ...   \n2895        -0.077014      1.489778 -0.162437 -1.256693  0.278947  0.596376   \n2763        -0.077014     -0.671241 -0.162437  0.412896 -0.855833 -0.873102   \n905         -0.077014      1.489778 -0.162437  1.631244  0.710164  2.191810   \n3980        -0.077014     -0.671241 -0.162437  0.819012 -0.333834 -0.243325   \n235         -0.077014     -0.671241 -0.162437 -2.294546 -1.105485 -0.747146   \n\n           BMI  heartRate       glucose  \n2161 -0.521055  -0.655352 -6.224898e-16  \n133  -0.064076   1.340903  4.396303e-01  \n3124 -0.476831   0.010066  7.900609e-01  \n2473  1.670480  -0.488998 -4.221179e-02  \n3879 -0.771656   0.509130  4.396303e-01  \n...        ...        ...           ...  \n2895  0.127561   1.174548 -6.224898e-16  \n2763 -0.634071  -1.320771 -6.224898e-16  \n905   1.240527   1.590435 -6.224898e-16  \n3980 -0.675838   0.758662 -6.554654e-01  \n235  -0.803596  -0.239466 -3.050347e-01  \n\n[3392 rows x 15 columns]",
      "text/html": "<div>\n<style scoped>\n    .dataframe tbody tr th:only-of-type {\n        vertical-align: middle;\n    }\n\n    .dataframe tbody tr th {\n        vertical-align: top;\n    }\n\n    .dataframe thead th {\n        text-align: right;\n    }\n</style>\n<table border=\"1\" class=\"dataframe\">\n  <thead>\n    <tr style=\"text-align: right;\">\n      <th></th>\n      <th>male</th>\n      <th>age</th>\n      <th>education</th>\n      <th>currentSmoker</th>\n      <th>cigsPerDay</th>\n      <th>BPMeds</th>\n      <th>prevalentStroke</th>\n      <th>prevalentHyp</th>\n      <th>diabetes</th>\n      <th>totChol</th>\n      <th>sysBP</th>\n      <th>diaBP</th>\n      <th>BMI</th>\n      <th>heartRate</th>\n      <th>glucose</th>\n    </tr>\n  </thead>\n  <tbody>\n    <tr>\n      <th>2161</th>\n      <td>1.153113</td>\n      <td>-0.184345</td>\n      <td>-0.972671</td>\n      <td>1.011863</td>\n      <td>-0.673889</td>\n      <td>-0.175800</td>\n      <td>-0.077014</td>\n      <td>-0.671241</td>\n      <td>-0.162437</td>\n      <td>0.503144</td>\n      <td>-0.106878</td>\n      <td>1.016227</td>\n      <td>-0.521055</td>\n      <td>-0.655352</td>\n      <td>-6.224898e-16</td>\n    </tr>\n    <tr>\n      <th>133</th>\n      <td>-0.867217</td>\n      <td>0.748934</td>\n      <td>0.020414</td>\n      <td>1.011863</td>\n      <td>0.925410</td>\n      <td>-0.175800</td>\n      <td>-0.077014</td>\n      <td>-0.671241</td>\n      <td>-0.162437</td>\n      <td>0.209837</td>\n      <td>-0.197660</td>\n      <td>-1.586848</td>\n      <td>-0.064076</td>\n      <td>1.340903</td>\n      <td>4.396303e-01</td>\n    </tr>\n    <tr>\n      <th>3124</th>\n      <td>-0.867217</td>\n      <td>0.165635</td>\n      <td>1.013499</td>\n      <td>-0.988276</td>\n      <td>-0.758062</td>\n      <td>-0.175800</td>\n      <td>-0.077014</td>\n      <td>1.489778</td>\n      <td>-0.162437</td>\n      <td>-0.873139</td>\n      <td>0.460512</td>\n      <td>-0.243325</td>\n      <td>-0.476831</td>\n      <td>0.010066</td>\n      <td>7.900609e-01</td>\n    </tr>\n    <tr>\n      <th>2473</th>\n      <td>-0.867217</td>\n      <td>1.915532</td>\n      <td>-0.972671</td>\n      <td>1.011863</td>\n      <td>-0.673889</td>\n      <td>5.760286</td>\n      <td>-0.077014</td>\n      <td>1.489778</td>\n      <td>-0.162437</td>\n      <td>0.548268</td>\n      <td>0.982511</td>\n      <td>1.184168</td>\n      <td>1.670480</td>\n      <td>-0.488998</td>\n      <td>-4.221179e-02</td>\n    </tr>\n    <tr>\n      <th>3879</th>\n      <td>1.153113</td>\n      <td>-1.117623</td>\n      <td>2.006584</td>\n      <td>1.011863</td>\n      <td>2.608882</td>\n      <td>-0.175800</td>\n      <td>-0.077014</td>\n      <td>-0.671241</td>\n      <td>-0.162437</td>\n      <td>2.195294</td>\n      <td>-0.560790</td>\n      <td>-0.495236</td>\n      <td>-0.771656</td>\n      <td>0.509130</td>\n      <td>4.396303e-01</td>\n    </tr>\n    <tr>\n      <th>...</th>\n      <td>...</td>\n      <td>...</td>\n      <td>...</td>\n      <td>...</td>\n      <td>...</td>\n      <td>...</td>\n      <td>...</td>\n      <td>...</td>\n      <td>...</td>\n      <td>...</td>\n      <td>...</td>\n      <td>...</td>\n      <td>...</td>\n      <td>...</td>\n      <td>...</td>\n    </tr>\n    <tr>\n      <th>2895</th>\n      <td>-0.867217</td>\n      <td>-0.534324</td>\n      <td>0.020414</td>\n      <td>1.011863</td>\n      <td>1.767146</td>\n      <td>-0.175800</td>\n      <td>-0.077014</td>\n      <td>1.489778</td>\n      <td>-0.162437</td>\n      <td>-1.256693</td>\n      <td>0.278947</td>\n      <td>0.596376</td>\n      <td>0.127561</td>\n      <td>1.174548</td>\n      <td>-6.224898e-16</td>\n    </tr>\n    <tr>\n      <th>2763</th>\n      <td>1.153113</td>\n      <td>-0.417664</td>\n      <td>-0.972671</td>\n      <td>1.011863</td>\n      <td>-0.000500</td>\n      <td>-0.175800</td>\n      <td>-0.077014</td>\n      <td>-0.671241</td>\n      <td>-0.162437</td>\n      <td>0.412896</td>\n      <td>-0.855833</td>\n      <td>-0.873102</td>\n      <td>-0.634071</td>\n      <td>-1.320771</td>\n      <td>-6.224898e-16</td>\n    </tr>\n    <tr>\n      <th>905</th>\n      <td>1.153113</td>\n      <td>-1.350943</td>\n      <td>0.020414</td>\n      <td>1.011863</td>\n      <td>0.925410</td>\n      <td>-0.175800</td>\n      <td>-0.077014</td>\n      <td>1.489778</td>\n      <td>-0.162437</td>\n      <td>1.631244</td>\n      <td>0.710164</td>\n      <td>2.191810</td>\n      <td>1.240527</td>\n      <td>1.590435</td>\n      <td>-6.224898e-16</td>\n    </tr>\n    <tr>\n      <th>3980</th>\n      <td>-0.867217</td>\n      <td>0.632274</td>\n      <td>0.020414</td>\n      <td>-0.988276</td>\n      <td>-0.758062</td>\n      <td>-0.175800</td>\n      <td>-0.077014</td>\n      <td>-0.671241</td>\n      <td>-0.162437</td>\n      <td>0.819012</td>\n      <td>-0.333834</td>\n      <td>-0.243325</td>\n      <td>-0.675838</td>\n      <td>0.758662</td>\n      <td>-6.554654e-01</td>\n    </tr>\n    <tr>\n      <th>235</th>\n      <td>-0.867217</td>\n      <td>-1.584262</td>\n      <td>-0.972671</td>\n      <td>1.011863</td>\n      <td>-0.505541</td>\n      <td>-0.175800</td>\n      <td>-0.077014</td>\n      <td>-0.671241</td>\n      <td>-0.162437</td>\n      <td>-2.294546</td>\n      <td>-1.105485</td>\n      <td>-0.747146</td>\n      <td>-0.803596</td>\n      <td>-0.239466</td>\n      <td>-3.050347e-01</td>\n    </tr>\n  </tbody>\n</table>\n<p>3392 rows × 15 columns</p>\n</div>"
     },
     "metadata": {}
    }
   ],
   "execution_count": null
  },
  {
   "cell_type": "code",
   "metadata": {
    "tags": [],
    "cell_id": "00013-5d9f3af6-9d2e-4994-a6ce-2833f4e42e89",
    "deepnote_to_be_reexecuted": false,
    "source_hash": "79288a61",
    "execution_start": 1632487604051,
    "execution_millis": 39,
    "deepnote_cell_type": "code"
   },
   "source": "from sklearn.linear_model import LogisticRegression\n\nmodel = LogisticRegression(fit_intercept=True, max_iter=1000, penalty='l2')\nmodel.fit(x_train, y_train)",
   "outputs": [
    {
     "name": "stderr",
     "text": "/shared-libs/python3.7/py/lib/python3.7/site-packages/sklearn/utils/validation.py:63: DataConversionWarning: A column-vector y was passed when a 1d array was expected. Please change the shape of y to (n_samples, ), for example using ravel().\n  return f(*args, **kwargs)\n",
     "output_type": "stream"
    },
    {
     "output_type": "execute_result",
     "execution_count": 25,
     "data": {
      "text/plain": "LogisticRegression(max_iter=1000)"
     },
     "metadata": {}
    }
   ],
   "execution_count": null
  },
  {
   "cell_type": "markdown",
   "source": "",
   "metadata": {
    "tags": [],
    "cell_id": "00024-46bba66f-d27f-4968-ad32-a9a05dd5a58e",
    "deepnote_cell_type": "markdown"
   }
  },
  {
   "cell_type": "code",
   "metadata": {
    "tags": [],
    "cell_id": "00016-2089c3f3-0dfd-4fb7-b3b5-daf7aa601e3d",
    "deepnote_to_be_reexecuted": false,
    "source_hash": "9e84f061",
    "execution_start": 1632487605313,
    "execution_millis": 8,
    "deepnote_cell_type": "code"
   },
   "source": "y_pred = model.predict(x_train)\ny_pred",
   "outputs": [
    {
     "output_type": "execute_result",
     "execution_count": 26,
     "data": {
      "text/plain": "array([0., 0., 0., ..., 0., 0., 0.])"
     },
     "metadata": {}
    }
   ],
   "execution_count": null
  },
  {
   "cell_type": "code",
   "metadata": {
    "tags": [],
    "cell_id": "00017-09e6c5e2-8cdd-468f-b12f-b2d2aa982a77",
    "deepnote_to_be_reexecuted": false,
    "source_hash": "dd84d444",
    "execution_start": 1632487616791,
    "execution_millis": 49,
    "deepnote_cell_type": "code"
   },
   "source": "from sklearn.metrics import confusion_matrix, precision_score, recall_score\nprint(confusion_matrix(y_train, y_pred))",
   "outputs": [
    {
     "name": "stdout",
     "text": "[[2862   16]\n [ 470   44]]\n",
     "output_type": "stream"
    }
   ],
   "execution_count": null
  },
  {
   "cell_type": "code",
   "metadata": {
    "tags": [],
    "cell_id": "00018-a28cc62c-e07d-40ce-ad14-e0bdcd347671",
    "deepnote_to_be_reexecuted": false,
    "source_hash": "7899aeb6",
    "execution_start": 1632487621775,
    "execution_millis": 18,
    "deepnote_cell_type": "code"
   },
   "source": "print(precision_score(y_train, y_pred))",
   "outputs": [
    {
     "name": "stdout",
     "text": "0.7333333333333333\n",
     "output_type": "stream"
    }
   ],
   "execution_count": null
  },
  {
   "cell_type": "code",
   "metadata": {
    "tags": [],
    "cell_id": "00019-7279b557-7312-443d-a005-c9011498a9d2",
    "deepnote_to_be_reexecuted": false,
    "source_hash": "ae9e59ef",
    "execution_start": 1632487626961,
    "execution_millis": 47,
    "deepnote_cell_type": "code"
   },
   "source": "print(recall_score(y_train, y_pred))",
   "outputs": [
    {
     "name": "stdout",
     "text": "0.08560311284046693\n",
     "output_type": "stream"
    }
   ],
   "execution_count": null
  },
  {
   "cell_type": "code",
   "metadata": {
    "tags": [],
    "cell_id": "00020-fb43f80d-16fa-4a3c-a191-1c8c4b4fdfec",
    "deepnote_to_be_reexecuted": false,
    "source_hash": "7858c6f4",
    "execution_start": 1632487633167,
    "execution_millis": 14,
    "deepnote_cell_type": "code"
   },
   "source": "# No of columns with zero\ny_zero = y_train[y_train['TenYearCHD'] == 0]\nprint(len(y_zero)/len(y_train))",
   "outputs": [
    {
     "name": "stdout",
     "text": "0.8484669811320755\n",
     "output_type": "stream"
    }
   ],
   "execution_count": null
  },
  {
   "cell_type": "code",
   "metadata": {
    "tags": [],
    "cell_id": "00022-89cbbb5a-bc74-4fd9-b485-b01efb32d8cf",
    "deepnote_to_be_reexecuted": false,
    "source_hash": "a3a825c7",
    "execution_start": 1632487634155,
    "execution_millis": 5,
    "deepnote_cell_type": "code"
   },
   "source": "# after removing unnecessary features this is the score\n# 0.6129032258064516, 0.03696498054474708",
   "outputs": [],
   "execution_count": null
  },
  {
   "cell_type": "code",
   "metadata": {
    "tags": [],
    "cell_id": "00024-b4372a46-8e33-4657-84b7-6d73bff7b434",
    "deepnote_to_be_reexecuted": false,
    "source_hash": "89a4acc5",
    "execution_start": 1632487635798,
    "execution_millis": 6,
    "deepnote_cell_type": "code"
   },
   "source": "def Logistic_func(selected_features, X_g, y_g):\n    X = X_g.loc[:,selected_features]\n    Y = y_g\n    from sklearn.model_selection import train_test_split\n\n    x_train, x_test, y_train, y_test = train_test_split(X, Y, test_size=0.2, random_state=1)\n    \n    from sklearn.linear_model import LogisticRegression\n\n    model = LogisticRegression(fit_intercept=True, max_iter=1000)\n    model.fit(x_train, y_train)\n    y_pred = model.predict(x_train)\n    from sklearn.metrics import confusion_matrix, precision_score, recall_score\n    cfm = confusion_matrix(y_train, y_pred)\n    ps = precision_score(y_train, y_pred)\n    rs = recall_score(y_train, y_pred)\n    print( cfm, ps, rs)",
   "outputs": [],
   "execution_count": null
  },
  {
   "cell_type": "code",
   "metadata": {
    "tags": [],
    "cell_id": "00029-af6b63e2-1a5b-41bd-83c6-673b73b73374",
    "deepnote_to_be_reexecuted": false,
    "source_hash": "d92d0077",
    "execution_start": 1632487638679,
    "execution_millis": 41,
    "deepnote_cell_type": "code"
   },
   "source": "Logistic_func(sel_feat, x_train, y_train)",
   "outputs": [
    {
     "name": "stdout",
     "text": "[[2281   21]\n [ 397   14]] 0.4 0.0340632603406326\n/shared-libs/python3.7/py/lib/python3.7/site-packages/sklearn/utils/validation.py:63: DataConversionWarning: A column-vector y was passed when a 1d array was expected. Please change the shape of y to (n_samples, ), for example using ravel().\n  return f(*args, **kwargs)\n",
     "output_type": "stream"
    }
   ],
   "execution_count": null
  },
  {
   "cell_type": "code",
   "metadata": {
    "tags": [],
    "cell_id": "00030-651a6574-f236-4ca7-8900-4a3800b66237",
    "deepnote_cell_type": "code"
   },
   "source": "",
   "execution_count": null,
   "outputs": []
  },
  {
   "cell_type": "markdown",
   "source": "<a style='text-decoration:none;line-height:16px;display:flex;color:#5B5B62;padding:10px;justify-content:end;' href='https://deepnote.com?utm_source=created-in-deepnote-cell&projectId=a5ba1956-2aa0-49ed-9952-f1c7a30328f2' target=\"_blank\">\n<img alt='Created in deepnote.com' style='display:inline;max-height:16px;margin:0px;margin-right:7.5px;' src='data:image/svg+xml;base64,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' > </img>\nCreated in <span style='font-weight:600;margin-left:4px;'>Deepnote</span></a>",
   "metadata": {
    "tags": [],
    "created_in_deepnote_cell": true,
    "deepnote_cell_type": "markdown"
   }
  }
 ],
 "nbformat": 4,
 "nbformat_minor": 2,
 "metadata": {
  "orig_nbformat": 2,
  "deepnote": {
   "is_reactive": false
  },
  "deepnote_notebook_id": "9e727c03-cd11-43bb-8db7-1b9a387d5bf3",
  "deepnote_execution_queue": []
 }
}