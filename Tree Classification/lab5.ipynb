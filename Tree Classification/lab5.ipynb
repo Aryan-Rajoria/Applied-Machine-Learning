{
 "cells": [
  {
   "cell_type": "markdown",
   "metadata": {
    "cell_id": "00000-3d4afcff-49f0-46be-a99a-829433adf9d0",
    "deepnote_cell_type": "markdown",
    "tags": []
   },
   "source": [
    "# Tree Classification"
   ]
  },
  {
   "cell_type": "code",
   "execution_count": null,
   "metadata": {
    "cell_id": "00000-50bb4554-dc8a-42bd-9146-fac8f44aeb72",
    "deepnote_cell_type": "code",
    "deepnote_to_be_reexecuted": false,
    "execution_millis": 2,
    "execution_start": 1635758671499,
    "source_hash": "ecaba466",
    "tags": []
   },
   "outputs": [],
   "source": [
    "import urllib\n",
    "\n",
    "# urllib.request.urlretrieve('https://archive.ics.uci.edu/ml/machine-learning-databases/00547/Algerian_forest_fires_dataset_UPDATE.csv', '/work/Labs/lab5/data.csv')"
   ]
  },
  {
   "cell_type": "code",
   "execution_count": null,
   "metadata": {
    "cell_id": "00001-a69252b1-06f7-4fce-a008-ba905c4b20a4",
    "deepnote_cell_type": "code",
    "deepnote_to_be_reexecuted": false,
    "execution_millis": 35,
    "execution_start": 1635758671785,
    "source_hash": "630af2ba",
    "tags": []
   },
   "outputs": [],
   "source": [
    "import pandas as pd\n",
    "\n",
    "data = pd.read_csv('./data.csv')"
   ]
  },
  {
   "cell_type": "code",
   "execution_count": null,
   "metadata": {
    "cell_id": "00002-702cf999-a8ce-47b2-84ac-79b2aec4d507",
    "deepnote_cell_type": "code",
    "deepnote_to_be_reexecuted": false,
    "execution_millis": 192,
    "execution_start": 1635758672093,
    "source_hash": "e6928a8f",
    "tags": []
   },
   "outputs": [
    {
     "data": {
      "application/vnd.deepnote.dataframe.v2+json": {
       "column_count": 14,
       "columns": [
        {
         "dtype": "int64",
         "name": "day",
         "stats": {
          "histogram": [
           {
            "bin_end": 4,
            "bin_start": 1,
            "count": 24
           },
           {
            "bin_end": 7,
            "bin_start": 4,
            "count": 24
           },
           {
            "bin_end": 10,
            "bin_start": 7,
            "count": 24
           },
           {
            "bin_end": 13,
            "bin_start": 10,
            "count": 24
           },
           {
            "bin_end": 16,
            "bin_start": 13,
            "count": 24
           },
           {
            "bin_end": 19,
            "bin_start": 16,
            "count": 24
           },
           {
            "bin_end": 22,
            "bin_start": 19,
            "count": 24
           },
           {
            "bin_end": 25,
            "bin_start": 22,
            "count": 24
           },
           {
            "bin_end": 28,
            "bin_start": 25,
            "count": 24
           },
           {
            "bin_end": 31,
            "bin_start": 28,
            "count": 28
           }
          ],
          "max": "31",
          "min": "1",
          "nan_count": 0,
          "unique_count": 31
         }
        },
        {
         "dtype": "int64",
         "name": "month",
         "stats": {
          "histogram": [
           {
            "bin_end": 6.3,
            "bin_start": 6,
            "count": 60
           },
           {
            "bin_end": 6.6,
            "bin_start": 6.3,
            "count": 0
           },
           {
            "bin_end": 6.9,
            "bin_start": 6.6,
            "count": 0
           },
           {
            "bin_end": 7.2,
            "bin_start": 6.9,
            "count": 62
           },
           {
            "bin_end": 7.5,
            "bin_start": 7.2,
            "count": 0
           },
           {
            "bin_end": 7.8,
            "bin_start": 7.5,
            "count": 0
           },
           {
            "bin_end": 8.1,
            "bin_start": 7.8,
            "count": 62
           },
           {
            "bin_end": 8.4,
            "bin_start": 8.1,
            "count": 0
           },
           {
            "bin_end": 8.7,
            "bin_start": 8.4,
            "count": 0
           },
           {
            "bin_end": 9,
            "bin_start": 8.7,
            "count": 60
           }
          ],
          "max": "9",
          "min": "6",
          "nan_count": 0,
          "unique_count": 4
         }
        },
        {
         "dtype": "int64",
         "name": "year",
         "stats": {
          "histogram": [
           {
            "bin_end": 2011.6,
            "bin_start": 2011.5,
            "count": 0
           },
           {
            "bin_end": 2011.7,
            "bin_start": 2011.6,
            "count": 0
           },
           {
            "bin_end": 2011.8,
            "bin_start": 2011.7,
            "count": 0
           },
           {
            "bin_end": 2011.9,
            "bin_start": 2011.8,
            "count": 0
           },
           {
            "bin_end": 2012,
            "bin_start": 2011.9,
            "count": 0
           },
           {
            "bin_end": 2012.1,
            "bin_start": 2012,
            "count": 244
           },
           {
            "bin_end": 2012.2,
            "bin_start": 2012.1,
            "count": 0
           },
           {
            "bin_end": 2012.3,
            "bin_start": 2012.2,
            "count": 0
           },
           {
            "bin_end": 2012.4,
            "bin_start": 2012.3,
            "count": 0
           },
           {
            "bin_end": 2012.5,
            "bin_start": 2012.4,
            "count": 0
           }
          ],
          "max": "2012",
          "min": "2012",
          "nan_count": 0,
          "unique_count": 1
         }
        },
        {
         "dtype": "int64",
         "name": "Temperature",
         "stats": {
          "histogram": [
           {
            "bin_end": 24,
            "bin_start": 22,
            "count": 2
           },
           {
            "bin_end": 26,
            "bin_start": 24,
            "count": 9
           },
           {
            "bin_end": 28,
            "bin_start": 26,
            "count": 13
           },
           {
            "bin_end": 30,
            "bin_start": 28,
            "count": 33
           },
           {
            "bin_end": 32,
            "bin_start": 30,
            "count": 47
           },
           {
            "bin_end": 34,
            "bin_start": 32,
            "count": 44
           },
           {
            "bin_end": 36,
            "bin_start": 34,
            "count": 53
           },
           {
            "bin_end": 38,
            "bin_start": 36,
            "count": 30
           },
           {
            "bin_end": 40,
            "bin_start": 38,
            "count": 9
           },
           {
            "bin_end": 42,
            "bin_start": 40,
            "count": 4
           }
          ],
          "max": "42",
          "min": "22",
          "nan_count": 0,
          "unique_count": 19
         }
        },
        {
         "dtype": "int64",
         "name": " RH",
         "stats": {
          "histogram": [
           {
            "bin_end": 27.9,
            "bin_start": 21,
            "count": 3
           },
           {
            "bin_end": 34.8,
            "bin_start": 27.9,
            "count": 7
           },
           {
            "bin_end": 41.7,
            "bin_start": 34.8,
            "count": 13
           },
           {
            "bin_end": 48.6,
            "bin_start": 41.7,
            "count": 24
           },
           {
            "bin_end": 55.5,
            "bin_start": 48.6,
            "count": 38
           },
           {
            "bin_end": 62.400000000000006,
            "bin_start": 55.5,
            "count": 34
           },
           {
            "bin_end": 69.30000000000001,
            "bin_start": 62.400000000000006,
            "count": 45
           },
           {
            "bin_end": 76.2,
            "bin_start": 69.30000000000001,
            "count": 32
           },
           {
            "bin_end": 83.1,
            "bin_start": 76.2,
            "count": 32
           },
           {
            "bin_end": 90,
            "bin_start": 83.1,
            "count": 16
           }
          ],
          "max": "90",
          "min": "21",
          "nan_count": 0,
          "unique_count": 62
         }
        },
        {
         "dtype": "int64",
         "name": " Ws",
         "stats": {
          "histogram": [
           {
            "bin_end": 8.3,
            "bin_start": 6,
            "count": 2
           },
           {
            "bin_end": 10.6,
            "bin_start": 8.3,
            "count": 5
           },
           {
            "bin_end": 12.899999999999999,
            "bin_start": 10.6,
            "count": 14
           },
           {
            "bin_end": 15.2,
            "bin_start": 12.899999999999999,
            "count": 113
           },
           {
            "bin_end": 17.5,
            "bin_start": 15.2,
            "count": 55
           },
           {
            "bin_end": 19.799999999999997,
            "bin_start": 17.5,
            "count": 41
           },
           {
            "bin_end": 22.099999999999998,
            "bin_start": 19.799999999999997,
            "count": 12
           },
           {
            "bin_end": 24.4,
            "bin_start": 22.099999999999998,
            "count": 0
           },
           {
            "bin_end": 26.7,
            "bin_start": 24.4,
            "count": 1
           },
           {
            "bin_end": 29,
            "bin_start": 26.7,
            "count": 1
           }
          ],
          "max": "29",
          "min": "6",
          "nan_count": 0,
          "unique_count": 18
         }
        },
        {
         "dtype": "float64",
         "name": "Rain ",
         "stats": {
          "histogram": [
           {
            "bin_end": 1.6800000000000002,
            "bin_start": 0,
            "count": 213
           },
           {
            "bin_end": 3.3600000000000003,
            "bin_start": 1.6800000000000002,
            "count": 14
           },
           {
            "bin_end": 5.040000000000001,
            "bin_start": 3.3600000000000003,
            "count": 8
           },
           {
            "bin_end": 6.720000000000001,
            "bin_start": 5.040000000000001,
            "count": 3
           },
           {
            "bin_end": 8.4,
            "bin_start": 6.720000000000001,
            "count": 2
           },
           {
            "bin_end": 10.080000000000002,
            "bin_start": 8.4,
            "count": 1
           },
           {
            "bin_end": 11.760000000000002,
            "bin_start": 10.080000000000002,
            "count": 1
           },
           {
            "bin_end": 13.440000000000001,
            "bin_start": 11.760000000000002,
            "count": 1
           },
           {
            "bin_end": 15.120000000000001,
            "bin_start": 13.440000000000001,
            "count": 0
           },
           {
            "bin_end": 16.8,
            "bin_start": 15.120000000000001,
            "count": 1
           }
          ],
          "max": "16.8",
          "min": "0.0",
          "nan_count": 0,
          "unique_count": 39
         }
        },
        {
         "dtype": "float64",
         "name": "FFMC",
         "stats": {
          "histogram": [
           {
            "bin_end": 35.34,
            "bin_start": 28.6,
            "count": 2
           },
           {
            "bin_end": 42.08,
            "bin_start": 35.34,
            "count": 5
           },
           {
            "bin_end": 48.82,
            "bin_start": 42.08,
            "count": 11
           },
           {
            "bin_end": 55.56,
            "bin_start": 48.82,
            "count": 5
           },
           {
            "bin_end": 62.300000000000004,
            "bin_start": 55.56,
            "count": 16
           },
           {
            "bin_end": 69.03999999999999,
            "bin_start": 62.300000000000004,
            "count": 16
           },
           {
            "bin_end": 75.78,
            "bin_start": 69.03999999999999,
            "count": 20
           },
           {
            "bin_end": 82.52000000000001,
            "bin_start": 75.78,
            "count": 42
           },
           {
            "bin_end": 89.26,
            "bin_start": 82.52000000000001,
            "count": 87
           },
           {
            "bin_end": 96,
            "bin_start": 89.26,
            "count": 40
           }
          ],
          "max": "96.0",
          "min": "28.6",
          "nan_count": 0,
          "unique_count": 173
         }
        },
        {
         "dtype": "float64",
         "name": "DMC",
         "stats": {
          "histogram": [
           {
            "bin_end": 7.220000000000001,
            "bin_start": 0.7,
            "count": 80
           },
           {
            "bin_end": 13.74,
            "bin_start": 7.220000000000001,
            "count": 67
           },
           {
            "bin_end": 20.26,
            "bin_start": 13.74,
            "count": 35
           },
           {
            "bin_end": 26.78,
            "bin_start": 20.26,
            "count": 30
           },
           {
            "bin_end": 33.300000000000004,
            "bin_start": 26.78,
            "count": 11
           },
           {
            "bin_end": 39.82000000000001,
            "bin_start": 33.300000000000004,
            "count": 7
           },
           {
            "bin_end": 46.34,
            "bin_start": 39.82000000000001,
            "count": 6
           },
           {
            "bin_end": 52.86000000000001,
            "bin_start": 46.34,
            "count": 4
           },
           {
            "bin_end": 59.38000000000001,
            "bin_start": 52.86000000000001,
            "count": 2
           },
           {
            "bin_end": 65.9,
            "bin_start": 59.38000000000001,
            "count": 2
           }
          ],
          "max": "65.9",
          "min": "0.7",
          "nan_count": 0,
          "unique_count": 166
         }
        },
        {
         "dtype": "object",
         "name": "DC",
         "stats": {
          "categories": [
           {
            "count": 5,
            "name": "8"
           },
           {
            "count": 4,
            "name": "7.6"
           },
           {
            "count": 235,
            "name": "196 others"
           }
          ],
          "nan_count": 0,
          "unique_count": 198
         }
        },
        {
         "dtype": "float64",
         "name": "ISI",
         "stats": {
          "histogram": [
           {
            "bin_end": 1.9,
            "bin_start": 0,
            "count": 80
           },
           {
            "bin_end": 3.8,
            "bin_start": 1.9,
            "count": 44
           },
           {
            "bin_end": 5.699999999999999,
            "bin_start": 3.8,
            "count": 40
           },
           {
            "bin_end": 7.6,
            "bin_start": 5.699999999999999,
            "count": 24
           },
           {
            "bin_end": 9.5,
            "bin_start": 7.6,
            "count": 21
           },
           {
            "bin_end": 11.399999999999999,
            "bin_start": 9.5,
            "count": 15
           },
           {
            "bin_end": 13.299999999999999,
            "bin_start": 11.399999999999999,
            "count": 7
           },
           {
            "bin_end": 15.2,
            "bin_start": 13.299999999999999,
            "count": 5
           },
           {
            "bin_end": 17.099999999999998,
            "bin_start": 15.2,
            "count": 5
           },
           {
            "bin_end": 19,
            "bin_start": 17.099999999999998,
            "count": 3
           }
          ],
          "max": "19.0",
          "min": "0.0",
          "nan_count": 0,
          "unique_count": 106
         }
        },
        {
         "dtype": "float64",
         "name": "BUI",
         "stats": {
          "histogram": [
           {
            "bin_end": 7.790000000000001,
            "bin_start": 1.1,
            "count": 80
           },
           {
            "bin_end": 14.48,
            "bin_start": 7.790000000000001,
            "count": 58
           },
           {
            "bin_end": 21.17,
            "bin_start": 14.48,
            "count": 35
           },
           {
            "bin_end": 27.860000000000003,
            "bin_start": 21.17,
            "count": 27
           },
           {
            "bin_end": 34.550000000000004,
            "bin_start": 27.860000000000003,
            "count": 14
           },
           {
            "bin_end": 41.24,
            "bin_start": 34.550000000000004,
            "count": 13
           },
           {
            "bin_end": 47.93000000000001,
            "bin_start": 41.24,
            "count": 6
           },
           {
            "bin_end": 54.620000000000005,
            "bin_start": 47.93000000000001,
            "count": 2
           },
           {
            "bin_end": 61.31,
            "bin_start": 54.620000000000005,
            "count": 5
           },
           {
            "bin_end": 68,
            "bin_start": 61.31,
            "count": 4
           }
          ],
          "max": "68.0",
          "min": "1.1",
          "nan_count": 0,
          "unique_count": 174
         }
        },
        {
         "dtype": "object",
         "name": "FWI",
         "stats": {
          "categories": [
           {
            "count": 12,
            "name": "0.4"
           },
           {
            "count": 10,
            "name": "0.8"
           },
           {
            "count": 222,
            "name": "125 others"
           }
          ],
          "nan_count": 0,
          "unique_count": 127
         }
        },
        {
         "dtype": "object",
         "name": "Classes  ",
         "stats": {
          "categories": [
           {
            "count": 131,
            "name": "fire   "
           },
           {
            "count": 112,
            "name": "7 others"
           },
           {
            "count": 1,
            "name": "Missing"
           }
          ],
          "nan_count": 1,
          "unique_count": 8
         }
        },
        {
         "dtype": "int64",
         "name": "_deepnote_index_column"
        }
       ],
       "row_count": 244,
       "rows_bottom": [
        {
         " RH": 37,
         " Ws": 16,
         "BUI": 64,
         "Classes  ": "fire   ",
         "DC": "167.2",
         "DMC": 61.3,
         "FFMC": 92.2,
         "FWI": "30.3",
         "ISI": 13.1,
         "Rain ": 0,
         "Temperature": 33,
         "_deepnote_index_column": 208,
         "day": 26,
         "month": 8,
         "year": 2012
        },
        {
         " RH": 54,
         " Ws": 14,
         "BUI": 68,
         "Classes  ": "fire   ",
         "DC": "177.3",
         "DMC": 65.9,
         "FFMC": 91,
         "FWI": "26.1",
         "ISI": 10,
         "Rain ": 0,
         "Temperature": 36,
         "_deepnote_index_column": 209,
         "day": 27,
         "month": 8,
         "year": 2012
        },
        {
         " RH": 56,
         " Ws": 14,
         "BUI": 30.6,
         "Classes  ": "not fire   ",
         "DC": "166",
         "DMC": 37,
         "FFMC": 79.2,
         "FWI": "6.1",
         "ISI": 2.1,
         "Rain ": 0.4,
         "Temperature": 35,
         "_deepnote_index_column": 210,
         "day": 28,
         "month": 8,
         "year": 2012
        },
        {
         " RH": 53,
         " Ws": 17,
         "BUI": 30.6,
         "Classes  ": "fire   ",
         "DC": "149.2",
         "DMC": 20.7,
         "FFMC": 80.2,
         "FWI": "5.9",
         "ISI": 2.7,
         "Rain ": 0.5,
         "Temperature": 35,
         "_deepnote_index_column": 211,
         "day": 29,
         "month": 8,
         "year": 2012
        },
        {
         " RH": 49,
         " Ws": 15,
         "BUI": 35.7,
         "Classes  ": "fire   ",
         "DC": "159.1",
         "DMC": 24.8,
         "FFMC": 89.2,
         "FWI": "16",
         "ISI": 8.1,
         "Rain ": 0,
         "Temperature": 34,
         "_deepnote_index_column": 212,
         "day": 30,
         "month": 8,
         "year": 2012
        },
        {
         " RH": 59,
         " Ws": 19,
         "BUI": 39.3,
         "Classes  ": "fire   ",
         "DC": "168.2",
         "DMC": 27.8,
         "FFMC": 89.1,
         "FWI": "19.4",
         "ISI": 9.8,
         "Rain ": 0,
         "Temperature": 30,
         "_deepnote_index_column": 213,
         "day": 31,
         "month": 8,
         "year": 2012
        },
        {
         " RH": 86,
         " Ws": 16,
         "BUI": 1.4,
         "Classes  ": "not fire   ",
         "DC": "8.2",
         "DMC": 0.9,
         "FFMC": 37.9,
         "FWI": "0",
         "ISI": 0.1,
         "Rain ": 0,
         "Temperature": 29,
         "_deepnote_index_column": 214,
         "day": 1,
         "month": 9,
         "year": 2012
        },
        {
         " RH": 67,
         " Ws": 19,
         "BUI": 4,
         "Classes  ": "not fire   ",
         "DC": "16.3",
         "DMC": 2.9,
         "FFMC": 75.4,
         "FWI": "0.8",
         "ISI": 2,
         "Rain ": 0,
         "Temperature": 28,
         "_deepnote_index_column": 215,
         "day": 2,
         "month": 9,
         "year": 2012
        },
        {
         " RH": 75,
         " Ws": 16,
         "BUI": 6,
         "Classes  ": "fire   ",
         "DC": "24.3",
         "DMC": 4.4,
         "FFMC": 82.2,
         "FWI": "2.5",
         "ISI": 3.3,
         "Rain ": 0,
         "Temperature": 28,
         "_deepnote_index_column": 216,
         "day": 3,
         "month": 9,
         "year": 2012
        },
        {
         " RH": 66,
         " Ws": 15,
         "BUI": 6,
         "Classes  ": "not fire   ",
         "DC": "26.6",
         "DMC": 4.1,
         "FFMC": 73.5,
         "FWI": "0.7",
         "ISI": 1.5,
         "Rain ": 0.2,
         "Temperature": 30,
         "_deepnote_index_column": 217,
         "day": 4,
         "month": 9,
         "year": 2012
        },
        {
         " RH": 58,
         " Ws": 12,
         "BUI": 3.9,
         "Classes  ": "not fire   ",
         "DC": "8.4",
         "DMC": 4,
         "FFMC": 66.1,
         "FWI": "0.4",
         "ISI": 1,
         "Rain ": 4.1,
         "Temperature": 30,
         "_deepnote_index_column": 218,
         "day": 5,
         "month": 9,
         "year": 2012
        },
        {
         " RH": 71,
         " Ws": 14,
         "BUI": 3.5,
         "Classes  ": "not fire   ",
         "DC": "9.1",
         "DMC": 3.3,
         "FFMC": 64.5,
         "FWI": "0.4",
         "ISI": 1,
         "Rain ": 6.5,
         "Temperature": 34,
         "_deepnote_index_column": 219,
         "day": 6,
         "month": 9,
         "year": 2012
        },
        {
         " RH": 62,
         " Ws": 15,
         "BUI": 6.4,
         "Classes  ": "fire   ",
         "DC": "17.7",
         "DMC": 5.8,
         "FFMC": 83.3,
         "FWI": "3.2",
         "ISI": 3.8,
         "Rain ": 0,
         "Temperature": 31,
         "_deepnote_index_column": 220,
         "day": 7,
         "month": 9,
         "year": 2012
        },
        {
         " RH": 88,
         " Ws": 14,
         "BUI": 8.1,
         "Classes  ": "fire   ",
         "DC": "26.1",
         "DMC": 6.6,
         "FFMC": 82.5,
         "FWI": "2.7",
         "ISI": 3,
         "Rain ": 0,
         "Temperature": 30,
         "_deepnote_index_column": 221,
         "day": 8,
         "month": 9,
         "year": 2012
        },
        {
         " RH": 80,
         " Ws": 15,
         "BUI": 10,
         "Classes  ": "fire   ",
         "DC": "34.5",
         "DMC": 7.9,
         "FFMC": 83.1,
         "FWI": "3.7",
         "ISI": 3.5,
         "Rain ": 0,
         "Temperature": 30,
         "_deepnote_index_column": 222,
         "day": 9,
         "month": 9,
         "year": 2012
        },
        {
         " RH": 74,
         " Ws": 15,
         "BUI": 4.6,
         "Classes  ": "not fire   ",
         "DC": "8.2",
         "DMC": 4.7,
         "FFMC": 59.5,
         "FWI": "0.3",
         "ISI": 0.8,
         "Rain ": 1.1,
         "Temperature": 29,
         "_deepnote_index_column": 223,
         "day": 10,
         "month": 9,
         "year": 2012
        },
        {
         " RH": 73,
         " Ws": 14,
         "BUI": 6.6,
         "Classes  ": "not fire   ",
         "DC": "16.6",
         "DMC": 6.5,
         "FFMC": 79.2,
         "FWI": "1.2",
         "ISI": 2.1,
         "Rain ": 0,
         "Temperature": 30,
         "_deepnote_index_column": 224,
         "day": 11,
         "month": 9,
         "year": 2012
        },
        {
         " RH": 72,
         " Ws": 14,
         "BUI": 9.1,
         "Classes  ": "fire   ",
         "DC": "25.2",
         "DMC": 8.3,
         "FFMC": 84.2,
         "FWI": "3.9",
         "ISI": 3.8,
         "Rain ": 0,
         "Temperature": 31,
         "_deepnote_index_column": 225,
         "day": 12,
         "month": 9,
         "year": 2012
        },
        {
         " RH": 49,
         " Ws": 19,
         "BUI": 12.4,
         "Classes  ": "fire   ",
         "DC": "33.4",
         "DMC": 11.5,
         "FFMC": 88.6,
         "FWI": "10.3",
         "ISI": 9.1,
         "Rain ": 0,
         "Temperature": 29,
         "_deepnote_index_column": 226,
         "day": 13,
         "month": 9,
         "year": 2012
        },
        {
         " RH": 81,
         " Ws": 15,
         "BUI": 14.3,
         "Classes  ": "fire   ",
         "DC": "41.5",
         "DMC": 12.6,
         "FFMC": 84.6,
         "FWI": "5.7",
         "ISI": 4.3,
         "Rain ": 0,
         "Temperature": 28,
         "_deepnote_index_column": 227,
         "day": 14,
         "month": 9,
         "year": 2012
        },
        {
         " RH": 51,
         " Ws": 13,
         "BUI": 17.8,
         "Classes  ": "fire   ",
         "DC": "50.2",
         "DMC": 16,
         "FFMC": 88.7,
         "FWI": "9.8",
         "ISI": 6.9,
         "Rain ": 0,
         "Temperature": 32,
         "_deepnote_index_column": 228,
         "day": 15,
         "month": 9,
         "year": 2012
        },
        {
         " RH": 26,
         " Ws": 13,
         "BUI": 22.4,
         "Classes  ": "fire   ",
         "DC": "59.2",
         "DMC": 21.2,
         "FFMC": 93.9,
         "FWI": "19.3",
         "ISI": 14.2,
         "Rain ": 0,
         "Temperature": 33,
         "_deepnote_index_column": 229,
         "day": 16,
         "month": 9,
         "year": 2012
        },
        {
         " RH": 44,
         " Ws": 12,
         "BUI": 26.2,
         "Classes  ": "fire   ",
         "DC": "63.3",
         "DMC": 25.2,
         "FFMC": 92.5,
         "FWI": "17.5",
         "ISI": 11.2,
         "Rain ": 0,
         "Temperature": 34,
         "_deepnote_index_column": 230,
         "day": 17,
         "month": 9,
         "year": 2012
        },
        {
         " RH": 33,
         " Ws": 13,
         "BUI": 28.2,
         "Classes  ": "fire   ",
         "DC": "77.8",
         "DMC": 25.8,
         "FFMC": 90.6,
         "FWI": "15.4",
         "ISI": 9,
         "Rain ": 0.1,
         "Temperature": 36,
         "_deepnote_index_column": 231,
         "day": 18,
         "month": 9,
         "year": 2012
        },
        {
         " RH": 41,
         " Ws": 8,
         "BUI": 28.9,
         "Classes  ": "fire   ",
         "DC": "86",
         "DMC": 24.9,
         "FFMC": 83.9,
         "FWI": "5.6",
         "ISI": 2.7,
         "Rain ": 0.1,
         "Temperature": 29,
         "_deepnote_index_column": 232,
         "day": 19,
         "month": 9,
         "year": 2012
        },
        {
         " RH": 58,
         " Ws": 13,
         "BUI": 24.4,
         "Classes  ": "not fire   ",
         "DC": "88",
         "DMC": 18.7,
         "FFMC": 79.5,
         "FWI": "3.8",
         "ISI": 2.1,
         "Rain ": 0.2,
         "Temperature": 34,
         "_deepnote_index_column": 233,
         "day": 20,
         "month": 9,
         "year": 2012
        },
        {
         " RH": 34,
         " Ws": 17,
         "BUI": 29.4,
         "Classes  ": "fire   ",
         "DC": "97.3",
         "DMC": 23.6,
         "FFMC": 92.2,
         "FWI": "21.6",
         "ISI": 13.8,
         "Rain ": 0,
         "Temperature": 35,
         "_deepnote_index_column": 234,
         "day": 21,
         "month": 9,
         "year": 2012
        },
        {
         " RH": 64,
         " Ws": 13,
         "BUI": 32.4,
         "Classes  ": "fire   ",
         "DC": "106.3",
         "DMC": 26.1,
         "FFMC": 88.9,
         "FWI": "13.7",
         "ISI": 7.1,
         "Rain ": 0,
         "Temperature": 33,
         "_deepnote_index_column": 235,
         "day": 22,
         "month": 9,
         "year": 2012
        },
        {
         " RH": 56,
         " Ws": 14,
         "BUI": 36,
         "Classes  ": "fire   ",
         "DC": "115.6",
         "DMC": 29.4,
         "FFMC": 89,
         "FWI": "15.2",
         "ISI": 7.5,
         "Rain ": 0,
         "Temperature": 35,
         "_deepnote_index_column": 236,
         "day": 23,
         "month": 9,
         "year": 2012
        },
        {
         " RH": 49,
         " Ws": 6,
         "BUI": 11.9,
         "Classes  ": "not fire   ",
         "DC": "28.1",
         "DMC": 11.9,
         "FFMC": 61.3,
         "FWI": "0.4",
         "ISI": 0.6,
         "Rain ": 2,
         "Temperature": 26,
         "_deepnote_index_column": 237,
         "day": 24,
         "month": 9,
         "year": 2012
        },
        {
         " RH": 70,
         " Ws": 15,
         "BUI": 14.1,
         "Classes  ": "not fire   ",
         "DC": "36.1",
         "DMC": 13.8,
         "FFMC": 79.9,
         "FWI": "3",
         "ISI": 2.4,
         "Rain ": 0,
         "Temperature": 28,
         "_deepnote_index_column": 238,
         "day": 25,
         "month": 9,
         "year": 2012
        },
        {
         " RH": 65,
         " Ws": 14,
         "BUI": 16.9,
         "Classes  ": "fire   ",
         "DC": "44.5",
         "DMC": 16,
         "FFMC": 85.4,
         "FWI": "6.5",
         "ISI": 4.5,
         "Rain ": 0,
         "Temperature": 30,
         "_deepnote_index_column": 239,
         "day": 26,
         "month": 9,
         "year": 2012
        },
        {
         " RH": 87,
         " Ws": 15,
         "BUI": 6.2,
         "Classes  ": "not fire   ",
         "DC": "8",
         "DMC": 6.5,
         "FFMC": 41.1,
         "FWI": "0",
         "ISI": 0.1,
         "Rain ": 4.4,
         "Temperature": 28,
         "_deepnote_index_column": 240,
         "day": 27,
         "month": 9,
         "year": 2012
        },
        {
         " RH": 87,
         " Ws": 29,
         "BUI": 3.4,
         "Classes  ": "not fire   ",
         "DC": "7.9",
         "DMC": 3.5,
         "FFMC": 45.9,
         "FWI": "0.2",
         "ISI": 0.4,
         "Rain ": 0.5,
         "Temperature": 27,
         "_deepnote_index_column": 241,
         "day": 28,
         "month": 9,
         "year": 2012
        },
        {
         " RH": 54,
         " Ws": 18,
         "BUI": 5.1,
         "Classes  ": "not fire   ",
         "DC": "15.2",
         "DMC": 4.3,
         "FFMC": 79.7,
         "FWI": "0.7",
         "ISI": 1.7,
         "Rain ": 0.1,
         "Temperature": 24,
         "_deepnote_index_column": 242,
         "day": 29,
         "month": 9,
         "year": 2012
        },
        {
         " RH": 64,
         " Ws": 15,
         "BUI": 4.8,
         "Classes  ": "not fire    ",
         "DC": "16.5",
         "DMC": 3.8,
         "FFMC": 67.3,
         "FWI": "0.5",
         "ISI": 1.2,
         "Rain ": 0.2,
         "Temperature": 24,
         "_deepnote_index_column": 243,
         "day": 30,
         "month": 9,
         "year": 2012
        }
       ],
       "rows_top": [
        {
         " RH": 57,
         " Ws": 18,
         "BUI": 3.4,
         "Classes  ": "not fire   ",
         "DC": "7.6",
         "DMC": 3.4,
         "FFMC": 65.7,
         "FWI": "0.5",
         "ISI": 1.3,
         "Rain ": 0,
         "Temperature": 29,
         "_deepnote_index_column": 0,
         "day": 1,
         "month": 6,
         "year": 2012
        },
        {
         " RH": 61,
         " Ws": 13,
         "BUI": 3.9,
         "Classes  ": "not fire   ",
         "DC": "7.6",
         "DMC": 4.1,
         "FFMC": 64.4,
         "FWI": "0.4",
         "ISI": 1,
         "Rain ": 1.3,
         "Temperature": 29,
         "_deepnote_index_column": 1,
         "day": 2,
         "month": 6,
         "year": 2012
        },
        {
         " RH": 82,
         " Ws": 22,
         "BUI": 2.7,
         "Classes  ": "not fire   ",
         "DC": "7.1",
         "DMC": 2.5,
         "FFMC": 47.1,
         "FWI": "0.1",
         "ISI": 0.3,
         "Rain ": 13.1,
         "Temperature": 26,
         "_deepnote_index_column": 2,
         "day": 3,
         "month": 6,
         "year": 2012
        },
        {
         " RH": 89,
         " Ws": 13,
         "BUI": 1.7,
         "Classes  ": "not fire   ",
         "DC": "6.9",
         "DMC": 1.3,
         "FFMC": 28.6,
         "FWI": "0",
         "ISI": 0,
         "Rain ": 2.5,
         "Temperature": 25,
         "_deepnote_index_column": 3,
         "day": 4,
         "month": 6,
         "year": 2012
        },
        {
         " RH": 77,
         " Ws": 16,
         "BUI": 3.9,
         "Classes  ": "not fire   ",
         "DC": "14.2",
         "DMC": 3,
         "FFMC": 64.8,
         "FWI": "0.5",
         "ISI": 1.2,
         "Rain ": 0,
         "Temperature": 27,
         "_deepnote_index_column": 4,
         "day": 5,
         "month": 6,
         "year": 2012
        },
        {
         " RH": 67,
         " Ws": 14,
         "BUI": 7,
         "Classes  ": "fire   ",
         "DC": "22.2",
         "DMC": 5.8,
         "FFMC": 82.6,
         "FWI": "2.5",
         "ISI": 3.1,
         "Rain ": 0,
         "Temperature": 31,
         "_deepnote_index_column": 5,
         "day": 6,
         "month": 6,
         "year": 2012
        },
        {
         " RH": 54,
         " Ws": 13,
         "BUI": 10.9,
         "Classes  ": "fire   ",
         "DC": "30.5",
         "DMC": 9.9,
         "FFMC": 88.2,
         "FWI": "7.2",
         "ISI": 6.4,
         "Rain ": 0,
         "Temperature": 33,
         "_deepnote_index_column": 6,
         "day": 7,
         "month": 6,
         "year": 2012
        },
        {
         " RH": 73,
         " Ws": 15,
         "BUI": 13.5,
         "Classes  ": "fire   ",
         "DC": "38.3",
         "DMC": 12.1,
         "FFMC": 86.6,
         "FWI": "7.1",
         "ISI": 5.6,
         "Rain ": 0,
         "Temperature": 30,
         "_deepnote_index_column": 7,
         "day": 8,
         "month": 6,
         "year": 2012
        },
        {
         " RH": 88,
         " Ws": 13,
         "BUI": 10.5,
         "Classes  ": "not fire   ",
         "DC": "38.8",
         "DMC": 7.9,
         "FFMC": 52.9,
         "FWI": "0.3",
         "ISI": 0.4,
         "Rain ": 0.2,
         "Temperature": 25,
         "_deepnote_index_column": 8,
         "day": 9,
         "month": 6,
         "year": 2012
        },
        {
         " RH": 79,
         " Ws": 12,
         "BUI": 12.6,
         "Classes  ": "not fire   ",
         "DC": "46.3",
         "DMC": 9.5,
         "FFMC": 73.2,
         "FWI": "0.9",
         "ISI": 1.3,
         "Rain ": 0,
         "Temperature": 28,
         "_deepnote_index_column": 9,
         "day": 10,
         "month": 6,
         "year": 2012
        },
        {
         " RH": 65,
         " Ws": 14,
         "BUI": 15.8,
         "Classes  ": "fire   ",
         "DC": "54.3",
         "DMC": 12.5,
         "FFMC": 84.5,
         "FWI": "5.6",
         "ISI": 4,
         "Rain ": 0,
         "Temperature": 31,
         "_deepnote_index_column": 10,
         "day": 11,
         "month": 6,
         "year": 2012
        },
        {
         " RH": 81,
         " Ws": 19,
         "BUI": 17.7,
         "Classes  ": "fire   ",
         "DC": "61.4",
         "DMC": 13.8,
         "FFMC": 84,
         "FWI": "7.1 ",
         "ISI": 4.8,
         "Rain ": 0,
         "Temperature": 26,
         "_deepnote_index_column": 11,
         "day": 12,
         "month": 6,
         "year": 2012
        },
        {
         " RH": 84,
         " Ws": 21,
         "BUI": 6.7,
         "Classes  ": "not fire   ",
         "DC": "17",
         "DMC": 6.7,
         "FFMC": 50,
         "FWI": "0.2",
         "ISI": 0.5,
         "Rain ": 1.2,
         "Temperature": 27,
         "_deepnote_index_column": 12,
         "day": 13,
         "month": 6,
         "year": 2012
        },
        {
         " RH": 78,
         " Ws": 20,
         "BUI": 4.4,
         "Classes  ": "not fire   ",
         "DC": "7.8",
         "DMC": 4.6,
         "FFMC": 59,
         "FWI": "0.4",
         "ISI": 1,
         "Rain ": 0.5,
         "Temperature": 30,
         "_deepnote_index_column": 13,
         "day": 14,
         "month": 6,
         "year": 2012
        },
        {
         " RH": 80,
         " Ws": 17,
         "BUI": 3,
         "Classes  ": "not fire   ",
         "DC": "7.4",
         "DMC": 3,
         "FFMC": 49.4,
         "FWI": "0.1",
         "ISI": 0.4,
         "Rain ": 3.1,
         "Temperature": 28,
         "_deepnote_index_column": 14,
         "day": 15,
         "month": 6,
         "year": 2012
        },
        {
         " RH": 89,
         " Ws": 13,
         "BUI": 2.2,
         "Classes  ": "not fire   ",
         "DC": "7.6",
         "DMC": 1.7,
         "FFMC": 36.1,
         "FWI": "0",
         "ISI": 0,
         "Rain ": 0.7,
         "Temperature": 29,
         "_deepnote_index_column": 15,
         "day": 16,
         "month": 6,
         "year": 2012
        },
        {
         " RH": 89,
         " Ws": 16,
         "BUI": 1.6,
         "Classes  ": "not fire   ",
         "DC": "7.8",
         "DMC": 1.1,
         "FFMC": 37.3,
         "FWI": "0",
         "ISI": 0,
         "Rain ": 0.6,
         "Temperature": 30,
         "_deepnote_index_column": 16,
         "day": 17,
         "month": 6,
         "year": 2012
        },
        {
         " RH": 78,
         " Ws": 14,
         "BUI": 2.4,
         "Classes  ": "not fire   ",
         "DC": "8",
         "DMC": 1.9,
         "FFMC": 56.9,
         "FWI": "0.2",
         "ISI": 0.7,
         "Rain ": 0.3,
         "Temperature": 31,
         "_deepnote_index_column": 17,
         "day": 18,
         "month": 6,
         "year": 2012
        },
        {
         " RH": 55,
         " Ws": 16,
         "BUI": 5.3,
         "Classes  ": "not fire   ",
         "DC": "16",
         "DMC": 4.5,
         "FFMC": 79.9,
         "FWI": "1.4",
         "ISI": 2.5,
         "Rain ": 0.1,
         "Temperature": 31,
         "_deepnote_index_column": 18,
         "day": 19,
         "month": 6,
         "year": 2012
        },
        {
         " RH": 80,
         " Ws": 16,
         "BUI": 5.1,
         "Classes  ": "not fire   ",
         "DC": "27.1",
         "DMC": 3.4,
         "FFMC": 59.8,
         "FWI": "0.4",
         "ISI": 0.9,
         "Rain ": 0.4,
         "Temperature": 30,
         "_deepnote_index_column": 19,
         "day": 20,
         "month": 6,
         "year": 2012
        },
        {
         " RH": 78,
         " Ws": 14,
         "BUI": 8.4,
         "Classes  ": "fire   ",
         "DC": "31.6",
         "DMC": 6.3,
         "FFMC": 81,
         "FWI": "2.2",
         "ISI": 2.6,
         "Rain ": 0,
         "Temperature": 30,
         "_deepnote_index_column": 20,
         "day": 21,
         "month": 6,
         "year": 2012
        },
        {
         " RH": 67,
         " Ws": 17,
         "BUI": 9.7,
         "Classes  ": "not fire   ",
         "DC": "39.5",
         "DMC": 7,
         "FFMC": 79.1,
         "FWI": "2.3",
         "ISI": 2.4,
         "Rain ": 0.1,
         "Temperature": 31,
         "_deepnote_index_column": 21,
         "day": 22,
         "month": 6,
         "year": 2012
        },
        {
         " RH": 62,
         " Ws": 18,
         "BUI": 11.5,
         "Classes  ": "fire   ",
         "DC": "47.7",
         "DMC": 8.2,
         "FFMC": 81.4,
         "FWI": "3.8",
         "ISI": 3.3,
         "Rain ": 0.1,
         "Temperature": 32,
         "_deepnote_index_column": 22,
         "day": 23,
         "month": 6,
         "year": 2012
        },
        {
         " RH": 66,
         " Ws": 17,
         "BUI": 14.9,
         "Classes  ": "fire   ",
         "DC": "55.8",
         "DMC": 11.2,
         "FFMC": 85.9,
         "FWI": "7.5",
         "ISI": 5.6,
         "Rain ": 0,
         "Temperature": 32,
         "_deepnote_index_column": 23,
         "day": 24,
         "month": 6,
         "year": 2012
        },
        {
         " RH": 64,
         " Ws": 15,
         "BUI": 18.3,
         "Classes  ": "fire   ",
         "DC": "63.8",
         "DMC": 14.2,
         "FFMC": 86.7,
         "FWI": "8.4",
         "ISI": 5.7,
         "Rain ": 0,
         "Temperature": 31,
         "_deepnote_index_column": 24,
         "day": 25,
         "month": 6,
         "year": 2012
        },
        {
         " RH": 64,
         " Ws": 18,
         "BUI": 21.6,
         "Classes  ": "fire   ",
         "DC": "71.8",
         "DMC": 17.8,
         "FFMC": 86.8,
         "FWI": "10.6",
         "ISI": 6.7,
         "Rain ": 0,
         "Temperature": 31,
         "_deepnote_index_column": 25,
         "day": 26,
         "month": 6,
         "year": 2012
        },
        {
         " RH": 53,
         " Ws": 18,
         "BUI": 25.8,
         "Classes  ": "fire   ",
         "DC": "80.3",
         "DMC": 21.6,
         "FFMC": 89,
         "FWI": "15",
         "ISI": 9.2,
         "Rain ": 0,
         "Temperature": 34,
         "_deepnote_index_column": 26,
         "day": 27,
         "month": 6,
         "year": 2012
        },
        {
         " RH": 55,
         " Ws": 14,
         "BUI": 29.7,
         "Classes  ": "fire   ",
         "DC": "88.5",
         "DMC": 25.5,
         "FFMC": 89.1,
         "FWI": "13.9",
         "ISI": 7.6,
         "Rain ": 0,
         "Temperature": 32,
         "_deepnote_index_column": 27,
         "day": 28,
         "month": 6,
         "year": 2012
        },
        {
         " RH": 47,
         " Ws": 13,
         "BUI": 23.8,
         "Classes  ": "not fire   ",
         "DC": "84.4",
         "DMC": 18.4,
         "FFMC": 79.9,
         "FWI": "3.9",
         "ISI": 2.2,
         "Rain ": 0.3,
         "Temperature": 32,
         "_deepnote_index_column": 28,
         "day": 29,
         "month": 6,
         "year": 2012
        },
        {
         " RH": 50,
         " Ws": 14,
         "BUI": 28.3,
         "Classes  ": "fire   ",
         "DC": "92.8",
         "DMC": 22.9,
         "FFMC": 88.7,
         "FWI": "12.9",
         "ISI": 7.2,
         "Rain ": 0,
         "Temperature": 33,
         "_deepnote_index_column": 29,
         "day": 30,
         "month": 6,
         "year": 2012
        },
        {
         " RH": 68,
         " Ws": 19,
         "BUI": 2.9,
         "Classes  ": "not fire   ",
         "DC": "8.6",
         "DMC": 2.5,
         "FFMC": 59.9,
         "FWI": "0.4",
         "ISI": 1.1,
         "Rain ": 1,
         "Temperature": 29,
         "_deepnote_index_column": 30,
         "day": 1,
         "month": 7,
         "year": 2012
        },
        {
         " RH": 75,
         " Ws": 19,
         "BUI": 2.8,
         "Classes  ": "not fire   ",
         "DC": "8.3",
         "DMC": 2.4,
         "FFMC": 55.7,
         "FWI": "0.3",
         "ISI": 0.8,
         "Rain ": 1.2,
         "Temperature": 27,
         "_deepnote_index_column": 31,
         "day": 2,
         "month": 7,
         "year": 2012
        },
        {
         " RH": 76,
         " Ws": 20,
         "BUI": 3,
         "Classes  ": "not fire   ",
         "DC": "9.2",
         "DMC": 2.6,
         "FFMC": 63.1,
         "FWI": "0.5",
         "ISI": 1.3,
         "Rain ": 0.7,
         "Temperature": 32,
         "_deepnote_index_column": 32,
         "day": 3,
         "month": 7,
         "year": 2012
        },
        {
         " RH": 78,
         " Ws": 17,
         "BUI": 5.7,
         "Classes  ": "not fire   ",
         "DC": "18.5",
         "DMC": 4.6,
         "FFMC": 80.1,
         "FWI": "1.7",
         "ISI": 2.7,
         "Rain ": 0,
         "Temperature": 33,
         "_deepnote_index_column": 33,
         "day": 4,
         "month": 7,
         "year": 2012
        },
        {
         " RH": 66,
         " Ws": 14,
         "BUI": 9.1,
         "Classes  ": "fire   ",
         "DC": "27.9",
         "DMC": 7.6,
         "FFMC": 85.9,
         "FWI": "4.9",
         "ISI": 4.8,
         "Rain ": 0,
         "Temperature": 33,
         "_deepnote_index_column": 34,
         "day": 5,
         "month": 7,
         "year": 2012
        }
       ]
      },
      "text/html": [
       "<div>\n",
       "<style scoped>\n",
       "    .dataframe tbody tr th:only-of-type {\n",
       "        vertical-align: middle;\n",
       "    }\n",
       "\n",
       "    .dataframe tbody tr th {\n",
       "        vertical-align: top;\n",
       "    }\n",
       "\n",
       "    .dataframe thead th {\n",
       "        text-align: right;\n",
       "    }\n",
       "</style>\n",
       "<table border=\"1\" class=\"dataframe\">\n",
       "  <thead>\n",
       "    <tr style=\"text-align: right;\">\n",
       "      <th></th>\n",
       "      <th>day</th>\n",
       "      <th>month</th>\n",
       "      <th>year</th>\n",
       "      <th>Temperature</th>\n",
       "      <th>RH</th>\n",
       "      <th>Ws</th>\n",
       "      <th>Rain</th>\n",
       "      <th>FFMC</th>\n",
       "      <th>DMC</th>\n",
       "      <th>DC</th>\n",
       "      <th>ISI</th>\n",
       "      <th>BUI</th>\n",
       "      <th>FWI</th>\n",
       "      <th>Classes</th>\n",
       "    </tr>\n",
       "  </thead>\n",
       "  <tbody>\n",
       "    <tr>\n",
       "      <th>0</th>\n",
       "      <td>1</td>\n",
       "      <td>6</td>\n",
       "      <td>2012</td>\n",
       "      <td>29</td>\n",
       "      <td>57</td>\n",
       "      <td>18</td>\n",
       "      <td>0.0</td>\n",
       "      <td>65.7</td>\n",
       "      <td>3.4</td>\n",
       "      <td>7.6</td>\n",
       "      <td>1.3</td>\n",
       "      <td>3.4</td>\n",
       "      <td>0.5</td>\n",
       "      <td>not fire</td>\n",
       "    </tr>\n",
       "    <tr>\n",
       "      <th>1</th>\n",
       "      <td>2</td>\n",
       "      <td>6</td>\n",
       "      <td>2012</td>\n",
       "      <td>29</td>\n",
       "      <td>61</td>\n",
       "      <td>13</td>\n",
       "      <td>1.3</td>\n",
       "      <td>64.4</td>\n",
       "      <td>4.1</td>\n",
       "      <td>7.6</td>\n",
       "      <td>1.0</td>\n",
       "      <td>3.9</td>\n",
       "      <td>0.4</td>\n",
       "      <td>not fire</td>\n",
       "    </tr>\n",
       "    <tr>\n",
       "      <th>2</th>\n",
       "      <td>3</td>\n",
       "      <td>6</td>\n",
       "      <td>2012</td>\n",
       "      <td>26</td>\n",
       "      <td>82</td>\n",
       "      <td>22</td>\n",
       "      <td>13.1</td>\n",
       "      <td>47.1</td>\n",
       "      <td>2.5</td>\n",
       "      <td>7.1</td>\n",
       "      <td>0.3</td>\n",
       "      <td>2.7</td>\n",
       "      <td>0.1</td>\n",
       "      <td>not fire</td>\n",
       "    </tr>\n",
       "    <tr>\n",
       "      <th>3</th>\n",
       "      <td>4</td>\n",
       "      <td>6</td>\n",
       "      <td>2012</td>\n",
       "      <td>25</td>\n",
       "      <td>89</td>\n",
       "      <td>13</td>\n",
       "      <td>2.5</td>\n",
       "      <td>28.6</td>\n",
       "      <td>1.3</td>\n",
       "      <td>6.9</td>\n",
       "      <td>0.0</td>\n",
       "      <td>1.7</td>\n",
       "      <td>0</td>\n",
       "      <td>not fire</td>\n",
       "    </tr>\n",
       "    <tr>\n",
       "      <th>4</th>\n",
       "      <td>5</td>\n",
       "      <td>6</td>\n",
       "      <td>2012</td>\n",
       "      <td>27</td>\n",
       "      <td>77</td>\n",
       "      <td>16</td>\n",
       "      <td>0.0</td>\n",
       "      <td>64.8</td>\n",
       "      <td>3.0</td>\n",
       "      <td>14.2</td>\n",
       "      <td>1.2</td>\n",
       "      <td>3.9</td>\n",
       "      <td>0.5</td>\n",
       "      <td>not fire</td>\n",
       "    </tr>\n",
       "    <tr>\n",
       "      <th>...</th>\n",
       "      <td>...</td>\n",
       "      <td>...</td>\n",
       "      <td>...</td>\n",
       "      <td>...</td>\n",
       "      <td>...</td>\n",
       "      <td>...</td>\n",
       "      <td>...</td>\n",
       "      <td>...</td>\n",
       "      <td>...</td>\n",
       "      <td>...</td>\n",
       "      <td>...</td>\n",
       "      <td>...</td>\n",
       "      <td>...</td>\n",
       "      <td>...</td>\n",
       "    </tr>\n",
       "    <tr>\n",
       "      <th>239</th>\n",
       "      <td>26</td>\n",
       "      <td>9</td>\n",
       "      <td>2012</td>\n",
       "      <td>30</td>\n",
       "      <td>65</td>\n",
       "      <td>14</td>\n",
       "      <td>0.0</td>\n",
       "      <td>85.4</td>\n",
       "      <td>16.0</td>\n",
       "      <td>44.5</td>\n",
       "      <td>4.5</td>\n",
       "      <td>16.9</td>\n",
       "      <td>6.5</td>\n",
       "      <td>fire</td>\n",
       "    </tr>\n",
       "    <tr>\n",
       "      <th>240</th>\n",
       "      <td>27</td>\n",
       "      <td>9</td>\n",
       "      <td>2012</td>\n",
       "      <td>28</td>\n",
       "      <td>87</td>\n",
       "      <td>15</td>\n",
       "      <td>4.4</td>\n",
       "      <td>41.1</td>\n",
       "      <td>6.5</td>\n",
       "      <td>8</td>\n",
       "      <td>0.1</td>\n",
       "      <td>6.2</td>\n",
       "      <td>0</td>\n",
       "      <td>not fire</td>\n",
       "    </tr>\n",
       "    <tr>\n",
       "      <th>241</th>\n",
       "      <td>28</td>\n",
       "      <td>9</td>\n",
       "      <td>2012</td>\n",
       "      <td>27</td>\n",
       "      <td>87</td>\n",
       "      <td>29</td>\n",
       "      <td>0.5</td>\n",
       "      <td>45.9</td>\n",
       "      <td>3.5</td>\n",
       "      <td>7.9</td>\n",
       "      <td>0.4</td>\n",
       "      <td>3.4</td>\n",
       "      <td>0.2</td>\n",
       "      <td>not fire</td>\n",
       "    </tr>\n",
       "    <tr>\n",
       "      <th>242</th>\n",
       "      <td>29</td>\n",
       "      <td>9</td>\n",
       "      <td>2012</td>\n",
       "      <td>24</td>\n",
       "      <td>54</td>\n",
       "      <td>18</td>\n",
       "      <td>0.1</td>\n",
       "      <td>79.7</td>\n",
       "      <td>4.3</td>\n",
       "      <td>15.2</td>\n",
       "      <td>1.7</td>\n",
       "      <td>5.1</td>\n",
       "      <td>0.7</td>\n",
       "      <td>not fire</td>\n",
       "    </tr>\n",
       "    <tr>\n",
       "      <th>243</th>\n",
       "      <td>30</td>\n",
       "      <td>9</td>\n",
       "      <td>2012</td>\n",
       "      <td>24</td>\n",
       "      <td>64</td>\n",
       "      <td>15</td>\n",
       "      <td>0.2</td>\n",
       "      <td>67.3</td>\n",
       "      <td>3.8</td>\n",
       "      <td>16.5</td>\n",
       "      <td>1.2</td>\n",
       "      <td>4.8</td>\n",
       "      <td>0.5</td>\n",
       "      <td>not fire</td>\n",
       "    </tr>\n",
       "  </tbody>\n",
       "</table>\n",
       "<p>244 rows × 14 columns</p>\n",
       "</div>"
      ],
      "text/plain": [
       "     day  month  year  Temperature   RH   Ws  Rain   FFMC   DMC    DC  ISI  \\\n",
       "0      1      6  2012           29   57   18    0.0  65.7   3.4   7.6  1.3   \n",
       "1      2      6  2012           29   61   13    1.3  64.4   4.1   7.6  1.0   \n",
       "2      3      6  2012           26   82   22   13.1  47.1   2.5   7.1  0.3   \n",
       "3      4      6  2012           25   89   13    2.5  28.6   1.3   6.9  0.0   \n",
       "4      5      6  2012           27   77   16    0.0  64.8   3.0  14.2  1.2   \n",
       "..   ...    ...   ...          ...  ...  ...    ...   ...   ...   ...  ...   \n",
       "239   26      9  2012           30   65   14    0.0  85.4  16.0  44.5  4.5   \n",
       "240   27      9  2012           28   87   15    4.4  41.1   6.5     8  0.1   \n",
       "241   28      9  2012           27   87   29    0.5  45.9   3.5   7.9  0.4   \n",
       "242   29      9  2012           24   54   18    0.1  79.7   4.3  15.2  1.7   \n",
       "243   30      9  2012           24   64   15    0.2  67.3   3.8  16.5  1.2   \n",
       "\n",
       "      BUI  FWI     Classes    \n",
       "0     3.4  0.5   not fire     \n",
       "1     3.9  0.4   not fire     \n",
       "2     2.7  0.1   not fire     \n",
       "3     1.7    0   not fire     \n",
       "4     3.9  0.5   not fire     \n",
       "..    ...  ...           ...  \n",
       "239  16.9  6.5       fire     \n",
       "240   6.2    0   not fire     \n",
       "241   3.4  0.2   not fire     \n",
       "242   5.1  0.7   not fire     \n",
       "243   4.8  0.5  not fire      \n",
       "\n",
       "[244 rows x 14 columns]"
      ]
     },
     "execution_count": 3,
     "metadata": {},
     "output_type": "execute_result"
    }
   ],
   "source": [
    "data"
   ]
  },
  {
   "cell_type": "code",
   "execution_count": null,
   "metadata": {
    "cell_id": "00003-1e5b1d76-e48b-4b84-a181-46bdc13b98f8",
    "deepnote_cell_type": "code",
    "deepnote_to_be_reexecuted": false,
    "execution_millis": 9,
    "execution_start": 1635758673052,
    "source_hash": "7ed95d2d",
    "tags": []
   },
   "outputs": [
    {
     "data": {
      "text/plain": [
       "True"
      ]
     },
     "execution_count": 4,
     "metadata": {},
     "output_type": "execute_result"
    }
   ],
   "source": [
    "((data['Classes  '].dtype) == 'O')"
   ]
  },
  {
   "cell_type": "code",
   "execution_count": null,
   "metadata": {
    "cell_id": "00003-ba8b392f-ec9f-420e-a3c2-60ace445c779",
    "deepnote_cell_type": "code",
    "deepnote_to_be_reexecuted": false,
    "execution_millis": 49,
    "execution_start": 1635758673737,
    "source_hash": "2473e4db",
    "tags": []
   },
   "outputs": [
    {
     "name": "stdout",
     "output_type": "stream",
     "text": [
      "day\n",
      "month\n",
      "year\n",
      "Temperature\n",
      " RH\n",
      " Ws\n",
      "Rain \n",
      "FFMC\n",
      "DMC\n",
      "DC\n",
      "ISI\n",
      "BUI\n",
      "FWI\n",
      "Classes  \n"
     ]
    }
   ],
   "source": [
    "for i in data.columns:\n",
    "    print(i)\n",
    "    k = str(i)\n",
    "    k = k.strip()\n",
    "    if ((data[i].dtype) == 'O'):\n",
    "        data[k] = data[i].str.strip()\n",
    "    if k!=i:\n",
    "        data.drop([i], axis=1, inplace=True)"
   ]
  },
  {
   "cell_type": "code",
   "execution_count": null,
   "metadata": {
    "cell_id": "00003-464eb169-85be-4207-82b5-ba977894520d",
    "deepnote_cell_type": "code",
    "deepnote_to_be_reexecuted": false,
    "execution_millis": 111,
    "execution_start": 1635758674953,
    "source_hash": "5db1c438",
    "tags": []
   },
   "outputs": [
    {
     "data": {
      "text/plain": [
       "fire        137\n",
       "not fire    106\n",
       "Name: Classes, dtype: int64"
      ]
     },
     "execution_count": 6,
     "metadata": {},
     "output_type": "execute_result"
    }
   ],
   "source": [
    "data['Classes'].value_counts()"
   ]
  },
  {
   "cell_type": "code",
   "execution_count": null,
   "metadata": {
    "cell_id": "00003-1c7003a2-3c27-4550-afec-4a2b820705e4",
    "deepnote_cell_type": "code",
    "deepnote_to_be_reexecuted": false,
    "execution_millis": 44,
    "execution_start": 1635758675246,
    "source_hash": "3ee67d08",
    "tags": []
   },
   "outputs": [
    {
     "data": {
      "application/vnd.deepnote.dataframe.v2+json": {
       "column_count": 11,
       "columns": [
        {
         "dtype": "int64",
         "name": "day",
         "stats": {
          "histogram": [
           {
            "bin_end": 0.1,
            "bin_start": 0,
            "count": 0
           },
           {
            "bin_end": 0.2,
            "bin_start": 0.1,
            "count": 0
           },
           {
            "bin_end": 0.30000000000000004,
            "bin_start": 0.2,
            "count": 0
           },
           {
            "bin_end": 0.4,
            "bin_start": 0.30000000000000004,
            "count": 0
           },
           {
            "bin_end": 0.5,
            "bin_start": 0.4,
            "count": 0
           },
           {
            "bin_end": 0.6000000000000001,
            "bin_start": 0.5,
            "count": 0
           },
           {
            "bin_end": 0.7000000000000001,
            "bin_start": 0.6000000000000001,
            "count": 0
           },
           {
            "bin_end": 0.8,
            "bin_start": 0.7000000000000001,
            "count": 0
           },
           {
            "bin_end": 0.9,
            "bin_start": 0.8,
            "count": 0
           },
           {
            "bin_end": 1,
            "bin_start": 0.9,
            "count": 0
           }
          ],
          "max": null,
          "min": null,
          "nan_count": 0,
          "unique_count": 0
         }
        },
        {
         "dtype": "int64",
         "name": "month",
         "stats": {
          "histogram": [
           {
            "bin_end": 0.1,
            "bin_start": 0,
            "count": 0
           },
           {
            "bin_end": 0.2,
            "bin_start": 0.1,
            "count": 0
           },
           {
            "bin_end": 0.30000000000000004,
            "bin_start": 0.2,
            "count": 0
           },
           {
            "bin_end": 0.4,
            "bin_start": 0.30000000000000004,
            "count": 0
           },
           {
            "bin_end": 0.5,
            "bin_start": 0.4,
            "count": 0
           },
           {
            "bin_end": 0.6000000000000001,
            "bin_start": 0.5,
            "count": 0
           },
           {
            "bin_end": 0.7000000000000001,
            "bin_start": 0.6000000000000001,
            "count": 0
           },
           {
            "bin_end": 0.8,
            "bin_start": 0.7000000000000001,
            "count": 0
           },
           {
            "bin_end": 0.9,
            "bin_start": 0.8,
            "count": 0
           },
           {
            "bin_end": 1,
            "bin_start": 0.9,
            "count": 0
           }
          ],
          "max": null,
          "min": null,
          "nan_count": 0,
          "unique_count": 0
         }
        },
        {
         "dtype": "int64",
         "name": "year",
         "stats": {
          "histogram": [
           {
            "bin_end": 0.1,
            "bin_start": 0,
            "count": 0
           },
           {
            "bin_end": 0.2,
            "bin_start": 0.1,
            "count": 0
           },
           {
            "bin_end": 0.30000000000000004,
            "bin_start": 0.2,
            "count": 0
           },
           {
            "bin_end": 0.4,
            "bin_start": 0.30000000000000004,
            "count": 0
           },
           {
            "bin_end": 0.5,
            "bin_start": 0.4,
            "count": 0
           },
           {
            "bin_end": 0.6000000000000001,
            "bin_start": 0.5,
            "count": 0
           },
           {
            "bin_end": 0.7000000000000001,
            "bin_start": 0.6000000000000001,
            "count": 0
           },
           {
            "bin_end": 0.8,
            "bin_start": 0.7000000000000001,
            "count": 0
           },
           {
            "bin_end": 0.9,
            "bin_start": 0.8,
            "count": 0
           },
           {
            "bin_end": 1,
            "bin_start": 0.9,
            "count": 0
           }
          ],
          "max": null,
          "min": null,
          "nan_count": 0,
          "unique_count": 0
         }
        },
        {
         "dtype": "int64",
         "name": "Temperature",
         "stats": {
          "histogram": [
           {
            "bin_end": 0.1,
            "bin_start": 0,
            "count": 0
           },
           {
            "bin_end": 0.2,
            "bin_start": 0.1,
            "count": 0
           },
           {
            "bin_end": 0.30000000000000004,
            "bin_start": 0.2,
            "count": 0
           },
           {
            "bin_end": 0.4,
            "bin_start": 0.30000000000000004,
            "count": 0
           },
           {
            "bin_end": 0.5,
            "bin_start": 0.4,
            "count": 0
           },
           {
            "bin_end": 0.6000000000000001,
            "bin_start": 0.5,
            "count": 0
           },
           {
            "bin_end": 0.7000000000000001,
            "bin_start": 0.6000000000000001,
            "count": 0
           },
           {
            "bin_end": 0.8,
            "bin_start": 0.7000000000000001,
            "count": 0
           },
           {
            "bin_end": 0.9,
            "bin_start": 0.8,
            "count": 0
           },
           {
            "bin_end": 1,
            "bin_start": 0.9,
            "count": 0
           }
          ],
          "max": null,
          "min": null,
          "nan_count": 0,
          "unique_count": 0
         }
        },
        {
         "dtype": "float64",
         "name": "FFMC",
         "stats": {
          "histogram": [
           {
            "bin_end": 0.1,
            "bin_start": 0,
            "count": 0
           },
           {
            "bin_end": 0.2,
            "bin_start": 0.1,
            "count": 0
           },
           {
            "bin_end": 0.30000000000000004,
            "bin_start": 0.2,
            "count": 0
           },
           {
            "bin_end": 0.4,
            "bin_start": 0.30000000000000004,
            "count": 0
           },
           {
            "bin_end": 0.5,
            "bin_start": 0.4,
            "count": 0
           },
           {
            "bin_end": 0.6000000000000001,
            "bin_start": 0.5,
            "count": 0
           },
           {
            "bin_end": 0.7000000000000001,
            "bin_start": 0.6000000000000001,
            "count": 0
           },
           {
            "bin_end": 0.8,
            "bin_start": 0.7000000000000001,
            "count": 0
           },
           {
            "bin_end": 0.9,
            "bin_start": 0.8,
            "count": 0
           },
           {
            "bin_end": 1,
            "bin_start": 0.9,
            "count": 0
           }
          ],
          "max": null,
          "min": null,
          "nan_count": 0,
          "unique_count": 0
         }
        },
        {
         "dtype": "float64",
         "name": "DMC",
         "stats": {
          "histogram": [
           {
            "bin_end": 0.1,
            "bin_start": 0,
            "count": 0
           },
           {
            "bin_end": 0.2,
            "bin_start": 0.1,
            "count": 0
           },
           {
            "bin_end": 0.30000000000000004,
            "bin_start": 0.2,
            "count": 0
           },
           {
            "bin_end": 0.4,
            "bin_start": 0.30000000000000004,
            "count": 0
           },
           {
            "bin_end": 0.5,
            "bin_start": 0.4,
            "count": 0
           },
           {
            "bin_end": 0.6000000000000001,
            "bin_start": 0.5,
            "count": 0
           },
           {
            "bin_end": 0.7000000000000001,
            "bin_start": 0.6000000000000001,
            "count": 0
           },
           {
            "bin_end": 0.8,
            "bin_start": 0.7000000000000001,
            "count": 0
           },
           {
            "bin_end": 0.9,
            "bin_start": 0.8,
            "count": 0
           },
           {
            "bin_end": 1,
            "bin_start": 0.9,
            "count": 0
           }
          ],
          "max": null,
          "min": null,
          "nan_count": 0,
          "unique_count": 0
         }
        },
        {
         "dtype": "object",
         "name": "DC",
         "stats": {
          "categories": [],
          "nan_count": 0,
          "unique_count": 0
         }
        },
        {
         "dtype": "float64",
         "name": "ISI",
         "stats": {
          "histogram": [
           {
            "bin_end": 0.1,
            "bin_start": 0,
            "count": 0
           },
           {
            "bin_end": 0.2,
            "bin_start": 0.1,
            "count": 0
           },
           {
            "bin_end": 0.30000000000000004,
            "bin_start": 0.2,
            "count": 0
           },
           {
            "bin_end": 0.4,
            "bin_start": 0.30000000000000004,
            "count": 0
           },
           {
            "bin_end": 0.5,
            "bin_start": 0.4,
            "count": 0
           },
           {
            "bin_end": 0.6000000000000001,
            "bin_start": 0.5,
            "count": 0
           },
           {
            "bin_end": 0.7000000000000001,
            "bin_start": 0.6000000000000001,
            "count": 0
           },
           {
            "bin_end": 0.8,
            "bin_start": 0.7000000000000001,
            "count": 0
           },
           {
            "bin_end": 0.9,
            "bin_start": 0.8,
            "count": 0
           },
           {
            "bin_end": 1,
            "bin_start": 0.9,
            "count": 0
           }
          ],
          "max": null,
          "min": null,
          "nan_count": 0,
          "unique_count": 0
         }
        },
        {
         "dtype": "float64",
         "name": "BUI",
         "stats": {
          "histogram": [
           {
            "bin_end": 0.1,
            "bin_start": 0,
            "count": 0
           },
           {
            "bin_end": 0.2,
            "bin_start": 0.1,
            "count": 0
           },
           {
            "bin_end": 0.30000000000000004,
            "bin_start": 0.2,
            "count": 0
           },
           {
            "bin_end": 0.4,
            "bin_start": 0.30000000000000004,
            "count": 0
           },
           {
            "bin_end": 0.5,
            "bin_start": 0.4,
            "count": 0
           },
           {
            "bin_end": 0.6000000000000001,
            "bin_start": 0.5,
            "count": 0
           },
           {
            "bin_end": 0.7000000000000001,
            "bin_start": 0.6000000000000001,
            "count": 0
           },
           {
            "bin_end": 0.8,
            "bin_start": 0.7000000000000001,
            "count": 0
           },
           {
            "bin_end": 0.9,
            "bin_start": 0.8,
            "count": 0
           },
           {
            "bin_end": 1,
            "bin_start": 0.9,
            "count": 0
           }
          ],
          "max": null,
          "min": null,
          "nan_count": 0,
          "unique_count": 0
         }
        },
        {
         "dtype": "object",
         "name": "FWI",
         "stats": {
          "categories": [],
          "nan_count": 0,
          "unique_count": 0
         }
        },
        {
         "dtype": "object",
         "name": "Classes",
         "stats": {
          "categories": [],
          "nan_count": 0,
          "unique_count": 0
         }
        },
        {
         "dtype": "int64",
         "name": "_deepnote_index_column"
        }
       ],
       "row_count": 0,
       "rows_bottom": null,
       "rows_top": []
      },
      "text/html": [
       "<div>\n",
       "<style scoped>\n",
       "    .dataframe tbody tr th:only-of-type {\n",
       "        vertical-align: middle;\n",
       "    }\n",
       "\n",
       "    .dataframe tbody tr th {\n",
       "        vertical-align: top;\n",
       "    }\n",
       "\n",
       "    .dataframe thead th {\n",
       "        text-align: right;\n",
       "    }\n",
       "</style>\n",
       "<table border=\"1\" class=\"dataframe\">\n",
       "  <thead>\n",
       "    <tr style=\"text-align: right;\">\n",
       "      <th></th>\n",
       "      <th>day</th>\n",
       "      <th>month</th>\n",
       "      <th>year</th>\n",
       "      <th>Temperature</th>\n",
       "      <th>FFMC</th>\n",
       "      <th>DMC</th>\n",
       "      <th>DC</th>\n",
       "      <th>ISI</th>\n",
       "      <th>BUI</th>\n",
       "      <th>FWI</th>\n",
       "      <th>Classes</th>\n",
       "    </tr>\n",
       "  </thead>\n",
       "  <tbody>\n",
       "  </tbody>\n",
       "</table>\n",
       "</div>"
      ],
      "text/plain": [
       "Empty DataFrame\n",
       "Columns: [day, month, year, Temperature, FFMC, DMC, DC, ISI, BUI, FWI, Classes]\n",
       "Index: []"
      ]
     },
     "execution_count": 7,
     "metadata": {},
     "output_type": "execute_result"
    }
   ],
   "source": [
    "data[data['Classes'] == 'Classes']"
   ]
  },
  {
   "cell_type": "code",
   "execution_count": null,
   "metadata": {
    "cell_id": "00007-60ac9fbd-19d4-4d31-9694-70e02adf947d",
    "deepnote_cell_type": "code",
    "deepnote_to_be_reexecuted": false,
    "execution_millis": 68,
    "execution_start": 1635758675404,
    "source_hash": "c74386d9",
    "tags": []
   },
   "outputs": [],
   "source": [
    "data = data.dropna()"
   ]
  },
  {
   "cell_type": "code",
   "execution_count": null,
   "metadata": {
    "cell_id": "00003-14ce52e1-0910-44bb-8189-86a67370f6e9",
    "deepnote_cell_type": "code",
    "deepnote_to_be_reexecuted": false,
    "execution_millis": 151,
    "execution_start": 1635758675643,
    "source_hash": "b9a6d702",
    "tags": []
   },
   "outputs": [
    {
     "data": {
      "application/vnd.deepnote.dataframe.v2+json": {
       "column_count": 11,
       "columns": [
        {
         "dtype": "int64",
         "name": "day",
         "stats": {
          "histogram": [
           {
            "bin_end": 4,
            "bin_start": 1,
            "count": 24
           },
           {
            "bin_end": 7,
            "bin_start": 4,
            "count": 24
           },
           {
            "bin_end": 10,
            "bin_start": 7,
            "count": 24
           },
           {
            "bin_end": 13,
            "bin_start": 10,
            "count": 24
           },
           {
            "bin_end": 16,
            "bin_start": 13,
            "count": 23
           },
           {
            "bin_end": 19,
            "bin_start": 16,
            "count": 24
           },
           {
            "bin_end": 22,
            "bin_start": 19,
            "count": 24
           },
           {
            "bin_end": 25,
            "bin_start": 22,
            "count": 24
           },
           {
            "bin_end": 28,
            "bin_start": 25,
            "count": 24
           },
           {
            "bin_end": 31,
            "bin_start": 28,
            "count": 28
           }
          ],
          "max": "31",
          "min": "1",
          "nan_count": 0,
          "unique_count": 31
         }
        },
        {
         "dtype": "int64",
         "name": "month",
         "stats": {
          "histogram": [
           {
            "bin_end": 6.3,
            "bin_start": 6,
            "count": 60
           },
           {
            "bin_end": 6.6,
            "bin_start": 6.3,
            "count": 0
           },
           {
            "bin_end": 6.9,
            "bin_start": 6.6,
            "count": 0
           },
           {
            "bin_end": 7.2,
            "bin_start": 6.9,
            "count": 61
           },
           {
            "bin_end": 7.5,
            "bin_start": 7.2,
            "count": 0
           },
           {
            "bin_end": 7.8,
            "bin_start": 7.5,
            "count": 0
           },
           {
            "bin_end": 8.1,
            "bin_start": 7.8,
            "count": 62
           },
           {
            "bin_end": 8.4,
            "bin_start": 8.1,
            "count": 0
           },
           {
            "bin_end": 8.7,
            "bin_start": 8.4,
            "count": 0
           },
           {
            "bin_end": 9,
            "bin_start": 8.7,
            "count": 60
           }
          ],
          "max": "9",
          "min": "6",
          "nan_count": 0,
          "unique_count": 4
         }
        },
        {
         "dtype": "int64",
         "name": "year",
         "stats": {
          "histogram": [
           {
            "bin_end": 2011.6,
            "bin_start": 2011.5,
            "count": 0
           },
           {
            "bin_end": 2011.7,
            "bin_start": 2011.6,
            "count": 0
           },
           {
            "bin_end": 2011.8,
            "bin_start": 2011.7,
            "count": 0
           },
           {
            "bin_end": 2011.9,
            "bin_start": 2011.8,
            "count": 0
           },
           {
            "bin_end": 2012,
            "bin_start": 2011.9,
            "count": 0
           },
           {
            "bin_end": 2012.1,
            "bin_start": 2012,
            "count": 243
           },
           {
            "bin_end": 2012.2,
            "bin_start": 2012.1,
            "count": 0
           },
           {
            "bin_end": 2012.3,
            "bin_start": 2012.2,
            "count": 0
           },
           {
            "bin_end": 2012.4,
            "bin_start": 2012.3,
            "count": 0
           },
           {
            "bin_end": 2012.5,
            "bin_start": 2012.4,
            "count": 0
           }
          ],
          "max": "2012",
          "min": "2012",
          "nan_count": 0,
          "unique_count": 1
         }
        },
        {
         "dtype": "int64",
         "name": "Temperature",
         "stats": {
          "histogram": [
           {
            "bin_end": 24,
            "bin_start": 22,
            "count": 2
           },
           {
            "bin_end": 26,
            "bin_start": 24,
            "count": 9
           },
           {
            "bin_end": 28,
            "bin_start": 26,
            "count": 13
           },
           {
            "bin_end": 30,
            "bin_start": 28,
            "count": 33
           },
           {
            "bin_end": 32,
            "bin_start": 30,
            "count": 47
           },
           {
            "bin_end": 34,
            "bin_start": 32,
            "count": 44
           },
           {
            "bin_end": 36,
            "bin_start": 34,
            "count": 53
           },
           {
            "bin_end": 38,
            "bin_start": 36,
            "count": 29
           },
           {
            "bin_end": 40,
            "bin_start": 38,
            "count": 9
           },
           {
            "bin_end": 42,
            "bin_start": 40,
            "count": 4
           }
          ],
          "max": "42",
          "min": "22",
          "nan_count": 0,
          "unique_count": 19
         }
        },
        {
         "dtype": "float64",
         "name": "FFMC",
         "stats": {
          "histogram": [
           {
            "bin_end": 35.34,
            "bin_start": 28.6,
            "count": 2
           },
           {
            "bin_end": 42.08,
            "bin_start": 35.34,
            "count": 5
           },
           {
            "bin_end": 48.82,
            "bin_start": 42.08,
            "count": 11
           },
           {
            "bin_end": 55.56,
            "bin_start": 48.82,
            "count": 5
           },
           {
            "bin_end": 62.300000000000004,
            "bin_start": 55.56,
            "count": 16
           },
           {
            "bin_end": 69.03999999999999,
            "bin_start": 62.300000000000004,
            "count": 16
           },
           {
            "bin_end": 75.78,
            "bin_start": 69.03999999999999,
            "count": 20
           },
           {
            "bin_end": 82.52000000000001,
            "bin_start": 75.78,
            "count": 42
           },
           {
            "bin_end": 89.26,
            "bin_start": 82.52000000000001,
            "count": 86
           },
           {
            "bin_end": 96,
            "bin_start": 89.26,
            "count": 40
           }
          ],
          "max": "96.0",
          "min": "28.6",
          "nan_count": 0,
          "unique_count": 173
         }
        },
        {
         "dtype": "float64",
         "name": "DMC",
         "stats": {
          "histogram": [
           {
            "bin_end": 7.220000000000001,
            "bin_start": 0.7,
            "count": 80
           },
           {
            "bin_end": 13.74,
            "bin_start": 7.220000000000001,
            "count": 66
           },
           {
            "bin_end": 20.26,
            "bin_start": 13.74,
            "count": 35
           },
           {
            "bin_end": 26.78,
            "bin_start": 20.26,
            "count": 30
           },
           {
            "bin_end": 33.300000000000004,
            "bin_start": 26.78,
            "count": 11
           },
           {
            "bin_end": 39.82000000000001,
            "bin_start": 33.300000000000004,
            "count": 7
           },
           {
            "bin_end": 46.34,
            "bin_start": 39.82000000000001,
            "count": 6
           },
           {
            "bin_end": 52.86000000000001,
            "bin_start": 46.34,
            "count": 4
           },
           {
            "bin_end": 59.38000000000001,
            "bin_start": 52.86000000000001,
            "count": 2
           },
           {
            "bin_end": 65.9,
            "bin_start": 59.38000000000001,
            "count": 2
           }
          ],
          "max": "65.9",
          "min": "0.7",
          "nan_count": 0,
          "unique_count": 165
         }
        },
        {
         "dtype": "object",
         "name": "DC",
         "stats": {
          "categories": [
           {
            "count": 5,
            "name": "8"
           },
           {
            "count": 4,
            "name": "7.6"
           },
           {
            "count": 234,
            "name": "195 others"
           }
          ],
          "nan_count": 0,
          "unique_count": 197
         }
        },
        {
         "dtype": "float64",
         "name": "ISI",
         "stats": {
          "histogram": [
           {
            "bin_end": 1.9,
            "bin_start": 0,
            "count": 80
           },
           {
            "bin_end": 3.8,
            "bin_start": 1.9,
            "count": 44
           },
           {
            "bin_end": 5.699999999999999,
            "bin_start": 3.8,
            "count": 40
           },
           {
            "bin_end": 7.6,
            "bin_start": 5.699999999999999,
            "count": 24
           },
           {
            "bin_end": 9.5,
            "bin_start": 7.6,
            "count": 21
           },
           {
            "bin_end": 11.399999999999999,
            "bin_start": 9.5,
            "count": 15
           },
           {
            "bin_end": 13.299999999999999,
            "bin_start": 11.399999999999999,
            "count": 6
           },
           {
            "bin_end": 15.2,
            "bin_start": 13.299999999999999,
            "count": 5
           },
           {
            "bin_end": 17.099999999999998,
            "bin_start": 15.2,
            "count": 5
           },
           {
            "bin_end": 19,
            "bin_start": 17.099999999999998,
            "count": 3
           }
          ],
          "max": "19.0",
          "min": "0.0",
          "nan_count": 0,
          "unique_count": 106
         }
        },
        {
         "dtype": "float64",
         "name": "BUI",
         "stats": {
          "histogram": [
           {
            "bin_end": 7.790000000000001,
            "bin_start": 1.1,
            "count": 80
           },
           {
            "bin_end": 14.48,
            "bin_start": 7.790000000000001,
            "count": 57
           },
           {
            "bin_end": 21.17,
            "bin_start": 14.48,
            "count": 35
           },
           {
            "bin_end": 27.860000000000003,
            "bin_start": 21.17,
            "count": 27
           },
           {
            "bin_end": 34.550000000000004,
            "bin_start": 27.860000000000003,
            "count": 14
           },
           {
            "bin_end": 41.24,
            "bin_start": 34.550000000000004,
            "count": 13
           },
           {
            "bin_end": 47.93000000000001,
            "bin_start": 41.24,
            "count": 6
           },
           {
            "bin_end": 54.620000000000005,
            "bin_start": 47.93000000000001,
            "count": 2
           },
           {
            "bin_end": 61.31,
            "bin_start": 54.620000000000005,
            "count": 5
           },
           {
            "bin_end": 68,
            "bin_start": 61.31,
            "count": 4
           }
          ],
          "max": "68.0",
          "min": "1.1",
          "nan_count": 0,
          "unique_count": 173
         }
        },
        {
         "dtype": "object",
         "name": "FWI",
         "stats": {
          "categories": [
           {
            "count": 12,
            "name": "0.4"
           },
           {
            "count": 10,
            "name": "0.8"
           },
           {
            "count": 221,
            "name": "123 others"
           }
          ],
          "nan_count": 0,
          "unique_count": 125
         }
        },
        {
         "dtype": "object",
         "name": "Classes",
         "stats": {
          "categories": [
           {
            "count": 137,
            "name": "fire"
           },
           {
            "count": 106,
            "name": "not fire"
           }
          ],
          "nan_count": 0,
          "unique_count": 2
         }
        },
        {
         "dtype": "int64",
         "name": "_deepnote_index_column"
        }
       ],
       "row_count": 243,
       "rows_bottom": [
        {
         "BUI": 30.4,
         "Classes": "fire",
         "DC": "76.4",
         "DMC": 30.3,
         "FFMC": 96,
         "FWI": "24",
         "ISI": 15.7,
         "Temperature": 42,
         "_deepnote_index_column": 199,
         "day": 17,
         "month": 8,
         "year": 2012
        },
        {
         "BUI": 35.9,
         "Classes": "fire",
         "DC": "86.8",
         "DMC": 35.9,
         "FFMC": 94.3,
         "FWI": "26.3",
         "ISI": 16,
         "Temperature": 37,
         "_deepnote_index_column": 200,
         "day": 18,
         "month": 8,
         "year": 2012
        },
        {
         "BUI": 35.5,
         "Classes": "fire",
         "DC": "96.8",
         "DMC": 32.7,
         "FFMC": 82.7,
         "FWI": "7.7",
         "ISI": 3.3,
         "Temperature": 35,
         "_deepnote_index_column": 201,
         "day": 19,
         "month": 8,
         "year": 2012
        },
        {
         "BUI": 38.1,
         "Classes": "fire",
         "DC": "107",
         "DMC": 34.4,
         "FFMC": 83.7,
         "FWI": "9",
         "ISI": 3.8,
         "Temperature": 36,
         "_deepnote_index_column": 202,
         "day": 20,
         "month": 8,
         "year": 2012
        },
        {
         "BUI": 41.3,
         "Classes": "fire",
         "DC": "117.1",
         "DMC": 36.9,
         "FFMC": 86,
         "FWI": "12.2",
         "ISI": 5.1,
         "Temperature": 36,
         "_deepnote_index_column": 203,
         "day": 21,
         "month": 8,
         "year": 2012
        },
        {
         "BUI": 45.5,
         "Classes": "fire",
         "DC": "127.5",
         "DMC": 41.1,
         "FFMC": 89.5,
         "FWI": "18.1",
         "ISI": 8,
         "Temperature": 37,
         "_deepnote_index_column": 204,
         "day": 22,
         "month": 8,
         "year": 2012
        },
        {
         "BUI": 50.2,
         "Classes": "fire",
         "DC": "137.7",
         "DMC": 46.1,
         "FFMC": 91.2,
         "FWI": "24.5",
         "ISI": 11.5,
         "Temperature": 36,
         "_deepnote_index_column": 205,
         "day": 23,
         "month": 8,
         "year": 2012
        },
        {
         "BUI": 54.9,
         "Classes": "fire",
         "DC": "147.7",
         "DMC": 51.3,
         "FFMC": 92.1,
         "FWI": "26.9",
         "ISI": 12.2,
         "Temperature": 35,
         "_deepnote_index_column": 206,
         "day": 24,
         "month": 8,
         "year": 2012
        },
        {
         "BUI": 59.5,
         "Classes": "fire",
         "DC": "157.5",
         "DMC": 56.3,
         "FFMC": 92.1,
         "FWI": "31.1",
         "ISI": 14.3,
         "Temperature": 34,
         "_deepnote_index_column": 207,
         "day": 25,
         "month": 8,
         "year": 2012
        },
        {
         "BUI": 64,
         "Classes": "fire",
         "DC": "167.2",
         "DMC": 61.3,
         "FFMC": 92.2,
         "FWI": "30.3",
         "ISI": 13.1,
         "Temperature": 33,
         "_deepnote_index_column": 208,
         "day": 26,
         "month": 8,
         "year": 2012
        },
        {
         "BUI": 68,
         "Classes": "fire",
         "DC": "177.3",
         "DMC": 65.9,
         "FFMC": 91,
         "FWI": "26.1",
         "ISI": 10,
         "Temperature": 36,
         "_deepnote_index_column": 209,
         "day": 27,
         "month": 8,
         "year": 2012
        },
        {
         "BUI": 30.6,
         "Classes": "not fire",
         "DC": "166",
         "DMC": 37,
         "FFMC": 79.2,
         "FWI": "6.1",
         "ISI": 2.1,
         "Temperature": 35,
         "_deepnote_index_column": 210,
         "day": 28,
         "month": 8,
         "year": 2012
        },
        {
         "BUI": 30.6,
         "Classes": "fire",
         "DC": "149.2",
         "DMC": 20.7,
         "FFMC": 80.2,
         "FWI": "5.9",
         "ISI": 2.7,
         "Temperature": 35,
         "_deepnote_index_column": 211,
         "day": 29,
         "month": 8,
         "year": 2012
        },
        {
         "BUI": 35.7,
         "Classes": "fire",
         "DC": "159.1",
         "DMC": 24.8,
         "FFMC": 89.2,
         "FWI": "16",
         "ISI": 8.1,
         "Temperature": 34,
         "_deepnote_index_column": 212,
         "day": 30,
         "month": 8,
         "year": 2012
        },
        {
         "BUI": 39.3,
         "Classes": "fire",
         "DC": "168.2",
         "DMC": 27.8,
         "FFMC": 89.1,
         "FWI": "19.4",
         "ISI": 9.8,
         "Temperature": 30,
         "_deepnote_index_column": 213,
         "day": 31,
         "month": 8,
         "year": 2012
        },
        {
         "BUI": 1.4,
         "Classes": "not fire",
         "DC": "8.2",
         "DMC": 0.9,
         "FFMC": 37.9,
         "FWI": "0",
         "ISI": 0.1,
         "Temperature": 29,
         "_deepnote_index_column": 214,
         "day": 1,
         "month": 9,
         "year": 2012
        },
        {
         "BUI": 4,
         "Classes": "not fire",
         "DC": "16.3",
         "DMC": 2.9,
         "FFMC": 75.4,
         "FWI": "0.8",
         "ISI": 2,
         "Temperature": 28,
         "_deepnote_index_column": 215,
         "day": 2,
         "month": 9,
         "year": 2012
        },
        {
         "BUI": 6,
         "Classes": "fire",
         "DC": "24.3",
         "DMC": 4.4,
         "FFMC": 82.2,
         "FWI": "2.5",
         "ISI": 3.3,
         "Temperature": 28,
         "_deepnote_index_column": 216,
         "day": 3,
         "month": 9,
         "year": 2012
        },
        {
         "BUI": 6,
         "Classes": "not fire",
         "DC": "26.6",
         "DMC": 4.1,
         "FFMC": 73.5,
         "FWI": "0.7",
         "ISI": 1.5,
         "Temperature": 30,
         "_deepnote_index_column": 217,
         "day": 4,
         "month": 9,
         "year": 2012
        },
        {
         "BUI": 3.9,
         "Classes": "not fire",
         "DC": "8.4",
         "DMC": 4,
         "FFMC": 66.1,
         "FWI": "0.4",
         "ISI": 1,
         "Temperature": 30,
         "_deepnote_index_column": 218,
         "day": 5,
         "month": 9,
         "year": 2012
        },
        {
         "BUI": 3.5,
         "Classes": "not fire",
         "DC": "9.1",
         "DMC": 3.3,
         "FFMC": 64.5,
         "FWI": "0.4",
         "ISI": 1,
         "Temperature": 34,
         "_deepnote_index_column": 219,
         "day": 6,
         "month": 9,
         "year": 2012
        },
        {
         "BUI": 6.4,
         "Classes": "fire",
         "DC": "17.7",
         "DMC": 5.8,
         "FFMC": 83.3,
         "FWI": "3.2",
         "ISI": 3.8,
         "Temperature": 31,
         "_deepnote_index_column": 220,
         "day": 7,
         "month": 9,
         "year": 2012
        },
        {
         "BUI": 8.1,
         "Classes": "fire",
         "DC": "26.1",
         "DMC": 6.6,
         "FFMC": 82.5,
         "FWI": "2.7",
         "ISI": 3,
         "Temperature": 30,
         "_deepnote_index_column": 221,
         "day": 8,
         "month": 9,
         "year": 2012
        },
        {
         "BUI": 10,
         "Classes": "fire",
         "DC": "34.5",
         "DMC": 7.9,
         "FFMC": 83.1,
         "FWI": "3.7",
         "ISI": 3.5,
         "Temperature": 30,
         "_deepnote_index_column": 222,
         "day": 9,
         "month": 9,
         "year": 2012
        },
        {
         "BUI": 4.6,
         "Classes": "not fire",
         "DC": "8.2",
         "DMC": 4.7,
         "FFMC": 59.5,
         "FWI": "0.3",
         "ISI": 0.8,
         "Temperature": 29,
         "_deepnote_index_column": 223,
         "day": 10,
         "month": 9,
         "year": 2012
        },
        {
         "BUI": 6.6,
         "Classes": "not fire",
         "DC": "16.6",
         "DMC": 6.5,
         "FFMC": 79.2,
         "FWI": "1.2",
         "ISI": 2.1,
         "Temperature": 30,
         "_deepnote_index_column": 224,
         "day": 11,
         "month": 9,
         "year": 2012
        },
        {
         "BUI": 9.1,
         "Classes": "fire",
         "DC": "25.2",
         "DMC": 8.3,
         "FFMC": 84.2,
         "FWI": "3.9",
         "ISI": 3.8,
         "Temperature": 31,
         "_deepnote_index_column": 225,
         "day": 12,
         "month": 9,
         "year": 2012
        },
        {
         "BUI": 12.4,
         "Classes": "fire",
         "DC": "33.4",
         "DMC": 11.5,
         "FFMC": 88.6,
         "FWI": "10.3",
         "ISI": 9.1,
         "Temperature": 29,
         "_deepnote_index_column": 226,
         "day": 13,
         "month": 9,
         "year": 2012
        },
        {
         "BUI": 14.3,
         "Classes": "fire",
         "DC": "41.5",
         "DMC": 12.6,
         "FFMC": 84.6,
         "FWI": "5.7",
         "ISI": 4.3,
         "Temperature": 28,
         "_deepnote_index_column": 227,
         "day": 14,
         "month": 9,
         "year": 2012
        },
        {
         "BUI": 17.8,
         "Classes": "fire",
         "DC": "50.2",
         "DMC": 16,
         "FFMC": 88.7,
         "FWI": "9.8",
         "ISI": 6.9,
         "Temperature": 32,
         "_deepnote_index_column": 228,
         "day": 15,
         "month": 9,
         "year": 2012
        },
        {
         "BUI": 22.4,
         "Classes": "fire",
         "DC": "59.2",
         "DMC": 21.2,
         "FFMC": 93.9,
         "FWI": "19.3",
         "ISI": 14.2,
         "Temperature": 33,
         "_deepnote_index_column": 229,
         "day": 16,
         "month": 9,
         "year": 2012
        },
        {
         "BUI": 26.2,
         "Classes": "fire",
         "DC": "63.3",
         "DMC": 25.2,
         "FFMC": 92.5,
         "FWI": "17.5",
         "ISI": 11.2,
         "Temperature": 34,
         "_deepnote_index_column": 230,
         "day": 17,
         "month": 9,
         "year": 2012
        },
        {
         "BUI": 28.2,
         "Classes": "fire",
         "DC": "77.8",
         "DMC": 25.8,
         "FFMC": 90.6,
         "FWI": "15.4",
         "ISI": 9,
         "Temperature": 36,
         "_deepnote_index_column": 231,
         "day": 18,
         "month": 9,
         "year": 2012
        },
        {
         "BUI": 28.9,
         "Classes": "fire",
         "DC": "86",
         "DMC": 24.9,
         "FFMC": 83.9,
         "FWI": "5.6",
         "ISI": 2.7,
         "Temperature": 29,
         "_deepnote_index_column": 232,
         "day": 19,
         "month": 9,
         "year": 2012
        },
        {
         "BUI": 24.4,
         "Classes": "not fire",
         "DC": "88",
         "DMC": 18.7,
         "FFMC": 79.5,
         "FWI": "3.8",
         "ISI": 2.1,
         "Temperature": 34,
         "_deepnote_index_column": 233,
         "day": 20,
         "month": 9,
         "year": 2012
        },
        {
         "BUI": 29.4,
         "Classes": "fire",
         "DC": "97.3",
         "DMC": 23.6,
         "FFMC": 92.2,
         "FWI": "21.6",
         "ISI": 13.8,
         "Temperature": 35,
         "_deepnote_index_column": 234,
         "day": 21,
         "month": 9,
         "year": 2012
        },
        {
         "BUI": 32.4,
         "Classes": "fire",
         "DC": "106.3",
         "DMC": 26.1,
         "FFMC": 88.9,
         "FWI": "13.7",
         "ISI": 7.1,
         "Temperature": 33,
         "_deepnote_index_column": 235,
         "day": 22,
         "month": 9,
         "year": 2012
        },
        {
         "BUI": 36,
         "Classes": "fire",
         "DC": "115.6",
         "DMC": 29.4,
         "FFMC": 89,
         "FWI": "15.2",
         "ISI": 7.5,
         "Temperature": 35,
         "_deepnote_index_column": 236,
         "day": 23,
         "month": 9,
         "year": 2012
        },
        {
         "BUI": 11.9,
         "Classes": "not fire",
         "DC": "28.1",
         "DMC": 11.9,
         "FFMC": 61.3,
         "FWI": "0.4",
         "ISI": 0.6,
         "Temperature": 26,
         "_deepnote_index_column": 237,
         "day": 24,
         "month": 9,
         "year": 2012
        },
        {
         "BUI": 14.1,
         "Classes": "not fire",
         "DC": "36.1",
         "DMC": 13.8,
         "FFMC": 79.9,
         "FWI": "3",
         "ISI": 2.4,
         "Temperature": 28,
         "_deepnote_index_column": 238,
         "day": 25,
         "month": 9,
         "year": 2012
        },
        {
         "BUI": 16.9,
         "Classes": "fire",
         "DC": "44.5",
         "DMC": 16,
         "FFMC": 85.4,
         "FWI": "6.5",
         "ISI": 4.5,
         "Temperature": 30,
         "_deepnote_index_column": 239,
         "day": 26,
         "month": 9,
         "year": 2012
        },
        {
         "BUI": 6.2,
         "Classes": "not fire",
         "DC": "8",
         "DMC": 6.5,
         "FFMC": 41.1,
         "FWI": "0",
         "ISI": 0.1,
         "Temperature": 28,
         "_deepnote_index_column": 240,
         "day": 27,
         "month": 9,
         "year": 2012
        },
        {
         "BUI": 3.4,
         "Classes": "not fire",
         "DC": "7.9",
         "DMC": 3.5,
         "FFMC": 45.9,
         "FWI": "0.2",
         "ISI": 0.4,
         "Temperature": 27,
         "_deepnote_index_column": 241,
         "day": 28,
         "month": 9,
         "year": 2012
        },
        {
         "BUI": 5.1,
         "Classes": "not fire",
         "DC": "15.2",
         "DMC": 4.3,
         "FFMC": 79.7,
         "FWI": "0.7",
         "ISI": 1.7,
         "Temperature": 24,
         "_deepnote_index_column": 242,
         "day": 29,
         "month": 9,
         "year": 2012
        },
        {
         "BUI": 4.8,
         "Classes": "not fire",
         "DC": "16.5",
         "DMC": 3.8,
         "FFMC": 67.3,
         "FWI": "0.5",
         "ISI": 1.2,
         "Temperature": 24,
         "_deepnote_index_column": 243,
         "day": 30,
         "month": 9,
         "year": 2012
        }
       ],
       "rows_top": [
        {
         "BUI": 3.4,
         "Classes": "not fire",
         "DC": "7.6",
         "DMC": 3.4,
         "FFMC": 65.7,
         "FWI": "0.5",
         "ISI": 1.3,
         "Temperature": 29,
         "_deepnote_index_column": 0,
         "day": 1,
         "month": 6,
         "year": 2012
        },
        {
         "BUI": 3.9,
         "Classes": "not fire",
         "DC": "7.6",
         "DMC": 4.1,
         "FFMC": 64.4,
         "FWI": "0.4",
         "ISI": 1,
         "Temperature": 29,
         "_deepnote_index_column": 1,
         "day": 2,
         "month": 6,
         "year": 2012
        },
        {
         "BUI": 2.7,
         "Classes": "not fire",
         "DC": "7.1",
         "DMC": 2.5,
         "FFMC": 47.1,
         "FWI": "0.1",
         "ISI": 0.3,
         "Temperature": 26,
         "_deepnote_index_column": 2,
         "day": 3,
         "month": 6,
         "year": 2012
        },
        {
         "BUI": 1.7,
         "Classes": "not fire",
         "DC": "6.9",
         "DMC": 1.3,
         "FFMC": 28.6,
         "FWI": "0",
         "ISI": 0,
         "Temperature": 25,
         "_deepnote_index_column": 3,
         "day": 4,
         "month": 6,
         "year": 2012
        },
        {
         "BUI": 3.9,
         "Classes": "not fire",
         "DC": "14.2",
         "DMC": 3,
         "FFMC": 64.8,
         "FWI": "0.5",
         "ISI": 1.2,
         "Temperature": 27,
         "_deepnote_index_column": 4,
         "day": 5,
         "month": 6,
         "year": 2012
        },
        {
         "BUI": 7,
         "Classes": "fire",
         "DC": "22.2",
         "DMC": 5.8,
         "FFMC": 82.6,
         "FWI": "2.5",
         "ISI": 3.1,
         "Temperature": 31,
         "_deepnote_index_column": 5,
         "day": 6,
         "month": 6,
         "year": 2012
        },
        {
         "BUI": 10.9,
         "Classes": "fire",
         "DC": "30.5",
         "DMC": 9.9,
         "FFMC": 88.2,
         "FWI": "7.2",
         "ISI": 6.4,
         "Temperature": 33,
         "_deepnote_index_column": 6,
         "day": 7,
         "month": 6,
         "year": 2012
        },
        {
         "BUI": 13.5,
         "Classes": "fire",
         "DC": "38.3",
         "DMC": 12.1,
         "FFMC": 86.6,
         "FWI": "7.1",
         "ISI": 5.6,
         "Temperature": 30,
         "_deepnote_index_column": 7,
         "day": 8,
         "month": 6,
         "year": 2012
        },
        {
         "BUI": 10.5,
         "Classes": "not fire",
         "DC": "38.8",
         "DMC": 7.9,
         "FFMC": 52.9,
         "FWI": "0.3",
         "ISI": 0.4,
         "Temperature": 25,
         "_deepnote_index_column": 8,
         "day": 9,
         "month": 6,
         "year": 2012
        },
        {
         "BUI": 12.6,
         "Classes": "not fire",
         "DC": "46.3",
         "DMC": 9.5,
         "FFMC": 73.2,
         "FWI": "0.9",
         "ISI": 1.3,
         "Temperature": 28,
         "_deepnote_index_column": 9,
         "day": 10,
         "month": 6,
         "year": 2012
        },
        {
         "BUI": 15.8,
         "Classes": "fire",
         "DC": "54.3",
         "DMC": 12.5,
         "FFMC": 84.5,
         "FWI": "5.6",
         "ISI": 4,
         "Temperature": 31,
         "_deepnote_index_column": 10,
         "day": 11,
         "month": 6,
         "year": 2012
        },
        {
         "BUI": 17.7,
         "Classes": "fire",
         "DC": "61.4",
         "DMC": 13.8,
         "FFMC": 84,
         "FWI": "7.1",
         "ISI": 4.8,
         "Temperature": 26,
         "_deepnote_index_column": 11,
         "day": 12,
         "month": 6,
         "year": 2012
        },
        {
         "BUI": 6.7,
         "Classes": "not fire",
         "DC": "17",
         "DMC": 6.7,
         "FFMC": 50,
         "FWI": "0.2",
         "ISI": 0.5,
         "Temperature": 27,
         "_deepnote_index_column": 12,
         "day": 13,
         "month": 6,
         "year": 2012
        },
        {
         "BUI": 4.4,
         "Classes": "not fire",
         "DC": "7.8",
         "DMC": 4.6,
         "FFMC": 59,
         "FWI": "0.4",
         "ISI": 1,
         "Temperature": 30,
         "_deepnote_index_column": 13,
         "day": 14,
         "month": 6,
         "year": 2012
        },
        {
         "BUI": 3,
         "Classes": "not fire",
         "DC": "7.4",
         "DMC": 3,
         "FFMC": 49.4,
         "FWI": "0.1",
         "ISI": 0.4,
         "Temperature": 28,
         "_deepnote_index_column": 14,
         "day": 15,
         "month": 6,
         "year": 2012
        },
        {
         "BUI": 2.2,
         "Classes": "not fire",
         "DC": "7.6",
         "DMC": 1.7,
         "FFMC": 36.1,
         "FWI": "0",
         "ISI": 0,
         "Temperature": 29,
         "_deepnote_index_column": 15,
         "day": 16,
         "month": 6,
         "year": 2012
        },
        {
         "BUI": 1.6,
         "Classes": "not fire",
         "DC": "7.8",
         "DMC": 1.1,
         "FFMC": 37.3,
         "FWI": "0",
         "ISI": 0,
         "Temperature": 30,
         "_deepnote_index_column": 16,
         "day": 17,
         "month": 6,
         "year": 2012
        },
        {
         "BUI": 2.4,
         "Classes": "not fire",
         "DC": "8",
         "DMC": 1.9,
         "FFMC": 56.9,
         "FWI": "0.2",
         "ISI": 0.7,
         "Temperature": 31,
         "_deepnote_index_column": 17,
         "day": 18,
         "month": 6,
         "year": 2012
        },
        {
         "BUI": 5.3,
         "Classes": "not fire",
         "DC": "16",
         "DMC": 4.5,
         "FFMC": 79.9,
         "FWI": "1.4",
         "ISI": 2.5,
         "Temperature": 31,
         "_deepnote_index_column": 18,
         "day": 19,
         "month": 6,
         "year": 2012
        },
        {
         "BUI": 5.1,
         "Classes": "not fire",
         "DC": "27.1",
         "DMC": 3.4,
         "FFMC": 59.8,
         "FWI": "0.4",
         "ISI": 0.9,
         "Temperature": 30,
         "_deepnote_index_column": 19,
         "day": 20,
         "month": 6,
         "year": 2012
        },
        {
         "BUI": 8.4,
         "Classes": "fire",
         "DC": "31.6",
         "DMC": 6.3,
         "FFMC": 81,
         "FWI": "2.2",
         "ISI": 2.6,
         "Temperature": 30,
         "_deepnote_index_column": 20,
         "day": 21,
         "month": 6,
         "year": 2012
        },
        {
         "BUI": 9.7,
         "Classes": "not fire",
         "DC": "39.5",
         "DMC": 7,
         "FFMC": 79.1,
         "FWI": "2.3",
         "ISI": 2.4,
         "Temperature": 31,
         "_deepnote_index_column": 21,
         "day": 22,
         "month": 6,
         "year": 2012
        },
        {
         "BUI": 11.5,
         "Classes": "fire",
         "DC": "47.7",
         "DMC": 8.2,
         "FFMC": 81.4,
         "FWI": "3.8",
         "ISI": 3.3,
         "Temperature": 32,
         "_deepnote_index_column": 22,
         "day": 23,
         "month": 6,
         "year": 2012
        },
        {
         "BUI": 14.9,
         "Classes": "fire",
         "DC": "55.8",
         "DMC": 11.2,
         "FFMC": 85.9,
         "FWI": "7.5",
         "ISI": 5.6,
         "Temperature": 32,
         "_deepnote_index_column": 23,
         "day": 24,
         "month": 6,
         "year": 2012
        },
        {
         "BUI": 18.3,
         "Classes": "fire",
         "DC": "63.8",
         "DMC": 14.2,
         "FFMC": 86.7,
         "FWI": "8.4",
         "ISI": 5.7,
         "Temperature": 31,
         "_deepnote_index_column": 24,
         "day": 25,
         "month": 6,
         "year": 2012
        },
        {
         "BUI": 21.6,
         "Classes": "fire",
         "DC": "71.8",
         "DMC": 17.8,
         "FFMC": 86.8,
         "FWI": "10.6",
         "ISI": 6.7,
         "Temperature": 31,
         "_deepnote_index_column": 25,
         "day": 26,
         "month": 6,
         "year": 2012
        },
        {
         "BUI": 25.8,
         "Classes": "fire",
         "DC": "80.3",
         "DMC": 21.6,
         "FFMC": 89,
         "FWI": "15",
         "ISI": 9.2,
         "Temperature": 34,
         "_deepnote_index_column": 26,
         "day": 27,
         "month": 6,
         "year": 2012
        },
        {
         "BUI": 29.7,
         "Classes": "fire",
         "DC": "88.5",
         "DMC": 25.5,
         "FFMC": 89.1,
         "FWI": "13.9",
         "ISI": 7.6,
         "Temperature": 32,
         "_deepnote_index_column": 27,
         "day": 28,
         "month": 6,
         "year": 2012
        },
        {
         "BUI": 23.8,
         "Classes": "not fire",
         "DC": "84.4",
         "DMC": 18.4,
         "FFMC": 79.9,
         "FWI": "3.9",
         "ISI": 2.2,
         "Temperature": 32,
         "_deepnote_index_column": 28,
         "day": 29,
         "month": 6,
         "year": 2012
        },
        {
         "BUI": 28.3,
         "Classes": "fire",
         "DC": "92.8",
         "DMC": 22.9,
         "FFMC": 88.7,
         "FWI": "12.9",
         "ISI": 7.2,
         "Temperature": 33,
         "_deepnote_index_column": 29,
         "day": 30,
         "month": 6,
         "year": 2012
        },
        {
         "BUI": 2.9,
         "Classes": "not fire",
         "DC": "8.6",
         "DMC": 2.5,
         "FFMC": 59.9,
         "FWI": "0.4",
         "ISI": 1.1,
         "Temperature": 29,
         "_deepnote_index_column": 30,
         "day": 1,
         "month": 7,
         "year": 2012
        },
        {
         "BUI": 2.8,
         "Classes": "not fire",
         "DC": "8.3",
         "DMC": 2.4,
         "FFMC": 55.7,
         "FWI": "0.3",
         "ISI": 0.8,
         "Temperature": 27,
         "_deepnote_index_column": 31,
         "day": 2,
         "month": 7,
         "year": 2012
        },
        {
         "BUI": 3,
         "Classes": "not fire",
         "DC": "9.2",
         "DMC": 2.6,
         "FFMC": 63.1,
         "FWI": "0.5",
         "ISI": 1.3,
         "Temperature": 32,
         "_deepnote_index_column": 32,
         "day": 3,
         "month": 7,
         "year": 2012
        },
        {
         "BUI": 5.7,
         "Classes": "not fire",
         "DC": "18.5",
         "DMC": 4.6,
         "FFMC": 80.1,
         "FWI": "1.7",
         "ISI": 2.7,
         "Temperature": 33,
         "_deepnote_index_column": 33,
         "day": 4,
         "month": 7,
         "year": 2012
        },
        {
         "BUI": 9.1,
         "Classes": "fire",
         "DC": "27.9",
         "DMC": 7.6,
         "FFMC": 85.9,
         "FWI": "4.9",
         "ISI": 4.8,
         "Temperature": 33,
         "_deepnote_index_column": 34,
         "day": 5,
         "month": 7,
         "year": 2012
        },
        {
         "BUI": 12.5,
         "Classes": "fire",
         "DC": "37",
         "DMC": 10.9,
         "FFMC": 87,
         "FWI": "6.8",
         "ISI": 5.6,
         "Temperature": 32,
         "_deepnote_index_column": 35,
         "day": 6,
         "month": 7,
         "year": 2012
        },
        {
         "BUI": 12.1,
         "Classes": "not fire",
         "DC": "40.4",
         "DMC": 9.7,
         "FFMC": 80,
         "FWI": "3.2",
         "ISI": 2.8,
         "Temperature": 35,
         "_deepnote_index_column": 36,
         "day": 7,
         "month": 7,
         "year": 2012
        },
        {
         "BUI": 15.4,
         "Classes": "fire",
         "DC": "49.8",
         "DMC": 12.5,
         "FFMC": 85.6,
         "FWI": "8",
         "ISI": 6,
         "Temperature": 33,
         "_deepnote_index_column": 37,
         "day": 8,
         "month": 7,
         "year": 2012
        },
        {
         "BUI": 7.4,
         "Classes": "not fire",
         "DC": "9.2",
         "DMC": 7.7,
         "FFMC": 66.6,
         "FWI": "0.6",
         "ISI": 1.1,
         "Temperature": 32,
         "_deepnote_index_column": 38,
         "day": 9,
         "month": 7,
         "year": 2012
        },
        {
         "BUI": 5.8,
         "Classes": "not fire",
         "DC": "9.3",
         "DMC": 6,
         "FFMC": 66.6,
         "FWI": "0.5",
         "ISI": 1.1,
         "Temperature": 33,
         "_deepnote_index_column": 39,
         "day": 10,
         "month": 7,
         "year": 2012
        },
        {
         "BUI": 8.1,
         "Classes": "not fire",
         "DC": "18.7",
         "DMC": 8.1,
         "FFMC": 81.1,
         "FWI": "2.2",
         "ISI": 2.6,
         "Temperature": 33,
         "_deepnote_index_column": 40,
         "day": 11,
         "month": 7,
         "year": 2012
        },
        {
         "BUI": 9.2,
         "Classes": "not fire",
         "DC": "27.7",
         "DMC": 7.9,
         "FFMC": 75.1,
         "FWI": "0.9",
         "ISI": 1.5,
         "Temperature": 31,
         "_deepnote_index_column": 41,
         "day": 12,
         "month": 7,
         "year": 2012
        },
        {
         "BUI": 11.7,
         "Classes": "not fire",
         "DC": "37.2",
         "DMC": 9.7,
         "FFMC": 81.8,
         "FWI": "3.4",
         "ISI": 3,
         "Temperature": 34,
         "_deepnote_index_column": 42,
         "day": 13,
         "month": 7,
         "year": 2012
        },
        {
         "BUI": 8.4,
         "Classes": "not fire",
         "DC": "22.9",
         "DMC": 7.8,
         "FFMC": 73.9,
         "FWI": "0.8",
         "ISI": 1.4,
         "Temperature": 34,
         "_deepnote_index_column": 43,
         "day": 14,
         "month": 7,
         "year": 2012
        },
        {
         "BUI": 5.9,
         "Classes": "not fire",
         "DC": "17",
         "DMC": 5.2,
         "FFMC": 60.7,
         "FWI": "0.5",
         "ISI": 1.1,
         "Temperature": 30,
         "_deepnote_index_column": 44,
         "day": 15,
         "month": 7,
         "year": 2012
        }
       ]
      },
      "text/html": [
       "<div>\n",
       "<style scoped>\n",
       "    .dataframe tbody tr th:only-of-type {\n",
       "        vertical-align: middle;\n",
       "    }\n",
       "\n",
       "    .dataframe tbody tr th {\n",
       "        vertical-align: top;\n",
       "    }\n",
       "\n",
       "    .dataframe thead th {\n",
       "        text-align: right;\n",
       "    }\n",
       "</style>\n",
       "<table border=\"1\" class=\"dataframe\">\n",
       "  <thead>\n",
       "    <tr style=\"text-align: right;\">\n",
       "      <th></th>\n",
       "      <th>day</th>\n",
       "      <th>month</th>\n",
       "      <th>year</th>\n",
       "      <th>Temperature</th>\n",
       "      <th>FFMC</th>\n",
       "      <th>DMC</th>\n",
       "      <th>DC</th>\n",
       "      <th>ISI</th>\n",
       "      <th>BUI</th>\n",
       "      <th>FWI</th>\n",
       "      <th>Classes</th>\n",
       "    </tr>\n",
       "  </thead>\n",
       "  <tbody>\n",
       "    <tr>\n",
       "      <th>0</th>\n",
       "      <td>1</td>\n",
       "      <td>6</td>\n",
       "      <td>2012</td>\n",
       "      <td>29</td>\n",
       "      <td>65.7</td>\n",
       "      <td>3.4</td>\n",
       "      <td>7.6</td>\n",
       "      <td>1.3</td>\n",
       "      <td>3.4</td>\n",
       "      <td>0.5</td>\n",
       "      <td>not fire</td>\n",
       "    </tr>\n",
       "    <tr>\n",
       "      <th>1</th>\n",
       "      <td>2</td>\n",
       "      <td>6</td>\n",
       "      <td>2012</td>\n",
       "      <td>29</td>\n",
       "      <td>64.4</td>\n",
       "      <td>4.1</td>\n",
       "      <td>7.6</td>\n",
       "      <td>1.0</td>\n",
       "      <td>3.9</td>\n",
       "      <td>0.4</td>\n",
       "      <td>not fire</td>\n",
       "    </tr>\n",
       "    <tr>\n",
       "      <th>2</th>\n",
       "      <td>3</td>\n",
       "      <td>6</td>\n",
       "      <td>2012</td>\n",
       "      <td>26</td>\n",
       "      <td>47.1</td>\n",
       "      <td>2.5</td>\n",
       "      <td>7.1</td>\n",
       "      <td>0.3</td>\n",
       "      <td>2.7</td>\n",
       "      <td>0.1</td>\n",
       "      <td>not fire</td>\n",
       "    </tr>\n",
       "    <tr>\n",
       "      <th>3</th>\n",
       "      <td>4</td>\n",
       "      <td>6</td>\n",
       "      <td>2012</td>\n",
       "      <td>25</td>\n",
       "      <td>28.6</td>\n",
       "      <td>1.3</td>\n",
       "      <td>6.9</td>\n",
       "      <td>0.0</td>\n",
       "      <td>1.7</td>\n",
       "      <td>0</td>\n",
       "      <td>not fire</td>\n",
       "    </tr>\n",
       "    <tr>\n",
       "      <th>4</th>\n",
       "      <td>5</td>\n",
       "      <td>6</td>\n",
       "      <td>2012</td>\n",
       "      <td>27</td>\n",
       "      <td>64.8</td>\n",
       "      <td>3.0</td>\n",
       "      <td>14.2</td>\n",
       "      <td>1.2</td>\n",
       "      <td>3.9</td>\n",
       "      <td>0.5</td>\n",
       "      <td>not fire</td>\n",
       "    </tr>\n",
       "    <tr>\n",
       "      <th>...</th>\n",
       "      <td>...</td>\n",
       "      <td>...</td>\n",
       "      <td>...</td>\n",
       "      <td>...</td>\n",
       "      <td>...</td>\n",
       "      <td>...</td>\n",
       "      <td>...</td>\n",
       "      <td>...</td>\n",
       "      <td>...</td>\n",
       "      <td>...</td>\n",
       "      <td>...</td>\n",
       "    </tr>\n",
       "    <tr>\n",
       "      <th>239</th>\n",
       "      <td>26</td>\n",
       "      <td>9</td>\n",
       "      <td>2012</td>\n",
       "      <td>30</td>\n",
       "      <td>85.4</td>\n",
       "      <td>16.0</td>\n",
       "      <td>44.5</td>\n",
       "      <td>4.5</td>\n",
       "      <td>16.9</td>\n",
       "      <td>6.5</td>\n",
       "      <td>fire</td>\n",
       "    </tr>\n",
       "    <tr>\n",
       "      <th>240</th>\n",
       "      <td>27</td>\n",
       "      <td>9</td>\n",
       "      <td>2012</td>\n",
       "      <td>28</td>\n",
       "      <td>41.1</td>\n",
       "      <td>6.5</td>\n",
       "      <td>8</td>\n",
       "      <td>0.1</td>\n",
       "      <td>6.2</td>\n",
       "      <td>0</td>\n",
       "      <td>not fire</td>\n",
       "    </tr>\n",
       "    <tr>\n",
       "      <th>241</th>\n",
       "      <td>28</td>\n",
       "      <td>9</td>\n",
       "      <td>2012</td>\n",
       "      <td>27</td>\n",
       "      <td>45.9</td>\n",
       "      <td>3.5</td>\n",
       "      <td>7.9</td>\n",
       "      <td>0.4</td>\n",
       "      <td>3.4</td>\n",
       "      <td>0.2</td>\n",
       "      <td>not fire</td>\n",
       "    </tr>\n",
       "    <tr>\n",
       "      <th>242</th>\n",
       "      <td>29</td>\n",
       "      <td>9</td>\n",
       "      <td>2012</td>\n",
       "      <td>24</td>\n",
       "      <td>79.7</td>\n",
       "      <td>4.3</td>\n",
       "      <td>15.2</td>\n",
       "      <td>1.7</td>\n",
       "      <td>5.1</td>\n",
       "      <td>0.7</td>\n",
       "      <td>not fire</td>\n",
       "    </tr>\n",
       "    <tr>\n",
       "      <th>243</th>\n",
       "      <td>30</td>\n",
       "      <td>9</td>\n",
       "      <td>2012</td>\n",
       "      <td>24</td>\n",
       "      <td>67.3</td>\n",
       "      <td>3.8</td>\n",
       "      <td>16.5</td>\n",
       "      <td>1.2</td>\n",
       "      <td>4.8</td>\n",
       "      <td>0.5</td>\n",
       "      <td>not fire</td>\n",
       "    </tr>\n",
       "  </tbody>\n",
       "</table>\n",
       "<p>243 rows × 11 columns</p>\n",
       "</div>"
      ],
      "text/plain": [
       "     day  month  year  Temperature  FFMC   DMC    DC  ISI   BUI  FWI   Classes\n",
       "0      1      6  2012           29  65.7   3.4   7.6  1.3   3.4  0.5  not fire\n",
       "1      2      6  2012           29  64.4   4.1   7.6  1.0   3.9  0.4  not fire\n",
       "2      3      6  2012           26  47.1   2.5   7.1  0.3   2.7  0.1  not fire\n",
       "3      4      6  2012           25  28.6   1.3   6.9  0.0   1.7    0  not fire\n",
       "4      5      6  2012           27  64.8   3.0  14.2  1.2   3.9  0.5  not fire\n",
       "..   ...    ...   ...          ...   ...   ...   ...  ...   ...  ...       ...\n",
       "239   26      9  2012           30  85.4  16.0  44.5  4.5  16.9  6.5      fire\n",
       "240   27      9  2012           28  41.1   6.5     8  0.1   6.2    0  not fire\n",
       "241   28      9  2012           27  45.9   3.5   7.9  0.4   3.4  0.2  not fire\n",
       "242   29      9  2012           24  79.7   4.3  15.2  1.7   5.1  0.7  not fire\n",
       "243   30      9  2012           24  67.3   3.8  16.5  1.2   4.8  0.5  not fire\n",
       "\n",
       "[243 rows x 11 columns]"
      ]
     },
     "execution_count": 9,
     "metadata": {},
     "output_type": "execute_result"
    }
   ],
   "source": [
    "data[data['Classes'].notnull()]"
   ]
  },
  {
   "cell_type": "code",
   "execution_count": null,
   "metadata": {
    "cell_id": "00009-718b1b75-3d6d-46e2-af97-f78117814969",
    "deepnote_cell_type": "code",
    "deepnote_to_be_reexecuted": false,
    "execution_millis": 3,
    "execution_start": 1635758675867,
    "source_hash": "89d1a00",
    "tags": []
   },
   "outputs": [
    {
     "name": "stderr",
     "output_type": "stream",
     "text": [
      "/shared-libs/python3.7/py-core/lib/python3.7/site-packages/ipykernel_launcher.py:1: SettingWithCopyWarning: \n",
      "A value is trying to be set on a copy of a slice from a DataFrame.\n",
      "Try using .loc[row_indexer,col_indexer] = value instead\n",
      "\n",
      "See the caveats in the documentation: https://pandas.pydata.org/pandas-docs/stable/user_guide/indexing.html#returning-a-view-versus-a-copy\n",
      "  \"\"\"Entry point for launching an IPython kernel.\n"
     ]
    }
   ],
   "source": [
    "data['DC'] = data['DC'].astype('float64')"
   ]
  },
  {
   "cell_type": "code",
   "execution_count": null,
   "metadata": {
    "cell_id": "00010-16f6846e-6faf-4ae4-a650-5866ee497acf",
    "deepnote_cell_type": "code",
    "deepnote_to_be_reexecuted": false,
    "execution_millis": 2,
    "execution_start": 1635758676123,
    "source_hash": "f51dc6e4",
    "tags": []
   },
   "outputs": [
    {
     "name": "stderr",
     "output_type": "stream",
     "text": [
      "/shared-libs/python3.7/py-core/lib/python3.7/site-packages/ipykernel_launcher.py:1: SettingWithCopyWarning: \n",
      "A value is trying to be set on a copy of a slice from a DataFrame.\n",
      "Try using .loc[row_indexer,col_indexer] = value instead\n",
      "\n",
      "See the caveats in the documentation: https://pandas.pydata.org/pandas-docs/stable/user_guide/indexing.html#returning-a-view-versus-a-copy\n",
      "  \"\"\"Entry point for launching an IPython kernel.\n"
     ]
    }
   ],
   "source": [
    "data['FWI'] = data['FWI'].astype('float64')"
   ]
  },
  {
   "cell_type": "code",
   "execution_count": null,
   "metadata": {
    "cell_id": "00003-c51de6bc-c54c-4822-b0a2-24b67144250c",
    "deepnote_cell_type": "code",
    "deepnote_to_be_reexecuted": false,
    "execution_millis": 2,
    "execution_start": 1635758677245,
    "source_hash": "af565e11",
    "tags": []
   },
   "outputs": [],
   "source": [
    "# checking DC\n",
    "for i in data['FWI']:\n",
    "    try:\n",
    "        k = float(i)\n",
    "\n",
    "    except Exception as e:\n",
    "        print(i, e)"
   ]
  },
  {
   "cell_type": "code",
   "execution_count": null,
   "metadata": {
    "cell_id": "00012-0c570ef5-0a26-4717-92ea-01d3c9796c2a",
    "deepnote_cell_type": "code",
    "deepnote_to_be_reexecuted": false,
    "execution_millis": 126,
    "execution_start": 1635758677405,
    "source_hash": "e6928a8f",
    "tags": []
   },
   "outputs": [
    {
     "data": {
      "application/vnd.deepnote.dataframe.v2+json": {
       "column_count": 11,
       "columns": [
        {
         "dtype": "int64",
         "name": "day",
         "stats": {
          "histogram": [
           {
            "bin_end": 4,
            "bin_start": 1,
            "count": 24
           },
           {
            "bin_end": 7,
            "bin_start": 4,
            "count": 24
           },
           {
            "bin_end": 10,
            "bin_start": 7,
            "count": 24
           },
           {
            "bin_end": 13,
            "bin_start": 10,
            "count": 24
           },
           {
            "bin_end": 16,
            "bin_start": 13,
            "count": 23
           },
           {
            "bin_end": 19,
            "bin_start": 16,
            "count": 24
           },
           {
            "bin_end": 22,
            "bin_start": 19,
            "count": 24
           },
           {
            "bin_end": 25,
            "bin_start": 22,
            "count": 24
           },
           {
            "bin_end": 28,
            "bin_start": 25,
            "count": 24
           },
           {
            "bin_end": 31,
            "bin_start": 28,
            "count": 28
           }
          ],
          "max": "31",
          "min": "1",
          "nan_count": 0,
          "unique_count": 31
         }
        },
        {
         "dtype": "int64",
         "name": "month",
         "stats": {
          "histogram": [
           {
            "bin_end": 6.3,
            "bin_start": 6,
            "count": 60
           },
           {
            "bin_end": 6.6,
            "bin_start": 6.3,
            "count": 0
           },
           {
            "bin_end": 6.9,
            "bin_start": 6.6,
            "count": 0
           },
           {
            "bin_end": 7.2,
            "bin_start": 6.9,
            "count": 61
           },
           {
            "bin_end": 7.5,
            "bin_start": 7.2,
            "count": 0
           },
           {
            "bin_end": 7.8,
            "bin_start": 7.5,
            "count": 0
           },
           {
            "bin_end": 8.1,
            "bin_start": 7.8,
            "count": 62
           },
           {
            "bin_end": 8.4,
            "bin_start": 8.1,
            "count": 0
           },
           {
            "bin_end": 8.7,
            "bin_start": 8.4,
            "count": 0
           },
           {
            "bin_end": 9,
            "bin_start": 8.7,
            "count": 60
           }
          ],
          "max": "9",
          "min": "6",
          "nan_count": 0,
          "unique_count": 4
         }
        },
        {
         "dtype": "int64",
         "name": "year",
         "stats": {
          "histogram": [
           {
            "bin_end": 2011.6,
            "bin_start": 2011.5,
            "count": 0
           },
           {
            "bin_end": 2011.7,
            "bin_start": 2011.6,
            "count": 0
           },
           {
            "bin_end": 2011.8,
            "bin_start": 2011.7,
            "count": 0
           },
           {
            "bin_end": 2011.9,
            "bin_start": 2011.8,
            "count": 0
           },
           {
            "bin_end": 2012,
            "bin_start": 2011.9,
            "count": 0
           },
           {
            "bin_end": 2012.1,
            "bin_start": 2012,
            "count": 243
           },
           {
            "bin_end": 2012.2,
            "bin_start": 2012.1,
            "count": 0
           },
           {
            "bin_end": 2012.3,
            "bin_start": 2012.2,
            "count": 0
           },
           {
            "bin_end": 2012.4,
            "bin_start": 2012.3,
            "count": 0
           },
           {
            "bin_end": 2012.5,
            "bin_start": 2012.4,
            "count": 0
           }
          ],
          "max": "2012",
          "min": "2012",
          "nan_count": 0,
          "unique_count": 1
         }
        },
        {
         "dtype": "int64",
         "name": "Temperature",
         "stats": {
          "histogram": [
           {
            "bin_end": 24,
            "bin_start": 22,
            "count": 2
           },
           {
            "bin_end": 26,
            "bin_start": 24,
            "count": 9
           },
           {
            "bin_end": 28,
            "bin_start": 26,
            "count": 13
           },
           {
            "bin_end": 30,
            "bin_start": 28,
            "count": 33
           },
           {
            "bin_end": 32,
            "bin_start": 30,
            "count": 47
           },
           {
            "bin_end": 34,
            "bin_start": 32,
            "count": 44
           },
           {
            "bin_end": 36,
            "bin_start": 34,
            "count": 53
           },
           {
            "bin_end": 38,
            "bin_start": 36,
            "count": 29
           },
           {
            "bin_end": 40,
            "bin_start": 38,
            "count": 9
           },
           {
            "bin_end": 42,
            "bin_start": 40,
            "count": 4
           }
          ],
          "max": "42",
          "min": "22",
          "nan_count": 0,
          "unique_count": 19
         }
        },
        {
         "dtype": "float64",
         "name": "FFMC",
         "stats": {
          "histogram": [
           {
            "bin_end": 35.34,
            "bin_start": 28.6,
            "count": 2
           },
           {
            "bin_end": 42.08,
            "bin_start": 35.34,
            "count": 5
           },
           {
            "bin_end": 48.82,
            "bin_start": 42.08,
            "count": 11
           },
           {
            "bin_end": 55.56,
            "bin_start": 48.82,
            "count": 5
           },
           {
            "bin_end": 62.300000000000004,
            "bin_start": 55.56,
            "count": 16
           },
           {
            "bin_end": 69.03999999999999,
            "bin_start": 62.300000000000004,
            "count": 16
           },
           {
            "bin_end": 75.78,
            "bin_start": 69.03999999999999,
            "count": 20
           },
           {
            "bin_end": 82.52000000000001,
            "bin_start": 75.78,
            "count": 42
           },
           {
            "bin_end": 89.26,
            "bin_start": 82.52000000000001,
            "count": 86
           },
           {
            "bin_end": 96,
            "bin_start": 89.26,
            "count": 40
           }
          ],
          "max": "96.0",
          "min": "28.6",
          "nan_count": 0,
          "unique_count": 173
         }
        },
        {
         "dtype": "float64",
         "name": "DMC",
         "stats": {
          "histogram": [
           {
            "bin_end": 7.220000000000001,
            "bin_start": 0.7,
            "count": 80
           },
           {
            "bin_end": 13.74,
            "bin_start": 7.220000000000001,
            "count": 66
           },
           {
            "bin_end": 20.26,
            "bin_start": 13.74,
            "count": 35
           },
           {
            "bin_end": 26.78,
            "bin_start": 20.26,
            "count": 30
           },
           {
            "bin_end": 33.300000000000004,
            "bin_start": 26.78,
            "count": 11
           },
           {
            "bin_end": 39.82000000000001,
            "bin_start": 33.300000000000004,
            "count": 7
           },
           {
            "bin_end": 46.34,
            "bin_start": 39.82000000000001,
            "count": 6
           },
           {
            "bin_end": 52.86000000000001,
            "bin_start": 46.34,
            "count": 4
           },
           {
            "bin_end": 59.38000000000001,
            "bin_start": 52.86000000000001,
            "count": 2
           },
           {
            "bin_end": 65.9,
            "bin_start": 59.38000000000001,
            "count": 2
           }
          ],
          "max": "65.9",
          "min": "0.7",
          "nan_count": 0,
          "unique_count": 165
         }
        },
        {
         "dtype": "float64",
         "name": "DC",
         "stats": {
          "histogram": [
           {
            "bin_end": 28.25,
            "bin_start": 6.9,
            "count": 109
           },
           {
            "bin_end": 49.6,
            "bin_start": 28.25,
            "count": 50
           },
           {
            "bin_end": 70.95000000000002,
            "bin_start": 49.6,
            "count": 23
           },
           {
            "bin_end": 92.30000000000001,
            "bin_start": 70.95000000000002,
            "count": 21
           },
           {
            "bin_end": 113.65,
            "bin_start": 92.30000000000001,
            "count": 12
           },
           {
            "bin_end": 135.00000000000003,
            "bin_start": 113.65,
            "count": 7
           },
           {
            "bin_end": 156.35000000000002,
            "bin_start": 135.00000000000003,
            "count": 7
           },
           {
            "bin_end": 177.70000000000002,
            "bin_start": 156.35000000000002,
            "count": 8
           },
           {
            "bin_end": 199.05,
            "bin_start": 177.70000000000002,
            "count": 3
           },
           {
            "bin_end": 220.4,
            "bin_start": 199.05,
            "count": 3
           }
          ],
          "max": "220.4",
          "min": "6.9",
          "nan_count": 0,
          "unique_count": 197
         }
        },
        {
         "dtype": "float64",
         "name": "ISI",
         "stats": {
          "histogram": [
           {
            "bin_end": 1.9,
            "bin_start": 0,
            "count": 80
           },
           {
            "bin_end": 3.8,
            "bin_start": 1.9,
            "count": 44
           },
           {
            "bin_end": 5.699999999999999,
            "bin_start": 3.8,
            "count": 40
           },
           {
            "bin_end": 7.6,
            "bin_start": 5.699999999999999,
            "count": 24
           },
           {
            "bin_end": 9.5,
            "bin_start": 7.6,
            "count": 21
           },
           {
            "bin_end": 11.399999999999999,
            "bin_start": 9.5,
            "count": 15
           },
           {
            "bin_end": 13.299999999999999,
            "bin_start": 11.399999999999999,
            "count": 6
           },
           {
            "bin_end": 15.2,
            "bin_start": 13.299999999999999,
            "count": 5
           },
           {
            "bin_end": 17.099999999999998,
            "bin_start": 15.2,
            "count": 5
           },
           {
            "bin_end": 19,
            "bin_start": 17.099999999999998,
            "count": 3
           }
          ],
          "max": "19.0",
          "min": "0.0",
          "nan_count": 0,
          "unique_count": 106
         }
        },
        {
         "dtype": "float64",
         "name": "BUI",
         "stats": {
          "histogram": [
           {
            "bin_end": 7.790000000000001,
            "bin_start": 1.1,
            "count": 80
           },
           {
            "bin_end": 14.48,
            "bin_start": 7.790000000000001,
            "count": 57
           },
           {
            "bin_end": 21.17,
            "bin_start": 14.48,
            "count": 35
           },
           {
            "bin_end": 27.860000000000003,
            "bin_start": 21.17,
            "count": 27
           },
           {
            "bin_end": 34.550000000000004,
            "bin_start": 27.860000000000003,
            "count": 14
           },
           {
            "bin_end": 41.24,
            "bin_start": 34.550000000000004,
            "count": 13
           },
           {
            "bin_end": 47.93000000000001,
            "bin_start": 41.24,
            "count": 6
           },
           {
            "bin_end": 54.620000000000005,
            "bin_start": 47.93000000000001,
            "count": 2
           },
           {
            "bin_end": 61.31,
            "bin_start": 54.620000000000005,
            "count": 5
           },
           {
            "bin_end": 68,
            "bin_start": 61.31,
            "count": 4
           }
          ],
          "max": "68.0",
          "min": "1.1",
          "nan_count": 0,
          "unique_count": 173
         }
        },
        {
         "dtype": "float64",
         "name": "FWI",
         "stats": {
          "histogram": [
           {
            "bin_end": 3.1100000000000003,
            "bin_start": 0,
            "count": 106
           },
           {
            "bin_end": 6.220000000000001,
            "bin_start": 3.1100000000000003,
            "count": 33
           },
           {
            "bin_end": 9.330000000000002,
            "bin_start": 6.220000000000001,
            "count": 26
           },
           {
            "bin_end": 12.440000000000001,
            "bin_start": 9.330000000000002,
            "count": 22
           },
           {
            "bin_end": 15.55,
            "bin_start": 12.440000000000001,
            "count": 21
           },
           {
            "bin_end": 18.660000000000004,
            "bin_start": 15.55,
            "count": 13
           },
           {
            "bin_end": 21.770000000000003,
            "bin_start": 18.660000000000004,
            "count": 11
           },
           {
            "bin_end": 24.880000000000003,
            "bin_start": 21.770000000000003,
            "count": 3
           },
           {
            "bin_end": 27.990000000000002,
            "bin_start": 24.880000000000003,
            "count": 4
           },
           {
            "bin_end": 31.1,
            "bin_start": 27.990000000000002,
            "count": 4
           }
          ],
          "max": "31.1",
          "min": "0.0",
          "nan_count": 0,
          "unique_count": 125
         }
        },
        {
         "dtype": "object",
         "name": "Classes",
         "stats": {
          "categories": [
           {
            "count": 137,
            "name": "fire"
           },
           {
            "count": 106,
            "name": "not fire"
           }
          ],
          "nan_count": 0,
          "unique_count": 2
         }
        },
        {
         "dtype": "int64",
         "name": "_deepnote_index_column"
        }
       ],
       "row_count": 243,
       "rows_bottom": [
        {
         "BUI": 30.4,
         "Classes": "fire",
         "DC": 76.4,
         "DMC": 30.3,
         "FFMC": 96,
         "FWI": 24,
         "ISI": 15.7,
         "Temperature": 42,
         "_deepnote_index_column": 199,
         "day": 17,
         "month": 8,
         "year": 2012
        },
        {
         "BUI": 35.9,
         "Classes": "fire",
         "DC": 86.8,
         "DMC": 35.9,
         "FFMC": 94.3,
         "FWI": 26.3,
         "ISI": 16,
         "Temperature": 37,
         "_deepnote_index_column": 200,
         "day": 18,
         "month": 8,
         "year": 2012
        },
        {
         "BUI": 35.5,
         "Classes": "fire",
         "DC": 96.8,
         "DMC": 32.7,
         "FFMC": 82.7,
         "FWI": 7.7,
         "ISI": 3.3,
         "Temperature": 35,
         "_deepnote_index_column": 201,
         "day": 19,
         "month": 8,
         "year": 2012
        },
        {
         "BUI": 38.1,
         "Classes": "fire",
         "DC": 107,
         "DMC": 34.4,
         "FFMC": 83.7,
         "FWI": 9,
         "ISI": 3.8,
         "Temperature": 36,
         "_deepnote_index_column": 202,
         "day": 20,
         "month": 8,
         "year": 2012
        },
        {
         "BUI": 41.3,
         "Classes": "fire",
         "DC": 117.1,
         "DMC": 36.9,
         "FFMC": 86,
         "FWI": 12.2,
         "ISI": 5.1,
         "Temperature": 36,
         "_deepnote_index_column": 203,
         "day": 21,
         "month": 8,
         "year": 2012
        },
        {
         "BUI": 45.5,
         "Classes": "fire",
         "DC": 127.5,
         "DMC": 41.1,
         "FFMC": 89.5,
         "FWI": 18.1,
         "ISI": 8,
         "Temperature": 37,
         "_deepnote_index_column": 204,
         "day": 22,
         "month": 8,
         "year": 2012
        },
        {
         "BUI": 50.2,
         "Classes": "fire",
         "DC": 137.7,
         "DMC": 46.1,
         "FFMC": 91.2,
         "FWI": 24.5,
         "ISI": 11.5,
         "Temperature": 36,
         "_deepnote_index_column": 205,
         "day": 23,
         "month": 8,
         "year": 2012
        },
        {
         "BUI": 54.9,
         "Classes": "fire",
         "DC": 147.7,
         "DMC": 51.3,
         "FFMC": 92.1,
         "FWI": 26.9,
         "ISI": 12.2,
         "Temperature": 35,
         "_deepnote_index_column": 206,
         "day": 24,
         "month": 8,
         "year": 2012
        },
        {
         "BUI": 59.5,
         "Classes": "fire",
         "DC": 157.5,
         "DMC": 56.3,
         "FFMC": 92.1,
         "FWI": 31.1,
         "ISI": 14.3,
         "Temperature": 34,
         "_deepnote_index_column": 207,
         "day": 25,
         "month": 8,
         "year": 2012
        },
        {
         "BUI": 64,
         "Classes": "fire",
         "DC": 167.2,
         "DMC": 61.3,
         "FFMC": 92.2,
         "FWI": 30.3,
         "ISI": 13.1,
         "Temperature": 33,
         "_deepnote_index_column": 208,
         "day": 26,
         "month": 8,
         "year": 2012
        },
        {
         "BUI": 68,
         "Classes": "fire",
         "DC": 177.3,
         "DMC": 65.9,
         "FFMC": 91,
         "FWI": 26.1,
         "ISI": 10,
         "Temperature": 36,
         "_deepnote_index_column": 209,
         "day": 27,
         "month": 8,
         "year": 2012
        },
        {
         "BUI": 30.6,
         "Classes": "not fire",
         "DC": 166,
         "DMC": 37,
         "FFMC": 79.2,
         "FWI": 6.1,
         "ISI": 2.1,
         "Temperature": 35,
         "_deepnote_index_column": 210,
         "day": 28,
         "month": 8,
         "year": 2012
        },
        {
         "BUI": 30.6,
         "Classes": "fire",
         "DC": 149.2,
         "DMC": 20.7,
         "FFMC": 80.2,
         "FWI": 5.9,
         "ISI": 2.7,
         "Temperature": 35,
         "_deepnote_index_column": 211,
         "day": 29,
         "month": 8,
         "year": 2012
        },
        {
         "BUI": 35.7,
         "Classes": "fire",
         "DC": 159.1,
         "DMC": 24.8,
         "FFMC": 89.2,
         "FWI": 16,
         "ISI": 8.1,
         "Temperature": 34,
         "_deepnote_index_column": 212,
         "day": 30,
         "month": 8,
         "year": 2012
        },
        {
         "BUI": 39.3,
         "Classes": "fire",
         "DC": 168.2,
         "DMC": 27.8,
         "FFMC": 89.1,
         "FWI": 19.4,
         "ISI": 9.8,
         "Temperature": 30,
         "_deepnote_index_column": 213,
         "day": 31,
         "month": 8,
         "year": 2012
        },
        {
         "BUI": 1.4,
         "Classes": "not fire",
         "DC": 8.2,
         "DMC": 0.9,
         "FFMC": 37.9,
         "FWI": 0,
         "ISI": 0.1,
         "Temperature": 29,
         "_deepnote_index_column": 214,
         "day": 1,
         "month": 9,
         "year": 2012
        },
        {
         "BUI": 4,
         "Classes": "not fire",
         "DC": 16.3,
         "DMC": 2.9,
         "FFMC": 75.4,
         "FWI": 0.8,
         "ISI": 2,
         "Temperature": 28,
         "_deepnote_index_column": 215,
         "day": 2,
         "month": 9,
         "year": 2012
        },
        {
         "BUI": 6,
         "Classes": "fire",
         "DC": 24.3,
         "DMC": 4.4,
         "FFMC": 82.2,
         "FWI": 2.5,
         "ISI": 3.3,
         "Temperature": 28,
         "_deepnote_index_column": 216,
         "day": 3,
         "month": 9,
         "year": 2012
        },
        {
         "BUI": 6,
         "Classes": "not fire",
         "DC": 26.6,
         "DMC": 4.1,
         "FFMC": 73.5,
         "FWI": 0.7,
         "ISI": 1.5,
         "Temperature": 30,
         "_deepnote_index_column": 217,
         "day": 4,
         "month": 9,
         "year": 2012
        },
        {
         "BUI": 3.9,
         "Classes": "not fire",
         "DC": 8.4,
         "DMC": 4,
         "FFMC": 66.1,
         "FWI": 0.4,
         "ISI": 1,
         "Temperature": 30,
         "_deepnote_index_column": 218,
         "day": 5,
         "month": 9,
         "year": 2012
        },
        {
         "BUI": 3.5,
         "Classes": "not fire",
         "DC": 9.1,
         "DMC": 3.3,
         "FFMC": 64.5,
         "FWI": 0.4,
         "ISI": 1,
         "Temperature": 34,
         "_deepnote_index_column": 219,
         "day": 6,
         "month": 9,
         "year": 2012
        },
        {
         "BUI": 6.4,
         "Classes": "fire",
         "DC": 17.7,
         "DMC": 5.8,
         "FFMC": 83.3,
         "FWI": 3.2,
         "ISI": 3.8,
         "Temperature": 31,
         "_deepnote_index_column": 220,
         "day": 7,
         "month": 9,
         "year": 2012
        },
        {
         "BUI": 8.1,
         "Classes": "fire",
         "DC": 26.1,
         "DMC": 6.6,
         "FFMC": 82.5,
         "FWI": 2.7,
         "ISI": 3,
         "Temperature": 30,
         "_deepnote_index_column": 221,
         "day": 8,
         "month": 9,
         "year": 2012
        },
        {
         "BUI": 10,
         "Classes": "fire",
         "DC": 34.5,
         "DMC": 7.9,
         "FFMC": 83.1,
         "FWI": 3.7,
         "ISI": 3.5,
         "Temperature": 30,
         "_deepnote_index_column": 222,
         "day": 9,
         "month": 9,
         "year": 2012
        },
        {
         "BUI": 4.6,
         "Classes": "not fire",
         "DC": 8.2,
         "DMC": 4.7,
         "FFMC": 59.5,
         "FWI": 0.3,
         "ISI": 0.8,
         "Temperature": 29,
         "_deepnote_index_column": 223,
         "day": 10,
         "month": 9,
         "year": 2012
        },
        {
         "BUI": 6.6,
         "Classes": "not fire",
         "DC": 16.6,
         "DMC": 6.5,
         "FFMC": 79.2,
         "FWI": 1.2,
         "ISI": 2.1,
         "Temperature": 30,
         "_deepnote_index_column": 224,
         "day": 11,
         "month": 9,
         "year": 2012
        },
        {
         "BUI": 9.1,
         "Classes": "fire",
         "DC": 25.2,
         "DMC": 8.3,
         "FFMC": 84.2,
         "FWI": 3.9,
         "ISI": 3.8,
         "Temperature": 31,
         "_deepnote_index_column": 225,
         "day": 12,
         "month": 9,
         "year": 2012
        },
        {
         "BUI": 12.4,
         "Classes": "fire",
         "DC": 33.4,
         "DMC": 11.5,
         "FFMC": 88.6,
         "FWI": 10.3,
         "ISI": 9.1,
         "Temperature": 29,
         "_deepnote_index_column": 226,
         "day": 13,
         "month": 9,
         "year": 2012
        },
        {
         "BUI": 14.3,
         "Classes": "fire",
         "DC": 41.5,
         "DMC": 12.6,
         "FFMC": 84.6,
         "FWI": 5.7,
         "ISI": 4.3,
         "Temperature": 28,
         "_deepnote_index_column": 227,
         "day": 14,
         "month": 9,
         "year": 2012
        },
        {
         "BUI": 17.8,
         "Classes": "fire",
         "DC": 50.2,
         "DMC": 16,
         "FFMC": 88.7,
         "FWI": 9.8,
         "ISI": 6.9,
         "Temperature": 32,
         "_deepnote_index_column": 228,
         "day": 15,
         "month": 9,
         "year": 2012
        },
        {
         "BUI": 22.4,
         "Classes": "fire",
         "DC": 59.2,
         "DMC": 21.2,
         "FFMC": 93.9,
         "FWI": 19.3,
         "ISI": 14.2,
         "Temperature": 33,
         "_deepnote_index_column": 229,
         "day": 16,
         "month": 9,
         "year": 2012
        },
        {
         "BUI": 26.2,
         "Classes": "fire",
         "DC": 63.3,
         "DMC": 25.2,
         "FFMC": 92.5,
         "FWI": 17.5,
         "ISI": 11.2,
         "Temperature": 34,
         "_deepnote_index_column": 230,
         "day": 17,
         "month": 9,
         "year": 2012
        },
        {
         "BUI": 28.2,
         "Classes": "fire",
         "DC": 77.8,
         "DMC": 25.8,
         "FFMC": 90.6,
         "FWI": 15.4,
         "ISI": 9,
         "Temperature": 36,
         "_deepnote_index_column": 231,
         "day": 18,
         "month": 9,
         "year": 2012
        },
        {
         "BUI": 28.9,
         "Classes": "fire",
         "DC": 86,
         "DMC": 24.9,
         "FFMC": 83.9,
         "FWI": 5.6,
         "ISI": 2.7,
         "Temperature": 29,
         "_deepnote_index_column": 232,
         "day": 19,
         "month": 9,
         "year": 2012
        },
        {
         "BUI": 24.4,
         "Classes": "not fire",
         "DC": 88,
         "DMC": 18.7,
         "FFMC": 79.5,
         "FWI": 3.8,
         "ISI": 2.1,
         "Temperature": 34,
         "_deepnote_index_column": 233,
         "day": 20,
         "month": 9,
         "year": 2012
        },
        {
         "BUI": 29.4,
         "Classes": "fire",
         "DC": 97.3,
         "DMC": 23.6,
         "FFMC": 92.2,
         "FWI": 21.6,
         "ISI": 13.8,
         "Temperature": 35,
         "_deepnote_index_column": 234,
         "day": 21,
         "month": 9,
         "year": 2012
        },
        {
         "BUI": 32.4,
         "Classes": "fire",
         "DC": 106.3,
         "DMC": 26.1,
         "FFMC": 88.9,
         "FWI": 13.7,
         "ISI": 7.1,
         "Temperature": 33,
         "_deepnote_index_column": 235,
         "day": 22,
         "month": 9,
         "year": 2012
        },
        {
         "BUI": 36,
         "Classes": "fire",
         "DC": 115.6,
         "DMC": 29.4,
         "FFMC": 89,
         "FWI": 15.2,
         "ISI": 7.5,
         "Temperature": 35,
         "_deepnote_index_column": 236,
         "day": 23,
         "month": 9,
         "year": 2012
        },
        {
         "BUI": 11.9,
         "Classes": "not fire",
         "DC": 28.1,
         "DMC": 11.9,
         "FFMC": 61.3,
         "FWI": 0.4,
         "ISI": 0.6,
         "Temperature": 26,
         "_deepnote_index_column": 237,
         "day": 24,
         "month": 9,
         "year": 2012
        },
        {
         "BUI": 14.1,
         "Classes": "not fire",
         "DC": 36.1,
         "DMC": 13.8,
         "FFMC": 79.9,
         "FWI": 3,
         "ISI": 2.4,
         "Temperature": 28,
         "_deepnote_index_column": 238,
         "day": 25,
         "month": 9,
         "year": 2012
        },
        {
         "BUI": 16.9,
         "Classes": "fire",
         "DC": 44.5,
         "DMC": 16,
         "FFMC": 85.4,
         "FWI": 6.5,
         "ISI": 4.5,
         "Temperature": 30,
         "_deepnote_index_column": 239,
         "day": 26,
         "month": 9,
         "year": 2012
        },
        {
         "BUI": 6.2,
         "Classes": "not fire",
         "DC": 8,
         "DMC": 6.5,
         "FFMC": 41.1,
         "FWI": 0,
         "ISI": 0.1,
         "Temperature": 28,
         "_deepnote_index_column": 240,
         "day": 27,
         "month": 9,
         "year": 2012
        },
        {
         "BUI": 3.4,
         "Classes": "not fire",
         "DC": 7.9,
         "DMC": 3.5,
         "FFMC": 45.9,
         "FWI": 0.2,
         "ISI": 0.4,
         "Temperature": 27,
         "_deepnote_index_column": 241,
         "day": 28,
         "month": 9,
         "year": 2012
        },
        {
         "BUI": 5.1,
         "Classes": "not fire",
         "DC": 15.2,
         "DMC": 4.3,
         "FFMC": 79.7,
         "FWI": 0.7,
         "ISI": 1.7,
         "Temperature": 24,
         "_deepnote_index_column": 242,
         "day": 29,
         "month": 9,
         "year": 2012
        },
        {
         "BUI": 4.8,
         "Classes": "not fire",
         "DC": 16.5,
         "DMC": 3.8,
         "FFMC": 67.3,
         "FWI": 0.5,
         "ISI": 1.2,
         "Temperature": 24,
         "_deepnote_index_column": 243,
         "day": 30,
         "month": 9,
         "year": 2012
        }
       ],
       "rows_top": [
        {
         "BUI": 3.4,
         "Classes": "not fire",
         "DC": 7.6,
         "DMC": 3.4,
         "FFMC": 65.7,
         "FWI": 0.5,
         "ISI": 1.3,
         "Temperature": 29,
         "_deepnote_index_column": 0,
         "day": 1,
         "month": 6,
         "year": 2012
        },
        {
         "BUI": 3.9,
         "Classes": "not fire",
         "DC": 7.6,
         "DMC": 4.1,
         "FFMC": 64.4,
         "FWI": 0.4,
         "ISI": 1,
         "Temperature": 29,
         "_deepnote_index_column": 1,
         "day": 2,
         "month": 6,
         "year": 2012
        },
        {
         "BUI": 2.7,
         "Classes": "not fire",
         "DC": 7.1,
         "DMC": 2.5,
         "FFMC": 47.1,
         "FWI": 0.1,
         "ISI": 0.3,
         "Temperature": 26,
         "_deepnote_index_column": 2,
         "day": 3,
         "month": 6,
         "year": 2012
        },
        {
         "BUI": 1.7,
         "Classes": "not fire",
         "DC": 6.9,
         "DMC": 1.3,
         "FFMC": 28.6,
         "FWI": 0,
         "ISI": 0,
         "Temperature": 25,
         "_deepnote_index_column": 3,
         "day": 4,
         "month": 6,
         "year": 2012
        },
        {
         "BUI": 3.9,
         "Classes": "not fire",
         "DC": 14.2,
         "DMC": 3,
         "FFMC": 64.8,
         "FWI": 0.5,
         "ISI": 1.2,
         "Temperature": 27,
         "_deepnote_index_column": 4,
         "day": 5,
         "month": 6,
         "year": 2012
        },
        {
         "BUI": 7,
         "Classes": "fire",
         "DC": 22.2,
         "DMC": 5.8,
         "FFMC": 82.6,
         "FWI": 2.5,
         "ISI": 3.1,
         "Temperature": 31,
         "_deepnote_index_column": 5,
         "day": 6,
         "month": 6,
         "year": 2012
        },
        {
         "BUI": 10.9,
         "Classes": "fire",
         "DC": 30.5,
         "DMC": 9.9,
         "FFMC": 88.2,
         "FWI": 7.2,
         "ISI": 6.4,
         "Temperature": 33,
         "_deepnote_index_column": 6,
         "day": 7,
         "month": 6,
         "year": 2012
        },
        {
         "BUI": 13.5,
         "Classes": "fire",
         "DC": 38.3,
         "DMC": 12.1,
         "FFMC": 86.6,
         "FWI": 7.1,
         "ISI": 5.6,
         "Temperature": 30,
         "_deepnote_index_column": 7,
         "day": 8,
         "month": 6,
         "year": 2012
        },
        {
         "BUI": 10.5,
         "Classes": "not fire",
         "DC": 38.8,
         "DMC": 7.9,
         "FFMC": 52.9,
         "FWI": 0.3,
         "ISI": 0.4,
         "Temperature": 25,
         "_deepnote_index_column": 8,
         "day": 9,
         "month": 6,
         "year": 2012
        },
        {
         "BUI": 12.6,
         "Classes": "not fire",
         "DC": 46.3,
         "DMC": 9.5,
         "FFMC": 73.2,
         "FWI": 0.9,
         "ISI": 1.3,
         "Temperature": 28,
         "_deepnote_index_column": 9,
         "day": 10,
         "month": 6,
         "year": 2012
        },
        {
         "BUI": 15.8,
         "Classes": "fire",
         "DC": 54.3,
         "DMC": 12.5,
         "FFMC": 84.5,
         "FWI": 5.6,
         "ISI": 4,
         "Temperature": 31,
         "_deepnote_index_column": 10,
         "day": 11,
         "month": 6,
         "year": 2012
        },
        {
         "BUI": 17.7,
         "Classes": "fire",
         "DC": 61.4,
         "DMC": 13.8,
         "FFMC": 84,
         "FWI": 7.1,
         "ISI": 4.8,
         "Temperature": 26,
         "_deepnote_index_column": 11,
         "day": 12,
         "month": 6,
         "year": 2012
        },
        {
         "BUI": 6.7,
         "Classes": "not fire",
         "DC": 17,
         "DMC": 6.7,
         "FFMC": 50,
         "FWI": 0.2,
         "ISI": 0.5,
         "Temperature": 27,
         "_deepnote_index_column": 12,
         "day": 13,
         "month": 6,
         "year": 2012
        },
        {
         "BUI": 4.4,
         "Classes": "not fire",
         "DC": 7.8,
         "DMC": 4.6,
         "FFMC": 59,
         "FWI": 0.4,
         "ISI": 1,
         "Temperature": 30,
         "_deepnote_index_column": 13,
         "day": 14,
         "month": 6,
         "year": 2012
        },
        {
         "BUI": 3,
         "Classes": "not fire",
         "DC": 7.4,
         "DMC": 3,
         "FFMC": 49.4,
         "FWI": 0.1,
         "ISI": 0.4,
         "Temperature": 28,
         "_deepnote_index_column": 14,
         "day": 15,
         "month": 6,
         "year": 2012
        },
        {
         "BUI": 2.2,
         "Classes": "not fire",
         "DC": 7.6,
         "DMC": 1.7,
         "FFMC": 36.1,
         "FWI": 0,
         "ISI": 0,
         "Temperature": 29,
         "_deepnote_index_column": 15,
         "day": 16,
         "month": 6,
         "year": 2012
        },
        {
         "BUI": 1.6,
         "Classes": "not fire",
         "DC": 7.8,
         "DMC": 1.1,
         "FFMC": 37.3,
         "FWI": 0,
         "ISI": 0,
         "Temperature": 30,
         "_deepnote_index_column": 16,
         "day": 17,
         "month": 6,
         "year": 2012
        },
        {
         "BUI": 2.4,
         "Classes": "not fire",
         "DC": 8,
         "DMC": 1.9,
         "FFMC": 56.9,
         "FWI": 0.2,
         "ISI": 0.7,
         "Temperature": 31,
         "_deepnote_index_column": 17,
         "day": 18,
         "month": 6,
         "year": 2012
        },
        {
         "BUI": 5.3,
         "Classes": "not fire",
         "DC": 16,
         "DMC": 4.5,
         "FFMC": 79.9,
         "FWI": 1.4,
         "ISI": 2.5,
         "Temperature": 31,
         "_deepnote_index_column": 18,
         "day": 19,
         "month": 6,
         "year": 2012
        },
        {
         "BUI": 5.1,
         "Classes": "not fire",
         "DC": 27.1,
         "DMC": 3.4,
         "FFMC": 59.8,
         "FWI": 0.4,
         "ISI": 0.9,
         "Temperature": 30,
         "_deepnote_index_column": 19,
         "day": 20,
         "month": 6,
         "year": 2012
        },
        {
         "BUI": 8.4,
         "Classes": "fire",
         "DC": 31.6,
         "DMC": 6.3,
         "FFMC": 81,
         "FWI": 2.2,
         "ISI": 2.6,
         "Temperature": 30,
         "_deepnote_index_column": 20,
         "day": 21,
         "month": 6,
         "year": 2012
        },
        {
         "BUI": 9.7,
         "Classes": "not fire",
         "DC": 39.5,
         "DMC": 7,
         "FFMC": 79.1,
         "FWI": 2.3,
         "ISI": 2.4,
         "Temperature": 31,
         "_deepnote_index_column": 21,
         "day": 22,
         "month": 6,
         "year": 2012
        },
        {
         "BUI": 11.5,
         "Classes": "fire",
         "DC": 47.7,
         "DMC": 8.2,
         "FFMC": 81.4,
         "FWI": 3.8,
         "ISI": 3.3,
         "Temperature": 32,
         "_deepnote_index_column": 22,
         "day": 23,
         "month": 6,
         "year": 2012
        },
        {
         "BUI": 14.9,
         "Classes": "fire",
         "DC": 55.8,
         "DMC": 11.2,
         "FFMC": 85.9,
         "FWI": 7.5,
         "ISI": 5.6,
         "Temperature": 32,
         "_deepnote_index_column": 23,
         "day": 24,
         "month": 6,
         "year": 2012
        },
        {
         "BUI": 18.3,
         "Classes": "fire",
         "DC": 63.8,
         "DMC": 14.2,
         "FFMC": 86.7,
         "FWI": 8.4,
         "ISI": 5.7,
         "Temperature": 31,
         "_deepnote_index_column": 24,
         "day": 25,
         "month": 6,
         "year": 2012
        },
        {
         "BUI": 21.6,
         "Classes": "fire",
         "DC": 71.8,
         "DMC": 17.8,
         "FFMC": 86.8,
         "FWI": 10.6,
         "ISI": 6.7,
         "Temperature": 31,
         "_deepnote_index_column": 25,
         "day": 26,
         "month": 6,
         "year": 2012
        },
        {
         "BUI": 25.8,
         "Classes": "fire",
         "DC": 80.3,
         "DMC": 21.6,
         "FFMC": 89,
         "FWI": 15,
         "ISI": 9.2,
         "Temperature": 34,
         "_deepnote_index_column": 26,
         "day": 27,
         "month": 6,
         "year": 2012
        },
        {
         "BUI": 29.7,
         "Classes": "fire",
         "DC": 88.5,
         "DMC": 25.5,
         "FFMC": 89.1,
         "FWI": 13.9,
         "ISI": 7.6,
         "Temperature": 32,
         "_deepnote_index_column": 27,
         "day": 28,
         "month": 6,
         "year": 2012
        },
        {
         "BUI": 23.8,
         "Classes": "not fire",
         "DC": 84.4,
         "DMC": 18.4,
         "FFMC": 79.9,
         "FWI": 3.9,
         "ISI": 2.2,
         "Temperature": 32,
         "_deepnote_index_column": 28,
         "day": 29,
         "month": 6,
         "year": 2012
        },
        {
         "BUI": 28.3,
         "Classes": "fire",
         "DC": 92.8,
         "DMC": 22.9,
         "FFMC": 88.7,
         "FWI": 12.9,
         "ISI": 7.2,
         "Temperature": 33,
         "_deepnote_index_column": 29,
         "day": 30,
         "month": 6,
         "year": 2012
        },
        {
         "BUI": 2.9,
         "Classes": "not fire",
         "DC": 8.6,
         "DMC": 2.5,
         "FFMC": 59.9,
         "FWI": 0.4,
         "ISI": 1.1,
         "Temperature": 29,
         "_deepnote_index_column": 30,
         "day": 1,
         "month": 7,
         "year": 2012
        },
        {
         "BUI": 2.8,
         "Classes": "not fire",
         "DC": 8.3,
         "DMC": 2.4,
         "FFMC": 55.7,
         "FWI": 0.3,
         "ISI": 0.8,
         "Temperature": 27,
         "_deepnote_index_column": 31,
         "day": 2,
         "month": 7,
         "year": 2012
        },
        {
         "BUI": 3,
         "Classes": "not fire",
         "DC": 9.2,
         "DMC": 2.6,
         "FFMC": 63.1,
         "FWI": 0.5,
         "ISI": 1.3,
         "Temperature": 32,
         "_deepnote_index_column": 32,
         "day": 3,
         "month": 7,
         "year": 2012
        },
        {
         "BUI": 5.7,
         "Classes": "not fire",
         "DC": 18.5,
         "DMC": 4.6,
         "FFMC": 80.1,
         "FWI": 1.7,
         "ISI": 2.7,
         "Temperature": 33,
         "_deepnote_index_column": 33,
         "day": 4,
         "month": 7,
         "year": 2012
        },
        {
         "BUI": 9.1,
         "Classes": "fire",
         "DC": 27.9,
         "DMC": 7.6,
         "FFMC": 85.9,
         "FWI": 4.9,
         "ISI": 4.8,
         "Temperature": 33,
         "_deepnote_index_column": 34,
         "day": 5,
         "month": 7,
         "year": 2012
        },
        {
         "BUI": 12.5,
         "Classes": "fire",
         "DC": 37,
         "DMC": 10.9,
         "FFMC": 87,
         "FWI": 6.8,
         "ISI": 5.6,
         "Temperature": 32,
         "_deepnote_index_column": 35,
         "day": 6,
         "month": 7,
         "year": 2012
        },
        {
         "BUI": 12.1,
         "Classes": "not fire",
         "DC": 40.4,
         "DMC": 9.7,
         "FFMC": 80,
         "FWI": 3.2,
         "ISI": 2.8,
         "Temperature": 35,
         "_deepnote_index_column": 36,
         "day": 7,
         "month": 7,
         "year": 2012
        },
        {
         "BUI": 15.4,
         "Classes": "fire",
         "DC": 49.8,
         "DMC": 12.5,
         "FFMC": 85.6,
         "FWI": 8,
         "ISI": 6,
         "Temperature": 33,
         "_deepnote_index_column": 37,
         "day": 8,
         "month": 7,
         "year": 2012
        },
        {
         "BUI": 7.4,
         "Classes": "not fire",
         "DC": 9.2,
         "DMC": 7.7,
         "FFMC": 66.6,
         "FWI": 0.6,
         "ISI": 1.1,
         "Temperature": 32,
         "_deepnote_index_column": 38,
         "day": 9,
         "month": 7,
         "year": 2012
        },
        {
         "BUI": 5.8,
         "Classes": "not fire",
         "DC": 9.3,
         "DMC": 6,
         "FFMC": 66.6,
         "FWI": 0.5,
         "ISI": 1.1,
         "Temperature": 33,
         "_deepnote_index_column": 39,
         "day": 10,
         "month": 7,
         "year": 2012
        },
        {
         "BUI": 8.1,
         "Classes": "not fire",
         "DC": 18.7,
         "DMC": 8.1,
         "FFMC": 81.1,
         "FWI": 2.2,
         "ISI": 2.6,
         "Temperature": 33,
         "_deepnote_index_column": 40,
         "day": 11,
         "month": 7,
         "year": 2012
        },
        {
         "BUI": 9.2,
         "Classes": "not fire",
         "DC": 27.7,
         "DMC": 7.9,
         "FFMC": 75.1,
         "FWI": 0.9,
         "ISI": 1.5,
         "Temperature": 31,
         "_deepnote_index_column": 41,
         "day": 12,
         "month": 7,
         "year": 2012
        },
        {
         "BUI": 11.7,
         "Classes": "not fire",
         "DC": 37.2,
         "DMC": 9.7,
         "FFMC": 81.8,
         "FWI": 3.4,
         "ISI": 3,
         "Temperature": 34,
         "_deepnote_index_column": 42,
         "day": 13,
         "month": 7,
         "year": 2012
        },
        {
         "BUI": 8.4,
         "Classes": "not fire",
         "DC": 22.9,
         "DMC": 7.8,
         "FFMC": 73.9,
         "FWI": 0.8,
         "ISI": 1.4,
         "Temperature": 34,
         "_deepnote_index_column": 43,
         "day": 14,
         "month": 7,
         "year": 2012
        },
        {
         "BUI": 5.9,
         "Classes": "not fire",
         "DC": 17,
         "DMC": 5.2,
         "FFMC": 60.7,
         "FWI": 0.5,
         "ISI": 1.1,
         "Temperature": 30,
         "_deepnote_index_column": 44,
         "day": 15,
         "month": 7,
         "year": 2012
        }
       ]
      },
      "text/html": [
       "<div>\n",
       "<style scoped>\n",
       "    .dataframe tbody tr th:only-of-type {\n",
       "        vertical-align: middle;\n",
       "    }\n",
       "\n",
       "    .dataframe tbody tr th {\n",
       "        vertical-align: top;\n",
       "    }\n",
       "\n",
       "    .dataframe thead th {\n",
       "        text-align: right;\n",
       "    }\n",
       "</style>\n",
       "<table border=\"1\" class=\"dataframe\">\n",
       "  <thead>\n",
       "    <tr style=\"text-align: right;\">\n",
       "      <th></th>\n",
       "      <th>day</th>\n",
       "      <th>month</th>\n",
       "      <th>year</th>\n",
       "      <th>Temperature</th>\n",
       "      <th>FFMC</th>\n",
       "      <th>DMC</th>\n",
       "      <th>DC</th>\n",
       "      <th>ISI</th>\n",
       "      <th>BUI</th>\n",
       "      <th>FWI</th>\n",
       "      <th>Classes</th>\n",
       "    </tr>\n",
       "  </thead>\n",
       "  <tbody>\n",
       "    <tr>\n",
       "      <th>0</th>\n",
       "      <td>1</td>\n",
       "      <td>6</td>\n",
       "      <td>2012</td>\n",
       "      <td>29</td>\n",
       "      <td>65.7</td>\n",
       "      <td>3.4</td>\n",
       "      <td>7.6</td>\n",
       "      <td>1.3</td>\n",
       "      <td>3.4</td>\n",
       "      <td>0.5</td>\n",
       "      <td>not fire</td>\n",
       "    </tr>\n",
       "    <tr>\n",
       "      <th>1</th>\n",
       "      <td>2</td>\n",
       "      <td>6</td>\n",
       "      <td>2012</td>\n",
       "      <td>29</td>\n",
       "      <td>64.4</td>\n",
       "      <td>4.1</td>\n",
       "      <td>7.6</td>\n",
       "      <td>1.0</td>\n",
       "      <td>3.9</td>\n",
       "      <td>0.4</td>\n",
       "      <td>not fire</td>\n",
       "    </tr>\n",
       "    <tr>\n",
       "      <th>2</th>\n",
       "      <td>3</td>\n",
       "      <td>6</td>\n",
       "      <td>2012</td>\n",
       "      <td>26</td>\n",
       "      <td>47.1</td>\n",
       "      <td>2.5</td>\n",
       "      <td>7.1</td>\n",
       "      <td>0.3</td>\n",
       "      <td>2.7</td>\n",
       "      <td>0.1</td>\n",
       "      <td>not fire</td>\n",
       "    </tr>\n",
       "    <tr>\n",
       "      <th>3</th>\n",
       "      <td>4</td>\n",
       "      <td>6</td>\n",
       "      <td>2012</td>\n",
       "      <td>25</td>\n",
       "      <td>28.6</td>\n",
       "      <td>1.3</td>\n",
       "      <td>6.9</td>\n",
       "      <td>0.0</td>\n",
       "      <td>1.7</td>\n",
       "      <td>0.0</td>\n",
       "      <td>not fire</td>\n",
       "    </tr>\n",
       "    <tr>\n",
       "      <th>4</th>\n",
       "      <td>5</td>\n",
       "      <td>6</td>\n",
       "      <td>2012</td>\n",
       "      <td>27</td>\n",
       "      <td>64.8</td>\n",
       "      <td>3.0</td>\n",
       "      <td>14.2</td>\n",
       "      <td>1.2</td>\n",
       "      <td>3.9</td>\n",
       "      <td>0.5</td>\n",
       "      <td>not fire</td>\n",
       "    </tr>\n",
       "    <tr>\n",
       "      <th>...</th>\n",
       "      <td>...</td>\n",
       "      <td>...</td>\n",
       "      <td>...</td>\n",
       "      <td>...</td>\n",
       "      <td>...</td>\n",
       "      <td>...</td>\n",
       "      <td>...</td>\n",
       "      <td>...</td>\n",
       "      <td>...</td>\n",
       "      <td>...</td>\n",
       "      <td>...</td>\n",
       "    </tr>\n",
       "    <tr>\n",
       "      <th>239</th>\n",
       "      <td>26</td>\n",
       "      <td>9</td>\n",
       "      <td>2012</td>\n",
       "      <td>30</td>\n",
       "      <td>85.4</td>\n",
       "      <td>16.0</td>\n",
       "      <td>44.5</td>\n",
       "      <td>4.5</td>\n",
       "      <td>16.9</td>\n",
       "      <td>6.5</td>\n",
       "      <td>fire</td>\n",
       "    </tr>\n",
       "    <tr>\n",
       "      <th>240</th>\n",
       "      <td>27</td>\n",
       "      <td>9</td>\n",
       "      <td>2012</td>\n",
       "      <td>28</td>\n",
       "      <td>41.1</td>\n",
       "      <td>6.5</td>\n",
       "      <td>8.0</td>\n",
       "      <td>0.1</td>\n",
       "      <td>6.2</td>\n",
       "      <td>0.0</td>\n",
       "      <td>not fire</td>\n",
       "    </tr>\n",
       "    <tr>\n",
       "      <th>241</th>\n",
       "      <td>28</td>\n",
       "      <td>9</td>\n",
       "      <td>2012</td>\n",
       "      <td>27</td>\n",
       "      <td>45.9</td>\n",
       "      <td>3.5</td>\n",
       "      <td>7.9</td>\n",
       "      <td>0.4</td>\n",
       "      <td>3.4</td>\n",
       "      <td>0.2</td>\n",
       "      <td>not fire</td>\n",
       "    </tr>\n",
       "    <tr>\n",
       "      <th>242</th>\n",
       "      <td>29</td>\n",
       "      <td>9</td>\n",
       "      <td>2012</td>\n",
       "      <td>24</td>\n",
       "      <td>79.7</td>\n",
       "      <td>4.3</td>\n",
       "      <td>15.2</td>\n",
       "      <td>1.7</td>\n",
       "      <td>5.1</td>\n",
       "      <td>0.7</td>\n",
       "      <td>not fire</td>\n",
       "    </tr>\n",
       "    <tr>\n",
       "      <th>243</th>\n",
       "      <td>30</td>\n",
       "      <td>9</td>\n",
       "      <td>2012</td>\n",
       "      <td>24</td>\n",
       "      <td>67.3</td>\n",
       "      <td>3.8</td>\n",
       "      <td>16.5</td>\n",
       "      <td>1.2</td>\n",
       "      <td>4.8</td>\n",
       "      <td>0.5</td>\n",
       "      <td>not fire</td>\n",
       "    </tr>\n",
       "  </tbody>\n",
       "</table>\n",
       "<p>243 rows × 11 columns</p>\n",
       "</div>"
      ],
      "text/plain": [
       "     day  month  year  Temperature  FFMC   DMC    DC  ISI   BUI  FWI   Classes\n",
       "0      1      6  2012           29  65.7   3.4   7.6  1.3   3.4  0.5  not fire\n",
       "1      2      6  2012           29  64.4   4.1   7.6  1.0   3.9  0.4  not fire\n",
       "2      3      6  2012           26  47.1   2.5   7.1  0.3   2.7  0.1  not fire\n",
       "3      4      6  2012           25  28.6   1.3   6.9  0.0   1.7  0.0  not fire\n",
       "4      5      6  2012           27  64.8   3.0  14.2  1.2   3.9  0.5  not fire\n",
       "..   ...    ...   ...          ...   ...   ...   ...  ...   ...  ...       ...\n",
       "239   26      9  2012           30  85.4  16.0  44.5  4.5  16.9  6.5      fire\n",
       "240   27      9  2012           28  41.1   6.5   8.0  0.1   6.2  0.0  not fire\n",
       "241   28      9  2012           27  45.9   3.5   7.9  0.4   3.4  0.2  not fire\n",
       "242   29      9  2012           24  79.7   4.3  15.2  1.7   5.1  0.7  not fire\n",
       "243   30      9  2012           24  67.3   3.8  16.5  1.2   4.8  0.5  not fire\n",
       "\n",
       "[243 rows x 11 columns]"
      ]
     },
     "execution_count": 13,
     "metadata": {},
     "output_type": "execute_result"
    }
   ],
   "source": [
    "data"
   ]
  },
  {
   "cell_type": "code",
   "execution_count": null,
   "metadata": {
    "cell_id": "00004-736a5436-816d-4dcd-b8f7-ef248e27dcd7",
    "deepnote_cell_type": "code",
    "deepnote_to_be_reexecuted": false,
    "execution_millis": 1,
    "execution_start": 1635758677572,
    "source_hash": "e8dbebf7",
    "tags": []
   },
   "outputs": [],
   "source": [
    "data = data.drop(['year'], axis=1)"
   ]
  },
  {
   "cell_type": "code",
   "execution_count": null,
   "metadata": {
    "cell_id": "00014-20373a3b-cf26-4bc3-a2e7-cfdee5c42b5e",
    "deepnote_cell_type": "code",
    "deepnote_to_be_reexecuted": false,
    "execution_millis": 1213,
    "execution_start": 1635758678045,
    "source_hash": "1ad9b140",
    "tags": []
   },
   "outputs": [
    {
     "data": {
      "application/vnd.deepnote.dataframe.v2+json": {
       "column_count": 10,
       "columns": [
        {
         "dtype": "int64",
         "name": "day",
         "stats": {
          "histogram": [
           {
            "bin_end": 4,
            "bin_start": 1,
            "count": 24
           },
           {
            "bin_end": 7,
            "bin_start": 4,
            "count": 24
           },
           {
            "bin_end": 10,
            "bin_start": 7,
            "count": 24
           },
           {
            "bin_end": 13,
            "bin_start": 10,
            "count": 24
           },
           {
            "bin_end": 16,
            "bin_start": 13,
            "count": 23
           },
           {
            "bin_end": 19,
            "bin_start": 16,
            "count": 24
           },
           {
            "bin_end": 22,
            "bin_start": 19,
            "count": 24
           },
           {
            "bin_end": 25,
            "bin_start": 22,
            "count": 24
           },
           {
            "bin_end": 28,
            "bin_start": 25,
            "count": 24
           },
           {
            "bin_end": 31,
            "bin_start": 28,
            "count": 28
           }
          ],
          "max": "31",
          "min": "1",
          "nan_count": 0,
          "unique_count": 31
         }
        },
        {
         "dtype": "int64",
         "name": "month",
         "stats": {
          "histogram": [
           {
            "bin_end": 6.3,
            "bin_start": 6,
            "count": 60
           },
           {
            "bin_end": 6.6,
            "bin_start": 6.3,
            "count": 0
           },
           {
            "bin_end": 6.9,
            "bin_start": 6.6,
            "count": 0
           },
           {
            "bin_end": 7.2,
            "bin_start": 6.9,
            "count": 61
           },
           {
            "bin_end": 7.5,
            "bin_start": 7.2,
            "count": 0
           },
           {
            "bin_end": 7.8,
            "bin_start": 7.5,
            "count": 0
           },
           {
            "bin_end": 8.1,
            "bin_start": 7.8,
            "count": 62
           },
           {
            "bin_end": 8.4,
            "bin_start": 8.1,
            "count": 0
           },
           {
            "bin_end": 8.7,
            "bin_start": 8.4,
            "count": 0
           },
           {
            "bin_end": 9,
            "bin_start": 8.7,
            "count": 60
           }
          ],
          "max": "9",
          "min": "6",
          "nan_count": 0,
          "unique_count": 4
         }
        },
        {
         "dtype": "int64",
         "name": "Temperature",
         "stats": {
          "histogram": [
           {
            "bin_end": 24,
            "bin_start": 22,
            "count": 2
           },
           {
            "bin_end": 26,
            "bin_start": 24,
            "count": 9
           },
           {
            "bin_end": 28,
            "bin_start": 26,
            "count": 13
           },
           {
            "bin_end": 30,
            "bin_start": 28,
            "count": 33
           },
           {
            "bin_end": 32,
            "bin_start": 30,
            "count": 47
           },
           {
            "bin_end": 34,
            "bin_start": 32,
            "count": 44
           },
           {
            "bin_end": 36,
            "bin_start": 34,
            "count": 53
           },
           {
            "bin_end": 38,
            "bin_start": 36,
            "count": 29
           },
           {
            "bin_end": 40,
            "bin_start": 38,
            "count": 9
           },
           {
            "bin_end": 42,
            "bin_start": 40,
            "count": 4
           }
          ],
          "max": "42",
          "min": "22",
          "nan_count": 0,
          "unique_count": 19
         }
        },
        {
         "dtype": "float64",
         "name": "FFMC",
         "stats": {
          "histogram": [
           {
            "bin_end": 35.34,
            "bin_start": 28.6,
            "count": 2
           },
           {
            "bin_end": 42.08,
            "bin_start": 35.34,
            "count": 5
           },
           {
            "bin_end": 48.82,
            "bin_start": 42.08,
            "count": 11
           },
           {
            "bin_end": 55.56,
            "bin_start": 48.82,
            "count": 5
           },
           {
            "bin_end": 62.300000000000004,
            "bin_start": 55.56,
            "count": 16
           },
           {
            "bin_end": 69.03999999999999,
            "bin_start": 62.300000000000004,
            "count": 16
           },
           {
            "bin_end": 75.78,
            "bin_start": 69.03999999999999,
            "count": 20
           },
           {
            "bin_end": 82.52000000000001,
            "bin_start": 75.78,
            "count": 42
           },
           {
            "bin_end": 89.26,
            "bin_start": 82.52000000000001,
            "count": 86
           },
           {
            "bin_end": 96,
            "bin_start": 89.26,
            "count": 40
           }
          ],
          "max": "96.0",
          "min": "28.6",
          "nan_count": 0,
          "unique_count": 173
         }
        },
        {
         "dtype": "float64",
         "name": "DMC",
         "stats": {
          "histogram": [
           {
            "bin_end": 7.220000000000001,
            "bin_start": 0.7,
            "count": 80
           },
           {
            "bin_end": 13.74,
            "bin_start": 7.220000000000001,
            "count": 66
           },
           {
            "bin_end": 20.26,
            "bin_start": 13.74,
            "count": 35
           },
           {
            "bin_end": 26.78,
            "bin_start": 20.26,
            "count": 30
           },
           {
            "bin_end": 33.300000000000004,
            "bin_start": 26.78,
            "count": 11
           },
           {
            "bin_end": 39.82000000000001,
            "bin_start": 33.300000000000004,
            "count": 7
           },
           {
            "bin_end": 46.34,
            "bin_start": 39.82000000000001,
            "count": 6
           },
           {
            "bin_end": 52.86000000000001,
            "bin_start": 46.34,
            "count": 4
           },
           {
            "bin_end": 59.38000000000001,
            "bin_start": 52.86000000000001,
            "count": 2
           },
           {
            "bin_end": 65.9,
            "bin_start": 59.38000000000001,
            "count": 2
           }
          ],
          "max": "65.9",
          "min": "0.7",
          "nan_count": 0,
          "unique_count": 165
         }
        },
        {
         "dtype": "float64",
         "name": "DC",
         "stats": {
          "histogram": [
           {
            "bin_end": 28.25,
            "bin_start": 6.9,
            "count": 109
           },
           {
            "bin_end": 49.6,
            "bin_start": 28.25,
            "count": 50
           },
           {
            "bin_end": 70.95000000000002,
            "bin_start": 49.6,
            "count": 23
           },
           {
            "bin_end": 92.30000000000001,
            "bin_start": 70.95000000000002,
            "count": 21
           },
           {
            "bin_end": 113.65,
            "bin_start": 92.30000000000001,
            "count": 12
           },
           {
            "bin_end": 135.00000000000003,
            "bin_start": 113.65,
            "count": 7
           },
           {
            "bin_end": 156.35000000000002,
            "bin_start": 135.00000000000003,
            "count": 7
           },
           {
            "bin_end": 177.70000000000002,
            "bin_start": 156.35000000000002,
            "count": 8
           },
           {
            "bin_end": 199.05,
            "bin_start": 177.70000000000002,
            "count": 3
           },
           {
            "bin_end": 220.4,
            "bin_start": 199.05,
            "count": 3
           }
          ],
          "max": "220.4",
          "min": "6.9",
          "nan_count": 0,
          "unique_count": 197
         }
        },
        {
         "dtype": "float64",
         "name": "ISI",
         "stats": {
          "histogram": [
           {
            "bin_end": 1.9,
            "bin_start": 0,
            "count": 80
           },
           {
            "bin_end": 3.8,
            "bin_start": 1.9,
            "count": 44
           },
           {
            "bin_end": 5.699999999999999,
            "bin_start": 3.8,
            "count": 40
           },
           {
            "bin_end": 7.6,
            "bin_start": 5.699999999999999,
            "count": 24
           },
           {
            "bin_end": 9.5,
            "bin_start": 7.6,
            "count": 21
           },
           {
            "bin_end": 11.399999999999999,
            "bin_start": 9.5,
            "count": 15
           },
           {
            "bin_end": 13.299999999999999,
            "bin_start": 11.399999999999999,
            "count": 6
           },
           {
            "bin_end": 15.2,
            "bin_start": 13.299999999999999,
            "count": 5
           },
           {
            "bin_end": 17.099999999999998,
            "bin_start": 15.2,
            "count": 5
           },
           {
            "bin_end": 19,
            "bin_start": 17.099999999999998,
            "count": 3
           }
          ],
          "max": "19.0",
          "min": "0.0",
          "nan_count": 0,
          "unique_count": 106
         }
        },
        {
         "dtype": "float64",
         "name": "BUI",
         "stats": {
          "histogram": [
           {
            "bin_end": 7.790000000000001,
            "bin_start": 1.1,
            "count": 80
           },
           {
            "bin_end": 14.48,
            "bin_start": 7.790000000000001,
            "count": 57
           },
           {
            "bin_end": 21.17,
            "bin_start": 14.48,
            "count": 35
           },
           {
            "bin_end": 27.860000000000003,
            "bin_start": 21.17,
            "count": 27
           },
           {
            "bin_end": 34.550000000000004,
            "bin_start": 27.860000000000003,
            "count": 14
           },
           {
            "bin_end": 41.24,
            "bin_start": 34.550000000000004,
            "count": 13
           },
           {
            "bin_end": 47.93000000000001,
            "bin_start": 41.24,
            "count": 6
           },
           {
            "bin_end": 54.620000000000005,
            "bin_start": 47.93000000000001,
            "count": 2
           },
           {
            "bin_end": 61.31,
            "bin_start": 54.620000000000005,
            "count": 5
           },
           {
            "bin_end": 68,
            "bin_start": 61.31,
            "count": 4
           }
          ],
          "max": "68.0",
          "min": "1.1",
          "nan_count": 0,
          "unique_count": 173
         }
        },
        {
         "dtype": "float64",
         "name": "FWI",
         "stats": {
          "histogram": [
           {
            "bin_end": 3.1100000000000003,
            "bin_start": 0,
            "count": 106
           },
           {
            "bin_end": 6.220000000000001,
            "bin_start": 3.1100000000000003,
            "count": 33
           },
           {
            "bin_end": 9.330000000000002,
            "bin_start": 6.220000000000001,
            "count": 26
           },
           {
            "bin_end": 12.440000000000001,
            "bin_start": 9.330000000000002,
            "count": 22
           },
           {
            "bin_end": 15.55,
            "bin_start": 12.440000000000001,
            "count": 21
           },
           {
            "bin_end": 18.660000000000004,
            "bin_start": 15.55,
            "count": 13
           },
           {
            "bin_end": 21.770000000000003,
            "bin_start": 18.660000000000004,
            "count": 11
           },
           {
            "bin_end": 24.880000000000003,
            "bin_start": 21.770000000000003,
            "count": 3
           },
           {
            "bin_end": 27.990000000000002,
            "bin_start": 24.880000000000003,
            "count": 4
           },
           {
            "bin_end": 31.1,
            "bin_start": 27.990000000000002,
            "count": 4
           }
          ],
          "max": "31.1",
          "min": "0.0",
          "nan_count": 0,
          "unique_count": 125
         }
        },
        {
         "dtype": "int64",
         "name": "Classes",
         "stats": {
          "histogram": [
           {
            "bin_end": 0.1,
            "bin_start": 0,
            "count": 137
           },
           {
            "bin_end": 0.2,
            "bin_start": 0.1,
            "count": 0
           },
           {
            "bin_end": 0.30000000000000004,
            "bin_start": 0.2,
            "count": 0
           },
           {
            "bin_end": 0.4,
            "bin_start": 0.30000000000000004,
            "count": 0
           },
           {
            "bin_end": 0.5,
            "bin_start": 0.4,
            "count": 0
           },
           {
            "bin_end": 0.6000000000000001,
            "bin_start": 0.5,
            "count": 0
           },
           {
            "bin_end": 0.7000000000000001,
            "bin_start": 0.6000000000000001,
            "count": 0
           },
           {
            "bin_end": 0.8,
            "bin_start": 0.7000000000000001,
            "count": 0
           },
           {
            "bin_end": 0.9,
            "bin_start": 0.8,
            "count": 0
           },
           {
            "bin_end": 1,
            "bin_start": 0.9,
            "count": 106
           }
          ],
          "max": "1",
          "min": "0",
          "nan_count": 0,
          "unique_count": 2
         }
        },
        {
         "dtype": "int64",
         "name": "_deepnote_index_column"
        }
       ],
       "row_count": 243,
       "rows_bottom": [
        {
         "BUI": 18.4,
         "Classes": 0,
         "DC": 41.5,
         "DMC": 18.4,
         "FFMC": 93,
         "FWI": 18.8,
         "ISI": 15.5,
         "Temperature": 39,
         "_deepnote_index_column": 194,
         "day": 12,
         "month": 8
        },
        {
         "BUI": 17.5,
         "Classes": 0,
         "DC": 45.1,
         "DMC": 16.9,
         "FFMC": 88.3,
         "FWI": 10.5,
         "ISI": 7.5,
         "Temperature": 35,
         "_deepnote_index_column": 195,
         "day": 13,
         "month": 8
        },
        {
         "BUI": 22.3,
         "Classes": 0,
         "DC": 55.5,
         "DMC": 22.3,
         "FFMC": 91.9,
         "FWI": 15.7,
         "ISI": 10.8,
         "Temperature": 37,
         "_deepnote_index_column": 196,
         "day": 14,
         "month": 8
        },
        {
         "BUI": 19,
         "Classes": 0,
         "DC": 54.2,
         "DMC": 16.9,
         "FFMC": 83.9,
         "FWI": 5.5,
         "ISI": 3.5,
         "Temperature": 35,
         "_deepnote_index_column": 197,
         "day": 15,
         "month": 8
        },
        {
         "BUI": 24.2,
         "Classes": 0,
         "DC": 65.1,
         "DMC": 22.6,
         "FFMC": 92,
         "FWI": 14.8,
         "ISI": 9.5,
         "Temperature": 40,
         "_deepnote_index_column": 198,
         "day": 16,
         "month": 8
        },
        {
         "BUI": 30.4,
         "Classes": 0,
         "DC": 76.4,
         "DMC": 30.3,
         "FFMC": 96,
         "FWI": 24,
         "ISI": 15.7,
         "Temperature": 42,
         "_deepnote_index_column": 199,
         "day": 17,
         "month": 8
        },
        {
         "BUI": 35.9,
         "Classes": 0,
         "DC": 86.8,
         "DMC": 35.9,
         "FFMC": 94.3,
         "FWI": 26.3,
         "ISI": 16,
         "Temperature": 37,
         "_deepnote_index_column": 200,
         "day": 18,
         "month": 8
        },
        {
         "BUI": 35.5,
         "Classes": 0,
         "DC": 96.8,
         "DMC": 32.7,
         "FFMC": 82.7,
         "FWI": 7.7,
         "ISI": 3.3,
         "Temperature": 35,
         "_deepnote_index_column": 201,
         "day": 19,
         "month": 8
        },
        {
         "BUI": 38.1,
         "Classes": 0,
         "DC": 107,
         "DMC": 34.4,
         "FFMC": 83.7,
         "FWI": 9,
         "ISI": 3.8,
         "Temperature": 36,
         "_deepnote_index_column": 202,
         "day": 20,
         "month": 8
        },
        {
         "BUI": 41.3,
         "Classes": 0,
         "DC": 117.1,
         "DMC": 36.9,
         "FFMC": 86,
         "FWI": 12.2,
         "ISI": 5.1,
         "Temperature": 36,
         "_deepnote_index_column": 203,
         "day": 21,
         "month": 8
        },
        {
         "BUI": 45.5,
         "Classes": 0,
         "DC": 127.5,
         "DMC": 41.1,
         "FFMC": 89.5,
         "FWI": 18.1,
         "ISI": 8,
         "Temperature": 37,
         "_deepnote_index_column": 204,
         "day": 22,
         "month": 8
        },
        {
         "BUI": 50.2,
         "Classes": 0,
         "DC": 137.7,
         "DMC": 46.1,
         "FFMC": 91.2,
         "FWI": 24.5,
         "ISI": 11.5,
         "Temperature": 36,
         "_deepnote_index_column": 205,
         "day": 23,
         "month": 8
        },
        {
         "BUI": 54.9,
         "Classes": 0,
         "DC": 147.7,
         "DMC": 51.3,
         "FFMC": 92.1,
         "FWI": 26.9,
         "ISI": 12.2,
         "Temperature": 35,
         "_deepnote_index_column": 206,
         "day": 24,
         "month": 8
        },
        {
         "BUI": 59.5,
         "Classes": 0,
         "DC": 157.5,
         "DMC": 56.3,
         "FFMC": 92.1,
         "FWI": 31.1,
         "ISI": 14.3,
         "Temperature": 34,
         "_deepnote_index_column": 207,
         "day": 25,
         "month": 8
        },
        {
         "BUI": 64,
         "Classes": 0,
         "DC": 167.2,
         "DMC": 61.3,
         "FFMC": 92.2,
         "FWI": 30.3,
         "ISI": 13.1,
         "Temperature": 33,
         "_deepnote_index_column": 208,
         "day": 26,
         "month": 8
        },
        {
         "BUI": 68,
         "Classes": 0,
         "DC": 177.3,
         "DMC": 65.9,
         "FFMC": 91,
         "FWI": 26.1,
         "ISI": 10,
         "Temperature": 36,
         "_deepnote_index_column": 209,
         "day": 27,
         "month": 8
        },
        {
         "BUI": 30.6,
         "Classes": 1,
         "DC": 166,
         "DMC": 37,
         "FFMC": 79.2,
         "FWI": 6.1,
         "ISI": 2.1,
         "Temperature": 35,
         "_deepnote_index_column": 210,
         "day": 28,
         "month": 8
        },
        {
         "BUI": 30.6,
         "Classes": 0,
         "DC": 149.2,
         "DMC": 20.7,
         "FFMC": 80.2,
         "FWI": 5.9,
         "ISI": 2.7,
         "Temperature": 35,
         "_deepnote_index_column": 211,
         "day": 29,
         "month": 8
        },
        {
         "BUI": 35.7,
         "Classes": 0,
         "DC": 159.1,
         "DMC": 24.8,
         "FFMC": 89.2,
         "FWI": 16,
         "ISI": 8.1,
         "Temperature": 34,
         "_deepnote_index_column": 212,
         "day": 30,
         "month": 8
        },
        {
         "BUI": 39.3,
         "Classes": 0,
         "DC": 168.2,
         "DMC": 27.8,
         "FFMC": 89.1,
         "FWI": 19.4,
         "ISI": 9.8,
         "Temperature": 30,
         "_deepnote_index_column": 213,
         "day": 31,
         "month": 8
        },
        {
         "BUI": 1.4,
         "Classes": 1,
         "DC": 8.2,
         "DMC": 0.9,
         "FFMC": 37.9,
         "FWI": 0,
         "ISI": 0.1,
         "Temperature": 29,
         "_deepnote_index_column": 214,
         "day": 1,
         "month": 9
        },
        {
         "BUI": 4,
         "Classes": 1,
         "DC": 16.3,
         "DMC": 2.9,
         "FFMC": 75.4,
         "FWI": 0.8,
         "ISI": 2,
         "Temperature": 28,
         "_deepnote_index_column": 215,
         "day": 2,
         "month": 9
        },
        {
         "BUI": 6,
         "Classes": 0,
         "DC": 24.3,
         "DMC": 4.4,
         "FFMC": 82.2,
         "FWI": 2.5,
         "ISI": 3.3,
         "Temperature": 28,
         "_deepnote_index_column": 216,
         "day": 3,
         "month": 9
        },
        {
         "BUI": 6,
         "Classes": 1,
         "DC": 26.6,
         "DMC": 4.1,
         "FFMC": 73.5,
         "FWI": 0.7,
         "ISI": 1.5,
         "Temperature": 30,
         "_deepnote_index_column": 217,
         "day": 4,
         "month": 9
        },
        {
         "BUI": 3.9,
         "Classes": 1,
         "DC": 8.4,
         "DMC": 4,
         "FFMC": 66.1,
         "FWI": 0.4,
         "ISI": 1,
         "Temperature": 30,
         "_deepnote_index_column": 218,
         "day": 5,
         "month": 9
        },
        {
         "BUI": 3.5,
         "Classes": 1,
         "DC": 9.1,
         "DMC": 3.3,
         "FFMC": 64.5,
         "FWI": 0.4,
         "ISI": 1,
         "Temperature": 34,
         "_deepnote_index_column": 219,
         "day": 6,
         "month": 9
        },
        {
         "BUI": 6.4,
         "Classes": 0,
         "DC": 17.7,
         "DMC": 5.8,
         "FFMC": 83.3,
         "FWI": 3.2,
         "ISI": 3.8,
         "Temperature": 31,
         "_deepnote_index_column": 220,
         "day": 7,
         "month": 9
        },
        {
         "BUI": 8.1,
         "Classes": 0,
         "DC": 26.1,
         "DMC": 6.6,
         "FFMC": 82.5,
         "FWI": 2.7,
         "ISI": 3,
         "Temperature": 30,
         "_deepnote_index_column": 221,
         "day": 8,
         "month": 9
        },
        {
         "BUI": 10,
         "Classes": 0,
         "DC": 34.5,
         "DMC": 7.9,
         "FFMC": 83.1,
         "FWI": 3.7,
         "ISI": 3.5,
         "Temperature": 30,
         "_deepnote_index_column": 222,
         "day": 9,
         "month": 9
        },
        {
         "BUI": 4.6,
         "Classes": 1,
         "DC": 8.2,
         "DMC": 4.7,
         "FFMC": 59.5,
         "FWI": 0.3,
         "ISI": 0.8,
         "Temperature": 29,
         "_deepnote_index_column": 223,
         "day": 10,
         "month": 9
        },
        {
         "BUI": 6.6,
         "Classes": 1,
         "DC": 16.6,
         "DMC": 6.5,
         "FFMC": 79.2,
         "FWI": 1.2,
         "ISI": 2.1,
         "Temperature": 30,
         "_deepnote_index_column": 224,
         "day": 11,
         "month": 9
        },
        {
         "BUI": 9.1,
         "Classes": 0,
         "DC": 25.2,
         "DMC": 8.3,
         "FFMC": 84.2,
         "FWI": 3.9,
         "ISI": 3.8,
         "Temperature": 31,
         "_deepnote_index_column": 225,
         "day": 12,
         "month": 9
        },
        {
         "BUI": 12.4,
         "Classes": 0,
         "DC": 33.4,
         "DMC": 11.5,
         "FFMC": 88.6,
         "FWI": 10.3,
         "ISI": 9.1,
         "Temperature": 29,
         "_deepnote_index_column": 226,
         "day": 13,
         "month": 9
        },
        {
         "BUI": 14.3,
         "Classes": 0,
         "DC": 41.5,
         "DMC": 12.6,
         "FFMC": 84.6,
         "FWI": 5.7,
         "ISI": 4.3,
         "Temperature": 28,
         "_deepnote_index_column": 227,
         "day": 14,
         "month": 9
        },
        {
         "BUI": 17.8,
         "Classes": 0,
         "DC": 50.2,
         "DMC": 16,
         "FFMC": 88.7,
         "FWI": 9.8,
         "ISI": 6.9,
         "Temperature": 32,
         "_deepnote_index_column": 228,
         "day": 15,
         "month": 9
        },
        {
         "BUI": 22.4,
         "Classes": 0,
         "DC": 59.2,
         "DMC": 21.2,
         "FFMC": 93.9,
         "FWI": 19.3,
         "ISI": 14.2,
         "Temperature": 33,
         "_deepnote_index_column": 229,
         "day": 16,
         "month": 9
        },
        {
         "BUI": 26.2,
         "Classes": 0,
         "DC": 63.3,
         "DMC": 25.2,
         "FFMC": 92.5,
         "FWI": 17.5,
         "ISI": 11.2,
         "Temperature": 34,
         "_deepnote_index_column": 230,
         "day": 17,
         "month": 9
        },
        {
         "BUI": 28.2,
         "Classes": 0,
         "DC": 77.8,
         "DMC": 25.8,
         "FFMC": 90.6,
         "FWI": 15.4,
         "ISI": 9,
         "Temperature": 36,
         "_deepnote_index_column": 231,
         "day": 18,
         "month": 9
        },
        {
         "BUI": 28.9,
         "Classes": 0,
         "DC": 86,
         "DMC": 24.9,
         "FFMC": 83.9,
         "FWI": 5.6,
         "ISI": 2.7,
         "Temperature": 29,
         "_deepnote_index_column": 232,
         "day": 19,
         "month": 9
        },
        {
         "BUI": 24.4,
         "Classes": 1,
         "DC": 88,
         "DMC": 18.7,
         "FFMC": 79.5,
         "FWI": 3.8,
         "ISI": 2.1,
         "Temperature": 34,
         "_deepnote_index_column": 233,
         "day": 20,
         "month": 9
        },
        {
         "BUI": 29.4,
         "Classes": 0,
         "DC": 97.3,
         "DMC": 23.6,
         "FFMC": 92.2,
         "FWI": 21.6,
         "ISI": 13.8,
         "Temperature": 35,
         "_deepnote_index_column": 234,
         "day": 21,
         "month": 9
        },
        {
         "BUI": 32.4,
         "Classes": 0,
         "DC": 106.3,
         "DMC": 26.1,
         "FFMC": 88.9,
         "FWI": 13.7,
         "ISI": 7.1,
         "Temperature": 33,
         "_deepnote_index_column": 235,
         "day": 22,
         "month": 9
        },
        {
         "BUI": 36,
         "Classes": 0,
         "DC": 115.6,
         "DMC": 29.4,
         "FFMC": 89,
         "FWI": 15.2,
         "ISI": 7.5,
         "Temperature": 35,
         "_deepnote_index_column": 236,
         "day": 23,
         "month": 9
        },
        {
         "BUI": 11.9,
         "Classes": 1,
         "DC": 28.1,
         "DMC": 11.9,
         "FFMC": 61.3,
         "FWI": 0.4,
         "ISI": 0.6,
         "Temperature": 26,
         "_deepnote_index_column": 237,
         "day": 24,
         "month": 9
        },
        {
         "BUI": 14.1,
         "Classes": 1,
         "DC": 36.1,
         "DMC": 13.8,
         "FFMC": 79.9,
         "FWI": 3,
         "ISI": 2.4,
         "Temperature": 28,
         "_deepnote_index_column": 238,
         "day": 25,
         "month": 9
        },
        {
         "BUI": 16.9,
         "Classes": 0,
         "DC": 44.5,
         "DMC": 16,
         "FFMC": 85.4,
         "FWI": 6.5,
         "ISI": 4.5,
         "Temperature": 30,
         "_deepnote_index_column": 239,
         "day": 26,
         "month": 9
        },
        {
         "BUI": 6.2,
         "Classes": 1,
         "DC": 8,
         "DMC": 6.5,
         "FFMC": 41.1,
         "FWI": 0,
         "ISI": 0.1,
         "Temperature": 28,
         "_deepnote_index_column": 240,
         "day": 27,
         "month": 9
        },
        {
         "BUI": 3.4,
         "Classes": 1,
         "DC": 7.9,
         "DMC": 3.5,
         "FFMC": 45.9,
         "FWI": 0.2,
         "ISI": 0.4,
         "Temperature": 27,
         "_deepnote_index_column": 241,
         "day": 28,
         "month": 9
        },
        {
         "BUI": 5.1,
         "Classes": 1,
         "DC": 15.2,
         "DMC": 4.3,
         "FFMC": 79.7,
         "FWI": 0.7,
         "ISI": 1.7,
         "Temperature": 24,
         "_deepnote_index_column": 242,
         "day": 29,
         "month": 9
        },
        {
         "BUI": 4.8,
         "Classes": 1,
         "DC": 16.5,
         "DMC": 3.8,
         "FFMC": 67.3,
         "FWI": 0.5,
         "ISI": 1.2,
         "Temperature": 24,
         "_deepnote_index_column": 243,
         "day": 30,
         "month": 9
        }
       ],
       "rows_top": [
        {
         "BUI": 3.4,
         "Classes": 1,
         "DC": 7.6,
         "DMC": 3.4,
         "FFMC": 65.7,
         "FWI": 0.5,
         "ISI": 1.3,
         "Temperature": 29,
         "_deepnote_index_column": 0,
         "day": 1,
         "month": 6
        },
        {
         "BUI": 3.9,
         "Classes": 1,
         "DC": 7.6,
         "DMC": 4.1,
         "FFMC": 64.4,
         "FWI": 0.4,
         "ISI": 1,
         "Temperature": 29,
         "_deepnote_index_column": 1,
         "day": 2,
         "month": 6
        },
        {
         "BUI": 2.7,
         "Classes": 1,
         "DC": 7.1,
         "DMC": 2.5,
         "FFMC": 47.1,
         "FWI": 0.1,
         "ISI": 0.3,
         "Temperature": 26,
         "_deepnote_index_column": 2,
         "day": 3,
         "month": 6
        },
        {
         "BUI": 1.7,
         "Classes": 1,
         "DC": 6.9,
         "DMC": 1.3,
         "FFMC": 28.6,
         "FWI": 0,
         "ISI": 0,
         "Temperature": 25,
         "_deepnote_index_column": 3,
         "day": 4,
         "month": 6
        },
        {
         "BUI": 3.9,
         "Classes": 1,
         "DC": 14.2,
         "DMC": 3,
         "FFMC": 64.8,
         "FWI": 0.5,
         "ISI": 1.2,
         "Temperature": 27,
         "_deepnote_index_column": 4,
         "day": 5,
         "month": 6
        },
        {
         "BUI": 7,
         "Classes": 0,
         "DC": 22.2,
         "DMC": 5.8,
         "FFMC": 82.6,
         "FWI": 2.5,
         "ISI": 3.1,
         "Temperature": 31,
         "_deepnote_index_column": 5,
         "day": 6,
         "month": 6
        },
        {
         "BUI": 10.9,
         "Classes": 0,
         "DC": 30.5,
         "DMC": 9.9,
         "FFMC": 88.2,
         "FWI": 7.2,
         "ISI": 6.4,
         "Temperature": 33,
         "_deepnote_index_column": 6,
         "day": 7,
         "month": 6
        },
        {
         "BUI": 13.5,
         "Classes": 0,
         "DC": 38.3,
         "DMC": 12.1,
         "FFMC": 86.6,
         "FWI": 7.1,
         "ISI": 5.6,
         "Temperature": 30,
         "_deepnote_index_column": 7,
         "day": 8,
         "month": 6
        },
        {
         "BUI": 10.5,
         "Classes": 1,
         "DC": 38.8,
         "DMC": 7.9,
         "FFMC": 52.9,
         "FWI": 0.3,
         "ISI": 0.4,
         "Temperature": 25,
         "_deepnote_index_column": 8,
         "day": 9,
         "month": 6
        },
        {
         "BUI": 12.6,
         "Classes": 1,
         "DC": 46.3,
         "DMC": 9.5,
         "FFMC": 73.2,
         "FWI": 0.9,
         "ISI": 1.3,
         "Temperature": 28,
         "_deepnote_index_column": 9,
         "day": 10,
         "month": 6
        },
        {
         "BUI": 15.8,
         "Classes": 0,
         "DC": 54.3,
         "DMC": 12.5,
         "FFMC": 84.5,
         "FWI": 5.6,
         "ISI": 4,
         "Temperature": 31,
         "_deepnote_index_column": 10,
         "day": 11,
         "month": 6
        },
        {
         "BUI": 17.7,
         "Classes": 0,
         "DC": 61.4,
         "DMC": 13.8,
         "FFMC": 84,
         "FWI": 7.1,
         "ISI": 4.8,
         "Temperature": 26,
         "_deepnote_index_column": 11,
         "day": 12,
         "month": 6
        },
        {
         "BUI": 6.7,
         "Classes": 1,
         "DC": 17,
         "DMC": 6.7,
         "FFMC": 50,
         "FWI": 0.2,
         "ISI": 0.5,
         "Temperature": 27,
         "_deepnote_index_column": 12,
         "day": 13,
         "month": 6
        },
        {
         "BUI": 4.4,
         "Classes": 1,
         "DC": 7.8,
         "DMC": 4.6,
         "FFMC": 59,
         "FWI": 0.4,
         "ISI": 1,
         "Temperature": 30,
         "_deepnote_index_column": 13,
         "day": 14,
         "month": 6
        },
        {
         "BUI": 3,
         "Classes": 1,
         "DC": 7.4,
         "DMC": 3,
         "FFMC": 49.4,
         "FWI": 0.1,
         "ISI": 0.4,
         "Temperature": 28,
         "_deepnote_index_column": 14,
         "day": 15,
         "month": 6
        },
        {
         "BUI": 2.2,
         "Classes": 1,
         "DC": 7.6,
         "DMC": 1.7,
         "FFMC": 36.1,
         "FWI": 0,
         "ISI": 0,
         "Temperature": 29,
         "_deepnote_index_column": 15,
         "day": 16,
         "month": 6
        },
        {
         "BUI": 1.6,
         "Classes": 1,
         "DC": 7.8,
         "DMC": 1.1,
         "FFMC": 37.3,
         "FWI": 0,
         "ISI": 0,
         "Temperature": 30,
         "_deepnote_index_column": 16,
         "day": 17,
         "month": 6
        },
        {
         "BUI": 2.4,
         "Classes": 1,
         "DC": 8,
         "DMC": 1.9,
         "FFMC": 56.9,
         "FWI": 0.2,
         "ISI": 0.7,
         "Temperature": 31,
         "_deepnote_index_column": 17,
         "day": 18,
         "month": 6
        },
        {
         "BUI": 5.3,
         "Classes": 1,
         "DC": 16,
         "DMC": 4.5,
         "FFMC": 79.9,
         "FWI": 1.4,
         "ISI": 2.5,
         "Temperature": 31,
         "_deepnote_index_column": 18,
         "day": 19,
         "month": 6
        },
        {
         "BUI": 5.1,
         "Classes": 1,
         "DC": 27.1,
         "DMC": 3.4,
         "FFMC": 59.8,
         "FWI": 0.4,
         "ISI": 0.9,
         "Temperature": 30,
         "_deepnote_index_column": 19,
         "day": 20,
         "month": 6
        },
        {
         "BUI": 8.4,
         "Classes": 0,
         "DC": 31.6,
         "DMC": 6.3,
         "FFMC": 81,
         "FWI": 2.2,
         "ISI": 2.6,
         "Temperature": 30,
         "_deepnote_index_column": 20,
         "day": 21,
         "month": 6
        },
        {
         "BUI": 9.7,
         "Classes": 1,
         "DC": 39.5,
         "DMC": 7,
         "FFMC": 79.1,
         "FWI": 2.3,
         "ISI": 2.4,
         "Temperature": 31,
         "_deepnote_index_column": 21,
         "day": 22,
         "month": 6
        },
        {
         "BUI": 11.5,
         "Classes": 0,
         "DC": 47.7,
         "DMC": 8.2,
         "FFMC": 81.4,
         "FWI": 3.8,
         "ISI": 3.3,
         "Temperature": 32,
         "_deepnote_index_column": 22,
         "day": 23,
         "month": 6
        },
        {
         "BUI": 14.9,
         "Classes": 0,
         "DC": 55.8,
         "DMC": 11.2,
         "FFMC": 85.9,
         "FWI": 7.5,
         "ISI": 5.6,
         "Temperature": 32,
         "_deepnote_index_column": 23,
         "day": 24,
         "month": 6
        },
        {
         "BUI": 18.3,
         "Classes": 0,
         "DC": 63.8,
         "DMC": 14.2,
         "FFMC": 86.7,
         "FWI": 8.4,
         "ISI": 5.7,
         "Temperature": 31,
         "_deepnote_index_column": 24,
         "day": 25,
         "month": 6
        },
        {
         "BUI": 21.6,
         "Classes": 0,
         "DC": 71.8,
         "DMC": 17.8,
         "FFMC": 86.8,
         "FWI": 10.6,
         "ISI": 6.7,
         "Temperature": 31,
         "_deepnote_index_column": 25,
         "day": 26,
         "month": 6
        },
        {
         "BUI": 25.8,
         "Classes": 0,
         "DC": 80.3,
         "DMC": 21.6,
         "FFMC": 89,
         "FWI": 15,
         "ISI": 9.2,
         "Temperature": 34,
         "_deepnote_index_column": 26,
         "day": 27,
         "month": 6
        },
        {
         "BUI": 29.7,
         "Classes": 0,
         "DC": 88.5,
         "DMC": 25.5,
         "FFMC": 89.1,
         "FWI": 13.9,
         "ISI": 7.6,
         "Temperature": 32,
         "_deepnote_index_column": 27,
         "day": 28,
         "month": 6
        },
        {
         "BUI": 23.8,
         "Classes": 1,
         "DC": 84.4,
         "DMC": 18.4,
         "FFMC": 79.9,
         "FWI": 3.9,
         "ISI": 2.2,
         "Temperature": 32,
         "_deepnote_index_column": 28,
         "day": 29,
         "month": 6
        },
        {
         "BUI": 28.3,
         "Classes": 0,
         "DC": 92.8,
         "DMC": 22.9,
         "FFMC": 88.7,
         "FWI": 12.9,
         "ISI": 7.2,
         "Temperature": 33,
         "_deepnote_index_column": 29,
         "day": 30,
         "month": 6
        },
        {
         "BUI": 2.9,
         "Classes": 1,
         "DC": 8.6,
         "DMC": 2.5,
         "FFMC": 59.9,
         "FWI": 0.4,
         "ISI": 1.1,
         "Temperature": 29,
         "_deepnote_index_column": 30,
         "day": 1,
         "month": 7
        },
        {
         "BUI": 2.8,
         "Classes": 1,
         "DC": 8.3,
         "DMC": 2.4,
         "FFMC": 55.7,
         "FWI": 0.3,
         "ISI": 0.8,
         "Temperature": 27,
         "_deepnote_index_column": 31,
         "day": 2,
         "month": 7
        },
        {
         "BUI": 3,
         "Classes": 1,
         "DC": 9.2,
         "DMC": 2.6,
         "FFMC": 63.1,
         "FWI": 0.5,
         "ISI": 1.3,
         "Temperature": 32,
         "_deepnote_index_column": 32,
         "day": 3,
         "month": 7
        },
        {
         "BUI": 5.7,
         "Classes": 1,
         "DC": 18.5,
         "DMC": 4.6,
         "FFMC": 80.1,
         "FWI": 1.7,
         "ISI": 2.7,
         "Temperature": 33,
         "_deepnote_index_column": 33,
         "day": 4,
         "month": 7
        },
        {
         "BUI": 9.1,
         "Classes": 0,
         "DC": 27.9,
         "DMC": 7.6,
         "FFMC": 85.9,
         "FWI": 4.9,
         "ISI": 4.8,
         "Temperature": 33,
         "_deepnote_index_column": 34,
         "day": 5,
         "month": 7
        },
        {
         "BUI": 12.5,
         "Classes": 0,
         "DC": 37,
         "DMC": 10.9,
         "FFMC": 87,
         "FWI": 6.8,
         "ISI": 5.6,
         "Temperature": 32,
         "_deepnote_index_column": 35,
         "day": 6,
         "month": 7
        },
        {
         "BUI": 12.1,
         "Classes": 1,
         "DC": 40.4,
         "DMC": 9.7,
         "FFMC": 80,
         "FWI": 3.2,
         "ISI": 2.8,
         "Temperature": 35,
         "_deepnote_index_column": 36,
         "day": 7,
         "month": 7
        },
        {
         "BUI": 15.4,
         "Classes": 0,
         "DC": 49.8,
         "DMC": 12.5,
         "FFMC": 85.6,
         "FWI": 8,
         "ISI": 6,
         "Temperature": 33,
         "_deepnote_index_column": 37,
         "day": 8,
         "month": 7
        },
        {
         "BUI": 7.4,
         "Classes": 1,
         "DC": 9.2,
         "DMC": 7.7,
         "FFMC": 66.6,
         "FWI": 0.6,
         "ISI": 1.1,
         "Temperature": 32,
         "_deepnote_index_column": 38,
         "day": 9,
         "month": 7
        },
        {
         "BUI": 5.8,
         "Classes": 1,
         "DC": 9.3,
         "DMC": 6,
         "FFMC": 66.6,
         "FWI": 0.5,
         "ISI": 1.1,
         "Temperature": 33,
         "_deepnote_index_column": 39,
         "day": 10,
         "month": 7
        },
        {
         "BUI": 8.1,
         "Classes": 1,
         "DC": 18.7,
         "DMC": 8.1,
         "FFMC": 81.1,
         "FWI": 2.2,
         "ISI": 2.6,
         "Temperature": 33,
         "_deepnote_index_column": 40,
         "day": 11,
         "month": 7
        },
        {
         "BUI": 9.2,
         "Classes": 1,
         "DC": 27.7,
         "DMC": 7.9,
         "FFMC": 75.1,
         "FWI": 0.9,
         "ISI": 1.5,
         "Temperature": 31,
         "_deepnote_index_column": 41,
         "day": 12,
         "month": 7
        },
        {
         "BUI": 11.7,
         "Classes": 1,
         "DC": 37.2,
         "DMC": 9.7,
         "FFMC": 81.8,
         "FWI": 3.4,
         "ISI": 3,
         "Temperature": 34,
         "_deepnote_index_column": 42,
         "day": 13,
         "month": 7
        },
        {
         "BUI": 8.4,
         "Classes": 1,
         "DC": 22.9,
         "DMC": 7.8,
         "FFMC": 73.9,
         "FWI": 0.8,
         "ISI": 1.4,
         "Temperature": 34,
         "_deepnote_index_column": 43,
         "day": 14,
         "month": 7
        },
        {
         "BUI": 5.9,
         "Classes": 1,
         "DC": 17,
         "DMC": 5.2,
         "FFMC": 60.7,
         "FWI": 0.5,
         "ISI": 1.1,
         "Temperature": 30,
         "_deepnote_index_column": 44,
         "day": 15,
         "month": 7
        },
        {
         "BUI": 8.3,
         "Classes": 1,
         "DC": 25.5,
         "DMC": 7,
         "FFMC": 72.6,
         "FWI": 0.4,
         "ISI": 0.7,
         "Temperature": 28,
         "_deepnote_index_column": 45,
         "day": 16,
         "month": 7
        },
        {
         "BUI": 11.1,
         "Classes": 0,
         "DC": 34.1,
         "DMC": 9.4,
         "FFMC": 82.8,
         "FWI": 3.6,
         "ISI": 3.2,
         "Temperature": 29,
         "_deepnote_index_column": 46,
         "day": 17,
         "month": 7
        },
        {
         "BUI": 14.2,
         "Classes": 0,
         "DC": 43.1,
         "DMC": 12.1,
         "FFMC": 85.4,
         "FWI": 6,
         "ISI": 4.6,
         "Temperature": 31,
         "_deepnote_index_column": 47,
         "day": 18,
         "month": 7
        },
        {
         "BUI": 18.2,
         "Classes": 0,
         "DC": 52.8,
         "DMC": 12,
         "FFMC": 88.1,
         "FWI": 10.9,
         "ISI": 7.7,
         "Temperature": 35,
         "_deepnote_index_column": 48,
         "day": 19,
         "month": 7
        },
        {
         "BUI": 16.5,
         "Classes": 0,
         "DC": 62.1,
         "DMC": 12.3,
         "FFMC": 81.4,
         "FWI": 4,
         "ISI": 2.8,
         "Temperature": 33,
         "_deepnote_index_column": 49,
         "day": 20,
         "month": 7
        }
       ]
      },
      "text/html": [
       "<div>\n",
       "<style scoped>\n",
       "    .dataframe tbody tr th:only-of-type {\n",
       "        vertical-align: middle;\n",
       "    }\n",
       "\n",
       "    .dataframe tbody tr th {\n",
       "        vertical-align: top;\n",
       "    }\n",
       "\n",
       "    .dataframe thead th {\n",
       "        text-align: right;\n",
       "    }\n",
       "</style>\n",
       "<table border=\"1\" class=\"dataframe\">\n",
       "  <thead>\n",
       "    <tr style=\"text-align: right;\">\n",
       "      <th></th>\n",
       "      <th>day</th>\n",
       "      <th>month</th>\n",
       "      <th>Temperature</th>\n",
       "      <th>FFMC</th>\n",
       "      <th>DMC</th>\n",
       "      <th>DC</th>\n",
       "      <th>ISI</th>\n",
       "      <th>BUI</th>\n",
       "      <th>FWI</th>\n",
       "      <th>Classes</th>\n",
       "    </tr>\n",
       "  </thead>\n",
       "  <tbody>\n",
       "    <tr>\n",
       "      <th>0</th>\n",
       "      <td>1</td>\n",
       "      <td>6</td>\n",
       "      <td>29</td>\n",
       "      <td>65.7</td>\n",
       "      <td>3.4</td>\n",
       "      <td>7.6</td>\n",
       "      <td>1.3</td>\n",
       "      <td>3.4</td>\n",
       "      <td>0.5</td>\n",
       "      <td>1</td>\n",
       "    </tr>\n",
       "    <tr>\n",
       "      <th>1</th>\n",
       "      <td>2</td>\n",
       "      <td>6</td>\n",
       "      <td>29</td>\n",
       "      <td>64.4</td>\n",
       "      <td>4.1</td>\n",
       "      <td>7.6</td>\n",
       "      <td>1.0</td>\n",
       "      <td>3.9</td>\n",
       "      <td>0.4</td>\n",
       "      <td>1</td>\n",
       "    </tr>\n",
       "    <tr>\n",
       "      <th>2</th>\n",
       "      <td>3</td>\n",
       "      <td>6</td>\n",
       "      <td>26</td>\n",
       "      <td>47.1</td>\n",
       "      <td>2.5</td>\n",
       "      <td>7.1</td>\n",
       "      <td>0.3</td>\n",
       "      <td>2.7</td>\n",
       "      <td>0.1</td>\n",
       "      <td>1</td>\n",
       "    </tr>\n",
       "    <tr>\n",
       "      <th>3</th>\n",
       "      <td>4</td>\n",
       "      <td>6</td>\n",
       "      <td>25</td>\n",
       "      <td>28.6</td>\n",
       "      <td>1.3</td>\n",
       "      <td>6.9</td>\n",
       "      <td>0.0</td>\n",
       "      <td>1.7</td>\n",
       "      <td>0.0</td>\n",
       "      <td>1</td>\n",
       "    </tr>\n",
       "    <tr>\n",
       "      <th>4</th>\n",
       "      <td>5</td>\n",
       "      <td>6</td>\n",
       "      <td>27</td>\n",
       "      <td>64.8</td>\n",
       "      <td>3.0</td>\n",
       "      <td>14.2</td>\n",
       "      <td>1.2</td>\n",
       "      <td>3.9</td>\n",
       "      <td>0.5</td>\n",
       "      <td>1</td>\n",
       "    </tr>\n",
       "    <tr>\n",
       "      <th>...</th>\n",
       "      <td>...</td>\n",
       "      <td>...</td>\n",
       "      <td>...</td>\n",
       "      <td>...</td>\n",
       "      <td>...</td>\n",
       "      <td>...</td>\n",
       "      <td>...</td>\n",
       "      <td>...</td>\n",
       "      <td>...</td>\n",
       "      <td>...</td>\n",
       "    </tr>\n",
       "    <tr>\n",
       "      <th>239</th>\n",
       "      <td>26</td>\n",
       "      <td>9</td>\n",
       "      <td>30</td>\n",
       "      <td>85.4</td>\n",
       "      <td>16.0</td>\n",
       "      <td>44.5</td>\n",
       "      <td>4.5</td>\n",
       "      <td>16.9</td>\n",
       "      <td>6.5</td>\n",
       "      <td>0</td>\n",
       "    </tr>\n",
       "    <tr>\n",
       "      <th>240</th>\n",
       "      <td>27</td>\n",
       "      <td>9</td>\n",
       "      <td>28</td>\n",
       "      <td>41.1</td>\n",
       "      <td>6.5</td>\n",
       "      <td>8.0</td>\n",
       "      <td>0.1</td>\n",
       "      <td>6.2</td>\n",
       "      <td>0.0</td>\n",
       "      <td>1</td>\n",
       "    </tr>\n",
       "    <tr>\n",
       "      <th>241</th>\n",
       "      <td>28</td>\n",
       "      <td>9</td>\n",
       "      <td>27</td>\n",
       "      <td>45.9</td>\n",
       "      <td>3.5</td>\n",
       "      <td>7.9</td>\n",
       "      <td>0.4</td>\n",
       "      <td>3.4</td>\n",
       "      <td>0.2</td>\n",
       "      <td>1</td>\n",
       "    </tr>\n",
       "    <tr>\n",
       "      <th>242</th>\n",
       "      <td>29</td>\n",
       "      <td>9</td>\n",
       "      <td>24</td>\n",
       "      <td>79.7</td>\n",
       "      <td>4.3</td>\n",
       "      <td>15.2</td>\n",
       "      <td>1.7</td>\n",
       "      <td>5.1</td>\n",
       "      <td>0.7</td>\n",
       "      <td>1</td>\n",
       "    </tr>\n",
       "    <tr>\n",
       "      <th>243</th>\n",
       "      <td>30</td>\n",
       "      <td>9</td>\n",
       "      <td>24</td>\n",
       "      <td>67.3</td>\n",
       "      <td>3.8</td>\n",
       "      <td>16.5</td>\n",
       "      <td>1.2</td>\n",
       "      <td>4.8</td>\n",
       "      <td>0.5</td>\n",
       "      <td>1</td>\n",
       "    </tr>\n",
       "  </tbody>\n",
       "</table>\n",
       "<p>243 rows × 10 columns</p>\n",
       "</div>"
      ],
      "text/plain": [
       "     day  month  Temperature  FFMC   DMC    DC  ISI   BUI  FWI  Classes\n",
       "0      1      6           29  65.7   3.4   7.6  1.3   3.4  0.5        1\n",
       "1      2      6           29  64.4   4.1   7.6  1.0   3.9  0.4        1\n",
       "2      3      6           26  47.1   2.5   7.1  0.3   2.7  0.1        1\n",
       "3      4      6           25  28.6   1.3   6.9  0.0   1.7  0.0        1\n",
       "4      5      6           27  64.8   3.0  14.2  1.2   3.9  0.5        1\n",
       "..   ...    ...          ...   ...   ...   ...  ...   ...  ...      ...\n",
       "239   26      9           30  85.4  16.0  44.5  4.5  16.9  6.5        0\n",
       "240   27      9           28  41.1   6.5   8.0  0.1   6.2  0.0        1\n",
       "241   28      9           27  45.9   3.5   7.9  0.4   3.4  0.2        1\n",
       "242   29      9           24  79.7   4.3  15.2  1.7   5.1  0.7        1\n",
       "243   30      9           24  67.3   3.8  16.5  1.2   4.8  0.5        1\n",
       "\n",
       "[243 rows x 10 columns]"
      ]
     },
     "execution_count": 15,
     "metadata": {},
     "output_type": "execute_result"
    }
   ],
   "source": [
    "from sklearn.preprocessing import LabelEncoder\n",
    "\n",
    "data['Classes'] = LabelEncoder().fit_transform(data['Classes'])\n",
    "data"
   ]
  },
  {
   "cell_type": "code",
   "execution_count": null,
   "metadata": {
    "cell_id": "00003-09445be6-a117-4c44-8a6c-9b7030e65444",
    "deepnote_cell_type": "code",
    "deepnote_to_be_reexecuted": false,
    "execution_millis": 2062,
    "execution_start": 1635758679290,
    "source_hash": "c7d53e96",
    "tags": []
   },
   "outputs": [
    {
     "data": {
      "text/plain": [
       "<AxesSubplot:>"
      ]
     },
     "execution_count": 16,
     "metadata": {},
     "output_type": "execute_result"
    },
    {
     "data": {
      "image/png": "[encoded data removed]",
      "text/plain": [
       "<Figure size 432x288 with 2 Axes>"
      ]
     },
     "metadata": {
      "image/png": {
       "height": 305,
       "width": 402
      },
      "needs_background": "light"
     },
     "output_type": "display_data"
    }
   ],
   "source": [
    "import matplotlib.pyplot as plt\n",
    "import seaborn as sns\n",
    "\n",
    "sns.heatmap(data.corr().abs(), annot=True)"
   ]
  },
  {
   "cell_type": "code",
   "execution_count": null,
   "metadata": {
    "cell_id": "00016-f21e6381-2de0-4669-ad0a-a5540749de26",
    "deepnote_cell_type": "code",
    "deepnote_to_be_reexecuted": false,
    "execution_millis": 105,
    "execution_start": 1635758681360,
    "source_hash": "edd6d1a6",
    "tags": []
   },
   "outputs": [
    {
     "data": {
      "application/vnd.deepnote.dataframe.v2+json": {
       "column_count": 9,
       "columns": [
        {
         "dtype": "int64",
         "name": "day",
         "stats": {
          "histogram": [
           {
            "bin_end": 4,
            "bin_start": 1,
            "count": 24
           },
           {
            "bin_end": 7,
            "bin_start": 4,
            "count": 24
           },
           {
            "bin_end": 10,
            "bin_start": 7,
            "count": 24
           },
           {
            "bin_end": 13,
            "bin_start": 10,
            "count": 24
           },
           {
            "bin_end": 16,
            "bin_start": 13,
            "count": 23
           },
           {
            "bin_end": 19,
            "bin_start": 16,
            "count": 24
           },
           {
            "bin_end": 22,
            "bin_start": 19,
            "count": 24
           },
           {
            "bin_end": 25,
            "bin_start": 22,
            "count": 24
           },
           {
            "bin_end": 28,
            "bin_start": 25,
            "count": 24
           },
           {
            "bin_end": 31,
            "bin_start": 28,
            "count": 28
           }
          ],
          "max": "31",
          "min": "1",
          "nan_count": 0,
          "unique_count": 31
         }
        },
        {
         "dtype": "int64",
         "name": "month",
         "stats": {
          "histogram": [
           {
            "bin_end": 6.3,
            "bin_start": 6,
            "count": 60
           },
           {
            "bin_end": 6.6,
            "bin_start": 6.3,
            "count": 0
           },
           {
            "bin_end": 6.9,
            "bin_start": 6.6,
            "count": 0
           },
           {
            "bin_end": 7.2,
            "bin_start": 6.9,
            "count": 61
           },
           {
            "bin_end": 7.5,
            "bin_start": 7.2,
            "count": 0
           },
           {
            "bin_end": 7.8,
            "bin_start": 7.5,
            "count": 0
           },
           {
            "bin_end": 8.1,
            "bin_start": 7.8,
            "count": 62
           },
           {
            "bin_end": 8.4,
            "bin_start": 8.1,
            "count": 0
           },
           {
            "bin_end": 8.7,
            "bin_start": 8.4,
            "count": 0
           },
           {
            "bin_end": 9,
            "bin_start": 8.7,
            "count": 60
           }
          ],
          "max": "9",
          "min": "6",
          "nan_count": 0,
          "unique_count": 4
         }
        },
        {
         "dtype": "int64",
         "name": "Temperature",
         "stats": {
          "histogram": [
           {
            "bin_end": 24,
            "bin_start": 22,
            "count": 2
           },
           {
            "bin_end": 26,
            "bin_start": 24,
            "count": 9
           },
           {
            "bin_end": 28,
            "bin_start": 26,
            "count": 13
           },
           {
            "bin_end": 30,
            "bin_start": 28,
            "count": 33
           },
           {
            "bin_end": 32,
            "bin_start": 30,
            "count": 47
           },
           {
            "bin_end": 34,
            "bin_start": 32,
            "count": 44
           },
           {
            "bin_end": 36,
            "bin_start": 34,
            "count": 53
           },
           {
            "bin_end": 38,
            "bin_start": 36,
            "count": 29
           },
           {
            "bin_end": 40,
            "bin_start": 38,
            "count": 9
           },
           {
            "bin_end": 42,
            "bin_start": 40,
            "count": 4
           }
          ],
          "max": "42",
          "min": "22",
          "nan_count": 0,
          "unique_count": 19
         }
        },
        {
         "dtype": "float64",
         "name": "FFMC",
         "stats": {
          "histogram": [
           {
            "bin_end": 35.34,
            "bin_start": 28.6,
            "count": 2
           },
           {
            "bin_end": 42.08,
            "bin_start": 35.34,
            "count": 5
           },
           {
            "bin_end": 48.82,
            "bin_start": 42.08,
            "count": 11
           },
           {
            "bin_end": 55.56,
            "bin_start": 48.82,
            "count": 5
           },
           {
            "bin_end": 62.300000000000004,
            "bin_start": 55.56,
            "count": 16
           },
           {
            "bin_end": 69.03999999999999,
            "bin_start": 62.300000000000004,
            "count": 16
           },
           {
            "bin_end": 75.78,
            "bin_start": 69.03999999999999,
            "count": 20
           },
           {
            "bin_end": 82.52000000000001,
            "bin_start": 75.78,
            "count": 42
           },
           {
            "bin_end": 89.26,
            "bin_start": 82.52000000000001,
            "count": 86
           },
           {
            "bin_end": 96,
            "bin_start": 89.26,
            "count": 40
           }
          ],
          "max": "96.0",
          "min": "28.6",
          "nan_count": 0,
          "unique_count": 173
         }
        },
        {
         "dtype": "float64",
         "name": "DMC",
         "stats": {
          "histogram": [
           {
            "bin_end": 7.220000000000001,
            "bin_start": 0.7,
            "count": 80
           },
           {
            "bin_end": 13.74,
            "bin_start": 7.220000000000001,
            "count": 66
           },
           {
            "bin_end": 20.26,
            "bin_start": 13.74,
            "count": 35
           },
           {
            "bin_end": 26.78,
            "bin_start": 20.26,
            "count": 30
           },
           {
            "bin_end": 33.300000000000004,
            "bin_start": 26.78,
            "count": 11
           },
           {
            "bin_end": 39.82000000000001,
            "bin_start": 33.300000000000004,
            "count": 7
           },
           {
            "bin_end": 46.34,
            "bin_start": 39.82000000000001,
            "count": 6
           },
           {
            "bin_end": 52.86000000000001,
            "bin_start": 46.34,
            "count": 4
           },
           {
            "bin_end": 59.38000000000001,
            "bin_start": 52.86000000000001,
            "count": 2
           },
           {
            "bin_end": 65.9,
            "bin_start": 59.38000000000001,
            "count": 2
           }
          ],
          "max": "65.9",
          "min": "0.7",
          "nan_count": 0,
          "unique_count": 165
         }
        },
        {
         "dtype": "float64",
         "name": "DC",
         "stats": {
          "histogram": [
           {
            "bin_end": 28.25,
            "bin_start": 6.9,
            "count": 109
           },
           {
            "bin_end": 49.6,
            "bin_start": 28.25,
            "count": 50
           },
           {
            "bin_end": 70.95000000000002,
            "bin_start": 49.6,
            "count": 23
           },
           {
            "bin_end": 92.30000000000001,
            "bin_start": 70.95000000000002,
            "count": 21
           },
           {
            "bin_end": 113.65,
            "bin_start": 92.30000000000001,
            "count": 12
           },
           {
            "bin_end": 135.00000000000003,
            "bin_start": 113.65,
            "count": 7
           },
           {
            "bin_end": 156.35000000000002,
            "bin_start": 135.00000000000003,
            "count": 7
           },
           {
            "bin_end": 177.70000000000002,
            "bin_start": 156.35000000000002,
            "count": 8
           },
           {
            "bin_end": 199.05,
            "bin_start": 177.70000000000002,
            "count": 3
           },
           {
            "bin_end": 220.4,
            "bin_start": 199.05,
            "count": 3
           }
          ],
          "max": "220.4",
          "min": "6.9",
          "nan_count": 0,
          "unique_count": 197
         }
        },
        {
         "dtype": "float64",
         "name": "ISI",
         "stats": {
          "histogram": [
           {
            "bin_end": 1.9,
            "bin_start": 0,
            "count": 80
           },
           {
            "bin_end": 3.8,
            "bin_start": 1.9,
            "count": 44
           },
           {
            "bin_end": 5.699999999999999,
            "bin_start": 3.8,
            "count": 40
           },
           {
            "bin_end": 7.6,
            "bin_start": 5.699999999999999,
            "count": 24
           },
           {
            "bin_end": 9.5,
            "bin_start": 7.6,
            "count": 21
           },
           {
            "bin_end": 11.399999999999999,
            "bin_start": 9.5,
            "count": 15
           },
           {
            "bin_end": 13.299999999999999,
            "bin_start": 11.399999999999999,
            "count": 6
           },
           {
            "bin_end": 15.2,
            "bin_start": 13.299999999999999,
            "count": 5
           },
           {
            "bin_end": 17.099999999999998,
            "bin_start": 15.2,
            "count": 5
           },
           {
            "bin_end": 19,
            "bin_start": 17.099999999999998,
            "count": 3
           }
          ],
          "max": "19.0",
          "min": "0.0",
          "nan_count": 0,
          "unique_count": 106
         }
        },
        {
         "dtype": "float64",
         "name": "BUI",
         "stats": {
          "histogram": [
           {
            "bin_end": 7.790000000000001,
            "bin_start": 1.1,
            "count": 80
           },
           {
            "bin_end": 14.48,
            "bin_start": 7.790000000000001,
            "count": 57
           },
           {
            "bin_end": 21.17,
            "bin_start": 14.48,
            "count": 35
           },
           {
            "bin_end": 27.860000000000003,
            "bin_start": 21.17,
            "count": 27
           },
           {
            "bin_end": 34.550000000000004,
            "bin_start": 27.860000000000003,
            "count": 14
           },
           {
            "bin_end": 41.24,
            "bin_start": 34.550000000000004,
            "count": 13
           },
           {
            "bin_end": 47.93000000000001,
            "bin_start": 41.24,
            "count": 6
           },
           {
            "bin_end": 54.620000000000005,
            "bin_start": 47.93000000000001,
            "count": 2
           },
           {
            "bin_end": 61.31,
            "bin_start": 54.620000000000005,
            "count": 5
           },
           {
            "bin_end": 68,
            "bin_start": 61.31,
            "count": 4
           }
          ],
          "max": "68.0",
          "min": "1.1",
          "nan_count": 0,
          "unique_count": 173
         }
        },
        {
         "dtype": "float64",
         "name": "FWI",
         "stats": {
          "histogram": [
           {
            "bin_end": 3.1100000000000003,
            "bin_start": 0,
            "count": 106
           },
           {
            "bin_end": 6.220000000000001,
            "bin_start": 3.1100000000000003,
            "count": 33
           },
           {
            "bin_end": 9.330000000000002,
            "bin_start": 6.220000000000001,
            "count": 26
           },
           {
            "bin_end": 12.440000000000001,
            "bin_start": 9.330000000000002,
            "count": 22
           },
           {
            "bin_end": 15.55,
            "bin_start": 12.440000000000001,
            "count": 21
           },
           {
            "bin_end": 18.660000000000004,
            "bin_start": 15.55,
            "count": 13
           },
           {
            "bin_end": 21.770000000000003,
            "bin_start": 18.660000000000004,
            "count": 11
           },
           {
            "bin_end": 24.880000000000003,
            "bin_start": 21.770000000000003,
            "count": 3
           },
           {
            "bin_end": 27.990000000000002,
            "bin_start": 24.880000000000003,
            "count": 4
           },
           {
            "bin_end": 31.1,
            "bin_start": 27.990000000000002,
            "count": 4
           }
          ],
          "max": "31.1",
          "min": "0.0",
          "nan_count": 0,
          "unique_count": 125
         }
        },
        {
         "dtype": "int64",
         "name": "_deepnote_index_column"
        }
       ],
       "row_count": 243,
       "rows_bottom": [
        {
         "BUI": 10.5,
         "DC": 9.1,
         "DMC": 11,
         "FFMC": 70.5,
         "FWI": 0.8,
         "ISI": 1.3,
         "Temperature": 30,
         "_deepnote_index_column": 188,
         "day": 6,
         "month": 8
        },
        {
         "BUI": 6.9,
         "DC": 9.8,
         "DMC": 7.2,
         "FFMC": 69.7,
         "FWI": 0.6,
         "ISI": 1.2,
         "Temperature": 34,
         "_deepnote_index_column": 189,
         "day": 7,
         "month": 8
        },
        {
         "BUI": 11,
         "DC": 20.2,
         "DMC": 11.2,
         "FFMC": 87.4,
         "FWI": 5.9,
         "ISI": 5.2,
         "Temperature": 37,
         "_deepnote_index_column": 190,
         "day": 8,
         "month": 8
        },
        {
         "BUI": 16.4,
         "DC": 30.9,
         "DMC": 16.5,
         "FFMC": 91.7,
         "FWI": 12.7,
         "ISI": 9.6,
         "Temperature": 39,
         "_deepnote_index_column": 191,
         "day": 9,
         "month": 8
        },
        {
         "BUI": 15.8,
         "DC": 35.4,
         "DMC": 15.8,
         "FFMC": 89.3,
         "FWI": 10.7,
         "ISI": 8.2,
         "Temperature": 39,
         "_deepnote_index_column": 192,
         "day": 10,
         "month": 8
        },
        {
         "BUI": 22.4,
         "DC": 46.3,
         "DMC": 22.5,
         "FFMC": 94.2,
         "FWI": 21.6,
         "ISI": 16.6,
         "Temperature": 40,
         "_deepnote_index_column": 193,
         "day": 11,
         "month": 8
        },
        {
         "BUI": 18.4,
         "DC": 41.5,
         "DMC": 18.4,
         "FFMC": 93,
         "FWI": 18.8,
         "ISI": 15.5,
         "Temperature": 39,
         "_deepnote_index_column": 194,
         "day": 12,
         "month": 8
        },
        {
         "BUI": 17.5,
         "DC": 45.1,
         "DMC": 16.9,
         "FFMC": 88.3,
         "FWI": 10.5,
         "ISI": 7.5,
         "Temperature": 35,
         "_deepnote_index_column": 195,
         "day": 13,
         "month": 8
        },
        {
         "BUI": 22.3,
         "DC": 55.5,
         "DMC": 22.3,
         "FFMC": 91.9,
         "FWI": 15.7,
         "ISI": 10.8,
         "Temperature": 37,
         "_deepnote_index_column": 196,
         "day": 14,
         "month": 8
        },
        {
         "BUI": 19,
         "DC": 54.2,
         "DMC": 16.9,
         "FFMC": 83.9,
         "FWI": 5.5,
         "ISI": 3.5,
         "Temperature": 35,
         "_deepnote_index_column": 197,
         "day": 15,
         "month": 8
        },
        {
         "BUI": 24.2,
         "DC": 65.1,
         "DMC": 22.6,
         "FFMC": 92,
         "FWI": 14.8,
         "ISI": 9.5,
         "Temperature": 40,
         "_deepnote_index_column": 198,
         "day": 16,
         "month": 8
        },
        {
         "BUI": 30.4,
         "DC": 76.4,
         "DMC": 30.3,
         "FFMC": 96,
         "FWI": 24,
         "ISI": 15.7,
         "Temperature": 42,
         "_deepnote_index_column": 199,
         "day": 17,
         "month": 8
        },
        {
         "BUI": 35.9,
         "DC": 86.8,
         "DMC": 35.9,
         "FFMC": 94.3,
         "FWI": 26.3,
         "ISI": 16,
         "Temperature": 37,
         "_deepnote_index_column": 200,
         "day": 18,
         "month": 8
        },
        {
         "BUI": 35.5,
         "DC": 96.8,
         "DMC": 32.7,
         "FFMC": 82.7,
         "FWI": 7.7,
         "ISI": 3.3,
         "Temperature": 35,
         "_deepnote_index_column": 201,
         "day": 19,
         "month": 8
        },
        {
         "BUI": 38.1,
         "DC": 107,
         "DMC": 34.4,
         "FFMC": 83.7,
         "FWI": 9,
         "ISI": 3.8,
         "Temperature": 36,
         "_deepnote_index_column": 202,
         "day": 20,
         "month": 8
        },
        {
         "BUI": 41.3,
         "DC": 117.1,
         "DMC": 36.9,
         "FFMC": 86,
         "FWI": 12.2,
         "ISI": 5.1,
         "Temperature": 36,
         "_deepnote_index_column": 203,
         "day": 21,
         "month": 8
        },
        {
         "BUI": 45.5,
         "DC": 127.5,
         "DMC": 41.1,
         "FFMC": 89.5,
         "FWI": 18.1,
         "ISI": 8,
         "Temperature": 37,
         "_deepnote_index_column": 204,
         "day": 22,
         "month": 8
        },
        {
         "BUI": 50.2,
         "DC": 137.7,
         "DMC": 46.1,
         "FFMC": 91.2,
         "FWI": 24.5,
         "ISI": 11.5,
         "Temperature": 36,
         "_deepnote_index_column": 205,
         "day": 23,
         "month": 8
        },
        {
         "BUI": 54.9,
         "DC": 147.7,
         "DMC": 51.3,
         "FFMC": 92.1,
         "FWI": 26.9,
         "ISI": 12.2,
         "Temperature": 35,
         "_deepnote_index_column": 206,
         "day": 24,
         "month": 8
        },
        {
         "BUI": 59.5,
         "DC": 157.5,
         "DMC": 56.3,
         "FFMC": 92.1,
         "FWI": 31.1,
         "ISI": 14.3,
         "Temperature": 34,
         "_deepnote_index_column": 207,
         "day": 25,
         "month": 8
        },
        {
         "BUI": 64,
         "DC": 167.2,
         "DMC": 61.3,
         "FFMC": 92.2,
         "FWI": 30.3,
         "ISI": 13.1,
         "Temperature": 33,
         "_deepnote_index_column": 208,
         "day": 26,
         "month": 8
        },
        {
         "BUI": 68,
         "DC": 177.3,
         "DMC": 65.9,
         "FFMC": 91,
         "FWI": 26.1,
         "ISI": 10,
         "Temperature": 36,
         "_deepnote_index_column": 209,
         "day": 27,
         "month": 8
        },
        {
         "BUI": 30.6,
         "DC": 166,
         "DMC": 37,
         "FFMC": 79.2,
         "FWI": 6.1,
         "ISI": 2.1,
         "Temperature": 35,
         "_deepnote_index_column": 210,
         "day": 28,
         "month": 8
        },
        {
         "BUI": 30.6,
         "DC": 149.2,
         "DMC": 20.7,
         "FFMC": 80.2,
         "FWI": 5.9,
         "ISI": 2.7,
         "Temperature": 35,
         "_deepnote_index_column": 211,
         "day": 29,
         "month": 8
        },
        {
         "BUI": 35.7,
         "DC": 159.1,
         "DMC": 24.8,
         "FFMC": 89.2,
         "FWI": 16,
         "ISI": 8.1,
         "Temperature": 34,
         "_deepnote_index_column": 212,
         "day": 30,
         "month": 8
        },
        {
         "BUI": 39.3,
         "DC": 168.2,
         "DMC": 27.8,
         "FFMC": 89.1,
         "FWI": 19.4,
         "ISI": 9.8,
         "Temperature": 30,
         "_deepnote_index_column": 213,
         "day": 31,
         "month": 8
        },
        {
         "BUI": 1.4,
         "DC": 8.2,
         "DMC": 0.9,
         "FFMC": 37.9,
         "FWI": 0,
         "ISI": 0.1,
         "Temperature": 29,
         "_deepnote_index_column": 214,
         "day": 1,
         "month": 9
        },
        {
         "BUI": 4,
         "DC": 16.3,
         "DMC": 2.9,
         "FFMC": 75.4,
         "FWI": 0.8,
         "ISI": 2,
         "Temperature": 28,
         "_deepnote_index_column": 215,
         "day": 2,
         "month": 9
        },
        {
         "BUI": 6,
         "DC": 24.3,
         "DMC": 4.4,
         "FFMC": 82.2,
         "FWI": 2.5,
         "ISI": 3.3,
         "Temperature": 28,
         "_deepnote_index_column": 216,
         "day": 3,
         "month": 9
        },
        {
         "BUI": 6,
         "DC": 26.6,
         "DMC": 4.1,
         "FFMC": 73.5,
         "FWI": 0.7,
         "ISI": 1.5,
         "Temperature": 30,
         "_deepnote_index_column": 217,
         "day": 4,
         "month": 9
        },
        {
         "BUI": 3.9,
         "DC": 8.4,
         "DMC": 4,
         "FFMC": 66.1,
         "FWI": 0.4,
         "ISI": 1,
         "Temperature": 30,
         "_deepnote_index_column": 218,
         "day": 5,
         "month": 9
        },
        {
         "BUI": 3.5,
         "DC": 9.1,
         "DMC": 3.3,
         "FFMC": 64.5,
         "FWI": 0.4,
         "ISI": 1,
         "Temperature": 34,
         "_deepnote_index_column": 219,
         "day": 6,
         "month": 9
        },
        {
         "BUI": 6.4,
         "DC": 17.7,
         "DMC": 5.8,
         "FFMC": 83.3,
         "FWI": 3.2,
         "ISI": 3.8,
         "Temperature": 31,
         "_deepnote_index_column": 220,
         "day": 7,
         "month": 9
        },
        {
         "BUI": 8.1,
         "DC": 26.1,
         "DMC": 6.6,
         "FFMC": 82.5,
         "FWI": 2.7,
         "ISI": 3,
         "Temperature": 30,
         "_deepnote_index_column": 221,
         "day": 8,
         "month": 9
        },
        {
         "BUI": 10,
         "DC": 34.5,
         "DMC": 7.9,
         "FFMC": 83.1,
         "FWI": 3.7,
         "ISI": 3.5,
         "Temperature": 30,
         "_deepnote_index_column": 222,
         "day": 9,
         "month": 9
        },
        {
         "BUI": 4.6,
         "DC": 8.2,
         "DMC": 4.7,
         "FFMC": 59.5,
         "FWI": 0.3,
         "ISI": 0.8,
         "Temperature": 29,
         "_deepnote_index_column": 223,
         "day": 10,
         "month": 9
        },
        {
         "BUI": 6.6,
         "DC": 16.6,
         "DMC": 6.5,
         "FFMC": 79.2,
         "FWI": 1.2,
         "ISI": 2.1,
         "Temperature": 30,
         "_deepnote_index_column": 224,
         "day": 11,
         "month": 9
        },
        {
         "BUI": 9.1,
         "DC": 25.2,
         "DMC": 8.3,
         "FFMC": 84.2,
         "FWI": 3.9,
         "ISI": 3.8,
         "Temperature": 31,
         "_deepnote_index_column": 225,
         "day": 12,
         "month": 9
        },
        {
         "BUI": 12.4,
         "DC": 33.4,
         "DMC": 11.5,
         "FFMC": 88.6,
         "FWI": 10.3,
         "ISI": 9.1,
         "Temperature": 29,
         "_deepnote_index_column": 226,
         "day": 13,
         "month": 9
        },
        {
         "BUI": 14.3,
         "DC": 41.5,
         "DMC": 12.6,
         "FFMC": 84.6,
         "FWI": 5.7,
         "ISI": 4.3,
         "Temperature": 28,
         "_deepnote_index_column": 227,
         "day": 14,
         "month": 9
        },
        {
         "BUI": 17.8,
         "DC": 50.2,
         "DMC": 16,
         "FFMC": 88.7,
         "FWI": 9.8,
         "ISI": 6.9,
         "Temperature": 32,
         "_deepnote_index_column": 228,
         "day": 15,
         "month": 9
        },
        {
         "BUI": 22.4,
         "DC": 59.2,
         "DMC": 21.2,
         "FFMC": 93.9,
         "FWI": 19.3,
         "ISI": 14.2,
         "Temperature": 33,
         "_deepnote_index_column": 229,
         "day": 16,
         "month": 9
        },
        {
         "BUI": 26.2,
         "DC": 63.3,
         "DMC": 25.2,
         "FFMC": 92.5,
         "FWI": 17.5,
         "ISI": 11.2,
         "Temperature": 34,
         "_deepnote_index_column": 230,
         "day": 17,
         "month": 9
        },
        {
         "BUI": 28.2,
         "DC": 77.8,
         "DMC": 25.8,
         "FFMC": 90.6,
         "FWI": 15.4,
         "ISI": 9,
         "Temperature": 36,
         "_deepnote_index_column": 231,
         "day": 18,
         "month": 9
        },
        {
         "BUI": 28.9,
         "DC": 86,
         "DMC": 24.9,
         "FFMC": 83.9,
         "FWI": 5.6,
         "ISI": 2.7,
         "Temperature": 29,
         "_deepnote_index_column": 232,
         "day": 19,
         "month": 9
        },
        {
         "BUI": 24.4,
         "DC": 88,
         "DMC": 18.7,
         "FFMC": 79.5,
         "FWI": 3.8,
         "ISI": 2.1,
         "Temperature": 34,
         "_deepnote_index_column": 233,
         "day": 20,
         "month": 9
        },
        {
         "BUI": 29.4,
         "DC": 97.3,
         "DMC": 23.6,
         "FFMC": 92.2,
         "FWI": 21.6,
         "ISI": 13.8,
         "Temperature": 35,
         "_deepnote_index_column": 234,
         "day": 21,
         "month": 9
        },
        {
         "BUI": 32.4,
         "DC": 106.3,
         "DMC": 26.1,
         "FFMC": 88.9,
         "FWI": 13.7,
         "ISI": 7.1,
         "Temperature": 33,
         "_deepnote_index_column": 235,
         "day": 22,
         "month": 9
        },
        {
         "BUI": 36,
         "DC": 115.6,
         "DMC": 29.4,
         "FFMC": 89,
         "FWI": 15.2,
         "ISI": 7.5,
         "Temperature": 35,
         "_deepnote_index_column": 236,
         "day": 23,
         "month": 9
        },
        {
         "BUI": 11.9,
         "DC": 28.1,
         "DMC": 11.9,
         "FFMC": 61.3,
         "FWI": 0.4,
         "ISI": 0.6,
         "Temperature": 26,
         "_deepnote_index_column": 237,
         "day": 24,
         "month": 9
        },
        {
         "BUI": 14.1,
         "DC": 36.1,
         "DMC": 13.8,
         "FFMC": 79.9,
         "FWI": 3,
         "ISI": 2.4,
         "Temperature": 28,
         "_deepnote_index_column": 238,
         "day": 25,
         "month": 9
        },
        {
         "BUI": 16.9,
         "DC": 44.5,
         "DMC": 16,
         "FFMC": 85.4,
         "FWI": 6.5,
         "ISI": 4.5,
         "Temperature": 30,
         "_deepnote_index_column": 239,
         "day": 26,
         "month": 9
        },
        {
         "BUI": 6.2,
         "DC": 8,
         "DMC": 6.5,
         "FFMC": 41.1,
         "FWI": 0,
         "ISI": 0.1,
         "Temperature": 28,
         "_deepnote_index_column": 240,
         "day": 27,
         "month": 9
        },
        {
         "BUI": 3.4,
         "DC": 7.9,
         "DMC": 3.5,
         "FFMC": 45.9,
         "FWI": 0.2,
         "ISI": 0.4,
         "Temperature": 27,
         "_deepnote_index_column": 241,
         "day": 28,
         "month": 9
        },
        {
         "BUI": 5.1,
         "DC": 15.2,
         "DMC": 4.3,
         "FFMC": 79.7,
         "FWI": 0.7,
         "ISI": 1.7,
         "Temperature": 24,
         "_deepnote_index_column": 242,
         "day": 29,
         "month": 9
        },
        {
         "BUI": 4.8,
         "DC": 16.5,
         "DMC": 3.8,
         "FFMC": 67.3,
         "FWI": 0.5,
         "ISI": 1.2,
         "Temperature": 24,
         "_deepnote_index_column": 243,
         "day": 30,
         "month": 9
        }
       ],
       "rows_top": [
        {
         "BUI": 3.4,
         "DC": 7.6,
         "DMC": 3.4,
         "FFMC": 65.7,
         "FWI": 0.5,
         "ISI": 1.3,
         "Temperature": 29,
         "_deepnote_index_column": 0,
         "day": 1,
         "month": 6
        },
        {
         "BUI": 3.9,
         "DC": 7.6,
         "DMC": 4.1,
         "FFMC": 64.4,
         "FWI": 0.4,
         "ISI": 1,
         "Temperature": 29,
         "_deepnote_index_column": 1,
         "day": 2,
         "month": 6
        },
        {
         "BUI": 2.7,
         "DC": 7.1,
         "DMC": 2.5,
         "FFMC": 47.1,
         "FWI": 0.1,
         "ISI": 0.3,
         "Temperature": 26,
         "_deepnote_index_column": 2,
         "day": 3,
         "month": 6
        },
        {
         "BUI": 1.7,
         "DC": 6.9,
         "DMC": 1.3,
         "FFMC": 28.6,
         "FWI": 0,
         "ISI": 0,
         "Temperature": 25,
         "_deepnote_index_column": 3,
         "day": 4,
         "month": 6
        },
        {
         "BUI": 3.9,
         "DC": 14.2,
         "DMC": 3,
         "FFMC": 64.8,
         "FWI": 0.5,
         "ISI": 1.2,
         "Temperature": 27,
         "_deepnote_index_column": 4,
         "day": 5,
         "month": 6
        },
        {
         "BUI": 7,
         "DC": 22.2,
         "DMC": 5.8,
         "FFMC": 82.6,
         "FWI": 2.5,
         "ISI": 3.1,
         "Temperature": 31,
         "_deepnote_index_column": 5,
         "day": 6,
         "month": 6
        },
        {
         "BUI": 10.9,
         "DC": 30.5,
         "DMC": 9.9,
         "FFMC": 88.2,
         "FWI": 7.2,
         "ISI": 6.4,
         "Temperature": 33,
         "_deepnote_index_column": 6,
         "day": 7,
         "month": 6
        },
        {
         "BUI": 13.5,
         "DC": 38.3,
         "DMC": 12.1,
         "FFMC": 86.6,
         "FWI": 7.1,
         "ISI": 5.6,
         "Temperature": 30,
         "_deepnote_index_column": 7,
         "day": 8,
         "month": 6
        },
        {
         "BUI": 10.5,
         "DC": 38.8,
         "DMC": 7.9,
         "FFMC": 52.9,
         "FWI": 0.3,
         "ISI": 0.4,
         "Temperature": 25,
         "_deepnote_index_column": 8,
         "day": 9,
         "month": 6
        },
        {
         "BUI": 12.6,
         "DC": 46.3,
         "DMC": 9.5,
         "FFMC": 73.2,
         "FWI": 0.9,
         "ISI": 1.3,
         "Temperature": 28,
         "_deepnote_index_column": 9,
         "day": 10,
         "month": 6
        },
        {
         "BUI": 15.8,
         "DC": 54.3,
         "DMC": 12.5,
         "FFMC": 84.5,
         "FWI": 5.6,
         "ISI": 4,
         "Temperature": 31,
         "_deepnote_index_column": 10,
         "day": 11,
         "month": 6
        },
        {
         "BUI": 17.7,
         "DC": 61.4,
         "DMC": 13.8,
         "FFMC": 84,
         "FWI": 7.1,
         "ISI": 4.8,
         "Temperature": 26,
         "_deepnote_index_column": 11,
         "day": 12,
         "month": 6
        },
        {
         "BUI": 6.7,
         "DC": 17,
         "DMC": 6.7,
         "FFMC": 50,
         "FWI": 0.2,
         "ISI": 0.5,
         "Temperature": 27,
         "_deepnote_index_column": 12,
         "day": 13,
         "month": 6
        },
        {
         "BUI": 4.4,
         "DC": 7.8,
         "DMC": 4.6,
         "FFMC": 59,
         "FWI": 0.4,
         "ISI": 1,
         "Temperature": 30,
         "_deepnote_index_column": 13,
         "day": 14,
         "month": 6
        },
        {
         "BUI": 3,
         "DC": 7.4,
         "DMC": 3,
         "FFMC": 49.4,
         "FWI": 0.1,
         "ISI": 0.4,
         "Temperature": 28,
         "_deepnote_index_column": 14,
         "day": 15,
         "month": 6
        },
        {
         "BUI": 2.2,
         "DC": 7.6,
         "DMC": 1.7,
         "FFMC": 36.1,
         "FWI": 0,
         "ISI": 0,
         "Temperature": 29,
         "_deepnote_index_column": 15,
         "day": 16,
         "month": 6
        },
        {
         "BUI": 1.6,
         "DC": 7.8,
         "DMC": 1.1,
         "FFMC": 37.3,
         "FWI": 0,
         "ISI": 0,
         "Temperature": 30,
         "_deepnote_index_column": 16,
         "day": 17,
         "month": 6
        },
        {
         "BUI": 2.4,
         "DC": 8,
         "DMC": 1.9,
         "FFMC": 56.9,
         "FWI": 0.2,
         "ISI": 0.7,
         "Temperature": 31,
         "_deepnote_index_column": 17,
         "day": 18,
         "month": 6
        },
        {
         "BUI": 5.3,
         "DC": 16,
         "DMC": 4.5,
         "FFMC": 79.9,
         "FWI": 1.4,
         "ISI": 2.5,
         "Temperature": 31,
         "_deepnote_index_column": 18,
         "day": 19,
         "month": 6
        },
        {
         "BUI": 5.1,
         "DC": 27.1,
         "DMC": 3.4,
         "FFMC": 59.8,
         "FWI": 0.4,
         "ISI": 0.9,
         "Temperature": 30,
         "_deepnote_index_column": 19,
         "day": 20,
         "month": 6
        },
        {
         "BUI": 8.4,
         "DC": 31.6,
         "DMC": 6.3,
         "FFMC": 81,
         "FWI": 2.2,
         "ISI": 2.6,
         "Temperature": 30,
         "_deepnote_index_column": 20,
         "day": 21,
         "month": 6
        },
        {
         "BUI": 9.7,
         "DC": 39.5,
         "DMC": 7,
         "FFMC": 79.1,
         "FWI": 2.3,
         "ISI": 2.4,
         "Temperature": 31,
         "_deepnote_index_column": 21,
         "day": 22,
         "month": 6
        },
        {
         "BUI": 11.5,
         "DC": 47.7,
         "DMC": 8.2,
         "FFMC": 81.4,
         "FWI": 3.8,
         "ISI": 3.3,
         "Temperature": 32,
         "_deepnote_index_column": 22,
         "day": 23,
         "month": 6
        },
        {
         "BUI": 14.9,
         "DC": 55.8,
         "DMC": 11.2,
         "FFMC": 85.9,
         "FWI": 7.5,
         "ISI": 5.6,
         "Temperature": 32,
         "_deepnote_index_column": 23,
         "day": 24,
         "month": 6
        },
        {
         "BUI": 18.3,
         "DC": 63.8,
         "DMC": 14.2,
         "FFMC": 86.7,
         "FWI": 8.4,
         "ISI": 5.7,
         "Temperature": 31,
         "_deepnote_index_column": 24,
         "day": 25,
         "month": 6
        },
        {
         "BUI": 21.6,
         "DC": 71.8,
         "DMC": 17.8,
         "FFMC": 86.8,
         "FWI": 10.6,
         "ISI": 6.7,
         "Temperature": 31,
         "_deepnote_index_column": 25,
         "day": 26,
         "month": 6
        },
        {
         "BUI": 25.8,
         "DC": 80.3,
         "DMC": 21.6,
         "FFMC": 89,
         "FWI": 15,
         "ISI": 9.2,
         "Temperature": 34,
         "_deepnote_index_column": 26,
         "day": 27,
         "month": 6
        },
        {
         "BUI": 29.7,
         "DC": 88.5,
         "DMC": 25.5,
         "FFMC": 89.1,
         "FWI": 13.9,
         "ISI": 7.6,
         "Temperature": 32,
         "_deepnote_index_column": 27,
         "day": 28,
         "month": 6
        },
        {
         "BUI": 23.8,
         "DC": 84.4,
         "DMC": 18.4,
         "FFMC": 79.9,
         "FWI": 3.9,
         "ISI": 2.2,
         "Temperature": 32,
         "_deepnote_index_column": 28,
         "day": 29,
         "month": 6
        },
        {
         "BUI": 28.3,
         "DC": 92.8,
         "DMC": 22.9,
         "FFMC": 88.7,
         "FWI": 12.9,
         "ISI": 7.2,
         "Temperature": 33,
         "_deepnote_index_column": 29,
         "day": 30,
         "month": 6
        },
        {
         "BUI": 2.9,
         "DC": 8.6,
         "DMC": 2.5,
         "FFMC": 59.9,
         "FWI": 0.4,
         "ISI": 1.1,
         "Temperature": 29,
         "_deepnote_index_column": 30,
         "day": 1,
         "month": 7
        },
        {
         "BUI": 2.8,
         "DC": 8.3,
         "DMC": 2.4,
         "FFMC": 55.7,
         "FWI": 0.3,
         "ISI": 0.8,
         "Temperature": 27,
         "_deepnote_index_column": 31,
         "day": 2,
         "month": 7
        },
        {
         "BUI": 3,
         "DC": 9.2,
         "DMC": 2.6,
         "FFMC": 63.1,
         "FWI": 0.5,
         "ISI": 1.3,
         "Temperature": 32,
         "_deepnote_index_column": 32,
         "day": 3,
         "month": 7
        },
        {
         "BUI": 5.7,
         "DC": 18.5,
         "DMC": 4.6,
         "FFMC": 80.1,
         "FWI": 1.7,
         "ISI": 2.7,
         "Temperature": 33,
         "_deepnote_index_column": 33,
         "day": 4,
         "month": 7
        },
        {
         "BUI": 9.1,
         "DC": 27.9,
         "DMC": 7.6,
         "FFMC": 85.9,
         "FWI": 4.9,
         "ISI": 4.8,
         "Temperature": 33,
         "_deepnote_index_column": 34,
         "day": 5,
         "month": 7
        },
        {
         "BUI": 12.5,
         "DC": 37,
         "DMC": 10.9,
         "FFMC": 87,
         "FWI": 6.8,
         "ISI": 5.6,
         "Temperature": 32,
         "_deepnote_index_column": 35,
         "day": 6,
         "month": 7
        },
        {
         "BUI": 12.1,
         "DC": 40.4,
         "DMC": 9.7,
         "FFMC": 80,
         "FWI": 3.2,
         "ISI": 2.8,
         "Temperature": 35,
         "_deepnote_index_column": 36,
         "day": 7,
         "month": 7
        },
        {
         "BUI": 15.4,
         "DC": 49.8,
         "DMC": 12.5,
         "FFMC": 85.6,
         "FWI": 8,
         "ISI": 6,
         "Temperature": 33,
         "_deepnote_index_column": 37,
         "day": 8,
         "month": 7
        },
        {
         "BUI": 7.4,
         "DC": 9.2,
         "DMC": 7.7,
         "FFMC": 66.6,
         "FWI": 0.6,
         "ISI": 1.1,
         "Temperature": 32,
         "_deepnote_index_column": 38,
         "day": 9,
         "month": 7
        },
        {
         "BUI": 5.8,
         "DC": 9.3,
         "DMC": 6,
         "FFMC": 66.6,
         "FWI": 0.5,
         "ISI": 1.1,
         "Temperature": 33,
         "_deepnote_index_column": 39,
         "day": 10,
         "month": 7
        },
        {
         "BUI": 8.1,
         "DC": 18.7,
         "DMC": 8.1,
         "FFMC": 81.1,
         "FWI": 2.2,
         "ISI": 2.6,
         "Temperature": 33,
         "_deepnote_index_column": 40,
         "day": 11,
         "month": 7
        },
        {
         "BUI": 9.2,
         "DC": 27.7,
         "DMC": 7.9,
         "FFMC": 75.1,
         "FWI": 0.9,
         "ISI": 1.5,
         "Temperature": 31,
         "_deepnote_index_column": 41,
         "day": 12,
         "month": 7
        },
        {
         "BUI": 11.7,
         "DC": 37.2,
         "DMC": 9.7,
         "FFMC": 81.8,
         "FWI": 3.4,
         "ISI": 3,
         "Temperature": 34,
         "_deepnote_index_column": 42,
         "day": 13,
         "month": 7
        },
        {
         "BUI": 8.4,
         "DC": 22.9,
         "DMC": 7.8,
         "FFMC": 73.9,
         "FWI": 0.8,
         "ISI": 1.4,
         "Temperature": 34,
         "_deepnote_index_column": 43,
         "day": 14,
         "month": 7
        },
        {
         "BUI": 5.9,
         "DC": 17,
         "DMC": 5.2,
         "FFMC": 60.7,
         "FWI": 0.5,
         "ISI": 1.1,
         "Temperature": 30,
         "_deepnote_index_column": 44,
         "day": 15,
         "month": 7
        },
        {
         "BUI": 8.3,
         "DC": 25.5,
         "DMC": 7,
         "FFMC": 72.6,
         "FWI": 0.4,
         "ISI": 0.7,
         "Temperature": 28,
         "_deepnote_index_column": 45,
         "day": 16,
         "month": 7
        },
        {
         "BUI": 11.1,
         "DC": 34.1,
         "DMC": 9.4,
         "FFMC": 82.8,
         "FWI": 3.6,
         "ISI": 3.2,
         "Temperature": 29,
         "_deepnote_index_column": 46,
         "day": 17,
         "month": 7
        },
        {
         "BUI": 14.2,
         "DC": 43.1,
         "DMC": 12.1,
         "FFMC": 85.4,
         "FWI": 6,
         "ISI": 4.6,
         "Temperature": 31,
         "_deepnote_index_column": 47,
         "day": 18,
         "month": 7
        },
        {
         "BUI": 18.2,
         "DC": 52.8,
         "DMC": 12,
         "FFMC": 88.1,
         "FWI": 10.9,
         "ISI": 7.7,
         "Temperature": 35,
         "_deepnote_index_column": 48,
         "day": 19,
         "month": 7
        },
        {
         "BUI": 16.5,
         "DC": 62.1,
         "DMC": 12.3,
         "FFMC": 81.4,
         "FWI": 4,
         "ISI": 2.8,
         "Temperature": 33,
         "_deepnote_index_column": 49,
         "day": 20,
         "month": 7
        },
        {
         "BUI": 22.4,
         "DC": 71.5,
         "DMC": 18.5,
         "FFMC": 85.4,
         "FWI": 8.8,
         "ISI": 5.2,
         "Temperature": 33,
         "_deepnote_index_column": 50,
         "day": 21,
         "month": 7
        },
        {
         "BUI": 21.7,
         "DC": 79.9,
         "DMC": 16.4,
         "FFMC": 73.4,
         "FWI": 2.8,
         "ISI": 1.8,
         "Temperature": 28,
         "_deepnote_index_column": 51,
         "day": 22,
         "month": 7
        },
        {
         "BUI": 15.4,
         "DC": 71.3,
         "DMC": 10.5,
         "FFMC": 68.2,
         "FWI": 2.1,
         "ISI": 1.8,
         "Temperature": 27,
         "_deepnote_index_column": 52,
         "day": 23,
         "month": 7
        },
        {
         "BUI": 14.7,
         "DC": 79.7,
         "DMC": 9.6,
         "FFMC": 70,
         "FWI": 1.3,
         "ISI": 1.4,
         "Temperature": 28,
         "_deepnote_index_column": 53,
         "day": 24,
         "month": 7
        },
        {
         "BUI": 18.5,
         "DC": 88.7,
         "DMC": 12.5,
         "FFMC": 84.3,
         "FWI": 7.3,
         "ISI": 4.8,
         "Temperature": 31,
         "_deepnote_index_column": 54,
         "day": 25,
         "month": 7
        }
       ]
      },
      "text/html": [
       "<div>\n",
       "<style scoped>\n",
       "    .dataframe tbody tr th:only-of-type {\n",
       "        vertical-align: middle;\n",
       "    }\n",
       "\n",
       "    .dataframe tbody tr th {\n",
       "        vertical-align: top;\n",
       "    }\n",
       "\n",
       "    .dataframe thead th {\n",
       "        text-align: right;\n",
       "    }\n",
       "</style>\n",
       "<table border=\"1\" class=\"dataframe\">\n",
       "  <thead>\n",
       "    <tr style=\"text-align: right;\">\n",
       "      <th></th>\n",
       "      <th>day</th>\n",
       "      <th>month</th>\n",
       "      <th>Temperature</th>\n",
       "      <th>FFMC</th>\n",
       "      <th>DMC</th>\n",
       "      <th>DC</th>\n",
       "      <th>ISI</th>\n",
       "      <th>BUI</th>\n",
       "      <th>FWI</th>\n",
       "    </tr>\n",
       "  </thead>\n",
       "  <tbody>\n",
       "    <tr>\n",
       "      <th>0</th>\n",
       "      <td>1</td>\n",
       "      <td>6</td>\n",
       "      <td>29</td>\n",
       "      <td>65.7</td>\n",
       "      <td>3.4</td>\n",
       "      <td>7.6</td>\n",
       "      <td>1.3</td>\n",
       "      <td>3.4</td>\n",
       "      <td>0.5</td>\n",
       "    </tr>\n",
       "    <tr>\n",
       "      <th>1</th>\n",
       "      <td>2</td>\n",
       "      <td>6</td>\n",
       "      <td>29</td>\n",
       "      <td>64.4</td>\n",
       "      <td>4.1</td>\n",
       "      <td>7.6</td>\n",
       "      <td>1.0</td>\n",
       "      <td>3.9</td>\n",
       "      <td>0.4</td>\n",
       "    </tr>\n",
       "    <tr>\n",
       "      <th>2</th>\n",
       "      <td>3</td>\n",
       "      <td>6</td>\n",
       "      <td>26</td>\n",
       "      <td>47.1</td>\n",
       "      <td>2.5</td>\n",
       "      <td>7.1</td>\n",
       "      <td>0.3</td>\n",
       "      <td>2.7</td>\n",
       "      <td>0.1</td>\n",
       "    </tr>\n",
       "    <tr>\n",
       "      <th>3</th>\n",
       "      <td>4</td>\n",
       "      <td>6</td>\n",
       "      <td>25</td>\n",
       "      <td>28.6</td>\n",
       "      <td>1.3</td>\n",
       "      <td>6.9</td>\n",
       "      <td>0.0</td>\n",
       "      <td>1.7</td>\n",
       "      <td>0.0</td>\n",
       "    </tr>\n",
       "    <tr>\n",
       "      <th>4</th>\n",
       "      <td>5</td>\n",
       "      <td>6</td>\n",
       "      <td>27</td>\n",
       "      <td>64.8</td>\n",
       "      <td>3.0</td>\n",
       "      <td>14.2</td>\n",
       "      <td>1.2</td>\n",
       "      <td>3.9</td>\n",
       "      <td>0.5</td>\n",
       "    </tr>\n",
       "    <tr>\n",
       "      <th>...</th>\n",
       "      <td>...</td>\n",
       "      <td>...</td>\n",
       "      <td>...</td>\n",
       "      <td>...</td>\n",
       "      <td>...</td>\n",
       "      <td>...</td>\n",
       "      <td>...</td>\n",
       "      <td>...</td>\n",
       "      <td>...</td>\n",
       "    </tr>\n",
       "    <tr>\n",
       "      <th>239</th>\n",
       "      <td>26</td>\n",
       "      <td>9</td>\n",
       "      <td>30</td>\n",
       "      <td>85.4</td>\n",
       "      <td>16.0</td>\n",
       "      <td>44.5</td>\n",
       "      <td>4.5</td>\n",
       "      <td>16.9</td>\n",
       "      <td>6.5</td>\n",
       "    </tr>\n",
       "    <tr>\n",
       "      <th>240</th>\n",
       "      <td>27</td>\n",
       "      <td>9</td>\n",
       "      <td>28</td>\n",
       "      <td>41.1</td>\n",
       "      <td>6.5</td>\n",
       "      <td>8.0</td>\n",
       "      <td>0.1</td>\n",
       "      <td>6.2</td>\n",
       "      <td>0.0</td>\n",
       "    </tr>\n",
       "    <tr>\n",
       "      <th>241</th>\n",
       "      <td>28</td>\n",
       "      <td>9</td>\n",
       "      <td>27</td>\n",
       "      <td>45.9</td>\n",
       "      <td>3.5</td>\n",
       "      <td>7.9</td>\n",
       "      <td>0.4</td>\n",
       "      <td>3.4</td>\n",
       "      <td>0.2</td>\n",
       "    </tr>\n",
       "    <tr>\n",
       "      <th>242</th>\n",
       "      <td>29</td>\n",
       "      <td>9</td>\n",
       "      <td>24</td>\n",
       "      <td>79.7</td>\n",
       "      <td>4.3</td>\n",
       "      <td>15.2</td>\n",
       "      <td>1.7</td>\n",
       "      <td>5.1</td>\n",
       "      <td>0.7</td>\n",
       "    </tr>\n",
       "    <tr>\n",
       "      <th>243</th>\n",
       "      <td>30</td>\n",
       "      <td>9</td>\n",
       "      <td>24</td>\n",
       "      <td>67.3</td>\n",
       "      <td>3.8</td>\n",
       "      <td>16.5</td>\n",
       "      <td>1.2</td>\n",
       "      <td>4.8</td>\n",
       "      <td>0.5</td>\n",
       "    </tr>\n",
       "  </tbody>\n",
       "</table>\n",
       "<p>243 rows × 9 columns</p>\n",
       "</div>"
      ],
      "text/plain": [
       "     day  month  Temperature  FFMC   DMC    DC  ISI   BUI  FWI\n",
       "0      1      6           29  65.7   3.4   7.6  1.3   3.4  0.5\n",
       "1      2      6           29  64.4   4.1   7.6  1.0   3.9  0.4\n",
       "2      3      6           26  47.1   2.5   7.1  0.3   2.7  0.1\n",
       "3      4      6           25  28.6   1.3   6.9  0.0   1.7  0.0\n",
       "4      5      6           27  64.8   3.0  14.2  1.2   3.9  0.5\n",
       "..   ...    ...          ...   ...   ...   ...  ...   ...  ...\n",
       "239   26      9           30  85.4  16.0  44.5  4.5  16.9  6.5\n",
       "240   27      9           28  41.1   6.5   8.0  0.1   6.2  0.0\n",
       "241   28      9           27  45.9   3.5   7.9  0.4   3.4  0.2\n",
       "242   29      9           24  79.7   4.3  15.2  1.7   5.1  0.7\n",
       "243   30      9           24  67.3   3.8  16.5  1.2   4.8  0.5\n",
       "\n",
       "[243 rows x 9 columns]"
      ]
     },
     "execution_count": 17,
     "metadata": {},
     "output_type": "execute_result"
    }
   ],
   "source": [
    "x = data.drop(['Classes'], axis=1)\n",
    "y = data['Classes']\n",
    "x"
   ]
  },
  {
   "cell_type": "code",
   "execution_count": null,
   "metadata": {
    "cell_id": "00004-16d613de-05e0-4092-b389-436f3807148c",
    "deepnote_cell_type": "code",
    "deepnote_to_be_reexecuted": false,
    "execution_millis": 236,
    "execution_start": 1635758681469,
    "source_hash": "51182435",
    "tags": []
   },
   "outputs": [
    {
     "data": {
      "text/plain": [
       "array([0.        , 0.01852608, 0.        , 0.93496588, 0.00836662,\n",
       "       0.        , 0.03814143, 0.        , 0.        ])"
      ]
     },
     "execution_count": 18,
     "metadata": {},
     "output_type": "execute_result"
    }
   ],
   "source": [
    "from sklearn.tree import DecisionTreeClassifier\n",
    "\n",
    "clf = DecisionTreeClassifier(random_state=1)\n",
    "clf.fit(x, y)\n",
    "clf.feature_importances_"
   ]
  },
  {
   "cell_type": "code",
   "execution_count": null,
   "metadata": {
    "cell_id": "00018-823de85a-482b-4f57-884e-2f825e848074",
    "deepnote_cell_type": "code",
    "deepnote_to_be_reexecuted": false,
    "execution_millis": 11,
    "execution_start": 1635758681656,
    "source_hash": "6c7e717e",
    "tags": []
   },
   "outputs": [],
   "source": [
    "from sklearn.model_selection import train_test_split\n",
    "\n",
    "x_ta, x_te, y_ta, y_te = train_test_split(x[['FFMC']], y, test_size=0.3, random_state=1)"
   ]
  },
  {
   "cell_type": "code",
   "execution_count": null,
   "metadata": {
    "cell_id": "00019-230e0320-1d21-4150-b921-92a150382079",
    "deepnote_cell_type": "code",
    "deepnote_to_be_reexecuted": false,
    "execution_millis": 35,
    "execution_start": 1635758681671,
    "source_hash": "9f87697a",
    "tags": []
   },
   "outputs": [
    {
     "data": {
      "application/vnd.deepnote.dataframe.v2+json": {
       "column_count": 1,
       "columns": [
        {
         "dtype": "float64",
         "name": "FFMC",
         "stats": {
          "histogram": [
           {
            "bin_end": 35.34,
            "bin_start": 28.6,
            "count": 1
           },
           {
            "bin_end": 42.08,
            "bin_start": 35.34,
            "count": 3
           },
           {
            "bin_end": 48.82,
            "bin_start": 42.08,
            "count": 8
           },
           {
            "bin_end": 55.56,
            "bin_start": 48.82,
            "count": 4
           },
           {
            "bin_end": 62.300000000000004,
            "bin_start": 55.56,
            "count": 10
           },
           {
            "bin_end": 69.03999999999999,
            "bin_start": 62.300000000000004,
            "count": 9
           },
           {
            "bin_end": 75.78,
            "bin_start": 69.03999999999999,
            "count": 18
           },
           {
            "bin_end": 82.52000000000001,
            "bin_start": 75.78,
            "count": 30
           },
           {
            "bin_end": 89.26,
            "bin_start": 82.52000000000001,
            "count": 60
           },
           {
            "bin_end": 96,
            "bin_start": 89.26,
            "count": 27
           }
          ],
          "max": "96.0",
          "min": "28.6",
          "nan_count": 0,
          "unique_count": 136
         }
        },
        {
         "dtype": "int64",
         "name": "_deepnote_index_column"
        }
       ],
       "row_count": 170,
       "rows_bottom": null,
       "rows_top": [
        {
         "FFMC": 68.4,
         "_deepnote_index_column": 95
        },
        {
         "FFMC": 85.4,
         "_deepnote_index_column": 59
        },
        {
         "FFMC": 58.5,
         "_deepnote_index_column": 102
        },
        {
         "FFMC": 87.8,
         "_deepnote_index_column": 147
        },
        {
         "FFMC": 59.5,
         "_deepnote_index_column": 223
        },
        {
         "FFMC": 89.4,
         "_deepnote_index_column": 88
        },
        {
         "FFMC": 49.4,
         "_deepnote_index_column": 14
        },
        {
         "FFMC": 82.5,
         "_deepnote_index_column": 221
        },
        {
         "FFMC": 79.1,
         "_deepnote_index_column": 21
        },
        {
         "FFMC": 90.3,
         "_deepnote_index_column": 56
        },
        {
         "FFMC": 91,
         "_deepnote_index_column": 209
        },
        {
         "FFMC": 89.2,
         "_deepnote_index_column": 55
        },
        {
         "FFMC": 73.7,
         "_deepnote_index_column": 114
        },
        {
         "FFMC": 88.9,
         "_deepnote_index_column": 84
        },
        {
         "FFMC": 70,
         "_deepnote_index_column": 53
        },
        {
         "FFMC": 78.1,
         "_deepnote_index_column": 130
        },
        {
         "FFMC": 87.3,
         "_deepnote_index_column": 174
        },
        {
         "FFMC": 88.7,
         "_deepnote_index_column": 228
        },
        {
         "FFMC": 47.4,
         "_deepnote_index_column": 120
        },
        {
         "FFMC": 81.8,
         "_deepnote_index_column": 42
        },
        {
         "FFMC": 56.9,
         "_deepnote_index_column": 17
        },
        {
         "FFMC": 82.6,
         "_deepnote_index_column": 5
        },
        {
         "FFMC": 89.3,
         "_deepnote_index_column": 182
        },
        {
         "FFMC": 72.8,
         "_deepnote_index_column": 175
        },
        {
         "FFMC": 88.1,
         "_deepnote_index_column": 48
        },
        {
         "FFMC": 83.9,
         "_deepnote_index_column": 197
        },
        {
         "FFMC": 86.4,
         "_deepnote_index_column": 66
        },
        {
         "FFMC": 88.9,
         "_deepnote_index_column": 70
        },
        {
         "FFMC": 37.9,
         "_deepnote_index_column": 214
        },
        {
         "FFMC": 87.8,
         "_deepnote_index_column": 112
        },
        {
         "FFMC": 91.9,
         "_deepnote_index_column": 196
        },
        {
         "FFMC": 84.3,
         "_deepnote_index_column": 54
        },
        {
         "FFMC": 79.5,
         "_deepnote_index_column": 233
        },
        {
         "FFMC": 69.6,
         "_deepnote_index_column": 98
        },
        {
         "FFMC": 80,
         "_deepnote_index_column": 178
        },
        {
         "FFMC": 83.7,
         "_deepnote_index_column": 127
        },
        {
         "FFMC": 87.7,
         "_deepnote_index_column": 108
        },
        {
         "FFMC": 85.3,
         "_deepnote_index_column": 145
        },
        {
         "FFMC": 75.8,
         "_deepnote_index_column": 97
        },
        {
         "FFMC": 89.1,
         "_deepnote_index_column": 82
        },
        {
         "FFMC": 55.7,
         "_deepnote_index_column": 123
        },
        {
         "FFMC": 47.4,
         "_deepnote_index_column": 105
        },
        {
         "FFMC": 79.9,
         "_deepnote_index_column": 238
        },
        {
         "FFMC": 42.6,
         "_deepnote_index_column": 94
        },
        {
         "FFMC": 63.7,
         "_deepnote_index_column": 152
        },
        {
         "FFMC": 50,
         "_deepnote_index_column": 12
        },
        {
         "FFMC": 74.8,
         "_deepnote_index_column": 162
        },
        {
         "FFMC": 62.2,
         "_deepnote_index_column": 138
        },
        {
         "FFMC": 83.1,
         "_deepnote_index_column": 222
        },
        {
         "FFMC": 84.6,
         "_deepnote_index_column": 168
        },
        {
         "FFMC": 91.7,
         "_deepnote_index_column": 191
        },
        {
         "FFMC": 96,
         "_deepnote_index_column": 199
        },
        {
         "FFMC": 92.5,
         "_deepnote_index_column": 230
        },
        {
         "FFMC": 88.6,
         "_deepnote_index_column": 81
        },
        {
         "FFMC": 48.7,
         "_deepnote_index_column": 124
        },
        {
         "FFMC": 82.3,
         "_deepnote_index_column": 160
        },
        {
         "FFMC": 77.5,
         "_deepnote_index_column": 161
        },
        {
         "FFMC": 59,
         "_deepnote_index_column": 13
        },
        {
         "FFMC": 75.4,
         "_deepnote_index_column": 215
        },
        {
         "FFMC": 84.5,
         "_deepnote_index_column": 167
        },
        {
         "FFMC": 72.6,
         "_deepnote_index_column": 45
        },
        {
         "FFMC": 80.8,
         "_deepnote_index_column": 159
        },
        {
         "FFMC": 71,
         "_deepnote_index_column": 103
        },
        {
         "FFMC": 80,
         "_deepnote_index_column": 36
        },
        {
         "FFMC": 92,
         "_deepnote_index_column": 198
        },
        {
         "FFMC": 84.6,
         "_deepnote_index_column": 227
        },
        {
         "FFMC": 87.4,
         "_deepnote_index_column": 190
        },
        {
         "FFMC": 92.2,
         "_deepnote_index_column": 234
        },
        {
         "FFMC": 82.4,
         "_deepnote_index_column": 75
        },
        {
         "FFMC": 86.2,
         "_deepnote_index_column": 150
        },
        {
         "FFMC": 80.2,
         "_deepnote_index_column": 211
        },
        {
         "FFMC": 69.7,
         "_deepnote_index_column": 189
        },
        {
         "FFMC": 47.1,
         "_deepnote_index_column": 2
        },
        {
         "FFMC": 88.3,
         "_deepnote_index_column": 187
        },
        {
         "FFMC": 88.2,
         "_deepnote_index_column": 6
        },
        {
         "FFMC": 83.9,
         "_deepnote_index_column": 232
        },
        {
         "FFMC": 89.3,
         "_deepnote_index_column": 192
        },
        {
         "FFMC": 89.3,
         "_deepnote_index_column": 77
        },
        {
         "FFMC": 77.8,
         "_deepnote_index_column": 113
        },
        {
         "FFMC": 86.8,
         "_deepnote_index_column": 65
        },
        {
         "FFMC": 79.7,
         "_deepnote_index_column": 151
        },
        {
         "FFMC": 82.8,
         "_deepnote_index_column": 46
        },
        {
         "FFMC": 87,
         "_deepnote_index_column": 74
        },
        {
         "FFMC": 46,
         "_deepnote_index_column": 92
        },
        {
         "FFMC": 88.1,
         "_deepnote_index_column": 180
        },
        {
         "FFMC": 84.9,
         "_deepnote_index_column": 87
        },
        {
         "FFMC": 78.3,
         "_deepnote_index_column": 143
        },
        {
         "FFMC": 89.9,
         "_deepnote_index_column": 171
        },
        {
         "FFMC": 84.5,
         "_deepnote_index_column": 10
        },
        {
         "FFMC": 63.1,
         "_deepnote_index_column": 32
        },
        {
         "FFMC": 66.8,
         "_deepnote_index_column": 136
        },
        {
         "FFMC": 89.5,
         "_deepnote_index_column": 83
        },
        {
         "FFMC": 88.9,
         "_deepnote_index_column": 235
        },
        {
         "FFMC": 90.5,
         "_deepnote_index_column": 166
        },
        {
         "FFMC": 88,
         "_deepnote_index_column": 155
        },
        {
         "FFMC": 56.1,
         "_deepnote_index_column": 100
        },
        {
         "FFMC": 79.4,
         "_deepnote_index_column": 125
        },
        {
         "FFMC": 85.9,
         "_deepnote_index_column": 23
        },
        {
         "FFMC": 77.1,
         "_deepnote_index_column": 126
        },
        {
         "FFMC": 73.2,
         "_deepnote_index_column": 9
        },
        {
         "FFMC": 92.2,
         "_deepnote_index_column": 208
        },
        {
         "FFMC": 40.9,
         "_deepnote_index_column": 104
        },
        {
         "FFMC": 87.6,
         "_deepnote_index_column": 153
        },
        {
         "FFMC": 70.5,
         "_deepnote_index_column": 188
        },
        {
         "FFMC": 53.4,
         "_deepnote_index_column": 135
        },
        {
         "FFMC": 83.8,
         "_deepnote_index_column": 111
        },
        {
         "FFMC": 93.9,
         "_deepnote_index_column": 229
        },
        {
         "FFMC": 85,
         "_deepnote_index_column": 64
        },
        {
         "FFMC": 36.1,
         "_deepnote_index_column": 15
        },
        {
         "FFMC": 75.1,
         "_deepnote_index_column": 41
        },
        {
         "FFMC": 82.7,
         "_deepnote_index_column": 201
        },
        {
         "FFMC": 89.4,
         "_deepnote_index_column": 109
        },
        {
         "FFMC": 88.3,
         "_deepnote_index_column": 80
        },
        {
         "FFMC": 68.2,
         "_deepnote_index_column": 52
        },
        {
         "FFMC": 89,
         "_deepnote_index_column": 26
        },
        {
         "FFMC": 80.2,
         "_deepnote_index_column": 76
        },
        {
         "FFMC": 73.9,
         "_deepnote_index_column": 43
        },
        {
         "FFMC": 86.7,
         "_deepnote_index_column": 24
        },
        {
         "FFMC": 28.6,
         "_deepnote_index_column": 3
        },
        {
         "FFMC": 92.1,
         "_deepnote_index_column": 207
        },
        {
         "FFMC": 81.4,
         "_deepnote_index_column": 49
        },
        {
         "FFMC": 92.5,
         "_deepnote_index_column": 149
        },
        {
         "FFMC": 89.4,
         "_deepnote_index_column": 131
        },
        {
         "FFMC": 90.6,
         "_deepnote_index_column": 231
        },
        {
         "FFMC": 59.9,
         "_deepnote_index_column": 30
        },
        {
         "FFMC": 45,
         "_deepnote_index_column": 121
        },
        {
         "FFMC": 73.8,
         "_deepnote_index_column": 176
        },
        {
         "FFMC": 68.3,
         "_deepnote_index_column": 115
        },
        {
         "FFMC": 79.2,
         "_deepnote_index_column": 224
        },
        {
         "FFMC": 52.9,
         "_deepnote_index_column": 8
        },
        {
         "FFMC": 87.2,
         "_deepnote_index_column": 60
        },
        {
         "FFMC": 85.6,
         "_deepnote_index_column": 128
        },
        {
         "FFMC": 64.4,
         "_deepnote_index_column": 1
        },
        {
         "FFMC": 86.5,
         "_deepnote_index_column": 57
        },
        {
         "FFMC": 81.4,
         "_deepnote_index_column": 22
        },
        {
         "FFMC": 78.8,
         "_deepnote_index_column": 61
        },
        {
         "FFMC": 76.6,
         "_deepnote_index_column": 63
        },
        {
         "FFMC": 86.6,
         "_deepnote_index_column": 7
        },
        {
         "FFMC": 85.4,
         "_deepnote_index_column": 239
        },
        {
         "FFMC": 60.2,
         "_deepnote_index_column": 141
        },
        {
         "FFMC": 85.8,
         "_deepnote_index_column": 86
        },
        {
         "FFMC": 80.8,
         "_deepnote_index_column": 96
        },
        {
         "FFMC": 73.5,
         "_deepnote_index_column": 217
        },
        {
         "FFMC": 82.2,
         "_deepnote_index_column": 216
        },
        {
         "FFMC": 77.1,
         "_deepnote_index_column": 68
        },
        {
         "FFMC": 85.4,
         "_deepnote_index_column": 50
        },
        {
         "FFMC": 86.2,
         "_deepnote_index_column": 142
        },
        {
         "FFMC": 84.7,
         "_deepnote_index_column": 157
        },
        {
         "FFMC": 90.5,
         "_deepnote_index_column": 156
        },
        {
         "FFMC": 65.5,
         "_deepnote_index_column": 139
        },
        {
         "FFMC": 89.1,
         "_deepnote_index_column": 213
        },
        {
         "FFMC": 86,
         "_deepnote_index_column": 146
        },
        {
         "FFMC": 59.9,
         "_deepnote_index_column": 101
        },
        {
         "FFMC": 81,
         "_deepnote_index_column": 20
        },
        {
         "FFMC": 87.5,
         "_deepnote_index_column": 179
        },
        {
         "FFMC": 86.8,
         "_deepnote_index_column": 25
        },
        {
         "FFMC": 72.3,
         "_deepnote_index_column": 134
        },
        {
         "FFMC": 88.9,
         "_deepnote_index_column": 71
        },
        {
         "FFMC": 91.2,
         "_deepnote_index_column": 205
        },
        {
         "FFMC": 71.4,
         "_deepnote_index_column": 129
        },
        {
         "FFMC": 74.2,
         "_deepnote_index_column": 144
        },
        {
         "FFMC": 94.2,
         "_deepnote_index_column": 193
        },
        {
         "FFMC": 89.4,
         "_deepnote_index_column": 79
        },
        {
         "FFMC": 88.9,
         "_deepnote_index_column": 133
        },
        {
         "FFMC": 89.5,
         "_deepnote_index_column": 204
        },
        {
         "FFMC": 47.4,
         "_deepnote_index_column": 137
        },
        {
         "FFMC": 81.3,
         "_deepnote_index_column": 72
        },
        {
         "FFMC": 64.6,
         "_deepnote_index_column": 140
        },
        {
         "FFMC": 89,
         "_deepnote_index_column": 236
        },
        {
         "FFMC": 85.6,
         "_deepnote_index_column": 37
        }
       ]
      },
      "text/html": [
       "<div>\n",
       "<style scoped>\n",
       "    .dataframe tbody tr th:only-of-type {\n",
       "        vertical-align: middle;\n",
       "    }\n",
       "\n",
       "    .dataframe tbody tr th {\n",
       "        vertical-align: top;\n",
       "    }\n",
       "\n",
       "    .dataframe thead th {\n",
       "        text-align: right;\n",
       "    }\n",
       "</style>\n",
       "<table border=\"1\" class=\"dataframe\">\n",
       "  <thead>\n",
       "    <tr style=\"text-align: right;\">\n",
       "      <th></th>\n",
       "      <th>FFMC</th>\n",
       "    </tr>\n",
       "  </thead>\n",
       "  <tbody>\n",
       "    <tr>\n",
       "      <th>95</th>\n",
       "      <td>68.4</td>\n",
       "    </tr>\n",
       "    <tr>\n",
       "      <th>59</th>\n",
       "      <td>85.4</td>\n",
       "    </tr>\n",
       "    <tr>\n",
       "      <th>102</th>\n",
       "      <td>58.5</td>\n",
       "    </tr>\n",
       "    <tr>\n",
       "      <th>147</th>\n",
       "      <td>87.8</td>\n",
       "    </tr>\n",
       "    <tr>\n",
       "      <th>223</th>\n",
       "      <td>59.5</td>\n",
       "    </tr>\n",
       "    <tr>\n",
       "      <th>...</th>\n",
       "      <td>...</td>\n",
       "    </tr>\n",
       "    <tr>\n",
       "      <th>137</th>\n",
       "      <td>47.4</td>\n",
       "    </tr>\n",
       "    <tr>\n",
       "      <th>72</th>\n",
       "      <td>81.3</td>\n",
       "    </tr>\n",
       "    <tr>\n",
       "      <th>140</th>\n",
       "      <td>64.6</td>\n",
       "    </tr>\n",
       "    <tr>\n",
       "      <th>236</th>\n",
       "      <td>89.0</td>\n",
       "    </tr>\n",
       "    <tr>\n",
       "      <th>37</th>\n",
       "      <td>85.6</td>\n",
       "    </tr>\n",
       "  </tbody>\n",
       "</table>\n",
       "<p>170 rows × 1 columns</p>\n",
       "</div>"
      ],
      "text/plain": [
       "     FFMC\n",
       "95   68.4\n",
       "59   85.4\n",
       "102  58.5\n",
       "147  87.8\n",
       "223  59.5\n",
       "..    ...\n",
       "137  47.4\n",
       "72   81.3\n",
       "140  64.6\n",
       "236  89.0\n",
       "37   85.6\n",
       "\n",
       "[170 rows x 1 columns]"
      ]
     },
     "execution_count": 20,
     "metadata": {},
     "output_type": "execute_result"
    }
   ],
   "source": [
    "x_ta"
   ]
  },
  {
   "cell_type": "code",
   "execution_count": null,
   "metadata": {
    "cell_id": "00019-3561ae4c-2002-49a1-843c-3cc45134d474",
    "deepnote_cell_type": "code",
    "deepnote_to_be_reexecuted": false,
    "execution_millis": 6,
    "execution_start": 1635758681928,
    "source_hash": "2a5ee1a2",
    "tags": []
   },
   "outputs": [
    {
     "data": {
      "text/plain": [
       "DecisionTreeClassifier(random_state=1)"
      ]
     },
     "execution_count": 21,
     "metadata": {},
     "output_type": "execute_result"
    }
   ],
   "source": [
    "clf = DecisionTreeClassifier(random_state=1)\n",
    "clf.fit(x_ta, y_ta)"
   ]
  },
  {
   "cell_type": "code",
   "execution_count": null,
   "metadata": {
    "cell_id": "00021-f37d5307-8c4a-442e-a2f6-e509afe513c5",
    "deepnote_cell_type": "code",
    "deepnote_to_be_reexecuted": false,
    "execution_millis": 14,
    "execution_start": 1635758682409,
    "source_hash": "8ece9234",
    "tags": []
   },
   "outputs": [],
   "source": [
    "from sklearn.metrics import confusion_matrix"
   ]
  },
  {
   "cell_type": "code",
   "execution_count": null,
   "metadata": {
    "cell_id": "00021-ec8f887a-0d53-4eaa-b3da-5467df2252b3",
    "deepnote_cell_type": "code",
    "deepnote_to_be_reexecuted": false,
    "execution_millis": 9,
    "execution_start": 1635758682757,
    "source_hash": "5b45e2a9",
    "tags": []
   },
   "outputs": [
    {
     "data": {
      "text/plain": [
       "array([[98,  0],\n",
       "       [ 0, 72]])"
      ]
     },
     "execution_count": 23,
     "metadata": {},
     "output_type": "execute_result"
    }
   ],
   "source": [
    "y_pred = clf.predict(x_ta)\n",
    "\n",
    "confusion_matrix(y_ta, y_pred)"
   ]
  },
  {
   "cell_type": "code",
   "execution_count": null,
   "metadata": {
    "cell_id": "00022-f24812f3-c0ec-43ba-87f4-8b9b95bea585",
    "deepnote_cell_type": "code",
    "deepnote_to_be_reexecuted": false,
    "execution_millis": 35,
    "execution_start": 1635758701634,
    "source_hash": "81a6f70f",
    "tags": []
   },
   "outputs": [
    {
     "data": {
      "text/plain": [
       "array([[39,  0],\n",
       "       [ 1, 33]])"
      ]
     },
     "execution_count": 24,
     "metadata": {},
     "output_type": "execute_result"
    }
   ],
   "source": [
    "y_pred = clf.predict(x_te)\n",
    "\n",
    "confusion_matrix(y_te, y_pred)"
   ]
  },
  {
   "cell_type": "code",
   "execution_count": null,
   "metadata": {
    "cell_id": "00025-0625720f-f01e-4278-926a-9e4207f95de4",
    "deepnote_cell_type": "code",
    "tags": []
   },
   "outputs": [],
   "source": []
  },
  {
   "cell_type": "markdown",
   "metadata": {
    "created_in_deepnote_cell": true,
    "deepnote_cell_type": "markdown",
    "tags": []
   },
   "source": [
    "<a style='text-decoration:none;line-height:16px;display:flex;color:#5B5B62;padding:10px;justify-content:end;' href='https://deepnote.com?utm_source=created-in-deepnote-cell&projectId=a5ba1956-2aa0-49ed-9952-f1c7a30328f2' target=\"_blank\">\n",
    "<img alt='Created in deepnote.com' style='display:inline;max-height:16px;margin:0px;margin-right:7.5px;' src='data:image/svg+xml;base64,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' > </img>\n",
    "Created in <span style='font-weight:600;margin-left:4px;'>Deepnote</span></a>"
   ]
  }
 ],
 "metadata": {
  "deepnote": {
   "is_reactive": false
  },
  "deepnote_execution_queue": [],
  "deepnote_notebook_id": "e86103ee-dc44-4ddc-89fd-f62a7fb37e0c",
  "kernelspec": {
   "display_name": "Python 3.9.5 ('base')",
   "language": "python",
   "name": "python3"
  },
  "language_info": {
   "name": "python",
   "version": "3.9.5"
  },
  "orig_nbformat": 2,
  "vscode": {
   "interpreter": {
    "hash": "9cd87bd5d8db12eeb5155f632ffa69c8689482c50dc7d42009e720cebbcd08d3"
   }
  }
 },
 "nbformat": 4,
 "nbformat_minor": 2
}
