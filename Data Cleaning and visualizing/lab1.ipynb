{
 "cells": [
  {
   "cell_type": "markdown",
   "metadata": {
    "cell_id": "00000-19529e6a-f479-4c70-8607-a201e95df553",
    "deepnote_cell_type": "markdown",
    "tags": []
   },
   "source": [
    "# Data Clearning and Visualization"
   ]
  },
  {
   "cell_type": "code",
   "execution_count": null,
   "metadata": {
    "cell_id": "00000-f038ac43-9bd0-4a7b-b49b-6930b26c0f02",
    "deepnote_cell_type": "code",
    "deepnote_to_be_reexecuted": false,
    "execution_millis": 5,
    "execution_start": 1631381733243,
    "source_hash": "3ee88b63",
    "tags": []
   },
   "outputs": [],
   "source": [
    "import pandas as pd\n",
    "import numpy as np\n",
    "import sklearn"
   ]
  },
  {
   "cell_type": "code",
   "execution_count": null,
   "metadata": {
    "cell_id": "00001-8e122ca5-8328-46b9-be53-da2d52a3f265",
    "deepnote_cell_type": "code",
    "deepnote_to_be_reexecuted": false,
    "execution_millis": 7,
    "execution_start": 1631381734153,
    "source_hash": "9a4f45ed",
    "tags": []
   },
   "outputs": [],
   "source": [
    "import os\n",
    "\n",
    "PRO_DIR = os.path.join('/','work', 'Labs', 'lab1')\n",
    "\n",
    "if not os.path.isdir(PRO_DIR):\n",
    "    os.makedirs(PRO_DIR)\n",
    "\n",
    "os.chdir(PRO_DIR)\n",
    "\n",
    "DATA_DIR = os.path.join(PRO_DIR, 'dataset')\n",
    "if not os.path.isdir(DATA_DIR):\n",
    "    os.makedirs(DATA_DIR)"
   ]
  },
  {
   "cell_type": "code",
   "execution_count": null,
   "metadata": {
    "cell_id": "00002-fbf926ce-7568-4f13-9699-8efb80a65389",
    "deepnote_cell_type": "code",
    "deepnote_to_be_reexecuted": false,
    "execution_millis": 3,
    "execution_start": 1631381734904,
    "source_hash": "2717deb8",
    "tags": []
   },
   "outputs": [],
   "source": [
    "DATA_CSV = os.path.join(DATA_DIR, 'data.csv')"
   ]
  },
  {
   "cell_type": "code",
   "execution_count": null,
   "metadata": {
    "cell_id": "00001-0e53afd0-28d9-4cd6-a203-756db4023c55",
    "deepnote_cell_type": "code",
    "deepnote_to_be_reexecuted": false,
    "execution_millis": 2,
    "execution_start": 1631381735502,
    "source_hash": "edcd038c",
    "tags": []
   },
   "outputs": [],
   "source": [
    "LINK = 'https://raw.githubusercontent.com/tarunlnmiit/machine_learning/master/DataPreprocessing.csv'"
   ]
  },
  {
   "cell_type": "code",
   "execution_count": null,
   "metadata": {
    "cell_id": "00002-521514a3-d1af-47b8-b42c-3eb8bd9621ba",
    "deepnote_cell_type": "code",
    "deepnote_to_be_reexecuted": false,
    "execution_millis": 116,
    "execution_start": 1631381738355,
    "source_hash": "c8b03277",
    "tags": []
   },
   "outputs": [
    {
     "data": {
      "text/plain": [
       "('/work/Labs/lab1/dataset/data.csv',\n",
       " <http.client.HTTPMessage at 0x7f346c4e8c50>)"
      ]
     },
     "execution_count": 7,
     "metadata": {},
     "output_type": "execute_result"
    }
   ],
   "source": [
    "import urllib\n",
    "urllib.request.urlretrieve(LINK, DATA_CSV)"
   ]
  },
  {
   "cell_type": "code",
   "execution_count": null,
   "metadata": {
    "cell_id": "00004-7970d650-28f4-4c36-9dff-5c037cd52b13",
    "deepnote_cell_type": "code",
    "deepnote_to_be_reexecuted": false,
    "execution_millis": 51,
    "execution_start": 1631381744146,
    "source_hash": "64f2cc23",
    "tags": []
   },
   "outputs": [
    {
     "data": {
      "application/vnd.deepnote.dataframe.v2+json": {
       "column_count": 4,
       "columns": [
        {
         "dtype": "object",
         "name": "Region",
         "stats": {
          "categories": [
           {
            "count": 4,
            "name": "India"
           },
           {
            "count": 3,
            "name": "Brazil"
           },
           {
            "count": 3,
            "name": "USA"
           }
          ],
          "nan_count": 0,
          "unique_count": 3
         }
        },
        {
         "dtype": "float64",
         "name": "Age",
         "stats": {
          "histogram": [
           {
            "bin_end": 34.3,
            "bin_start": 32,
            "count": 1
           },
           {
            "bin_end": 36.6,
            "bin_start": 34.3,
            "count": 1
           },
           {
            "bin_end": 38.9,
            "bin_start": 36.6,
            "count": 0
           },
           {
            "bin_end": 41.2,
            "bin_start": 38.9,
            "count": 1
           },
           {
            "bin_end": 43.5,
            "bin_start": 41.2,
            "count": 2
           },
           {
            "bin_end": 45.8,
            "bin_start": 43.5,
            "count": 1
           },
           {
            "bin_end": 48.099999999999994,
            "bin_start": 45.8,
            "count": 0
           },
           {
            "bin_end": 50.4,
            "bin_start": 48.099999999999994,
            "count": 1
           },
           {
            "bin_end": 52.7,
            "bin_start": 50.4,
            "count": 0
           },
           {
            "bin_end": 55,
            "bin_start": 52.7,
            "count": 2
           }
          ],
          "max": "55.0",
          "min": "32.0",
          "nan_count": 1,
          "unique_count": 9
         }
        },
        {
         "dtype": "float64",
         "name": "Income",
         "stats": {
          "histogram": [
           {
            "bin_end": 61800,
            "bin_start": 57600,
            "count": 1
           },
           {
            "bin_end": 66000,
            "bin_start": 61800,
            "count": 2
           },
           {
            "bin_end": 70200,
            "bin_start": 66000,
            "count": 1
           },
           {
            "bin_end": 74400,
            "bin_start": 70200,
            "count": 1
           },
           {
            "bin_end": 78600,
            "bin_start": 74400,
            "count": 0
           },
           {
            "bin_end": 82800,
            "bin_start": 78600,
            "count": 1
           },
           {
            "bin_end": 87000,
            "bin_start": 82800,
            "count": 1
           },
           {
            "bin_end": 91200,
            "bin_start": 87000,
            "count": 0
           },
           {
            "bin_end": 95400,
            "bin_start": 91200,
            "count": 1
           },
           {
            "bin_end": 99600,
            "bin_start": 95400,
            "count": 1
           }
          ],
          "max": "99600.0",
          "min": "57600.0",
          "nan_count": 1,
          "unique_count": 9
         }
        },
        {
         "dtype": "object",
         "name": "Online Shopper",
         "stats": {
          "categories": [
           {
            "count": 5,
            "name": "No"
           },
           {
            "count": 5,
            "name": "Yes"
           }
          ],
          "nan_count": 0,
          "unique_count": 2
         }
        },
        {
         "dtype": "int64",
         "name": "_deepnote_index_column"
        }
       ],
       "row_count": 10,
       "rows_bottom": null,
       "rows_top": [
        {
         "Age": 49,
         "Income": 86400,
         "Online Shopper": "No",
         "Region": "India",
         "_deepnote_index_column": 0
        },
        {
         "Age": 32,
         "Income": 57600,
         "Online Shopper": "Yes",
         "Region": "Brazil",
         "_deepnote_index_column": 1
        },
        {
         "Age": 35,
         "Income": 64800,
         "Online Shopper": "No",
         "Region": "USA",
         "_deepnote_index_column": 2
        },
        {
         "Age": 43,
         "Income": 73200,
         "Online Shopper": "No",
         "Region": "Brazil",
         "_deepnote_index_column": 3
        },
        {
         "Age": 45,
         "Income": "nan",
         "Online Shopper": "Yes",
         "Region": "USA",
         "_deepnote_index_column": 4
        },
        {
         "Age": 40,
         "Income": 69600,
         "Online Shopper": "Yes",
         "Region": "India",
         "_deepnote_index_column": 5
        },
        {
         "Age": "nan",
         "Income": 62400,
         "Online Shopper": "No",
         "Region": "Brazil",
         "_deepnote_index_column": 6
        },
        {
         "Age": 53,
         "Income": 94800,
         "Online Shopper": "Yes",
         "Region": "India",
         "_deepnote_index_column": 7
        },
        {
         "Age": 55,
         "Income": 99600,
         "Online Shopper": "No",
         "Region": "USA",
         "_deepnote_index_column": 8
        },
        {
         "Age": 42,
         "Income": 80400,
         "Online Shopper": "Yes",
         "Region": "India",
         "_deepnote_index_column": 9
        }
       ]
      },
      "text/html": [
       "<div>\n",
       "<style scoped>\n",
       "    .dataframe tbody tr th:only-of-type {\n",
       "        vertical-align: middle;\n",
       "    }\n",
       "\n",
       "    .dataframe tbody tr th {\n",
       "        vertical-align: top;\n",
       "    }\n",
       "\n",
       "    .dataframe thead th {\n",
       "        text-align: right;\n",
       "    }\n",
       "</style>\n",
       "<table border=\"1\" class=\"dataframe\">\n",
       "  <thead>\n",
       "    <tr style=\"text-align: right;\">\n",
       "      <th></th>\n",
       "      <th>Region</th>\n",
       "      <th>Age</th>\n",
       "      <th>Income</th>\n",
       "      <th>Online Shopper</th>\n",
       "    </tr>\n",
       "  </thead>\n",
       "  <tbody>\n",
       "    <tr>\n",
       "      <th>0</th>\n",
       "      <td>India</td>\n",
       "      <td>49.0</td>\n",
       "      <td>86400.0</td>\n",
       "      <td>No</td>\n",
       "    </tr>\n",
       "    <tr>\n",
       "      <th>1</th>\n",
       "      <td>Brazil</td>\n",
       "      <td>32.0</td>\n",
       "      <td>57600.0</td>\n",
       "      <td>Yes</td>\n",
       "    </tr>\n",
       "    <tr>\n",
       "      <th>2</th>\n",
       "      <td>USA</td>\n",
       "      <td>35.0</td>\n",
       "      <td>64800.0</td>\n",
       "      <td>No</td>\n",
       "    </tr>\n",
       "    <tr>\n",
       "      <th>3</th>\n",
       "      <td>Brazil</td>\n",
       "      <td>43.0</td>\n",
       "      <td>73200.0</td>\n",
       "      <td>No</td>\n",
       "    </tr>\n",
       "    <tr>\n",
       "      <th>4</th>\n",
       "      <td>USA</td>\n",
       "      <td>45.0</td>\n",
       "      <td>NaN</td>\n",
       "      <td>Yes</td>\n",
       "    </tr>\n",
       "    <tr>\n",
       "      <th>5</th>\n",
       "      <td>India</td>\n",
       "      <td>40.0</td>\n",
       "      <td>69600.0</td>\n",
       "      <td>Yes</td>\n",
       "    </tr>\n",
       "    <tr>\n",
       "      <th>6</th>\n",
       "      <td>Brazil</td>\n",
       "      <td>NaN</td>\n",
       "      <td>62400.0</td>\n",
       "      <td>No</td>\n",
       "    </tr>\n",
       "    <tr>\n",
       "      <th>7</th>\n",
       "      <td>India</td>\n",
       "      <td>53.0</td>\n",
       "      <td>94800.0</td>\n",
       "      <td>Yes</td>\n",
       "    </tr>\n",
       "    <tr>\n",
       "      <th>8</th>\n",
       "      <td>USA</td>\n",
       "      <td>55.0</td>\n",
       "      <td>99600.0</td>\n",
       "      <td>No</td>\n",
       "    </tr>\n",
       "    <tr>\n",
       "      <th>9</th>\n",
       "      <td>India</td>\n",
       "      <td>42.0</td>\n",
       "      <td>80400.0</td>\n",
       "      <td>Yes</td>\n",
       "    </tr>\n",
       "  </tbody>\n",
       "</table>\n",
       "</div>"
      ],
      "text/plain": [
       "   Region   Age   Income Online Shopper\n",
       "0   India  49.0  86400.0             No\n",
       "1  Brazil  32.0  57600.0            Yes\n",
       "2     USA  35.0  64800.0             No\n",
       "3  Brazil  43.0  73200.0             No\n",
       "4     USA  45.0      NaN            Yes\n",
       "5   India  40.0  69600.0            Yes\n",
       "6  Brazil   NaN  62400.0             No\n",
       "7   India  53.0  94800.0            Yes\n",
       "8     USA  55.0  99600.0             No\n",
       "9   India  42.0  80400.0            Yes"
      ]
     },
     "execution_count": 8,
     "metadata": {},
     "output_type": "execute_result"
    }
   ],
   "source": [
    "data = pd.read_csv(DATA_CSV)\n",
    "data"
   ]
  },
  {
   "cell_type": "code",
   "execution_count": null,
   "metadata": {
    "cell_id": "00006-8510dbca-0da2-4d4d-9c33-611ccccce2e3",
    "deepnote_cell_type": "code",
    "deepnote_to_be_reexecuted": false,
    "execution_millis": 6,
    "execution_start": 1631381746181,
    "source_hash": "c8a8c27a",
    "tags": []
   },
   "outputs": [
    {
     "data": {
      "text/plain": [
       "Index(['Region', 'Age', 'Income', 'Online Shopper'], dtype='object')"
      ]
     },
     "execution_count": 9,
     "metadata": {},
     "output_type": "execute_result"
    }
   ],
   "source": [
    "data.columns"
   ]
  },
  {
   "cell_type": "code",
   "execution_count": null,
   "metadata": {
    "cell_id": "00004-6b939628-b5bd-4e6a-a4a3-9d3aeaad74aa",
    "deepnote_cell_type": "code",
    "deepnote_to_be_reexecuted": false,
    "execution_millis": 166,
    "execution_start": 1631381746594,
    "source_hash": "aca7b51",
    "tags": []
   },
   "outputs": [],
   "source": [
    "from sklearn.impute import SimpleImputer\n",
    "\n",
    "imp = SimpleImputer(missing_values=np.nan, strategy='most_frequent')"
   ]
  },
  {
   "cell_type": "code",
   "execution_count": null,
   "metadata": {
    "cell_id": "00005-bffced60-fd53-4dab-8e9b-ac7ce3b829a0",
    "deepnote_cell_type": "code",
    "deepnote_to_be_reexecuted": false,
    "execution_millis": 3,
    "execution_start": 1631381747388,
    "source_hash": "62bf0406",
    "tags": []
   },
   "outputs": [],
   "source": [
    "data2 = data.copy()\n",
    "\n",
    "data2 = imp.fit_transform(data2, )\n",
    "data2 = pd.DataFrame(data2, columns=['Region', 'Age', 'Income', 'Online Shopper'])"
   ]
  },
  {
   "cell_type": "code",
   "execution_count": null,
   "metadata": {
    "cell_id": "00008-e4e1768a-8927-4ceb-abed-ad467934dc41",
    "deepnote_cell_type": "code",
    "deepnote_to_be_reexecuted": false,
    "execution_millis": 6,
    "execution_start": 1631381747819,
    "source_hash": "258b1279",
    "tags": []
   },
   "outputs": [
    {
     "data": {
      "application/vnd.deepnote.dataframe.v2+json": {
       "column_count": 4,
       "columns": [
        {
         "dtype": "object",
         "name": "Region",
         "stats": {
          "categories": [
           {
            "count": 4,
            "name": "India"
           },
           {
            "count": 3,
            "name": "Brazil"
           },
           {
            "count": 3,
            "name": "USA"
           }
          ],
          "nan_count": 0,
          "unique_count": 3
         }
        },
        {
         "dtype": "object",
         "name": "Age",
         "stats": {
          "categories": [
           {
            "count": 2,
            "name": "32.0"
           },
           {
            "count": 1,
            "name": "49.0"
           },
           {
            "count": 7,
            "name": "7 others"
           }
          ],
          "nan_count": 0,
          "unique_count": 9
         }
        },
        {
         "dtype": "object",
         "name": "Income",
         "stats": {
          "categories": [
           {
            "count": 2,
            "name": "57600.0"
           },
           {
            "count": 1,
            "name": "86400.0"
           },
           {
            "count": 7,
            "name": "7 others"
           }
          ],
          "nan_count": 0,
          "unique_count": 9
         }
        },
        {
         "dtype": "object",
         "name": "Online Shopper",
         "stats": {
          "categories": [
           {
            "count": 5,
            "name": "No"
           },
           {
            "count": 5,
            "name": "Yes"
           }
          ],
          "nan_count": 0,
          "unique_count": 2
         }
        },
        {
         "dtype": "int64",
         "name": "_deepnote_index_column"
        }
       ],
       "row_count": 10,
       "rows_bottom": null,
       "rows_top": [
        {
         "Age": "49.0",
         "Income": "86400.0",
         "Online Shopper": "No",
         "Region": "India",
         "_deepnote_index_column": 0
        },
        {
         "Age": "32.0",
         "Income": "57600.0",
         "Online Shopper": "Yes",
         "Region": "Brazil",
         "_deepnote_index_column": 1
        },
        {
         "Age": "35.0",
         "Income": "64800.0",
         "Online Shopper": "No",
         "Region": "USA",
         "_deepnote_index_column": 2
        },
        {
         "Age": "43.0",
         "Income": "73200.0",
         "Online Shopper": "No",
         "Region": "Brazil",
         "_deepnote_index_column": 3
        },
        {
         "Age": "45.0",
         "Income": "57600.0",
         "Online Shopper": "Yes",
         "Region": "USA",
         "_deepnote_index_column": 4
        },
        {
         "Age": "40.0",
         "Income": "69600.0",
         "Online Shopper": "Yes",
         "Region": "India",
         "_deepnote_index_column": 5
        },
        {
         "Age": "32.0",
         "Income": "62400.0",
         "Online Shopper": "No",
         "Region": "Brazil",
         "_deepnote_index_column": 6
        },
        {
         "Age": "53.0",
         "Income": "94800.0",
         "Online Shopper": "Yes",
         "Region": "India",
         "_deepnote_index_column": 7
        },
        {
         "Age": "55.0",
         "Income": "99600.0",
         "Online Shopper": "No",
         "Region": "USA",
         "_deepnote_index_column": 8
        },
        {
         "Age": "42.0",
         "Income": "80400.0",
         "Online Shopper": "Yes",
         "Region": "India",
         "_deepnote_index_column": 9
        }
       ]
      },
      "text/html": [
       "<div>\n",
       "<style scoped>\n",
       "    .dataframe tbody tr th:only-of-type {\n",
       "        vertical-align: middle;\n",
       "    }\n",
       "\n",
       "    .dataframe tbody tr th {\n",
       "        vertical-align: top;\n",
       "    }\n",
       "\n",
       "    .dataframe thead th {\n",
       "        text-align: right;\n",
       "    }\n",
       "</style>\n",
       "<table border=\"1\" class=\"dataframe\">\n",
       "  <thead>\n",
       "    <tr style=\"text-align: right;\">\n",
       "      <th></th>\n",
       "      <th>Region</th>\n",
       "      <th>Age</th>\n",
       "      <th>Income</th>\n",
       "      <th>Online Shopper</th>\n",
       "    </tr>\n",
       "  </thead>\n",
       "  <tbody>\n",
       "    <tr>\n",
       "      <th>0</th>\n",
       "      <td>India</td>\n",
       "      <td>49.0</td>\n",
       "      <td>86400.0</td>\n",
       "      <td>No</td>\n",
       "    </tr>\n",
       "    <tr>\n",
       "      <th>1</th>\n",
       "      <td>Brazil</td>\n",
       "      <td>32.0</td>\n",
       "      <td>57600.0</td>\n",
       "      <td>Yes</td>\n",
       "    </tr>\n",
       "    <tr>\n",
       "      <th>2</th>\n",
       "      <td>USA</td>\n",
       "      <td>35.0</td>\n",
       "      <td>64800.0</td>\n",
       "      <td>No</td>\n",
       "    </tr>\n",
       "    <tr>\n",
       "      <th>3</th>\n",
       "      <td>Brazil</td>\n",
       "      <td>43.0</td>\n",
       "      <td>73200.0</td>\n",
       "      <td>No</td>\n",
       "    </tr>\n",
       "    <tr>\n",
       "      <th>4</th>\n",
       "      <td>USA</td>\n",
       "      <td>45.0</td>\n",
       "      <td>57600.0</td>\n",
       "      <td>Yes</td>\n",
       "    </tr>\n",
       "    <tr>\n",
       "      <th>5</th>\n",
       "      <td>India</td>\n",
       "      <td>40.0</td>\n",
       "      <td>69600.0</td>\n",
       "      <td>Yes</td>\n",
       "    </tr>\n",
       "    <tr>\n",
       "      <th>6</th>\n",
       "      <td>Brazil</td>\n",
       "      <td>32.0</td>\n",
       "      <td>62400.0</td>\n",
       "      <td>No</td>\n",
       "    </tr>\n",
       "    <tr>\n",
       "      <th>7</th>\n",
       "      <td>India</td>\n",
       "      <td>53.0</td>\n",
       "      <td>94800.0</td>\n",
       "      <td>Yes</td>\n",
       "    </tr>\n",
       "    <tr>\n",
       "      <th>8</th>\n",
       "      <td>USA</td>\n",
       "      <td>55.0</td>\n",
       "      <td>99600.0</td>\n",
       "      <td>No</td>\n",
       "    </tr>\n",
       "    <tr>\n",
       "      <th>9</th>\n",
       "      <td>India</td>\n",
       "      <td>42.0</td>\n",
       "      <td>80400.0</td>\n",
       "      <td>Yes</td>\n",
       "    </tr>\n",
       "  </tbody>\n",
       "</table>\n",
       "</div>"
      ],
      "text/plain": [
       "   Region   Age   Income Online Shopper\n",
       "0   India  49.0  86400.0             No\n",
       "1  Brazil  32.0  57600.0            Yes\n",
       "2     USA  35.0  64800.0             No\n",
       "3  Brazil  43.0  73200.0             No\n",
       "4     USA  45.0  57600.0            Yes\n",
       "5   India  40.0  69600.0            Yes\n",
       "6  Brazil  32.0  62400.0             No\n",
       "7   India  53.0  94800.0            Yes\n",
       "8     USA  55.0  99600.0             No\n",
       "9   India  42.0  80400.0            Yes"
      ]
     },
     "execution_count": 12,
     "metadata": {},
     "output_type": "execute_result"
    }
   ],
   "source": [
    "data2"
   ]
  },
  {
   "cell_type": "code",
   "execution_count": null,
   "metadata": {
    "cell_id": "00008-8ba539dc-93e3-45b8-83f8-c45ce4601c42",
    "deepnote_cell_type": "code",
    "deepnote_to_be_reexecuted": false,
    "execution_millis": 2,
    "execution_start": 1631381749263,
    "source_hash": "19b3073d",
    "tags": []
   },
   "outputs": [],
   "source": [
    "from sklearn.preprocessing import LabelEncoder\n",
    "\n",
    "data2 = data.copy()"
   ]
  },
  {
   "cell_type": "code",
   "execution_count": null,
   "metadata": {
    "cell_id": "00010-e6b8c579-5e46-4fca-bc0a-adf066e84dd6",
    "deepnote_cell_type": "code",
    "deepnote_to_be_reexecuted": false,
    "execution_millis": 7,
    "execution_start": 1631381749712,
    "source_hash": "cfcf6ffe",
    "tags": []
   },
   "outputs": [
    {
     "data": {
      "application/vnd.deepnote.dataframe.v2+json": {
       "column_count": 4,
       "columns": [
        {
         "dtype": "object",
         "name": "Region",
         "stats": {
          "categories": [
           {
            "count": 4,
            "name": "India"
           },
           {
            "count": 3,
            "name": "Brazil"
           },
           {
            "count": 3,
            "name": "USA"
           }
          ],
          "nan_count": 0,
          "unique_count": 3
         }
        },
        {
         "dtype": "float64",
         "name": "Age",
         "stats": {
          "histogram": [
           {
            "bin_end": 34.3,
            "bin_start": 32,
            "count": 1
           },
           {
            "bin_end": 36.6,
            "bin_start": 34.3,
            "count": 1
           },
           {
            "bin_end": 38.9,
            "bin_start": 36.6,
            "count": 0
           },
           {
            "bin_end": 41.2,
            "bin_start": 38.9,
            "count": 1
           },
           {
            "bin_end": 43.5,
            "bin_start": 41.2,
            "count": 2
           },
           {
            "bin_end": 45.8,
            "bin_start": 43.5,
            "count": 1
           },
           {
            "bin_end": 48.099999999999994,
            "bin_start": 45.8,
            "count": 0
           },
           {
            "bin_end": 50.4,
            "bin_start": 48.099999999999994,
            "count": 1
           },
           {
            "bin_end": 52.7,
            "bin_start": 50.4,
            "count": 0
           },
           {
            "bin_end": 55,
            "bin_start": 52.7,
            "count": 2
           }
          ],
          "max": "55.0",
          "min": "32.0",
          "nan_count": 1,
          "unique_count": 9
         }
        },
        {
         "dtype": "float64",
         "name": "Income",
         "stats": {
          "histogram": [
           {
            "bin_end": 61800,
            "bin_start": 57600,
            "count": 1
           },
           {
            "bin_end": 66000,
            "bin_start": 61800,
            "count": 2
           },
           {
            "bin_end": 70200,
            "bin_start": 66000,
            "count": 1
           },
           {
            "bin_end": 74400,
            "bin_start": 70200,
            "count": 1
           },
           {
            "bin_end": 78600,
            "bin_start": 74400,
            "count": 0
           },
           {
            "bin_end": 82800,
            "bin_start": 78600,
            "count": 1
           },
           {
            "bin_end": 87000,
            "bin_start": 82800,
            "count": 1
           },
           {
            "bin_end": 91200,
            "bin_start": 87000,
            "count": 0
           },
           {
            "bin_end": 95400,
            "bin_start": 91200,
            "count": 1
           },
           {
            "bin_end": 99600,
            "bin_start": 95400,
            "count": 1
           }
          ],
          "max": "99600.0",
          "min": "57600.0",
          "nan_count": 1,
          "unique_count": 9
         }
        },
        {
         "dtype": "int64",
         "name": "Online Shopper",
         "stats": {
          "histogram": [
           {
            "bin_end": 0.1,
            "bin_start": 0,
            "count": 5
           },
           {
            "bin_end": 0.2,
            "bin_start": 0.1,
            "count": 0
           },
           {
            "bin_end": 0.30000000000000004,
            "bin_start": 0.2,
            "count": 0
           },
           {
            "bin_end": 0.4,
            "bin_start": 0.30000000000000004,
            "count": 0
           },
           {
            "bin_end": 0.5,
            "bin_start": 0.4,
            "count": 0
           },
           {
            "bin_end": 0.6000000000000001,
            "bin_start": 0.5,
            "count": 0
           },
           {
            "bin_end": 0.7000000000000001,
            "bin_start": 0.6000000000000001,
            "count": 0
           },
           {
            "bin_end": 0.8,
            "bin_start": 0.7000000000000001,
            "count": 0
           },
           {
            "bin_end": 0.9,
            "bin_start": 0.8,
            "count": 0
           },
           {
            "bin_end": 1,
            "bin_start": 0.9,
            "count": 5
           }
          ],
          "max": "1",
          "min": "0",
          "nan_count": 0,
          "unique_count": 2
         }
        },
        {
         "dtype": "int64",
         "name": "_deepnote_index_column"
        }
       ],
       "row_count": 10,
       "rows_bottom": null,
       "rows_top": [
        {
         "Age": 49,
         "Income": 86400,
         "Online Shopper": 0,
         "Region": "India",
         "_deepnote_index_column": 0
        },
        {
         "Age": 32,
         "Income": 57600,
         "Online Shopper": 1,
         "Region": "Brazil",
         "_deepnote_index_column": 1
        },
        {
         "Age": 35,
         "Income": 64800,
         "Online Shopper": 0,
         "Region": "USA",
         "_deepnote_index_column": 2
        },
        {
         "Age": 43,
         "Income": 73200,
         "Online Shopper": 0,
         "Region": "Brazil",
         "_deepnote_index_column": 3
        },
        {
         "Age": 45,
         "Income": "nan",
         "Online Shopper": 1,
         "Region": "USA",
         "_deepnote_index_column": 4
        },
        {
         "Age": 40,
         "Income": 69600,
         "Online Shopper": 1,
         "Region": "India",
         "_deepnote_index_column": 5
        },
        {
         "Age": "nan",
         "Income": 62400,
         "Online Shopper": 0,
         "Region": "Brazil",
         "_deepnote_index_column": 6
        },
        {
         "Age": 53,
         "Income": 94800,
         "Online Shopper": 1,
         "Region": "India",
         "_deepnote_index_column": 7
        },
        {
         "Age": 55,
         "Income": 99600,
         "Online Shopper": 0,
         "Region": "USA",
         "_deepnote_index_column": 8
        },
        {
         "Age": 42,
         "Income": 80400,
         "Online Shopper": 1,
         "Region": "India",
         "_deepnote_index_column": 9
        }
       ]
      },
      "text/html": [
       "<div>\n",
       "<style scoped>\n",
       "    .dataframe tbody tr th:only-of-type {\n",
       "        vertical-align: middle;\n",
       "    }\n",
       "\n",
       "    .dataframe tbody tr th {\n",
       "        vertical-align: top;\n",
       "    }\n",
       "\n",
       "    .dataframe thead th {\n",
       "        text-align: right;\n",
       "    }\n",
       "</style>\n",
       "<table border=\"1\" class=\"dataframe\">\n",
       "  <thead>\n",
       "    <tr style=\"text-align: right;\">\n",
       "      <th></th>\n",
       "      <th>Region</th>\n",
       "      <th>Age</th>\n",
       "      <th>Income</th>\n",
       "      <th>Online Shopper</th>\n",
       "    </tr>\n",
       "  </thead>\n",
       "  <tbody>\n",
       "    <tr>\n",
       "      <th>0</th>\n",
       "      <td>India</td>\n",
       "      <td>49.0</td>\n",
       "      <td>86400.0</td>\n",
       "      <td>0</td>\n",
       "    </tr>\n",
       "    <tr>\n",
       "      <th>1</th>\n",
       "      <td>Brazil</td>\n",
       "      <td>32.0</td>\n",
       "      <td>57600.0</td>\n",
       "      <td>1</td>\n",
       "    </tr>\n",
       "    <tr>\n",
       "      <th>2</th>\n",
       "      <td>USA</td>\n",
       "      <td>35.0</td>\n",
       "      <td>64800.0</td>\n",
       "      <td>0</td>\n",
       "    </tr>\n",
       "    <tr>\n",
       "      <th>3</th>\n",
       "      <td>Brazil</td>\n",
       "      <td>43.0</td>\n",
       "      <td>73200.0</td>\n",
       "      <td>0</td>\n",
       "    </tr>\n",
       "    <tr>\n",
       "      <th>4</th>\n",
       "      <td>USA</td>\n",
       "      <td>45.0</td>\n",
       "      <td>NaN</td>\n",
       "      <td>1</td>\n",
       "    </tr>\n",
       "    <tr>\n",
       "      <th>5</th>\n",
       "      <td>India</td>\n",
       "      <td>40.0</td>\n",
       "      <td>69600.0</td>\n",
       "      <td>1</td>\n",
       "    </tr>\n",
       "    <tr>\n",
       "      <th>6</th>\n",
       "      <td>Brazil</td>\n",
       "      <td>NaN</td>\n",
       "      <td>62400.0</td>\n",
       "      <td>0</td>\n",
       "    </tr>\n",
       "    <tr>\n",
       "      <th>7</th>\n",
       "      <td>India</td>\n",
       "      <td>53.0</td>\n",
       "      <td>94800.0</td>\n",
       "      <td>1</td>\n",
       "    </tr>\n",
       "    <tr>\n",
       "      <th>8</th>\n",
       "      <td>USA</td>\n",
       "      <td>55.0</td>\n",
       "      <td>99600.0</td>\n",
       "      <td>0</td>\n",
       "    </tr>\n",
       "    <tr>\n",
       "      <th>9</th>\n",
       "      <td>India</td>\n",
       "      <td>42.0</td>\n",
       "      <td>80400.0</td>\n",
       "      <td>1</td>\n",
       "    </tr>\n",
       "  </tbody>\n",
       "</table>\n",
       "</div>"
      ],
      "text/plain": [
       "   Region   Age   Income  Online Shopper\n",
       "0   India  49.0  86400.0               0\n",
       "1  Brazil  32.0  57600.0               1\n",
       "2     USA  35.0  64800.0               0\n",
       "3  Brazil  43.0  73200.0               0\n",
       "4     USA  45.0      NaN               1\n",
       "5   India  40.0  69600.0               1\n",
       "6  Brazil   NaN  62400.0               0\n",
       "7   India  53.0  94800.0               1\n",
       "8     USA  55.0  99600.0               0\n",
       "9   India  42.0  80400.0               1"
      ]
     },
     "execution_count": 14,
     "metadata": {},
     "output_type": "execute_result"
    }
   ],
   "source": [
    "imp = LabelEncoder()\n",
    "\n",
    "online_shopper = imp.fit_transform(data2['Online Shopper'])\n",
    "data2['Online Shopper'] = online_shopper\n",
    "#data2 = data2.drop(['Online Shopper'], axis=1)\n",
    "data2"
   ]
  },
  {
   "cell_type": "code",
   "execution_count": null,
   "metadata": {
    "cell_id": "00011-38b50748-e84d-4845-9bf5-1891022f59c8",
    "deepnote_cell_type": "code",
    "deepnote_to_be_reexecuted": false,
    "execution_millis": 18,
    "execution_start": 1631381751169,
    "source_hash": "e06194f2",
    "tags": []
   },
   "outputs": [
    {
     "data": {
      "application/vnd.deepnote.dataframe.v2+json": {
       "column_count": 4,
       "columns": [
        {
         "dtype": "object",
         "name": "Region",
         "stats": {
          "categories": [
           {
            "count": 4,
            "name": "India"
           },
           {
            "count": 3,
            "name": "Brazil"
           },
           {
            "count": 3,
            "name": "USA"
           }
          ],
          "nan_count": 0,
          "unique_count": 3
         }
        },
        {
         "dtype": "float64",
         "name": "Age",
         "stats": {
          "histogram": [
           {
            "bin_end": 34.3,
            "bin_start": 32,
            "count": 1
           },
           {
            "bin_end": 36.6,
            "bin_start": 34.3,
            "count": 1
           },
           {
            "bin_end": 38.9,
            "bin_start": 36.6,
            "count": 0
           },
           {
            "bin_end": 41.2,
            "bin_start": 38.9,
            "count": 1
           },
           {
            "bin_end": 43.5,
            "bin_start": 41.2,
            "count": 2
           },
           {
            "bin_end": 45.8,
            "bin_start": 43.5,
            "count": 1
           },
           {
            "bin_end": 48.099999999999994,
            "bin_start": 45.8,
            "count": 0
           },
           {
            "bin_end": 50.4,
            "bin_start": 48.099999999999994,
            "count": 1
           },
           {
            "bin_end": 52.7,
            "bin_start": 50.4,
            "count": 0
           },
           {
            "bin_end": 55,
            "bin_start": 52.7,
            "count": 2
           }
          ],
          "max": "55.0",
          "min": "32.0",
          "nan_count": 1,
          "unique_count": 9
         }
        },
        {
         "dtype": "float64",
         "name": "Income",
         "stats": {
          "histogram": [
           {
            "bin_end": 61800,
            "bin_start": 57600,
            "count": 1
           },
           {
            "bin_end": 66000,
            "bin_start": 61800,
            "count": 2
           },
           {
            "bin_end": 70200,
            "bin_start": 66000,
            "count": 1
           },
           {
            "bin_end": 74400,
            "bin_start": 70200,
            "count": 1
           },
           {
            "bin_end": 78600,
            "bin_start": 74400,
            "count": 0
           },
           {
            "bin_end": 82800,
            "bin_start": 78600,
            "count": 1
           },
           {
            "bin_end": 87000,
            "bin_start": 82800,
            "count": 1
           },
           {
            "bin_end": 91200,
            "bin_start": 87000,
            "count": 0
           },
           {
            "bin_end": 95400,
            "bin_start": 91200,
            "count": 1
           },
           {
            "bin_end": 99600,
            "bin_start": 95400,
            "count": 1
           }
          ],
          "max": "99600.0",
          "min": "57600.0",
          "nan_count": 1,
          "unique_count": 9
         }
        },
        {
         "dtype": "object",
         "name": "Online Shopper",
         "stats": {
          "categories": [
           {
            "count": 5,
            "name": "No"
           },
           {
            "count": 5,
            "name": "Yes"
           }
          ],
          "nan_count": 0,
          "unique_count": 2
         }
        },
        {
         "dtype": "int64",
         "name": "_deepnote_index_column"
        }
       ],
       "row_count": 10,
       "rows_bottom": null,
       "rows_top": [
        {
         "Age": 49,
         "Income": 86400,
         "Online Shopper": "No",
         "Region": "India",
         "_deepnote_index_column": 0
        },
        {
         "Age": 32,
         "Income": 57600,
         "Online Shopper": "Yes",
         "Region": "Brazil",
         "_deepnote_index_column": 1
        },
        {
         "Age": 35,
         "Income": 64800,
         "Online Shopper": "No",
         "Region": "USA",
         "_deepnote_index_column": 2
        },
        {
         "Age": 43,
         "Income": 73200,
         "Online Shopper": "No",
         "Region": "Brazil",
         "_deepnote_index_column": 3
        },
        {
         "Age": 45,
         "Income": "nan",
         "Online Shopper": "Yes",
         "Region": "USA",
         "_deepnote_index_column": 4
        },
        {
         "Age": 40,
         "Income": 69600,
         "Online Shopper": "Yes",
         "Region": "India",
         "_deepnote_index_column": 5
        },
        {
         "Age": "nan",
         "Income": 62400,
         "Online Shopper": "No",
         "Region": "Brazil",
         "_deepnote_index_column": 6
        },
        {
         "Age": 53,
         "Income": 94800,
         "Online Shopper": "Yes",
         "Region": "India",
         "_deepnote_index_column": 7
        },
        {
         "Age": 55,
         "Income": 99600,
         "Online Shopper": "No",
         "Region": "USA",
         "_deepnote_index_column": 8
        },
        {
         "Age": 42,
         "Income": 80400,
         "Online Shopper": "Yes",
         "Region": "India",
         "_deepnote_index_column": 9
        }
       ]
      },
      "text/html": [
       "<div>\n",
       "<style scoped>\n",
       "    .dataframe tbody tr th:only-of-type {\n",
       "        vertical-align: middle;\n",
       "    }\n",
       "\n",
       "    .dataframe tbody tr th {\n",
       "        vertical-align: top;\n",
       "    }\n",
       "\n",
       "    .dataframe thead th {\n",
       "        text-align: right;\n",
       "    }\n",
       "</style>\n",
       "<table border=\"1\" class=\"dataframe\">\n",
       "  <thead>\n",
       "    <tr style=\"text-align: right;\">\n",
       "      <th></th>\n",
       "      <th>Region</th>\n",
       "      <th>Age</th>\n",
       "      <th>Income</th>\n",
       "      <th>Online Shopper</th>\n",
       "    </tr>\n",
       "  </thead>\n",
       "  <tbody>\n",
       "    <tr>\n",
       "      <th>0</th>\n",
       "      <td>India</td>\n",
       "      <td>49.0</td>\n",
       "      <td>86400.0</td>\n",
       "      <td>No</td>\n",
       "    </tr>\n",
       "    <tr>\n",
       "      <th>1</th>\n",
       "      <td>Brazil</td>\n",
       "      <td>32.0</td>\n",
       "      <td>57600.0</td>\n",
       "      <td>Yes</td>\n",
       "    </tr>\n",
       "    <tr>\n",
       "      <th>2</th>\n",
       "      <td>USA</td>\n",
       "      <td>35.0</td>\n",
       "      <td>64800.0</td>\n",
       "      <td>No</td>\n",
       "    </tr>\n",
       "    <tr>\n",
       "      <th>3</th>\n",
       "      <td>Brazil</td>\n",
       "      <td>43.0</td>\n",
       "      <td>73200.0</td>\n",
       "      <td>No</td>\n",
       "    </tr>\n",
       "    <tr>\n",
       "      <th>4</th>\n",
       "      <td>USA</td>\n",
       "      <td>45.0</td>\n",
       "      <td>NaN</td>\n",
       "      <td>Yes</td>\n",
       "    </tr>\n",
       "    <tr>\n",
       "      <th>5</th>\n",
       "      <td>India</td>\n",
       "      <td>40.0</td>\n",
       "      <td>69600.0</td>\n",
       "      <td>Yes</td>\n",
       "    </tr>\n",
       "    <tr>\n",
       "      <th>6</th>\n",
       "      <td>Brazil</td>\n",
       "      <td>NaN</td>\n",
       "      <td>62400.0</td>\n",
       "      <td>No</td>\n",
       "    </tr>\n",
       "    <tr>\n",
       "      <th>7</th>\n",
       "      <td>India</td>\n",
       "      <td>53.0</td>\n",
       "      <td>94800.0</td>\n",
       "      <td>Yes</td>\n",
       "    </tr>\n",
       "    <tr>\n",
       "      <th>8</th>\n",
       "      <td>USA</td>\n",
       "      <td>55.0</td>\n",
       "      <td>99600.0</td>\n",
       "      <td>No</td>\n",
       "    </tr>\n",
       "    <tr>\n",
       "      <th>9</th>\n",
       "      <td>India</td>\n",
       "      <td>42.0</td>\n",
       "      <td>80400.0</td>\n",
       "      <td>Yes</td>\n",
       "    </tr>\n",
       "  </tbody>\n",
       "</table>\n",
       "</div>"
      ],
      "text/plain": [
       "   Region   Age   Income Online Shopper\n",
       "0   India  49.0  86400.0             No\n",
       "1  Brazil  32.0  57600.0            Yes\n",
       "2     USA  35.0  64800.0             No\n",
       "3  Brazil  43.0  73200.0             No\n",
       "4     USA  45.0      NaN            Yes\n",
       "5   India  40.0  69600.0            Yes\n",
       "6  Brazil   NaN  62400.0             No\n",
       "7   India  53.0  94800.0            Yes\n",
       "8     USA  55.0  99600.0             No\n",
       "9   India  42.0  80400.0            Yes"
      ]
     },
     "execution_count": 15,
     "metadata": {},
     "output_type": "execute_result"
    }
   ],
   "source": [
    "data2 = data.copy()\n",
    "data2"
   ]
  },
  {
   "cell_type": "code",
   "execution_count": null,
   "metadata": {
    "cell_id": "00010-b97a07fa-a795-4faa-a43d-b74c0830a4d5",
    "deepnote_cell_type": "code",
    "deepnote_to_be_reexecuted": false,
    "execution_millis": 2,
    "execution_start": 1631381751820,
    "source_hash": "e1e6f593",
    "tags": []
   },
   "outputs": [],
   "source": [
    "from sklearn.preprocessing import OneHotEncoder"
   ]
  },
  {
   "cell_type": "code",
   "execution_count": null,
   "metadata": {
    "cell_id": "00014-eab32540-cc2c-4def-8772-c1e736aa7ecb",
    "deepnote_cell_type": "code",
    "deepnote_to_be_reexecuted": false,
    "execution_millis": 7,
    "execution_start": 1631381752316,
    "source_hash": "4163ef19",
    "tags": []
   },
   "outputs": [
    {
     "data": {
      "text/plain": [
       "array([[0., 1., 0.],\n",
       "       [1., 0., 0.],\n",
       "       [0., 0., 1.],\n",
       "       [1., 0., 0.],\n",
       "       [0., 0., 1.],\n",
       "       [0., 1., 0.],\n",
       "       [1., 0., 0.],\n",
       "       [0., 1., 0.],\n",
       "       [0., 0., 1.],\n",
       "       [0., 1., 0.]])"
      ]
     },
     "execution_count": 17,
     "metadata": {},
     "output_type": "execute_result"
    }
   ],
   "source": [
    "imp = OneHotEncoder(sparse=False)\n",
    "\n",
    "temp = imp.fit_transform(data2[['Region']])\n",
    "temp"
   ]
  },
  {
   "cell_type": "code",
   "execution_count": null,
   "metadata": {
    "cell_id": "00015-1cd4159f-4a69-4b8c-8bec-8925fa43d884",
    "deepnote_cell_type": "code",
    "deepnote_to_be_reexecuted": false,
    "execution_millis": 48,
    "execution_start": 1631381753527,
    "source_hash": "a953a354",
    "tags": []
   },
   "outputs": [
    {
     "data": {
      "application/vnd.deepnote.dataframe.v2+json": {
       "column_count": 7,
       "columns": [
        {
         "dtype": "object",
         "name": "Region",
         "stats": {
          "categories": [
           {
            "count": 4,
            "name": "India"
           },
           {
            "count": 3,
            "name": "Brazil"
           },
           {
            "count": 3,
            "name": "USA"
           }
          ],
          "nan_count": 0,
          "unique_count": 3
         }
        },
        {
         "dtype": "float64",
         "name": "Age",
         "stats": {
          "histogram": [
           {
            "bin_end": 34.3,
            "bin_start": 32,
            "count": 1
           },
           {
            "bin_end": 36.6,
            "bin_start": 34.3,
            "count": 1
           },
           {
            "bin_end": 38.9,
            "bin_start": 36.6,
            "count": 0
           },
           {
            "bin_end": 41.2,
            "bin_start": 38.9,
            "count": 1
           },
           {
            "bin_end": 43.5,
            "bin_start": 41.2,
            "count": 2
           },
           {
            "bin_end": 45.8,
            "bin_start": 43.5,
            "count": 1
           },
           {
            "bin_end": 48.099999999999994,
            "bin_start": 45.8,
            "count": 0
           },
           {
            "bin_end": 50.4,
            "bin_start": 48.099999999999994,
            "count": 1
           },
           {
            "bin_end": 52.7,
            "bin_start": 50.4,
            "count": 0
           },
           {
            "bin_end": 55,
            "bin_start": 52.7,
            "count": 2
           }
          ],
          "max": "55.0",
          "min": "32.0",
          "nan_count": 1,
          "unique_count": 9
         }
        },
        {
         "dtype": "float64",
         "name": "Income",
         "stats": {
          "histogram": [
           {
            "bin_end": 61800,
            "bin_start": 57600,
            "count": 1
           },
           {
            "bin_end": 66000,
            "bin_start": 61800,
            "count": 2
           },
           {
            "bin_end": 70200,
            "bin_start": 66000,
            "count": 1
           },
           {
            "bin_end": 74400,
            "bin_start": 70200,
            "count": 1
           },
           {
            "bin_end": 78600,
            "bin_start": 74400,
            "count": 0
           },
           {
            "bin_end": 82800,
            "bin_start": 78600,
            "count": 1
           },
           {
            "bin_end": 87000,
            "bin_start": 82800,
            "count": 1
           },
           {
            "bin_end": 91200,
            "bin_start": 87000,
            "count": 0
           },
           {
            "bin_end": 95400,
            "bin_start": 91200,
            "count": 1
           },
           {
            "bin_end": 99600,
            "bin_start": 95400,
            "count": 1
           }
          ],
          "max": "99600.0",
          "min": "57600.0",
          "nan_count": 1,
          "unique_count": 9
         }
        },
        {
         "dtype": "object",
         "name": "Online Shopper",
         "stats": {
          "categories": [
           {
            "count": 5,
            "name": "No"
           },
           {
            "count": 5,
            "name": "Yes"
           }
          ],
          "nan_count": 0,
          "unique_count": 2
         }
        },
        {
         "dtype": "float64",
         "name": "Brazil",
         "stats": {
          "histogram": [
           {
            "bin_end": 0.1,
            "bin_start": 0,
            "count": 7
           },
           {
            "bin_end": 0.2,
            "bin_start": 0.1,
            "count": 0
           },
           {
            "bin_end": 0.30000000000000004,
            "bin_start": 0.2,
            "count": 0
           },
           {
            "bin_end": 0.4,
            "bin_start": 0.30000000000000004,
            "count": 0
           },
           {
            "bin_end": 0.5,
            "bin_start": 0.4,
            "count": 0
           },
           {
            "bin_end": 0.6000000000000001,
            "bin_start": 0.5,
            "count": 0
           },
           {
            "bin_end": 0.7000000000000001,
            "bin_start": 0.6000000000000001,
            "count": 0
           },
           {
            "bin_end": 0.8,
            "bin_start": 0.7000000000000001,
            "count": 0
           },
           {
            "bin_end": 0.9,
            "bin_start": 0.8,
            "count": 0
           },
           {
            "bin_end": 1,
            "bin_start": 0.9,
            "count": 3
           }
          ],
          "max": "1.0",
          "min": "0.0",
          "nan_count": 0,
          "unique_count": 2
         }
        },
        {
         "dtype": "float64",
         "name": "India",
         "stats": {
          "histogram": [
           {
            "bin_end": 0.1,
            "bin_start": 0,
            "count": 6
           },
           {
            "bin_end": 0.2,
            "bin_start": 0.1,
            "count": 0
           },
           {
            "bin_end": 0.30000000000000004,
            "bin_start": 0.2,
            "count": 0
           },
           {
            "bin_end": 0.4,
            "bin_start": 0.30000000000000004,
            "count": 0
           },
           {
            "bin_end": 0.5,
            "bin_start": 0.4,
            "count": 0
           },
           {
            "bin_end": 0.6000000000000001,
            "bin_start": 0.5,
            "count": 0
           },
           {
            "bin_end": 0.7000000000000001,
            "bin_start": 0.6000000000000001,
            "count": 0
           },
           {
            "bin_end": 0.8,
            "bin_start": 0.7000000000000001,
            "count": 0
           },
           {
            "bin_end": 0.9,
            "bin_start": 0.8,
            "count": 0
           },
           {
            "bin_end": 1,
            "bin_start": 0.9,
            "count": 4
           }
          ],
          "max": "1.0",
          "min": "0.0",
          "nan_count": 0,
          "unique_count": 2
         }
        },
        {
         "dtype": "float64",
         "name": "USA",
         "stats": {
          "histogram": [
           {
            "bin_end": 0.1,
            "bin_start": 0,
            "count": 7
           },
           {
            "bin_end": 0.2,
            "bin_start": 0.1,
            "count": 0
           },
           {
            "bin_end": 0.30000000000000004,
            "bin_start": 0.2,
            "count": 0
           },
           {
            "bin_end": 0.4,
            "bin_start": 0.30000000000000004,
            "count": 0
           },
           {
            "bin_end": 0.5,
            "bin_start": 0.4,
            "count": 0
           },
           {
            "bin_end": 0.6000000000000001,
            "bin_start": 0.5,
            "count": 0
           },
           {
            "bin_end": 0.7000000000000001,
            "bin_start": 0.6000000000000001,
            "count": 0
           },
           {
            "bin_end": 0.8,
            "bin_start": 0.7000000000000001,
            "count": 0
           },
           {
            "bin_end": 0.9,
            "bin_start": 0.8,
            "count": 0
           },
           {
            "bin_end": 1,
            "bin_start": 0.9,
            "count": 3
           }
          ],
          "max": "1.0",
          "min": "0.0",
          "nan_count": 0,
          "unique_count": 2
         }
        },
        {
         "dtype": "int64",
         "name": "_deepnote_index_column"
        }
       ],
       "row_count": 10,
       "rows_bottom": null,
       "rows_top": [
        {
         "Age": 49,
         "Brazil": 0,
         "Income": 86400,
         "India": 1,
         "Online Shopper": "No",
         "Region": "India",
         "USA": 0,
         "_deepnote_index_column": 0
        },
        {
         "Age": 32,
         "Brazil": 1,
         "Income": 57600,
         "India": 0,
         "Online Shopper": "Yes",
         "Region": "Brazil",
         "USA": 0,
         "_deepnote_index_column": 1
        },
        {
         "Age": 35,
         "Brazil": 0,
         "Income": 64800,
         "India": 0,
         "Online Shopper": "No",
         "Region": "USA",
         "USA": 1,
         "_deepnote_index_column": 2
        },
        {
         "Age": 43,
         "Brazil": 1,
         "Income": 73200,
         "India": 0,
         "Online Shopper": "No",
         "Region": "Brazil",
         "USA": 0,
         "_deepnote_index_column": 3
        },
        {
         "Age": 45,
         "Brazil": 0,
         "Income": "nan",
         "India": 0,
         "Online Shopper": "Yes",
         "Region": "USA",
         "USA": 1,
         "_deepnote_index_column": 4
        },
        {
         "Age": 40,
         "Brazil": 0,
         "Income": 69600,
         "India": 1,
         "Online Shopper": "Yes",
         "Region": "India",
         "USA": 0,
         "_deepnote_index_column": 5
        },
        {
         "Age": "nan",
         "Brazil": 1,
         "Income": 62400,
         "India": 0,
         "Online Shopper": "No",
         "Region": "Brazil",
         "USA": 0,
         "_deepnote_index_column": 6
        },
        {
         "Age": 53,
         "Brazil": 0,
         "Income": 94800,
         "India": 1,
         "Online Shopper": "Yes",
         "Region": "India",
         "USA": 0,
         "_deepnote_index_column": 7
        },
        {
         "Age": 55,
         "Brazil": 0,
         "Income": 99600,
         "India": 0,
         "Online Shopper": "No",
         "Region": "USA",
         "USA": 1,
         "_deepnote_index_column": 8
        },
        {
         "Age": 42,
         "Brazil": 0,
         "Income": 80400,
         "India": 1,
         "Online Shopper": "Yes",
         "Region": "India",
         "USA": 0,
         "_deepnote_index_column": 9
        }
       ]
      },
      "text/html": [
       "<div>\n",
       "<style scoped>\n",
       "    .dataframe tbody tr th:only-of-type {\n",
       "        vertical-align: middle;\n",
       "    }\n",
       "\n",
       "    .dataframe tbody tr th {\n",
       "        vertical-align: top;\n",
       "    }\n",
       "\n",
       "    .dataframe thead th {\n",
       "        text-align: right;\n",
       "    }\n",
       "</style>\n",
       "<table border=\"1\" class=\"dataframe\">\n",
       "  <thead>\n",
       "    <tr style=\"text-align: right;\">\n",
       "      <th></th>\n",
       "      <th>Region</th>\n",
       "      <th>Age</th>\n",
       "      <th>Income</th>\n",
       "      <th>Online Shopper</th>\n",
       "      <th>Brazil</th>\n",
       "      <th>India</th>\n",
       "      <th>USA</th>\n",
       "    </tr>\n",
       "  </thead>\n",
       "  <tbody>\n",
       "    <tr>\n",
       "      <th>0</th>\n",
       "      <td>India</td>\n",
       "      <td>49.0</td>\n",
       "      <td>86400.0</td>\n",
       "      <td>No</td>\n",
       "      <td>0.0</td>\n",
       "      <td>1.0</td>\n",
       "      <td>0.0</td>\n",
       "    </tr>\n",
       "    <tr>\n",
       "      <th>1</th>\n",
       "      <td>Brazil</td>\n",
       "      <td>32.0</td>\n",
       "      <td>57600.0</td>\n",
       "      <td>Yes</td>\n",
       "      <td>1.0</td>\n",
       "      <td>0.0</td>\n",
       "      <td>0.0</td>\n",
       "    </tr>\n",
       "    <tr>\n",
       "      <th>2</th>\n",
       "      <td>USA</td>\n",
       "      <td>35.0</td>\n",
       "      <td>64800.0</td>\n",
       "      <td>No</td>\n",
       "      <td>0.0</td>\n",
       "      <td>0.0</td>\n",
       "      <td>1.0</td>\n",
       "    </tr>\n",
       "    <tr>\n",
       "      <th>3</th>\n",
       "      <td>Brazil</td>\n",
       "      <td>43.0</td>\n",
       "      <td>73200.0</td>\n",
       "      <td>No</td>\n",
       "      <td>1.0</td>\n",
       "      <td>0.0</td>\n",
       "      <td>0.0</td>\n",
       "    </tr>\n",
       "    <tr>\n",
       "      <th>4</th>\n",
       "      <td>USA</td>\n",
       "      <td>45.0</td>\n",
       "      <td>NaN</td>\n",
       "      <td>Yes</td>\n",
       "      <td>0.0</td>\n",
       "      <td>0.0</td>\n",
       "      <td>1.0</td>\n",
       "    </tr>\n",
       "    <tr>\n",
       "      <th>5</th>\n",
       "      <td>India</td>\n",
       "      <td>40.0</td>\n",
       "      <td>69600.0</td>\n",
       "      <td>Yes</td>\n",
       "      <td>0.0</td>\n",
       "      <td>1.0</td>\n",
       "      <td>0.0</td>\n",
       "    </tr>\n",
       "    <tr>\n",
       "      <th>6</th>\n",
       "      <td>Brazil</td>\n",
       "      <td>NaN</td>\n",
       "      <td>62400.0</td>\n",
       "      <td>No</td>\n",
       "      <td>1.0</td>\n",
       "      <td>0.0</td>\n",
       "      <td>0.0</td>\n",
       "    </tr>\n",
       "    <tr>\n",
       "      <th>7</th>\n",
       "      <td>India</td>\n",
       "      <td>53.0</td>\n",
       "      <td>94800.0</td>\n",
       "      <td>Yes</td>\n",
       "      <td>0.0</td>\n",
       "      <td>1.0</td>\n",
       "      <td>0.0</td>\n",
       "    </tr>\n",
       "    <tr>\n",
       "      <th>8</th>\n",
       "      <td>USA</td>\n",
       "      <td>55.0</td>\n",
       "      <td>99600.0</td>\n",
       "      <td>No</td>\n",
       "      <td>0.0</td>\n",
       "      <td>0.0</td>\n",
       "      <td>1.0</td>\n",
       "    </tr>\n",
       "    <tr>\n",
       "      <th>9</th>\n",
       "      <td>India</td>\n",
       "      <td>42.0</td>\n",
       "      <td>80400.0</td>\n",
       "      <td>Yes</td>\n",
       "      <td>0.0</td>\n",
       "      <td>1.0</td>\n",
       "      <td>0.0</td>\n",
       "    </tr>\n",
       "  </tbody>\n",
       "</table>\n",
       "</div>"
      ],
      "text/plain": [
       "   Region   Age   Income Online Shopper  Brazil  India  USA\n",
       "0   India  49.0  86400.0             No     0.0    1.0  0.0\n",
       "1  Brazil  32.0  57600.0            Yes     1.0    0.0  0.0\n",
       "2     USA  35.0  64800.0             No     0.0    0.0  1.0\n",
       "3  Brazil  43.0  73200.0             No     1.0    0.0  0.0\n",
       "4     USA  45.0      NaN            Yes     0.0    0.0  1.0\n",
       "5   India  40.0  69600.0            Yes     0.0    1.0  0.0\n",
       "6  Brazil   NaN  62400.0             No     1.0    0.0  0.0\n",
       "7   India  53.0  94800.0            Yes     0.0    1.0  0.0\n",
       "8     USA  55.0  99600.0             No     0.0    0.0  1.0\n",
       "9   India  42.0  80400.0            Yes     0.0    1.0  0.0"
      ]
     },
     "execution_count": 18,
     "metadata": {},
     "output_type": "execute_result"
    }
   ],
   "source": [
    "data2[['Brazil', 'India', 'USA']] = temp\n",
    "data2"
   ]
  },
  {
   "cell_type": "markdown",
   "metadata": {
    "cell_id": "00013-35addb01-e3d6-4909-a9fc-96398aa57d76",
    "deepnote_cell_type": "markdown",
    "tags": []
   },
   "source": [
    "# Scaling"
   ]
  },
  {
   "cell_type": "code",
   "execution_count": null,
   "metadata": {
    "cell_id": "00014-d6ca389d-63a2-4141-aca5-aef217d06b23",
    "deepnote_cell_type": "code",
    "deepnote_to_be_reexecuted": false,
    "execution_millis": 9,
    "execution_start": 1631381755169,
    "source_hash": "b6a0b021",
    "tags": []
   },
   "outputs": [
    {
     "data": {
      "application/vnd.deepnote.dataframe.v2+json": {
       "column_count": 7,
       "columns": [
        {
         "dtype": "object",
         "name": "Region",
         "stats": {
          "categories": [
           {
            "count": 4,
            "name": "India"
           },
           {
            "count": 3,
            "name": "Brazil"
           },
           {
            "count": 3,
            "name": "USA"
           }
          ],
          "nan_count": 0,
          "unique_count": 3
         }
        },
        {
         "dtype": "float64",
         "name": "Age",
         "stats": {
          "histogram": [
           {
            "bin_end": 34.3,
            "bin_start": 32,
            "count": 1
           },
           {
            "bin_end": 36.6,
            "bin_start": 34.3,
            "count": 1
           },
           {
            "bin_end": 38.9,
            "bin_start": 36.6,
            "count": 0
           },
           {
            "bin_end": 41.2,
            "bin_start": 38.9,
            "count": 1
           },
           {
            "bin_end": 43.5,
            "bin_start": 41.2,
            "count": 2
           },
           {
            "bin_end": 45.8,
            "bin_start": 43.5,
            "count": 1
           },
           {
            "bin_end": 48.099999999999994,
            "bin_start": 45.8,
            "count": 0
           },
           {
            "bin_end": 50.4,
            "bin_start": 48.099999999999994,
            "count": 1
           },
           {
            "bin_end": 52.7,
            "bin_start": 50.4,
            "count": 0
           },
           {
            "bin_end": 55,
            "bin_start": 52.7,
            "count": 2
           }
          ],
          "max": "55.0",
          "min": "32.0",
          "nan_count": 1,
          "unique_count": 9
         }
        },
        {
         "dtype": "float64",
         "name": "Income",
         "stats": {
          "histogram": [
           {
            "bin_end": 61800,
            "bin_start": 57600,
            "count": 1
           },
           {
            "bin_end": 66000,
            "bin_start": 61800,
            "count": 2
           },
           {
            "bin_end": 70200,
            "bin_start": 66000,
            "count": 1
           },
           {
            "bin_end": 74400,
            "bin_start": 70200,
            "count": 1
           },
           {
            "bin_end": 78600,
            "bin_start": 74400,
            "count": 0
           },
           {
            "bin_end": 82800,
            "bin_start": 78600,
            "count": 1
           },
           {
            "bin_end": 87000,
            "bin_start": 82800,
            "count": 1
           },
           {
            "bin_end": 91200,
            "bin_start": 87000,
            "count": 0
           },
           {
            "bin_end": 95400,
            "bin_start": 91200,
            "count": 1
           },
           {
            "bin_end": 99600,
            "bin_start": 95400,
            "count": 1
           }
          ],
          "max": "99600.0",
          "min": "57600.0",
          "nan_count": 1,
          "unique_count": 9
         }
        },
        {
         "dtype": "object",
         "name": "Online Shopper",
         "stats": {
          "categories": [
           {
            "count": 5,
            "name": "No"
           },
           {
            "count": 5,
            "name": "Yes"
           }
          ],
          "nan_count": 0,
          "unique_count": 2
         }
        },
        {
         "dtype": "float64",
         "name": "Brazil",
         "stats": {
          "histogram": [
           {
            "bin_end": 0.1,
            "bin_start": 0,
            "count": 7
           },
           {
            "bin_end": 0.2,
            "bin_start": 0.1,
            "count": 0
           },
           {
            "bin_end": 0.30000000000000004,
            "bin_start": 0.2,
            "count": 0
           },
           {
            "bin_end": 0.4,
            "bin_start": 0.30000000000000004,
            "count": 0
           },
           {
            "bin_end": 0.5,
            "bin_start": 0.4,
            "count": 0
           },
           {
            "bin_end": 0.6000000000000001,
            "bin_start": 0.5,
            "count": 0
           },
           {
            "bin_end": 0.7000000000000001,
            "bin_start": 0.6000000000000001,
            "count": 0
           },
           {
            "bin_end": 0.8,
            "bin_start": 0.7000000000000001,
            "count": 0
           },
           {
            "bin_end": 0.9,
            "bin_start": 0.8,
            "count": 0
           },
           {
            "bin_end": 1,
            "bin_start": 0.9,
            "count": 3
           }
          ],
          "max": "1.0",
          "min": "0.0",
          "nan_count": 0,
          "unique_count": 2
         }
        },
        {
         "dtype": "float64",
         "name": "India",
         "stats": {
          "histogram": [
           {
            "bin_end": 0.1,
            "bin_start": 0,
            "count": 6
           },
           {
            "bin_end": 0.2,
            "bin_start": 0.1,
            "count": 0
           },
           {
            "bin_end": 0.30000000000000004,
            "bin_start": 0.2,
            "count": 0
           },
           {
            "bin_end": 0.4,
            "bin_start": 0.30000000000000004,
            "count": 0
           },
           {
            "bin_end": 0.5,
            "bin_start": 0.4,
            "count": 0
           },
           {
            "bin_end": 0.6000000000000001,
            "bin_start": 0.5,
            "count": 0
           },
           {
            "bin_end": 0.7000000000000001,
            "bin_start": 0.6000000000000001,
            "count": 0
           },
           {
            "bin_end": 0.8,
            "bin_start": 0.7000000000000001,
            "count": 0
           },
           {
            "bin_end": 0.9,
            "bin_start": 0.8,
            "count": 0
           },
           {
            "bin_end": 1,
            "bin_start": 0.9,
            "count": 4
           }
          ],
          "max": "1.0",
          "min": "0.0",
          "nan_count": 0,
          "unique_count": 2
         }
        },
        {
         "dtype": "float64",
         "name": "USA",
         "stats": {
          "histogram": [
           {
            "bin_end": 0.1,
            "bin_start": 0,
            "count": 7
           },
           {
            "bin_end": 0.2,
            "bin_start": 0.1,
            "count": 0
           },
           {
            "bin_end": 0.30000000000000004,
            "bin_start": 0.2,
            "count": 0
           },
           {
            "bin_end": 0.4,
            "bin_start": 0.30000000000000004,
            "count": 0
           },
           {
            "bin_end": 0.5,
            "bin_start": 0.4,
            "count": 0
           },
           {
            "bin_end": 0.6000000000000001,
            "bin_start": 0.5,
            "count": 0
           },
           {
            "bin_end": 0.7000000000000001,
            "bin_start": 0.6000000000000001,
            "count": 0
           },
           {
            "bin_end": 0.8,
            "bin_start": 0.7000000000000001,
            "count": 0
           },
           {
            "bin_end": 0.9,
            "bin_start": 0.8,
            "count": 0
           },
           {
            "bin_end": 1,
            "bin_start": 0.9,
            "count": 3
           }
          ],
          "max": "1.0",
          "min": "0.0",
          "nan_count": 0,
          "unique_count": 2
         }
        },
        {
         "dtype": "int64",
         "name": "_deepnote_index_column"
        }
       ],
       "row_count": 10,
       "rows_bottom": null,
       "rows_top": [
        {
         "Age": 49,
         "Brazil": 0,
         "Income": 86400,
         "India": 1,
         "Online Shopper": "No",
         "Region": "India",
         "USA": 0,
         "_deepnote_index_column": 0
        },
        {
         "Age": 32,
         "Brazil": 1,
         "Income": 57600,
         "India": 0,
         "Online Shopper": "Yes",
         "Region": "Brazil",
         "USA": 0,
         "_deepnote_index_column": 1
        },
        {
         "Age": 35,
         "Brazil": 0,
         "Income": 64800,
         "India": 0,
         "Online Shopper": "No",
         "Region": "USA",
         "USA": 1,
         "_deepnote_index_column": 2
        },
        {
         "Age": 43,
         "Brazil": 1,
         "Income": 73200,
         "India": 0,
         "Online Shopper": "No",
         "Region": "Brazil",
         "USA": 0,
         "_deepnote_index_column": 3
        },
        {
         "Age": 45,
         "Brazil": 0,
         "Income": "nan",
         "India": 0,
         "Online Shopper": "Yes",
         "Region": "USA",
         "USA": 1,
         "_deepnote_index_column": 4
        },
        {
         "Age": 40,
         "Brazil": 0,
         "Income": 69600,
         "India": 1,
         "Online Shopper": "Yes",
         "Region": "India",
         "USA": 0,
         "_deepnote_index_column": 5
        },
        {
         "Age": "nan",
         "Brazil": 1,
         "Income": 62400,
         "India": 0,
         "Online Shopper": "No",
         "Region": "Brazil",
         "USA": 0,
         "_deepnote_index_column": 6
        },
        {
         "Age": 53,
         "Brazil": 0,
         "Income": 94800,
         "India": 1,
         "Online Shopper": "Yes",
         "Region": "India",
         "USA": 0,
         "_deepnote_index_column": 7
        },
        {
         "Age": 55,
         "Brazil": 0,
         "Income": 99600,
         "India": 0,
         "Online Shopper": "No",
         "Region": "USA",
         "USA": 1,
         "_deepnote_index_column": 8
        },
        {
         "Age": 42,
         "Brazil": 0,
         "Income": 80400,
         "India": 1,
         "Online Shopper": "Yes",
         "Region": "India",
         "USA": 0,
         "_deepnote_index_column": 9
        }
       ]
      },
      "text/html": [
       "<div>\n",
       "<style scoped>\n",
       "    .dataframe tbody tr th:only-of-type {\n",
       "        vertical-align: middle;\n",
       "    }\n",
       "\n",
       "    .dataframe tbody tr th {\n",
       "        vertical-align: top;\n",
       "    }\n",
       "\n",
       "    .dataframe thead th {\n",
       "        text-align: right;\n",
       "    }\n",
       "</style>\n",
       "<table border=\"1\" class=\"dataframe\">\n",
       "  <thead>\n",
       "    <tr style=\"text-align: right;\">\n",
       "      <th></th>\n",
       "      <th>Region</th>\n",
       "      <th>Age</th>\n",
       "      <th>Income</th>\n",
       "      <th>Online Shopper</th>\n",
       "      <th>Brazil</th>\n",
       "      <th>India</th>\n",
       "      <th>USA</th>\n",
       "    </tr>\n",
       "  </thead>\n",
       "  <tbody>\n",
       "    <tr>\n",
       "      <th>0</th>\n",
       "      <td>India</td>\n",
       "      <td>49.0</td>\n",
       "      <td>86400.0</td>\n",
       "      <td>No</td>\n",
       "      <td>0.0</td>\n",
       "      <td>1.0</td>\n",
       "      <td>0.0</td>\n",
       "    </tr>\n",
       "    <tr>\n",
       "      <th>1</th>\n",
       "      <td>Brazil</td>\n",
       "      <td>32.0</td>\n",
       "      <td>57600.0</td>\n",
       "      <td>Yes</td>\n",
       "      <td>1.0</td>\n",
       "      <td>0.0</td>\n",
       "      <td>0.0</td>\n",
       "    </tr>\n",
       "    <tr>\n",
       "      <th>2</th>\n",
       "      <td>USA</td>\n",
       "      <td>35.0</td>\n",
       "      <td>64800.0</td>\n",
       "      <td>No</td>\n",
       "      <td>0.0</td>\n",
       "      <td>0.0</td>\n",
       "      <td>1.0</td>\n",
       "    </tr>\n",
       "    <tr>\n",
       "      <th>3</th>\n",
       "      <td>Brazil</td>\n",
       "      <td>43.0</td>\n",
       "      <td>73200.0</td>\n",
       "      <td>No</td>\n",
       "      <td>1.0</td>\n",
       "      <td>0.0</td>\n",
       "      <td>0.0</td>\n",
       "    </tr>\n",
       "    <tr>\n",
       "      <th>4</th>\n",
       "      <td>USA</td>\n",
       "      <td>45.0</td>\n",
       "      <td>NaN</td>\n",
       "      <td>Yes</td>\n",
       "      <td>0.0</td>\n",
       "      <td>0.0</td>\n",
       "      <td>1.0</td>\n",
       "    </tr>\n",
       "    <tr>\n",
       "      <th>5</th>\n",
       "      <td>India</td>\n",
       "      <td>40.0</td>\n",
       "      <td>69600.0</td>\n",
       "      <td>Yes</td>\n",
       "      <td>0.0</td>\n",
       "      <td>1.0</td>\n",
       "      <td>0.0</td>\n",
       "    </tr>\n",
       "    <tr>\n",
       "      <th>6</th>\n",
       "      <td>Brazil</td>\n",
       "      <td>NaN</td>\n",
       "      <td>62400.0</td>\n",
       "      <td>No</td>\n",
       "      <td>1.0</td>\n",
       "      <td>0.0</td>\n",
       "      <td>0.0</td>\n",
       "    </tr>\n",
       "    <tr>\n",
       "      <th>7</th>\n",
       "      <td>India</td>\n",
       "      <td>53.0</td>\n",
       "      <td>94800.0</td>\n",
       "      <td>Yes</td>\n",
       "      <td>0.0</td>\n",
       "      <td>1.0</td>\n",
       "      <td>0.0</td>\n",
       "    </tr>\n",
       "    <tr>\n",
       "      <th>8</th>\n",
       "      <td>USA</td>\n",
       "      <td>55.0</td>\n",
       "      <td>99600.0</td>\n",
       "      <td>No</td>\n",
       "      <td>0.0</td>\n",
       "      <td>0.0</td>\n",
       "      <td>1.0</td>\n",
       "    </tr>\n",
       "    <tr>\n",
       "      <th>9</th>\n",
       "      <td>India</td>\n",
       "      <td>42.0</td>\n",
       "      <td>80400.0</td>\n",
       "      <td>Yes</td>\n",
       "      <td>0.0</td>\n",
       "      <td>1.0</td>\n",
       "      <td>0.0</td>\n",
       "    </tr>\n",
       "  </tbody>\n",
       "</table>\n",
       "</div>"
      ],
      "text/plain": [
       "   Region   Age   Income Online Shopper  Brazil  India  USA\n",
       "0   India  49.0  86400.0             No     0.0    1.0  0.0\n",
       "1  Brazil  32.0  57600.0            Yes     1.0    0.0  0.0\n",
       "2     USA  35.0  64800.0             No     0.0    0.0  1.0\n",
       "3  Brazil  43.0  73200.0             No     1.0    0.0  0.0\n",
       "4     USA  45.0      NaN            Yes     0.0    0.0  1.0\n",
       "5   India  40.0  69600.0            Yes     0.0    1.0  0.0\n",
       "6  Brazil   NaN  62400.0             No     1.0    0.0  0.0\n",
       "7   India  53.0  94800.0            Yes     0.0    1.0  0.0\n",
       "8     USA  55.0  99600.0             No     0.0    0.0  1.0\n",
       "9   India  42.0  80400.0            Yes     0.0    1.0  0.0"
      ]
     },
     "execution_count": 19,
     "metadata": {},
     "output_type": "execute_result"
    }
   ],
   "source": [
    "data3 = data2.copy() #LabelEncodeded\n",
    "data2"
   ]
  },
  {
   "cell_type": "code",
   "execution_count": null,
   "metadata": {
    "cell_id": "00016-8d35eaae-5ab7-47b0-9529-7f45e37f7b70",
    "deepnote_cell_type": "code",
    "deepnote_to_be_reexecuted": false,
    "execution_millis": 0,
    "execution_start": 1631381756448,
    "source_hash": "b6028108",
    "tags": []
   },
   "outputs": [],
   "source": [
    "from sklearn.preprocessing import MinMaxScaler"
   ]
  },
  {
   "cell_type": "code",
   "execution_count": null,
   "metadata": {
    "cell_id": "00017-dcd46454-2b4b-4394-af9a-2c96a5a7efda",
    "deepnote_cell_type": "code",
    "deepnote_to_be_reexecuted": false,
    "execution_millis": 2,
    "execution_start": 1631381756642,
    "source_hash": "c6a71a2c",
    "tags": []
   },
   "outputs": [],
   "source": [
    "data2 = data3.copy()"
   ]
  },
  {
   "cell_type": "code",
   "execution_count": null,
   "metadata": {
    "cell_id": "00017-2df508f0-9377-498a-9e16-8f7f673c889e",
    "deepnote_cell_type": "code",
    "deepnote_to_be_reexecuted": false,
    "execution_millis": 5,
    "execution_start": 1631381756842,
    "source_hash": "d7dad710",
    "tags": []
   },
   "outputs": [
    {
     "data": {
      "text/plain": [
       "array([[6.65217391, 6.17142857],\n",
       "       [0.        , 0.        ],\n",
       "       [1.17391304, 1.54285714],\n",
       "       [4.30434783, 3.34285714],\n",
       "       [5.08695652,        nan],\n",
       "       [3.13043478, 2.57142857],\n",
       "       [       nan, 1.02857143],\n",
       "       [8.2173913 , 7.97142857],\n",
       "       [9.        , 9.        ],\n",
       "       [3.91304348, 4.88571429]])"
      ]
     },
     "execution_count": 22,
     "metadata": {},
     "output_type": "execute_result"
    }
   ],
   "source": [
    "scaler = MinMaxScaler(feature_range=(0,9))\n",
    "\n",
    "temp = scaler.fit_transform(data2.loc[:, ['Age', 'Income']])\n",
    "temp"
   ]
  },
  {
   "cell_type": "code",
   "execution_count": null,
   "metadata": {
    "cell_id": "00018-7034544c-8969-48a0-abdb-aa8cea942e10",
    "deepnote_cell_type": "code",
    "deepnote_to_be_reexecuted": false,
    "execution_millis": 1,
    "execution_start": 1631381757825,
    "source_hash": "e580f19f",
    "tags": []
   },
   "outputs": [],
   "source": [
    "data2[['Age', 'Income']] = temp"
   ]
  },
  {
   "cell_type": "code",
   "execution_count": null,
   "metadata": {
    "cell_id": "00020-d624bac3-5682-46cc-8ec5-570d5ee7221b",
    "deepnote_cell_type": "code",
    "deepnote_to_be_reexecuted": false,
    "execution_millis": 28,
    "execution_start": 1631381758591,
    "source_hash": "258b1279",
    "tags": []
   },
   "outputs": [
    {
     "data": {
      "application/vnd.deepnote.dataframe.v2+json": {
       "column_count": 7,
       "columns": [
        {
         "dtype": "object",
         "name": "Region",
         "stats": {
          "categories": [
           {
            "count": 4,
            "name": "India"
           },
           {
            "count": 3,
            "name": "Brazil"
           },
           {
            "count": 3,
            "name": "USA"
           }
          ],
          "nan_count": 0,
          "unique_count": 3
         }
        },
        {
         "dtype": "float64",
         "name": "Age",
         "stats": {
          "histogram": [
           {
            "bin_end": 0.9000000000000001,
            "bin_start": 0,
            "count": 1
           },
           {
            "bin_end": 1.8000000000000003,
            "bin_start": 0.9000000000000001,
            "count": 1
           },
           {
            "bin_end": 2.7,
            "bin_start": 1.8000000000000003,
            "count": 0
           },
           {
            "bin_end": 3.6000000000000005,
            "bin_start": 2.7,
            "count": 1
           },
           {
            "bin_end": 4.500000000000001,
            "bin_start": 3.6000000000000005,
            "count": 2
           },
           {
            "bin_end": 5.4,
            "bin_start": 4.500000000000001,
            "count": 1
           },
           {
            "bin_end": 6.300000000000001,
            "bin_start": 5.4,
            "count": 0
           },
           {
            "bin_end": 7.200000000000001,
            "bin_start": 6.300000000000001,
            "count": 1
           },
           {
            "bin_end": 8.100000000000001,
            "bin_start": 7.200000000000001,
            "count": 0
           },
           {
            "bin_end": 9.000000000000002,
            "bin_start": 8.100000000000001,
            "count": 2
           }
          ],
          "max": "9.000000000000002",
          "min": "0.0",
          "nan_count": 1,
          "unique_count": 9
         }
        },
        {
         "dtype": "float64",
         "name": "Income",
         "stats": {
          "histogram": [
           {
            "bin_end": 0.9,
            "bin_start": 0,
            "count": 1
           },
           {
            "bin_end": 1.8,
            "bin_start": 0.9,
            "count": 2
           },
           {
            "bin_end": 2.7,
            "bin_start": 1.8,
            "count": 1
           },
           {
            "bin_end": 3.6,
            "bin_start": 2.7,
            "count": 1
           },
           {
            "bin_end": 4.5,
            "bin_start": 3.6,
            "count": 0
           },
           {
            "bin_end": 5.4,
            "bin_start": 4.5,
            "count": 1
           },
           {
            "bin_end": 6.3,
            "bin_start": 5.4,
            "count": 1
           },
           {
            "bin_end": 7.2,
            "bin_start": 6.3,
            "count": 0
           },
           {
            "bin_end": 8.1,
            "bin_start": 7.2,
            "count": 1
           },
           {
            "bin_end": 9,
            "bin_start": 8.1,
            "count": 1
           }
          ],
          "max": "9.0",
          "min": "0.0",
          "nan_count": 1,
          "unique_count": 9
         }
        },
        {
         "dtype": "object",
         "name": "Online Shopper",
         "stats": {
          "categories": [
           {
            "count": 5,
            "name": "No"
           },
           {
            "count": 5,
            "name": "Yes"
           }
          ],
          "nan_count": 0,
          "unique_count": 2
         }
        },
        {
         "dtype": "float64",
         "name": "Brazil",
         "stats": {
          "histogram": [
           {
            "bin_end": 0.1,
            "bin_start": 0,
            "count": 7
           },
           {
            "bin_end": 0.2,
            "bin_start": 0.1,
            "count": 0
           },
           {
            "bin_end": 0.30000000000000004,
            "bin_start": 0.2,
            "count": 0
           },
           {
            "bin_end": 0.4,
            "bin_start": 0.30000000000000004,
            "count": 0
           },
           {
            "bin_end": 0.5,
            "bin_start": 0.4,
            "count": 0
           },
           {
            "bin_end": 0.6000000000000001,
            "bin_start": 0.5,
            "count": 0
           },
           {
            "bin_end": 0.7000000000000001,
            "bin_start": 0.6000000000000001,
            "count": 0
           },
           {
            "bin_end": 0.8,
            "bin_start": 0.7000000000000001,
            "count": 0
           },
           {
            "bin_end": 0.9,
            "bin_start": 0.8,
            "count": 0
           },
           {
            "bin_end": 1,
            "bin_start": 0.9,
            "count": 3
           }
          ],
          "max": "1.0",
          "min": "0.0",
          "nan_count": 0,
          "unique_count": 2
         }
        },
        {
         "dtype": "float64",
         "name": "India",
         "stats": {
          "histogram": [
           {
            "bin_end": 0.1,
            "bin_start": 0,
            "count": 6
           },
           {
            "bin_end": 0.2,
            "bin_start": 0.1,
            "count": 0
           },
           {
            "bin_end": 0.30000000000000004,
            "bin_start": 0.2,
            "count": 0
           },
           {
            "bin_end": 0.4,
            "bin_start": 0.30000000000000004,
            "count": 0
           },
           {
            "bin_end": 0.5,
            "bin_start": 0.4,
            "count": 0
           },
           {
            "bin_end": 0.6000000000000001,
            "bin_start": 0.5,
            "count": 0
           },
           {
            "bin_end": 0.7000000000000001,
            "bin_start": 0.6000000000000001,
            "count": 0
           },
           {
            "bin_end": 0.8,
            "bin_start": 0.7000000000000001,
            "count": 0
           },
           {
            "bin_end": 0.9,
            "bin_start": 0.8,
            "count": 0
           },
           {
            "bin_end": 1,
            "bin_start": 0.9,
            "count": 4
           }
          ],
          "max": "1.0",
          "min": "0.0",
          "nan_count": 0,
          "unique_count": 2
         }
        },
        {
         "dtype": "float64",
         "name": "USA",
         "stats": {
          "histogram": [
           {
            "bin_end": 0.1,
            "bin_start": 0,
            "count": 7
           },
           {
            "bin_end": 0.2,
            "bin_start": 0.1,
            "count": 0
           },
           {
            "bin_end": 0.30000000000000004,
            "bin_start": 0.2,
            "count": 0
           },
           {
            "bin_end": 0.4,
            "bin_start": 0.30000000000000004,
            "count": 0
           },
           {
            "bin_end": 0.5,
            "bin_start": 0.4,
            "count": 0
           },
           {
            "bin_end": 0.6000000000000001,
            "bin_start": 0.5,
            "count": 0
           },
           {
            "bin_end": 0.7000000000000001,
            "bin_start": 0.6000000000000001,
            "count": 0
           },
           {
            "bin_end": 0.8,
            "bin_start": 0.7000000000000001,
            "count": 0
           },
           {
            "bin_end": 0.9,
            "bin_start": 0.8,
            "count": 0
           },
           {
            "bin_end": 1,
            "bin_start": 0.9,
            "count": 3
           }
          ],
          "max": "1.0",
          "min": "0.0",
          "nan_count": 0,
          "unique_count": 2
         }
        },
        {
         "dtype": "int64",
         "name": "_deepnote_index_column"
        }
       ],
       "row_count": 10,
       "rows_bottom": null,
       "rows_top": [
        {
         "Age": 6.6521739130434785,
         "Brazil": 0,
         "Income": 6.171428571428571,
         "India": 1,
         "Online Shopper": "No",
         "Region": "India",
         "USA": 0,
         "_deepnote_index_column": 0
        },
        {
         "Age": 0,
         "Brazil": 1,
         "Income": 0,
         "India": 0,
         "Online Shopper": "Yes",
         "Region": "Brazil",
         "USA": 0,
         "_deepnote_index_column": 1
        },
        {
         "Age": 1.1739130434782616,
         "Brazil": 0,
         "Income": 1.5428571428571427,
         "India": 0,
         "Online Shopper": "No",
         "Region": "USA",
         "USA": 1,
         "_deepnote_index_column": 2
        },
        {
         "Age": 4.304347826086955,
         "Brazil": 1,
         "Income": 3.3428571428571434,
         "India": 0,
         "Online Shopper": "No",
         "Region": "Brazil",
         "USA": 0,
         "_deepnote_index_column": 3
        },
        {
         "Age": 5.086956521739131,
         "Brazil": 0,
         "Income": "nan",
         "India": 0,
         "Online Shopper": "Yes",
         "Region": "USA",
         "USA": 1,
         "_deepnote_index_column": 4
        },
        {
         "Age": 3.1304347826086953,
         "Brazil": 0,
         "Income": 2.571428571428571,
         "India": 1,
         "Online Shopper": "Yes",
         "Region": "India",
         "USA": 0,
         "_deepnote_index_column": 5
        },
        {
         "Age": "nan",
         "Brazil": 1,
         "Income": 1.0285714285714285,
         "India": 0,
         "Online Shopper": "No",
         "Region": "Brazil",
         "USA": 0,
         "_deepnote_index_column": 6
        },
        {
         "Age": 8.217391304347826,
         "Brazil": 0,
         "Income": 7.9714285714285715,
         "India": 1,
         "Online Shopper": "Yes",
         "Region": "India",
         "USA": 0,
         "_deepnote_index_column": 7
        },
        {
         "Age": 9.000000000000002,
         "Brazil": 0,
         "Income": 9,
         "India": 0,
         "Online Shopper": "No",
         "Region": "USA",
         "USA": 1,
         "_deepnote_index_column": 8
        },
        {
         "Age": 3.913043478260869,
         "Brazil": 0,
         "Income": 4.885714285714286,
         "India": 1,
         "Online Shopper": "Yes",
         "Region": "India",
         "USA": 0,
         "_deepnote_index_column": 9
        }
       ]
      },
      "text/html": [
       "<div>\n",
       "<style scoped>\n",
       "    .dataframe tbody tr th:only-of-type {\n",
       "        vertical-align: middle;\n",
       "    }\n",
       "\n",
       "    .dataframe tbody tr th {\n",
       "        vertical-align: top;\n",
       "    }\n",
       "\n",
       "    .dataframe thead th {\n",
       "        text-align: right;\n",
       "    }\n",
       "</style>\n",
       "<table border=\"1\" class=\"dataframe\">\n",
       "  <thead>\n",
       "    <tr style=\"text-align: right;\">\n",
       "      <th></th>\n",
       "      <th>Region</th>\n",
       "      <th>Age</th>\n",
       "      <th>Income</th>\n",
       "      <th>Online Shopper</th>\n",
       "      <th>Brazil</th>\n",
       "      <th>India</th>\n",
       "      <th>USA</th>\n",
       "    </tr>\n",
       "  </thead>\n",
       "  <tbody>\n",
       "    <tr>\n",
       "      <th>0</th>\n",
       "      <td>India</td>\n",
       "      <td>6.652174</td>\n",
       "      <td>6.171429</td>\n",
       "      <td>No</td>\n",
       "      <td>0.0</td>\n",
       "      <td>1.0</td>\n",
       "      <td>0.0</td>\n",
       "    </tr>\n",
       "    <tr>\n",
       "      <th>1</th>\n",
       "      <td>Brazil</td>\n",
       "      <td>0.000000</td>\n",
       "      <td>0.000000</td>\n",
       "      <td>Yes</td>\n",
       "      <td>1.0</td>\n",
       "      <td>0.0</td>\n",
       "      <td>0.0</td>\n",
       "    </tr>\n",
       "    <tr>\n",
       "      <th>2</th>\n",
       "      <td>USA</td>\n",
       "      <td>1.173913</td>\n",
       "      <td>1.542857</td>\n",
       "      <td>No</td>\n",
       "      <td>0.0</td>\n",
       "      <td>0.0</td>\n",
       "      <td>1.0</td>\n",
       "    </tr>\n",
       "    <tr>\n",
       "      <th>3</th>\n",
       "      <td>Brazil</td>\n",
       "      <td>4.304348</td>\n",
       "      <td>3.342857</td>\n",
       "      <td>No</td>\n",
       "      <td>1.0</td>\n",
       "      <td>0.0</td>\n",
       "      <td>0.0</td>\n",
       "    </tr>\n",
       "    <tr>\n",
       "      <th>4</th>\n",
       "      <td>USA</td>\n",
       "      <td>5.086957</td>\n",
       "      <td>NaN</td>\n",
       "      <td>Yes</td>\n",
       "      <td>0.0</td>\n",
       "      <td>0.0</td>\n",
       "      <td>1.0</td>\n",
       "    </tr>\n",
       "    <tr>\n",
       "      <th>5</th>\n",
       "      <td>India</td>\n",
       "      <td>3.130435</td>\n",
       "      <td>2.571429</td>\n",
       "      <td>Yes</td>\n",
       "      <td>0.0</td>\n",
       "      <td>1.0</td>\n",
       "      <td>0.0</td>\n",
       "    </tr>\n",
       "    <tr>\n",
       "      <th>6</th>\n",
       "      <td>Brazil</td>\n",
       "      <td>NaN</td>\n",
       "      <td>1.028571</td>\n",
       "      <td>No</td>\n",
       "      <td>1.0</td>\n",
       "      <td>0.0</td>\n",
       "      <td>0.0</td>\n",
       "    </tr>\n",
       "    <tr>\n",
       "      <th>7</th>\n",
       "      <td>India</td>\n",
       "      <td>8.217391</td>\n",
       "      <td>7.971429</td>\n",
       "      <td>Yes</td>\n",
       "      <td>0.0</td>\n",
       "      <td>1.0</td>\n",
       "      <td>0.0</td>\n",
       "    </tr>\n",
       "    <tr>\n",
       "      <th>8</th>\n",
       "      <td>USA</td>\n",
       "      <td>9.000000</td>\n",
       "      <td>9.000000</td>\n",
       "      <td>No</td>\n",
       "      <td>0.0</td>\n",
       "      <td>0.0</td>\n",
       "      <td>1.0</td>\n",
       "    </tr>\n",
       "    <tr>\n",
       "      <th>9</th>\n",
       "      <td>India</td>\n",
       "      <td>3.913043</td>\n",
       "      <td>4.885714</td>\n",
       "      <td>Yes</td>\n",
       "      <td>0.0</td>\n",
       "      <td>1.0</td>\n",
       "      <td>0.0</td>\n",
       "    </tr>\n",
       "  </tbody>\n",
       "</table>\n",
       "</div>"
      ],
      "text/plain": [
       "   Region       Age    Income Online Shopper  Brazil  India  USA\n",
       "0   India  6.652174  6.171429             No     0.0    1.0  0.0\n",
       "1  Brazil  0.000000  0.000000            Yes     1.0    0.0  0.0\n",
       "2     USA  1.173913  1.542857             No     0.0    0.0  1.0\n",
       "3  Brazil  4.304348  3.342857             No     1.0    0.0  0.0\n",
       "4     USA  5.086957       NaN            Yes     0.0    0.0  1.0\n",
       "5   India  3.130435  2.571429            Yes     0.0    1.0  0.0\n",
       "6  Brazil       NaN  1.028571             No     1.0    0.0  0.0\n",
       "7   India  8.217391  7.971429            Yes     0.0    1.0  0.0\n",
       "8     USA  9.000000  9.000000             No     0.0    0.0  1.0\n",
       "9   India  3.913043  4.885714            Yes     0.0    1.0  0.0"
      ]
     },
     "execution_count": 24,
     "metadata": {},
     "output_type": "execute_result"
    }
   ],
   "source": [
    "data2"
   ]
  },
  {
   "cell_type": "code",
   "execution_count": null,
   "metadata": {
    "cell_id": "00021-17bf3731-c7e9-47a7-b797-d5bff4dfb1f9",
    "deepnote_cell_type": "code",
    "deepnote_to_be_reexecuted": false,
    "execution_millis": 49,
    "execution_start": 1631381760013,
    "source_hash": "48a45f5b",
    "tags": []
   },
   "outputs": [
    {
     "data": {
      "application/vnd.deepnote.dataframe.v2+json": {
       "column_count": 5,
       "columns": [
        {
         "dtype": "float64",
         "name": "Age",
         "stats": {
          "histogram": [
           {
            "bin_end": 0.9000000000000001,
            "bin_start": 0,
            "count": 1
           },
           {
            "bin_end": 1.8000000000000003,
            "bin_start": 0.9000000000000001,
            "count": 0
           },
           {
            "bin_end": 2.7,
            "bin_start": 1.8000000000000003,
            "count": 0
           },
           {
            "bin_end": 3.6000000000000005,
            "bin_start": 2.7,
            "count": 2
           },
           {
            "bin_end": 4.500000000000001,
            "bin_start": 3.6000000000000005,
            "count": 1
           },
           {
            "bin_end": 5.4,
            "bin_start": 4.500000000000001,
            "count": 1
           },
           {
            "bin_end": 6.300000000000001,
            "bin_start": 5.4,
            "count": 0
           },
           {
            "bin_end": 7.200000000000001,
            "bin_start": 6.300000000000001,
            "count": 1
           },
           {
            "bin_end": 8.100000000000001,
            "bin_start": 7.200000000000001,
            "count": 0
           },
           {
            "bin_end": 9.000000000000002,
            "bin_start": 8.100000000000001,
            "count": 2
           }
          ],
          "max": "9.000000000000002",
          "min": "0.0",
          "nan_count": 0,
          "unique_count": 8
         }
        },
        {
         "dtype": "float64",
         "name": "Income",
         "stats": {
          "histogram": [
           {
            "bin_end": 0.9,
            "bin_start": 0,
            "count": 1
           },
           {
            "bin_end": 1.8,
            "bin_start": 0.9,
            "count": 1
           },
           {
            "bin_end": 2.7,
            "bin_start": 1.8,
            "count": 0
           },
           {
            "bin_end": 3.6,
            "bin_start": 2.7,
            "count": 2
           },
           {
            "bin_end": 4.5,
            "bin_start": 3.6,
            "count": 1
           },
           {
            "bin_end": 5.4,
            "bin_start": 4.5,
            "count": 0
           },
           {
            "bin_end": 6.3,
            "bin_start": 5.4,
            "count": 1
           },
           {
            "bin_end": 7.2,
            "bin_start": 6.3,
            "count": 0
           },
           {
            "bin_end": 8.1,
            "bin_start": 7.2,
            "count": 0
           },
           {
            "bin_end": 9,
            "bin_start": 8.1,
            "count": 2
           }
          ],
          "max": "9.0",
          "min": "0.0",
          "nan_count": 0,
          "unique_count": 7
         }
        },
        {
         "dtype": "float64",
         "name": "Brazil",
         "stats": {
          "histogram": [
           {
            "bin_end": 1,
            "bin_start": 0,
            "count": 6
           },
           {
            "bin_end": 2,
            "bin_start": 1,
            "count": 1
           },
           {
            "bin_end": 3,
            "bin_start": 2,
            "count": 0
           },
           {
            "bin_end": 4,
            "bin_start": 3,
            "count": 0
           },
           {
            "bin_end": 5,
            "bin_start": 4,
            "count": 0
           },
           {
            "bin_end": 6,
            "bin_start": 5,
            "count": 0
           },
           {
            "bin_end": 7,
            "bin_start": 6,
            "count": 0
           },
           {
            "bin_end": 8,
            "bin_start": 7,
            "count": 0
           },
           {
            "bin_end": 9,
            "bin_start": 8,
            "count": 0
           },
           {
            "bin_end": 10,
            "bin_start": 9,
            "count": 1
           }
          ],
          "max": "10.0",
          "min": "0.0",
          "nan_count": 0,
          "unique_count": 6
         }
        },
        {
         "dtype": "float64",
         "name": "India",
         "stats": {
          "histogram": [
           {
            "bin_end": 1,
            "bin_start": 0,
            "count": 5
           },
           {
            "bin_end": 2,
            "bin_start": 1,
            "count": 2
           },
           {
            "bin_end": 3,
            "bin_start": 2,
            "count": 0
           },
           {
            "bin_end": 4,
            "bin_start": 3,
            "count": 0
           },
           {
            "bin_end": 5,
            "bin_start": 4,
            "count": 0
           },
           {
            "bin_end": 6,
            "bin_start": 5,
            "count": 0
           },
           {
            "bin_end": 7,
            "bin_start": 6,
            "count": 0
           },
           {
            "bin_end": 8,
            "bin_start": 7,
            "count": 0
           },
           {
            "bin_end": 9,
            "bin_start": 8,
            "count": 0
           },
           {
            "bin_end": 10,
            "bin_start": 9,
            "count": 1
           }
          ],
          "max": "10.0",
          "min": "0.0",
          "nan_count": 0,
          "unique_count": 5
         }
        },
        {
         "dtype": "float64",
         "name": "USA",
         "stats": {
          "histogram": [
           {
            "bin_end": 1,
            "bin_start": 0,
            "count": 6
           },
           {
            "bin_end": 2,
            "bin_start": 1,
            "count": 1
           },
           {
            "bin_end": 3,
            "bin_start": 2,
            "count": 0
           },
           {
            "bin_end": 4,
            "bin_start": 3,
            "count": 0
           },
           {
            "bin_end": 5,
            "bin_start": 4,
            "count": 0
           },
           {
            "bin_end": 6,
            "bin_start": 5,
            "count": 0
           },
           {
            "bin_end": 7,
            "bin_start": 6,
            "count": 0
           },
           {
            "bin_end": 8,
            "bin_start": 7,
            "count": 0
           },
           {
            "bin_end": 9,
            "bin_start": 8,
            "count": 0
           },
           {
            "bin_end": 10,
            "bin_start": 9,
            "count": 1
           }
          ],
          "max": "10.0",
          "min": "0.0",
          "nan_count": 0,
          "unique_count": 6
         }
        },
        {
         "dtype": "object",
         "name": "_deepnote_index_column"
        }
       ],
       "row_count": 8,
       "rows_bottom": null,
       "rows_top": [
        {
         "Age": 9,
         "Brazil": 10,
         "Income": 9,
         "India": 10,
         "USA": 10,
         "_deepnote_index_column": "count"
        },
        {
         "Age": 4.608695652173913,
         "Brazil": 0.3,
         "Income": 4.057142857142857,
         "India": 0.4,
         "USA": 0.3,
         "_deepnote_index_column": "mean"
        },
        {
         "Age": 3.0106144924131635,
         "Brazil": 0.4830458915396479,
         "Income": 3.15400619879556,
         "India": 0.5163977794943222,
         "USA": 0.4830458915396479,
         "_deepnote_index_column": "std"
        },
        {
         "Age": 0,
         "Brazil": 0,
         "Income": 0,
         "India": 0,
         "USA": 0,
         "_deepnote_index_column": "min"
        },
        {
         "Age": 3.1304347826086953,
         "Brazil": 0,
         "Income": 1.5428571428571427,
         "India": 0,
         "USA": 0,
         "_deepnote_index_column": "25%"
        },
        {
         "Age": 4.304347826086955,
         "Brazil": 0,
         "Income": 3.3428571428571434,
         "India": 0,
         "USA": 0,
         "_deepnote_index_column": "50%"
        },
        {
         "Age": 6.6521739130434785,
         "Brazil": 0.75,
         "Income": 6.171428571428571,
         "India": 1,
         "USA": 0.75,
         "_deepnote_index_column": "75%"
        },
        {
         "Age": 9.000000000000002,
         "Brazil": 1,
         "Income": 9,
         "India": 1,
         "USA": 1,
         "_deepnote_index_column": "max"
        }
       ]
      },
      "text/html": [
       "<div>\n",
       "<style scoped>\n",
       "    .dataframe tbody tr th:only-of-type {\n",
       "        vertical-align: middle;\n",
       "    }\n",
       "\n",
       "    .dataframe tbody tr th {\n",
       "        vertical-align: top;\n",
       "    }\n",
       "\n",
       "    .dataframe thead th {\n",
       "        text-align: right;\n",
       "    }\n",
       "</style>\n",
       "<table border=\"1\" class=\"dataframe\">\n",
       "  <thead>\n",
       "    <tr style=\"text-align: right;\">\n",
       "      <th></th>\n",
       "      <th>Age</th>\n",
       "      <th>Income</th>\n",
       "      <th>Brazil</th>\n",
       "      <th>India</th>\n",
       "      <th>USA</th>\n",
       "    </tr>\n",
       "  </thead>\n",
       "  <tbody>\n",
       "    <tr>\n",
       "      <th>count</th>\n",
       "      <td>9.000000</td>\n",
       "      <td>9.000000</td>\n",
       "      <td>10.000000</td>\n",
       "      <td>10.000000</td>\n",
       "      <td>10.000000</td>\n",
       "    </tr>\n",
       "    <tr>\n",
       "      <th>mean</th>\n",
       "      <td>4.608696</td>\n",
       "      <td>4.057143</td>\n",
       "      <td>0.300000</td>\n",
       "      <td>0.400000</td>\n",
       "      <td>0.300000</td>\n",
       "    </tr>\n",
       "    <tr>\n",
       "      <th>std</th>\n",
       "      <td>3.010614</td>\n",
       "      <td>3.154006</td>\n",
       "      <td>0.483046</td>\n",
       "      <td>0.516398</td>\n",
       "      <td>0.483046</td>\n",
       "    </tr>\n",
       "    <tr>\n",
       "      <th>min</th>\n",
       "      <td>0.000000</td>\n",
       "      <td>0.000000</td>\n",
       "      <td>0.000000</td>\n",
       "      <td>0.000000</td>\n",
       "      <td>0.000000</td>\n",
       "    </tr>\n",
       "    <tr>\n",
       "      <th>25%</th>\n",
       "      <td>3.130435</td>\n",
       "      <td>1.542857</td>\n",
       "      <td>0.000000</td>\n",
       "      <td>0.000000</td>\n",
       "      <td>0.000000</td>\n",
       "    </tr>\n",
       "    <tr>\n",
       "      <th>50%</th>\n",
       "      <td>4.304348</td>\n",
       "      <td>3.342857</td>\n",
       "      <td>0.000000</td>\n",
       "      <td>0.000000</td>\n",
       "      <td>0.000000</td>\n",
       "    </tr>\n",
       "    <tr>\n",
       "      <th>75%</th>\n",
       "      <td>6.652174</td>\n",
       "      <td>6.171429</td>\n",
       "      <td>0.750000</td>\n",
       "      <td>1.000000</td>\n",
       "      <td>0.750000</td>\n",
       "    </tr>\n",
       "    <tr>\n",
       "      <th>max</th>\n",
       "      <td>9.000000</td>\n",
       "      <td>9.000000</td>\n",
       "      <td>1.000000</td>\n",
       "      <td>1.000000</td>\n",
       "      <td>1.000000</td>\n",
       "    </tr>\n",
       "  </tbody>\n",
       "</table>\n",
       "</div>"
      ],
      "text/plain": [
       "            Age    Income     Brazil      India        USA\n",
       "count  9.000000  9.000000  10.000000  10.000000  10.000000\n",
       "mean   4.608696  4.057143   0.300000   0.400000   0.300000\n",
       "std    3.010614  3.154006   0.483046   0.516398   0.483046\n",
       "min    0.000000  0.000000   0.000000   0.000000   0.000000\n",
       "25%    3.130435  1.542857   0.000000   0.000000   0.000000\n",
       "50%    4.304348  3.342857   0.000000   0.000000   0.000000\n",
       "75%    6.652174  6.171429   0.750000   1.000000   0.750000\n",
       "max    9.000000  9.000000   1.000000   1.000000   1.000000"
      ]
     },
     "execution_count": 25,
     "metadata": {},
     "output_type": "execute_result"
    }
   ],
   "source": [
    "data2.describe()"
   ]
  },
  {
   "cell_type": "code",
   "execution_count": null,
   "metadata": {
    "cell_id": "00022-9823d7b0-3213-4bae-9f44-d54d343e5b8d",
    "deepnote_cell_type": "code",
    "deepnote_to_be_reexecuted": false,
    "execution_millis": 7,
    "execution_start": 1631381760757,
    "source_hash": "c737eec",
    "tags": []
   },
   "outputs": [
    {
     "name": "stdout",
     "output_type": "stream",
     "text": [
      "<class 'pandas.core.frame.DataFrame'>\n",
      "RangeIndex: 10 entries, 0 to 9\n",
      "Data columns (total 7 columns):\n",
      " #   Column          Non-Null Count  Dtype  \n",
      "---  ------          --------------  -----  \n",
      " 0   Region          10 non-null     object \n",
      " 1   Age             9 non-null      float64\n",
      " 2   Income          9 non-null      float64\n",
      " 3   Online Shopper  10 non-null     object \n",
      " 4   Brazil          10 non-null     float64\n",
      " 5   India           10 non-null     float64\n",
      " 6   USA             10 non-null     float64\n",
      "dtypes: float64(5), object(2)\n",
      "memory usage: 688.0+ bytes\n"
     ]
    }
   ],
   "source": [
    "data2.info()"
   ]
  },
  {
   "cell_type": "code",
   "execution_count": null,
   "metadata": {
    "cell_id": "00023-93a4c81f-9aed-4ed8-a574-63adb0908168",
    "deepnote_cell_type": "code",
    "deepnote_to_be_reexecuted": false,
    "execution_millis": 28,
    "execution_start": 1631381761622,
    "source_hash": "d786443f",
    "tags": []
   },
   "outputs": [
    {
     "data": {
      "application/vnd.deepnote.dataframe.v2+json": {
       "column_count": 2,
       "columns": [
        {
         "dtype": "float64",
         "name": "Age",
         "stats": {
          "histogram": [
           {
            "bin_end": 12.424413332550275,
            "bin_start": 7.693792591722527,
            "count": 2
           },
           {
            "bin_end": 17.155034073378022,
            "bin_start": 12.424413332550275,
            "count": 0
           },
           {
            "bin_end": 21.885654814205772,
            "bin_start": 17.155034073378022,
            "count": 0
           },
           {
            "bin_end": 26.616275555033518,
            "bin_start": 21.885654814205772,
            "count": 0
           },
           {
            "bin_end": 31.346896295861264,
            "bin_start": 26.616275555033518,
            "count": 0
           },
           {
            "bin_end": 36.07751703668902,
            "bin_start": 31.346896295861264,
            "count": 1
           },
           {
            "bin_end": 40.80813777751676,
            "bin_start": 36.07751703668902,
            "count": 1
           },
           {
            "bin_end": 45.53875851834451,
            "bin_start": 40.80813777751676,
            "count": 2
           },
           {
            "bin_end": 50.269379259172254,
            "bin_start": 45.53875851834451,
            "count": 1
           },
           {
            "bin_end": 55,
            "bin_start": 50.269379259172254,
            "count": 1
           }
          ],
          "max": "55.0",
          "min": "7.693792591722527",
          "nan_count": 0,
          "unique_count": 8
         }
        },
        {
         "dtype": "float64",
         "name": "Income",
         "stats": {
          "histogram": [
           {
            "bin_end": 9968.1,
            "bin_start": 9,
            "count": 1
           },
           {
            "bin_end": 19927.2,
            "bin_start": 9968.1,
            "count": 1
           },
           {
            "bin_end": 29886.300000000003,
            "bin_start": 19927.2,
            "count": 0
           },
           {
            "bin_end": 39845.4,
            "bin_start": 29886.300000000003,
            "count": 0
           },
           {
            "bin_end": 49804.5,
            "bin_start": 39845.4,
            "count": 0
           },
           {
            "bin_end": 59763.600000000006,
            "bin_start": 49804.5,
            "count": 1
           },
           {
            "bin_end": 69722.7,
            "bin_start": 59763.600000000006,
            "count": 1
           },
           {
            "bin_end": 79681.8,
            "bin_start": 69722.7,
            "count": 2
           },
           {
            "bin_end": 89640.90000000001,
            "bin_start": 79681.8,
            "count": 1
           },
           {
            "bin_end": 99600,
            "bin_start": 89640.90000000001,
            "count": 1
           }
          ],
          "max": "99600.0",
          "min": "9.0",
          "nan_count": 0,
          "unique_count": 8
         }
        },
        {
         "dtype": "object",
         "name": "_deepnote_index_column"
        }
       ],
       "row_count": 8,
       "rows_bottom": null,
       "rows_top": [
        {
         "Age": 9,
         "Income": 9,
         "_deepnote_index_column": "count"
        },
        {
         "Age": 43.77777777777778,
         "Income": 76533.33333333333,
         "_deepnote_index_column": "mean"
        },
        {
         "Age": 7.693792591722527,
         "Income": 14718.695594379278,
         "_deepnote_index_column": "std"
        },
        {
         "Age": 32,
         "Income": 57600,
         "_deepnote_index_column": "min"
        },
        {
         "Age": 40,
         "Income": 64800,
         "_deepnote_index_column": "25%"
        },
        {
         "Age": 43,
         "Income": 73200,
         "_deepnote_index_column": "50%"
        },
        {
         "Age": 49,
         "Income": 86400,
         "_deepnote_index_column": "75%"
        },
        {
         "Age": 55,
         "Income": 99600,
         "_deepnote_index_column": "max"
        }
       ]
      },
      "text/html": [
       "<div>\n",
       "<style scoped>\n",
       "    .dataframe tbody tr th:only-of-type {\n",
       "        vertical-align: middle;\n",
       "    }\n",
       "\n",
       "    .dataframe tbody tr th {\n",
       "        vertical-align: top;\n",
       "    }\n",
       "\n",
       "    .dataframe thead th {\n",
       "        text-align: right;\n",
       "    }\n",
       "</style>\n",
       "<table border=\"1\" class=\"dataframe\">\n",
       "  <thead>\n",
       "    <tr style=\"text-align: right;\">\n",
       "      <th></th>\n",
       "      <th>Age</th>\n",
       "      <th>Income</th>\n",
       "    </tr>\n",
       "  </thead>\n",
       "  <tbody>\n",
       "    <tr>\n",
       "      <th>count</th>\n",
       "      <td>9.000000</td>\n",
       "      <td>9.000000</td>\n",
       "    </tr>\n",
       "    <tr>\n",
       "      <th>mean</th>\n",
       "      <td>43.777778</td>\n",
       "      <td>76533.333333</td>\n",
       "    </tr>\n",
       "    <tr>\n",
       "      <th>std</th>\n",
       "      <td>7.693793</td>\n",
       "      <td>14718.695594</td>\n",
       "    </tr>\n",
       "    <tr>\n",
       "      <th>min</th>\n",
       "      <td>32.000000</td>\n",
       "      <td>57600.000000</td>\n",
       "    </tr>\n",
       "    <tr>\n",
       "      <th>25%</th>\n",
       "      <td>40.000000</td>\n",
       "      <td>64800.000000</td>\n",
       "    </tr>\n",
       "    <tr>\n",
       "      <th>50%</th>\n",
       "      <td>43.000000</td>\n",
       "      <td>73200.000000</td>\n",
       "    </tr>\n",
       "    <tr>\n",
       "      <th>75%</th>\n",
       "      <td>49.000000</td>\n",
       "      <td>86400.000000</td>\n",
       "    </tr>\n",
       "    <tr>\n",
       "      <th>max</th>\n",
       "      <td>55.000000</td>\n",
       "      <td>99600.000000</td>\n",
       "    </tr>\n",
       "  </tbody>\n",
       "</table>\n",
       "</div>"
      ],
      "text/plain": [
       "             Age        Income\n",
       "count   9.000000      9.000000\n",
       "mean   43.777778  76533.333333\n",
       "std     7.693793  14718.695594\n",
       "min    32.000000  57600.000000\n",
       "25%    40.000000  64800.000000\n",
       "50%    43.000000  73200.000000\n",
       "75%    49.000000  86400.000000\n",
       "max    55.000000  99600.000000"
      ]
     },
     "execution_count": 27,
     "metadata": {},
     "output_type": "execute_result"
    }
   ],
   "source": [
    "data.describe()"
   ]
  },
  {
   "cell_type": "markdown",
   "metadata": {
    "cell_id": "00024-334a0b43-108b-47f6-b075-2fb950051f83",
    "deepnote_cell_type": "markdown",
    "tags": []
   },
   "source": [
    "# Splitting Dataset Train and Test"
   ]
  },
  {
   "cell_type": "code",
   "execution_count": null,
   "metadata": {
    "cell_id": "00027-3379aba4-29ec-4df0-84e1-78f79433b9da",
    "deepnote_cell_type": "code",
    "deepnote_to_be_reexecuted": false,
    "execution_millis": 9,
    "execution_start": 1631381763390,
    "source_hash": "258b1279",
    "tags": []
   },
   "outputs": [
    {
     "data": {
      "application/vnd.deepnote.dataframe.v2+json": {
       "column_count": 7,
       "columns": [
        {
         "dtype": "object",
         "name": "Region",
         "stats": {
          "categories": [
           {
            "count": 4,
            "name": "India"
           },
           {
            "count": 3,
            "name": "Brazil"
           },
           {
            "count": 3,
            "name": "USA"
           }
          ],
          "nan_count": 0,
          "unique_count": 3
         }
        },
        {
         "dtype": "float64",
         "name": "Age",
         "stats": {
          "histogram": [
           {
            "bin_end": 0.9000000000000001,
            "bin_start": 0,
            "count": 1
           },
           {
            "bin_end": 1.8000000000000003,
            "bin_start": 0.9000000000000001,
            "count": 1
           },
           {
            "bin_end": 2.7,
            "bin_start": 1.8000000000000003,
            "count": 0
           },
           {
            "bin_end": 3.6000000000000005,
            "bin_start": 2.7,
            "count": 1
           },
           {
            "bin_end": 4.500000000000001,
            "bin_start": 3.6000000000000005,
            "count": 2
           },
           {
            "bin_end": 5.4,
            "bin_start": 4.500000000000001,
            "count": 1
           },
           {
            "bin_end": 6.300000000000001,
            "bin_start": 5.4,
            "count": 0
           },
           {
            "bin_end": 7.200000000000001,
            "bin_start": 6.300000000000001,
            "count": 1
           },
           {
            "bin_end": 8.100000000000001,
            "bin_start": 7.200000000000001,
            "count": 0
           },
           {
            "bin_end": 9.000000000000002,
            "bin_start": 8.100000000000001,
            "count": 2
           }
          ],
          "max": "9.000000000000002",
          "min": "0.0",
          "nan_count": 1,
          "unique_count": 9
         }
        },
        {
         "dtype": "float64",
         "name": "Income",
         "stats": {
          "histogram": [
           {
            "bin_end": 0.9,
            "bin_start": 0,
            "count": 1
           },
           {
            "bin_end": 1.8,
            "bin_start": 0.9,
            "count": 2
           },
           {
            "bin_end": 2.7,
            "bin_start": 1.8,
            "count": 1
           },
           {
            "bin_end": 3.6,
            "bin_start": 2.7,
            "count": 1
           },
           {
            "bin_end": 4.5,
            "bin_start": 3.6,
            "count": 0
           },
           {
            "bin_end": 5.4,
            "bin_start": 4.5,
            "count": 1
           },
           {
            "bin_end": 6.3,
            "bin_start": 5.4,
            "count": 1
           },
           {
            "bin_end": 7.2,
            "bin_start": 6.3,
            "count": 0
           },
           {
            "bin_end": 8.1,
            "bin_start": 7.2,
            "count": 1
           },
           {
            "bin_end": 9,
            "bin_start": 8.1,
            "count": 1
           }
          ],
          "max": "9.0",
          "min": "0.0",
          "nan_count": 1,
          "unique_count": 9
         }
        },
        {
         "dtype": "object",
         "name": "Online Shopper",
         "stats": {
          "categories": [
           {
            "count": 5,
            "name": "No"
           },
           {
            "count": 5,
            "name": "Yes"
           }
          ],
          "nan_count": 0,
          "unique_count": 2
         }
        },
        {
         "dtype": "float64",
         "name": "Brazil",
         "stats": {
          "histogram": [
           {
            "bin_end": 0.1,
            "bin_start": 0,
            "count": 7
           },
           {
            "bin_end": 0.2,
            "bin_start": 0.1,
            "count": 0
           },
           {
            "bin_end": 0.30000000000000004,
            "bin_start": 0.2,
            "count": 0
           },
           {
            "bin_end": 0.4,
            "bin_start": 0.30000000000000004,
            "count": 0
           },
           {
            "bin_end": 0.5,
            "bin_start": 0.4,
            "count": 0
           },
           {
            "bin_end": 0.6000000000000001,
            "bin_start": 0.5,
            "count": 0
           },
           {
            "bin_end": 0.7000000000000001,
            "bin_start": 0.6000000000000001,
            "count": 0
           },
           {
            "bin_end": 0.8,
            "bin_start": 0.7000000000000001,
            "count": 0
           },
           {
            "bin_end": 0.9,
            "bin_start": 0.8,
            "count": 0
           },
           {
            "bin_end": 1,
            "bin_start": 0.9,
            "count": 3
           }
          ],
          "max": "1.0",
          "min": "0.0",
          "nan_count": 0,
          "unique_count": 2
         }
        },
        {
         "dtype": "float64",
         "name": "India",
         "stats": {
          "histogram": [
           {
            "bin_end": 0.1,
            "bin_start": 0,
            "count": 6
           },
           {
            "bin_end": 0.2,
            "bin_start": 0.1,
            "count": 0
           },
           {
            "bin_end": 0.30000000000000004,
            "bin_start": 0.2,
            "count": 0
           },
           {
            "bin_end": 0.4,
            "bin_start": 0.30000000000000004,
            "count": 0
           },
           {
            "bin_end": 0.5,
            "bin_start": 0.4,
            "count": 0
           },
           {
            "bin_end": 0.6000000000000001,
            "bin_start": 0.5,
            "count": 0
           },
           {
            "bin_end": 0.7000000000000001,
            "bin_start": 0.6000000000000001,
            "count": 0
           },
           {
            "bin_end": 0.8,
            "bin_start": 0.7000000000000001,
            "count": 0
           },
           {
            "bin_end": 0.9,
            "bin_start": 0.8,
            "count": 0
           },
           {
            "bin_end": 1,
            "bin_start": 0.9,
            "count": 4
           }
          ],
          "max": "1.0",
          "min": "0.0",
          "nan_count": 0,
          "unique_count": 2
         }
        },
        {
         "dtype": "float64",
         "name": "USA",
         "stats": {
          "histogram": [
           {
            "bin_end": 0.1,
            "bin_start": 0,
            "count": 7
           },
           {
            "bin_end": 0.2,
            "bin_start": 0.1,
            "count": 0
           },
           {
            "bin_end": 0.30000000000000004,
            "bin_start": 0.2,
            "count": 0
           },
           {
            "bin_end": 0.4,
            "bin_start": 0.30000000000000004,
            "count": 0
           },
           {
            "bin_end": 0.5,
            "bin_start": 0.4,
            "count": 0
           },
           {
            "bin_end": 0.6000000000000001,
            "bin_start": 0.5,
            "count": 0
           },
           {
            "bin_end": 0.7000000000000001,
            "bin_start": 0.6000000000000001,
            "count": 0
           },
           {
            "bin_end": 0.8,
            "bin_start": 0.7000000000000001,
            "count": 0
           },
           {
            "bin_end": 0.9,
            "bin_start": 0.8,
            "count": 0
           },
           {
            "bin_end": 1,
            "bin_start": 0.9,
            "count": 3
           }
          ],
          "max": "1.0",
          "min": "0.0",
          "nan_count": 0,
          "unique_count": 2
         }
        },
        {
         "dtype": "int64",
         "name": "_deepnote_index_column"
        }
       ],
       "row_count": 10,
       "rows_bottom": null,
       "rows_top": [
        {
         "Age": 6.6521739130434785,
         "Brazil": 0,
         "Income": 6.171428571428571,
         "India": 1,
         "Online Shopper": "No",
         "Region": "India",
         "USA": 0,
         "_deepnote_index_column": 0
        },
        {
         "Age": 0,
         "Brazil": 1,
         "Income": 0,
         "India": 0,
         "Online Shopper": "Yes",
         "Region": "Brazil",
         "USA": 0,
         "_deepnote_index_column": 1
        },
        {
         "Age": 1.1739130434782616,
         "Brazil": 0,
         "Income": 1.5428571428571427,
         "India": 0,
         "Online Shopper": "No",
         "Region": "USA",
         "USA": 1,
         "_deepnote_index_column": 2
        },
        {
         "Age": 4.304347826086955,
         "Brazil": 1,
         "Income": 3.3428571428571434,
         "India": 0,
         "Online Shopper": "No",
         "Region": "Brazil",
         "USA": 0,
         "_deepnote_index_column": 3
        },
        {
         "Age": 5.086956521739131,
         "Brazil": 0,
         "Income": "nan",
         "India": 0,
         "Online Shopper": "Yes",
         "Region": "USA",
         "USA": 1,
         "_deepnote_index_column": 4
        },
        {
         "Age": 3.1304347826086953,
         "Brazil": 0,
         "Income": 2.571428571428571,
         "India": 1,
         "Online Shopper": "Yes",
         "Region": "India",
         "USA": 0,
         "_deepnote_index_column": 5
        },
        {
         "Age": "nan",
         "Brazil": 1,
         "Income": 1.0285714285714285,
         "India": 0,
         "Online Shopper": "No",
         "Region": "Brazil",
         "USA": 0,
         "_deepnote_index_column": 6
        },
        {
         "Age": 8.217391304347826,
         "Brazil": 0,
         "Income": 7.9714285714285715,
         "India": 1,
         "Online Shopper": "Yes",
         "Region": "India",
         "USA": 0,
         "_deepnote_index_column": 7
        },
        {
         "Age": 9.000000000000002,
         "Brazil": 0,
         "Income": 9,
         "India": 0,
         "Online Shopper": "No",
         "Region": "USA",
         "USA": 1,
         "_deepnote_index_column": 8
        },
        {
         "Age": 3.913043478260869,
         "Brazil": 0,
         "Income": 4.885714285714286,
         "India": 1,
         "Online Shopper": "Yes",
         "Region": "India",
         "USA": 0,
         "_deepnote_index_column": 9
        }
       ]
      },
      "text/html": [
       "<div>\n",
       "<style scoped>\n",
       "    .dataframe tbody tr th:only-of-type {\n",
       "        vertical-align: middle;\n",
       "    }\n",
       "\n",
       "    .dataframe tbody tr th {\n",
       "        vertical-align: top;\n",
       "    }\n",
       "\n",
       "    .dataframe thead th {\n",
       "        text-align: right;\n",
       "    }\n",
       "</style>\n",
       "<table border=\"1\" class=\"dataframe\">\n",
       "  <thead>\n",
       "    <tr style=\"text-align: right;\">\n",
       "      <th></th>\n",
       "      <th>Region</th>\n",
       "      <th>Age</th>\n",
       "      <th>Income</th>\n",
       "      <th>Online Shopper</th>\n",
       "      <th>Brazil</th>\n",
       "      <th>India</th>\n",
       "      <th>USA</th>\n",
       "    </tr>\n",
       "  </thead>\n",
       "  <tbody>\n",
       "    <tr>\n",
       "      <th>0</th>\n",
       "      <td>India</td>\n",
       "      <td>6.652174</td>\n",
       "      <td>6.171429</td>\n",
       "      <td>No</td>\n",
       "      <td>0.0</td>\n",
       "      <td>1.0</td>\n",
       "      <td>0.0</td>\n",
       "    </tr>\n",
       "    <tr>\n",
       "      <th>1</th>\n",
       "      <td>Brazil</td>\n",
       "      <td>0.000000</td>\n",
       "      <td>0.000000</td>\n",
       "      <td>Yes</td>\n",
       "      <td>1.0</td>\n",
       "      <td>0.0</td>\n",
       "      <td>0.0</td>\n",
       "    </tr>\n",
       "    <tr>\n",
       "      <th>2</th>\n",
       "      <td>USA</td>\n",
       "      <td>1.173913</td>\n",
       "      <td>1.542857</td>\n",
       "      <td>No</td>\n",
       "      <td>0.0</td>\n",
       "      <td>0.0</td>\n",
       "      <td>1.0</td>\n",
       "    </tr>\n",
       "    <tr>\n",
       "      <th>3</th>\n",
       "      <td>Brazil</td>\n",
       "      <td>4.304348</td>\n",
       "      <td>3.342857</td>\n",
       "      <td>No</td>\n",
       "      <td>1.0</td>\n",
       "      <td>0.0</td>\n",
       "      <td>0.0</td>\n",
       "    </tr>\n",
       "    <tr>\n",
       "      <th>4</th>\n",
       "      <td>USA</td>\n",
       "      <td>5.086957</td>\n",
       "      <td>NaN</td>\n",
       "      <td>Yes</td>\n",
       "      <td>0.0</td>\n",
       "      <td>0.0</td>\n",
       "      <td>1.0</td>\n",
       "    </tr>\n",
       "    <tr>\n",
       "      <th>5</th>\n",
       "      <td>India</td>\n",
       "      <td>3.130435</td>\n",
       "      <td>2.571429</td>\n",
       "      <td>Yes</td>\n",
       "      <td>0.0</td>\n",
       "      <td>1.0</td>\n",
       "      <td>0.0</td>\n",
       "    </tr>\n",
       "    <tr>\n",
       "      <th>6</th>\n",
       "      <td>Brazil</td>\n",
       "      <td>NaN</td>\n",
       "      <td>1.028571</td>\n",
       "      <td>No</td>\n",
       "      <td>1.0</td>\n",
       "      <td>0.0</td>\n",
       "      <td>0.0</td>\n",
       "    </tr>\n",
       "    <tr>\n",
       "      <th>7</th>\n",
       "      <td>India</td>\n",
       "      <td>8.217391</td>\n",
       "      <td>7.971429</td>\n",
       "      <td>Yes</td>\n",
       "      <td>0.0</td>\n",
       "      <td>1.0</td>\n",
       "      <td>0.0</td>\n",
       "    </tr>\n",
       "    <tr>\n",
       "      <th>8</th>\n",
       "      <td>USA</td>\n",
       "      <td>9.000000</td>\n",
       "      <td>9.000000</td>\n",
       "      <td>No</td>\n",
       "      <td>0.0</td>\n",
       "      <td>0.0</td>\n",
       "      <td>1.0</td>\n",
       "    </tr>\n",
       "    <tr>\n",
       "      <th>9</th>\n",
       "      <td>India</td>\n",
       "      <td>3.913043</td>\n",
       "      <td>4.885714</td>\n",
       "      <td>Yes</td>\n",
       "      <td>0.0</td>\n",
       "      <td>1.0</td>\n",
       "      <td>0.0</td>\n",
       "    </tr>\n",
       "  </tbody>\n",
       "</table>\n",
       "</div>"
      ],
      "text/plain": [
       "   Region       Age    Income Online Shopper  Brazil  India  USA\n",
       "0   India  6.652174  6.171429             No     0.0    1.0  0.0\n",
       "1  Brazil  0.000000  0.000000            Yes     1.0    0.0  0.0\n",
       "2     USA  1.173913  1.542857             No     0.0    0.0  1.0\n",
       "3  Brazil  4.304348  3.342857             No     1.0    0.0  0.0\n",
       "4     USA  5.086957       NaN            Yes     0.0    0.0  1.0\n",
       "5   India  3.130435  2.571429            Yes     0.0    1.0  0.0\n",
       "6  Brazil       NaN  1.028571             No     1.0    0.0  0.0\n",
       "7   India  8.217391  7.971429            Yes     0.0    1.0  0.0\n",
       "8     USA  9.000000  9.000000             No     0.0    0.0  1.0\n",
       "9   India  3.913043  4.885714            Yes     0.0    1.0  0.0"
      ]
     },
     "execution_count": 28,
     "metadata": {},
     "output_type": "execute_result"
    }
   ],
   "source": [
    "data2"
   ]
  },
  {
   "cell_type": "code",
   "execution_count": null,
   "metadata": {
    "cell_id": "00027-c779e486-bd00-4ab5-a423-b603f3d8b809",
    "deepnote_cell_type": "code",
    "deepnote_to_be_reexecuted": false,
    "execution_millis": 9,
    "execution_start": 1631381764646,
    "source_hash": "bdfc7813",
    "tags": []
   },
   "outputs": [
    {
     "data": {
      "application/vnd.deepnote.dataframe.v2+json": {
       "column_count": 6,
       "columns": [
        {
         "dtype": "object",
         "name": "Region",
         "stats": {
          "categories": [
           {
            "count": 4,
            "name": "India"
           },
           {
            "count": 3,
            "name": "Brazil"
           },
           {
            "count": 3,
            "name": "USA"
           }
          ],
          "nan_count": 0,
          "unique_count": 3
         }
        },
        {
         "dtype": "float64",
         "name": "Age",
         "stats": {
          "histogram": [
           {
            "bin_end": 0.9000000000000001,
            "bin_start": 0,
            "count": 1
           },
           {
            "bin_end": 1.8000000000000003,
            "bin_start": 0.9000000000000001,
            "count": 1
           },
           {
            "bin_end": 2.7,
            "bin_start": 1.8000000000000003,
            "count": 0
           },
           {
            "bin_end": 3.6000000000000005,
            "bin_start": 2.7,
            "count": 1
           },
           {
            "bin_end": 4.500000000000001,
            "bin_start": 3.6000000000000005,
            "count": 2
           },
           {
            "bin_end": 5.4,
            "bin_start": 4.500000000000001,
            "count": 1
           },
           {
            "bin_end": 6.300000000000001,
            "bin_start": 5.4,
            "count": 0
           },
           {
            "bin_end": 7.200000000000001,
            "bin_start": 6.300000000000001,
            "count": 1
           },
           {
            "bin_end": 8.100000000000001,
            "bin_start": 7.200000000000001,
            "count": 0
           },
           {
            "bin_end": 9.000000000000002,
            "bin_start": 8.100000000000001,
            "count": 2
           }
          ],
          "max": "9.000000000000002",
          "min": "0.0",
          "nan_count": 1,
          "unique_count": 9
         }
        },
        {
         "dtype": "float64",
         "name": "Income",
         "stats": {
          "histogram": [
           {
            "bin_end": 0.9,
            "bin_start": 0,
            "count": 1
           },
           {
            "bin_end": 1.8,
            "bin_start": 0.9,
            "count": 2
           },
           {
            "bin_end": 2.7,
            "bin_start": 1.8,
            "count": 1
           },
           {
            "bin_end": 3.6,
            "bin_start": 2.7,
            "count": 1
           },
           {
            "bin_end": 4.5,
            "bin_start": 3.6,
            "count": 0
           },
           {
            "bin_end": 5.4,
            "bin_start": 4.5,
            "count": 1
           },
           {
            "bin_end": 6.3,
            "bin_start": 5.4,
            "count": 1
           },
           {
            "bin_end": 7.2,
            "bin_start": 6.3,
            "count": 0
           },
           {
            "bin_end": 8.1,
            "bin_start": 7.2,
            "count": 1
           },
           {
            "bin_end": 9,
            "bin_start": 8.1,
            "count": 1
           }
          ],
          "max": "9.0",
          "min": "0.0",
          "nan_count": 1,
          "unique_count": 9
         }
        },
        {
         "dtype": "float64",
         "name": "Brazil",
         "stats": {
          "histogram": [
           {
            "bin_end": 0.1,
            "bin_start": 0,
            "count": 7
           },
           {
            "bin_end": 0.2,
            "bin_start": 0.1,
            "count": 0
           },
           {
            "bin_end": 0.30000000000000004,
            "bin_start": 0.2,
            "count": 0
           },
           {
            "bin_end": 0.4,
            "bin_start": 0.30000000000000004,
            "count": 0
           },
           {
            "bin_end": 0.5,
            "bin_start": 0.4,
            "count": 0
           },
           {
            "bin_end": 0.6000000000000001,
            "bin_start": 0.5,
            "count": 0
           },
           {
            "bin_end": 0.7000000000000001,
            "bin_start": 0.6000000000000001,
            "count": 0
           },
           {
            "bin_end": 0.8,
            "bin_start": 0.7000000000000001,
            "count": 0
           },
           {
            "bin_end": 0.9,
            "bin_start": 0.8,
            "count": 0
           },
           {
            "bin_end": 1,
            "bin_start": 0.9,
            "count": 3
           }
          ],
          "max": "1.0",
          "min": "0.0",
          "nan_count": 0,
          "unique_count": 2
         }
        },
        {
         "dtype": "float64",
         "name": "India",
         "stats": {
          "histogram": [
           {
            "bin_end": 0.1,
            "bin_start": 0,
            "count": 6
           },
           {
            "bin_end": 0.2,
            "bin_start": 0.1,
            "count": 0
           },
           {
            "bin_end": 0.30000000000000004,
            "bin_start": 0.2,
            "count": 0
           },
           {
            "bin_end": 0.4,
            "bin_start": 0.30000000000000004,
            "count": 0
           },
           {
            "bin_end": 0.5,
            "bin_start": 0.4,
            "count": 0
           },
           {
            "bin_end": 0.6000000000000001,
            "bin_start": 0.5,
            "count": 0
           },
           {
            "bin_end": 0.7000000000000001,
            "bin_start": 0.6000000000000001,
            "count": 0
           },
           {
            "bin_end": 0.8,
            "bin_start": 0.7000000000000001,
            "count": 0
           },
           {
            "bin_end": 0.9,
            "bin_start": 0.8,
            "count": 0
           },
           {
            "bin_end": 1,
            "bin_start": 0.9,
            "count": 4
           }
          ],
          "max": "1.0",
          "min": "0.0",
          "nan_count": 0,
          "unique_count": 2
         }
        },
        {
         "dtype": "float64",
         "name": "USA",
         "stats": {
          "histogram": [
           {
            "bin_end": 0.1,
            "bin_start": 0,
            "count": 7
           },
           {
            "bin_end": 0.2,
            "bin_start": 0.1,
            "count": 0
           },
           {
            "bin_end": 0.30000000000000004,
            "bin_start": 0.2,
            "count": 0
           },
           {
            "bin_end": 0.4,
            "bin_start": 0.30000000000000004,
            "count": 0
           },
           {
            "bin_end": 0.5,
            "bin_start": 0.4,
            "count": 0
           },
           {
            "bin_end": 0.6000000000000001,
            "bin_start": 0.5,
            "count": 0
           },
           {
            "bin_end": 0.7000000000000001,
            "bin_start": 0.6000000000000001,
            "count": 0
           },
           {
            "bin_end": 0.8,
            "bin_start": 0.7000000000000001,
            "count": 0
           },
           {
            "bin_end": 0.9,
            "bin_start": 0.8,
            "count": 0
           },
           {
            "bin_end": 1,
            "bin_start": 0.9,
            "count": 3
           }
          ],
          "max": "1.0",
          "min": "0.0",
          "nan_count": 0,
          "unique_count": 2
         }
        },
        {
         "dtype": "int64",
         "name": "_deepnote_index_column"
        }
       ],
       "row_count": 10,
       "rows_bottom": null,
       "rows_top": [
        {
         "Age": 6.6521739130434785,
         "Brazil": 0,
         "Income": 6.171428571428571,
         "India": 1,
         "Region": "India",
         "USA": 0,
         "_deepnote_index_column": 0
        },
        {
         "Age": 0,
         "Brazil": 1,
         "Income": 0,
         "India": 0,
         "Region": "Brazil",
         "USA": 0,
         "_deepnote_index_column": 1
        },
        {
         "Age": 1.1739130434782616,
         "Brazil": 0,
         "Income": 1.5428571428571427,
         "India": 0,
         "Region": "USA",
         "USA": 1,
         "_deepnote_index_column": 2
        },
        {
         "Age": 4.304347826086955,
         "Brazil": 1,
         "Income": 3.3428571428571434,
         "India": 0,
         "Region": "Brazil",
         "USA": 0,
         "_deepnote_index_column": 3
        },
        {
         "Age": 5.086956521739131,
         "Brazil": 0,
         "Income": "nan",
         "India": 0,
         "Region": "USA",
         "USA": 1,
         "_deepnote_index_column": 4
        },
        {
         "Age": 3.1304347826086953,
         "Brazil": 0,
         "Income": 2.571428571428571,
         "India": 1,
         "Region": "India",
         "USA": 0,
         "_deepnote_index_column": 5
        },
        {
         "Age": "nan",
         "Brazil": 1,
         "Income": 1.0285714285714285,
         "India": 0,
         "Region": "Brazil",
         "USA": 0,
         "_deepnote_index_column": 6
        },
        {
         "Age": 8.217391304347826,
         "Brazil": 0,
         "Income": 7.9714285714285715,
         "India": 1,
         "Region": "India",
         "USA": 0,
         "_deepnote_index_column": 7
        },
        {
         "Age": 9.000000000000002,
         "Brazil": 0,
         "Income": 9,
         "India": 0,
         "Region": "USA",
         "USA": 1,
         "_deepnote_index_column": 8
        },
        {
         "Age": 3.913043478260869,
         "Brazil": 0,
         "Income": 4.885714285714286,
         "India": 1,
         "Region": "India",
         "USA": 0,
         "_deepnote_index_column": 9
        }
       ]
      },
      "text/html": [
       "<div>\n",
       "<style scoped>\n",
       "    .dataframe tbody tr th:only-of-type {\n",
       "        vertical-align: middle;\n",
       "    }\n",
       "\n",
       "    .dataframe tbody tr th {\n",
       "        vertical-align: top;\n",
       "    }\n",
       "\n",
       "    .dataframe thead th {\n",
       "        text-align: right;\n",
       "    }\n",
       "</style>\n",
       "<table border=\"1\" class=\"dataframe\">\n",
       "  <thead>\n",
       "    <tr style=\"text-align: right;\">\n",
       "      <th></th>\n",
       "      <th>Region</th>\n",
       "      <th>Age</th>\n",
       "      <th>Income</th>\n",
       "      <th>Brazil</th>\n",
       "      <th>India</th>\n",
       "      <th>USA</th>\n",
       "    </tr>\n",
       "  </thead>\n",
       "  <tbody>\n",
       "    <tr>\n",
       "      <th>0</th>\n",
       "      <td>India</td>\n",
       "      <td>6.652174</td>\n",
       "      <td>6.171429</td>\n",
       "      <td>0.0</td>\n",
       "      <td>1.0</td>\n",
       "      <td>0.0</td>\n",
       "    </tr>\n",
       "    <tr>\n",
       "      <th>1</th>\n",
       "      <td>Brazil</td>\n",
       "      <td>0.000000</td>\n",
       "      <td>0.000000</td>\n",
       "      <td>1.0</td>\n",
       "      <td>0.0</td>\n",
       "      <td>0.0</td>\n",
       "    </tr>\n",
       "    <tr>\n",
       "      <th>2</th>\n",
       "      <td>USA</td>\n",
       "      <td>1.173913</td>\n",
       "      <td>1.542857</td>\n",
       "      <td>0.0</td>\n",
       "      <td>0.0</td>\n",
       "      <td>1.0</td>\n",
       "    </tr>\n",
       "    <tr>\n",
       "      <th>3</th>\n",
       "      <td>Brazil</td>\n",
       "      <td>4.304348</td>\n",
       "      <td>3.342857</td>\n",
       "      <td>1.0</td>\n",
       "      <td>0.0</td>\n",
       "      <td>0.0</td>\n",
       "    </tr>\n",
       "    <tr>\n",
       "      <th>4</th>\n",
       "      <td>USA</td>\n",
       "      <td>5.086957</td>\n",
       "      <td>NaN</td>\n",
       "      <td>0.0</td>\n",
       "      <td>0.0</td>\n",
       "      <td>1.0</td>\n",
       "    </tr>\n",
       "    <tr>\n",
       "      <th>5</th>\n",
       "      <td>India</td>\n",
       "      <td>3.130435</td>\n",
       "      <td>2.571429</td>\n",
       "      <td>0.0</td>\n",
       "      <td>1.0</td>\n",
       "      <td>0.0</td>\n",
       "    </tr>\n",
       "    <tr>\n",
       "      <th>6</th>\n",
       "      <td>Brazil</td>\n",
       "      <td>NaN</td>\n",
       "      <td>1.028571</td>\n",
       "      <td>1.0</td>\n",
       "      <td>0.0</td>\n",
       "      <td>0.0</td>\n",
       "    </tr>\n",
       "    <tr>\n",
       "      <th>7</th>\n",
       "      <td>India</td>\n",
       "      <td>8.217391</td>\n",
       "      <td>7.971429</td>\n",
       "      <td>0.0</td>\n",
       "      <td>1.0</td>\n",
       "      <td>0.0</td>\n",
       "    </tr>\n",
       "    <tr>\n",
       "      <th>8</th>\n",
       "      <td>USA</td>\n",
       "      <td>9.000000</td>\n",
       "      <td>9.000000</td>\n",
       "      <td>0.0</td>\n",
       "      <td>0.0</td>\n",
       "      <td>1.0</td>\n",
       "    </tr>\n",
       "    <tr>\n",
       "      <th>9</th>\n",
       "      <td>India</td>\n",
       "      <td>3.913043</td>\n",
       "      <td>4.885714</td>\n",
       "      <td>0.0</td>\n",
       "      <td>1.0</td>\n",
       "      <td>0.0</td>\n",
       "    </tr>\n",
       "  </tbody>\n",
       "</table>\n",
       "</div>"
      ],
      "text/plain": [
       "   Region       Age    Income  Brazil  India  USA\n",
       "0   India  6.652174  6.171429     0.0    1.0  0.0\n",
       "1  Brazil  0.000000  0.000000     1.0    0.0  0.0\n",
       "2     USA  1.173913  1.542857     0.0    0.0  1.0\n",
       "3  Brazil  4.304348  3.342857     1.0    0.0  0.0\n",
       "4     USA  5.086957       NaN     0.0    0.0  1.0\n",
       "5   India  3.130435  2.571429     0.0    1.0  0.0\n",
       "6  Brazil       NaN  1.028571     1.0    0.0  0.0\n",
       "7   India  8.217391  7.971429     0.0    1.0  0.0\n",
       "8     USA  9.000000  9.000000     0.0    0.0  1.0\n",
       "9   India  3.913043  4.885714     0.0    1.0  0.0"
      ]
     },
     "execution_count": 29,
     "metadata": {},
     "output_type": "execute_result"
    }
   ],
   "source": [
    "from sklearn.model_selection import train_test_split\n",
    "\n",
    "y = data2['Online Shopper']\n",
    "X = data2.loc[:, data2.columns != 'Online Shopper']\n",
    "X"
   ]
  },
  {
   "cell_type": "code",
   "execution_count": null,
   "metadata": {
    "cell_id": "00029-8c692d52-169d-4f53-b7f2-76119b9293ae",
    "deepnote_cell_type": "code",
    "deepnote_to_be_reexecuted": false,
    "execution_millis": 7,
    "execution_start": 1631381766163,
    "source_hash": "8fd13e38",
    "tags": []
   },
   "outputs": [
    {
     "data": {
      "application/vnd.deepnote.dataframe.v2+json": {
       "column_count": 6,
       "columns": [
        {
         "dtype": "object",
         "name": "Region",
         "stats": {
          "categories": [
           {
            "count": 4,
            "name": "India"
           },
           {
            "count": 2,
            "name": "Brazil"
           },
           {
            "count": 2,
            "name": "USA"
           }
          ],
          "nan_count": 0,
          "unique_count": 3
         }
        },
        {
         "dtype": "float64",
         "name": "Age",
         "stats": {
          "histogram": [
           {
            "bin_end": 3.717391304347826,
            "bin_start": 3.1304347826086953,
            "count": 1
           },
           {
            "bin_end": 4.304347826086957,
            "bin_start": 3.717391304347826,
            "count": 2
           },
           {
            "bin_end": 4.891304347826087,
            "bin_start": 4.304347826086957,
            "count": 0
           },
           {
            "bin_end": 5.478260869565218,
            "bin_start": 4.891304347826087,
            "count": 1
           },
           {
            "bin_end": 6.065217391304349,
            "bin_start": 5.478260869565218,
            "count": 0
           },
           {
            "bin_end": 6.6521739130434785,
            "bin_start": 6.065217391304349,
            "count": 0
           },
           {
            "bin_end": 7.239130434782609,
            "bin_start": 6.6521739130434785,
            "count": 1
           },
           {
            "bin_end": 7.82608695652174,
            "bin_start": 7.239130434782609,
            "count": 0
           },
           {
            "bin_end": 8.413043478260871,
            "bin_start": 7.82608695652174,
            "count": 1
           },
           {
            "bin_end": 9.000000000000002,
            "bin_start": 8.413043478260871,
            "count": 1
           }
          ],
          "max": "9.000000000000002",
          "min": "3.1304347826086953",
          "nan_count": 1,
          "unique_count": 7
         }
        },
        {
         "dtype": "float64",
         "name": "Income",
         "stats": {
          "histogram": [
           {
            "bin_end": 1.8257142857142856,
            "bin_start": 1.0285714285714285,
            "count": 1
           },
           {
            "bin_end": 2.6228571428571428,
            "bin_start": 1.8257142857142856,
            "count": 1
           },
           {
            "bin_end": 3.42,
            "bin_start": 2.6228571428571428,
            "count": 1
           },
           {
            "bin_end": 4.217142857142857,
            "bin_start": 3.42,
            "count": 0
           },
           {
            "bin_end": 5.014285714285714,
            "bin_start": 4.217142857142857,
            "count": 1
           },
           {
            "bin_end": 5.811428571428571,
            "bin_start": 5.014285714285714,
            "count": 0
           },
           {
            "bin_end": 6.6085714285714285,
            "bin_start": 5.811428571428571,
            "count": 1
           },
           {
            "bin_end": 7.405714285714286,
            "bin_start": 6.6085714285714285,
            "count": 0
           },
           {
            "bin_end": 8.202857142857143,
            "bin_start": 7.405714285714286,
            "count": 1
           },
           {
            "bin_end": 9,
            "bin_start": 8.202857142857143,
            "count": 1
           }
          ],
          "max": "9.0",
          "min": "1.0285714285714285",
          "nan_count": 1,
          "unique_count": 7
         }
        },
        {
         "dtype": "float64",
         "name": "Brazil",
         "stats": {
          "histogram": [
           {
            "bin_end": 0.1,
            "bin_start": 0,
            "count": 6
           },
           {
            "bin_end": 0.2,
            "bin_start": 0.1,
            "count": 0
           },
           {
            "bin_end": 0.30000000000000004,
            "bin_start": 0.2,
            "count": 0
           },
           {
            "bin_end": 0.4,
            "bin_start": 0.30000000000000004,
            "count": 0
           },
           {
            "bin_end": 0.5,
            "bin_start": 0.4,
            "count": 0
           },
           {
            "bin_end": 0.6000000000000001,
            "bin_start": 0.5,
            "count": 0
           },
           {
            "bin_end": 0.7000000000000001,
            "bin_start": 0.6000000000000001,
            "count": 0
           },
           {
            "bin_end": 0.8,
            "bin_start": 0.7000000000000001,
            "count": 0
           },
           {
            "bin_end": 0.9,
            "bin_start": 0.8,
            "count": 0
           },
           {
            "bin_end": 1,
            "bin_start": 0.9,
            "count": 2
           }
          ],
          "max": "1.0",
          "min": "0.0",
          "nan_count": 0,
          "unique_count": 2
         }
        },
        {
         "dtype": "float64",
         "name": "India",
         "stats": {
          "histogram": [
           {
            "bin_end": 0.1,
            "bin_start": 0,
            "count": 4
           },
           {
            "bin_end": 0.2,
            "bin_start": 0.1,
            "count": 0
           },
           {
            "bin_end": 0.30000000000000004,
            "bin_start": 0.2,
            "count": 0
           },
           {
            "bin_end": 0.4,
            "bin_start": 0.30000000000000004,
            "count": 0
           },
           {
            "bin_end": 0.5,
            "bin_start": 0.4,
            "count": 0
           },
           {
            "bin_end": 0.6000000000000001,
            "bin_start": 0.5,
            "count": 0
           },
           {
            "bin_end": 0.7000000000000001,
            "bin_start": 0.6000000000000001,
            "count": 0
           },
           {
            "bin_end": 0.8,
            "bin_start": 0.7000000000000001,
            "count": 0
           },
           {
            "bin_end": 0.9,
            "bin_start": 0.8,
            "count": 0
           },
           {
            "bin_end": 1,
            "bin_start": 0.9,
            "count": 4
           }
          ],
          "max": "1.0",
          "min": "0.0",
          "nan_count": 0,
          "unique_count": 2
         }
        },
        {
         "dtype": "float64",
         "name": "USA",
         "stats": {
          "histogram": [
           {
            "bin_end": 0.1,
            "bin_start": 0,
            "count": 6
           },
           {
            "bin_end": 0.2,
            "bin_start": 0.1,
            "count": 0
           },
           {
            "bin_end": 0.30000000000000004,
            "bin_start": 0.2,
            "count": 0
           },
           {
            "bin_end": 0.4,
            "bin_start": 0.30000000000000004,
            "count": 0
           },
           {
            "bin_end": 0.5,
            "bin_start": 0.4,
            "count": 0
           },
           {
            "bin_end": 0.6000000000000001,
            "bin_start": 0.5,
            "count": 0
           },
           {
            "bin_end": 0.7000000000000001,
            "bin_start": 0.6000000000000001,
            "count": 0
           },
           {
            "bin_end": 0.8,
            "bin_start": 0.7000000000000001,
            "count": 0
           },
           {
            "bin_end": 0.9,
            "bin_start": 0.8,
            "count": 0
           },
           {
            "bin_end": 1,
            "bin_start": 0.9,
            "count": 2
           }
          ],
          "max": "1.0",
          "min": "0.0",
          "nan_count": 0,
          "unique_count": 2
         }
        },
        {
         "dtype": "int64",
         "name": "_deepnote_index_column"
        }
       ],
       "row_count": 8,
       "rows_bottom": null,
       "rows_top": [
        {
         "Age": "nan",
         "Brazil": 1,
         "Income": 1.0285714285714285,
         "India": 0,
         "Region": "Brazil",
         "USA": 0,
         "_deepnote_index_column": 6
        },
        {
         "Age": 3.1304347826086953,
         "Brazil": 0,
         "Income": 2.571428571428571,
         "India": 1,
         "Region": "India",
         "USA": 0,
         "_deepnote_index_column": 5
        },
        {
         "Age": 5.086956521739131,
         "Brazil": 0,
         "Income": "nan",
         "India": 0,
         "Region": "USA",
         "USA": 1,
         "_deepnote_index_column": 4
        },
        {
         "Age": 3.913043478260869,
         "Brazil": 0,
         "Income": 4.885714285714286,
         "India": 1,
         "Region": "India",
         "USA": 0,
         "_deepnote_index_column": 9
        },
        {
         "Age": 9.000000000000002,
         "Brazil": 0,
         "Income": 9,
         "India": 0,
         "Region": "USA",
         "USA": 1,
         "_deepnote_index_column": 8
        },
        {
         "Age": 8.217391304347826,
         "Brazil": 0,
         "Income": 7.9714285714285715,
         "India": 1,
         "Region": "India",
         "USA": 0,
         "_deepnote_index_column": 7
        },
        {
         "Age": 6.6521739130434785,
         "Brazil": 0,
         "Income": 6.171428571428571,
         "India": 1,
         "Region": "India",
         "USA": 0,
         "_deepnote_index_column": 0
        },
        {
         "Age": 4.304347826086955,
         "Brazil": 1,
         "Income": 3.3428571428571434,
         "India": 0,
         "Region": "Brazil",
         "USA": 0,
         "_deepnote_index_column": 3
        }
       ]
      },
      "text/html": [
       "<div>\n",
       "<style scoped>\n",
       "    .dataframe tbody tr th:only-of-type {\n",
       "        vertical-align: middle;\n",
       "    }\n",
       "\n",
       "    .dataframe tbody tr th {\n",
       "        vertical-align: top;\n",
       "    }\n",
       "\n",
       "    .dataframe thead th {\n",
       "        text-align: right;\n",
       "    }\n",
       "</style>\n",
       "<table border=\"1\" class=\"dataframe\">\n",
       "  <thead>\n",
       "    <tr style=\"text-align: right;\">\n",
       "      <th></th>\n",
       "      <th>Region</th>\n",
       "      <th>Age</th>\n",
       "      <th>Income</th>\n",
       "      <th>Brazil</th>\n",
       "      <th>India</th>\n",
       "      <th>USA</th>\n",
       "    </tr>\n",
       "  </thead>\n",
       "  <tbody>\n",
       "    <tr>\n",
       "      <th>6</th>\n",
       "      <td>Brazil</td>\n",
       "      <td>NaN</td>\n",
       "      <td>1.028571</td>\n",
       "      <td>1.0</td>\n",
       "      <td>0.0</td>\n",
       "      <td>0.0</td>\n",
       "    </tr>\n",
       "    <tr>\n",
       "      <th>5</th>\n",
       "      <td>India</td>\n",
       "      <td>3.130435</td>\n",
       "      <td>2.571429</td>\n",
       "      <td>0.0</td>\n",
       "      <td>1.0</td>\n",
       "      <td>0.0</td>\n",
       "    </tr>\n",
       "    <tr>\n",
       "      <th>4</th>\n",
       "      <td>USA</td>\n",
       "      <td>5.086957</td>\n",
       "      <td>NaN</td>\n",
       "      <td>0.0</td>\n",
       "      <td>0.0</td>\n",
       "      <td>1.0</td>\n",
       "    </tr>\n",
       "    <tr>\n",
       "      <th>9</th>\n",
       "      <td>India</td>\n",
       "      <td>3.913043</td>\n",
       "      <td>4.885714</td>\n",
       "      <td>0.0</td>\n",
       "      <td>1.0</td>\n",
       "      <td>0.0</td>\n",
       "    </tr>\n",
       "    <tr>\n",
       "      <th>8</th>\n",
       "      <td>USA</td>\n",
       "      <td>9.000000</td>\n",
       "      <td>9.000000</td>\n",
       "      <td>0.0</td>\n",
       "      <td>0.0</td>\n",
       "      <td>1.0</td>\n",
       "    </tr>\n",
       "    <tr>\n",
       "      <th>7</th>\n",
       "      <td>India</td>\n",
       "      <td>8.217391</td>\n",
       "      <td>7.971429</td>\n",
       "      <td>0.0</td>\n",
       "      <td>1.0</td>\n",
       "      <td>0.0</td>\n",
       "    </tr>\n",
       "    <tr>\n",
       "      <th>0</th>\n",
       "      <td>India</td>\n",
       "      <td>6.652174</td>\n",
       "      <td>6.171429</td>\n",
       "      <td>0.0</td>\n",
       "      <td>1.0</td>\n",
       "      <td>0.0</td>\n",
       "    </tr>\n",
       "    <tr>\n",
       "      <th>3</th>\n",
       "      <td>Brazil</td>\n",
       "      <td>4.304348</td>\n",
       "      <td>3.342857</td>\n",
       "      <td>1.0</td>\n",
       "      <td>0.0</td>\n",
       "      <td>0.0</td>\n",
       "    </tr>\n",
       "  </tbody>\n",
       "</table>\n",
       "</div>"
      ],
      "text/plain": [
       "   Region       Age    Income  Brazil  India  USA\n",
       "6  Brazil       NaN  1.028571     1.0    0.0  0.0\n",
       "5   India  3.130435  2.571429     0.0    1.0  0.0\n",
       "4     USA  5.086957       NaN     0.0    0.0  1.0\n",
       "9   India  3.913043  4.885714     0.0    1.0  0.0\n",
       "8     USA  9.000000  9.000000     0.0    0.0  1.0\n",
       "7   India  8.217391  7.971429     0.0    1.0  0.0\n",
       "0   India  6.652174  6.171429     0.0    1.0  0.0\n",
       "3  Brazil  4.304348  3.342857     1.0    0.0  0.0"
      ]
     },
     "execution_count": 30,
     "metadata": {},
     "output_type": "execute_result"
    }
   ],
   "source": [
    "x_train, x_test, y_train, y_test = train_test_split(X, y, test_size=0.2, random_state=444)\n",
    "x_train"
   ]
  },
  {
   "cell_type": "markdown",
   "metadata": {
    "cell_id": "00028-f2a48358-9531-4249-9639-35f46afc69c2",
    "deepnote_cell_type": "markdown",
    "tags": []
   },
   "source": [
    "# Visualization"
   ]
  },
  {
   "cell_type": "markdown",
   "metadata": {
    "cell_id": "00029-68ae59e3-4339-491d-a8b3-1a4f00fb343a",
    "deepnote_cell_type": "markdown",
    "tags": []
   },
   "source": [
    "1)MatplotLib\n",
    "\n",
    "2)Seaborn\n",
    "\n",
    "3)plotly"
   ]
  },
  {
   "cell_type": "code",
   "execution_count": null,
   "metadata": {
    "cell_id": "00030-72c82737-c587-4398-8fbc-cd0cef99145f",
    "deepnote_cell_type": "code",
    "deepnote_to_be_reexecuted": false,
    "execution_millis": 1760,
    "execution_start": 1631381767358,
    "source_hash": "70145ac0",
    "tags": []
   },
   "outputs": [
    {
     "data": {
      "text/plain": [
       "array([[<AxesSubplot:title={'center':'Age'}>,\n",
       "        <AxesSubplot:title={'center':'Income'}>],\n",
       "       [<AxesSubplot:title={'center':'Brazil'}>,\n",
       "        <AxesSubplot:title={'center':'India'}>],\n",
       "       [<AxesSubplot:title={'center':'USA'}>, <AxesSubplot:>]],\n",
       "      dtype=object)"
      ]
     },
     "execution_count": 31,
     "metadata": {},
     "output_type": "execute_result"
    },
    {
     "data": {
      "image/png": "[encoded data removed]",
      "text/plain": [
       "<Figure size 432x288 with 6 Axes>"
      ]
     },
     "metadata": {
      "image/png": {
       "height": 264,
       "width": 373
      },
      "needs_background": "light"
     },
     "output_type": "display_data"
    }
   ],
   "source": [
    "data2.hist()"
   ]
  },
  {
   "cell_type": "code",
   "execution_count": null,
   "metadata": {
    "cell_id": "00031-a99fae10-d8f5-4bef-b371-b51226b85180",
    "deepnote_cell_type": "code",
    "deepnote_to_be_reexecuted": false,
    "execution_millis": 4,
    "execution_start": 1631381769124,
    "source_hash": "6a77453d",
    "tags": []
   },
   "outputs": [],
   "source": [
    "import matplotlib.pyplot as plt"
   ]
  },
  {
   "cell_type": "code",
   "execution_count": null,
   "metadata": {
    "cell_id": "00032-67b4761e-6cc7-4a8e-b626-ca37b0c41d87",
    "deepnote_cell_type": "code",
    "deepnote_to_be_reexecuted": false,
    "execution_millis": 968,
    "execution_start": 1631381769132,
    "source_hash": "56727d6e",
    "tags": []
   },
   "outputs": [
    {
     "data": {
      "text/plain": [
       "array([<AxesSubplot:ylabel='Density'>, <AxesSubplot:ylabel='Density'>,\n",
       "       <AxesSubplot:ylabel='Density'>, <AxesSubplot:ylabel='Density'>,\n",
       "       <AxesSubplot:ylabel='Density'>], dtype=object)"
      ]
     },
     "execution_count": 33,
     "metadata": {},
     "output_type": "execute_result"
    },
    {
     "data": {
      "image/png": "[encoded data removed]",
      "text/plain": [
       "<Figure size 432x288 with 5 Axes>"
      ]
     },
     "metadata": {
      "image/png": {
       "height": 249,
       "width": 392
      },
      "needs_background": "light"
     },
     "output_type": "display_data"
    }
   ],
   "source": [
    "data2.plot(kind='density', subplots=True)"
   ]
  },
  {
   "cell_type": "code",
   "execution_count": null,
   "metadata": {
    "cell_id": "00033-9c64680d-3584-436f-8bf9-a7a74c2fd857",
    "deepnote_cell_type": "code",
    "deepnote_to_be_reexecuted": false,
    "execution_millis": 535,
    "execution_start": 1631381770104,
    "source_hash": "ab49307",
    "tags": []
   },
   "outputs": [
    {
     "data": {
      "text/plain": [
       "<AxesSubplot:>"
      ]
     },
     "execution_count": 34,
     "metadata": {},
     "output_type": "execute_result"
    },
    {
     "data": {
      "image/png": "[encoded data removed]",
      "text/plain": [
       "<Figure size 648x576 with 2 Axes>"
      ]
     },
     "metadata": {
      "image/png": {
       "height": 470,
       "width": 511
      },
      "needs_background": "light"
     },
     "output_type": "display_data"
    }
   ],
   "source": [
    "import seaborn as sns\n",
    "\n",
    "plt.figure(figsize=(9,8))\n",
    "corr = data2.corr()\n",
    "sns.heatmap(data=corr, cmap='Blues', annot=True)"
   ]
  },
  {
   "cell_type": "code",
   "execution_count": null,
   "metadata": {
    "cell_id": "00034-fb383852-245a-4c3d-a36d-94be14bb284d",
    "deepnote_cell_type": "code",
    "deepnote_to_be_reexecuted": false,
    "execution_millis": 11,
    "execution_start": 1631381771138,
    "source_hash": "d0fc2601",
    "tags": []
   },
   "outputs": [
    {
     "data": {
      "application/vnd.deepnote.dataframe.v2+json": {
       "column_count": 2,
       "columns": [
        {
         "dtype": "float64",
         "name": "Age",
         "stats": {
          "histogram": [
           {
            "bin_end": 0.9842455903822114,
            "bin_start": 0.9824951004246794,
            "count": 1
           },
           {
            "bin_end": 0.9859960803397435,
            "bin_start": 0.9842455903822114,
            "count": 0
           },
           {
            "bin_end": 0.9877465702972755,
            "bin_start": 0.9859960803397435,
            "count": 0
           },
           {
            "bin_end": 0.9894970602548077,
            "bin_start": 0.9877465702972755,
            "count": 0
           },
           {
            "bin_end": 0.9912475502123397,
            "bin_start": 0.9894970602548077,
            "count": 0
           },
           {
            "bin_end": 0.9929980401698717,
            "bin_start": 0.9912475502123397,
            "count": 0
           },
           {
            "bin_end": 0.9947485301274038,
            "bin_start": 0.9929980401698717,
            "count": 0
           },
           {
            "bin_end": 0.9964990200849358,
            "bin_start": 0.9947485301274038,
            "count": 0
           },
           {
            "bin_end": 0.998249510042468,
            "bin_start": 0.9964990200849358,
            "count": 0
           },
           {
            "bin_end": 1,
            "bin_start": 0.998249510042468,
            "count": 1
           }
          ],
          "max": "1.0",
          "min": "0.9824951004246794",
          "nan_count": 0,
          "unique_count": 2
         }
        },
        {
         "dtype": "float64",
         "name": "Income",
         "stats": {
          "histogram": [
           {
            "bin_end": 0.9842455903822114,
            "bin_start": 0.9824951004246794,
            "count": 1
           },
           {
            "bin_end": 0.9859960803397435,
            "bin_start": 0.9842455903822114,
            "count": 0
           },
           {
            "bin_end": 0.9877465702972755,
            "bin_start": 0.9859960803397435,
            "count": 0
           },
           {
            "bin_end": 0.9894970602548077,
            "bin_start": 0.9877465702972755,
            "count": 0
           },
           {
            "bin_end": 0.9912475502123397,
            "bin_start": 0.9894970602548077,
            "count": 0
           },
           {
            "bin_end": 0.9929980401698717,
            "bin_start": 0.9912475502123397,
            "count": 0
           },
           {
            "bin_end": 0.9947485301274038,
            "bin_start": 0.9929980401698717,
            "count": 0
           },
           {
            "bin_end": 0.9964990200849358,
            "bin_start": 0.9947485301274038,
            "count": 0
           },
           {
            "bin_end": 0.998249510042468,
            "bin_start": 0.9964990200849358,
            "count": 0
           },
           {
            "bin_end": 1,
            "bin_start": 0.998249510042468,
            "count": 1
           }
          ],
          "max": "1.0",
          "min": "0.9824951004246794",
          "nan_count": 0,
          "unique_count": 2
         }
        },
        {
         "dtype": "object",
         "name": "_deepnote_index_column"
        }
       ],
       "row_count": 2,
       "rows_bottom": null,
       "rows_top": [
        {
         "Age": 1,
         "Income": 0.9824951004246794,
         "_deepnote_index_column": "Age"
        },
        {
         "Age": 0.9824951004246794,
         "Income": 1,
         "_deepnote_index_column": "Income"
        }
       ]
      },
      "text/html": [
       "<div>\n",
       "<style scoped>\n",
       "    .dataframe tbody tr th:only-of-type {\n",
       "        vertical-align: middle;\n",
       "    }\n",
       "\n",
       "    .dataframe tbody tr th {\n",
       "        vertical-align: top;\n",
       "    }\n",
       "\n",
       "    .dataframe thead th {\n",
       "        text-align: right;\n",
       "    }\n",
       "</style>\n",
       "<table border=\"1\" class=\"dataframe\">\n",
       "  <thead>\n",
       "    <tr style=\"text-align: right;\">\n",
       "      <th></th>\n",
       "      <th>Age</th>\n",
       "      <th>Income</th>\n",
       "    </tr>\n",
       "  </thead>\n",
       "  <tbody>\n",
       "    <tr>\n",
       "      <th>Age</th>\n",
       "      <td>1.000000</td>\n",
       "      <td>0.982495</td>\n",
       "    </tr>\n",
       "    <tr>\n",
       "      <th>Income</th>\n",
       "      <td>0.982495</td>\n",
       "      <td>1.000000</td>\n",
       "    </tr>\n",
       "  </tbody>\n",
       "</table>\n",
       "</div>"
      ],
      "text/plain": [
       "             Age    Income\n",
       "Age     1.000000  0.982495\n",
       "Income  0.982495  1.000000"
      ]
     },
     "execution_count": 35,
     "metadata": {},
     "output_type": "execute_result"
    }
   ],
   "source": [
    "data.corr()"
   ]
  },
  {
   "cell_type": "markdown",
   "metadata": {
    "cell_id": "00035-64b865a0-36bd-4143-93d7-9813c5a8fe04",
    "deepnote_cell_type": "markdown",
    "tags": []
   },
   "source": [
    "# With Movie Dataset"
   ]
  },
  {
   "cell_type": "code",
   "execution_count": null,
   "metadata": {
    "cell_id": "00038-20647e7b-0cee-44f9-bcfb-e09c897351c3",
    "deepnote_cell_type": "code",
    "deepnote_to_be_reexecuted": false,
    "execution_millis": 3,
    "execution_start": 1631381786744,
    "source_hash": "9293dc7d",
    "tags": []
   },
   "outputs": [],
   "source": [
    "CSV_Link = '/work/Labs/lab1/dataset/moviedata.csv'"
   ]
  },
  {
   "cell_type": "code",
   "execution_count": null,
   "metadata": {
    "cell_id": "00039-23aef61f-4885-4d22-a501-8c15ff9ea917",
    "deepnote_cell_type": "code",
    "deepnote_to_be_reexecuted": false,
    "execution_millis": 364,
    "execution_start": 1631381821411,
    "source_hash": "65784477",
    "tags": []
   },
   "outputs": [
    {
     "data": {
      "application/vnd.deepnote.dataframe.v2+json": {
       "column_count": 28,
       "columns": [
        {
         "dtype": "object",
         "name": "color",
         "stats": {
          "categories": [
           {
            "count": 4815,
            "name": "Color"
           },
           {
            "count": 209,
            "name": " Black and White"
           },
           {
            "count": 19,
            "name": "Missing"
           }
          ],
          "nan_count": 19,
          "unique_count": 2
         }
        },
        {
         "dtype": "object",
         "name": "director_name",
         "stats": {
          "categories": [
           {
            "count": 26,
            "name": "Steven Spielberg"
           },
           {
            "count": 4913,
            "name": "2397 others"
           },
           {
            "count": 104,
            "name": "Missing"
           }
          ],
          "nan_count": 104,
          "unique_count": 2398
         }
        },
        {
         "dtype": "float64",
         "name": "num_critic_for_reviews",
         "stats": {
          "histogram": [
           {
            "bin_end": 82.2,
            "bin_start": 1,
            "count": 1983
           },
           {
            "bin_end": 163.4,
            "bin_start": 82.2,
            "count": 1393
           },
           {
            "bin_end": 244.60000000000002,
            "bin_start": 163.4,
            "count": 793
           },
           {
            "bin_end": 325.8,
            "bin_start": 244.60000000000002,
            "count": 415
           },
           {
            "bin_end": 407,
            "bin_start": 325.8,
            "count": 202
           },
           {
            "bin_end": 488.20000000000005,
            "bin_start": 407,
            "count": 114
           },
           {
            "bin_end": 569.4,
            "bin_start": 488.20000000000005,
            "count": 50
           },
           {
            "bin_end": 650.6,
            "bin_start": 569.4,
            "count": 22
           },
           {
            "bin_end": 731.8000000000001,
            "bin_start": 650.6,
            "count": 13
           },
           {
            "bin_end": 813,
            "bin_start": 731.8000000000001,
            "count": 8
           }
          ],
          "max": "813.0",
          "min": "1.0",
          "nan_count": 50,
          "unique_count": 528
         }
        },
        {
         "dtype": "float64",
         "name": "duration",
         "stats": {
          "histogram": [
           {
            "bin_end": 57.4,
            "bin_start": 7,
            "count": 80
           },
           {
            "bin_end": 107.8,
            "bin_start": 57.4,
            "count": 2875
           },
           {
            "bin_end": 158.2,
            "bin_start": 107.8,
            "count": 1930
           },
           {
            "bin_end": 208.6,
            "bin_start": 158.2,
            "count": 114
           },
           {
            "bin_end": 259,
            "bin_start": 208.6,
            "count": 18
           },
           {
            "bin_end": 309.4,
            "bin_start": 259,
            "count": 7
           },
           {
            "bin_end": 359.8,
            "bin_start": 309.4,
            "count": 3
           },
           {
            "bin_end": 410.2,
            "bin_start": 359.8,
            "count": 0
           },
           {
            "bin_end": 460.59999999999997,
            "bin_start": 410.2,
            "count": 0
           },
           {
            "bin_end": 511,
            "bin_start": 460.59999999999997,
            "count": 1
           }
          ],
          "max": "511.0",
          "min": "7.0",
          "nan_count": 15,
          "unique_count": 191
         }
        },
        {
         "dtype": "float64",
         "name": "director_facebook_likes",
         "stats": {
          "histogram": [
           {
            "bin_end": 2300,
            "bin_start": 0,
            "count": 4740
           },
           {
            "bin_end": 4600,
            "bin_start": 2300,
            "count": 14
           },
           {
            "bin_end": 6900,
            "bin_start": 4600,
            "count": 4
           },
           {
            "bin_end": 9200,
            "bin_start": 6900,
            "count": 0
           },
           {
            "bin_end": 11500,
            "bin_start": 9200,
            "count": 34
           },
           {
            "bin_end": 13800,
            "bin_start": 11500,
            "count": 43
           },
           {
            "bin_end": 16100,
            "bin_start": 13800,
            "count": 60
           },
           {
            "bin_end": 18400,
            "bin_start": 16100,
            "count": 24
           },
           {
            "bin_end": 20700,
            "bin_start": 18400,
            "count": 1
           },
           {
            "bin_end": 23000,
            "bin_start": 20700,
            "count": 19
           }
          ],
          "max": "23000.0",
          "min": "0.0",
          "nan_count": 104,
          "unique_count": 435
         }
        },
        {
         "dtype": "float64",
         "name": "actor_3_facebook_likes",
         "stats": {
          "histogram": [
           {
            "bin_end": 2300,
            "bin_start": 0,
            "count": 4874
           },
           {
            "bin_end": 4600,
            "bin_start": 2300,
            "count": 43
           },
           {
            "bin_end": 6900,
            "bin_start": 4600,
            "count": 7
           },
           {
            "bin_end": 9200,
            "bin_start": 6900,
            "count": 19
           },
           {
            "bin_end": 11500,
            "bin_start": 9200,
            "count": 45
           },
           {
            "bin_end": 13800,
            "bin_start": 11500,
            "count": 13
           },
           {
            "bin_end": 16100,
            "bin_start": 13800,
            "count": 10
           },
           {
            "bin_end": 18400,
            "bin_start": 16100,
            "count": 1
           },
           {
            "bin_end": 20700,
            "bin_start": 18400,
            "count": 6
           },
           {
            "bin_end": 23000,
            "bin_start": 20700,
            "count": 2
           }
          ],
          "max": "23000.0",
          "min": "0.0",
          "nan_count": 23,
          "unique_count": 906
         }
        },
        {
         "dtype": "object",
         "name": "actor_2_name",
         "stats": {
          "categories": [
           {
            "count": 20,
            "name": "Morgan Freeman"
           },
           {
            "count": 5010,
            "name": "3031 others"
           },
           {
            "count": 13,
            "name": "Missing"
           }
          ],
          "nan_count": 13,
          "unique_count": 3032
         }
        },
        {
         "dtype": "float64",
         "name": "actor_1_facebook_likes",
         "stats": {
          "histogram": [
           {
            "bin_end": 64000,
            "bin_start": 0,
            "count": 5019
           },
           {
            "bin_end": 128000,
            "bin_start": 64000,
            "count": 9
           },
           {
            "bin_end": 192000,
            "bin_start": 128000,
            "count": 4
           },
           {
            "bin_end": 256000,
            "bin_start": 192000,
            "count": 0
           },
           {
            "bin_end": 320000,
            "bin_start": 256000,
            "count": 3
           },
           {
            "bin_end": 384000,
            "bin_start": 320000,
            "count": 0
           },
           {
            "bin_end": 448000,
            "bin_start": 384000,
            "count": 0
           },
           {
            "bin_end": 512000,
            "bin_start": 448000,
            "count": 0
           },
           {
            "bin_end": 576000,
            "bin_start": 512000,
            "count": 0
           },
           {
            "bin_end": 640000,
            "bin_start": 576000,
            "count": 1
           }
          ],
          "max": "640000.0",
          "min": "0.0",
          "nan_count": 7,
          "unique_count": 878
         }
        },
        {
         "dtype": "float64",
         "name": "gross",
         "stats": {
          "histogram": [
           {
            "bin_end": 76050730.5,
            "bin_start": 162,
            "count": 3336
           },
           {
            "bin_end": 152101299,
            "bin_start": 76050730.5,
            "count": 534
           },
           {
            "bin_end": 228151867.5,
            "bin_start": 152101299,
            "count": 167
           },
           {
            "bin_end": 304202436,
            "bin_start": 228151867.5,
            "count": 62
           },
           {
            "bin_end": 380253004.5,
            "bin_start": 304202436,
            "count": 36
           },
           {
            "bin_end": 456303573,
            "bin_start": 380253004.5,
            "count": 15
           },
           {
            "bin_end": 532354141.5,
            "bin_start": 456303573,
            "count": 3
           },
           {
            "bin_end": 608404710,
            "bin_start": 532354141.5,
            "count": 1
           },
           {
            "bin_end": 684455278.5,
            "bin_start": 608404710,
            "count": 4
           },
           {
            "bin_end": 760505847,
            "bin_start": 684455278.5,
            "count": 1
           }
          ],
          "max": "760505847.0",
          "min": "162.0",
          "nan_count": 884,
          "unique_count": 4035
         }
        },
        {
         "dtype": "object",
         "name": "genres",
         "stats": {
          "categories": [
           {
            "count": 236,
            "name": "Drama"
           },
           {
            "count": 209,
            "name": "Comedy"
           },
           {
            "count": 4598,
            "name": "912 others"
           }
          ],
          "nan_count": 0,
          "unique_count": 914
         }
        },
        {
         "dtype": "object",
         "name": "actor_1_name",
         "stats": {
          "categories": [
           {
            "count": 49,
            "name": "Robert De Niro"
           },
           {
            "count": 4987,
            "name": "2096 others"
           },
           {
            "count": 7,
            "name": "Missing"
           }
          ],
          "nan_count": 7,
          "unique_count": 2097
         }
        },
        {
         "dtype": "object",
         "name": "movie_title",
         "stats": {
          "categories": [
           {
            "count": 3,
            "name": "King Kong "
           },
           {
            "count": 3,
            "name": "The Fast and the Furious "
           },
           {
            "count": 5037,
            "name": "4915 others"
           }
          ],
          "nan_count": 0,
          "unique_count": 4917
         }
        },
        {
         "dtype": "int64",
         "name": "num_voted_users",
         "stats": {
          "histogram": [
           {
            "bin_end": 168980.9,
            "bin_start": 5,
            "count": 4327
           },
           {
            "bin_end": 337956.8,
            "bin_start": 168980.9,
            "count": 469
           },
           {
            "bin_end": 506932.69999999995,
            "bin_start": 337956.8,
            "count": 139
           },
           {
            "bin_end": 675908.6,
            "bin_start": 506932.69999999995,
            "count": 56
           },
           {
            "bin_end": 844884.5,
            "bin_start": 675908.6,
            "count": 25
           },
           {
            "bin_end": 1013860.3999999999,
            "bin_start": 844884.5,
            "count": 14
           },
           {
            "bin_end": 1182836.3,
            "bin_start": 1013860.3999999999,
            "count": 4
           },
           {
            "bin_end": 1351812.2,
            "bin_start": 1182836.3,
            "count": 6
           },
           {
            "bin_end": 1520788.0999999999,
            "bin_start": 1351812.2,
            "count": 1
           },
           {
            "bin_end": 1689764,
            "bin_start": 1520788.0999999999,
            "count": 2
           }
          ],
          "max": "1689764",
          "min": "5",
          "nan_count": 0,
          "unique_count": 4826
         }
        },
        {
         "dtype": "int64",
         "name": "cast_total_facebook_likes",
         "stats": {
          "histogram": [
           {
            "bin_end": 65673,
            "bin_start": 0,
            "count": 5001
           },
           {
            "bin_end": 131346,
            "bin_start": 65673,
            "count": 34
           },
           {
            "bin_end": 197019,
            "bin_start": 131346,
            "count": 3
           },
           {
            "bin_end": 262692,
            "bin_start": 197019,
            "count": 1
           },
           {
            "bin_end": 328365,
            "bin_start": 262692,
            "count": 3
           },
           {
            "bin_end": 394038,
            "bin_start": 328365,
            "count": 0
           },
           {
            "bin_end": 459711,
            "bin_start": 394038,
            "count": 0
           },
           {
            "bin_end": 525384,
            "bin_start": 459711,
            "count": 0
           },
           {
            "bin_end": 591057,
            "bin_start": 525384,
            "count": 0
           },
           {
            "bin_end": 656730,
            "bin_start": 591057,
            "count": 1
           }
          ],
          "max": "656730",
          "min": "0",
          "nan_count": 0,
          "unique_count": 3978
         }
        },
        {
         "dtype": "object",
         "name": "actor_3_name",
         "stats": {
          "categories": [
           {
            "count": 8,
            "name": "Steve Coogan"
           },
           {
            "count": 5012,
            "name": "3520 others"
           },
           {
            "count": 23,
            "name": "Missing"
           }
          ],
          "nan_count": 23,
          "unique_count": 3521
         }
        },
        {
         "dtype": "float64",
         "name": "facenumber_in_poster",
         "stats": {
          "histogram": [
           {
            "bin_end": 4.3,
            "bin_start": 0,
            "count": 4706
           },
           {
            "bin_end": 8.6,
            "bin_start": 4.3,
            "count": 275
           },
           {
            "bin_end": 12.899999999999999,
            "bin_start": 8.6,
            "count": 37
           },
           {
            "bin_end": 17.2,
            "bin_start": 12.899999999999999,
            "count": 9
           },
           {
            "bin_end": 21.5,
            "bin_start": 17.2,
            "count": 1
           },
           {
            "bin_end": 25.799999999999997,
            "bin_start": 21.5,
            "count": 0
           },
           {
            "bin_end": 30.099999999999998,
            "bin_start": 25.799999999999997,
            "count": 0
           },
           {
            "bin_end": 34.4,
            "bin_start": 30.099999999999998,
            "count": 1
           },
           {
            "bin_end": 38.699999999999996,
            "bin_start": 34.4,
            "count": 0
           },
           {
            "bin_end": 43,
            "bin_start": 38.699999999999996,
            "count": 1
           }
          ],
          "max": "43.0",
          "min": "0.0",
          "nan_count": 13,
          "unique_count": 19
         }
        },
        {
         "dtype": "object",
         "name": "plot_keywords",
         "stats": {
          "categories": [
           {
            "count": 4,
            "name": "based on novel"
           },
           {
            "count": 4886,
            "name": "4759 others"
           },
           {
            "count": 153,
            "name": "Missing"
           }
          ],
          "nan_count": 153,
          "unique_count": 4760
         }
        },
        {
         "dtype": "object",
         "name": "movie_imdb_link",
         "stats": {
          "categories": [
           {
            "count": 3,
            "name": "http://www.imdb.com/title/tt0360717/?ref_=fn_tt_tt_1"
           },
           {
            "count": 3,
            "name": "http://www.imdb.com/title/tt0232500/?ref_=fn_tt_tt_1"
           },
           {
            "count": 5037,
            "name": "4917 others"
           }
          ],
          "nan_count": 0,
          "unique_count": 4919
         }
        },
        {
         "dtype": "float64",
         "name": "num_user_for_reviews",
         "stats": {
          "histogram": [
           {
            "bin_end": 506.9,
            "bin_start": 1,
            "count": 4303
           },
           {
            "bin_end": 1012.8,
            "bin_start": 506.9,
            "count": 513
           },
           {
            "bin_end": 1518.6999999999998,
            "bin_start": 1012.8,
            "count": 123
           },
           {
            "bin_end": 2024.6,
            "bin_start": 1518.6999999999998,
            "count": 33
           },
           {
            "bin_end": 2530.5,
            "bin_start": 2024.6,
            "count": 26
           },
           {
            "bin_end": 3036.3999999999996,
            "bin_start": 2530.5,
            "count": 14
           },
           {
            "bin_end": 3542.2999999999997,
            "bin_start": 3036.3999999999996,
            "count": 5
           },
           {
            "bin_end": 4048.2,
            "bin_start": 3542.2999999999997,
            "count": 2
           },
           {
            "bin_end": 4554.099999999999,
            "bin_start": 4048.2,
            "count": 1
           },
           {
            "bin_end": 5060,
            "bin_start": 4554.099999999999,
            "count": 2
           }
          ],
          "max": "5060.0",
          "min": "1.0",
          "nan_count": 21,
          "unique_count": 954
         }
        },
        {
         "dtype": "object",
         "name": "language"
        },
        {
         "dtype": "object",
         "name": "country"
        },
        {
         "dtype": "object",
         "name": "content_rating"
        },
        {
         "dtype": "float64",
         "name": "budget"
        },
        {
         "dtype": "float64",
         "name": "title_year"
        },
        {
         "dtype": "float64",
         "name": "actor_2_facebook_likes"
        },
        {
         "dtype": "float64",
         "name": "imdb_score"
        },
        {
         "dtype": "float64",
         "name": "aspect_ratio"
        },
        {
         "dtype": "int64",
         "name": "movie_facebook_likes"
        },
        {
         "dtype": "int64",
         "name": "_deepnote_index_column"
        }
       ],
       "row_count": 5043,
       "rows_bottom": [
        {
         "_deepnote_index_column": 5025,
         "actor_1_facebook_likes": 462,
         "actor_1_name": "Divine",
         "actor_2_facebook_likes": 143,
         "actor_2_name": "Mink Stole",
         "actor_3_facebook_likes": 105,
         "actor_3_name": "Edith Massey",
         "aspect_ratio": 1.37,
         "budget": 10000,
         "cast_total_facebook_likes": 760,
         "color": "Color",
         "content_rating": "NC-17",
         "country": "USA",
         "director_facebook_likes": 0,
         "director_name": "John Waters",
         "duration": 108,
         "facenumber_in_poster": 2,
         "genres": "Comedy|Crime|Horror",
         "gross": 180483,
         "imdb_score": 6.1,
         "language": "English",
         "movie_facebook_likes": 0,
         "movie_imdb_link": "http://www.imdb.com/title/tt0069089/?ref_=fn_tt_tt_1",
         "movie_title": "Pink Flamingos ",
         "num_critic_for_reviews": 73,
         "num_user_for_reviews": 183,
         "num_voted_users": 16792,
         "plot_keywords": "absurd humor|egg|gross out humor|lesbian|sex",
         "title_year": 1972
        },
        {
         "_deepnote_index_column": 5026,
         "actor_1_facebook_likes": 576,
         "actor_1_name": "Maggie Cheung",
         "actor_2_facebook_likes": 133,
         "actor_2_name": "Béatrice Dalle",
         "actor_3_facebook_likes": 45,
         "actor_3_name": "Don McKellar",
         "aspect_ratio": 2.35,
         "budget": 4500,
         "cast_total_facebook_likes": 776,
         "color": "Color",
         "content_rating": "R",
         "country": "France",
         "director_facebook_likes": 107,
         "director_name": "Olivier Assayas",
         "duration": 110,
         "facenumber_in_poster": 1,
         "genres": "Drama|Music|Romance",
         "gross": 136007,
         "imdb_score": 6.9,
         "language": "French",
         "movie_facebook_likes": 171,
         "movie_imdb_link": "http://www.imdb.com/title/tt0388838/?ref_=fn_tt_tt_1",
         "movie_title": "Clean ",
         "num_critic_for_reviews": 81,
         "num_user_for_reviews": 39,
         "num_voted_users": 3924,
         "plot_keywords": "jail|junkie|money|motel|singer",
         "title_year": 2004
        },
        {
         "_deepnote_index_column": 5027,
         "actor_1_facebook_likes": 5,
         "actor_1_name": "Fereshteh Sadre Orafaiy",
         "actor_2_facebook_likes": 0,
         "actor_2_name": "Nargess Mamizadeh",
         "actor_3_facebook_likes": 0,
         "actor_3_name": "Mojgan Faramarzi",
         "aspect_ratio": 1.85,
         "budget": 10000,
         "cast_total_facebook_likes": 5,
         "color": "Color",
         "content_rating": "Not Rated",
         "country": "Iran",
         "director_facebook_likes": 397,
         "director_name": "Jafar Panahi",
         "duration": 90,
         "facenumber_in_poster": 0,
         "genres": "Drama",
         "gross": 673780,
         "imdb_score": 7.5,
         "language": "Persian",
         "movie_facebook_likes": 697,
         "movie_imdb_link": "http://www.imdb.com/title/tt0255094/?ref_=fn_tt_tt_1",
         "movie_title": "The Circle ",
         "num_critic_for_reviews": 64,
         "num_user_for_reviews": 26,
         "num_voted_users": 4555,
         "plot_keywords": "abortion|bus|hospital|prison|prostitution",
         "title_year": 2000
        },
        {
         "_deepnote_index_column": 5028,
         "actor_1_facebook_likes": 10,
         "actor_1_name": "Patrick O'Donnell",
         "actor_2_facebook_likes": 5,
         "actor_2_name": "Michael Parle",
         "actor_3_facebook_likes": 0,
         "actor_3_name": "Emma Eliza Regan",
         "aspect_ratio": 1.33,
         "budget": 10000,
         "cast_total_facebook_likes": 15,
         "color": " Black and White",
         "content_rating": "nan",
         "country": "Ireland",
         "director_facebook_likes": 18,
         "director_name": "Ivan Kavanagh",
         "duration": 83,
         "facenumber_in_poster": 0,
         "genres": "Horror",
         "gross": "nan",
         "imdb_score": 6.7,
         "language": "English",
         "movie_facebook_likes": 105,
         "movie_imdb_link": "http://www.imdb.com/title/tt1235811/?ref_=fn_tt_tt_1",
         "movie_title": "Tin Can Man ",
         "num_critic_for_reviews": 12,
         "num_user_for_reviews": 1,
         "num_voted_users": 57,
         "plot_keywords": "nan",
         "title_year": 2007
        },
        {
         "_deepnote_index_column": 5029,
         "actor_1_facebook_likes": 89,
         "actor_1_name": "Kôji Yakusho",
         "actor_2_facebook_likes": 13,
         "actor_2_name": "Anna Nakagawa",
         "actor_3_facebook_likes": 6,
         "actor_3_name": "Denden",
         "aspect_ratio": 1.85,
         "budget": 1000000,
         "cast_total_facebook_likes": 115,
         "color": "Color",
         "content_rating": "nan",
         "country": "Japan",
         "director_facebook_likes": 62,
         "director_name": "Kiyoshi Kurosawa",
         "duration": 111,
         "facenumber_in_poster": 0,
         "genres": "Crime|Horror|Mystery|Thriller",
         "gross": 94596,
         "imdb_score": 7.4,
         "language": "Japanese",
         "movie_facebook_likes": 817,
         "movie_imdb_link": "http://www.imdb.com/title/tt0123948/?ref_=fn_tt_tt_1",
         "movie_title": "The Cure ",
         "num_critic_for_reviews": 78,
         "num_user_for_reviews": 50,
         "num_voted_users": 6318,
         "plot_keywords": "breasts|interrogation|investigation|murder|watching television",
         "title_year": 1997
        },
        {
         "_deepnote_index_column": 5030,
         "actor_1_facebook_likes": 21,
         "actor_1_name": "Tatiana Suarez-Pico",
         "actor_2_facebook_likes": 20,
         "actor_2_name": "Michael Cortez",
         "actor_3_facebook_likes": 12,
         "actor_3_name": "Eric Ambriz",
         "aspect_ratio": "nan",
         "budget": "nan",
         "cast_total_facebook_likes": 62,
         "color": "Color",
         "content_rating": "nan",
         "country": "USA",
         "director_facebook_likes": 5,
         "director_name": "Tadeo Garcia",
         "duration": 84,
         "facenumber_in_poster": 2,
         "genres": "Drama",
         "gross": "nan",
         "imdb_score": 6.1,
         "language": "English",
         "movie_facebook_likes": 22,
         "movie_imdb_link": "http://www.imdb.com/title/tt0390323/?ref_=fn_tt_tt_1",
         "movie_title": "On the Downlow ",
         "num_critic_for_reviews": "nan",
         "num_user_for_reviews": 3,
         "num_voted_users": 156,
         "plot_keywords": "gang initiation|gunplay|hazing|latino|shakespeare's romeo and juliet",
         "title_year": 2004
        },
        {
         "_deepnote_index_column": 5031,
         "actor_1_facebook_likes": 785,
         "actor_1_name": "Julianna Pitt",
         "actor_2_facebook_likes": 98,
         "actor_2_name": "Joe Coffey",
         "actor_3_facebook_likes": 84,
         "actor_3_name": "John Lucas",
         "aspect_ratio": 16,
         "budget": 200000,
         "cast_total_facebook_likes": 1111,
         "color": "Color",
         "content_rating": "nan",
         "country": "USA",
         "director_facebook_likes": 120,
         "director_name": "Thomas L. Phillips",
         "duration": 82,
         "facenumber_in_poster": "nan",
         "genres": "Comedy|Horror|Thriller",
         "gross": "nan",
         "imdb_score": 5.4,
         "language": "English",
         "movie_facebook_likes": 424,
         "movie_imdb_link": "http://www.imdb.com/title/tt2049518/?ref_=fn_tt_tt_1",
         "movie_title": "Sanctuary; Quite a Conundrum ",
         "num_critic_for_reviews": 13,
         "num_user_for_reviews": 8,
         "num_voted_users": 133,
         "plot_keywords": "nudity|party|pirate|swimsuit|three word title",
         "title_year": 2012
        },
        {
         "_deepnote_index_column": 5032,
         "actor_1_facebook_likes": 789,
         "actor_1_name": "Peter Greene",
         "actor_2_facebook_likes": 194,
         "actor_2_name": "Stanley B. Herman",
         "actor_3_facebook_likes": 152,
         "actor_3_name": "James Noble",
         "aspect_ratio": "nan",
         "budget": "nan",
         "cast_total_facebook_likes": 1186,
         "color": "Color",
         "content_rating": "nan",
         "country": "USA",
         "director_facebook_likes": 3,
         "director_name": "Ash Baron-Cohen",
         "duration": 98,
         "facenumber_in_poster": 1,
         "genres": "Crime|Drama",
         "gross": "nan",
         "imdb_score": 6.4,
         "language": "English",
         "movie_facebook_likes": 20,
         "movie_imdb_link": "http://www.imdb.com/title/tt0109266/?ref_=fn_tt_tt_1",
         "movie_title": "Bang ",
         "num_critic_for_reviews": 10,
         "num_user_for_reviews": 14,
         "num_voted_users": 438,
         "plot_keywords": "corruption|homeless|homeless man|motorcycle|urban legend",
         "title_year": 1995
        },
        {
         "_deepnote_index_column": 5033,
         "actor_1_facebook_likes": 291,
         "actor_1_name": "Shane Carruth",
         "actor_2_facebook_likes": 45,
         "actor_2_name": "David Sullivan",
         "actor_3_facebook_likes": 8,
         "actor_3_name": "Casey Gooden",
         "aspect_ratio": 1.85,
         "budget": 7000,
         "cast_total_facebook_likes": 368,
         "color": "Color",
         "content_rating": "PG-13",
         "country": "USA",
         "director_facebook_likes": 291,
         "director_name": "Shane Carruth",
         "duration": 77,
         "facenumber_in_poster": 0,
         "genres": "Drama|Sci-Fi|Thriller",
         "gross": 424760,
         "imdb_score": 7,
         "language": "English",
         "movie_facebook_likes": 19000,
         "movie_imdb_link": "http://www.imdb.com/title/tt0390384/?ref_=fn_tt_tt_1",
         "movie_title": "Primer ",
         "num_critic_for_reviews": 143,
         "num_user_for_reviews": 371,
         "num_voted_users": 72639,
         "plot_keywords": "changing the future|independent film|invention|nonlinear timeline|time travel",
         "title_year": 2004
        },
        {
         "_deepnote_index_column": 5034,
         "actor_1_facebook_likes": 0,
         "actor_1_name": "Ian Gamazon",
         "actor_2_facebook_likes": 0,
         "actor_2_name": "Edgar Tancangco",
         "actor_3_facebook_likes": 0,
         "actor_3_name": "Quynn Ton",
         "aspect_ratio": "nan",
         "budget": 7000,
         "cast_total_facebook_likes": 0,
         "color": "Color",
         "content_rating": "Not Rated",
         "country": "Philippines",
         "director_facebook_likes": 0,
         "director_name": "Neill Dela Llana",
         "duration": 80,
         "facenumber_in_poster": 0,
         "genres": "Thriller",
         "gross": 70071,
         "imdb_score": 6.3,
         "language": "English",
         "movie_facebook_likes": 74,
         "movie_imdb_link": "http://www.imdb.com/title/tt0428303/?ref_=fn_tt_tt_1",
         "movie_title": "Cavite ",
         "num_critic_for_reviews": 35,
         "num_user_for_reviews": 35,
         "num_voted_users": 589,
         "plot_keywords": "jihad|mindanao|philippines|security guard|squatter",
         "title_year": 2005
        },
        {
         "_deepnote_index_column": 5035,
         "actor_1_facebook_likes": 121,
         "actor_1_name": "Carlos Gallardo",
         "actor_2_facebook_likes": 20,
         "actor_2_name": "Peter Marquardt",
         "actor_3_facebook_likes": 6,
         "actor_3_name": "Consuelo Gómez",
         "aspect_ratio": 1.37,
         "budget": 7000,
         "cast_total_facebook_likes": 147,
         "color": "Color",
         "content_rating": "R",
         "country": "USA",
         "director_facebook_likes": 0,
         "director_name": "Robert Rodriguez",
         "duration": 81,
         "facenumber_in_poster": 0,
         "genres": "Action|Crime|Drama|Romance|Thriller",
         "gross": 2040920,
         "imdb_score": 6.9,
         "language": "Spanish",
         "movie_facebook_likes": 0,
         "movie_imdb_link": "http://www.imdb.com/title/tt0104815/?ref_=fn_tt_tt_1",
         "movie_title": "El Mariachi ",
         "num_critic_for_reviews": 56,
         "num_user_for_reviews": 130,
         "num_voted_users": 52055,
         "plot_keywords": "assassin|death|guitar|gun|mariachi",
         "title_year": 1992
        },
        {
         "_deepnote_index_column": 5036,
         "actor_1_facebook_likes": 45,
         "actor_1_name": "Richard Jewell",
         "actor_2_facebook_likes": 44,
         "actor_2_name": "John Considine",
         "actor_3_facebook_likes": 2,
         "actor_3_name": "Sara Stepnicka",
         "aspect_ratio": "nan",
         "budget": 3250,
         "cast_total_facebook_likes": 93,
         "color": "Color",
         "content_rating": "PG-13",
         "country": "USA",
         "director_facebook_likes": 2,
         "director_name": "Anthony Vallone",
         "duration": 84,
         "facenumber_in_poster": 0,
         "genres": "Crime|Drama",
         "gross": "nan",
         "imdb_score": 7.8,
         "language": "English",
         "movie_facebook_likes": 4,
         "movie_imdb_link": "http://www.imdb.com/title/tt0430371/?ref_=fn_tt_tt_1",
         "movie_title": "The Mongol King ",
         "num_critic_for_reviews": "nan",
         "num_user_for_reviews": 1,
         "num_voted_users": 36,
         "plot_keywords": "jewell|mongol|nostradamus|stepnicka|vallone",
         "title_year": 2005
        },
        {
         "_deepnote_index_column": 5037,
         "actor_1_facebook_likes": 296,
         "actor_1_name": "Kerry Bishé",
         "actor_2_facebook_likes": 205,
         "actor_2_name": "Caitlin FitzGerald",
         "actor_3_facebook_likes": 133,
         "actor_3_name": "Daniella Pineda",
         "aspect_ratio": "nan",
         "budget": 9000,
         "cast_total_facebook_likes": 690,
         "color": "Color",
         "content_rating": "Not Rated",
         "country": "USA",
         "director_facebook_likes": 0,
         "director_name": "Edward Burns",
         "duration": 95,
         "facenumber_in_poster": 1,
         "genres": "Comedy|Drama",
         "gross": 4584,
         "imdb_score": 6.4,
         "language": "English",
         "movie_facebook_likes": 413,
         "movie_imdb_link": "http://www.imdb.com/title/tt1880418/?ref_=fn_tt_tt_1",
         "movie_title": "Newlyweds ",
         "num_critic_for_reviews": 14,
         "num_user_for_reviews": 14,
         "num_voted_users": 1338,
         "plot_keywords": "written and directed by cast member",
         "title_year": 2011
        },
        {
         "_deepnote_index_column": 5038,
         "actor_1_facebook_likes": 637,
         "actor_1_name": "Eric Mabius",
         "actor_2_facebook_likes": 470,
         "actor_2_name": "Daphne Zuniga",
         "actor_3_facebook_likes": 318,
         "actor_3_name": "Crystal Lowe",
         "aspect_ratio": "nan",
         "budget": "nan",
         "cast_total_facebook_likes": 2283,
         "color": "Color",
         "content_rating": "nan",
         "country": "Canada",
         "director_facebook_likes": 2,
         "director_name": "Scott Smith",
         "duration": 87,
         "facenumber_in_poster": 2,
         "genres": "Comedy|Drama",
         "gross": "nan",
         "imdb_score": 7.7,
         "language": "English",
         "movie_facebook_likes": 84,
         "movie_imdb_link": "http://www.imdb.com/title/tt3000844/?ref_=fn_tt_tt_1",
         "movie_title": "Signed Sealed Delivered ",
         "num_critic_for_reviews": 1,
         "num_user_for_reviews": 6,
         "num_voted_users": 629,
         "plot_keywords": "fraud|postal worker|prison|theft|trial",
         "title_year": 2013
        },
        {
         "_deepnote_index_column": 5039,
         "actor_1_facebook_likes": 841,
         "actor_1_name": "Natalie Zea",
         "actor_2_facebook_likes": 593,
         "actor_2_name": "Valorie Curry",
         "actor_3_facebook_likes": 319,
         "actor_3_name": "Sam Underwood",
         "aspect_ratio": 16,
         "budget": "nan",
         "cast_total_facebook_likes": 1753,
         "color": "Color",
         "content_rating": "TV-14",
         "country": "USA",
         "director_facebook_likes": "nan",
         "director_name": "nan",
         "duration": 43,
         "facenumber_in_poster": 1,
         "genres": "Crime|Drama|Mystery|Thriller",
         "gross": "nan",
         "imdb_score": 7.5,
         "language": "English",
         "movie_facebook_likes": 32000,
         "movie_imdb_link": "http://www.imdb.com/title/tt2071645/?ref_=fn_tt_tt_1",
         "movie_title": "The Following             ",
         "num_critic_for_reviews": 43,
         "num_user_for_reviews": 359,
         "num_voted_users": 73839,
         "plot_keywords": "cult|fbi|hideout|prison escape|serial killer",
         "title_year": "nan"
        },
        {
         "_deepnote_index_column": 5040,
         "actor_1_facebook_likes": 0,
         "actor_1_name": "Eva Boehnke",
         "actor_2_facebook_likes": 0,
         "actor_2_name": "Maxwell Moody",
         "actor_3_facebook_likes": 0,
         "actor_3_name": "David Chandler",
         "aspect_ratio": "nan",
         "budget": 1400,
         "cast_total_facebook_likes": 0,
         "color": "Color",
         "content_rating": "nan",
         "country": "USA",
         "director_facebook_likes": 0,
         "director_name": "Benjamin Roberds",
         "duration": 76,
         "facenumber_in_poster": 0,
         "genres": "Drama|Horror|Thriller",
         "gross": "nan",
         "imdb_score": 6.3,
         "language": "English",
         "movie_facebook_likes": 16,
         "movie_imdb_link": "http://www.imdb.com/title/tt2107644/?ref_=fn_tt_tt_1",
         "movie_title": "A Plague So Pleasant ",
         "num_critic_for_reviews": 13,
         "num_user_for_reviews": 3,
         "num_voted_users": 38,
         "plot_keywords": "nan",
         "title_year": 2013
        },
        {
         "_deepnote_index_column": 5041,
         "actor_1_facebook_likes": 946,
         "actor_1_name": "Alan Ruck",
         "actor_2_facebook_likes": 719,
         "actor_2_name": "Daniel Henney",
         "actor_3_facebook_likes": 489,
         "actor_3_name": "Eliza Coupe",
         "aspect_ratio": 2.35,
         "budget": "nan",
         "cast_total_facebook_likes": 2386,
         "color": "Color",
         "content_rating": "PG-13",
         "country": "USA",
         "director_facebook_likes": 0,
         "director_name": "Daniel Hsia",
         "duration": 100,
         "facenumber_in_poster": 5,
         "genres": "Comedy|Drama|Romance",
         "gross": 10443,
         "imdb_score": 6.3,
         "language": "English",
         "movie_facebook_likes": 660,
         "movie_imdb_link": "http://www.imdb.com/title/tt2070597/?ref_=fn_tt_tt_1",
         "movie_title": "Shanghai Calling ",
         "num_critic_for_reviews": 14,
         "num_user_for_reviews": 9,
         "num_voted_users": 1255,
         "plot_keywords": "nan",
         "title_year": 2012
        },
        {
         "_deepnote_index_column": 5042,
         "actor_1_facebook_likes": 86,
         "actor_1_name": "John August",
         "actor_2_facebook_likes": 23,
         "actor_2_name": "Brian Herzlinger",
         "actor_3_facebook_likes": 16,
         "actor_3_name": "Jon Gunn",
         "aspect_ratio": 1.85,
         "budget": 1100,
         "cast_total_facebook_likes": 163,
         "color": "Color",
         "content_rating": "PG",
         "country": "USA",
         "director_facebook_likes": 16,
         "director_name": "Jon Gunn",
         "duration": 90,
         "facenumber_in_poster": 0,
         "genres": "Documentary",
         "gross": 85222,
         "imdb_score": 6.6,
         "language": "English",
         "movie_facebook_likes": 456,
         "movie_imdb_link": "http://www.imdb.com/title/tt0378407/?ref_=fn_tt_tt_1",
         "movie_title": "My Date with Drew ",
         "num_critic_for_reviews": 43,
         "num_user_for_reviews": 84,
         "num_voted_users": 4285,
         "plot_keywords": "actress name in title|crush|date|four word title|video camera",
         "title_year": 2004
        }
       ],
       "rows_top": [
        {
         "_deepnote_index_column": 0,
         "actor_1_facebook_likes": 1000,
         "actor_1_name": "CCH Pounder",
         "actor_2_facebook_likes": 936,
         "actor_2_name": "Joel David Moore",
         "actor_3_facebook_likes": 855,
         "actor_3_name": "Wes Studi",
         "aspect_ratio": 1.78,
         "budget": 237000000,
         "cast_total_facebook_likes": 4834,
         "color": "Color",
         "content_rating": "PG-13",
         "country": "USA",
         "director_facebook_likes": 0,
         "director_name": "James Cameron",
         "duration": 178,
         "facenumber_in_poster": 0,
         "genres": "Action|Adventure|Fantasy|Sci-Fi",
         "gross": 760505847,
         "imdb_score": 7.9,
         "language": "English",
         "movie_facebook_likes": 33000,
         "movie_imdb_link": "http://www.imdb.com/title/tt0499549/?ref_=fn_tt_tt_1",
         "movie_title": "Avatar ",
         "num_critic_for_reviews": 723,
         "num_user_for_reviews": 3054,
         "num_voted_users": 886204,
         "plot_keywords": "avatar|future|marine|native|paraplegic",
         "title_year": 2009
        },
        {
         "_deepnote_index_column": 1,
         "actor_1_facebook_likes": 40000,
         "actor_1_name": "Johnny Depp",
         "actor_2_facebook_likes": 5000,
         "actor_2_name": "Orlando Bloom",
         "actor_3_facebook_likes": 1000,
         "actor_3_name": "Jack Davenport",
         "aspect_ratio": 2.35,
         "budget": 300000000,
         "cast_total_facebook_likes": 48350,
         "color": "Color",
         "content_rating": "PG-13",
         "country": "USA",
         "director_facebook_likes": 563,
         "director_name": "Gore Verbinski",
         "duration": 169,
         "facenumber_in_poster": 0,
         "genres": "Action|Adventure|Fantasy",
         "gross": 309404152,
         "imdb_score": 7.1,
         "language": "English",
         "movie_facebook_likes": 0,
         "movie_imdb_link": "http://www.imdb.com/title/tt0449088/?ref_=fn_tt_tt_1",
         "movie_title": "Pirates of the Caribbean: At World's End ",
         "num_critic_for_reviews": 302,
         "num_user_for_reviews": 1238,
         "num_voted_users": 471220,
         "plot_keywords": "goddess|marriage ceremony|marriage proposal|pirate|singapore",
         "title_year": 2007
        },
        {
         "_deepnote_index_column": 2,
         "actor_1_facebook_likes": 11000,
         "actor_1_name": "Christoph Waltz",
         "actor_2_facebook_likes": 393,
         "actor_2_name": "Rory Kinnear",
         "actor_3_facebook_likes": 161,
         "actor_3_name": "Stephanie Sigman",
         "aspect_ratio": 2.35,
         "budget": 245000000,
         "cast_total_facebook_likes": 11700,
         "color": "Color",
         "content_rating": "PG-13",
         "country": "UK",
         "director_facebook_likes": 0,
         "director_name": "Sam Mendes",
         "duration": 148,
         "facenumber_in_poster": 1,
         "genres": "Action|Adventure|Thriller",
         "gross": 200074175,
         "imdb_score": 6.8,
         "language": "English",
         "movie_facebook_likes": 85000,
         "movie_imdb_link": "http://www.imdb.com/title/tt2379713/?ref_=fn_tt_tt_1",
         "movie_title": "Spectre ",
         "num_critic_for_reviews": 602,
         "num_user_for_reviews": 994,
         "num_voted_users": 275868,
         "plot_keywords": "bomb|espionage|sequel|spy|terrorist",
         "title_year": 2015
        },
        {
         "_deepnote_index_column": 3,
         "actor_1_facebook_likes": 27000,
         "actor_1_name": "Tom Hardy",
         "actor_2_facebook_likes": 23000,
         "actor_2_name": "Christian Bale",
         "actor_3_facebook_likes": 23000,
         "actor_3_name": "Joseph Gordon-Levitt",
         "aspect_ratio": 2.35,
         "budget": 250000000,
         "cast_total_facebook_likes": 106759,
         "color": "Color",
         "content_rating": "PG-13",
         "country": "USA",
         "director_facebook_likes": 22000,
         "director_name": "Christopher Nolan",
         "duration": 164,
         "facenumber_in_poster": 0,
         "genres": "Action|Thriller",
         "gross": 448130642,
         "imdb_score": 8.5,
         "language": "English",
         "movie_facebook_likes": 164000,
         "movie_imdb_link": "http://www.imdb.com/title/tt1345836/?ref_=fn_tt_tt_1",
         "movie_title": "The Dark Knight Rises ",
         "num_critic_for_reviews": 813,
         "num_user_for_reviews": 2701,
         "num_voted_users": 1144337,
         "plot_keywords": "deception|imprisonment|lawlessness|police officer|terrorist plot",
         "title_year": 2012
        },
        {
         "_deepnote_index_column": 4,
         "actor_1_facebook_likes": 131,
         "actor_1_name": "Doug Walker",
         "actor_2_facebook_likes": 12,
         "actor_2_name": "Rob Walker",
         "actor_3_facebook_likes": "nan",
         "actor_3_name": "nan",
         "aspect_ratio": "nan",
         "budget": "nan",
         "cast_total_facebook_likes": 143,
         "color": "nan",
         "content_rating": "nan",
         "country": "nan",
         "director_facebook_likes": 131,
         "director_name": "Doug Walker",
         "duration": "nan",
         "facenumber_in_poster": 0,
         "genres": "Documentary",
         "gross": "nan",
         "imdb_score": 7.1,
         "language": "nan",
         "movie_facebook_likes": 0,
         "movie_imdb_link": "http://www.imdb.com/title/tt5289954/?ref_=fn_tt_tt_1",
         "movie_title": "Star Wars: Episode VII - The Force Awakens             ",
         "num_critic_for_reviews": "nan",
         "num_user_for_reviews": "nan",
         "num_voted_users": 8,
         "plot_keywords": "nan",
         "title_year": "nan"
        },
        {
         "_deepnote_index_column": 5,
         "actor_1_facebook_likes": 640,
         "actor_1_name": "Daryl Sabara",
         "actor_2_facebook_likes": 632,
         "actor_2_name": "Samantha Morton",
         "actor_3_facebook_likes": 530,
         "actor_3_name": "Polly Walker",
         "aspect_ratio": 2.35,
         "budget": 263700000,
         "cast_total_facebook_likes": 1873,
         "color": "Color",
         "content_rating": "PG-13",
         "country": "USA",
         "director_facebook_likes": 475,
         "director_name": "Andrew Stanton",
         "duration": 132,
         "facenumber_in_poster": 1,
         "genres": "Action|Adventure|Sci-Fi",
         "gross": 73058679,
         "imdb_score": 6.6,
         "language": "English",
         "movie_facebook_likes": 24000,
         "movie_imdb_link": "http://www.imdb.com/title/tt0401729/?ref_=fn_tt_tt_1",
         "movie_title": "John Carter ",
         "num_critic_for_reviews": 462,
         "num_user_for_reviews": 738,
         "num_voted_users": 212204,
         "plot_keywords": "alien|american civil war|male nipple|mars|princess",
         "title_year": 2012
        },
        {
         "_deepnote_index_column": 6,
         "actor_1_facebook_likes": 24000,
         "actor_1_name": "J.K. Simmons",
         "actor_2_facebook_likes": 11000,
         "actor_2_name": "James Franco",
         "actor_3_facebook_likes": 4000,
         "actor_3_name": "Kirsten Dunst",
         "aspect_ratio": 2.35,
         "budget": 258000000,
         "cast_total_facebook_likes": 46055,
         "color": "Color",
         "content_rating": "PG-13",
         "country": "USA",
         "director_facebook_likes": 0,
         "director_name": "Sam Raimi",
         "duration": 156,
         "facenumber_in_poster": 0,
         "genres": "Action|Adventure|Romance",
         "gross": 336530303,
         "imdb_score": 6.2,
         "language": "English",
         "movie_facebook_likes": 0,
         "movie_imdb_link": "http://www.imdb.com/title/tt0413300/?ref_=fn_tt_tt_1",
         "movie_title": "Spider-Man 3 ",
         "num_critic_for_reviews": 392,
         "num_user_for_reviews": 1902,
         "num_voted_users": 383056,
         "plot_keywords": "sandman|spider man|symbiote|venom|villain",
         "title_year": 2007
        },
        {
         "_deepnote_index_column": 7,
         "actor_1_facebook_likes": 799,
         "actor_1_name": "Brad Garrett",
         "actor_2_facebook_likes": 553,
         "actor_2_name": "Donna Murphy",
         "actor_3_facebook_likes": 284,
         "actor_3_name": "M.C. Gainey",
         "aspect_ratio": 1.85,
         "budget": 260000000,
         "cast_total_facebook_likes": 2036,
         "color": "Color",
         "content_rating": "PG",
         "country": "USA",
         "director_facebook_likes": 15,
         "director_name": "Nathan Greno",
         "duration": 100,
         "facenumber_in_poster": 1,
         "genres": "Adventure|Animation|Comedy|Family|Fantasy|Musical|Romance",
         "gross": 200807262,
         "imdb_score": 7.8,
         "language": "English",
         "movie_facebook_likes": 29000,
         "movie_imdb_link": "http://www.imdb.com/title/tt0398286/?ref_=fn_tt_tt_1",
         "movie_title": "Tangled ",
         "num_critic_for_reviews": 324,
         "num_user_for_reviews": 387,
         "num_voted_users": 294810,
         "plot_keywords": "17th century|based on fairy tale|disney|flower|tower",
         "title_year": 2010
        },
        {
         "_deepnote_index_column": 8,
         "actor_1_facebook_likes": 26000,
         "actor_1_name": "Chris Hemsworth",
         "actor_2_facebook_likes": 21000,
         "actor_2_name": "Robert Downey Jr.",
         "actor_3_facebook_likes": 19000,
         "actor_3_name": "Scarlett Johansson",
         "aspect_ratio": 2.35,
         "budget": 250000000,
         "cast_total_facebook_likes": 92000,
         "color": "Color",
         "content_rating": "PG-13",
         "country": "USA",
         "director_facebook_likes": 0,
         "director_name": "Joss Whedon",
         "duration": 141,
         "facenumber_in_poster": 4,
         "genres": "Action|Adventure|Sci-Fi",
         "gross": 458991599,
         "imdb_score": 7.5,
         "language": "English",
         "movie_facebook_likes": 118000,
         "movie_imdb_link": "http://www.imdb.com/title/tt2395427/?ref_=fn_tt_tt_1",
         "movie_title": "Avengers: Age of Ultron ",
         "num_critic_for_reviews": 635,
         "num_user_for_reviews": 1117,
         "num_voted_users": 462669,
         "plot_keywords": "artificial intelligence|based on comic book|captain america|marvel cinematic universe|superhero",
         "title_year": 2015
        },
        {
         "_deepnote_index_column": 9,
         "actor_1_facebook_likes": 25000,
         "actor_1_name": "Alan Rickman",
         "actor_2_facebook_likes": 11000,
         "actor_2_name": "Daniel Radcliffe",
         "actor_3_facebook_likes": 10000,
         "actor_3_name": "Rupert Grint",
         "aspect_ratio": 2.35,
         "budget": 250000000,
         "cast_total_facebook_likes": 58753,
         "color": "Color",
         "content_rating": "PG",
         "country": "UK",
         "director_facebook_likes": 282,
         "director_name": "David Yates",
         "duration": 153,
         "facenumber_in_poster": 3,
         "genres": "Adventure|Family|Fantasy|Mystery",
         "gross": 301956980,
         "imdb_score": 7.5,
         "language": "English",
         "movie_facebook_likes": 10000,
         "movie_imdb_link": "http://www.imdb.com/title/tt0417741/?ref_=fn_tt_tt_1",
         "movie_title": "Harry Potter and the Half-Blood Prince ",
         "num_critic_for_reviews": 375,
         "num_user_for_reviews": 973,
         "num_voted_users": 321795,
         "plot_keywords": "blood|book|love|potion|professor",
         "title_year": 2009
        },
        {
         "_deepnote_index_column": 10,
         "actor_1_facebook_likes": 15000,
         "actor_1_name": "Henry Cavill",
         "actor_2_facebook_likes": 4000,
         "actor_2_name": "Lauren Cohan",
         "actor_3_facebook_likes": 2000,
         "actor_3_name": "Alan D. Purwin",
         "aspect_ratio": 2.35,
         "budget": 250000000,
         "cast_total_facebook_likes": 24450,
         "color": "Color",
         "content_rating": "PG-13",
         "country": "USA",
         "director_facebook_likes": 0,
         "director_name": "Zack Snyder",
         "duration": 183,
         "facenumber_in_poster": 0,
         "genres": "Action|Adventure|Sci-Fi",
         "gross": 330249062,
         "imdb_score": 6.9,
         "language": "English",
         "movie_facebook_likes": 197000,
         "movie_imdb_link": "http://www.imdb.com/title/tt2975590/?ref_=fn_tt_tt_1",
         "movie_title": "Batman v Superman: Dawn of Justice ",
         "num_critic_for_reviews": 673,
         "num_user_for_reviews": 3018,
         "num_voted_users": 371639,
         "plot_keywords": "based on comic book|batman|sequel to a reboot|superhero|superman",
         "title_year": 2016
        },
        {
         "_deepnote_index_column": 11,
         "actor_1_facebook_likes": 18000,
         "actor_1_name": "Kevin Spacey",
         "actor_2_facebook_likes": 10000,
         "actor_2_name": "Marlon Brando",
         "actor_3_facebook_likes": 903,
         "actor_3_name": "Frank Langella",
         "aspect_ratio": 2.35,
         "budget": 209000000,
         "cast_total_facebook_likes": 29991,
         "color": "Color",
         "content_rating": "PG-13",
         "country": "USA",
         "director_facebook_likes": 0,
         "director_name": "Bryan Singer",
         "duration": 169,
         "facenumber_in_poster": 0,
         "genres": "Action|Adventure|Sci-Fi",
         "gross": 200069408,
         "imdb_score": 6.1,
         "language": "English",
         "movie_facebook_likes": 0,
         "movie_imdb_link": "http://www.imdb.com/title/tt0348150/?ref_=fn_tt_tt_1",
         "movie_title": "Superman Returns ",
         "num_critic_for_reviews": 434,
         "num_user_for_reviews": 2367,
         "num_voted_users": 240396,
         "plot_keywords": "crystal|epic|lex luthor|lois lane|return to earth",
         "title_year": 2006
        },
        {
         "_deepnote_index_column": 12,
         "actor_1_facebook_likes": 451,
         "actor_1_name": "Giancarlo Giannini",
         "actor_2_facebook_likes": 412,
         "actor_2_name": "Mathieu Amalric",
         "actor_3_facebook_likes": 393,
         "actor_3_name": "Rory Kinnear",
         "aspect_ratio": 2.35,
         "budget": 200000000,
         "cast_total_facebook_likes": 2023,
         "color": "Color",
         "content_rating": "PG-13",
         "country": "UK",
         "director_facebook_likes": 395,
         "director_name": "Marc Forster",
         "duration": 106,
         "facenumber_in_poster": 1,
         "genres": "Action|Adventure",
         "gross": 168368427,
         "imdb_score": 6.7,
         "language": "English",
         "movie_facebook_likes": 0,
         "movie_imdb_link": "http://www.imdb.com/title/tt0830515/?ref_=fn_tt_tt_1",
         "movie_title": "Quantum of Solace ",
         "num_critic_for_reviews": 403,
         "num_user_for_reviews": 1243,
         "num_voted_users": 330784,
         "plot_keywords": "action hero|attempted rape|bond girl|official james bond series|revenge",
         "title_year": 2008
        },
        {
         "_deepnote_index_column": 13,
         "actor_1_facebook_likes": 40000,
         "actor_1_name": "Johnny Depp",
         "actor_2_facebook_likes": 5000,
         "actor_2_name": "Orlando Bloom",
         "actor_3_facebook_likes": 1000,
         "actor_3_name": "Jack Davenport",
         "aspect_ratio": 2.35,
         "budget": 225000000,
         "cast_total_facebook_likes": 48486,
         "color": "Color",
         "content_rating": "PG-13",
         "country": "USA",
         "director_facebook_likes": 563,
         "director_name": "Gore Verbinski",
         "duration": 151,
         "facenumber_in_poster": 2,
         "genres": "Action|Adventure|Fantasy",
         "gross": 423032628,
         "imdb_score": 7.3,
         "language": "English",
         "movie_facebook_likes": 5000,
         "movie_imdb_link": "http://www.imdb.com/title/tt0383574/?ref_=fn_tt_tt_1",
         "movie_title": "Pirates of the Caribbean: Dead Man's Chest ",
         "num_critic_for_reviews": 313,
         "num_user_for_reviews": 1832,
         "num_voted_users": 522040,
         "plot_keywords": "box office hit|giant squid|heart|liar's dice|monster",
         "title_year": 2006
        },
        {
         "_deepnote_index_column": 14,
         "actor_1_facebook_likes": 40000,
         "actor_1_name": "Johnny Depp",
         "actor_2_facebook_likes": 2000,
         "actor_2_name": "Ruth Wilson",
         "actor_3_facebook_likes": 1000,
         "actor_3_name": "Tom Wilkinson",
         "aspect_ratio": 2.35,
         "budget": 215000000,
         "cast_total_facebook_likes": 45757,
         "color": "Color",
         "content_rating": "PG-13",
         "country": "USA",
         "director_facebook_likes": 563,
         "director_name": "Gore Verbinski",
         "duration": 150,
         "facenumber_in_poster": 1,
         "genres": "Action|Adventure|Western",
         "gross": 89289910,
         "imdb_score": 6.5,
         "language": "English",
         "movie_facebook_likes": 48000,
         "movie_imdb_link": "http://www.imdb.com/title/tt1210819/?ref_=fn_tt_tt_1",
         "movie_title": "The Lone Ranger ",
         "num_critic_for_reviews": 450,
         "num_user_for_reviews": 711,
         "num_voted_users": 181792,
         "plot_keywords": "horse|outlaw|texas|texas ranger|train",
         "title_year": 2013
        },
        {
         "_deepnote_index_column": 15,
         "actor_1_facebook_likes": 15000,
         "actor_1_name": "Henry Cavill",
         "actor_2_facebook_likes": 3000,
         "actor_2_name": "Christopher Meloni",
         "actor_3_facebook_likes": 748,
         "actor_3_name": "Harry Lennix",
         "aspect_ratio": 2.35,
         "budget": 225000000,
         "cast_total_facebook_likes": 20495,
         "color": "Color",
         "content_rating": "PG-13",
         "country": "USA",
         "director_facebook_likes": 0,
         "director_name": "Zack Snyder",
         "duration": 143,
         "facenumber_in_poster": 0,
         "genres": "Action|Adventure|Fantasy|Sci-Fi",
         "gross": 291021565,
         "imdb_score": 7.2,
         "language": "English",
         "movie_facebook_likes": 118000,
         "movie_imdb_link": "http://www.imdb.com/title/tt0770828/?ref_=fn_tt_tt_1",
         "movie_title": "Man of Steel ",
         "num_critic_for_reviews": 733,
         "num_user_for_reviews": 2536,
         "num_voted_users": 548573,
         "plot_keywords": "based on comic book|british actor playing american character|final battle|origin of hero|reboot",
         "title_year": 2013
        },
        {
         "_deepnote_index_column": 16,
         "actor_1_facebook_likes": 22000,
         "actor_1_name": "Peter Dinklage",
         "actor_2_facebook_likes": 216,
         "actor_2_name": "Pierfrancesco Favino",
         "actor_3_facebook_likes": 201,
         "actor_3_name": "Damián Alcázar",
         "aspect_ratio": 2.35,
         "budget": 225000000,
         "cast_total_facebook_likes": 22697,
         "color": "Color",
         "content_rating": "PG",
         "country": "USA",
         "director_facebook_likes": 80,
         "director_name": "Andrew Adamson",
         "duration": 150,
         "facenumber_in_poster": 4,
         "genres": "Action|Adventure|Family|Fantasy",
         "gross": 141614023,
         "imdb_score": 6.6,
         "language": "English",
         "movie_facebook_likes": 0,
         "movie_imdb_link": "http://www.imdb.com/title/tt0499448/?ref_=fn_tt_tt_1",
         "movie_title": "The Chronicles of Narnia: Prince Caspian ",
         "num_critic_for_reviews": 258,
         "num_user_for_reviews": 438,
         "num_voted_users": 149922,
         "plot_keywords": "brother brother relationship|brother sister relationship|good versus evil|king|narnia",
         "title_year": 2008
        }
       ]
      },
      "text/html": [
       "<div>\n",
       "<style scoped>\n",
       "    .dataframe tbody tr th:only-of-type {\n",
       "        vertical-align: middle;\n",
       "    }\n",
       "\n",
       "    .dataframe tbody tr th {\n",
       "        vertical-align: top;\n",
       "    }\n",
       "\n",
       "    .dataframe thead th {\n",
       "        text-align: right;\n",
       "    }\n",
       "</style>\n",
       "<table border=\"1\" class=\"dataframe\">\n",
       "  <thead>\n",
       "    <tr style=\"text-align: right;\">\n",
       "      <th></th>\n",
       "      <th>color</th>\n",
       "      <th>director_name</th>\n",
       "      <th>num_critic_for_reviews</th>\n",
       "      <th>duration</th>\n",
       "      <th>director_facebook_likes</th>\n",
       "      <th>actor_3_facebook_likes</th>\n",
       "      <th>actor_2_name</th>\n",
       "      <th>actor_1_facebook_likes</th>\n",
       "      <th>gross</th>\n",
       "      <th>genres</th>\n",
       "      <th>...</th>\n",
       "      <th>num_user_for_reviews</th>\n",
       "      <th>language</th>\n",
       "      <th>country</th>\n",
       "      <th>content_rating</th>\n",
       "      <th>budget</th>\n",
       "      <th>title_year</th>\n",
       "      <th>actor_2_facebook_likes</th>\n",
       "      <th>imdb_score</th>\n",
       "      <th>aspect_ratio</th>\n",
       "      <th>movie_facebook_likes</th>\n",
       "    </tr>\n",
       "  </thead>\n",
       "  <tbody>\n",
       "    <tr>\n",
       "      <th>0</th>\n",
       "      <td>Color</td>\n",
       "      <td>James Cameron</td>\n",
       "      <td>723.0</td>\n",
       "      <td>178.0</td>\n",
       "      <td>0.0</td>\n",
       "      <td>855.0</td>\n",
       "      <td>Joel David Moore</td>\n",
       "      <td>1000.0</td>\n",
       "      <td>760505847.0</td>\n",
       "      <td>Action|Adventure|Fantasy|Sci-Fi</td>\n",
       "      <td>...</td>\n",
       "      <td>3054.0</td>\n",
       "      <td>English</td>\n",
       "      <td>USA</td>\n",
       "      <td>PG-13</td>\n",
       "      <td>237000000.0</td>\n",
       "      <td>2009.0</td>\n",
       "      <td>936.0</td>\n",
       "      <td>7.9</td>\n",
       "      <td>1.78</td>\n",
       "      <td>33000</td>\n",
       "    </tr>\n",
       "    <tr>\n",
       "      <th>1</th>\n",
       "      <td>Color</td>\n",
       "      <td>Gore Verbinski</td>\n",
       "      <td>302.0</td>\n",
       "      <td>169.0</td>\n",
       "      <td>563.0</td>\n",
       "      <td>1000.0</td>\n",
       "      <td>Orlando Bloom</td>\n",
       "      <td>40000.0</td>\n",
       "      <td>309404152.0</td>\n",
       "      <td>Action|Adventure|Fantasy</td>\n",
       "      <td>...</td>\n",
       "      <td>1238.0</td>\n",
       "      <td>English</td>\n",
       "      <td>USA</td>\n",
       "      <td>PG-13</td>\n",
       "      <td>300000000.0</td>\n",
       "      <td>2007.0</td>\n",
       "      <td>5000.0</td>\n",
       "      <td>7.1</td>\n",
       "      <td>2.35</td>\n",
       "      <td>0</td>\n",
       "    </tr>\n",
       "    <tr>\n",
       "      <th>2</th>\n",
       "      <td>Color</td>\n",
       "      <td>Sam Mendes</td>\n",
       "      <td>602.0</td>\n",
       "      <td>148.0</td>\n",
       "      <td>0.0</td>\n",
       "      <td>161.0</td>\n",
       "      <td>Rory Kinnear</td>\n",
       "      <td>11000.0</td>\n",
       "      <td>200074175.0</td>\n",
       "      <td>Action|Adventure|Thriller</td>\n",
       "      <td>...</td>\n",
       "      <td>994.0</td>\n",
       "      <td>English</td>\n",
       "      <td>UK</td>\n",
       "      <td>PG-13</td>\n",
       "      <td>245000000.0</td>\n",
       "      <td>2015.0</td>\n",
       "      <td>393.0</td>\n",
       "      <td>6.8</td>\n",
       "      <td>2.35</td>\n",
       "      <td>85000</td>\n",
       "    </tr>\n",
       "    <tr>\n",
       "      <th>3</th>\n",
       "      <td>Color</td>\n",
       "      <td>Christopher Nolan</td>\n",
       "      <td>813.0</td>\n",
       "      <td>164.0</td>\n",
       "      <td>22000.0</td>\n",
       "      <td>23000.0</td>\n",
       "      <td>Christian Bale</td>\n",
       "      <td>27000.0</td>\n",
       "      <td>448130642.0</td>\n",
       "      <td>Action|Thriller</td>\n",
       "      <td>...</td>\n",
       "      <td>2701.0</td>\n",
       "      <td>English</td>\n",
       "      <td>USA</td>\n",
       "      <td>PG-13</td>\n",
       "      <td>250000000.0</td>\n",
       "      <td>2012.0</td>\n",
       "      <td>23000.0</td>\n",
       "      <td>8.5</td>\n",
       "      <td>2.35</td>\n",
       "      <td>164000</td>\n",
       "    </tr>\n",
       "    <tr>\n",
       "      <th>4</th>\n",
       "      <td>NaN</td>\n",
       "      <td>Doug Walker</td>\n",
       "      <td>NaN</td>\n",
       "      <td>NaN</td>\n",
       "      <td>131.0</td>\n",
       "      <td>NaN</td>\n",
       "      <td>Rob Walker</td>\n",
       "      <td>131.0</td>\n",
       "      <td>NaN</td>\n",
       "      <td>Documentary</td>\n",
       "      <td>...</td>\n",
       "      <td>NaN</td>\n",
       "      <td>NaN</td>\n",
       "      <td>NaN</td>\n",
       "      <td>NaN</td>\n",
       "      <td>NaN</td>\n",
       "      <td>NaN</td>\n",
       "      <td>12.0</td>\n",
       "      <td>7.1</td>\n",
       "      <td>NaN</td>\n",
       "      <td>0</td>\n",
       "    </tr>\n",
       "    <tr>\n",
       "      <th>...</th>\n",
       "      <td>...</td>\n",
       "      <td>...</td>\n",
       "      <td>...</td>\n",
       "      <td>...</td>\n",
       "      <td>...</td>\n",
       "      <td>...</td>\n",
       "      <td>...</td>\n",
       "      <td>...</td>\n",
       "      <td>...</td>\n",
       "      <td>...</td>\n",
       "      <td>...</td>\n",
       "      <td>...</td>\n",
       "      <td>...</td>\n",
       "      <td>...</td>\n",
       "      <td>...</td>\n",
       "      <td>...</td>\n",
       "      <td>...</td>\n",
       "      <td>...</td>\n",
       "      <td>...</td>\n",
       "      <td>...</td>\n",
       "      <td>...</td>\n",
       "    </tr>\n",
       "    <tr>\n",
       "      <th>5038</th>\n",
       "      <td>Color</td>\n",
       "      <td>Scott Smith</td>\n",
       "      <td>1.0</td>\n",
       "      <td>87.0</td>\n",
       "      <td>2.0</td>\n",
       "      <td>318.0</td>\n",
       "      <td>Daphne Zuniga</td>\n",
       "      <td>637.0</td>\n",
       "      <td>NaN</td>\n",
       "      <td>Comedy|Drama</td>\n",
       "      <td>...</td>\n",
       "      <td>6.0</td>\n",
       "      <td>English</td>\n",
       "      <td>Canada</td>\n",
       "      <td>NaN</td>\n",
       "      <td>NaN</td>\n",
       "      <td>2013.0</td>\n",
       "      <td>470.0</td>\n",
       "      <td>7.7</td>\n",
       "      <td>NaN</td>\n",
       "      <td>84</td>\n",
       "    </tr>\n",
       "    <tr>\n",
       "      <th>5039</th>\n",
       "      <td>Color</td>\n",
       "      <td>NaN</td>\n",
       "      <td>43.0</td>\n",
       "      <td>43.0</td>\n",
       "      <td>NaN</td>\n",
       "      <td>319.0</td>\n",
       "      <td>Valorie Curry</td>\n",
       "      <td>841.0</td>\n",
       "      <td>NaN</td>\n",
       "      <td>Crime|Drama|Mystery|Thriller</td>\n",
       "      <td>...</td>\n",
       "      <td>359.0</td>\n",
       "      <td>English</td>\n",
       "      <td>USA</td>\n",
       "      <td>TV-14</td>\n",
       "      <td>NaN</td>\n",
       "      <td>NaN</td>\n",
       "      <td>593.0</td>\n",
       "      <td>7.5</td>\n",
       "      <td>16.00</td>\n",
       "      <td>32000</td>\n",
       "    </tr>\n",
       "    <tr>\n",
       "      <th>5040</th>\n",
       "      <td>Color</td>\n",
       "      <td>Benjamin Roberds</td>\n",
       "      <td>13.0</td>\n",
       "      <td>76.0</td>\n",
       "      <td>0.0</td>\n",
       "      <td>0.0</td>\n",
       "      <td>Maxwell Moody</td>\n",
       "      <td>0.0</td>\n",
       "      <td>NaN</td>\n",
       "      <td>Drama|Horror|Thriller</td>\n",
       "      <td>...</td>\n",
       "      <td>3.0</td>\n",
       "      <td>English</td>\n",
       "      <td>USA</td>\n",
       "      <td>NaN</td>\n",
       "      <td>1400.0</td>\n",
       "      <td>2013.0</td>\n",
       "      <td>0.0</td>\n",
       "      <td>6.3</td>\n",
       "      <td>NaN</td>\n",
       "      <td>16</td>\n",
       "    </tr>\n",
       "    <tr>\n",
       "      <th>5041</th>\n",
       "      <td>Color</td>\n",
       "      <td>Daniel Hsia</td>\n",
       "      <td>14.0</td>\n",
       "      <td>100.0</td>\n",
       "      <td>0.0</td>\n",
       "      <td>489.0</td>\n",
       "      <td>Daniel Henney</td>\n",
       "      <td>946.0</td>\n",
       "      <td>10443.0</td>\n",
       "      <td>Comedy|Drama|Romance</td>\n",
       "      <td>...</td>\n",
       "      <td>9.0</td>\n",
       "      <td>English</td>\n",
       "      <td>USA</td>\n",
       "      <td>PG-13</td>\n",
       "      <td>NaN</td>\n",
       "      <td>2012.0</td>\n",
       "      <td>719.0</td>\n",
       "      <td>6.3</td>\n",
       "      <td>2.35</td>\n",
       "      <td>660</td>\n",
       "    </tr>\n",
       "    <tr>\n",
       "      <th>5042</th>\n",
       "      <td>Color</td>\n",
       "      <td>Jon Gunn</td>\n",
       "      <td>43.0</td>\n",
       "      <td>90.0</td>\n",
       "      <td>16.0</td>\n",
       "      <td>16.0</td>\n",
       "      <td>Brian Herzlinger</td>\n",
       "      <td>86.0</td>\n",
       "      <td>85222.0</td>\n",
       "      <td>Documentary</td>\n",
       "      <td>...</td>\n",
       "      <td>84.0</td>\n",
       "      <td>English</td>\n",
       "      <td>USA</td>\n",
       "      <td>PG</td>\n",
       "      <td>1100.0</td>\n",
       "      <td>2004.0</td>\n",
       "      <td>23.0</td>\n",
       "      <td>6.6</td>\n",
       "      <td>1.85</td>\n",
       "      <td>456</td>\n",
       "    </tr>\n",
       "  </tbody>\n",
       "</table>\n",
       "<p>5043 rows × 28 columns</p>\n",
       "</div>"
      ],
      "text/plain": [
       "      color      director_name  num_critic_for_reviews  duration  \\\n",
       "0     Color      James Cameron                   723.0     178.0   \n",
       "1     Color     Gore Verbinski                   302.0     169.0   \n",
       "2     Color         Sam Mendes                   602.0     148.0   \n",
       "3     Color  Christopher Nolan                   813.0     164.0   \n",
       "4       NaN        Doug Walker                     NaN       NaN   \n",
       "...     ...                ...                     ...       ...   \n",
       "5038  Color        Scott Smith                     1.0      87.0   \n",
       "5039  Color                NaN                    43.0      43.0   \n",
       "5040  Color   Benjamin Roberds                    13.0      76.0   \n",
       "5041  Color        Daniel Hsia                    14.0     100.0   \n",
       "5042  Color           Jon Gunn                    43.0      90.0   \n",
       "\n",
       "      director_facebook_likes  actor_3_facebook_likes      actor_2_name  \\\n",
       "0                         0.0                   855.0  Joel David Moore   \n",
       "1                       563.0                  1000.0     Orlando Bloom   \n",
       "2                         0.0                   161.0      Rory Kinnear   \n",
       "3                     22000.0                 23000.0    Christian Bale   \n",
       "4                       131.0                     NaN        Rob Walker   \n",
       "...                       ...                     ...               ...   \n",
       "5038                      2.0                   318.0     Daphne Zuniga   \n",
       "5039                      NaN                   319.0     Valorie Curry   \n",
       "5040                      0.0                     0.0     Maxwell Moody   \n",
       "5041                      0.0                   489.0     Daniel Henney   \n",
       "5042                     16.0                    16.0  Brian Herzlinger   \n",
       "\n",
       "      actor_1_facebook_likes        gross                           genres  \\\n",
       "0                     1000.0  760505847.0  Action|Adventure|Fantasy|Sci-Fi   \n",
       "1                    40000.0  309404152.0         Action|Adventure|Fantasy   \n",
       "2                    11000.0  200074175.0        Action|Adventure|Thriller   \n",
       "3                    27000.0  448130642.0                  Action|Thriller   \n",
       "4                      131.0          NaN                      Documentary   \n",
       "...                      ...          ...                              ...   \n",
       "5038                   637.0          NaN                     Comedy|Drama   \n",
       "5039                   841.0          NaN     Crime|Drama|Mystery|Thriller   \n",
       "5040                     0.0          NaN            Drama|Horror|Thriller   \n",
       "5041                   946.0      10443.0             Comedy|Drama|Romance   \n",
       "5042                    86.0      85222.0                      Documentary   \n",
       "\n",
       "      ... num_user_for_reviews language  country  content_rating       budget  \\\n",
       "0     ...               3054.0  English      USA           PG-13  237000000.0   \n",
       "1     ...               1238.0  English      USA           PG-13  300000000.0   \n",
       "2     ...                994.0  English       UK           PG-13  245000000.0   \n",
       "3     ...               2701.0  English      USA           PG-13  250000000.0   \n",
       "4     ...                  NaN      NaN      NaN             NaN          NaN   \n",
       "...   ...                  ...      ...      ...             ...          ...   \n",
       "5038  ...                  6.0  English   Canada             NaN          NaN   \n",
       "5039  ...                359.0  English      USA           TV-14          NaN   \n",
       "5040  ...                  3.0  English      USA             NaN       1400.0   \n",
       "5041  ...                  9.0  English      USA           PG-13          NaN   \n",
       "5042  ...                 84.0  English      USA              PG       1100.0   \n",
       "\n",
       "      title_year actor_2_facebook_likes imdb_score  aspect_ratio  \\\n",
       "0         2009.0                  936.0        7.9          1.78   \n",
       "1         2007.0                 5000.0        7.1          2.35   \n",
       "2         2015.0                  393.0        6.8          2.35   \n",
       "3         2012.0                23000.0        8.5          2.35   \n",
       "4            NaN                   12.0        7.1           NaN   \n",
       "...          ...                    ...        ...           ...   \n",
       "5038      2013.0                  470.0        7.7           NaN   \n",
       "5039         NaN                  593.0        7.5         16.00   \n",
       "5040      2013.0                    0.0        6.3           NaN   \n",
       "5041      2012.0                  719.0        6.3          2.35   \n",
       "5042      2004.0                   23.0        6.6          1.85   \n",
       "\n",
       "     movie_facebook_likes  \n",
       "0                   33000  \n",
       "1                       0  \n",
       "2                   85000  \n",
       "3                  164000  \n",
       "4                       0  \n",
       "...                   ...  \n",
       "5038                   84  \n",
       "5039                32000  \n",
       "5040                   16  \n",
       "5041                  660  \n",
       "5042                  456  \n",
       "\n",
       "[5043 rows x 28 columns]"
      ]
     },
     "execution_count": 40,
     "metadata": {},
     "output_type": "execute_result"
    }
   ],
   "source": [
    "data = pd.read_csv(CSV_Link)\n",
    "data"
   ]
  },
  {
   "cell_type": "code",
   "execution_count": null,
   "metadata": {
    "cell_id": "00040-80acd45f-fcbd-4dcc-aca1-feb8d48e4bf2",
    "deepnote_cell_type": "code",
    "deepnote_to_be_reexecuted": false,
    "execution_millis": 6,
    "execution_start": 1631381833990,
    "source_hash": "c8a8c27a",
    "tags": []
   },
   "outputs": [
    {
     "data": {
      "text/plain": [
       "Index(['color', 'director_name', 'num_critic_for_reviews', 'duration',\n",
       "       'director_facebook_likes', 'actor_3_facebook_likes', 'actor_2_name',\n",
       "       'actor_1_facebook_likes', 'gross', 'genres', 'actor_1_name',\n",
       "       'movie_title', 'num_voted_users', 'cast_total_facebook_likes',\n",
       "       'actor_3_name', 'facenumber_in_poster', 'plot_keywords',\n",
       "       'movie_imdb_link', 'num_user_for_reviews', 'language', 'country',\n",
       "       'content_rating', 'budget', 'title_year', 'actor_2_facebook_likes',\n",
       "       'imdb_score', 'aspect_ratio', 'movie_facebook_likes'],\n",
       "      dtype='object')"
      ]
     },
     "execution_count": 41,
     "metadata": {},
     "output_type": "execute_result"
    }
   ],
   "source": [
    "data.columns"
   ]
  },
  {
   "cell_type": "code",
   "execution_count": null,
   "metadata": {
    "cell_id": "00041-485b9e52-c04f-4ce3-960f-4c503a018e82",
    "deepnote_cell_type": "code",
    "deepnote_to_be_reexecuted": false,
    "execution_millis": 160,
    "execution_start": 1631381849587,
    "source_hash": "d786443f",
    "tags": []
   },
   "outputs": [
    {
     "data": {
      "application/vnd.deepnote.dataframe.v2+json": {
       "column_count": 16,
       "columns": [
        {
         "dtype": "float64",
         "name": "num_critic_for_reviews",
         "stats": {
          "histogram": [
           {
            "bin_end": 500.2,
            "bin_start": 1,
            "count": 6
           },
           {
            "bin_end": 999.4,
            "bin_start": 500.2,
            "count": 1
           },
           {
            "bin_end": 1498.6,
            "bin_start": 999.4,
            "count": 0
           },
           {
            "bin_end": 1997.8,
            "bin_start": 1498.6,
            "count": 0
           },
           {
            "bin_end": 2497,
            "bin_start": 1997.8,
            "count": 0
           },
           {
            "bin_end": 2996.2,
            "bin_start": 2497,
            "count": 0
           },
           {
            "bin_end": 3495.4,
            "bin_start": 2996.2,
            "count": 0
           },
           {
            "bin_end": 3994.6,
            "bin_start": 3495.4,
            "count": 0
           },
           {
            "bin_end": 4493.8,
            "bin_start": 3994.6,
            "count": 0
           },
           {
            "bin_end": 4993,
            "bin_start": 4493.8,
            "count": 1
           }
          ],
          "max": "4993.0",
          "min": "1.0",
          "nan_count": 0,
          "unique_count": 8
         }
        },
        {
         "dtype": "float64",
         "name": "duration",
         "stats": {
          "histogram": [
           {
            "bin_end": 509.1,
            "bin_start": 7,
            "count": 6
           },
           {
            "bin_end": 1011.2,
            "bin_start": 509.1,
            "count": 1
           },
           {
            "bin_end": 1513.3000000000002,
            "bin_start": 1011.2,
            "count": 0
           },
           {
            "bin_end": 2015.4,
            "bin_start": 1513.3000000000002,
            "count": 0
           },
           {
            "bin_end": 2517.5,
            "bin_start": 2015.4,
            "count": 0
           },
           {
            "bin_end": 3019.6000000000004,
            "bin_start": 2517.5,
            "count": 0
           },
           {
            "bin_end": 3521.7000000000003,
            "bin_start": 3019.6000000000004,
            "count": 0
           },
           {
            "bin_end": 4023.8,
            "bin_start": 3521.7000000000003,
            "count": 0
           },
           {
            "bin_end": 4525.900000000001,
            "bin_start": 4023.8,
            "count": 0
           },
           {
            "bin_end": 5028,
            "bin_start": 4525.900000000001,
            "count": 1
           }
          ],
          "max": "5028.0",
          "min": "7.0",
          "nan_count": 0,
          "unique_count": 8
         }
        },
        {
         "dtype": "float64",
         "name": "director_facebook_likes",
         "stats": {
          "histogram": [
           {
            "bin_end": 2300,
            "bin_start": 0,
            "count": 5
           },
           {
            "bin_end": 4600,
            "bin_start": 2300,
            "count": 1
           },
           {
            "bin_end": 6900,
            "bin_start": 4600,
            "count": 1
           },
           {
            "bin_end": 9200,
            "bin_start": 6900,
            "count": 0
           },
           {
            "bin_end": 11500,
            "bin_start": 9200,
            "count": 0
           },
           {
            "bin_end": 13800,
            "bin_start": 11500,
            "count": 0
           },
           {
            "bin_end": 16100,
            "bin_start": 13800,
            "count": 0
           },
           {
            "bin_end": 18400,
            "bin_start": 16100,
            "count": 0
           },
           {
            "bin_end": 20700,
            "bin_start": 18400,
            "count": 0
           },
           {
            "bin_end": 23000,
            "bin_start": 20700,
            "count": 1
           }
          ],
          "max": "23000.0",
          "min": "0.0",
          "nan_count": 0,
          "unique_count": 8
         }
        },
        {
         "dtype": "float64",
         "name": "actor_3_facebook_likes",
         "stats": {
          "histogram": [
           {
            "bin_end": 2300,
            "bin_start": 0,
            "count": 6
           },
           {
            "bin_end": 4600,
            "bin_start": 2300,
            "count": 0
           },
           {
            "bin_end": 6900,
            "bin_start": 4600,
            "count": 1
           },
           {
            "bin_end": 9200,
            "bin_start": 6900,
            "count": 0
           },
           {
            "bin_end": 11500,
            "bin_start": 9200,
            "count": 0
           },
           {
            "bin_end": 13800,
            "bin_start": 11500,
            "count": 0
           },
           {
            "bin_end": 16100,
            "bin_start": 13800,
            "count": 0
           },
           {
            "bin_end": 18400,
            "bin_start": 16100,
            "count": 0
           },
           {
            "bin_end": 20700,
            "bin_start": 18400,
            "count": 0
           },
           {
            "bin_end": 23000,
            "bin_start": 20700,
            "count": 1
           }
          ],
          "max": "23000.0",
          "min": "0.0",
          "nan_count": 0,
          "unique_count": 8
         }
        },
        {
         "dtype": "float64",
         "name": "actor_1_facebook_likes",
         "stats": {
          "histogram": [
           {
            "bin_end": 64000,
            "bin_start": 0,
            "count": 7
           },
           {
            "bin_end": 128000,
            "bin_start": 64000,
            "count": 0
           },
           {
            "bin_end": 192000,
            "bin_start": 128000,
            "count": 0
           },
           {
            "bin_end": 256000,
            "bin_start": 192000,
            "count": 0
           },
           {
            "bin_end": 320000,
            "bin_start": 256000,
            "count": 0
           },
           {
            "bin_end": 384000,
            "bin_start": 320000,
            "count": 0
           },
           {
            "bin_end": 448000,
            "bin_start": 384000,
            "count": 0
           },
           {
            "bin_end": 512000,
            "bin_start": 448000,
            "count": 0
           },
           {
            "bin_end": 576000,
            "bin_start": 512000,
            "count": 0
           },
           {
            "bin_end": 640000,
            "bin_start": 576000,
            "count": 1
           }
          ],
          "max": "640000.0",
          "min": "0.0",
          "nan_count": 0,
          "unique_count": 8
         }
        },
        {
         "dtype": "float64",
         "name": "gross",
         "stats": {
          "histogram": [
           {
            "bin_end": 76050730.5,
            "bin_start": 162,
            "count": 7
           },
           {
            "bin_end": 152101299,
            "bin_start": 76050730.5,
            "count": 0
           },
           {
            "bin_end": 228151867.5,
            "bin_start": 152101299,
            "count": 0
           },
           {
            "bin_end": 304202436,
            "bin_start": 228151867.5,
            "count": 0
           },
           {
            "bin_end": 380253004.5,
            "bin_start": 304202436,
            "count": 0
           },
           {
            "bin_end": 456303573,
            "bin_start": 380253004.5,
            "count": 0
           },
           {
            "bin_end": 532354141.5,
            "bin_start": 456303573,
            "count": 0
           },
           {
            "bin_end": 608404710,
            "bin_start": 532354141.5,
            "count": 0
           },
           {
            "bin_end": 684455278.5,
            "bin_start": 608404710,
            "count": 0
           },
           {
            "bin_end": 760505847,
            "bin_start": 684455278.5,
            "count": 1
           }
          ],
          "max": "760505847.0",
          "min": "162.0",
          "nan_count": 0,
          "unique_count": 8
         }
        },
        {
         "dtype": "float64",
         "name": "num_voted_users",
         "stats": {
          "histogram": [
           {
            "bin_end": 168980.9,
            "bin_start": 5,
            "count": 7
           },
           {
            "bin_end": 337956.8,
            "bin_start": 168980.9,
            "count": 0
           },
           {
            "bin_end": 506932.69999999995,
            "bin_start": 337956.8,
            "count": 0
           },
           {
            "bin_end": 675908.6,
            "bin_start": 506932.69999999995,
            "count": 0
           },
           {
            "bin_end": 844884.5,
            "bin_start": 675908.6,
            "count": 0
           },
           {
            "bin_end": 1013860.3999999999,
            "bin_start": 844884.5,
            "count": 0
           },
           {
            "bin_end": 1182836.3,
            "bin_start": 1013860.3999999999,
            "count": 0
           },
           {
            "bin_end": 1351812.2,
            "bin_start": 1182836.3,
            "count": 0
           },
           {
            "bin_end": 1520788.0999999999,
            "bin_start": 1351812.2,
            "count": 0
           },
           {
            "bin_end": 1689764,
            "bin_start": 1520788.0999999999,
            "count": 1
           }
          ],
          "max": "1689764.0",
          "min": "5.0",
          "nan_count": 0,
          "unique_count": 8
         }
        },
        {
         "dtype": "float64",
         "name": "cast_total_facebook_likes",
         "stats": {
          "histogram": [
           {
            "bin_end": 65673,
            "bin_start": 0,
            "count": 7
           },
           {
            "bin_end": 131346,
            "bin_start": 65673,
            "count": 0
           },
           {
            "bin_end": 197019,
            "bin_start": 131346,
            "count": 0
           },
           {
            "bin_end": 262692,
            "bin_start": 197019,
            "count": 0
           },
           {
            "bin_end": 328365,
            "bin_start": 262692,
            "count": 0
           },
           {
            "bin_end": 394038,
            "bin_start": 328365,
            "count": 0
           },
           {
            "bin_end": 459711,
            "bin_start": 394038,
            "count": 0
           },
           {
            "bin_end": 525384,
            "bin_start": 459711,
            "count": 0
           },
           {
            "bin_end": 591057,
            "bin_start": 525384,
            "count": 0
           },
           {
            "bin_end": 656730,
            "bin_start": 591057,
            "count": 1
           }
          ],
          "max": "656730.0",
          "min": "0.0",
          "nan_count": 0,
          "unique_count": 8
         }
        },
        {
         "dtype": "float64",
         "name": "facenumber_in_poster",
         "stats": {
          "histogram": [
           {
            "bin_end": 503,
            "bin_start": 0,
            "count": 7
           },
           {
            "bin_end": 1006,
            "bin_start": 503,
            "count": 0
           },
           {
            "bin_end": 1509,
            "bin_start": 1006,
            "count": 0
           },
           {
            "bin_end": 2012,
            "bin_start": 1509,
            "count": 0
           },
           {
            "bin_end": 2515,
            "bin_start": 2012,
            "count": 0
           },
           {
            "bin_end": 3018,
            "bin_start": 2515,
            "count": 0
           },
           {
            "bin_end": 3521,
            "bin_start": 3018,
            "count": 0
           },
           {
            "bin_end": 4024,
            "bin_start": 3521,
            "count": 0
           },
           {
            "bin_end": 4527,
            "bin_start": 4024,
            "count": 0
           },
           {
            "bin_end": 5030,
            "bin_start": 4527,
            "count": 1
           }
          ],
          "max": "5030.0",
          "min": "0.0",
          "nan_count": 0,
          "unique_count": 7
         }
        },
        {
         "dtype": "float64",
         "name": "num_user_for_reviews",
         "stats": {
          "histogram": [
           {
            "bin_end": 506.9,
            "bin_start": 1,
            "count": 6
           },
           {
            "bin_end": 1012.8,
            "bin_start": 506.9,
            "count": 0
           },
           {
            "bin_end": 1518.6999999999998,
            "bin_start": 1012.8,
            "count": 0
           },
           {
            "bin_end": 2024.6,
            "bin_start": 1518.6999999999998,
            "count": 0
           },
           {
            "bin_end": 2530.5,
            "bin_start": 2024.6,
            "count": 0
           },
           {
            "bin_end": 3036.3999999999996,
            "bin_start": 2530.5,
            "count": 0
           },
           {
            "bin_end": 3542.2999999999997,
            "bin_start": 3036.3999999999996,
            "count": 0
           },
           {
            "bin_end": 4048.2,
            "bin_start": 3542.2999999999997,
            "count": 0
           },
           {
            "bin_end": 4554.099999999999,
            "bin_start": 4048.2,
            "count": 0
           },
           {
            "bin_end": 5060,
            "bin_start": 4554.099999999999,
            "count": 2
           }
          ],
          "max": "5060.0",
          "min": "1.0",
          "nan_count": 0,
          "unique_count": 8
         }
        },
        {
         "dtype": "float64",
         "name": "budget",
         "stats": {
          "histogram": [
           {
            "bin_end": 1221550196.2,
            "bin_start": 218,
            "count": 7
           },
           {
            "bin_end": 2443100174.4,
            "bin_start": 1221550196.2,
            "count": 0
           },
           {
            "bin_end": 3664650152.6000004,
            "bin_start": 2443100174.4,
            "count": 0
           },
           {
            "bin_end": 4886200130.8,
            "bin_start": 3664650152.6000004,
            "count": 0
           },
           {
            "bin_end": 6107750109,
            "bin_start": 4886200130.8,
            "count": 0
           },
           {
            "bin_end": 7329300087.200001,
            "bin_start": 6107750109,
            "count": 0
           },
           {
            "bin_end": 8550850065.400001,
            "bin_start": 7329300087.200001,
            "count": 0
           },
           {
            "bin_end": 9772400043.6,
            "bin_start": 8550850065.400001,
            "count": 0
           },
           {
            "bin_end": 10993950021.800001,
            "bin_start": 9772400043.6,
            "count": 0
           },
           {
            "bin_end": 12215500000,
            "bin_start": 10993950021.800001,
            "count": 1
           }
          ],
          "max": "12215500000.0",
          "min": "218.0",
          "nan_count": 0,
          "unique_count": 8
         }
        },
        {
         "dtype": "float64",
         "name": "title_year",
         "stats": {
          "histogram": [
           {
            "bin_end": 504.72713902734364,
            "bin_start": 12.47459891927072,
            "count": 1
           },
           {
            "bin_end": 996.9796791354166,
            "bin_start": 504.72713902734364,
            "count": 0
           },
           {
            "bin_end": 1489.2322192434895,
            "bin_start": 996.9796791354166,
            "count": 0
           },
           {
            "bin_end": 1981.4847593515624,
            "bin_start": 1489.2322192434895,
            "count": 1
           },
           {
            "bin_end": 2473.7372994596353,
            "bin_start": 1981.4847593515624,
            "count": 5
           },
           {
            "bin_end": 2965.9898395677083,
            "bin_start": 2473.7372994596353,
            "count": 0
           },
           {
            "bin_end": 3458.242379675781,
            "bin_start": 2965.9898395677083,
            "count": 0
           },
           {
            "bin_end": 3950.494919783854,
            "bin_start": 3458.242379675781,
            "count": 0
           },
           {
            "bin_end": 4442.747459891927,
            "bin_start": 3950.494919783854,
            "count": 0
           },
           {
            "bin_end": 4935,
            "bin_start": 4442.747459891927,
            "count": 1
           }
          ],
          "max": "4935.0",
          "min": "12.47459891927072",
          "nan_count": 0,
          "unique_count": 8
         }
        },
        {
         "dtype": "float64",
         "name": "actor_2_facebook_likes",
         "stats": {
          "histogram": [
           {
            "bin_end": 13700,
            "bin_start": 0,
            "count": 7
           },
           {
            "bin_end": 27400,
            "bin_start": 13700,
            "count": 0
           },
           {
            "bin_end": 41100,
            "bin_start": 27400,
            "count": 0
           },
           {
            "bin_end": 54800,
            "bin_start": 41100,
            "count": 0
           },
           {
            "bin_end": 68500,
            "bin_start": 54800,
            "count": 0
           },
           {
            "bin_end": 82200,
            "bin_start": 68500,
            "count": 0
           },
           {
            "bin_end": 95900,
            "bin_start": 82200,
            "count": 0
           },
           {
            "bin_end": 109600,
            "bin_start": 95900,
            "count": 0
           },
           {
            "bin_end": 123300,
            "bin_start": 109600,
            "count": 0
           },
           {
            "bin_end": 137000,
            "bin_start": 123300,
            "count": 1
           }
          ],
          "max": "137000.0",
          "min": "0.0",
          "nan_count": 0,
          "unique_count": 8
         }
        },
        {
         "dtype": "float64",
         "name": "imdb_score",
         "stats": {
          "histogram": [
           {
            "bin_end": 505.3126042791596,
            "bin_start": 1.125115865732819,
            "count": 7
           },
           {
            "bin_end": 1009.5000926925863,
            "bin_start": 505.3126042791596,
            "count": 0
           },
           {
            "bin_end": 1513.687581106013,
            "bin_start": 1009.5000926925863,
            "count": 0
           },
           {
            "bin_end": 2017.8750695194399,
            "bin_start": 1513.687581106013,
            "count": 0
           },
           {
            "bin_end": 2522.0625579328666,
            "bin_start": 2017.8750695194399,
            "count": 0
           },
           {
            "bin_end": 3026.2500463462934,
            "bin_start": 2522.0625579328666,
            "count": 0
           },
           {
            "bin_end": 3530.43753475972,
            "bin_start": 3026.2500463462934,
            "count": 0
           },
           {
            "bin_end": 4034.625023173147,
            "bin_start": 3530.43753475972,
            "count": 0
           },
           {
            "bin_end": 4538.812511586573,
            "bin_start": 4034.625023173147,
            "count": 0
           },
           {
            "bin_end": 5043,
            "bin_start": 4538.812511586573,
            "count": 1
           }
          ],
          "max": "5043.0",
          "min": "1.125115865732819",
          "nan_count": 0,
          "unique_count": 8
         }
        },
        {
         "dtype": "float64",
         "name": "aspect_ratio",
         "stats": {
          "histogram": [
           {
            "bin_end": 472.462,
            "bin_start": 1.18,
            "count": 7
           },
           {
            "bin_end": 943.7439999999999,
            "bin_start": 472.462,
            "count": 0
           },
           {
            "bin_end": 1415.026,
            "bin_start": 943.7439999999999,
            "count": 0
           },
           {
            "bin_end": 1886.308,
            "bin_start": 1415.026,
            "count": 0
           },
           {
            "bin_end": 2357.5899999999997,
            "bin_start": 1886.308,
            "count": 0
           },
           {
            "bin_end": 2828.872,
            "bin_start": 2357.5899999999997,
            "count": 0
           },
           {
            "bin_end": 3300.1539999999995,
            "bin_start": 2828.872,
            "count": 0
           },
           {
            "bin_end": 3771.4359999999997,
            "bin_start": 3300.1539999999995,
            "count": 0
           },
           {
            "bin_end": 4242.718,
            "bin_start": 3771.4359999999997,
            "count": 0
           },
           {
            "bin_end": 4714,
            "bin_start": 4242.718,
            "count": 1
           }
          ],
          "max": "4714.0",
          "min": "1.18",
          "nan_count": 0,
          "unique_count": 7
         }
        },
        {
         "dtype": "float64",
         "name": "movie_facebook_likes",
         "stats": {
          "histogram": [
           {
            "bin_end": 34900,
            "bin_start": 0,
            "count": 7
           },
           {
            "bin_end": 69800,
            "bin_start": 34900,
            "count": 0
           },
           {
            "bin_end": 104700,
            "bin_start": 69800,
            "count": 0
           },
           {
            "bin_end": 139600,
            "bin_start": 104700,
            "count": 0
           },
           {
            "bin_end": 174500,
            "bin_start": 139600,
            "count": 0
           },
           {
            "bin_end": 209400,
            "bin_start": 174500,
            "count": 0
           },
           {
            "bin_end": 244300,
            "bin_start": 209400,
            "count": 0
           },
           {
            "bin_end": 279200,
            "bin_start": 244300,
            "count": 0
           },
           {
            "bin_end": 314100,
            "bin_start": 279200,
            "count": 0
           },
           {
            "bin_end": 349000,
            "bin_start": 314100,
            "count": 1
           }
          ],
          "max": "349000.0",
          "min": "0.0",
          "nan_count": 0,
          "unique_count": 7
         }
        },
        {
         "dtype": "object",
         "name": "_deepnote_index_column"
        }
       ],
       "row_count": 8,
       "rows_bottom": null,
       "rows_top": [
        {
         "_deepnote_index_column": "count",
         "actor_1_facebook_likes": 5036,
         "actor_2_facebook_likes": 5030,
         "actor_3_facebook_likes": 5020,
         "aspect_ratio": 4714,
         "budget": 4551,
         "cast_total_facebook_likes": 5043,
         "director_facebook_likes": 4939,
         "duration": 5028,
         "facenumber_in_poster": 5030,
         "gross": 4159,
         "imdb_score": 5043,
         "movie_facebook_likes": 5043,
         "num_critic_for_reviews": 4993,
         "num_user_for_reviews": 5022,
         "num_voted_users": 5043,
         "title_year": 4935
        },
        {
         "_deepnote_index_column": "mean",
         "actor_1_facebook_likes": 6560.04706115965,
         "actor_2_facebook_likes": 1651.7544731610337,
         "actor_3_facebook_likes": 645.0097609561753,
         "aspect_ratio": 2.22040305473059,
         "budget": 39752620.436387606,
         "cast_total_facebook_likes": 9699.06385088241,
         "director_facebook_likes": 686.5092123911724,
         "duration": 107.2010739856802,
         "facenumber_in_poster": 1.3711729622266402,
         "gross": 48468407.52680933,
         "imdb_score": 6.442137616498116,
         "movie_facebook_likes": 7525.9645052548085,
         "num_critic_for_reviews": 140.1942719807731,
         "num_user_for_reviews": 272.77080844285143,
         "num_voted_users": 83668.16081697402,
         "title_year": 2002.4705167173252
        },
        {
         "_deepnote_index_column": "std",
         "actor_1_facebook_likes": 15020.759119984092,
         "actor_2_facebook_likes": 4042.4388626418736,
         "actor_3_facebook_likes": 1665.0417284458586,
         "aspect_ratio": 1.3851125353032794,
         "budget": 206114898.4486867,
         "cast_total_facebook_likes": 18163.79912404591,
         "director_facebook_likes": 2813.3286068656744,
         "duration": 25.197440808824194,
         "facenumber_in_poster": 2.013575919996105,
         "gross": 68452990.43875284,
         "imdb_score": 1.125115865732819,
         "movie_facebook_likes": 19320.445109946588,
         "num_critic_for_reviews": 121.60167539623129,
         "num_user_for_reviews": 377.9828855657686,
         "num_voted_users": 138485.25680596245,
         "title_year": 12.47459891927072
        },
        {
         "_deepnote_index_column": "min",
         "actor_1_facebook_likes": 0,
         "actor_2_facebook_likes": 0,
         "actor_3_facebook_likes": 0,
         "aspect_ratio": 1.18,
         "budget": 218,
         "cast_total_facebook_likes": 0,
         "director_facebook_likes": 0,
         "duration": 7,
         "facenumber_in_poster": 0,
         "gross": 162,
         "imdb_score": 1.6,
         "movie_facebook_likes": 0,
         "num_critic_for_reviews": 1,
         "num_user_for_reviews": 1,
         "num_voted_users": 5,
         "title_year": 1916
        },
        {
         "_deepnote_index_column": "25%",
         "actor_1_facebook_likes": 614,
         "actor_2_facebook_likes": 281,
         "actor_3_facebook_likes": 133,
         "aspect_ratio": 1.85,
         "budget": 6000000,
         "cast_total_facebook_likes": 1411,
         "director_facebook_likes": 7,
         "duration": 93,
         "facenumber_in_poster": 0,
         "gross": 5340987.5,
         "imdb_score": 5.8,
         "movie_facebook_likes": 0,
         "num_critic_for_reviews": 50,
         "num_user_for_reviews": 65,
         "num_voted_users": 8593.5,
         "title_year": 1999
        },
        {
         "_deepnote_index_column": "50%",
         "actor_1_facebook_likes": 988,
         "actor_2_facebook_likes": 595,
         "actor_3_facebook_likes": 371.5,
         "aspect_ratio": 2.35,
         "budget": 20000000,
         "cast_total_facebook_likes": 3090,
         "director_facebook_likes": 49,
         "duration": 103,
         "facenumber_in_poster": 1,
         "gross": 25517500,
         "imdb_score": 6.6,
         "movie_facebook_likes": 166,
         "num_critic_for_reviews": 110,
         "num_user_for_reviews": 156,
         "num_voted_users": 34359,
         "title_year": 2005
        },
        {
         "_deepnote_index_column": "75%",
         "actor_1_facebook_likes": 11000,
         "actor_2_facebook_likes": 918,
         "actor_3_facebook_likes": 636,
         "aspect_ratio": 2.35,
         "budget": 45000000,
         "cast_total_facebook_likes": 13756.5,
         "director_facebook_likes": 194.5,
         "duration": 118,
         "facenumber_in_poster": 2,
         "gross": 62309437.5,
         "imdb_score": 7.2,
         "movie_facebook_likes": 3000,
         "num_critic_for_reviews": 195,
         "num_user_for_reviews": 326,
         "num_voted_users": 96309,
         "title_year": 2011
        },
        {
         "_deepnote_index_column": "max",
         "actor_1_facebook_likes": 640000,
         "actor_2_facebook_likes": 137000,
         "actor_3_facebook_likes": 23000,
         "aspect_ratio": 16,
         "budget": 12215500000,
         "cast_total_facebook_likes": 656730,
         "director_facebook_likes": 23000,
         "duration": 511,
         "facenumber_in_poster": 43,
         "gross": 760505847,
         "imdb_score": 9.5,
         "movie_facebook_likes": 349000,
         "num_critic_for_reviews": 813,
         "num_user_for_reviews": 5060,
         "num_voted_users": 1689764,
         "title_year": 2016
        }
       ]
      },
      "text/html": [
       "<div>\n",
       "<style scoped>\n",
       "    .dataframe tbody tr th:only-of-type {\n",
       "        vertical-align: middle;\n",
       "    }\n",
       "\n",
       "    .dataframe tbody tr th {\n",
       "        vertical-align: top;\n",
       "    }\n",
       "\n",
       "    .dataframe thead th {\n",
       "        text-align: right;\n",
       "    }\n",
       "</style>\n",
       "<table border=\"1\" class=\"dataframe\">\n",
       "  <thead>\n",
       "    <tr style=\"text-align: right;\">\n",
       "      <th></th>\n",
       "      <th>num_critic_for_reviews</th>\n",
       "      <th>duration</th>\n",
       "      <th>director_facebook_likes</th>\n",
       "      <th>actor_3_facebook_likes</th>\n",
       "      <th>actor_1_facebook_likes</th>\n",
       "      <th>gross</th>\n",
       "      <th>num_voted_users</th>\n",
       "      <th>cast_total_facebook_likes</th>\n",
       "      <th>facenumber_in_poster</th>\n",
       "      <th>num_user_for_reviews</th>\n",
       "      <th>budget</th>\n",
       "      <th>title_year</th>\n",
       "      <th>actor_2_facebook_likes</th>\n",
       "      <th>imdb_score</th>\n",
       "      <th>aspect_ratio</th>\n",
       "      <th>movie_facebook_likes</th>\n",
       "    </tr>\n",
       "  </thead>\n",
       "  <tbody>\n",
       "    <tr>\n",
       "      <th>count</th>\n",
       "      <td>4993.000000</td>\n",
       "      <td>5028.000000</td>\n",
       "      <td>4939.000000</td>\n",
       "      <td>5020.000000</td>\n",
       "      <td>5036.000000</td>\n",
       "      <td>4.159000e+03</td>\n",
       "      <td>5.043000e+03</td>\n",
       "      <td>5043.000000</td>\n",
       "      <td>5030.000000</td>\n",
       "      <td>5022.000000</td>\n",
       "      <td>4.551000e+03</td>\n",
       "      <td>4935.000000</td>\n",
       "      <td>5030.000000</td>\n",
       "      <td>5043.000000</td>\n",
       "      <td>4714.000000</td>\n",
       "      <td>5043.000000</td>\n",
       "    </tr>\n",
       "    <tr>\n",
       "      <th>mean</th>\n",
       "      <td>140.194272</td>\n",
       "      <td>107.201074</td>\n",
       "      <td>686.509212</td>\n",
       "      <td>645.009761</td>\n",
       "      <td>6560.047061</td>\n",
       "      <td>4.846841e+07</td>\n",
       "      <td>8.366816e+04</td>\n",
       "      <td>9699.063851</td>\n",
       "      <td>1.371173</td>\n",
       "      <td>272.770808</td>\n",
       "      <td>3.975262e+07</td>\n",
       "      <td>2002.470517</td>\n",
       "      <td>1651.754473</td>\n",
       "      <td>6.442138</td>\n",
       "      <td>2.220403</td>\n",
       "      <td>7525.964505</td>\n",
       "    </tr>\n",
       "    <tr>\n",
       "      <th>std</th>\n",
       "      <td>121.601675</td>\n",
       "      <td>25.197441</td>\n",
       "      <td>2813.328607</td>\n",
       "      <td>1665.041728</td>\n",
       "      <td>15020.759120</td>\n",
       "      <td>6.845299e+07</td>\n",
       "      <td>1.384853e+05</td>\n",
       "      <td>18163.799124</td>\n",
       "      <td>2.013576</td>\n",
       "      <td>377.982886</td>\n",
       "      <td>2.061149e+08</td>\n",
       "      <td>12.474599</td>\n",
       "      <td>4042.438863</td>\n",
       "      <td>1.125116</td>\n",
       "      <td>1.385113</td>\n",
       "      <td>19320.445110</td>\n",
       "    </tr>\n",
       "    <tr>\n",
       "      <th>min</th>\n",
       "      <td>1.000000</td>\n",
       "      <td>7.000000</td>\n",
       "      <td>0.000000</td>\n",
       "      <td>0.000000</td>\n",
       "      <td>0.000000</td>\n",
       "      <td>1.620000e+02</td>\n",
       "      <td>5.000000e+00</td>\n",
       "      <td>0.000000</td>\n",
       "      <td>0.000000</td>\n",
       "      <td>1.000000</td>\n",
       "      <td>2.180000e+02</td>\n",
       "      <td>1916.000000</td>\n",
       "      <td>0.000000</td>\n",
       "      <td>1.600000</td>\n",
       "      <td>1.180000</td>\n",
       "      <td>0.000000</td>\n",
       "    </tr>\n",
       "    <tr>\n",
       "      <th>25%</th>\n",
       "      <td>50.000000</td>\n",
       "      <td>93.000000</td>\n",
       "      <td>7.000000</td>\n",
       "      <td>133.000000</td>\n",
       "      <td>614.000000</td>\n",
       "      <td>5.340988e+06</td>\n",
       "      <td>8.593500e+03</td>\n",
       "      <td>1411.000000</td>\n",
       "      <td>0.000000</td>\n",
       "      <td>65.000000</td>\n",
       "      <td>6.000000e+06</td>\n",
       "      <td>1999.000000</td>\n",
       "      <td>281.000000</td>\n",
       "      <td>5.800000</td>\n",
       "      <td>1.850000</td>\n",
       "      <td>0.000000</td>\n",
       "    </tr>\n",
       "    <tr>\n",
       "      <th>50%</th>\n",
       "      <td>110.000000</td>\n",
       "      <td>103.000000</td>\n",
       "      <td>49.000000</td>\n",
       "      <td>371.500000</td>\n",
       "      <td>988.000000</td>\n",
       "      <td>2.551750e+07</td>\n",
       "      <td>3.435900e+04</td>\n",
       "      <td>3090.000000</td>\n",
       "      <td>1.000000</td>\n",
       "      <td>156.000000</td>\n",
       "      <td>2.000000e+07</td>\n",
       "      <td>2005.000000</td>\n",
       "      <td>595.000000</td>\n",
       "      <td>6.600000</td>\n",
       "      <td>2.350000</td>\n",
       "      <td>166.000000</td>\n",
       "    </tr>\n",
       "    <tr>\n",
       "      <th>75%</th>\n",
       "      <td>195.000000</td>\n",
       "      <td>118.000000</td>\n",
       "      <td>194.500000</td>\n",
       "      <td>636.000000</td>\n",
       "      <td>11000.000000</td>\n",
       "      <td>6.230944e+07</td>\n",
       "      <td>9.630900e+04</td>\n",
       "      <td>13756.500000</td>\n",
       "      <td>2.000000</td>\n",
       "      <td>326.000000</td>\n",
       "      <td>4.500000e+07</td>\n",
       "      <td>2011.000000</td>\n",
       "      <td>918.000000</td>\n",
       "      <td>7.200000</td>\n",
       "      <td>2.350000</td>\n",
       "      <td>3000.000000</td>\n",
       "    </tr>\n",
       "    <tr>\n",
       "      <th>max</th>\n",
       "      <td>813.000000</td>\n",
       "      <td>511.000000</td>\n",
       "      <td>23000.000000</td>\n",
       "      <td>23000.000000</td>\n",
       "      <td>640000.000000</td>\n",
       "      <td>7.605058e+08</td>\n",
       "      <td>1.689764e+06</td>\n",
       "      <td>656730.000000</td>\n",
       "      <td>43.000000</td>\n",
       "      <td>5060.000000</td>\n",
       "      <td>1.221550e+10</td>\n",
       "      <td>2016.000000</td>\n",
       "      <td>137000.000000</td>\n",
       "      <td>9.500000</td>\n",
       "      <td>16.000000</td>\n",
       "      <td>349000.000000</td>\n",
       "    </tr>\n",
       "  </tbody>\n",
       "</table>\n",
       "</div>"
      ],
      "text/plain": [
       "       num_critic_for_reviews     duration  director_facebook_likes  \\\n",
       "count             4993.000000  5028.000000              4939.000000   \n",
       "mean               140.194272   107.201074               686.509212   \n",
       "std                121.601675    25.197441              2813.328607   \n",
       "min                  1.000000     7.000000                 0.000000   \n",
       "25%                 50.000000    93.000000                 7.000000   \n",
       "50%                110.000000   103.000000                49.000000   \n",
       "75%                195.000000   118.000000               194.500000   \n",
       "max                813.000000   511.000000             23000.000000   \n",
       "\n",
       "       actor_3_facebook_likes  actor_1_facebook_likes         gross  \\\n",
       "count             5020.000000             5036.000000  4.159000e+03   \n",
       "mean               645.009761             6560.047061  4.846841e+07   \n",
       "std               1665.041728            15020.759120  6.845299e+07   \n",
       "min                  0.000000                0.000000  1.620000e+02   \n",
       "25%                133.000000              614.000000  5.340988e+06   \n",
       "50%                371.500000              988.000000  2.551750e+07   \n",
       "75%                636.000000            11000.000000  6.230944e+07   \n",
       "max              23000.000000           640000.000000  7.605058e+08   \n",
       "\n",
       "       num_voted_users  cast_total_facebook_likes  facenumber_in_poster  \\\n",
       "count     5.043000e+03                5043.000000           5030.000000   \n",
       "mean      8.366816e+04                9699.063851              1.371173   \n",
       "std       1.384853e+05               18163.799124              2.013576   \n",
       "min       5.000000e+00                   0.000000              0.000000   \n",
       "25%       8.593500e+03                1411.000000              0.000000   \n",
       "50%       3.435900e+04                3090.000000              1.000000   \n",
       "75%       9.630900e+04               13756.500000              2.000000   \n",
       "max       1.689764e+06              656730.000000             43.000000   \n",
       "\n",
       "       num_user_for_reviews        budget   title_year  \\\n",
       "count           5022.000000  4.551000e+03  4935.000000   \n",
       "mean             272.770808  3.975262e+07  2002.470517   \n",
       "std              377.982886  2.061149e+08    12.474599   \n",
       "min                1.000000  2.180000e+02  1916.000000   \n",
       "25%               65.000000  6.000000e+06  1999.000000   \n",
       "50%              156.000000  2.000000e+07  2005.000000   \n",
       "75%              326.000000  4.500000e+07  2011.000000   \n",
       "max             5060.000000  1.221550e+10  2016.000000   \n",
       "\n",
       "       actor_2_facebook_likes   imdb_score  aspect_ratio  movie_facebook_likes  \n",
       "count             5030.000000  5043.000000   4714.000000           5043.000000  \n",
       "mean              1651.754473     6.442138      2.220403           7525.964505  \n",
       "std               4042.438863     1.125116      1.385113          19320.445110  \n",
       "min                  0.000000     1.600000      1.180000              0.000000  \n",
       "25%                281.000000     5.800000      1.850000              0.000000  \n",
       "50%                595.000000     6.600000      2.350000            166.000000  \n",
       "75%                918.000000     7.200000      2.350000           3000.000000  \n",
       "max             137000.000000     9.500000     16.000000         349000.000000  "
      ]
     },
     "execution_count": 42,
     "metadata": {},
     "output_type": "execute_result"
    }
   ],
   "source": [
    "data.describe()"
   ]
  },
  {
   "cell_type": "code",
   "execution_count": null,
   "metadata": {
    "cell_id": "00042-7e71582f-1976-4af8-9a84-6d105f76324f",
    "deepnote_cell_type": "code",
    "deepnote_to_be_reexecuted": false,
    "execution_millis": 0,
    "execution_start": 1631381856622,
    "source_hash": "aca7b51",
    "tags": []
   },
   "outputs": [],
   "source": [
    "from sklearn.impute import SimpleImputer\n",
    "\n",
    "imp = SimpleImputer(missing_values=np.nan, strategy='most_frequent')"
   ]
  },
  {
   "cell_type": "code",
   "execution_count": null,
   "metadata": {
    "cell_id": "00043-d405880f-1e06-4968-9781-15d5f22dcd9e",
    "deepnote_cell_type": "code",
    "deepnote_to_be_reexecuted": false,
    "execution_millis": 120,
    "execution_start": 1631381901406,
    "source_hash": "3ba50a86",
    "tags": []
   },
   "outputs": [],
   "source": [
    "data2 = data.copy()\n",
    "\n",
    "data2 = imp.fit_transform(data2, )\n",
    "data2 = pd.DataFrame(data2, columns=['color', 'director_name', 'num_critic_for_reviews', 'duration',\n",
    "       'director_facebook_likes', 'actor_3_facebook_likes', 'actor_2_name',\n",
    "       'actor_1_facebook_likes', 'gross', 'genres', 'actor_1_name',\n",
    "       'movie_title', 'num_voted_users', 'cast_total_facebook_likes',\n",
    "       'actor_3_name', 'facenumber_in_poster', 'plot_keywords',\n",
    "       'movie_imdb_link', 'num_user_for_reviews', 'language', 'country',\n",
    "       'content_rating', 'budget', 'title_year', 'actor_2_facebook_likes',\n",
    "       'imdb_score', 'aspect_ratio', 'movie_facebook_likes'])"
   ]
  },
  {
   "cell_type": "code",
   "execution_count": null,
   "metadata": {
    "cell_id": "00044-9774a51b-bd5c-406f-8cb5-a7361751206a",
    "deepnote_cell_type": "code",
    "deepnote_to_be_reexecuted": false,
    "execution_millis": 4,
    "execution_start": 1631381912411,
    "source_hash": "cce8941e",
    "tags": []
   },
   "outputs": [],
   "source": [
    "from sklearn.preprocessing import LabelEncoder"
   ]
  },
  {
   "cell_type": "code",
   "execution_count": null,
   "metadata": {
    "cell_id": "00045-db211c17-3a88-451f-9778-d9b8c5a5f5ae",
    "deepnote_cell_type": "code",
    "deepnote_to_be_reexecuted": false,
    "execution_millis": 520,
    "execution_start": 1631381917495,
    "source_hash": "258b1279",
    "tags": []
   },
   "outputs": [
    {
     "data": {
      "application/vnd.deepnote.dataframe.v2+json": {
       "column_count": 28,
       "columns": [
        {
         "dtype": "object",
         "name": "color",
         "stats": {
          "categories": [
           {
            "count": 4834,
            "name": "Color"
           },
           {
            "count": 209,
            "name": " Black and White"
           }
          ],
          "nan_count": 0,
          "unique_count": 2
         }
        },
        {
         "dtype": "object",
         "name": "director_name",
         "stats": {
          "categories": [
           {
            "count": 130,
            "name": "Steven Spielberg"
           },
           {
            "count": 22,
            "name": "Woody Allen"
           },
           {
            "count": 4891,
            "name": "2396 others"
           }
          ],
          "nan_count": 0,
          "unique_count": 2398
         }
        },
        {
         "dtype": "object",
         "name": "num_critic_for_reviews",
         "stats": {
          "categories": [
           {
            "count": 93,
            "name": "1.0"
           },
           {
            "count": 37,
            "name": "9.0"
           },
           {
            "count": 4913,
            "name": "526 others"
           }
          ],
          "nan_count": 0,
          "unique_count": 528
         }
        },
        {
         "dtype": "object",
         "name": "duration",
         "stats": {
          "categories": [
           {
            "count": 176,
            "name": "90.0"
           },
           {
            "count": 141,
            "name": "100.0"
           },
           {
            "count": 4726,
            "name": "189 others"
           }
          ],
          "nan_count": 0,
          "unique_count": 191
         }
        },
        {
         "dtype": "object",
         "name": "director_facebook_likes",
         "stats": {
          "categories": [
           {
            "count": 1011,
            "name": "0.0"
           },
           {
            "count": 70,
            "name": "3.0"
           },
           {
            "count": 3962,
            "name": "433 others"
           }
          ],
          "nan_count": 0,
          "unique_count": 435
         }
        },
        {
         "dtype": "object",
         "name": "actor_3_facebook_likes",
         "stats": {
          "categories": [
           {
            "count": 149,
            "name": "1000.0"
           },
           {
            "count": 89,
            "name": "0.0"
           },
           {
            "count": 4805,
            "name": "904 others"
           }
          ],
          "nan_count": 0,
          "unique_count": 906
         }
        },
        {
         "dtype": "object",
         "name": "actor_2_name",
         "stats": {
          "categories": [
           {
            "count": 33,
            "name": "Morgan Freeman"
           },
           {
            "count": 15,
            "name": "Charlize Theron"
           },
           {
            "count": 4995,
            "name": "3030 others"
           }
          ],
          "nan_count": 0,
          "unique_count": 3032
         }
        },
        {
         "dtype": "object",
         "name": "actor_1_facebook_likes",
         "stats": {
          "categories": [
           {
            "count": 456,
            "name": "1000.0"
           },
           {
            "count": 211,
            "name": "11000.0"
           },
           {
            "count": 4376,
            "name": "876 others"
           }
          ],
          "nan_count": 0,
          "unique_count": 878
         }
        },
        {
         "dtype": "object",
         "name": "gross",
         "stats": {
          "categories": [
           {
            "count": 887,
            "name": "3000000.0"
           },
           {
            "count": 3,
            "name": "218051260.0"
           },
           {
            "count": 4153,
            "name": "4033 others"
           }
          ],
          "nan_count": 0,
          "unique_count": 4035
         }
        },
        {
         "dtype": "object",
         "name": "genres",
         "stats": {
          "categories": [
           {
            "count": 236,
            "name": "Drama"
           },
           {
            "count": 209,
            "name": "Comedy"
           },
           {
            "count": 4598,
            "name": "912 others"
           }
          ],
          "nan_count": 0,
          "unique_count": 914
         }
        },
        {
         "dtype": "object",
         "name": "actor_1_name",
         "stats": {
          "categories": [
           {
            "count": 56,
            "name": "Robert De Niro"
           },
           {
            "count": 41,
            "name": "Johnny Depp"
           },
           {
            "count": 4946,
            "name": "2095 others"
           }
          ],
          "nan_count": 0,
          "unique_count": 2097
         }
        },
        {
         "dtype": "object",
         "name": "movie_title",
         "stats": {
          "categories": [
           {
            "count": 3,
            "name": "King Kong "
           },
           {
            "count": 3,
            "name": "The Fast and the Furious "
           },
           {
            "count": 5037,
            "name": "4915 others"
           }
          ],
          "nan_count": 0,
          "unique_count": 4917
         }
        },
        {
         "dtype": "object",
         "name": "num_voted_users",
         "stats": {
          "categories": [
           {
            "count": 5,
            "name": "57"
           },
           {
            "count": 4,
            "name": "6"
           },
           {
            "count": 5034,
            "name": "4824 others"
           }
          ],
          "nan_count": 0,
          "unique_count": 4826
         }
        },
        {
         "dtype": "object",
         "name": "cast_total_facebook_likes",
         "stats": {
          "categories": [
           {
            "count": 33,
            "name": "0"
           },
           {
            "count": 7,
            "name": "5"
           },
           {
            "count": 5003,
            "name": "3976 others"
           }
          ],
          "nan_count": 0,
          "unique_count": 3978
         }
        },
        {
         "dtype": "object",
         "name": "actor_3_name",
         "stats": {
          "categories": [
           {
            "count": 31,
            "name": "Ben Mendelsohn"
           },
           {
            "count": 8,
            "name": "Steve Coogan"
           },
           {
            "count": 5004,
            "name": "3519 others"
           }
          ],
          "nan_count": 0,
          "unique_count": 3521
         }
        },
        {
         "dtype": "object",
         "name": "facenumber_in_poster",
         "stats": {
          "categories": [
           {
            "count": 2165,
            "name": "0.0"
           },
           {
            "count": 1251,
            "name": "1.0"
           },
           {
            "count": 1627,
            "name": "17 others"
           }
          ],
          "nan_count": 0,
          "unique_count": 19
         }
        },
        {
         "dtype": "object",
         "name": "plot_keywords",
         "stats": {
          "categories": [
           {
            "count": 157,
            "name": "based on novel"
           },
           {
            "count": 3,
            "name": "animal name in title|ape abducts a woman|gorilla|island|king kong"
           },
           {
            "count": 4883,
            "name": "4758 others"
           }
          ],
          "nan_count": 0,
          "unique_count": 4760
         }
        },
        {
         "dtype": "object",
         "name": "movie_imdb_link",
         "stats": {
          "categories": [
           {
            "count": 3,
            "name": "http://www.imdb.com/title/tt0360717/?ref_=fn_tt_tt_1"
           },
           {
            "count": 3,
            "name": "http://www.imdb.com/title/tt0232500/?ref_=fn_tt_tt_1"
           },
           {
            "count": 5037,
            "name": "4917 others"
           }
          ],
          "nan_count": 0,
          "unique_count": 4919
         }
        },
        {
         "dtype": "object",
         "name": "num_user_for_reviews",
         "stats": {
          "categories": [
           {
            "count": 72,
            "name": "1.0"
           },
           {
            "count": 33,
            "name": "3.0"
           },
           {
            "count": 4938,
            "name": "952 others"
           }
          ],
          "nan_count": 0,
          "unique_count": 954
         }
        },
        {
         "dtype": "object",
         "name": "language"
        },
        {
         "dtype": "object",
         "name": "country"
        },
        {
         "dtype": "object",
         "name": "content_rating"
        },
        {
         "dtype": "object",
         "name": "budget"
        },
        {
         "dtype": "object",
         "name": "title_year"
        },
        {
         "dtype": "object",
         "name": "actor_2_facebook_likes"
        },
        {
         "dtype": "object",
         "name": "imdb_score"
        },
        {
         "dtype": "object",
         "name": "aspect_ratio"
        },
        {
         "dtype": "object",
         "name": "movie_facebook_likes"
        },
        {
         "dtype": "int64",
         "name": "_deepnote_index_column"
        }
       ],
       "row_count": 5043,
       "rows_bottom": [
        {
         "_deepnote_index_column": 5025,
         "actor_1_facebook_likes": "462.0",
         "actor_1_name": "Divine",
         "actor_2_facebook_likes": "143.0",
         "actor_2_name": "Mink Stole",
         "actor_3_facebook_likes": "105.0",
         "actor_3_name": "Edith Massey",
         "aspect_ratio": "1.37",
         "budget": "10000.0",
         "cast_total_facebook_likes": "760",
         "color": "Color",
         "content_rating": "NC-17",
         "country": "USA",
         "director_facebook_likes": "0.0",
         "director_name": "John Waters",
         "duration": "108.0",
         "facenumber_in_poster": "2.0",
         "genres": "Comedy|Crime|Horror",
         "gross": "180483.0",
         "imdb_score": "6.1",
         "language": "English",
         "movie_facebook_likes": "0",
         "movie_imdb_link": "http://www.imdb.com/title/tt0069089/?ref_=fn_tt_tt_1",
         "movie_title": "Pink Flamingos ",
         "num_critic_for_reviews": "73.0",
         "num_user_for_reviews": "183.0",
         "num_voted_users": "16792",
         "plot_keywords": "absurd humor|egg|gross out humor|lesbian|sex",
         "title_year": "1972.0"
        },
        {
         "_deepnote_index_column": 5026,
         "actor_1_facebook_likes": "576.0",
         "actor_1_name": "Maggie Cheung",
         "actor_2_facebook_likes": "133.0",
         "actor_2_name": "Béatrice Dalle",
         "actor_3_facebook_likes": "45.0",
         "actor_3_name": "Don McKellar",
         "aspect_ratio": "2.35",
         "budget": "4500.0",
         "cast_total_facebook_likes": "776",
         "color": "Color",
         "content_rating": "R",
         "country": "France",
         "director_facebook_likes": "107.0",
         "director_name": "Olivier Assayas",
         "duration": "110.0",
         "facenumber_in_poster": "1.0",
         "genres": "Drama|Music|Romance",
         "gross": "136007.0",
         "imdb_score": "6.9",
         "language": "French",
         "movie_facebook_likes": "171",
         "movie_imdb_link": "http://www.imdb.com/title/tt0388838/?ref_=fn_tt_tt_1",
         "movie_title": "Clean ",
         "num_critic_for_reviews": "81.0",
         "num_user_for_reviews": "39.0",
         "num_voted_users": "3924",
         "plot_keywords": "jail|junkie|money|motel|singer",
         "title_year": "2004.0"
        },
        {
         "_deepnote_index_column": 5027,
         "actor_1_facebook_likes": "5.0",
         "actor_1_name": "Fereshteh Sadre Orafaiy",
         "actor_2_facebook_likes": "0.0",
         "actor_2_name": "Nargess Mamizadeh",
         "actor_3_facebook_likes": "0.0",
         "actor_3_name": "Mojgan Faramarzi",
         "aspect_ratio": "1.85",
         "budget": "10000.0",
         "cast_total_facebook_likes": "5",
         "color": "Color",
         "content_rating": "Not Rated",
         "country": "Iran",
         "director_facebook_likes": "397.0",
         "director_name": "Jafar Panahi",
         "duration": "90.0",
         "facenumber_in_poster": "0.0",
         "genres": "Drama",
         "gross": "673780.0",
         "imdb_score": "7.5",
         "language": "Persian",
         "movie_facebook_likes": "697",
         "movie_imdb_link": "http://www.imdb.com/title/tt0255094/?ref_=fn_tt_tt_1",
         "movie_title": "The Circle ",
         "num_critic_for_reviews": "64.0",
         "num_user_for_reviews": "26.0",
         "num_voted_users": "4555",
         "plot_keywords": "abortion|bus|hospital|prison|prostitution",
         "title_year": "2000.0"
        },
        {
         "_deepnote_index_column": 5028,
         "actor_1_facebook_likes": "10.0",
         "actor_1_name": "Patrick O'Donnell",
         "actor_2_facebook_likes": "5.0",
         "actor_2_name": "Michael Parle",
         "actor_3_facebook_likes": "0.0",
         "actor_3_name": "Emma Eliza Regan",
         "aspect_ratio": "1.33",
         "budget": "10000.0",
         "cast_total_facebook_likes": "15",
         "color": " Black and White",
         "content_rating": "R",
         "country": "Ireland",
         "director_facebook_likes": "18.0",
         "director_name": "Ivan Kavanagh",
         "duration": "83.0",
         "facenumber_in_poster": "0.0",
         "genres": "Horror",
         "gross": "3000000.0",
         "imdb_score": "6.7",
         "language": "English",
         "movie_facebook_likes": "105",
         "movie_imdb_link": "http://www.imdb.com/title/tt1235811/?ref_=fn_tt_tt_1",
         "movie_title": "Tin Can Man ",
         "num_critic_for_reviews": "12.0",
         "num_user_for_reviews": "1.0",
         "num_voted_users": "57",
         "plot_keywords": "based on novel",
         "title_year": "2007.0"
        },
        {
         "_deepnote_index_column": 5029,
         "actor_1_facebook_likes": "89.0",
         "actor_1_name": "Kôji Yakusho",
         "actor_2_facebook_likes": "13.0",
         "actor_2_name": "Anna Nakagawa",
         "actor_3_facebook_likes": "6.0",
         "actor_3_name": "Denden",
         "aspect_ratio": "1.85",
         "budget": "1000000.0",
         "cast_total_facebook_likes": "115",
         "color": "Color",
         "content_rating": "R",
         "country": "Japan",
         "director_facebook_likes": "62.0",
         "director_name": "Kiyoshi Kurosawa",
         "duration": "111.0",
         "facenumber_in_poster": "0.0",
         "genres": "Crime|Horror|Mystery|Thriller",
         "gross": "94596.0",
         "imdb_score": "7.4",
         "language": "Japanese",
         "movie_facebook_likes": "817",
         "movie_imdb_link": "http://www.imdb.com/title/tt0123948/?ref_=fn_tt_tt_1",
         "movie_title": "The Cure ",
         "num_critic_for_reviews": "78.0",
         "num_user_for_reviews": "50.0",
         "num_voted_users": "6318",
         "plot_keywords": "breasts|interrogation|investigation|murder|watching television",
         "title_year": "1997.0"
        },
        {
         "_deepnote_index_column": 5030,
         "actor_1_facebook_likes": "21.0",
         "actor_1_name": "Tatiana Suarez-Pico",
         "actor_2_facebook_likes": "20.0",
         "actor_2_name": "Michael Cortez",
         "actor_3_facebook_likes": "12.0",
         "actor_3_name": "Eric Ambriz",
         "aspect_ratio": "2.35",
         "budget": "20000000.0",
         "cast_total_facebook_likes": "62",
         "color": "Color",
         "content_rating": "R",
         "country": "USA",
         "director_facebook_likes": "5.0",
         "director_name": "Tadeo Garcia",
         "duration": "84.0",
         "facenumber_in_poster": "2.0",
         "genres": "Drama",
         "gross": "3000000.0",
         "imdb_score": "6.1",
         "language": "English",
         "movie_facebook_likes": "22",
         "movie_imdb_link": "http://www.imdb.com/title/tt0390323/?ref_=fn_tt_tt_1",
         "movie_title": "On the Downlow ",
         "num_critic_for_reviews": "1.0",
         "num_user_for_reviews": "3.0",
         "num_voted_users": "156",
         "plot_keywords": "gang initiation|gunplay|hazing|latino|shakespeare's romeo and juliet",
         "title_year": "2004.0"
        },
        {
         "_deepnote_index_column": 5031,
         "actor_1_facebook_likes": "785.0",
         "actor_1_name": "Julianna Pitt",
         "actor_2_facebook_likes": "98.0",
         "actor_2_name": "Joe Coffey",
         "actor_3_facebook_likes": "84.0",
         "actor_3_name": "John Lucas",
         "aspect_ratio": "16.0",
         "budget": "200000.0",
         "cast_total_facebook_likes": "1111",
         "color": "Color",
         "content_rating": "R",
         "country": "USA",
         "director_facebook_likes": "120.0",
         "director_name": "Thomas L. Phillips",
         "duration": "82.0",
         "facenumber_in_poster": "0.0",
         "genres": "Comedy|Horror|Thriller",
         "gross": "3000000.0",
         "imdb_score": "5.4",
         "language": "English",
         "movie_facebook_likes": "424",
         "movie_imdb_link": "http://www.imdb.com/title/tt2049518/?ref_=fn_tt_tt_1",
         "movie_title": "Sanctuary; Quite a Conundrum ",
         "num_critic_for_reviews": "13.0",
         "num_user_for_reviews": "8.0",
         "num_voted_users": "133",
         "plot_keywords": "nudity|party|pirate|swimsuit|three word title",
         "title_year": "2012.0"
        },
        {
         "_deepnote_index_column": 5032,
         "actor_1_facebook_likes": "789.0",
         "actor_1_name": "Peter Greene",
         "actor_2_facebook_likes": "194.0",
         "actor_2_name": "Stanley B. Herman",
         "actor_3_facebook_likes": "152.0",
         "actor_3_name": "James Noble",
         "aspect_ratio": "2.35",
         "budget": "20000000.0",
         "cast_total_facebook_likes": "1186",
         "color": "Color",
         "content_rating": "R",
         "country": "USA",
         "director_facebook_likes": "3.0",
         "director_name": "Ash Baron-Cohen",
         "duration": "98.0",
         "facenumber_in_poster": "1.0",
         "genres": "Crime|Drama",
         "gross": "3000000.0",
         "imdb_score": "6.4",
         "language": "English",
         "movie_facebook_likes": "20",
         "movie_imdb_link": "http://www.imdb.com/title/tt0109266/?ref_=fn_tt_tt_1",
         "movie_title": "Bang ",
         "num_critic_for_reviews": "10.0",
         "num_user_for_reviews": "14.0",
         "num_voted_users": "438",
         "plot_keywords": "corruption|homeless|homeless man|motorcycle|urban legend",
         "title_year": "1995.0"
        },
        {
         "_deepnote_index_column": 5033,
         "actor_1_facebook_likes": "291.0",
         "actor_1_name": "Shane Carruth",
         "actor_2_facebook_likes": "45.0",
         "actor_2_name": "David Sullivan",
         "actor_3_facebook_likes": "8.0",
         "actor_3_name": "Casey Gooden",
         "aspect_ratio": "1.85",
         "budget": "7000.0",
         "cast_total_facebook_likes": "368",
         "color": "Color",
         "content_rating": "PG-13",
         "country": "USA",
         "director_facebook_likes": "291.0",
         "director_name": "Shane Carruth",
         "duration": "77.0",
         "facenumber_in_poster": "0.0",
         "genres": "Drama|Sci-Fi|Thriller",
         "gross": "424760.0",
         "imdb_score": "7.0",
         "language": "English",
         "movie_facebook_likes": "19000",
         "movie_imdb_link": "http://www.imdb.com/title/tt0390384/?ref_=fn_tt_tt_1",
         "movie_title": "Primer ",
         "num_critic_for_reviews": "143.0",
         "num_user_for_reviews": "371.0",
         "num_voted_users": "72639",
         "plot_keywords": "changing the future|independent film|invention|nonlinear timeline|time travel",
         "title_year": "2004.0"
        },
        {
         "_deepnote_index_column": 5034,
         "actor_1_facebook_likes": "0.0",
         "actor_1_name": "Ian Gamazon",
         "actor_2_facebook_likes": "0.0",
         "actor_2_name": "Edgar Tancangco",
         "actor_3_facebook_likes": "0.0",
         "actor_3_name": "Quynn Ton",
         "aspect_ratio": "2.35",
         "budget": "7000.0",
         "cast_total_facebook_likes": "0",
         "color": "Color",
         "content_rating": "Not Rated",
         "country": "Philippines",
         "director_facebook_likes": "0.0",
         "director_name": "Neill Dela Llana",
         "duration": "80.0",
         "facenumber_in_poster": "0.0",
         "genres": "Thriller",
         "gross": "70071.0",
         "imdb_score": "6.3",
         "language": "English",
         "movie_facebook_likes": "74",
         "movie_imdb_link": "http://www.imdb.com/title/tt0428303/?ref_=fn_tt_tt_1",
         "movie_title": "Cavite ",
         "num_critic_for_reviews": "35.0",
         "num_user_for_reviews": "35.0",
         "num_voted_users": "589",
         "plot_keywords": "jihad|mindanao|philippines|security guard|squatter",
         "title_year": "2005.0"
        },
        {
         "_deepnote_index_column": 5035,
         "actor_1_facebook_likes": "121.0",
         "actor_1_name": "Carlos Gallardo",
         "actor_2_facebook_likes": "20.0",
         "actor_2_name": "Peter Marquardt",
         "actor_3_facebook_likes": "6.0",
         "actor_3_name": "Consuelo Gómez",
         "aspect_ratio": "1.37",
         "budget": "7000.0",
         "cast_total_facebook_likes": "147",
         "color": "Color",
         "content_rating": "R",
         "country": "USA",
         "director_facebook_likes": "0.0",
         "director_name": "Robert Rodriguez",
         "duration": "81.0",
         "facenumber_in_poster": "0.0",
         "genres": "Action|Crime|Drama|Romance|Thriller",
         "gross": "2040920.0",
         "imdb_score": "6.9",
         "language": "Spanish",
         "movie_facebook_likes": "0",
         "movie_imdb_link": "http://www.imdb.com/title/tt0104815/?ref_=fn_tt_tt_1",
         "movie_title": "El Mariachi ",
         "num_critic_for_reviews": "56.0",
         "num_user_for_reviews": "130.0",
         "num_voted_users": "52055",
         "plot_keywords": "assassin|death|guitar|gun|mariachi",
         "title_year": "1992.0"
        },
        {
         "_deepnote_index_column": 5036,
         "actor_1_facebook_likes": "45.0",
         "actor_1_name": "Richard Jewell",
         "actor_2_facebook_likes": "44.0",
         "actor_2_name": "John Considine",
         "actor_3_facebook_likes": "2.0",
         "actor_3_name": "Sara Stepnicka",
         "aspect_ratio": "2.35",
         "budget": "3250.0",
         "cast_total_facebook_likes": "93",
         "color": "Color",
         "content_rating": "PG-13",
         "country": "USA",
         "director_facebook_likes": "2.0",
         "director_name": "Anthony Vallone",
         "duration": "84.0",
         "facenumber_in_poster": "0.0",
         "genres": "Crime|Drama",
         "gross": "3000000.0",
         "imdb_score": "7.8",
         "language": "English",
         "movie_facebook_likes": "4",
         "movie_imdb_link": "http://www.imdb.com/title/tt0430371/?ref_=fn_tt_tt_1",
         "movie_title": "The Mongol King ",
         "num_critic_for_reviews": "1.0",
         "num_user_for_reviews": "1.0",
         "num_voted_users": "36",
         "plot_keywords": "jewell|mongol|nostradamus|stepnicka|vallone",
         "title_year": "2005.0"
        },
        {
         "_deepnote_index_column": 5037,
         "actor_1_facebook_likes": "296.0",
         "actor_1_name": "Kerry Bishé",
         "actor_2_facebook_likes": "205.0",
         "actor_2_name": "Caitlin FitzGerald",
         "actor_3_facebook_likes": "133.0",
         "actor_3_name": "Daniella Pineda",
         "aspect_ratio": "2.35",
         "budget": "9000.0",
         "cast_total_facebook_likes": "690",
         "color": "Color",
         "content_rating": "Not Rated",
         "country": "USA",
         "director_facebook_likes": "0.0",
         "director_name": "Edward Burns",
         "duration": "95.0",
         "facenumber_in_poster": "1.0",
         "genres": "Comedy|Drama",
         "gross": "4584.0",
         "imdb_score": "6.4",
         "language": "English",
         "movie_facebook_likes": "413",
         "movie_imdb_link": "http://www.imdb.com/title/tt1880418/?ref_=fn_tt_tt_1",
         "movie_title": "Newlyweds ",
         "num_critic_for_reviews": "14.0",
         "num_user_for_reviews": "14.0",
         "num_voted_users": "1338",
         "plot_keywords": "written and directed by cast member",
         "title_year": "2011.0"
        },
        {
         "_deepnote_index_column": 5038,
         "actor_1_facebook_likes": "637.0",
         "actor_1_name": "Eric Mabius",
         "actor_2_facebook_likes": "470.0",
         "actor_2_name": "Daphne Zuniga",
         "actor_3_facebook_likes": "318.0",
         "actor_3_name": "Crystal Lowe",
         "aspect_ratio": "2.35",
         "budget": "20000000.0",
         "cast_total_facebook_likes": "2283",
         "color": "Color",
         "content_rating": "R",
         "country": "Canada",
         "director_facebook_likes": "2.0",
         "director_name": "Scott Smith",
         "duration": "87.0",
         "facenumber_in_poster": "2.0",
         "genres": "Comedy|Drama",
         "gross": "3000000.0",
         "imdb_score": "7.7",
         "language": "English",
         "movie_facebook_likes": "84",
         "movie_imdb_link": "http://www.imdb.com/title/tt3000844/?ref_=fn_tt_tt_1",
         "movie_title": "Signed Sealed Delivered ",
         "num_critic_for_reviews": "1.0",
         "num_user_for_reviews": "6.0",
         "num_voted_users": "629",
         "plot_keywords": "fraud|postal worker|prison|theft|trial",
         "title_year": "2013.0"
        },
        {
         "_deepnote_index_column": 5039,
         "actor_1_facebook_likes": "841.0",
         "actor_1_name": "Natalie Zea",
         "actor_2_facebook_likes": "593.0",
         "actor_2_name": "Valorie Curry",
         "actor_3_facebook_likes": "319.0",
         "actor_3_name": "Sam Underwood",
         "aspect_ratio": "16.0",
         "budget": "20000000.0",
         "cast_total_facebook_likes": "1753",
         "color": "Color",
         "content_rating": "TV-14",
         "country": "USA",
         "director_facebook_likes": "0.0",
         "director_name": "Steven Spielberg",
         "duration": "43.0",
         "facenumber_in_poster": "1.0",
         "genres": "Crime|Drama|Mystery|Thriller",
         "gross": "3000000.0",
         "imdb_score": "7.5",
         "language": "English",
         "movie_facebook_likes": "32000",
         "movie_imdb_link": "http://www.imdb.com/title/tt2071645/?ref_=fn_tt_tt_1",
         "movie_title": "The Following             ",
         "num_critic_for_reviews": "43.0",
         "num_user_for_reviews": "359.0",
         "num_voted_users": "73839",
         "plot_keywords": "cult|fbi|hideout|prison escape|serial killer",
         "title_year": "2009.0"
        },
        {
         "_deepnote_index_column": 5040,
         "actor_1_facebook_likes": "0.0",
         "actor_1_name": "Eva Boehnke",
         "actor_2_facebook_likes": "0.0",
         "actor_2_name": "Maxwell Moody",
         "actor_3_facebook_likes": "0.0",
         "actor_3_name": "David Chandler",
         "aspect_ratio": "2.35",
         "budget": "1400.0",
         "cast_total_facebook_likes": "0",
         "color": "Color",
         "content_rating": "R",
         "country": "USA",
         "director_facebook_likes": "0.0",
         "director_name": "Benjamin Roberds",
         "duration": "76.0",
         "facenumber_in_poster": "0.0",
         "genres": "Drama|Horror|Thriller",
         "gross": "3000000.0",
         "imdb_score": "6.3",
         "language": "English",
         "movie_facebook_likes": "16",
         "movie_imdb_link": "http://www.imdb.com/title/tt2107644/?ref_=fn_tt_tt_1",
         "movie_title": "A Plague So Pleasant ",
         "num_critic_for_reviews": "13.0",
         "num_user_for_reviews": "3.0",
         "num_voted_users": "38",
         "plot_keywords": "based on novel",
         "title_year": "2013.0"
        },
        {
         "_deepnote_index_column": 5041,
         "actor_1_facebook_likes": "946.0",
         "actor_1_name": "Alan Ruck",
         "actor_2_facebook_likes": "719.0",
         "actor_2_name": "Daniel Henney",
         "actor_3_facebook_likes": "489.0",
         "actor_3_name": "Eliza Coupe",
         "aspect_ratio": "2.35",
         "budget": "20000000.0",
         "cast_total_facebook_likes": "2386",
         "color": "Color",
         "content_rating": "PG-13",
         "country": "USA",
         "director_facebook_likes": "0.0",
         "director_name": "Daniel Hsia",
         "duration": "100.0",
         "facenumber_in_poster": "5.0",
         "genres": "Comedy|Drama|Romance",
         "gross": "10443.0",
         "imdb_score": "6.3",
         "language": "English",
         "movie_facebook_likes": "660",
         "movie_imdb_link": "http://www.imdb.com/title/tt2070597/?ref_=fn_tt_tt_1",
         "movie_title": "Shanghai Calling ",
         "num_critic_for_reviews": "14.0",
         "num_user_for_reviews": "9.0",
         "num_voted_users": "1255",
         "plot_keywords": "based on novel",
         "title_year": "2012.0"
        },
        {
         "_deepnote_index_column": 5042,
         "actor_1_facebook_likes": "86.0",
         "actor_1_name": "John August",
         "actor_2_facebook_likes": "23.0",
         "actor_2_name": "Brian Herzlinger",
         "actor_3_facebook_likes": "16.0",
         "actor_3_name": "Jon Gunn",
         "aspect_ratio": "1.85",
         "budget": "1100.0",
         "cast_total_facebook_likes": "163",
         "color": "Color",
         "content_rating": "PG",
         "country": "USA",
         "director_facebook_likes": "16.0",
         "director_name": "Jon Gunn",
         "duration": "90.0",
         "facenumber_in_poster": "0.0",
         "genres": "Documentary",
         "gross": "85222.0",
         "imdb_score": "6.6",
         "language": "English",
         "movie_facebook_likes": "456",
         "movie_imdb_link": "http://www.imdb.com/title/tt0378407/?ref_=fn_tt_tt_1",
         "movie_title": "My Date with Drew ",
         "num_critic_for_reviews": "43.0",
         "num_user_for_reviews": "84.0",
         "num_voted_users": "4285",
         "plot_keywords": "actress name in title|crush|date|four word title|video camera",
         "title_year": "2004.0"
        }
       ],
       "rows_top": [
        {
         "_deepnote_index_column": 0,
         "actor_1_facebook_likes": "1000.0",
         "actor_1_name": "CCH Pounder",
         "actor_2_facebook_likes": "936.0",
         "actor_2_name": "Joel David Moore",
         "actor_3_facebook_likes": "855.0",
         "actor_3_name": "Wes Studi",
         "aspect_ratio": "1.78",
         "budget": "237000000.0",
         "cast_total_facebook_likes": "4834",
         "color": "Color",
         "content_rating": "PG-13",
         "country": "USA",
         "director_facebook_likes": "0.0",
         "director_name": "James Cameron",
         "duration": "178.0",
         "facenumber_in_poster": "0.0",
         "genres": "Action|Adventure|Fantasy|Sci-Fi",
         "gross": "760505847.0",
         "imdb_score": "7.9",
         "language": "English",
         "movie_facebook_likes": "33000",
         "movie_imdb_link": "http://www.imdb.com/title/tt0499549/?ref_=fn_tt_tt_1",
         "movie_title": "Avatar ",
         "num_critic_for_reviews": "723.0",
         "num_user_for_reviews": "3054.0",
         "num_voted_users": "886204",
         "plot_keywords": "avatar|future|marine|native|paraplegic",
         "title_year": "2009.0"
        },
        {
         "_deepnote_index_column": 1,
         "actor_1_facebook_likes": "40000.0",
         "actor_1_name": "Johnny Depp",
         "actor_2_facebook_likes": "5000.0",
         "actor_2_name": "Orlando Bloom",
         "actor_3_facebook_likes": "1000.0",
         "actor_3_name": "Jack Davenport",
         "aspect_ratio": "2.35",
         "budget": "300000000.0",
         "cast_total_facebook_likes": "48350",
         "color": "Color",
         "content_rating": "PG-13",
         "country": "USA",
         "director_facebook_likes": "563.0",
         "director_name": "Gore Verbinski",
         "duration": "169.0",
         "facenumber_in_poster": "0.0",
         "genres": "Action|Adventure|Fantasy",
         "gross": "309404152.0",
         "imdb_score": "7.1",
         "language": "English",
         "movie_facebook_likes": "0",
         "movie_imdb_link": "http://www.imdb.com/title/tt0449088/?ref_=fn_tt_tt_1",
         "movie_title": "Pirates of the Caribbean: At World's End ",
         "num_critic_for_reviews": "302.0",
         "num_user_for_reviews": "1238.0",
         "num_voted_users": "471220",
         "plot_keywords": "goddess|marriage ceremony|marriage proposal|pirate|singapore",
         "title_year": "2007.0"
        },
        {
         "_deepnote_index_column": 2,
         "actor_1_facebook_likes": "11000.0",
         "actor_1_name": "Christoph Waltz",
         "actor_2_facebook_likes": "393.0",
         "actor_2_name": "Rory Kinnear",
         "actor_3_facebook_likes": "161.0",
         "actor_3_name": "Stephanie Sigman",
         "aspect_ratio": "2.35",
         "budget": "245000000.0",
         "cast_total_facebook_likes": "11700",
         "color": "Color",
         "content_rating": "PG-13",
         "country": "UK",
         "director_facebook_likes": "0.0",
         "director_name": "Sam Mendes",
         "duration": "148.0",
         "facenumber_in_poster": "1.0",
         "genres": "Action|Adventure|Thriller",
         "gross": "200074175.0",
         "imdb_score": "6.8",
         "language": "English",
         "movie_facebook_likes": "85000",
         "movie_imdb_link": "http://www.imdb.com/title/tt2379713/?ref_=fn_tt_tt_1",
         "movie_title": "Spectre ",
         "num_critic_for_reviews": "602.0",
         "num_user_for_reviews": "994.0",
         "num_voted_users": "275868",
         "plot_keywords": "bomb|espionage|sequel|spy|terrorist",
         "title_year": "2015.0"
        },
        {
         "_deepnote_index_column": 3,
         "actor_1_facebook_likes": "27000.0",
         "actor_1_name": "Tom Hardy",
         "actor_2_facebook_likes": "23000.0",
         "actor_2_name": "Christian Bale",
         "actor_3_facebook_likes": "23000.0",
         "actor_3_name": "Joseph Gordon-Levitt",
         "aspect_ratio": "2.35",
         "budget": "250000000.0",
         "cast_total_facebook_likes": "106759",
         "color": "Color",
         "content_rating": "PG-13",
         "country": "USA",
         "director_facebook_likes": "22000.0",
         "director_name": "Christopher Nolan",
         "duration": "164.0",
         "facenumber_in_poster": "0.0",
         "genres": "Action|Thriller",
         "gross": "448130642.0",
         "imdb_score": "8.5",
         "language": "English",
         "movie_facebook_likes": "164000",
         "movie_imdb_link": "http://www.imdb.com/title/tt1345836/?ref_=fn_tt_tt_1",
         "movie_title": "The Dark Knight Rises ",
         "num_critic_for_reviews": "813.0",
         "num_user_for_reviews": "2701.0",
         "num_voted_users": "1144337",
         "plot_keywords": "deception|imprisonment|lawlessness|police officer|terrorist plot",
         "title_year": "2012.0"
        },
        {
         "_deepnote_index_column": 4,
         "actor_1_facebook_likes": "131.0",
         "actor_1_name": "Doug Walker",
         "actor_2_facebook_likes": "12.0",
         "actor_2_name": "Rob Walker",
         "actor_3_facebook_likes": "1000.0",
         "actor_3_name": "Ben Mendelsohn",
         "aspect_ratio": "2.35",
         "budget": "20000000.0",
         "cast_total_facebook_likes": "143",
         "color": "Color",
         "content_rating": "R",
         "country": "USA",
         "director_facebook_likes": "131.0",
         "director_name": "Doug Walker",
         "duration": "90.0",
         "facenumber_in_poster": "0.0",
         "genres": "Documentary",
         "gross": "3000000.0",
         "imdb_score": "7.1",
         "language": "English",
         "movie_facebook_likes": "0",
         "movie_imdb_link": "http://www.imdb.com/title/tt5289954/?ref_=fn_tt_tt_1",
         "movie_title": "Star Wars: Episode VII - The Force Awakens             ",
         "num_critic_for_reviews": "1.0",
         "num_user_for_reviews": "1.0",
         "num_voted_users": "8",
         "plot_keywords": "based on novel",
         "title_year": "2009.0"
        },
        {
         "_deepnote_index_column": 5,
         "actor_1_facebook_likes": "640.0",
         "actor_1_name": "Daryl Sabara",
         "actor_2_facebook_likes": "632.0",
         "actor_2_name": "Samantha Morton",
         "actor_3_facebook_likes": "530.0",
         "actor_3_name": "Polly Walker",
         "aspect_ratio": "2.35",
         "budget": "263700000.0",
         "cast_total_facebook_likes": "1873",
         "color": "Color",
         "content_rating": "PG-13",
         "country": "USA",
         "director_facebook_likes": "475.0",
         "director_name": "Andrew Stanton",
         "duration": "132.0",
         "facenumber_in_poster": "1.0",
         "genres": "Action|Adventure|Sci-Fi",
         "gross": "73058679.0",
         "imdb_score": "6.6",
         "language": "English",
         "movie_facebook_likes": "24000",
         "movie_imdb_link": "http://www.imdb.com/title/tt0401729/?ref_=fn_tt_tt_1",
         "movie_title": "John Carter ",
         "num_critic_for_reviews": "462.0",
         "num_user_for_reviews": "738.0",
         "num_voted_users": "212204",
         "plot_keywords": "alien|american civil war|male nipple|mars|princess",
         "title_year": "2012.0"
        },
        {
         "_deepnote_index_column": 6,
         "actor_1_facebook_likes": "24000.0",
         "actor_1_name": "J.K. Simmons",
         "actor_2_facebook_likes": "11000.0",
         "actor_2_name": "James Franco",
         "actor_3_facebook_likes": "4000.0",
         "actor_3_name": "Kirsten Dunst",
         "aspect_ratio": "2.35",
         "budget": "258000000.0",
         "cast_total_facebook_likes": "46055",
         "color": "Color",
         "content_rating": "PG-13",
         "country": "USA",
         "director_facebook_likes": "0.0",
         "director_name": "Sam Raimi",
         "duration": "156.0",
         "facenumber_in_poster": "0.0",
         "genres": "Action|Adventure|Romance",
         "gross": "336530303.0",
         "imdb_score": "6.2",
         "language": "English",
         "movie_facebook_likes": "0",
         "movie_imdb_link": "http://www.imdb.com/title/tt0413300/?ref_=fn_tt_tt_1",
         "movie_title": "Spider-Man 3 ",
         "num_critic_for_reviews": "392.0",
         "num_user_for_reviews": "1902.0",
         "num_voted_users": "383056",
         "plot_keywords": "sandman|spider man|symbiote|venom|villain",
         "title_year": "2007.0"
        },
        {
         "_deepnote_index_column": 7,
         "actor_1_facebook_likes": "799.0",
         "actor_1_name": "Brad Garrett",
         "actor_2_facebook_likes": "553.0",
         "actor_2_name": "Donna Murphy",
         "actor_3_facebook_likes": "284.0",
         "actor_3_name": "M.C. Gainey",
         "aspect_ratio": "1.85",
         "budget": "260000000.0",
         "cast_total_facebook_likes": "2036",
         "color": "Color",
         "content_rating": "PG",
         "country": "USA",
         "director_facebook_likes": "15.0",
         "director_name": "Nathan Greno",
         "duration": "100.0",
         "facenumber_in_poster": "1.0",
         "genres": "Adventure|Animation|Comedy|Family|Fantasy|Musical|Romance",
         "gross": "200807262.0",
         "imdb_score": "7.8",
         "language": "English",
         "movie_facebook_likes": "29000",
         "movie_imdb_link": "http://www.imdb.com/title/tt0398286/?ref_=fn_tt_tt_1",
         "movie_title": "Tangled ",
         "num_critic_for_reviews": "324.0",
         "num_user_for_reviews": "387.0",
         "num_voted_users": "294810",
         "plot_keywords": "17th century|based on fairy tale|disney|flower|tower",
         "title_year": "2010.0"
        },
        {
         "_deepnote_index_column": 8,
         "actor_1_facebook_likes": "26000.0",
         "actor_1_name": "Chris Hemsworth",
         "actor_2_facebook_likes": "21000.0",
         "actor_2_name": "Robert Downey Jr.",
         "actor_3_facebook_likes": "19000.0",
         "actor_3_name": "Scarlett Johansson",
         "aspect_ratio": "2.35",
         "budget": "250000000.0",
         "cast_total_facebook_likes": "92000",
         "color": "Color",
         "content_rating": "PG-13",
         "country": "USA",
         "director_facebook_likes": "0.0",
         "director_name": "Joss Whedon",
         "duration": "141.0",
         "facenumber_in_poster": "4.0",
         "genres": "Action|Adventure|Sci-Fi",
         "gross": "458991599.0",
         "imdb_score": "7.5",
         "language": "English",
         "movie_facebook_likes": "118000",
         "movie_imdb_link": "http://www.imdb.com/title/tt2395427/?ref_=fn_tt_tt_1",
         "movie_title": "Avengers: Age of Ultron ",
         "num_critic_for_reviews": "635.0",
         "num_user_for_reviews": "1117.0",
         "num_voted_users": "462669",
         "plot_keywords": "artificial intelligence|based on comic book|captain america|marvel cinematic universe|superhero",
         "title_year": "2015.0"
        },
        {
         "_deepnote_index_column": 9,
         "actor_1_facebook_likes": "25000.0",
         "actor_1_name": "Alan Rickman",
         "actor_2_facebook_likes": "11000.0",
         "actor_2_name": "Daniel Radcliffe",
         "actor_3_facebook_likes": "10000.0",
         "actor_3_name": "Rupert Grint",
         "aspect_ratio": "2.35",
         "budget": "250000000.0",
         "cast_total_facebook_likes": "58753",
         "color": "Color",
         "content_rating": "PG",
         "country": "UK",
         "director_facebook_likes": "282.0",
         "director_name": "David Yates",
         "duration": "153.0",
         "facenumber_in_poster": "3.0",
         "genres": "Adventure|Family|Fantasy|Mystery",
         "gross": "301956980.0",
         "imdb_score": "7.5",
         "language": "English",
         "movie_facebook_likes": "10000",
         "movie_imdb_link": "http://www.imdb.com/title/tt0417741/?ref_=fn_tt_tt_1",
         "movie_title": "Harry Potter and the Half-Blood Prince ",
         "num_critic_for_reviews": "375.0",
         "num_user_for_reviews": "973.0",
         "num_voted_users": "321795",
         "plot_keywords": "blood|book|love|potion|professor",
         "title_year": "2009.0"
        },
        {
         "_deepnote_index_column": 10,
         "actor_1_facebook_likes": "15000.0",
         "actor_1_name": "Henry Cavill",
         "actor_2_facebook_likes": "4000.0",
         "actor_2_name": "Lauren Cohan",
         "actor_3_facebook_likes": "2000.0",
         "actor_3_name": "Alan D. Purwin",
         "aspect_ratio": "2.35",
         "budget": "250000000.0",
         "cast_total_facebook_likes": "24450",
         "color": "Color",
         "content_rating": "PG-13",
         "country": "USA",
         "director_facebook_likes": "0.0",
         "director_name": "Zack Snyder",
         "duration": "183.0",
         "facenumber_in_poster": "0.0",
         "genres": "Action|Adventure|Sci-Fi",
         "gross": "330249062.0",
         "imdb_score": "6.9",
         "language": "English",
         "movie_facebook_likes": "197000",
         "movie_imdb_link": "http://www.imdb.com/title/tt2975590/?ref_=fn_tt_tt_1",
         "movie_title": "Batman v Superman: Dawn of Justice ",
         "num_critic_for_reviews": "673.0",
         "num_user_for_reviews": "3018.0",
         "num_voted_users": "371639",
         "plot_keywords": "based on comic book|batman|sequel to a reboot|superhero|superman",
         "title_year": "2016.0"
        },
        {
         "_deepnote_index_column": 11,
         "actor_1_facebook_likes": "18000.0",
         "actor_1_name": "Kevin Spacey",
         "actor_2_facebook_likes": "10000.0",
         "actor_2_name": "Marlon Brando",
         "actor_3_facebook_likes": "903.0",
         "actor_3_name": "Frank Langella",
         "aspect_ratio": "2.35",
         "budget": "209000000.0",
         "cast_total_facebook_likes": "29991",
         "color": "Color",
         "content_rating": "PG-13",
         "country": "USA",
         "director_facebook_likes": "0.0",
         "director_name": "Bryan Singer",
         "duration": "169.0",
         "facenumber_in_poster": "0.0",
         "genres": "Action|Adventure|Sci-Fi",
         "gross": "200069408.0",
         "imdb_score": "6.1",
         "language": "English",
         "movie_facebook_likes": "0",
         "movie_imdb_link": "http://www.imdb.com/title/tt0348150/?ref_=fn_tt_tt_1",
         "movie_title": "Superman Returns ",
         "num_critic_for_reviews": "434.0",
         "num_user_for_reviews": "2367.0",
         "num_voted_users": "240396",
         "plot_keywords": "crystal|epic|lex luthor|lois lane|return to earth",
         "title_year": "2006.0"
        },
        {
         "_deepnote_index_column": 12,
         "actor_1_facebook_likes": "451.0",
         "actor_1_name": "Giancarlo Giannini",
         "actor_2_facebook_likes": "412.0",
         "actor_2_name": "Mathieu Amalric",
         "actor_3_facebook_likes": "393.0",
         "actor_3_name": "Rory Kinnear",
         "aspect_ratio": "2.35",
         "budget": "200000000.0",
         "cast_total_facebook_likes": "2023",
         "color": "Color",
         "content_rating": "PG-13",
         "country": "UK",
         "director_facebook_likes": "395.0",
         "director_name": "Marc Forster",
         "duration": "106.0",
         "facenumber_in_poster": "1.0",
         "genres": "Action|Adventure",
         "gross": "168368427.0",
         "imdb_score": "6.7",
         "language": "English",
         "movie_facebook_likes": "0",
         "movie_imdb_link": "http://www.imdb.com/title/tt0830515/?ref_=fn_tt_tt_1",
         "movie_title": "Quantum of Solace ",
         "num_critic_for_reviews": "403.0",
         "num_user_for_reviews": "1243.0",
         "num_voted_users": "330784",
         "plot_keywords": "action hero|attempted rape|bond girl|official james bond series|revenge",
         "title_year": "2008.0"
        },
        {
         "_deepnote_index_column": 13,
         "actor_1_facebook_likes": "40000.0",
         "actor_1_name": "Johnny Depp",
         "actor_2_facebook_likes": "5000.0",
         "actor_2_name": "Orlando Bloom",
         "actor_3_facebook_likes": "1000.0",
         "actor_3_name": "Jack Davenport",
         "aspect_ratio": "2.35",
         "budget": "225000000.0",
         "cast_total_facebook_likes": "48486",
         "color": "Color",
         "content_rating": "PG-13",
         "country": "USA",
         "director_facebook_likes": "563.0",
         "director_name": "Gore Verbinski",
         "duration": "151.0",
         "facenumber_in_poster": "2.0",
         "genres": "Action|Adventure|Fantasy",
         "gross": "423032628.0",
         "imdb_score": "7.3",
         "language": "English",
         "movie_facebook_likes": "5000",
         "movie_imdb_link": "http://www.imdb.com/title/tt0383574/?ref_=fn_tt_tt_1",
         "movie_title": "Pirates of the Caribbean: Dead Man's Chest ",
         "num_critic_for_reviews": "313.0",
         "num_user_for_reviews": "1832.0",
         "num_voted_users": "522040",
         "plot_keywords": "box office hit|giant squid|heart|liar's dice|monster",
         "title_year": "2006.0"
        },
        {
         "_deepnote_index_column": 14,
         "actor_1_facebook_likes": "40000.0",
         "actor_1_name": "Johnny Depp",
         "actor_2_facebook_likes": "2000.0",
         "actor_2_name": "Ruth Wilson",
         "actor_3_facebook_likes": "1000.0",
         "actor_3_name": "Tom Wilkinson",
         "aspect_ratio": "2.35",
         "budget": "215000000.0",
         "cast_total_facebook_likes": "45757",
         "color": "Color",
         "content_rating": "PG-13",
         "country": "USA",
         "director_facebook_likes": "563.0",
         "director_name": "Gore Verbinski",
         "duration": "150.0",
         "facenumber_in_poster": "1.0",
         "genres": "Action|Adventure|Western",
         "gross": "89289910.0",
         "imdb_score": "6.5",
         "language": "English",
         "movie_facebook_likes": "48000",
         "movie_imdb_link": "http://www.imdb.com/title/tt1210819/?ref_=fn_tt_tt_1",
         "movie_title": "The Lone Ranger ",
         "num_critic_for_reviews": "450.0",
         "num_user_for_reviews": "711.0",
         "num_voted_users": "181792",
         "plot_keywords": "horse|outlaw|texas|texas ranger|train",
         "title_year": "2013.0"
        },
        {
         "_deepnote_index_column": 15,
         "actor_1_facebook_likes": "15000.0",
         "actor_1_name": "Henry Cavill",
         "actor_2_facebook_likes": "3000.0",
         "actor_2_name": "Christopher Meloni",
         "actor_3_facebook_likes": "748.0",
         "actor_3_name": "Harry Lennix",
         "aspect_ratio": "2.35",
         "budget": "225000000.0",
         "cast_total_facebook_likes": "20495",
         "color": "Color",
         "content_rating": "PG-13",
         "country": "USA",
         "director_facebook_likes": "0.0",
         "director_name": "Zack Snyder",
         "duration": "143.0",
         "facenumber_in_poster": "0.0",
         "genres": "Action|Adventure|Fantasy|Sci-Fi",
         "gross": "291021565.0",
         "imdb_score": "7.2",
         "language": "English",
         "movie_facebook_likes": "118000",
         "movie_imdb_link": "http://www.imdb.com/title/tt0770828/?ref_=fn_tt_tt_1",
         "movie_title": "Man of Steel ",
         "num_critic_for_reviews": "733.0",
         "num_user_for_reviews": "2536.0",
         "num_voted_users": "548573",
         "plot_keywords": "based on comic book|british actor playing american character|final battle|origin of hero|reboot",
         "title_year": "2013.0"
        },
        {
         "_deepnote_index_column": 16,
         "actor_1_facebook_likes": "22000.0",
         "actor_1_name": "Peter Dinklage",
         "actor_2_facebook_likes": "216.0",
         "actor_2_name": "Pierfrancesco Favino",
         "actor_3_facebook_likes": "201.0",
         "actor_3_name": "Damián Alcázar",
         "aspect_ratio": "2.35",
         "budget": "225000000.0",
         "cast_total_facebook_likes": "22697",
         "color": "Color",
         "content_rating": "PG",
         "country": "USA",
         "director_facebook_likes": "80.0",
         "director_name": "Andrew Adamson",
         "duration": "150.0",
         "facenumber_in_poster": "4.0",
         "genres": "Action|Adventure|Family|Fantasy",
         "gross": "141614023.0",
         "imdb_score": "6.6",
         "language": "English",
         "movie_facebook_likes": "0",
         "movie_imdb_link": "http://www.imdb.com/title/tt0499448/?ref_=fn_tt_tt_1",
         "movie_title": "The Chronicles of Narnia: Prince Caspian ",
         "num_critic_for_reviews": "258.0",
         "num_user_for_reviews": "438.0",
         "num_voted_users": "149922",
         "plot_keywords": "brother brother relationship|brother sister relationship|good versus evil|king|narnia",
         "title_year": "2008.0"
        }
       ]
      },
      "text/html": [
       "<div>\n",
       "<style scoped>\n",
       "    .dataframe tbody tr th:only-of-type {\n",
       "        vertical-align: middle;\n",
       "    }\n",
       "\n",
       "    .dataframe tbody tr th {\n",
       "        vertical-align: top;\n",
       "    }\n",
       "\n",
       "    .dataframe thead th {\n",
       "        text-align: right;\n",
       "    }\n",
       "</style>\n",
       "<table border=\"1\" class=\"dataframe\">\n",
       "  <thead>\n",
       "    <tr style=\"text-align: right;\">\n",
       "      <th></th>\n",
       "      <th>color</th>\n",
       "      <th>director_name</th>\n",
       "      <th>num_critic_for_reviews</th>\n",
       "      <th>duration</th>\n",
       "      <th>director_facebook_likes</th>\n",
       "      <th>actor_3_facebook_likes</th>\n",
       "      <th>actor_2_name</th>\n",
       "      <th>actor_1_facebook_likes</th>\n",
       "      <th>gross</th>\n",
       "      <th>genres</th>\n",
       "      <th>...</th>\n",
       "      <th>num_user_for_reviews</th>\n",
       "      <th>language</th>\n",
       "      <th>country</th>\n",
       "      <th>content_rating</th>\n",
       "      <th>budget</th>\n",
       "      <th>title_year</th>\n",
       "      <th>actor_2_facebook_likes</th>\n",
       "      <th>imdb_score</th>\n",
       "      <th>aspect_ratio</th>\n",
       "      <th>movie_facebook_likes</th>\n",
       "    </tr>\n",
       "  </thead>\n",
       "  <tbody>\n",
       "    <tr>\n",
       "      <th>0</th>\n",
       "      <td>Color</td>\n",
       "      <td>James Cameron</td>\n",
       "      <td>723.0</td>\n",
       "      <td>178.0</td>\n",
       "      <td>0.0</td>\n",
       "      <td>855.0</td>\n",
       "      <td>Joel David Moore</td>\n",
       "      <td>1000.0</td>\n",
       "      <td>760505847.0</td>\n",
       "      <td>Action|Adventure|Fantasy|Sci-Fi</td>\n",
       "      <td>...</td>\n",
       "      <td>3054.0</td>\n",
       "      <td>English</td>\n",
       "      <td>USA</td>\n",
       "      <td>PG-13</td>\n",
       "      <td>237000000.0</td>\n",
       "      <td>2009.0</td>\n",
       "      <td>936.0</td>\n",
       "      <td>7.9</td>\n",
       "      <td>1.78</td>\n",
       "      <td>33000</td>\n",
       "    </tr>\n",
       "    <tr>\n",
       "      <th>1</th>\n",
       "      <td>Color</td>\n",
       "      <td>Gore Verbinski</td>\n",
       "      <td>302.0</td>\n",
       "      <td>169.0</td>\n",
       "      <td>563.0</td>\n",
       "      <td>1000.0</td>\n",
       "      <td>Orlando Bloom</td>\n",
       "      <td>40000.0</td>\n",
       "      <td>309404152.0</td>\n",
       "      <td>Action|Adventure|Fantasy</td>\n",
       "      <td>...</td>\n",
       "      <td>1238.0</td>\n",
       "      <td>English</td>\n",
       "      <td>USA</td>\n",
       "      <td>PG-13</td>\n",
       "      <td>300000000.0</td>\n",
       "      <td>2007.0</td>\n",
       "      <td>5000.0</td>\n",
       "      <td>7.1</td>\n",
       "      <td>2.35</td>\n",
       "      <td>0</td>\n",
       "    </tr>\n",
       "    <tr>\n",
       "      <th>2</th>\n",
       "      <td>Color</td>\n",
       "      <td>Sam Mendes</td>\n",
       "      <td>602.0</td>\n",
       "      <td>148.0</td>\n",
       "      <td>0.0</td>\n",
       "      <td>161.0</td>\n",
       "      <td>Rory Kinnear</td>\n",
       "      <td>11000.0</td>\n",
       "      <td>200074175.0</td>\n",
       "      <td>Action|Adventure|Thriller</td>\n",
       "      <td>...</td>\n",
       "      <td>994.0</td>\n",
       "      <td>English</td>\n",
       "      <td>UK</td>\n",
       "      <td>PG-13</td>\n",
       "      <td>245000000.0</td>\n",
       "      <td>2015.0</td>\n",
       "      <td>393.0</td>\n",
       "      <td>6.8</td>\n",
       "      <td>2.35</td>\n",
       "      <td>85000</td>\n",
       "    </tr>\n",
       "    <tr>\n",
       "      <th>3</th>\n",
       "      <td>Color</td>\n",
       "      <td>Christopher Nolan</td>\n",
       "      <td>813.0</td>\n",
       "      <td>164.0</td>\n",
       "      <td>22000.0</td>\n",
       "      <td>23000.0</td>\n",
       "      <td>Christian Bale</td>\n",
       "      <td>27000.0</td>\n",
       "      <td>448130642.0</td>\n",
       "      <td>Action|Thriller</td>\n",
       "      <td>...</td>\n",
       "      <td>2701.0</td>\n",
       "      <td>English</td>\n",
       "      <td>USA</td>\n",
       "      <td>PG-13</td>\n",
       "      <td>250000000.0</td>\n",
       "      <td>2012.0</td>\n",
       "      <td>23000.0</td>\n",
       "      <td>8.5</td>\n",
       "      <td>2.35</td>\n",
       "      <td>164000</td>\n",
       "    </tr>\n",
       "    <tr>\n",
       "      <th>4</th>\n",
       "      <td>Color</td>\n",
       "      <td>Doug Walker</td>\n",
       "      <td>1.0</td>\n",
       "      <td>90.0</td>\n",
       "      <td>131.0</td>\n",
       "      <td>1000.0</td>\n",
       "      <td>Rob Walker</td>\n",
       "      <td>131.0</td>\n",
       "      <td>3000000.0</td>\n",
       "      <td>Documentary</td>\n",
       "      <td>...</td>\n",
       "      <td>1.0</td>\n",
       "      <td>English</td>\n",
       "      <td>USA</td>\n",
       "      <td>R</td>\n",
       "      <td>20000000.0</td>\n",
       "      <td>2009.0</td>\n",
       "      <td>12.0</td>\n",
       "      <td>7.1</td>\n",
       "      <td>2.35</td>\n",
       "      <td>0</td>\n",
       "    </tr>\n",
       "    <tr>\n",
       "      <th>...</th>\n",
       "      <td>...</td>\n",
       "      <td>...</td>\n",
       "      <td>...</td>\n",
       "      <td>...</td>\n",
       "      <td>...</td>\n",
       "      <td>...</td>\n",
       "      <td>...</td>\n",
       "      <td>...</td>\n",
       "      <td>...</td>\n",
       "      <td>...</td>\n",
       "      <td>...</td>\n",
       "      <td>...</td>\n",
       "      <td>...</td>\n",
       "      <td>...</td>\n",
       "      <td>...</td>\n",
       "      <td>...</td>\n",
       "      <td>...</td>\n",
       "      <td>...</td>\n",
       "      <td>...</td>\n",
       "      <td>...</td>\n",
       "      <td>...</td>\n",
       "    </tr>\n",
       "    <tr>\n",
       "      <th>5038</th>\n",
       "      <td>Color</td>\n",
       "      <td>Scott Smith</td>\n",
       "      <td>1.0</td>\n",
       "      <td>87.0</td>\n",
       "      <td>2.0</td>\n",
       "      <td>318.0</td>\n",
       "      <td>Daphne Zuniga</td>\n",
       "      <td>637.0</td>\n",
       "      <td>3000000.0</td>\n",
       "      <td>Comedy|Drama</td>\n",
       "      <td>...</td>\n",
       "      <td>6.0</td>\n",
       "      <td>English</td>\n",
       "      <td>Canada</td>\n",
       "      <td>R</td>\n",
       "      <td>20000000.0</td>\n",
       "      <td>2013.0</td>\n",
       "      <td>470.0</td>\n",
       "      <td>7.7</td>\n",
       "      <td>2.35</td>\n",
       "      <td>84</td>\n",
       "    </tr>\n",
       "    <tr>\n",
       "      <th>5039</th>\n",
       "      <td>Color</td>\n",
       "      <td>Steven Spielberg</td>\n",
       "      <td>43.0</td>\n",
       "      <td>43.0</td>\n",
       "      <td>0.0</td>\n",
       "      <td>319.0</td>\n",
       "      <td>Valorie Curry</td>\n",
       "      <td>841.0</td>\n",
       "      <td>3000000.0</td>\n",
       "      <td>Crime|Drama|Mystery|Thriller</td>\n",
       "      <td>...</td>\n",
       "      <td>359.0</td>\n",
       "      <td>English</td>\n",
       "      <td>USA</td>\n",
       "      <td>TV-14</td>\n",
       "      <td>20000000.0</td>\n",
       "      <td>2009.0</td>\n",
       "      <td>593.0</td>\n",
       "      <td>7.5</td>\n",
       "      <td>16.0</td>\n",
       "      <td>32000</td>\n",
       "    </tr>\n",
       "    <tr>\n",
       "      <th>5040</th>\n",
       "      <td>Color</td>\n",
       "      <td>Benjamin Roberds</td>\n",
       "      <td>13.0</td>\n",
       "      <td>76.0</td>\n",
       "      <td>0.0</td>\n",
       "      <td>0.0</td>\n",
       "      <td>Maxwell Moody</td>\n",
       "      <td>0.0</td>\n",
       "      <td>3000000.0</td>\n",
       "      <td>Drama|Horror|Thriller</td>\n",
       "      <td>...</td>\n",
       "      <td>3.0</td>\n",
       "      <td>English</td>\n",
       "      <td>USA</td>\n",
       "      <td>R</td>\n",
       "      <td>1400.0</td>\n",
       "      <td>2013.0</td>\n",
       "      <td>0.0</td>\n",
       "      <td>6.3</td>\n",
       "      <td>2.35</td>\n",
       "      <td>16</td>\n",
       "    </tr>\n",
       "    <tr>\n",
       "      <th>5041</th>\n",
       "      <td>Color</td>\n",
       "      <td>Daniel Hsia</td>\n",
       "      <td>14.0</td>\n",
       "      <td>100.0</td>\n",
       "      <td>0.0</td>\n",
       "      <td>489.0</td>\n",
       "      <td>Daniel Henney</td>\n",
       "      <td>946.0</td>\n",
       "      <td>10443.0</td>\n",
       "      <td>Comedy|Drama|Romance</td>\n",
       "      <td>...</td>\n",
       "      <td>9.0</td>\n",
       "      <td>English</td>\n",
       "      <td>USA</td>\n",
       "      <td>PG-13</td>\n",
       "      <td>20000000.0</td>\n",
       "      <td>2012.0</td>\n",
       "      <td>719.0</td>\n",
       "      <td>6.3</td>\n",
       "      <td>2.35</td>\n",
       "      <td>660</td>\n",
       "    </tr>\n",
       "    <tr>\n",
       "      <th>5042</th>\n",
       "      <td>Color</td>\n",
       "      <td>Jon Gunn</td>\n",
       "      <td>43.0</td>\n",
       "      <td>90.0</td>\n",
       "      <td>16.0</td>\n",
       "      <td>16.0</td>\n",
       "      <td>Brian Herzlinger</td>\n",
       "      <td>86.0</td>\n",
       "      <td>85222.0</td>\n",
       "      <td>Documentary</td>\n",
       "      <td>...</td>\n",
       "      <td>84.0</td>\n",
       "      <td>English</td>\n",
       "      <td>USA</td>\n",
       "      <td>PG</td>\n",
       "      <td>1100.0</td>\n",
       "      <td>2004.0</td>\n",
       "      <td>23.0</td>\n",
       "      <td>6.6</td>\n",
       "      <td>1.85</td>\n",
       "      <td>456</td>\n",
       "    </tr>\n",
       "  </tbody>\n",
       "</table>\n",
       "<p>5043 rows × 28 columns</p>\n",
       "</div>"
      ],
      "text/plain": [
       "      color      director_name num_critic_for_reviews duration  \\\n",
       "0     Color      James Cameron                  723.0    178.0   \n",
       "1     Color     Gore Verbinski                  302.0    169.0   \n",
       "2     Color         Sam Mendes                  602.0    148.0   \n",
       "3     Color  Christopher Nolan                  813.0    164.0   \n",
       "4     Color        Doug Walker                    1.0     90.0   \n",
       "...     ...                ...                    ...      ...   \n",
       "5038  Color        Scott Smith                    1.0     87.0   \n",
       "5039  Color   Steven Spielberg                   43.0     43.0   \n",
       "5040  Color   Benjamin Roberds                   13.0     76.0   \n",
       "5041  Color        Daniel Hsia                   14.0    100.0   \n",
       "5042  Color           Jon Gunn                   43.0     90.0   \n",
       "\n",
       "     director_facebook_likes actor_3_facebook_likes      actor_2_name  \\\n",
       "0                        0.0                  855.0  Joel David Moore   \n",
       "1                      563.0                 1000.0     Orlando Bloom   \n",
       "2                        0.0                  161.0      Rory Kinnear   \n",
       "3                    22000.0                23000.0    Christian Bale   \n",
       "4                      131.0                 1000.0        Rob Walker   \n",
       "...                      ...                    ...               ...   \n",
       "5038                     2.0                  318.0     Daphne Zuniga   \n",
       "5039                     0.0                  319.0     Valorie Curry   \n",
       "5040                     0.0                    0.0     Maxwell Moody   \n",
       "5041                     0.0                  489.0     Daniel Henney   \n",
       "5042                    16.0                   16.0  Brian Herzlinger   \n",
       "\n",
       "     actor_1_facebook_likes        gross                           genres  \\\n",
       "0                    1000.0  760505847.0  Action|Adventure|Fantasy|Sci-Fi   \n",
       "1                   40000.0  309404152.0         Action|Adventure|Fantasy   \n",
       "2                   11000.0  200074175.0        Action|Adventure|Thriller   \n",
       "3                   27000.0  448130642.0                  Action|Thriller   \n",
       "4                     131.0    3000000.0                      Documentary   \n",
       "...                     ...          ...                              ...   \n",
       "5038                  637.0    3000000.0                     Comedy|Drama   \n",
       "5039                  841.0    3000000.0     Crime|Drama|Mystery|Thriller   \n",
       "5040                    0.0    3000000.0            Drama|Horror|Thriller   \n",
       "5041                  946.0      10443.0             Comedy|Drama|Romance   \n",
       "5042                   86.0      85222.0                      Documentary   \n",
       "\n",
       "      ... num_user_for_reviews language country content_rating       budget  \\\n",
       "0     ...               3054.0  English     USA          PG-13  237000000.0   \n",
       "1     ...               1238.0  English     USA          PG-13  300000000.0   \n",
       "2     ...                994.0  English      UK          PG-13  245000000.0   \n",
       "3     ...               2701.0  English     USA          PG-13  250000000.0   \n",
       "4     ...                  1.0  English     USA              R   20000000.0   \n",
       "...   ...                  ...      ...     ...            ...          ...   \n",
       "5038  ...                  6.0  English  Canada              R   20000000.0   \n",
       "5039  ...                359.0  English     USA          TV-14   20000000.0   \n",
       "5040  ...                  3.0  English     USA              R       1400.0   \n",
       "5041  ...                  9.0  English     USA          PG-13   20000000.0   \n",
       "5042  ...                 84.0  English     USA             PG       1100.0   \n",
       "\n",
       "     title_year actor_2_facebook_likes imdb_score aspect_ratio  \\\n",
       "0        2009.0                  936.0        7.9         1.78   \n",
       "1        2007.0                 5000.0        7.1         2.35   \n",
       "2        2015.0                  393.0        6.8         2.35   \n",
       "3        2012.0                23000.0        8.5         2.35   \n",
       "4        2009.0                   12.0        7.1         2.35   \n",
       "...         ...                    ...        ...          ...   \n",
       "5038     2013.0                  470.0        7.7         2.35   \n",
       "5039     2009.0                  593.0        7.5         16.0   \n",
       "5040     2013.0                    0.0        6.3         2.35   \n",
       "5041     2012.0                  719.0        6.3         2.35   \n",
       "5042     2004.0                   23.0        6.6         1.85   \n",
       "\n",
       "     movie_facebook_likes  \n",
       "0                   33000  \n",
       "1                       0  \n",
       "2                   85000  \n",
       "3                  164000  \n",
       "4                       0  \n",
       "...                   ...  \n",
       "5038                   84  \n",
       "5039                32000  \n",
       "5040                   16  \n",
       "5041                  660  \n",
       "5042                  456  \n",
       "\n",
       "[5043 rows x 28 columns]"
      ]
     },
     "execution_count": 47,
     "metadata": {},
     "output_type": "execute_result"
    }
   ],
   "source": [
    "data2"
   ]
  },
  {
   "cell_type": "code",
   "execution_count": null,
   "metadata": {
    "cell_id": "00046-8be0ae91-1ccf-4f76-85b9-d67209ffb028",
    "deepnote_cell_type": "code",
    "deepnote_to_be_reexecuted": false,
    "execution_millis": 36,
    "execution_start": 1631382384678,
    "source_hash": "78d42fa2",
    "tags": []
   },
   "outputs": [],
   "source": [
    "data2[['num_critic_for_reviews', 'duration', 'director_facebook_likes', 'actor_3_facebook_likes', 'actor_1_facebook_likes', 'gross', 'num_voted_users', 'cast_total_facebook_likes', 'facenumber_in_poster', 'num_user_for_reviews','budget', 'title_year', 'actor_2_facebook_likes',\n",
    "       'imdb_score', 'aspect_ratio', 'movie_facebook_likes' ]] = data2[['num_critic_for_reviews', 'duration', 'director_facebook_likes', 'actor_3_facebook_likes', 'actor_1_facebook_likes', 'gross', 'num_voted_users', 'cast_total_facebook_likes', 'facenumber_in_poster', 'num_user_for_reviews','budget', 'title_year', 'actor_2_facebook_likes',\n",
    "       'imdb_score', 'aspect_ratio', 'movie_facebook_likes' ]].astype(float)"
   ]
  },
  {
   "cell_type": "code",
   "execution_count": null,
   "metadata": {
    "cell_id": "00047-c6eb5aff-a63d-409d-a9f0-a3f8d1c24dd6",
    "deepnote_cell_type": "code",
    "deepnote_to_be_reexecuted": false,
    "execution_millis": 446,
    "execution_start": 1631382388870,
    "source_hash": "258b1279",
    "tags": []
   },
   "outputs": [
    {
     "data": {
      "application/vnd.deepnote.dataframe.v2+json": {
       "column_count": 28,
       "columns": [
        {
         "dtype": "object",
         "name": "color",
         "stats": {
          "categories": [
           {
            "count": 4834,
            "name": "Color"
           },
           {
            "count": 209,
            "name": " Black and White"
           }
          ],
          "nan_count": 0,
          "unique_count": 2
         }
        },
        {
         "dtype": "object",
         "name": "director_name",
         "stats": {
          "categories": [
           {
            "count": 130,
            "name": "Steven Spielberg"
           },
           {
            "count": 22,
            "name": "Woody Allen"
           },
           {
            "count": 4891,
            "name": "2396 others"
           }
          ],
          "nan_count": 0,
          "unique_count": 2398
         }
        },
        {
         "dtype": "float64",
         "name": "num_critic_for_reviews",
         "stats": {
          "histogram": [
           {
            "bin_end": 82.2,
            "bin_start": 1,
            "count": 2033
           },
           {
            "bin_end": 163.4,
            "bin_start": 82.2,
            "count": 1393
           },
           {
            "bin_end": 244.60000000000002,
            "bin_start": 163.4,
            "count": 793
           },
           {
            "bin_end": 325.8,
            "bin_start": 244.60000000000002,
            "count": 415
           },
           {
            "bin_end": 407,
            "bin_start": 325.8,
            "count": 202
           },
           {
            "bin_end": 488.20000000000005,
            "bin_start": 407,
            "count": 114
           },
           {
            "bin_end": 569.4,
            "bin_start": 488.20000000000005,
            "count": 50
           },
           {
            "bin_end": 650.6,
            "bin_start": 569.4,
            "count": 22
           },
           {
            "bin_end": 731.8000000000001,
            "bin_start": 650.6,
            "count": 13
           },
           {
            "bin_end": 813,
            "bin_start": 731.8000000000001,
            "count": 8
           }
          ],
          "max": "813.0",
          "min": "1.0",
          "nan_count": 0,
          "unique_count": 528
         }
        },
        {
         "dtype": "float64",
         "name": "duration",
         "stats": {
          "histogram": [
           {
            "bin_end": 57.4,
            "bin_start": 7,
            "count": 80
           },
           {
            "bin_end": 107.8,
            "bin_start": 57.4,
            "count": 2890
           },
           {
            "bin_end": 158.2,
            "bin_start": 107.8,
            "count": 1930
           },
           {
            "bin_end": 208.6,
            "bin_start": 158.2,
            "count": 114
           },
           {
            "bin_end": 259,
            "bin_start": 208.6,
            "count": 18
           },
           {
            "bin_end": 309.4,
            "bin_start": 259,
            "count": 7
           },
           {
            "bin_end": 359.8,
            "bin_start": 309.4,
            "count": 3
           },
           {
            "bin_end": 410.2,
            "bin_start": 359.8,
            "count": 0
           },
           {
            "bin_end": 460.59999999999997,
            "bin_start": 410.2,
            "count": 0
           },
           {
            "bin_end": 511,
            "bin_start": 460.59999999999997,
            "count": 1
           }
          ],
          "max": "511.0",
          "min": "7.0",
          "nan_count": 0,
          "unique_count": 191
         }
        },
        {
         "dtype": "float64",
         "name": "director_facebook_likes",
         "stats": {
          "histogram": [
           {
            "bin_end": 2300,
            "bin_start": 0,
            "count": 4844
           },
           {
            "bin_end": 4600,
            "bin_start": 2300,
            "count": 14
           },
           {
            "bin_end": 6900,
            "bin_start": 4600,
            "count": 4
           },
           {
            "bin_end": 9200,
            "bin_start": 6900,
            "count": 0
           },
           {
            "bin_end": 11500,
            "bin_start": 9200,
            "count": 34
           },
           {
            "bin_end": 13800,
            "bin_start": 11500,
            "count": 43
           },
           {
            "bin_end": 16100,
            "bin_start": 13800,
            "count": 60
           },
           {
            "bin_end": 18400,
            "bin_start": 16100,
            "count": 24
           },
           {
            "bin_end": 20700,
            "bin_start": 18400,
            "count": 1
           },
           {
            "bin_end": 23000,
            "bin_start": 20700,
            "count": 19
           }
          ],
          "max": "23000.0",
          "min": "0.0",
          "nan_count": 0,
          "unique_count": 435
         }
        },
        {
         "dtype": "float64",
         "name": "actor_3_facebook_likes",
         "stats": {
          "histogram": [
           {
            "bin_end": 2300,
            "bin_start": 0,
            "count": 4897
           },
           {
            "bin_end": 4600,
            "bin_start": 2300,
            "count": 43
           },
           {
            "bin_end": 6900,
            "bin_start": 4600,
            "count": 7
           },
           {
            "bin_end": 9200,
            "bin_start": 6900,
            "count": 19
           },
           {
            "bin_end": 11500,
            "bin_start": 9200,
            "count": 45
           },
           {
            "bin_end": 13800,
            "bin_start": 11500,
            "count": 13
           },
           {
            "bin_end": 16100,
            "bin_start": 13800,
            "count": 10
           },
           {
            "bin_end": 18400,
            "bin_start": 16100,
            "count": 1
           },
           {
            "bin_end": 20700,
            "bin_start": 18400,
            "count": 6
           },
           {
            "bin_end": 23000,
            "bin_start": 20700,
            "count": 2
           }
          ],
          "max": "23000.0",
          "min": "0.0",
          "nan_count": 0,
          "unique_count": 906
         }
        },
        {
         "dtype": "object",
         "name": "actor_2_name",
         "stats": {
          "categories": [
           {
            "count": 33,
            "name": "Morgan Freeman"
           },
           {
            "count": 15,
            "name": "Charlize Theron"
           },
           {
            "count": 4995,
            "name": "3030 others"
           }
          ],
          "nan_count": 0,
          "unique_count": 3032
         }
        },
        {
         "dtype": "float64",
         "name": "actor_1_facebook_likes",
         "stats": {
          "histogram": [
           {
            "bin_end": 64000,
            "bin_start": 0,
            "count": 5026
           },
           {
            "bin_end": 128000,
            "bin_start": 64000,
            "count": 9
           },
           {
            "bin_end": 192000,
            "bin_start": 128000,
            "count": 4
           },
           {
            "bin_end": 256000,
            "bin_start": 192000,
            "count": 0
           },
           {
            "bin_end": 320000,
            "bin_start": 256000,
            "count": 3
           },
           {
            "bin_end": 384000,
            "bin_start": 320000,
            "count": 0
           },
           {
            "bin_end": 448000,
            "bin_start": 384000,
            "count": 0
           },
           {
            "bin_end": 512000,
            "bin_start": 448000,
            "count": 0
           },
           {
            "bin_end": 576000,
            "bin_start": 512000,
            "count": 0
           },
           {
            "bin_end": 640000,
            "bin_start": 576000,
            "count": 1
           }
          ],
          "max": "640000.0",
          "min": "0.0",
          "nan_count": 0,
          "unique_count": 878
         }
        },
        {
         "dtype": "float64",
         "name": "gross",
         "stats": {
          "histogram": [
           {
            "bin_end": 76050730.5,
            "bin_start": 162,
            "count": 4220
           },
           {
            "bin_end": 152101299,
            "bin_start": 76050730.5,
            "count": 534
           },
           {
            "bin_end": 228151867.5,
            "bin_start": 152101299,
            "count": 167
           },
           {
            "bin_end": 304202436,
            "bin_start": 228151867.5,
            "count": 62
           },
           {
            "bin_end": 380253004.5,
            "bin_start": 304202436,
            "count": 36
           },
           {
            "bin_end": 456303573,
            "bin_start": 380253004.5,
            "count": 15
           },
           {
            "bin_end": 532354141.5,
            "bin_start": 456303573,
            "count": 3
           },
           {
            "bin_end": 608404710,
            "bin_start": 532354141.5,
            "count": 1
           },
           {
            "bin_end": 684455278.5,
            "bin_start": 608404710,
            "count": 4
           },
           {
            "bin_end": 760505847,
            "bin_start": 684455278.5,
            "count": 1
           }
          ],
          "max": "760505847.0",
          "min": "162.0",
          "nan_count": 0,
          "unique_count": 4035
         }
        },
        {
         "dtype": "object",
         "name": "genres",
         "stats": {
          "categories": [
           {
            "count": 236,
            "name": "Drama"
           },
           {
            "count": 209,
            "name": "Comedy"
           },
           {
            "count": 4598,
            "name": "912 others"
           }
          ],
          "nan_count": 0,
          "unique_count": 914
         }
        },
        {
         "dtype": "object",
         "name": "actor_1_name",
         "stats": {
          "categories": [
           {
            "count": 56,
            "name": "Robert De Niro"
           },
           {
            "count": 41,
            "name": "Johnny Depp"
           },
           {
            "count": 4946,
            "name": "2095 others"
           }
          ],
          "nan_count": 0,
          "unique_count": 2097
         }
        },
        {
         "dtype": "object",
         "name": "movie_title",
         "stats": {
          "categories": [
           {
            "count": 3,
            "name": "King Kong "
           },
           {
            "count": 3,
            "name": "The Fast and the Furious "
           },
           {
            "count": 5037,
            "name": "4915 others"
           }
          ],
          "nan_count": 0,
          "unique_count": 4917
         }
        },
        {
         "dtype": "float64",
         "name": "num_voted_users",
         "stats": {
          "histogram": [
           {
            "bin_end": 168980.9,
            "bin_start": 5,
            "count": 4327
           },
           {
            "bin_end": 337956.8,
            "bin_start": 168980.9,
            "count": 469
           },
           {
            "bin_end": 506932.69999999995,
            "bin_start": 337956.8,
            "count": 139
           },
           {
            "bin_end": 675908.6,
            "bin_start": 506932.69999999995,
            "count": 56
           },
           {
            "bin_end": 844884.5,
            "bin_start": 675908.6,
            "count": 25
           },
           {
            "bin_end": 1013860.3999999999,
            "bin_start": 844884.5,
            "count": 14
           },
           {
            "bin_end": 1182836.3,
            "bin_start": 1013860.3999999999,
            "count": 4
           },
           {
            "bin_end": 1351812.2,
            "bin_start": 1182836.3,
            "count": 6
           },
           {
            "bin_end": 1520788.0999999999,
            "bin_start": 1351812.2,
            "count": 1
           },
           {
            "bin_end": 1689764,
            "bin_start": 1520788.0999999999,
            "count": 2
           }
          ],
          "max": "1689764.0",
          "min": "5.0",
          "nan_count": 0,
          "unique_count": 4826
         }
        },
        {
         "dtype": "float64",
         "name": "cast_total_facebook_likes",
         "stats": {
          "histogram": [
           {
            "bin_end": 65673,
            "bin_start": 0,
            "count": 5001
           },
           {
            "bin_end": 131346,
            "bin_start": 65673,
            "count": 34
           },
           {
            "bin_end": 197019,
            "bin_start": 131346,
            "count": 3
           },
           {
            "bin_end": 262692,
            "bin_start": 197019,
            "count": 1
           },
           {
            "bin_end": 328365,
            "bin_start": 262692,
            "count": 3
           },
           {
            "bin_end": 394038,
            "bin_start": 328365,
            "count": 0
           },
           {
            "bin_end": 459711,
            "bin_start": 394038,
            "count": 0
           },
           {
            "bin_end": 525384,
            "bin_start": 459711,
            "count": 0
           },
           {
            "bin_end": 591057,
            "bin_start": 525384,
            "count": 0
           },
           {
            "bin_end": 656730,
            "bin_start": 591057,
            "count": 1
           }
          ],
          "max": "656730.0",
          "min": "0.0",
          "nan_count": 0,
          "unique_count": 3978
         }
        },
        {
         "dtype": "object",
         "name": "actor_3_name",
         "stats": {
          "categories": [
           {
            "count": 31,
            "name": "Ben Mendelsohn"
           },
           {
            "count": 8,
            "name": "Steve Coogan"
           },
           {
            "count": 5004,
            "name": "3519 others"
           }
          ],
          "nan_count": 0,
          "unique_count": 3521
         }
        },
        {
         "dtype": "float64",
         "name": "facenumber_in_poster",
         "stats": {
          "histogram": [
           {
            "bin_end": 4.3,
            "bin_start": 0,
            "count": 4719
           },
           {
            "bin_end": 8.6,
            "bin_start": 4.3,
            "count": 275
           },
           {
            "bin_end": 12.899999999999999,
            "bin_start": 8.6,
            "count": 37
           },
           {
            "bin_end": 17.2,
            "bin_start": 12.899999999999999,
            "count": 9
           },
           {
            "bin_end": 21.5,
            "bin_start": 17.2,
            "count": 1
           },
           {
            "bin_end": 25.799999999999997,
            "bin_start": 21.5,
            "count": 0
           },
           {
            "bin_end": 30.099999999999998,
            "bin_start": 25.799999999999997,
            "count": 0
           },
           {
            "bin_end": 34.4,
            "bin_start": 30.099999999999998,
            "count": 1
           },
           {
            "bin_end": 38.699999999999996,
            "bin_start": 34.4,
            "count": 0
           },
           {
            "bin_end": 43,
            "bin_start": 38.699999999999996,
            "count": 1
           }
          ],
          "max": "43.0",
          "min": "0.0",
          "nan_count": 0,
          "unique_count": 19
         }
        },
        {
         "dtype": "object",
         "name": "plot_keywords",
         "stats": {
          "categories": [
           {
            "count": 157,
            "name": "based on novel"
           },
           {
            "count": 3,
            "name": "animal name in title|ape abducts a woman|gorilla|island|king kong"
           },
           {
            "count": 4883,
            "name": "4758 others"
           }
          ],
          "nan_count": 0,
          "unique_count": 4760
         }
        },
        {
         "dtype": "object",
         "name": "movie_imdb_link",
         "stats": {
          "categories": [
           {
            "count": 3,
            "name": "http://www.imdb.com/title/tt0360717/?ref_=fn_tt_tt_1"
           },
           {
            "count": 3,
            "name": "http://www.imdb.com/title/tt0232500/?ref_=fn_tt_tt_1"
           },
           {
            "count": 5037,
            "name": "4917 others"
           }
          ],
          "nan_count": 0,
          "unique_count": 4919
         }
        },
        {
         "dtype": "float64",
         "name": "num_user_for_reviews",
         "stats": {
          "histogram": [
           {
            "bin_end": 506.9,
            "bin_start": 1,
            "count": 4324
           },
           {
            "bin_end": 1012.8,
            "bin_start": 506.9,
            "count": 513
           },
           {
            "bin_end": 1518.6999999999998,
            "bin_start": 1012.8,
            "count": 123
           },
           {
            "bin_end": 2024.6,
            "bin_start": 1518.6999999999998,
            "count": 33
           },
           {
            "bin_end": 2530.5,
            "bin_start": 2024.6,
            "count": 26
           },
           {
            "bin_end": 3036.3999999999996,
            "bin_start": 2530.5,
            "count": 14
           },
           {
            "bin_end": 3542.2999999999997,
            "bin_start": 3036.3999999999996,
            "count": 5
           },
           {
            "bin_end": 4048.2,
            "bin_start": 3542.2999999999997,
            "count": 2
           },
           {
            "bin_end": 4554.099999999999,
            "bin_start": 4048.2,
            "count": 1
           },
           {
            "bin_end": 5060,
            "bin_start": 4554.099999999999,
            "count": 2
           }
          ],
          "max": "5060.0",
          "min": "1.0",
          "nan_count": 0,
          "unique_count": 954
         }
        },
        {
         "dtype": "object",
         "name": "language"
        },
        {
         "dtype": "object",
         "name": "country"
        },
        {
         "dtype": "object",
         "name": "content_rating"
        },
        {
         "dtype": "float64",
         "name": "budget"
        },
        {
         "dtype": "float64",
         "name": "title_year"
        },
        {
         "dtype": "float64",
         "name": "actor_2_facebook_likes"
        },
        {
         "dtype": "float64",
         "name": "imdb_score"
        },
        {
         "dtype": "float64",
         "name": "aspect_ratio"
        },
        {
         "dtype": "float64",
         "name": "movie_facebook_likes"
        },
        {
         "dtype": "int64",
         "name": "_deepnote_index_column"
        }
       ],
       "row_count": 5043,
       "rows_bottom": [
        {
         "_deepnote_index_column": 5025,
         "actor_1_facebook_likes": 462,
         "actor_1_name": "Divine",
         "actor_2_facebook_likes": 143,
         "actor_2_name": "Mink Stole",
         "actor_3_facebook_likes": 105,
         "actor_3_name": "Edith Massey",
         "aspect_ratio": 1.37,
         "budget": 10000,
         "cast_total_facebook_likes": 760,
         "color": "Color",
         "content_rating": "NC-17",
         "country": "USA",
         "director_facebook_likes": 0,
         "director_name": "John Waters",
         "duration": 108,
         "facenumber_in_poster": 2,
         "genres": "Comedy|Crime|Horror",
         "gross": 180483,
         "imdb_score": 6.1,
         "language": "English",
         "movie_facebook_likes": 0,
         "movie_imdb_link": "http://www.imdb.com/title/tt0069089/?ref_=fn_tt_tt_1",
         "movie_title": "Pink Flamingos ",
         "num_critic_for_reviews": 73,
         "num_user_for_reviews": 183,
         "num_voted_users": 16792,
         "plot_keywords": "absurd humor|egg|gross out humor|lesbian|sex",
         "title_year": 1972
        },
        {
         "_deepnote_index_column": 5026,
         "actor_1_facebook_likes": 576,
         "actor_1_name": "Maggie Cheung",
         "actor_2_facebook_likes": 133,
         "actor_2_name": "Béatrice Dalle",
         "actor_3_facebook_likes": 45,
         "actor_3_name": "Don McKellar",
         "aspect_ratio": 2.35,
         "budget": 4500,
         "cast_total_facebook_likes": 776,
         "color": "Color",
         "content_rating": "R",
         "country": "France",
         "director_facebook_likes": 107,
         "director_name": "Olivier Assayas",
         "duration": 110,
         "facenumber_in_poster": 1,
         "genres": "Drama|Music|Romance",
         "gross": 136007,
         "imdb_score": 6.9,
         "language": "French",
         "movie_facebook_likes": 171,
         "movie_imdb_link": "http://www.imdb.com/title/tt0388838/?ref_=fn_tt_tt_1",
         "movie_title": "Clean ",
         "num_critic_for_reviews": 81,
         "num_user_for_reviews": 39,
         "num_voted_users": 3924,
         "plot_keywords": "jail|junkie|money|motel|singer",
         "title_year": 2004
        },
        {
         "_deepnote_index_column": 5027,
         "actor_1_facebook_likes": 5,
         "actor_1_name": "Fereshteh Sadre Orafaiy",
         "actor_2_facebook_likes": 0,
         "actor_2_name": "Nargess Mamizadeh",
         "actor_3_facebook_likes": 0,
         "actor_3_name": "Mojgan Faramarzi",
         "aspect_ratio": 1.85,
         "budget": 10000,
         "cast_total_facebook_likes": 5,
         "color": "Color",
         "content_rating": "Not Rated",
         "country": "Iran",
         "director_facebook_likes": 397,
         "director_name": "Jafar Panahi",
         "duration": 90,
         "facenumber_in_poster": 0,
         "genres": "Drama",
         "gross": 673780,
         "imdb_score": 7.5,
         "language": "Persian",
         "movie_facebook_likes": 697,
         "movie_imdb_link": "http://www.imdb.com/title/tt0255094/?ref_=fn_tt_tt_1",
         "movie_title": "The Circle ",
         "num_critic_for_reviews": 64,
         "num_user_for_reviews": 26,
         "num_voted_users": 4555,
         "plot_keywords": "abortion|bus|hospital|prison|prostitution",
         "title_year": 2000
        },
        {
         "_deepnote_index_column": 5028,
         "actor_1_facebook_likes": 10,
         "actor_1_name": "Patrick O'Donnell",
         "actor_2_facebook_likes": 5,
         "actor_2_name": "Michael Parle",
         "actor_3_facebook_likes": 0,
         "actor_3_name": "Emma Eliza Regan",
         "aspect_ratio": 1.33,
         "budget": 10000,
         "cast_total_facebook_likes": 15,
         "color": " Black and White",
         "content_rating": "R",
         "country": "Ireland",
         "director_facebook_likes": 18,
         "director_name": "Ivan Kavanagh",
         "duration": 83,
         "facenumber_in_poster": 0,
         "genres": "Horror",
         "gross": 3000000,
         "imdb_score": 6.7,
         "language": "English",
         "movie_facebook_likes": 105,
         "movie_imdb_link": "http://www.imdb.com/title/tt1235811/?ref_=fn_tt_tt_1",
         "movie_title": "Tin Can Man ",
         "num_critic_for_reviews": 12,
         "num_user_for_reviews": 1,
         "num_voted_users": 57,
         "plot_keywords": "based on novel",
         "title_year": 2007
        },
        {
         "_deepnote_index_column": 5029,
         "actor_1_facebook_likes": 89,
         "actor_1_name": "Kôji Yakusho",
         "actor_2_facebook_likes": 13,
         "actor_2_name": "Anna Nakagawa",
         "actor_3_facebook_likes": 6,
         "actor_3_name": "Denden",
         "aspect_ratio": 1.85,
         "budget": 1000000,
         "cast_total_facebook_likes": 115,
         "color": "Color",
         "content_rating": "R",
         "country": "Japan",
         "director_facebook_likes": 62,
         "director_name": "Kiyoshi Kurosawa",
         "duration": 111,
         "facenumber_in_poster": 0,
         "genres": "Crime|Horror|Mystery|Thriller",
         "gross": 94596,
         "imdb_score": 7.4,
         "language": "Japanese",
         "movie_facebook_likes": 817,
         "movie_imdb_link": "http://www.imdb.com/title/tt0123948/?ref_=fn_tt_tt_1",
         "movie_title": "The Cure ",
         "num_critic_for_reviews": 78,
         "num_user_for_reviews": 50,
         "num_voted_users": 6318,
         "plot_keywords": "breasts|interrogation|investigation|murder|watching television",
         "title_year": 1997
        },
        {
         "_deepnote_index_column": 5030,
         "actor_1_facebook_likes": 21,
         "actor_1_name": "Tatiana Suarez-Pico",
         "actor_2_facebook_likes": 20,
         "actor_2_name": "Michael Cortez",
         "actor_3_facebook_likes": 12,
         "actor_3_name": "Eric Ambriz",
         "aspect_ratio": 2.35,
         "budget": 20000000,
         "cast_total_facebook_likes": 62,
         "color": "Color",
         "content_rating": "R",
         "country": "USA",
         "director_facebook_likes": 5,
         "director_name": "Tadeo Garcia",
         "duration": 84,
         "facenumber_in_poster": 2,
         "genres": "Drama",
         "gross": 3000000,
         "imdb_score": 6.1,
         "language": "English",
         "movie_facebook_likes": 22,
         "movie_imdb_link": "http://www.imdb.com/title/tt0390323/?ref_=fn_tt_tt_1",
         "movie_title": "On the Downlow ",
         "num_critic_for_reviews": 1,
         "num_user_for_reviews": 3,
         "num_voted_users": 156,
         "plot_keywords": "gang initiation|gunplay|hazing|latino|shakespeare's romeo and juliet",
         "title_year": 2004
        },
        {
         "_deepnote_index_column": 5031,
         "actor_1_facebook_likes": 785,
         "actor_1_name": "Julianna Pitt",
         "actor_2_facebook_likes": 98,
         "actor_2_name": "Joe Coffey",
         "actor_3_facebook_likes": 84,
         "actor_3_name": "John Lucas",
         "aspect_ratio": 16,
         "budget": 200000,
         "cast_total_facebook_likes": 1111,
         "color": "Color",
         "content_rating": "R",
         "country": "USA",
         "director_facebook_likes": 120,
         "director_name": "Thomas L. Phillips",
         "duration": 82,
         "facenumber_in_poster": 0,
         "genres": "Comedy|Horror|Thriller",
         "gross": 3000000,
         "imdb_score": 5.4,
         "language": "English",
         "movie_facebook_likes": 424,
         "movie_imdb_link": "http://www.imdb.com/title/tt2049518/?ref_=fn_tt_tt_1",
         "movie_title": "Sanctuary; Quite a Conundrum ",
         "num_critic_for_reviews": 13,
         "num_user_for_reviews": 8,
         "num_voted_users": 133,
         "plot_keywords": "nudity|party|pirate|swimsuit|three word title",
         "title_year": 2012
        },
        {
         "_deepnote_index_column": 5032,
         "actor_1_facebook_likes": 789,
         "actor_1_name": "Peter Greene",
         "actor_2_facebook_likes": 194,
         "actor_2_name": "Stanley B. Herman",
         "actor_3_facebook_likes": 152,
         "actor_3_name": "James Noble",
         "aspect_ratio": 2.35,
         "budget": 20000000,
         "cast_total_facebook_likes": 1186,
         "color": "Color",
         "content_rating": "R",
         "country": "USA",
         "director_facebook_likes": 3,
         "director_name": "Ash Baron-Cohen",
         "duration": 98,
         "facenumber_in_poster": 1,
         "genres": "Crime|Drama",
         "gross": 3000000,
         "imdb_score": 6.4,
         "language": "English",
         "movie_facebook_likes": 20,
         "movie_imdb_link": "http://www.imdb.com/title/tt0109266/?ref_=fn_tt_tt_1",
         "movie_title": "Bang ",
         "num_critic_for_reviews": 10,
         "num_user_for_reviews": 14,
         "num_voted_users": 438,
         "plot_keywords": "corruption|homeless|homeless man|motorcycle|urban legend",
         "title_year": 1995
        },
        {
         "_deepnote_index_column": 5033,
         "actor_1_facebook_likes": 291,
         "actor_1_name": "Shane Carruth",
         "actor_2_facebook_likes": 45,
         "actor_2_name": "David Sullivan",
         "actor_3_facebook_likes": 8,
         "actor_3_name": "Casey Gooden",
         "aspect_ratio": 1.85,
         "budget": 7000,
         "cast_total_facebook_likes": 368,
         "color": "Color",
         "content_rating": "PG-13",
         "country": "USA",
         "director_facebook_likes": 291,
         "director_name": "Shane Carruth",
         "duration": 77,
         "facenumber_in_poster": 0,
         "genres": "Drama|Sci-Fi|Thriller",
         "gross": 424760,
         "imdb_score": 7,
         "language": "English",
         "movie_facebook_likes": 19000,
         "movie_imdb_link": "http://www.imdb.com/title/tt0390384/?ref_=fn_tt_tt_1",
         "movie_title": "Primer ",
         "num_critic_for_reviews": 143,
         "num_user_for_reviews": 371,
         "num_voted_users": 72639,
         "plot_keywords": "changing the future|independent film|invention|nonlinear timeline|time travel",
         "title_year": 2004
        },
        {
         "_deepnote_index_column": 5034,
         "actor_1_facebook_likes": 0,
         "actor_1_name": "Ian Gamazon",
         "actor_2_facebook_likes": 0,
         "actor_2_name": "Edgar Tancangco",
         "actor_3_facebook_likes": 0,
         "actor_3_name": "Quynn Ton",
         "aspect_ratio": 2.35,
         "budget": 7000,
         "cast_total_facebook_likes": 0,
         "color": "Color",
         "content_rating": "Not Rated",
         "country": "Philippines",
         "director_facebook_likes": 0,
         "director_name": "Neill Dela Llana",
         "duration": 80,
         "facenumber_in_poster": 0,
         "genres": "Thriller",
         "gross": 70071,
         "imdb_score": 6.3,
         "language": "English",
         "movie_facebook_likes": 74,
         "movie_imdb_link": "http://www.imdb.com/title/tt0428303/?ref_=fn_tt_tt_1",
         "movie_title": "Cavite ",
         "num_critic_for_reviews": 35,
         "num_user_for_reviews": 35,
         "num_voted_users": 589,
         "plot_keywords": "jihad|mindanao|philippines|security guard|squatter",
         "title_year": 2005
        },
        {
         "_deepnote_index_column": 5035,
         "actor_1_facebook_likes": 121,
         "actor_1_name": "Carlos Gallardo",
         "actor_2_facebook_likes": 20,
         "actor_2_name": "Peter Marquardt",
         "actor_3_facebook_likes": 6,
         "actor_3_name": "Consuelo Gómez",
         "aspect_ratio": 1.37,
         "budget": 7000,
         "cast_total_facebook_likes": 147,
         "color": "Color",
         "content_rating": "R",
         "country": "USA",
         "director_facebook_likes": 0,
         "director_name": "Robert Rodriguez",
         "duration": 81,
         "facenumber_in_poster": 0,
         "genres": "Action|Crime|Drama|Romance|Thriller",
         "gross": 2040920,
         "imdb_score": 6.9,
         "language": "Spanish",
         "movie_facebook_likes": 0,
         "movie_imdb_link": "http://www.imdb.com/title/tt0104815/?ref_=fn_tt_tt_1",
         "movie_title": "El Mariachi ",
         "num_critic_for_reviews": 56,
         "num_user_for_reviews": 130,
         "num_voted_users": 52055,
         "plot_keywords": "assassin|death|guitar|gun|mariachi",
         "title_year": 1992
        },
        {
         "_deepnote_index_column": 5036,
         "actor_1_facebook_likes": 45,
         "actor_1_name": "Richard Jewell",
         "actor_2_facebook_likes": 44,
         "actor_2_name": "John Considine",
         "actor_3_facebook_likes": 2,
         "actor_3_name": "Sara Stepnicka",
         "aspect_ratio": 2.35,
         "budget": 3250,
         "cast_total_facebook_likes": 93,
         "color": "Color",
         "content_rating": "PG-13",
         "country": "USA",
         "director_facebook_likes": 2,
         "director_name": "Anthony Vallone",
         "duration": 84,
         "facenumber_in_poster": 0,
         "genres": "Crime|Drama",
         "gross": 3000000,
         "imdb_score": 7.8,
         "language": "English",
         "movie_facebook_likes": 4,
         "movie_imdb_link": "http://www.imdb.com/title/tt0430371/?ref_=fn_tt_tt_1",
         "movie_title": "The Mongol King ",
         "num_critic_for_reviews": 1,
         "num_user_for_reviews": 1,
         "num_voted_users": 36,
         "plot_keywords": "jewell|mongol|nostradamus|stepnicka|vallone",
         "title_year": 2005
        },
        {
         "_deepnote_index_column": 5037,
         "actor_1_facebook_likes": 296,
         "actor_1_name": "Kerry Bishé",
         "actor_2_facebook_likes": 205,
         "actor_2_name": "Caitlin FitzGerald",
         "actor_3_facebook_likes": 133,
         "actor_3_name": "Daniella Pineda",
         "aspect_ratio": 2.35,
         "budget": 9000,
         "cast_total_facebook_likes": 690,
         "color": "Color",
         "content_rating": "Not Rated",
         "country": "USA",
         "director_facebook_likes": 0,
         "director_name": "Edward Burns",
         "duration": 95,
         "facenumber_in_poster": 1,
         "genres": "Comedy|Drama",
         "gross": 4584,
         "imdb_score": 6.4,
         "language": "English",
         "movie_facebook_likes": 413,
         "movie_imdb_link": "http://www.imdb.com/title/tt1880418/?ref_=fn_tt_tt_1",
         "movie_title": "Newlyweds ",
         "num_critic_for_reviews": 14,
         "num_user_for_reviews": 14,
         "num_voted_users": 1338,
         "plot_keywords": "written and directed by cast member",
         "title_year": 2011
        },
        {
         "_deepnote_index_column": 5038,
         "actor_1_facebook_likes": 637,
         "actor_1_name": "Eric Mabius",
         "actor_2_facebook_likes": 470,
         "actor_2_name": "Daphne Zuniga",
         "actor_3_facebook_likes": 318,
         "actor_3_name": "Crystal Lowe",
         "aspect_ratio": 2.35,
         "budget": 20000000,
         "cast_total_facebook_likes": 2283,
         "color": "Color",
         "content_rating": "R",
         "country": "Canada",
         "director_facebook_likes": 2,
         "director_name": "Scott Smith",
         "duration": 87,
         "facenumber_in_poster": 2,
         "genres": "Comedy|Drama",
         "gross": 3000000,
         "imdb_score": 7.7,
         "language": "English",
         "movie_facebook_likes": 84,
         "movie_imdb_link": "http://www.imdb.com/title/tt3000844/?ref_=fn_tt_tt_1",
         "movie_title": "Signed Sealed Delivered ",
         "num_critic_for_reviews": 1,
         "num_user_for_reviews": 6,
         "num_voted_users": 629,
         "plot_keywords": "fraud|postal worker|prison|theft|trial",
         "title_year": 2013
        },
        {
         "_deepnote_index_column": 5039,
         "actor_1_facebook_likes": 841,
         "actor_1_name": "Natalie Zea",
         "actor_2_facebook_likes": 593,
         "actor_2_name": "Valorie Curry",
         "actor_3_facebook_likes": 319,
         "actor_3_name": "Sam Underwood",
         "aspect_ratio": 16,
         "budget": 20000000,
         "cast_total_facebook_likes": 1753,
         "color": "Color",
         "content_rating": "TV-14",
         "country": "USA",
         "director_facebook_likes": 0,
         "director_name": "Steven Spielberg",
         "duration": 43,
         "facenumber_in_poster": 1,
         "genres": "Crime|Drama|Mystery|Thriller",
         "gross": 3000000,
         "imdb_score": 7.5,
         "language": "English",
         "movie_facebook_likes": 32000,
         "movie_imdb_link": "http://www.imdb.com/title/tt2071645/?ref_=fn_tt_tt_1",
         "movie_title": "The Following             ",
         "num_critic_for_reviews": 43,
         "num_user_for_reviews": 359,
         "num_voted_users": 73839,
         "plot_keywords": "cult|fbi|hideout|prison escape|serial killer",
         "title_year": 2009
        },
        {
         "_deepnote_index_column": 5040,
         "actor_1_facebook_likes": 0,
         "actor_1_name": "Eva Boehnke",
         "actor_2_facebook_likes": 0,
         "actor_2_name": "Maxwell Moody",
         "actor_3_facebook_likes": 0,
         "actor_3_name": "David Chandler",
         "aspect_ratio": 2.35,
         "budget": 1400,
         "cast_total_facebook_likes": 0,
         "color": "Color",
         "content_rating": "R",
         "country": "USA",
         "director_facebook_likes": 0,
         "director_name": "Benjamin Roberds",
         "duration": 76,
         "facenumber_in_poster": 0,
         "genres": "Drama|Horror|Thriller",
         "gross": 3000000,
         "imdb_score": 6.3,
         "language": "English",
         "movie_facebook_likes": 16,
         "movie_imdb_link": "http://www.imdb.com/title/tt2107644/?ref_=fn_tt_tt_1",
         "movie_title": "A Plague So Pleasant ",
         "num_critic_for_reviews": 13,
         "num_user_for_reviews": 3,
         "num_voted_users": 38,
         "plot_keywords": "based on novel",
         "title_year": 2013
        },
        {
         "_deepnote_index_column": 5041,
         "actor_1_facebook_likes": 946,
         "actor_1_name": "Alan Ruck",
         "actor_2_facebook_likes": 719,
         "actor_2_name": "Daniel Henney",
         "actor_3_facebook_likes": 489,
         "actor_3_name": "Eliza Coupe",
         "aspect_ratio": 2.35,
         "budget": 20000000,
         "cast_total_facebook_likes": 2386,
         "color": "Color",
         "content_rating": "PG-13",
         "country": "USA",
         "director_facebook_likes": 0,
         "director_name": "Daniel Hsia",
         "duration": 100,
         "facenumber_in_poster": 5,
         "genres": "Comedy|Drama|Romance",
         "gross": 10443,
         "imdb_score": 6.3,
         "language": "English",
         "movie_facebook_likes": 660,
         "movie_imdb_link": "http://www.imdb.com/title/tt2070597/?ref_=fn_tt_tt_1",
         "movie_title": "Shanghai Calling ",
         "num_critic_for_reviews": 14,
         "num_user_for_reviews": 9,
         "num_voted_users": 1255,
         "plot_keywords": "based on novel",
         "title_year": 2012
        },
        {
         "_deepnote_index_column": 5042,
         "actor_1_facebook_likes": 86,
         "actor_1_name": "John August",
         "actor_2_facebook_likes": 23,
         "actor_2_name": "Brian Herzlinger",
         "actor_3_facebook_likes": 16,
         "actor_3_name": "Jon Gunn",
         "aspect_ratio": 1.85,
         "budget": 1100,
         "cast_total_facebook_likes": 163,
         "color": "Color",
         "content_rating": "PG",
         "country": "USA",
         "director_facebook_likes": 16,
         "director_name": "Jon Gunn",
         "duration": 90,
         "facenumber_in_poster": 0,
         "genres": "Documentary",
         "gross": 85222,
         "imdb_score": 6.6,
         "language": "English",
         "movie_facebook_likes": 456,
         "movie_imdb_link": "http://www.imdb.com/title/tt0378407/?ref_=fn_tt_tt_1",
         "movie_title": "My Date with Drew ",
         "num_critic_for_reviews": 43,
         "num_user_for_reviews": 84,
         "num_voted_users": 4285,
         "plot_keywords": "actress name in title|crush|date|four word title|video camera",
         "title_year": 2004
        }
       ],
       "rows_top": [
        {
         "_deepnote_index_column": 0,
         "actor_1_facebook_likes": 1000,
         "actor_1_name": "CCH Pounder",
         "actor_2_facebook_likes": 936,
         "actor_2_name": "Joel David Moore",
         "actor_3_facebook_likes": 855,
         "actor_3_name": "Wes Studi",
         "aspect_ratio": 1.78,
         "budget": 237000000,
         "cast_total_facebook_likes": 4834,
         "color": "Color",
         "content_rating": "PG-13",
         "country": "USA",
         "director_facebook_likes": 0,
         "director_name": "James Cameron",
         "duration": 178,
         "facenumber_in_poster": 0,
         "genres": "Action|Adventure|Fantasy|Sci-Fi",
         "gross": 760505847,
         "imdb_score": 7.9,
         "language": "English",
         "movie_facebook_likes": 33000,
         "movie_imdb_link": "http://www.imdb.com/title/tt0499549/?ref_=fn_tt_tt_1",
         "movie_title": "Avatar ",
         "num_critic_for_reviews": 723,
         "num_user_for_reviews": 3054,
         "num_voted_users": 886204,
         "plot_keywords": "avatar|future|marine|native|paraplegic",
         "title_year": 2009
        },
        {
         "_deepnote_index_column": 1,
         "actor_1_facebook_likes": 40000,
         "actor_1_name": "Johnny Depp",
         "actor_2_facebook_likes": 5000,
         "actor_2_name": "Orlando Bloom",
         "actor_3_facebook_likes": 1000,
         "actor_3_name": "Jack Davenport",
         "aspect_ratio": 2.35,
         "budget": 300000000,
         "cast_total_facebook_likes": 48350,
         "color": "Color",
         "content_rating": "PG-13",
         "country": "USA",
         "director_facebook_likes": 563,
         "director_name": "Gore Verbinski",
         "duration": 169,
         "facenumber_in_poster": 0,
         "genres": "Action|Adventure|Fantasy",
         "gross": 309404152,
         "imdb_score": 7.1,
         "language": "English",
         "movie_facebook_likes": 0,
         "movie_imdb_link": "http://www.imdb.com/title/tt0449088/?ref_=fn_tt_tt_1",
         "movie_title": "Pirates of the Caribbean: At World's End ",
         "num_critic_for_reviews": 302,
         "num_user_for_reviews": 1238,
         "num_voted_users": 471220,
         "plot_keywords": "goddess|marriage ceremony|marriage proposal|pirate|singapore",
         "title_year": 2007
        },
        {
         "_deepnote_index_column": 2,
         "actor_1_facebook_likes": 11000,
         "actor_1_name": "Christoph Waltz",
         "actor_2_facebook_likes": 393,
         "actor_2_name": "Rory Kinnear",
         "actor_3_facebook_likes": 161,
         "actor_3_name": "Stephanie Sigman",
         "aspect_ratio": 2.35,
         "budget": 245000000,
         "cast_total_facebook_likes": 11700,
         "color": "Color",
         "content_rating": "PG-13",
         "country": "UK",
         "director_facebook_likes": 0,
         "director_name": "Sam Mendes",
         "duration": 148,
         "facenumber_in_poster": 1,
         "genres": "Action|Adventure|Thriller",
         "gross": 200074175,
         "imdb_score": 6.8,
         "language": "English",
         "movie_facebook_likes": 85000,
         "movie_imdb_link": "http://www.imdb.com/title/tt2379713/?ref_=fn_tt_tt_1",
         "movie_title": "Spectre ",
         "num_critic_for_reviews": 602,
         "num_user_for_reviews": 994,
         "num_voted_users": 275868,
         "plot_keywords": "bomb|espionage|sequel|spy|terrorist",
         "title_year": 2015
        },
        {
         "_deepnote_index_column": 3,
         "actor_1_facebook_likes": 27000,
         "actor_1_name": "Tom Hardy",
         "actor_2_facebook_likes": 23000,
         "actor_2_name": "Christian Bale",
         "actor_3_facebook_likes": 23000,
         "actor_3_name": "Joseph Gordon-Levitt",
         "aspect_ratio": 2.35,
         "budget": 250000000,
         "cast_total_facebook_likes": 106759,
         "color": "Color",
         "content_rating": "PG-13",
         "country": "USA",
         "director_facebook_likes": 22000,
         "director_name": "Christopher Nolan",
         "duration": 164,
         "facenumber_in_poster": 0,
         "genres": "Action|Thriller",
         "gross": 448130642,
         "imdb_score": 8.5,
         "language": "English",
         "movie_facebook_likes": 164000,
         "movie_imdb_link": "http://www.imdb.com/title/tt1345836/?ref_=fn_tt_tt_1",
         "movie_title": "The Dark Knight Rises ",
         "num_critic_for_reviews": 813,
         "num_user_for_reviews": 2701,
         "num_voted_users": 1144337,
         "plot_keywords": "deception|imprisonment|lawlessness|police officer|terrorist plot",
         "title_year": 2012
        },
        {
         "_deepnote_index_column": 4,
         "actor_1_facebook_likes": 131,
         "actor_1_name": "Doug Walker",
         "actor_2_facebook_likes": 12,
         "actor_2_name": "Rob Walker",
         "actor_3_facebook_likes": 1000,
         "actor_3_name": "Ben Mendelsohn",
         "aspect_ratio": 2.35,
         "budget": 20000000,
         "cast_total_facebook_likes": 143,
         "color": "Color",
         "content_rating": "R",
         "country": "USA",
         "director_facebook_likes": 131,
         "director_name": "Doug Walker",
         "duration": 90,
         "facenumber_in_poster": 0,
         "genres": "Documentary",
         "gross": 3000000,
         "imdb_score": 7.1,
         "language": "English",
         "movie_facebook_likes": 0,
         "movie_imdb_link": "http://www.imdb.com/title/tt5289954/?ref_=fn_tt_tt_1",
         "movie_title": "Star Wars: Episode VII - The Force Awakens             ",
         "num_critic_for_reviews": 1,
         "num_user_for_reviews": 1,
         "num_voted_users": 8,
         "plot_keywords": "based on novel",
         "title_year": 2009
        },
        {
         "_deepnote_index_column": 5,
         "actor_1_facebook_likes": 640,
         "actor_1_name": "Daryl Sabara",
         "actor_2_facebook_likes": 632,
         "actor_2_name": "Samantha Morton",
         "actor_3_facebook_likes": 530,
         "actor_3_name": "Polly Walker",
         "aspect_ratio": 2.35,
         "budget": 263700000,
         "cast_total_facebook_likes": 1873,
         "color": "Color",
         "content_rating": "PG-13",
         "country": "USA",
         "director_facebook_likes": 475,
         "director_name": "Andrew Stanton",
         "duration": 132,
         "facenumber_in_poster": 1,
         "genres": "Action|Adventure|Sci-Fi",
         "gross": 73058679,
         "imdb_score": 6.6,
         "language": "English",
         "movie_facebook_likes": 24000,
         "movie_imdb_link": "http://www.imdb.com/title/tt0401729/?ref_=fn_tt_tt_1",
         "movie_title": "John Carter ",
         "num_critic_for_reviews": 462,
         "num_user_for_reviews": 738,
         "num_voted_users": 212204,
         "plot_keywords": "alien|american civil war|male nipple|mars|princess",
         "title_year": 2012
        },
        {
         "_deepnote_index_column": 6,
         "actor_1_facebook_likes": 24000,
         "actor_1_name": "J.K. Simmons",
         "actor_2_facebook_likes": 11000,
         "actor_2_name": "James Franco",
         "actor_3_facebook_likes": 4000,
         "actor_3_name": "Kirsten Dunst",
         "aspect_ratio": 2.35,
         "budget": 258000000,
         "cast_total_facebook_likes": 46055,
         "color": "Color",
         "content_rating": "PG-13",
         "country": "USA",
         "director_facebook_likes": 0,
         "director_name": "Sam Raimi",
         "duration": 156,
         "facenumber_in_poster": 0,
         "genres": "Action|Adventure|Romance",
         "gross": 336530303,
         "imdb_score": 6.2,
         "language": "English",
         "movie_facebook_likes": 0,
         "movie_imdb_link": "http://www.imdb.com/title/tt0413300/?ref_=fn_tt_tt_1",
         "movie_title": "Spider-Man 3 ",
         "num_critic_for_reviews": 392,
         "num_user_for_reviews": 1902,
         "num_voted_users": 383056,
         "plot_keywords": "sandman|spider man|symbiote|venom|villain",
         "title_year": 2007
        },
        {
         "_deepnote_index_column": 7,
         "actor_1_facebook_likes": 799,
         "actor_1_name": "Brad Garrett",
         "actor_2_facebook_likes": 553,
         "actor_2_name": "Donna Murphy",
         "actor_3_facebook_likes": 284,
         "actor_3_name": "M.C. Gainey",
         "aspect_ratio": 1.85,
         "budget": 260000000,
         "cast_total_facebook_likes": 2036,
         "color": "Color",
         "content_rating": "PG",
         "country": "USA",
         "director_facebook_likes": 15,
         "director_name": "Nathan Greno",
         "duration": 100,
         "facenumber_in_poster": 1,
         "genres": "Adventure|Animation|Comedy|Family|Fantasy|Musical|Romance",
         "gross": 200807262,
         "imdb_score": 7.8,
         "language": "English",
         "movie_facebook_likes": 29000,
         "movie_imdb_link": "http://www.imdb.com/title/tt0398286/?ref_=fn_tt_tt_1",
         "movie_title": "Tangled ",
         "num_critic_for_reviews": 324,
         "num_user_for_reviews": 387,
         "num_voted_users": 294810,
         "plot_keywords": "17th century|based on fairy tale|disney|flower|tower",
         "title_year": 2010
        },
        {
         "_deepnote_index_column": 8,
         "actor_1_facebook_likes": 26000,
         "actor_1_name": "Chris Hemsworth",
         "actor_2_facebook_likes": 21000,
         "actor_2_name": "Robert Downey Jr.",
         "actor_3_facebook_likes": 19000,
         "actor_3_name": "Scarlett Johansson",
         "aspect_ratio": 2.35,
         "budget": 250000000,
         "cast_total_facebook_likes": 92000,
         "color": "Color",
         "content_rating": "PG-13",
         "country": "USA",
         "director_facebook_likes": 0,
         "director_name": "Joss Whedon",
         "duration": 141,
         "facenumber_in_poster": 4,
         "genres": "Action|Adventure|Sci-Fi",
         "gross": 458991599,
         "imdb_score": 7.5,
         "language": "English",
         "movie_facebook_likes": 118000,
         "movie_imdb_link": "http://www.imdb.com/title/tt2395427/?ref_=fn_tt_tt_1",
         "movie_title": "Avengers: Age of Ultron ",
         "num_critic_for_reviews": 635,
         "num_user_for_reviews": 1117,
         "num_voted_users": 462669,
         "plot_keywords": "artificial intelligence|based on comic book|captain america|marvel cinematic universe|superhero",
         "title_year": 2015
        },
        {
         "_deepnote_index_column": 9,
         "actor_1_facebook_likes": 25000,
         "actor_1_name": "Alan Rickman",
         "actor_2_facebook_likes": 11000,
         "actor_2_name": "Daniel Radcliffe",
         "actor_3_facebook_likes": 10000,
         "actor_3_name": "Rupert Grint",
         "aspect_ratio": 2.35,
         "budget": 250000000,
         "cast_total_facebook_likes": 58753,
         "color": "Color",
         "content_rating": "PG",
         "country": "UK",
         "director_facebook_likes": 282,
         "director_name": "David Yates",
         "duration": 153,
         "facenumber_in_poster": 3,
         "genres": "Adventure|Family|Fantasy|Mystery",
         "gross": 301956980,
         "imdb_score": 7.5,
         "language": "English",
         "movie_facebook_likes": 10000,
         "movie_imdb_link": "http://www.imdb.com/title/tt0417741/?ref_=fn_tt_tt_1",
         "movie_title": "Harry Potter and the Half-Blood Prince ",
         "num_critic_for_reviews": 375,
         "num_user_for_reviews": 973,
         "num_voted_users": 321795,
         "plot_keywords": "blood|book|love|potion|professor",
         "title_year": 2009
        },
        {
         "_deepnote_index_column": 10,
         "actor_1_facebook_likes": 15000,
         "actor_1_name": "Henry Cavill",
         "actor_2_facebook_likes": 4000,
         "actor_2_name": "Lauren Cohan",
         "actor_3_facebook_likes": 2000,
         "actor_3_name": "Alan D. Purwin",
         "aspect_ratio": 2.35,
         "budget": 250000000,
         "cast_total_facebook_likes": 24450,
         "color": "Color",
         "content_rating": "PG-13",
         "country": "USA",
         "director_facebook_likes": 0,
         "director_name": "Zack Snyder",
         "duration": 183,
         "facenumber_in_poster": 0,
         "genres": "Action|Adventure|Sci-Fi",
         "gross": 330249062,
         "imdb_score": 6.9,
         "language": "English",
         "movie_facebook_likes": 197000,
         "movie_imdb_link": "http://www.imdb.com/title/tt2975590/?ref_=fn_tt_tt_1",
         "movie_title": "Batman v Superman: Dawn of Justice ",
         "num_critic_for_reviews": 673,
         "num_user_for_reviews": 3018,
         "num_voted_users": 371639,
         "plot_keywords": "based on comic book|batman|sequel to a reboot|superhero|superman",
         "title_year": 2016
        },
        {
         "_deepnote_index_column": 11,
         "actor_1_facebook_likes": 18000,
         "actor_1_name": "Kevin Spacey",
         "actor_2_facebook_likes": 10000,
         "actor_2_name": "Marlon Brando",
         "actor_3_facebook_likes": 903,
         "actor_3_name": "Frank Langella",
         "aspect_ratio": 2.35,
         "budget": 209000000,
         "cast_total_facebook_likes": 29991,
         "color": "Color",
         "content_rating": "PG-13",
         "country": "USA",
         "director_facebook_likes": 0,
         "director_name": "Bryan Singer",
         "duration": 169,
         "facenumber_in_poster": 0,
         "genres": "Action|Adventure|Sci-Fi",
         "gross": 200069408,
         "imdb_score": 6.1,
         "language": "English",
         "movie_facebook_likes": 0,
         "movie_imdb_link": "http://www.imdb.com/title/tt0348150/?ref_=fn_tt_tt_1",
         "movie_title": "Superman Returns ",
         "num_critic_for_reviews": 434,
         "num_user_for_reviews": 2367,
         "num_voted_users": 240396,
         "plot_keywords": "crystal|epic|lex luthor|lois lane|return to earth",
         "title_year": 2006
        },
        {
         "_deepnote_index_column": 12,
         "actor_1_facebook_likes": 451,
         "actor_1_name": "Giancarlo Giannini",
         "actor_2_facebook_likes": 412,
         "actor_2_name": "Mathieu Amalric",
         "actor_3_facebook_likes": 393,
         "actor_3_name": "Rory Kinnear",
         "aspect_ratio": 2.35,
         "budget": 200000000,
         "cast_total_facebook_likes": 2023,
         "color": "Color",
         "content_rating": "PG-13",
         "country": "UK",
         "director_facebook_likes": 395,
         "director_name": "Marc Forster",
         "duration": 106,
         "facenumber_in_poster": 1,
         "genres": "Action|Adventure",
         "gross": 168368427,
         "imdb_score": 6.7,
         "language": "English",
         "movie_facebook_likes": 0,
         "movie_imdb_link": "http://www.imdb.com/title/tt0830515/?ref_=fn_tt_tt_1",
         "movie_title": "Quantum of Solace ",
         "num_critic_for_reviews": 403,
         "num_user_for_reviews": 1243,
         "num_voted_users": 330784,
         "plot_keywords": "action hero|attempted rape|bond girl|official james bond series|revenge",
         "title_year": 2008
        },
        {
         "_deepnote_index_column": 13,
         "actor_1_facebook_likes": 40000,
         "actor_1_name": "Johnny Depp",
         "actor_2_facebook_likes": 5000,
         "actor_2_name": "Orlando Bloom",
         "actor_3_facebook_likes": 1000,
         "actor_3_name": "Jack Davenport",
         "aspect_ratio": 2.35,
         "budget": 225000000,
         "cast_total_facebook_likes": 48486,
         "color": "Color",
         "content_rating": "PG-13",
         "country": "USA",
         "director_facebook_likes": 563,
         "director_name": "Gore Verbinski",
         "duration": 151,
         "facenumber_in_poster": 2,
         "genres": "Action|Adventure|Fantasy",
         "gross": 423032628,
         "imdb_score": 7.3,
         "language": "English",
         "movie_facebook_likes": 5000,
         "movie_imdb_link": "http://www.imdb.com/title/tt0383574/?ref_=fn_tt_tt_1",
         "movie_title": "Pirates of the Caribbean: Dead Man's Chest ",
         "num_critic_for_reviews": 313,
         "num_user_for_reviews": 1832,
         "num_voted_users": 522040,
         "plot_keywords": "box office hit|giant squid|heart|liar's dice|monster",
         "title_year": 2006
        },
        {
         "_deepnote_index_column": 14,
         "actor_1_facebook_likes": 40000,
         "actor_1_name": "Johnny Depp",
         "actor_2_facebook_likes": 2000,
         "actor_2_name": "Ruth Wilson",
         "actor_3_facebook_likes": 1000,
         "actor_3_name": "Tom Wilkinson",
         "aspect_ratio": 2.35,
         "budget": 215000000,
         "cast_total_facebook_likes": 45757,
         "color": "Color",
         "content_rating": "PG-13",
         "country": "USA",
         "director_facebook_likes": 563,
         "director_name": "Gore Verbinski",
         "duration": 150,
         "facenumber_in_poster": 1,
         "genres": "Action|Adventure|Western",
         "gross": 89289910,
         "imdb_score": 6.5,
         "language": "English",
         "movie_facebook_likes": 48000,
         "movie_imdb_link": "http://www.imdb.com/title/tt1210819/?ref_=fn_tt_tt_1",
         "movie_title": "The Lone Ranger ",
         "num_critic_for_reviews": 450,
         "num_user_for_reviews": 711,
         "num_voted_users": 181792,
         "plot_keywords": "horse|outlaw|texas|texas ranger|train",
         "title_year": 2013
        },
        {
         "_deepnote_index_column": 15,
         "actor_1_facebook_likes": 15000,
         "actor_1_name": "Henry Cavill",
         "actor_2_facebook_likes": 3000,
         "actor_2_name": "Christopher Meloni",
         "actor_3_facebook_likes": 748,
         "actor_3_name": "Harry Lennix",
         "aspect_ratio": 2.35,
         "budget": 225000000,
         "cast_total_facebook_likes": 20495,
         "color": "Color",
         "content_rating": "PG-13",
         "country": "USA",
         "director_facebook_likes": 0,
         "director_name": "Zack Snyder",
         "duration": 143,
         "facenumber_in_poster": 0,
         "genres": "Action|Adventure|Fantasy|Sci-Fi",
         "gross": 291021565,
         "imdb_score": 7.2,
         "language": "English",
         "movie_facebook_likes": 118000,
         "movie_imdb_link": "http://www.imdb.com/title/tt0770828/?ref_=fn_tt_tt_1",
         "movie_title": "Man of Steel ",
         "num_critic_for_reviews": 733,
         "num_user_for_reviews": 2536,
         "num_voted_users": 548573,
         "plot_keywords": "based on comic book|british actor playing american character|final battle|origin of hero|reboot",
         "title_year": 2013
        },
        {
         "_deepnote_index_column": 16,
         "actor_1_facebook_likes": 22000,
         "actor_1_name": "Peter Dinklage",
         "actor_2_facebook_likes": 216,
         "actor_2_name": "Pierfrancesco Favino",
         "actor_3_facebook_likes": 201,
         "actor_3_name": "Damián Alcázar",
         "aspect_ratio": 2.35,
         "budget": 225000000,
         "cast_total_facebook_likes": 22697,
         "color": "Color",
         "content_rating": "PG",
         "country": "USA",
         "director_facebook_likes": 80,
         "director_name": "Andrew Adamson",
         "duration": 150,
         "facenumber_in_poster": 4,
         "genres": "Action|Adventure|Family|Fantasy",
         "gross": 141614023,
         "imdb_score": 6.6,
         "language": "English",
         "movie_facebook_likes": 0,
         "movie_imdb_link": "http://www.imdb.com/title/tt0499448/?ref_=fn_tt_tt_1",
         "movie_title": "The Chronicles of Narnia: Prince Caspian ",
         "num_critic_for_reviews": 258,
         "num_user_for_reviews": 438,
         "num_voted_users": 149922,
         "plot_keywords": "brother brother relationship|brother sister relationship|good versus evil|king|narnia",
         "title_year": 2008
        }
       ]
      },
      "text/html": [
       "<div>\n",
       "<style scoped>\n",
       "    .dataframe tbody tr th:only-of-type {\n",
       "        vertical-align: middle;\n",
       "    }\n",
       "\n",
       "    .dataframe tbody tr th {\n",
       "        vertical-align: top;\n",
       "    }\n",
       "\n",
       "    .dataframe thead th {\n",
       "        text-align: right;\n",
       "    }\n",
       "</style>\n",
       "<table border=\"1\" class=\"dataframe\">\n",
       "  <thead>\n",
       "    <tr style=\"text-align: right;\">\n",
       "      <th></th>\n",
       "      <th>color</th>\n",
       "      <th>director_name</th>\n",
       "      <th>num_critic_for_reviews</th>\n",
       "      <th>duration</th>\n",
       "      <th>director_facebook_likes</th>\n",
       "      <th>actor_3_facebook_likes</th>\n",
       "      <th>actor_2_name</th>\n",
       "      <th>actor_1_facebook_likes</th>\n",
       "      <th>gross</th>\n",
       "      <th>genres</th>\n",
       "      <th>...</th>\n",
       "      <th>num_user_for_reviews</th>\n",
       "      <th>language</th>\n",
       "      <th>country</th>\n",
       "      <th>content_rating</th>\n",
       "      <th>budget</th>\n",
       "      <th>title_year</th>\n",
       "      <th>actor_2_facebook_likes</th>\n",
       "      <th>imdb_score</th>\n",
       "      <th>aspect_ratio</th>\n",
       "      <th>movie_facebook_likes</th>\n",
       "    </tr>\n",
       "  </thead>\n",
       "  <tbody>\n",
       "    <tr>\n",
       "      <th>0</th>\n",
       "      <td>Color</td>\n",
       "      <td>James Cameron</td>\n",
       "      <td>723.0</td>\n",
       "      <td>178.0</td>\n",
       "      <td>0.0</td>\n",
       "      <td>855.0</td>\n",
       "      <td>Joel David Moore</td>\n",
       "      <td>1000.0</td>\n",
       "      <td>760505847.0</td>\n",
       "      <td>Action|Adventure|Fantasy|Sci-Fi</td>\n",
       "      <td>...</td>\n",
       "      <td>3054.0</td>\n",
       "      <td>English</td>\n",
       "      <td>USA</td>\n",
       "      <td>PG-13</td>\n",
       "      <td>237000000.0</td>\n",
       "      <td>2009.0</td>\n",
       "      <td>936.0</td>\n",
       "      <td>7.9</td>\n",
       "      <td>1.78</td>\n",
       "      <td>33000.0</td>\n",
       "    </tr>\n",
       "    <tr>\n",
       "      <th>1</th>\n",
       "      <td>Color</td>\n",
       "      <td>Gore Verbinski</td>\n",
       "      <td>302.0</td>\n",
       "      <td>169.0</td>\n",
       "      <td>563.0</td>\n",
       "      <td>1000.0</td>\n",
       "      <td>Orlando Bloom</td>\n",
       "      <td>40000.0</td>\n",
       "      <td>309404152.0</td>\n",
       "      <td>Action|Adventure|Fantasy</td>\n",
       "      <td>...</td>\n",
       "      <td>1238.0</td>\n",
       "      <td>English</td>\n",
       "      <td>USA</td>\n",
       "      <td>PG-13</td>\n",
       "      <td>300000000.0</td>\n",
       "      <td>2007.0</td>\n",
       "      <td>5000.0</td>\n",
       "      <td>7.1</td>\n",
       "      <td>2.35</td>\n",
       "      <td>0.0</td>\n",
       "    </tr>\n",
       "    <tr>\n",
       "      <th>2</th>\n",
       "      <td>Color</td>\n",
       "      <td>Sam Mendes</td>\n",
       "      <td>602.0</td>\n",
       "      <td>148.0</td>\n",
       "      <td>0.0</td>\n",
       "      <td>161.0</td>\n",
       "      <td>Rory Kinnear</td>\n",
       "      <td>11000.0</td>\n",
       "      <td>200074175.0</td>\n",
       "      <td>Action|Adventure|Thriller</td>\n",
       "      <td>...</td>\n",
       "      <td>994.0</td>\n",
       "      <td>English</td>\n",
       "      <td>UK</td>\n",
       "      <td>PG-13</td>\n",
       "      <td>245000000.0</td>\n",
       "      <td>2015.0</td>\n",
       "      <td>393.0</td>\n",
       "      <td>6.8</td>\n",
       "      <td>2.35</td>\n",
       "      <td>85000.0</td>\n",
       "    </tr>\n",
       "    <tr>\n",
       "      <th>3</th>\n",
       "      <td>Color</td>\n",
       "      <td>Christopher Nolan</td>\n",
       "      <td>813.0</td>\n",
       "      <td>164.0</td>\n",
       "      <td>22000.0</td>\n",
       "      <td>23000.0</td>\n",
       "      <td>Christian Bale</td>\n",
       "      <td>27000.0</td>\n",
       "      <td>448130642.0</td>\n",
       "      <td>Action|Thriller</td>\n",
       "      <td>...</td>\n",
       "      <td>2701.0</td>\n",
       "      <td>English</td>\n",
       "      <td>USA</td>\n",
       "      <td>PG-13</td>\n",
       "      <td>250000000.0</td>\n",
       "      <td>2012.0</td>\n",
       "      <td>23000.0</td>\n",
       "      <td>8.5</td>\n",
       "      <td>2.35</td>\n",
       "      <td>164000.0</td>\n",
       "    </tr>\n",
       "    <tr>\n",
       "      <th>4</th>\n",
       "      <td>Color</td>\n",
       "      <td>Doug Walker</td>\n",
       "      <td>1.0</td>\n",
       "      <td>90.0</td>\n",
       "      <td>131.0</td>\n",
       "      <td>1000.0</td>\n",
       "      <td>Rob Walker</td>\n",
       "      <td>131.0</td>\n",
       "      <td>3000000.0</td>\n",
       "      <td>Documentary</td>\n",
       "      <td>...</td>\n",
       "      <td>1.0</td>\n",
       "      <td>English</td>\n",
       "      <td>USA</td>\n",
       "      <td>R</td>\n",
       "      <td>20000000.0</td>\n",
       "      <td>2009.0</td>\n",
       "      <td>12.0</td>\n",
       "      <td>7.1</td>\n",
       "      <td>2.35</td>\n",
       "      <td>0.0</td>\n",
       "    </tr>\n",
       "    <tr>\n",
       "      <th>...</th>\n",
       "      <td>...</td>\n",
       "      <td>...</td>\n",
       "      <td>...</td>\n",
       "      <td>...</td>\n",
       "      <td>...</td>\n",
       "      <td>...</td>\n",
       "      <td>...</td>\n",
       "      <td>...</td>\n",
       "      <td>...</td>\n",
       "      <td>...</td>\n",
       "      <td>...</td>\n",
       "      <td>...</td>\n",
       "      <td>...</td>\n",
       "      <td>...</td>\n",
       "      <td>...</td>\n",
       "      <td>...</td>\n",
       "      <td>...</td>\n",
       "      <td>...</td>\n",
       "      <td>...</td>\n",
       "      <td>...</td>\n",
       "      <td>...</td>\n",
       "    </tr>\n",
       "    <tr>\n",
       "      <th>5038</th>\n",
       "      <td>Color</td>\n",
       "      <td>Scott Smith</td>\n",
       "      <td>1.0</td>\n",
       "      <td>87.0</td>\n",
       "      <td>2.0</td>\n",
       "      <td>318.0</td>\n",
       "      <td>Daphne Zuniga</td>\n",
       "      <td>637.0</td>\n",
       "      <td>3000000.0</td>\n",
       "      <td>Comedy|Drama</td>\n",
       "      <td>...</td>\n",
       "      <td>6.0</td>\n",
       "      <td>English</td>\n",
       "      <td>Canada</td>\n",
       "      <td>R</td>\n",
       "      <td>20000000.0</td>\n",
       "      <td>2013.0</td>\n",
       "      <td>470.0</td>\n",
       "      <td>7.7</td>\n",
       "      <td>2.35</td>\n",
       "      <td>84.0</td>\n",
       "    </tr>\n",
       "    <tr>\n",
       "      <th>5039</th>\n",
       "      <td>Color</td>\n",
       "      <td>Steven Spielberg</td>\n",
       "      <td>43.0</td>\n",
       "      <td>43.0</td>\n",
       "      <td>0.0</td>\n",
       "      <td>319.0</td>\n",
       "      <td>Valorie Curry</td>\n",
       "      <td>841.0</td>\n",
       "      <td>3000000.0</td>\n",
       "      <td>Crime|Drama|Mystery|Thriller</td>\n",
       "      <td>...</td>\n",
       "      <td>359.0</td>\n",
       "      <td>English</td>\n",
       "      <td>USA</td>\n",
       "      <td>TV-14</td>\n",
       "      <td>20000000.0</td>\n",
       "      <td>2009.0</td>\n",
       "      <td>593.0</td>\n",
       "      <td>7.5</td>\n",
       "      <td>16.00</td>\n",
       "      <td>32000.0</td>\n",
       "    </tr>\n",
       "    <tr>\n",
       "      <th>5040</th>\n",
       "      <td>Color</td>\n",
       "      <td>Benjamin Roberds</td>\n",
       "      <td>13.0</td>\n",
       "      <td>76.0</td>\n",
       "      <td>0.0</td>\n",
       "      <td>0.0</td>\n",
       "      <td>Maxwell Moody</td>\n",
       "      <td>0.0</td>\n",
       "      <td>3000000.0</td>\n",
       "      <td>Drama|Horror|Thriller</td>\n",
       "      <td>...</td>\n",
       "      <td>3.0</td>\n",
       "      <td>English</td>\n",
       "      <td>USA</td>\n",
       "      <td>R</td>\n",
       "      <td>1400.0</td>\n",
       "      <td>2013.0</td>\n",
       "      <td>0.0</td>\n",
       "      <td>6.3</td>\n",
       "      <td>2.35</td>\n",
       "      <td>16.0</td>\n",
       "    </tr>\n",
       "    <tr>\n",
       "      <th>5041</th>\n",
       "      <td>Color</td>\n",
       "      <td>Daniel Hsia</td>\n",
       "      <td>14.0</td>\n",
       "      <td>100.0</td>\n",
       "      <td>0.0</td>\n",
       "      <td>489.0</td>\n",
       "      <td>Daniel Henney</td>\n",
       "      <td>946.0</td>\n",
       "      <td>10443.0</td>\n",
       "      <td>Comedy|Drama|Romance</td>\n",
       "      <td>...</td>\n",
       "      <td>9.0</td>\n",
       "      <td>English</td>\n",
       "      <td>USA</td>\n",
       "      <td>PG-13</td>\n",
       "      <td>20000000.0</td>\n",
       "      <td>2012.0</td>\n",
       "      <td>719.0</td>\n",
       "      <td>6.3</td>\n",
       "      <td>2.35</td>\n",
       "      <td>660.0</td>\n",
       "    </tr>\n",
       "    <tr>\n",
       "      <th>5042</th>\n",
       "      <td>Color</td>\n",
       "      <td>Jon Gunn</td>\n",
       "      <td>43.0</td>\n",
       "      <td>90.0</td>\n",
       "      <td>16.0</td>\n",
       "      <td>16.0</td>\n",
       "      <td>Brian Herzlinger</td>\n",
       "      <td>86.0</td>\n",
       "      <td>85222.0</td>\n",
       "      <td>Documentary</td>\n",
       "      <td>...</td>\n",
       "      <td>84.0</td>\n",
       "      <td>English</td>\n",
       "      <td>USA</td>\n",
       "      <td>PG</td>\n",
       "      <td>1100.0</td>\n",
       "      <td>2004.0</td>\n",
       "      <td>23.0</td>\n",
       "      <td>6.6</td>\n",
       "      <td>1.85</td>\n",
       "      <td>456.0</td>\n",
       "    </tr>\n",
       "  </tbody>\n",
       "</table>\n",
       "<p>5043 rows × 28 columns</p>\n",
       "</div>"
      ],
      "text/plain": [
       "      color      director_name  num_critic_for_reviews  duration  \\\n",
       "0     Color      James Cameron                   723.0     178.0   \n",
       "1     Color     Gore Verbinski                   302.0     169.0   \n",
       "2     Color         Sam Mendes                   602.0     148.0   \n",
       "3     Color  Christopher Nolan                   813.0     164.0   \n",
       "4     Color        Doug Walker                     1.0      90.0   \n",
       "...     ...                ...                     ...       ...   \n",
       "5038  Color        Scott Smith                     1.0      87.0   \n",
       "5039  Color   Steven Spielberg                    43.0      43.0   \n",
       "5040  Color   Benjamin Roberds                    13.0      76.0   \n",
       "5041  Color        Daniel Hsia                    14.0     100.0   \n",
       "5042  Color           Jon Gunn                    43.0      90.0   \n",
       "\n",
       "      director_facebook_likes  actor_3_facebook_likes      actor_2_name  \\\n",
       "0                         0.0                   855.0  Joel David Moore   \n",
       "1                       563.0                  1000.0     Orlando Bloom   \n",
       "2                         0.0                   161.0      Rory Kinnear   \n",
       "3                     22000.0                 23000.0    Christian Bale   \n",
       "4                       131.0                  1000.0        Rob Walker   \n",
       "...                       ...                     ...               ...   \n",
       "5038                      2.0                   318.0     Daphne Zuniga   \n",
       "5039                      0.0                   319.0     Valorie Curry   \n",
       "5040                      0.0                     0.0     Maxwell Moody   \n",
       "5041                      0.0                   489.0     Daniel Henney   \n",
       "5042                     16.0                    16.0  Brian Herzlinger   \n",
       "\n",
       "      actor_1_facebook_likes        gross                           genres  \\\n",
       "0                     1000.0  760505847.0  Action|Adventure|Fantasy|Sci-Fi   \n",
       "1                    40000.0  309404152.0         Action|Adventure|Fantasy   \n",
       "2                    11000.0  200074175.0        Action|Adventure|Thriller   \n",
       "3                    27000.0  448130642.0                  Action|Thriller   \n",
       "4                      131.0    3000000.0                      Documentary   \n",
       "...                      ...          ...                              ...   \n",
       "5038                   637.0    3000000.0                     Comedy|Drama   \n",
       "5039                   841.0    3000000.0     Crime|Drama|Mystery|Thriller   \n",
       "5040                     0.0    3000000.0            Drama|Horror|Thriller   \n",
       "5041                   946.0      10443.0             Comedy|Drama|Romance   \n",
       "5042                    86.0      85222.0                      Documentary   \n",
       "\n",
       "      ... num_user_for_reviews language  country  content_rating       budget  \\\n",
       "0     ...               3054.0  English      USA           PG-13  237000000.0   \n",
       "1     ...               1238.0  English      USA           PG-13  300000000.0   \n",
       "2     ...                994.0  English       UK           PG-13  245000000.0   \n",
       "3     ...               2701.0  English      USA           PG-13  250000000.0   \n",
       "4     ...                  1.0  English      USA               R   20000000.0   \n",
       "...   ...                  ...      ...      ...             ...          ...   \n",
       "5038  ...                  6.0  English   Canada               R   20000000.0   \n",
       "5039  ...                359.0  English      USA           TV-14   20000000.0   \n",
       "5040  ...                  3.0  English      USA               R       1400.0   \n",
       "5041  ...                  9.0  English      USA           PG-13   20000000.0   \n",
       "5042  ...                 84.0  English      USA              PG       1100.0   \n",
       "\n",
       "      title_year actor_2_facebook_likes imdb_score  aspect_ratio  \\\n",
       "0         2009.0                  936.0        7.9          1.78   \n",
       "1         2007.0                 5000.0        7.1          2.35   \n",
       "2         2015.0                  393.0        6.8          2.35   \n",
       "3         2012.0                23000.0        8.5          2.35   \n",
       "4         2009.0                   12.0        7.1          2.35   \n",
       "...          ...                    ...        ...           ...   \n",
       "5038      2013.0                  470.0        7.7          2.35   \n",
       "5039      2009.0                  593.0        7.5         16.00   \n",
       "5040      2013.0                    0.0        6.3          2.35   \n",
       "5041      2012.0                  719.0        6.3          2.35   \n",
       "5042      2004.0                   23.0        6.6          1.85   \n",
       "\n",
       "     movie_facebook_likes  \n",
       "0                 33000.0  \n",
       "1                     0.0  \n",
       "2                 85000.0  \n",
       "3                164000.0  \n",
       "4                     0.0  \n",
       "...                   ...  \n",
       "5038                 84.0  \n",
       "5039              32000.0  \n",
       "5040                 16.0  \n",
       "5041                660.0  \n",
       "5042                456.0  \n",
       "\n",
       "[5043 rows x 28 columns]"
      ]
     },
     "execution_count": 51,
     "metadata": {},
     "output_type": "execute_result"
    }
   ],
   "source": [
    "data2"
   ]
  },
  {
   "cell_type": "code",
   "execution_count": null,
   "metadata": {
    "cell_id": "00048-0d7c3deb-cd51-4e3c-91d1-e01f25f0663e",
    "deepnote_cell_type": "code",
    "deepnote_to_be_reexecuted": false,
    "execution_millis": 3803,
    "execution_start": 1631382398903,
    "source_hash": "70145ac0",
    "tags": []
   },
   "outputs": [
    {
     "data": {
      "text/plain": [
       "array([[<AxesSubplot:title={'center':'num_critic_for_reviews'}>,\n",
       "        <AxesSubplot:title={'center':'duration'}>,\n",
       "        <AxesSubplot:title={'center':'director_facebook_likes'}>,\n",
       "        <AxesSubplot:title={'center':'actor_3_facebook_likes'}>],\n",
       "       [<AxesSubplot:title={'center':'actor_1_facebook_likes'}>,\n",
       "        <AxesSubplot:title={'center':'gross'}>,\n",
       "        <AxesSubplot:title={'center':'num_voted_users'}>,\n",
       "        <AxesSubplot:title={'center':'cast_total_facebook_likes'}>],\n",
       "       [<AxesSubplot:title={'center':'facenumber_in_poster'}>,\n",
       "        <AxesSubplot:title={'center':'num_user_for_reviews'}>,\n",
       "        <AxesSubplot:title={'center':'budget'}>,\n",
       "        <AxesSubplot:title={'center':'title_year'}>],\n",
       "       [<AxesSubplot:title={'center':'actor_2_facebook_likes'}>,\n",
       "        <AxesSubplot:title={'center':'imdb_score'}>,\n",
       "        <AxesSubplot:title={'center':'aspect_ratio'}>,\n",
       "        <AxesSubplot:title={'center':'movie_facebook_likes'}>]],\n",
       "      dtype=object)"
      ]
     },
     "execution_count": 52,
     "metadata": {},
     "output_type": "execute_result"
    },
    {
     "data": {
      "image/png": "[encoded data removed]",
      "text/plain": [
       "<Figure size 432x288 with 16 Axes>"
      ]
     },
     "metadata": {
      "image/png": {
       "height": 264,
       "width": 426
      },
      "needs_background": "light"
     },
     "output_type": "display_data"
    }
   ],
   "source": [
    "data2.hist()"
   ]
  },
  {
   "cell_type": "code",
   "execution_count": null,
   "metadata": {
    "cell_id": "00049-75a29b2e-c32d-455e-8535-b064eef1d03b",
    "deepnote_cell_type": "code",
    "deepnote_to_be_reexecuted": false,
    "execution_millis": 11906,
    "execution_start": 1631382494415,
    "source_hash": "1d483106",
    "tags": []
   },
   "outputs": [
    {
     "data": {
      "text/plain": [
       "array([<AxesSubplot:ylabel='Density'>, <AxesSubplot:ylabel='Density'>,\n",
       "       <AxesSubplot:ylabel='Density'>, <AxesSubplot:ylabel='Density'>,\n",
       "       <AxesSubplot:ylabel='Density'>, <AxesSubplot:ylabel='Density'>,\n",
       "       <AxesSubplot:ylabel='Density'>, <AxesSubplot:ylabel='Density'>,\n",
       "       <AxesSubplot:ylabel='Density'>, <AxesSubplot:ylabel='Density'>,\n",
       "       <AxesSubplot:ylabel='Density'>, <AxesSubplot:ylabel='Density'>,\n",
       "       <AxesSubplot:ylabel='Density'>, <AxesSubplot:ylabel='Density'>,\n",
       "       <AxesSubplot:ylabel='Density'>, <AxesSubplot:ylabel='Density'>],\n",
       "      dtype=object)"
      ]
     },
     "execution_count": 57,
     "metadata": {},
     "output_type": "execute_result"
    },
    {
     "data": {
      "image/png": "[encoded data removed]",
      "text/plain": [
       "<Figure size 1440x1440 with 16 Axes>"
      ]
     },
     "metadata": {
      "image/png": {
       "height": 1131,
       "width": 1192
      },
      "needs_background": "light"
     },
     "output_type": "display_data"
    }
   ],
   "source": [
    "import matplotlib.pyplot as plt\n",
    "data2.plot(kind='density', subplots=True, figsize=(20,20))"
   ]
  },
  {
   "cell_type": "code",
   "execution_count": null,
   "metadata": {
    "cell_id": "00050-d1697fa0-0c73-48b9-94f8-2cb248b2c6ca",
    "deepnote_cell_type": "code",
    "deepnote_to_be_reexecuted": false,
    "execution_millis": 4901,
    "execution_start": 1631382439703,
    "source_hash": "ab49307",
    "tags": []
   },
   "outputs": [
    {
     "data": {
      "text/plain": [
       "<AxesSubplot:>"
      ]
     },
     "execution_count": 54,
     "metadata": {},
     "output_type": "execute_result"
    },
    {
     "data": {
      "image/png": "[encoded data removed]",
      "text/plain": [
       "<Figure size 648x576 with 2 Axes>"
      ]
     },
     "metadata": {
      "image/png": {
       "height": 586,
       "width": 619
      },
      "needs_background": "light"
     },
     "output_type": "display_data"
    }
   ],
   "source": [
    "import seaborn as sns\n",
    "\n",
    "plt.figure(figsize=(9,8))\n",
    "corr = data2.corr()\n",
    "sns.heatmap(data=corr, cmap='Blues', annot=True)"
   ]
  },
  {
   "cell_type": "code",
   "execution_count": null,
   "metadata": {
    "cell_id": "00051-3420765f-9c2f-4bd1-a849-8b6abedc4791",
    "deepnote_cell_type": "code",
    "tags": []
   },
   "outputs": [],
   "source": []
  },
  {
   "cell_type": "markdown",
   "metadata": {
    "created_in_deepnote_cell": true,
    "deepnote_cell_type": "markdown",
    "tags": []
   },
   "source": [
    "<a style='text-decoration:none;line-height:16px;display:flex;color:#5B5B62;padding:10px;justify-content:end;' href='https://deepnote.com?utm_source=created-in-deepnote-cell&projectId=a5ba1956-2aa0-49ed-9952-f1c7a30328f2' target=\"_blank\">\n",
    "<img alt='Created in deepnote.com' style='display:inline;max-height:16px;margin:0px;margin-right:7.5px;' src='data:image/svg+xml;base64,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' > </img>\n",
    "Created in <span style='font-weight:600;margin-left:4px;'>Deepnote</span></a>"
   ]
  }
 ],
 "metadata": {
  "deepnote": {
   "is_reactive": false
  },
  "deepnote_execution_queue": [],
  "deepnote_notebook_id": "165282ea-6d68-4071-875e-6a7ffe25d7a5",
  "language_info": {
   "name": "python"
  },
  "orig_nbformat": 2
 },
 "nbformat": 4,
 "nbformat_minor": 2
}
